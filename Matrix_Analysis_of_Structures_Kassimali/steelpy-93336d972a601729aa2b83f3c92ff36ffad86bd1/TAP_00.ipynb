{
 "metadata": {
  "language_info": {
   "codemirror_mode": {
    "name": "ipython",
    "version": 3
   },
   "file_extension": ".py",
   "mimetype": "text/x-python",
   "name": "python",
   "nbconvert_exporter": "python",
   "pygments_lexer": "ipython3",
   "version": "3.9.2"
  },
  "orig_nbformat": 2,
  "kernelspec": {
   "name": "python392jvsc74a57bd0ebf3bc71a7769aac92711e55a38cba82ab3aef3d2fb340b74d76782296de1343",
   "display_name": "Python 3.9.2 64-bit ('PythonSoftwareFoundation.Python.3.9_qbz5n2kfra8p0')"
  },
  "metadata": {
   "interpreter": {
    "hash": "ebf3bc71a7769aac92711e55a38cba82ab3aef3d2fb340b74d76782296de1343"
   }
  }
 },
 "nbformat": 4,
 "nbformat_minor": 2,
 "cells": [
  {
   "cell_type": "code",
   "execution_count": 1,
   "metadata": {},
   "outputs": [
    {
     "output_type": "error",
     "ename": "ModuleNotFoundError",
     "evalue": "No module named 'steelpy.f2uModel.results.sqlite'",
     "traceback": [
      "\u001b[1;31m---------------------------------------------------------------------------\u001b[0m",
      "\u001b[1;31mModuleNotFoundError\u001b[0m                       Traceback (most recent call last)",
      "\u001b[1;32m<ipython-input-1-99a196bca39c>\u001b[0m in \u001b[0;36m<module>\u001b[1;34m\u001b[0m\n\u001b[1;32m----> 1\u001b[1;33m \u001b[1;32mfrom\u001b[0m \u001b[0msteelpy\u001b[0m\u001b[1;33m.\u001b[0m\u001b[0mprocess\u001b[0m\u001b[1;33m.\u001b[0m\u001b[0munits\u001b[0m\u001b[1;33m.\u001b[0m\u001b[0mmain\u001b[0m \u001b[1;32mimport\u001b[0m \u001b[0mUnits\u001b[0m\u001b[1;33m\u001b[0m\u001b[1;33m\u001b[0m\u001b[0m\n\u001b[0m\u001b[0;32m      2\u001b[0m \u001b[0munits\u001b[0m \u001b[1;33m=\u001b[0m \u001b[0mUnits\u001b[0m\u001b[1;33m(\u001b[0m\u001b[1;33m)\u001b[0m\u001b[1;33m\u001b[0m\u001b[1;33m\u001b[0m\u001b[0m\n",
      "\u001b[1;32mc:\\Temp\\python\\steelpy\\steelpy\\steelpy\\__init__.py\u001b[0m in \u001b[0;36m<module>\u001b[1;34m\u001b[0m\n\u001b[0;32m      4\u001b[0m \u001b[1;31m#\u001b[0m\u001b[1;33m\u001b[0m\u001b[1;33m\u001b[0m\u001b[1;33m\u001b[0m\u001b[0m\n\u001b[0;32m      5\u001b[0m \u001b[1;32mfrom\u001b[0m \u001b[0msteelpy\u001b[0m\u001b[1;33m.\u001b[0m\u001b[0mcodes\u001b[0m\u001b[1;33m.\u001b[0m\u001b[0mmain\u001b[0m \u001b[1;32mimport\u001b[0m \u001b[0mCodeCheck\u001b[0m\u001b[1;33m\u001b[0m\u001b[1;33m\u001b[0m\u001b[0m\n\u001b[1;32m----> 6\u001b[1;33m \u001b[1;32mfrom\u001b[0m \u001b[0msteelpy\u001b[0m\u001b[1;33m.\u001b[0m\u001b[0mroarks\u001b[0m\u001b[1;33m.\u001b[0m\u001b[0mmain\u001b[0m \u001b[1;32mimport\u001b[0m \u001b[0mCircularRing\u001b[0m\u001b[1;33m\u001b[0m\u001b[1;33m\u001b[0m\u001b[0m\n\u001b[0m\u001b[0;32m      7\u001b[0m \u001b[1;32mfrom\u001b[0m \u001b[0msteelpy\u001b[0m\u001b[1;33m.\u001b[0m\u001b[0mdesign\u001b[0m\u001b[1;33m.\u001b[0m\u001b[0mmain\u001b[0m \u001b[1;32mimport\u001b[0m \u001b[0mDesign\u001b[0m\u001b[1;33m\u001b[0m\u001b[1;33m\u001b[0m\u001b[0m\n\u001b[0;32m      8\u001b[0m \u001b[1;31m#from steelpy.metocean.main import Metocean\u001b[0m\u001b[1;33m\u001b[0m\u001b[1;33m\u001b[0m\u001b[1;33m\u001b[0m\u001b[0m\n",
      "\u001b[1;32mc:\\Temp\\python\\steelpy\\steelpy\\steelpy\\roarks\\main.py\u001b[0m in \u001b[0;36m<module>\u001b[1;34m\u001b[0m\n\u001b[0;32m      8\u001b[0m \u001b[1;32mimport\u001b[0m \u001b[0msteelpy\u001b[0m\u001b[1;33m.\u001b[0m\u001b[0mroarks\u001b[0m\u001b[1;33m.\u001b[0m\u001b[0mformulas\u001b[0m\u001b[1;33m.\u001b[0m\u001b[0mcircular_ring\u001b[0m \u001b[1;32mas\u001b[0m \u001b[0mring\u001b[0m\u001b[1;33m\u001b[0m\u001b[1;33m\u001b[0m\u001b[0m\n\u001b[0;32m      9\u001b[0m \u001b[1;32mfrom\u001b[0m \u001b[0msteelpy\u001b[0m\u001b[1;33m.\u001b[0m\u001b[0mprocess\u001b[0m\u001b[1;33m.\u001b[0m\u001b[0munits\u001b[0m\u001b[1;33m.\u001b[0m\u001b[0mmain\u001b[0m \u001b[1;32mimport\u001b[0m \u001b[0mUnits\u001b[0m\u001b[1;33m\u001b[0m\u001b[1;33m\u001b[0m\u001b[0m\n\u001b[1;32m---> 10\u001b[1;33m \u001b[1;32mfrom\u001b[0m \u001b[0msteelpy\u001b[0m\u001b[1;33m.\u001b[0m\u001b[0mf2uModel\u001b[0m\u001b[1;33m.\u001b[0m\u001b[0msections\u001b[0m\u001b[1;33m.\u001b[0m\u001b[0mmain\u001b[0m \u001b[1;32mimport\u001b[0m \u001b[0mSections\u001b[0m\u001b[1;33m\u001b[0m\u001b[1;33m\u001b[0m\u001b[0m\n\u001b[0m\u001b[0;32m     11\u001b[0m \u001b[1;31m#from steelpy.sections.tee import Tee\u001b[0m\u001b[1;33m\u001b[0m\u001b[1;33m\u001b[0m\u001b[1;33m\u001b[0m\u001b[0m\n\u001b[0;32m     12\u001b[0m \u001b[1;32mfrom\u001b[0m \u001b[0msteelpy\u001b[0m\u001b[1;33m.\u001b[0m\u001b[0mf2uModel\u001b[0m\u001b[1;33m.\u001b[0m\u001b[0msections\u001b[0m\u001b[1;33m.\u001b[0m\u001b[0mshapes\u001b[0m\u001b[1;33m.\u001b[0m\u001b[0msolid\u001b[0m \u001b[1;32mimport\u001b[0m \u001b[0mRectangle\u001b[0m\u001b[1;33m\u001b[0m\u001b[1;33m\u001b[0m\u001b[0m\n",
      "\u001b[1;32mc:\\Temp\\python\\steelpy\\steelpy\\steelpy\\f2uModel\\sections\\main.py\u001b[0m in \u001b[0;36m<module>\u001b[1;34m\u001b[0m\n\u001b[0;32m     10\u001b[0m \u001b[1;33m\u001b[0m\u001b[0m\n\u001b[0;32m     11\u001b[0m \u001b[1;31m# package imports\u001b[0m\u001b[1;33m\u001b[0m\u001b[1;33m\u001b[0m\u001b[1;33m\u001b[0m\u001b[0m\n\u001b[1;32m---> 12\u001b[1;33m \u001b[1;32mfrom\u001b[0m \u001b[0msteelpy\u001b[0m\u001b[1;33m.\u001b[0m\u001b[0mf2uModel\u001b[0m\u001b[1;33m.\u001b[0m\u001b[0msections\u001b[0m\u001b[1;33m.\u001b[0m\u001b[0mshapes\u001b[0m\u001b[1;33m.\u001b[0m\u001b[0mtubular\u001b[0m \u001b[1;32mimport\u001b[0m \u001b[0mTubularInmemory\u001b[0m\u001b[1;33m,\u001b[0m \u001b[0mTubularSQLite\u001b[0m\u001b[1;33m\u001b[0m\u001b[1;33m\u001b[0m\u001b[0m\n\u001b[0m\u001b[0;32m     13\u001b[0m \u001b[1;32mfrom\u001b[0m \u001b[0msteelpy\u001b[0m\u001b[1;33m.\u001b[0m\u001b[0mf2uModel\u001b[0m\u001b[1;33m.\u001b[0m\u001b[0msections\u001b[0m\u001b[1;33m.\u001b[0m\u001b[0mshapes\u001b[0m\u001b[1;33m.\u001b[0m\u001b[0mtee\u001b[0m \u001b[1;32mimport\u001b[0m \u001b[0mTee\u001b[0m\u001b[1;33m\u001b[0m\u001b[1;33m\u001b[0m\u001b[0m\n\u001b[0;32m     14\u001b[0m \u001b[1;32mfrom\u001b[0m \u001b[0msteelpy\u001b[0m\u001b[1;33m.\u001b[0m\u001b[0mf2uModel\u001b[0m\u001b[1;33m.\u001b[0m\u001b[0msections\u001b[0m\u001b[1;33m.\u001b[0m\u001b[0mshapes\u001b[0m\u001b[1;33m.\u001b[0m\u001b[0mibeam\u001b[0m \u001b[1;32mimport\u001b[0m \u001b[0mIbeam\u001b[0m\u001b[1;33m\u001b[0m\u001b[1;33m\u001b[0m\u001b[0m\n",
      "\u001b[1;32mc:\\Temp\\python\\steelpy\\steelpy\\steelpy\\f2uModel\\sections\\shapes\\tubular.py\u001b[0m in \u001b[0;36m<module>\u001b[1;34m\u001b[0m\n\u001b[0;32m     14\u001b[0m \u001b[1;32mfrom\u001b[0m \u001b[0msteelpy\u001b[0m\u001b[1;33m.\u001b[0m\u001b[0mf2uModel\u001b[0m\u001b[1;33m.\u001b[0m\u001b[0msections\u001b[0m\u001b[1;33m.\u001b[0m\u001b[0mprocess\u001b[0m\u001b[1;33m.\u001b[0m\u001b[0mio_sections\u001b[0m \u001b[1;32mimport\u001b[0m \u001b[0mSectionProperty\u001b[0m\u001b[1;33m,\u001b[0m \u001b[0mPropertyOut\u001b[0m\u001b[1;33m,\u001b[0m \u001b[0mget_sect_properties\u001b[0m\u001b[1;33m\u001b[0m\u001b[1;33m\u001b[0m\u001b[0m\n\u001b[0;32m     15\u001b[0m \u001b[1;32mimport\u001b[0m \u001b[0msteelpy\u001b[0m\u001b[1;33m.\u001b[0m\u001b[0mf2uModel\u001b[0m\u001b[1;33m.\u001b[0m\u001b[0msections\u001b[0m\u001b[1;33m.\u001b[0m\u001b[0mprocess\u001b[0m\u001b[1;33m.\u001b[0m\u001b[0mprint_report\u001b[0m \u001b[1;32mas\u001b[0m \u001b[0mprint_report\u001b[0m\u001b[1;33m\u001b[0m\u001b[1;33m\u001b[0m\u001b[0m\n\u001b[1;32m---> 16\u001b[1;33m \u001b[1;32mfrom\u001b[0m \u001b[0msteelpy\u001b[0m\u001b[1;33m.\u001b[0m\u001b[0mf2uModel\u001b[0m\u001b[1;33m.\u001b[0m\u001b[0msections\u001b[0m\u001b[1;33m.\u001b[0m\u001b[0mshapes\u001b[0m\u001b[1;33m.\u001b[0m\u001b[0msqlite\u001b[0m\u001b[1;33m.\u001b[0m\u001b[0mmain\u001b[0m \u001b[1;32mimport\u001b[0m \u001b[0mSectionSQLite\u001b[0m\u001b[1;33m\u001b[0m\u001b[1;33m\u001b[0m\u001b[0m\n\u001b[0m\u001b[0;32m     17\u001b[0m \u001b[1;31m#\u001b[0m\u001b[1;33m\u001b[0m\u001b[1;33m\u001b[0m\u001b[1;33m\u001b[0m\u001b[0m\n\u001b[0;32m     18\u001b[0m \u001b[1;31m#\u001b[0m\u001b[1;33m\u001b[0m\u001b[1;33m\u001b[0m\u001b[1;33m\u001b[0m\u001b[0m\n",
      "\u001b[1;32mc:\\Temp\\python\\steelpy\\steelpy\\steelpy\\f2uModel\\sections\\shapes\\sqlite\\main.py\u001b[0m in \u001b[0;36m<module>\u001b[1;34m\u001b[0m\n\u001b[0;32m     10\u001b[0m \u001b[1;33m\u001b[0m\u001b[0m\n\u001b[0;32m     11\u001b[0m \u001b[1;31m# package imports\u001b[0m\u001b[1;33m\u001b[0m\u001b[1;33m\u001b[0m\u001b[1;33m\u001b[0m\u001b[0m\n\u001b[1;32m---> 12\u001b[1;33m \u001b[1;32mfrom\u001b[0m \u001b[0msteelpy\u001b[0m\u001b[1;33m.\u001b[0m\u001b[0mf2uModel\u001b[0m\u001b[1;33m.\u001b[0m\u001b[0mresults\u001b[0m\u001b[1;33m.\u001b[0m\u001b[0msqlite\u001b[0m\u001b[1;33m.\u001b[0m\u001b[0moperation\u001b[0m\u001b[1;33m.\u001b[0m\u001b[0mprocess_sql\u001b[0m \u001b[1;32mimport\u001b[0m \u001b[0mcreate_connection\u001b[0m\u001b[1;33m,\u001b[0m \u001b[0mcreate_table\u001b[0m\u001b[1;33m\u001b[0m\u001b[1;33m\u001b[0m\u001b[0m\n\u001b[0m\u001b[0;32m     13\u001b[0m \u001b[1;33m\u001b[0m\u001b[0m\n\u001b[0;32m     14\u001b[0m \u001b[1;33m\u001b[0m\u001b[0m\n",
      "\u001b[1;31mModuleNotFoundError\u001b[0m: No module named 'steelpy.f2uModel.results.sqlite'"
     ]
    }
   ],
   "source": [
    "from steelpy.process.units.main import Units\n",
    "units = Units()"
   ]
  },
  {
   "source": [
    "# TLP Frequency-Domain Global Performance Analysis\n",
    "## Analysis Method\n",
    "This section describes overview of the frequency domain uncoupled global performance analysis method.\n",
    "\n",
    "## Offset\n",
    "Mean offset is calculated from a sum of mean environmental forces. \n",
    "Mean environmental forces consist of mean wind force, mean wave drift force, mean current force, mean viscous drift force and horizontal component of FLR tensions.\n",
    "Low frequency (LF) offset accounts for slowly varying wind force and slowly varying (second order) wave drift force. Wave frequency (WF) offset is due to wave induced\n",
    "surge motion on the TLP. "
   ],
   "cell_type": "markdown",
   "metadata": {}
  },
  {
   "cell_type": "code",
   "execution_count": 1,
   "metadata": {},
   "outputs": [],
   "source": [
    "def tendon_tension(F, CoG, hull, d):\n",
    "    \"\"\" \n",
    "    F: forces\n",
    "    CoG : force CoG\n",
    "    hull : dimensions\n",
    "    d : water depth\n",
    "    \"\"\"\n",
    "    Fx, Fy, Fz = F\n",
    "    Lx, Ly, Lz = hull \n",
    "    Lx1, Ly1, Lz1 = CoG\n",
    "    Lx *= 0.5\n",
    "    Ly *= 0.5\n",
    "    Lx1 += Lx\n",
    "    Ly1 += Ly\n",
    "    Lx2, Ly2, Lz2 = CoG\n",
    "    Lx2 -= Lx\n",
    "    Ly2 -= Ly\n",
    "    #\n",
    "    m = Fz * 0\n",
    "    #\n",
    "    R1 = ((Fx*Ly2 - Fy*Lx2)*d + (Fz+m)*(Lx2*Ly1))/(Lx*Ly)\n",
    "    R2 = ((Fx*Ly1 - Fy*Lx2)*d + (Fz+m)*(Lx2*Ly2))/(Lx*Ly)\n",
    "    R3 = ((-Fx*Ly2 - Fy*Lx1)*d + (Fz+m)*(Lx1*Ly1))/(Lx*Ly)\n",
    "    R4 = ((-Fx*Ly1 - Fy*Lx1)*d + (Fz+m)*(Lx1*Ly2))/(Lx*Ly)\n",
    "    return [R1, R2, R3, R4]"
   ]
  },
  {
   "cell_type": "code",
   "execution_count": 2,
   "metadata": {},
   "outputs": [
    {
     "output_type": "error",
     "ename": "NameError",
     "evalue": "name 'units' is not defined",
     "traceback": [
      "\u001b[1;31m---------------------------------------------------------------------------\u001b[0m",
      "\u001b[1;31mNameError\u001b[0m                                 Traceback (most recent call last)",
      "\u001b[1;32m<ipython-input-2-d35dcdd0ad28>\u001b[0m in \u001b[0;36m<module>\u001b[1;34m\u001b[0m\n\u001b[0;32m      1\u001b[0m \u001b[1;31m# Tendon and Riser Properties\u001b[0m\u001b[1;33m\u001b[0m\u001b[1;33m\u001b[0m\u001b[1;33m\u001b[0m\u001b[0m\n\u001b[0;32m      2\u001b[0m \u001b[0mT_number\u001b[0m \u001b[1;33m=\u001b[0m \u001b[1;36m8\u001b[0m\u001b[1;33m\u001b[0m\u001b[1;33m\u001b[0m\u001b[0m\n\u001b[1;32m----> 3\u001b[1;33m \u001b[0mT_length\u001b[0m \u001b[1;33m=\u001b[0m \u001b[1;36m1575\u001b[0m \u001b[1;33m*\u001b[0m \u001b[0munits\u001b[0m\u001b[1;33m.\u001b[0m\u001b[0mft\u001b[0m\u001b[1;33m\u001b[0m\u001b[1;33m\u001b[0m\u001b[0m\n\u001b[0m\u001b[0;32m      4\u001b[0m \u001b[0mT_diam\u001b[0m \u001b[1;33m=\u001b[0m \u001b[1;36m24\u001b[0m \u001b[1;33m*\u001b[0m \u001b[0munits\u001b[0m\u001b[1;33m.\u001b[0m\u001b[0minches\u001b[0m\u001b[1;33m\u001b[0m\u001b[1;33m\u001b[0m\u001b[0m\n\u001b[0;32m      5\u001b[0m \u001b[0mT_dry_weight\u001b[0m \u001b[1;33m=\u001b[0m \u001b[1;36m387\u001b[0m \u001b[1;33m*\u001b[0m \u001b[0munits\u001b[0m\u001b[1;33m.\u001b[0m\u001b[0mkips\u001b[0m\u001b[1;33m\u001b[0m\u001b[1;33m\u001b[0m\u001b[0m\n",
      "\u001b[1;31mNameError\u001b[0m: name 'units' is not defined"
     ]
    }
   ],
   "source": [
    "# Tendon and Riser Properties \n",
    "T_number = 8\n",
    "T_length = 1575 * units.ft\n",
    "T_diam = 24 * units.inches\n",
    "T_dry_weight = 387 * units.kips\n",
    "T_wet_weight = 21.60 * units.kips\n",
    "T_k = 1_061.0 * units.kips/units.ft\n",
    "#--------\n",
    "T_preten_uw = 650.0 * units.kips\n",
    "T_preten_dw = 650.0 * units.kips\n",
    "T_preten_mean = 650.0 * units.kips\n",
    "#T_sigma = "
   ]
  },
  {
   "cell_type": "code",
   "execution_count": 60,
   "metadata": {},
   "outputs": [],
   "source": [
    "# Hull [length, breadth, depth]\n",
    "Hull_dim = [251 * units.ft, 251 * units.ft, 74.5 * units.ft]\n",
    "Topside_dim = [127 * units.ft, 117 * units.ft, 27 * units.ft]"
   ]
  },
  {
   "cell_type": "code",
   "execution_count": 61,
   "metadata": {},
   "outputs": [
    {
     "output_type": "stream",
     "name": "stdout",
     "text": [
      "Tendon tension total = 5200.0\n"
     ]
    }
   ],
   "source": [
    "# Input Summary for Intact operaring w/o Rig, w/o riser (125 page)\n",
    "water_depth = 1640 * units.ft \n",
    "# ---------\n",
    "TLP_draft = 59.3 * units.ft \n",
    "TLP_disp = 24_273.3 * units.kips\n",
    "# CoG = [x, y, z]\n",
    "TLP_weight_wballast = 19_073.3 * units.kips\n",
    "TLP_CoG_wballast = [0* units.ft, 0* units.ft, 47.53* units.ft]\n",
    "# Radius of Giration = [rx, ry, rz]\n",
    "TLP_R = [67.90 * units.ft, 68.34 * units.ft, 80.12 * units.ft]\n",
    "#\n",
    "T_tension = T_preten_mean * 8\n",
    "T_tension_CoG = [0* units.ft, 0* units.ft, 5* units.ft]\n",
    "print(f\"Tendon tension total = {T_tension.convert('kilolbf').value}\")"
   ]
  },
  {
   "source": [],
   "cell_type": "markdown",
   "metadata": {}
  },
  {
   "cell_type": "code",
   "execution_count": 62,
   "metadata": {},
   "outputs": [
    {
     "output_type": "stream",
     "name": "stdout",
     "text": [
      "TLP equilibrium = 5200.0\n"
     ]
    },
    {
     "output_type": "error",
     "ename": "RuntimeError",
     "evalue": "Incompatible Dimensions",
     "traceback": [
      "\u001b[1;31m---------------------------------------------------------------------------\u001b[0m",
      "\u001b[1;31mRuntimeError\u001b[0m                              Traceback (most recent call last)",
      "\u001b[1;32m<ipython-input-62-e1743b408b1c>\u001b[0m in \u001b[0;36m<module>\u001b[1;34m\u001b[0m\n\u001b[0;32m      4\u001b[0m \u001b[0mF\u001b[0m \u001b[1;33m=\u001b[0m \u001b[1;33m[\u001b[0m\u001b[1;36m0\u001b[0m\u001b[1;33m,\u001b[0m \u001b[1;36m0\u001b[0m\u001b[1;33m,\u001b[0m \u001b[0mTLP_eq\u001b[0m\u001b[1;33m]\u001b[0m\u001b[1;33m\u001b[0m\u001b[1;33m\u001b[0m\u001b[0m\n\u001b[0;32m      5\u001b[0m \u001b[0mCoG\u001b[0m \u001b[1;33m=\u001b[0m \u001b[0mTLP_CoG_wballast\u001b[0m\u001b[1;33m\u001b[0m\u001b[1;33m\u001b[0m\u001b[0m\n\u001b[1;32m----> 6\u001b[1;33m \u001b[0mT_eq\u001b[0m \u001b[1;33m=\u001b[0m \u001b[0mtendon_tension\u001b[0m\u001b[1;33m(\u001b[0m\u001b[0mF\u001b[0m\u001b[1;33m,\u001b[0m \u001b[0mCoG\u001b[0m\u001b[1;33m,\u001b[0m \u001b[0mHull_dim\u001b[0m\u001b[1;33m,\u001b[0m \u001b[0mwater_depth\u001b[0m\u001b[1;33m)\u001b[0m\u001b[1;33m\u001b[0m\u001b[1;33m\u001b[0m\u001b[0m\n\u001b[0m",
      "\u001b[1;32m<ipython-input-58-666566c1f0f6>\u001b[0m in \u001b[0;36mtendon_tension\u001b[1;34m(F, CoG, hull, d)\u001b[0m\n\u001b[0;32m     19\u001b[0m     \u001b[0mm\u001b[0m \u001b[1;33m=\u001b[0m \u001b[0mFz\u001b[0m \u001b[1;33m*\u001b[0m \u001b[1;36m0\u001b[0m\u001b[1;33m\u001b[0m\u001b[1;33m\u001b[0m\u001b[0m\n\u001b[0;32m     20\u001b[0m     \u001b[1;31m#\u001b[0m\u001b[1;33m\u001b[0m\u001b[1;33m\u001b[0m\u001b[1;33m\u001b[0m\u001b[0m\n\u001b[1;32m---> 21\u001b[1;33m     \u001b[0mR1\u001b[0m \u001b[1;33m=\u001b[0m \u001b[1;33m(\u001b[0m\u001b[1;33m(\u001b[0m\u001b[0mFx\u001b[0m\u001b[1;33m*\u001b[0m\u001b[0mLy2\u001b[0m \u001b[1;33m-\u001b[0m \u001b[0mFy\u001b[0m\u001b[1;33m*\u001b[0m\u001b[0mLx2\u001b[0m\u001b[1;33m)\u001b[0m\u001b[1;33m*\u001b[0m\u001b[0md\u001b[0m \u001b[1;33m+\u001b[0m \u001b[1;33m(\u001b[0m\u001b[0mFz\u001b[0m\u001b[1;33m+\u001b[0m\u001b[0mm\u001b[0m\u001b[1;33m)\u001b[0m\u001b[1;33m*\u001b[0m\u001b[1;33m(\u001b[0m\u001b[0mLx2\u001b[0m\u001b[1;33m*\u001b[0m\u001b[0mLy1\u001b[0m\u001b[1;33m)\u001b[0m\u001b[1;33m)\u001b[0m\u001b[1;33m/\u001b[0m\u001b[1;33m(\u001b[0m\u001b[0mLx\u001b[0m\u001b[1;33m*\u001b[0m\u001b[0mLy\u001b[0m\u001b[1;33m)\u001b[0m\u001b[1;33m\u001b[0m\u001b[1;33m\u001b[0m\u001b[0m\n\u001b[0m\u001b[0;32m     22\u001b[0m     \u001b[0mR2\u001b[0m \u001b[1;33m=\u001b[0m \u001b[1;33m(\u001b[0m\u001b[1;33m(\u001b[0m\u001b[0mFx\u001b[0m\u001b[1;33m*\u001b[0m\u001b[0mLy1\u001b[0m \u001b[1;33m-\u001b[0m \u001b[0mFy\u001b[0m\u001b[1;33m*\u001b[0m\u001b[0mLx2\u001b[0m\u001b[1;33m)\u001b[0m\u001b[1;33m*\u001b[0m\u001b[0md\u001b[0m \u001b[1;33m+\u001b[0m \u001b[1;33m(\u001b[0m\u001b[0mFz\u001b[0m\u001b[1;33m+\u001b[0m\u001b[0mm\u001b[0m\u001b[1;33m)\u001b[0m\u001b[1;33m*\u001b[0m\u001b[1;33m(\u001b[0m\u001b[0mLx2\u001b[0m\u001b[1;33m*\u001b[0m\u001b[0mLy2\u001b[0m\u001b[1;33m)\u001b[0m\u001b[1;33m)\u001b[0m\u001b[1;33m/\u001b[0m\u001b[1;33m(\u001b[0m\u001b[0mLx\u001b[0m\u001b[1;33m*\u001b[0m\u001b[0mLy\u001b[0m\u001b[1;33m)\u001b[0m\u001b[1;33m\u001b[0m\u001b[1;33m\u001b[0m\u001b[0m\n\u001b[0;32m     23\u001b[0m     \u001b[0mR3\u001b[0m \u001b[1;33m=\u001b[0m \u001b[1;33m(\u001b[0m\u001b[1;33m(\u001b[0m\u001b[1;33m-\u001b[0m\u001b[0mFx\u001b[0m\u001b[1;33m*\u001b[0m\u001b[0mLy2\u001b[0m \u001b[1;33m-\u001b[0m \u001b[0mFy\u001b[0m\u001b[1;33m*\u001b[0m\u001b[0mLx1\u001b[0m\u001b[1;33m)\u001b[0m\u001b[1;33m*\u001b[0m\u001b[0md\u001b[0m \u001b[1;33m+\u001b[0m \u001b[1;33m(\u001b[0m\u001b[0mFz\u001b[0m\u001b[1;33m+\u001b[0m\u001b[0mm\u001b[0m\u001b[1;33m)\u001b[0m\u001b[1;33m*\u001b[0m\u001b[1;33m(\u001b[0m\u001b[0mLx1\u001b[0m\u001b[1;33m*\u001b[0m\u001b[0mLy1\u001b[0m\u001b[1;33m)\u001b[0m\u001b[1;33m)\u001b[0m\u001b[1;33m/\u001b[0m\u001b[1;33m(\u001b[0m\u001b[0mLx\u001b[0m\u001b[1;33m*\u001b[0m\u001b[0mLy\u001b[0m\u001b[1;33m)\u001b[0m\u001b[1;33m\u001b[0m\u001b[1;33m\u001b[0m\u001b[0m\n",
      "\u001b[1;32mc:\\Temp\\python\\steelpy\\steelpy\\steelpy\\process\\units\\buckingham.py\u001b[0m in \u001b[0;36m__add__\u001b[1;34m(self, other)\u001b[0m\n\u001b[0;32m    400\u001b[0m             \u001b[0mother\u001b[0m\u001b[1;33m=\u001b[0m\u001b[0mNumber\u001b[0m\u001b[1;33m(\u001b[0m\u001b[0mother\u001b[0m\u001b[1;33m,\u001b[0m\u001b[1;36m0\u001b[0m\u001b[1;33m,\u001b[0m\u001b[0mself\u001b[0m\u001b[1;33m.\u001b[0m\u001b[0mdims\u001b[0m\u001b[1;33m)\u001b[0m\u001b[1;33m\u001b[0m\u001b[1;33m\u001b[0m\u001b[0m\n\u001b[0;32m    401\u001b[0m         \u001b[1;32melif\u001b[0m \u001b[0mself\u001b[0m\u001b[1;33m.\u001b[0m\u001b[0mdims\u001b[0m \u001b[1;33m!=\u001b[0m \u001b[0mother\u001b[0m\u001b[1;33m.\u001b[0m\u001b[0mdims\u001b[0m\u001b[1;33m:\u001b[0m\u001b[1;33m\u001b[0m\u001b[1;33m\u001b[0m\u001b[0m\n\u001b[1;32m--> 402\u001b[1;33m             \u001b[1;32mraise\u001b[0m \u001b[0mRuntimeError\u001b[0m\u001b[1;33m(\u001b[0m\u001b[1;34m\"Incompatible Dimensions\"\u001b[0m\u001b[1;33m)\u001b[0m\u001b[1;33m\u001b[0m\u001b[1;33m\u001b[0m\u001b[0m\n\u001b[0m\u001b[0;32m    403\u001b[0m \u001b[1;33m\u001b[0m\u001b[0m\n\u001b[0;32m    404\u001b[0m         \u001b[0ma\u001b[0m\u001b[1;33m,\u001b[0m \u001b[0mda\u001b[0m \u001b[1;33m=\u001b[0m \u001b[0mself\u001b[0m\u001b[1;33m.\u001b[0m\u001b[0mvalue\u001b[0m\u001b[1;33m,\u001b[0m\u001b[0mself\u001b[0m\u001b[1;33m.\u001b[0m\u001b[0merror\u001b[0m\u001b[1;33m\u001b[0m\u001b[1;33m\u001b[0m\u001b[0m\n",
      "\u001b[1;31mRuntimeError\u001b[0m: Incompatible Dimensions"
     ]
    }
   ],
   "source": [
    "TLP_eq = TLP_disp - TLP_weight_wballast #- T_tension\n",
    "print(f\"TLP equilibrium = {TLP_eq.convert('kilolbf').value}\")\n",
    "#\n",
    "F = [0*TLP_eq, 0*TLP_eq, TLP_eq]\n",
    "CoG = TLP_CoG_wballast\n",
    "T_eq = tendon_tension(F, CoG, Hull_dim, water_depth)"
   ]
  },
  {
   "cell_type": "code",
   "execution_count": null,
   "metadata": {},
   "outputs": [],
   "source": []
  }
 ]
}