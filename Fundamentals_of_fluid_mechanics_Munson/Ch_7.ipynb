{
 "metadata": {
  "name": "",
  "signature": "sha256:930132386650bb03420c39344d27ebf4402487f843f63909342366713e69c9e9"
 },
 "nbformat": 3,
 "nbformat_minor": 0,
 "worksheets": [
  {
   "cells": [
    {
     "cell_type": "heading",
     "level": 1,
     "metadata": {},
     "source": [
      "Chapter 7 :Similitude ,Dimensional Analysis and Modelling"
     ]
    },
    {
     "cell_type": "heading",
     "level": 3,
     "metadata": {},
     "source": [
      "Example 7.5 Page no.372"
     ]
    },
    {
     "cell_type": "code",
     "collapsed": false,
     "input": [
      "\n",
      "D=0.1                            #m\n",
      "H=0.3                            #m\n",
      "v=50.0                           #km/hr\n",
      "Dm=20.0                          #mm\n",
      "T=20.0                           #degree C\n",
      "fm=49.9                          #Hz  frequency for the model\n",
      "#f=func(D,H,V,d,vis)\n",
      "#f=T**(-1) D=l H=L V=L*(T**(-1)) d=M*(L**(-3)) vis=M*(L**(-1))*(T**(-1))\n",
      "#by applying pi theorem,\n",
      "#(f*D/V)=funct((D/H),(d*V*D/vis))\n",
      "#hence Dm/Hm = D/H, dm*Vm*Dm/vism = d*V*D/vis, and (f*D/V)=(fm*Dm/Vm)\n",
      "\n",
      "#calculation\n",
      "Hm=(Dm*H*1000/(D*1000))   #mm\n",
      "V=v*1000/3600             #m/s\n",
      "vism=0.001                #kg/(m*s)\n",
      "vis=1.79*10**-5           #kg/(m*s)\n",
      "d=1.23                        #kg/(m**3)\n",
      "dm=998                        #kg/(m**3)\n",
      "Vm=(vism*d*D*V*1000)/(vis*dm*Dm)        #m/s\n",
      "f=(V/Vm)*(Dm/(D*1000))*fm               #Hz\n",
      "\n",
      "#result\n",
      "print \"The model dimension =\",round(Hm,3),\"mm\"\n",
      "print \"The velocity at which the test should be performed=\",round(Vm,2),\"m/s\"\n",
      "print \"The predicted prototype vortex shredding frequency =\",round(f,1),\"Hz\"\n"
     ],
     "language": "python",
     "metadata": {},
     "outputs": [
      {
       "output_type": "stream",
       "stream": "stdout",
       "text": [
        "The model dimension = 60.0 mm\n",
        "The velocity at which the test should be performed= 4.781 m/s\n",
        "The predicted prototype vortex shredding frequency = 29.0 Hz\n"
       ]
      }
     ],
     "prompt_number": 1
    },
    {
     "cell_type": "heading",
     "level": 3,
     "metadata": {},
     "source": [
      "Example 7.6 Page no.377"
     ]
    },
    {
     "cell_type": "code",
     "collapsed": false,
     "input": [
      "%matplotlib inline"
     ],
     "language": "python",
     "metadata": {},
     "outputs": [
      {
       "output_type": "stream",
       "stream": "stdout",
       "text": [
        "\n",
        "Welcome to pylab, a matplotlib-based Python environment [backend: module://IPython.zmq.pylab.backend_inline].\n",
        "For more information, type 'help(pylab)'.\n"
       ]
      }
     ],
     "prompt_number": 1
    },
    {
     "cell_type": "code",
     "collapsed": false,
     "input": [
      "\n",
      "D=2.0                              #ft\n",
      "Q=30.0                           #cfs\n",
      "Dm=3.0                          #in\n",
      "#Rem=Re hence (Vm*Dm/kvism)=(V*D/kvis) where kvis is kinematic viscosity\n",
      "#kvis=kvism same fluid is used for model and prototype\n",
      "#(Vm/V)=(D/Dm)\n",
      "#Q=VA hence Qm/Q = (Vm*Am)/(V*A)=(Dm/D)\n",
      "\n",
      "#  calculation\n",
      "Qm=(Dm/12)*Q/D          #cfs\n",
      "\n",
      "#result\n",
      "print \"The required flowrate in the model=\",Qm,\"cfs\"\n",
      "\n",
      "#Plot\n",
      "import matplotlib.pyplot as plt\n",
      "fig = plt.figure()\n",
      "ax = fig.add_subplot(111)\n",
      "ax.plot([0.125], [8], 'o')\n",
      "ax.annotate('(0.125,8)', xy=(0.125,8.5))\n",
      "\n",
      "T=[0.04,0.125,0.2,0.6,1]\n",
      "K=[25,8,5,2,1]\n",
      "xlabel(\"Dm/D\") \n",
      "ylabel(\"Vm/V\") \n",
      "plt.xlim((0,1))\n",
      "plt.ylim((0,25))\n",
      "a=plot(T,K)\n",
      "show(a)\n"
     ],
     "language": "python",
     "metadata": {},
     "outputs": [
      {
       "output_type": "stream",
       "stream": "stdout",
       "text": [
        "The required flowrate in the model= 3.75 cfs\n"
       ]
      },
      {
       "metadata": {},
       "output_type": "display_data",
       "png": "[encoded data removed]"
      }
     ],
     "prompt_number": 1
    },
    {
     "cell_type": "heading",
     "level": 3,
     "metadata": {},
     "source": [
      "Example 7.7 Page no.380"
     ]
    },
    {
     "cell_type": "code",
     "collapsed": false,
     "input": [
      "\n",
      "V=240.0                             #mph\n",
      "ratio=0.1\n",
      "Vair=240.0                          #mph\n",
      "Fm=1.0                               #lb Fm =drag force on model\n",
      "p=14.7                              #psia standard atmospheric pressure\n",
      "#Re=Rem\n",
      "#(d*V*l/vis)=(dm*Vm*lm/vism)\n",
      "#here Vm=V and lm/l=ratio\n",
      "#assumption made is that an increase in pressure does not significantly change viscosity\n",
      "\n",
      "#calculation\n",
      "drat=V/(ratio*Vair)             #where drat=dm/d\n",
      "\n",
      "#for an ideal gas p=d*R*T\n",
      "#T=Tm\n",
      "#hence, pm/p=dm/d pm/p=prat\n",
      "pm=p*drat\n",
      "#F/(0.5*d*(V**2)*(l**2))=Fm/(0.5*dm*(Vm**2)*(lm**2))\n",
      "F=(1/drat)*((V/Vair)**2)*((1/ratio)**2)*Fm\n",
      "\n",
      "#result\n",
      "print \"The required air pressure in the tunnel=\",round(pm,3),\"psia\"\n",
      "print \"The corrosponding drag on the prtotype \\nfor a 1 lb drag on the model=\",round(F,3),\"lb\""
     ],
     "language": "python",
     "metadata": {},
     "outputs": [
      {
       "output_type": "stream",
       "stream": "stdout",
       "text": [
        "The required air pressure in the tunnel= 147.0 psia\n",
        "The corrosponding drag on the prtotype \n",
        "for a 1 lb drag on the model= 10.0 lb\n"
       ]
      }
     ],
     "prompt_number": 2
    },
    {
     "cell_type": "heading",
     "level": 3,
     "metadata": {},
     "source": [
      "Example 7.8 Page no.384"
     ]
    },
    {
     "cell_type": "code",
     "collapsed": false,
     "input": [
      "\n",
      "w=20.0                           #m\n",
      "Q=125.0                        #(m**3)/s\n",
      "ratio=0.066\n",
      "t=24.0                           #hours\n",
      "wm=ratio*w              #m\n",
      "#Vm/(gm*lm)**0.5 = V/(g*l)**0.5\n",
      "#gm=g\n",
      "#Q=VA and lm/l=1/15\n",
      "#hence Qm/Q = ((lm/l)**0.5)*((lm/l)**2) = ratio**2.5\n",
      "Qm=(ratio**2.5)*Q\n",
      "#V=l/t\n",
      "#tm/t=(V/Vm)*(lm/l)=ratio**0.5\n",
      "tm=(ratio**0.5)*t         #hours\n",
      "\n",
      "#result\n",
      "print \"The required model width=\",round(wm,3),\"m\" \n",
      "print \"The required model flowrate=\",round(Qm,3),\"m**3/s\"\n",
      "print \"The operating time for the model=\",round(tm,1),\"hrs\"\n",
      "\n",
      "#plot\n",
      "import matplotlib.pyplot as plt\n",
      "fig = plt.figure()\n",
      "ax = fig.add_subplot(111)\n",
      "\n",
      "T=[0.02,0.07,0.2,0.4,0.5]\n",
      "K=[4,6.20,10,15,17]\n",
      "xlabel(\"lm/l\") \n",
      "ylabel(\"tm  (hr)\") \n",
      "plt.xlim((0,0.5))\n",
      "plt.ylim((0,20))\n",
      "\n",
      "ax.plot([0.07], [6.20], 'o')\n",
      "ax.annotate('(1/15,6.20hr)', xy=(0.1,6))\n",
      "a=plot(T,K)\n",
      "show(a)"
     ],
     "language": "python",
     "metadata": {},
     "outputs": [
      {
       "output_type": "stream",
       "stream": "stdout",
       "text": [
        "The required model width= 1.32 m\n",
        "The required model flowrate= 0.14 m**3/s\n",
        "The operating time for the model= 6.2 hrs\n"
       ]
      },
      {
       "metadata": {},
       "output_type": "display_data",
       "png": "[encoded data removed]"
      }
     ],
     "prompt_number": 3
    }
   ],
   "metadata": {}
  }
 ]
}