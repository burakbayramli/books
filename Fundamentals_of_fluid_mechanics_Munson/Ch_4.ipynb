{
 "metadata": {
  "name": "",
  "signature": "sha256:05d71697cf7aa87db46aad4ab8742d4e783bd3d0a3dd26958cddc18debaf818a"
 },
 "nbformat": 3,
 "nbformat_minor": 0,
 "worksheets": [
  {
   "cells": [
    {
     "cell_type": "heading",
     "level": 1,
     "metadata": {},
     "source": [
      "Chapter 4:fluid kinematics"
     ]
    },
    {
     "cell_type": "heading",
     "level": 3,
     "metadata": {},
     "source": [
      "Example 4.6 Page no.165"
     ]
    },
    {
     "cell_type": "code",
     "collapsed": false,
     "input": [
      "\n",
      "pratet=-8           #dollars/hr\n",
      "pratex=0.2        #dollars/mi\n",
      "\n",
      "u=(-pratet)/pratex\n",
      "\n",
      "#Result\n",
      "print \"The delivery speed=\",round(u,1),\"mi/hr\""
     ],
     "language": "python",
     "metadata": {},
     "outputs": [
      {
       "output_type": "stream",
       "stream": "stdout",
       "text": [
        "The delivery speed= 40.0 mi/hr\n"
       ]
      }
     ],
     "prompt_number": 1
    }
   ],
   "metadata": {}
  }
 ]
}