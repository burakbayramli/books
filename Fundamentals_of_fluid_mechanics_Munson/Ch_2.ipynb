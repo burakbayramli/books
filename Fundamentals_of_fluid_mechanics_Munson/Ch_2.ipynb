{
 "metadata": {
  "name": "",
  "signature": "sha256:0be2e552cff1c39387b1a182161229da6bb9f764cb6f5a785cae5a3f7334b401"
 },
 "nbformat": 3,
 "nbformat_minor": 0,
 "worksheets": [
  {
   "cells": [
    {
     "cell_type": "heading",
     "level": 1,
     "metadata": {},
     "source": [
      "Chapter No.2 :FLUID STATICS"
     ]
    },
    {
     "cell_type": "heading",
     "level": 3,
     "metadata": {},
     "source": [
      "Example 2.1 Page no.44"
     ]
    },
    {
     "cell_type": "code",
     "collapsed": false,
     "input": [
      "\n",
      "sg=0.68                      #specific gravity of gasoline\n",
      "htg=17                       #ft (height of gasoline)\n",
      "htw=3                       #ft (height of water)\n",
      "#pressure p= (gamma*h)+atmp\n",
      "\n",
      "#calculation\n",
      "#pressure at water- gasoline interface p1 =sg*g*htg+atmp\n",
      "p1=sg*62.4*htg         #atmp=0 , p1 is in lb/ft**2\n",
      "pr1=p1/144               #lb/in**2\n",
      "#pressure head as feet of water H\n",
      "H= p1/62.4               #ft\n",
      "#similarly pressure p2 at tank bottom\n",
      "p2=62.4*htw+p1          #lb/ft**2\n",
      "pr2 = p2/144                #lb/in**2\n",
      "#pressure head as ft of water H1\n",
      "H1=p2/62.4                  #ft\n",
      "\n",
      "#Result\n",
      "print \"pressure at interface=\",round(p1,1),\"lb/ft**2\"\n",
      "print \"pressure head at interface in feet of water =\",round(H,1),\"ft\"\n",
      "print \"pressure at bottom=\",round(p2,1),\"lb/ft**2\"\n",
      "print \"pressure head at bottom in feet of water =\",round(H1,1),\"ft\"\n",
      "\n"
     ],
     "language": "python",
     "metadata": {},
     "outputs": [
      {
       "output_type": "stream",
       "stream": "stdout",
       "text": [
        "pressure at interface= 721.3 lb/ft**2\n",
        "pressure head at interface in feet of water = 11.6 ft\n",
        "pressure at bottom= 908.5 lb/ft**2\n",
        "pressure head at bottom in feet of water = 14.6 ft\n"
       ]
      }
     ],
     "prompt_number": 1
    },
    {
     "cell_type": "heading",
     "level": 3,
     "metadata": {},
     "source": [
      "Example 2.2 Page no.46"
     ]
    },
    {
     "cell_type": "code",
     "collapsed": false,
     "input": [
      "%matplotlib inline"
     ],
     "language": "python",
     "metadata": {},
     "outputs": [
      {
       "output_type": "stream",
       "stream": "stdout",
       "text": [
        "\n",
        "Welcome to pylab, a matplotlib-based Python environment [backend: module://IPython.zmq.pylab.backend_inline].\n",
        "For more information, type 'help(pylab)'.\n"
       ]
      }
     ],
     "prompt_number": 1
    },
    {
     "cell_type": "code",
     "collapsed": false,
     "input": [
      "\n",
      "h=1250                     #ft , height\n",
      "T=59                        #degree farenheit, Temprature\n",
      "p=14.7                     #psi (abs), pressure\n",
      "sw=0.0765               #lb/ft**3, (specific weight of air at p)\n",
      "\n",
      "#considering air to be compressible\n",
      "#calculation\n",
      "import math\n",
      "#p1/p2=math. exp(-(g*(z1-z2))/(R*T))\n",
      "ratp=math.exp(-(32.2*h)/(1716*(59+460)))\n",
      "print \"ratio of pressure at the top to that at the base considering air to be compressible=\",round(ratp,3)\n",
      "\n",
      "#considering air to be incompressible\n",
      "#p2=p1-(sw*(z2-z1))\n",
      "ratp1=1-((sw*h)/(p*144))\n",
      "print \"ratio of pressure at the top to that at the base considering air to be incompressible=\",round(ratp1,3)\n",
      "\n",
      "#Plot\n",
      "z=[0,1250,5000]\n",
      "p=[1,0.955,0.82]\n",
      "a=plot(z,p)\n",
      "\n",
      "z1=[0,1250,5000]\n",
      "p1=[1,0.956,0.84]\n",
      "a1=plot(z1,p1)\n",
      "xlabel(\"(Z2-Z1)(ft)\") \n",
      "ylabel(\"(p2-p1)\") \n",
      "show(a)\n",
      "show(a1)"
     ],
     "language": "python",
     "metadata": {},
     "outputs": [
      {
       "output_type": "stream",
       "stream": "stdout",
       "text": [
        "ratio of pressure at the top to that at the base considering air to be compressible= 0.956\n",
        "ratio of pressure at the top to that at the base considering air to be incompressible= 0.955\n"
       ]
      },
      {
       "metadata": {},
       "output_type": "display_data",
       "png": "[encoded data removed]",
       "text": [
        "<matplotlib.figure.Figure at 0x812aa90>"
       ]
      }
     ],
     "prompt_number": 3
    },
    {
     "cell_type": "heading",
     "level": 3,
     "metadata": {},
     "source": [
      "Example 2.3 Page no.49"
     ]
    },
    {
     "cell_type": "code",
     "collapsed": false,
     "input": [
      "\n",
      "#Given \n",
      "T=10                     #degree C, Temprature\n",
      "dmax=40               #m, maximum diameter\n",
      "p=598                   #mm Hg, pressure\n",
      "\n",
      "#Calculate\n",
      "#pressure in lake at any depth h is given by p=gamma*h + local barometric pressure 'pbar'\n",
      "#pbar/(gamma Hg)=598 mm= .598 m  (gamma Hg) = 133kN/m**3\n",
      "pbar=0.598*133         #kN/m**2\n",
      "#(gamma water)=9.804 kN/m**3 at 10 dergree C\n",
      "p=(9.804*40)+pbar    #kN/m**2\n",
      "\n",
      "#Result\n",
      "\n",
      "print \"The absolute pressure at a depth of 40 m in the lake=\",round(p,0),\"kPa(psi)\"\n",
      " "
     ],
     "language": "python",
     "metadata": {},
     "outputs": [
      {
       "output_type": "stream",
       "stream": "stdout",
       "text": [
        "The absolute pressure at a depth of 40 m in the lake= 472.0 kPa(psi)\n"
       ]
      }
     ],
     "prompt_number": 2
    },
    {
     "cell_type": "heading",
     "level": 3,
     "metadata": {},
     "source": [
      "Example 2.4 Page no.52"
     ]
    },
    {
     "cell_type": "code",
     "collapsed": false,
     "input": [
      "\n",
      "sg1=0.90            #specific gravity of oil\n",
      "sg2=13.6            #specific gravity of Hg\n",
      "#height of column at different section\n",
      "h1=36.0                  #inches, \n",
      "h2=6.0                    #inches\n",
      "h3=9.0                    #inches\n",
      "\n",
      "#Calculation\n",
      "#pressure equation: airp+h1*sg1*(gamma water)+h2*sg1*(gamma water)-h3*sg2*(gamma water)=0\n",
      "airp=-(sg1*62.4*((h1/12)+(h2/12)))+(sg2*62.4*(h3/12))              #lb/ft**2\n",
      "#gage pressure = airp\n",
      "pgage=airp/144\n",
      "\n",
      "#Result\n",
      "\n",
      "print \"Gage pressure=\",pgage,\"psi\""
     ],
     "language": "python",
     "metadata": {},
     "outputs": [
      {
       "output_type": "stream",
       "stream": "stdout",
       "text": [
        "Gage pressure= 3.055 psi\n"
       ]
      }
     ],
     "prompt_number": 3
    },
    {
     "cell_type": "heading",
     "level": 3,
     "metadata": {},
     "source": [
      "Example 2.5 Page no.53"
     ]
    },
    {
     "cell_type": "code",
     "collapsed": false,
     "input": [
      "\n",
      "gamma1=9.8                 #kN/m**3, specific wt of gage \n",
      "gamma2=15.6               #kN/m**3\n",
      "h1=1                            #m, height\n",
      "h2=0.5                         #m\n",
      "#pA-(gamma1)*h1-h2*(gamma2)+(gamma1)*(h1+h2)=pB\n",
      "#pA-pB=diffp\n",
      "diffp=((gamma1)*h1+h2*(gamma2)-(gamma1)*(h1+h2))\n",
      "\n",
      "#Result\n",
      "print \"The difference in pressures at A and B =\",diffp,\"kpa\"\n"
     ],
     "language": "python",
     "metadata": {},
     "outputs": [
      {
       "output_type": "stream",
       "stream": "stdout",
       "text": [
        "The difference in pressures at A and B = 2.9 kpa\n"
       ]
      }
     ],
     "prompt_number": 4
    },
    {
     "cell_type": "heading",
     "level": 3,
     "metadata": {},
     "source": [
      "Example 2.6 Page no.61"
     ]
    },
    {
     "cell_type": "code",
     "collapsed": false,
     "input": [
      "\n",
      "dia=4                              #m, diameter\n",
      "sw=9.8                           #kN/m**3 specific weight of water\n",
      "hc=10                            #m, height\n",
      "ang=60                          #degrees, amgle\n",
      "\n",
      "#Calculation\n",
      "import math\n",
      "A=math.pi*(dia**2)/4\n",
      "fres=sw*hc*A\n",
      "#for the coordinate system shown xc=xres=0\n",
      "Ixc=math.pi*((dia/2)**4)/4\n",
      "yc=hc/(math.sin (ang*math.pi/180))\n",
      "yres= (Ixc/(yc*A))+yc\n",
      "ydist=yres-yc\n",
      "\n",
      "#Result\n",
      "print \"The resultant force acting on the gate of the reservoir =\",round(fres*10**-3,2,),\"kN\"\n",
      "print \"The resultant force acts through a point along the diameter of the gate at a distance of \",round(ydist,2),\"m\"\n",
      "y=[2,5,10,30]\n",
      "hc=[0.44,0.18,0.0886,0.04]\n",
      "a1=plot(y,hc)\n",
      "xlabel(\"(hc) m\") \n",
      "ylabel(\"(Yr-Ym) m\") \n",
      "show(a1)\n"
     ],
     "language": "python",
     "metadata": {},
     "outputs": [
      {
       "output_type": "stream",
       "stream": "stdout",
       "text": [
        "The resultant force acting on the gate of the reservoir = 1.23 kN\n",
        "The resultant force acts through a point along the diameter of the gate at a distance of  0.09 m\n"
       ]
      },
      {
       "metadata": {},
       "output_type": "display_data",
       "png": "[encoded data removed]"
      }
     ],
     "prompt_number": 5
    },
    {
     "cell_type": "heading",
     "level": 2,
     "metadata": {},
     "source": [
      "Example 2.7 Page no.62"
     ]
    },
    {
     "cell_type": "code",
     "collapsed": false,
     "input": [
      "\n",
      "sw=64                   #lb/ft**3 specific weight of water\n",
      "h=10                     #ft, depth\n",
      "a=3                       #ft, distance from horizontal axis\n",
      "b=3                      #ft    distance from vertical axis\n",
      "\n",
      "#Calculation\n",
      "#shape is triangular, hence hc=h-(a/3)\n",
      "hc=h-(a/3)\n",
      "A=(0.5*a*b)         #ft**3 area of the right angled triangle\n",
      "fres=sw*hc*A       #lb\n",
      "Ixc=b*(a**3)/36\n",
      "Ixyc=b*(a**2)*(b)/72\n",
      "#according to the coordinate system taken yc=hc and xc=0\n",
      "yres=(Ixc/(hc*A))+hc\n",
      "xres=(Ixyc/(hc*A))\n",
      "ydist=yres-hc\n",
      "\n",
      "#Result\n",
      "print \"The resultant force on the area shown is=\",round(fres,3),\"lb\"\n",
      "print \"yR=\",round(yres,1),\"ft\"\n",
      "print \"xR=\",round(xres,3),\"ft\"\n"
     ],
     "language": "python",
     "metadata": {},
     "outputs": [
      {
       "output_type": "stream",
       "stream": "stdout",
       "text": [
        "The resultant force on the area shown is= 2592.0 lb\n",
        "yR= 9.0 ft\n",
        "xR= 0.025 ft\n"
       ]
      }
     ],
     "prompt_number": 6
    },
    {
     "cell_type": "heading",
     "level": 3,
     "metadata": {},
     "source": [
      "Example 2.8 Page no.66"
     ]
    },
    {
     "cell_type": "code",
     "collapsed": false,
     "input": [
      "\n",
      "sg=0.9                 # specific gravity of oil\n",
      "a=0.6                  #m, length of square\n",
      "pgage=50               #kPa, gage pressure\n",
      "h1=2                   #m; height 1\n",
      "h2=2.6                 #m  height 2\n",
      "\n",
      "#the force on the trapezoid is the sum of the force on the rectangle f1 and force on triangle f2\n",
      "f1=((pgage*1000)+(sg*1000*9.81*h1))*(a**2)    #N\n",
      "f2=sg*1000*9.81*(h2-h1)*(a**2)/2              #N\n",
      "fres=f1+f2                                                          #N\n",
      "#to find vertical location of fres fres*yres=(f1*(a/2))+(f2*(h1-h2))\n",
      "yres=((f1*(a/2))+(f2*(a/3)))/fres                          #m\n",
      "\n",
      "#Result\n",
      "print \"The resultant force on the plate is=\",round((fres/1000),3),\"kN\"\n",
      "print \"The force acts at a distance of \",round(yres,3), \"m \" \"\\n above the bottom plate alond the vertical line of symmetry\""
     ],
     "language": "python",
     "metadata": {},
     "outputs": [
      {
       "output_type": "stream",
       "stream": "stdout",
       "text": [
        "The resultant force on the plate is= 25.31 kN\n",
        "The force acts at a distance of  0.296 m \n",
        " above the bottom plate alond the vertical line of symmetry\n"
       ]
      }
     ],
     "prompt_number": 7
    },
    {
     "cell_type": "heading",
     "level": 3,
     "metadata": {},
     "source": [
      "Example 2.9 Page no.68"
     ]
    },
    {
     "cell_type": "code",
     "collapsed": false,
     "input": [
      "\n",
      "\n",
      "#Given\n",
      "dia=6.0                     #ft, diameter\n",
      "l=1                         #ft, length\n",
      "#horizontal force f1=sw*hc*A\n",
      "hc=dia/4                    #ft\n",
      "sw=62.4                     #lb/ft**3, specific wt\n",
      "A=(dia/2.0)*l               #ft**2, area\n",
      "f1=sw*hc*A                  #lb\n",
      "\n",
      "#Calculation\n",
      "#this force f1 acts at a height of radius/3 ft above the bottom\n",
      "ht=(dia/2)/3          #ft\n",
      "#weight w = sw*volume\n",
      "import math\n",
      "w=sw*((dia/2)**2)*math.pi/4*l    #lb\n",
      "#this force acts through centre of gravity which is 4*radius/(3*%pi) right of the centre of conduit\n",
      "dist=(4*dia/2)/(3*math.pi)                #ft\n",
      "#horizontal force that tank exerts on fluid = f1\n",
      "#vertical force that tank exerts on fluid = w\n",
      "#resultant force fres =((f1)**2+(w)**2)**0.5\n",
      "fres =((f1)**2+(w)**2)**0.5          #lb\n",
      "\n",
      "#Result\n",
      "print \"The resultant force exerted by the tank on the fluid=\",round(fres,1),\"lb\"\n",
      "print \"The force acts at a distance of\",round(dist,3),\"ft\" "
     ],
     "language": "python",
     "metadata": {},
     "outputs": [
      {
       "output_type": "stream",
       "stream": "stdout",
       "text": [
        "The resultant force exerted by the tank on the fluid= 522.9 lb\n",
        "The force acts at a distance of 1.273 ft\n"
       ]
      }
     ],
     "prompt_number": 8
    },
    {
     "cell_type": "heading",
     "level": 3,
     "metadata": {},
     "source": [
      "Example 2.10 Page no.71"
     ]
    },
    {
     "cell_type": "code",
     "collapsed": false,
     "input": [
      "\n",
      "dia=1.5           #m\n",
      "wt=8.5            #kN\n",
      "#tension in cable T=bouyant force(Fb)-wt\n",
      "#fluid is water\n",
      "import math\n",
      "sw=10.1                #kN/m**3\n",
      "\n",
      "#Calculaton\n",
      "vol=math.pi*dia**3/6   #m**3\n",
      "Fb=sw*vol              #kN\n",
      "T=Fb-wt                #kN\n",
      "\n",
      "#Result\n",
      "print \"The tension in the cable =\",round(T,2),\"kN\""
     ],
     "language": "python",
     "metadata": {},
     "outputs": [
      {
       "output_type": "stream",
       "stream": "stdout",
       "text": [
        "The tension in the cable = 9.35 kN\n"
       ]
      }
     ],
     "prompt_number": 9
    },
    {
     "cell_type": "heading",
     "level": 3,
     "metadata": {},
     "source": [
      "Example 2.11 Page no.75"
     ]
    },
    {
     "cell_type": "code",
     "collapsed": false,
     "input": [
      "\n",
      "sg=0.65             #specific gravity of fuel\n",
      "l1=0.75              #ft, horizontal distance\n",
      "l2=0.5               #ft  verticle distance\n",
      "#0.5 ft =z1(max)\n",
      "#0.5=0.75*(ay(max)/g)\n",
      "aymax=(0.5*32.2)/0.75            #ft/s**2\n",
      "\n",
      "#Result\n",
      "print \"The max acceleration that can occur before the fuel level drops \\n below the transducer=\",round(aymax,1),\"ft/s**2\""
     ],
     "language": "python",
     "metadata": {},
     "outputs": [
      {
       "output_type": "stream",
       "stream": "stdout",
       "text": [
        "The max acceleration that can occur before the fuel level drops \n",
        " below the transducer= 21.5 ft/s**2\n"
       ]
      }
     ],
     "prompt_number": 10
    }
   ],
   "metadata": {}
  }
 ]
}