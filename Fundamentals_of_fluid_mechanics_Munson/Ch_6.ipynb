{
 "metadata": {
  "name": "",
  "signature": "sha256:805b87c0e7bc67e50775f14efd1555d6a0dbc6c17cb66c408f5df20cf65eec99"
 },
 "nbformat": 3,
 "nbformat_minor": 0,
 "worksheets": [
  {
   "cells": [
    {
     "cell_type": "heading",
     "level": 1,
     "metadata": {},
     "source": [
      "Chapter 6:Differential analysis of fluid flow"
     ]
    },
    {
     "cell_type": "heading",
     "level": 3,
     "metadata": {},
     "source": [
      "Example 6.4 Page no.296"
     ]
    },
    {
     "cell_type": "code",
     "collapsed": false,
     "input": [
      "\n",
      "p1=30                       #kPa\n",
      "d=1000                    #kg/(m**3)\n",
      "r1=1                        #m\n",
      "r2=0.5                     #m\n",
      "#applying energy equation between points (1) and (2) and using the equation V**2=16*(r**2)\n",
      "V1=(16*(r1**2))**0.5          #m/sec\n",
      "V2=(16*(r2**2))**0.5         #m/sec\n",
      "p2=((p1*1000)+(d*((V1**2)-(V2**2)))/2)/1000#kPa\n",
      "\n",
      "#result\n",
      "print \"The pressure at point (2) =\",round(p2,3),\"kpa\"\n"
     ],
     "language": "python",
     "metadata": {},
     "outputs": [
      {
       "output_type": "stream",
       "stream": "stdout",
       "text": [
        "The pressure at point (2) = 36.0 kpa\n"
       ]
      }
     ],
     "prompt_number": 1
    },
    {
     "cell_type": "heading",
     "level": 3,
     "metadata": {},
     "source": [
      "Example 6.5 Page no.301"
     ]
    },
    {
     "cell_type": "code",
     "collapsed": false,
     "input": [
      "\n",
      "ang2=math.pi/6                      #radians\n",
      "#vp=-2*math.log(r)\n",
      "\n",
      "#calculation\n",
      "#vr=d(vp)/d'r\n",
      "#vr=(-2)/r\n",
      "#vang=(1/r)*(d(vp)/d(ang))\n",
      "import math\n",
      "from scipy import integrate\n",
      "def f1(dtheta):\n",
      "    R=1\n",
      "    return((-2/R)*R)\n",
      "q=integrate.quad(f1,0.0,(3.14/6))\n",
      "\n",
      "#result\n",
      "print \"Volume rate of flow (per unit length) into the opening = \",round(q[0],2),\"ft**2/s\"\n"
     ],
     "language": "python",
     "metadata": {},
     "outputs": [
      {
       "output_type": "stream",
       "stream": "stdout",
       "text": [
        "Volume rate of flow (per unit length) into the opening =  -1.05 ft**2/s\n"
       ]
      }
     ],
     "prompt_number": 14
    },
    {
     "cell_type": "heading",
     "level": 3,
     "metadata": {},
     "source": [
      "Example 6.7 Page no.310"
     ]
    },
    {
     "cell_type": "code",
     "collapsed": false,
     "input": [
      "%matplotlib inline"
     ],
     "language": "python",
     "metadata": {},
     "outputs": [
      {
       "output_type": "stream",
       "stream": "stdout",
       "text": [
        "\n",
        "Welcome to pylab, a matplotlib-based Python environment [backend: module://IPython.zmq.pylab.backend_inline].\n",
        "For more information, type 'help(pylab)'.\n"
       ]
      }
     ],
     "prompt_number": 1
    },
    {
     "cell_type": "code",
     "collapsed": false,
     "input": [
      "\n",
      "h=200                                 #ft\n",
      "U=40                                  #mi/hr\n",
      "d=0.00238                          #slugs/ft**3\n",
      "\n",
      "#calculation\n",
      "import math\n",
      "#V**2= (U**2)*(1 + (2*b*math.cos(ang)/r) + ((b**2)/(r**2)))\n",
      "#at point 2, ang=math.pi/2\n",
      "#r=b*(math.pi-ang)/math.sin(ang)=(math.pi*b/2)\n",
      "V=U*(1+(4/(math.pi**2)))**0.5      #mi/hr\n",
      "y2=h/2                                           #ft\n",
      "#bernoulli equation\n",
      "#p1-p2= d*((V2**2)-(V1**2)) + (sw*(y2-y1))\n",
      "V1=U*(5280/3600)\n",
      "V2=V*(5280/3600)\n",
      "pdiff=((d*((V2**2)-(V1**2))/2) + (d*32.2*(y2)))/144#psi\n",
      "\n",
      "#result\n",
      "print \"elevation of point above the plane\",round(y2,2),\"ft\"\n",
      "print \"The magnitude of velocity at (2) for a 40 mi/hr approaching wind =\",round(V,1),\"mi/hr\"\n",
      "print \"The pressure difference between points (1) and (2)=\",round(pdiff,2),\"psi\"\n",
      "\n",
      "#Plot\n",
      "import matplotlib.pyplot as plt\n",
      "fig = plt.figure()\n",
      "ax = fig.add_subplot(111)\n",
      "\n",
      "u=[0,20,40,60,80,100]\n",
      "p=[0.05,0.055,0.0647,0.08,0.10,0.12]\n",
      "xlabel(\"U  (mph)\") \n",
      "ylabel(\"p1-p2  (psi)\") \n",
      "plt.xlim((0,100))\n",
      "plt.ylim((0,0.14))\n",
      "ax.plot([40], [0.0647], 'o')\n",
      "ax.annotate('(40mph,0.0647psi)', xy=(40,0.06))\n",
      "\n",
      "a=plot(u,p)\n",
      "show(a)"
     ],
     "language": "python",
     "metadata": {},
     "outputs": [
      {
       "output_type": "stream",
       "stream": "stdout",
       "text": [
        "elevation of point above the plane 100.0 ft\n",
        "The magnitude of velocity at (2) for a 40 mi/hr approaching wind = 47.4 mi/hr\n",
        "The pressure difference between points (1) and (2)= 0.06 psi\n"
       ]
      },
      {
       "metadata": {},
       "output_type": "display_data",
       "png": "[encoded data removed]"
      }
     ],
     "prompt_number": 1
    },
    {
     "cell_type": "heading",
     "level": 3,
     "metadata": {},
     "source": [
      "Example 6.10 Page no.331"
     ]
    },
    {
     "cell_type": "code",
     "collapsed": false,
     "input": [
      "\n",
      "d=1.18*1000                                          #kg/m**3\n",
      "vis=0.0045                                             #Ns/m**2, viscosity\n",
      "Q=12.0                                                     #ml/sec\n",
      "dia1=4.0                                                   #mm\n",
      "l=1.0                                                         #m\n",
      "dia2=2.0                                                   #mm\n",
      "\n",
      "#calculation\n",
      "import math\n",
      "V=Q/(1000000*math.pi*((dia1/1000)**2)/4)       #mean velocity, m/sec\n",
      "Re=(d*V*dia1/1000)/vis\n",
      "\n",
      "#result\n",
      "print \"  The Reynolds number is \",round(Re,0),\"is well below critical value of 2100 so flow is laminar.\"\n",
      "pdiff=(8*vis*(l)*(12*10**-6)/(math.pi*(dia1/2000)**4))*10**-3        #kPa\n",
      "print \"a)The pressure drop along a 1 m length of the tube which is far from the tube entrance \",round(pdiff,),\"kpa\"\n",
      "\n",
      "#for flow in the annulus\n",
      "V1=Q/(1000000*math.pi*(((dia1/1000)**2)-((dia2/1000)**2))/4)     #mean velocity, m/sec\n",
      "Re1=d*((dia1-dia2)/1000)*V1/vis\n",
      "\n",
      "#Result\n",
      "print \"b) The Reynolds number is \",round(Re1),\" is well below critical value of 2100 so flow is laminar.\"\n",
      "r1=dia1/2000\n",
      "r2=dia2/2000\n",
      "pdiff1=((8*vis*(l)*(12*10**-6)/(math.pi))*((r1**4)-(r2**4)-((((r1**2)-(r2**2))**2)/(math.log(r1/r2))))**(-1))*10**-3  #kPa\n",
      "\n",
      "#result\n",
      "print \"The pressure drop along a 1 m length of the symmetric annulus =\",round(pdiff1,1),\"kpa\"\n",
      "\n",
      "#plot\n",
      "import matplotlib.pyplot as plt\n",
      "fig = plt.figure()\n",
      "ax = fig.add_subplot(111)\n",
      "\n",
      "T=[0,0.001,0.005,0.01,0.2,0.35,0.5]\n",
      "K=[1.1,1.17,1.22,1.28,2.2,3.8,7.94]\n",
      "xlabel(\"Ri/Ro\") \n",
      "ylabel(\"Pannulus/Ptube\") \n",
      "plt.xlim((0,0.5))\n",
      "plt.ylim((1,8))\n",
      "ax.plot([0.5], [7.94], 'o')\n",
      "ax.annotate('(0.5,7.94)', xy=(0.5,7.9))\n",
      "a=plot(T,K)\n",
      "show(a)\n",
      "\n",
      "T1=[0,0.001,0.005,0.01]\n",
      "K1=[1.1,1.14,1.20,1.28]\n",
      "xlabel(\"Ri/Ro\") \n",
      "ylabel(\"Pannulus/Ptube\") \n",
      "plt.xlim((0,0.01))\n",
      "plt.ylim((1,1.3))\n",
      "a1=plot(T1,K1)\n",
      "show(a1)"
     ],
     "language": "python",
     "metadata": {},
     "outputs": [
      {
       "output_type": "stream",
       "stream": "stdout",
       "text": [
        "  The Reynolds number is  1002.0 is well below critical value of 2100 so flow is laminar.\n",
        "a)The pressure drop along a 1 m length of the tube which is far from the tube entrance  9.0 kpa\n",
        "b) The Reynolds number is  668.0  is well below critical value of 2100 so flow is laminar.\n",
        "The pressure drop along a 1 m length of the symmetric annulus = 68.2 kpa\n"
       ]
      },
      {
       "metadata": {},
       "output_type": "display_data",
       "png": "[encoded data removed]"
      },
      {
       "metadata": {},
       "output_type": "display_data",
       "png": "[encoded data removed]"
      }
     ],
     "prompt_number": 2
    }
   ],
   "metadata": {}
  }
 ]
}