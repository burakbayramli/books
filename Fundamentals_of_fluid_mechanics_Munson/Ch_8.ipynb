{
 "metadata": {
  "name": "",
  "signature": "sha256:1716332d19547024e2a8a33717a7202a43672037e0646cbfaa8a401151eba8cb"
 },
 "nbformat": 3,
 "nbformat_minor": 0,
 "worksheets": [
  {
   "cells": [
    {
     "cell_type": "heading",
     "level": 1,
     "metadata": {},
     "source": [
      "Chapter 8: Viscous flow in pipes"
     ]
    },
    {
     "cell_type": "heading",
     "level": 3,
     "metadata": {},
     "source": [
      "Example 8.1 Page no.405"
     ]
    },
    {
     "cell_type": "code",
     "collapsed": false,
     "input": [
      "\n",
      "#given\n",
      "T1=50.0             #degree farenheit\n",
      "D=0.73              #in\n",
      "vol=0.0125        #ft**3\n",
      "T2=140              #degree farenheit\n",
      "\n",
      "vis1=2.73*10**-5                          #lb*s/ft**2 at 50 degree farenheit\n",
      "vis2=0.974*10**-5                        #lb*s/ft**2 at 140 degree farenheit\n",
      "\n",
      "#calculation\n",
      "import math\n",
      "#for 50 degree farenheit\n",
      "#if flow is laminar, maximum Re=2100 Re=d*V*D/vis\n",
      "V1=2100*vis1/(1.94*D/12)\n",
      "t1=vol/(math.pi*((D/12)**2)/4*V1)\n",
      "#if flow is turbulent, minimum Re=4000\n",
      "V2=4000*vis1/(1.94*D/12)\n",
      "t2=vol/(math.pi*((D/12)**2)/4*V2)\n",
      "\n",
      "#for 140 degree farenheit\n",
      "#if flow is laminar, maximum Re=2100 Re=d*V*D/vis\n",
      "V3=2100*vis2/(1.94*D/12)\n",
      "t3=vol/(math.pi*((D/12)**2)/4*V3)\n",
      "#if flow is turbulent, minimum Re=4000\n",
      "V4=4000*vis2/(1.94*D/12)\n",
      "t4=vol/(math.pi*((D/12)**2)/4*V4)\n",
      "\n",
      "#result\n",
      "print(\"For laminar flow\")\n",
      "print \"The time taken to fill the glass at 50 degree F=\",round(t1,2),\"seconds\"\n",
      "print \"The time taken to fill the glass 100 degree F=\",round(t3,2),\"seconds\"\n",
      "print (\"For turbulent flow:\")\n",
      "print \"The time taken to fill the glass at 50 degree F=\",round(t2,2),\"seconds\"\n",
      "print \"The time taken to fill the glass at 140 degree F=\",round(t4,2),\"seconds\""
     ],
     "language": "python",
     "metadata": {},
     "outputs": [
      {
       "output_type": "stream",
       "stream": "stdout",
       "text": [
        "For laminar flow\n",
        "The time taken to fill the glass at 50 degree F= 8.85 seconds\n",
        "The time taken to fill the glass 100 degree F= 24.81 seconds\n",
        "For turbulent flow:\n",
        "The time taken to fill the glass at 50 degree F= 4.65 seconds\n",
        "The time taken to fill the glass at 140 degree F= 13.03 seconds\n"
       ]
      }
     ],
     "prompt_number": 1
    },
    {
     "cell_type": "heading",
     "level": 3,
     "metadata": {},
     "source": [
      "Example 8.2 Page no.412"
     ]
    },
    {
     "cell_type": "code",
     "collapsed": false,
     "input": [
      "\n",
      "vis=0.4                    #Ns/(m**2)\n",
      "d=900                     #kg/(m**3)\n",
      "D=0.02                   #m\n",
      "Q=2.0*(10**-5)      #(m**3)/s\n",
      "x1=0\n",
      "x2=10                   #m\n",
      "p1=200                 #kPa\n",
      "x3=5                     #m\n",
      "\n",
      "#Calculation\n",
      "import math\n",
      "V=Q/(math.pi*(D**2)/4)        #m/s\n",
      "Re=d*V*D/vis\n",
      "print \"a) Reynolds number =\",round(Re,0),\"Hence the flow is laminar.\"\n",
      "\n",
      "pdiff=128*vis*(x2-x1)*Q/(math.pi*(D**4)*1000)\n",
      "#for part b0 p1=p2 Q=math.pi*(pdiff-(sw*l*math.sin(ang)))*(D**4)/(128*vis*l)\n",
      "ang=(math.asin(-128*vis*Q/(math.pi*d*9.81*(D**4))))*180/math.pi\n",
      "#since sin(ang) doesn= not depend on pdiff, the the pressure is constant all along the pipe\n",
      "#hence for c)\n",
      "p3=p1              #kPa\n",
      "\n",
      "#result\n",
      "print \"The pressure drop required if the pipe is horizontal=\",round(pdiff,1),\"kpa\"\n",
      "print \"b) The angle of the hill the pipe must be on if the oil is to flow at the same rate as a) but with (p1=p2) =\",round(ang,2),\"degree\"\n",
      "print \"c) For conditions of part b), the pressure at x3=5 m = \",round(p3,3),\"kpa\""
     ],
     "language": "python",
     "metadata": {},
     "outputs": [
      {
       "output_type": "stream",
       "stream": "stdout",
       "text": [
        "a) Reynolds number = 3.0 Hence the flow is laminar.\n",
        "The pressure drop required if the pipe is horizontal= 20.4 kpa\n",
        "b) The angle of the hill the pipe must be on if the oil is to flow at the same rate as a) but with (p1=p2) = -13.34 degree\n",
        "c) For conditions of part b), the pressure at x3=5 m =  200.0 kpa\n"
       ]
      }
     ],
     "prompt_number": 2
    },
    {
     "cell_type": "heading",
     "level": 3,
     "metadata": {},
     "source": [
      "Example 8.3 Page no.416"
     ]
    },
    {
     "cell_type": "code",
     "collapsed": false,
     "input": [
      "%matplotlib inline "
     ],
     "language": "python",
     "metadata": {},
     "outputs": [
      {
       "output_type": "stream",
       "stream": "stdout",
       "text": [
        "\n",
        "Welcome to pylab, a matplotlib-based Python environment [backend: module://IPython.zmq.pylab.backend_inline].\n",
        "For more information, type 'help(pylab)'.\n"
       ]
      }
     ],
     "prompt_number": 1
    },
    {
     "cell_type": "code",
     "collapsed": false,
     "input": [
      "\n",
      "\n",
      "from numpy import*\n",
      "T=array([60,80,100,120,140,160])        #degree F\n",
      "d=array([2.07,2.06,2.05,2.04,2.03,2.02])#(slugs/(ft**3))\n",
      "vis=array([0.04,0.019,0.0038,0.00044,0.000092,0.000023])#lb*sec/(ft**2)\n",
      "Q=0.5                            #(ft**3)/sec\n",
      "T1=100.0                           #degree F\n",
      "l=6.0                              #ft\n",
      "D=3.0                              #in\n",
      "\n",
      "#Calculation\n",
      "import math\n",
      "pdiff=128*vis[2]*l*Q/(math.pi*(D/12)**4)\n",
      "print \"The pressure difference is \",round(pdiff,0),\"lb/ft**2\"\n",
      "V=Q/(math.pi*((D/12)**2)/4)     #ft/sec\n",
      "Re=d[2]*V*(D/12)/vis[2]\n",
      "print\"The reynolds number=\",round(Re,0),\"< 2100 hence the flow is laminar\"\n",
      "stress=pdiff*(D/12)/(4*l)      #lb/(ft**2)\n",
      "print \"The wall stress for the given Q and T =\",round(stress,2),\"lb/(ft**2)\"\n",
      "Fp=(math.pi/4)*((D/12)**2)*pdiff          #lb\n",
      "Fv=(2*math.pi)*((D/24))*l*stress        #lb\n",
      "\n",
      "#result\n",
      "print \"The net pressure force =\",round(Fp,2),\"lb\"\n",
      "print \"The net viscous/shear force =\",round(Fv,2),\"lb\"\n",
      "\n",
      "#PLot\n",
      "T=[60,80,100,120,140,160]\n",
      "K=[0.0004125,0.00086842,0.0043421,0.0375,0.173,0.695]\n",
      "xlabel(\"T  F\") \n",
      "ylabel(\"K  ft**5/lbs\") \n",
      "plt.xlim((60,180))\n",
      "plt.ylim((0.0001,1))\n",
      "a=plot(T,K)\n",
      "show(a)"
     ],
     "language": "python",
     "metadata": {},
     "outputs": [
      {
       "output_type": "stream",
       "stream": "stdout",
       "text": [
        "The pressure difference is  119.0 lb/ft**2\n",
        "The reynolds number= 1374.0 < 2100 hence the flow is laminar\n",
        "The wall stress for the given Q and T = 1.24 lb/(ft**2)\n",
        "The net pressure force = 5.84 lb\n",
        "The net viscous/shear force = 5.84 lb\n"
       ]
      },
      {
       "metadata": {},
       "output_type": "display_data",
       "png": "[encoded data removed]"
      }
     ],
     "prompt_number": 1
    },
    {
     "cell_type": "heading",
     "level": 3,
     "metadata": {},
     "source": [
      "Example 8.4 Page no.427"
     ]
    },
    {
     "cell_type": "code",
     "collapsed": false,
     "input": [
      "\n",
      "\n",
      "#Given\n",
      "T=20.0                                       #degree C\n",
      "d=998.0                                     #kg/(m**3)\n",
      "kvis=1.004*(10**-6)                   #(m**2)/s where kvis=kinematic viscosity\n",
      "D=0.1                                        #m\n",
      "Q=0.04                                      #(m**3)/sec\n",
      "pgrad=2.59                                # kPa/m where pgrad is pressure gradient\n",
      "l=1                                         #m length\n",
      "#calculation\n",
      "import math\n",
      "from scipy import integrate\n",
      "stress=D*(pgrad*1000)/(4*l)           #N/(m**2)\n",
      "uf=(stress/d)**0.5                    #m/sec where uf is frictional velocity\n",
      "ts=5*kvis*1000/(uf)                   #mm where ts is the thickness of the viscous sublayer\n",
      "print \"The thickness of the viscous sublayer=\",round(ts,2),\"mm\"\n",
      "V=Q/(math.pi*(D**2)/4)               #m/s\n",
      "Re=V*D/kvis\n",
      "print \"The reynolds number=\",round(Re,0),\"hence the flow is turbulent.\"\n",
      "\n",
      "n=8.4                                #from turbulent flow velocity profile diagram\n",
      "#Q=(math.pi)*(R**2)*V\n",
      "R=1                                  #say                                        \n",
      "def f1(r):\n",
      "    return(1/R**2*(((1-r/R)**(1/n))*2*math.pi*r))\n",
      "q=integrate.quad(f1,0.0,R)\n",
      "q_=q[0]\n",
      "x=round(q_,2)/math.pi                          #x=V/Vc\n",
      "Vc=V/x\n",
      "print \"The approximate centerline velocity=\",round(Vc,2),\"m/s\"\n",
      "\n",
      "#C\n",
      "r=0.025                                     #m\n",
      "stress1=(2*stress*r)/D               #N/(m**2)\n",
      "#d(uavg)/dr=urate=-(Vc/(n*R))*((1-(r/R))**((1-n)/n)) where uavg=average velocity\n",
      "urate=-(Vc/(n*(D/2)))*((1-(r/(D/2)))**((1-n)/n))           #s**(-1)\n",
      "stresslam=-(kvis*d*urate)                                          #N/(m**2)\n",
      "stressratio=(stress1-stresslam)/stresslam\n",
      "\n",
      "#result\n",
      "print \"The ratio of teh turbulent to laminar stress at a point\\nmidway between the centreline and the pipe wall =\",round(stressratio,0)"
     ],
     "language": "python",
     "metadata": {},
     "outputs": [
      {
       "output_type": "stream",
       "stream": "stdout",
       "text": [
        "The thickness of the viscous sublayer= 0.02 mm\n",
        "The reynolds number= 507267.0 hence the flow is turbulent.\n",
        "The approximate centerline velocity= 6.04 m/s\n",
        "The ratio of teh turbulent to laminar stress at a point\n",
        "midway between the centreline and the pipe wall = 1219.0\n"
       ]
      }
     ],
     "prompt_number": 18
    },
    {
     "cell_type": "heading",
     "level": 3,
     "metadata": {},
     "source": [
      "Example 8.5 Page no.435"
     ]
    },
    {
     "cell_type": "code",
     "collapsed": false,
     "input": [
      "\n",
      "D=4.0                         #mm\n",
      "V=50.0                      #m/sec\n",
      "l=0.1                      #m\n",
      "d=1.23                   #kg/(m**3)\n",
      "vis=1.79/100000    #N*sec/(m**2)\n",
      "Re=d*V*(D*10**-3)/vis\n",
      "#if flow is laminar\n",
      "f=64/Re\n",
      "pdiff=f*l*0.5*d*(V**2)/((D*10**-3)*1000)        #kPa\n",
      "\n",
      "#result\n",
      "print \"The pressure drop if the flow is laminar=\",round(pdiff,3),\"kpa\"\n",
      "\n",
      "#if flow is turbulent\n",
      "#roughness=0.0015 hence f=0.028\n",
      "f1=0.028\n",
      "pdiff1=f1*l*0.5*d*(V**2)/((D/1000)*1000)   #kPa\n",
      "print \"The pressure drop if flow is turbulent=\",round(pdiff1,3),\"kpa\"\n"
     ],
     "language": "python",
     "metadata": {},
     "outputs": [
      {
       "output_type": "stream",
       "stream": "stdout",
       "text": [
        "The pressure drop if the flow is laminar= 0.179 kpa\n",
        "The pressure drop if flow is turbulent= 1.076 kpa\n"
       ]
      }
     ],
     "prompt_number": 5
    },
    {
     "cell_type": "heading",
     "level": 3,
     "metadata": {},
     "source": [
      "Example 8.6 Page no.446"
     ]
    },
    {
     "cell_type": "code",
     "collapsed": false,
     "input": [
      "\n",
      "A=[22,28,35,35,4,4,10,18,22]\n",
      "V=[36.4,28.6,22.9,22.9,200,200,80,44.4,36.4]\n",
      "g=32.2                        #ft/s**2  gravitational constant         \n",
      "SG=0.0765                      #spesific gravity\n",
      "hl=(0.2*(V[1]**2+V[2]**2+V[6]**2+V[7]**2)+0.6*V[5]**2+0.2*V[4]**2+4*V[3]**2)/(2*g)\n",
      "pdiff=SG*hl/144                          #psi\n",
      "Pa=SG*A[4]*V[4]*hl\n",
      "\n",
      "#result\n",
      "print \"The value of (p1-p9)=\",round(pdiff,3),\"psi\"\n",
      "print \"The horsepower supplied to the fluid by the fan=\",round(Pa,1)/550,\"hp\"\n",
      "\n",
      "#Plot\n",
      "V=[50,100,150,200,250,300]\n",
      "Pa=[0,10,25,62.3,120,220]\n",
      "a=plot(V,Pa)\n",
      "xlabel(\"q ft**3/s\") \n",
      "ylabel(\"d (ft)\") \n",
      "plt.xlim((0,300))\n",
      "plt.ylim((0,250))\n",
      "          \n",
      "show(a)\n",
      "\n",
      "\n"
     ],
     "language": "python",
     "metadata": {},
     "outputs": [
      {
       "output_type": "stream",
       "stream": "stdout",
       "text": [
        "The value of (p1-p9)= 0.297 psi\n",
        "The horsepower supplied to the fluid by the fan= 62.272 hp\n"
       ]
      },
      {
       "metadata": {},
       "output_type": "display_data",
       "png": "[encoded data removed]"
      }
     ],
     "prompt_number": 2
    },
    {
     "cell_type": "heading",
     "level": 3,
     "metadata": {},
     "source": [
      "Example 8.7 Page no.449"
     ]
    },
    {
     "cell_type": "code",
     "collapsed": false,
     "input": [
      "\n",
      "T=120.0                                #degree F\n",
      "D=8.0                                 #in\n",
      "vavg=10.0                             #ft/s\n",
      "roughness=0\n",
      "kvis=1.89*10**-4                      #(ft**2)/s\n",
      "Re=vavg*(D/12)/kvis\n",
      "g=32.2                                #ft/s**2 gravitational constant\n",
      "#Calculation\n",
      "import math\n",
      "#from this value of Re and roughness/D=0, and using Moody's chart\n",
      "f=0.022\n",
      "x=f*(vavg**2)/(D*2*32.2/12)            # x=hl/l\n",
      "#Dh=4*A/P=4*(a**2)/(4*a)=a\n",
      "y=(math.pi*((D/12)**2)*vavg)/(4)  # y=Vs/a**2 \n",
      "z=x*2*g/y**2                            #z=f/a**5\n",
      "f=0.023\n",
      "a=(f/z)**(0.2)\n",
      "\n",
      "#result\n",
      "print \"The duct size(a) for the square duct if the head loss per foot\\n remains the same for the pipe and the duct=\",round(a,3),\"ft\" "
     ],
     "language": "python",
     "metadata": {},
     "outputs": [
      {
       "output_type": "stream",
       "stream": "stdout",
       "text": [
        "The duct size(a) for the square duct if the head loss per foot\n",
        " remains the same for the pipe and the duct= 0.611 ft\n"
       ]
      }
     ],
     "prompt_number": 5
    },
    {
     "cell_type": "heading",
     "level": 3,
     "metadata": {},
     "source": [
      "Example 8.8 Page no.451"
     ]
    },
    {
     "cell_type": "code",
     "collapsed": false,
     "input": [
      "\n",
      "T=60                          #degree F\n",
      "D=0.0625                  #ft\n",
      "Q=0.0267                 #(ft**3)/sec \n",
      "Df=0.5                     #in\n",
      "l1=15.0                    #ft\n",
      "l2=10.0                     #ft\n",
      "l3=5.0                      #ft\n",
      "l4=10.0                   #ft\n",
      "l5=10.0                   #ft\n",
      "l6=10.0                   #ft\n",
      "\n",
      "#calculation\n",
      "import math\n",
      "V1=Q/(math.pi*(D**2)/4)            #ft/sec\n",
      "V2=Q/(math.pi*((Df/12)**2)/4)    #ft/sec\n",
      "d=1.94                                        #slugs/ft\n",
      "vis=2.34*10**-5                         #lb*sec/(ft**2)\n",
      "Re=d*V1*D/vis\n",
      "print \"The reynolds number =\",round(Re,3),\"hence the flow is turbulent\"\n",
      "\n",
      "#applying energy equation between points 1 and 2\n",
      "#when all head losses are excluded\n",
      "p1=(d*32.2*(l2+l4))+(0.5*d*((V2**2)-(V1**2)))         #lb/(ft**2)\n",
      "print \"a)The pressure at point 1 when all head losses are neglected=\",round(p1,3),\"lb/ft**2\"\n",
      "\n",
      "#if major losses are included\n",
      "f=0.0215\n",
      "hLmajor=f*(l1+l2+l3+l4+l5+l6)*(V1**2)/(D*2*32.2)\n",
      "p11=p1+(d*32.2*hLmajor)           #lb/(ft**2)\n",
      "\n",
      "#result\n",
      "print \"b)The pressure at point 1 when only major head losses are included=\",round(p11/144,1),\"psi\"\n",
      "\n",
      "#if major and minor losses are included\n",
      "KLelbow=1.5\n",
      "KLvalve=10\n",
      "KLfaucet=2\n",
      "hLminor=(KLvalve+(4*KLelbow)+KLfaucet)*(V1**2)/(2*32.2)\n",
      "p12=p11+(d*32.2*hLminor)#lb/(ft**2)\n",
      "print \"c)The pressure at point 1 when both major and minor head losses are included=\",round(p12/144,1),\"psi\"\n",
      "H=(p1/(32.2*1.94))+(V1*V1/(2*32.2))#ft\n",
      "\n",
      "#Plot\n",
      "import matplotlib.pyplot as plt\n",
      "\n",
      "D=[0,15,15,25,25,30,30,40,40,50,50,60]\n",
      "P=[30.5,27.8,27.1,21.0,20.2,19.3,18.5,12.4,11.7,9.93,4.84,3.09]\n",
      "xlabel(\"distance along pipe from point  ft\") \n",
      "ylabel(\"P  hP\") \n",
      "plt.xlim((-0.5,60))\n",
      "plt.ylim((0,32))\n",
      "a=plot(D,P)\n",
      "plt.text(40,28, '-(a)no losses')\n",
      "plt.text(40,25, '-(c)including all losses')\n",
      "\n",
      "\n",
      "plt.text(0,30.5, '30.5')\n",
      "plt.text(15,27.8, '27.8')\n",
      "plt.text(15,27.1, '27.1')\n",
      "plt.text(25,21.0, '21.0')\n",
      "plt.text(25,20.2, '20.2')\n",
      "plt.text(30,19.3, '19.3')\n",
      "plt.text(30,18.5, '18.5')\n",
      "plt.text(40,12.4, '12.4')\n",
      "plt.text(40,11.7, '11.7')\n",
      "plt.text(50,9.93, '9.93')\n",
      "plt.text(50,4.84, '4.84')\n",
      "plt.text(60,3.09, '3.09')\n",
      "plt.text(0,22, 'pressure loss')\n",
      "plt.grid()\n",
      "\n",
      "D=[0,15,25,30,40,50,60]\n",
      "P=[10.7,10.7,6.37,6.37,2.07,2.07,2.07]\n",
      "xlabel(\"distance along pipe from point  ft\") \n",
      "ylabel(\"P  hP\") \n",
      "plt.xlim((-0.5,60))\n",
      "plt.ylim((0,32))\n",
      "a=plot(D,P)\n",
      "plt.text(0,10.7,  '10.7')\n",
      "plt.text(15,10.7, '10.7')\n",
      "plt.text(25,6.37, '6.37')\n",
      "plt.text(30,6.37, '6.37')\n",
      "plt.text(40,2.07, '2.07')\n",
      "plt.text(50,2.07, '2.07')\n",
      "plt.text(60,2.07, '2.07')\n",
      "plt.text(5,5, 'Elevation and Kinetic Energy')\n",
      "show(a)\n",
      "# 2nd plot\n",
      "import numpy as np\n",
      "import matplotlib.pyplot as plt\n",
      "\n",
      "fig = plt.figure()\n",
      "ax = fig.add_subplot(111)\n",
      "\n",
      "D1=[0,15,15,25,25,30,30,40,40,50,50,60,60]\n",
      "P1=[71.6,67,63,60,58,57,55,53,50,45,31,28,26]\n",
      "xlabel(\"distance along pipe from point 1 ft\") \n",
      "ylabel(\"Elevetion to Energy line H ft\") \n",
      "plt.xlim((0,60))\n",
      "plt.ylim((0,80))\n",
      "ax.annotate('slope due to pipe friction', xy=(8, 70), xytext=(15,75),\n",
      "            arrowprops=dict(facecolor='black', shrink=0.000),\n",
      "            )\n",
      "ax.annotate('sharp drop due to component loss', xy=(15, 65), xytext=(20,65),\n",
      "            arrowprops=dict(facecolor='black', shrink=0.000),\n",
      "            )\n",
      "ax.annotate('Energy line including all losses', xy=(35, 55), xytext=(40,53),\n",
      "            arrowprops=dict(facecolor='black', shrink=0.000),\n",
      "            )\n",
      "\n",
      "a1=plot(D1,P1)\n",
      "\n",
      "D1=[0,60]\n",
      "P1=[26,26]\n",
      "xlabel(\"distance along pipe from point 1 ft\") \n",
      "ylabel(\"Elevetion to Energy line H ft\") \n",
      "plt.xlim((0,60))\n",
      "plt.ylim((0,80))\n",
      "a1=plot(D1,P1)\n",
      "\n",
      "ax.annotate('Energy line with no losses', xy=(10, 25), xytext=(10,10),\n",
      "            arrowprops=dict(facecolor='black', shrink=0.000),\n",
      "            )\n",
      "\n",
      "show(a1)\n"
     ],
     "language": "python",
     "metadata": {},
     "outputs": [
      {
       "output_type": "stream",
       "stream": "stdout",
       "text": [
        "The reynolds number = 45094.88 hence the flow is turbulent\n",
        "a)The pressure at point 1 when all head losses are neglected= 1547.821 lb/ft**2\n",
        "b)The pressure at point 1 when only major head losses are included= 21.3 psi\n",
        "c)The pressure at point 1 when both major and minor head losses are included= 30.5 psi\n"
       ]
      },
      {
       "metadata": {},
       "output_type": "display_data",
       "png": "[encoded data removed]"
      },
      {
       "metadata": {},
       "output_type": "display_data",
       "png": "[encoded data removed]"
      }
     ],
     "prompt_number": 1
    },
    {
     "cell_type": "heading",
     "level": 3,
     "metadata": {},
     "source": [
      "Example 8.9 Page no.453"
     ]
    },
    {
     "cell_type": "code",
     "collapsed": false,
     "input": [
      "\n",
      "T=140.0                           #degree F\n",
      "sw=53.7                           #lb/(ft**3)\n",
      "vis=8*10**-5                    #lb*sec/(ft**2)\n",
      "l=799                               #miles\n",
      "D=4.0                              #ft\n",
      "Q=117.0                          #(ft**3)/sec\n",
      "V=9.31                            #ft/sec\n",
      "#energy equation=> hp=hL=f*(l/D)*((V**2)/(2*g))\n",
      "f=0.0125\n",
      "hp=f*(l*5280/D)*((V**2)/(2*32.2))        #ft,  in book ,calculation  mistake\n",
      "Pa=sw*Q*round(hp,2)/550                                  #hp\n",
      "\n",
      "#Result\n",
      "print \"The horsepower required to drive the system=\",round(Pa,3),\"hp\"\n",
      "\n",
      "#Plot\n",
      "import matplotlib.pyplot as plt\n",
      "fig = plt.figure()\n",
      "ax = fig.add_subplot(111)\n",
      "\n",
      "D=[2,3,4,5,6]\n",
      "P=[3.2*10**6,0.8*10**6,0.202*10**6,0.15*10**6,0.1*10**6]\n",
      "xlabel(\"D  ft\") \n",
      "ylabel(\"P  hP\") \n",
      "plt.xlim((0,6))\n",
      "plt.ylim((0,4*10**6))\n",
      "ax.plot([4], [0.202*10**6], 'o')\n",
      "ax.annotate('(4ft,2.02*10**5 hp)', xy=(4,0.25*10**6))\n",
      "a=plot(D,P)\n",
      "show(a)\n"
     ],
     "language": "python",
     "metadata": {},
     "outputs": [
      {
       "output_type": "stream",
       "stream": "stdout",
       "text": [
        "The horsepower required to drive the system= 202694.35 hp\n"
       ]
      },
      {
       "metadata": {},
       "output_type": "display_data",
       "png": "[encoded data removed]"
      }
     ],
     "prompt_number": 2
    },
    {
     "cell_type": "heading",
     "level": 3,
     "metadata": {},
     "source": [
      "Example 8.10 Page no.454"
     ]
    },
    {
     "cell_type": "code",
     "collapsed": false,
     "input": [
      "\n",
      "D=4.0                        #in\n",
      "l=20                           #ft\n",
      "n=4.0                         #number of 90 degree elbows\n",
      "h=0.2                        #in\n",
      "T=100                      #degree F \n",
      "\n",
      "#calculation\n",
      "import math\n",
      "#energy equation between the inside of the dryer and the exit of the vent pipe\n",
      "p1=(h/12)*62.4         #lb/(ft**2)\n",
      "KLentrance=0.5\n",
      "KLelbow=1.5\n",
      "sw=0.0709              #lb/(ft**3)\n",
      "f=0.022                  #assumption\n",
      "#hence,\n",
      "V=((p1/sw)*2*32.2/(1+(f*l/(D/12))+KLentrance+(n*KLelbow)))**0.5       #ft/sec\n",
      "Q=V*(math.pi*((D/12)**2)/4)          #(ft**3)/sec\n",
      "\n",
      "#result\n",
      "print \"The flowrate=\",round(Q,2),\"ft**3/s\"\n"
     ],
     "language": "python",
     "metadata": {},
     "outputs": [
      {
       "output_type": "stream",
       "stream": "stdout",
       "text": [
        "The flowrate= 0.9 ft**3/s\n"
       ]
      }
     ],
     "prompt_number": 16
    },
    {
     "cell_type": "heading",
     "level": 3,
     "metadata": {},
     "source": [
      "Example 8.11 Page no.456"
     ]
    },
    {
     "cell_type": "code",
     "collapsed": false,
     "input": [
      "             \n",
      "D=1.0                      #ft\n",
      "l=300.0                    #ft\n",
      "f=0.02                     #moody factor\n",
      "z1=90.0                   #ft\n",
      "g=32.2                     #ft/s**2, gravitational constant\n",
      "sw=62.4                    #lb/ft**3, specific heat\n",
      "import numpy\n",
      "#calculation\n",
      "from scipy.optimize import fsolve\n",
      "#energy equation between the surface of the lake and the outlet of the pipe\n",
      "#p1=V1=p2=z2=0  V2=V\n",
      "a=f*l/(D*2*g)                       #a=hl/V**2\n",
      "b=Pa*550/(sw*math.pi*(D**2)/4)    #b=ht/V\n",
      "#from bernouli eq.  f=0.109*V**3-90*V+561\n",
      "def f(V1):\n",
      "    f=0.109*V1**3-90*V1+561\n",
      "    return(f)\n",
      "V1=fsolve(f,10)\n",
      "def f1(V2):\n",
      "    f1=0.109*V2**3-90*V2+561\n",
      "    return(f)\n",
      "V2=fsolve(f,20)\n",
      "\n",
      "Q1=(math.pi*(D**2)/4)*V1         #(ft**3)/sec\n",
      "Q2=(math.pi*(D**2)/4)*V2        #(ft**3)/sec\n",
      "print \"The possible flowrates are=\",round(Q1,1),\"ft**3/s\" \"and \",round(Q2,1),\"ft**3/s\"\n"
     ],
     "language": "python",
     "metadata": {},
     "outputs": [
      {
       "output_type": "stream",
       "stream": "stdout",
       "text": [
        "The possible flowrates are= 5.166 ft**3/sand  19.537 ft**3/s\n"
       ]
      }
     ],
     "prompt_number": 70
    },
    {
     "cell_type": "heading",
     "level": 3,
     "metadata": {},
     "source": [
      "Example 8.12 Page no.457"
     ]
    },
    {
     "cell_type": "code",
     "collapsed": false,
     "input": [
      "\n",
      "roughness=0.0005                #ft\n",
      "Q=2.0                            #(ft**3)/sec\n",
      "pd=0.5*144                      #lb/ft**2  where pd=pressure drop\n",
      "l=100                           #ft\n",
      "d=0.00238                      #slugs/(ft**3)\n",
      "vis=3.74*(10**(-7))            #lb*sec/(ft**2)\n",
      "\n",
      "#calculation\n",
      "x=Q/(math.pi/4)                #where x =V*(D**2)\n",
      "#energy equation with z1=z2 and V1=V2\n",
      "D=0.404*f**(1/5)\n",
      "#Calculation\n",
      "y=(l*d*(x**2)*0.5/(pd))       #where y=(D**5)/f\n",
      "f=0.027                        #using reynolds number, roughness and moody's chart\n",
      "D=((l*d*(x**2)*0.5/(pd))*f)**(0.2)\n",
      "\n",
      "#Result\n",
      "print \"The diameter of the pipe should be =\",round(D,3),\"ft\"\n",
      "\n",
      "#Plot\n",
      "q=[0.1,0.5,2,3]\n",
      "d=[0.06,0.09,0.196,0.225]\n",
      "a=plot(q,d)\n",
      "xlabel(\"q ft**3/s\") \n",
      "ylabel(\"d (ft)\") \n",
      "plt.xlim((0,3))\n",
      "plt.ylim((0,0.25))\n",
      "          \n",
      "show(a)\n",
      "\n"
     ],
     "language": "python",
     "metadata": {},
     "outputs": [
      {
       "output_type": "stream",
       "stream": "stdout",
       "text": [
        "The diameter of the pipe should be = 0.196 ft\n"
       ]
      },
      {
       "metadata": {},
       "output_type": "display_data",
       "png": "[encoded data removed]"
      }
     ],
     "prompt_number": 2
    },
    {
     "cell_type": "heading",
     "level": 3,
     "metadata": {},
     "source": [
      "Example 8.13 Page no.458"
     ]
    },
    {
     "cell_type": "code",
     "collapsed": false,
     "input": [
      "\n",
      "T=60.0                       #degree F\n",
      "kvis=1.28*(10**(-5))         #(ft**2)/sec\n",
      "l=1700.0                     #ft\n",
      "roughness=0.0005             #ft\n",
      "Q=26.0                       #(ft**3)/sec\n",
      "n=4.0                        #number of flanged 45 degree elbows\n",
      "z1=44.0                      #ft\n",
      "\n",
      "#Calculation\n",
      "#V=31.1/D*2                   #where V=Q/A\n",
      "#f=0.0052*D**5-0.00135*D      #eleminating V\n",
      "\n",
      "#calculation\n",
      "#assume f=0.052               #(moody chart) hit and trial method\n",
      "from scipy.optimize import fsolve\n",
      "def f(D):\n",
      "    f=0.0052*D**5-0.00135*D-0.052\n",
      "    return(f)\n",
      "D=fsolve(f,1)\n",
      "\n",
      "#result\n",
      "print \"Pipe Diameter is \",round(D,1),\"ft\"\n",
      "\n",
      "#Plot\n",
      "l=[300,1000,1700,2000]\n",
      "d=[1.2,1.45,1.63,1.72]\n",
      "a=plot(l,d)\n",
      "xlabel(\"l ft\") \n",
      "ylabel(\"d (ft)\") \n",
      "plt.xlim((0,2000))\n",
      "plt.ylim((0,1.8))\n",
      "show(a)\n"
     ],
     "language": "python",
     "metadata": {},
     "outputs": [
      {
       "output_type": "stream",
       "stream": "stdout",
       "text": [
        "DPipe Diameter is  1.6 m\n"
       ]
      },
      {
       "metadata": {},
       "output_type": "display_data",
       "png": "[encoded data removed]",
       "text": [
        "<matplotlib.figure.Figure at 0x8554780>"
       ]
      }
     ],
     "prompt_number": 30
    },
    {
     "cell_type": "heading",
     "level": 3,
     "metadata": {},
     "source": [
      "Example 8.14 Page no.462"
     ]
    },
    {
     "cell_type": "code",
     "collapsed": false,
     "input": [
      "\n",
      "D=1              #ft\n",
      "f=0.02\n",
      "z1=100           #ft\n",
      "z2=20            #ft\n",
      "z3=0             #ft\n",
      "l1=1000          #ft\n",
      "l2=500           #ft\n",
      "l3=400           #ft\n",
      "\n",
      "#Calculation\n",
      "from scipy.optimize import fsolve\n",
      "import math\n",
      "#V1+V2=V3                      #from eq of continuity ,because diameter are same\n",
      "#V1**2+0.4*V3**2=322          #from energy eq..........(1)\n",
      "#0.5*V2**2+0.4*V3**2=64.4     for fluid flowing B to c.........(2)\n",
      "# V1**2+0.5*V2**2=258          #...............(3)\n",
      "#From b and  bernouli eq.  f=V**4-460*V**2+3748\n",
      "def f(V2):\n",
      "    f1=V2**4-460*V2**2+3748\n",
      "    return(f1)\n",
      "V2=fsolve(f,2)\n",
      "V1=math.sqrt(258-0.5*V2**2)       #from eq 3\n",
      "A=(math.pi/4*(D**2))              #  ft**2, area\n",
      "Q1=V1*A\n",
      "Q2=V2*A\n",
      "Q3=Q1-Q2\n",
      "print \"Flow out of A reservoir =\",round(Q1,1), \"(ft**3)/sec\"\n",
      "print \"Flow  into B reservoir =\",round(Q2,2), \"(ft**3)/sec\"\n",
      "print \"Flow  into C reservoir =\" ,round(Q3,1),\"(ft**3)/sec\""
     ],
     "language": "python",
     "metadata": {},
     "outputs": [
      {
       "output_type": "stream",
       "stream": "stdout",
       "text": [
        "Flow out of A reservoir = 12.5 (ft**3)/sec\n",
        "Flow  into B reservoir = 2.26 (ft**3)/sec\n",
        "Flow  into C reservoir = 10.3 (ft**3)/sec\n"
       ]
      }
     ],
     "prompt_number": 12
    },
    {
     "cell_type": "heading",
     "level": 3,
     "metadata": {},
     "source": [
      "Example 8.15 Page no.467"
     ]
    },
    {
     "cell_type": "code",
     "collapsed": false,
     "input": [
      "\n",
      "D=60.0                 #mm\n",
      "pdiff=4                  #kPa\n",
      "Q=0.003               #(m**3)/sec\n",
      "d=789                 #kg/(m**3)\n",
      "\n",
      "#calculation\n",
      "import math\n",
      "vis=1.19*(10**(-3))   #N*sec/(m**2)\n",
      "Re=d*4*Q/(math.pi*D*vis)\n",
      "#assuming B=dia/D=0.577, where dia=diameter of nozzle, and obtaining Cn from Re as 0.972\n",
      "Cn=0.972\n",
      "B=0.577\n",
      "dia=((4*Q/(Cn*math.pi))/((2*pdiff*1000/(d*(1-(B**4))))**0.5))**0.5\n",
      "\n",
      "#result\n",
      "print \"Diameter of the nozzle=\",round(dia*1000,1),\"mm\"\n"
     ],
     "language": "python",
     "metadata": {},
     "outputs": [
      {
       "output_type": "stream",
       "stream": "stdout",
       "text": [
        "Diameter of the nozzle= 34.1 mm\n"
       ]
      }
     ],
     "prompt_number": 3
    }
   ],
   "metadata": {}
  }
 ]
}