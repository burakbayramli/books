{
 "metadata": {
  "name": "",
  "signature": "sha256:3309ad2ee40727e875382d56c1e718ac3ce9fa3af9889cece7627a293ed3a4ad"
 },
 "nbformat": 3,
 "nbformat_minor": 0,
 "worksheets": [
  {
   "cells": [
    {
     "cell_type": "heading",
     "level": 1,
     "metadata": {},
     "source": [
      "Chapter 1:Introduction"
     ]
    },
    {
     "cell_type": "heading",
     "level": 3,
     "metadata": {},
     "source": [
      "Example 1.2 Page No9"
     ]
    },
    {
     "cell_type": "code",
     "collapsed": false,
     "input": [
      "#Example 1.2\n",
      "#Given\n",
      "m=36                        #kg,  mass\n",
      "acc=7.0                    #ft/sq sec  acceleration\n",
      "W=m*9.81\n",
      "\n",
      "#F=W+m*acc\n",
      "#1 ft= 0.3048 m\n",
      "F=W+(m*acc*0.3048)\n",
      "\n",
      "#Result\n",
      "print \"Required Force is=\",round(F,1),\"N (downward on floor)\"\n"
     ],
     "language": "python",
     "metadata": {},
     "outputs": [
      {
       "output_type": "stream",
       "stream": "stdout",
       "text": [
        "Required Force is= 430.0 N (downward on floor)\n"
       ]
      }
     ],
     "prompt_number": 3
    },
    {
     "cell_type": "heading",
     "level": 3,
     "metadata": {},
     "source": [
      "Example 1.3 Page No12"
     ]
    },
    {
     "cell_type": "code",
     "collapsed": false,
     "input": [
      "%matplotlib inline"
     ],
     "language": "python",
     "metadata": {},
     "outputs": [
      {
       "output_type": "stream",
       "stream": "stdout",
       "text": [
        "\n",
        "Welcome to pylab, a matplotlib-based Python environment [backend: module://IPython.zmq.pylab.backend_inline].\n",
        "For more information, type 'help(pylab)'.\n"
       ]
      }
     ],
     "prompt_number": 2
    },
    {
     "cell_type": "code",
     "collapsed": false,
     "input": [
      "#Example 1.3\n",
      "#Given\n",
      "V=0.84                 #ft**3, air volume\n",
      "p=50                    #psi,  pressure\n",
      "T=70                   #degree farenheit, temprature\n",
      "atmp=14.7          #psi,  pressure\n",
      "#the air density d=P/(RT)\n",
      "#1ft**2=144 inches**2\n",
      "\n",
      "#calculation\n",
      "d=((p+atmp)*144)/((1716)*(T+460))\n",
      "print \"density of air\",round(d,3),\"slugs/ft**3\"\n",
      "\n",
      "#slugs/ft**3\n",
      "#weight of air\n",
      "W=d*32.2*V\n",
      "#1lb=1 slug.ft/sq sec\n",
      "\n",
      "#result\n",
      "print \"Weight =\",round(W,2),\"lb\"\n",
      "\n",
      "#plot\n",
      "import matplotlib.pyplot as plt\n",
      "fig = plt.figure()\n",
      "ax = fig.add_subplot(111)\n",
      "\n",
      "p=[-12,50,100]\n",
      "f=[0,0.276,0.5]\n",
      "xlabel(\"p  (psi)\") \n",
      "ylabel(\"f  (lb)\") \n",
      "plt.xlim((-20,100))\n",
      "plt.ylim((0,0.5))\n",
      "a=plot(p,f)\n",
      "ax.plot([50], [0.276], 'o')\n",
      "ax.annotate('(50psi,0.276lb)', xy=(50,0.25))\n",
      "show(a)"
     ],
     "language": "python",
     "metadata": {},
     "outputs": [
      {
       "output_type": "stream",
       "stream": "stdout",
       "text": [
        "density of air 0.01 slugs/ft**3\n",
        "Weight = 0.28 lb\n"
       ]
      },
      {
       "metadata": {},
       "output_type": "display_data",
       "png": "[encoded data removed]"
      }
     ],
     "prompt_number": 31
    },
    {
     "cell_type": "heading",
     "level": 3,
     "metadata": {},
     "source": [
      "Example 1.4 Page No18"
     ]
    },
    {
     "cell_type": "code",
     "collapsed": false,
     "input": [
      "#Example 1.4\n",
      "#Given\n",
      "vis=0.38                   #Ns/m**2, viscosity\n",
      "sg=0.91                   #specific gravity of Newtonian fluid\n",
      "dia=25                    #mm,  diameter\n",
      "vel=2.6                  #m/s, velocity\n",
      "\n",
      "#calculating in SI units\n",
      "#fluid density d=sg*(density of water @ 277K)\n",
      "d=sg*1000            #kg/m**3\n",
      "#Reynolds number Re=d*vel*dia/vis\n",
      "Re=(d*vel*dia*10**-3)/(vis)                 #(kgm/sec**2)/N\n",
      "print \"Re in SI units=\",round(Re,1)\n",
      "\n",
      "#calculating in BG units\n",
      "d1=d*1.94*10**-3               #slugs/ft**3\n",
      "vel1=vel*3.281                  #ft/s\n",
      "dia1=(dia*10**-3)*3.281       #ft\n",
      "vis1=vis*(2.089*10**-2)          #lb*s/ft**2\n",
      "Re1=(d1*vel1*dia1)/vis1    #(slugs.ft/sec**2)/lb\n",
      "\n",
      "#result\n",
      "print \"Re in Bg units=\",round(Re1,1)\n"
     ],
     "language": "python",
     "metadata": {},
     "outputs": [
      {
       "output_type": "stream",
       "stream": "stdout",
       "text": [
        "Re in SI units= 155.7\n",
        "Re in Bg units= 155.6\n"
       ]
      }
     ],
     "prompt_number": 4
    },
    {
     "cell_type": "heading",
     "level": 3,
     "metadata": {},
     "source": [
      "Example 1.5 Page No19"
     ]
    },
    {
     "cell_type": "code",
     "collapsed": false,
     "input": [
      "#Example 1.5\n",
      "#Given\n",
      "vis=0.04                 #lb*sec/ft**2 , viscosity\n",
      "vel=2                     #ft/sec,  velocity\n",
      "h=0.2                    #inches, height\n",
      "\n",
      "#given\n",
      "#u=(3*vel/2)*(1-(y/h)**2)\n",
      "#shearing stress t=vis*(du/dy)\n",
      "#(du/dy)=-(3*vel*y/h)\n",
      "#along the bottom of the wall y=-h\n",
      "#(du/dy)=(3*vel/h)\n",
      "\n",
      "#Calculation\n",
      "t=vis*(3*vel/(h/12))                #lb/ft**2\n",
      "print \"shaering stress t on bottom wall=\",round(t,3),\"lb/ft**2\"\n",
      "#along the midplane y=0\n",
      "#(du/dy)=0\n",
      "t1=0                #lb/ft**2\n",
      "\n",
      "#result\n",
      "print \"shearing stress t on midplane=\",round(t1,3),\"lb/ft**2\"\n"
     ],
     "language": "python",
     "metadata": {},
     "outputs": [
      {
       "output_type": "stream",
       "stream": "stdout",
       "text": [
        "shaering stress t on bottom wall= 14.4 lb/ft**2\n",
        "shearing stress t on midplane= 0.0 lb/ft**2\n"
       ]
      }
     ],
     "prompt_number": 1
    },
    {
     "cell_type": "heading",
     "level": 3,
     "metadata": {},
     "source": [
      "Example 1.6 Page No 21"
     ]
    },
    {
     "cell_type": "code",
     "collapsed": false,
     "input": [
      "#Example 1.6\n",
      "#Given\n",
      "p1=14.7                        #psi(abs), pressure at inlet\n",
      "V1=1                            #ft**3, velocity at inlet\n",
      "V2=0.5                         #ft**3, outlet velocityx\n",
      "#for isentropic compression, (p1(d1**k))=(p2/(d2**k))\n",
      "#volume*density=constant(mass)\n",
      "ratd=V1/V2\n",
      "\n",
      "#Calculation\n",
      "p2=((ratd)**1.66)*p1            #psi(abs)\n",
      "\n",
      "#Result\n",
      "print \"final pressure p2=\",round(p2,3),\"psi(abs)\"\n",
      "\n",
      "#plot\n",
      "import matplotlib.pyplot as plt\n",
      "fig = plt.figure()\n",
      "ax = fig.add_subplot(111)\n",
      "\n",
      "v=[0.1,0.2,0.5,1]\n",
      "p=[900,200,46.5,10]\n",
      "xlabel(\"Vf/Vi\") \n",
      "ylabel(\"p  (psi)\") \n",
      "plt.xlim((0,1))\n",
      "plt.ylim((0,1000))\n",
      "a=plot(v,p)\n",
      "\n",
      "\n",
      "ax.plot([0.5], [46.5], 'o')\n",
      "ax.annotate('(0.5,46.5 psi)', xy=(0.5,50))\n",
      "\n",
      "show(a)\n",
      "\n"
     ],
     "language": "python",
     "metadata": {},
     "outputs": [
      {
       "output_type": "stream",
       "stream": "stdout",
       "text": [
        "final pressure p2= 46.454 psi(abs)\n"
       ]
      },
      {
       "metadata": {},
       "output_type": "display_data",
       "png": "[encoded data removed]"
      }
     ],
     "prompt_number": 5
    },
    {
     "cell_type": "heading",
     "level": 3,
     "metadata": {},
     "source": [
      "Example 1.7 Page No 23"
     ]
    },
    {
     "cell_type": "code",
     "collapsed": false,
     "input": [
      "#Example 1.7\n",
      "#Given\n",
      "s=550                      #(mph), \n",
      "h=35000                  #ft\n",
      "T=-66                     #degrees farenheit, temprature\n",
      "k=1.40                    #W/mK, thermal conductivity\n",
      "\n",
      "#calculation\n",
      "#speed of sound c=(kRT)**0.5\n",
      "c=((k*1716*(T+460)))**0.5          #ft/s\n",
      "\n",
      "#result\n",
      "print \"speed of sound c=\",round(c,3),\"ft/s\"\n",
      "#speed of sound V=(s m/hour)*(5280 ft/m)/(3600 s/hour)\n",
      "V=s*5280/3600          #ft/s\n",
      "print(\"ft/s\",V,\"air speed =\")\n",
      "ratio=V/c                   #Mach number\n",
      "print \"ratio of V/c = Mach Number=\",round(ratio,2)"
     ],
     "language": "python",
     "metadata": {},
     "outputs": [
      {
       "output_type": "stream",
       "stream": "stdout",
       "text": [
        "speed of sound c= 972.906 ft/s\n",
        "('ft/s', 806, 'air speed =')\n",
        "ratio of V/c = Mach Number= 0.83\n"
       ]
      }
     ],
     "prompt_number": 6
    },
    {
     "cell_type": "heading",
     "level": 3,
     "metadata": {},
     "source": [
      "Example 1.8 Page No 26"
     ]
    },
    {
     "cell_type": "code",
     "collapsed": false,
     "input": [
      "#Example 1.8\n",
      "\n",
      "T=20                    #degree celcius, Temprature\n",
      "h=1                      #mm,  height\n",
      "\n",
      "#calculation\n",
      "import math\n",
      "\n",
      "#h=(2*st*math.cos(x)/(sw*R))\n",
      "#where st= nsurface tension, x= angle of contact, sw= specific weight of liquid, R= tube radius\n",
      "st= 0.0728            #N/m\n",
      "sw=9.789              #kN/m**3\n",
      "x=0\n",
      "R=(2*st*math.cos(x))/(sw*1000*h/1000)       #m\n",
      "D=2*R*1000        #mm\n",
      "print \"minimum required tube diameter= \",round(D,1),\"mm\"\n",
      "\n",
      "#Plot\n",
      "h=[0.3,0.5,1,2]\n",
      "D=[100,50,29.8,18]\n",
      "xlabel(\"h  (mm)\") \n",
      "ylabel(\"D  (mm)\") \n",
      "plt.xlim((0,2))\n",
      "plt.ylim((0,100))\n",
      "a=plot(h,D)\n",
      "show(a)"
     ],
     "language": "python",
     "metadata": {},
     "outputs": [
      {
       "output_type": "stream",
       "stream": "stdout",
       "text": [
        "minimum required tube diameter=  29.7 mm\n"
       ]
      },
      {
       "metadata": {},
       "output_type": "display_data",
       "png": "[encoded data removed]"
      }
     ],
     "prompt_number": 7
    }
   ],
   "metadata": {}
  }
 ]
}