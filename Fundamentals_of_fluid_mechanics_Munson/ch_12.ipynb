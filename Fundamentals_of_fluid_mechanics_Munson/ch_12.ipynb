{
 "metadata": {
  "name": "",
  "signature": "sha256:d4c30c3f1179130d9050291ca136a3ec0046b1e377436eb27fedfb1795ff1644"
 },
 "nbformat": 3,
 "nbformat_minor": 0,
 "worksheets": [
  {
   "cells": [
    {
     "cell_type": "heading",
     "level": 1,
     "metadata": {},
     "source": [
      "Chapter 12 :Turbomachines"
     ]
    },
    {
     "cell_type": "heading",
     "level": 3,
     "metadata": {},
     "source": [
      "Example 12.2 Page no.697"
     ]
    },
    {
     "cell_type": "code",
     "collapsed": false,
     "input": [
      "\n",
      "Q=1400.0                                    #gpm, water rate\n",
      "N=1750.0                                    #rpm  speed\n",
      "b=2.0                                       #in  height of blade\n",
      "r1=1.9                                      #in  inner radius\n",
      "r2=7.0                                      #in  outer radius\n",
      "beta2=23.0                                  #degrees  exit blade angle\n",
      "beta2=beta2*3.14/180                        #Radian\n",
      "alpha1=90.0                                 #degrees  water entering angle\n",
      "\n",
      "#Calculation\n",
      "import math\n",
      "U2=r2*2*math.pi*N/(60*12)                            #ft/sec\n",
      "Vr2=(1400/(7.48*60*2*math.pi*(r2/12)*(b/12)))        #ft/sec\n",
      "V2tangential=round(U2,0)-(Vr2*1/(math.tan(beta2)))   #ft/sec\n",
      "hi=U2*V2tangential/32.2                              #ft\n",
      "print \"The ideal head rise=\",round(hi,2),\"ft\"\n",
      "d=1.94                                               #slugs/(ft**3)\n",
      "Wshaft=(d*Q*U2*V2tangential/(7.58*60))/550           #hp\n",
      "  \n",
      "#result\n",
      "print \"Tangential velocity component is \",round(V2tangential,0),\"ft/s\"\n",
      "print \"The power transferred to the fluid=\",round(Wshaft,1),\"hp\""
     ],
     "language": "python",
     "metadata": {},
     "outputs": [
      {
       "output_type": "stream",
       "stream": "stdout",
       "text": [
        "The ideal head rise= 315.27 ft\n",
        "Tangential velocity component is  95.0 ft/s\n",
        "The power transferred to the fluid= 110.226 hp\n"
       ]
      }
     ],
     "prompt_number": 10
    },
    {
     "cell_type": "heading",
     "level": 3,
     "metadata": {},
     "source": [
      "Example 12.3 Page no.702\n"
     ]
    },
    {
     "cell_type": "code",
     "collapsed": false,
     "input": [
      "\n",
      "Q=0.5                 #(ft**3)/sec\n",
      "NPSHr=15         #ft\n",
      "T=80                 #degree F\n",
      "patm=14.7          #psi\n",
      "KL=20\n",
      "D=4.0                #in\n",
      "\n",
      "#Calculation\n",
      "import math\n",
      "V=Q/((math.pi/4)*(D/12.0)**2.0)         #ft/sec\n",
      "hL=KL*(V**2)/(2*32.2)                #ft\n",
      "#from value of T\n",
      "pv=0.5069                                    #psi\n",
      "sw=62.22            #lb/(ft**3) sw =specific weight\n",
      "z1max=(patm*144/sw)-hL-(pv*144/sw)-NPSHr   #ft\n",
      "\n",
      "#result\n",
      "print \"The maximum height at which the pump can be located=\",round(z1max,2),\"feet\""
     ],
     "language": "python",
     "metadata": {},
     "outputs": [
      {
       "output_type": "stream",
       "stream": "stdout",
       "text": [
        "The maximum height at which the pump can be located= 7.65 feet\n"
       ]
      }
     ],
     "prompt_number": 2
    },
    {
     "cell_type": "heading",
     "level": 3,
     "metadata": {},
     "source": [
      "Example 12.5 Page no.708"
     ]
    },
    {
     "cell_type": "code",
     "collapsed": false,
     "input": [
      "\n",
      "D1=8.0                         #in\n",
      "N1=1200.0                    #rpm\n",
      "D2=12.0                        #in\n",
      "N2=1000.0                    #rpm\n",
      "T=60.0                         #degree F\n",
      "CQ=0.0625\n",
      "\n",
      "#Calculation\n",
      "import math\n",
      "Q1=CQ*(N1/60)*(2*math.pi)*(D1/12.0)**3.0    #(ft**3)/sec\n",
      "print \"The discharge=\",round(Q1*7.48*60,0),\"gpm\"\n",
      "CH=0.19\n",
      "ha=CH*((N1*2*math.pi/60)**2.0)*((D1/12)**2.0)/32.2  #ft\n",
      "print \"The actual  headrise=\",round(ha,1),\"ft\"\n",
      "CP=0.014\n",
      "Wshaft=(CP*(1.94)*((N1*2*math.pi/60)**3.0)*((D1/12.0)**5.0))/550.0  #hp\n",
      "\n",
      "#Result\n",
      "print \"The shaft horsepower=\",round(Wshaft,0),\"hp\"\n"
     ],
     "language": "python",
     "metadata": {},
     "outputs": [
      {
       "output_type": "stream",
       "stream": "stdout",
       "text": [
        "The discharge= 1044.0 gpm\n",
        "The actual  headrise= 41.4 ft\n",
        "The shaft horsepower= 13.0 hp\n"
       ]
      }
     ],
     "prompt_number": 4
    },
    {
     "cell_type": "heading",
     "level": 3,
     "metadata": {},
     "source": [
      "Example 12.6 Page no.719"
     ]
    },
    {
     "cell_type": "code",
     "collapsed": false,
     "input": [
      "\n",
      "z0=200                     #ft  height of left section\n",
      "l=1000                     #ft length of pipe\n",
      "f=0.02\n",
      "D=8                        #in. diameter of pipe\n",
      "B=150                      #degree \n",
      "R=1.5                      #ft  radius of wheel\n",
      "z1=0                       #ft    height of right section\n",
      "#calculation\n",
      "import math\n",
      "#energy equation between a point on surface of lake and the nozzle outlet\n",
      "#z0=(V1**2)/(2*32.2) + hL\n",
      "#from continuity equation, V=(A1*V1/A)=((D1/D)**2)*V1\n",
      "#neglecting minor losses, \n",
      "#z0=(1+(f*l/D)*((D1/D)**4))*(V1**2)/(2*32.2)\n",
      "#Wshaft=d*Q*u*(U-V1)*(1-cos(B))\n",
      "#The maximum power occurs at U=V1/2 and dWshaft/dD1=0\n",
      "a=(2*32.2*z0)**(0.5)                                         \n",
      "b=f*(l/(D/12.0))*(1/(D/12.0))**4.0                           \n",
      "c=a*math.pi*1.94*(1-math.cos(B*math.pi/180))/4.0     \n",
      "d=(c*a*a/4)                                          #1.04*(10**6)\n",
      "#by the above conditions, and applying Q=(math.pi*(D1**2)*V1/4)\n",
      "D1=(1/(2*b))**(0.25)                                 #ft, nozzle diameter\n",
      "\n",
      "#result\n",
      "print \"The nozzle diameter for maximum power output=\",round(D1,2),\"ft\"\n",
      "Wshaft=-((d*D1**2)/(1+(b*D1**4))**(1.5))/550.0       #hp\n",
      "print \"The maximum power output=\",round(Wshaft,0),\"hp\"\n",
      "V1=a/(1+(b*(D1**4)))**0.5                            #ft/sec\n",
      "omega=(V1/(2*R))*60/(2*math.pi)                      #rpm\n",
      "print \"The angular velocity of the rotor=\",round(omega,0),\"rpm\"\n"
     ],
     "language": "python",
     "metadata": {},
     "outputs": [
      {
       "output_type": "stream",
       "stream": "stdout",
       "text": [
        "The nozzle diameter for maximum power output= 0.24 ft\n",
        "The maximum power output= -59.0 hp\n",
        "The angular velocity of the rotor= 295.0 rpm\n"
       ]
      }
     ],
     "prompt_number": 5
    },
    {
     "cell_type": "heading",
     "level": 3,
     "metadata": {},
     "source": [
      "Example 12.8 Page no.723"
     ]
    },
    {
     "cell_type": "code",
     "collapsed": false,
     "input": [
      "\n",
      "ri=0.133                      #in.\n",
      "ro=0.168                     #in.\n",
      "N=300000                  #rpm\n",
      "\n",
      "#calculation\n",
      "import math\n",
      "rm=0.5*(ro+ri)/12\n",
      "U=(N*2*math.pi/60)*rm          #ft/sec\n",
      "wshaft=(-U)*(2*U)/32.174       #ft*lb/lbm\n",
      "\n",
      "#Result\n",
      "print \"The shaft energy per unit mass of air=\",round(wshaft,0),\"ft*lb/lbm\""
     ],
     "language": "python",
     "metadata": {},
     "outputs": [
      {
       "output_type": "stream",
       "stream": "stdout",
       "text": [
        "The shaft energy per unit mass of air= -9650.0 Ft*lb/lbm\n"
       ]
      }
     ],
     "prompt_number": 7
    },
    {
     "cell_type": "heading",
     "level": 3,
     "metadata": {},
     "source": [
      "Example 12.9 Page No.727"
     ]
    },
    {
     "cell_type": "code",
     "collapsed": false,
     "input": [
      "\n",
      "w=6.0             #rev/s angular velocity\n",
      "q=10.0            #ft**3/s , flow rate\n",
      "h=20.0          #ft, head\n",
      "gamma=62.4      #lb/ft**3, specific wt\n",
      "n=94            # %, assumed efficiency\n",
      "#calculation\n",
      "import math\n",
      "##rev/min\n",
      "Wshaft=gamma*q*h*(n*10**-2)/(550.0) #shaft power\n",
      "N=w1*math.sqrt(Wshaft)/(h)**(1.25)\n",
      "print \"Accordint to information a mixed flow Francis Turbine must be used.\"\n",
      "\n",
      "g=32.2          #ft/s**2\n",
      "V1=math.sqrt(2*g*h)   #ft/s  velocity\n",
      "D=V1/(w*2*math.pi)    #ft\n",
      "d1=math.sqrt(4*q/(math.pi*V1))\n",
      "print \"So a Pelton wheel with a diameter=\",round(D,3),\"ft\" \"supplied with water through nozzle of diameter=\",round(d1,3),\"ft\" \"is not a practical design.\"\n"
     ],
     "language": "python",
     "metadata": {},
     "outputs": [
      {
       "output_type": "stream",
       "stream": "stdout",
       "text": [
        "Accordint to information a mixed flow Francis Turbine must be used.\n",
        "So a Pelton wheel with a diameter= 0.952 ftsupplied with water through nozzle of diameter= 0.596 ftis not a practical design.\n"
       ]
      }
     ],
     "prompt_number": 19
    }
   ],
   "metadata": {}
  }
 ]
}