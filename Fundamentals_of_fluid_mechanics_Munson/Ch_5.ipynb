{
 "metadata": {
  "name": "",
  "signature": "sha256:c7c5940af2f0332e0055a73277f3e96c5338031f3b285c9ca2e11f04c995d4f4"
 },
 "nbformat": 3,
 "nbformat_minor": 0,
 "worksheets": [
  {
   "cells": [
    {
     "cell_type": "heading",
     "level": 1,
     "metadata": {},
     "source": [
      "Chapter 5:Fluid control volume analysis"
     ]
    },
    {
     "cell_type": "heading",
     "level": 3,
     "metadata": {},
     "source": [
      "Example 5.1 Page no.195"
     ]
    },
    {
     "cell_type": "code",
     "collapsed": false,
     "input": [
      "\n",
      "v2=20.0                     #m/s, nozzle velocity\n",
      "dia2= 40.0                  #mm, nozzle diameter\n",
      "\n",
      "#m1=m2\n",
      "#d1*Q1=D2*Q2 where d1=d2 is density of seawater\n",
      "#hence Q1=Q2\n",
      "#calculation\n",
      "import math\n",
      "Q=v2*(math.pi*((dia2/1000)**2)/4)  #m**3/sec\n",
      "\n",
      "#result\n",
      "print \"Flowrate=\",round(Q,3),\"m**3/s\""
     ],
     "language": "python",
     "metadata": {},
     "outputs": [
      {
       "output_type": "stream",
       "stream": "stdout",
       "text": [
        "Flowrate= 0.025 m**3/s\n"
       ]
      }
     ],
     "prompt_number": 1
    },
    {
     "cell_type": "heading",
     "level": 3,
     "metadata": {},
     "source": [
      "Example 5.2 Page no.196"
     ]
    },
    {
     "cell_type": "code",
     "collapsed": false,
     "input": [
      "\n",
      "v2=1000                         #ft/sec, velocity\n",
      "p1=100                          #psia  pressure inlet\n",
      "p2=18.4                        #psia pressure outlet\n",
      "T1=540                         #degree R, Temprature inlet\n",
      "T2=453                         #degree R Temprature outlet\n",
      "dia=4                            #inches, inside dia of pipe\n",
      "#m1=m2\n",
      "#d1*A1*v1=d2*A2*v2\n",
      "#A1=A2 and d=p/(R*T) since air at pressures and temperatures involved behaves as an ideal gas\n",
      "\n",
      "#calculation\n",
      "v1=p2*T1*v2/(p1*T2)\n",
      "\n",
      "#result\n",
      "print \"Velocity at section 1 =\",round(v1,1),\"ft/s\"\n"
     ],
     "language": "python",
     "metadata": {},
     "outputs": [
      {
       "output_type": "stream",
       "stream": "stdout",
       "text": [
        "Velocity at section 1 = 219.3 ft/s\n"
       ]
      }
     ],
     "prompt_number": 2
    },
    {
     "cell_type": "heading",
     "level": 3,
     "metadata": {},
     "source": [
      "Example5.3Page no.197"
     ]
    },
    {
     "cell_type": "code",
     "collapsed": false,
     "input": [
      "\n",
      "m1=22              #slugs/hr\n",
      "m3=0.5             #slugs/hr\n",
      "#-m1+m2+m3=0\n",
      "m2=m1-m3\n",
      "\n",
      "#result\n",
      "print \"Mass flowrate of the dry air and water \\n vapour leaving the dehumidifier=\",m2,\"slugs/hr\""
     ],
     "language": "python",
     "metadata": {},
     "outputs": [
      {
       "output_type": "stream",
       "stream": "stdout",
       "text": [
        "Mass flowrate of the dry air and water \n",
        " vapour leaving the dehumidifier= 21.5 slugs/hr\n"
       ]
      }
     ],
     "prompt_number": 1
    },
    {
     "cell_type": "heading",
     "level": 3,
     "metadata": {},
     "source": [
      "Example 5.5 Page no.198"
     ]
    },
    {
     "cell_type": "code",
     "collapsed": false,
     "input": [
      "%matplotlib inline"
     ],
     "language": "python",
     "metadata": {},
     "outputs": [
      {
       "output_type": "stream",
       "stream": "stdout",
       "text": [
        "\n",
        "Welcome to pylab, a matplotlib-based Python environment [backend: module://IPython.zmq.pylab.backend_inline].\n",
        "For more information, type 'help(pylab)'.\n"
       ]
      }
     ],
     "prompt_number": 1
    },
    {
     "cell_type": "code",
     "collapsed": false,
     "input": [
      "\n",
      "Q=9.0                        #gal/min, Q=m/d ,flow rate\n",
      "l=5.0                        #ft, length\n",
      "b=2.0                        #ft breadth\n",
      "H=1.5                      #ft, height\n",
      "#continuity equation to water: integral of m= d*((h*b*l)+(H-h)*A) where A is cross-sectional area of faucet\n",
      "#m=d*(b*l-A)*dh/dt, where dh/dt= hrate\n",
      "#m=d*Q\n",
      "#since A<<l*b, it can be neglected and dh/dt=hrate  and  m/d=Q\n",
      "hrate=Q/(b*l)\n",
      "hrate_=hrate*1.604          #Inch/min\n",
      "\n",
      "#result\n",
      "print \"Time rate of change of depth of water in tub =\",round(hrate_,2),\"inch/min\"\n",
      "\n",
      "#Plot\n",
      "Dj=[0,0,10,20,30]\n",
      "h=[0,1.5,1.6,1.8,2.7]\n",
      "a=plot(Dj,h)\n",
      "xlabel(\"Dj  in\") \n",
      "ylabel(\"dh/dt  in/min\") \n",
      "xlim=(0,30)\n",
      "ylim=(0,3)\n",
      "plt.xticks(np.arange(min(Dj), max(Dj)+1, 10))\n",
      "plt.yticks(np.arange(min(h), max(h)+1,0.5))\n",
      "show(a)\n",
      "\n"
     ],
     "language": "python",
     "metadata": {},
     "outputs": [
      {
       "output_type": "stream",
       "stream": "stdout",
       "text": [
        "Time rate of change of depth of water in tub = 1.44 inch/min\n"
       ]
      },
      {
       "metadata": {},
       "output_type": "display_data",
       "png": "[encoded data removed]",
       "text": [
        "<matplotlib.figure.Figure at 0x8134e10>"
       ]
      }
     ],
     "prompt_number": 44
    },
    {
     "cell_type": "heading",
     "level": 3,
     "metadata": {},
     "source": [
      "Example 5.6 Page no.201"
     ]
    },
    {
     "cell_type": "code",
     "collapsed": false,
     "input": [
      "\n",
      "v=971                      #km/hr, aeroplane speed\n",
      "v2=1050                 #km/hr  velocity of exhaust gases\n",
      "A1=0.80                 #m**2  intake area of jet engine\n",
      "d1=0.736               #Kg/m**3  density\n",
      "A2=0.558               #m**2 area of engine\n",
      "d2=0.515             #Kg/m**3, density\n",
      "\n",
      "#w1=v=intake velocity\n",
      "#mass flow rate of fuel intake = d2*A2*w2 - d1*A1*w1\n",
      "w2=v2+v\n",
      "m=(d2*A2*w2 - d1*A1*v)*1000     #in book ,calculation  mistake\n",
      "\n",
      "#Result\n",
      "print \"The mass flow rate of fuel intake = \",round(m,1),\"kg/h\""
     ],
     "language": "python",
     "metadata": {},
     "outputs": [
      {
       "output_type": "stream",
       "stream": "stdout",
       "text": [
        "The mass flow rate of fuel intake =  9050.0 kg/h\n"
       ]
      }
     ],
     "prompt_number": 5
    },
    {
     "cell_type": "heading",
     "level": 3,
     "metadata": {},
     "source": [
      "Example 5.7 Page no.202"
     ]
    },
    {
     "cell_type": "code",
     "collapsed": false,
     "input": [
      "\n",
      "Q=1000                        #ml/s,  flow rate\n",
      "A2=30                         #mm**2  area\n",
      "rotv=600                      #rpm,  revolutionary speed\n",
      "\n",
      "#mass in = mass out\n",
      "w2=(Q*0.001*1000000)/(2*A2*1000)\n",
      "\n",
      "#result\n",
      "print \"Average speed of water leaving each nozzle \\nwhen sprinkle head is stationary and when it rotates with a constant speed of 600rpm  =\",round(w2,1),\"m/s\"\n"
     ],
     "language": "python",
     "metadata": {},
     "outputs": [
      {
       "output_type": "stream",
       "stream": "stdout",
       "text": [
        "Average speed of water leaving each nozzle \n",
        "when sprinkle head is stationary and when it rotates with a constant speed of 600rpm  = 16.67 m/s\n"
       ]
      }
     ],
     "prompt_number": 6
    },
    {
     "cell_type": "heading",
     "level": 3,
     "metadata": {},
     "source": [
      "Example 5.8 Page no.203"
     ]
    },
    {
     "cell_type": "code",
     "collapsed": false,
     "input": [
      "\n",
      "Ap=500                      #mm**2\n",
      "Q2=300                      #cm**3/min\n",
      "Qleak=0.1*Q2            #cm**3/min\n",
      "#A1=Ap\n",
      "#mass conservation in control volume\n",
      "#-d*A1*V + m2 + d*Qleak =0 m2=d*Q2\n",
      "#V=(Q2+Qleak)/Ap\n",
      "V=(Q2+Qleak)*1000/Ap\n",
      "print \"The speed at which the plunger should be advanced=\",round(V,2),\"mm/min\""
     ],
     "language": "python",
     "metadata": {},
     "outputs": [
      {
       "output_type": "stream",
       "stream": "stdout",
       "text": [
        "The speed at which the plunger should be advanced= 660.0 mm/min\n"
       ]
      }
     ],
     "prompt_number": 7
    },
    {
     "cell_type": "heading",
     "level": 3,
     "metadata": {},
     "source": [
      "Example 5.9 Page no.204"
     ]
    },
    {
     "cell_type": "code",
     "collapsed": false,
     "input": [
      "\n",
      "Given\n",
      "Q=9                      #gal/min\n",
      "l=5                        #ft\n",
      "b=2                       #ft\n",
      "H=1.5                    #ft\n",
      "#deforming control volume\n",
      "#hrate=Q/(l*b-A)\n",
      "#A<<l*b\n",
      "hrate=Q*12/(l*b*7.48)\n",
      "print \"Time rate of change of depth of water in tub =\",round(hrate,3),\"inch/min\""
     ],
     "language": "python",
     "metadata": {},
     "outputs": [
      {
       "output_type": "stream",
       "stream": "stdout",
       "text": [
        "Time rate of change of depth of water in tub = 1.444 inch/min\n"
       ]
      }
     ],
     "prompt_number": 8
    },
    {
     "cell_type": "heading",
     "level": 3,
     "metadata": {},
     "source": [
      "Example 5.11 Page no.208"
     ]
    },
    {
     "cell_type": "code",
     "collapsed": false,
     "input": [
      "\n",
      "dia1=16.0                      #mm\n",
      "h=30.0                         #mm\n",
      "dia2=5.0                       #mm\n",
      "Q=0.6                        #litre/sec\n",
      "mass=0.1                     #kg\n",
      "p1=464.0                       #kPa\n",
      "d=999.0                        #kg/m**3\n",
      "m=d*Q*10**-3                   #kg/s\n",
      "\n",
      "#calculation\n",
      "import math\n",
      "A1=math.pi*((dia1/1000)**2)/4     #m**2\n",
      "w1=Q/(A1*1000)                         #m/s\n",
      "A2=math.pi*((dia2/1000)**2)/4    #m**2\n",
      "w2=Q/(A2*1000)                         #m/s\n",
      "Wnozzle=mass*9.81                    #N\n",
      "volwater=((1/12)*(math.pi)*(h)*((dia1**2)+(dia2**2)+(dia1*dia2)))/(1000**3)   #m**3\n",
      "Wwater=d*volwater*9.81                                       #N\n",
      "F=m*(w1-w2)+Wnozzle+(p1*1000*A1)+Wwater   #N\n",
      "\n",
      "#result\n",
      "print \"The anchoring force=\",round(F,3),\"N\""
     ],
     "language": "python",
     "metadata": {},
     "outputs": [
      {
       "output_type": "stream",
       "stream": "stdout",
       "text": [
        "The anchoring force= 77.746 N\n"
       ]
      }
     ],
     "prompt_number": 9
    },
    {
     "cell_type": "heading",
     "level": 3,
     "metadata": {},
     "source": [
      "Example 5.12 Page no.212"
     ]
    },
    {
     "cell_type": "code",
     "collapsed": false,
     "input": [
      "\n",
      "A=0.1            #ft**2\n",
      "v=50             #ft/s\n",
      "p1=30          #psia\n",
      "p2=24          #psia\n",
      "\n",
      "d=1.94       #slugs/ft**3\n",
      "#v1=v2=v and A1=A2=A\n",
      "m=d*v*A\n",
      "Fay=-m*(v+v)-((p1-14.7)*A*144)-((p2-14.7)*A*144)\n",
      "\n",
      "#result\n",
      "print \"The y component of anchoring force is \",round(Fay,2),\"lb\" \"\\n and the x component of anchoring force is\",0,\"lb\""
     ],
     "language": "python",
     "metadata": {},
     "outputs": [
      {
       "output_type": "stream",
       "stream": "stdout",
       "text": [
        "The y component of anchoring force is  -1324.24 lb\n",
        " and the x component of anchoring force is 0 lb\n"
       ]
      }
     ],
     "prompt_number": 10
    },
    {
     "cell_type": "heading",
     "level": 3,
     "metadata": {},
     "source": [
      "Example 5.13 Page no.214"
     ]
    },
    {
     "cell_type": "code",
     "collapsed": false,
     "input": [
      "\n",
      "p1=100.0                        #psia\n",
      "p2=18.4                        #psia\n",
      "T1=540.0                       #degree R\n",
      "T2=453.0                       #degree R\n",
      "V2=1000.0                      #ft/s\n",
      "V1=219.0                       #ft/s\n",
      "dia=4.0                        #in\n",
      "\n",
      "#m=m1=m2\n",
      "import math\n",
      "A2=math.pi*((4.0/12.0)**2.0)/dia       #ft**2\n",
      "#equation of state d*R*T=p\n",
      "d2=p2*144/(1716*T2)\n",
      "m=A2*d2*V2               #slugs/s\n",
      "Rx=A2*144*(p1-p2)-(m*(V2-V1))    #lb\n",
      "\n",
      "#result\n",
      "print \"Frictional force exerted by pipe wall on air flow=\",round(Rx,0),\"lb\""
     ],
     "language": "python",
     "metadata": {},
     "outputs": [
      {
       "output_type": "stream",
       "stream": "stdout",
       "text": [
        "Frictional force exerted by pipe wall on air flow= 793.0 lb\n"
       ]
      }
     ],
     "prompt_number": 11
    },
    {
     "cell_type": "heading",
     "level": 3,
     "metadata": {},
     "source": [
      "Example 5.15 Page no.216"
     ]
    },
    {
     "cell_type": "code",
     "collapsed": false,
     "input": [
      "\n",
      "v1=200.0                #m/s\n",
      "v2=500.0                #m/s\n",
      "A1=1.0                  #m**2\n",
      "p1=78.5                 #kPa(abs)\n",
      "T1=268.0                #K\n",
      "p2=101.0                #kPa(abs)\n",
      "\n",
      "#F=-p1*A1 + p2*A2 + m*(v2-v1)\n",
      "#m=d1*A1*v1\n",
      "#d1=(p1)/(R*T1)\n",
      "d1=(p1*1000)/(286.9*T1)\n",
      "m=round(d1,2)*v1*A1\n",
      "F=-((p1-p2)*A1*1000) + m*(v2-v1)\n",
      "\n",
      "#Result\n",
      "print \"The thrust for which the stand is to be designed=\",round(F,3),\"N\""
     ],
     "language": "python",
     "metadata": {},
     "outputs": [
      {
       "output_type": "stream",
       "stream": "stdout",
       "text": [
        "The thrust for which the stand is to be designed= 83700.0 N\n"
       ]
      }
     ],
     "prompt_number": 12
    },
    {
     "cell_type": "heading",
     "level": 3,
     "metadata": {},
     "source": [
      "Example 5.17 Page no.219"
     ]
    },
    {
     "cell_type": "code",
     "collapsed": false,
     "input": [
      "\n",
      "v1=100.0                        #ft/sec\n",
      "v0=20.0                         #ft/sec\n",
      "ang=45                           #degrees\n",
      "A1=0.006                      #ft**2\n",
      "l=1                                #ft\n",
      "\n",
      "#Calculation\n",
      "import math\n",
      "#m1=m2=m continuity equation\n",
      "#d=density of water= constant\n",
      "#w=speed of water relative to the moving control volume=constant=w1=w2\n",
      "#w1=v1-v0\n",
      "w=v1-v0\n",
      "d=1.94                          #slugs/ft**3\n",
      "#-Rx=(w1)(-m1)+(w2*math.cos(ang))(m2)\n",
      "Rx=d*(w**2)*A1*(1-math.cos(ang*math.pi/180))\n",
      "#wwater=(specific wt of water)*A1*l\n",
      "wwater=62.4*A1*l\n",
      "Rz=(d*(w**2)*(math.sin(ang*math.pi/180))*A1)+wwater\n",
      "R=((Rx**2)+(Rz**2))**0.5\n",
      "angle=(math.atan(Rz/Rx))*180/(math.pi)\n",
      "\n",
      "#Result\n",
      "print \"The force exerted by stream of water on vane surface=\",round(R,3),\"lb\"\n",
      "print \"The force points right and down from the x direction at an angle of=\",round(angle,3),\"degree\"\n"
     ],
     "language": "python",
     "metadata": {},
     "outputs": [
      {
       "output_type": "stream",
       "stream": "stdout",
       "text": [
        "The force exerted by stream of water on vane surface= 57.363 lb\n",
        "The force points right and down from the x direction at an angle of= 67.643 degree\n"
       ]
      }
     ],
     "prompt_number": 13
    },
    {
     "cell_type": "heading",
     "level": 3,
     "metadata": {},
     "source": [
      "Example 5.18 Page no.225"
     ]
    },
    {
     "cell_type": "code",
     "collapsed": false,
     "input": [
      "\n",
      "Q=1000.0                      #ml/sec\n",
      "A=30.0                         #mm**2\n",
      "r=200.0                        #mm\n",
      "n=500.0                       # rev/min\n",
      "#v2 is tangential v2=vang2\n",
      "m=(Q/1000000)*999   #kg/sec\n",
      "#m=2*d*(A)*v2=d*Q\n",
      "v2=(Q)/(2*A)              #m/sec\n",
      "#Torque reuired to hold sprinkler stationary\n",
      "Tshaft=(-(r/1000)*(v2)*m)           #Nm\n",
      "#u2=speed of nozzle=r*omega\n",
      "#v21=v2-u2\n",
      "import math\n",
      "omega=n*(2*math.pi)/60   #rad/sec\n",
      "v21=v2-(r*omega/1000)\n",
      "#resisting torque when sprinker is rotating at a constant speed of n rev/min\n",
      "Tshaft1=(-(r/1000)*(v21)*m)       #Nm\n",
      "#when no resistintg torque is applied\n",
      "#Tshaft=0\n",
      "omega1=v2/(r/1000)\n",
      "n1=(omega1)*60/(2*math.pi)     #rpm\n",
      "\n",
      "#result\n",
      "print \"Resisting torque required to hold the sprinker stationary=\",round(Tshaft1,3),\"Nm\"\n",
      "print \"Resisting torque when sprinker is rotating at a constant speed of 500 rev/min=\",round(Tshaft,3),\"Nm\"\n",
      "print \"Speed of sprikler when no resisting torque is applied=\",round(n1,0),\"rpm\"\n",
      "\n",
      "#Plot\n",
      "w=[0,800]\n",
      "T=[-3.3,0]\n",
      "xlabel(\"w  (rpm)\") \n",
      "ylabel(\"T  (Nm)\") \n",
      "plt.xlim((0,800))\n",
      "plt.ylim((0,-4))\n",
      "a=plot(w,T)\n",
      "show(a)"
     ],
     "language": "python",
     "metadata": {},
     "outputs": [
      {
       "output_type": "stream",
       "stream": "stdout",
       "text": [
        "Resisting torque required to hold the sprinker stationary= -1.238 Nm\n",
        "Resisting torque when sprinker is rotating at a constant speed of 500 rev/min= -3.33 Nm\n",
        "Speed of sprikler when no resisting torque is applied= 796.0 rpm\n"
       ]
      },
      {
       "metadata": {},
       "output_type": "display_data",
       "png": "[encoded data removed]"
      }
     ],
     "prompt_number": 3
    },
    {
     "cell_type": "heading",
     "level": 3,
     "metadata": {},
     "source": [
      "Example 5.19 Page no. 228"
     ]
    },
    {
     "cell_type": "code",
     "collapsed": false,
     "input": [
      "\n",
      "h=1.0                        #in\n",
      "Q=230.0                   #ft**3/min\n",
      "ang=30.0                  #degrees\n",
      "dia1=10.0                 #in\n",
      "dia2=12.0                 #in\n",
      "n=1725.0                 #rpm\n",
      "#m=d*Q\n",
      "m=(2.38*10**-3)*Q/60\n",
      "#u2=rotor blade speed\n",
      "import math\n",
      "u2=(dia2/2)*(n*2*(math.pi)/(12*60))\n",
      "\n",
      "#calculation\n",
      "#result\n",
      "#m=d*A2*Vr2 and A2=2*math.pi*r2*h and r2=dia2**2\n",
      "#hence, m=d*2*math.pi*r2*h*Vr2\n",
      "#Vr2=w2*math.sin(ang)\n",
      "w2=m*12*12/((2.38*10**-3)*2*(math.pi)*(dia2/2)*(h)*(math.sin(math.pi/6)))      #ft**sec\n",
      "V2=u2-(w2*(math.cos(math.pi/6)))           #ft**sec\n",
      "Wshaft=m*u2*V2/(550)                             #hp\n",
      "\n",
      "#Result\n",
      "print \"The power required to run the fan=\",round(Wshaft,4),\"hp\"\n"
     ],
     "language": "python",
     "metadata": {},
     "outputs": [
      {
       "output_type": "stream",
       "stream": "stdout",
       "text": [
        "The power required to run the fan= 0.0973 hp\n"
       ]
      }
     ],
     "prompt_number": 1
    },
    {
     "cell_type": "heading",
     "level": 3,
     "metadata": {},
     "source": [
      "Example 5.20 Page no.234"
     ]
    },
    {
     "cell_type": "code",
     "collapsed": false,
     "input": [
      "\n",
      "Q=300.0                #gal/min    \n",
      "d1=3.5                #in.\n",
      "p1=18.0              #psi\n",
      "d2=1.0                 #in.\n",
      "p2=60.0                #psi\n",
      "diffu=3000#ft*lb/slug\n",
      "\n",
      "#calculation\n",
      "import math\n",
      "#energy equation\n",
      "#m(u2-u1+(p1/d)-(p2/d)+((v2**2)-(v1**2))/2 + g*(z2-z1))=q-Wshaft\n",
      "m=Q*1.94/(7.48*60)               #slugs/sec\n",
      "v1=Q*12*12/(math.pi*(d1**2)*60*7.48/4)\n",
      "v2=Q*12*12/(math.pi*(d2**2)*7.48*60/4)\n",
      "Wshaft=m*(diffu + (p2*144/1.94) - (p1*144/1.94) + (((v2**2)-(v1**2))/2))/550.0        #hp\n",
      "\n",
      "#result\n",
      "print \"The power required by the pump=\",round(Wshaft,1),\"hp\"\n",
      "print \"The internal energy change accounts for =\",round(m*(diffu/550),1),\"hp\"\n",
      "print \"The pressure rise accounts for =\",round(m*(((p2*144/1.94) - (p1*144/1.94))/550),1),\"hp\"\n",
      "print \"The kinetic energy change accounts for =\",round(m*(((v2**2)-(v1**2))/(550*2)),1),\"hp\"\n"
     ],
     "language": "python",
     "metadata": {},
     "outputs": [
      {
       "output_type": "stream",
       "stream": "stdout",
       "text": [
        "The power required by the pump= 32.0 hp\n",
        "The internal energy change accounts for = 6.5 hp\n",
        "The pressure rise accounts for = 7.4 hp\n",
        "The kinetic energy change accounts for = 17.6 hp\n"
       ]
      }
     ],
     "prompt_number": 17
    },
    {
     "cell_type": "heading",
     "level": 3,
     "metadata": {},
     "source": [
      "Example 5.21 Page no.234"
     ]
    },
    {
     "cell_type": "code",
     "collapsed": false,
     "input": [
      "\n",
      "v1=30                     #m/s\n",
      "h1=3348                 #kJ/kg\n",
      "v2=60                    #m/s \n",
      "h2=2550                #kJ/kg\n",
      "\n",
      "#energy equation   \n",
      "#wshaftin=Wshaftin/m= (h2-h1 + ((v2**2)-(v1**2))/2)\n",
      "#wshaftout=-wshaftin\n",
      "wshaftout=h1-h2 + (((v1**2)-(v2**2))/2000)\n",
      "\n",
      "#Result\n",
      "print \"The work output involved per unit mass of steam through-flow=\",round(wshaftout,3),\"kj/kg\"\n"
     ],
     "language": "python",
     "metadata": {},
     "outputs": [
      {
       "output_type": "stream",
       "stream": "stdout",
       "text": [
        "The work output involved per unit mass of steam through-flow= 796.0 kj/kg\n"
       ]
      }
     ],
     "prompt_number": 18
    },
    {
     "cell_type": "heading",
     "level": 3,
     "metadata": {},
     "source": [
      "Example 5.22 Page no. 235"
     ]
    },
    {
     "cell_type": "code",
     "collapsed": false,
     "input": [
      "\n",
      "z=500              #ft\n",
      "#energy equation\n",
      "#T2-T1 = (u2 - u1)/c = g*(z2 - z1)/c c=specific heat of water = 1 Btu/(lbm* degree R)\n",
      "diffT = 32.2*z/(778*32.2)     #degree R\n",
      "\n",
      "#result\n",
      "print \"The temperature change associated with this flow=\",round(diffT,3),\"degree R\""
     ],
     "language": "python",
     "metadata": {},
     "outputs": [
      {
       "output_type": "stream",
       "stream": "stdout",
       "text": [
        "The temperature change associated with this flow= 0.643 degree R\n"
       ]
      }
     ],
     "prompt_number": 19
    },
    {
     "cell_type": "heading",
     "level": 3,
     "metadata": {},
     "source": [
      "Example 5.23 Page no.237"
     ]
    },
    {
     "cell_type": "code",
     "collapsed": false,
     "input": [
      "\n",
      "dia=120.0                   #mm\n",
      "p=1.0                        #kPa\n",
      "\n",
      "#using energy equation\n",
      "#Q=A2*v2=A2*((p1-p2)/(d*(1+Kl)/2)) d =density, Kl= loss coefficient\n",
      "Kl1=0.05\n",
      "Kl2=0.5\n",
      "#for rounded entrance cyliindrical vent\n",
      "import math\n",
      "Q1=(math.pi*((dia/1000)**2)/4)*(p*1000*2/(1.23*(1+Kl1)))**0.5\n",
      "#for cylindrical vent\n",
      "Q2=(math.pi*((dia/1000)**2)/4)*(p*1000*2/(1.23*(1+Kl2)))**0.5\n",
      "\n",
      "#result\n",
      "print \"The volume fowrate associated with the rounded entrance \\ncylindrical vent configuration =\",round(Q1,3),\"m**3/s\"\n",
      "print \"The volume fowrate associated with the cylindrical vent configuration =\",round(Q2,3),\"m**3/s\"\n",
      "\n",
      "#Plot\n",
      "import matplotlib.pyplot as plt\n",
      "fig = plt.figure()\n",
      "ax = fig.add_subplot(111)\n",
      "\n",
      "k=[0,0.005,0.5]\n",
      "Q=[0.450,0.445,0.372]\n",
      "xlabel(\"k (mm)\") \n",
      "ylabel(\"Q  (m**3/s)\") \n",
      "plt.xlim((0,0.5))\n",
      "plt.ylim((0,0.5))\n",
      "\n",
      "ax.plot([0.05], [0.441], 'o')\n",
      "ax.annotate('(0.05,0.445 m**3/s)', xy=(0.05,0.44))\n",
      "ax.plot([0.5], [0.372], 'o')\n",
      "ax.annotate('(0.5,0.372 m**3/s)', xy=(0.5,0.37))\n",
      "a=plot(k,Q)\n",
      "show(a)"
     ],
     "language": "python",
     "metadata": {},
     "outputs": [
      {
       "output_type": "stream",
       "stream": "stdout",
       "text": [
        "The volume fowrate associated with the rounded entrance \n",
        "cylindrical vent configuration = 0.445 m**3/s\n",
        "The volume fowrate associated with the cylindrical vent configuration = 0.372 m**3/s\n"
       ]
      },
      {
       "metadata": {},
       "output_type": "display_data",
       "png": "[encoded data removed]"
      }
     ],
     "prompt_number": 5
    },
    {
     "cell_type": "heading",
     "level": 3,
     "metadata": {},
     "source": [
      "Example 5.24Page no.239"
     ]
    },
    {
     "cell_type": "code",
     "collapsed": false,
     "input": [
      "\n",
      "p=0.4                     #kW\n",
      "dia=0.6                  #m\n",
      "v2=12                    #m/s\n",
      "v1=0                     #m/s\n",
      "\n",
      "#calculation\n",
      "#energy equation\n",
      "import math\n",
      "Wuseful=(v2**2)/2\n",
      "#wshaftin= Wshaftin/m\n",
      "wshaftin=(p*1000)/(1.23*math.pi*(0.6**2)*12/4)\n",
      "eff=Wuseful/wshaftin\n",
      "\n",
      "#result\n",
      "print \"The work to air which provides useful effect=\",round(Wuseful,3),\"Nm/kg\"\n",
      "print \"Fluid mechanical efficiency of this fan=\",round(eff)"
     ],
     "language": "python",
     "metadata": {},
     "outputs": [
      {
       "output_type": "stream",
       "stream": "stdout",
       "text": [
        "The work to air which provides useful effect= 72.0 Nm/kg\n",
        "Fluid mechanical efficiency of this fan= 1.0\n"
       ]
      }
     ],
     "prompt_number": 21
    },
    {
     "cell_type": "heading",
     "level": 3,
     "metadata": {},
     "source": [
      "Example 5.25 Page no.241"
     ]
    },
    {
     "cell_type": "code",
     "collapsed": false,
     "input": [
      "\n",
      "#given\n",
      "p=10.0                        #hp\n",
      "z=30.0                        #ft\n",
      "hl=15.0                       #ft\n",
      "\n",
      "#calculation\n",
      "#energy equation\n",
      "#hs=Wshaftin/(sw*Q) = hl+z\n",
      "Q=(p*550)/((hl+z)*62.4)\n",
      "wloss=62.4*Q*hl/550\n",
      "\n",
      "#result\n",
      "print \"Flowrate =\",round(Q,3),\"ft**3/s\"\n",
      "print \"Power loss=\",round(wloss,3),\"hp\"\n",
      "\n",
      "#plot\n",
      "import matplotlib.pyplot as plt\n",
      "fig = plt.figure()\n",
      "ax = fig.add_subplot(111)\n",
      "\n",
      "h=[0,5,15,25]\n",
      "Q=[3,2.5,1.96,1.6]\n",
      "xlabel(\"h  (ft)\") \n",
      "ylabel(\"Q  (ft**3/s)\") \n",
      "plt.xlim((0,25))\n",
      "plt.ylim((0,3.5))\n",
      "ax.plot([15], [1.96], 'o')\n",
      "ax.annotate('(15ft,1.96ft**3/s)', xy=(15,2))\n",
      "\n",
      "a=plot(h,Q)\n",
      "show(a)"
     ],
     "language": "python",
     "metadata": {},
     "outputs": [
      {
       "output_type": "stream",
       "stream": "stdout",
       "text": [
        "Flowrate = 1.959 ft**3/s\n",
        "Power loss= 3.333 hp\n"
       ]
      },
      {
       "metadata": {},
       "output_type": "display_data",
       "png": "[encoded data removed]"
      }
     ],
     "prompt_number": 7
    },
    {
     "cell_type": "heading",
     "level": 3,
     "metadata": {},
     "source": [
      "Example 5.26 Page no.243"
     ]
    },
    {
     "cell_type": "code",
     "collapsed": false,
     "input": [
      "\n",
      "m=0.1                            #kg/min\n",
      "dia1=60.0                       #mm\n",
      "alpha1=2.0\n",
      "dia2=30.0                       #mm\n",
      "alpha2=1.08\n",
      "p=0.1                             #kPa\n",
      "power=0.14                    #W\n",
      "\n",
      "#calculation\n",
      "import math\n",
      "wshaftin=power*60/m     #Nm/kg\n",
      "vavg1=m*1000*1000/(60*1.23*math.pi*dia1*dia1/4)\n",
      "vavg2=m*1000*1000/(60*1.23*math.pi*dia2*dia2/4)\n",
      "loss1=wshaftin-(p*1000/1.23)+((vavg1**2)/2)-((vavg2**2)/2)                          #Nm/kg\n",
      "loss2=wshaftin-(p*1000/1.23)+(alpha1*(vavg1**2)/2)-(alpha2*(vavg2**2)/2)   #Nm/kg\n",
      "\n",
      "#Result\n",
      "print \"Loss for uniform velocity profile=\",round(loss1,3),\"Nm/kg\"\n",
      "print \"Loss for actual velocity profile=\",round(loss2,2),\"Nm/kg\"\n"
     ],
     "language": "python",
     "metadata": {},
     "outputs": [
      {
       "output_type": "stream",
       "stream": "stdout",
       "text": [
        "Loss for uniform velocity profile= 0.977 Nm/kg\n",
        "Loss for actual velocity profile= 0.94 Nm/kg\n"
       ]
      }
     ],
     "prompt_number": 1
    },
    {
     "cell_type": "heading",
     "level": 3,
     "metadata": {},
     "source": [
      "Example 5.29 Page no.250"
     ]
    },
    {
     "cell_type": "code",
     "collapsed": false,
     "input": [
      "\n",
      "p1=100.0                     #psia\n",
      "T1=520.0                  #degree R\n",
      "p2=14.7                    #psia\n",
      "\n",
      "#for incompressible flow\n",
      "\n",
      "d=p1*144/(1716*T1)      #where d=density, calculated by assuminng air to behave like an ideal gas\n",
      "#Bernoulli equation\n",
      "v2=(2*(p1-p2)*144/(round(d,4)))**0.5          #ft/sec\n",
      "\n",
      "print \"The velocity of expanded air considering incompressible flow =\",round(v2,2),\"ft/s\"\n",
      "\n",
      "#for compressible flow\n",
      "\n",
      "k=1.4                    #for air\n",
      "d1=d\n",
      "d2=d1*((p2/p1)**(1/k))#where d2=density of expanded air\n",
      "#bernoulli equation\n",
      "V2_=((2*k/(k-1))*((p1*144/d1)-(p2*144/d2)))**0.5         #ft/s\n",
      "#result\n",
      "print \"The velocity of expanded air considering compressible flow =\",round(V2_,3),\"ft/s\"\n"
     ],
     "language": "python",
     "metadata": {},
     "outputs": [
      {
       "output_type": "stream",
       "stream": "stdout",
       "text": [
        "The velocity of expanded air considering incompressible flow = 1235.26 ft/s\n",
        "The velocity of expanded air considering compressible flow = 1623.133 ft/s\n"
       ]
      }
     ],
     "prompt_number": 2
    }
   ],
   "metadata": {}
  }
 ]
}