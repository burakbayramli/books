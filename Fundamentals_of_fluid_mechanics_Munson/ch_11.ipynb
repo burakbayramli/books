{
 "metadata": {
  "name": "",
  "signature": "sha256:f42944f5597b07b987f9572f10e4c9b04463b79fa1fecfbff1f6c9ad9b576c2b"
 },
 "nbformat": 3,
 "nbformat_minor": 0,
 "worksheets": [
  {
   "cells": [
    {
     "cell_type": "heading",
     "level": 1,
     "metadata": {},
     "source": [
      "Chapter 11:Compressible flow"
     ]
    },
    {
     "cell_type": "heading",
     "level": 3,
     "metadata": {},
     "source": [
      "Example 11.1 page no 617."
     ]
    },
    {
     "cell_type": "code",
     "collapsed": false,
     "input": [
      "\n",
      "D=4.0                     #in\n",
      "T1=540.0                #degree R\n",
      "p1=100.0                #psia\n",
      "T2=453.0               #degree R\n",
      "p2=18.4                 #psia\n",
      "k=1.4\n",
      "R=1716/32.174        #ft*lb/(lbm*(degree R))\n",
      "cv=R/(k-1)              #ft*lb/(lbm*(degree R))\n",
      "udiff=cv*(T2-T1)    #ft*lb/lbm change in internal energy\n",
      "\n",
      "#Result\n",
      "print \"a)The change in internal energy between (1) and (2)=\",round(udiff,2),\"ft*lb/lbm\"\n",
      "cp=k*round(cv,0)                  #ft*lb/(lbm*(degree R))\n",
      "hdiff=cp*(T2-T1)    #ft*lb/lbm change in enthalpy\n",
      "print \"b)The  change in enthalpy between (1) and (2)=\",round(hdiff,0),\"ft*lb/lbm\"\n",
      "ddiff=(1/R)*((p2*144/T2)-(p1*144/T1))  #lbm/(ft**3) change in density\n",
      "\n",
      "#Result\n",
      "print \"The change in density betwenn (1) and (2)=\",round(ddiff,3),\"ft*lb/lbm\"\n"
     ],
     "language": "python",
     "metadata": {},
     "outputs": [
      {
       "output_type": "stream",
       "stream": "stdout",
       "text": [
        "a)The change in internal energy between (1) and (2)= -11600.36 ft*lb/lbm\n",
        "b)The  change in enthalpl energy between (1) and (2)= -16199.0 ft*lb/lbm\n",
        "The change in density betwenn (1) and (2)= -0.39 ft*lb/lbm\n"
       ]
      }
     ],
     "prompt_number": 16
    },
    {
     "cell_type": "heading",
     "level": 3,
     "metadata": {},
     "source": [
      "Example 11.2 page no.619"
     ]
    },
    {
     "cell_type": "code",
     "collapsed": false,
     "input": [
      "\n",
      "D=4.0              #in\n",
      "T1=540.0         #degree R\n",
      "p1=100.0          #psia\n",
      "T2=453.0         #degree R\n",
      "p2=18.4           #psia\n",
      "\n",
      "#Calculation\n",
      "import math\n",
      "dratio=(p1/T1)*(T2/p2)\n",
      "sdif=(cv*(math.log(T2/T1)))+(R*(math.log(dratio)))#ft*lb/lbm*(degree R) change in entropy\n",
      "\n",
      "#Result\n",
      "print \"The change in entropy between (1) and (2)=\",round(sdif,1),\"ft*lb/lbm*(degree R)\"\n"
     ],
     "language": "python",
     "metadata": {},
     "outputs": [
      {
       "output_type": "stream",
       "stream": "stdout",
       "text": [
        "The change in entropy between (1) and (2)= 57.49 ft*lb/lbm*(degree R)\n"
       ]
      }
     ],
     "prompt_number": 15
    },
    {
     "cell_type": "heading",
     "level": 3,
     "metadata": {},
     "source": [
      "Example 11.3 page no.623"
     ]
    },
    {
     "cell_type": "code",
     "collapsed": false,
     "input": [
      "\n",
      "T=0                #degree C\n",
      "R=286.9         #J/(kg*K)\n",
      "k=1.401\n",
      "c=(R*(T+273.15)*k)**0.5        #m/s\n",
      "\n",
      "#Result\n",
      "print \"The speed of sound for air at 0 degree C =\",round(c,1),\"m/s\"\n"
     ],
     "language": "python",
     "metadata": {},
     "outputs": [
      {
       "output_type": "stream",
       "stream": "stdout",
       "text": [
        "The speed of sound for air at 0 degree C = 331.35 m/s\n"
       ]
      }
     ],
     "prompt_number": 16
    },
    {
     "cell_type": "heading",
     "level": 3,
     "metadata": {},
     "source": [
      "Example 11.4 page no.628"
     ]
    },
    {
     "cell_type": "code",
     "collapsed": false,
     "input": [
      "%matplotlib inline"
     ],
     "language": "python",
     "metadata": {},
     "outputs": [
      {
       "output_type": "stream",
       "stream": "stdout",
       "text": [
        "\n",
        "Welcome to pylab, a matplotlib-based Python environment [backend: module://IPython.zmq.pylab.backend_inline].\n",
        "For more information, type 'help(pylab)'.\n"
       ]
      }
     ],
     "prompt_number": 1
    },
    {
     "cell_type": "code",
     "collapsed": false,
     "input": [
      "\n",
      "z=1000                        #m\n",
      "Ma=1.5\n",
      "T=20                        #degree C\n",
      "#alpha=atan(z/x), x=V*t,and Ma=(1/sin(alpha)) where alpha is the angle of the Mach cone\n",
      "#V=Ma*c\n",
      "#calculation\n",
      "import math\n",
      "c=343.3                  #m/s found from the value of temperature\n",
      "V=Ma*c                #m/sec\n",
      "t=z/(Ma*c*math.tan(math.asin(1/Ma)))       #sec\n",
      "print\"The number of seconds to wait after the plane passes over-head before it is heard=\",round(t,2),\"s\"\n",
      "\n",
      "#Plot\n",
      "import matplotlib.pyplot as plt\n",
      "fig = plt.figure()\n",
      "ax = fig.add_subplot(111)\n",
      "\n",
      "Ma=[1,1.1,1.3,1.5,2,4]\n",
      "t=[0,1.5,2,2.17,2.3,2.75]\n",
      "xlabel(\"Ma\") \n",
      "ylabel(\"t  (s)\") \n",
      "plt.xlim((0,4))\n",
      "plt.ylim((0,3))\n",
      "ax.plot([1.5], [2.17], 'o')\n",
      "ax.annotate('(1.5,2.17s)', xy=(1.7,2.1))\n",
      "a=plot(Ma,t)\n"
     ],
     "language": "python",
     "metadata": {},
     "outputs": [
      {
       "output_type": "stream",
       "stream": "stdout",
       "text": [
        "The number of seconds to wait after the plane passes over-head before it is heard= 2.17 s\n"
       ]
      },
      {
       "metadata": {},
       "output_type": "display_data",
       "png": "[encoded data removed]"
      }
     ],
     "prompt_number": 4
    },
    {
     "cell_type": "heading",
     "level": 3,
     "metadata": {},
     "source": [
      "Example 11.5 page no.635"
     ]
    },
    {
     "cell_type": "code",
     "collapsed": false,
     "input": [
      " \n",
      "A=1*(10**(-4))                    #m**2\n",
      "p1=80.0                             #kPa(abs)\n",
      "p2=40.0                             #kPa(abs)\n",
      "p0=101.0                            #kPa(abs)\n",
      "pcritical=0.528*p0                  #kPa(abs)\n",
      "k=1.4\n",
      "#for (a) pth=p1>pcritical\n",
      "Math1=((((p0/p1)**((k-1)/k))-1)/((k-1)/2))**(0.5)           #Math=Mach number at throat\n",
      "#dth/d0=p1/p0 dth=density at throat\n",
      "dth1=(1.23)*(1/(1+(((k-1)/2)*(Math1**2))))**(1/(k-1))     #kg/(m**3) density at throat\n",
      "Tth1=(288)*(1/(1+(((k-1)/2)*(Math1**2))))                  #K temperature at throat\n",
      "Vth1=Math1*(286.9*269*k)**(0.5)             #m/sec\n",
      "m1=dth1*A*Vth1             #kg/sec\n",
      "\n",
      "#Result\n",
      "print \"a) The mass flowrate through the duct=\",round(m1,4),\"kg/s\"\n",
      "#for (b) pth=p2<pcritical, hence\n",
      "Math2=1\n",
      "dth2=1.23*(1/(1+(((k-1)/2)*(Math2**2))))**(1/(k-1))    #kg/(m**3) density at throat\n",
      "Tth2=(288)*(1/(1+(((k-1)/2)*(Math2**2))))                 #K temperature at throat\n",
      "Vth2=Math2*(286.9*Tth2*k)**0.5                             #m/sec\n",
      "m2=dth2*A*Vth2             #kg/sec\n",
      "print \"b) The mass flowrate through the duct=\",round(m2,3),\"kg/s\"\n"
     ],
     "language": "python",
     "metadata": {},
     "outputs": [
      {
       "output_type": "stream",
       "stream": "stdout",
       "text": [
        "a) The mass flowrate through the duct= 0.0201 kg/s\n",
        "b) The mass flowrate through the duct= 0.024 kg/s\n"
       ]
      }
     ],
     "prompt_number": 20
    },
    {
     "cell_type": "heading",
     "level": 3,
     "metadata": {},
     "source": [
      "Example 11.6 page no.637"
     ]
    },
    {
     "cell_type": "code",
     "collapsed": false,
     "input": [
      "\n",
      "A=1*(10**(-4))               #m**2\n",
      "p1=80                        #kPa(abs)\n",
      "p2=40                        #kPa(abs)\n",
      "\n",
      "p0=101                       #kPa(abs)\n",
      "k=1.4\n",
      "#for (a)\n",
      "pratio1=p1/p0\n",
      "#for this value of p1/p0, \n",
      "Math1=0.59\n",
      "Tratio1=0.94                 #=Tth/T0\n",
      "dratio1=0.85                 #=dth/d0\n",
      "Tth1=Tratio1*(288)     #K\n",
      "dth1=dratio1*(1.23)    #kg/(m**3)\n",
      "Vth1=Math1*(286.9*Tth1*k)**0.5        #m/sec\n",
      "m1=(dth1*A*Vth1)                             #kg/sec\n",
      "print \"a)The mass flowrate=\",round(m1,3),\"kg/s\"\n",
      "#for (b)\n",
      "Math2=1\n",
      "Tratio2=0.83              #=Tth/T0\n",
      "dratio2=0.64              #=dth/d0\n",
      "Tth2=Tratio2*(288)        #K\n",
      "dth2=dratio2*(1.23)       #kg/(m**3)\n",
      "Vth2=Math2*(286.9*Tth2*k)**0.5        #m/sec\n",
      "m2=(dth2*A*Vth2)                             #kg/sec\n",
      "\n",
      "#Result\n",
      "print \"b)The mass flowrate=\",round(m2,3),\"kg/s\""
     ],
     "language": "python",
     "metadata": {},
     "outputs": [
      {
       "output_type": "stream",
       "stream": "stdout",
       "text": [
        "a)The mass flowrate= 0.02 kg/s\n",
        "b)The mass flowrate= 0.024 kg/s\n"
       ]
      }
     ],
     "prompt_number": 15
    },
    {
     "cell_type": "heading",
     "level": 3,
     "metadata": {},
     "source": [
      "Example 11.7 page no.638"
     ]
    },
    {
     "cell_type": "code",
     "collapsed": false,
     "input": [
      "\n",
      "#Given\n",
      "pratio=0.82                 #ratio of static to stagnation pressure\n",
      "T=68                        #degree F\n",
      "#for (a)\n",
      "#for the value of pratio given Ma is calculated as\n",
      "Ma1=0.54\n",
      "k1=1.4\n",
      "Tratio1=0.94               #T/T0\n",
      "T1=Tratio1*(T+460)         # degree R\n",
      "V1=(Ma1*(53.3*T1*k1)**0.5)*(32.2**0.5)    #ft/sec\n",
      "#for (b)\n",
      "k2=1.66\n",
      "Ma2=((((1/pratio)**((k2-1)/k2))-1)/((k2-1)/2))**0.5\n",
      "Tratio2=1/(1+(((k2-1)/2)*(Ma2**2)))       #T/T0\n",
      "T2=Tratio2*(T+460)                        #degree R\n",
      "V2=(Ma2*(386*T2*k2)**0.5)*(32.2**0.5)      #ft/sec\n",
      "\n",
      "#Result\n",
      "print \"The flow velocity if fluid is air=\",round(V1,0),\"ft/s\"\n",
      "print \"The flow velocity if fluid is helium=\",round(V2,0),\"ft/s\""
     ],
     "language": "python",
     "metadata": {},
     "outputs": [
      {
       "output_type": "stream",
       "stream": "stdout",
       "text": [
        "The flow velocity if fluid is air= 590.0 ft/s\n",
        "The flow velocity if fluid is helium= 1583.0 ft/s\n"
       ]
      }
     ],
     "prompt_number": 18
    },
    {
     "cell_type": "heading",
     "level": 3,
     "metadata": {},
     "source": [
      "Example 11.11 page no.648"
     ]
    },
    {
     "cell_type": "code",
     "collapsed": false,
     "input": [
      "\n",
      "\n",
      "#Given\n",
      "k=1.4   \n",
      "T0=518.67                #degree R\n",
      "T1=514.55                #degree R\n",
      "p1=14.3                    #psia\n",
      "R=53.3                    #(ft*lb)/(lbm* degree R)\n",
      "\n",
      "#calculation\n",
      "from scipy.optimize import fsolve\n",
      "import math\n",
      "cp=R*k/(k-1)            #(ft*lb/(lbm* degree R))\n",
      "Tratio=T1/T0\n",
      "Ma=(((1/Tratio)-1)/((k-1)/2))**0.5\n",
      "x=(R*T1*k*32.2)**0.5          #ft/sec where x=(R*T1*k)**0.5\n",
      "y=p1*144/(R*T1)*(Ma*x)      # lbm/((ft**2)*sec) where y=d*V\n",
      "#for p=7 psia \n",
      "p=7                         #psia\n",
      "\n",
      "def f(T):\n",
      "    return(6.5*10**-5*T**2+T-518.67)\n",
      "T=fsolve(f,500)\n",
      "sdif=(cp*math.log(T/T1))-(R*math.log(p/p1))      #(ft*lb)/(lbm* degree R)\n",
      "\n",
      "#Result\n",
      "print \"The corrosponding value of temperature for Fanno for downstream pressure of 7psia=\",round(T,1),\"K\"\n",
      "print \"The corrosponding value of entropy change for Fanno for downstream pressure of 7psia=\",round(sdif,1),\"(ft*lb)/(lbm* degree R)\"\n",
      "#Plot\n",
      "s=[33.6,39.8,46.3,52.6,57.3,57.9,55.5,53.0,47.0,44.2]\n",
      "T=[502.3,496.8,488.3,474.0,447.7,432.1,394.7,378.1,347.6,335.6]\n",
      "a=plot(s,T)\n",
      "xlabel(\"s-s1  (ft lb/lbm R)\") \n",
      "ylabel(\"T (R)\") \n",
      "plt.xlim((30, 65))\n",
      "plt.ylim((300,550))\n",
      "show(a)\n"
     ],
     "language": "python",
     "metadata": {},
     "outputs": [
      {
       "output_type": "stream",
       "stream": "stdout",
       "text": [
        "The corrosponding value of temperature for Fanno for downstream pressure of 7psia= 502.3 K\n",
        "The corrosponding value of entropy change for Fanno for downstream pressure of 7psia= 33.6 (ft*lb)/(lbm* degree R)\n"
       ]
      },
      {
       "metadata": {},
       "output_type": "display_data",
       "png": "[encoded data removed]",
       "text": [
        "<matplotlib.figure.Figure at 0x85c1c18>"
       ]
      }
     ],
     "prompt_number": 14
    },
    {
     "cell_type": "heading",
     "level": 3,
     "metadata": {},
     "source": [
      "Example 11.12 page no.655"
     ]
    },
    {
     "cell_type": "code",
     "collapsed": false,
     "input": [
      "\n",
      "\n",
      "#Given\n",
      "T0=288                  #K\n",
      "p0=101                  #kPa(abs)\n",
      "l=2                        #m\n",
      "D=0.1                   #m\n",
      "f=0.02\n",
      "k=1.4\n",
      "x=f*l/D\n",
      "Tratio=2/(k+1)            #where Tratio is Tcritical/T0\n",
      "Tcritical=Tratio*T0     #K = T2\n",
      "Vcritical=(286.9*Tcritical*k)**0.5              #m/sec = V2\n",
      "#from value of x, the following are found\n",
      "Ma=0.63\n",
      "Trat=1.1                    #where Trat=T1/Tcritical\n",
      "Vrat=0.66                  #where Vrat=V1/Vcritical\n",
      "prat=1.7                   #where prat=p1/pcritical\n",
      "pratio=1.16              #where pratio=p0,1/p0critical\n",
      "#from value of Ma, the following are found\n",
      "Tfraction=0.93         #whereTfraction=T1/T0\n",
      "pfraction=0.76          #where pfraction=p1/p0,1\n",
      "dfraction=0.83         #where dfraction=d1/d0,1\n",
      "\n",
      "#hence,\n",
      "#calculation\n",
      "import math\n",
      "V1=Vrat*Vcritical              #m/sec\n",
      "d1=dfraction*(1.23)           #kg/(m**3)\n",
      "m=d1*math.pi*(D**2)*V1/4    #kg/sec\n",
      "T1=Tfraction*T0               #K\n",
      "p1=pfraction*p0                 #kPa(abs)\n",
      "T01=T0                             #K and T01=T02\n",
      "p01=p0                             #kPa(abs)\n",
      "p2=(1/prat)*(pfraction)*p01      #kpa(abs)\n",
      "p02=(1/pratio)*p01           #kPa(abs)\n",
      "\n",
      "#Result\n",
      "print \"Critical temperature=\",round(Tcritical,2),\"K\"\n",
      "print \"Critical velocity=\",round(Vcritical,0),\"m/s\"\n",
      "print \"Velocity at inlet=\",round(V1,0),\"m/s\"\n",
      "print \"Maximum mass flowrate=\",round(m,2),\"Kg/s\"\n",
      "print \"Temperature at inlet=\",round(T1,2),\"K\"\n",
      "print \"Pressure at inlet=\",round(p1,0),\"kPa(abs)\"\n",
      "print \"stagnation temperature at inlet and exit=\",round(T01,2),\"K\"\n",
      "print \"The stagnation pressure at inlet=\",round(p01,2),\"kPa(abs)\"\n",
      "print \"Pressure at exit=\",round(p2,2),\"kPa(abs)\"\n",
      "print \"The stagnation pressure at exit=\",round(p02,2),\"kPa(abs)\"\n",
      "\n",
      "#Plot\n",
      "#import numpy as np\n",
      "#import matplotlib.pyplot as plt\n",
      "#fig = plt.figure()\n",
      "#ax = fig.add_subplot(111)\n",
      "\n",
      "s=[-5,50]\n",
      "T=[288,288]\n",
      "s1=[0,0]\n",
      "T1=[288,268]\n",
      "s2=[40,40]\n",
      "T2=[288,240]\n",
      "s3=[0,10,20,30,40]\n",
      "T3=[268,265,261,252,240]\n",
      "s4=[30,50]\n",
      "T4=[240,240]\n",
      "s5=[-3,50]\n",
      "T5=[288,288]\n",
      "s6=[-2,8]\n",
      "T6=[284,294]\n",
      "s7=[35,45]\n",
      "T7=[281,295]\n",
      "s8=[-2,8]\n",
      "T8=[265,275]\n",
      "s9=[35,45]\n",
      "T9=[235,245]\n",
      "\n",
      "a=plot(s,T)\n",
      "a1=plot(s1,T1)\n",
      "a2=plot(s2,T2)\n",
      "a3=plot(s3,T3,linestyle='--')\n",
      "a4=plot(s4,T4)\n",
      "a5=plot(s5,T5)\n",
      "a6=plot(s6,T6)\n",
      "a7=plot(s7,T7)\n",
      "a8=plot(s8,T8)\n",
      "a9=plot(s9,T9)\n",
      "\n",
      "xlabel(\"s-s1  (J/kg K)\") \n",
      "ylabel(\"T (K)\") \n",
      "plt.xlim((-5, 70))\n",
      "plt.ylim((230,300))\n",
      "plt.text(50,240,'T2=240K')\n",
      "plt.text(50,288,'T0=288K')\n",
      "plt.text(15,255,'fanno line')\n",
      "plt.text(10,280,'p1=70kpa(abs)')\n",
      "plt.text(15,268,'T1=268K')\n",
      "plt.text(10,295,'p01=101kpa(abs)')\n",
      "plt.text(50,295,'p02=84kpa(abs)')\n",
      "plt.text(45,245,'p2=45kpa(abs)')\n",
      "\n",
      "show(a)\n",
      "show(a1)\n",
      "show(a2)\n",
      "show(a3)\n",
      "show(a4)\n",
      "show(a5)\n",
      "show(a6)\n",
      "show(a7)\n",
      "show(a8)\n",
      "show(a9)"
     ],
     "language": "python",
     "metadata": {},
     "outputs": [
      {
       "output_type": "stream",
       "stream": "stdout",
       "text": [
        "Critical temperature= 240.0 K\n",
        "Critical velocity= 310.0 m/s\n",
        "Velocity at inlet= 205.0 m/s\n",
        "Maximum mass flowrate= 1.64 Kg/s\n",
        "Temperature at inlet= 267.84 K\n",
        "Pressure at inlet= 77.0 kPa(abs)\n",
        "stagnation temperature at inlet and exit= 288.0 K\n",
        "The stagnation pressure at inlet= 101.0 kPa(abs)\n",
        "Pressure at exit= 45.15 kPa(abs)\n",
        "The stagnation pressure at exit= 87.07 kPa(abs)\n"
       ]
      },
      {
       "metadata": {},
       "output_type": "display_data",
       "png": "[encoded data removed]"
      }
     ],
     "prompt_number": 1
    },
    {
     "cell_type": "heading",
     "level": 3,
     "metadata": {},
     "source": [
      "Example 11.13 page no.657"
     ]
    },
    {
     "cell_type": "code",
     "collapsed": false,
     "input": [
      "\n",
      "#Given\n",
      "T0=288                #K  Temprature\n",
      "p0=101                #kPa(abs)  pressure\n",
      "l=2                   #m  length of duct\n",
      "D=0.1                 #m  diameter\n",
      "f=0.02\n",
      "pd=45                 #kPa(abs)\n",
      "f=0.02\n",
      "k=1.4\n",
      "lnew=(50/100)*l       #m new length of duct\n",
      "x=lnew*f/D\n",
      "\n",
      "#Calculation\n",
      "#from this value of x, following are found\n",
      "Ma=0.7\n",
      "prat=1.5               #where prat=p1/pcritical\n",
      "#from this value of Ma, following are found\n",
      "pratio=0.72            #where pratio=p1/p0\n",
      "dratio=0.79            #where dratio=d1/d0,1\n",
      "Vratio=0.73            #where Vratio=V1/Vcritical\n",
      "#hence,\n",
      "p2=(1/prat)*pratio*p0   #kPa(abs)\n",
      "pcritical=p2 \n",
      "#we find that pd<pcritical\n",
      "d1=dratio*(1.23)                         #kg/(m**3)\n",
      "Vcritical=310                            #m/sec = V2, from example 11.12\n",
      "V1=Vratio*Vcritical                      #m/sec\n",
      "m=d1*math.pi*(D**2)*V1/4                 #kg/sec\n",
      "\n",
      "#Result\n",
      "print \"The flowrate for the smaller tube is =\",round(m,2),\"kg/s\""
     ],
     "language": "python",
     "metadata": {},
     "outputs": [
      {
       "output_type": "stream",
       "stream": "stdout",
       "text": [
        "The flowrate for the smaller tube is = 1.73 kg/s\n"
       ]
      }
     ],
     "prompt_number": 10
    },
    {
     "cell_type": "heading",
     "level": 3,
     "metadata": {},
     "source": [
      "Example 11.14 page no.658"
     ]
    },
    {
     "cell_type": "code",
     "collapsed": false,
     "input": [
      "\n",
      "#given\n",
      "T0=288                       #K\n",
      "p0=101                       #kPa(abs)\n",
      "l=2                             #m\n",
      "D=0.1                        #m\n",
      "f=0.02\n",
      "pd=45                     #kPa(abs)\n",
      "f=0.02\n",
      "m=1.65                   #kg/sec\n",
      "lnew=l/2                  #m\n",
      "\n",
      "x=f*l/D\n",
      "#from this value of x, Ma at exit is found as\n",
      "Ma=0.7\n",
      "#and p2/pcritical is found as\n",
      "pratio=1.5\n",
      "#and, from example 11.12,\n",
      "prat=1.7                     #where prat=p1/pcritical\n",
      "pfraction=0.76             #where pfraction=p1/p0,1\n",
      "#Hence,\n",
      "p2=pratio*(1/prat)*pfraction*p0         #kPa(abs)\n",
      "\n",
      "#Result\n",
      "print \"The Mach number at the exit=\",round(Ma,3)\n",
      "print \"The back pressure required=\",round(p2,0),\"kPa(abs)\""
     ],
     "language": "python",
     "metadata": {},
     "outputs": [
      {
       "output_type": "stream",
       "stream": "stdout",
       "text": [
        "The Mach number at the exit= 0.7\n",
        "The back pressure required= 68.0 kPa(abs)\n"
       ]
      }
     ],
     "prompt_number": 14
    },
    {
     "cell_type": "heading",
     "level": 3,
     "metadata": {},
     "source": [
      "Example 11.15 page no.659"
     ]
    },
    {
     "cell_type": "code",
     "collapsed": false,
     "input": [
      "\n",
      "k=1.4   \n",
      "T0=518.67                         #degree R\n",
      "T1=514.55                        #degree R\n",
      "p1=14.3                            #psia\n",
      "\n",
      "R=53.3                            #(ft*lb)/(lbm*degree R)\n",
      "cp=R*k/(k-1)                  #(ft*lb/(lbm* degree R))\n",
      "Tratio=T1/T0\n",
      "Ma=(((1/Tratio)-1)/((k-1)/2))**0.5\n",
      "x=(R*T1*k*32.2)**0.5        #ft/sec where x=(R*T1*k)**0.5\n",
      "y=p1*144/(R*T1)*(Ma*x)   #lbm/((ft**2)*sec) where y=d*V\n",
      "z=R*T1/(p1*144)                 #(ft**3)/lbm\n",
      "c=(p1)+(y*y*z/(32.2*144))   #psia =constant\n",
      "#when downstream pressure p=13.5 psia\n",
      "p=13.5                                       #psia \n",
      "a=(y**2)*R/(p*144*32.2*144)                  #(lb/(in**2))/degree R\n",
      "                                 \n",
      "T=(c-p)/a\n",
      "sdif=(cp*math.log(T/T1))-(R*math.log(p/p1))  #ft*lb/(lbm*degree R)\n",
      "\n",
      "#Result\n",
      "print \"The corrosponding value of temperature for the downstream pressure of 13.5 psia=\",round(T,0),\"degree R\"\n",
      "print \"The corrosponding value of change in entropy for the downstream pressure of 13.5 psia=\",round(sdif,0), \"ft*lb/(lbm*degree R)\"\n",
      "\n",
      "s=[93.2,202,251,285,317,330,333,334,336,338,338,336,333,328,321,259,181]\n",
      "T=[969,1459,1859,2168,2464,2549,2558,2558,2544,2488,2450,2369,2260,2140,1992,1175,633]\n",
      "a=plot(s,T)\n",
      "xlabel(\"s-s1  (ft lb/lbm R)\") \n",
      "ylabel(\"T (R)\") \n",
      "plt.xlim((90,350))\n",
      "plt.ylim((500,3000))\n",
      "show(a)\n"
     ],
     "language": "python",
     "metadata": {},
     "outputs": [
      {
       "output_type": "stream",
       "stream": "stdout",
       "text": [
        "The corrosponding value of temperature for the downstream pressure of 13.5 psia= 971.0 degree R\n",
        "The corrosponding value of change in entropy for the downstream pressure of 13.5 psia= 121.0 ft*lb/(lbm*degree R)\n"
       ]
      },
      {
       "metadata": {},
       "output_type": "display_data",
       "png": "[encoded data removed]"
      }
     ],
     "prompt_number": 9
    },
    {
     "cell_type": "heading",
     "level": 3,
     "metadata": {},
     "source": [
      "Example 11.18 page no.670"
     ]
    },
    {
     "cell_type": "code",
     "collapsed": false,
     "input": [
      "\n",
      "\n",
      "#Given\n",
      "p=60                               #psia total pressure\n",
      "T=1000                             #degree R  Temprature\n",
      "px=12                              #psia\n",
      "k=1.4                              \n",
      "R=53.3                             #ft*lb/(lbm*degree R)\n",
      "pratio=p/px\n",
      "#for this value of pratio, Max is calculated as(from fig D.4)\n",
      "Max=1.9\n",
      "#using this value of Max,  Tx/T0,x is found as\n",
      "Tratio=0.59\n",
      "#T=T0,x=T0,y\n",
      "\n",
      "#Calculation\n",
      "Tx=Tratio*T                      #degree R\n",
      "cx=(R*Tx*k)**0.5                 #ft/sec\n",
      "Vx=1.87*cx*(32.2**0.5)           #ft/sec\n",
      "\n",
      "#Result\n",
      "print \"The Mach number for the flow=\",round(Max,1)\n",
      "print \"The velocity of the flow=\",round(Vx,0),\"ft/sec\"\n"
     ],
     "language": "python",
     "metadata": {},
     "outputs": [
      {
       "output_type": "stream",
       "stream": "stdout",
       "text": [
        "The Mach number for the flow= 1.9\n",
        "The velocity of the flow= 2227.0 ft/sec\n"
       ]
      }
     ],
     "prompt_number": 24
    },
    {
     "cell_type": "heading",
     "level": 3,
     "metadata": {},
     "source": [
      "Example 11.19 page no.671"
     ]
    },
    {
     "cell_type": "code",
     "collapsed": false,
     "input": [
      "\n",
      "x1=0.5                             #m  exit of duct\n",
      "x2=0.3                             #m  entring of duct\n",
      "Acritical=0.1                      #m**2 area\n",
      "#at x1, Max1 is found as\n",
      "Max1=2.8\n",
      "#and px/p0,x is found as\n",
      "pratio1=0.04\n",
      "#For this value of Max, py/px is found as\n",
      "prat1=9\n",
      "pfraction1=prat1*pratio1           #where pfraction=py/p0,x = pIII/p0,x\n",
      "#at x2, Max2 is found as\n",
      "Max2=2.14\n",
      "#for this value of Max2, the following are found\n",
      "prat2=5.2\n",
      "prat22=0.66                       #where prat22=p0,y/p0,x\n",
      "May=0.56\n",
      "#for this valur of May, Ay/Acritical is found as\n",
      "Aratio=1.24\n",
      "Arat=(Acritical+(x1**2))/(Acritical+(x2**2))       #where Aratio=A2/Ay\n",
      "Afraction=Aratio*Arat           #where Afraction=A2/Acritical\n",
      "A2=Acritical+(x1**2)           #m**2\n",
      "Acritical1=A2/Afraction       #where Acritical1 critical area for the isentropic flow downstream of the shock\n",
      "#with the value of Afraction, the following are found\n",
      "Ma2=0.26\n",
      "pfraction=0.95                      #where pfraction=p2/p0,y\n",
      "#hence,\n",
      "pfrac=pfraction*prat22         #where pfrac=p2/p0,x\n",
      "\n",
      "#Result\n",
      "print \"The ratio of back pressure to inlet stagnation pressure \\n that will result in a normal shock at the exit of the duct=\",round(pfraction1,2)\n",
      "print \"The value of back pressure to inlet stagnation pressure required to position the shock at (x=0.3 m)=\",round(pfrac,2)\n",
      "\n",
      "#Plot\n",
      "s=[0,0]\n",
      "T=[288,112]\n",
      "s1=[0,360]\n",
      "T1=[288,288]\n",
      "s2=[0,280]\n",
      "T2=[112,275]\n",
      "s3=[240,320]\n",
      "T3=[275,275]\n",
      "s4=[-10,80]\n",
      "T4=[112,112]\n",
      "s5=[280,280]\n",
      "T5=[288,275]\n",
      "\n",
      "\n",
      "a=plot(s,T)\n",
      "a1=plot(s1,T1)\n",
      "a2=plot(s2,T2,linestyle='--')\n",
      "a3=plot(s3,T3)\n",
      "a4=plot(s4,T4)\n",
      "a5=plot(s5,T5)\n",
      "xlabel(\"s-s1  (J/Kg K)\") \n",
      "ylabel(\"T (K)\") \n",
      "plt.xlim((-40,500))\n",
      "plt.ylim((60,340))\n",
      "plt.text(82,112,'Tx=112K')\n",
      "plt.text(60,310,'p0x=101kpa(abs)')\n",
      "plt.text(300,315,'p0y=38kpa(abs)')\n",
      "plt.text(340,270,'py=36kpa(abs)')\n",
      "plt.text(10,275,'0,x')\n",
      "plt.text(10,110,'x')\n",
      "plt.text(300,290,'0,y')\n",
      "plt.text(280,270,'y')\n",
      "plt.text(280,375,'Ty=275K')\n",
      "plt.text(350,285,'Tox=Toy=288K')\n",
      "plt.text(40,125,'px=4kpa(abs)')\n",
      "plt.text(80,90,'shock at nozzle exit plane x=(0.5m)')\n",
      "\n",
      "show(a)\n",
      "show(a1)\n",
      "show(a2)\n",
      "show(a3)\n",
      "show(a4)\n",
      "show(a5)\n",
      "\n",
      "# For 2nd flow\n",
      "s=[0,0]\n",
      "T=[288,150]\n",
      "s1=[0,360]\n",
      "T1=[288,288]\n",
      "s2=[80,200]\n",
      "T2=[284,284]\n",
      "s3=[80,160]\n",
      "T3=[271,271]\n",
      "s4=[0,120]\n",
      "T4=(150,271)\n",
      "s5=[-10,80]\n",
      "T5=[150,150]\n",
      "s6=[120,120]\n",
      "T6=[271,284]\n",
      "s7=[120,250]\n",
      "T7=[288,320]\n",
      "s8=[120,250]\n",
      "T8=[284,300]\n",
      "\n",
      "a=plot(s,T)\n",
      "a1=plot(s1,T1)\n",
      "a2=plot(s2,T2)\n",
      "a3=plot(s3,T3)\n",
      "a4=plot(s4,T4,linestyle='--')\n",
      "a5=plot(s5,T5)\n",
      "a6=plot(s6,T6)\n",
      "a7=plot(s7,T7)\n",
      "a8=plot(s8,T8)\n",
      "\n",
      "plt.text(100,140,'Tx=150K')\n",
      "plt.text(40,310,'p0x=101 kpa(abs)')\n",
      "plt.text(250,320,'p0y=67kpa(abs)')\n",
      "plt.text(120,250,'py=52kpa(abs)')\n",
      "plt.text(10,275,'0,x')\n",
      "plt.text(10,140,'x')\n",
      "plt.text(120,290,'0,y')\n",
      "plt.text(80,270,'y')\n",
      "plt.text(160,265,'Ty=271K')\n",
      "plt.text(200,280,'T2=284K')\n",
      "plt.text(380,288,'Tox=Toy=288K')\n",
      "plt.text(40,160,'px=10kpa(abs)')\n",
      "plt.text(240,300,'p2=64kpa(abs)')\n",
      "plt.text(80,100,'shock with nozzle x=(0.3m)')\n",
      "plt.text(20,200,'normal shock')\n",
      "\n",
      "xlabel(\"s-s1  (J/Kg K)\") \n",
      "ylabel(\"T (K)\") \n",
      "plt.xlim((-40,500))\n",
      "plt.ylim((60,340))\n",
      "show(a)\n",
      "show(a1)\n",
      "show(a2)\n",
      "show(a3)\n",
      "show(a4)\n",
      "show(a5)\n",
      "show(a6)\n",
      "show(a7)\n",
      "show(a8)\n",
      "\n"
     ],
     "language": "python",
     "metadata": {},
     "outputs": [
      {
       "output_type": "stream",
       "stream": "stdout",
       "text": [
        "The ratio of back pressure to inlet stagnation pressure \n",
        " that will result in a normal shock at the exit of the duct= 0.36\n",
        "The value of back pressure to inlet stagnation pressure required to position the shock at (x=0.3 m)= 0.63\n"
       ]
      },
      {
       "metadata": {},
       "output_type": "display_data",
       "png": "[encoded data removed]"
      },
      {
       "metadata": {},
       "output_type": "display_data",
       "png": "[encoded data removed]"
      }
     ],
     "prompt_number": 10
    }
   ],
   "metadata": {}
  }
 ]
}