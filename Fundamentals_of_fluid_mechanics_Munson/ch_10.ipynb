{
 "metadata": {
  "name": "",
  "signature": "sha256:9eaab2b896a6bb6c961934db80d46f26a50e6de94b234af0dcf8aaeaefc72384"
 },
 "nbformat": 3,
 "nbformat_minor": 0,
 "worksheets": [
  {
   "cells": [
    {
     "cell_type": "heading",
     "level": 1,
     "metadata": {},
     "source": [
      "Chapter 10:Open Channel Flow"
     ]
    },
    {
     "cell_type": "heading",
     "level": 3,
     "metadata": {},
     "source": [
      "Example 10.2 Page no.572"
     ]
    },
    {
     "cell_type": "code",
     "collapsed": false,
     "input": [
      "%matplotlib inline"
     ],
     "language": "python",
     "metadata": {},
     "outputs": [
      {
       "output_type": "stream",
       "stream": "stdout",
       "text": [
        "\n",
        "Welcome to pylab, a matplotlib-based Python environment [backend: module://IPython.zmq.pylab.backend_inline].\n",
        "For more information, type 'help(pylab)'.\n"
       ]
      }
     ],
     "prompt_number": 1
    },
    {
     "cell_type": "code",
     "collapsed": false,
     "input": [
      "\n",
      "#Given\n",
      "z2=0.5              #ft\n",
      "q=5.75              #(ft**2)/sec\n",
      "y1=2.3              #ft\n",
      "z1=0                #ft\n",
      "V1=2.5              #ft/sec\n",
      "\n",
      "#calculation\n",
      "#bernoulli equation\n",
      "a=y1+((V1**2)/(2*32.2))+z1-z2   #ft where a=y2+((V**2)/(2*g))\n",
      "#continuity equation\n",
      "from scipy.optimize import fsolve\n",
      "#Calculation\n",
      "b=(y1*V1)                       #(ft**2/sec) where b=(y2*V2)\n",
      "#From b and  bernouli eq.  f=y**3-1.90*y**2+0.513\n",
      "def f(y):\n",
      "    f1=y**3-1.90*y**2+0.513\n",
      "    return(f1)\n",
      "y=fsolve(f,2)\n",
      "L=y+z2\n",
      "print \"Surface Elevation is \",round(L,2),\"ft\"\n",
      "\n",
      "#Plot\n",
      "E=[3,2,1.51,2.4,3]\n",
      "Y=[2.9,1.8,1.01,0.5,0.4]\n",
      "a=plot(E,Y)\n",
      "xlabel(\"E  ft\") \n",
      "ylabel(\"Y (ft)\") \n",
      "plt.xlim((0,4))\n",
      "plt.ylim((0,4))\n",
      "show(a)\n",
      "\n"
     ],
     "language": "python",
     "metadata": {},
     "outputs": [
      {
       "output_type": "stream",
       "stream": "stdout",
       "text": [
        "Surface Elevation is  2.23 ft\n"
       ]
      },
      {
       "metadata": {},
       "output_type": "display_data",
       "png": "[encoded data removed]"
      }
     ],
     "prompt_number": 1
    },
    {
     "cell_type": "heading",
     "level": 3,
     "metadata": {},
     "source": [
      "Example 10.3 Page no.579"
     ]
    },
    {
     "cell_type": "code",
     "collapsed": false,
     "input": [
      "\n",
      "#Given\n",
      "y=5.0                       #ft\n",
      "angle=40.0               #degree\n",
      "l=12.0                      #ft\n",
      "rate=1.4                  #ft per 1000 ft of length\n",
      "K=1.49\n",
      "\n",
      "#Calculation \n",
      "import math\n",
      "A=(l*y)+(y*y/math.tan(angle*math.pi/180))     #ft\n",
      "P=(l+(2*y/math.sin(angle*math.pi/180)))         #ft\n",
      "Rh=A/P\n",
      "S0=rate/10**3\n",
      "x=K*(A)*(Rh**(0.666667))*(S0**(0.5))             #where Rh=Q*n\n",
      "n=0.012\n",
      "Q=x/n                        #cfs\n",
      "\n",
      "#Result\n",
      "print \"The flowrate=\",round(Q,0),\"cfs\"\n",
      "V=Q/A                     #ft/sec\n",
      "Fr=V/(32.2*y)**(0.5)\n",
      "print \"Froude number=\",round(Fr,2)\n"
     ],
     "language": "python",
     "metadata": {},
     "outputs": [
      {
       "output_type": "stream",
       "stream": "stdout",
       "text": [
        "The flowrate= 917.0 cfs\n",
        "Froude number= 0.8\n"
       ]
      }
     ],
     "prompt_number": 2
    },
    {
     "cell_type": "heading",
     "level": 3,
     "metadata": {},
     "source": [
      "Example 10.4 Page no.580"
     ]
    },
    {
     "cell_type": "code",
     "collapsed": false,
     "input": [
      "\n",
      "y=5                 #ft\n",
      "angle=40            #degree\n",
      "l=12                #ft\n",
      "rate=1.4            #ft per 1000 ft of length\n",
      "Q=10                #m**3/sec\n",
      "bw=l*1/3.281        #m where bw=bottom width \n",
      "\n",
      "#Calculation\n",
      "import math\n",
      "from scipy.optimize import fsolve\n",
      "#A=(l*y)+(y*y/math.tan(angle*math.pi/180)) ft**2\n",
      "#A=1.19*y**2+3.66*y           area interms of distance depth y, 1.19,3.66  are constant\n",
      "#Rh=1.19*y**2+3.66*y/((3.11*y+3.66)**2)\n",
      "#P=bw(2*y/math.sin(angle*math.pi/180)) m\n",
      "#Rh=A/P\n",
      "#Q=10=k*A*Rh**2/3*So**0.5/(n)\n",
      "n=0.03              #From table 10.1\n",
      "\n",
      "def f(y):\n",
      "    f1=((1.19*y**2+3.66*y)**5-515*(3.11*y+3.66)**2)  #digits used are costants which is used in the area equation.\n",
      "    return(f1)\n",
      "y=fsolve(f,2)\n",
      "\n",
      "#Result\n",
      "print \"The depth of the flow=\",round(y,1),\"m\""
     ],
     "language": "python",
     "metadata": {},
     "outputs": [
      {
       "output_type": "stream",
       "stream": "stdout",
       "text": [
        "The depth of the flow= 1.5 m\n"
       ]
      }
     ],
     "prompt_number": 4
    },
    {
     "cell_type": "heading",
     "level": 3,
     "metadata": {},
     "source": [
      "Example 10.7 Page no.583"
     ]
    },
    {
     "cell_type": "code",
     "collapsed": false,
     "input": [
      "\n",
      "#Given\n",
      "S0=0.002\n",
      "n1=0.02\n",
      "z1=0.6               #ft\n",
      "n2=0.015\n",
      "n3=0.03\n",
      "z2=0.8               #ft\n",
      "#length of section 1 ,2,3\n",
      "l1=3.0               #ft\n",
      "l2=2.0               #ft\n",
      "l3=3.0               #ft\n",
      "#Area\n",
      "A1=l1*(z1)           #ft**2\n",
      "A2=l2*(y)            #ft**2\n",
      "A3=l3*(z1)           #ft**2\n",
      "#Pressure head\n",
      "P1=l1+z1             #ft\n",
      "P2=l2+(2*z2)         #ft\n",
      "P3=l3+z1             #ft\n",
      "Rh1=A1/P1            #ft\n",
      "Rh2=A2/P2            #ft\n",
      "Rh3=A3/P3            #ft\n",
      "y=z1+z2              #ft\n",
      "K=1.49\n",
      "\n",
      "#Calculation\n",
      "Q=K*(S0**(0.5))*((A1*(Rh1**(0.667))/n1)+(A3*(Rh3**(0.667))/n3)+(A2*(Rh2**(0.667))/n2))   #(ft**3)/sec\n",
      "\n",
      "#Result\n",
      "print \"The flowrate=\",round(Q,1),\"ft**3/s\" \n"
     ],
     "language": "python",
     "metadata": {},
     "outputs": [
      {
       "output_type": "stream",
       "stream": "stdout",
       "text": [
        "The flowrate= 16.8 ft**3/s\n"
       ]
      }
     ],
     "prompt_number": 26
    },
    {
     "cell_type": "heading",
     "level": 3,
     "metadata": {},
     "source": [
      "Example 10.8 Page no.584"
     ]
    },
    {
     "cell_type": "code",
     "collapsed": false,
     "input": [
      "\n",
      "aspratio=2       #asp ratio=aspect ratio=b/y\n",
      "\n",
      "#result\n",
      "print \"The aspect ratio=\",aspratio,\":1\"\n",
      "\n",
      "#Plot\n",
      "b=[0.5,1.2,2,5]\n",
      "q=[0.85,0.98,1,0.93]\n",
      "a=plot(b,q)\n",
      "xlabel(\"b/y  \") \n",
      "ylabel(\"q/qmax\") \n",
      "plt.xlim((0,5))\n",
      "plt.ylim((0.80,1.05))\n",
      "show(a)\n"
     ],
     "language": "python",
     "metadata": {},
     "outputs": [
      {
       "output_type": "stream",
       "stream": "stdout",
       "text": [
        "The aspect ratio= 2 :1\n"
       ]
      },
      {
       "metadata": {},
       "output_type": "display_data",
       "png": "[encoded data removed]",
       "text": [
        "<matplotlib.figure.Figure at 0x8481438>"
       ]
      }
     ],
     "prompt_number": 14
    },
    {
     "cell_type": "heading",
     "level": 3,
     "metadata": {},
     "source": [
      "Example 10.9 Page no.593"
     ]
    },
    {
     "cell_type": "code",
     "collapsed": false,
     "input": [
      "\n",
      "#Given\n",
      "w=100                    #ft\n",
      "y1=0.6                   #ft\n",
      "V1=18                   #ft/sec\n",
      "Fr1=V1/(32.2*y1)**0.5\n",
      "print \"The Froude number before the jump=\",round(Fr1,2)\n",
      "yratio=0.5*(-1+(1+(8*(Fr1**2)))**0.5)         #where yratio=y2/y1\n",
      "y2=y1*yratio        #ft\n",
      "print \"The depth after the jump=\",round(y2,2),\"ft\"\n",
      "#Q1=Q2, hence\n",
      "V2=(y1*V1)/y2              #ft/sec\n",
      "Fr2=V2/(32.2*y2)**0.5\n",
      "print \"The froude number after the jump=\",round(Fr2,2)\n",
      "Q=w*y1*V1#(ft**3)/sec\n",
      "hL=(y1+(V1*V1/(32.2*2)))-(y2+(V2*V2/(2*32.2)))       #ft\n",
      "Pd=62.4*hL*Q/550             #hp\n",
      "print \"Power dissipated within the jump=\",round(Pd,3),\"hp\"\n",
      "\n",
      "#Plot\n",
      "b=[1.54,1.2,0.8,0.6,0.4]\n",
      "P=[0,10,80,277,900]\n",
      "a=plot(b,P)\n",
      "xlabel(\"b (ft)\") \n",
      "ylabel(\"P  (hp)\") \n",
      "plt.xlim((0,1.6))\n",
      "plt.ylim((0,1000))\n",
      "show(a)\n"
     ],
     "language": "python",
     "metadata": {},
     "outputs": [
      {
       "output_type": "stream",
       "stream": "stdout",
       "text": [
        "The Froude number before the jump= 4.1\n",
        "The depth after the jump= 3.19 ft\n",
        "The froude number after the jump= 0.33\n",
        "Power dissipated within the jump= 277.539 hp\n"
       ]
      },
      {
       "metadata": {},
       "output_type": "display_data",
       "png": "[encoded data removed]"
      }
     ],
     "prompt_number": 3
    }
   ],
   "metadata": {}
  }
 ]
}