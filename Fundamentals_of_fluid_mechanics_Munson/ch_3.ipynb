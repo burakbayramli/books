{
 "metadata": {
  "name": "",
  "signature": "sha256:4067bfb2c9423fe8c0e3cecaadb09104b0d89649fe113f722afc785b2ac06d44"
 },
 "nbformat": 3,
 "nbformat_minor": 0,
 "worksheets": [
  {
   "cells": [
    {
     "cell_type": "heading",
     "level": 1,
     "metadata": {},
     "source": [
      "Chapter 3 :Elementary fluid dynamics"
     ]
    },
    {
     "cell_type": "heading",
     "level": 3,
     "metadata": {},
     "source": [
      "Example 3.1 Page No.99"
     ]
    },
    {
     "cell_type": "code",
     "collapsed": false,
     "input": [
      "\n",
      "v1=100                            #mi/hr\n",
      "ht=10000                         #ft\n",
      "#from standard table for static pressure at an altitude\n",
      "p1=1456                        #lb/ft**2(abs)\n",
      "P1=1456*0.006947        #psi\n",
      "d=0.001756                   #slugs/ft**3\n",
      "#1 mi/hr = 1.467 ft/s \n",
      "\n",
      "#calculation\n",
      "p2=p1+(d*(v1*1.467)**2/2)          #lb/ft**3\n",
      "#in terms of gage pressure p2g\n",
      "p2g=p2-p1                                   #lb/ft**2\n",
      "#1lb/ft**2 = 0.006947 psi\n",
      "P2=p2*0.006947                         #psi\n",
      "P2g=p2g*0.006947#psi\n",
      "#pressure difference indicated by the pitot tube = pdiff\n",
      "pdiff=P2-P1                               #psi\n",
      "\n",
      "#Result\n",
      "print \"Pressure at point 1 =\",round(P1,2),\"psi\"\n",
      "print \"Pressure at point 2 in terms of gage pressure=\",round(P2g,2),\"psi\"\n",
      "print \"pressure difference indicated by the pitot static tube=\",round(pdiff,2),\"psi\"\n"
     ],
     "language": "python",
     "metadata": {},
     "outputs": [
      {
       "output_type": "stream",
       "stream": "stdout",
       "text": [
        "Pressure at point 1 = 10.11 psi\n",
        "Pressure at point 2 in terms of gage pressure= 0.13 psi\n",
        "pressure difference indicated by the pitot static tube= 0.13 psi\n"
       ]
      }
     ],
     "prompt_number": 1
    },
    {
     "cell_type": "heading",
     "level": 3,
     "metadata": {},
     "source": [
      "Example 3.7 Page No.115"
     ]
    },
    {
     "cell_type": "code",
     "collapsed": false,
     "input": [
      "%matplotlib inline"
     ],
     "language": "python",
     "metadata": {},
     "outputs": [
      {
       "output_type": "stream",
       "stream": "stdout",
       "text": [
        "\n",
        "Welcome to pylab, a matplotlib-based Python environment [backend: module://IPython.zmq.pylab.backend_inline].\n",
        "For more information, type 'help(pylab)'.\n"
       ]
      }
     ],
     "prompt_number": 3
    },
    {
     "cell_type": "code",
     "collapsed": false,
     "input": [
      "\n",
      "dia=0.1                             #m\n",
      "dia1=1.0                           #m\n",
      "h=2.0                               #m\n",
      "\n",
      "#calculation\n",
      "#bernoulli's equation: p1+(0.5*d*V1**2)+(sw*z1)= p2+(0.5*d*V2**2)+(sw*z2)\n",
      "#assuming p1=p2=0, and z1=h and z2=0\n",
      "#(0.5*d*V1**2)+(g*h)= (0.5*d*V2**2)\n",
      "#assuming steady flow Q1=Q2, Q=A*V. hence, A1*V1=A2*V2\n",
      "#V1=((dia/dia1)**2)*V2\n",
      "#hence V2=((2*g*h)/(1-(dia/dia1)**4))**0.5\n",
      "import math\n",
      "V2=((2*9.81*h)/(1-(dia/dia1)**4))**0.5\n",
      "Q=(math.pi/4*(dia)**2)*V2\n",
      "\n",
      "#result\n",
      "print \"The flow rate needed is=\",round(Q,5),\"m**3/s\"\n",
      "\n",
      "#Plot\n",
      "h=[0,0.2,0.4,0.5,0.6,0.62]\n",
      "D=[1,1.001,1.01,1.03,1.08,1.10]\n",
      "xlabel(\"d/D \") \n",
      "ylabel(\"Q/Q0\") \n",
      "plt.xlim((0,0.8))\n",
      "plt.ylim((1,1.10))\n",
      "a=plot(h,D)\n",
      "show(a)"
     ],
     "language": "python",
     "metadata": {},
     "outputs": [
      {
       "output_type": "stream",
       "stream": "stdout",
       "text": [
        "The flow rate needed is= 0.0492 m**3/s\n"
       ]
      },
      {
       "metadata": {},
       "output_type": "display_data",
       "png": "[encoded data removed]"
      }
     ],
     "prompt_number": 4
    },
    {
     "cell_type": "heading",
     "level": 3,
     "metadata": {},
     "source": [
      "Example 3.8 Page No.116"
     ]
    },
    {
     "cell_type": "code",
     "collapsed": false,
     "input": [
      "\n",
      "dia=0.03          #m\n",
      "dia1=0.01        #m\n",
      "p=3                 #kPa(gage)\n",
      "\n",
      "#calculation\n",
      "#density of air d is found using standard temp and pressure conditions\n",
      "d=(p+101)*1000/((286.9)*(15+273))\n",
      "#applying Bernoulli's equation at points 1,2 and 3 p=p1\n",
      "import math\n",
      "v3=((2*p*1000)/d)**0.5\n",
      "Q=(math.pi)/4*(dia1**2)*v3\n",
      "#by continuity equation, A2*v2=A3*v3\n",
      "v2=((dia1/dia)**2)*v3\n",
      "p2=(p*1000)-(0.5*d*(v2**2))\n",
      "\n",
      "#Result\n",
      "print  \"Flowrate =\",round(Q,5),\"m**3/s\"\n",
      "print \"Pressure in the hose=\",round(p2,1),\"N/m**2\""
     ],
     "language": "python",
     "metadata": {},
     "outputs": [
      {
       "output_type": "stream",
       "stream": "stdout",
       "text": [
        "Flowrate = 0.00542 m**3/s\n",
        "Pressure in the hose= 2963.0 N/m**2\n"
       ]
      }
     ],
     "prompt_number": 5
    },
    {
     "cell_type": "heading",
     "level": 3,
     "metadata": {},
     "source": [
      "Example 3.10 Page No. 120"
     ]
    },
    {
     "cell_type": "code",
     "collapsed": false,
     "input": [
      "\n",
      "T=60                               #degree farenheit\n",
      "z1=5                               #ft\n",
      "atmp=14.7                      #psia\n",
      "#applying bernoulli equation at points 1,2 and 3\n",
      "z3=-5                            #ft\n",
      "v1=0                             #large tank\n",
      "p1=0                             #open tank\n",
      "p3=0                             #open jet\n",
      "#applying continuity equation A2*v2=A3*v3 A2=A3 so v2=v3\n",
      "\n",
      "#calculation\n",
      "v3=(2*32.2*(z1-z3))**0.5\n",
      "#vapor pressure of water at 60 degree farenheit = p2=0.256 psia\n",
      "p2=0.256\n",
      "z2=z1-((((p2-atmp)*144)+(0.5*1.94*v3**2))/62.4)\n",
      "\n",
      "#result\n",
      "print \"The maximum height over which \\n the water can be siphoned without cavitation occuring=\",round(z2,3),\"ft\""
     ],
     "language": "python",
     "metadata": {},
     "outputs": [
      {
       "output_type": "stream",
       "stream": "stdout",
       "text": [
        "The maximum height over which \n",
        " the water can be siphoned without cavitation occuring= 28.321 ft\n"
       ]
      }
     ],
     "prompt_number": 6
    },
    {
     "cell_type": "heading",
     "level": 3,
     "metadata": {},
     "source": [
      "Example 3.11 Page No.122"
     ]
    },
    {
     "cell_type": "code",
     "collapsed": false,
     "input": [
      "\n",
      "sg=0.85\n",
      "Q1=0.005                        #m**3/s\n",
      "Q2=0.05                         #m**3/s\n",
      "dia1=0.1                         #m\n",
      "dia2=0.06                        #m\n",
      "\n",
      "#calculation\n",
      "#A2/A1=dia2/dia1\n",
      "import math\n",
      "d=sg*1000\n",
      "Arat=(dia2/dia1)**2\n",
      "A2=math.pi/4*(dia2**2)\n",
      "pdiffs=(Q1**2)*d*(1-(Arat**2))/(2*1000*(A2**2))\n",
      "pdiffl=(Q2**2)*d*(1-(Arat**2))/(2*1000*(A2**2))\n",
      "print \"The pressure difference ranges from =\",round(pdiffs,3),\"kpa\"  \"to\" ,round(pdiffl,0),\"kpa\""
     ],
     "language": "python",
     "metadata": {},
     "outputs": [
      {
       "output_type": "stream",
       "stream": "stdout",
       "text": [
        "The pressure difference ranges from = 1.157 kpato 116.0 kpa\n"
       ]
      }
     ],
     "prompt_number": 7
    },
    {
     "cell_type": "heading",
     "level": 3,
     "metadata": {},
     "source": [
      "Example 3.12 Page No.124"
     ]
    },
    {
     "cell_type": "code",
     "collapsed": false,
     "input": [
      "\n",
      "z1=5                          #m\n",
      "a=0.8                        #m\n",
      "b=6                          #m\n",
      "Cc=0.61                 #since a/z1=ratio=0.16<0.2 Cc= contracction coefficient\n",
      "z2=Cc*a\n",
      "\n",
      "#calculation\n",
      "#Q/b=flowrate\n",
      "flowrate=z2*((2*9.81*(z1-z2))/(1-((z2/z1)**2)))**0.5\n",
      "#considering z1>>z2 and neglecting kinetic energy of the upstream fluid\n",
      "flowrate1=z2*(2*9.81*z1)**0.5\n",
      "#result\n",
      "print \"The flowrate per unit width=\",round(flowrate,2),\"m**2/s\"\n",
      "print \"The flowrate per unit width when we consider z1>>z2=\",round(flowrate1,1),\"m**2/s\"\n",
      "\n",
      "#Plot\n",
      "import matplotlib.pyplot as plt\n",
      "fig = plt.figure()\n",
      "ax = fig.add_subplot(111)\n",
      "\n",
      "h=[5,10,15]\n",
      "D=[4.61,6.5,8]\n",
      "xlabel(\"z1  (m)\") \n",
      "ylabel(\"Q/b (m**2/s)\") \n",
      "plt.xlim((0,15))\n",
      "plt.ylim((0,9))\n",
      "\n",
      "ax.plot([5], [4.61], 'o')\n",
      "ax.annotate('(5 m,4.61 m**2/s)', xy=(5,4.5))\n",
      "a=plot(h,D)\n",
      "show(a)"
     ],
     "language": "python",
     "metadata": {},
     "outputs": [
      {
       "output_type": "stream",
       "stream": "stdout",
       "text": [
        "The flowrate per unit width= 4.61 m**2/s\n",
        "The flowrate per unit width when we consider z1>>z2= 4.8 m**2/s\n"
       ]
      },
      {
       "metadata": {},
       "output_type": "display_data",
       "png": "[encoded data removed]"
      }
     ],
     "prompt_number": 8
    },
    {
     "cell_type": "heading",
     "level": 3,
     "metadata": {},
     "source": [
      "Example 3.13 Page No.125"
     ]
    },
    {
     "cell_type": "code",
     "collapsed": false,
     "input": [
      "\n",
      "Qrat=3**2.5\n",
      "\n",
      "#Result\n",
      "print(\"The flowrate is proportional to H**2.5\")\n",
      "print \"When depth is increased from H0 to 3H0 Q increases \",round(Qrat,1),\"times\"\n"
     ],
     "language": "python",
     "metadata": {},
     "outputs": [
      {
       "output_type": "stream",
       "stream": "stdout",
       "text": [
        "The flowrate is proportional to H**2.5\n",
        "When depth is increased from H0 to 3H0 Q increases  15.6 times\n"
       ]
      }
     ],
     "prompt_number": 9
    },
    {
     "cell_type": "heading",
     "level": 3,
     "metadata": {},
     "source": [
      "Example 3.15 Page No.130"
     ]
    },
    {
     "cell_type": "code",
     "collapsed": false,
     "input": [
      "\n",
      "h=10                       #Km\n",
      "#air is in a standard atmosphere\n",
      "p1=26.5                 #kPa\n",
      "T1=-49.9               #degree celcius\n",
      "d=0.414                #Kg/m**3\n",
      "k=1.4\n",
      "Ma1=0.82             #Mach\n",
      "#for incompressible flow,\n",
      "pdiff=(k*Ma1**2)/2*p1\n",
      "#for compressible isentropic flow, \n",
      "pdiff1=((1+((k-1)/2)*(Ma1**2))**(k/(k-1))-1)*p1\n",
      "\n",
      "#result\n",
      "print(\"Stagnation pressure on leading edge on the wing of the Boeing:\")\n",
      "print \"when flow is imcompressible =\",round(pdiff,1),\"kpa\"\n",
      "print \"when flow is compressible and isentropic =\",round(pdiff1,1),\"kpa\""
     ],
     "language": "python",
     "metadata": {},
     "outputs": [
      {
       "output_type": "stream",
       "stream": "stdout",
       "text": [
        "Stagnation pressure on leading edge on the wing of the Boeing:\n",
        "when flow is imcompressible = 12.5 kpa\n",
        "when flow is compressible and isentropic = 14.7 kpa\n"
       ]
      }
     ],
     "prompt_number": 10
    },
    {
     "cell_type": "heading",
     "level": 3,
     "metadata": {},
     "source": [
      "Example 3.17 Page No.132"
     ]
    },
    {
     "cell_type": "code",
     "collapsed": false,
     "input": [
      "\n",
      "V=5               #m/s\n",
      "sg=1.03\n",
      "h=50              #m\n",
      "\n",
      "p2=(((sg*1000)*(V**2)/2) + (sg*1000*9.81*h))/1000  #kPa\n",
      "print \"The pressure at stagnation point 2 =\",round(p2,1),\"kpa\""
     ],
     "language": "python",
     "metadata": {},
     "outputs": [
      {
       "output_type": "stream",
       "stream": "stdout",
       "text": [
        "The pressure at stagnation point 2 = 518.1 kpa\n"
       ]
      }
     ],
     "prompt_number": 11
    }
   ],
   "metadata": {}
  }
 ]
}