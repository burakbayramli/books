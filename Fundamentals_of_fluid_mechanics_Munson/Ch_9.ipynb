{
 "metadata": {
  "name": "",
  "signature": "sha256:2c766184265d0fbac418d28bb9bf90901876d6391c17795f3832fa9524c975b3"
 },
 "nbformat": 3,
 "nbformat_minor": 0,
 "worksheets": [
  {
   "cells": [
    {
     "cell_type": "heading",
     "level": 1,
     "metadata": {},
     "source": [
      "Chapter 9:Flow over immersed bodies"
     ]
    },
    {
     "cell_type": "heading",
     "level": 3,
     "metadata": {},
     "source": [
      "Example 9.1 Page no.487"
     ]
    },
    {
     "cell_type": "code",
     "collapsed": false,
     "input": [
      "\n",
      "U=25.0                     #ft/sec\n",
      "p=0                        #gage\n",
      "b=10.0                     #ft\n",
      "t=1.24*(10**-3)            #where t=stress*(x**0.5)\n",
      "a=0.744                    #where a=p/(1-((y**2)/4))\n",
      "p1=-0.893                  #lb/(ft**2)\n",
      "from scipy import integrate\n",
      "def f(x):\n",
      "    return(2*t*b/(x**0.5))\n",
      "drag1=integrate.quad(f,0.0,4.0)\n",
      "print \"The drag when plate is parallel to the upstream flow=\",drag1[0],\"lb\"\n",
      "\n",
      "def f1(y):\n",
      "    return((((a*(1-((y**2)/4))))-p1)*b)\n",
      "drag2=integrate.quad(f1,-2.0,2.0)\n",
      "\n",
      "#result\n",
      "print  \"The drag when plate is perpendicular to the upstream flow=\",drag2[0],\"lb\"\n"
     ],
     "language": "python",
     "metadata": {},
     "outputs": [
      {
       "output_type": "stream",
       "stream": "stdout",
       "text": [
        "The drag when plate is parallel to the upstream flow= 0.0992 lb\n",
        "The drag when plate is perpendicular to the upstream flow= 55.56 lb\n"
       ]
      }
     ],
     "prompt_number": 28
    },
    {
     "cell_type": "heading",
     "level": 3,
     "metadata": {},
     "source": [
      "Example 9.5 Page no.508"
     ]
    },
    {
     "cell_type": "code",
     "collapsed": false,
     "input": [
      "\n",
      "U=10.0                        #ft/sec\n",
      "Twater=60.0                #degree F\n",
      "Tglycerin=68.0            #degree F\n",
      "kviswater=1.21*(10**-5)          #(ft**2)/sec\n",
      "kvisair=1.57*(10**-4)               #(ft**2)/sec\n",
      "kvisglycerin=1.28*(10**-2)       #(ft**2)/sec\n",
      "Re=5*(10**5)                         #assumption\n",
      "\n",
      "#calculation\n",
      "xcrwater=kviswater*Re/U          #ft\n",
      "xcrair=kvisair*Re/U                   #ft\n",
      "xcrglycerin=kvisglycerin*Re/U   #ft\n",
      "btwater=5*(kviswater*xcrwater/U)**0.5       #ft where bt=thickness of boundary layer\n",
      "btair=5*(kvisair*xcrair/U)**0.5                             #ft\n",
      "btglycerin=5*(kvisglycerin*xcrglycerin/U)**0.5     #ft\n",
      "\n",
      "#result\n",
      "print \"a)WATER\"\n",
      "print \"location at which boundary layer becomes turbulent=\",round(xcrwater,2),\"ft\"\n",
      "print \"Thickness of the boundary layer=\",round(btwater,5),\"ft\"\n",
      "print \"b)AIR\"\n",
      "print \"location at which boundary layer becomes turbulent=\",round(xcrair,2),\"ft\"\n",
      "print \"Thickness of the boundary layer=\",round(btair,3),\"ft\"\n",
      "print \"c)GLYCERIN\"\n",
      "print \"location at which boundary layer becomes turbulent=\",round(xcrglycerin,2),\"ft\"\n",
      "print \"Thickness of the boundary layer=\",round(btglycerin,2),\"ft\""
     ],
     "language": "python",
     "metadata": {},
     "outputs": [
      {
       "output_type": "stream",
       "stream": "stdout",
       "text": [
        "a)WATER\n",
        "location at which boundary layer becomes turbulent= 0.61 ft\n",
        "Thickness of the boundary layer= 0.00428 ft\n",
        "b)AIR\n",
        "location at which boundary layer becomes turbulent= 7.85 ft\n",
        "Thickness of the boundary layer= 0.056 ft\n",
        "c)GLYCERIN\n",
        "location at which boundary layer becomes turbulent= 640.0 ft\n",
        "Thickness of the boundary layer= 4.53 ft\n"
       ]
      }
     ],
     "prompt_number": 4
    },
    {
     "cell_type": "heading",
     "level": 3,
     "metadata": {},
     "source": [
      "Example 9.7 Page no.512"
     ]
    },
    {
     "cell_type": "code",
     "collapsed": false,
     "input": [
      "%matplotlib inline"
     ],
     "language": "python",
     "metadata": {},
     "outputs": [
      {
       "output_type": "stream",
       "stream": "stdout",
       "text": [
        "\n",
        "Welcome to pylab, a matplotlib-based Python environment [backend: module://IPython.zmq.pylab.backend_inline].\n",
        "For more information, type 'help(pylab)'.\n"
       ]
      }
     ],
     "prompt_number": 1
    },
    {
     "cell_type": "code",
     "collapsed": false,
     "input": [
      "\n",
      "T=70.0        #degree F\n",
      "U1=0.0        #ft/sec\n",
      "U2=30.0       #ft/sec\n",
      "l=4.0         #ft\n",
      "b=0.5         #ft\n",
      "d=1.94\n",
      "vis=2.04*(10**(-5))\n",
      "x=d*l/vis\n",
      "U=10.0       #ft/s  U1 < U < U2\n",
      "\n",
      "#calculation\n",
      "import math\n",
      "Re=d*l*U/(vis)    #Reynold no.\n",
      "#but we take Re approximately =3800000\n",
      "Re_=3.8*10**6\n",
      "Cd=0.455/((math.log10(Re_))**2.58)-(1700.0/Re_)\n",
      "D=d*U**2*Cd\n",
      "print \"The Drag is \",round(D,3),\"lb\"\n",
      "\n",
      "#Plot\n",
      "import numpy as np\n",
      "import matplotlib.pyplot as plt\n",
      "fig = plt.figure()\n",
      "ax = fig.add_subplot(111)\n",
      "\n",
      "U=[0,3,8,20,30]\n",
      "Df=[0,0.1,0.598,2.4,5]\n",
      "xlabel(\"U  (ft/s)\") \n",
      "ylabel(\"Df  (lb)\") \n",
      "plt.xlim((0,30))\n",
      "plt.ylim((0,5))\n",
      "a=plot(U,Df)\n",
      "\n",
      "U1=[0,1,1.5,3,5,8,15,30]\n",
      "Df1=[4,4,3,1.5,1,0.598,0.4,0.3]\n",
      "ax.annotate('Entire boundary layer laminar', xy=(0.5, 4), xytext=(3,4.2),\n",
      "            arrowprops=dict(facecolor='black', shrink=0.001),\n",
      "            )\n",
      "xlabel(\"U  (ft/s)\") \n",
      "ylabel(\"Df  (lb)\") \n",
      "plt.xlim((0,30))\n",
      "plt.ylim((0,5))\n",
      "\n",
      "a=plot(U1,Df1,linestyle='--')\n",
      "plt.text(20,2.8,'Df')\n",
      "plt.text(3,2.5,'Xcf')\n",
      "\n",
      "show(a)"
     ],
     "language": "python",
     "metadata": {},
     "outputs": [
      {
       "output_type": "stream",
       "stream": "stdout",
       "text": [
        "The Drag is  0.597 lb\n"
       ]
      },
      {
       "metadata": {},
       "output_type": "display_data",
       "png": "[encoded data removed]"
      }
     ],
     "prompt_number": 1
    },
    {
     "cell_type": "heading",
     "level": 3,
     "metadata": {},
     "source": [
      "Example 9.10 Page no.525"
     ]
    },
    {
     "cell_type": "code",
     "collapsed": false,
     "input": [
      "\n",
      "D=0.1                      #mm\n",
      "sg=2.3\n",
      "vis=1.12*(10**(-3))    #N*s/(m**2)\n",
      "#by free body diagram and assuming CD=24/Re\n",
      "U=(sg-1)*999*9.81*((D/1000)**2)/(18*vis)\n",
      "\n",
      "#Result\n",
      "print \"The velocity of the particle through still water =\",round(U,3),\"m/s\"\n",
      "\n",
      "#Plot\n",
      "import matplotlib.pyplot as plt\n",
      "fig = plt.figure()\n",
      "ax = fig.add_subplot(111)\n",
      "\n",
      "D=[0,0.01,0.02,0.04,0.06,0.1]\n",
      "U=[0,0,0.0002,0.001,0.0024,0.00632]\n",
      "xlabel(\"D  (mm)\") \n",
      "ylabel(\"U  (m/s)\") \n",
      "plt.xlim((0,0.1))\n",
      "plt.ylim((0,0.007))\n",
      "\n",
      "ax.plot([0.1], [0.00632], 'o')\n",
      "ax.annotate('(0.1mm,0.00632m/s)', xy=(0.06,0.006))\n",
      "a=plot(D,U)\n",
      "show(a)"
     ],
     "language": "python",
     "metadata": {},
     "outputs": [
      {
       "output_type": "stream",
       "stream": "stdout",
       "text": [
        "The velocity of the particle through still water = 0.006 m/s\n"
       ]
      },
      {
       "metadata": {},
       "output_type": "display_data",
       "png": "[encoded data removed]"
      }
     ],
     "prompt_number": 4
    },
    {
     "cell_type": "heading",
     "level": 3,
     "metadata": {},
     "source": [
      "Example 9.11 Page no.528"
     ]
    },
    {
     "cell_type": "code",
     "collapsed": false,
     "input": [
      "\n",
      "D=1.5                     #in\n",
      "\n",
      "CD=0.5\n",
      "dice=1.84                  #slugs/(ft**3) density of ice\n",
      "dair=2.38*(10**(-3))  #slugs/(ft**3)\n",
      "U=(4*dice*32.2*(D/12)/(3*dair*CD))**0.5     #ft/sec\n",
      "\n",
      "#Result\n",
      "print \"The velocity of the updraft needed=\",round(U*3600/5275,1),\"mph\""
     ],
     "language": "python",
     "metadata": {},
     "outputs": [
      {
       "output_type": "stream",
       "stream": "stdout",
       "text": [
        "The velocity of the updraft needed= 62.2 mph\n"
       ]
      }
     ],
     "prompt_number": 7
    },
    {
     "cell_type": "heading",
     "level": 3,
     "metadata": {},
     "source": [
      "Example 9.12 Page no.531"
     ]
    },
    {
     "cell_type": "code",
     "collapsed": false,
     "input": [
      "\n",
      "Dg=1.69                    #in.\n",
      "Wg=0.0992               #lb\n",
      "Ug=200                     #ft/sec\n",
      "Dt=1.5                       #in.\n",
      "Wt=0.00551               #lb\n",
      "Ut=60                            #ft/sec\n",
      "kvis=(1.57*(10**(-4)))    #(ft**2)/sec\n",
      "\n",
      "#Calculation\n",
      "import math\n",
      "Reg=Ug*Dg/kvis\n",
      "Ret=Ut*Dt/kvis\n",
      "#the corresponding drag coefficients are calculated as\n",
      "CDgs=0.25                   #standard golf ball\n",
      "CDgsm=0.51                #smooth golf ball\n",
      "CDt=0.5                       #table tennis ball\n",
      "Dgs=0.5*0.00238*(Ug**2)*math.pi*((Dg/12)**2)*CDgs/4          #lb\n",
      "Dgsm=0.5*0.00238*(Ug**2)*math.pi*((Dg/12)**2)*CDgsm/4     #lb\n",
      "Dt=0.5*0.00238*(Ut**2)*math.pi*((Dt/12)**2)*CDt/4                 #lb\n",
      "#the  corresponding decelerations are a=D/s=g*D/W\n",
      "#deceleration relative to g=D/W\n",
      "decgs=Dgs/Wg\n",
      "decgsm=Dgsm/Wg\n",
      "dect=Dt/Wt\n",
      "\n",
      "#result\n",
      "print\"STANDARD GOLF BALL:\"\n",
      "print \"The drag coefficient=\",round(Dgs,3),\"lb\"\n",
      "print \"The deceleration relative to g=\",round(decgs,2)\n",
      "print\"SMOOTH GOLF BALL:\"\n",
      "print \"The drag coefficient=\",round(Dgsm,3),\"lb\"\n",
      "print\"The deceleration relative to g=\",round(decgsm,2)\n",
      "print\"TABLE TENNIS BALL:\"\n",
      "print \"The drag coefficient=\",round(Dt,3),\"lb\"\n",
      "print \"The deceleration relative to g=\",round(dect,2)"
     ],
     "language": "python",
     "metadata": {},
     "outputs": [
      {
       "output_type": "stream",
       "stream": "stdout",
       "text": [
        "STANDARD GOLF BALL:\n",
        "The drag coefficient= 0.185 lb\n",
        "The deceleration relative to g= 1.87\n",
        "SMOOTH GOLF BALL:\n",
        "The drag coefficient= 0.378 lb\n",
        "The deceleration relative to g= 3.81\n",
        "TABLE TENNIS BALL:\n",
        "The drag coefficient= 0.026 lb\n",
        "The deceleration relative to g= 4.77\n"
       ]
      }
     ],
     "prompt_number": 9
    },
    {
     "cell_type": "heading",
     "level": 3,
     "metadata": {},
     "source": [
      "Example 9.13 Page no.533"
     ]
    },
    {
     "cell_type": "code",
     "collapsed": false,
     "input": [
      "\n",
      "U=88                   #fps\n",
      "Ds=40.0                #ft\n",
      "Dc=15.0                #ft\n",
      "b=50#ft\n",
      "Res=U*Ds/(1.57*(10**(-4)))\n",
      "Rec=U*Dc/(1.57*(10**(-4)))\n",
      "\n",
      "#calculation\n",
      "import math\n",
      "#from these values of Re drag coefficients are found as\n",
      "CDs=0.3\n",
      "CDc=0.7\n",
      "#by summing moments about the base of the tower\n",
      "Drs=0.5*0.00238*(U**2)*math.pi*(Ds**2)*CDs/4     #lb\n",
      "Drc=0.5*0.00238*(U**2)*b*Dc*CDc                   #lb\n",
      "M=(Drs*(b+(Ds/2)))+(Drc*(b/2))                          #ft*lb\n",
      "\n",
      "#Result\n",
      "print \"The moment needed to prevent the tower from tripping=\",round(M,3),\"lb*ft\"\n"
     ],
     "language": "python",
     "metadata": {},
     "outputs": [
      {
       "output_type": "stream",
       "stream": "stdout",
       "text": [
        "The moment needed to prevent the tower from tripping= 364139.221 lb*ft\n"
       ]
      }
     ],
     "prompt_number": 10
    },
    {
     "cell_type": "heading",
     "level": 3,
     "metadata": {},
     "source": [
      "Example 9.15 Page no.544"
     ]
    },
    {
     "cell_type": "code",
     "collapsed": false,
     "input": [
      "\n",
      "U=15                   #ft/sec\n",
      "b=96                    #ft\n",
      "c=7.5                    #ft\n",
      "W=210                 #lb\n",
      "CD=0.046\n",
      "eff=0.8                  #power train efficiency\n",
      "d=2.38*(10**(-3))       #slugs/(ft**3)\n",
      "#W=L\n",
      "CL=2*W/(d*(U**2)*b*c)\n",
      "D=0.5*d*(U**2)*b*c*CD\n",
      "P=D*U/(eff*550)       #hp\n",
      "\n",
      "#Result\n",
      "print \"The lift coefficient=\",round(CL,3)\n",
      "print \"The power required by the pilot=\",round(P,3),\"hp\"\n"
     ],
     "language": "python",
     "metadata": {},
     "outputs": [
      {
       "output_type": "stream",
       "stream": "stdout",
       "text": [
        "The lift coefficient= 1.089\n",
        "The power required by the pilot= 0.302 hp\n"
       ]
      }
     ],
     "prompt_number": 11
    },
    {
     "cell_type": "heading",
     "level": 3,
     "metadata": {},
     "source": [
      "Example 9.16 Page no.548"
     ]
    },
    {
     "cell_type": "code",
     "collapsed": false,
     "input": [
      "\n",
      "W=2.45*(10**(-2))               #N\n",
      "D=3.8*(10**(-2))                  #m\n",
      "U=12                                    #m/s\n",
      "\n",
      "#calculation\n",
      "import math\n",
      "#W=L\n",
      "d=1.23                                 #kg/(m**3)\n",
      "W=0.5*d*(U**2)*(D**2)*math.pi*CL/4\n",
      "CL=2*W/(d*(U**2)*math.pi*(D**2)/4)\n",
      "#using this value of CL, omega*D/(2*U)=x is found as \n",
      "x=0.9\n",
      "omega=2*U*x/D                  #rad/sec\n",
      "angvel=omega*60/(2*math.pi)     #rpm where angvel is angular velocity\n",
      "\n",
      "#Result\n",
      "print \"The angular velocity=\",round(angvel,3),\"rpm\""
     ],
     "language": "python",
     "metadata": {},
     "outputs": [
      {
       "output_type": "stream",
       "stream": "stdout",
       "text": [
        "The angular velocity= 5428.021 rpm\n"
       ]
      }
     ],
     "prompt_number": 12
    }
   ],
   "metadata": {}
  }
 ]
}