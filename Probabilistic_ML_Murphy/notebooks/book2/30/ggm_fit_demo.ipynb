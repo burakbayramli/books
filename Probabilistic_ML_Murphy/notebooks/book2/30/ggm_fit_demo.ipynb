{
 "cells": [
  {
   "cell_type": "code",
   "execution_count": 2,
   "id": "a4302392",
   "metadata": {},
   "outputs": [],
   "source": [
    "# This file show a demo of showing that MLE(precision matrix) of a ggm\n",
    "# satisfies the constraints mentioned in the GGM section of the book.\n",
    "import numpy as np\n",
    "\n",
    "# This function computes and returns MLE for the precision matrix of a gaussian_graphical_model(ggm)\n",
    "# given known zeros in the adjacency matrix of the graph.\n",
    "# Code in this file is based on https://github.com/probml/pmtk3/blob/master/toolbox/GraphicalModels/ggm/sub/ggmFitHtf.m\n",
    "\n",
    "\n",
    "def ggm_fit_htf(S, G, max_iter):\n",
    "    p = len(S)\n",
    "    W = S\n",
    "    prec_mat = np.zeros((p, p))\n",
    "    beta = np.zeros((p - 1, 1))\n",
    "    iters = 0\n",
    "    converged = False\n",
    "    norm_w = np.linalg.norm(W, 2)\n",
    "\n",
    "    def converge_test(val, prev_val):\n",
    "        threshold = 1e-4\n",
    "        delta = abs(val - prev_val)\n",
    "        avg = (abs(val) + abs(prev_val) + np.finfo(float).eps) / 2\n",
    "        return (delta / avg) < threshold\n",
    "\n",
    "    while not converged:\n",
    "        for i in range(p):\n",
    "\n",
    "            # partition W & S for i\n",
    "            noti = [j for j in range(p) if j != i]\n",
    "            W11 = W[np.ix_(noti, noti)]\n",
    "            w12 = W[noti, i]\n",
    "            s22 = S[i, i]\n",
    "            s12 = S[noti, i]\n",
    "\n",
    "            # find G's non-zero index in W11\n",
    "            idx = np.argwhere(G[noti, i]).reshape(-1)  # non-zeros in G11\n",
    "            beta[:] = 0\n",
    "            beta[idx] = np.linalg.lstsq(W11[np.ix_(idx, idx)], s12[idx], rcond=-1)[0].reshape(-1, 1)\n",
    "\n",
    "            # update W\n",
    "            w12 = (W11 @ beta).reshape(-1)\n",
    "            W[noti, i] = w12\n",
    "            W[i, noti] = w12.T\n",
    "\n",
    "            # update prec_mat (technically only needed on last iteration)\n",
    "            p22 = max(0, 1 / (s22 - w12.T @ beta))  # must be non-neg\n",
    "            p12 = -beta * p22\n",
    "            prec_mat[noti, i] = p12.reshape(-1)\n",
    "            prec_mat[i, noti] = p12.T\n",
    "            prec_mat[i, i] = p22\n",
    "\n",
    "        iters += 1\n",
    "        converged = converge_test(np.linalg.norm(W, 2), norm_w) or (iters >= max_iter)\n",
    "        norm_w = np.linalg.norm(W, 2)\n",
    "\n",
    "    # ensure symmetry\n",
    "    prec_mat = (prec_mat + prec_mat.T) / 2\n",
    "    return prec_mat"
   ]
  },
  {
   "cell_type": "code",
   "execution_count": 3,
   "id": "e73b28af",
   "metadata": {},
   "outputs": [],
   "source": [
    "G = np.array([0.0, 1.0, 0.0, 1, 1, 0, 1, 0, 0, 1, 0, 1, 1, 0, 1, 0]).reshape((4, 4))\n",
    "\n",
    "S = np.array([10.0, 1.0, 5.0, 4.0, 1.0, 10.0, 2.0, 6.0, 5.0, 2.0, 10.0, 3.0, 4.0, 6.0, 3.0, 10]).reshape((4, 4))\n",
    "\n",
    "max_iter = 30\n",
    "\n",
    "\n",
    "prec_mat = ggm_fit_htf(S, G, max_iter)\n",
    "sigma = np.linalg.inv(prec_mat)\n",
    "\n",
    "guide_sigma = np.array([10.0, 1.0, 1.31, 4, 1.0, 10.0, 2.0, 0.87, 1.31, 2.0, 10.0, 3, 4.0, 0.87, 3.0, 10.0]).reshape(\n",
    "    4, 4\n",
    ")\n",
    "\n",
    "guide_prec_mat = np.array(\n",
    "    [0.12, -0.01, 0, -0.05, -0.01, 0.11, -0.02, 0.0, 0, -0.02, 0.11, -0.03, -0.05, 0, -0.03, 0.13]\n",
    ").reshape(4, 4)\n",
    "\n",
    "assert np.all(sigma - guide_sigma < 1e-2)\n",
    "assert np.all(prec_mat - guide_prec_mat < 1e-2)"
   ]
  },
  {
   "cell_type": "code",
   "execution_count": null,
   "id": "9877902c",
   "metadata": {},
   "outputs": [],
   "source": []
  }
 ],
 "metadata": {
  "kernelspec": {
   "display_name": "Python 3.7.13 ('py3713')",
   "language": "python",
   "name": "python3"
  },
  "language_info": {
   "codemirror_mode": {
    "name": "ipython",
    "version": 3
   },
   "file_extension": ".py",
   "mimetype": "text/x-python",
   "name": "python",
   "nbconvert_exporter": "python",
   "pygments_lexer": "ipython3",
   "version": "3.7.13"
  },
  "vscode": {
   "interpreter": {
    "hash": "a787a6e8bcd3d3d3e4a766006c27db2c5a636d1b43e1d89cd16234e9a9c2591c"
   }
  }
 },
 "nbformat": 4,
 "nbformat_minor": 5
}
