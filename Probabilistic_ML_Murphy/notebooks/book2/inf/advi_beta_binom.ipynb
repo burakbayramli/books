{
 "cells": [
  {
   "cell_type": "markdown",
   "id": "69f64990",
   "metadata": {
    "colab_type": "text",
    "id": "view-in-github"
   },
   "source": [
    "<a href=\"https://colab.research.google.com/github/probml/probml-notebooks/blob/main/notebooks/advi_beta_binom.ipynb\" target=\"_parent\"><img src=\"https://colab.research.google.com/assets/colab-badge.svg\" alt=\"Open In Colab\"/></a>"
   ]
  },
  {
   "cell_type": "markdown",
   "id": "4f2b96bf",
   "metadata": {
    "id": "4f2b96bf"
   },
   "source": [
    "# ADVI from scratch in JAX \n",
    "\n",
    "Authors: karm-patel@, murphyk@\n",
    "\n",
    "In this notebook we apply ADVI (automatic differentiation variational inference) to the beta-binomial model, using a Normal Distribution as Variational Posterior. This involves a change of variable from the unconstrained z in R space to the constrained theta in [0,1] space."
   ]
  },
  {
   "cell_type": "code",
   "execution_count": 1,
   "id": "05bdb330",
   "metadata": {
    "colab": {
     "base_uri": "https://localhost:8080/"
    },
    "id": "05bdb330",
    "outputId": "a5ee2f3a-3334-4378-9800-94312d169a08"
   },
   "outputs": [
    {
     "name": "stdout",
     "output_type": "stream",
     "text": [
      "Note: you may need to restart the kernel to use updated packages.\n"
     ]
    }
   ],
   "source": [
    "try:\n",
    "    import jax\n",
    "except ModuleNotFoundError:\n",
    "    %pip install -qqq jax jaxlib\n",
    "    import jax\n",
    "\n",
    "import jax.numpy as jnp\n",
    "from jax import lax\n",
    "\n",
    "try:\n",
    "    from tensorflow_probability.substrates import jax as tfp\n",
    "except ModuleNotFoundError:\n",
    "    %pip install -qqq tensorflow_probability\n",
    "    from tensorflow_probability.substrates import jax as tfp\n",
    "\n",
    "try:\n",
    "    import optax\n",
    "except ModuleNotFoundError:\n",
    "    %pip install -qqq optax\n",
    "    import optax\n",
    "\n",
    "try:\n",
    "    from rich import print\n",
    "except ModuleNotFoundError:\n",
    "    %pip install -qqq rich\n",
    "    from rich import print\n",
    "\n",
    "try:\n",
    "    from tqdm import trange\n",
    "except ModuleNotFoundError:\n",
    "    %pip install -qqq tqdm\n",
    "    from tqdm import trange\n",
    "\n",
    "\n",
    "import seaborn as sns\n",
    "import numpy as np\n",
    "import matplotlib.pyplot as plt\n",
    "import warnings\n",
    "\n",
    "try:\n",
    "    import probml_utils as pml\n",
    "except ModuleNotFoundError:\n",
    "    %pip install -qqq git+https://github.com/probml/probml-utils.git\n",
    "    import probml_utils as pml\n",
    "\n",
    "\n",
    "warnings.filterwarnings(\"ignore\")\n",
    "dist = tfp.distributions\n",
    "\n",
    "plt.rc(\"font\", size=10)  # controls default text sizes\n",
    "plt.rc(\"axes\", labelsize=12)  # fontsize of the x and y labels\n",
    "plt.rc(\"legend\", fontsize=12)  # legend fontsize\n",
    "plt.rc(\"figure\", titlesize=15)  # fontsize of the figure title\n",
    "\n",
    "pml.latexify(width_scale_factor=2, fig_height=1.5)"
   ]
  },
  {
   "cell_type": "markdown",
   "id": "Q9Q22U_p1fgN",
   "metadata": {
    "id": "Q9Q22U_p1fgN"
   },
   "source": [
    "## Functions \n",
    "Helper functions which will be used later"
   ]
  },
  {
   "cell_type": "code",
   "execution_count": 2,
   "id": "TBUwCk3r1oEw",
   "metadata": {
    "id": "TBUwCk3r1oEw"
   },
   "outputs": [],
   "source": [
    "def prior_dist():\n",
    "    return dist.Beta(concentration1=1.0, concentration0=1.0)\n",
    "\n",
    "\n",
    "def likelihood_dist(theta):\n",
    "    return dist.Bernoulli(probs=theta)\n",
    "\n",
    "\n",
    "def transform_fn(x):\n",
    "    return 1 / (1 + jnp.exp(-x))  # sigmoid\n",
    "\n",
    "\n",
    "def positivity_fn(x):\n",
    "    return jnp.log(1 + jnp.exp(x))  # softplus\n",
    "\n",
    "\n",
    "def variational_distribution_q(params):\n",
    "    loc = params[\"loc\"]\n",
    "    scale = positivity_fn(params[\"scale\"])  # apply softplus\n",
    "    return dist.Normal(loc, scale)\n",
    "\n",
    "\n",
    "jacobian_fn = jax.jacfwd(transform_fn)  # define function to find jacobian for tranform_fun"
   ]
  },
  {
   "cell_type": "markdown",
   "id": "FZEmTzoHfbg9",
   "metadata": {
    "id": "FZEmTzoHfbg9"
   },
   "source": [
    "## Dataset\n",
    "Now, we will create the dataset. we sample `theta_true` (probability of occurring head) random variable from the prior distribution which is Beta in this case. Then we sample `n_samples` coin tosses from likelihood distribution which is Bernouli in this case. "
   ]
  },
  {
   "cell_type": "code",
   "execution_count": 4,
   "id": "YajB06WPxMNJ",
   "metadata": {
    "colab": {
     "base_uri": "https://localhost:8080/",
     "height": 33
    },
    "id": "YajB06WPxMNJ",
    "outputId": "6b780e95-f6d2-411c-b5ff-f64bd85f518c"
   },
   "outputs": [
    {
     "name": "stderr",
     "output_type": "stream",
     "text": [
      "WARNING:absl:No GPU/TPU found, falling back to CPU. (Set TF_CPP_MIN_LOG_LEVEL=0 and rerun for more info.)\n"
     ]
    },
    {
     "data": {
      "text/html": [
       "<pre style=\"white-space:pre;overflow-x:auto;line-height:normal;font-family:Menlo,'DejaVu Sans Mono',consolas,'Courier New',monospace\">Dataset: <span style=\"font-weight: bold\">[</span><span style=\"color: #008080; text-decoration-color: #008080; font-weight: bold\">0</span> <span style=\"color: #008080; text-decoration-color: #008080; font-weight: bold\">0</span> <span style=\"color: #008080; text-decoration-color: #008080; font-weight: bold\">0</span> <span style=\"color: #008080; text-decoration-color: #008080; font-weight: bold\">0</span> <span style=\"color: #008080; text-decoration-color: #008080; font-weight: bold\">0</span> <span style=\"color: #008080; text-decoration-color: #008080; font-weight: bold\">0</span> <span style=\"color: #008080; text-decoration-color: #008080; font-weight: bold\">0</span> <span style=\"color: #008080; text-decoration-color: #008080; font-weight: bold\">0</span> <span style=\"color: #008080; text-decoration-color: #008080; font-weight: bold\">0</span> <span style=\"color: #008080; text-decoration-color: #008080; font-weight: bold\">0</span> <span style=\"color: #008080; text-decoration-color: #008080; font-weight: bold\">1</span><span style=\"font-weight: bold\">]</span>\n",
       "</pre>\n"
      ],
      "text/plain": [
       "Dataset: \u001b[1m[\u001b[0m\u001b[1;36m0\u001b[0m \u001b[1;36m0\u001b[0m \u001b[1;36m0\u001b[0m \u001b[1;36m0\u001b[0m \u001b[1;36m0\u001b[0m \u001b[1;36m0\u001b[0m \u001b[1;36m0\u001b[0m \u001b[1;36m0\u001b[0m \u001b[1;36m0\u001b[0m \u001b[1;36m0\u001b[0m \u001b[1;36m1\u001b[0m\u001b[1m]\u001b[0m\n"
      ]
     },
     "metadata": {},
     "output_type": "display_data"
    }
   ],
   "source": [
    "# Use same data as https://github.com/probml/probml-notebooks/blob/main/notebooks/beta_binom_approx_post_pymc.ipynb\n",
    "key = jax.random.PRNGKey(128)\n",
    "dataset = np.repeat([0, 1], (10, 1))\n",
    "n_samples = len(dataset)\n",
    "print(f\"Dataset: {dataset}\")\n",
    "n_heads = dataset.sum()\n",
    "n_tails = n_samples - n_heads"
   ]
  },
  {
   "cell_type": "markdown",
   "id": "fa96ac0d",
   "metadata": {
    "id": "fa96ac0d"
   },
   "source": [
    "## Prior, Likelihood, and True Posterior  \n",
    "For coin toss problem, since we know the closed form solution of posterior, we compare the distributions of Prior, Likelihood, and True Posterior below."
   ]
  },
  {
   "cell_type": "code",
   "execution_count": 5,
   "id": "bc027abf",
   "metadata": {
    "colab": {
     "base_uri": "https://localhost:8080/",
     "height": 282
    },
    "id": "bc027abf",
    "outputId": "24cdcf89-13a0-4d98-923b-2675cb17b5e3"
   },
   "outputs": [
    {
     "data": {
      "image/png": "[encoded data removed]",
      "text/plain": [
       "<Figure size 432x288 with 2 Axes>"
      ]
     },
     "metadata": {
      "needs_background": "light"
     },
     "output_type": "display_data"
    }
   ],
   "source": [
    "# closed form of beta posterior\n",
    "a = prior_dist().concentration1\n",
    "b = prior_dist().concentration0\n",
    "\n",
    "exact_posterior = dist.Beta(concentration1=a + n_heads, concentration0=b + n_tails)\n",
    "\n",
    "theta_range = jnp.linspace(0.01, 0.99, 100)\n",
    "\n",
    "plt.figure()\n",
    "ax = plt.gca()\n",
    "ax2 = ax.twinx()\n",
    "(plt2,) = ax2.plot(theta_range, exact_posterior.prob(theta_range), \"g--\", label=\"True Posterior\")\n",
    "(plt3,) = ax2.plot(theta_range, prior_dist().prob(theta_range), label=\"Prior\")\n",
    "\n",
    "likelihood = jax.vmap(lambda x: jnp.prod(likelihood_dist(x).prob(dataset)))(theta_range)\n",
    "(plt1,) = ax.plot(theta_range, likelihood, \"r-.\", label=\"Likelihood\")\n",
    "\n",
    "ax.set_xlabel(\"theta\")\n",
    "ax.set_ylabel(\"Likelihood\")\n",
    "ax2.set_ylabel(\"Prior & Posterior\")\n",
    "ax2.legend(handles=[plt1, plt2, plt3], bbox_to_anchor=(1.6, 1));"
   ]
  },
  {
   "cell_type": "markdown",
   "id": "aMk0AEmnfoLT",
   "metadata": {
    "id": "aMk0AEmnfoLT"
   },
   "source": [
    "## Optimizing the ELBO\n",
    "In order to minimize KL divergence between true posterior and variational distribution, we need to minimize the negative ELBO, as we describe below.\n",
    "\n",
    "We start with the ELBO, which is given by:\n",
    "\\begin{align}\n",
    "ELBO(\\psi) &= E_{z \\sim q(z|\\psi)} \\left[\n",
    "  p(\\mathcal{D}|z) + \\log p(z) - \\log q(z|\\psi) \\right]\n",
    "\\end{align}\n",
    "where \n",
    "$\\psi = (\\mu, \\sigma)$ are the variational parameters,\n",
    "$p(\\mathcal{D}|z) =  p(\\mathcal{D}|\\theta=\\sigma(z))$\n",
    "is the likelihood,\n",
    "and the prior is given by the change of variables formula:\n",
    "\\begin{align}\n",
    "p(z) &= p(\\theta) | \\frac{\\partial \\theta}{\\partial z} |\n",
    " =  p(\\theta) | J | \n",
    "\\end{align}\n",
    "where $J$ is the Jacobian of the $z \\rightarrow \\theta$ mapping.\n",
    "We will use a Monte Carlo approximation of the expectation over $z$.\n",
    "We also apply the reparameterization trick\n",
    "to replace $z \\sim q(z|\\psi)$ with\n",
    "\\begin{align}\n",
    "\\epsilon &\\sim \\mathcal{N}(0,1 ) \\\\\n",
    "z &= \\mu + \\sigma \\epsilon\n",
    "\\end{align}\n",
    "Putting it altogether our estimate for the negative ELBO (for a single sample of $\\epsilon$) is\n",
    "\\begin{align}\n",
    "-L(\\psi; z) &=  -( \\log p(\\mathcal{D}|\\theta ) \n",
    "+\\log p( \\theta)   + \\log|J_\\boldsymbol{\\sigma}(z)|) \n",
    "+ \\log q(z|\\psi)\n",
    "\\end{align}\n",
    "\n",
    "\n",
    "\n"
   ]
  },
  {
   "cell_type": "code",
   "execution_count": 6,
   "id": "fb8f583e",
   "metadata": {
    "id": "fb8f583e"
   },
   "outputs": [],
   "source": [
    "def log_prior_likelihood_jacobian(normal_sample, dataset):\n",
    "    theta = transform_fn(normal_sample)  # transform normal sample to beta sample\n",
    "    likelihood_log_prob = likelihood_dist(theta).log_prob(dataset).sum()  # log probability of likelihood\n",
    "    prior_log_prob = prior_dist().log_prob(theta)  # log probability of prior\n",
    "    log_det_jacob = jnp.log(\n",
    "        jnp.abs(jnp.linalg.det(jacobian_fn(normal_sample).reshape(1, 1)))\n",
    "    )  # log of determinant of jacobian\n",
    "    return likelihood_log_prob + prior_log_prob + log_det_jacob"
   ]
  },
  {
   "cell_type": "code",
   "execution_count": 7,
   "id": "9ba6a667",
   "metadata": {
    "id": "9ba6a667"
   },
   "outputs": [],
   "source": [
    "# reference: https://code-first-ml.github.io/book2/notebooks/introduction/variational.html\n",
    "def negative_elbo(params, dataset, n_samples=10, key=jax.random.PRNGKey(1)):\n",
    "\n",
    "    q = variational_distribution_q(params)  # Normal distribution.\n",
    "    q_loc, q_scale = q.loc, q.scale\n",
    "\n",
    "    std_normal = dist.Normal(0, 1)\n",
    "    sample_set = std_normal.sample(\n",
    "        seed=key,\n",
    "        sample_shape=[\n",
    "            n_samples,\n",
    "        ],\n",
    "    )\n",
    "    sample_set = q_loc + q_scale * sample_set  # reparameterization trick\n",
    "\n",
    "    # calculate log joint for each sample of z\n",
    "    p_log_prob = jax.vmap(log_prior_likelihood_jacobian, in_axes=(0, None))(sample_set, dataset)\n",
    "\n",
    "    return jnp.mean(q.log_prob(sample_set) - p_log_prob)"
   ]
  },
  {
   "cell_type": "markdown",
   "id": "94b5122c",
   "metadata": {
    "id": "94b5122c"
   },
   "source": [
    "We now apply stochastic gradient descent to minimize negative ELBO and optimize the variational parameters (`loc` and `scale`)"
   ]
  },
  {
   "cell_type": "code",
   "execution_count": 8,
   "id": "e834dfe3",
   "metadata": {
    "colab": {
     "base_uri": "https://localhost:8080/",
     "height": 99
    },
    "id": "e834dfe3",
    "outputId": "3ff8cfe2-78e2-415b-a38b-47acb8859156"
   },
   "outputs": [
    {
     "data": {
      "text/html": [
       "<pre style=\"white-space:pre;overflow-x:auto;line-height:normal;font-family:Menlo,'DejaVu Sans Mono',consolas,'Courier New',monospace\">loss: <span style=\"color: #008080; text-decoration-color: #008080; font-weight: bold\">9.09147834777832</span>\n",
       "</pre>\n"
      ],
      "text/plain": [
       "loss: \u001b[1;36m9.09147834777832\u001b[0m\n"
      ]
     },
     "metadata": {},
     "output_type": "display_data"
    },
    {
     "data": {
      "text/html": [
       "<pre style=\"white-space:pre;overflow-x:auto;line-height:normal;font-family:Menlo,'DejaVu Sans Mono',consolas,'Courier New',monospace\">grads:\n",
       " loc: <span style=\"color: #008080; text-decoration-color: #008080; font-weight: bold\">4.692040920257568</span>\n",
       " scale: <span style=\"color: #008080; text-decoration-color: #008080; font-weight: bold\">0.6960504651069641</span> \n",
       "</pre>\n"
      ],
      "text/plain": [
       "grads:\n",
       " loc: \u001b[1;36m4.692040920257568\u001b[0m\n",
       " scale: \u001b[1;36m0.6960504651069641\u001b[0m \n"
      ]
     },
     "metadata": {},
     "output_type": "display_data"
    }
   ],
   "source": [
    "loss_and_grad_fn = jax.value_and_grad(negative_elbo, argnums=(0))\n",
    "loss_and_grad_fn = jax.jit(loss_and_grad_fn)  # jit the loss_and_grad function\n",
    "\n",
    "params = {\"loc\": 0.0, \"scale\": 0.5}\n",
    "elbo, grads = loss_and_grad_fn(params, dataset)\n",
    "\n",
    "print(f\"loss: {elbo}\")\n",
    "print(f\"grads:\\n loc: {grads['loc']}\\n scale: {grads['scale']} \")\n",
    "\n",
    "optimizer = optax.adam(learning_rate=0.01)\n",
    "opt_state = optimizer.init(params)"
   ]
  },
  {
   "cell_type": "code",
   "execution_count": 9,
   "id": "48dcd6e8",
   "metadata": {
    "id": "48dcd6e8"
   },
   "outputs": [],
   "source": [
    "# jax scannable function for training\n",
    "def train_step(carry, data_output):\n",
    "\n",
    "    # take carry data\n",
    "    key = carry[\"key\"]\n",
    "    elbo = carry[\"elbo\"]\n",
    "    grads = carry[\"grads\"]\n",
    "    params = carry[\"params\"]\n",
    "    opt_state = carry[\"opt_state\"]\n",
    "    updates = carry[\"updates\"]\n",
    "\n",
    "    # training\n",
    "    key, subkey = jax.random.split(key)\n",
    "    elbo, grads = loss_and_grad_fn(params, dataset, key=subkey)\n",
    "    updates, opt_state = optimizer.update(grads, opt_state)\n",
    "    params = optax.apply_updates(params, updates)\n",
    "\n",
    "    # forward carry to next iteration by storing it\n",
    "    carry = {\"key\": subkey, \"elbo\": elbo, \"grads\": grads, \"params\": params, \"opt_state\": opt_state, \"updates\": updates}\n",
    "\n",
    "    output = {\"elbo\": elbo, \"params\": params}\n",
    "\n",
    "    return carry, output"
   ]
  },
  {
   "cell_type": "code",
   "execution_count": 10,
   "id": "r-nFedcOSnLH",
   "metadata": {
    "colab": {
     "base_uri": "https://localhost:8080/"
    },
    "id": "r-nFedcOSnLH",
    "outputId": "e0a9083d-6a05-4a0d-b333-455a5199d29d"
   },
   "outputs": [
    {
     "name": "stdout",
     "output_type": "stream",
     "text": [
      "CPU times: user 2.03 s, sys: 20.4 ms, total: 2.05 s\n",
      "Wall time: 1.96 s\n"
     ]
    }
   ],
   "source": [
    "%%time\n",
    "\n",
    "# dummy iteration to pass carry to jax scannale function train()\n",
    "key, subkey = jax.random.split(key)\n",
    "elbo, grads = loss_and_grad_fn(params, dataset, key=subkey)\n",
    "updates, opt_state = optimizer.update(grads, opt_state)\n",
    "params = optax.apply_updates(params, updates)\n",
    "\n",
    "carry = {\"key\": key, \"elbo\": elbo, \"grads\": grads, \"params\": params, \"opt_state\": opt_state, \"updates\": updates}\n",
    "\n",
    "num_iter = 1000\n",
    "elbos = np.empty(num_iter)\n",
    "\n",
    "# apply scan() to optimize training loop\n",
    "last_carry, output = lax.scan(train_step, carry, elbos)\n",
    "\n",
    "elbo = output[\"elbo\"]\n",
    "params = output[\"params\"]\n",
    "optimized_params = last_carry[\"params\"]"
   ]
  },
  {
   "cell_type": "code",
   "execution_count": 29,
   "id": "808e2ffd",
   "metadata": {},
   "outputs": [
    {
     "data": {
      "text/plain": [
       "{'loc': DeviceArray(-1.9149526, dtype=float32),\n",
       " 'scale': DeviceArray(0.21098873, dtype=float32)}"
      ]
     },
     "execution_count": 29,
     "metadata": {},
     "output_type": "execute_result"
    }
   ],
   "source": [
    "optimized_params = jax.tree_map(lambda x: x[-100:].mean(), output[\"params\"])\n",
    "optimized_params"
   ]
  },
  {
   "cell_type": "code",
   "execution_count": 30,
   "id": "JtMxRokq6DmD",
   "metadata": {
    "colab": {
     "base_uri": "https://localhost:8080/",
     "height": 49
    },
    "id": "JtMxRokq6DmD",
    "outputId": "40fff844-4264-4c30-cb32-defcba940fee"
   },
   "outputs": [
    {
     "data": {
      "text/html": [
       "<pre style=\"white-space:pre;overflow-x:auto;line-height:normal;font-family:Menlo,'DejaVu Sans Mono',consolas,'Courier New',monospace\"><span style=\"font-weight: bold\">(</span><span style=\"color: #008080; text-decoration-color: #008080; font-weight: bold\">1000</span>,<span style=\"font-weight: bold\">)</span>\n",
       "</pre>\n"
      ],
      "text/plain": [
       "\u001b[1m(\u001b[0m\u001b[1;36m1000\u001b[0m,\u001b[1m)\u001b[0m\n"
      ]
     },
     "metadata": {},
     "output_type": "display_data"
    },
    {
     "data": {
      "text/html": [
       "<pre style=\"white-space:pre;overflow-x:auto;line-height:normal;font-family:Menlo,'DejaVu Sans Mono',consolas,'Courier New',monospace\"><span style=\"font-weight: bold\">(</span><span style=\"color: #008080; text-decoration-color: #008080; font-weight: bold\">1000</span>,<span style=\"font-weight: bold\">)</span>\n",
       "</pre>\n"
      ],
      "text/plain": [
       "\u001b[1m(\u001b[0m\u001b[1;36m1000\u001b[0m,\u001b[1m)\u001b[0m\n"
      ]
     },
     "metadata": {},
     "output_type": "display_data"
    }
   ],
   "source": [
    "print(params[\"loc\"].shape)\n",
    "print(params[\"scale\"].shape)"
   ]
  },
  {
   "cell_type": "markdown",
   "id": "bbbbdef9",
   "metadata": {
    "id": "bbbbdef9"
   },
   "source": [
    "We now plot the ELBO  "
   ]
  },
  {
   "cell_type": "code",
   "execution_count": 31,
   "id": "a__PZbi740j0",
   "metadata": {
    "colab": {
     "base_uri": "https://localhost:8080/",
     "height": 282
    },
    "id": "a__PZbi740j0",
    "outputId": "1a8fbaf2-7d34-498f-c10e-c547e41c1b79"
   },
   "outputs": [
    {
     "data": {
      "image/png": "[encoded data removed]",
      "text/plain": [
       "<Figure size 432x288 with 1 Axes>"
      ]
     },
     "metadata": {
      "needs_background": "light"
     },
     "output_type": "display_data"
    }
   ],
   "source": [
    "plt.figure()\n",
    "plt.plot(elbo)\n",
    "plt.xlabel(\"Iterations\")\n",
    "plt.ylabel(\"Negative ELBO\")\n",
    "sns.despine()\n",
    "pml.savefig(\"advi_beta_binom_jax_loss.pdf\")"
   ]
  },
  {
   "cell_type": "markdown",
   "id": "d3505fd3",
   "metadata": {
    "id": "d3505fd3"
   },
   "source": [
    "We can see that after 200 iterations ELBO is optimized and not changing too much."
   ]
  },
  {
   "cell_type": "markdown",
   "id": "2_wanxQtgbbx",
   "metadata": {
    "id": "2_wanxQtgbbx"
   },
   "source": [
    "## Samples using Optimized parameters "
   ]
  },
  {
   "cell_type": "markdown",
   "id": "b84fc72d",
   "metadata": {
    "id": "b84fc72d"
   },
   "source": [
    "Now, we take 1000 samples from variational distribution (Normal) and transform them into true posterior distribution (Beta) by applying `tranform_fn` (sigmoid) on samples. Then we compare density of samples with exact posterior."
   ]
  },
  {
   "cell_type": "code",
   "execution_count": 32,
   "id": "4cf71065",
   "metadata": {
    "colab": {
     "base_uri": "https://localhost:8080/",
     "height": 299
    },
    "id": "4cf71065",
    "outputId": "91d330cc-68ba-4bf8-c499-fbb09fd2d1d4"
   },
   "outputs": [
    {
     "data": {
      "image/png": "[encoded data removed]",
      "text/plain": [
       "<Figure size 432x288 with 1 Axes>"
      ]
     },
     "metadata": {
      "needs_background": "light"
     },
     "output_type": "display_data"
    }
   ],
   "source": [
    "q_learned = variational_distribution_q(optimized_params)\n",
    "key = jax.random.PRNGKey(128)\n",
    "q_learned_samples = q_learned.sample(1000, seed=key)  # q(z|D)\n",
    "transformed_samples = transform_fn(q_learned_samples)  # transform Normal samples into Beta samples\n",
    "\n",
    "theta_range = jnp.linspace(0.01, 0.99, 1000)\n",
    "plt.figure()\n",
    "plt.plot(theta_range, exact_posterior.prob(theta_range), \"r\", label=\"$p(x)$: true posterior\")\n",
    "sns.kdeplot(\n",
    "    transformed_samples,\n",
    "    color=\"blue\",\n",
    "    label=\"$q(x)$: variational posterior\",\n",
    "    bw_adjust=1,\n",
    "    clip=(0.0, 1.0),\n",
    "    linestyle=\"--\",\n",
    ")\n",
    "\n",
    "plt.xlabel(\"$\\\\theta$\")\n",
    "plt.legend()  # bbox_to_anchor=(1.5, 1));\n",
    "sns.despine()\n",
    "\n",
    "pml.savefig(\"advi_beta_binom_jax_posterior.pdf\")"
   ]
  },
  {
   "cell_type": "markdown",
   "id": "V1D7juJV9J22",
   "metadata": {
    "id": "V1D7juJV9J22"
   },
   "source": [
    "We can see that the learned `q(x)` is a reasonably good approximation to the true posterior. It seems to have support over negative theta but this is an artefact of KDE.\n"
   ]
  },
  {
   "cell_type": "code",
   "execution_count": 33,
   "id": "FaU7odF-9TFn",
   "metadata": {
    "colab": {
     "base_uri": "https://localhost:8080/",
     "height": 65
    },
    "id": "FaU7odF-9TFn",
    "outputId": "f6a24911-0580-4857-a8a8-1ced72c8973c"
   },
   "outputs": [
    {
     "data": {
      "text/html": [
       "<pre style=\"white-space:pre;overflow-x:auto;line-height:normal;font-family:Menlo,'DejaVu Sans Mono',consolas,'Courier New',monospace\"><span style=\"color: #008080; text-decoration-color: #008080; font-weight: bold\">1000</span>\n",
       "</pre>\n"
      ],
      "text/plain": [
       "\u001b[1;36m1000\u001b[0m\n"
      ]
     },
     "metadata": {},
     "output_type": "display_data"
    },
    {
     "data": {
      "text/html": [
       "<pre style=\"white-space:pre;overflow-x:auto;line-height:normal;font-family:Menlo,'DejaVu Sans Mono',consolas,'Courier New',monospace\"><span style=\"color: #008080; text-decoration-color: #008080; font-weight: bold\">0</span>\n",
       "</pre>\n"
      ],
      "text/plain": [
       "\u001b[1;36m0\u001b[0m\n"
      ]
     },
     "metadata": {},
     "output_type": "display_data"
    },
    {
     "data": {
      "text/html": [
       "<pre style=\"white-space:pre;overflow-x:auto;line-height:normal;font-family:Menlo,'DejaVu Sans Mono',consolas,'Courier New',monospace\"><span style=\"color: #008080; text-decoration-color: #008080; font-weight: bold\">0</span>\n",
       "</pre>\n"
      ],
      "text/plain": [
       "\u001b[1;36m0\u001b[0m\n"
      ]
     },
     "metadata": {},
     "output_type": "display_data"
    }
   ],
   "source": [
    "# print(transformed_samples)\n",
    "print(len(transformed_samples))\n",
    "print(jnp.sum(transformed_samples < 0))  # all samples of thetas should be in [0,1]\n",
    "print(jnp.sum(transformed_samples > 1))  # all samples of thetas should be in [0,1]"
   ]
  },
  {
   "cell_type": "code",
   "execution_count": 34,
   "id": "MDigrSzC8GE7",
   "metadata": {
    "colab": {
     "base_uri": "https://localhost:8080/",
     "height": 100
    },
    "id": "MDigrSzC8GE7",
    "outputId": "ee0f98cd-7949-4a93-9ec1-152d22e1432f"
   },
   "outputs": [
    {
     "data": {
      "text/html": [
       "<pre style=\"white-space:pre;overflow-x:auto;line-height:normal;font-family:Menlo,'DejaVu Sans Mono',consolas,'Courier New',monospace\"><span style=\"color: #800080; text-decoration-color: #800080; font-weight: bold\">tfp.distributions.Normal</span><span style=\"font-weight: bold\">(</span><span style=\"color: #008000; text-decoration-color: #008000\">\"Normal\"</span>, <span style=\"color: #808000; text-decoration-color: #808000\">batch_shape</span>=<span style=\"font-weight: bold\">[]</span>, <span style=\"color: #808000; text-decoration-color: #808000\">event_shape</span>=<span style=\"font-weight: bold\">[]</span>, <span style=\"color: #808000; text-decoration-color: #808000\">dtype</span>=<span style=\"color: #800080; text-decoration-color: #800080\">float32</span><span style=\"font-weight: bold\">)</span>\n",
       "</pre>\n"
      ],
      "text/plain": [
       "\u001b[1;35mtfp.distributions.Normal\u001b[0m\u001b[1m(\u001b[0m\u001b[32m\"Normal\"\u001b[0m, \u001b[33mbatch_shape\u001b[0m=\u001b[1m[\u001b[0m\u001b[1m]\u001b[0m, \u001b[33mevent_shape\u001b[0m=\u001b[1m[\u001b[0m\u001b[1m]\u001b[0m, \u001b[33mdtype\u001b[0m=\u001b[35mfloat32\u001b[0m\u001b[1m)\u001b[0m\n"
      ]
     },
     "metadata": {},
     "output_type": "display_data"
    },
    {
     "data": {
      "text/html": [
       "<pre style=\"white-space:pre;overflow-x:auto;line-height:normal;font-family:Menlo,'DejaVu Sans Mono',consolas,'Courier New',monospace\"><span style=\"color: #008080; text-decoration-color: #008080; font-weight: bold\">-1.9149526</span>\n",
       "</pre>\n"
      ],
      "text/plain": [
       "\u001b[1;36m-1.9149526\u001b[0m\n"
      ]
     },
     "metadata": {},
     "output_type": "display_data"
    },
    {
     "data": {
      "text/html": [
       "<pre style=\"white-space:pre;overflow-x:auto;line-height:normal;font-family:Menlo,'DejaVu Sans Mono',consolas,'Courier New',monospace\"><span style=\"color: #008080; text-decoration-color: #008080; font-weight: bold\">0.8041958</span>\n",
       "</pre>\n"
      ],
      "text/plain": [
       "\u001b[1;36m0.8041958\u001b[0m\n"
      ]
     },
     "metadata": {},
     "output_type": "display_data"
    }
   ],
   "source": [
    "print(q_learned)\n",
    "print(q_learned.mean())\n",
    "print(jnp.sqrt(q_learned.variance()))"
   ]
  },
  {
   "cell_type": "code",
   "execution_count": 35,
   "id": "Ou1lgfiH531a",
   "metadata": {
    "colab": {
     "base_uri": "https://localhost:8080/",
     "height": 547
    },
    "id": "Ou1lgfiH531a",
    "outputId": "37320687-8662-4cc0-bf58-3c063f1ef1c5"
   },
   "outputs": [
    {
     "data": {
      "image/png": "[encoded data removed]",
      "text/plain": [
       "<Figure size 432x288 with 1 Axes>"
      ]
     },
     "metadata": {
      "needs_background": "light"
     },
     "output_type": "display_data"
    },
    {
     "data": {
      "image/png": "[encoded data removed]",
      "text/plain": [
       "<Figure size 432x288 with 1 Axes>"
      ]
     },
     "metadata": {
      "needs_background": "light"
     },
     "output_type": "display_data"
    }
   ],
   "source": [
    "locs, scales = params[\"loc\"], params[\"scale\"]\n",
    "sigmas = positivity_fn(jnp.array(scales))\n",
    "plt.figure()\n",
    "plt.plot(locs, label=\"mu\")\n",
    "plt.xlabel(\"Iterations\")\n",
    "plt.ylabel(\"$E_q[z]$\")\n",
    "plt.legend()\n",
    "sns.despine()\n",
    "pml.savefig(\"advi_beta_binom_jax_post_mu_vs_time.pdf\")\n",
    "plt.show()\n",
    "\n",
    "plt.figure()\n",
    "plt.plot(sigmas, label=\"sigma\")\n",
    "plt.xlabel(\"Iterations\")\n",
    "# plt.ylabel(r'$\\sqrt{\\text{var}(z)}')\n",
    "plt.ylabel(\"$std_{q}[z]$\")\n",
    "plt.legend()\n",
    "sns.despine()\n",
    "pml.savefig(\"advi_beta_binom_jax_post_sigma_vs_time.pdf\")\n",
    "plt.show()"
   ]
  },
  {
   "cell_type": "markdown",
   "id": "gf2lVoeQOF07",
   "metadata": {
    "id": "gf2lVoeQOF07"
   },
   "source": [
    "## References:\n",
    "\n",
    "1. ADVI paper: https://arxiv.org/abs/1603.00788\n",
    "2. Blog: https://code-first-ml.github.io/book2/notebooks/introduction/variational.html\n",
    "3. Blog: https://luiarthur.github.io/statorial/varinf/introvi/\n",
    "4. Video: https://www.youtube.com/watch?v=HxQ94L8n0vU \n",
    "5. Github issue: https://github.com/pyro-ppl/pyro/issues/3016#:~:text=loc%3D%27upper%20right%27)-,Bandwidth%20adjustment,-Another%20thing%20to\n",
    "6. Blog: https://ericmjl.github.io/dl-workshop/02-jax-idioms/02-loopy-carry.html"
   ]
  }
 ],
 "metadata": {
  "accelerator": "GPU",
  "colab": {
   "collapsed_sections": [],
   "include_colab_link": true,
   "name": "advi_beta_binom_jax.ipynb",
   "provenance": []
  },
  "kernelspec": {
   "display_name": "Python [conda env:py3713_2]",
   "language": "python",
   "name": "conda-env-py3713_2-py"
  },
  "language_info": {
   "codemirror_mode": {
    "name": "ipython",
    "version": 3
   },
   "file_extension": ".py",
   "mimetype": "text/x-python",
   "name": "python",
   "nbconvert_exporter": "python",
   "pygments_lexer": "ipython3",
   "version": "3.7.13"
  }
 },
 "nbformat": 4,
 "nbformat_minor": 5
}
