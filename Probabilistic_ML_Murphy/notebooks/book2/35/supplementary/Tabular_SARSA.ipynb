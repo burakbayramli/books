{
 "nbformat": 4,
 "nbformat_minor": 0,
 "metadata": {
  "colab": {
   "name": "Tabular_SARSA.ipynb",
   "provenance": [],
   "toc_visible": true,
   "include_colab_link": true
  },
  "kernelspec": {
   "display_name": "Python 3",
   "language": "python",
   "name": "python3"
  },
  "language_info": {
   "codemirror_mode": {
    "name": "ipython",
    "version": 3
   },
   "file_extension": ".py",
   "mimetype": "text/x-python",
   "name": "python",
   "nbconvert_exporter": "python",
   "pygments_lexer": "ipython3",
   "version": "3.7.6"
  }
 },
 "cells": [
  {
   "cell_type": "markdown",
   "metadata": {
    "id": "view-in-github",
    "colab_type": "text"
   },
   "source": [
    "<a href=\"https://colab.research.google.com/github/probml/pyprobml/blob/master/book2/rl/Tabular_SARSA.ipynb\" target=\"_parent\"><img src=\"https://colab.research.google.com/assets/colab-badge.svg\" alt=\"Open In Colab\"/></a>"
   ]
  },
  {
   "cell_type": "markdown",
   "metadata": {
    "id": "qwWX1CpCAvwp"
   },
   "source": [
    "# Tabular Sarsa Algorithm and the Taxi Environment\n",
    "\n",
    "Authors: Fred Amouzgar <fred.amouzgar@mq.edu.au> and Kevin Murphy <murphyk@gmail.com>\n",
    "\n",
    "\n",
    "Tabular methods are suitable for small and discrete state space and discrete action space environments. So, the state-action function (Q) can be represented by a table of values. For large state space environments, we prefer to use approximation methods such as neural networks. However, the simplicity of tabular methods' implementation is helpful to demonstrate RL method's functionality.  In this notebook, we train a SARSA agent for [OpenAI's Taxi Gym](https://gym.openai.com/envs/Taxi-v2/) environment (an example originally proposed by Tom Dietterich)."
   ]
  },
  {
   "cell_type": "markdown",
   "metadata": {
    "id": "IphbO1Y2BQ-J"
   },
   "source": [
    "## 1- Installations"
   ]
  },
  {
   "cell_type": "code",
   "metadata": {
    "id": "IYHrnYXTBuXe"
   },
   "source": [
    "\n",
    "try:\n",
    "    # %tensorflow_version only exists in Colab.\n",
    "    %tensorflow_version 2.x\n",
    "    IS_COLAB = True\n",
    "except Exception:\n",
    "    IS_COLAB = False\n",
    "\n",
    "if not(IS_COLAB):    \n",
    "  print('not a colab')\n",
    "  !pip -q install gym numpy matplotlib "
   ],
   "execution_count": 6,
   "outputs": []
  },
  {
   "cell_type": "markdown",
   "metadata": {
    "id": "vrJGjKw-B6X7"
   },
   "source": [
    "## 2- Setting up the Environment"
   ]
  },
  {
   "cell_type": "code",
   "metadata": {
    "colab": {
     "base_uri": "https://localhost:8080/"
    },
    "id": "NA58-PytB44R",
    "outputId": "6a1ab6ba-6fa9-454a-d3cc-173d7eba1f1f"
   },
   "source": [
    "import gym\n",
    "\n",
    "# Finding the Taxi environment\n",
    "for env in gym.envs.registry.all():\n",
    "    if env.id.startswith(\"Taxi\"):\n",
    "        env_name = env.id\n",
    "##\n",
    "\n",
    "\n",
    "print(\"Environment Name:\", env_name)\n",
    "env = gym.make(env_name)\n",
    "env.reset()\n",
    "env.render()"
   ],
   "execution_count": 16,
   "outputs": [
    {
     "output_type": "stream",
     "text": [
      "Environment Name: Taxi-v3\n",
      "+---------+\n",
      "|R: | : :\u001b[34;1mG\u001b[0m|\n",
      "| : |\u001b[43m \u001b[0m: : |\n",
      "| : : : : |\n",
      "| | : | : |\n",
      "|\u001b[35mY\u001b[0m| : |B: |\n",
      "+---------+\n",
      "\n"
     ],
     "name": "stdout"
    }
   ]
  },
  {
   "cell_type": "markdown",
   "metadata": {
    "id": "N2q3JJNoIcdP"
   },
   "source": [
    "Here is a description of the taxi environment from the [docstring](https://github.com/openai/gym/blob/master/gym/envs/toy_text/taxi.py).\n",
    "\n",
    "\n",
    "### Description:\n",
    "\n",
    "There are four designated locations in the grid world indicated by R(ed), G(reen), Y(ellow), and B(lue). When the episode starts, the taxi starts off at a random square and the passenger is at a random location. The taxi drives to the passenger's location, picks up the passenger, drives to the passenger's destination (another one of the four specified locations), and then drops off the passenger. Once the passenger is dropped off, the episode ends.\n",
    "\n",
    "### States/ Observations:\n",
    "\n",
    "State space is (taxi_row, taxi_col, passenger_location, destination).\n",
    "\n",
    "There are 500 discrete states since there are 25 taxi positions, 5 possible locations of the passenger (including the case when the passenger is in the taxi), and 4 destination locations. \n",
    "\n",
    "\n",
    "### Passenger locations:\n",
    "- 0: R(ed)\n",
    "- 1: G(reen)\n",
    "- 2: Y(ellow)\n",
    "- 3: B(lue)\n",
    "- 4: in taxi\n",
    "\n",
    "### Destinations:\n",
    "- 0: R(ed)\n",
    "- 1: G(reen)\n",
    "- 2: Y(ellow)\n",
    "- 3: B(lue)\n",
    "\n",
    "### Actions:\n",
    "\n",
    "There are 6 discrete deterministic actions:\n",
    "- 0: move south\n",
    "- 1: move north\n",
    "- 2: move east\n",
    "- 3: move west\n",
    "- 4: pickup passenger\n",
    "- 5: drop off passenger\n",
    "\n",
    "\n",
    "Notice in this environment the taxi cannot perform certain actions in certain states due to walls. In environment's code, we will simply provide a -1 penalty for every wall hit and the taxi won't move anywhere. This will just rack up penalties causing the taxi to consider going around the wall.\n",
    "\n",
    "### Rewards:\n",
    "\n",
    "There is a default per-step reward of -1,\n",
    "except for delivering the passenger, which is +20,\n",
    "or executing \"pickup\" and \"drop-off\" actions illegally, which is -10.\n",
    "\n",
    "### Rendering:\n",
    "- blue: passenger\n",
    "- magenta: destination\n",
    "- yellow: empty taxi\n",
    "- green: full taxi\n",
    "- other letters (R, G, Y and B): locations for passengers and destinations\n",
    "\n"
   ]
  },
  {
   "cell_type": "markdown",
   "metadata": {
    "id": "2U7EBEtzCyhH"
   },
   "source": [
    "## 3- Developing the SARSA agent\n",
    "\n",
    "<img src=\"https://github.com/probml/pyprobml/blob/master/book2/rl/figures/SARSA_algorithm.png?raw=1\" width=\"800\">\n",
    "\n",
    "Here's the full update formula covered in line 7 and 8:\n",
    "<img src=\"https://github.com/probml/pyprobml/blob/master/book2/rl/figures/SARSA_formula.png?raw=1\" width=\"500\">"
   ]
  },
  {
   "cell_type": "code",
   "metadata": {
    "id": "FFghKMePC4tl"
   },
   "source": [
    "import numpy as np\n",
    "import pickle\n",
    "\n",
    "\n",
    "class Sarsa_Agent:\n",
    "    def __init__(\n",
    "        self,\n",
    "        states_n,\n",
    "        actions_n,\n",
    "        learning_rate=0.2,\n",
    "        epsilon=0.1,\n",
    "        gamma=0.95,\n",
    "        epsilon_decay=True,\n",
    "        epsilon_decay_factor=0.01,\n",
    "    ):\n",
    "        self.learning_rate = learning_rate\n",
    "        self.epsilon = epsilon\n",
    "        self.gamma = gamma\n",
    "        self.states_n = states_n\n",
    "        self.actions_n = actions_n\n",
    "        self.Q = np.zeros((states_n, actions_n))\n",
    "        self.new_a = None\n",
    "        self.epsilon_decay = epsilon_decay\n",
    "        self.epsilon_decay_factor = epsilon_decay_factor\n",
    "\n",
    "    def act(self, state):\n",
    "        \"\"\"The act method implements the epsilon-greedy policy\"\"\"\n",
    "        if np.random.rand() < self.epsilon:\n",
    "            act = np.random.choice(np.arange(self.actions_n))\n",
    "        else:\n",
    "            act = np.argmax(self.Q[int(state), :])\n",
    "        return act\n",
    "\n",
    "    def decay_epsilon(self, factor):\n",
    "        \"\"\"Decaying the epsilon, so it gradualy reduces the exploration and exploits more\"\"\"\n",
    "        self.epsilon -= factor if self.epsilon >= 0 else 0\n",
    "\n",
    "    def update(self, new_s, r, s, a, done):\n",
    "        \"\"\"The update method updates the agent for one step\"\"\"\n",
    "        self.new_a = self.act(new_s)\n",
    "        mask = 0 if done else 1\n",
    "        s, a, self.new_a, new_s = int(s), int(a), int(self.new_a), int(new_s)\n",
    "        self.Q[s, a] += self.learning_rate * (r + self.gamma * self.Q[new_s, self.new_a] * mask - self.Q[s, a])\n",
    "        if done and self.epsilon_decay:\n",
    "            self.decay_epsilon(self.epsilon_decay_factor)\n",
    "        return self.new_a\n",
    "\n",
    "    def save(self, file_name=\"taxi.pkl\"):\n",
    "        \"\"\"The save method saves (pickles) the agent's Q table\"\"\"\n",
    "        with open(file_name, mode=\"wb\") as f:\n",
    "            pickle.dump(self.Q, f)\n",
    "\n",
    "    def load(self, file_name=\"taxi.pkl\"):\n",
    "        \"\"\"The load method loads a pickled Q table\"\"\"\n",
    "        with open(file_name, mode=\"rb\") as f:\n",
    "            self.Q = pickle.load(f)"
   ],
   "execution_count": 2,
   "outputs": []
  },
  {
   "cell_type": "markdown",
   "metadata": {
    "id": "mmSjC-diEcQS"
   },
   "source": [
    "## 4- Defining the Training Loop"
   ]
  },
  {
   "cell_type": "code",
   "metadata": {
    "id": "oMOOyLDdEhtJ"
   },
   "source": [
    "from IPython.display import clear_output\n",
    "import matplotlib.pyplot as plt\n",
    "from time import sleep\n",
    "import numpy as np\n",
    "\n",
    "\n",
    "def train_taxi(env, agent, episodes=150):\n",
    "    if env is None:\n",
    "        raise ValueError(\"No Environment is given.\")\n",
    "    if agent is None:\n",
    "        raise ValueError(\"No agent is given.\")\n",
    "\n",
    "    steps = []\n",
    "    returns = []\n",
    "    for episode in range(episodes):\n",
    "        state = env.reset()\n",
    "        action = agent.act(state)\n",
    "        done = False\n",
    "        step_n = 0\n",
    "        return_episode = 0\n",
    "        while not done:\n",
    "            new_state, reward, done, _ = env.step(action)\n",
    "            return_episode += reward\n",
    "            new_action = agent.update(new_state, reward, state, action, done)\n",
    "            state, action = new_state, new_action\n",
    "            step_n += 1\n",
    "            if done:\n",
    "                steps.append(step_n)\n",
    "                returns.append(return_episode)\n",
    "                clear_output(wait=True)\n",
    "                plt.title(\"Steps:\" + str(step_n) + \" Return:\" + str(return_episode))\n",
    "                plt.plot(list(range(len(steps))), steps)\n",
    "                plt.plot(list(range(len(steps))), returns)\n",
    "                plt.legend([\"Steps\", \"Returns\"])\n",
    "                plt.show()"
   ],
   "execution_count": 3,
   "outputs": []
  },
  {
   "cell_type": "markdown",
   "metadata": {
    "id": "-AEYmZgQFB_w"
   },
   "source": [
    "## 5- Let's train our agent for 1500 episodes (takes ~5 minutes)"
   ]
  },
  {
   "cell_type": "code",
   "metadata": {
    "colab": {
     "base_uri": "https://localhost:8080/",
     "height": 281
    },
    "id": "1GV0owZVEoQ0",
    "outputId": "5bb38dc9-bcfe-4a61-bfda-7c70313a7cc8"
   },
   "source": [
    "agent = Sarsa_Agent(env.observation_space.n, env.action_space.n, epsilon_decay=True)\n",
    "\n",
    "train_taxi(env, agent, episodes=1500)\n",
    "agent.save()"
   ],
   "execution_count": 4,
   "outputs": [
    {
     "output_type": "display_data",
     "data": {
      "image/png": "[encoded data removed]",
      "text/plain": [
       "<Figure size 432x288 with 1 Axes>"
      ]
     },
     "metadata": {
      "tags": [],
      "needs_background": "light"
     }
    }
   ]
  },
  {
   "cell_type": "markdown",
   "metadata": {
    "id": "XS2D27_CmdpM"
   },
   "source": [
    "## 6- Methods for Playing and Rendering the Taxi environment in the notebook"
   ]
  },
  {
   "cell_type": "code",
   "metadata": {
    "id": "HLiUntsMmPU0"
   },
   "source": [
    "def taxi_print_frames(frames, wait_btw_frames, episode):\n",
    "    for i, frame in enumerate(frames):\n",
    "        clear_output(wait=True)\n",
    "        print(frame[\"frame\"])\n",
    "        print(f\"Passenger #: {episode + 1}\")\n",
    "        print(\"-----------\")\n",
    "        print(f\"Timestep: {i + 1}\")\n",
    "        print(f\"State: {frame['state']}\")\n",
    "        print(f\"Action: {frame['action']}\")\n",
    "        print(f\"Reward: {frame['reward']}\")\n",
    "        sleep(wait_btw_frames)\n",
    "\n",
    "\n",
    "def play_taxi(env, agent, passengers=2, wait_btw_frames=1):\n",
    "    for episode in range(passengers):\n",
    "        state = env.reset()\n",
    "        frames = []\n",
    "        done = False\n",
    "        step = 0\n",
    "        while not done:\n",
    "            action = agent.act(state)\n",
    "            new_state, reward, done, _ = env.step(action)\n",
    "            frames.append({\"frame\": env.render(mode=\"ansi\"), \"state\": state, \"action\": action, \"reward\": reward})\n",
    "            step += 1\n",
    "            state = new_state\n",
    "        taxi_print_frames(frames, wait_btw_frames=wait_btw_frames, episode=episode)"
   ],
   "execution_count": 7,
   "outputs": []
  },
  {
   "cell_type": "markdown",
   "metadata": {
    "id": "qUqhWVoeng_-"
   },
   "source": [
    "## 7- Watch a Trained SARSA Cab Driver\n",
    "\n",
    "Note: You can change the number of passengers if you want to move more than 3. Change the wait_btw_frames if you want to see the game running faster or slower."
   ]
  },
  {
   "cell_type": "code",
   "metadata": {
    "colab": {
     "base_uri": "https://localhost:8080/"
    },
    "id": "Zmyw9mKsmRZs",
    "scrolled": true,
    "outputId": "8dfe9b5a-4084-4779-95c7-26431ba2f4c5"
   },
   "source": [
    "play_taxi(env, agent, passengers=3, wait_btw_frames=1)"
   ],
   "execution_count": 8,
   "outputs": [
    {
     "output_type": "stream",
     "text": [
      "+---------+\n",
      "|R: | : :G|\n",
      "| : | : : |\n",
      "| : : : : |\n",
      "| | : | : |\n",
      "|Y| : |\u001b[35m\u001b[34;1m\u001b[43mB\u001b[0m\u001b[0m\u001b[0m: |\n",
      "+---------+\n",
      "  (Dropoff)\n",
      "\n",
      "Passenger #: 3\n",
      "-----------\n",
      "Timestep: 10\n",
      "State: 479\n",
      "Action: 5\n",
      "Reward: 20\n"
     ],
     "name": "stdout"
    }
   ]
  }
 ]
}