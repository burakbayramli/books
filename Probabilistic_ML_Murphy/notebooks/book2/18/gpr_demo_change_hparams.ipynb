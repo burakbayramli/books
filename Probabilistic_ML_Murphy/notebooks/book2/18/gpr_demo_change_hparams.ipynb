{
 "cells": [
  {
   "cell_type": "markdown",
   "metadata": {},
   "source": [
    "### 1d GPs with RBF kernels but different hyper-parameters fit to 20 noisy observations"
   ]
  },
  {
   "cell_type": "code",
   "execution_count": null,
   "metadata": {},
   "outputs": [],
   "source": [
    "import jax\n",
    "import jax.numpy as jnp\n",
    "import seaborn as sns\n",
    "import matplotlib.pyplot as plt\n",
    "\n",
    "try:\n",
    "    from probml_utils import latexify, savefig, is_latexify_enabled\n",
    "except ModuleNotFoundError:\n",
    "    %pip install git+https://github.com/probml/probml-utils.git\n",
    "    from probml_utils import latexify, savefig, is_latexify_enabled\n",
    "\n",
    "jax.config.update(\"jax_enable_x64\", True)\n",
    "\n",
    "try:\n",
    "    import tinygp\n",
    "except ModuleNotFoundError:\n",
    "    %pip install -qqq tinygp\n",
    "    import tinygp\n",
    "\n",
    "kernels = tinygp.kernels\n",
    "from tinygp import GaussianProcess\n",
    "\n",
    "latexify(width_scale_factor=2, fig_height=1.75)\n",
    "\n",
    "marksize = 11 if is_latexify_enabled() else 30"
   ]
  },
  {
   "cell_type": "markdown",
   "metadata": {},
   "source": [
    "#### JAX Data"
   ]
  },
  {
   "cell_type": "code",
   "execution_count": null,
   "metadata": {},
   "outputs": [],
   "source": [
    "# train data\n",
    "n = 20\n",
    "key = jax.random.PRNGKey(0)\n",
    "key_split = jax.random.split(key, 2)\n",
    "\n",
    "x = 15 * (jax.random.uniform(key, shape=(n,), minval=0, maxval=1) - 0.5).reshape((-1,))\n",
    "\n",
    "sigma_y = 0.1\n",
    "sigma_f = 1.0\n",
    "length_scale = 1.0\n",
    "kernel = (sigma_f**2) * kernels.ExpSquared(scale=length_scale)\n",
    "gp = GaussianProcess(kernel, x, diag=sigma_y**2)\n",
    "y = gp.sample(key_split[0], shape=(1,)).T\n",
    "y = y.reshape(\n",
    "    -1,\n",
    ")\n",
    "\n",
    "# test data\n",
    "xtest = jnp.linspace(-10, 10, 201).reshape(\n",
    "    -1,\n",
    ")"
   ]
  },
  {
   "cell_type": "markdown",
   "metadata": {},
   "source": [
    "#### Plots"
   ]
  },
  {
   "cell_type": "code",
   "execution_count": null,
   "metadata": {},
   "outputs": [],
   "source": [
    "def generate_plots(sigma_f, length_scale, sigma_y):\n",
    "    kernel = (sigma_f**2) * kernels.ExpSquared(scale=length_scale)\n",
    "    gp = GaussianProcess(kernel, x, diag=sigma_y**2)\n",
    "    cond_gp = gp.condition(y, xtest).gp\n",
    "    mu, var = cond_gp.loc, cond_gp.variance\n",
    "\n",
    "    plt.plot(xtest, mu, \"-\")\n",
    "    plt.scatter(x, y, c=\"k\", s=marksize, marker=\"x\")\n",
    "    plt.fill_between(\n",
    "        xtest.flatten(), mu.flatten() - 1.96 * jnp.sqrt(var), mu.flatten() + 1.96 * jnp.sqrt(var), alpha=0.3\n",
    "    )\n",
    "    sns.despine()\n",
    "    plt.legend(labels=[\"Mean\", \"Data\", \"Confidence\"], loc=2, prop={\"size\": 4.5}, frameon=False)\n",
    "    plt.title(\"$(l, \\sigma_f, \\sigma_y)=${}, {}, {}\".format(length_scale, sigma_f, sigma_y))\n",
    "    plt.xlabel(\"$x$\"), plt.ylabel(\"$f$\")\n",
    "    plt.yticks(jnp.linspace(-2, 4, 4))\n",
    "    savefig(f\"gprDemoChangeHparams{i}_latexified\")\n",
    "    plt.show()\n",
    "\n",
    "\n",
    "lengthscale_array = jnp.array([1.0, 0.3, 3.0])\n",
    "sigmaf_array = jnp.array([1, 1.08, 1.16])\n",
    "sigmay_array = jnp.array([0.1, 0.00005, 0.89])\n",
    "for i in range(len(lengthscale_array)):\n",
    "    plt.figure(i)\n",
    "    generate_plots(sigmaf_array[i], lengthscale_array[i], sigmay_array[i])"
   ]
  }
 ],
 "metadata": {
  "kernelspec": {
   "display_name": "Python 3.10.4 ('PyroNB')",
   "language": "python",
   "name": "python3"
  },
  "language_info": {
   "codemirror_mode": {
    "name": "ipython",
    "version": 3
   },
   "file_extension": ".py",
   "mimetype": "text/x-python",
   "name": "python",
   "nbconvert_exporter": "python",
   "pygments_lexer": "ipython3",
   "version": "3.10.4"
  },
  "orig_nbformat": 4,
  "vscode": {
   "interpreter": {
    "hash": "541be09f5402c733300b7f8bd26f7b397ff878a73a38074dfa6f900d5dc8ce66"
   }
  }
 },
 "nbformat": 4,
 "nbformat_minor": 2
}
