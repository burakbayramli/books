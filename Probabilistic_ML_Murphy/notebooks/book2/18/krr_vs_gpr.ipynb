{
 "cells": [
  {
   "cell_type": "markdown",
   "metadata": {},
   "source": [
    "## Kernel Ridge Regression Vs Gaussian Process"
   ]
  },
  {
   "cell_type": "code",
   "execution_count": 13,
   "metadata": {},
   "outputs": [],
   "source": [
    "import jax\n",
    "import jax.numpy as jnp\n",
    "import seaborn as sns\n",
    "import matplotlib.pyplot as plt\n",
    "\n",
    "try:\n",
    "    from probml_utils import latexify, savefig, is_latexify_enabled\n",
    "except ModuleNotFoundError:\n",
    "    %pip install git+https://github.com/probml/probml-utils.git\n",
    "    from probml_utils import latexify, savefig, is_latexify_enabled\n",
    "\n",
    "jax.config.update(\"jax_enable_x64\", True)\n",
    "\n",
    "try:\n",
    "    import tinygp\n",
    "except ModuleNotFoundError:\n",
    "    %pip install -qqq tinygp\n",
    "    import tinygp\n",
    "\n",
    "try:\n",
    "    import jaxopt\n",
    "except ModuleNotFoundError:\n",
    "    %pip install jaxopt\n",
    "    import jaxopt\n",
    "\n",
    "from tinygp import GaussianProcess, kernels\n",
    "import time\n",
    "from sklearn.kernel_ridge import KernelRidge\n",
    "from sklearn.model_selection import GridSearchCV\n",
    "from sklearn.gaussian_process.kernels import ExpSineSquared\n",
    "\n",
    "latexify(width_scale_factor=1, fig_height=2)\n",
    "marksize = 10 if is_latexify_enabled() else 30"
   ]
  },
  {
   "cell_type": "markdown",
   "metadata": {},
   "source": [
    "### Data"
   ]
  },
  {
   "cell_type": "code",
   "execution_count": 14,
   "metadata": {},
   "outputs": [],
   "source": [
    "key = jax.random.PRNGKey(0)\n",
    "\n",
    "# Generate sample data\n",
    "X = 15 * jax.random.uniform(key, (100, 1))\n",
    "key_split = jax.random.split(key, 2)\n",
    "y = jnp.sin(X).ravel()\n",
    "y += 3 * (0.5 - jax.random.uniform(key_split[0], (X.shape[0],)))  # add noise"
   ]
  },
  {
   "cell_type": "markdown",
   "metadata": {},
   "source": [
    "### Fitting the Models"
   ]
  },
  {
   "cell_type": "code",
   "execution_count": 15,
   "metadata": {},
   "outputs": [
    {
     "name": "stdout",
     "output_type": "stream",
     "text": [
      "Time for KRR fitting: 21.660\n"
     ]
    }
   ],
   "source": [
    "# Fit KernelRidge with parameter selection based on 5-fold cross validation\n",
    "param_grid = {\n",
    "    \"alpha\": [1e0, 1e-1, 1e-2, 1e-3],\n",
    "    \"kernel\": [ExpSineSquared(l, p) for l in jnp.logspace(-2, 2, 10) for p in jnp.logspace(0, 2, 10)],\n",
    "}\n",
    "\n",
    "kr = GridSearchCV(KernelRidge(), param_grid=param_grid)\n",
    "stime = time.time()\n",
    "kr.fit(X, y)\n",
    "print(\"Time for KRR fitting: %.3f\" % (time.time() - stime))"
   ]
  },
  {
   "cell_type": "code",
   "execution_count": 16,
   "metadata": {},
   "outputs": [
    {
     "name": "stdout",
     "output_type": "stream",
     "text": [
      "Time for GPR fitting: 0.485\n"
     ]
    }
   ],
   "source": [
    "# Fit GP using scipy.minimize\n",
    "theta_init = {\"log_diag\": jnp.log(1e-1), \"log_scale\": jnp.log(5.0), \"log_gamma\": jnp.log(2.0)}\n",
    "\n",
    "stime = time.time()\n",
    "\n",
    "\n",
    "def neg_log_likelihood(theta, X, y):\n",
    "    kernel = kernels.ExpSineSquared(scale=jnp.exp(theta[\"log_scale\"]), gamma=jnp.exp(theta[\"log_gamma\"]))\n",
    "    gp = GaussianProcess(kernel, X, diag=jnp.exp(theta[\"log_diag\"]))\n",
    "    return -gp.log_probability(y)\n",
    "\n",
    "\n",
    "obj = jax.jit(jax.value_and_grad(neg_log_likelihood))\n",
    "solver = jaxopt.ScipyMinimize(fun=neg_log_likelihood)\n",
    "soln = solver.run(theta_init, X=X, y=y)\n",
    "print(\"Time for GPR fitting: %.3f\" % (time.time() - stime))"
   ]
  },
  {
   "cell_type": "markdown",
   "metadata": {},
   "source": [
    "### Predicting the models"
   ]
  },
  {
   "cell_type": "code",
   "execution_count": 17,
   "metadata": {},
   "outputs": [
    {
     "name": "stdout",
     "output_type": "stream",
     "text": [
      "Time for KRR prediction: 0.042\n"
     ]
    },
    {
     "name": "stderr",
     "output_type": "stream",
     "text": [
      "/home/patel_karm/anaconda3/envs/py3713/lib/python3.7/site-packages/ipykernel_launcher.py:25: DeprecationWarning: The 'predict' method is deprecated and 'condition' should be preferred\n"
     ]
    },
    {
     "name": "stdout",
     "output_type": "stream",
     "text": [
      "Time for GPR prediction: 5.817\n"
     ]
    },
    {
     "name": "stderr",
     "output_type": "stream",
     "text": [
      "/home/patel_karm/anaconda3/envs/py3713/lib/python3.7/site-packages/ipykernel_launcher.py:31: DeprecationWarning: The 'predict' method is deprecated and 'condition' should be preferred\n"
     ]
    },
    {
     "name": "stdout",
     "output_type": "stream",
     "text": [
      "Time for GPR prediction with standard-deviation: 5.894\n"
     ]
    }
   ],
   "source": [
    "# Predict using kernel ridge\n",
    "X_plot = jnp.linspace(0, 20, 10000)[:, None]\n",
    "stime = time.time()\n",
    "y_kr = kr.predict(X_plot)\n",
    "print(\"Time for KRR prediction: %.3f\" % (time.time() - stime))\n",
    "\n",
    "# Predict using gp.predict\n",
    "X_plot = X_plot.reshape(\n",
    "    -1,\n",
    ")\n",
    "y = y.reshape(\n",
    "    -1,\n",
    ")\n",
    "\n",
    "\n",
    "def build_gp(theta_, X):\n",
    "    kernel = kernels.ExpSineSquared(scale=jnp.exp(theta_[\"log_scale\"]), gamma=jnp.exp(theta_[\"log_gamma\"]))\n",
    "    gp = GaussianProcess(kernel, X, diag=jnp.exp(theta_[\"log_diag\"]))\n",
    "    return gp\n",
    "\n",
    "\n",
    "# predict without variance\n",
    "stime = time.time()\n",
    "gp = build_gp(soln.params, X)\n",
    "y_mu = gp.predict(y, X_plot, return_var=False)\n",
    "print(\"Time for GPR prediction: %.3f\" % (time.time() - stime))\n",
    "\n",
    "# predict with variance\n",
    "stime = time.time()\n",
    "gp = build_gp(soln.params, X)\n",
    "y_mu, y_var = gp.predict(y, X_plot, return_var=True)\n",
    "print(\"Time for GPR prediction with standard-deviation: %.3f\" % (time.time() - stime))"
   ]
  },
  {
   "cell_type": "markdown",
   "metadata": {},
   "source": [
    "### Plots"
   ]
  },
  {
   "cell_type": "code",
   "execution_count": 21,
   "metadata": {},
   "outputs": [
    {
     "name": "stdout",
     "output_type": "stream",
     "text": [
      "saving image to figures/krr_vs_gpr_latexified.pdf\n",
      "Figure size: [6. 2.]\n"
     ]
    }
   ],
   "source": [
    "# Plot results\n",
    "plt.figure()\n",
    "X_plot = X_plot.reshape(-1, 1)\n",
    "y_var = y_var + jnp.exp(soln.params[\"log_diag\"])\n",
    "plt.scatter(X, y, c=\"k\", label=\"$data$\", s=marksize)\n",
    "plt.plot(X_plot, jnp.sin(X_plot), color=\"navy\", label=\"True\")\n",
    "plt.plot(X_plot, y_kr, color=\"turquoise\", label=\"KRR\")\n",
    "plt.plot(X_plot, y_mu, color=\"darkorange\", label=\"GPR\")\n",
    "\n",
    "plt.fill_between(\n",
    "    X_plot.flatten(), y_mu.flatten() - jnp.sqrt(y_var), y_mu.flatten() + jnp.sqrt(y_var), color=\"darkorange\", alpha=0.2\n",
    ")\n",
    "plt.xlabel(\"data\")\n",
    "plt.ylabel(\"target\")\n",
    "plt.ylim(-4, 4)\n",
    "sns.despine()\n",
    "plt.legend(bbox_to_anchor=(0.8, 0.6), frameon=False, fontsize=8)\n",
    "savefig(\"krr_vs_gpr_latexified\")\n",
    "plt.show()"
   ]
  },
  {
   "cell_type": "code",
   "execution_count": null,
   "metadata": {},
   "outputs": [],
   "source": []
  }
 ],
 "metadata": {
  "kernelspec": {
   "display_name": "Python 3.7.13 ('py3713')",
   "language": "python",
   "name": "python3"
  },
  "language_info": {
   "codemirror_mode": {
    "name": "ipython",
    "version": 3
   },
   "file_extension": ".py",
   "mimetype": "text/x-python",
   "name": "python",
   "nbconvert_exporter": "python",
   "pygments_lexer": "ipython3",
   "version": "3.7.13"
  },
  "orig_nbformat": 4,
  "vscode": {
   "interpreter": {
    "hash": "a787a6e8bcd3d3d3e4a766006c27db2c5a636d1b43e1d89cd16234e9a9c2591c"
   }
  }
 },
 "nbformat": 4,
 "nbformat_minor": 2
}
