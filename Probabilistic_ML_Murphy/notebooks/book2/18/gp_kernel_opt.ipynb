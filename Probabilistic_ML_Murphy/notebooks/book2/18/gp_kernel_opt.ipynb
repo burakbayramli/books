{
 "cells": [
  {
   "cell_type": "markdown",
   "id": "IH6cIWuxIcAi",
   "metadata": {
    "id": "IH6cIWuxIcAi"
   },
   "source": [
    "# GP kernel parameter optimization/ inference \n",
    "\n",
    "Slightly modified from \n",
    "\n",
    "https://tinygp.readthedocs.io/en/latest/tutorials/modeling.html\n",
    "\n",
    "* Decouple train and test parts of the models\n",
    "* Explicitely use `x` and `y` variables by passing them as function arguments rather than using them globally."
   ]
  },
  {
   "cell_type": "code",
   "execution_count": 2,
   "id": "vertical-survivor",
   "metadata": {
    "colab": {
     "base_uri": "https://localhost:8080/"
    },
    "id": "vertical-survivor",
    "outputId": "6c96011b-3e3e-4d1d-d408-3fdfb9b38e01",
    "tags": [
     "hide-cell"
    ]
   },
   "outputs": [],
   "source": [
    "%%capture\n",
    "try:\n",
    "    from tinygp import kernels, GaussianProcess\n",
    "except ModuleNotFoundError:\n",
    "    %pip install -qq tinygp\n",
    "    from tinygp import kernels, GaussianProcess\n",
    "\n",
    "try:\n",
    "    import numpyro\n",
    "except ModuleNotFoundError:\n",
    "    %pip uninstall -y jax jaxlib\n",
    "    %pip install -qq jax jaxlib numpyro\n",
    "    import numpyro\n",
    "import numpyro.distributions as dist\n",
    "from numpyro.infer import MCMC, NUTS, Predictive\n",
    "\n",
    "try:\n",
    "    import arviz\n",
    "except ModuleNotFoundError:\n",
    "    %pip install -qq arviz\n",
    "    import arviz\n",
    "\n",
    "try:\n",
    "    import flax.linen as nn\n",
    "except ModuleNotFoundError:\n",
    "    %pip install -qq flax\n",
    "    import flax.linen as nn\n",
    "from flax.linen.initializers import zeros\n",
    "\n",
    "try:\n",
    "    import optax\n",
    "except ModuleNotFoundError:\n",
    "    %pip install -qq optax\n",
    "    import optax\n",
    "\n",
    "try:\n",
    "    import blackjax\n",
    "except ModuleNotFoundError:\n",
    "    %pip install -qq jaxopt blackjax\n",
    "    import blackjax\n",
    "\n",
    "try:\n",
    "    import probml_utils as pml\n",
    "except ModuleNotFoundError:\n",
    "    %pip install git+https://github.com/probml/probml-utils.git\n",
    "    import probml_utils as pml\n",
    "\n",
    "try:\n",
    "    import arviz as az\n",
    "except ModuleNotFoundError:\n",
    "    %pip install -qq arviz\n",
    "    import arviz as az\n",
    "\n",
    "try:\n",
    "    import tensorflow_probability.substrates.jax as tfp\n",
    "except ModuleNotFoundError:\n",
    "    %pip install tensorflow-probability\n",
    "    import tensorflow_probability.substrates.jax as tfp\n",
    "tfd = tfp.distributions\n",
    "\n",
    "import seaborn as sns\n",
    "import numpy as np\n",
    "import matplotlib.pyplot as plt\n",
    "\n",
    "import jax\n",
    "import jax.numpy as jnp\n",
    "from jax.config import config\n",
    "\n",
    "config.update(\"jax_enable_x64\", True)"
   ]
  },
  {
   "cell_type": "code",
   "execution_count": 3,
   "id": "c6032923",
   "metadata": {
    "scrolled": true
   },
   "outputs": [
    {
     "name": "stderr",
     "output_type": "stream",
     "text": [
      "/home/patel_zeel/miniconda3/envs/pyprobml/lib/python3.7/site-packages/probml_utils/plotting.py:26: UserWarning: LATEXIFY environment variable not set, not latexifying\n",
      "  warnings.warn(\"LATEXIFY environment variable not set, not latexifying\")\n"
     ]
    }
   ],
   "source": [
    "pml.latexify(width_scale_factor=2, fig_height=2)\n",
    "scatter_size = 3 if pml.is_latexify_enabled() else 6\n",
    "line_width = 0.75 if pml.is_latexify_enabled() else 1.5"
   ]
  },
  {
   "cell_type": "markdown",
   "id": "arctic-compilation",
   "metadata": {
    "id": "arctic-compilation"
   },
   "source": [
    "# Data\n"
   ]
  },
  {
   "cell_type": "code",
   "execution_count": 4,
   "id": "insured-myrtle",
   "metadata": {
    "colab": {
     "base_uri": "https://localhost:8080/",
     "height": 295
    },
    "id": "insured-myrtle",
    "outputId": "df008c56-52af-4ab4-a60d-bb2b83b48f3e"
   },
   "outputs": [
    {
     "name": "stderr",
     "output_type": "stream",
     "text": [
      "/home/patel_zeel/miniconda3/envs/pyprobml/lib/python3.7/site-packages/probml_utils/plotting.py:80: UserWarning: set FIG_DIR environment variable to save figures\n",
      "  warnings.warn(\"set FIG_DIR environment variable to save figures\")\n"
     ]
    },
    {
     "data": {
      "image/png": "[encoded data removed]",
      "text/plain": [
       "<Figure size 432x288 with 1 Axes>"
      ]
     },
     "metadata": {
      "needs_background": "light"
     },
     "output_type": "display_data"
    }
   ],
   "source": [
    "random = np.random.default_rng(42)\n",
    "\n",
    "t = np.sort(\n",
    "    np.append(\n",
    "        random.uniform(0, 3.8, 28),\n",
    "        random.uniform(5.5, 10, 18),\n",
    "    )\n",
    ")\n",
    "yerr = random.uniform(0.08, 0.22, len(t))\n",
    "y = 0.2 * (t - 5) + np.sin(3 * t + 0.1 * (t - 5) ** 2) + yerr * random.normal(size=len(t))\n",
    "\n",
    "true_t = np.linspace(0, 10, 100)\n",
    "true_y = 0.2 * (true_t - 5) + np.sin(3 * true_t + 0.1 * (true_t - 5) ** 2)\n",
    "\n",
    "x = t\n",
    "x_test = true_t\n",
    "y_test = true_y\n",
    "\n",
    "plt.figure()\n",
    "plt.plot(x_test, y_test, \"k\", lw=1.5, alpha=0.3)\n",
    "plt.errorbar(x, y, yerr=yerr, fmt=\".k\", capsize=0, elinewidth=line_width)\n",
    "plt.xlabel(\"x [day]\")\n",
    "plt.ylabel(\"y [ppm]\")\n",
    "plt.xlim(0, 10)\n",
    "plt.ylim(-2.5, 2.5)\n",
    "_ = plt.title(\"simulated data\")\n",
    "\n",
    "pml.savefig(\"gp-kernel-opt-data\")"
   ]
  },
  {
   "cell_type": "markdown",
   "id": "f516ffda-dea9-44e2-bc59-11e071c7984d",
   "metadata": {
    "id": "f516ffda-dea9-44e2-bc59-11e071c7984d"
   },
   "source": [
    "\n",
    "\n",
    "# Optimizing hyper-parameters using flax & optax\n",
    "\n",
    "We  find the maximum (marginal) likelihood hyperparameters for the GP model.\n",
    "\n",
    "\n",
    "To set up our model, we define a custom `linen.Module`, and optimize it's parameters as follows:"
   ]
  },
  {
   "cell_type": "code",
   "execution_count": 5,
   "id": "7673c61b-e117-4c05-9ddf-68ea9ac6b67b",
   "metadata": {
    "id": "7673c61b-e117-4c05-9ddf-68ea9ac6b67b"
   },
   "outputs": [],
   "source": [
    "class GPModule(nn.Module):\n",
    "    @nn.compact\n",
    "    def __call__(self, x):\n",
    "        # t = test input locations\n",
    "        # Returns loss (-log p(y|x)) and predictions p(y|t)\n",
    "        mean = self.param(\"mean\", zeros, ())\n",
    "        log_jitter = self.param(\"log_jitter\", zeros, ())\n",
    "\n",
    "        log_sigma1 = self.param(\"log_sigma1\", zeros, ())\n",
    "        log_rho1 = self.param(\"log_rho1\", zeros, ())\n",
    "        log_tau = self.param(\"log_tau\", zeros, ())\n",
    "        kernel1 = jnp.exp(2 * log_sigma1) * kernels.ExpSquared(jnp.exp(log_tau)) * kernels.Cosine(jnp.exp(log_rho1))\n",
    "\n",
    "        log_sigma2 = self.param(\"log_sigma2\", zeros, ())\n",
    "        log_rho2 = self.param(\"log_rho2\", zeros, ())\n",
    "        kernel2 = jnp.exp(2 * log_sigma2) * kernels.Matern32(jnp.exp(log_rho2))\n",
    "\n",
    "        kernel = kernel1 + kernel2\n",
    "        gp = GaussianProcess(kernel, x, diag=jnp.exp(log_jitter), mean=mean)\n",
    "\n",
    "        return gp\n",
    "\n",
    "\n",
    "def loss(params, x, y):\n",
    "    gp = model.apply(params, x)\n",
    "    return -gp.log_probability(y)"
   ]
  },
  {
   "cell_type": "code",
   "execution_count": 6,
   "id": "ek5sy64HJ5V8",
   "metadata": {
    "colab": {
     "base_uri": "https://localhost:8080/",
     "height": 279
    },
    "id": "ek5sy64HJ5V8",
    "outputId": "761d7d30-6fe7-4788-81c0-696e6047ebf9"
   },
   "outputs": [
    {
     "name": "stdout",
     "output_type": "stream",
     "text": [
      "CPU times: user 15.5 s, sys: 28.1 s, total: 43.5 s\n",
      "Wall time: 2.36 s\n"
     ]
    },
    {
     "data": {
      "image/png": "[encoded data removed]",
      "text/plain": [
       "<Figure size 432x288 with 1 Axes>"
      ]
     },
     "metadata": {
      "needs_background": "light"
     },
     "output_type": "display_data"
    }
   ],
   "source": [
    "%%time\n",
    "model = GPModule()\n",
    "params = model.init(jax.random.PRNGKey(0), x)\n",
    "tx = optax.sgd(learning_rate=3e-3)\n",
    "opt_state = tx.init(params)\n",
    "loss_grad_fn = jax.jit(jax.value_and_grad(loss))\n",
    "\n",
    "losses = []\n",
    "for i in range(1001):\n",
    "    loss_val, grads = loss_grad_fn(params, x, y)\n",
    "    losses.append(loss_val)\n",
    "    updates, opt_state = tx.update(grads, opt_state)\n",
    "    params = optax.apply_updates(params, updates)\n",
    "\n",
    "plt.figure()\n",
    "plt.plot(losses)\n",
    "plt.ylabel(\"negative log likelihood\")\n",
    "_ = plt.xlabel(\"step number\")"
   ]
  },
  {
   "cell_type": "markdown",
   "id": "2e6777f3-4ec8-43f9-9bae-38c767bcfd64",
   "metadata": {
    "id": "2e6777f3-4ec8-43f9-9bae-38c767bcfd64"
   },
   "source": [
    "Our `Module` defined above also returns the conditional predictions, that we can compare to the true model:"
   ]
  },
  {
   "cell_type": "code",
   "execution_count": 7,
   "id": "7980ad4c-d3d7-4243-b714-8d8216a9e8f1",
   "metadata": {
    "colab": {
     "base_uri": "https://localhost:8080/",
     "height": 295
    },
    "id": "7980ad4c-d3d7-4243-b714-8d8216a9e8f1",
    "outputId": "cbeda40d-e189-4933-9e73-ad0265779d41",
    "scrolled": true
   },
   "outputs": [
    {
     "name": "stderr",
     "output_type": "stream",
     "text": [
      "/home/patel_zeel/miniconda3/envs/pyprobml/lib/python3.7/site-packages/probml_utils/plotting.py:80: UserWarning: set FIG_DIR environment variable to save figures\n",
      "  warnings.warn(\"set FIG_DIR environment variable to save figures\")\n"
     ]
    },
    {
     "data": {
      "image/png": "[encoded data removed]",
      "text/plain": [
       "<Figure size 432x288 with 1 Axes>"
      ]
     },
     "metadata": {
      "needs_background": "light"
     },
     "output_type": "display_data"
    }
   ],
   "source": [
    "gp = model.apply(params, x)\n",
    "pred = gp.condition(y, x_test).gp.loc\n",
    "\n",
    "plt.figure()\n",
    "plt.plot(x_test, pred, label=\"predictive mean\")\n",
    "plt.plot(x_test, y_test, \"k\", lw=1.5, alpha=0.3, label=\"truth\")\n",
    "plt.errorbar(x, y, yerr=yerr, fmt=\".k\", capsize=0, markersize=scatter_size, elinewidth=line_width)\n",
    "plt.xlabel(\"$x$ [day]\")\n",
    "plt.ylabel(\"$y$ [ppm]\")\n",
    "plt.xlim(0, 10)\n",
    "plt.ylim(-2.5, 3.5)\n",
    "plt.legend(loc=\"upper left\", frameon=False)\n",
    "_ = plt.title(\"Maximum likelihood\")\n",
    "sns.despine()\n",
    "pml.savefig(\"gp-kernel-opt-eb\")"
   ]
  },
  {
   "cell_type": "markdown",
   "id": "3e73424f-b46b-4f2e-a39f-6febc0046c32",
   "metadata": {
    "id": "3e73424f-b46b-4f2e-a39f-6febc0046c32"
   },
   "source": [
    "\n",
    "# Inferring hyper-parameters using NUTS in numpyro\n",
    "\n",
    "We can compute a posterior over the kernel parameters, and hence the posterior predictive over the mean function, using NUTS."
   ]
  },
  {
   "cell_type": "code",
   "execution_count": 8,
   "id": "recovered-rubber",
   "metadata": {
    "colab": {
     "base_uri": "https://localhost:8080/"
    },
    "id": "recovered-rubber",
    "outputId": "76c1eea1-1dec-4913-e4ca-08363905a3bb"
   },
   "outputs": [],
   "source": [
    "prior_sigma = 5.0\n",
    "\n",
    "\n",
    "def numpyro_model(x, y, x_test_inputs=None):\n",
    "    mean = numpyro.sample(\"mean\", dist.Normal(0.0, prior_sigma))\n",
    "    jitter = numpyro.sample(\"jitter\", dist.HalfNormal(prior_sigma))\n",
    "\n",
    "    sigma1 = numpyro.sample(\"sigma1\", dist.HalfNormal(prior_sigma))\n",
    "    rho1 = numpyro.sample(\"rho1\", dist.HalfNormal(prior_sigma))\n",
    "    tau = numpyro.sample(\"tau\", dist.HalfNormal(prior_sigma))\n",
    "    kernel1 = sigma1**2 * kernels.ExpSquared(tau) * kernels.Cosine(rho1)\n",
    "\n",
    "    sigma2 = numpyro.sample(\"sigma2\", dist.HalfNormal(prior_sigma))\n",
    "    rho2 = numpyro.sample(\"rho2\", dist.HalfNormal(prior_sigma))\n",
    "    kernel2 = sigma2**2 * kernels.Matern32(rho2)\n",
    "\n",
    "    kernel = kernel1 + kernel2\n",
    "    gp = GaussianProcess(kernel, x, diag=jitter, mean=mean)\n",
    "    numpyro.sample(\"gp\", gp.numpyro_dist(), obs=y)\n",
    "\n",
    "\n",
    "nuts_kernel = NUTS(numpyro_model, dense_mass=True, target_accept_prob=0.9)\n",
    "mcmc = MCMC(\n",
    "    nuts_kernel,\n",
    "    num_warmup=200,\n",
    "    num_samples=500,\n",
    "    num_chains=2,\n",
    "    progress_bar=True,\n",
    "    chain_method=\"vectorized\",\n",
    ")\n",
    "rng_key = jax.random.PRNGKey(34923)"
   ]
  },
  {
   "cell_type": "code",
   "execution_count": 9,
   "id": "affected-selection",
   "metadata": {
    "colab": {
     "base_uri": "https://localhost:8080/"
    },
    "id": "affected-selection",
    "outputId": "7e6ee7f5-848c-427c-90aa-25f66a6986c6"
   },
   "outputs": [
    {
     "name": "stderr",
     "output_type": "stream",
     "text": [
      "sample: 100%|██████████| 700/700 [00:24<00:00, 28.02it/s]\n"
     ]
    },
    {
     "name": "stdout",
     "output_type": "stream",
     "text": [
      "CPU times: user 30.2 s, sys: 3.73 s, total: 34 s\n",
      "Wall time: 28.7 s\n"
     ]
    }
   ],
   "source": [
    "%%time\n",
    "mcmc.run(rng_key, x, y, x_test)\n",
    "samples = mcmc.get_samples()"
   ]
  },
  {
   "cell_type": "markdown",
   "id": "c8e08a5e-2ffe-44ea-9998-d65273dd9c8c",
   "metadata": {
    "id": "c8e08a5e-2ffe-44ea-9998-d65273dd9c8c"
   },
   "source": [
    "Let's examine the posterior. \n",
    "For that task, let's use [`ArviZ`](https://arviz-devs.github.io):"
   ]
  },
  {
   "cell_type": "code",
   "execution_count": 10,
   "id": "chubby-stanford",
   "metadata": {
    "colab": {
     "base_uri": "https://localhost:8080/",
     "height": 269
    },
    "id": "chubby-stanford",
    "outputId": "e3cf1a3a-f9b0-4ebe-b200-0c86e9057907",
    "scrolled": true
   },
   "outputs": [
    {
     "data": {
      "text/html": [
       "<div>\n",
       "<style scoped>\n",
       "    .dataframe tbody tr th:only-of-type {\n",
       "        vertical-align: middle;\n",
       "    }\n",
       "\n",
       "    .dataframe tbody tr th {\n",
       "        vertical-align: top;\n",
       "    }\n",
       "\n",
       "    .dataframe thead th {\n",
       "        text-align: right;\n",
       "    }\n",
       "</style>\n",
       "<table border=\"1\" class=\"dataframe\">\n",
       "  <thead>\n",
       "    <tr style=\"text-align: right;\">\n",
       "      <th></th>\n",
       "      <th>mean</th>\n",
       "      <th>sd</th>\n",
       "      <th>hdi_3%</th>\n",
       "      <th>hdi_97%</th>\n",
       "      <th>mcse_mean</th>\n",
       "      <th>mcse_sd</th>\n",
       "      <th>ess_bulk</th>\n",
       "      <th>ess_tail</th>\n",
       "      <th>r_hat</th>\n",
       "    </tr>\n",
       "  </thead>\n",
       "  <tbody>\n",
       "    <tr>\n",
       "      <th>jitter</th>\n",
       "      <td>0.017</td>\n",
       "      <td>0.005</td>\n",
       "      <td>0.010</td>\n",
       "      <td>0.025</td>\n",
       "      <td>0.000</td>\n",
       "      <td>0.000</td>\n",
       "      <td>694.0</td>\n",
       "      <td>625.0</td>\n",
       "      <td>1.00</td>\n",
       "    </tr>\n",
       "    <tr>\n",
       "      <th>mean</th>\n",
       "      <td>-0.081</td>\n",
       "      <td>1.546</td>\n",
       "      <td>-2.691</td>\n",
       "      <td>3.302</td>\n",
       "      <td>0.075</td>\n",
       "      <td>0.053</td>\n",
       "      <td>487.0</td>\n",
       "      <td>371.0</td>\n",
       "      <td>1.00</td>\n",
       "    </tr>\n",
       "    <tr>\n",
       "      <th>rho1</th>\n",
       "      <td>2.410</td>\n",
       "      <td>1.205</td>\n",
       "      <td>1.838</td>\n",
       "      <td>3.556</td>\n",
       "      <td>0.134</td>\n",
       "      <td>0.095</td>\n",
       "      <td>159.0</td>\n",
       "      <td>75.0</td>\n",
       "      <td>1.01</td>\n",
       "    </tr>\n",
       "    <tr>\n",
       "      <th>rho2</th>\n",
       "      <td>7.389</td>\n",
       "      <td>3.362</td>\n",
       "      <td>2.045</td>\n",
       "      <td>13.684</td>\n",
       "      <td>0.135</td>\n",
       "      <td>0.096</td>\n",
       "      <td>548.0</td>\n",
       "      <td>546.0</td>\n",
       "      <td>1.01</td>\n",
       "    </tr>\n",
       "    <tr>\n",
       "      <th>sigma1</th>\n",
       "      <td>1.096</td>\n",
       "      <td>0.549</td>\n",
       "      <td>0.449</td>\n",
       "      <td>2.077</td>\n",
       "      <td>0.028</td>\n",
       "      <td>0.019</td>\n",
       "      <td>499.0</td>\n",
       "      <td>435.0</td>\n",
       "      <td>1.00</td>\n",
       "    </tr>\n",
       "    <tr>\n",
       "      <th>sigma2</th>\n",
       "      <td>1.786</td>\n",
       "      <td>1.121</td>\n",
       "      <td>0.425</td>\n",
       "      <td>4.113</td>\n",
       "      <td>0.057</td>\n",
       "      <td>0.041</td>\n",
       "      <td>455.0</td>\n",
       "      <td>537.0</td>\n",
       "      <td>1.00</td>\n",
       "    </tr>\n",
       "    <tr>\n",
       "      <th>tau</th>\n",
       "      <td>2.320</td>\n",
       "      <td>1.074</td>\n",
       "      <td>0.673</td>\n",
       "      <td>4.401</td>\n",
       "      <td>0.073</td>\n",
       "      <td>0.052</td>\n",
       "      <td>165.0</td>\n",
       "      <td>118.0</td>\n",
       "      <td>1.00</td>\n",
       "    </tr>\n",
       "  </tbody>\n",
       "</table>\n",
       "</div>"
      ],
      "text/plain": [
       "         mean     sd  hdi_3%  hdi_97%  mcse_mean  mcse_sd  ess_bulk  ess_tail  \\\n",
       "jitter  0.017  0.005   0.010    0.025      0.000    0.000     694.0     625.0   \n",
       "mean   -0.081  1.546  -2.691    3.302      0.075    0.053     487.0     371.0   \n",
       "rho1    2.410  1.205   1.838    3.556      0.134    0.095     159.0      75.0   \n",
       "rho2    7.389  3.362   2.045   13.684      0.135    0.096     548.0     546.0   \n",
       "sigma1  1.096  0.549   0.449    2.077      0.028    0.019     499.0     435.0   \n",
       "sigma2  1.786  1.121   0.425    4.113      0.057    0.041     455.0     537.0   \n",
       "tau     2.320  1.074   0.673    4.401      0.073    0.052     165.0     118.0   \n",
       "\n",
       "        r_hat  \n",
       "jitter   1.00  \n",
       "mean     1.00  \n",
       "rho1     1.01  \n",
       "rho2     1.01  \n",
       "sigma1   1.00  \n",
       "sigma2   1.00  \n",
       "tau      1.00  "
      ]
     },
     "execution_count": 10,
     "metadata": {},
     "output_type": "execute_result"
    }
   ],
   "source": [
    "data = az.from_numpyro(mcmc)\n",
    "az.summary(data)"
   ]
  },
  {
   "cell_type": "markdown",
   "id": "ec7370f9",
   "metadata": {},
   "source": [
    "Now, let us sample posterior means for the test data"
   ]
  },
  {
   "cell_type": "code",
   "execution_count": 11,
   "id": "4edf878a",
   "metadata": {},
   "outputs": [],
   "source": [
    "def sample_mean(samples, x, y, x_test):\n",
    "    kernel1 = samples[\"sigma1\"] ** 2 * kernels.ExpSquared(samples[\"tau\"]) * kernels.Cosine(samples[\"rho1\"])\n",
    "    kernel2 = samples[\"sigma2\"] ** 2 * kernels.Matern32(samples[\"rho2\"])\n",
    "\n",
    "    kernel = kernel1 + kernel2\n",
    "    gp = GaussianProcess(kernel, x, diag=samples[\"jitter\"], mean=samples[\"mean\"])\n",
    "    predictive = Predictive(numpyro_model, posterior_samples=samples)\n",
    "    gp_samples = predictive(rng_key, x, y)\n",
    "    return gp.condition(gp_samples[\"gp\"], x_test).gp.loc\n",
    "\n",
    "\n",
    "pred_numpyro = jax.vmap(sample_mean, in_axes=(0, None, None, None))(samples, x, y, x_test)"
   ]
  },
  {
   "cell_type": "markdown",
   "id": "c2f9c49e-9eea-4971-a939-7390a31368fc",
   "metadata": {
    "id": "c2f9c49e-9eea-4971-a939-7390a31368fc"
   },
   "source": [
    "And, finally we can plot our posterior inferences of the comditional process, compared to the true model:"
   ]
  },
  {
   "cell_type": "code",
   "execution_count": 12,
   "id": "RGBbrkh7PANG",
   "metadata": {
    "colab": {
     "base_uri": "https://localhost:8080/",
     "height": 295
    },
    "id": "RGBbrkh7PANG",
    "outputId": "49b2d517-4b82-476f-b179-f97e13058908"
   },
   "outputs": [
    {
     "name": "stderr",
     "output_type": "stream",
     "text": [
      "/home/patel_zeel/miniconda3/envs/pyprobml/lib/python3.7/site-packages/probml_utils/plotting.py:80: UserWarning: set FIG_DIR environment variable to save figures\n",
      "  warnings.warn(\"set FIG_DIR environment variable to save figures\")\n"
     ]
    },
    {
     "data": {
      "image/png": "[encoded data removed]",
      "text/plain": [
       "<Figure size 432x288 with 1 Axes>"
      ]
     },
     "metadata": {
      "needs_background": "light"
     },
     "output_type": "display_data"
    }
   ],
   "source": [
    "def plot_with_confidence(pred, name):\n",
    "    q = np.percentile(pred, [5, 50, 95], axis=0)\n",
    "    plt.figure()\n",
    "    plt.plot(x_test, q[1], color=\"C0\", lw=2, label=\"predictive mean\")\n",
    "    plt.fill_between(x_test, q[0], q[2], color=\"C0\", alpha=0.5, label=\"95\\% confidence\")\n",
    "    plt.plot(x_test, y_test, \"k\", lw=1.5, alpha=0.3, label=\"truth\")\n",
    "\n",
    "    plt.errorbar(x, y, yerr=yerr, fmt=\".k\", capsize=0, markersize=scatter_size, elinewidth=line_width)\n",
    "    plt.xlabel(\"$x$ [day]\")\n",
    "    plt.ylabel(\"$y$ [ppm]\")\n",
    "    plt.xlim(0, 10)\n",
    "    plt.ylim(-2.5, 3.5)\n",
    "    plt.legend(frameon=False, loc=\"upper left\")\n",
    "    _ = plt.title(\"Posterior inference\")\n",
    "    sns.despine()\n",
    "    pml.savefig(name)\n",
    "\n",
    "\n",
    "plot_with_confidence(pred_numpyro, \"gp-kernel-opt-hmc\")"
   ]
  },
  {
   "cell_type": "markdown",
   "id": "dJZaDOH2PVD-",
   "metadata": {
    "id": "dJZaDOH2PVD-"
   },
   "source": [
    "# Inferring hyper-parameters using NUTS in BlackJAX\n",
    "\n",
    "* Inspired by [a blackjax documentation example](https://blackjax-devs.github.io/blackjax/examples/Introduction.html#nuts)."
   ]
  },
  {
   "cell_type": "code",
   "execution_count": 13,
   "id": "c3d60b92-4ed5-403a-bd73-bb48c9055ec7",
   "metadata": {
    "id": "c3d60b92-4ed5-403a-bd73-bb48c9055ec7"
   },
   "outputs": [],
   "source": [
    "def log_joint(params, x=x, y=y):\n",
    "    prior_sigma = 5.0\n",
    "    log_probs = []\n",
    "    log_probs.append(tfd.Normal(0, prior_sigma).log_prob(params[\"mean\"]))\n",
    "    for param in [\"jitter\", \"sigma1\", \"rho1\", \"tau\", \"sigma2\", \"rho2\"]:\n",
    "        log_probs.append(tfd.HalfNormal(prior_sigma).log_prob(params[param]))\n",
    "\n",
    "    kernel1 = params[\"sigma1\"] ** 2 * kernels.ExpSquared(params[\"tau\"]) * kernels.Cosine(params[\"rho1\"])\n",
    "    kernel2 = params[\"sigma2\"] ** 2 * kernels.Matern32(params[\"rho2\"])\n",
    "\n",
    "    kernel = kernel1 + kernel2\n",
    "    gp = GaussianProcess(kernel, x, diag=params[\"jitter\"], mean=params[\"mean\"])\n",
    "    log_likelihood = gp.log_probability(y)\n",
    "    log_prior = sum(log_probs)\n",
    "    return log_likelihood + log_prior"
   ]
  },
  {
   "cell_type": "code",
   "execution_count": 14,
   "id": "ff668fb7",
   "metadata": {},
   "outputs": [],
   "source": [
    "initial_position = {\n",
    "    \"mean\": jnp.zeros(()),\n",
    "    \"jitter\": 0.01 * jnp.ones(()),\n",
    "    \"sigma1\": jnp.ones(()),\n",
    "    \"rho1\": jnp.ones(()),\n",
    "    \"tau\": jnp.ones(()),\n",
    "    \"sigma2\": jnp.ones(()),\n",
    "    \"rho2\": jnp.ones(()),\n",
    "}\n",
    "\n",
    "warmup = blackjax.window_adaptation(\n",
    "    blackjax.nuts,\n",
    "    log_joint,\n",
    "    100,\n",
    ")\n",
    "state, kernel, _ = warmup.run(rng_key, initial_position)"
   ]
  },
  {
   "cell_type": "code",
   "execution_count": 15,
   "id": "936e628c",
   "metadata": {},
   "outputs": [],
   "source": [
    "def inference_loop(rng_key, kernel, initial_state, num_samples):\n",
    "    @jax.jit\n",
    "    def one_step(state, rng_key):\n",
    "        state, _ = kernel(rng_key, state)\n",
    "        return state, state\n",
    "\n",
    "    keys = jax.random.split(rng_key, num_samples)\n",
    "    _, states = jax.lax.scan(one_step, initial_state, keys)\n",
    "\n",
    "    return states"
   ]
  },
  {
   "cell_type": "code",
   "execution_count": 16,
   "id": "9b788b16",
   "metadata": {},
   "outputs": [
    {
     "name": "stdout",
     "output_type": "stream",
     "text": [
      "CPU times: user 12min 34s, sys: 21min 30s, total: 34min 5s\n",
      "Wall time: 48.3 s\n"
     ]
    }
   ],
   "source": [
    "%%time\n",
    "rng_key = jax.random.PRNGKey(0)\n",
    "states = inference_loop(rng_key, kernel, state, 1000)"
   ]
  },
  {
   "cell_type": "code",
   "execution_count": 17,
   "id": "e33bb893",
   "metadata": {},
   "outputs": [
    {
     "data": {
      "image/png": "[encoded data removed]",
      "text/plain": [
       "<Figure size 432x288 with 1 Axes>"
      ]
     },
     "metadata": {
      "needs_background": "light"
     },
     "output_type": "display_data"
    }
   ],
   "source": [
    "pred_blackjax = jax.vmap(sample_mean, in_axes=(0, None, None, None))(states.position, x, y, x_test)\n",
    "plot_with_confidence(pred_blackjax, \"gp-kernel-opt-blackjax-nuts\")"
   ]
  }
 ],
 "metadata": {
  "accelerator": "GPU",
  "colab": {
   "include_colab_link": true,
   "name": "gp-kernel-opt.ipynb",
   "provenance": [],
   "toc_visible": true
  },
  "kernelspec": {
   "display_name": "Python 3.7.13 ('py3713')",
   "language": "python",
   "name": "python3"
  },
  "language_info": {
   "codemirror_mode": {
    "name": "ipython",
    "version": 3
   },
   "file_extension": ".py",
   "mimetype": "text/x-python",
   "name": "python",
   "nbconvert_exporter": "python",
   "pygments_lexer": "ipython3",
   "version": "3.7.13"
  },
  "vscode": {
   "interpreter": {
    "hash": "a787a6e8bcd3d3d3e4a766006c27db2c5a636d1b43e1d89cd16234e9a9c2591c"
   }
  }
 },
 "nbformat": 4,
 "nbformat_minor": 5
}
