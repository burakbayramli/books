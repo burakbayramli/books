{
 "cells": [
  {
   "cell_type": "markdown",
   "id": "a63ce874-83e2-417b-9238-e46d57bd7fd3",
   "metadata": {
    "id": "a63ce874-83e2-417b-9238-e46d57bd7fd3"
   },
   "source": [
    "\n",
    "\n",
    "# GP with a Poisson Likelihood\n",
    "\n",
    "https://tinygp.readthedocs.io/en/latest/tutorials/likelihoods.html\n",
    "\n",
    "We use the tinygp library to define the model, and the numpyro library to do inference, using either MCMC or SVI.\n"
   ]
  },
  {
   "cell_type": "code",
   "execution_count": null,
   "id": "c9335ef4-9488-427c-b9fd-6ac74d5da1d0",
   "metadata": {
    "colab": {
     "base_uri": "https://localhost:8080/"
    },
    "id": "c9335ef4-9488-427c-b9fd-6ac74d5da1d0",
    "outputId": "6f12c6a8-98a6-4e0f-dd8f-06cae86caeff",
    "tags": [
     "hide-cell"
    ]
   },
   "outputs": [],
   "source": [
    "try:\n",
    "    import tinygp\n",
    "except ModuleNotFoundError:\n",
    "    %pip install -q tinygp\n",
    "    import tinygp\n",
    "\n",
    "try:\n",
    "    import numpyro\n",
    "except ModuleNotFoundError:\n",
    "    %pip install -qq numpyro\n",
    "    %pip install -q numpyro jax jaxlib\n",
    "    import numpyro\n",
    "\n",
    "try:\n",
    "    import arviz\n",
    "except ModuleNotFoundError:\n",
    "    %pip install arviz\n",
    "    import arviz\n",
    "try:\n",
    "    from probml_utils import latexify, savefig, is_latexify_enabled\n",
    "except ModuleNotFoundError:\n",
    "    %pip install git+https://github.com/probml/probml-utils.git\n",
    "    from probml_utils import latexify, savefig, is_latexify_enabled\n",
    "\n",
    "import seaborn as sns\n",
    "import numpyro.distributions as dist\n",
    "import jax\n",
    "import jax.numpy as jnp\n",
    "import matplotlib.pyplot as plt\n",
    "from tinygp import kernels, GaussianProcess\n",
    "from jax.config import config\n",
    "\n",
    "config.update(\"jax_enable_x64\", True)\n",
    "\n",
    "latexify(width_scale_factor=3, fig_height=1.5)"
   ]
  },
  {
   "cell_type": "markdown",
   "id": "CbI17HrkWCTB",
   "metadata": {
    "id": "CbI17HrkWCTB"
   },
   "source": [
    "# Data"
   ]
  },
  {
   "cell_type": "code",
   "execution_count": null,
   "id": "f0047440-ef0e-490c-abc0-45ed3f396ceb",
   "metadata": {
    "colab": {
     "base_uri": "https://localhost:8080/",
     "height": 279
    },
    "id": "f0047440-ef0e-490c-abc0-45ed3f396ceb",
    "outputId": "1a0651c7-541e-4ac7-887f-284671034353"
   },
   "outputs": [],
   "source": [
    "key = jax.random.PRNGKey(203618)\n",
    "x = jnp.linspace(-3, 3, 20)\n",
    "true_log_rate = 2 * jnp.cos(2 * x)\n",
    "y = jax.random.poisson(key, jnp.exp(true_log_rate))\n",
    "plt.figure()\n",
    "plt.plot(x, y, \".k\", label=\"data\")\n",
    "plt.plot(x, jnp.exp(true_log_rate), \"C1\", label=\"true rate\")\n",
    "plt.xlabel(\"$x$\")\n",
    "sns.despine()\n",
    "plt.ylabel(\"counts\")\n",
    "plt.legend(loc=1, prop={\"size\": 5}, frameon=False)\n",
    "savefig(\"gp-poisson-data\")"
   ]
  },
  {
   "cell_type": "markdown",
   "id": "6c174a8a-a441-485d-9b9b-5c061943b50d",
   "metadata": {
    "id": "6c174a8a-a441-485d-9b9b-5c061943b50d"
   },
   "source": [
    "# Markov chain Monte Carlo (MCMC)\n",
    "\n",
    "We set up the model in `numpyro` and run  MCMC.\n",
    "Note that  the `log_rate` parameter doesn't have the `obs=...` argument set, since it is latent."
   ]
  },
  {
   "cell_type": "code",
   "execution_count": null,
   "id": "d0b8f667-bacb-4385-9369-e831a65d84a0",
   "metadata": {
    "colab": {
     "base_uri": "https://localhost:8080/"
    },
    "id": "d0b8f667-bacb-4385-9369-e831a65d84a0",
    "outputId": "1b3857c4-00e1-4f8e-bb09-06dfe7853948"
   },
   "outputs": [],
   "source": [
    "%%capture\n",
    "\n",
    "\n",
    "def model(x, y=None):\n",
    "    # The parameters of the GP model\n",
    "    mean = numpyro.sample(\"mean\", dist.Normal(0.0, 2.0))\n",
    "    sigma = numpyro.sample(\"sigma\", dist.HalfNormal(3.0))\n",
    "    rho = numpyro.sample(\"rho\", dist.HalfNormal(10.0))\n",
    "\n",
    "    # Set up the kernel and GP objects\n",
    "    kernel = sigma**2 * kernels.Matern52(rho)\n",
    "    gp = GaussianProcess(kernel, x, diag=1e-5, mean=mean)\n",
    "    log_rate = numpyro.sample(\"log_rate\", gp.numpyro_dist())\n",
    "\n",
    "    # Finally, our observation model is Poisson\n",
    "    numpyro.sample(\"obs\", dist.Poisson(jnp.exp(log_rate)), obs=y)\n",
    "\n",
    "\n",
    "# Run the MCMC\n",
    "nuts_kernel = numpyro.infer.NUTS(model, target_accept_prob=0.9)\n",
    "mcmc = numpyro.infer.MCMC(\n",
    "    nuts_kernel,\n",
    "    num_warmup=500,\n",
    "    num_samples=500,\n",
    "    num_chains=2,\n",
    "    progress_bar=False,\n",
    ")\n",
    "key = jax.random.PRNGKey(55873)\n",
    "mcmc.run(key, x, y=y)\n",
    "samples = mcmc.get_samples()"
   ]
  },
  {
   "cell_type": "markdown",
   "id": "7e56542a-ef64-4b82-8084-cb74de397b70",
   "metadata": {
    "id": "7e56542a-ef64-4b82-8084-cb74de397b70"
   },
   "source": [
    "We can summarize the MCMC results by plotting our inferred model (here we're showing the 1- and 2-sigma credible regions), and compare it to the known ground truth:"
   ]
  },
  {
   "cell_type": "code",
   "execution_count": null,
   "id": "af823999-5aa2-4769-a302-b60e5df7d1d2",
   "metadata": {
    "colab": {
     "base_uri": "https://localhost:8080/",
     "height": 279
    },
    "id": "af823999-5aa2-4769-a302-b60e5df7d1d2",
    "outputId": "076d1be0-8ba7-4b0f-9a29-72e144692fe1"
   },
   "outputs": [],
   "source": [
    "percentile = jnp.percentile(samples[\"log_rate\"], jnp.array([5, 50, 95]), axis=0)\n",
    "plt.figure()\n",
    "plt.plot(x, y, \".k\", label=\"data\")\n",
    "plt.plot(x, jnp.exp(true_log_rate), \"--\", color=\"C1\", label=\"true rate\")\n",
    "plt.plot(x, jnp.exp(percentile[1]), color=\"C0\", label=\"MCMC inferred rate\")\n",
    "plt.fill_between(\n",
    "    x, jnp.exp(percentile[0]), jnp.exp(percentile[-1]), alpha=0.3, lw=0, color=\"C0\", label=\"$95\\%$ Confidence\"\n",
    ")\n",
    "\n",
    "\n",
    "plt.legend(loc=1, prop={\"size\": 5}, frameon=False)\n",
    "sns.despine()\n",
    "plt.xlabel(\"$x$\")\n",
    "plt.ylabel(\"counts\")\n",
    "\n",
    "savefig(\"gp-poisson-mcmc\")"
   ]
  },
  {
   "cell_type": "markdown",
   "id": "4edf5ea7-6d35-406e-8416-0efd3624f3d8",
   "metadata": {
    "id": "4edf5ea7-6d35-406e-8416-0efd3624f3d8"
   },
   "source": [
    "# Stochastic variational inference (SVI)\n",
    "\n",
    "For larger datasets, it is faster to use stochastic variational inference (SVI) instead of MCMC.\n"
   ]
  },
  {
   "cell_type": "code",
   "execution_count": null,
   "id": "eedc1154-df51-40bc-958e-9674912f5f23",
   "metadata": {
    "id": "eedc1154-df51-40bc-958e-9674912f5f23"
   },
   "outputs": [],
   "source": [
    "def model(x, y=None):\n",
    "    # The parameters of the GP model\n",
    "    mean = numpyro.param(\"mean\", jnp.zeros(()))\n",
    "    sigma = numpyro.param(\"sigma\", jnp.ones(()), constraint=dist.constraints.positive)\n",
    "    rho = numpyro.param(\"rho\", 2 * jnp.ones(()), constraint=dist.constraints.positive)\n",
    "\n",
    "    # Set up the kernel and GP objects\n",
    "    kernel = sigma**2 * kernels.Matern52(rho)\n",
    "    gp = GaussianProcess(kernel, x, diag=1e-5, mean=mean)\n",
    "    log_rate = numpyro.sample(\"log_rate\", gp.numpyro_dist())\n",
    "\n",
    "    # Finally, our observation model is Poisson\n",
    "    numpyro.sample(\"obs\", dist.Poisson(jnp.exp(log_rate)), obs=y)\n",
    "\n",
    "\n",
    "def guide(x, y=None):\n",
    "    mu = numpyro.param(\"log_rate_mu\", jnp.zeros_like(x) if y is None else jnp.log(y + 1))\n",
    "    sigma = numpyro.param(\n",
    "        \"log_rate_sigma\",\n",
    "        jnp.ones_like(x),\n",
    "        constraint=dist.constraints.positive,\n",
    "    )\n",
    "    numpyro.sample(\"log_rate\", dist.Independent(dist.Normal(mu, sigma), 1))\n",
    "\n",
    "\n",
    "optim = numpyro.optim.Adam(0.01)\n",
    "svi = numpyro.infer.SVI(model, guide, optim, numpyro.infer.Trace_ELBO(10))\n",
    "results = svi.run(jax.random.PRNGKey(5583), 3000, x, y=y, progress_bar=False)"
   ]
  },
  {
   "cell_type": "markdown",
   "id": "37105dde-e708-46d7-8fd1-19387b7d765d",
   "metadata": {
    "id": "37105dde-e708-46d7-8fd1-19387b7d765d"
   },
   "source": [
    "As above, we can plot our inferred conditional model and compare it to the ground truth:"
   ]
  },
  {
   "cell_type": "code",
   "execution_count": null,
   "id": "6f9b351b-8fe2-4a0b-9aac-fc8955ecf85c",
   "metadata": {
    "colab": {
     "base_uri": "https://localhost:8080/",
     "height": 280
    },
    "id": "6f9b351b-8fe2-4a0b-9aac-fc8955ecf85c",
    "outputId": "375e19d8-80b9-48b9-b68d-9b635293eb0c"
   },
   "outputs": [],
   "source": [
    "mu = results.params[\"log_rate_mu\"]\n",
    "sigma = results.params[\"log_rate_sigma\"]\n",
    "plt.figure()\n",
    "plt.plot(x, y, \".k\", label=\"data\")\n",
    "plt.plot(x, jnp.exp(true_log_rate), \"--\", color=\"C1\", label=\"true rate\")\n",
    "plt.plot(x, jnp.exp(mu), color=\"C0\", label=\"VI inferred rate\")\n",
    "plt.fill_between(\n",
    "    x,\n",
    "    jnp.exp(mu - 2 * sigma),\n",
    "    jnp.exp(mu + 2 * sigma),\n",
    "    alpha=0.3,\n",
    "    lw=0,\n",
    "    color=\"C0\",\n",
    "    label=\"$95\\%$ Confidence\",\n",
    ")\n",
    "plt.legend(loc=1, prop={\"size\": 5}, frameon=False)\n",
    "plt.xlabel(\"$x$\")\n",
    "plt.ylabel(\"counts\")\n",
    "sns.despine()\n",
    "savefig(\"gp-poisson-svi\")"
   ]
  }
 ],
 "metadata": {
  "colab": {
   "collapsed_sections": [],
   "include_colab_link": true,
   "name": "gp-poisson-1d.ipynb",
   "provenance": []
  },
  "kernelspec": {
   "display_name": "Python 3.10.4 ('PyroNB')",
   "language": "python",
   "name": "python3"
  },
  "language_info": {
   "codemirror_mode": {
    "name": "ipython",
    "version": 3
   },
   "file_extension": ".py",
   "mimetype": "text/x-python",
   "name": "python",
   "nbconvert_exporter": "python",
   "pygments_lexer": "ipython3",
   "version": "3.10.4"
  },
  "vscode": {
   "interpreter": {
    "hash": "541be09f5402c733300b7f8bd26f7b397ff878a73a38074dfa6f900d5dc8ce66"
   }
  }
 },
 "nbformat": 4,
 "nbformat_minor": 5
}
