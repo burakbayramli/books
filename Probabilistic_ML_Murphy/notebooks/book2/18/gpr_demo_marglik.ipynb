{
 "cells": [
  {
   "cell_type": "markdown",
   "id": "20eb25f3",
   "metadata": {},
   "source": [
    "## Illustration of local minima in the marginal likelihood surface"
   ]
  },
  {
   "cell_type": "code",
   "execution_count": null,
   "id": "8fa23afe",
   "metadata": {},
   "outputs": [],
   "source": [
    "try:\n",
    "    import tinygp\n",
    "except ImportError:\n",
    "    %pip install -q tinygp\n",
    "    import tinygp\n",
    "\n",
    "\n",
    "import jax.numpy as jnp\n",
    "from tinygp import kernels, GaussianProcess\n",
    "from jax.config import config\n",
    "from scipy.optimize import minimize\n",
    "import matplotlib.pyplot as plt\n",
    "import seaborn as sns\n",
    "\n",
    "try:\n",
    "    from probml_utils import latexify, savefig, is_latexify_enabled\n",
    "except ModuleNotFoundError:\n",
    "    %pip install git+https://github.com/probml/probml-utils.git\n",
    "    from probml_utils import latexify, savefig, is_latexify_enabled\n",
    "\n",
    "\n",
    "latexify(width_scale_factor=3, fig_height=1.5)\n",
    "config.update(\"jax_enable_x64\", True)\n",
    "marksize = 20 if is_latexify_enabled() else 100"
   ]
  },
  {
   "cell_type": "markdown",
   "id": "453b550e",
   "metadata": {},
   "source": [
    "### GP negative log likelihood"
   ]
  },
  {
   "cell_type": "code",
   "execution_count": null,
   "id": "e23aa0a6",
   "metadata": {},
   "outputs": [],
   "source": [
    "def build_gp(x, length_scale, sigma_f, sigma_y):\n",
    "    kernel = (sigma_f**2) * kernels.ExpSquared(scale=length_scale)\n",
    "    return GaussianProcess(kernel, x, diag=sigma_y**2)\n",
    "\n",
    "\n",
    "def neg_log_likelihood(X, y, sigma_f, length_scale, sigma_y):\n",
    "    gp = build_gp(X, jnp.exp(length_scale), sigma_f, jnp.exp(sigma_y))\n",
    "    return -gp.log_probability(y)"
   ]
  },
  {
   "cell_type": "markdown",
   "id": "a2a4ea4d",
   "metadata": {},
   "source": [
    "### Plot predict"
   ]
  },
  {
   "cell_type": "code",
   "execution_count": null,
   "id": "9c695f60",
   "metadata": {},
   "outputs": [],
   "source": [
    "def plot_gp_pred(x, y, xtest, sigma_f, length_scale, sigma_y):\n",
    "    gp = build_gp(x, length_scale, sigma_f, sigma_y)\n",
    "    cond_gp = gp.condition(y, xtest).gp\n",
    "    mu, var = cond_gp.loc, cond_gp.variance\n",
    "    plt.scatter(x, y, s=marksize, c=\"k\", marker=\"+\", label=\"Data\")\n",
    "    plt.plot(xtest, mu, color=\"black\", label=\"Mean\")\n",
    "    plt.fill_between(\n",
    "        xtest,\n",
    "        mu + 2 * jnp.sqrt(var),\n",
    "        mu - 2 * jnp.sqrt(var),\n",
    "        color=\"tab:gray\",\n",
    "        alpha=0.3,\n",
    "        edgecolor=\"none\",\n",
    "        label=\"Confidence\",\n",
    "    )\n",
    "    sns.despine()\n",
    "    plt.xlabel(\"$x$\")\n",
    "    plt.ylabel(\"$y$\")"
   ]
  },
  {
   "cell_type": "markdown",
   "id": "b70acd00",
   "metadata": {},
   "source": [
    "### Plot marginal likelihood surface"
   ]
  },
  {
   "cell_type": "code",
   "execution_count": null,
   "id": "72f7ff76",
   "metadata": {},
   "outputs": [],
   "source": [
    "def plot_marginal_likelihood_surface(x, y, sigma_f, l_space, sigma_y_space, levels=None):\n",
    "    P = jnp.stack(jnp.meshgrid(l_space, sigma_y_space), axis=0)\n",
    "    Z = jnp.apply_along_axis(lambda p: neg_log_likelihood(x, y, sigma_f, *p), 0, P)\n",
    "    plt.contour(*jnp.exp(P), Z, levels)\n",
    "    plt.xlabel(\"length scale (log scale)\")\n",
    "    plt.ylabel(\"noise std_dev \\n (log scale)\")\n",
    "    plt.xscale(\"log\")\n",
    "    plt.yscale(\"log\")\n",
    "    sns.despine()"
   ]
  },
  {
   "cell_type": "markdown",
   "id": "2408db3d",
   "metadata": {},
   "source": [
    "### Plots"
   ]
  },
  {
   "cell_type": "code",
   "execution_count": null,
   "id": "e3a2dd06",
   "metadata": {},
   "outputs": [],
   "source": [
    "sigma_f = 1.0\n",
    "x = jnp.array([-1.3089, 6.7612, 1.0553, -1.1734, -2.9339, 7.2530, -6.5843]).reshape(\n",
    "    -1,\n",
    ")\n",
    "y = jnp.array([1.6218, 1.8558, 0.4102, 1.2526, -0.0133, 1.6380, 0.2189]).reshape(\n",
    "    -1,\n",
    ")\n",
    "x_test = jnp.linspace(-7.5, 7.5, 201).reshape(\n",
    "    -1,\n",
    ")\n",
    "params = [(1.0, 0.2), (10, 0.8)]\n",
    "\n",
    "fig = plt.figure()\n",
    "plot_gp_pred(x, y, x_test, sigma_f, *params[0])\n",
    "plt.ylim(-3, 6)\n",
    "plt.legend(prop={\"size\": 6}, frameon=False, loc=2)\n",
    "savefig(\"gpr_config0\")\n",
    "\n",
    "fig = plt.figure()\n",
    "plot_gp_pred(x, y, x_test, sigma_f, *params[1])\n",
    "plt.ylim(-1, 3)\n",
    "plt.legend(prop={\"size\": 6}, frameon=False, loc=2)\n",
    "savefig(\"gpr_config1\")"
   ]
  },
  {
   "cell_type": "code",
   "execution_count": null,
   "id": "77886a9a",
   "metadata": {},
   "outputs": [],
   "source": [
    "ngrid = 41\n",
    "params1 = jnp.array([jnp.log(1), jnp.log(0.1)])\n",
    "params2 = jnp.array([jnp.log(10), jnp.log(0.8)])\n",
    "\n",
    "## Minimizing for two set of params\n",
    "local_minima1 = minimize((lambda p: neg_log_likelihood(x, y, sigma_f, *p)), params1)\n",
    "local_minima2 = minimize((lambda p: neg_log_likelihood(x, y, sigma_f, *p)), params2)\n",
    "\n",
    "levels = jnp.array([8.3, 8.5, 8.9, 9.3, 9.8, 11.5, 15])\n",
    "length_space = jnp.linspace(jnp.log(0.1), jnp.log(80), ngrid)\n",
    "sigma_y_space = jnp.linspace(jnp.log(0.03), jnp.log(3), ngrid)\n",
    "\n",
    "fig = plt.figure()\n",
    "plot_marginal_likelihood_surface(x, y, sigma_f, length_space, sigma_y_space, levels=levels)\n",
    "plt.scatter(*jnp.exp(local_minima1.x), marker=\"+\", s=marksize, c=\"red\")\n",
    "plt.scatter(*jnp.exp(local_minima2.x), marker=\"+\", s=marksize, c=\"red\")\n",
    "savefig(\"gpr_marginal_likelihood\")\n",
    "\n",
    "plt.show()"
   ]
  }
 ],
 "metadata": {
  "kernelspec": {
   "display_name": "Python 3.10.4 ('PyroNB')",
   "language": "python",
   "name": "python3"
  },
  "language_info": {
   "codemirror_mode": {
    "name": "ipython",
    "version": 3
   },
   "file_extension": ".py",
   "mimetype": "text/x-python",
   "name": "python",
   "nbconvert_exporter": "python",
   "pygments_lexer": "ipython3",
   "version": "3.10.4"
  },
  "vscode": {
   "interpreter": {
    "hash": "541be09f5402c733300b7f8bd26f7b397ff878a73a38074dfa6f900d5dc8ce66"
   }
  }
 },
 "nbformat": 4,
 "nbformat_minor": 5
}
