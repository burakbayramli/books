{
 "cells": [
  {
   "cell_type": "markdown",
   "id": "M-EMYCCitLFq",
   "metadata": {
    "id": "M-EMYCCitLFq"
   },
   "source": [
    "# Combine an MLP with a GP \n",
    "\n",
    "Modified from\n",
    "https://tinygp.readthedocs.io/en/latest/tutorials/transforms.html\n"
   ]
  },
  {
   "cell_type": "code",
   "execution_count": 1,
   "id": "f6796277-39d4-492b-b589-7800f2447219",
   "metadata": {
    "colab": {
     "base_uri": "https://localhost:8080/"
    },
    "id": "f6796277-39d4-492b-b589-7800f2447219",
    "outputId": "867d1ad2-9321-4813-d02e-f746f8884750",
    "tags": [
     "hide-cell"
    ]
   },
   "outputs": [],
   "source": [
    "%%capture\n",
    "import os\n",
    "\n",
    "try:\n",
    "    from tinygp import kernels, transforms, GaussianProcess\n",
    "except ModuleNotFoundError:\n",
    "    %pip install -qq tinygp\n",
    "    from tinygp import kernels, transforms, GaussianProcess\n",
    "\n",
    "try:\n",
    "    import flax.linen as nn\n",
    "except ModuleNotFoundError:\n",
    "    %pip install -qq flax\n",
    "    import flax.linen as nn\n",
    "from flax.linen.initializers import zeros\n",
    "\n",
    "try:\n",
    "    import optax\n",
    "except ModuleNotFoundError:\n",
    "    %pip install -qq optax\n",
    "    import optax\n",
    "\n",
    "try:\n",
    "    import probml_utils as pml\n",
    "except ModuleNotFoundError:\n",
    "    %pip install git+https://github.com/probml/probml-utils.git\n",
    "    import probml_utils as pml\n",
    "\n",
    "import numpy as np\n",
    "import matplotlib.pyplot as plt\n",
    "import seaborn as sns\n",
    "\n",
    "import jax\n",
    "import jax.numpy as jnp\n",
    "\n",
    "from jax.config import config\n",
    "\n",
    "config.update(\"jax_enable_x64\", True)"
   ]
  },
  {
   "cell_type": "markdown",
   "id": "8a08c4c1-a1b3-4a1e-a2fc-4eb95cd37d33",
   "metadata": {
    "id": "8a08c4c1-a1b3-4a1e-a2fc-4eb95cd37d33"
   },
   "source": [
    "# Data"
   ]
  },
  {
   "cell_type": "code",
   "execution_count": 2,
   "id": "7a951109",
   "metadata": {},
   "outputs": [
    {
     "name": "stderr",
     "output_type": "stream",
     "text": [
      "/home/patel_zeel/miniconda3/envs/pyprobml/lib/python3.7/site-packages/probml_utils/plotting.py:26: UserWarning: LATEXIFY environment variable not set, not latexifying\n",
      "  warnings.warn(\"LATEXIFY environment variable not set, not latexifying\")\n"
     ]
    }
   ],
   "source": [
    "pml.latexify(width_scale_factor=2)\n",
    "markersize = 3 if pml.is_latexify_enabled() else 6"
   ]
  },
  {
   "cell_type": "code",
   "execution_count": 3,
   "id": "71dd3917-a738-47d6-841f-e0bfb9e68fd4",
   "metadata": {
    "colab": {
     "base_uri": "https://localhost:8080/",
     "height": 279
    },
    "id": "71dd3917-a738-47d6-841f-e0bfb9e68fd4",
    "outputId": "6ace88e5-3331-4cf3-ad98-68610bd11e19"
   },
   "outputs": [
    {
     "name": "stderr",
     "output_type": "stream",
     "text": [
      "/home/patel_zeel/miniconda3/envs/pyprobml/lib/python3.7/site-packages/probml_utils/plotting.py:79: UserWarning: set FIG_DIR environment variable to save figures\n",
      "  warnings.warn(\"set FIG_DIR environment variable to save figures\")\n"
     ]
    },
    {
     "data": {
      "image/png": "[encoded data removed]",
      "text/plain": [
       "<Figure size 432x288 with 1 Axes>"
      ]
     },
     "metadata": {
      "needs_background": "light"
     },
     "output_type": "display_data"
    }
   ],
   "source": [
    "random = np.random.default_rng(567)\n",
    "\n",
    "noise = 0.1\n",
    "\n",
    "x = np.sort(random.uniform(-1, 1, 100))\n",
    "\n",
    "\n",
    "def true_fn(x):\n",
    "    return 2 * (x > 0) - 1\n",
    "\n",
    "\n",
    "y = true_fn(x) + random.normal(0.0, noise, len(x))\n",
    "t = np.linspace(-1.5, 1.5, 500)\n",
    "\n",
    "\n",
    "plt.plot(t, true_fn(t), \"k\", lw=1, label=\"truth\")\n",
    "plt.plot(x, y, \".k\", markersize=markersize, label=\"data\")\n",
    "plt.xlim(-1.5, 1.5)\n",
    "plt.ylim(-1.3, 1.3)\n",
    "plt.xlabel(\"$x$\")\n",
    "plt.ylabel(\"$y$\")\n",
    "_ = plt.legend()\n",
    "\n",
    "sns.despine()\n",
    "pml.savefig(\"gp-dkl-data\")"
   ]
  },
  {
   "cell_type": "markdown",
   "id": "uXS7JKu6uAKd",
   "metadata": {
    "id": "uXS7JKu6uAKd"
   },
   "source": [
    "# Deep kernel"
   ]
  },
  {
   "cell_type": "markdown",
   "id": "9c104d3d-ff22-4372-8503-2c0f4931c85c",
   "metadata": {
    "id": "9c104d3d-ff22-4372-8503-2c0f4931c85c"
   },
   "source": [
    "We transform the (1d) input using an MLP and then pass it to a Matern kernel."
   ]
  },
  {
   "cell_type": "code",
   "execution_count": 4,
   "id": "e0065dea-379a-4e0d-8cf2-f460c8126a5f",
   "metadata": {
    "id": "e0065dea-379a-4e0d-8cf2-f460c8126a5f"
   },
   "outputs": [],
   "source": [
    "# Define a small neural network used to non-linearly transform the input data in our model\n",
    "class Transformer(nn.Module):\n",
    "    @nn.compact\n",
    "    def __call__(self, x):\n",
    "        x = nn.Dense(features=15)(x)\n",
    "        x = nn.relu(x)\n",
    "        x = nn.Dense(features=10)(x)\n",
    "        x = nn.relu(x)\n",
    "        x = nn.Dense(features=1)(x)\n",
    "        return x\n",
    "\n",
    "\n",
    "class GPdeep(nn.Module):\n",
    "    @nn.compact\n",
    "    def __call__(self, x, y, t):\n",
    "        # Set up a typical Matern-3/2 kernel\n",
    "        log_sigma = self.param(\"log_sigma\", zeros, ())\n",
    "        log_rho = self.param(\"log_rho\", zeros, ())\n",
    "        log_jitter = self.param(\"log_jitter\", zeros, ())\n",
    "        base_kernel = jnp.exp(2 * log_sigma) * kernels.Matern32(jnp.exp(log_rho))\n",
    "\n",
    "        # Define a custom transform to pass the input coordinates through our `Transformer`\n",
    "        # network from above\n",
    "        transform = Transformer()\n",
    "        kernel = transforms.Transform(transform, base_kernel)\n",
    "\n",
    "        # Evaluate and return the GP negative log likelihood as usual\n",
    "        gp = GaussianProcess(kernel, x[:, None], diag=jnp.exp(2 * log_jitter))\n",
    "        pred_gp = gp.condition(y, t[:, None]).gp\n",
    "        return -gp.log_probability(y), (pred_gp.loc, pred_gp.variance)"
   ]
  },
  {
   "cell_type": "code",
   "execution_count": 5,
   "id": "in9l5sEBt7_C",
   "metadata": {
    "id": "in9l5sEBt7_C"
   },
   "outputs": [
    {
     "name": "stderr",
     "output_type": "stream",
     "text": [
      "WARNING:absl:No GPU/TPU found, falling back to CPU. (Set TF_CPP_MIN_LOG_LEVEL=0 and rerun for more info.)\n"
     ]
    }
   ],
   "source": [
    "# Define and train the model\n",
    "def loss(params):\n",
    "    return model.apply(params, x, y, t)[0]\n",
    "\n",
    "\n",
    "model = GPdeep()\n",
    "params = model.init(jax.random.PRNGKey(1234), x, y, t)\n",
    "tx = optax.sgd(learning_rate=1e-4)\n",
    "opt_state = tx.init(params)\n",
    "loss_grad_fn = jax.jit(jax.value_and_grad(loss))\n",
    "for i in range(1000):\n",
    "    loss_val, grads = loss_grad_fn(params)\n",
    "    updates, opt_state = tx.update(grads, opt_state)\n",
    "    params = optax.apply_updates(params, updates)"
   ]
  },
  {
   "cell_type": "code",
   "execution_count": 6,
   "id": "tCVl-Ektv6U6",
   "metadata": {
    "colab": {
     "base_uri": "https://localhost:8080/",
     "height": 279
    },
    "id": "tCVl-Ektv6U6",
    "outputId": "61e3abfd-9c11-4b3d-f0ed-5e2a527dd919"
   },
   "outputs": [
    {
     "name": "stderr",
     "output_type": "stream",
     "text": [
      "/home/patel_zeel/miniconda3/envs/pyprobml/lib/python3.7/site-packages/probml_utils/plotting.py:79: UserWarning: set FIG_DIR environment variable to save figures\n",
      "  warnings.warn(\"set FIG_DIR environment variable to save figures\")\n"
     ]
    },
    {
     "data": {
      "image/png": "[encoded data removed]",
      "text/plain": [
       "<Figure size 432x288 with 1 Axes>"
      ]
     },
     "metadata": {
      "needs_background": "light"
     },
     "output_type": "display_data"
    }
   ],
   "source": [
    "# Plot the results and compare to the true model\n",
    "plt.figure()\n",
    "mu, var = model.apply(params, x, y, t)[1]\n",
    "plt.plot(t, true_fn(t), \"k\", lw=1, label=\"truth\")\n",
    "plt.plot(x, y, \".k\", markersize=markersize, label=\"data\")\n",
    "plt.plot(t, mu)\n",
    "plt.fill_between(t, mu + np.sqrt(var), mu - np.sqrt(var), alpha=0.5, label=\"model\")\n",
    "plt.xlim(-1.5, 1.5)\n",
    "plt.ylim(-1.3, 1.3)\n",
    "plt.xlabel(\"$x$\")\n",
    "plt.ylabel(\"$y$\")\n",
    "_ = plt.legend()\n",
    "\n",
    "sns.despine()\n",
    "pml.savefig(\"gp-dkl-deep\")"
   ]
  },
  {
   "cell_type": "markdown",
   "id": "Lkd5RQdluCha",
   "metadata": {
    "id": "Lkd5RQdluCha"
   },
   "source": [
    "# Shallow kernel"
   ]
  },
  {
   "cell_type": "code",
   "execution_count": 7,
   "id": "3UlCmtYHuFSb",
   "metadata": {
    "id": "3UlCmtYHuFSb"
   },
   "outputs": [],
   "source": [
    "class GPshallow(nn.Module):\n",
    "    @nn.compact\n",
    "    def __call__(self, x, y, t):\n",
    "        # Set up a typical Matern-3/2 kernel\n",
    "        log_sigma = self.param(\"log_sigma\", zeros, ())\n",
    "        log_rho = self.param(\"log_rho\", zeros, ())\n",
    "        log_jitter = self.param(\"log_jitter\", zeros, ())\n",
    "        base_kernel = jnp.exp(2 * log_sigma) * kernels.Matern32(jnp.exp(log_rho))\n",
    "        # Evaluate and return the GP negative log likelihood as usual\n",
    "        gp = GaussianProcess(base_kernel, x[:, None], diag=jnp.exp(2 * log_jitter))\n",
    "        pred_gp = gp.condition(y, t[:, None]).gp\n",
    "        return -gp.log_probability(y), (pred_gp.loc, pred_gp.variance)"
   ]
  },
  {
   "cell_type": "code",
   "execution_count": 8,
   "id": "4YMRG_RFt8ms",
   "metadata": {
    "id": "4YMRG_RFt8ms"
   },
   "outputs": [],
   "source": [
    "model = GPshallow()\n",
    "params = model.init(jax.random.PRNGKey(1234), x, y, t)\n",
    "tx = optax.sgd(learning_rate=1e-4)\n",
    "opt_state = tx.init(params)\n",
    "loss_grad_fn = jax.jit(jax.value_and_grad(loss))\n",
    "for i in range(1000):\n",
    "    loss_val, grads = loss_grad_fn(params)\n",
    "    updates, opt_state = tx.update(grads, opt_state)\n",
    "    params = optax.apply_updates(params, updates)"
   ]
  },
  {
   "cell_type": "code",
   "execution_count": 9,
   "id": "LgAFaMQbwBz_",
   "metadata": {
    "colab": {
     "base_uri": "https://localhost:8080/",
     "height": 279
    },
    "id": "LgAFaMQbwBz_",
    "outputId": "b6a0f1a4-1c62-4b15-9aba-45a126ac2594"
   },
   "outputs": [
    {
     "name": "stderr",
     "output_type": "stream",
     "text": [
      "/home/patel_zeel/miniconda3/envs/pyprobml/lib/python3.7/site-packages/probml_utils/plotting.py:79: UserWarning: set FIG_DIR environment variable to save figures\n",
      "  warnings.warn(\"set FIG_DIR environment variable to save figures\")\n"
     ]
    },
    {
     "data": {
      "image/png": "[encoded data removed]",
      "text/plain": [
       "<Figure size 432x288 with 1 Axes>"
      ]
     },
     "metadata": {
      "needs_background": "light"
     },
     "output_type": "display_data"
    }
   ],
   "source": [
    "# Plot the results and compare to the true model\n",
    "plt.figure()\n",
    "mu, var = model.apply(params, x, y, t)[1]\n",
    "plt.plot(t, true_fn(t), \"k\", lw=1, label=\"truth\")\n",
    "plt.plot(x, y, \".k\", markersize=markersize, label=\"data\")\n",
    "plt.plot(t, mu)\n",
    "plt.fill_between(t, mu + np.sqrt(var), mu - np.sqrt(var), alpha=0.5, label=\"model\")\n",
    "plt.xlim(-1.5, 1.5)\n",
    "plt.ylim(-1.3, 1.3)\n",
    "plt.xlabel(\"$x$\")\n",
    "plt.ylabel(\"$y$\")\n",
    "_ = plt.legend()\n",
    "\n",
    "sns.despine()\n",
    "pml.savefig(\"gp-dkl-shallow\")"
   ]
  }
 ],
 "metadata": {
  "accelerator": "GPU",
  "colab": {
   "include_colab_link": true,
   "name": "gp-deep-kernel-learning.ipynb",
   "provenance": []
  },
  "kernelspec": {
   "display_name": "Python 3 (ipykernel)",
   "language": "python",
   "name": "python3"
  },
  "language_info": {
   "codemirror_mode": {
    "name": "ipython",
    "version": 3
   },
   "file_extension": ".py",
   "mimetype": "text/x-python",
   "name": "python",
   "nbconvert_exporter": "python",
   "pygments_lexer": "ipython3",
   "version": "3.9.5"
  }
 },
 "nbformat": 4,
 "nbformat_minor": 5
}
