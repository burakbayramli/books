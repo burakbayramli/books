{
 "cells": [
  {
   "cell_type": "code",
   "execution_count": null,
   "id": "bb275230",
   "metadata": {},
   "outputs": [],
   "source": [
    "import collections\n",
    "import re\n",
    "import os\n",
    "import numpy as np\n",
    "import matplotlib.pyplot as plt\n",
    "\n",
    "try:\n",
    "    import probml_utils as pml\n",
    "except ModuleNotFoundError:\n",
    "    %pip install -qq git+https://github.com/probml/probml-utils.git\n",
    "    import probml_utils as pml\n",
    "import requests"
   ]
  },
  {
   "cell_type": "code",
   "execution_count": 2,
   "id": "f2bb5dcd",
   "metadata": {},
   "outputs": [
    {
     "name": "stdout",
     "output_type": "stream",
     "text": [
      "['the', 'time', 'machine', 'by', 'h', 'g', 'wells']\n",
      "[]\n",
      "['i']\n",
      "[]\n",
      "['the', 'time', 'traveller', 'for', 'so', 'it', 'will', 'be', 'convenient', 'to', 'speak', 'of', 'him', 'was', 'expounding', 'a', 'recondite', 'matter', 'to', 'us', 'his', 'grey', 'eyes', 'shone', 'and', 'twinkled', 'and', 'his', 'usually', 'pale', 'face', 'was', 'flushed', 'and', 'animated', 'the', 'fire', 'burned', 'brightly', 'and', 'the', 'soft', 'radiance', 'of', 'the', 'incandescent', 'lights', 'in', 'the', 'lilies', 'of', 'silver', 'caught', 'the', 'bubbles', 'that', 'flashed', 'and', 'passed', 'in', 'our', 'glasses', 'our', 'chairs', 'being', 'his', 'patents', 'embraced', 'and', 'caressed', 'us', 'rather', 'than', 'submitted', 'to', 'be', 'sat', 'upon', 'and', 'there', 'was', 'that', 'luxurious', 'after', 'dinner', 'atmosphere', 'when', 'thought', 'roams', 'gracefully', 'free', 'of', 'the', 'trammels', 'of', 'precision', 'and', 'he', 'put', 'it', 'to', 'us', 'in', 'this', 'way', 'marking', 'the', 'points', 'with', 'a', 'lean', 'forefinger', 'as', 'we', 'sat', 'and', 'lazily', 'admired', 'his', 'earnestness', 'over', 'this', 'new', 'paradox', 'as', 'we', 'thought', 'it', 'and', 'his', 'fecundity']\n",
      "[]\n",
      "['you', 'must', 'follow', 'me', 'carefully', 'i', 'shall', 'have', 'to', 'controvert', 'one', 'or', 'two', 'ideas', 'that', 'are', 'almost', 'universally', 'accepted', 'the', 'geometry', 'for', 'instance', 'they', 'taught', 'you', 'at', 'school', 'is', 'founded', 'on', 'a', 'misconception']\n",
      "[]\n",
      "['is', 'not', 'that', 'rather', 'a', 'large', 'thing', 'to', 'expect', 'us', 'to', 'begin', 'upon', 'said', 'filby', 'an', 'argumentative', 'person', 'with', 'red', 'hair']\n",
      "[]\n",
      "First 10 unigrams\n",
      " the time m\n",
      "First 10 bigrams\n",
      " [('t', 'h'), ('h', 'e'), ('e', ' '), (' ', 't'), ('t', 'i'), ('i', 'm'), ('m', 'e'), ('e', ' '), (' ', 'm'), ('m', 'a')]\n",
      "First 10 trigrams\n",
      " [('t', 'h', 'e'), ('h', 'e', ' '), ('e', ' ', 't'), (' ', 't', 'i'), ('t', 'i', 'm'), ('i', 'm', 'e'), ('m', 'e', ' '), ('e', ' ', 'm'), (' ', 'm', 'a'), ('m', 'a', 'c')]\n",
      "Most common unigrams\n",
      " [(' ', 32453), ('e', 17838), ('t', 13515), ('a', 11704), ('i', 10138), ('n', 9917), ('o', 9758), ('s', 8486), ('h', 8257), ('r', 7674)]\n",
      "Most common bigrams\n",
      " [(('e', ' '), 6575), ((' ', 't'), 5506), (('t', 'h'), 4602), (('d', ' '), 4117), (('h', 'e'), 3859), ((' ', 'a'), 3818), (('t', ' '), 3511), (('s', ' '), 3147), (('i', 'n'), 2935), ((' ', 'i'), 2895)]\n",
      "Most common trigrams\n",
      " [((' ', 't', 'h'), 3888), (('t', 'h', 'e'), 3126), (('h', 'e', ' '), 2432), (('n', 'd', ' '), 1602), ((' ', 'a', 'n'), 1455), (('e', 'd', ' '), 1446), (('a', 'n', 'd'), 1398), ((' ', 'i', ' '), 1212), ((' ', 'o', 'f'), 1186), (('o', 'f', ' '), 1158)]\n"
     ]
    }
   ],
   "source": [
    "url = \"https://raw.githubusercontent.com/probml/probml-data/main/data/timemachine.txt\"\n",
    "response = requests.get(url)\n",
    "data = response.text\n",
    "lines = [s + \"\\n\" for s in response.text.split(\"\\n\")]\n",
    "raw_dataset = [re.sub(\"[^A-Za-z]+\", \" \", st).lower().split() for st in lines]\n",
    "\n",
    "# Print first few lines\n",
    "for sentence in raw_dataset[:10]:\n",
    "    print(sentence)\n",
    "\n",
    "# Concat sentences into single string of chars\n",
    "#  skip blank lines\n",
    "sentences = [\" \".join(s) for s in raw_dataset if s]\n",
    "\n",
    "# concat into single long string\n",
    "charseq = \"\".join(sentences)\n",
    "\n",
    "\n",
    "# Unigrams\n",
    "wseq = charseq\n",
    "print(\"First 10 unigrams\\n\", wseq[:10])\n",
    "\n",
    "# Bigrams\n",
    "word_pairs = [pair for pair in zip(wseq[:-1], wseq[1:])]\n",
    "print(\"First 10 bigrams\\n\", word_pairs[:10])\n",
    "\n",
    "# Trigrams\n",
    "word_triples = [triple for triple in zip(wseq[:-2], wseq[1:-1], wseq[2:])]\n",
    "print(\"First 10 trigrams\\n\", word_triples[:10])\n",
    "\n",
    "# ngram statistics\n",
    "counter = collections.Counter(wseq)\n",
    "counter_pairs = collections.Counter(word_pairs)\n",
    "counter_triples = collections.Counter(word_triples)\n",
    "\n",
    "print(\"Most common unigrams\\n\", counter.most_common(10))\n",
    "print(\"Most common bigrams\\n\", counter_pairs.most_common(10))\n",
    "print(\"Most common trigrams\\n\", counter_triples.most_common(10))\n",
    "\n",
    "\n",
    "# convert [(('t', 'h', 'e'), 3126), ...] to {'the': 3126, ...}\n",
    "def make_dict(lst, min_count=1):\n",
    "    d = dict()\n",
    "    for s, c in lst:\n",
    "        if c <= min_count:\n",
    "            continue\n",
    "        key = \"\".join(s)\n",
    "        d[key] = c\n",
    "    return d\n",
    "\n",
    "\n",
    "unigram_dict = make_dict(counter.most_common())\n",
    "alphabet = list(unigram_dict.keys())\n",
    "alpha_size = len(alphabet)\n",
    "\n",
    "bigram_dict = make_dict(counter_pairs.most_common())\n",
    "\n",
    "bigram_count = np.zeros((alpha_size, alpha_size))\n",
    "for k, v in bigram_dict.items():\n",
    "    code0 = alphabet.index(k[0])\n",
    "    code1 = alphabet.index(k[1])\n",
    "    # print('code0 {}, code1 {}, k {}, v {}'.format(code0, code1, k, v))\n",
    "    bigram_count[code0, code1] += v\n",
    "\n",
    "bigram_prob = bigram_count / (1e-10 + np.sum(bigram_count, axis=1))\n",
    "\n",
    "# https://matplotlib.org/3.1.1/gallery/specialty_plots/hinton_demo.html\n",
    "def hinton_diagram(matrix, max_weight=None, ax=None):\n",
    "    \"\"\"Draw Hinton diagram for visualizing a weight matrix.\"\"\"\n",
    "    ax = ax if ax is not None else plt.gca()\n",
    "\n",
    "    if not max_weight:\n",
    "        max_weight = 2 ** np.ceil(np.log(np.abs(matrix).max()) / np.log(2))\n",
    "\n",
    "    ax.patch.set_facecolor(\"gray\")\n",
    "    ax.set_aspect(\"equal\", \"box\")\n",
    "    ax.xaxis.set_major_locator(plt.NullLocator())\n",
    "    ax.yaxis.set_major_locator(plt.NullLocator())\n",
    "\n",
    "    for (x, y), w in np.ndenumerate(matrix):\n",
    "        color = \"white\" if w > 0 else \"black\"\n",
    "        size = np.sqrt(np.abs(w) / max_weight)\n",
    "        rect = plt.Rectangle([x - size / 2, y - size / 2], size, size, facecolor=color, edgecolor=color)\n",
    "        ax.add_patch(rect)\n",
    "\n",
    "    ax.autoscale_view()\n",
    "    ax.invert_yaxis()\n",
    "    ax.axis(\"on\")\n",
    "    ax.set_xticks(range(alpha_size))\n",
    "    ax.set_xticklabels(alphabet)\n",
    "    ax.set_yticks(range(alpha_size))\n",
    "    ax.set_yticklabels(alphabet)"
   ]
  },
  {
   "cell_type": "code",
   "execution_count": 8,
   "id": "f9c9f2ed",
   "metadata": {},
   "outputs": [
    {
     "data": {
      "image/png": "[encoded data removed]",
      "text/plain": [
       "<Figure size 360x360 with 1 Axes>"
      ]
     },
     "metadata": {
      "needs_background": "light"
     },
     "output_type": "display_data"
    }
   ],
   "source": [
    "plt.figure(figsize=(5, 5))\n",
    "hinton_diagram(bigram_count.T)\n",
    "plt.savefig(\"bigram-count.pdf\", bbox_inches=\"tight\", pad_inches=0.1)\n",
    "plt.show()"
   ]
  },
  {
   "cell_type": "code",
   "execution_count": 9,
   "id": "32e4ccab",
   "metadata": {},
   "outputs": [
    {
     "data": {
      "image/png": "[encoded data removed]",
      "text/plain": [
       "<Figure size 360x360 with 1 Axes>"
      ]
     },
     "metadata": {
      "needs_background": "light"
     },
     "output_type": "display_data"
    }
   ],
   "source": [
    "plt.figure(figsize=(5, 5))\n",
    "hinton_diagram(bigram_prob.T)\n",
    "plt.savefig(\"bigram-prob.pdf\", bbox_inches=\"tight\", pad_inches=0.1)\n",
    "plt.show()"
   ]
  },
  {
   "cell_type": "code",
   "execution_count": null,
   "id": "b70b47d8",
   "metadata": {},
   "outputs": [],
   "source": []
  }
 ],
 "metadata": {
  "kernelspec": {
   "display_name": "Python [conda env:py3713]",
   "language": "python",
   "name": "conda-env-py3713-py"
  },
  "language_info": {
   "codemirror_mode": {
    "name": "ipython",
    "version": 3
   },
   "file_extension": ".py",
   "mimetype": "text/x-python",
   "name": "python",
   "nbconvert_exporter": "python",
   "pygments_lexer": "ipython3",
   "version": "3.7.13"
  }
 },
 "nbformat": 4,
 "nbformat_minor": 5
}
