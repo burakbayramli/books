{
 "cells": [
  {
   "cell_type": "markdown",
   "id": "515065c0",
   "metadata": {},
   "source": [
    "# Wishart Distribution"
   ]
  },
  {
   "cell_type": "code",
   "execution_count": 43,
   "id": "1250a307",
   "metadata": {},
   "outputs": [],
   "source": [
    "import jax\n",
    "import math\n",
    "import jax.numpy as jnp\n",
    "from jax import scipy\n",
    "import matplotlib.pyplot as plt\n",
    "from sklearn.neighbors import KernelDensity\n",
    "from matplotlib.patches import Ellipse\n",
    "import seaborn as sns\n",
    "\n",
    "try:\n",
    "    from probml_utils import savefig, latexify\n",
    "except ModuleNotFoundError:\n",
    "    %pip install -qq git+https://github.com/probml/probml-utils.git\n",
    "    from probml_utils import savefig, latexify"
   ]
  },
  {
   "cell_type": "code",
   "execution_count": 44,
   "id": "812c942c",
   "metadata": {},
   "outputs": [
    {
     "name": "stderr",
     "output_type": "stream",
     "text": [
      "/home/tensorboy/dev/env/lib/python3.8/site-packages/probml_utils/plotting.py:26: UserWarning: LATEXIFY environment variable not set, not latexifying\n",
      "  warnings.warn(\"LATEXIFY environment variable not set, not latexifying\")\n"
     ]
    }
   ],
   "source": [
    "latexify(fig_height=2.5)"
   ]
  },
  {
   "cell_type": "code",
   "execution_count": 45,
   "id": "5825dba4",
   "metadata": {},
   "outputs": [],
   "source": [
    "def wishart_sample(dof, sigma, nsamples, seed=4):\n",
    "    keys = jax.random.split(jax.random.PRNGKey(seed), num=nsamples)\n",
    "    d = jnp.size(sigma, 0)\n",
    "    C = jnp.linalg.cholesky(Sigma)\n",
    "    S = jnp.zeros((d, d, nsamples))\n",
    "    for i in range(nsamples):\n",
    "        t = jax.random.normal(keys[i], shape=(dof, d))\n",
    "        Z = jnp.matmul(t, C)\n",
    "        S = S.at[:, :, i].set(jnp.matmul(Z.T, Z))\n",
    "    return S"
   ]
  },
  {
   "cell_type": "code",
   "execution_count": 46,
   "id": "9da6d08e",
   "metadata": {},
   "outputs": [],
   "source": [
    "def gamma_log_prob(a, b, X):\n",
    "    # https://docs.scipy.org/doc/scipy/reference/generated/scipy.stats.gamma.html\n",
    "    # a=shape, b=rate=1/scale\n",
    "    logZ = scipy.special.gammaln(a) - jnp.multiply(a, jnp.log(b))\n",
    "    logp = jnp.multiply((a - 1), jnp.log(X)) - jnp.multiply(b, X) - logZ\n",
    "    return logp"
   ]
  },
  {
   "cell_type": "code",
   "execution_count": 47,
   "id": "4cb46c54",
   "metadata": {},
   "outputs": [],
   "source": [
    "def get_cov_ellipse(cov, centre, nstd):\n",
    "    eigvals, eigvecs = jnp.linalg.eigh(cov)\n",
    "\n",
    "    order = eigvals.argsort()[::-1]\n",
    "    eigvals, eigvecs = eigvals[order], eigvecs[:, order]\n",
    "\n",
    "    vx, vy = eigvecs[:, 0][0], eigvecs[:, 0][1]\n",
    "    theta = jnp.arctan2(vy, vx)\n",
    "    theta = math.degrees(theta)\n",
    "    width, height = 2 * nstd * jnp.sqrt(eigvals)\n",
    "\n",
    "    return width, height, theta"
   ]
  },
  {
   "cell_type": "code",
   "execution_count": 53,
   "id": "d194dc38",
   "metadata": {},
   "outputs": [],
   "source": [
    "# Plots of some samples from Wishart distribution:\n",
    "def plot_wishart_distribution_samples(nr, nc, S, dof):\n",
    "    fig, ax = plt.subplots(\n",
    "        nr,\n",
    "        nc,\n",
    "        sharex=True,\n",
    "        sharey=True,\n",
    "    )\n",
    "    mu = jnp.array([0, 0])\n",
    "    j = 0\n",
    "    for r in range(nr):\n",
    "        for c in range(nc):\n",
    "            w, h, theta = get_cov_ellipse(S[:, :, j], mu, nstd=3)\n",
    "            j = j + 1\n",
    "\n",
    "            ell = Ellipse(xy=mu, width=w, height=h, angle=theta, ec=\"black\", fc=\"none\")  # facecolor='none'\n",
    "            ax[r, c].add_patch(ell)\n",
    "            ax[r, c].set_aspect(\"equal\")\n",
    "            ax[r, c].set_xlim(-25, 25)\n",
    "            ax[r, c].set_ylim(-25, 25)\n",
    "            ax[r, c].autoscale()\n",
    "            ax[r, c].plot(mu[0], mu[1], marker=\"x\")\n",
    "\n",
    "    sns.despine()\n",
    "    plt.tight_layout()\n",
    "    fig.subplots_adjust(top=0.78)\n",
    "\n",
    "    plt.setp(ax, xlim=(-17, 17), ylim=(-10, 10))\n",
    "    savefig(\"wishart_samples\")\n",
    "    plt.show()"
   ]
  },
  {
   "cell_type": "code",
   "execution_count": 54,
   "id": "da42d12a",
   "metadata": {},
   "outputs": [
    {
     "data": {
      "image/png": "[encoded data removed]",
      "text/plain": [
       "<Figure size 432x288 with 9 Axes>"
      ]
     },
     "metadata": {
      "needs_background": "light"
     },
     "output_type": "display_data"
    }
   ],
   "source": [
    "nr = 3\n",
    "nc = 3\n",
    "nsamples = 9\n",
    "\n",
    "\n",
    "S = jnp.array([[3.1653, -0.0262], [-0.0262, 0.6477]])\n",
    "dof = 3\n",
    "Sigma = S\n",
    "\n",
    "Xs1 = jnp.linspace(0.1, 200, 2000)\n",
    "Xs2 = jnp.linspace(0.1, 40, 400)\n",
    "Xs3 = jnp.linspace(0.1, 10, 100)\n",
    "Xsa = {0: Xs1, 1: Xs2}\n",
    "Xsb = {0: Xs2, 1: Xs3}\n",
    "\n",
    "\n",
    "M = dof * Sigma\n",
    "R = jnp.corrcoef(M)\n",
    "S = wishart_sample(dof, Sigma, nsamples)\n",
    "plot_wishart_distribution_samples(nr, nc, S, dof)"
   ]
  },
  {
   "cell_type": "code",
   "execution_count": 55,
   "id": "8b01f294",
   "metadata": {},
   "outputs": [
    {
     "name": "stderr",
     "output_type": "stream",
     "text": [
      "/home/tensorboy/dev/env/lib/python3.8/site-packages/probml_utils/plotting.py:26: UserWarning: LATEXIFY environment variable not set, not latexifying\n",
      "  warnings.warn(\"LATEXIFY environment variable not set, not latexifying\")\n"
     ]
    }
   ],
   "source": [
    "latexify(width_scale_factor=3, fig_height=1.5)"
   ]
  },
  {
   "cell_type": "markdown",
   "id": "9fdb1971",
   "metadata": {},
   "source": [
    "## Plots of marginals\n"
   ]
  },
  {
   "cell_type": "code",
   "execution_count": 51,
   "id": "ad965ec7",
   "metadata": {},
   "outputs": [],
   "source": [
    "def plot_marginals(marg1a, marg1b, marg2a, marg2b, Xs1, Xs2):\n",
    "    logp = gamma_log_prob(marg1a, marg1b, Xs1)\n",
    "    expo = jnp.exp(logp)\n",
    "\n",
    "    plt.figure()\n",
    "    plt.plot(Xs1, expo)\n",
    "    plt.xlabel(r\"$\\sum_{11}$\")\n",
    "    plt.ylabel(r\"$p(\\sum_{11})$\")\n",
    "    sns.despine()\n",
    "    savefig(\"wishart_sigma1\")\n",
    "    plt.show()\n",
    "\n",
    "    logp = gamma_log_prob(marg2a, marg2b, Xs2)\n",
    "    expo = jnp.exp(logp)\n",
    "\n",
    "    plt.figure()\n",
    "    plt.plot(Xs2, expo)\n",
    "    plt.xlabel(r\"$\\sum_{22}$\")\n",
    "    plt.ylabel(r\"$p(\\sum_{22})$\")\n",
    "    sns.despine()\n",
    "    savefig(\"wishart_sigma2\")\n",
    "    plt.show()\n",
    "\n",
    "\n",
    "def plot_correlation_coefficient(nsamples, Rs):\n",
    "\n",
    "    for s in range(nsamples):\n",
    "        Rs = Rs.at[:, :, s].set(jnp.corrcoef(Rs[:, :, s]))\n",
    "    data = jnp.squeeze(Rs[0, 1, :])\n",
    "\n",
    "    kde = KernelDensity(bandwidth=1.0, kernel=\"gaussian\")\n",
    "    kde.fit(data.reshape(-1, 1))\n",
    "    x = jnp.linspace(data.min() - 2, data.max() + 2, 100)\n",
    "    logprob = kde.score_samples(x[:, None])\n",
    "\n",
    "    plt.figure()\n",
    "    plt.xlabel(r\"$\\rho$\")\n",
    "    plt.ylabel(r\"$p(\\rho)$\")\n",
    "    plt.plot(x, jnp.exp(logprob))\n",
    "    sns.despine()\n",
    "    savefig(\"wishart_rho\")\n",
    "    plt.show()"
   ]
  },
  {
   "cell_type": "code",
   "execution_count": 52,
   "id": "c1c840c9",
   "metadata": {},
   "outputs": [
    {
     "data": {
      "image/png": "[encoded data removed]",
      "text/plain": [
       "<Figure size 432x288 with 1 Axes>"
      ]
     },
     "metadata": {
      "needs_background": "light"
     },
     "output_type": "display_data"
    },
    {
     "data": {
      "image/png": "[encoded data removed]",
      "text/plain": [
       "<Figure size 432x288 with 1 Axes>"
      ]
     },
     "metadata": {
      "needs_background": "light"
     },
     "output_type": "display_data"
    },
    {
     "name": "stderr",
     "output_type": "stream",
     "text": [
      "/home/tensorboy/dev/env/lib/python3.8/site-packages/probml_utils/plotting.py:80: UserWarning: set FIG_DIR environment variable to save figures\n",
      "  warnings.warn(\"set FIG_DIR environment variable to save figures\")\n"
     ]
    },
    {
     "data": {
      "image/png": "[encoded data removed]",
      "text/plain": [
       "<Figure size 432x288 with 1 Axes>"
      ]
     },
     "metadata": {
      "needs_background": "light"
     },
     "output_type": "display_data"
    }
   ],
   "source": [
    "marg1a = dof / 2\n",
    "marg1b = 1 / (2 * Sigma[0, 0])\n",
    "marg2a = dof / 2\n",
    "marg2b = 1 / (2 * Sigma[1, 1])\n",
    "\n",
    "Rs = wishart_sample(dof, Sigma, nsamples)\n",
    "\n",
    "plot_marginals(marg1a, marg1b, marg2a, marg2b, Xs1, Xs2)\n",
    "plot_correlation_coefficient(nsamples, Rs)"
   ]
  },
  {
   "cell_type": "code",
   "execution_count": null,
   "id": "5eb02b53",
   "metadata": {},
   "outputs": [],
   "source": []
  }
 ],
 "metadata": {
  "kernelspec": {
   "display_name": "prob_ml",
   "language": "python",
   "name": "prob_ml"
  },
  "language_info": {
   "codemirror_mode": {
    "name": "ipython",
    "version": 3
   },
   "file_extension": ".py",
   "mimetype": "text/x-python",
   "name": "python",
   "nbconvert_exporter": "python",
   "pygments_lexer": "ipython3",
   "version": "3.8.10"
  }
 },
 "nbformat": 4,
 "nbformat_minor": 5
}
