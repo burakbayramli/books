{
 "cells": [
  {
   "cell_type": "markdown",
   "id": "i5EqXC1Cfon8",
   "metadata": {
    "id": "i5EqXC1Cfon8"
   },
   "source": [
    "# Pareto distribution"
   ]
  },
  {
   "cell_type": "code",
   "execution_count": 1,
   "id": "wrOmK6jkf53c",
   "metadata": {
    "id": "wrOmK6jkf53c"
   },
   "outputs": [],
   "source": [
    "import jax.numpy as jnp\n",
    "import seaborn as sns\n",
    "import matplotlib.pyplot as plt\n",
    "from jax.scipy.stats import pareto\n",
    "\n",
    "try:\n",
    "    from probml_utils import savefig, latexify\n",
    "except ModuleNotFoundError:\n",
    "    %pip install -qq git+https://github.com/probml/probml-utils.git\n",
    "    from probml_utils import savefig, latexify"
   ]
  },
  {
   "cell_type": "code",
   "execution_count": 2,
   "id": "ec9be933",
   "metadata": {},
   "outputs": [],
   "source": [
    "latexify(width_scale_factor=2, fig_height=1.5)"
   ]
  },
  {
   "cell_type": "code",
   "execution_count": 20,
   "id": "CBf79JNEfz2p",
   "metadata": {
    "id": "CBf79JNEfz2p"
   },
   "outputs": [],
   "source": [
    "def pareto_distribution(params, x, styles):\n",
    "    labels = [f\"m={m}, k={int(k)}\" for m, k in params]\n",
    "\n",
    "    plt.figure()\n",
    "    for i, param in enumerate(params):\n",
    "        m, k = param\n",
    "        probabilities = pareto.pdf(x, k, scale=m)\n",
    "        plt.plot(x, probabilities, styles[i], label=labels[i])\n",
    "\n",
    "    sns.despine()\n",
    "    plt.xlabel(\"x\")\n",
    "    plt.ylabel(r\"$p(x \\vert m, k)$\")\n",
    "    plt.title(\"Pareto Distribution\")\n",
    "    plt.legend(fontsize=8)\n",
    "    plt.axis((0.0, 0.5, 0, 20))\n",
    "\n",
    "    savefig(\"paretoPdf.pdf\")\n",
    "    plt.show()"
   ]
  },
  {
   "cell_type": "code",
   "execution_count": 23,
   "id": "e1eaf475",
   "metadata": {
    "colab": {
     "base_uri": "https://localhost:8080/",
     "height": 320
    },
    "id": "e1eaf475",
    "outputId": "77c978e1-3591-491f-91d4-7237b49c22d1"
   },
   "outputs": [],
   "source": [
    "def log_pareto_distribution(params, x, styles):\n",
    "\n",
    "    plt.figure()\n",
    "    for i, param in enumerate(params):\n",
    "        m, k = param\n",
    "        probabilities = pareto.pdf(x, k, scale=m)\n",
    "        plt.loglog(x, probabilities, styles[i])\n",
    "\n",
    "    sns.despine()\n",
    "    plt.xlim(0.05, 1)\n",
    "    plt.xlabel(r\"$\\log (x)$\")\n",
    "    plt.ylabel(r\"$\\log p(x \\vert m, k)$\")\n",
    "    plt.title(\"Log Pareto Distribution\")\n",
    "\n",
    "    savefig(\"paretoLogPdf.pdf\")\n",
    "    plt.show()"
   ]
  },
  {
   "cell_type": "code",
   "execution_count": 24,
   "id": "Ukhrd_UudXNF",
   "metadata": {
    "colab": {
     "base_uri": "https://localhost:8080/",
     "height": 618
    },
    "id": "Ukhrd_UudXNF",
    "outputId": "9f0ec251-6daf-43a8-df92-13497c64a9dd"
   },
   "outputs": [
    {
     "name": "stdout",
     "output_type": "stream",
     "text": [
      "saving image to /home/tensorboy/Desktop/paretoPdf.pdf\n",
      "Figure size: [3.  1.5]\n"
     ]
    },
    {
     "name": "stderr",
     "output_type": "stream",
     "text": [
      "/home/tensorboy/dev/env/lib/python3.8/site-packages/probml_utils/plotting.py:69: UserWarning: renaming /home/tensorboy/Desktop/paretoPdf.pdf to /home/tensorboy/Desktop/paretoPdf_latexified.pdf because LATEXIFY is True\n",
      "  warnings.warn(\n",
      "/tmp/ipykernel_19031/3048080196.py:18: UserWarning: Matplotlib is currently using ps, which is a non-GUI backend, so cannot show the figure.\n",
      "  plt.show()\n"
     ]
    },
    {
     "name": "stdout",
     "output_type": "stream",
     "text": [
      "saving image to /home/tensorboy/Desktop/paretoLogPdf.pdf\n",
      "Figure size: [3.  1.5]\n"
     ]
    },
    {
     "name": "stderr",
     "output_type": "stream",
     "text": [
      "/home/tensorboy/dev/env/lib/python3.8/site-packages/probml_utils/plotting.py:69: UserWarning: renaming /home/tensorboy/Desktop/paretoLogPdf.pdf to /home/tensorboy/Desktop/paretoLogPdf_latexified.pdf because LATEXIFY is True\n",
      "  warnings.warn(\n",
      "/tmp/ipykernel_19031/3659129367.py:16: UserWarning: Matplotlib is currently using ps, which is a non-GUI backend, so cannot show the figure.\n",
      "  plt.show()\n"
     ]
    }
   ],
   "source": [
    "params = [(0.1, 1), (0.1, 2), (0.2, 1), (0.2, 2)]  # List of pair of parameters m and k\n",
    "styles = [\"b-\", \"r:\", \"k-.\", \"g--\"]  # style of graph line corresponds to a parameter pair\n",
    "\n",
    "x = jnp.linspace(0, 1, 1000)\n",
    "\n",
    "pareto_distribution(params, x, styles)\n",
    "log_pareto_distribution(params, x, styles)"
   ]
  },
  {
   "cell_type": "markdown",
   "id": "PIWf-ziUI52f",
   "metadata": {
    "id": "PIWf-ziUI52f"
   },
   "source": [
    "## Interactive demo"
   ]
  },
  {
   "cell_type": "code",
   "execution_count": 11,
   "id": "sqG9fIzVIzIr",
   "metadata": {
    "colab": {
     "base_uri": "https://localhost:8080/",
     "height": 345,
     "referenced_widgets": [
      "ba83364b817a4a55b587e353473639ad",
      "231bb23fef2347aa82164bc31d44b860",
      "9ee25210248f4a0d9aeb37196d5f1342",
      "992f03707ed94d538fd9f209b4cd443f",
      "728c8cb6333a45fe9636abed99337485",
      "570eb06475f944b8bd26342ac2758d39",
      "a537b32015d441968dd110222eb4fdfb",
      "dfae0a1b2c8747ba9e691a9517322233",
      "9e7b2ccc19044d9bb015e485f58544e9",
      "2a06166d3fd44405a39320129d5900a6"
     ]
    },
    "id": "sqG9fIzVIzIr",
    "outputId": "52125441-48ba-40a7-d0ea-de287e273cca"
   },
   "outputs": [
    {
     "data": {
      "application/vnd.jupyter.widget-view+json": {
       "model_id": "cc6c1835b34741c79c68899ba6dad23f",
       "version_major": 2,
       "version_minor": 0
      },
      "text/plain": [
       "interactive(children=(FloatSlider(value=0.5, description='m', max=1.0), FloatSlider(value=3.0, description='k'…"
      ]
     },
     "metadata": {},
     "output_type": "display_data"
    }
   ],
   "source": [
    "from ipywidgets import interact\n",
    "\n",
    "\n",
    "@interact(m=(0, 1.0), k=(1, 5.0))\n",
    "def generate_interactinve_pareto(m, k):\n",
    "    x = jnp.linspace(0, 1, 1000)\n",
    "\n",
    "    plt.figure()\n",
    "    probabilities = pareto.pdf(x, k, scale=m)\n",
    "    plt.plot(x, probabilities)\n",
    "\n",
    "    plt.xlim(0.05, 1)\n",
    "    sns.despine()\n",
    "    plt.xlabel(\"x\")\n",
    "    plt.ylabel(r\"$p(x \\vert m, k)$\")\n",
    "    plt.title(\"Pareto Distribution\")\n",
    "    plt.show()"
   ]
  },
  {
   "cell_type": "code",
   "execution_count": 10,
   "id": "XBWsufalKEjH",
   "metadata": {
    "colab": {
     "base_uri": "https://localhost:8080/",
     "height": 349,
     "referenced_widgets": [
      "6c470a745cfa4e1f8c5f4cb2f81e7054",
      "03f3927185f94f7e9508cd03daee216f",
      "c25a81d096f748ba8d29f1788d083206",
      "568c35f97442401e9266c6baf9ff3bfe",
      "40a2ffb1527149b7a7f1c96bc3d107c3",
      "d892331775cb4ccea6c1c9bb1df8b8c9",
      "d33d5326e09e4b14926b878ad42517de",
      "db71a89ab39b4bcfa5a7db922792af2c",
      "206701bc0f3d48349f7982b4aa0cd89c",
      "9e3f944a7d2c48ec80d0e98f2260fc19"
     ]
    },
    "id": "XBWsufalKEjH",
    "outputId": "f242536c-dbb9-420c-ba6a-a31eb554da4d"
   },
   "outputs": [
    {
     "data": {
      "application/vnd.jupyter.widget-view+json": {
       "model_id": "a6fb2efa4c36478c92721c7bb9b145eb",
       "version_major": 2,
       "version_minor": 0
      },
      "text/plain": [
       "interactive(children=(FloatSlider(value=0.5, description='m', max=1.0), FloatSlider(value=3.0, description='k'…"
      ]
     },
     "metadata": {},
     "output_type": "display_data"
    }
   ],
   "source": [
    "from ipywidgets import interact\n",
    "\n",
    "\n",
    "@interact(m=(0, 1.0), k=(1, 5.0))\n",
    "def generate_interactinve_pareto_log(m, k):\n",
    "    x = jnp.linspace(0, 1, 1000)\n",
    "\n",
    "    plt.figure()\n",
    "    probabilities = pareto.pdf(x, k, scale=m)\n",
    "    plt.loglog(x, probabilities)\n",
    "\n",
    "    plt.xlim(0.05, 1)\n",
    "    sns.despine()\n",
    "    plt.xlabel(\"\\log(x)\")\n",
    "    plt.ylabel(r\"$\\log p(x \\vert m, k)$\")\n",
    "\n",
    "    plt.title(\"Log Pareto Distribution\")\n",
    "    plt.show()"
   ]
  },
  {
   "cell_type": "code",
   "execution_count": null,
   "id": "a_4HKp6WKwFG",
   "metadata": {
    "id": "a_4HKp6WKwFG"
   },
   "outputs": [],
   "source": []
  }
 ],
 "metadata": {
  "colab": {
   "collapsed_sections": [],
   "name": "pareto_dist_plot.ipynb",
   "provenance": []
  },
  "kernelspec": {
   "display_name": "prob_ml",
   "language": "python",
   "name": "prob_ml"
  },
  "language_info": {
   "codemirror_mode": {
    "name": "ipython",
    "version": 3
   },
   "file_extension": ".py",
   "mimetype": "text/x-python",
   "name": "python",
   "nbconvert_exporter": "python",
   "pygments_lexer": "ipython3",
   "version": "3.8.10"
  },
  "widgets": {
   "application/vnd.jupyter.widget-state+json": {
    "03f3927185f94f7e9508cd03daee216f": {
     "model_module": "@jupyter-widgets/controls",
     "model_module_version": "1.5.0",
     "model_name": "FloatSliderModel",
     "state": {
      "_dom_classes": [],
      "_model_module": "@jupyter-widgets/controls",
      "_model_module_version": "1.5.0",
      "_model_name": "FloatSliderModel",
      "_view_count": null,
      "_view_module": "@jupyter-widgets/controls",
      "_view_module_version": "1.5.0",
      "_view_name": "FloatSliderView",
      "continuous_update": true,
      "description": "m",
      "description_tooltip": null,
      "disabled": false,
      "layout": "IPY_MODEL_d892331775cb4ccea6c1c9bb1df8b8c9",
      "max": 1,
      "min": 0,
      "orientation": "horizontal",
      "readout": true,
      "readout_format": ".2f",
      "step": 0.1,
      "style": "IPY_MODEL_d33d5326e09e4b14926b878ad42517de",
      "value": 0.5
     }
    },
    "206701bc0f3d48349f7982b4aa0cd89c": {
     "model_module": "@jupyter-widgets/controls",
     "model_module_version": "1.5.0",
     "model_name": "SliderStyleModel",
     "state": {
      "_model_module": "@jupyter-widgets/controls",
      "_model_module_version": "1.5.0",
      "_model_name": "SliderStyleModel",
      "_view_count": null,
      "_view_module": "@jupyter-widgets/base",
      "_view_module_version": "1.2.0",
      "_view_name": "StyleView",
      "description_width": "",
      "handle_color": null
     }
    },
    "231bb23fef2347aa82164bc31d44b860": {
     "model_module": "@jupyter-widgets/controls",
     "model_module_version": "1.5.0",
     "model_name": "FloatSliderModel",
     "state": {
      "_dom_classes": [],
      "_model_module": "@jupyter-widgets/controls",
      "_model_module_version": "1.5.0",
      "_model_name": "FloatSliderModel",
      "_view_count": null,
      "_view_module": "@jupyter-widgets/controls",
      "_view_module_version": "1.5.0",
      "_view_name": "FloatSliderView",
      "continuous_update": true,
      "description": "m",
      "description_tooltip": null,
      "disabled": false,
      "layout": "IPY_MODEL_570eb06475f944b8bd26342ac2758d39",
      "max": 1,
      "min": 0,
      "orientation": "horizontal",
      "readout": true,
      "readout_format": ".2f",
      "step": 0.1,
      "style": "IPY_MODEL_a537b32015d441968dd110222eb4fdfb",
      "value": 0.5
     }
    },
    "2a06166d3fd44405a39320129d5900a6": {
     "model_module": "@jupyter-widgets/base",
     "model_module_version": "1.2.0",
     "model_name": "LayoutModel",
     "state": {
      "_model_module": "@jupyter-widgets/base",
      "_model_module_version": "1.2.0",
      "_model_name": "LayoutModel",
      "_view_count": null,
      "_view_module": "@jupyter-widgets/base",
      "_view_module_version": "1.2.0",
      "_view_name": "LayoutView",
      "align_content": null,
      "align_items": null,
      "align_self": null,
      "border": null,
      "bottom": null,
      "display": null,
      "flex": null,
      "flex_flow": null,
      "grid_area": null,
      "grid_auto_columns": null,
      "grid_auto_flow": null,
      "grid_auto_rows": null,
      "grid_column": null,
      "grid_gap": null,
      "grid_row": null,
      "grid_template_areas": null,
      "grid_template_columns": null,
      "grid_template_rows": null,
      "height": null,
      "justify_content": null,
      "justify_items": null,
      "left": null,
      "margin": null,
      "max_height": null,
      "max_width": null,
      "min_height": null,
      "min_width": null,
      "object_fit": null,
      "object_position": null,
      "order": null,
      "overflow": null,
      "overflow_x": null,
      "overflow_y": null,
      "padding": null,
      "right": null,
      "top": null,
      "visibility": null,
      "width": null
     }
    },
    "40a2ffb1527149b7a7f1c96bc3d107c3": {
     "model_module": "@jupyter-widgets/base",
     "model_module_version": "1.2.0",
     "model_name": "LayoutModel",
     "state": {
      "_model_module": "@jupyter-widgets/base",
      "_model_module_version": "1.2.0",
      "_model_name": "LayoutModel",
      "_view_count": null,
      "_view_module": "@jupyter-widgets/base",
      "_view_module_version": "1.2.0",
      "_view_name": "LayoutView",
      "align_content": null,
      "align_items": null,
      "align_self": null,
      "border": null,
      "bottom": null,
      "display": null,
      "flex": null,
      "flex_flow": null,
      "grid_area": null,
      "grid_auto_columns": null,
      "grid_auto_flow": null,
      "grid_auto_rows": null,
      "grid_column": null,
      "grid_gap": null,
      "grid_row": null,
      "grid_template_areas": null,
      "grid_template_columns": null,
      "grid_template_rows": null,
      "height": null,
      "justify_content": null,
      "justify_items": null,
      "left": null,
      "margin": null,
      "max_height": null,
      "max_width": null,
      "min_height": null,
      "min_width": null,
      "object_fit": null,
      "object_position": null,
      "order": null,
      "overflow": null,
      "overflow_x": null,
      "overflow_y": null,
      "padding": null,
      "right": null,
      "top": null,
      "visibility": null,
      "width": null
     }
    },
    "568c35f97442401e9266c6baf9ff3bfe": {
     "model_module": "@jupyter-widgets/output",
     "model_module_version": "1.0.0",
     "model_name": "OutputModel",
     "state": {
      "_dom_classes": [],
      "_model_module": "@jupyter-widgets/output",
      "_model_module_version": "1.0.0",
      "_model_name": "OutputModel",
      "_view_count": null,
      "_view_module": "@jupyter-widgets/output",
      "_view_module_version": "1.0.0",
      "_view_name": "OutputView",
      "layout": "IPY_MODEL_9e3f944a7d2c48ec80d0e98f2260fc19",
      "msg_id": "",
      "outputs": [
       {
        "data": {
         "image/png": "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\n",
         "text/plain": "<Figure size 432x288 with 1 Axes>"
        },
        "metadata": {
         "needs_background": "light"
        },
        "output_type": "display_data"
       }
      ]
     }
    },
    "570eb06475f944b8bd26342ac2758d39": {
     "model_module": "@jupyter-widgets/base",
     "model_module_version": "1.2.0",
     "model_name": "LayoutModel",
     "state": {
      "_model_module": "@jupyter-widgets/base",
      "_model_module_version": "1.2.0",
      "_model_name": "LayoutModel",
      "_view_count": null,
      "_view_module": "@jupyter-widgets/base",
      "_view_module_version": "1.2.0",
      "_view_name": "LayoutView",
      "align_content": null,
      "align_items": null,
      "align_self": null,
      "border": null,
      "bottom": null,
      "display": null,
      "flex": null,
      "flex_flow": null,
      "grid_area": null,
      "grid_auto_columns": null,
      "grid_auto_flow": null,
      "grid_auto_rows": null,
      "grid_column": null,
      "grid_gap": null,
      "grid_row": null,
      "grid_template_areas": null,
      "grid_template_columns": null,
      "grid_template_rows": null,
      "height": null,
      "justify_content": null,
      "justify_items": null,
      "left": null,
      "margin": null,
      "max_height": null,
      "max_width": null,
      "min_height": null,
      "min_width": null,
      "object_fit": null,
      "object_position": null,
      "order": null,
      "overflow": null,
      "overflow_x": null,
      "overflow_y": null,
      "padding": null,
      "right": null,
      "top": null,
      "visibility": null,
      "width": null
     }
    },
    "6c470a745cfa4e1f8c5f4cb2f81e7054": {
     "model_module": "@jupyter-widgets/controls",
     "model_module_version": "1.5.0",
     "model_name": "VBoxModel",
     "state": {
      "_dom_classes": [
       "widget-interact"
      ],
      "_model_module": "@jupyter-widgets/controls",
      "_model_module_version": "1.5.0",
      "_model_name": "VBoxModel",
      "_view_count": null,
      "_view_module": "@jupyter-widgets/controls",
      "_view_module_version": "1.5.0",
      "_view_name": "VBoxView",
      "box_style": "",
      "children": [
       "IPY_MODEL_03f3927185f94f7e9508cd03daee216f",
       "IPY_MODEL_c25a81d096f748ba8d29f1788d083206",
       "IPY_MODEL_568c35f97442401e9266c6baf9ff3bfe"
      ],
      "layout": "IPY_MODEL_40a2ffb1527149b7a7f1c96bc3d107c3"
     }
    },
    "728c8cb6333a45fe9636abed99337485": {
     "model_module": "@jupyter-widgets/base",
     "model_module_version": "1.2.0",
     "model_name": "LayoutModel",
     "state": {
      "_model_module": "@jupyter-widgets/base",
      "_model_module_version": "1.2.0",
      "_model_name": "LayoutModel",
      "_view_count": null,
      "_view_module": "@jupyter-widgets/base",
      "_view_module_version": "1.2.0",
      "_view_name": "LayoutView",
      "align_content": null,
      "align_items": null,
      "align_self": null,
      "border": null,
      "bottom": null,
      "display": null,
      "flex": null,
      "flex_flow": null,
      "grid_area": null,
      "grid_auto_columns": null,
      "grid_auto_flow": null,
      "grid_auto_rows": null,
      "grid_column": null,
      "grid_gap": null,
      "grid_row": null,
      "grid_template_areas": null,
      "grid_template_columns": null,
      "grid_template_rows": null,
      "height": null,
      "justify_content": null,
      "justify_items": null,
      "left": null,
      "margin": null,
      "max_height": null,
      "max_width": null,
      "min_height": null,
      "min_width": null,
      "object_fit": null,
      "object_position": null,
      "order": null,
      "overflow": null,
      "overflow_x": null,
      "overflow_y": null,
      "padding": null,
      "right": null,
      "top": null,
      "visibility": null,
      "width": null
     }
    },
    "992f03707ed94d538fd9f209b4cd443f": {
     "model_module": "@jupyter-widgets/output",
     "model_module_version": "1.0.0",
     "model_name": "OutputModel",
     "state": {
      "_dom_classes": [],
      "_model_module": "@jupyter-widgets/output",
      "_model_module_version": "1.0.0",
      "_model_name": "OutputModel",
      "_view_count": null,
      "_view_module": "@jupyter-widgets/output",
      "_view_module_version": "1.0.0",
      "_view_name": "OutputView",
      "layout": "IPY_MODEL_2a06166d3fd44405a39320129d5900a6",
      "msg_id": "",
      "outputs": [
       {
        "data": {
         "image/png": "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\n",
         "text/plain": "<Figure size 432x288 with 1 Axes>"
        },
        "metadata": {
         "needs_background": "light"
        },
        "output_type": "display_data"
       }
      ]
     }
    },
    "9e3f944a7d2c48ec80d0e98f2260fc19": {
     "model_module": "@jupyter-widgets/base",
     "model_module_version": "1.2.0",
     "model_name": "LayoutModel",
     "state": {
      "_model_module": "@jupyter-widgets/base",
      "_model_module_version": "1.2.0",
      "_model_name": "LayoutModel",
      "_view_count": null,
      "_view_module": "@jupyter-widgets/base",
      "_view_module_version": "1.2.0",
      "_view_name": "LayoutView",
      "align_content": null,
      "align_items": null,
      "align_self": null,
      "border": null,
      "bottom": null,
      "display": null,
      "flex": null,
      "flex_flow": null,
      "grid_area": null,
      "grid_auto_columns": null,
      "grid_auto_flow": null,
      "grid_auto_rows": null,
      "grid_column": null,
      "grid_gap": null,
      "grid_row": null,
      "grid_template_areas": null,
      "grid_template_columns": null,
      "grid_template_rows": null,
      "height": null,
      "justify_content": null,
      "justify_items": null,
      "left": null,
      "margin": null,
      "max_height": null,
      "max_width": null,
      "min_height": null,
      "min_width": null,
      "object_fit": null,
      "object_position": null,
      "order": null,
      "overflow": null,
      "overflow_x": null,
      "overflow_y": null,
      "padding": null,
      "right": null,
      "top": null,
      "visibility": null,
      "width": null
     }
    },
    "9e7b2ccc19044d9bb015e485f58544e9": {
     "model_module": "@jupyter-widgets/controls",
     "model_module_version": "1.5.0",
     "model_name": "SliderStyleModel",
     "state": {
      "_model_module": "@jupyter-widgets/controls",
      "_model_module_version": "1.5.0",
      "_model_name": "SliderStyleModel",
      "_view_count": null,
      "_view_module": "@jupyter-widgets/base",
      "_view_module_version": "1.2.0",
      "_view_name": "StyleView",
      "description_width": "",
      "handle_color": null
     }
    },
    "9ee25210248f4a0d9aeb37196d5f1342": {
     "model_module": "@jupyter-widgets/controls",
     "model_module_version": "1.5.0",
     "model_name": "FloatSliderModel",
     "state": {
      "_dom_classes": [],
      "_model_module": "@jupyter-widgets/controls",
      "_model_module_version": "1.5.0",
      "_model_name": "FloatSliderModel",
      "_view_count": null,
      "_view_module": "@jupyter-widgets/controls",
      "_view_module_version": "1.5.0",
      "_view_name": "FloatSliderView",
      "continuous_update": true,
      "description": "k",
      "description_tooltip": null,
      "disabled": false,
      "layout": "IPY_MODEL_dfae0a1b2c8747ba9e691a9517322233",
      "max": 10,
      "min": 1,
      "orientation": "horizontal",
      "readout": true,
      "readout_format": ".2f",
      "step": 0.1,
      "style": "IPY_MODEL_9e7b2ccc19044d9bb015e485f58544e9",
      "value": 5.5
     }
    },
    "a537b32015d441968dd110222eb4fdfb": {
     "model_module": "@jupyter-widgets/controls",
     "model_module_version": "1.5.0",
     "model_name": "SliderStyleModel",
     "state": {
      "_model_module": "@jupyter-widgets/controls",
      "_model_module_version": "1.5.0",
      "_model_name": "SliderStyleModel",
      "_view_count": null,
      "_view_module": "@jupyter-widgets/base",
      "_view_module_version": "1.2.0",
      "_view_name": "StyleView",
      "description_width": "",
      "handle_color": null
     }
    },
    "ba83364b817a4a55b587e353473639ad": {
     "model_module": "@jupyter-widgets/controls",
     "model_module_version": "1.5.0",
     "model_name": "VBoxModel",
     "state": {
      "_dom_classes": [
       "widget-interact"
      ],
      "_model_module": "@jupyter-widgets/controls",
      "_model_module_version": "1.5.0",
      "_model_name": "VBoxModel",
      "_view_count": null,
      "_view_module": "@jupyter-widgets/controls",
      "_view_module_version": "1.5.0",
      "_view_name": "VBoxView",
      "box_style": "",
      "children": [
       "IPY_MODEL_231bb23fef2347aa82164bc31d44b860",
       "IPY_MODEL_9ee25210248f4a0d9aeb37196d5f1342",
       "IPY_MODEL_992f03707ed94d538fd9f209b4cd443f"
      ],
      "layout": "IPY_MODEL_728c8cb6333a45fe9636abed99337485"
     }
    },
    "c25a81d096f748ba8d29f1788d083206": {
     "model_module": "@jupyter-widgets/controls",
     "model_module_version": "1.5.0",
     "model_name": "FloatSliderModel",
     "state": {
      "_dom_classes": [],
      "_model_module": "@jupyter-widgets/controls",
      "_model_module_version": "1.5.0",
      "_model_name": "FloatSliderModel",
      "_view_count": null,
      "_view_module": "@jupyter-widgets/controls",
      "_view_module_version": "1.5.0",
      "_view_name": "FloatSliderView",
      "continuous_update": true,
      "description": "k",
      "description_tooltip": null,
      "disabled": false,
      "layout": "IPY_MODEL_db71a89ab39b4bcfa5a7db922792af2c",
      "max": 10,
      "min": 1,
      "orientation": "horizontal",
      "readout": true,
      "readout_format": ".2f",
      "step": 0.1,
      "style": "IPY_MODEL_206701bc0f3d48349f7982b4aa0cd89c",
      "value": 5.3
     }
    },
    "d33d5326e09e4b14926b878ad42517de": {
     "model_module": "@jupyter-widgets/controls",
     "model_module_version": "1.5.0",
     "model_name": "SliderStyleModel",
     "state": {
      "_model_module": "@jupyter-widgets/controls",
      "_model_module_version": "1.5.0",
      "_model_name": "SliderStyleModel",
      "_view_count": null,
      "_view_module": "@jupyter-widgets/base",
      "_view_module_version": "1.2.0",
      "_view_name": "StyleView",
      "description_width": "",
      "handle_color": null
     }
    },
    "d892331775cb4ccea6c1c9bb1df8b8c9": {
     "model_module": "@jupyter-widgets/base",
     "model_module_version": "1.2.0",
     "model_name": "LayoutModel",
     "state": {
      "_model_module": "@jupyter-widgets/base",
      "_model_module_version": "1.2.0",
      "_model_name": "LayoutModel",
      "_view_count": null,
      "_view_module": "@jupyter-widgets/base",
      "_view_module_version": "1.2.0",
      "_view_name": "LayoutView",
      "align_content": null,
      "align_items": null,
      "align_self": null,
      "border": null,
      "bottom": null,
      "display": null,
      "flex": null,
      "flex_flow": null,
      "grid_area": null,
      "grid_auto_columns": null,
      "grid_auto_flow": null,
      "grid_auto_rows": null,
      "grid_column": null,
      "grid_gap": null,
      "grid_row": null,
      "grid_template_areas": null,
      "grid_template_columns": null,
      "grid_template_rows": null,
      "height": null,
      "justify_content": null,
      "justify_items": null,
      "left": null,
      "margin": null,
      "max_height": null,
      "max_width": null,
      "min_height": null,
      "min_width": null,
      "object_fit": null,
      "object_position": null,
      "order": null,
      "overflow": null,
      "overflow_x": null,
      "overflow_y": null,
      "padding": null,
      "right": null,
      "top": null,
      "visibility": null,
      "width": null
     }
    },
    "db71a89ab39b4bcfa5a7db922792af2c": {
     "model_module": "@jupyter-widgets/base",
     "model_module_version": "1.2.0",
     "model_name": "LayoutModel",
     "state": {
      "_model_module": "@jupyter-widgets/base",
      "_model_module_version": "1.2.0",
      "_model_name": "LayoutModel",
      "_view_count": null,
      "_view_module": "@jupyter-widgets/base",
      "_view_module_version": "1.2.0",
      "_view_name": "LayoutView",
      "align_content": null,
      "align_items": null,
      "align_self": null,
      "border": null,
      "bottom": null,
      "display": null,
      "flex": null,
      "flex_flow": null,
      "grid_area": null,
      "grid_auto_columns": null,
      "grid_auto_flow": null,
      "grid_auto_rows": null,
      "grid_column": null,
      "grid_gap": null,
      "grid_row": null,
      "grid_template_areas": null,
      "grid_template_columns": null,
      "grid_template_rows": null,
      "height": null,
      "justify_content": null,
      "justify_items": null,
      "left": null,
      "margin": null,
      "max_height": null,
      "max_width": null,
      "min_height": null,
      "min_width": null,
      "object_fit": null,
      "object_position": null,
      "order": null,
      "overflow": null,
      "overflow_x": null,
      "overflow_y": null,
      "padding": null,
      "right": null,
      "top": null,
      "visibility": null,
      "width": null
     }
    },
    "dfae0a1b2c8747ba9e691a9517322233": {
     "model_module": "@jupyter-widgets/base",
     "model_module_version": "1.2.0",
     "model_name": "LayoutModel",
     "state": {
      "_model_module": "@jupyter-widgets/base",
      "_model_module_version": "1.2.0",
      "_model_name": "LayoutModel",
      "_view_count": null,
      "_view_module": "@jupyter-widgets/base",
      "_view_module_version": "1.2.0",
      "_view_name": "LayoutView",
      "align_content": null,
      "align_items": null,
      "align_self": null,
      "border": null,
      "bottom": null,
      "display": null,
      "flex": null,
      "flex_flow": null,
      "grid_area": null,
      "grid_auto_columns": null,
      "grid_auto_flow": null,
      "grid_auto_rows": null,
      "grid_column": null,
      "grid_gap": null,
      "grid_row": null,
      "grid_template_areas": null,
      "grid_template_columns": null,
      "grid_template_rows": null,
      "height": null,
      "justify_content": null,
      "justify_items": null,
      "left": null,
      "margin": null,
      "max_height": null,
      "max_width": null,
      "min_height": null,
      "min_width": null,
      "object_fit": null,
      "object_position": null,
      "order": null,
      "overflow": null,
      "overflow_x": null,
      "overflow_y": null,
      "padding": null,
      "right": null,
      "top": null,
      "visibility": null,
      "width": null
     }
    }
   }
  }
 },
 "nbformat": 4,
 "nbformat_minor": 5
}
