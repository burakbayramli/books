{
 "cells": [
  {
   "cell_type": "markdown",
   "id": "1b9e330b",
   "metadata": {
    "colab_type": "text",
    "id": "view-in-github"
   },
   "source": [
    "<a href=\"https://colab.research.google.com/github/probml/probml-notebooks/blob/main/notebooks/gplvm_mocap.ipynb\" target=\"_parent\"><img src=\"https://colab.research.google.com/assets/colab-badge.svg\" alt=\"Open In Colab\"/></a>"
   ]
  },
  {
   "cell_type": "markdown",
   "id": "Ix-2_nRwXZk_",
   "metadata": {
    "id": "Ix-2_nRwXZk_"
   },
   "source": [
    "#  Gaussian proceess latent  variable model for motion capture data\n",
    "\n",
    "http://inverseprobability.com/gpy-gallery/gallery/cmu-mocap-gplvm\n",
    "\n",
    "Author: Aditya Ravuri "
   ]
  },
  {
   "cell_type": "markdown",
   "id": "vM6qSxBbXZlE",
   "metadata": {
    "id": "vM6qSxBbXZlE"
   },
   "source": [
    "## Setup"
   ]
  },
  {
   "cell_type": "code",
   "execution_count": 1,
   "id": "sol0TbbEXZlE",
   "metadata": {
    "id": "sol0TbbEXZlE"
   },
   "outputs": [],
   "source": [
    "import matplotlib.pyplot as plt\n",
    "\n",
    "plt.style.use(\"seaborn-pastel\")"
   ]
  },
  {
   "cell_type": "code",
   "execution_count": 2,
   "id": "5f2dPxDoX-Tu",
   "metadata": {
    "id": "5f2dPxDoX-Tu"
   },
   "outputs": [],
   "source": [
    "%%capture\n",
    "\n",
    "%pip install -qq --upgrade git+https://github.com/lawrennd/ods\n",
    "%pip install -qq --upgrade git+https://github.com/SheffieldML/GPy.git\n",
    "try:\n",
    "    import GPy, pods\n",
    "except ModuleNotFoundError:\n",
    "    %pip install -qq GPy,\n",
    "    import GPy, pods"
   ]
  },
  {
   "cell_type": "code",
   "execution_count": 3,
   "id": "Xd4p6qdmxC9e",
   "metadata": {
    "id": "Xd4p6qdmxC9e"
   },
   "outputs": [],
   "source": [
    "import numpy as np\n",
    "\n",
    "np.random.seed(42)"
   ]
  },
  {
   "cell_type": "markdown",
   "id": "jnCTyMhBXZlK",
   "metadata": {
    "id": "jnCTyMhBXZlK"
   },
   "source": [
    "## CMU Mocap Database\n",
    "\n",
    "\n",
    "\n",
    "Motion capture data from the CMU motion capture data base (CMU Motion\n",
    "Capture Lab, 2003)."
   ]
  },
  {
   "cell_type": "markdown",
   "id": "MrzI8YZoXZlK",
   "metadata": {
    "id": "MrzI8YZoXZlK"
   },
   "source": [
    "You can download any subject and motion from the data set. Here we will\n",
    "download motions `02` and `21` from subject `16`."
   ]
  },
  {
   "cell_type": "code",
   "execution_count": 4,
   "id": "qRTnGbZ2XZlK",
   "metadata": {
    "colab": {
     "base_uri": "https://localhost:8080/"
    },
    "id": "qRTnGbZ2XZlK",
    "outputId": "b5f8244a-d7a6-4ecb-957a-0d43a18e2c48"
   },
   "outputs": [
    {
     "name": "stdout",
     "output_type": "stream",
     "text": [
      "Acquiring resource: cmu_mocap\n",
      "\n",
      "Details of data: \n",
      "CMU Motion Capture data base. Captured by a Vicon motion capture system consisting of 12 infrared MX-40 cameras, each of which is capable of recording at 120 Hz with images of 4 megapixel resolution. Motions are captured in a working volume of approximately 3m x 8m. The capture subject wears 41 markers and a stylish black garment.\n",
      "\n",
      "Please cite:\n",
      "Please include this in your acknowledgements: The data used in this project was obtained from mocap.cs.cmu.edu.\\nThe database was created with funding from NSF EIA-0196217.\n",
      "\n",
      "Data will be stored in /root/ods_data_cache/cmu_mocap.\n",
      "\n",
      "You must also agree to the following license:\n",
      "From http://mocap.cs.cmu.edu. This data is free for use in research projects. You may include this data in commercially-sold products, but you may not resell this data directly, even in converted form. If you publish results obtained using this data, we would appreciate it if you would send the citation to your published paper to jkh+mocap@cs.cmu.edu, and also would add this text to your acknowledgments section: The data used in this project was obtained from mocap.cs.cmu.edu. The database was created with funding from NSF EIA-0196217.\n",
      "\n",
      "Do you wish to proceed with the download? [yes/no]\n",
      "yes\n",
      "Downloading  http://mocap.cs.cmu.edu/subjects/16/16.asf -> /root/ods_data_cache/cmu_mocap/16.asf\n",
      "|    Downloading   0.007MB     |\n",
      "|>|\n",
      "Downloading  http://mocap.cs.cmu.edu/subjects/16/16_02.amc -> /root/ods_data_cache/cmu_mocap/16_02.amc\n",
      "|    Downloading   0.356MB     |\n",
      "|>>>>>>>>>>>>>>>>>>>>>>>>>>>>>>|\n",
      "Downloading  http://mocap.cs.cmu.edu/subjects/16/16_21.amc -> /root/ods_data_cache/cmu_mocap/16_21.amc\n",
      "|    Downloading   0.238MB     |\n",
      "|>>>>>>>>>>>>>>>>>>>>>>>>>>>>>>|\n"
     ]
    }
   ],
   "source": [
    "subject = \"16\"\n",
    "motion = [\"02\", \"21\"]\n",
    "data = pods.datasets.cmu_mocap(subject, motion)"
   ]
  },
  {
   "cell_type": "markdown",
   "id": "ICNPdAUWXZlL",
   "metadata": {
    "id": "ICNPdAUWXZlL"
   },
   "source": [
    "The data dictionary contains the keys ‘Y’ and ‘skel,’ which represent\n",
    "the data and the skeleton.."
   ]
  },
  {
   "cell_type": "code",
   "execution_count": 5,
   "id": "2_dhB1SjXZlL",
   "metadata": {
    "colab": {
     "base_uri": "https://localhost:8080/"
    },
    "id": "2_dhB1SjXZlL",
    "outputId": "77d5e22c-6fd9-42eb-a2f6-9b5ab2fd0749"
   },
   "outputs": [
    {
     "data": {
      "text/plain": [
       "(195, 62)"
      ]
     },
     "execution_count": 5,
     "metadata": {},
     "output_type": "execute_result"
    }
   ],
   "source": [
    "data[\"Y\"].shape"
   ]
  },
  {
   "cell_type": "code",
   "execution_count": 6,
   "id": "Uq6q3KuFXZlL",
   "metadata": {
    "colab": {
     "base_uri": "https://localhost:8080/"
    },
    "id": "Uq6q3KuFXZlL",
    "outputId": "e93151ec-00c3-4d04-9fa9-2077ff9f2bd9"
   },
   "outputs": [
    {
     "name": "stdout",
     "output_type": "stream",
     "text": [
      "Please include this in your acknowledgements: The data used in this project was obtained from mocap.cs.cmu.edu.\\nThe database was created with funding from NSF EIA-0196217.\n"
     ]
    }
   ],
   "source": [
    "print(data[\"citation\"])"
   ]
  },
  {
   "cell_type": "markdown",
   "id": "Nih7KahSXZlL",
   "metadata": {
    "id": "Nih7KahSXZlL"
   },
   "source": [
    "And extra information about the data is included, as standard, under the\n",
    "keys `info` and `details`."
   ]
  },
  {
   "cell_type": "code",
   "execution_count": 7,
   "id": "dq9IOvohXZlM",
   "metadata": {
    "colab": {
     "base_uri": "https://localhost:8080/"
    },
    "id": "dq9IOvohXZlM",
    "outputId": "4ed902e0-8f08-45fd-c355-1d7f0adeb8d2"
   },
   "outputs": [
    {
     "name": "stdout",
     "output_type": "stream",
     "text": [
      "Subject: 16. Training motions: 02, 21. Data is sub-sampled to every 4 frames.\n",
      "CMU Motion Capture data base. Captured by a Vicon motion capture system consisting of 12 infrared MX-40 cameras, each of which is capable of recording at 120 Hz with images of 4 megapixel resolution. Motions are captured in a working volume of approximately 3m x 8m. The capture subject wears 41 markers and a stylish black garment.\n"
     ]
    }
   ],
   "source": [
    "print(data[\"info\"])\n",
    "print(data[\"details\"])"
   ]
  },
  {
   "cell_type": "markdown",
   "id": "KzWPo-FyXZlM",
   "metadata": {
    "id": "KzWPo-FyXZlM"
   },
   "source": [
    "## Fit GP-LVM\n",
    "\n",
    "\n",
    "\n",
    "The original data has the figure moving across the floor during the\n",
    "motion capture sequence. We can make the figure walk ‘in place,’ by\n",
    "setting the x, y, z positions of the root node to zero. This makes it\n",
    "easier to visualize the result."
   ]
  },
  {
   "cell_type": "code",
   "execution_count": 8,
   "id": "WQf4bRqDXZlM",
   "metadata": {
    "id": "WQf4bRqDXZlM"
   },
   "outputs": [],
   "source": [
    "# Make figure move in place.\n",
    "data[\"Y\"][:, 0:3] = 0.0"
   ]
  },
  {
   "cell_type": "markdown",
   "id": "HaptCp8oXZlM",
   "metadata": {
    "id": "HaptCp8oXZlM"
   },
   "source": [
    "We can also remove the mean of the data."
   ]
  },
  {
   "cell_type": "code",
   "execution_count": 9,
   "id": "unHiF8hTXZlM",
   "metadata": {
    "id": "unHiF8hTXZlM"
   },
   "outputs": [],
   "source": [
    "Y = data[\"Y\"]"
   ]
  },
  {
   "cell_type": "markdown",
   "id": "7cXCXOioXZlM",
   "metadata": {
    "id": "7cXCXOioXZlM"
   },
   "source": [
    "Now we create the GP-LVM model."
   ]
  },
  {
   "cell_type": "code",
   "execution_count": 10,
   "id": "NQR5VOfqXZlM",
   "metadata": {
    "colab": {
     "base_uri": "https://localhost:8080/"
    },
    "id": "NQR5VOfqXZlM",
    "outputId": "f2104228-6b09-46af-c1bd-0ec6b288182a"
   },
   "outputs": [
    {
     "name": "stderr",
     "output_type": "stream",
     "text": [
      " /usr/local/lib/python3.7/dist-packages/GPy/util/normalizer.py:94: UserWarning:Some values of Y have standard deviation of zero. Resetting to 1.0 to avoid divide by zero errors.\n"
     ]
    }
   ],
   "source": [
    "model = GPy.models.GPLVM(Y, 2, init=\"PCA\", normalizer=True)"
   ]
  },
  {
   "cell_type": "markdown",
   "id": "k31CYKtkXZlN",
   "metadata": {
    "id": "k31CYKtkXZlN"
   },
   "source": [
    "Now we optimize the model."
   ]
  },
  {
   "cell_type": "code",
   "execution_count": 11,
   "id": "WbV8xX8TXZlN",
   "metadata": {
    "colab": {
     "base_uri": "https://localhost:8080/",
     "height": 384,
     "referenced_widgets": [
      "e3c374dced704c12bd1f2c4b044fb87b",
      "dbb11d184b6942fdb4659ade72b18acb",
      "415a4e89aef6470c9a30d2731f2c6e4c",
      "eecbcc8c41004372b83e93cabd7a5c89",
      "d3d53f2bee49444d949b6456ac4e9d47",
      "f6c5d3b733724bd38c36043df7beec79",
      "6a28863f92c343219a40cc93d10fba59",
      "5f06a36d87994db08b38a7af942689f3",
      "54c613fdde7f42d1813ed587ea68752e",
      "1b278133811747abbb7f7b642c33726f",
      "a98850395bf84f2f8eea747ef29480b4",
      "6b4a487fe6e64d0c8c6ebf61a7760f8b",
      "ba24f37692484403b105af330e9acb7b",
      "872d9c53269247bb9b729dc089ea4db5",
      "7a37cdcbc4a440e5a59a2b5cd45a86ea"
     ]
    },
    "id": "WbV8xX8TXZlN",
    "outputId": "4040c7dc-1adb-4019-b7a5-bf42a878f7c9"
   },
   "outputs": [
    {
     "data": {
      "application/vnd.jupyter.widget-view+json": {
       "model_id": "e3c374dced704c12bd1f2c4b044fb87b",
       "version_major": 2,
       "version_minor": 0
      },
      "text/plain": [
       "HBox(children=(VBox(children=(IntProgress(value=0, max=10000), HTML(value=''))), Box(children=(HTML(value=''),…"
      ]
     },
     "metadata": {},
     "output_type": "display_data"
    },
    {
     "data": {
      "text/plain": [
       "<paramz.optimization.optimization.opt_lbfgsb at 0x7f7f4b27a5d0>"
      ]
     },
     "execution_count": 11,
     "metadata": {},
     "output_type": "execute_result"
    }
   ],
   "source": [
    "model.optimize(optimizer=\"lbfgs\", messages=True, max_f_eval=1e4, max_iters=1e4)"
   ]
  },
  {
   "cell_type": "markdown",
   "id": "pD08_m2ev5av",
   "metadata": {
    "id": "pD08_m2ev5av"
   },
   "source": [
    "## Plotting the skeleton"
   ]
  },
  {
   "cell_type": "code",
   "execution_count": 12,
   "id": "sBmCnXUPXZlN",
   "metadata": {
    "id": "sBmCnXUPXZlN"
   },
   "outputs": [],
   "source": [
    "%matplotlib inline"
   ]
  },
  {
   "cell_type": "code",
   "execution_count": 23,
   "id": "5OXpOBuwXZlN",
   "metadata": {
    "colab": {
     "base_uri": "https://localhost:8080/",
     "height": 368
    },
    "id": "5OXpOBuwXZlN",
    "outputId": "c68721c6-311d-4db7-843f-a52535ec2a92"
   },
   "outputs": [
    {
     "data": {
      "image/png": "[encoded data removed]",
      "text/plain": [
       "<Figure size 1008x360 with 3 Axes>"
      ]
     },
     "metadata": {
      "needs_background": "light"
     },
     "output_type": "display_data"
    }
   ],
   "source": [
    "def plot_skeleton(ax, Y_vec):\n",
    "\n",
    "    Z = data[\"skel\"].to_xyz(Y_vec)\n",
    "    ax.scatter(Z[:, 0], Z[:, 2], Z[:, 1], marker=\".\", color=\"b\")\n",
    "\n",
    "    connect = data[\"skel\"].connection_matrix()  # Get the connectivity matrix.\n",
    "    I, J = np.nonzero(connect)\n",
    "    xyz = np.zeros((len(I) * 3, 3))\n",
    "    idx = 0\n",
    "    for i, j in zip(I, J):\n",
    "        xyz[idx] = Z[i, :]\n",
    "        xyz[idx + 1] = Z[j, :]\n",
    "        xyz[idx + 2] = [np.nan] * 3\n",
    "        idx += 3\n",
    "    line_handle = ax.plot(xyz[:, 0], xyz[:, 2], xyz[:, 1], \"-\", color=\"b\")\n",
    "    ax.set_xlim(-15, 15)\n",
    "    ax.set_ylim(-15, 15)\n",
    "    ax.set_zlim(-15, 15)\n",
    "    ax.set_yticks([])\n",
    "    ax.set_xticks([])\n",
    "    ax.set_zticks([])\n",
    "    plt.tight_layout()\n",
    "\n",
    "\n",
    "# fig = plt.figure(figsize=(7,2.5))\n",
    "fig = plt.figure(figsize=(14, 5))\n",
    "\n",
    "ax_a = fig.add_subplot(131)\n",
    "ax_a.set_title(\"Latent Space\")\n",
    "\n",
    "n = len(Y)\n",
    "idx_a = 51  # jumping\n",
    "idx_b = 180  # standing\n",
    "other_indices = np.arange(n)[~np.isin(range(n), [idx_a, idx_b])]\n",
    "jump = np.arange(n)[data[\"lbls\"][:, 0] == 1]\n",
    "walk = np.arange(n)[data[\"lbls\"][:, 0] == 0]\n",
    "\n",
    "jump = jump[jump != idx_a]\n",
    "walk = walk[walk != idx_b]\n",
    "\n",
    "ax_a.scatter(model.X[jump, 0], model.X[jump, 1], label=\"jumping motion\")\n",
    "ax_a.scatter(model.X[walk, 0], model.X[walk, 1], label=\"walking motion\")\n",
    "ax_a.scatter(model.X[idx_a, 0], model.X[idx_a, 1], label=\"Pose A\", marker=\"^\", s=150, c=\"red\")\n",
    "ax_a.scatter(model.X[idx_b, 0], model.X[idx_b, 1], label=\"Pose B\", marker=\"+\", s=150, c=\"red\")\n",
    "ax_a.legend(loc=\"lower left\")  # , fontsize='x-small')\n",
    "\n",
    "plt.tight_layout()\n",
    "\n",
    "ax_b = fig.add_subplot(132, projection=\"3d\")\n",
    "plot_skeleton(ax_b, Y[idx_a, :])\n",
    "ax_b.set_title(\"Pose A\")\n",
    "\n",
    "ax_c = fig.add_subplot(133, projection=\"3d\")\n",
    "plot_skeleton(ax_c, Y[idx_b, :])\n",
    "ax_c.set_title(\"Pose B\")\n",
    "\n",
    "# print(fig)\n",
    "\n",
    "plt.savefig(\"gplvm-mocap.pdf\")\n",
    "plt.show()"
   ]
  },
  {
   "cell_type": "code",
   "execution_count": 15,
   "id": "jSUJ1ImJlF1n",
   "metadata": {
    "colab": {
     "base_uri": "https://localhost:8080/",
     "height": 35
    },
    "id": "jSUJ1ImJlF1n",
    "outputId": "c9dedb19-5589-4123-c1f0-01ead835a6f4"
   },
   "outputs": [
    {
     "data": {
      "text/plain": [
       "<Figure size 432x288 with 0 Axes>"
      ]
     },
     "metadata": {},
     "output_type": "display_data"
    }
   ],
   "source": []
  },
  {
   "cell_type": "code",
   "execution_count": null,
   "id": "AmFWtm-hx48Y",
   "metadata": {
    "id": "AmFWtm-hx48Y"
   },
   "outputs": [],
   "source": []
  }
 ],
 "metadata": {
  "colab": {
   "collapsed_sections": [],
   "include_colab_link": true,
   "name": "gplvm_mocap.ipynb",
   "provenance": [],
   "toc_visible": true
  },
  "kernelspec": {
   "display_name": "Python 3",
   "name": "python3"
  },
  "language_info": {
   "name": "python"
  },
  "widgets": {
   "application/vnd.jupyter.widget-state+json": {
    "1b278133811747abbb7f7b642c33726f": {
     "model_module": "@jupyter-widgets/controls",
     "model_module_version": "1.5.0",
     "model_name": "ProgressStyleModel",
     "state": {
      "_model_module": "@jupyter-widgets/controls",
      "_model_module_version": "1.5.0",
      "_model_name": "ProgressStyleModel",
      "_view_count": null,
      "_view_module": "@jupyter-widgets/base",
      "_view_module_version": "1.2.0",
      "_view_name": "StyleView",
      "bar_color": null,
      "description_width": ""
     }
    },
    "415a4e89aef6470c9a30d2731f2c6e4c": {
     "model_module": "@jupyter-widgets/controls",
     "model_module_version": "1.5.0",
     "model_name": "VBoxModel",
     "state": {
      "_dom_classes": [],
      "_model_module": "@jupyter-widgets/controls",
      "_model_module_version": "1.5.0",
      "_model_name": "VBoxModel",
      "_view_count": null,
      "_view_module": "@jupyter-widgets/controls",
      "_view_module_version": "1.5.0",
      "_view_name": "VBoxView",
      "box_style": "",
      "children": [
       "IPY_MODEL_f6c5d3b733724bd38c36043df7beec79",
       "IPY_MODEL_6a28863f92c343219a40cc93d10fba59"
      ],
      "layout": "IPY_MODEL_d3d53f2bee49444d949b6456ac4e9d47"
     }
    },
    "54c613fdde7f42d1813ed587ea68752e": {
     "model_module": "@jupyter-widgets/controls",
     "model_module_version": "1.5.0",
     "model_name": "HTMLModel",
     "state": {
      "_dom_classes": [],
      "_model_module": "@jupyter-widgets/controls",
      "_model_module_version": "1.5.0",
      "_model_name": "HTMLModel",
      "_view_count": null,
      "_view_module": "@jupyter-widgets/controls",
      "_view_module_version": "1.5.0",
      "_view_name": "HTMLView",
      "description": "",
      "description_tooltip": null,
      "layout": "IPY_MODEL_7a37cdcbc4a440e5a59a2b5cd45a86ea",
      "placeholder": "​",
      "style": "IPY_MODEL_872d9c53269247bb9b729dc089ea4db5",
      "value": "<style type=\"text/css\">\n.pd{\n    font-family: \"Courier New\", Courier, monospace !important;\n    width: 100%;\n    padding: 3px;\n}\n</style>\n\n<p class=pd>\n<b>Model</b>: GPLVM<br>\n<b>Objective</b>: 4221.45848550733<br>\n<b>Number of Parameters</b>: 395<br>\n<b>Number of Optimization Parameters</b>: 395<br>\n<b>Updates</b>: True<br>\n</p>\n<style type=\"text/css\">\n.tg  {font-family:\"Courier New\", Courier, monospace !important;padding:2px 3px;word-break:normal;border-collapse:collapse;border-spacing:0;border-color:#DCDCDC;margin:0px auto;width:100%;}\n.tg td{font-family:\"Courier New\", Courier, monospace !important;font-weight:bold;color:#444;background-color:#F7FDFA;border-style:solid;border-width:1px;overflow:hidden;word-break:normal;border-color:#DCDCDC;}\n.tg th{font-family:\"Courier New\", Courier, monospace !important;font-weight:normal;color:#fff;background-color:#26ADE4;border-style:solid;border-width:1px;overflow:hidden;word-break:normal;border-color:#DCDCDC;}\n.tg .tg-left{font-family:\"Courier New\", Courier, monospace !important;font-weight:normal;text-align:left;}\n.tg .tg-center{font-family:\"Courier New\", Courier, monospace !important;font-weight:normal;text-align:center;}\n.tg .tg-right{font-family:\"Courier New\", Courier, monospace !important;font-weight:normal;text-align:right;}\n</style>\n<table class=\"tg\"><tr><th><b>  GPLVM.                 </b></th><th><b>               value</b></th><th><b>constraints</b></th><th><b>priors</b></th></tr>\n<tr><td class=tg-left>  latent_mean            </td><td class=tg-right>            (195, 2)</td><td class=tg-center>           </td><td class=tg-center>      </td></tr>\n<tr><td class=tg-left>  sum.rbf.variance       </td><td class=tg-right>  1.0519482231581643</td><td class=tg-center>    +ve    </td><td class=tg-center>      </td></tr>\n<tr><td class=tg-left>  sum.rbf.lengthscale    </td><td class=tg-right>                (2,)</td><td class=tg-center>    +ve    </td><td class=tg-center>      </td></tr>\n<tr><td class=tg-left>  sum.bias.variance      </td><td class=tg-right>0.014729498824991518</td><td class=tg-center>    +ve    </td><td class=tg-center>      </td></tr>\n<tr><td class=tg-left>  Gaussian_noise.variance</td><td class=tg-right>0.025823130024457238</td><td class=tg-center>    +ve    </td><td class=tg-center>      </td></tr>\n</table>"
     }
    },
    "5f06a36d87994db08b38a7af942689f3": {
     "model_module": "@jupyter-widgets/base",
     "model_module_version": "1.2.0",
     "model_name": "LayoutModel",
     "state": {
      "_model_module": "@jupyter-widgets/base",
      "_model_module_version": "1.2.0",
      "_model_name": "LayoutModel",
      "_view_count": null,
      "_view_module": "@jupyter-widgets/base",
      "_view_module_version": "1.2.0",
      "_view_name": "LayoutView",
      "align_content": null,
      "align_items": null,
      "align_self": null,
      "border": null,
      "bottom": null,
      "display": null,
      "flex": null,
      "flex_flow": null,
      "grid_area": null,
      "grid_auto_columns": null,
      "grid_auto_flow": null,
      "grid_auto_rows": null,
      "grid_column": null,
      "grid_gap": null,
      "grid_row": null,
      "grid_template_areas": null,
      "grid_template_columns": null,
      "grid_template_rows": null,
      "height": null,
      "justify_content": null,
      "justify_items": null,
      "left": null,
      "margin": null,
      "max_height": null,
      "max_width": null,
      "min_height": null,
      "min_width": null,
      "object_fit": null,
      "object_position": null,
      "order": null,
      "overflow": null,
      "overflow_x": null,
      "overflow_y": null,
      "padding": null,
      "right": null,
      "top": null,
      "visibility": null,
      "width": null
     }
    },
    "6a28863f92c343219a40cc93d10fba59": {
     "model_module": "@jupyter-widgets/controls",
     "model_module_version": "1.5.0",
     "model_name": "HTMLModel",
     "state": {
      "_dom_classes": [],
      "_model_module": "@jupyter-widgets/controls",
      "_model_module_version": "1.5.0",
      "_model_name": "HTMLModel",
      "_view_count": null,
      "_view_module": "@jupyter-widgets/controls",
      "_view_module_version": "1.5.0",
      "_view_name": "HTMLView",
      "description": "",
      "description_tooltip": null,
      "layout": "IPY_MODEL_ba24f37692484403b105af330e9acb7b",
      "placeholder": "​",
      "style": "IPY_MODEL_6b4a487fe6e64d0c8c6ebf61a7760f8b",
      "value": "<style type=\"text/css\">\n    .tg-opt  {font-family:\"Courier New\", Courier, monospace !important;padding:2px 3px;word-break:normal;border-collapse:collapse;border-spacing:0;border-color:#DCDCDC;margin:0px auto;width:100%;}\n    .tg-opt td{font-family:\"Courier New\", Courier, monospace !important;font-weight:bold;color:#444;background-color:#F7FDFA;border-style:solid;border-width:1px;overflow:hidden;word-break:normal;border-color:#DCDCDC;}\n    .tg-opt th{font-family:\"Courier New\", Courier, monospace !important;font-weight:normal;color:#fff;background-color:#26ADE4;border-style:solid;border-width:1px;overflow:hidden;word-break:normal;border-color:#DCDCDC;}\n    .tg-opt .tg-left{font-family:\"Courier New\", Courier, monospace !important;font-weight:normal;text-align:left;}\n    .tg-opt .tg-right{font-family:\"Courier New\", Courier, monospace !important;font-weight:normal;text-align:right;}\n    </style>\n    <table class=\"tg-opt\"><tr><td class='tg-left'>optimizer</td><td class='tg-right'>L-BFGS-B (Scipy implementation)</td></tr><tr><td class='tg-left'>runtime</td><td class='tg-right'>01m39s86</td></tr><tr><td class='tg-left'>evaluation</td><td class='tg-right'>05107</td></tr><tr><td class='tg-left'>objective</td><td class='tg-right'>   4.221E+03</td></tr><tr><td class='tg-left'>||gradient||</td><td class='tg-right'>  +4.735E-01</td></tr><tr><td class='tg-left'>status</td><td class='tg-right'>Converged</td></tr></table>"
     }
    },
    "6b4a487fe6e64d0c8c6ebf61a7760f8b": {
     "model_module": "@jupyter-widgets/controls",
     "model_module_version": "1.5.0",
     "model_name": "DescriptionStyleModel",
     "state": {
      "_model_module": "@jupyter-widgets/controls",
      "_model_module_version": "1.5.0",
      "_model_name": "DescriptionStyleModel",
      "_view_count": null,
      "_view_module": "@jupyter-widgets/base",
      "_view_module_version": "1.2.0",
      "_view_name": "StyleView",
      "description_width": ""
     }
    },
    "7a37cdcbc4a440e5a59a2b5cd45a86ea": {
     "model_module": "@jupyter-widgets/base",
     "model_module_version": "1.2.0",
     "model_name": "LayoutModel",
     "state": {
      "_model_module": "@jupyter-widgets/base",
      "_model_module_version": "1.2.0",
      "_model_name": "LayoutModel",
      "_view_count": null,
      "_view_module": "@jupyter-widgets/base",
      "_view_module_version": "1.2.0",
      "_view_name": "LayoutView",
      "align_content": null,
      "align_items": null,
      "align_self": null,
      "border": null,
      "bottom": null,
      "display": null,
      "flex": null,
      "flex_flow": null,
      "grid_area": null,
      "grid_auto_columns": null,
      "grid_auto_flow": null,
      "grid_auto_rows": null,
      "grid_column": null,
      "grid_gap": null,
      "grid_row": null,
      "grid_template_areas": null,
      "grid_template_columns": null,
      "grid_template_rows": null,
      "height": null,
      "justify_content": null,
      "justify_items": null,
      "left": null,
      "margin": null,
      "max_height": null,
      "max_width": null,
      "min_height": null,
      "min_width": null,
      "object_fit": null,
      "object_position": null,
      "order": null,
      "overflow": null,
      "overflow_x": null,
      "overflow_y": null,
      "padding": null,
      "right": null,
      "top": null,
      "visibility": null,
      "width": null
     }
    },
    "872d9c53269247bb9b729dc089ea4db5": {
     "model_module": "@jupyter-widgets/controls",
     "model_module_version": "1.5.0",
     "model_name": "DescriptionStyleModel",
     "state": {
      "_model_module": "@jupyter-widgets/controls",
      "_model_module_version": "1.5.0",
      "_model_name": "DescriptionStyleModel",
      "_view_count": null,
      "_view_module": "@jupyter-widgets/base",
      "_view_module_version": "1.2.0",
      "_view_name": "StyleView",
      "description_width": ""
     }
    },
    "a98850395bf84f2f8eea747ef29480b4": {
     "model_module": "@jupyter-widgets/base",
     "model_module_version": "1.2.0",
     "model_name": "LayoutModel",
     "state": {
      "_model_module": "@jupyter-widgets/base",
      "_model_module_version": "1.2.0",
      "_model_name": "LayoutModel",
      "_view_count": null,
      "_view_module": "@jupyter-widgets/base",
      "_view_module_version": "1.2.0",
      "_view_name": "LayoutView",
      "align_content": null,
      "align_items": null,
      "align_self": null,
      "border": null,
      "bottom": null,
      "display": null,
      "flex": null,
      "flex_flow": null,
      "grid_area": null,
      "grid_auto_columns": null,
      "grid_auto_flow": null,
      "grid_auto_rows": null,
      "grid_column": null,
      "grid_gap": null,
      "grid_row": null,
      "grid_template_areas": null,
      "grid_template_columns": null,
      "grid_template_rows": null,
      "height": null,
      "justify_content": null,
      "justify_items": null,
      "left": null,
      "margin": null,
      "max_height": null,
      "max_width": null,
      "min_height": null,
      "min_width": null,
      "object_fit": null,
      "object_position": null,
      "order": null,
      "overflow": null,
      "overflow_x": null,
      "overflow_y": null,
      "padding": null,
      "right": null,
      "top": null,
      "visibility": null,
      "width": null
     }
    },
    "ba24f37692484403b105af330e9acb7b": {
     "model_module": "@jupyter-widgets/base",
     "model_module_version": "1.2.0",
     "model_name": "LayoutModel",
     "state": {
      "_model_module": "@jupyter-widgets/base",
      "_model_module_version": "1.2.0",
      "_model_name": "LayoutModel",
      "_view_count": null,
      "_view_module": "@jupyter-widgets/base",
      "_view_module_version": "1.2.0",
      "_view_name": "LayoutView",
      "align_content": null,
      "align_items": null,
      "align_self": null,
      "border": null,
      "bottom": null,
      "display": null,
      "flex": null,
      "flex_flow": null,
      "grid_area": null,
      "grid_auto_columns": null,
      "grid_auto_flow": null,
      "grid_auto_rows": null,
      "grid_column": null,
      "grid_gap": null,
      "grid_row": null,
      "grid_template_areas": null,
      "grid_template_columns": null,
      "grid_template_rows": null,
      "height": null,
      "justify_content": null,
      "justify_items": null,
      "left": null,
      "margin": null,
      "max_height": null,
      "max_width": null,
      "min_height": null,
      "min_width": null,
      "object_fit": null,
      "object_position": null,
      "order": null,
      "overflow": null,
      "overflow_x": null,
      "overflow_y": null,
      "padding": null,
      "right": null,
      "top": null,
      "visibility": null,
      "width": null
     }
    },
    "d3d53f2bee49444d949b6456ac4e9d47": {
     "model_module": "@jupyter-widgets/base",
     "model_module_version": "1.2.0",
     "model_name": "LayoutModel",
     "state": {
      "_model_module": "@jupyter-widgets/base",
      "_model_module_version": "1.2.0",
      "_model_name": "LayoutModel",
      "_view_count": null,
      "_view_module": "@jupyter-widgets/base",
      "_view_module_version": "1.2.0",
      "_view_name": "LayoutView",
      "align_content": null,
      "align_items": null,
      "align_self": null,
      "border": null,
      "bottom": null,
      "display": null,
      "flex": null,
      "flex_flow": null,
      "grid_area": null,
      "grid_auto_columns": null,
      "grid_auto_flow": null,
      "grid_auto_rows": null,
      "grid_column": null,
      "grid_gap": null,
      "grid_row": null,
      "grid_template_areas": null,
      "grid_template_columns": null,
      "grid_template_rows": null,
      "height": null,
      "justify_content": null,
      "justify_items": null,
      "left": null,
      "margin": null,
      "max_height": null,
      "max_width": null,
      "min_height": null,
      "min_width": null,
      "object_fit": null,
      "object_position": null,
      "order": null,
      "overflow": null,
      "overflow_x": null,
      "overflow_y": null,
      "padding": null,
      "right": null,
      "top": null,
      "visibility": null,
      "width": null
     }
    },
    "dbb11d184b6942fdb4659ade72b18acb": {
     "model_module": "@jupyter-widgets/base",
     "model_module_version": "1.2.0",
     "model_name": "LayoutModel",
     "state": {
      "_model_module": "@jupyter-widgets/base",
      "_model_module_version": "1.2.0",
      "_model_name": "LayoutModel",
      "_view_count": null,
      "_view_module": "@jupyter-widgets/base",
      "_view_module_version": "1.2.0",
      "_view_name": "LayoutView",
      "align_content": null,
      "align_items": null,
      "align_self": null,
      "border": null,
      "bottom": null,
      "display": null,
      "flex": null,
      "flex_flow": null,
      "grid_area": null,
      "grid_auto_columns": null,
      "grid_auto_flow": null,
      "grid_auto_rows": null,
      "grid_column": null,
      "grid_gap": null,
      "grid_row": null,
      "grid_template_areas": null,
      "grid_template_columns": null,
      "grid_template_rows": null,
      "height": null,
      "justify_content": null,
      "justify_items": null,
      "left": null,
      "margin": null,
      "max_height": null,
      "max_width": null,
      "min_height": null,
      "min_width": null,
      "object_fit": null,
      "object_position": null,
      "order": null,
      "overflow": null,
      "overflow_x": null,
      "overflow_y": null,
      "padding": null,
      "right": null,
      "top": null,
      "visibility": null,
      "width": null
     }
    },
    "e3c374dced704c12bd1f2c4b044fb87b": {
     "model_module": "@jupyter-widgets/controls",
     "model_module_version": "1.5.0",
     "model_name": "HBoxModel",
     "state": {
      "_dom_classes": [],
      "_model_module": "@jupyter-widgets/controls",
      "_model_module_version": "1.5.0",
      "_model_name": "HBoxModel",
      "_view_count": null,
      "_view_module": "@jupyter-widgets/controls",
      "_view_module_version": "1.5.0",
      "_view_name": "HBoxView",
      "box_style": "",
      "children": [
       "IPY_MODEL_415a4e89aef6470c9a30d2731f2c6e4c",
       "IPY_MODEL_eecbcc8c41004372b83e93cabd7a5c89"
      ],
      "layout": "IPY_MODEL_dbb11d184b6942fdb4659ade72b18acb"
     }
    },
    "eecbcc8c41004372b83e93cabd7a5c89": {
     "model_module": "@jupyter-widgets/controls",
     "model_module_version": "1.5.0",
     "model_name": "BoxModel",
     "state": {
      "_dom_classes": [],
      "_model_module": "@jupyter-widgets/controls",
      "_model_module_version": "1.5.0",
      "_model_name": "BoxModel",
      "_view_count": null,
      "_view_module": "@jupyter-widgets/controls",
      "_view_module_version": "1.5.0",
      "_view_name": "BoxView",
      "box_style": "",
      "children": [
       "IPY_MODEL_54c613fdde7f42d1813ed587ea68752e"
      ],
      "layout": "IPY_MODEL_5f06a36d87994db08b38a7af942689f3"
     }
    },
    "f6c5d3b733724bd38c36043df7beec79": {
     "model_module": "@jupyter-widgets/controls",
     "model_module_version": "1.5.0",
     "model_name": "IntProgressModel",
     "state": {
      "_dom_classes": [],
      "_model_module": "@jupyter-widgets/controls",
      "_model_module_version": "1.5.0",
      "_model_name": "IntProgressModel",
      "_view_count": null,
      "_view_module": "@jupyter-widgets/controls",
      "_view_module_version": "1.5.0",
      "_view_name": "ProgressView",
      "bar_style": "success",
      "description": "",
      "description_tooltip": null,
      "layout": "IPY_MODEL_a98850395bf84f2f8eea747ef29480b4",
      "max": 10000,
      "min": 0,
      "orientation": "horizontal",
      "style": "IPY_MODEL_1b278133811747abbb7f7b642c33726f",
      "value": 5108
     }
    }
   }
  }
 },
 "nbformat": 4,
 "nbformat_minor": 5
}
