{
 "cells": [
  {
   "cell_type": "markdown",
   "id": "6b93c674",
   "metadata": {},
   "source": [
    "Source of this notebook is here: https://github.com/probml/JSL/blob/main/jsl/demos/hmm_lillypad.py"
   ]
  }
 ],
 "metadata": {},
 "nbformat": 4,
 "nbformat_minor": 5
}
