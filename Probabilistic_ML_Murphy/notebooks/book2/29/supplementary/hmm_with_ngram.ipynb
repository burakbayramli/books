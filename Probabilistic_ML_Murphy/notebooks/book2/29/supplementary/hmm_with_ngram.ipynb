{
 "nbformat": 4,
 "nbformat_minor": 0,
 "metadata": {
  "colab": {
   "name": "hmm_with_ngram.ipynb",
   "provenance": [],
   "collapsed_sections": []
  },
  "kernelspec": {
   "name": "python3",
   "display_name": "Python 3"
  },
  "language_info": {
   "name": "python"
  }
 },
 "cells": [
  {
   "cell_type": "markdown",
   "metadata": {
    "id": "FTk3FQHnwtqS"
   },
   "source": [
    "## Setup"
   ]
  },
  {
   "cell_type": "code",
   "metadata": {
    "colab": {
     "base_uri": "https://localhost:8080/"
    },
    "id": "Qb4IIXge05EV",
    "outputId": "608a2bee-0120-4cb0-870c-94bb27f17b5e"
   },
   "source": [
    "!pip install nltk\n",
    "!pip install distrax"
   ],
   "execution_count": 1,
   "outputs": [
    {
     "output_type": "stream",
     "name": "stdout",
     "text": [
      "Requirement already satisfied: nltk in /usr/local/lib/python3.7/dist-packages (3.2.5)\n",
      "Requirement already satisfied: six in /usr/local/lib/python3.7/dist-packages (from nltk) (1.15.0)\n",
      "Requirement already satisfied: distrax in /usr/local/lib/python3.7/dist-packages (0.0.2)\n",
      "Requirement already satisfied: tensorflow-probability>=0.13.0rc0 in /usr/local/lib/python3.7/dist-packages (from distrax) (0.13.0)\n",
      "Requirement already satisfied: chex>=0.0.7 in /usr/local/lib/python3.7/dist-packages (from distrax) (0.0.8)\n",
      "Requirement already satisfied: absl-py>=0.9.0 in /usr/local/lib/python3.7/dist-packages (from distrax) (0.12.0)\n",
      "Requirement already satisfied: jaxlib>=0.1.67 in /usr/local/lib/python3.7/dist-packages (from distrax) (0.1.70+cuda110)\n",
      "Requirement already satisfied: jax>=0.2.13 in /usr/local/lib/python3.7/dist-packages (from distrax) (0.2.19)\n",
      "Requirement already satisfied: numpy>=1.18.0 in /usr/local/lib/python3.7/dist-packages (from distrax) (1.19.5)\n",
      "Requirement already satisfied: six in /usr/local/lib/python3.7/dist-packages (from absl-py>=0.9.0->distrax) (1.15.0)\n",
      "Requirement already satisfied: toolz>=0.9.0 in /usr/local/lib/python3.7/dist-packages (from chex>=0.0.7->distrax) (0.11.1)\n",
      "Requirement already satisfied: dm-tree>=0.1.5 in /usr/local/lib/python3.7/dist-packages (from chex>=0.0.7->distrax) (0.1.6)\n",
      "Requirement already satisfied: opt-einsum in /usr/local/lib/python3.7/dist-packages (from jax>=0.2.13->distrax) (3.3.0)\n",
      "Requirement already satisfied: flatbuffers<3.0,>=1.12 in /usr/local/lib/python3.7/dist-packages (from jaxlib>=0.1.67->distrax) (1.12)\n",
      "Requirement already satisfied: scipy in /usr/local/lib/python3.7/dist-packages (from jaxlib>=0.1.67->distrax) (1.4.1)\n",
      "Requirement already satisfied: decorator in /usr/local/lib/python3.7/dist-packages (from tensorflow-probability>=0.13.0rc0->distrax) (4.4.2)\n",
      "Requirement already satisfied: gast>=0.3.2 in /usr/local/lib/python3.7/dist-packages (from tensorflow-probability>=0.13.0rc0->distrax) (0.4.0)\n",
      "Requirement already satisfied: cloudpickle>=1.3 in /usr/local/lib/python3.7/dist-packages (from tensorflow-probability>=0.13.0rc0->distrax) (1.3.0)\n"
     ]
    }
   ]
  },
  {
   "cell_type": "code",
   "metadata": {
    "id": "PfL2-4k9bNH7",
    "colab": {
     "base_uri": "https://localhost:8080/"
    },
    "outputId": "65853521-f632-45fe-c792-5cb67ef91a9d"
   },
   "source": [
    "!git clone --depth 1 https://github.com/probml/pyprobml /pyprobml &> /dev/null\n",
    "!curl -o bible.txt https://raw.githubusercontent.com/probml/probml-data/main/data/bible.txt\n",
    "%cd -q /pyprobml/scripts"
   ],
   "execution_count": 2,
   "outputs": [
    {
     "output_type": "stream",
     "name": "stdout",
     "text": [
      "  % Total    % Received % Xferd  Average Speed   Time    Time     Time  Current\n",
      "                                 Dload  Upload   Total   Spent    Left  Speed\n",
      "100 4230k  100 4230k    0     0  9704k      0 --:--:-- --:--:-- --:--:-- 9704k\n"
     ]
    }
   ]
  },
  {
   "cell_type": "code",
   "metadata": {
    "colab": {
     "base_uri": "https://localhost:8080/"
    },
    "id": "_wuzxMB_c3jn",
    "outputId": "6f56c105-b879-4bc8-8ffe-95f30601ee30"
   },
   "source": [
    "!pip install superimport"
   ],
   "execution_count": 3,
   "outputs": [
    {
     "output_type": "stream",
     "name": "stdout",
     "text": [
      "Requirement already satisfied: superimport in /usr/local/lib/python3.7/dist-packages (0.3.3)\n",
      "Requirement already satisfied: requests in /usr/local/lib/python3.7/dist-packages (from superimport) (2.23.0)\n",
      "Requirement already satisfied: urllib3!=1.25.0,!=1.25.1,<1.26,>=1.21.1 in /usr/local/lib/python3.7/dist-packages (from requests->superimport) (1.24.3)\n",
      "Requirement already satisfied: chardet<4,>=3.0.2 in /usr/local/lib/python3.7/dist-packages (from requests->superimport) (3.0.4)\n",
      "Requirement already satisfied: certifi>=2017.4.17 in /usr/local/lib/python3.7/dist-packages (from requests->superimport) (2021.5.30)\n",
      "Requirement already satisfied: idna<3,>=2.5 in /usr/local/lib/python3.7/dist-packages (from requests->superimport) (2.10)\n"
     ]
    }
   ]
  },
  {
   "cell_type": "code",
   "metadata": {
    "id": "6gv1jZO7d7_T"
   },
   "source": [
    "from conditional_bernoulli_mix_lib import ClassConditionalBMM\n",
    "from conditional_bernoulli_mix_utils import (\n",
    "    fake_test_data,\n",
    "    encode,\n",
    "    decode,\n",
    "    get_decoded_samples,\n",
    "    get_emnist_images_per_class,\n",
    ")\n",
    "from noisy_spelling_hmm import Word\n",
    "from ngram_character_demo import ngram_model_fit, read_file, preprocessing, ngram_model_sample, ngram_loglikelihood\n",
    "from distrax import HMM\n",
    "\n",
    "from nltk.util import ngrams\n",
    "from nltk import FreqDist, LidstoneProbDist\n",
    "\n",
    "import numpy as np\n",
    "\n",
    "import re\n",
    "import string\n",
    "from collections import defaultdict\n",
    "from dataclasses import dataclass\n",
    "\n",
    "from jax import vmap\n",
    "import jax.numpy as jnp\n",
    "import jax\n",
    "from jax.random import PRNGKey, split\n",
    "import distrax\n",
    "\n",
    "import numpy as np\n",
    "from matplotlib import pyplot as plt"
   ],
   "execution_count": 4,
   "outputs": []
  },
  {
   "cell_type": "markdown",
   "metadata": {
    "id": "mj_1NJnY1tjj"
   },
   "source": [
    "## ClassConditionalBMM"
   ]
  },
  {
   "cell_type": "code",
   "metadata": {
    "colab": {
     "base_uri": "https://localhost:8080/"
    },
    "id": "VFlP1MTjde5R",
    "outputId": "f9007538-b1f5-4cb8-b651-b9acea991e54"
   },
   "source": [
    "select_n = 25\n",
    "dataset, targets = get_emnist_images_per_class(select_n)\n",
    "dataset, targets = jnp.array(dataset), jnp.array(targets)"
   ],
   "execution_count": 5,
   "outputs": [
    {
     "output_type": "stream",
     "name": "stderr",
     "text": [
      "/usr/local/lib/python3.7/dist-packages/torchvision/datasets/mnist.py:498: UserWarning: The given NumPy array is not writeable, and PyTorch does not support non-writeable tensors. This means you can write to the underlying (supposedly non-writeable) NumPy array using the tensor. You may want to copy the array to protect its data or make it writeable before converting it to a tensor. This type of warning will be suppressed for the rest of this program. (Triggered internally at  /pytorch/torch/csrc/utils/tensor_numpy.cpp:180.)\n",
      "  return torch.from_numpy(parsed.astype(m[2], copy=False)).view(*s)\n",
      "WARNING:absl:No GPU/TPU found, falling back to CPU. (Set TF_CPP_MIN_LOG_LEVEL=0 and rerun for more info.)\n"
     ]
    }
   ]
  },
  {
   "cell_type": "code",
   "metadata": {
    "id": "0jtZwZAKaeXR"
   },
   "source": [
    "\"\"\"\n",
    "During preprocessing of the text data, we removed punctuation whereas\n",
    "case folding is not applied. The text data only contains\n",
    "upper and lower case letters and hence there are 52 different characters\n",
    "in total.\n",
    "\"\"\"\n",
    "n_char = 2 * 26"
   ],
   "execution_count": 6,
   "outputs": []
  },
  {
   "cell_type": "code",
   "metadata": {
    "id": "vyQBGTrseHIn"
   },
   "source": [
    "def get_bmm(n_mix, dataset, targets):\n",
    "\n",
    "    mixing_coeffs = jnp.array(np.full((n_char, n_mix), 1.0 / n_mix))\n",
    "\n",
    "    p_min, p_max = 0.4, 0.6\n",
    "    n_pixels = 28 * 28\n",
    "    probs = jnp.array(np.random.uniform(p_min, p_max, (n_char, n_mix, n_pixels)))\n",
    "\n",
    "    class_priors = jnp.eye(n_char)\n",
    "\n",
    "    class_cond_bmm = ClassConditionalBMM(\n",
    "        mixing_coeffs=mixing_coeffs, probs=probs, class_priors=class_priors, n_char=n_char\n",
    "    )\n",
    "    _ = class_cond_bmm.fit_em(dataset, targets, 8)\n",
    "    return class_cond_bmm.model"
   ],
   "execution_count": 7,
   "outputs": []
  },
  {
   "cell_type": "markdown",
   "metadata": {
    "id": "5Gjdsb8gyaPo"
   },
   "source": [
    "## HMM"
   ]
  },
  {
   "cell_type": "code",
   "metadata": {
    "id": "d95bBV9syWt1"
   },
   "source": [
    "def get_transition_probs(bigram):\n",
    "    probs = np.zeros((52, 52))\n",
    "    for prev, pd in bigram.prob_dists.items():\n",
    "        if prev == \" \":\n",
    "            continue\n",
    "        lowercase = prev.islower()\n",
    "        i = lowercase * 26 + (ord(prev.lower()) - 97)\n",
    "        for cur in pd.samples():\n",
    "            if cur == \" \":\n",
    "                continue\n",
    "            lowercase = cur.islower()\n",
    "            j = lowercase * 26 + (ord(cur.lower()) - 97)\n",
    "            probs[i, j] += pd.prob(cur)\n",
    "    return probs"
   ],
   "execution_count": 8,
   "outputs": []
  },
  {
   "cell_type": "code",
   "metadata": {
    "id": "sAjvGMaBycpp"
   },
   "source": [
    "def init_hmm_from_bigram(bigram, bmm):\n",
    "    init_dist = distrax.Categorical(logits=jnp.zeros((n_char,)))\n",
    "    probs = get_transition_probs(bigram)\n",
    "    trans_dist = distrax.Categorical(probs=probs)\n",
    "    obs_dist = bmm\n",
    "    hmm = HMM(init_dist, trans_dist, obs_dist)\n",
    "    return hmm"
   ],
   "execution_count": 9,
   "outputs": []
  },
  {
   "cell_type": "markdown",
   "metadata": {
    "id": "XrtcdNllykLe"
   },
   "source": [
    "## Loading Dataset"
   ]
  },
  {
   "cell_type": "code",
   "metadata": {
    "id": "VkLgh57Ryjy0"
   },
   "source": [
    "select_n = 25\n",
    "dataset, targets = get_emnist_images_per_class(select_n)\n",
    "dataset, targets = jnp.array(dataset), jnp.array(targets)\n",
    "\n",
    "filepath = \"/content/bible.txt\"\n",
    "text = read_file(filepath)\n",
    "data = preprocessing(text, False)"
   ],
   "execution_count": 10,
   "outputs": []
  },
  {
   "cell_type": "markdown",
   "metadata": {
    "id": "-aoKlnDTysER"
   },
   "source": [
    "## Sampling Images"
   ]
  },
  {
   "cell_type": "code",
   "metadata": {
    "colab": {
     "base_uri": "https://localhost:8080/"
    },
    "id": "z9teeVPlyudQ",
    "outputId": "1500784c-c8c6-41bb-a4cc-ad1591686457"
   },
   "source": [
    "n, n_mix = 2, 30\n",
    "bigram = ngram_model_fit(n, data, smoothing=1)\n",
    "bmm = get_bmm(n_mix, dataset, targets)\n",
    "hmm = init_hmm_from_bigram(bigram, bmm)"
   ],
   "execution_count": 11,
   "outputs": [
    {
     "output_type": "stream",
     "name": "stderr",
     "text": [
      "/usr/local/lib/python3.7/dist-packages/jax/_src/numpy/lax_numpy.py:5847: UserWarning: Explicitly requested dtype <class 'jax._src.numpy.lax_numpy.int64'> requested in astype is not available, and will be truncated to dtype int32. To enable more dtypes, set the jax_enable_x64 configuration option or the JAX_ENABLE_X64 shell environment variable. See https://github.com/google/jax#current-gotchas for more.\n",
      "  lax._check_user_dtype_supported(dtype, \"astype\")\n"
     ]
    }
   ]
  },
  {
   "cell_type": "code",
   "metadata": {
    "colab": {
     "base_uri": "https://localhost:8080/"
    },
    "id": "VSb3VP3nyveA",
    "outputId": "6b280bc1-d7dd-47ee-921e-2a4cac452a04"
   },
   "source": [
    "rng_key = PRNGKey(0)\n",
    "seq_len = 6\n",
    "Z, X = hmm.sample(seed=rng_key, seq_len=seq_len)"
   ],
   "execution_count": 12,
   "outputs": [
    {
     "output_type": "stream",
     "name": "stderr",
     "text": [
      "/usr/local/lib/python3.7/dist-packages/jax/_src/numpy/lax_numpy.py:5847: UserWarning: Explicitly requested dtype <class 'jax._src.numpy.lax_numpy.int64'> requested in astype is not available, and will be truncated to dtype int32. To enable more dtypes, set the jax_enable_x64 configuration option or the JAX_ENABLE_X64 shell environment variable. See https://github.com/google/jax#current-gotchas for more.\n",
      "  lax._check_user_dtype_supported(dtype, \"astype\")\n"
     ]
    }
   ]
  },
  {
   "cell_type": "code",
   "metadata": {
    "id": "-CSmwLjP5sLJ"
   },
   "source": [
    "def plot_seq(X, seq_len, figsize):\n",
    "    fig, axes = plt.subplots(nrows=1, ncols=seq_len, figsize=figsize)\n",
    "    for x, ax in zip(X, axes.flatten()):\n",
    "        ax.imshow(x.reshape((28, 28)), cmap=\"gray\")\n",
    "    plt.tight_layout()\n",
    "    plt.show()"
   ],
   "execution_count": 13,
   "outputs": []
  },
  {
   "cell_type": "code",
   "metadata": {
    "colab": {
     "base_uri": "https://localhost:8080/",
     "height": 137
    },
    "id": "TAxZLsbCzNeC",
    "outputId": "4c5b6ecf-5242-4ff9-b45a-4fc1e67f6b93"
   },
   "source": [
    "plot_seq(X, seq_len, (10, 8))"
   ],
   "execution_count": 14,
   "outputs": [
    {
     "output_type": "display_data",
     "data": {
      "image/png": "[encoded data removed]",
      "text/plain": [
       "<Figure size 720x576 with 6 Axes>"
      ]
     },
     "metadata": {
      "needs_background": "light"
     }
    }
   ]
  },
  {
   "cell_type": "markdown",
   "metadata": {
    "id": "tORWPVOCzpP3"
   },
   "source": [
    "## NGram"
   ]
  },
  {
   "cell_type": "code",
   "metadata": {
    "id": "8Ha9lZVvzwNO"
   },
   "source": [
    "n = 10\n",
    "n_gram = ngram_model_fit(n, data, smoothing=1)"
   ],
   "execution_count": 15,
   "outputs": []
  },
  {
   "cell_type": "code",
   "metadata": {
    "id": "n8q2vHepzouW"
   },
   "source": [
    "text_length = 11\n",
    "prefix = \"Christian\"\n",
    "Z = ngram_model_sample(n_gram, text_length, prefix)\n",
    "log_p_Z = ngram_loglikelihood(n_gram, Z)"
   ],
   "execution_count": 16,
   "outputs": []
  },
  {
   "cell_type": "code",
   "metadata": {
    "id": "01XPDM0-0OF9"
   },
   "source": [
    "def sample_img_seq_given_char_seq(bmm, z, rng_key):\n",
    "    LL = 0\n",
    "    T = len(z)\n",
    "    keys = split(rng_key, T)\n",
    "    Xs = []\n",
    "    for t, key in enumerate(keys):\n",
    "        cur_char = z[t]\n",
    "        X = jnp.zeros((784,))\n",
    "        if cur_char != \" \":\n",
    "            lowercase = cur_char.islower()\n",
    "            c = lowercase * 26 + (ord(cur_char.lower()) - 97)\n",
    "            X = bmm.sample(seed=key)[c]\n",
    "            log_p_X = bmm.log_prob(X)[c]\n",
    "\n",
    "        Xs.append(X)\n",
    "\n",
    "        LL += log_p_X\n",
    "\n",
    "    return jnp.vstack(Xs), LL"
   ],
   "execution_count": 17,
   "outputs": []
  },
  {
   "cell_type": "code",
   "metadata": {
    "colab": {
     "base_uri": "https://localhost:8080/"
    },
    "id": "-ZNYwx7O03Oy",
    "outputId": "8ee856c0-4146-425a-bf5b-05349f625d37"
   },
   "source": [
    "rng_key = PRNGKey(0)\n",
    "images, LL = sample_img_seq_given_char_seq(bmm, Z, rng_key)"
   ],
   "execution_count": 18,
   "outputs": [
    {
     "output_type": "stream",
     "name": "stderr",
     "text": [
      "/usr/local/lib/python3.7/dist-packages/jax/_src/numpy/lax_numpy.py:5847: UserWarning: Explicitly requested dtype <class 'jax._src.numpy.lax_numpy.int64'> requested in astype is not available, and will be truncated to dtype int32. To enable more dtypes, set the jax_enable_x64 configuration option or the JAX_ENABLE_X64 shell environment variable. See https://github.com/google/jax#current-gotchas for more.\n",
      "  lax._check_user_dtype_supported(dtype, \"astype\")\n"
     ]
    }
   ]
  },
  {
   "cell_type": "code",
   "metadata": {
    "colab": {
     "base_uri": "https://localhost:8080/"
    },
    "id": "Yvc1XeXc13L6",
    "outputId": "bd246cf6-2d18-4058-954c-4c2f9d46263b"
   },
   "source": [
    "LL"
   ],
   "execution_count": 19,
   "outputs": [
    {
     "output_type": "execute_result",
     "data": {
      "text/plain": [
       "DeviceArray(-374.44446, dtype=float32)"
      ]
     },
     "metadata": {},
     "execution_count": 19
    }
   ]
  },
  {
   "cell_type": "code",
   "metadata": {
    "colab": {
     "base_uri": "https://localhost:8080/",
     "height": 35
    },
    "id": "AKXA4HNq8qYz",
    "outputId": "4f772d3d-abe3-4bd5-c08f-3c48039b3124"
   },
   "source": [
    "Z"
   ],
   "execution_count": 20,
   "outputs": [
    {
     "output_type": "execute_result",
     "data": {
      "application/vnd.google.colaboratory.intrinsic+json": {
       "type": "string"
      },
      "text/plain": [
       "'Christians first int'"
      ]
     },
     "metadata": {},
     "execution_count": 20
    }
   ]
  },
  {
   "cell_type": "code",
   "metadata": {
    "colab": {
     "base_uri": "https://localhost:8080/",
     "height": 92
    },
    "id": "5sXsgB3p2STE",
    "outputId": "9443fa50-c398-420a-b663-b7568391a9c4"
   },
   "source": [
    "plot_seq(images, text_length + len(prefix), figsize=(40, 20))"
   ],
   "execution_count": 21,
   "outputs": [
    {
     "output_type": "display_data",
     "data": {
      "image/png": "[encoded data removed]",
      "text/plain": [
       "<Figure size 2880x1440 with 20 Axes>"
      ]
     },
     "metadata": {
      "needs_background": "light"
     }
    }
   ]
  }
 ]
}