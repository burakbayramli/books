{
 "cells": [
  {
   "cell_type": "markdown",
   "id": "c80fdfe7",
   "metadata": {},
   "source": [
    "Source of this notebook is here: https://github.com/probml/JSL/blob/main/jsl/demos/bootstrap_filter.py"
   ]
  }
 ],
 "metadata": {},
 "nbformat": 4,
 "nbformat_minor": 5
}
