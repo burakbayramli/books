{
 "cells": [
  {
   "cell_type": "markdown",
   "id": "J1WWQI9sYmCH",
   "metadata": {
    "id": "J1WWQI9sYmCH"
   },
   "source": [
    "# Gaussian process time series forecasting for Mauna Loa CO2\n",
    "\n",
    "In the following, we'll reproduce the analysis for Figure 5.6 in [Chapter 5 of Rasmussen & Williams (R&W)](http://www.gaussianprocess.org/gpml/chapters/RW5.pdf).\n",
    "\n",
    "Code is from \n",
    "https://tinygp.readthedocs.io/en/latest/tutorials/quickstart.html\n",
    "\n"
   ]
  },
  {
   "cell_type": "code",
   "execution_count": null,
   "id": "false-finder",
   "metadata": {
    "id": "false-finder",
    "tags": [
     "hide-cell"
    ]
   },
   "outputs": [],
   "source": [
    "try:\n",
    "    import tinygp\n",
    "except ImportError:\n",
    "    %pip install -q tinygp\n",
    "    import tinygp\n",
    "\n",
    "try:\n",
    "    from statsmodels.datasets import co2\n",
    "except ModuleNotFoundError:\n",
    "    %pip install -qq statsmodels\n",
    "    from statsmodels.datasets import co2\n",
    "\n",
    "\n",
    "import jax\n",
    "import jax.numpy as jnp\n",
    "from tinygp import kernels, transforms, GaussianProcess\n",
    "from jax.config import config\n",
    "from scipy.optimize import minimize\n",
    "import matplotlib.pyplot as plt\n",
    "import seaborn as sns\n",
    "\n",
    "try:\n",
    "    from probml_utils import latexify, savefig, is_latexify_enabled\n",
    "except ModuleNotFoundError:\n",
    "    %pip install git+https://github.com/probml/probml-utils.git\n",
    "    from probml_utils import latexify, savefig, is_latexify_enabled\n",
    "\n",
    "\n",
    "latexify(width_scale_factor=2, fig_height=2)\n",
    "config.update(\"jax_enable_x64\", True)\n",
    "\n",
    "marksize = 6 if is_latexify_enabled() else 50"
   ]
  },
  {
   "cell_type": "markdown",
   "id": "polish-inquiry",
   "metadata": {
    "id": "polish-inquiry"
   },
   "source": [
    "### Data\n",
    "\n",
    "The data are measurements of the atmospheric CO2 concentration made at Mauna Loa, Hawaii (Keeling & Whorf 2004).\n",
    "Data can be found at  http://scrippsco2.ucsd.edu/data/atmospheric_co2/primary_mlo_co2_record. We use the [statsmodels version](http://statsmodels.sourceforge.net/devel/datasets/generated/co2.html].\n",
    " "
   ]
  },
  {
   "cell_type": "code",
   "execution_count": null,
   "id": "physical-sarah",
   "metadata": {
    "colab": {
     "base_uri": "https://localhost:8080/",
     "height": 334
    },
    "id": "physical-sarah",
    "outputId": "27f4e4e5-b015-4f15-9a0c-d16d1e2da58d"
   },
   "outputs": [],
   "source": [
    "data = co2.load_pandas().data\n",
    "t = 2000 + (jnp.array(data.index.to_julian_date()) - 2451545.0) / 365.25\n",
    "y = jnp.array(data.co2)\n",
    "m = jnp.isfinite(t) & jnp.isfinite(y) & (t < 1996)\n",
    "t, y = t[m][::4], y[m][::4]\n",
    "plt.figure()\n",
    "plt.scatter(t, y, s=marksize, c=\"k\", marker=\".\", label=\"Data\")\n",
    "sns.despine()\n",
    "plt.xlabel(\"year\")\n",
    "plt.ylabel(\"CO$_2$ in ppm\")\n",
    "plt.legend(frameon=False)\n",
    "savefig(\"gp-mauna-loa-data\")"
   ]
  },
  {
   "cell_type": "markdown",
   "id": "cFZwmTyInJw_",
   "metadata": {
    "id": "cFZwmTyInJw_"
   },
   "source": [
    "### Kernel"
   ]
  },
  {
   "cell_type": "markdown",
   "id": "4bae6bac-8d04-4343-8db3-ab90a02a5d7c",
   "metadata": {
    "id": "4bae6bac-8d04-4343-8db3-ab90a02a5d7c"
   },
   "source": [
    "In this figure, you can see that there is periodic (or quasi-periodic) signal with a year-long period superimposed on a long term trend. We will follow R&W and model these effects non-parametrically using a complicated covariance function. The covariance function that we’ll use is:\n",
    "\n",
    "$$k(r) = k_1(r) + k_2(r) + k_3(r) + k_4(r)$$\n",
    "\n",
    "where\n",
    "\n",
    "$$\n",
    "\\begin{eqnarray}\n",
    "    k_1(r) &=& \\theta_0^2 \\, \\exp \\left(-\\frac{r^2}{2\\,\\theta_1^2} \\right) \\\\\n",
    "    k_2(r) &=& \\theta_2^2 \\, \\exp \\left(-\\frac{r^2}{2\\,\\theta_3^2}\n",
    "                                         -\\theta_5\\,\\sin^2\\left(\n",
    "                                         \\frac{\\pi\\,r}{\\theta_4}\\right)\n",
    "                                        \\right) \\\\\n",
    "    k_3(r) &=& \\theta_6^2 \\, \\left [ 1 + \\frac{r^2}{2\\,\\theta_7^2\\,\\theta_8}\n",
    "                             \\right ]^{-\\theta_8} \\\\\n",
    "    k_4(r) &=& \\theta_{9}^2 \\, \\exp \\left(-\\frac{r^2}{2\\,\\theta_{10}^2} \\right)\n",
    "                + \\theta_{11}^2\\,\\delta_{ij}\n",
    "\\end{eqnarray}\n",
    "$$\n",
    "\n",
    "We can implement this kernel in `tinygp` as follows (we'll use the R&W results as the hyperparameters for now):"
   ]
  },
  {
   "cell_type": "code",
   "execution_count": null,
   "id": "excessive-reading",
   "metadata": {
    "id": "excessive-reading"
   },
   "outputs": [],
   "source": [
    "def build_gp(theta, X):\n",
    "    mean = theta[-1]\n",
    "\n",
    "    # We want most of out parameters to be positive so we take the `exp` here\n",
    "    theta = jnp.exp(theta[:-1])\n",
    "\n",
    "    # Construct the kernel by multiplying and adding `Kernel` objects\n",
    "    k1 = theta[0] ** 2 * kernels.ExpSquared(theta[1])\n",
    "    k2 = theta[2] ** 2 * kernels.ExpSquared(theta[3]) * kernels.ExpSineSquared(scale=theta[4], gamma=theta[5])\n",
    "    k3 = theta[6] ** 2 * kernels.RationalQuadratic(alpha=theta[7], scale=theta[8])\n",
    "    k4 = theta[9] ** 2 * kernels.ExpSquared(theta[10])\n",
    "    kernel = k1 + k2 + k3 + k4\n",
    "\n",
    "    return GaussianProcess(kernel, X, diag=theta[11] ** 2, mean=mean)\n",
    "\n",
    "\n",
    "def neg_log_likelihood(theta, X, y):\n",
    "    gp = build_gp(theta, X)\n",
    "    return -gp.log_probability(y)"
   ]
  },
  {
   "cell_type": "markdown",
   "id": "aQv5T4mLnMgg",
   "metadata": {
    "id": "aQv5T4mLnMgg"
   },
   "source": [
    "### Model fitting"
   ]
  },
  {
   "cell_type": "code",
   "execution_count": null,
   "id": "p1CF5wqZnPN9",
   "metadata": {
    "id": "p1CF5wqZnPN9"
   },
   "outputs": [],
   "source": [
    "# Objective\n",
    "obj = jax.jit(jax.value_and_grad(neg_log_likelihood))\n",
    "\n",
    "# These are the parameters from R&W\n",
    "mean_output = 340.0\n",
    "theta_init = jnp.append(\n",
    "    jnp.log(jnp.array([66.0, 67.0, 2.4, 90.0, 1.0, 4.3, 0.66, 1.2, 0.78, 0.18, 1.6, 0.19])),\n",
    "    mean_output,\n",
    ")"
   ]
  },
  {
   "cell_type": "code",
   "execution_count": null,
   "id": "S75aMtGyYdgf",
   "metadata": {
    "colab": {
     "base_uri": "https://localhost:8080/"
    },
    "id": "S75aMtGyYdgf",
    "outputId": "3d3053c7-7579-4ab1-b486-d4aa55f5980e"
   },
   "outputs": [],
   "source": [
    "obj(theta_init, t, y)"
   ]
  },
  {
   "cell_type": "markdown",
   "id": "9d1c26a8-e760-4f57-8744-e1b8159540f2",
   "metadata": {
    "id": "9d1c26a8-e760-4f57-8744-e1b8159540f2"
   },
   "source": [
    "\n",
    "\n",
    "Using our loss function defined above, we'll run a gradient based optimization routine from `scipy` (you could also use a `jax`-specific optimizer, but that's not necessary) to fit this model as follows:"
   ]
  },
  {
   "cell_type": "code",
   "execution_count": null,
   "id": "verified-island",
   "metadata": {
    "colab": {
     "base_uri": "https://localhost:8080/"
    },
    "id": "verified-island",
    "outputId": "2ce9b700-b2d4-4876-faf0-0685785da910"
   },
   "outputs": [],
   "source": [
    "soln = minimize(obj, theta_init, jac=True, args=(t, y))\n",
    "print(f\"Final negative log likelihood: {soln.fun}\")"
   ]
  },
  {
   "cell_type": "markdown",
   "id": "a2cab9bd-7d38-429f-9923-50836e470587",
   "metadata": {
    "id": "a2cab9bd-7d38-429f-9923-50836e470587"
   },
   "source": [
    "**Warning:** *An optimization code something like this should work on most problems but the results can be very sensitive to your choice of initialization and algorithm. If the results are nonsense, try choosing a better initial guess or try a different value of the ``method`` parameter in ``op.minimize``.*\n",
    "\n"
   ]
  },
  {
   "cell_type": "markdown",
   "id": "xSJU6dH-nU3c",
   "metadata": {
    "id": "xSJU6dH-nU3c"
   },
   "source": [
    "### Plot results"
   ]
  },
  {
   "cell_type": "code",
   "execution_count": null,
   "id": "latin-weather",
   "metadata": {
    "colab": {
     "base_uri": "https://localhost:8080/",
     "height": 279
    },
    "id": "latin-weather",
    "outputId": "598eb9e2-64c8-4e58-c13f-69e7c7cb1725"
   },
   "outputs": [],
   "source": [
    "x = jnp.linspace(max(t), 2025, 2000)\n",
    "gp = build_gp(soln.x, t)\n",
    "gp_condition = gp.condition(y, x).gp\n",
    "mu, var = gp_condition.loc, gp_condition.variance\n",
    "plt.figure()\n",
    "plt.scatter(t, y, s=marksize, c=\"k\", marker=\".\", label=\"Data\")\n",
    "plt.plot(x, mu, color=\"C0\", label=\"Mean\")\n",
    "plt.fill_between(x, mu + jnp.sqrt(var), mu - jnp.sqrt(var), color=\"C0\", alpha=0.5, label=\"Confidence\")\n",
    "sns.despine()\n",
    "plt.xlabel(\"year\")\n",
    "plt.ylabel(\"CO$_2$ in ppm\")\n",
    "plt.legend(prop={\"size\": 5}, frameon=False)\n",
    "savefig(\"gp-mauna-loa-pred\")"
   ]
  }
 ],
 "metadata": {
  "accelerator": "GPU",
  "colab": {
   "include_colab_link": true,
   "name": "gp-mauna-loa.ipynb",
   "provenance": [],
   "toc_visible": true
  },
  "kernelspec": {
   "display_name": "Python 3.10.4 ('PyroNB')",
   "language": "python",
   "name": "python3"
  },
  "language_info": {
   "codemirror_mode": {
    "name": "ipython",
    "version": 3
   },
   "file_extension": ".py",
   "mimetype": "text/x-python",
   "name": "python",
   "nbconvert_exporter": "python",
   "pygments_lexer": "ipython3",
   "version": "3.10.4"
  },
  "vscode": {
   "interpreter": {
    "hash": "541be09f5402c733300b7f8bd26f7b397ff878a73a38074dfa6f900d5dc8ce66"
   }
  }
 },
 "nbformat": 4,
 "nbformat_minor": 5
}
