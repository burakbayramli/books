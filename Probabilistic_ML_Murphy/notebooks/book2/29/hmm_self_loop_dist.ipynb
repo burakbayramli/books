{
 "cells": [
  {
   "cell_type": "code",
   "execution_count": 1,
   "id": "b5661586",
   "metadata": {},
   "outputs": [],
   "source": [
    "# Hidden Markov Model with self loops\n",
    "# Author: Drishtii@\n",
    "# Based on\n",
    "# https://github.com/probml/pmtk3/blob/master/demos/hmmSelfLoopDist.m\n",
    "\n",
    "try:\n",
    "    import probml_utils as pml\n",
    "except ModuleNotFoundError:\n",
    "    %pip install git+https://github.com/probml/probml-utils.git\n",
    "    import probml_utils as pml\n",
    "\n",
    "import numpy as np\n",
    "import seaborn as sns\n",
    "import matplotlib.pyplot as plt\n",
    "import pandas as pd\n",
    "from scipy.stats import nbinom\n",
    "import math"
   ]
  },
  {
   "cell_type": "code",
   "execution_count": 2,
   "id": "a5483308",
   "metadata": {},
   "outputs": [
    {
     "name": "stderr",
     "output_type": "stream",
     "text": [
      "/home/patel_karm/sendbox/probml-utils/probml_utils/plotting.py:26: UserWarning: LATEXIFY environment variable not set, not latexifying\n",
      "  warnings.warn(\"LATEXIFY environment variable not set, not latexifying\")\n"
     ]
    }
   ],
   "source": [
    "# import os\n",
    "# os.environ[\"LATEXIFY\"] = \"\"\n",
    "# os.environ[\"FIG_DIR\"] = \"figures\"\n",
    "pml.latexify(width_scale_factor=2)"
   ]
  },
  {
   "cell_type": "code",
   "execution_count": 3,
   "id": "98663d5d",
   "metadata": {},
   "outputs": [
    {
     "name": "stderr",
     "output_type": "stream",
     "text": [
      "/home/patel_karm/sendbox/probml-utils/probml_utils/plotting.py:80: UserWarning: set FIG_DIR environment variable to save figures\n",
      "  warnings.warn(\"set FIG_DIR environment variable to save figures\")\n"
     ]
    },
    {
     "data": {
      "image/png": "[encoded data removed]",
      "text/plain": [
       "<Figure size 432x288 with 1 Axes>"
      ]
     },
     "metadata": {
      "needs_background": "light"
     },
     "output_type": "display_data"
    }
   ],
   "source": [
    "Ls = np.linspace(1, 600, 100).astype(int)  # path lengths\n",
    "ns = np.array([1, 2, 5])  # nos. of nodes\n",
    "p = 0.99  # self-loop probability\n",
    "\n",
    "\n",
    "def binomial(n, k):\n",
    "    return math.log(math.factorial(n) // math.factorial(k) // math.factorial(n - k))\n",
    "\n",
    "\n",
    "def plot_nbinom_dist(ns, Ls, p):\n",
    "    logp = np.log(p)\n",
    "    logq = np.log(1 - p)\n",
    "    h = np.zeros((len(ns), 1))\n",
    "    for i in range(len(ns)):\n",
    "        n = ns[i]\n",
    "        ps = np.zeros((len(Ls), 1))\n",
    "        for j in range(len(Ls)):\n",
    "            L = Ls[j]\n",
    "            if L >= n:\n",
    "                ps[j] = np.exp(binomial(L - 1, n - 1) + (L - n) * logp + n * logq)\n",
    "        plt.ylim(0, 0.011)\n",
    "        plt.plot(Ls, ps)\n",
    "\n",
    "\n",
    "# Negative Binomial Distribution:\n",
    "plot_nbinom_dist(ns, Ls, p)\n",
    "plt.legend([\"$n=1$\", \"$n=2$\", \"$n=5$\"])\n",
    "sns.despine()\n",
    "pml.savefig(\"hmm_self_loop.pdf\")\n",
    "plt.show()"
   ]
  },
  {
   "cell_type": "code",
   "execution_count": null,
   "id": "2418de51",
   "metadata": {},
   "outputs": [],
   "source": []
  }
 ],
 "metadata": {
  "kernelspec": {
   "display_name": "Python [conda env:py3713]",
   "language": "python",
   "name": "conda-env-py3713-py"
  },
  "language_info": {
   "codemirror_mode": {
    "name": "ipython",
    "version": 3
   },
   "file_extension": ".py",
   "mimetype": "text/x-python",
   "name": "python",
   "nbconvert_exporter": "python",
   "pygments_lexer": "ipython3",
   "version": "3.7.13"
  }
 },
 "nbformat": 4,
 "nbformat_minor": 5
}
