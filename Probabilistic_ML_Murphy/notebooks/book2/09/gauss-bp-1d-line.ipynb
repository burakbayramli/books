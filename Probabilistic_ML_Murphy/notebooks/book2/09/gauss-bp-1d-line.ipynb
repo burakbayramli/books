{
 "cells": [
  {
   "cell_type": "markdown",
   "id": "240093cc",
   "metadata": {},
   "source": [
    "Source of this notebook is here: https://colab.research.google.com/github/probml/pgm-jax/blob/main/gaussian-loopy-bp/gauss-bp-1d-line.ipynb"
   ]
  }
 ],
 "metadata": {
  "kernelspec": {
   "display_name": "Python [conda env:pyprobml]",
   "language": "python",
   "name": "conda-env-pyprobml-py"
  },
  "language_info": {
   "codemirror_mode": {
    "name": "ipython",
    "version": 3
   },
   "file_extension": ".py",
   "mimetype": "text/x-python",
   "name": "python",
   "nbconvert_exporter": "python",
   "pygments_lexer": "ipython3",
   "version": "3.7.13"
  }
 },
 "nbformat": 4,
 "nbformat_minor": 5
}
