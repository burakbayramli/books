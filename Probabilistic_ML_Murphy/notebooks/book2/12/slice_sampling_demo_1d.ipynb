{
 "cells": [
  {
   "cell_type": "code",
   "execution_count": 1,
   "id": "083240f5",
   "metadata": {},
   "outputs": [],
   "source": [
    "# -*- coding: utf-8 -*-\n",
    "\"\"\"\n",
    "Author : Ang Ming Liang\n",
    "\n",
    "This code is based on https://github.com/probml/pmtk3/blob/master/demos/sliceSamplingDemo1d.m\n",
    "\"\"\"\n",
    "\n",
    "\n",
    "import numpy as np\n",
    "import matplotlib.pyplot as plt\n",
    "\n",
    "try:\n",
    "    import probml_utils as pml\n",
    "except ModuleNotFoundError:\n",
    "    %pip install -qq git+https://github.com/probml/probml-utils.git\n",
    "    import probml_utils as pml\n",
    "\n",
    "from probml_utils.mcmc_utils import slice_sample\n",
    "import seaborn as sns"
   ]
  },
  {
   "cell_type": "code",
   "execution_count": 2,
   "id": "c0e8c496",
   "metadata": {},
   "outputs": [],
   "source": [
    "# import os\n",
    "# os.environ[\"LATEXIFY\"] = \"\"\n",
    "# os.environ[\"FIG_DIR\"] = \"figures\""
   ]
  },
  {
   "cell_type": "code",
   "execution_count": 3,
   "id": "b28e5082",
   "metadata": {},
   "outputs": [
    {
     "name": "stderr",
     "output_type": "stream",
     "text": [
      "/home/patel_karm/anaconda3/envs/py3713_2/lib/python3.7/site-packages/probml_utils/plotting.py:26: UserWarning: LATEXIFY environment variable not set, not latexifying\n",
      "  warnings.warn(\"LATEXIFY environment variable not set, not latexifying\")\n"
     ]
    }
   ],
   "source": [
    "pml.latexify(width_scale_factor=2, fig_height=1.5)"
   ]
  },
  {
   "cell_type": "code",
   "execution_count": 4,
   "id": "0d7646c2",
   "metadata": {},
   "outputs": [
    {
     "name": "stderr",
     "output_type": "stream",
     "text": [
      "100%|██████████| 4000/4000 [00:00<00:00, 8117.06it/s]\n",
      "/home/patel_karm/anaconda3/envs/py3713_2/lib/python3.7/site-packages/probml_utils/plotting.py:80: UserWarning: set FIG_DIR environment variable to save figures\n",
      "  warnings.warn(\"set FIG_DIR environment variable to save figures\")\n"
     ]
    },
    {
     "data": {
      "image/png": "[encoded data removed]",
      "text/plain": [
       "<Figure size 432x288 with 1 Axes>"
      ]
     },
     "metadata": {
      "needs_background": "light"
     },
     "output_type": "display_data"
    }
   ],
   "source": [
    "seed = 123\n",
    "rng = np.random.default_rng(seed)\n",
    "\n",
    "\n",
    "def pdf(x):\n",
    "    return np.exp(-(x**2) / 2) * (1 + (np.sin(3 * x)) ** 2) * (1 + (np.cos(5 * x)) ** 2)\n",
    "\n",
    "\n",
    "def logpdf(x):\n",
    "    return np.log(pdf(x))\n",
    "\n",
    "\n",
    "x = np.array([1.0])\n",
    "out = slice_sample(x, logpdf, iters=4000, sigma=5, burnin=1000, rng=rng)\n",
    "\n",
    "fig, ax = plt.subplots()\n",
    "\n",
    "# Set dim of the figure\n",
    "ax.set_xlim(-5, 4)\n",
    "ax.set_ylim(0, 180)\n",
    "\n",
    "# Plt histogram\n",
    "bin = ax.hist(out[0], bins=75, ec=\"black\", lw=0.5)\n",
    "\n",
    "xd = bin[1]  # Get bins size\n",
    "binwidth = xd[1] - xd[0]  # Finds the width of each bin\n",
    "\n",
    "y = 563.98 * binwidth * pdf(np.linspace(-5, 4, 1000))\n",
    "ax.plot(np.linspace(-5, 4, 1000), y, \"r\")\n",
    "ax.set_xlabel(\"$x$\")\n",
    "ax.set_ylabel(\"$p(x)$\")\n",
    "\n",
    "sns.despine()\n",
    "pml.savefig(\"sliceSamplingDemo1d.pdf\")"
   ]
  },
  {
   "cell_type": "code",
   "execution_count": null,
   "id": "037add30",
   "metadata": {},
   "outputs": [],
   "source": []
  }
 ],
 "metadata": {
  "kernelspec": {
   "display_name": "Python [conda env:py3713_2]",
   "language": "python",
   "name": "conda-env-py3713_2-py"
  },
  "language_info": {
   "codemirror_mode": {
    "name": "ipython",
    "version": 3
   },
   "file_extension": ".py",
   "mimetype": "text/x-python",
   "name": "python",
   "nbconvert_exporter": "python",
   "pygments_lexer": "ipython3",
   "version": "3.7.13"
  }
 },
 "nbformat": 4,
 "nbformat_minor": 5
}
