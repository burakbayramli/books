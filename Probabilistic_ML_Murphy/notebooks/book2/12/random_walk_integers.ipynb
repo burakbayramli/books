{
 "cells": [
  {
   "cell_type": "markdown",
   "id": "a2d4b8ea",
   "metadata": {},
   "source": [
    "# Symmetric random walk on uniform distribution"
   ]
  },
  {
   "cell_type": "code",
   "execution_count": 1,
   "id": "85542952",
   "metadata": {},
   "outputs": [],
   "source": [
    "# Example from section 29.4 & 29.6 (Fig 29.14 & 29.15) of https://www.inference.org.uk/itprnn/book.pdf\n",
    "try:\n",
    "    import probml_utils as pml\n",
    "except ModuleNotFoundError:\n",
    "    %pip install -qq git+https://github.com/probml/probml-utils.git\n",
    "    import probml_utils as pml\n",
    "\n",
    "import matplotlib.pyplot as plt\n",
    "import jax.numpy as jnp\n",
    "import seaborn as sns\n",
    "import os"
   ]
  },
  {
   "cell_type": "code",
   "execution_count": 5,
   "id": "9d56e221",
   "metadata": {},
   "outputs": [
    {
     "name": "stderr",
     "output_type": "stream",
     "text": [
      "/home/patel_zeel/miniconda3/envs/py3713_2/lib/python3.7/site-packages/probml_utils/plotting.py:26: UserWarning: LATEXIFY environment variable not set, not latexifying\n",
      "  warnings.warn(\"LATEXIFY environment variable not set, not latexifying\")\n"
     ]
    }
   ],
   "source": [
    "pml.latexify(width_scale_factor=2.2, fig_height=2)"
   ]
  },
  {
   "cell_type": "markdown",
   "id": "ce4f9876",
   "metadata": {},
   "source": [
    "We genereate samples from following distribution\n",
    "$$\n",
    "P(x)= \\begin{cases}1 / 21 & x \\in\\{0,1,2, \\ldots, 20\\} \\\\ 0 & \\text { otherwise. }\\end{cases}\n",
    "$$\n",
    "The proposal distribution is\n",
    "$$\n",
    "Q\\left(x^{\\prime} ; x\\right)= \\begin{cases}1 / 2 & x^{\\prime}=x \\pm 1, x \\in\\{1,2, \\ldots, 19\\} \\\\ 1 / 2 & x' = \\{0,1\\}, x = 0  \\\\1 / 2 &x' = \\{20, 19\\}, x=20 \\\\ 0 & \\text { otherwise. }\\end{cases}\n",
    "$$"
   ]
  },
  {
   "cell_type": "code",
   "execution_count": 6,
   "id": "60a0a67c",
   "metadata": {},
   "outputs": [],
   "source": [
    "# create transition matrix\n",
    "prob_vect = jnp.repeat(0.5, 20)\n",
    "transition_mat = jnp.diag(prob_vect, -1) + jnp.diag(prob_vect, 1)\n",
    "transition_mat = transition_mat.at[0, 0].set(0.5)\n",
    "transition_mat = transition_mat.at[20, 20].set(0.5)\n",
    "\n",
    "states = [0, 1, 2, 3, 10, 100, 200, 400]\n",
    "MARKER_SIZE = 2 if pml.is_latexify_enabled() else 4"
   ]
  },
  {
   "cell_type": "code",
   "execution_count": 19,
   "id": "3e2e1364",
   "metadata": {},
   "outputs": [],
   "source": [
    "def calculate_q_at_state_no(state_no, p_initial, transition_mat):\n",
    "    transition_mat_at_state_no = jnp.linalg.matrix_power(transition_mat, state_no)\n",
    "    q = jnp.matmul(transition_mat_at_state_no, p_initial)  # q = p_initial * T^n = transpose(T)^n * p_initial\n",
    "    return q"
   ]
  },
  {
   "cell_type": "code",
   "execution_count": 8,
   "id": "5550e614",
   "metadata": {},
   "outputs": [],
   "source": [
    "def plot_stem(ax):\n",
    "    markerline, stemlines, baseline = ax.stem(q, markerfmt=\"ro\", linefmt=\"blue\")\n",
    "    ax.set_yticks([])\n",
    "    ax.set_ylim(0, max(q) * 1.13)\n",
    "    ax.set_ylabel(\"$p_{\" + str(state_no) + \"}(x)$\", fontdict={\"rotation\": 0}, labelpad=13)\n",
    "    baseline.set_linewidth(0)\n",
    "    stemlines.set_linewidth(1)\n",
    "    markerline.set_markersize(MARKER_SIZE)\n",
    "    sns.despine()"
   ]
  },
  {
   "cell_type": "markdown",
   "id": "8883cc66",
   "metadata": {},
   "source": [
    "## $x_0 = 10$"
   ]
  },
  {
   "cell_type": "code",
   "execution_count": 17,
   "id": "74dc9505",
   "metadata": {},
   "outputs": [
    {
     "data": {
      "text/plain": [
       "DeviceArray([0, 0, 0, 0, 0, 0, 0, 0, 0, 0, 1, 0, 0, 0, 0, 0, 0, 0, 0, 0,\n",
       "             0], dtype=int32)"
      ]
     },
     "execution_count": 17,
     "metadata": {},
     "output_type": "execute_result"
    }
   ],
   "source": [
    "x_0 = 10  # initial state\n",
    "p_initial = [0] * 21\n",
    "p_initial[x_0] = 1\n",
    "p_initial = jnp.array(p_initial)\n",
    "p_initial"
   ]
  },
  {
   "cell_type": "code",
   "execution_count": 18,
   "id": "dc0904ea",
   "metadata": {},
   "outputs": [
    {
     "data": {
      "image/png": "[encoded data removed]",
      "text/plain": [
       "<Figure size 432x288 with 8 Axes>"
      ]
     },
     "metadata": {
      "needs_background": "light"
     },
     "output_type": "display_data"
    }
   ],
   "source": [
    "fig, axs = plt.subplots(len(states), 1)\n",
    "axs[0].set_title(f\"Initial Condition $x_0 = {x_0}$\")\n",
    "for ind, state_no in enumerate(states):\n",
    "    q = calculate_q_at_state_no(\n",
    "        state_no, p_initial, transition_mat\n",
    "    )  # q is proposed probabilities for p(x) on particular markov state\n",
    "    plot_stem(axs[ind])\n",
    "    if state_no != states[-1]:\n",
    "        axs[ind].set_xticks([])\n",
    "    else:\n",
    "        axs[ind].set_xticks(range(0, 21, 5))\n",
    "        axs[ind].set_xlabel(\"$x$\")\n",
    "\n",
    "pml.savefig(f\"randomWalk{x_0}\")"
   ]
  },
  {
   "cell_type": "code",
   "execution_count": 16,
   "id": "e7ed5134",
   "metadata": {},
   "outputs": [
    {
     "name": "stdout",
     "output_type": "stream",
     "text": [
      "0.99999994 0.047619047619047616 [0.04665894 0.04683788 0.04656532 0.04708623 0.04656531 0.04738191\n",
      " 0.04665894 0.04769868 0.04683788 0.04800836 0.04708624 0.04828346\n",
      " 0.04738192 0.04849952 0.04769868 0.04863734 0.04800837 0.04868469\n",
      " 0.04828347 0.04863734 0.04849952]\n"
     ]
    }
   ],
   "source": [
    "print(sum(q), 1 / 21, q)"
   ]
  },
  {
   "cell_type": "markdown",
   "id": "41f32c3c",
   "metadata": {},
   "source": [
    "## $x_0 = 17$"
   ]
  },
  {
   "cell_type": "code",
   "execution_count": 11,
   "id": "737d9513",
   "metadata": {},
   "outputs": [
    {
     "data": {
      "text/plain": [
       "DeviceArray([0, 0, 0, 0, 0, 0, 0, 0, 0, 0, 0, 0, 0, 0, 0, 0, 0, 1, 0, 0,\n",
       "             0], dtype=int32)"
      ]
     },
     "execution_count": 11,
     "metadata": {},
     "output_type": "execute_result"
    }
   ],
   "source": [
    "x_0 = 17  # initial state\n",
    "p_initial = [0] * 21\n",
    "p_initial[x_0] = 1\n",
    "p_initial = jnp.array(p_initial)\n",
    "p_initial"
   ]
  },
  {
   "cell_type": "code",
   "execution_count": 12,
   "id": "d7b692ab",
   "metadata": {},
   "outputs": [
    {
     "data": {
      "image/png": "[encoded data removed]",
      "text/plain": [
       "<Figure size 432x288 with 8 Axes>"
      ]
     },
     "metadata": {
      "needs_background": "light"
     },
     "output_type": "display_data"
    }
   ],
   "source": [
    "fig, axs = plt.subplots(len(states), 1)\n",
    "axs[0].set_title(f\"Initial Condition $x_0 = {x_0}$\")\n",
    "for ind, state_no in enumerate(states):\n",
    "    ax = axs[ind]\n",
    "    q = calculate_q_at_state_no(state_no, p_initial, transition_mat)\n",
    "    plot_stem(ax)\n",
    "    if state_no != states[-1]:\n",
    "        axs[ind].set_xticks([])\n",
    "    else:\n",
    "        axs[ind].set_xticks(range(0, 21, 5))\n",
    "        axs[ind].set_xlabel(\"$x$\")\n",
    "\n",
    "pml.savefig(f\"randomWalk{x_0}\")"
   ]
  },
  {
   "cell_type": "code",
   "execution_count": 13,
   "id": "d5597ff1",
   "metadata": {},
   "outputs": [
    {
     "name": "stdout",
     "output_type": "stream",
     "text": [
      "0.99999994 0.047619047619047616 [0.04665894 0.04683788 0.04656532 0.04708623 0.04656531 0.04738191\n",
      " 0.04665894 0.04769868 0.04683788 0.04800836 0.04708624 0.04828346\n",
      " 0.04738192 0.04849952 0.04769868 0.04863734 0.04800837 0.04868469\n",
      " 0.04828347 0.04863734 0.04849952]\n"
     ]
    }
   ],
   "source": [
    "print(sum(q), 1 / 21, q)"
   ]
  },
  {
   "cell_type": "code",
   "execution_count": null,
   "id": "47368c19",
   "metadata": {},
   "outputs": [],
   "source": []
  }
 ],
 "metadata": {
  "kernelspec": {
   "display_name": "Python [conda env:py3713_2]",
   "language": "python",
   "name": "conda-env-py3713_2-py"
  },
  "language_info": {
   "codemirror_mode": {
    "name": "ipython",
    "version": 3
   },
   "file_extension": ".py",
   "mimetype": "text/x-python",
   "name": "python",
   "nbconvert_exporter": "python",
   "pygments_lexer": "ipython3",
   "version": "3.7.13"
  },
  "varInspector": {
   "cols": {
    "lenName": 16,
    "lenType": 16,
    "lenVar": 40
   },
   "kernels_config": {
    "python": {
     "delete_cmd_postfix": "",
     "delete_cmd_prefix": "del ",
     "library": "var_list.py",
     "varRefreshCmd": "print(var_dic_list())"
    },
    "r": {
     "delete_cmd_postfix": ") ",
     "delete_cmd_prefix": "rm(",
     "library": "var_list.r",
     "varRefreshCmd": "cat(var_dic_list()) "
    }
   },
   "types_to_exclude": [
    "module",
    "function",
    "builtin_function_or_method",
    "instance",
    "_Feature"
   ],
   "window_display": false
  }
 },
 "nbformat": 4,
 "nbformat_minor": 5
}
