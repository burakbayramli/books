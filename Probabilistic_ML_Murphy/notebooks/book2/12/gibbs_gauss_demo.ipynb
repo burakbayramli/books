{
 "cells": [
  {
   "cell_type": "code",
   "execution_count": 1,
   "id": "f1e573f1",
   "metadata": {},
   "outputs": [],
   "source": [
    "# Illustration of gibbs sampling for 2-dim Gaussian\n",
    "# Author: Gerardo Durán-Martín\n",
    "# Translated from gibbsGaussDemo.m\n",
    "\n",
    "\n",
    "import numpy as np\n",
    "import matplotlib.pyplot as plt\n",
    "from scipy.stats import multivariate_normal, norm\n",
    "\n",
    "try:\n",
    "    import probml_utils as pml\n",
    "except ModuleNotFoundError:\n",
    "    %pip install -qq git+https://github.com/probml/probml-utils.git\n",
    "    import probml_utils as pml\n",
    "import os"
   ]
  },
  {
   "cell_type": "code",
   "execution_count": 2,
   "id": "a4143d86",
   "metadata": {},
   "outputs": [],
   "source": [
    "os.environ[\"LATEXIFY\"] = \"\"\n",
    "os.environ[\"FIG_DIR\"] = \"figures\""
   ]
  },
  {
   "cell_type": "code",
   "execution_count": 3,
   "id": "b53adb4f",
   "metadata": {},
   "outputs": [],
   "source": [
    "pml.latexify(width_scale_factor=2)"
   ]
  },
  {
   "cell_type": "code",
   "execution_count": 4,
   "id": "07486982",
   "metadata": {},
   "outputs": [
    {
     "name": "stderr",
     "output_type": "stream",
     "text": [
      "/home/patel_karm/sendbox/probml-utils/probml_utils/plotting.py:71: UserWarning: renaming figures/gmm_singularity.pdf to figures/gmm_singularity_latexified.pdf because LATEXIFY is True\n",
      "  f\"renaming {fname_full} to {fname}{extention} because LATEXIFY is {LATEXIFY}\",\n"
     ]
    },
    {
     "name": "stdout",
     "output_type": "stream",
     "text": [
      "saving image to figures/gmm_singularity_latexified.pdf\n",
      "Figure size: [3.  1.5]\n"
     ]
    }
   ],
   "source": [
    "μ = np.zeros(2)\n",
    "Σ = np.array([[1, 0.99], [0.99, 1]])\n",
    "mvn = multivariate_normal(μ, Σ)\n",
    "\n",
    "# Plot one contour of the multivariate normal\n",
    "X = np.mgrid[-3:3:0.01, -3:3:0.01]\n",
    "density = np.apply_along_axis(mvn.pdf, 0, X)\n",
    "\n",
    "# Gibbs-Sampling path\n",
    "blue_seq = (\n",
    "    np.array(\n",
    "        [\n",
    "            [-1 / 2, -1],\n",
    "            [-1 / 2, 0],\n",
    "            [1, 0],\n",
    "            [1, 1],\n",
    "            [-1 / 2, 1],\n",
    "            [-1 / 2, 1 / 2],\n",
    "            [1.5, 1 / 2],\n",
    "            [1.5, 1.5],\n",
    "        ]\n",
    "    )\n",
    "    / 3\n",
    ")\n",
    "\n",
    "# Compute marginal parameters x0|x1\n",
    "x0_range = np.arange(-2, 2, 0.01)\n",
    "x0_obs = 0.7\n",
    "Σ0_cond = Σ[0, 0] - Σ[0, 1] * Σ[1, 0] / Σ[1, 1]\n",
    "μ0_cond = μ[0] + Σ[0, 1] * (x0_obs - μ[1]) / Σ[1, 1]\n",
    "\n",
    "plt.plot(*blue_seq.T)\n",
    "plt.contour(*X, density, levels=[0.07], colors=\"tab:red\")\n",
    "plt.xlim(-3, 3)\n",
    "plt.ylim(-3, 3)\n",
    "plt.scatter(0, 0, marker=\"x\", c=\"tab:red\", s=300)\n",
    "plt.text(0, 1.7, \"L\", size=11)\n",
    "plt.text(1.2, -2, \"l\", size=11)\n",
    "plt.annotate(\"\", xy=(-2.5, 1.5), xytext=(2.5, 1.5), arrowprops=dict(arrowstyle=\"<->\"))\n",
    "plt.annotate(\"\", xy=(0.5, -2), xytext=(1, -2), arrowprops=dict(arrowstyle=\"<->\"))\n",
    "# Scaled down and shifted marginal gaussian\n",
    "plt.plot(x0_range, norm(μ0_cond, np.sqrt(Σ0_cond)).pdf(x0_range) * 0.3 - 3, c=\"tab:green\")\n",
    "plt.tight_layout()\n",
    "pml.savefig(\"gmm_singularity.pdf\")\n",
    "plt.show()"
   ]
  },
  {
   "cell_type": "code",
   "execution_count": null,
   "id": "14682bcb",
   "metadata": {},
   "outputs": [],
   "source": []
  }
 ],
 "metadata": {
  "kernelspec": {
   "display_name": "Python [conda env:py3713]",
   "language": "python",
   "name": "conda-env-py3713-py"
  },
  "language_info": {
   "codemirror_mode": {
    "name": "ipython",
    "version": 3
   },
   "file_extension": ".py",
   "mimetype": "text/x-python",
   "name": "python",
   "nbconvert_exporter": "python",
   "pygments_lexer": "ipython3",
   "version": "3.7.13"
  }
 },
 "nbformat": 4,
 "nbformat_minor": 5
}
