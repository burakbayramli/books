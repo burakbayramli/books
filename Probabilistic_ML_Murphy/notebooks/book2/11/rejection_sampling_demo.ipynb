{
 "cells": [
  {
   "cell_type": "code",
   "execution_count": 2,
   "id": "ceeb84c4",
   "metadata": {},
   "outputs": [],
   "source": [
    "# -*- coding: utf-8 -*-\n",
    "\n",
    "\n",
    "from math import floor\n",
    "from numpy import arange\n",
    "from scipy.stats import gamma\n",
    "import matplotlib.pyplot as plt\n",
    "import os\n",
    "import seaborn as sns\n",
    "\n",
    "try:\n",
    "    import probml_utils as pml\n",
    "except ModuleNotFoundError:\n",
    "    %pip install -qq git+https://github.com/probml/probml-utils.git\n",
    "    import probml_utils as pml"
   ]
  },
  {
   "cell_type": "code",
   "execution_count": 3,
   "id": "5f66ca68",
   "metadata": {},
   "outputs": [],
   "source": [
    "os.environ[\"LATEXIFY\"] = \"\"\n",
    "os.environ[\"FIG_DIR\"] = \"figures\"\n",
    "pml.latexify(width_scale_factor=2)"
   ]
  },
  {
   "cell_type": "code",
   "execution_count": 19,
   "id": "fb9188a8",
   "metadata": {},
   "outputs": [
    {
     "name": "stdout",
     "output_type": "stream",
     "text": [
      "saving image to figures/rejectionSamplingDemo_latexified.pdf\n",
      "Figure size: [3.  1.5]\n"
     ]
    },
    {
     "data": {
      "image/png": "[encoded data removed]",
      "text/plain": [
       "<Figure size 216x108 with 1 Axes>"
      ]
     },
     "metadata": {
      "needs_background": "light"
     },
     "output_type": "display_data"
    }
   ],
   "source": [
    "alpha = 5.7\n",
    "lam = 2\n",
    "\n",
    "k = floor(alpha)\n",
    "M = gamma.pdf(alpha - k, alpha, scale=1 / lam) / gamma.pdf(alpha - k, k, scale=1 / (lam - 1))\n",
    "xs = arange(0, 10, 0.01)\n",
    "\n",
    "fig, ax = plt.subplots()\n",
    "ax.set_xlim(0, 10)\n",
    "ax.set_ylim(0, 1.4)\n",
    "ax.plot(xs, gamma.pdf(xs, alpha, scale=1 / lam), \"b-\", label=\"target p(x)\", lw=1)\n",
    "ax.plot(xs, M * gamma.pdf(xs, k, scale=1 / (lam - 1)), \"r:\", label=\"comparison\\nfunction Mq(x)\", lw=1.5)\n",
    "ax.legend(frameon=False, bbox_to_anchor=(0.5, 0.2), fontsize=7)\n",
    "sns.despine()\n",
    "pml.savefig(\"rejectionSamplingDemo_latexified\")\n",
    "plt.show()"
   ]
  },
  {
   "cell_type": "code",
   "execution_count": null,
   "id": "cb44b149",
   "metadata": {},
   "outputs": [],
   "source": []
  }
 ],
 "metadata": {
  "kernelspec": {
   "display_name": "Python [conda env:py3713]",
   "language": "python",
   "name": "conda-env-py3713-py"
  },
  "language_info": {
   "codemirror_mode": {
    "name": "ipython",
    "version": 3
   },
   "file_extension": ".py",
   "mimetype": "text/x-python",
   "name": "python",
   "nbconvert_exporter": "python",
   "pygments_lexer": "ipython3",
   "version": "3.7.13"
  }
 },
 "nbformat": 4,
 "nbformat_minor": 5
}
