{
 "cells": [
  {
   "cell_type": "code",
   "execution_count": null,
   "id": "d7041619",
   "metadata": {},
   "outputs": [],
   "source": [
    "# Control variates demo\n",
    "# https://en.wikipedia.org/wiki/Control_variates\n",
    "\n",
    "\n",
    "import numpy as np\n",
    "\n",
    "np.random.seed(0)\n",
    "\n",
    "N = 1500\n",
    "u = np.random.uniform(size=N)\n",
    "f = 1 / (1 + u)\n",
    "mu_naive = np.mean(f)\n",
    "se_naive = np.sqrt(np.var(f) / N)\n",
    "print(\"naive {:0.4f}, se {:0.4f}\".format(mu_naive, se_naive))\n",
    "\n",
    "# control variate version\n",
    "c = 0.4773\n",
    "g = 1 + u\n",
    "baseline = 3.0 / 2\n",
    "cv = f + c * (g - baseline)\n",
    "mu_cv = np.mean(cv)\n",
    "se_cv = np.sqrt(np.var(cv) / N)\n",
    "print(\"cv {:0.4f}, se {:0.4f}\".format(mu_cv, se_cv))"
   ]
  }
 ],
 "metadata": {},
 "nbformat": 4,
 "nbformat_minor": 5
}
