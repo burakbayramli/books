{
 "cells": [
  {
   "cell_type": "code",
   "execution_count": 1,
   "id": "vlQviTx0QDJD",
   "metadata": {
    "id": "vlQviTx0QDJD"
   },
   "outputs": [],
   "source": [
    "# -*- coding: utf-8 -*-\n",
    "# Author: Ang Ming Liang\n",
    "\n",
    "import numpy as np\n",
    "\n",
    "import matplotlib.pyplot as plt\n",
    "import matplotlib\n",
    "\n",
    "%matplotlib inline\n",
    "\n",
    "import seaborn as sns\n",
    "\n",
    "try:\n",
    "    from arspy.ars import adaptive_rejection_sampling\n",
    "except ModuleNotFoundError:\n",
    "    %pip install -qq arspy\n",
    "    from arspy.ars import adaptive_rejection_sampling\n",
    "\n",
    "try:\n",
    "    from probml_utils import savefig, latexify\n",
    "except ModuleNotFoundError:\n",
    "    %pip install -qq git+https://github.com/probml/probml-utils.git\n",
    "    from probml_utils import savefig, latexify"
   ]
  },
  {
   "cell_type": "code",
   "execution_count": 9,
   "id": "mfJ20HwFQWvF",
   "metadata": {
    "id": "mfJ20HwFQWvF"
   },
   "outputs": [],
   "source": [
    "latexify(width_scale_factor=3, fig_height=1.5)"
   ]
  },
  {
   "cell_type": "code",
   "execution_count": 17,
   "id": "dfc11b96",
   "metadata": {
    "colab": {
     "base_uri": "https://localhost:8080/",
     "height": 468
    },
    "id": "dfc11b96",
    "outputId": "cd791a1d-e316-462e-b691-e1952c092563"
   },
   "outputs": [
    {
     "name": "stdout",
     "output_type": "stream",
     "text": [
      "saving image to ./ars_demo1_latexified.pdf\n",
      "Figure size: [1.96721311 1.5       ]\n"
     ]
    },
    {
     "data": {
      "image/png": "[encoded data removed]",
      "text/plain": [
       "<Figure size 141.639x108 with 1 Axes>"
      ]
     },
     "metadata": {
      "needs_background": "light"
     },
     "output_type": "display_data"
    },
    {
     "name": "stdout",
     "output_type": "stream",
     "text": [
      "saving image to ./ars_demo2_latexified.pdf\n",
      "Figure size: [1.96721311 1.5       ]\n"
     ]
    },
    {
     "data": {
      "image/png": "[encoded data removed]",
      "text/plain": [
       "<Figure size 141.639x108 with 1 Axes>"
      ]
     },
     "metadata": {
      "needs_background": "light"
     },
     "output_type": "display_data"
    }
   ],
   "source": [
    "a, b = -2, 0\n",
    "domain = [-float(\"inf\"), 0]\n",
    "n_samples = 20000\n",
    "sigma = 3\n",
    "\n",
    "\n",
    "def halfgaussian_logpdf(x):\n",
    "    out = np.log(np.exp(-(x**2) / sigma)) * np.heaviside(-x, 1)\n",
    "    return out\n",
    "\n",
    "\n",
    "xs = np.arange(-3 * sigma, 0.01, 0.1)\n",
    "y = np.exp(halfgaussian_logpdf(xs))\n",
    "\n",
    "samples = adaptive_rejection_sampling(logpdf=halfgaussian_logpdf, a=a, b=b, domain=domain, n_samples=n_samples)\n",
    "\n",
    "# Title\n",
    "plt.title(\"f(x) half-gaussian\")\n",
    "\n",
    "# Fix the plot size\n",
    "plt.xlim(-3 * sigma, 3 * sigma)\n",
    "plt.ylim(0, 1)\n",
    "\n",
    "plt.plot(xs, y)\n",
    "plt.xlabel(\"$x$\")\n",
    "plt.ylabel(\"$f(x)$\")\n",
    "sns.despine()\n",
    "savefig(\"ars_demo1\")\n",
    "plt.show()\n",
    "\n",
    "# Title\n",
    "plt.title(\"samples from f(x) (by ARS)\", x=0.45)\n",
    "\n",
    "# Fix the plot size\n",
    "plt.xlim(-3 * sigma, 3 * sigma)\n",
    "plt.ylim(0, 1100)\n",
    "\n",
    "plt.hist(samples, bins=75)\n",
    "plt.xlabel(\"$x$\")\n",
    "plt.ylabel(\"samples\")\n",
    "sns.despine()\n",
    "savefig(\"ars_demo2\")\n",
    "plt.show()"
   ]
  }
 ],
 "metadata": {
  "colab": {
   "name": "ars_demo.ipynb",
   "provenance": []
  },
  "gpuClass": "standard",
  "kernelspec": {
   "display_name": "Python 3 (ipykernel)",
   "language": "python",
   "name": "python3"
  },
  "language_info": {
   "codemirror_mode": {
    "name": "ipython",
    "version": 3
   },
   "file_extension": ".py",
   "mimetype": "text/x-python",
   "name": "python",
   "nbconvert_exporter": "python",
   "pygments_lexer": "ipython3",
   "version": "3.8.10"
  }
 },
 "nbformat": 4,
 "nbformat_minor": 5
}
