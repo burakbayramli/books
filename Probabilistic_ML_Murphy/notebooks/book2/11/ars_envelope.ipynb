{
 "cells": [
  {
   "cell_type": "code",
   "execution_count": 1,
   "id": "kzxirpFTOwhf",
   "metadata": {
    "colab": {
     "base_uri": "https://localhost:8080/"
    },
    "id": "kzxirpFTOwhf",
    "outputId": "b4e3c10b-8743-4f53-83e7-441bf6162895"
   },
   "outputs": [],
   "source": [
    "# -*- coding: utf-8 -*-\n",
    "# based on https://github.com/probml/pmtk3/blob/master/demos/arsEnvelope.m\n",
    "# author : Ang Ming Liang\n",
    "import numpy as np\n",
    "import matplotlib.pyplot as plt\n",
    "import matplotlib\n",
    "\n",
    "%matplotlib inline\n",
    "\n",
    "try:\n",
    "    from scipy.stats import norm\n",
    "except ModuleNotFoundError:\n",
    "    %pip install -qq scipy.stats\n",
    "    from scipy.stats import norm\n",
    "\n",
    "try:\n",
    "    from probml_utils import savefig, latexify\n",
    "except ModuleNotFoundError:\n",
    "    %pip install -qq git+https://github.com/probml/probml-utils.git\n",
    "    from probml_utils import savefig, latexify"
   ]
  },
  {
   "cell_type": "code",
   "execution_count": 3,
   "id": "AOLEhKPHRC8r",
   "metadata": {
    "id": "AOLEhKPHRC8r"
   },
   "outputs": [],
   "source": [
    "latexify(width_scale_factor=3, fig_height=1.5)"
   ]
  },
  {
   "cell_type": "code",
   "execution_count": 4,
   "id": "729a83d1",
   "metadata": {
    "colab": {
     "base_uri": "https://localhost:8080/",
     "height": 143
    },
    "id": "729a83d1",
    "outputId": "6e51590e-cba3-44a5-9a48-a975fb9a5bc9"
   },
   "outputs": [
    {
     "name": "stdout",
     "output_type": "stream",
     "text": [
      "saving image to ./ars_envelope_latexified.pdf\n",
      "Figure size: [2.  1.5]\n"
     ]
    },
    {
     "data": {
      "image/png": "[encoded data removed]",
      "text/plain": [
       "<Figure size 144x108 with 1 Axes>"
      ]
     },
     "metadata": {},
     "output_type": "display_data"
    }
   ],
   "source": [
    "xs = np.linspace(-1.5, 1.5, 50)\n",
    "ps = norm.logpdf(xs)\n",
    "\n",
    "dy_dx = lambda x: -x\n",
    "\n",
    "fig, ax = plt.subplots()\n",
    "\n",
    "# Hide the right and top spines\n",
    "ax.spines[\"right\"].set_visible(False)\n",
    "ax.spines[\"top\"].set_visible(False)\n",
    "\n",
    "# Fix the plot size\n",
    "ax.set_xlim(-1.6, 1.6)\n",
    "ax.set_ylim(-2.2, -0.8)\n",
    "\n",
    "# Plotting the log-concave distribution\n",
    "ax.plot(xs, ps, \"b-\", linewidth=3)\n",
    "\n",
    "# At x=-0.7\n",
    "x1 = -0.7\n",
    "ratio1 = dy_dx(x1)\n",
    "ax.plot([x1 - 0.5, x1 + 0.5], [norm.logpdf(x1) - 0.5 * ratio1, norm.logpdf(x1) + 0.5 * ratio1], \"-r\", \"LineWidth\", 3)\n",
    "ax.plot([x1, x1], [norm.logpdf(x1), -2.2], \"--r\", \"LineWidth\", 3)\n",
    "\n",
    "# At x=0\n",
    "x2 = 0\n",
    "ratio2 = dy_dx(x2)\n",
    "ax.plot([x2 - 0.5, x2 + 0.5], [norm.logpdf(x2) - 0.5 * ratio2, norm.logpdf(x2) + 0.5 * ratio2], \"-r\", \"LineWidth\", 3)\n",
    "ax.plot([x2, x2], [norm.logpdf(x2), -2.2], \"--r\", \"LineWidth\", 3)\n",
    "\n",
    "# At x=0.7\n",
    "x3 = 0.7\n",
    "ratio3 = dy_dx(x3)\n",
    "ax.plot([x3 - 0.5, x3 + 0.5], [norm.logpdf(x3) - 0.5 * ratio3, norm.logpdf(x3) + 0.5 * ratio3], \"-r\", \"LineWidth\", 3)\n",
    "ax.plot([x3, x3], [norm.logpdf(x3), -2.2], \"--r\", \"LineWidth\", 3)\n",
    "\n",
    "# Remove the x-axis and y-axis ticks\n",
    "plt.xticks([])\n",
    "plt.yticks([])\n",
    "savefig(\"ars_envelope\")\n",
    "plt.show()"
   ]
  }
 ],
 "metadata": {
  "colab": {
   "name": "ars_envelope.ipynb",
   "provenance": []
  },
  "gpuClass": "standard",
  "kernelspec": {
   "display_name": "Python 3 (ipykernel)",
   "language": "python",
   "name": "python3"
  },
  "language_info": {
   "codemirror_mode": {
    "name": "ipython",
    "version": 3
   },
   "file_extension": ".py",
   "mimetype": "text/x-python",
   "name": "python",
   "nbconvert_exporter": "python",
   "pygments_lexer": "ipython3",
   "version": "3.8.10"
  }
 },
 "nbformat": 4,
 "nbformat_minor": 5
}
