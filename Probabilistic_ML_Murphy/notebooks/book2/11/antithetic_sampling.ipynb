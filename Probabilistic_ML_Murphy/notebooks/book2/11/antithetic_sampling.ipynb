{
 "cells": [
  {
   "cell_type": "code",
   "execution_count": null,
   "id": "d2e6d70a",
   "metadata": {},
   "outputs": [],
   "source": [
    "# demo of antithetic sampling\n",
    "# https://en.wikipedia.org/wiki/Antithetic_variates\n",
    "\n",
    "\n",
    "import numpy as np\n",
    "\n",
    "np.random.seed(0)\n",
    "\n",
    "N = 750  # 1500\n",
    "u1 = np.random.uniform(size=N)\n",
    "u2 = np.random.uniform(size=N)\n",
    "u = np.concatenate((u1, u2))\n",
    "f = 1 / (1 + u)\n",
    "mu_naive = np.mean(f)\n",
    "se_naive = np.sqrt(np.var(f) / (2 * N))\n",
    "print(\"naive {:0.4f}, se {:0.4f}\".format(mu_naive, se_naive))\n",
    "\n",
    "# antithetic version\n",
    "uprime = 1 - u1\n",
    "f1 = 1 / (1 + u1)\n",
    "fprime = 1 / (1 + uprime)\n",
    "f = (f1 + fprime) / 2.0  # paired samples!\n",
    "mu_anti = np.mean(f)\n",
    "se_anti = np.sqrt(np.var(f) / (2 * N))\n",
    "print(\"anti {:0.4f}, se {:0.4f}\".format(mu_anti, se_anti))"
   ]
  }
 ],
 "metadata": {},
 "nbformat": 4,
 "nbformat_minor": 5
}
