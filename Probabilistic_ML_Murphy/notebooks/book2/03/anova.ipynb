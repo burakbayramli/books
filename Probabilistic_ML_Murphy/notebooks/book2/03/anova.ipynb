{
 "cells": [
  {
   "attachments": {},
   "cell_type": "markdown",
   "metadata": {
    "id": "U_QxcyQKJVuY"
   },
   "source": [
    "Perform one-way and two-way ANOVA on some toy data.\n",
    "Code is from\n",
    "https://www.georgeho.org/tests-as-linear/"
   ]
  },
  {
   "cell_type": "code",
   "execution_count": 1,
   "metadata": {
    "id": "Hp_d0o26JWUa"
   },
   "outputs": [
    {
     "name": "stderr",
     "output_type": "stream",
     "text": [
      "<frozen importlib._bootstrap>:219: RuntimeWarning: scipy._lib.messagestream.MessageStream size changed, may indicate binary incompatibility. Expected 56 from C header, got 64 from PyObject\n"
     ]
    }
   ],
   "source": [
    "import matplotlib.pyplot as plt\n",
    "import numpy as np\n",
    "import pandas as pd\n",
    "import patsy\n",
    "import scipy\n",
    "import statsmodels.api as sm\n",
    "import statsmodels.formula.api as smf"
   ]
  },
  {
   "cell_type": "code",
   "execution_count": 2,
   "metadata": {
    "colab": {
     "base_uri": "https://localhost:8080/"
    },
    "id": "Z8xDWtFjOLdL",
    "outputId": "ce3066c2-93f6-4092-d778-b1c9a2b2f5da"
   },
   "outputs": [],
   "source": [
    "try:\n",
    "    from probml_utils import savefig, latexify\n",
    "except ModuleNotFoundError:\n",
    "    %pip install -qq git+https://github.com/probml/probml-utils.git\n",
    "    from probml_utils import savefig, latexify"
   ]
  },
  {
   "cell_type": "code",
   "execution_count": 13,
   "metadata": {
    "id": "891kyE6mOPwA"
   },
   "outputs": [],
   "source": [
    "import os\n",
    "\n",
    "os.environ[\"FIG_DIR\"] = \"/Users/kpmurphy/github/bookv2/figures\"\n",
    "os.environ[\"LATEXIFY\"] = \"1\"\n",
    "\n",
    "latexify(fig_height=1.5)"
   ]
  },
  {
   "cell_type": "code",
   "execution_count": 6,
   "metadata": {},
   "outputs": [],
   "source": [
    "def one_way_anova_plot():\n",
    "    # Construct data as a pd.DataFrame\n",
    "    a = np.random.normal(0, 1, 20)\n",
    "    b = np.random.normal(-2, 1, 20)\n",
    "    c = np.random.normal(3, 1, 20)\n",
    "    d = np.random.normal(1.5, 1, 20)\n",
    "\n",
    "    df = pd.DataFrame()\n",
    "    df[\"y\"] = np.concatenate([a, b, c, d])\n",
    "    df[\"group_2\"] = np.concatenate([np.zeros_like(b)] + [np.ones_like(b)] + 2 * [np.zeros_like(b)])\n",
    "    df[\"group_3\"] = np.concatenate(2 * [np.zeros_like(c)] + [np.ones_like(c)] + [np.zeros_like(c)])\n",
    "    df[\"group_4\"] = np.concatenate(3 * [np.zeros_like(d)] + [np.ones_like(d)])\n",
    "\n",
    "    # ANOVA equivalent linear model\n",
    "    res = smf.ols(\"y ~ 1 + group_2 + group_3 + group_4\", df).fit()\n",
    "    beta0, beta1, beta2, beta3 = res.params  # note that beta1 corresponds to group 2\n",
    "\n",
    "    # Plot\n",
    "    # fig, ax = plt.subplots(figsize=[10,5])\n",
    "    fig, ax = plt.subplots()\n",
    "    ax.scatter(0 * np.ones_like(a), a, color=\"k\")\n",
    "    ax.scatter(1 * np.ones_like(b), b, color=\"k\")\n",
    "    ax.scatter(2 * np.ones_like(c), c, color=\"k\")\n",
    "    ax.scatter(3 * np.ones_like(d), d, color=\"k\")\n",
    "\n",
    "    # Group 1 (baseline)\n",
    "    ax.axhline(beta0, color=\"b\", label=r\"$\\beta_0$ (group 1 mean)\")\n",
    "\n",
    "    # Group 2\n",
    "    ax.plot([0.7, 1.3], 2 * [beta0 + beta1], color=\"navy\")\n",
    "    ax.plot(\n",
    "        [0, 1],\n",
    "        [beta0, beta0 + beta1],\n",
    "        color=\"r\",\n",
    "        label=r\"$\\beta_2, \\beta_3, ...$ (slopes/differences to $\\beta_0$)\",\n",
    "    )\n",
    "\n",
    "    # Group 3\n",
    "    ax.plot(\n",
    "        [1.7, 2.3],\n",
    "        2 * [beta0 + beta2],\n",
    "        color=\"navy\",\n",
    "        label=r\"$\\beta_0+\\beta_2, \\beta_0+\\beta_3 ...$ (group 2, 3 ... means)\",\n",
    "    )\n",
    "    ax.plot([1, 2], [beta0, beta0 + beta2], color=\"r\")\n",
    "\n",
    "    # Group 4\n",
    "    ax.plot([2.7, 3.3], 2 * [beta0 + beta3], color=\"navy\")\n",
    "    ax.plot([2, 3], [beta0, beta0 + beta3], color=\"r\")\n",
    "\n",
    "    ax.legend()  # fontsize=\"large\")\n",
    "\n",
    "    return fig, ax"
   ]
  },
  {
   "cell_type": "code",
   "execution_count": 14,
   "metadata": {
    "colab": {
     "base_uri": "https://localhost:8080/",
     "height": 603
    },
    "id": "s7SMuBGZJfgG",
    "outputId": "28b9ff0e-162d-41f0-fc52-bb71de22d0fc"
   },
   "outputs": [
    {
     "name": "stdout",
     "output_type": "stream",
     "text": [
      "saving image to /Users/kpmurphy/github/bookv2/figures/anova_one_way_latexified.pdf\n",
      "Figure size: [6.  1.5]\n"
     ]
    },
    {
     "data": {
      "image/png": "[encoded data removed]",
      "text/plain": [
       "<Figure size 432x108 with 1 Axes>"
      ]
     },
     "metadata": {
      "needs_background": "light"
     },
     "output_type": "display_data"
    }
   ],
   "source": [
    "np.random.seed(1618)\n",
    "fig, ax = one_way_anova_plot()\n",
    "\n",
    "# plt.tight_layout()\n",
    "savefig(\"anova_one_way\")\n",
    "\n",
    "\n",
    "plt.show()"
   ]
  },
  {
   "cell_type": "code",
   "execution_count": 10,
   "metadata": {},
   "outputs": [],
   "source": [
    "def two_way_anova_plot(df):\n",
    "    res = smf.ols(\"y ~ 1 + group * mood\", df).fit()\n",
    "    beta_0, beta_b, beta_c, beta_sad, beta_b_sad, beta_c_sad = res.params\n",
    "\n",
    "    # Logical masks\n",
    "    is_a = df[\"group\"] == \"a\"\n",
    "    is_b = df[\"group\"] == \"b\"\n",
    "    is_c = df[\"group\"] == \"c\"\n",
    "    is_happy = df[\"mood\"] == \"happy\"\n",
    "    is_sad = df[\"mood\"] == \"sad\"\n",
    "\n",
    "    # Plot\n",
    "    # fig, ax = plt.subplots(figsize=[10, 8])\n",
    "    fig, ax = plt.subplots()\n",
    "    ax.scatter(0 * np.ones(10), df[\"y\"][is_a & is_happy], color=\"r\")\n",
    "    ax.scatter(0 * np.ones(10), df[\"y\"][is_a & is_sad], color=\"b\")\n",
    "    ax.scatter(1 * np.ones(10), df[\"y\"][is_b & is_happy], color=\"r\")\n",
    "    ax.scatter(1 * np.ones(10), df[\"y\"][is_b & is_sad], color=\"b\")\n",
    "    ax.scatter(2 * np.ones(10), df[\"y\"][is_c & is_happy], color=\"r\")\n",
    "    ax.scatter(2 * np.ones(10), df[\"y\"][is_c & is_sad], color=\"b\")\n",
    "\n",
    "    # Group a\n",
    "    # ax.axhline(beta_0, color=\"r\", label=\"happy\")\n",
    "    ax.plot([-0.3, 0.3], 2 * [beta_0], color=\"r\", label=\"happy\")\n",
    "    ax.plot([-0.3, 0.3], 2 * [beta_0 + beta_sad], color=\"b\", label=\"sad\")\n",
    "\n",
    "    # Group b\n",
    "    ax.plot([0.7, 1.3], 2 * [beta_0 + beta_b], color=\"r\")\n",
    "    ax.plot([0.7, 1.3], 2 * [beta_0 + beta_b + beta_sad + beta_b_sad], color=\"b\")\n",
    "\n",
    "    # Group c\n",
    "    ax.plot([1.7, 2.3], 2 * [beta_0 + beta_c], color=\"r\")\n",
    "    ax.plot([1.7, 2.3], 2 * [beta_0 + beta_c + beta_sad + beta_c_sad], color=\"b\")\n",
    "\n",
    "    ax.legend()  # fontsize=\"large\")\n",
    "\n",
    "    return fig, ax"
   ]
  },
  {
   "cell_type": "code",
   "execution_count": 11,
   "metadata": {},
   "outputs": [
    {
     "data": {
      "text/html": [
       "<div>\n",
       "<style scoped>\n",
       "    .dataframe tbody tr th:only-of-type {\n",
       "        vertical-align: middle;\n",
       "    }\n",
       "\n",
       "    .dataframe tbody tr th {\n",
       "        vertical-align: top;\n",
       "    }\n",
       "\n",
       "    .dataframe thead th {\n",
       "        text-align: right;\n",
       "    }\n",
       "</style>\n",
       "<table border=\"1\" class=\"dataframe\">\n",
       "  <thead>\n",
       "    <tr style=\"text-align: right;\">\n",
       "      <th></th>\n",
       "      <th>y</th>\n",
       "      <th>group</th>\n",
       "      <th>group_b</th>\n",
       "      <th>group_c</th>\n",
       "      <th>mood</th>\n",
       "      <th>mood_happy</th>\n",
       "      <th>mood_sad</th>\n",
       "    </tr>\n",
       "  </thead>\n",
       "  <tbody>\n",
       "    <tr>\n",
       "      <th>0</th>\n",
       "      <td>-1.580020</td>\n",
       "      <td>a</td>\n",
       "      <td>0.0</td>\n",
       "      <td>0.0</td>\n",
       "      <td>happy</td>\n",
       "      <td>1.0</td>\n",
       "      <td>0.0</td>\n",
       "    </tr>\n",
       "    <tr>\n",
       "      <th>1</th>\n",
       "      <td>0.835402</td>\n",
       "      <td>a</td>\n",
       "      <td>0.0</td>\n",
       "      <td>0.0</td>\n",
       "      <td>sad</td>\n",
       "      <td>0.0</td>\n",
       "      <td>1.0</td>\n",
       "    </tr>\n",
       "    <tr>\n",
       "      <th>2</th>\n",
       "      <td>0.635347</td>\n",
       "      <td>a</td>\n",
       "      <td>0.0</td>\n",
       "      <td>0.0</td>\n",
       "      <td>happy</td>\n",
       "      <td>1.0</td>\n",
       "      <td>0.0</td>\n",
       "    </tr>\n",
       "    <tr>\n",
       "      <th>3</th>\n",
       "      <td>-0.820451</td>\n",
       "      <td>a</td>\n",
       "      <td>0.0</td>\n",
       "      <td>0.0</td>\n",
       "      <td>sad</td>\n",
       "      <td>0.0</td>\n",
       "      <td>1.0</td>\n",
       "    </tr>\n",
       "    <tr>\n",
       "      <th>4</th>\n",
       "      <td>-0.398397</td>\n",
       "      <td>a</td>\n",
       "      <td>0.0</td>\n",
       "      <td>0.0</td>\n",
       "      <td>happy</td>\n",
       "      <td>1.0</td>\n",
       "      <td>0.0</td>\n",
       "    </tr>\n",
       "  </tbody>\n",
       "</table>\n",
       "</div>"
      ],
      "text/plain": [
       "          y group  group_b  group_c   mood  mood_happy  mood_sad\n",
       "0 -1.580020     a      0.0      0.0  happy         1.0       0.0\n",
       "1  0.835402     a      0.0      0.0    sad         0.0       1.0\n",
       "2  0.635347     a      0.0      0.0  happy         1.0       0.0\n",
       "3 -0.820451     a      0.0      0.0    sad         0.0       1.0\n",
       "4 -0.398397     a      0.0      0.0  happy         1.0       0.0"
      ]
     },
     "execution_count": 11,
     "metadata": {},
     "output_type": "execute_result"
    }
   ],
   "source": [
    "num_points = 20\n",
    "np.random.seed(1618)\n",
    "\n",
    "a = np.random.normal(0.0, 1, num_points)\n",
    "b = np.random.normal(3.0, 1, num_points)\n",
    "c = np.random.normal(-1.5, 1, num_points)\n",
    "\n",
    "df = pd.DataFrame()\n",
    "df[\"y\"] = np.concatenate([a, b, c])\n",
    "df[\"group\"] = list(\"\".join([num_points * char for char in \"abc\"]))\n",
    "df = df.join(pd.get_dummies(df.group, prefix=\"group\", drop_first=True).astype(np.float64))\n",
    "\n",
    "df[\"mood\"] = (df.shape[0] // 2) * [\"happy\", \"sad\"]\n",
    "df = df.join(pd.get_dummies(df.mood, prefix=\"mood\").astype(np.float64))\n",
    "\n",
    "df.head()"
   ]
  },
  {
   "cell_type": "code",
   "execution_count": 12,
   "metadata": {
    "id": "gDSHsm2AJfvb"
   },
   "outputs": [
    {
     "name": "stdout",
     "output_type": "stream",
     "text": [
      "saving image to /Users/kpmurphy/github/bookv2/figures/anova_two_way.pdf\n",
      "Figure size: [6. 4.]\n"
     ]
    },
    {
     "data": {
      "image/png": "[encoded data removed]",
      "text/plain": [
       "<Figure size 432x288 with 1 Axes>"
      ]
     },
     "metadata": {
      "needs_background": "light"
     },
     "output_type": "display_data"
    }
   ],
   "source": [
    "fig, ax = two_way_anova_plot(df)\n",
    "\n",
    "# plt.tight_layout()\n",
    "savefig(\"anova_two_way\")\n",
    "\n",
    "plt.show()"
   ]
  }
 ],
 "metadata": {
  "colab": {
   "authorship_tag": "ABX9TyMeS95mYYHHcfPC3aaYM/Zx",
   "provenance": []
  },
  "kernelspec": {
   "display_name": "base",
   "language": "python",
   "name": "python3"
  },
  "language_info": {
   "codemirror_mode": {
    "name": "ipython",
    "version": 3
   },
   "file_extension": ".py",
   "mimetype": "text/x-python",
   "name": "python",
   "nbconvert_exporter": "python",
   "pygments_lexer": "ipython3",
   "version": "3.8.5"
  },
  "vscode": {
   "interpreter": {
    "hash": "40d3a090f54c6569ab1632332b64b2c03c39dcf918b08424e98f38b5ae0af88f"
   }
  }
 },
 "nbformat": 4,
 "nbformat_minor": 0
}
