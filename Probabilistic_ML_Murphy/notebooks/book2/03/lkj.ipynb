{
 "cells": [
  {
   "cell_type": "markdown",
   "id": "ad96858e",
   "metadata": {},
   "source": [
    "Please find JAX implementation of this notebook here: https://colab.research.google.com/github/probml/pyprobml/blob/master/notebooks/book2/03/lkj_1d.ipynb"
   ]
  },
  {
   "cell_type": "code",
   "execution_count": null,
   "id": "560a2741",
   "metadata": {},
   "outputs": [],
   "source": [
    "\n",
    "# We illustrate LKJ prior as discussed in fig 14.3 of\n",
    "# [Statistical Rethinking ed 2](https://xcelab.net/rm/statistical-rethinking/).\n",
    "# The numpyro code is from [Du Phan's site]\n",
    "#https://fehiepsi.github.io/rethinking-numpyro/14-adventures-in-covariance.html\n",
    "\n",
    "\n",
    "\n",
    "import numpy as np\n",
    "np.set_printoptions(precision=3)\n",
    "import matplotlib.pyplot as plt\n",
    "\n",
    "import jax\n",
    "print(\"jax version {}\".format(jax.__version__))\n",
    "print(\"jax backend {}\".format(jax.lib.xla_bridge.get_backend().platform))\n",
    "\n",
    "import jax.numpy as jnp\n",
    "from jax import random, vmap\n",
    "\n",
    "rng_key = random.PRNGKey(0)\n",
    "rng_key, rng_key_ = random.split(rng_key)\n",
    "\n",
    "try:\n",
    "    import numpyro\n",
    "except ModuleNotFoundError:\n",
    "    %pip install -qq numpyro\n",
    "    import numpyro\n",
    "import numpyro.distributions as dist\n",
    "\n",
    "try:\n",
    "    import arviz as az\n",
    "except ModuleNotFoundError:\n",
    "    %pip install -qq arviz\n",
    "    import arviz as az\n",
    "\n",
    "try:\n",
    "    import probml_utils as pml\n",
    "except ModuleNotFoundError:\n",
    "    %pip install -qq git+https://github.com/probml/probml-utils.git\n",
    "    import probml_utils as pml\n",
    "\n",
    "eta_list = [1,2,4]\n",
    "colors = ['r', 'k', 'b']\n",
    "fig, ax = plt.subplots()\n",
    "for i, eta in enumerate(eta_list):\n",
    "  R = dist.LKJ(dimension=2, concentration=eta).sample(random.PRNGKey(0), (int(1e4),))\n",
    "  az.plot_kde(R[:, 0, 1], label=f\"eta={eta}\", plot_kwargs  ={'color': colors[i]})\n",
    "plt.legend()\n",
    "ax.set_xlabel('correlation')\n",
    "ax.set_ylabel('density')\n",
    "ax.set_ylim(0, 1.2)\n",
    "ax.set_xlim(-1.1, 1.1)\n",
    "pml.savefig('LKJ_1d_correlation.pdf', dpi=300)\n",
    "plt.show()\n",
    "\n"
   ]
  }
 ],
 "metadata": {
  "kernelspec": {
   "display_name": "Python 3 (ipykernel)",
   "language": "python",
   "name": "python3"
  },
  "language_info": {
   "codemirror_mode": {
    "name": "ipython",
    "version": 3
   },
   "file_extension": ".py",
   "mimetype": "text/x-python",
   "name": "python",
   "nbconvert_exporter": "python",
   "pygments_lexer": "ipython3",
   "version": "3.9.7"
  },
  "varInspector": {
   "cols": {
    "lenName": 16,
    "lenType": 16,
    "lenVar": 40
   },
   "kernels_config": {
    "python": {
     "delete_cmd_postfix": "",
     "delete_cmd_prefix": "del ",
     "library": "var_list.py",
     "varRefreshCmd": "print(var_dic_list())"
    },
    "r": {
     "delete_cmd_postfix": ") ",
     "delete_cmd_prefix": "rm(",
     "library": "var_list.r",
     "varRefreshCmd": "cat(var_dic_list()) "
    }
   },
   "types_to_exclude": [
    "module",
    "function",
    "builtin_function_or_method",
    "instance",
    "_Feature"
   ],
   "window_display": false
  }
 },
 "nbformat": 4,
 "nbformat_minor": 5
}
