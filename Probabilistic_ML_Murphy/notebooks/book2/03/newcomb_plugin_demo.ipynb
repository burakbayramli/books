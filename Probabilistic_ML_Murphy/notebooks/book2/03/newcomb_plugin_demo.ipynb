{
 "cells": [
  {
   "cell_type": "code",
   "execution_count": 1,
   "id": "d47adf71",
   "metadata": {},
   "outputs": [],
   "source": [
    "# Tests min and variance to check whether Newcomb's speed of light data is Gaussian or not\n",
    "# Author : Aleyna Kara\n",
    "# This file is generated from https://github.com/probml/pmtk3/blob/master/demos/newcombPlugin.m\n",
    "\n",
    "\n",
    "try:\n",
    "    import probml_utils as pml\n",
    "except ModuleNotFoundError:\n",
    "    %pip install -qq git+https://github.com/probml/probml-utils.git\n",
    "    import probml_utils as pml\n",
    "import numpy as np\n",
    "import requests\n",
    "import matplotlib.pyplot as plt\n",
    "import os\n",
    "import seaborn as sns"
   ]
  },
  {
   "cell_type": "code",
   "execution_count": 2,
   "id": "2197ad10",
   "metadata": {},
   "outputs": [],
   "source": [
    "os.environ[\"LATEXIFY\"] = \"\"\n",
    "os.environ[\"FIG_DIR\"] = \"figures\""
   ]
  },
  {
   "cell_type": "code",
   "execution_count": 3,
   "id": "f231cf91",
   "metadata": {},
   "outputs": [],
   "source": [
    "pml.latexify(width_scale_factor=2)"
   ]
  },
  {
   "cell_type": "code",
   "execution_count": 4,
   "id": "4048b88e",
   "metadata": {},
   "outputs": [],
   "source": [
    "def plot_posterior(test_val, test_val_true, title, file_name, n_bins=10):\n",
    "    plt.hist(test_val, n_bins, edgecolor=\"black\", linewidth=0.5)\n",
    "    plt.axvline(x=test_val_true, c=\"r\")\n",
    "    plt.title(title)\n",
    "    sns.despine()\n",
    "    pml.savefig(f\"{file_name}.pdf\")"
   ]
  },
  {
   "cell_type": "code",
   "execution_count": 5,
   "id": "7f96f907",
   "metadata": {},
   "outputs": [
    {
     "name": "stderr",
     "output_type": "stream",
     "text": [
      "/home/patel_karm/anaconda3/lib/python3.9/site-packages/probml_utils/plotting.py:69: UserWarning: renaming figures/newcomb-truth2.pdf to figures/newcomb-truth2_latexified.pdf because LATEXIFY is True\n",
      "  warnings.warn(\n"
     ]
    },
    {
     "name": "stdout",
     "output_type": "stream",
     "text": [
      "saving image to figures/newcomb-truth2_latexified.pdf\n",
      "Figure size: [3.  1.5]\n"
     ]
    },
    {
     "data": {
      "image/png": "[encoded data removed]",
      "text/plain": [
       "<Figure size 216x108 with 1 Axes>"
      ]
     },
     "metadata": {
      "needs_background": "light"
     },
     "output_type": "display_data"
    }
   ],
   "source": [
    "# read data\n",
    "N_BINS = 20\n",
    "url = \"http://www.stat.columbia.edu/~gelman/book/data/light.asc\"\n",
    "s = requests.get(url).content.decode(\"utf-8\").strip().split(\"\\n\")[-7:]\n",
    "D = np.array(\" \".join(s).split(\" \")).astype(int)\n",
    "\n",
    "n, S = D.size, 1000\n",
    "mu, sigma = np.mean(D), np.std(D)\n",
    "\n",
    "plt.figure()\n",
    "plt.hist(D, N_BINS, edgecolor=\"black\", linewidth=0.5)\n",
    "plt.title(\"Newcombs Speed of Light Data\")\n",
    "sns.despine()\n",
    "pml.savefig(\"newcomb-truth2.pdf\")"
   ]
  },
  {
   "cell_type": "code",
   "execution_count": 6,
   "id": "a79386a7",
   "metadata": {},
   "outputs": [
    {
     "name": "stderr",
     "output_type": "stream",
     "text": [
      "/home/patel_karm/anaconda3/lib/python3.9/site-packages/probml_utils/plotting.py:69: UserWarning: renaming figures/newcomb-synth2.pdf to figures/newcomb-synth2_latexified.pdf because LATEXIFY is True\n",
      "  warnings.warn(\n"
     ]
    },
    {
     "name": "stdout",
     "output_type": "stream",
     "text": [
      "saving image to figures/newcomb-synth2_latexified.pdf\n",
      "Figure size: [6. 4.]\n"
     ]
    },
    {
     "data": {
      "image/png": "[encoded data removed]",
      "text/plain": [
       "<Figure size 432x288 with 9 Axes>"
      ]
     },
     "metadata": {
      "needs_background": "light"
     },
     "output_type": "display_data"
    }
   ],
   "source": [
    "# generate posterior samples\n",
    "np.random.seed(0)\n",
    "rep = sigma * np.random.randn(S, n) + mu\n",
    "\n",
    "fig, axes = plt.subplots(3, 3, sharex=True, sharey=True, figsize=(6, 4))\n",
    "fig.suptitle(\"Posterior Samples\", fontsize=18)\n",
    "\n",
    "axes = axes.flatten()\n",
    "for i in range(9):\n",
    "    plt.subplot(3, 3, i + 1)\n",
    "    plt.hist(rep[i, :], 10, edgecolor=\"black\", linewidth=0.5)\n",
    "    axes[i].tick_params(axis=\"both\", which=\"major\", labelsize=16)\n",
    "    axes[i].set_xticks([0, 25, 50])\n",
    "    sns.despine()\n",
    "\n",
    "plt.yticks([0, 5, 10, 15], labelsize=16, size=16)\n",
    "\n",
    "pml.savefig(\"newcomb-synth2.pdf\")\n",
    "plt.show()"
   ]
  },
  {
   "cell_type": "code",
   "execution_count": 7,
   "id": "74c0614b",
   "metadata": {},
   "outputs": [
    {
     "name": "stderr",
     "output_type": "stream",
     "text": [
      "/home/patel_karm/anaconda3/lib/python3.9/site-packages/probml_utils/plotting.py:69: UserWarning: renaming figures/newcomb-test-stat2.pdf to figures/newcomb-test-stat2_latexified.pdf because LATEXIFY is True\n",
      "  warnings.warn(\n"
     ]
    },
    {
     "name": "stdout",
     "output_type": "stream",
     "text": [
      "saving image to figures/newcomb-test-stat2_latexified.pdf\n",
      "Figure size: [3.  1.5]\n"
     ]
    },
    {
     "data": {
      "image/png": "[encoded data removed]",
      "text/plain": [
       "<Figure size 216x108 with 1 Axes>"
      ]
     },
     "metadata": {
      "needs_background": "light"
     },
     "output_type": "display_data"
    }
   ],
   "source": [
    "test_val = np.array([np.min(rep[s, :]) for s in range(S)])\n",
    "test_val_true = np.min(D)\n",
    "plot_posterior(test_val, test_val_true, f\"Posterior of min(x), true min={test_val_true}\", \"newcomb-test-stat2\")"
   ]
  },
  {
   "cell_type": "code",
   "execution_count": 8,
   "id": "afe76274",
   "metadata": {},
   "outputs": [
    {
     "name": "stdout",
     "output_type": "stream",
     "text": [
      "saving image to figures/newcomb-histo-var_latexified.pdf\n",
      "Figure size: [3.  1.5]\n"
     ]
    },
    {
     "name": "stderr",
     "output_type": "stream",
     "text": [
      "/home/patel_karm/anaconda3/lib/python3.9/site-packages/probml_utils/plotting.py:69: UserWarning: renaming figures/newcomb-histo-var.pdf to figures/newcomb-histo-var_latexified.pdf because LATEXIFY is True\n",
      "  warnings.warn(\n"
     ]
    },
    {
     "data": {
      "image/png": "[encoded data removed]",
      "text/plain": [
       "<Figure size 216x108 with 1 Axes>"
      ]
     },
     "metadata": {
      "needs_background": "light"
     },
     "output_type": "display_data"
    }
   ],
   "source": [
    "test_val = np.array([np.var(rep[s, :]) for s in range(S)])\n",
    "test_val_true = np.var(D)\n",
    "plot_posterior(\n",
    "    test_val, test_val_true, f\"Posterior of var(x), true var={np.round(test_val_true, 2)}\", \"newcomb-histo-var\"\n",
    ")"
   ]
  },
  {
   "cell_type": "code",
   "execution_count": null,
   "id": "4876f0f7",
   "metadata": {},
   "outputs": [],
   "source": []
  }
 ],
 "metadata": {
  "kernelspec": {
   "display_name": "Python 3 (ipykernel)",
   "language": "python",
   "name": "python3"
  },
  "language_info": {
   "codemirror_mode": {
    "name": "ipython",
    "version": 3
   },
   "file_extension": ".py",
   "mimetype": "text/x-python",
   "name": "python",
   "nbconvert_exporter": "python",
   "pygments_lexer": "ipython3",
   "version": "3.9.12"
  }
 },
 "nbformat": 4,
 "nbformat_minor": 5
}
