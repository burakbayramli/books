{
 "cells": [
  {
   "cell_type": "markdown",
   "metadata": {
    "id": "dll5z9GByVeG"
   },
   "source": [
    "# LKJ Prior\n",
    "Please find numpyro implementation of this notebook here:https://colab.research.google.com/github/probml/pyprobml/blob/master/notebooks/book2/03/lkj.ipynb"
   ]
  },
  {
   "cell_type": "code",
   "execution_count": 1,
   "metadata": {
    "id": "IPiq4eZ4nqoi"
   },
   "outputs": [],
   "source": [
    "%%capture\n",
    "# We illustrate LKJ prior as discussed in fig 14.3 of\n",
    "# [Statistical Rethinking ed 2](https://xcelab.net/rm/statistical-rethinking/).\n",
    "\n",
    "try:\n",
    "    from probml_utils import latexify, is_latexify_enabled, savefig\n",
    "except ModuleNotFoundError:\n",
    "    %pip install -qq git+https://github.com/probml/probml-utils.git\n",
    "    from probml_utils import latexify, is_latexify_enabled, savefig\n",
    "try:\n",
    "    import tensorflow\n",
    "except:\n",
    "    %pip install tensorflow  #Not needed explicitly for the code but internally for working of tfp\n",
    "try:\n",
    "    import tensorflow_probability as tfp\n",
    "except:\n",
    "    %pip install tensorflow_probability\n",
    "    import tensorflow_probability as tfp\n",
    "import matplotlib.pyplot as plt\n",
    "import jax\n",
    "import jax.numpy as jnp\n",
    "import seaborn as sns"
   ]
  },
  {
   "cell_type": "code",
   "execution_count": 2,
   "metadata": {
    "colab": {
     "base_uri": "https://localhost:8080/"
    },
    "id": "zwcHbApuqX5y",
    "outputId": "19ea67dc-07da-4a38-d723-114c340b798c"
   },
   "outputs": [
    {
     "name": "stderr",
     "output_type": "stream",
     "text": [
      "/usr/local/lib/python3.7/dist-packages/probml_utils/plotting.py:26: UserWarning: LATEXIFY environment variable not set, not latexifying\n",
      "  warnings.warn(\"LATEXIFY environment variable not set, not latexifying\")\n"
     ]
    }
   ],
   "source": [
    "latexify(width_scale_factor=3, fig_height=1.5)"
   ]
  },
  {
   "cell_type": "code",
   "execution_count": 5,
   "metadata": {
    "colab": {
     "base_uri": "https://localhost:8080/",
     "height": 350
    },
    "id": "b-trxMOEnioO",
    "outputId": "abe5390b-3f88-4483-dd4d-25a76e747756"
   },
   "outputs": [
    {
     "name": "stderr",
     "output_type": "stream",
     "text": [
      "/usr/local/lib/python3.7/dist-packages/probml_utils/plotting.py:80: UserWarning: set FIG_DIR environment variable to save figures\n",
      "  warnings.warn(\"set FIG_DIR environment variable to save figures\")\n"
     ]
    },
    {
     "data": {
      "image/png": "[encoded data removed]",
      "text/plain": [
       "<Figure size 432x288 with 1 Axes>"
      ]
     },
     "metadata": {
      "needs_background": "light"
     },
     "output_type": "display_data"
    }
   ],
   "source": [
    "def plot(eta_list, savename, random_seed):\n",
    "    font_size = 6 if is_latexify_enabled() else None\n",
    "    rng_key = jax.random.PRNGKey(random_seed)\n",
    "    rng_key, rng_key_ = jax.random.split(rng_key)\n",
    "    fig, ax = plt.subplots()\n",
    "    for i, eta in enumerate(eta_list):\n",
    "        dist = tfp.distributions.LKJ(dimension=2, concentration=eta)\n",
    "        ans = dist.sample(sample_shape=[100000], seed=8)\n",
    "        sns.kdeplot(ans[:, 0, 1], label=f\"$\\eta$ = {eta}\", clip=[-1, 1], shade=True)\n",
    "    plt.legend(loc=\"upper right\", fontsize=font_size)\n",
    "    ax.set_xlabel(\"Correlation\")\n",
    "    ax.set_ylabel(\"Density\")\n",
    "    # ax.set_ylim(0, 1.2)\n",
    "    # ax.set_xlim(-1.2, 1.2)\n",
    "    plt.title(\"LKJ 1D Correlation Coef.\")\n",
    "    sns.despine()\n",
    "    if len(savename) > 0:\n",
    "        savefig(savename)\n",
    "    plt.show()\n",
    "\n",
    "\n",
    "plot([1, 2, 4], \"LKJ_1d_correlation\", 0)"
   ]
  },
  {
   "cell_type": "code",
   "execution_count": 4,
   "metadata": {
    "colab": {
     "base_uri": "https://localhost:8080/",
     "height": 359,
     "referenced_widgets": [
      "1e765ac81734486d972f79076800c319",
      "bfefee9bac6c45e58069c336b005c6b6",
      "22e48db2449643deb1024e468895d56a",
      "7e4a7289adcf4616ad27c58421b8734f",
      "52bdaef203ca444da2164e15b6a71226",
      "57ddf4f3aa254bd0bc5e317348729515",
      "4928cc68889f4f538a11ce949215a822",
      "fff3a1455168415e8150afa9f14a6aaa",
      "9846b69401f949d189279f10717157cb",
      "0dd3600b188f41f6a15237501aa98204"
     ]
    },
    "id": "XyEfbhtc_UUM",
    "outputId": "744847bd-0fa9-4b46-860c-6a5b7af94ef0"
   },
   "outputs": [
    {
     "data": {
      "application/vnd.jupyter.widget-view+json": {
       "model_id": "1e765ac81734486d972f79076800c319",
       "version_major": 2,
       "version_minor": 0
      },
      "text/plain": [
       "interactive(children=(IntSlider(value=2, description='eta', max=4, min=1), IntSlider(value=10, description='ra…"
      ]
     },
     "metadata": {},
     "output_type": "display_data"
    }
   ],
   "source": [
    "from ipywidgets import interact\n",
    "\n",
    "\n",
    "@interact(eta=(1, 4), random_seed=(1, 20))\n",
    "def generate_random(eta=2, random_seed=10):\n",
    "    plot([eta], \"\", random_seed)"
   ]
  }
 ],
 "metadata": {
  "colab": {
   "collapsed_sections": [],
   "name": "lkj_1d.ipynb",
   "provenance": []
  },
  "kernelspec": {
   "display_name": "Python 3 (ipykernel)",
   "language": "python",
   "name": "python3"
  },
  "language_info": {
   "codemirror_mode": {
    "name": "ipython",
    "version": 3
   },
   "file_extension": ".py",
   "mimetype": "text/x-python",
   "name": "python",
   "nbconvert_exporter": "python",
   "pygments_lexer": "ipython3",
   "version": "3.9.7"
  },
  "varInspector": {
   "cols": {
    "lenName": 16,
    "lenType": 16,
    "lenVar": 40
   },
   "kernels_config": {
    "python": {
     "delete_cmd_postfix": "",
     "delete_cmd_prefix": "del ",
     "library": "var_list.py",
     "varRefreshCmd": "print(var_dic_list())"
    },
    "r": {
     "delete_cmd_postfix": ") ",
     "delete_cmd_prefix": "rm(",
     "library": "var_list.r",
     "varRefreshCmd": "cat(var_dic_list()) "
    }
   },
   "types_to_exclude": [
    "module",
    "function",
    "builtin_function_or_method",
    "instance",
    "_Feature"
   ],
   "window_display": false
  },
  "widgets": {
   "application/vnd.jupyter.widget-state+json": {
    "0dd3600b188f41f6a15237501aa98204": {
     "model_module": "@jupyter-widgets/base",
     "model_module_version": "1.2.0",
     "model_name": "LayoutModel",
     "state": {
      "_model_module": "@jupyter-widgets/base",
      "_model_module_version": "1.2.0",
      "_model_name": "LayoutModel",
      "_view_count": null,
      "_view_module": "@jupyter-widgets/base",
      "_view_module_version": "1.2.0",
      "_view_name": "LayoutView",
      "align_content": null,
      "align_items": null,
      "align_self": null,
      "border": null,
      "bottom": null,
      "display": null,
      "flex": null,
      "flex_flow": null,
      "grid_area": null,
      "grid_auto_columns": null,
      "grid_auto_flow": null,
      "grid_auto_rows": null,
      "grid_column": null,
      "grid_gap": null,
      "grid_row": null,
      "grid_template_areas": null,
      "grid_template_columns": null,
      "grid_template_rows": null,
      "height": null,
      "justify_content": null,
      "justify_items": null,
      "left": null,
      "margin": null,
      "max_height": null,
      "max_width": null,
      "min_height": null,
      "min_width": null,
      "object_fit": null,
      "object_position": null,
      "order": null,
      "overflow": null,
      "overflow_x": null,
      "overflow_y": null,
      "padding": null,
      "right": null,
      "top": null,
      "visibility": null,
      "width": null
     }
    },
    "1e765ac81734486d972f79076800c319": {
     "model_module": "@jupyter-widgets/controls",
     "model_module_version": "1.5.0",
     "model_name": "VBoxModel",
     "state": {
      "_dom_classes": [
       "widget-interact"
      ],
      "_model_module": "@jupyter-widgets/controls",
      "_model_module_version": "1.5.0",
      "_model_name": "VBoxModel",
      "_view_count": null,
      "_view_module": "@jupyter-widgets/controls",
      "_view_module_version": "1.5.0",
      "_view_name": "VBoxView",
      "box_style": "",
      "children": [
       "IPY_MODEL_bfefee9bac6c45e58069c336b005c6b6",
       "IPY_MODEL_22e48db2449643deb1024e468895d56a",
       "IPY_MODEL_7e4a7289adcf4616ad27c58421b8734f"
      ],
      "layout": "IPY_MODEL_52bdaef203ca444da2164e15b6a71226"
     }
    },
    "22e48db2449643deb1024e468895d56a": {
     "model_module": "@jupyter-widgets/controls",
     "model_module_version": "1.5.0",
     "model_name": "IntSliderModel",
     "state": {
      "_dom_classes": [],
      "_model_module": "@jupyter-widgets/controls",
      "_model_module_version": "1.5.0",
      "_model_name": "IntSliderModel",
      "_view_count": null,
      "_view_module": "@jupyter-widgets/controls",
      "_view_module_version": "1.5.0",
      "_view_name": "IntSliderView",
      "continuous_update": true,
      "description": "random_seed",
      "description_tooltip": null,
      "disabled": false,
      "layout": "IPY_MODEL_fff3a1455168415e8150afa9f14a6aaa",
      "max": 20,
      "min": 1,
      "orientation": "horizontal",
      "readout": true,
      "readout_format": "d",
      "step": 1,
      "style": "IPY_MODEL_9846b69401f949d189279f10717157cb",
      "value": 10
     }
    },
    "4928cc68889f4f538a11ce949215a822": {
     "model_module": "@jupyter-widgets/controls",
     "model_module_version": "1.5.0",
     "model_name": "SliderStyleModel",
     "state": {
      "_model_module": "@jupyter-widgets/controls",
      "_model_module_version": "1.5.0",
      "_model_name": "SliderStyleModel",
      "_view_count": null,
      "_view_module": "@jupyter-widgets/base",
      "_view_module_version": "1.2.0",
      "_view_name": "StyleView",
      "description_width": "",
      "handle_color": null
     }
    },
    "52bdaef203ca444da2164e15b6a71226": {
     "model_module": "@jupyter-widgets/base",
     "model_module_version": "1.2.0",
     "model_name": "LayoutModel",
     "state": {
      "_model_module": "@jupyter-widgets/base",
      "_model_module_version": "1.2.0",
      "_model_name": "LayoutModel",
      "_view_count": null,
      "_view_module": "@jupyter-widgets/base",
      "_view_module_version": "1.2.0",
      "_view_name": "LayoutView",
      "align_content": null,
      "align_items": null,
      "align_self": null,
      "border": null,
      "bottom": null,
      "display": null,
      "flex": null,
      "flex_flow": null,
      "grid_area": null,
      "grid_auto_columns": null,
      "grid_auto_flow": null,
      "grid_auto_rows": null,
      "grid_column": null,
      "grid_gap": null,
      "grid_row": null,
      "grid_template_areas": null,
      "grid_template_columns": null,
      "grid_template_rows": null,
      "height": null,
      "justify_content": null,
      "justify_items": null,
      "left": null,
      "margin": null,
      "max_height": null,
      "max_width": null,
      "min_height": null,
      "min_width": null,
      "object_fit": null,
      "object_position": null,
      "order": null,
      "overflow": null,
      "overflow_x": null,
      "overflow_y": null,
      "padding": null,
      "right": null,
      "top": null,
      "visibility": null,
      "width": null
     }
    },
    "57ddf4f3aa254bd0bc5e317348729515": {
     "model_module": "@jupyter-widgets/base",
     "model_module_version": "1.2.0",
     "model_name": "LayoutModel",
     "state": {
      "_model_module": "@jupyter-widgets/base",
      "_model_module_version": "1.2.0",
      "_model_name": "LayoutModel",
      "_view_count": null,
      "_view_module": "@jupyter-widgets/base",
      "_view_module_version": "1.2.0",
      "_view_name": "LayoutView",
      "align_content": null,
      "align_items": null,
      "align_self": null,
      "border": null,
      "bottom": null,
      "display": null,
      "flex": null,
      "flex_flow": null,
      "grid_area": null,
      "grid_auto_columns": null,
      "grid_auto_flow": null,
      "grid_auto_rows": null,
      "grid_column": null,
      "grid_gap": null,
      "grid_row": null,
      "grid_template_areas": null,
      "grid_template_columns": null,
      "grid_template_rows": null,
      "height": null,
      "justify_content": null,
      "justify_items": null,
      "left": null,
      "margin": null,
      "max_height": null,
      "max_width": null,
      "min_height": null,
      "min_width": null,
      "object_fit": null,
      "object_position": null,
      "order": null,
      "overflow": null,
      "overflow_x": null,
      "overflow_y": null,
      "padding": null,
      "right": null,
      "top": null,
      "visibility": null,
      "width": null
     }
    },
    "7e4a7289adcf4616ad27c58421b8734f": {
     "model_module": "@jupyter-widgets/output",
     "model_module_version": "1.0.0",
     "model_name": "OutputModel",
     "state": {
      "_dom_classes": [],
      "_model_module": "@jupyter-widgets/output",
      "_model_module_version": "1.0.0",
      "_model_name": "OutputModel",
      "_view_count": null,
      "_view_module": "@jupyter-widgets/output",
      "_view_module_version": "1.0.0",
      "_view_name": "OutputView",
      "layout": "IPY_MODEL_0dd3600b188f41f6a15237501aa98204",
      "msg_id": "",
      "outputs": [
       {
        "data": {
         "image/png": "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\n",
         "text/plain": "<Figure size 432x288 with 1 Axes>"
        },
        "metadata": {
         "needs_background": "light"
        },
        "output_type": "display_data"
       }
      ]
     }
    },
    "9846b69401f949d189279f10717157cb": {
     "model_module": "@jupyter-widgets/controls",
     "model_module_version": "1.5.0",
     "model_name": "SliderStyleModel",
     "state": {
      "_model_module": "@jupyter-widgets/controls",
      "_model_module_version": "1.5.0",
      "_model_name": "SliderStyleModel",
      "_view_count": null,
      "_view_module": "@jupyter-widgets/base",
      "_view_module_version": "1.2.0",
      "_view_name": "StyleView",
      "description_width": "",
      "handle_color": null
     }
    },
    "bfefee9bac6c45e58069c336b005c6b6": {
     "model_module": "@jupyter-widgets/controls",
     "model_module_version": "1.5.0",
     "model_name": "IntSliderModel",
     "state": {
      "_dom_classes": [],
      "_model_module": "@jupyter-widgets/controls",
      "_model_module_version": "1.5.0",
      "_model_name": "IntSliderModel",
      "_view_count": null,
      "_view_module": "@jupyter-widgets/controls",
      "_view_module_version": "1.5.0",
      "_view_name": "IntSliderView",
      "continuous_update": true,
      "description": "eta",
      "description_tooltip": null,
      "disabled": false,
      "layout": "IPY_MODEL_57ddf4f3aa254bd0bc5e317348729515",
      "max": 4,
      "min": 1,
      "orientation": "horizontal",
      "readout": true,
      "readout_format": "d",
      "step": 1,
      "style": "IPY_MODEL_4928cc68889f4f538a11ce949215a822",
      "value": 1
     }
    },
    "fff3a1455168415e8150afa9f14a6aaa": {
     "model_module": "@jupyter-widgets/base",
     "model_module_version": "1.2.0",
     "model_name": "LayoutModel",
     "state": {
      "_model_module": "@jupyter-widgets/base",
      "_model_module_version": "1.2.0",
      "_model_name": "LayoutModel",
      "_view_count": null,
      "_view_module": "@jupyter-widgets/base",
      "_view_module_version": "1.2.0",
      "_view_name": "LayoutView",
      "align_content": null,
      "align_items": null,
      "align_self": null,
      "border": null,
      "bottom": null,
      "display": null,
      "flex": null,
      "flex_flow": null,
      "grid_area": null,
      "grid_auto_columns": null,
      "grid_auto_flow": null,
      "grid_auto_rows": null,
      "grid_column": null,
      "grid_gap": null,
      "grid_row": null,
      "grid_template_areas": null,
      "grid_template_columns": null,
      "grid_template_rows": null,
      "height": null,
      "justify_content": null,
      "justify_items": null,
      "left": null,
      "margin": null,
      "max_height": null,
      "max_width": null,
      "min_height": null,
      "min_width": null,
      "object_fit": null,
      "object_position": null,
      "order": null,
      "overflow": null,
      "overflow_x": null,
      "overflow_y": null,
      "padding": null,
      "right": null,
      "top": null,
      "visibility": null,
      "width": null
     }
    }
   }
  }
 },
 "nbformat": 4,
 "nbformat_minor": 1
}
