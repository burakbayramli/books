{
 "cells": [
  {
   "cell_type": "code",
   "execution_count": 1,
   "id": "08cce38d",
   "metadata": {},
   "outputs": [],
   "source": [
    "# -*- coding: utf-8 -*-\n",
    "\"\"\"\n",
    "Author: Ang Ming Liang\n",
    "\n",
    "Based on https://github.com/probml/pmtk3/blob/master/demos/ebBinom.m\n",
    "\n",
    "See also https://github.com/ericsuh/dirichlet\n",
    "\n",
    "\"\"\"\n",
    "\n",
    "\n",
    "import numpy as np\n",
    "from scipy.stats import beta\n",
    "import matplotlib.pyplot as plt\n",
    "from scipy.special import digamma\n",
    "import os\n",
    "import seaborn as sns\n",
    "\n",
    "try:\n",
    "    import probml_utils as pml\n",
    "except ModuleNotFoundError:\n",
    "    %pip install -qq git+https://github.com/probml/probml-utils.git\n",
    "    import probml_utils as pml"
   ]
  },
  {
   "cell_type": "code",
   "execution_count": 2,
   "id": "22fbeae6",
   "metadata": {},
   "outputs": [],
   "source": [
    "# os.environ[\"LATEXIFY\"] = \"\"\n",
    "# os.environ[\"FIG_DIR\"] = \"figures\""
   ]
  },
  {
   "cell_type": "code",
   "execution_count": 3,
   "id": "25ab3624",
   "metadata": {},
   "outputs": [],
   "source": [
    "# fmt: off\n",
    "y = np.array( [ 0, 0, 0, 0, 0, 0, 0, 0, 0, 0, 0, 0, 0, 0, 1, 1, 1, 1, 1, 1, 1, 1, 2, 2, 2, 2, 2, 2, 2, 2, 2, 1, 5, \n",
    "               2, 5, 3, 2, 7, 7, 3, 3, 2, 9, 10, 4, 4, 4, 4, 4, 4, 4, 10, 4, 4, 4, 5, 11, 12, 5, 5, 6, 5, 6, 6, 6, \n",
    "               6, 16, 15, 15, 9, 4, ] )\n",
    "n = np.array( [ 20, 20, 20, 20, 20, 20, 20, 19, 19, 19, 19, 18, 18, 17, 20, 20, 20, 20, 19, 19, 18, 18, 25, 24, 23,\n",
    "               20, 20, 20, 20, 20, 20, 10, 49, 19, 46, 27, 17, 49, 47, 20, 20, 13, 48, 50, 20, 20, 20, 20, 20, 20, \n",
    "               20, 48, 19, 19, 19, 22, 46, 49, 20, 20, 23, 19, 22, 20, 20, 20, 52, 46, 47, 24, 14, ] )\n",
    "# fmt: on\n",
    "\n",
    "X = np.array([y, n - y]).T\n",
    "\n",
    "\n",
    "def dirichlet_moment_match(data):\n",
    "    a = np.mean(data, axis=0)\n",
    "    m2 = np.mean(data * data, axis=0)\n",
    "    ok = a > 0\n",
    "    s = (a[ok] - m2[ok]) / (m2[ok] - a[ok] ** 2)\n",
    "    s = np.median(s)\n",
    "    if s == 0:\n",
    "        s = 1\n",
    "    return a * s\n",
    "\n",
    "\n",
    "def polya_moment_match(data):\n",
    "    sdata = np.expand_dims(np.sum(X, axis=1), axis=1)\n",
    "    p = data / sdata\n",
    "    a = dirichlet_moment_match(p)\n",
    "    return a\n",
    "\n",
    "\n",
    "def polya_fit_simple(data):\n",
    "    a = polya_moment_match(data)\n",
    "    N, K = data.shape\n",
    "    for _ in range(100):\n",
    "        sa = np.sum(a)\n",
    "        g = np.sum(digamma(data + a), axis=0) - N * digamma(a)\n",
    "        h = sum(digamma(np.sum(X, axis=1) + np.sum(a))) - N * digamma(np.sum(a))\n",
    "        a = a * g / h\n",
    "    return a"
   ]
  },
  {
   "cell_type": "code",
   "execution_count": 4,
   "id": "4626f7fd",
   "metadata": {},
   "outputs": [
    {
     "name": "stdout",
     "output_type": "stream",
     "text": [
      "hyper mean\n",
      "0.14987193899618548\n"
     ]
    }
   ],
   "source": [
    "alphas = polya_fit_simple(X)\n",
    "a, b = alphas\n",
    "\n",
    "popMean = a / (a + b)\n",
    "aPost = a + y\n",
    "bPost = b + n - y\n",
    "meantheta = aPost / (aPost + bPost)\n",
    "quartiles = np.array(\n",
    "    [[beta.ppf(0.25, a, b), beta.ppf(0.75, a, b), beta.ppf(0.50, a, b)] for (a, b) in zip(aPost, bPost)]\n",
    ")\n",
    "CItheta, mediantheta = quartiles[:, :2], quartiles[:, 2]\n",
    "\n",
    "alpha_mean = np.mean(aPost)\n",
    "beta_mean = np.mean(bPost)\n",
    "hyper_mean = alpha_mean / (alpha_mean + beta_mean)\n",
    "print(\"hyper mean\")\n",
    "print(hyper_mean)\n",
    "\n",
    "\n",
    "thetaMLE = y / n\n",
    "thetaPooledMLE = np.sum(y) / np.sum(n)\n",
    "x = np.arange(0, len(y))"
   ]
  },
  {
   "cell_type": "code",
   "execution_count": 5,
   "id": "47908a48",
   "metadata": {},
   "outputs": [
    {
     "name": "stderr",
     "output_type": "stream",
     "text": [
      "/home/patel_karm/sendbox/probml-utils/probml_utils/plotting.py:25: UserWarning: LATEXIFY environment variable not set, not latexifying\n",
      "  warnings.warn(\"LATEXIFY environment variable not set, not latexifying\")\n"
     ]
    }
   ],
   "source": [
    "pml.latexify(fig_width=6 * 0.5, fig_height=3)"
   ]
  },
  {
   "cell_type": "code",
   "execution_count": 6,
   "id": "c72f3005",
   "metadata": {},
   "outputs": [
    {
     "name": "stderr",
     "output_type": "stream",
     "text": [
      "/home/patel_karm/sendbox/probml-utils/probml_utils/plotting.py:84: UserWarning: set FIG_DIR environment variable to save figures\n",
      "  warnings.warn(\"set FIG_DIR environment variable to save figures\")\n"
     ]
    },
    {
     "data": {
      "image/png": "[encoded data removed]",
      "text/plain": [
       "<Figure size 720x720 with 4 Axes>"
      ]
     },
     "metadata": {
      "needs_background": "light"
     },
     "output_type": "display_data"
    }
   ],
   "source": [
    "# Plot\n",
    "FIG_SIZE = None if pml.is_latexify_enabled() else (10, 10)\n",
    "\n",
    "J = len(n)\n",
    "fig, axs = plt.subplots(4, 1, figsize=FIG_SIZE, sharex=True)\n",
    "plt.subplots_adjust(hspace=0.3)\n",
    "axs = np.reshape(axs, 4)\n",
    "\n",
    "xs = np.arange(J)\n",
    "ax = axs[0]\n",
    "ax.bar(xs, y)\n",
    "ax.set_ylabel(\"Number of\\npostives\")\n",
    "sns.despine()\n",
    "ax.set_yticks([0, 8, 16])\n",
    "\n",
    "ax = axs[1]\n",
    "ax.bar(xs, n)\n",
    "ax.set_ylabel(\"Group\\nsize\")\n",
    "ax.set_yticks([0, 25, 50])\n",
    "sns.despine()\n",
    "\n",
    "ax = axs[2]\n",
    "ax.set_ylim(0, 0.5)\n",
    "ax.bar(x, thetaMLE)\n",
    "ax.plot([0, len(thetaMLE)], [thetaPooledMLE, thetaPooledMLE], color=\"red\", linewidth=1, label=\"pooled MLE\")\n",
    "ax.set_ylabel(\"MLE\")\n",
    "sns.despine()\n",
    "ax.legend(frameon=False)\n",
    "\n",
    "\n",
    "ax = axs[3]\n",
    "ax.bar(x, meantheta)\n",
    "ax.plot([0, len(meantheta)], [popMean, popMean], color=\"red\", linewidth=1, label=\"hparam\")\n",
    "ax.set_ylim(0, 0.5)\n",
    "ax.set_ylabel(\"Posterior\\nmean\")\n",
    "sns.despine()\n",
    "ax.legend(frameon=False)\n",
    "\n",
    "\n",
    "ax.set_xlabel(\"Type of rat tumor\")\n",
    "ax.set_xticks(range(0, 71, 10))\n",
    "pml.savefig(\"eb_binom_rats_barplot\", tight_bbox=True)\n",
    "plt.show()"
   ]
  },
  {
   "cell_type": "code",
   "execution_count": 7,
   "id": "b3384160",
   "metadata": {},
   "outputs": [
    {
     "data": {
      "image/png": "[encoded data removed]",
      "text/plain": [
       "<Figure size 720x720 with 1 Axes>"
      ]
     },
     "metadata": {
      "needs_background": "light"
     },
     "output_type": "display_data"
    }
   ],
   "source": [
    "plt.figure(figsize=FIG_SIZE)\n",
    "plt.title(\"95\\% confidence interval\")\n",
    "# for (height, q, median) in zip(range(len(n)-1, 1, -1), CItheta, mediantheta):\n",
    "for j in range(J):\n",
    "    height = J - j\n",
    "    q = CItheta[j]\n",
    "    median = mediantheta[j]\n",
    "    plt.plot([q[0], q[1]], [height, height], \"b\", alpha=0.5, lw=1)\n",
    "    plt.plot(median, height, \"bo\", markersize=1.5)\n",
    "# plt.yticks(x)\n",
    "ax = plt.gca()\n",
    "ax.set_xlim(0, 0.4)\n",
    "y_lims = ax.get_ylim()\n",
    "ax.vlines(hyper_mean, *y_lims)\n",
    "sns.despine()\n",
    "ax.set_xlabel(\"$\\\\theta$\")\n",
    "pml.savefig(\"eb_binom_rats_CI\")"
   ]
  },
  {
   "cell_type": "code",
   "execution_count": null,
   "id": "7699fabe",
   "metadata": {},
   "outputs": [],
   "source": []
  }
 ],
 "metadata": {
  "kernelspec": {
   "display_name": "Python [conda env:py3713]",
   "language": "python",
   "name": "conda-env-py3713-py"
  },
  "language_info": {
   "codemirror_mode": {
    "name": "ipython",
    "version": 3
   },
   "file_extension": ".py",
   "mimetype": "text/x-python",
   "name": "python",
   "nbconvert_exporter": "python",
   "pygments_lexer": "ipython3",
   "version": "3.7.13"
  }
 },
 "nbformat": 4,
 "nbformat_minor": 5
}
