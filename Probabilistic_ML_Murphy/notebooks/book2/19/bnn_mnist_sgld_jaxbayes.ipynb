{
 "cells": [
  {
   "cell_type": "markdown",
   "metadata": {
    "id": "JSZw_Iv0t5Aw"
   },
   "source": [
    "# Bayesian MLP for MNIST using preconditioned SGLD\n",
    "\n",
    "We use the [Jax Bayes](https://github.com/jamesvuc/jax-bayes) library \n",
    "by  James Vuckovic \n",
    "to fit an MLP to MNIST using SGD, and SGLD (with RMS preconditioning).\n",
    "Code is based on:\n",
    "\n",
    "\n",
    "\n",
    "1.   https://github.com/jamesvuc/jax-bayes/blob/master/examples/deep/mnist/mnist.ipynb\n",
    "2.   https://github.com/jamesvuc/jax-bayes/blob/master/examples/deep/mnist/mnist_mcmc.ipynb\n"
   ]
  },
  {
   "cell_type": "markdown",
   "metadata": {
    "id": "YwuRJZKAuoQs"
   },
   "source": [
    "# Setup"
   ]
  },
  {
   "cell_type": "code",
   "execution_count": 1,
   "metadata": {
    "id": "PmY4LL3AuL0j"
   },
   "outputs": [],
   "source": [
    "%%capture\n",
    "\n",
    "!pip install -qq git+https://github.com/jamesvuc/jax-bayes\n",
    "!pip install -qq SGMCMCJax\n",
    "!pip install -qq distrax"
   ]
  },
  {
   "cell_type": "code",
   "execution_count": 2,
   "metadata": {
    "id": "2Mz0kTuHwKqy"
   },
   "outputs": [],
   "source": [
    "import jax.numpy as jnp\n",
    "from jax.experimental import optimizers\n",
    "import jax\n",
    "\n",
    "try:\n",
    "    import jax_bayes\n",
    "except ModuleNotFoundError:\n",
    "    %pip install -qq jax_bayes\n",
    "    import jax_bayes\n",
    "\n",
    "try:\n",
    "    import sys, os, math, time\n",
    "except ModuleNotFoundError:\n",
    "    %pip install -qq sys,\n",
    "    import sys, os, math, time\n",
    "import numpy as np\n",
    "from functools import partial\n",
    "from matplotlib import pyplot as plt\n",
    "\n",
    "os.environ[\"TF_CPP_MIN_LOG_LEVEL\"] = \"2\"\n",
    "try:\n",
    "    import tensorflow_datasets as tfds\n",
    "except ModuleNotFoundError:\n",
    "    %pip install -qq tensorflow tensorflow_datasets\n",
    "    import tensorflow_datasets as tfds"
   ]
  },
  {
   "cell_type": "code",
   "execution_count": 3,
   "metadata": {
    "id": "gE66KgytxceJ"
   },
   "outputs": [],
   "source": [
    "try:\n",
    "    import sgmcmcjax\n",
    "except ModuleNotFoundError:\n",
    "    %pip install -qq sgmcmcjax\n",
    "    import sgmcmcjax\n",
    "from jax import jit, vmap\n",
    "from jax.random import split, PRNGKey\n",
    "\n",
    "try:\n",
    "    import distrax\n",
    "except ModuleNotFoundError:\n",
    "    %pip install -qq distrax\n",
    "    import distrax\n",
    "try:\n",
    "    from tqdm.auto import tqdm\n",
    "except ModuleNotFoundError:\n",
    "    %pip install -qq tqdm\n",
    "    from tqdm.auto import tqdm\n",
    "try:\n",
    "    import tensorflow_probability.substrates.jax.distributions as tfd\n",
    "except ModuleNotFoundError:\n",
    "    %pip install -qq tensorflow-probability\n",
    "    import tensorflow_probability.substrates.jax.distributions as tfd"
   ]
  },
  {
   "cell_type": "markdown",
   "metadata": {
    "id": "oyxSjxhZwU2_"
   },
   "source": [
    "# Data"
   ]
  },
  {
   "cell_type": "code",
   "execution_count": 4,
   "metadata": {
    "id": "2HDMRDZwv9-d"
   },
   "outputs": [],
   "source": [
    "def load_dataset(split, is_training, batch_size):\n",
    "    if batch_size == -1:\n",
    "        ds = tfds.load(\"mnist:3.*.*\", split=split, batch_size=-1)\n",
    "    else:\n",
    "        ds = tfds.load(\"mnist:3.*.*\", split=split).cache().repeat()\n",
    "    if is_training and batch_size > 0:\n",
    "        ds = ds.shuffle(10 * batch_size, seed=0)\n",
    "    if batch_size > 0:\n",
    "        ds = ds.batch(batch_size)\n",
    "    return iter(tfds.as_numpy(ds)) if batch_size > 0 else tfds.as_numpy(ds)"
   ]
  },
  {
   "cell_type": "code",
   "execution_count": 5,
   "metadata": {
    "id": "WcjAlEjtwVr1"
   },
   "outputs": [],
   "source": [
    "# load the data into memory and create batch iterators\n",
    "train_batches = load_dataset(\"train\", is_training=True, batch_size=1_000)\n",
    "val_batches = load_dataset(\"train\", is_training=False, batch_size=10_000)\n",
    "test_batches = load_dataset(\"test\", is_training=False, batch_size=10_000)"
   ]
  },
  {
   "cell_type": "markdown",
   "metadata": {
    "id": "NnfnLyeKPipP"
   },
   "source": [
    "The Bayesian NN is taken from [SGMCMCJAX](https://github.com/jeremiecoullon/SGMCMCJax/blob/7da21c0c79606e908c2292533c176349d9349cd0/docs/nbs/models/bayesian_NN/NN_model.py). However, there are couple of changes made. These can be listed as follows:\n",
    "\n",
    "1. The random_layer function initialises weights from truncated_normal rather than normal distribution.\n",
    "\n",
    "2. The random_layer function initialises weights with zeros rather than sampling from normal distribution.\n",
    "\n",
    "3. Activation function can be determined instead of using only softmax function. "
   ]
  },
  {
   "cell_type": "code",
   "execution_count": 6,
   "metadata": {
    "id": "I2DsHKiex910"
   },
   "outputs": [],
   "source": [
    "# ==========\n",
    "# Functions to initialise parameters\n",
    "# initialise params: list of tuples (W, b) for each layer\n",
    "def random_layer(key, m, n, scale=1e-2):\n",
    "    key, subkey = jax.random.split(key)\n",
    "    return (scale * jax.random.truncated_normal(key, -2, 2, (n, m)), jnp.zeros((n,)))\n",
    "\n",
    "\n",
    "def init_network(key, sizes):\n",
    "    keys = jax.random.split(key, len(sizes))\n",
    "    return [random_layer(k, m, n) for k, m, n in zip(keys, sizes[:-1], sizes[1:])]\n",
    "\n",
    "\n",
    "# ===========\n",
    "# predict and accuracy functions\n",
    "@partial(jit, static_argnames=(\"activation_fn\"))\n",
    "def predict(params, x, activation_fn):\n",
    "    # per-example predictions\n",
    "    activations = x\n",
    "    for w, b in params[:-1]:\n",
    "        outputs = activations @ w.T + b\n",
    "        activations = activation_fn(outputs)\n",
    "\n",
    "    final_w, final_b = params[-1]\n",
    "    logits = activations @ final_w.T + final_b\n",
    "    return logits\n",
    "\n",
    "\n",
    "# =================\n",
    "# Log-posterior\n",
    "@partial(jit, static_argnames=(\"activation_fn\"))\n",
    "def loglikelihood(params, X, y, activation_fn):\n",
    "    return jnp.sum(y * jax.nn.log_softmax(predict(params, X, activation_fn)))\n",
    "\n",
    "\n",
    "def logprior(params):\n",
    "    logP = 0.0\n",
    "    dist = distrax.Normal(0, 1)\n",
    "    for w, b in params:\n",
    "        logP += jnp.sum(dist.log_prob(w))\n",
    "        logP += jnp.sum(dist.log_prob(b))\n",
    "    return logP\n",
    "\n",
    "\n",
    "# Accuracy for a single sample\n",
    "batch_predict = vmap(predict, in_axes=(None, 0, None))\n",
    "\n",
    "\n",
    "@partial(jit, static_argnames=(\"activation_fn\"))\n",
    "def accuracy(params, batch, activation_fn):\n",
    "    X, target_class = batch[\"image\"].reshape((-1, D)), batch[\"label\"]\n",
    "    predicted_class = jnp.argmax(batch_predict(params, X, activation_fn), axis=1)\n",
    "    return jnp.mean(predicted_class == target_class)"
   ]
  },
  {
   "cell_type": "code",
   "execution_count": 7,
   "metadata": {
    "id": "l8zXjGiM1CC2"
   },
   "outputs": [],
   "source": [
    "batch = next(train_batches)\n",
    "nclasses = 10\n",
    "x = batch[\"image\"]\n",
    "D = np.prod(x.shape[1:])  # 784\n",
    "sizes = [D, 300, 100, nclasses]"
   ]
  },
  {
   "cell_type": "markdown",
   "metadata": {
    "id": "rE5YVKsawZj-"
   },
   "source": [
    "# Model"
   ]
  },
  {
   "cell_type": "markdown",
   "metadata": {
    "id": "vhHWqpc8wkE3"
   },
   "source": [
    "# SGD"
   ]
  },
  {
   "cell_type": "code",
   "execution_count": 8,
   "metadata": {
    "id": "x4S5oSdrWL5N"
   },
   "outputs": [],
   "source": [
    "def loss(params, batch, activation_fn):\n",
    "    logits = predict(params, batch[\"image\"].reshape((-1, D)), activation_fn)\n",
    "    labels = jax.nn.one_hot(batch[\"label\"], nclasses)\n",
    "\n",
    "    l2_loss = 0.5 * sum(jnp.sum(jnp.square(p)) for p in jax.tree_leaves(params))\n",
    "\n",
    "    softmax_crossent = -jnp.mean(labels * jax.nn.log_softmax(logits))\n",
    "\n",
    "    return softmax_crossent + reg * l2_loss\n",
    "\n",
    "\n",
    "@partial(jit, static_argnames=(\"activation_fn\"))\n",
    "def train_step(i, opt_state, batch, activation_fn):\n",
    "    params = opt_get_params(opt_state)\n",
    "    dx = jax.grad(loss)(params, batch, activation_fn)\n",
    "    opt_state = opt_update(i, dx, opt_state)\n",
    "    return opt_state"
   ]
  },
  {
   "cell_type": "code",
   "execution_count": 9,
   "metadata": {
    "id": "Erm8G2YZwkcq"
   },
   "outputs": [],
   "source": [
    "reg = 1e-3\n",
    "lr = 1e-3\n",
    "opt_init, opt_update, opt_get_params = optimizers.rmsprop(lr)\n",
    "initial_params = init_network(PRNGKey(0), sizes)\n",
    "opt_state = opt_init(initial_params)\n",
    "activation_fn = jax.nn.relu"
   ]
  },
  {
   "cell_type": "code",
   "execution_count": 10,
   "metadata": {
    "colab": {
     "base_uri": "https://localhost:8080/",
     "height": 83,
     "referenced_widgets": [
      "b1eaa086f66045cd8704b76ff2f75423",
      "15d560b36df44d5f96fd2a0f2ded913c",
      "4c3490df202c4e358cb2d2693cf2ccdf",
      "ead6859ff39a4c528a17beb7aa42fbda",
      "448fb55c93414af7bb46819bc2fd5cac",
      "a9bd9427da2d4869b45500164b4840fa",
      "af7c194709ee43d7b60c21655df496db",
      "e16bfb30c66b4ddbb9303336f62451bb",
      "28aec397cbc64e8598b95b8975dd4387",
      "5692f4a7a3a644c3af84cc9a8527e5f7",
      "5537e56ef64b4467a36f44cb32965124"
     ]
    },
    "id": "b0hKy5QgzfJM",
    "outputId": "d926ab5c-b7ef-4a66-bd3a-d9e7bd8498ef"
   },
   "outputs": [
    {
     "data": {
      "application/vnd.jupyter.widget-view+json": {
       "model_id": "b1eaa086f66045cd8704b76ff2f75423",
       "version_major": 2,
       "version_minor": 0
      },
      "text/plain": [
       "  0%|          | 0/2001 [00:00<?, ?it/s]"
      ]
     },
     "metadata": {},
     "output_type": "display_data"
    },
    {
     "name": "stdout",
     "output_type": "stream",
     "text": [
      "CPU times: user 21.4 s, sys: 6.04 s, total: 27.4 s\n",
      "Wall time: 14.2 s\n"
     ]
    }
   ],
   "source": [
    "%%time\n",
    "accuracy_list_train, accuracy_list_test = [], []\n",
    "nsteps = 2000\n",
    "\n",
    "print_every = 100\n",
    "\n",
    "for step in tqdm(range(nsteps + 1)):\n",
    "    opt_state = train_step(step, opt_state, next(train_batches), activation_fn)\n",
    "    params_sgd = opt_get_params(opt_state)\n",
    "    if step % print_every == 0:\n",
    "        # Periodically evaluate classification accuracy on train & test sets.\n",
    "        train_accuracy = accuracy(params_sgd, next(val_batches), activation_fn)\n",
    "        test_accuracy = accuracy(params_sgd, next(test_batches), activation_fn)\n",
    "        accuracy_list_train.append(train_accuracy)\n",
    "        accuracy_list_test.append(test_accuracy)"
   ]
  },
  {
   "cell_type": "code",
   "execution_count": 11,
   "metadata": {
    "colab": {
     "base_uri": "https://localhost:8080/",
     "height": 336
    },
    "id": "6XKDEffPURtp",
    "outputId": "15da28e0-e717-436c-8387-da72c75b05ac"
   },
   "outputs": [
    {
     "data": {
      "image/png": "[encoded data removed]",
      "text/plain": [
       "<Figure size 1440x360 with 2 Axes>"
      ]
     },
     "metadata": {
      "needs_background": "light"
     },
     "output_type": "display_data"
    }
   ],
   "source": [
    "fig, axes = plt.subplots(nrows=1, ncols=2, sharex=True, sharey=True, figsize=(20, 5))\n",
    "\n",
    "for ls, ax in zip([accuracy_list_train, accuracy_list_test], axes.flatten()):\n",
    "    ax.plot(ls[:])\n",
    "    ax.set_title(f\"Final accuracy: {100*ls[-1]:.1f}%\")"
   ]
  },
  {
   "cell_type": "markdown",
   "metadata": {
    "id": "OlXgvVn56ICo"
   },
   "source": [
    "# SGLD"
   ]
  },
  {
   "cell_type": "code",
   "execution_count": 12,
   "metadata": {
    "id": "dYPObT9FFSKf"
   },
   "outputs": [],
   "source": [
    "try:\n",
    "    from sgmcmcjax.kernels import build_sgld_kernel\n",
    "except ModuleNotFoundError:\n",
    "    %pip install -qq sgmcmcjax\n",
    "    from sgmcmcjax.kernels import build_sgld_kernel\n",
    "from sgmcmcjax.util import progress_bar_scan"
   ]
  },
  {
   "cell_type": "code",
   "execution_count": 13,
   "metadata": {
    "colab": {
     "base_uri": "https://localhost:8080/"
    },
    "id": "08j-W-vF6Im5",
    "outputId": "0ef3adc1-e419-4b7f-e6f6-6784ccc19c6d"
   },
   "outputs": [
    {
     "name": "stdout",
     "output_type": "stream",
     "text": [
      "WARNING:tensorflow:From /usr/local/lib/python3.7/dist-packages/tensorflow_datasets/core/dataset_builder.py:598: get_single_element (from tensorflow.python.data.experimental.ops.get_single_element) is deprecated and will be removed in a future version.\n",
      "Instructions for updating:\n",
      "Use `tf.data.Dataset.get_single_element()`.\n"
     ]
    },
    {
     "name": "stderr",
     "output_type": "stream",
     "text": [
      "WARNING:tensorflow:From /usr/local/lib/python3.7/dist-packages/tensorflow_datasets/core/dataset_builder.py:598: get_single_element (from tensorflow.python.data.experimental.ops.get_single_element) is deprecated and will be removed in a future version.\n",
      "Instructions for updating:\n",
      "Use `tf.data.Dataset.get_single_element()`.\n"
     ]
    }
   ],
   "source": [
    "lr = 5e-5\n",
    "activation_fn = jax.nn.softmax\n",
    "\n",
    "data = load_dataset(\"train\", is_training=True, batch_size=-1)\n",
    "data = (jnp.array(data[\"image\"].reshape((-1, D)) / 255.0), jax.nn.one_hot(jnp.array(data[\"label\"]), nclasses))\n",
    "batch_size = int(0.01 * len(data[0]))\n",
    "\n",
    "init_fn, my_kernel, get_params = build_sgld_kernel(\n",
    "    lr, partial(loglikelihood, activation_fn=activation_fn), logprior, data, batch_size\n",
    ")\n",
    "my_kernel = jit(my_kernel)\n",
    "\n",
    "# define the inital state\n",
    "key = jax.random.PRNGKey(10)\n",
    "key, subkey = jax.random.split(key, 2)\n",
    "params_IC = init_network(subkey, sizes)"
   ]
  },
  {
   "cell_type": "code",
   "execution_count": 14,
   "metadata": {
    "colab": {
     "base_uri": "https://localhost:8080/",
     "height": 137,
     "referenced_widgets": [
      "87daf4fddcdf432c811684af8d17a73a",
      "8c18c4e3cd984101a20b3d8f8d98c83a",
      "6aebaee56c0d4ea0994e66e87b6e36a2",
      "ea283e2207444deebb641d0c7750cf1c",
      "eaf015eac3f244c4b071506361acee81",
      "13eb025db17d41b382528042c4f04257",
      "f528283e98e543bfbe05cdd374261379",
      "a466168ece1d46bba25c814d7de04afc",
      "00a76c1767eb45489f818f52334a253f",
      "d10859146e604b03a87ed08f176bd23b",
      "a5d26d7801c146ac84c115a5f3dcfab8"
     ]
    },
    "id": "VWuMRg8ReCw7",
    "outputId": "1a5ff072-8e13-45c3-85ea-c6c8465e8ae0"
   },
   "outputs": [
    {
     "data": {
      "application/vnd.jupyter.widget-view+json": {
       "model_id": "87daf4fddcdf432c811684af8d17a73a",
       "version_major": 2,
       "version_minor": 0
      },
      "text/plain": [
       "  0%|          | 0/2000 [00:00<?, ?it/s]"
      ]
     },
     "metadata": {},
     "output_type": "display_data"
    },
    {
     "name": "stderr",
     "output_type": "stream",
     "text": [
      "/usr/local/lib/python3.7/dist-packages/jax/_src/numpy/lax_numpy.py:5847: UserWarning: Explicitly requested dtype <class 'jax._src.numpy.lax_numpy.float64'> requested in astype is not available, and will be truncated to dtype float32. To enable more dtypes, set the jax_enable_x64 configuration option or the JAX_ENABLE_X64 shell environment variable. See https://github.com/google/jax#current-gotchas for more.\n",
      "  lax._check_user_dtype_supported(dtype, \"astype\")\n"
     ]
    },
    {
     "name": "stdout",
     "output_type": "stream",
     "text": [
      "CPU times: user 17.6 s, sys: 812 ms, total: 18.4 s\n",
      "Wall time: 16.5 s\n"
     ]
    }
   ],
   "source": [
    "%%time\n",
    "\n",
    "# iterate the the Markov chain\n",
    "nsteps = 2000\n",
    "Nsamples = 10\n",
    "\n",
    "\n",
    "@partial(jit, static_argnums=(1,))\n",
    "def sampler(key, Nsamples, params):\n",
    "    def body(carry, i):\n",
    "        key, state = carry\n",
    "        key, subkey = jax.random.split(key)\n",
    "        state = my_kernel(i, subkey, state)\n",
    "        return (key, state), get_params(state)\n",
    "\n",
    "    key, subkey = jax.random.split(key)\n",
    "    state = init_fn(subkey, params)\n",
    "    (_, state), samples = jax.lax.scan(body, (key, state), jnp.arange(Nsamples))\n",
    "    return samples, state\n",
    "\n",
    "\n",
    "accuracy_list_test, accuracy_list_val = [], []\n",
    "\n",
    "params = params_IC\n",
    "for step in tqdm(range(nsteps)):\n",
    "    key, sample_key = jax.random.split(key, 2)\n",
    "    samples, state = sampler(sample_key, Nsamples, params)\n",
    "    params = get_params(state)\n",
    "    if step % print_every == 0:\n",
    "        test_acc, val_acc = accuracy(params, next(test_batches), activation_fn), accuracy(\n",
    "            params, next(val_batches), activation_fn\n",
    "        )\n",
    "        accuracy_list_test.append(test_acc)\n",
    "        accuracy_list_val.append(val_acc)"
   ]
  },
  {
   "cell_type": "code",
   "execution_count": 16,
   "metadata": {
    "colab": {
     "base_uri": "https://localhost:8080/",
     "height": 336
    },
    "id": "D3V6CMca9BFN",
    "outputId": "5d67c97b-1f8d-4f2d-dff9-65e272312308"
   },
   "outputs": [
    {
     "data": {
      "image/png": "[encoded data removed]",
      "text/plain": [
       "<Figure size 1440x360 with 2 Axes>"
      ]
     },
     "metadata": {
      "needs_background": "light"
     },
     "output_type": "display_data"
    }
   ],
   "source": [
    "fig, axes = plt.subplots(nrows=1, ncols=2, sharex=True, sharey=True, figsize=(20, 5))\n",
    "\n",
    "for ls, ax in zip([accuracy_list_test, accuracy_list_val], axes.flatten()):\n",
    "    ax.plot(ls[:])\n",
    "    ax.set_title(f\"Final accuracy: {100*ls[-1]:.2f}%\")"
   ]
  },
  {
   "cell_type": "markdown",
   "metadata": {
    "id": "gC1EIJpH8_Bb"
   },
   "source": [
    "# Uncertainty analysis"
   ]
  },
  {
   "cell_type": "markdown",
   "metadata": {
    "id": "e684Q2Tw9BTS"
   },
   "source": [
    "We select the predictions above a confidence threshold, and compute the predictive accuracy on that subset. As we increase the threshold, the accuracy should increase, but fewer examples will be selected."
   ]
  },
  {
   "cell_type": "markdown",
   "metadata": {
    "id": "Wfw_i4CWz7gI"
   },
   "source": [
    "The following two functions are taken from [JaxBayes](https://github.com/jamesvuc/jax-bayes/blob/master/jax_bayes/utils.py)"
   ]
  },
  {
   "cell_type": "code",
   "execution_count": 17,
   "metadata": {
    "id": "_cpeMVnRSwyZ"
   },
   "outputs": [],
   "source": [
    "def certainty_acc(pp, targets, cert_threshold=0.5):\n",
    "    \"\"\"Calculates the accuracy-at-certainty from the predictive probabilites pp\n",
    "    on the targets.\n",
    "    Args:\n",
    "        pp: (batch_size, n_classes) array of probabilities\n",
    "        targets: (batch_size, n_calsses) array of label class indices\n",
    "        cert_threhsold: (float) minimum probability for making a prediction\n",
    "    Returns:\n",
    "        accuracy at certainty, indicies of those prediction instances for which\n",
    "        the model is certain.\n",
    "    \"\"\"\n",
    "    preds = jnp.argmax(pp, axis=1)\n",
    "    pred_probs = jnp.max(pp, axis=1)\n",
    "\n",
    "    certain_idxs = pred_probs >= cert_threshold\n",
    "    acc_at_certainty = jnp.mean(targets[certain_idxs] == preds[certain_idxs])\n",
    "\n",
    "    return acc_at_certainty, certain_idxs\n",
    "\n",
    "\n",
    "@jit\n",
    "@vmap\n",
    "def entropy(p):\n",
    "    \"\"\"computes discrete Shannon entropy.\n",
    "    p: (n_classes,) array of probabilities corresponding to each class\n",
    "    \"\"\"\n",
    "    p += 1e-12  # tolerance to avoid nans while ensuring 0log(0) = 0\n",
    "    return -jnp.sum(p * jnp.log(p))"
   ]
  },
  {
   "cell_type": "code",
   "execution_count": 18,
   "metadata": {
    "id": "xMenkseG9wQv"
   },
   "outputs": [],
   "source": [
    "test_batch = next(test_batches)"
   ]
  },
  {
   "cell_type": "code",
   "execution_count": 19,
   "metadata": {
    "id": "NtzhVPR-9ANv"
   },
   "outputs": [],
   "source": [
    "def plot_acc_vs_confidence(predict_fn, test_batch):\n",
    "    # plot how accuracy changes as we increase the required level of certainty\n",
    "    preds = predict_fn(test_batch)  # (batch_size, n_classes) array of probabilities\n",
    "    acc, mask = certainty_acc(preds, test_batch[\"label\"], cert_threshold=0)\n",
    "    thresholds = [0.1 * i for i in range(11)]\n",
    "    cert_accs, pct_certs = [], []\n",
    "    for t in thresholds:\n",
    "        cert_acc, cert_mask = certainty_acc(preds, test_batch[\"label\"], cert_threshold=t)\n",
    "        cert_accs.append(cert_acc)\n",
    "        pct_certs.append(cert_mask.mean())\n",
    "\n",
    "    fig, ax = plt.subplots(1)\n",
    "    line1 = ax.plot(thresholds, cert_accs, label=\"accuracy at certainty\", marker=\"x\")\n",
    "    line2 = ax.axhline(y=acc, label=\"regular accuracy\", color=\"black\")\n",
    "    ax.set_ylabel(\"accuracy\")\n",
    "    ax.set_xlabel(\"certainty threshold\")\n",
    "\n",
    "    axb = ax.twinx()\n",
    "    line3 = axb.plot(thresholds, pct_certs, label=\"pct of certain preds\", color=\"green\", marker=\"x\")\n",
    "    axb.set_ylabel(\"pct certain\")\n",
    "\n",
    "    lines = line1 + [line2] + line3\n",
    "    labels = [l.get_label() for l in lines]\n",
    "    ax.legend(lines, labels, loc=6)\n",
    "\n",
    "    return fig, ax"
   ]
  },
  {
   "cell_type": "markdown",
   "metadata": {
    "id": "iut61vJp9w5h"
   },
   "source": [
    "## SGD\n",
    "\n",
    "For the plugin estimate, the model is very confident on nearly all of the points."
   ]
  },
  {
   "cell_type": "code",
   "execution_count": 20,
   "metadata": {
    "id": "JDSDCJcfExTh"
   },
   "outputs": [],
   "source": [
    "# plugin approximation to  posterior predictive\n",
    "@partial(jit, static_argnames=(\"activation_fn\"))\n",
    "def posterior_predictive_plugin(params, X, activation_fn):\n",
    "    logit_pp = predict(params, X, activation_fn)\n",
    "    return jax.nn.softmax(logit_pp, axis=-1)"
   ]
  },
  {
   "cell_type": "code",
   "execution_count": 21,
   "metadata": {
    "colab": {
     "base_uri": "https://localhost:8080/",
     "height": 279
    },
    "id": "MSV8qbLX9zca",
    "outputId": "a852706c-a65d-4662-9934-73704051aa33"
   },
   "outputs": [
    {
     "data": {
      "image/png": "[encoded data removed]",
      "text/plain": [
       "<Figure size 432x288 with 2 Axes>"
      ]
     },
     "metadata": {
      "needs_background": "light"
     },
     "output_type": "display_data"
    }
   ],
   "source": [
    "def pred_fn_sgd(batch):\n",
    "    X = batch[\"image\"].reshape((-1, D))\n",
    "    return posterior_predictive_plugin(params_sgd, X, jax.nn.relu)\n",
    "\n",
    "\n",
    "fig, ax = plot_acc_vs_confidence(pred_fn_sgd, test_batch)\n",
    "plt.savefig(\"acc-vs-conf-sgd.pdf\")\n",
    "plt.show()"
   ]
  },
  {
   "cell_type": "markdown",
   "metadata": {
    "id": "bArOtdLYC3re"
   },
   "source": [
    "## SGLD"
   ]
  },
  {
   "cell_type": "code",
   "execution_count": 22,
   "metadata": {
    "id": "30wKQSDNC4l9"
   },
   "outputs": [],
   "source": [
    "def posterior_predictive_bayes(params_sampled, batch, activation_fn):\n",
    "    \"\"\"computes the posterior_predictive P(class = c | inputs, params) using a histogram\"\"\"\n",
    "\n",
    "    X = batch[\"image\"].reshape((-1, D))\n",
    "    y = batch[\"label\"]\n",
    "\n",
    "    pred_fn = lambda p: predict(p, X, activation_fn)\n",
    "    pred_fn = jax.vmap(pred_fn)\n",
    "\n",
    "    logit_samples = pred_fn(params_sampled)  # n_samples x batch_size x n_classes\n",
    "    pred_samples = jnp.argmax(logit_samples, axis=-1)  # n_samples x batch_size\n",
    "\n",
    "    n_classes = logit_samples.shape[-1]\n",
    "    batch_size = logit_samples.shape[1]\n",
    "    probs = np.zeros((batch_size, n_classes))\n",
    "    for c in range(n_classes):\n",
    "        idxs = pred_samples == c\n",
    "        probs[:, c] = idxs.sum(axis=0)\n",
    "\n",
    "    return probs / probs.sum(axis=1, keepdims=True)"
   ]
  },
  {
   "cell_type": "code",
   "execution_count": 23,
   "metadata": {
    "colab": {
     "base_uri": "https://localhost:8080/",
     "height": 283
    },
    "id": "NrUeEvkoDdo-",
    "outputId": "fc05abf4-3f18-475e-d9bf-e0eb5f74ff38"
   },
   "outputs": [
    {
     "data": {
      "image/png": "[encoded data removed]",
      "text/plain": [
       "<Figure size 432x288 with 2 Axes>"
      ]
     },
     "metadata": {
      "needs_background": "light"
     },
     "output_type": "display_data"
    }
   ],
   "source": [
    "def pred_fn_sgld(batch):\n",
    "    return posterior_predictive_bayes(samples, batch, jax.nn.softmax)\n",
    "\n",
    "\n",
    "fig, ax = plot_acc_vs_confidence(pred_fn_sgld, test_batch)\n",
    "plt.savefig(\"acc-vs-conf-sgld.pdf\")\n",
    "plt.show()"
   ]
  },
  {
   "cell_type": "markdown",
   "metadata": {
    "id": "GqINlARzETGs"
   },
   "source": [
    "# Distribution shift\n",
    "\n",
    "We now examine the behavior of the models on the Fashion MNIST dataset.\n",
    "We expect the predictions to be much less confident, since the inputs are now 'out of distribution'. We will see that this is true for the Bayesian approach, but not for the plugin approximation. "
   ]
  },
  {
   "cell_type": "code",
   "execution_count": 24,
   "metadata": {
    "id": "5NkcBnZ-EhMG"
   },
   "outputs": [],
   "source": [
    "fashion_ds = tfds.load(\"fashion_mnist:3.*.*\", split=\"test\").cache().repeat()\n",
    "fashion_test_batches = tfds.as_numpy(fashion_ds.batch(10_000))\n",
    "fashion_test_batches = iter(fashion_test_batches)\n",
    "\n",
    "fashion_batch = next(fashion_test_batches)"
   ]
  },
  {
   "cell_type": "markdown",
   "metadata": {
    "id": "ztiLGAp7Eqxt"
   },
   "source": [
    "## SGD\n"
   ]
  },
  {
   "cell_type": "code",
   "execution_count": 25,
   "metadata": {
    "colab": {
     "base_uri": "https://localhost:8080/",
     "height": 279
    },
    "id": "CISeZjWmEre2",
    "outputId": "55692e39-6540-4f32-eb57-1f58afe79501"
   },
   "outputs": [
    {
     "data": {
      "image/png": "[encoded data removed]",
      "text/plain": [
       "<Figure size 432x288 with 2 Axes>"
      ]
     },
     "metadata": {
      "needs_background": "light"
     },
     "output_type": "display_data"
    }
   ],
   "source": [
    "fig, ax = plot_acc_vs_confidence(pred_fn_sgd, fashion_batch)\n",
    "plt.savefig(\"acc-vs-conf-sgd-fashion.pdf\")\n",
    "plt.show()"
   ]
  },
  {
   "cell_type": "markdown",
   "metadata": {
    "id": "qwBM58OJGUgO"
   },
   "source": [
    "## SGLD\n",
    "\n"
   ]
  },
  {
   "cell_type": "code",
   "execution_count": 26,
   "metadata": {
    "colab": {
     "base_uri": "https://localhost:8080/",
     "height": 279
    },
    "id": "8uJGI2D7GVNG",
    "outputId": "d6791baa-13a3-48b5-b288-66bc74ef1ab0"
   },
   "outputs": [
    {
     "data": {
      "image/png": "[encoded data removed]",
      "text/plain": [
       "<Figure size 432x288 with 2 Axes>"
      ]
     },
     "metadata": {
      "needs_background": "light"
     },
     "output_type": "display_data"
    }
   ],
   "source": [
    "fig, ax = plot_acc_vs_confidence(pred_fn_sgld, fashion_batch)\n",
    "plt.savefig(\"acc-vs-conf-sgld-fashion.pdf\")\n",
    "plt.show()"
   ]
  },
  {
   "cell_type": "code",
   "execution_count": 26,
   "metadata": {
    "id": "mA5XwqraFM4Y"
   },
   "outputs": [],
   "source": []
  }
 ],
 "metadata": {
  "accelerator": "GPU",
  "colab": {
   "collapsed_sections": [],
   "machine_shape": "hm",
   "name": "bnn_mnist_SGLD_sgmcmcjax.ipynb",
   "provenance": []
  },
  "kernelspec": {
   "display_name": "Python 3 (ipykernel)",
   "language": "python",
   "name": "python3"
  },
  "language_info": {
   "codemirror_mode": {
    "name": "ipython",
    "version": 3
   },
   "file_extension": ".py",
   "mimetype": "text/x-python",
   "name": "python",
   "nbconvert_exporter": "python",
   "pygments_lexer": "ipython3",
   "version": "3.9.12"
  },
  "widgets": {
   "application/vnd.jupyter.widget-state+json": {
    "00a76c1767eb45489f818f52334a253f": {
     "model_module": "@jupyter-widgets/base",
     "model_module_version": "1.2.0",
     "model_name": "LayoutModel",
     "state": {
      "_model_module": "@jupyter-widgets/base",
      "_model_module_version": "1.2.0",
      "_model_name": "LayoutModel",
      "_view_count": null,
      "_view_module": "@jupyter-widgets/base",
      "_view_module_version": "1.2.0",
      "_view_name": "LayoutView",
      "align_content": null,
      "align_items": null,
      "align_self": null,
      "border": null,
      "bottom": null,
      "display": null,
      "flex": null,
      "flex_flow": null,
      "grid_area": null,
      "grid_auto_columns": null,
      "grid_auto_flow": null,
      "grid_auto_rows": null,
      "grid_column": null,
      "grid_gap": null,
      "grid_row": null,
      "grid_template_areas": null,
      "grid_template_columns": null,
      "grid_template_rows": null,
      "height": null,
      "justify_content": null,
      "justify_items": null,
      "left": null,
      "margin": null,
      "max_height": null,
      "max_width": null,
      "min_height": null,
      "min_width": null,
      "object_fit": null,
      "object_position": null,
      "order": null,
      "overflow": null,
      "overflow_x": null,
      "overflow_y": null,
      "padding": null,
      "right": null,
      "top": null,
      "visibility": null,
      "width": null
     }
    },
    "13eb025db17d41b382528042c4f04257": {
     "model_module": "@jupyter-widgets/controls",
     "model_module_version": "1.5.0",
     "model_name": "DescriptionStyleModel",
     "state": {
      "_model_module": "@jupyter-widgets/controls",
      "_model_module_version": "1.5.0",
      "_model_name": "DescriptionStyleModel",
      "_view_count": null,
      "_view_module": "@jupyter-widgets/base",
      "_view_module_version": "1.2.0",
      "_view_name": "StyleView",
      "description_width": ""
     }
    },
    "15d560b36df44d5f96fd2a0f2ded913c": {
     "model_module": "@jupyter-widgets/base",
     "model_module_version": "1.2.0",
     "model_name": "LayoutModel",
     "state": {
      "_model_module": "@jupyter-widgets/base",
      "_model_module_version": "1.2.0",
      "_model_name": "LayoutModel",
      "_view_count": null,
      "_view_module": "@jupyter-widgets/base",
      "_view_module_version": "1.2.0",
      "_view_name": "LayoutView",
      "align_content": null,
      "align_items": null,
      "align_self": null,
      "border": null,
      "bottom": null,
      "display": null,
      "flex": null,
      "flex_flow": null,
      "grid_area": null,
      "grid_auto_columns": null,
      "grid_auto_flow": null,
      "grid_auto_rows": null,
      "grid_column": null,
      "grid_gap": null,
      "grid_row": null,
      "grid_template_areas": null,
      "grid_template_columns": null,
      "grid_template_rows": null,
      "height": null,
      "justify_content": null,
      "justify_items": null,
      "left": null,
      "margin": null,
      "max_height": null,
      "max_width": null,
      "min_height": null,
      "min_width": null,
      "object_fit": null,
      "object_position": null,
      "order": null,
      "overflow": null,
      "overflow_x": null,
      "overflow_y": null,
      "padding": null,
      "right": null,
      "top": null,
      "visibility": null,
      "width": null
     }
    },
    "28aec397cbc64e8598b95b8975dd4387": {
     "model_module": "@jupyter-widgets/base",
     "model_module_version": "1.2.0",
     "model_name": "LayoutModel",
     "state": {
      "_model_module": "@jupyter-widgets/base",
      "_model_module_version": "1.2.0",
      "_model_name": "LayoutModel",
      "_view_count": null,
      "_view_module": "@jupyter-widgets/base",
      "_view_module_version": "1.2.0",
      "_view_name": "LayoutView",
      "align_content": null,
      "align_items": null,
      "align_self": null,
      "border": null,
      "bottom": null,
      "display": null,
      "flex": null,
      "flex_flow": null,
      "grid_area": null,
      "grid_auto_columns": null,
      "grid_auto_flow": null,
      "grid_auto_rows": null,
      "grid_column": null,
      "grid_gap": null,
      "grid_row": null,
      "grid_template_areas": null,
      "grid_template_columns": null,
      "grid_template_rows": null,
      "height": null,
      "justify_content": null,
      "justify_items": null,
      "left": null,
      "margin": null,
      "max_height": null,
      "max_width": null,
      "min_height": null,
      "min_width": null,
      "object_fit": null,
      "object_position": null,
      "order": null,
      "overflow": null,
      "overflow_x": null,
      "overflow_y": null,
      "padding": null,
      "right": null,
      "top": null,
      "visibility": null,
      "width": null
     }
    },
    "448fb55c93414af7bb46819bc2fd5cac": {
     "model_module": "@jupyter-widgets/controls",
     "model_module_version": "1.5.0",
     "model_name": "HTMLModel",
     "state": {
      "_dom_classes": [],
      "_model_module": "@jupyter-widgets/controls",
      "_model_module_version": "1.5.0",
      "_model_name": "HTMLModel",
      "_view_count": null,
      "_view_module": "@jupyter-widgets/controls",
      "_view_module_version": "1.5.0",
      "_view_name": "HTMLView",
      "description": "",
      "description_tooltip": null,
      "layout": "IPY_MODEL_5537e56ef64b4467a36f44cb32965124",
      "placeholder": "​",
      "style": "IPY_MODEL_5692f4a7a3a644c3af84cc9a8527e5f7",
      "value": " 2001/2001 [00:14&lt;00:00, 267.33it/s]"
     }
    },
    "4c3490df202c4e358cb2d2693cf2ccdf": {
     "model_module": "@jupyter-widgets/controls",
     "model_module_version": "1.5.0",
     "model_name": "HTMLModel",
     "state": {
      "_dom_classes": [],
      "_model_module": "@jupyter-widgets/controls",
      "_model_module_version": "1.5.0",
      "_model_name": "HTMLModel",
      "_view_count": null,
      "_view_module": "@jupyter-widgets/controls",
      "_view_module_version": "1.5.0",
      "_view_name": "HTMLView",
      "description": "",
      "description_tooltip": null,
      "layout": "IPY_MODEL_af7c194709ee43d7b60c21655df496db",
      "placeholder": "​",
      "style": "IPY_MODEL_a9bd9427da2d4869b45500164b4840fa",
      "value": "100%"
     }
    },
    "5537e56ef64b4467a36f44cb32965124": {
     "model_module": "@jupyter-widgets/base",
     "model_module_version": "1.2.0",
     "model_name": "LayoutModel",
     "state": {
      "_model_module": "@jupyter-widgets/base",
      "_model_module_version": "1.2.0",
      "_model_name": "LayoutModel",
      "_view_count": null,
      "_view_module": "@jupyter-widgets/base",
      "_view_module_version": "1.2.0",
      "_view_name": "LayoutView",
      "align_content": null,
      "align_items": null,
      "align_self": null,
      "border": null,
      "bottom": null,
      "display": null,
      "flex": null,
      "flex_flow": null,
      "grid_area": null,
      "grid_auto_columns": null,
      "grid_auto_flow": null,
      "grid_auto_rows": null,
      "grid_column": null,
      "grid_gap": null,
      "grid_row": null,
      "grid_template_areas": null,
      "grid_template_columns": null,
      "grid_template_rows": null,
      "height": null,
      "justify_content": null,
      "justify_items": null,
      "left": null,
      "margin": null,
      "max_height": null,
      "max_width": null,
      "min_height": null,
      "min_width": null,
      "object_fit": null,
      "object_position": null,
      "order": null,
      "overflow": null,
      "overflow_x": null,
      "overflow_y": null,
      "padding": null,
      "right": null,
      "top": null,
      "visibility": null,
      "width": null
     }
    },
    "5692f4a7a3a644c3af84cc9a8527e5f7": {
     "model_module": "@jupyter-widgets/controls",
     "model_module_version": "1.5.0",
     "model_name": "DescriptionStyleModel",
     "state": {
      "_model_module": "@jupyter-widgets/controls",
      "_model_module_version": "1.5.0",
      "_model_name": "DescriptionStyleModel",
      "_view_count": null,
      "_view_module": "@jupyter-widgets/base",
      "_view_module_version": "1.2.0",
      "_view_name": "StyleView",
      "description_width": ""
     }
    },
    "6aebaee56c0d4ea0994e66e87b6e36a2": {
     "model_module": "@jupyter-widgets/controls",
     "model_module_version": "1.5.0",
     "model_name": "HTMLModel",
     "state": {
      "_dom_classes": [],
      "_model_module": "@jupyter-widgets/controls",
      "_model_module_version": "1.5.0",
      "_model_name": "HTMLModel",
      "_view_count": null,
      "_view_module": "@jupyter-widgets/controls",
      "_view_module_version": "1.5.0",
      "_view_name": "HTMLView",
      "description": "",
      "description_tooltip": null,
      "layout": "IPY_MODEL_f528283e98e543bfbe05cdd374261379",
      "placeholder": "​",
      "style": "IPY_MODEL_13eb025db17d41b382528042c4f04257",
      "value": "100%"
     }
    },
    "87daf4fddcdf432c811684af8d17a73a": {
     "model_module": "@jupyter-widgets/controls",
     "model_module_version": "1.5.0",
     "model_name": "HBoxModel",
     "state": {
      "_dom_classes": [],
      "_model_module": "@jupyter-widgets/controls",
      "_model_module_version": "1.5.0",
      "_model_name": "HBoxModel",
      "_view_count": null,
      "_view_module": "@jupyter-widgets/controls",
      "_view_module_version": "1.5.0",
      "_view_name": "HBoxView",
      "box_style": "",
      "children": [
       "IPY_MODEL_6aebaee56c0d4ea0994e66e87b6e36a2",
       "IPY_MODEL_ea283e2207444deebb641d0c7750cf1c",
       "IPY_MODEL_eaf015eac3f244c4b071506361acee81"
      ],
      "layout": "IPY_MODEL_8c18c4e3cd984101a20b3d8f8d98c83a"
     }
    },
    "8c18c4e3cd984101a20b3d8f8d98c83a": {
     "model_module": "@jupyter-widgets/base",
     "model_module_version": "1.2.0",
     "model_name": "LayoutModel",
     "state": {
      "_model_module": "@jupyter-widgets/base",
      "_model_module_version": "1.2.0",
      "_model_name": "LayoutModel",
      "_view_count": null,
      "_view_module": "@jupyter-widgets/base",
      "_view_module_version": "1.2.0",
      "_view_name": "LayoutView",
      "align_content": null,
      "align_items": null,
      "align_self": null,
      "border": null,
      "bottom": null,
      "display": null,
      "flex": null,
      "flex_flow": null,
      "grid_area": null,
      "grid_auto_columns": null,
      "grid_auto_flow": null,
      "grid_auto_rows": null,
      "grid_column": null,
      "grid_gap": null,
      "grid_row": null,
      "grid_template_areas": null,
      "grid_template_columns": null,
      "grid_template_rows": null,
      "height": null,
      "justify_content": null,
      "justify_items": null,
      "left": null,
      "margin": null,
      "max_height": null,
      "max_width": null,
      "min_height": null,
      "min_width": null,
      "object_fit": null,
      "object_position": null,
      "order": null,
      "overflow": null,
      "overflow_x": null,
      "overflow_y": null,
      "padding": null,
      "right": null,
      "top": null,
      "visibility": null,
      "width": null
     }
    },
    "a466168ece1d46bba25c814d7de04afc": {
     "model_module": "@jupyter-widgets/controls",
     "model_module_version": "1.5.0",
     "model_name": "ProgressStyleModel",
     "state": {
      "_model_module": "@jupyter-widgets/controls",
      "_model_module_version": "1.5.0",
      "_model_name": "ProgressStyleModel",
      "_view_count": null,
      "_view_module": "@jupyter-widgets/base",
      "_view_module_version": "1.2.0",
      "_view_name": "StyleView",
      "bar_color": null,
      "description_width": ""
     }
    },
    "a5d26d7801c146ac84c115a5f3dcfab8": {
     "model_module": "@jupyter-widgets/base",
     "model_module_version": "1.2.0",
     "model_name": "LayoutModel",
     "state": {
      "_model_module": "@jupyter-widgets/base",
      "_model_module_version": "1.2.0",
      "_model_name": "LayoutModel",
      "_view_count": null,
      "_view_module": "@jupyter-widgets/base",
      "_view_module_version": "1.2.0",
      "_view_name": "LayoutView",
      "align_content": null,
      "align_items": null,
      "align_self": null,
      "border": null,
      "bottom": null,
      "display": null,
      "flex": null,
      "flex_flow": null,
      "grid_area": null,
      "grid_auto_columns": null,
      "grid_auto_flow": null,
      "grid_auto_rows": null,
      "grid_column": null,
      "grid_gap": null,
      "grid_row": null,
      "grid_template_areas": null,
      "grid_template_columns": null,
      "grid_template_rows": null,
      "height": null,
      "justify_content": null,
      "justify_items": null,
      "left": null,
      "margin": null,
      "max_height": null,
      "max_width": null,
      "min_height": null,
      "min_width": null,
      "object_fit": null,
      "object_position": null,
      "order": null,
      "overflow": null,
      "overflow_x": null,
      "overflow_y": null,
      "padding": null,
      "right": null,
      "top": null,
      "visibility": null,
      "width": null
     }
    },
    "a9bd9427da2d4869b45500164b4840fa": {
     "model_module": "@jupyter-widgets/controls",
     "model_module_version": "1.5.0",
     "model_name": "DescriptionStyleModel",
     "state": {
      "_model_module": "@jupyter-widgets/controls",
      "_model_module_version": "1.5.0",
      "_model_name": "DescriptionStyleModel",
      "_view_count": null,
      "_view_module": "@jupyter-widgets/base",
      "_view_module_version": "1.2.0",
      "_view_name": "StyleView",
      "description_width": ""
     }
    },
    "af7c194709ee43d7b60c21655df496db": {
     "model_module": "@jupyter-widgets/base",
     "model_module_version": "1.2.0",
     "model_name": "LayoutModel",
     "state": {
      "_model_module": "@jupyter-widgets/base",
      "_model_module_version": "1.2.0",
      "_model_name": "LayoutModel",
      "_view_count": null,
      "_view_module": "@jupyter-widgets/base",
      "_view_module_version": "1.2.0",
      "_view_name": "LayoutView",
      "align_content": null,
      "align_items": null,
      "align_self": null,
      "border": null,
      "bottom": null,
      "display": null,
      "flex": null,
      "flex_flow": null,
      "grid_area": null,
      "grid_auto_columns": null,
      "grid_auto_flow": null,
      "grid_auto_rows": null,
      "grid_column": null,
      "grid_gap": null,
      "grid_row": null,
      "grid_template_areas": null,
      "grid_template_columns": null,
      "grid_template_rows": null,
      "height": null,
      "justify_content": null,
      "justify_items": null,
      "left": null,
      "margin": null,
      "max_height": null,
      "max_width": null,
      "min_height": null,
      "min_width": null,
      "object_fit": null,
      "object_position": null,
      "order": null,
      "overflow": null,
      "overflow_x": null,
      "overflow_y": null,
      "padding": null,
      "right": null,
      "top": null,
      "visibility": null,
      "width": null
     }
    },
    "b1eaa086f66045cd8704b76ff2f75423": {
     "model_module": "@jupyter-widgets/controls",
     "model_module_version": "1.5.0",
     "model_name": "HBoxModel",
     "state": {
      "_dom_classes": [],
      "_model_module": "@jupyter-widgets/controls",
      "_model_module_version": "1.5.0",
      "_model_name": "HBoxModel",
      "_view_count": null,
      "_view_module": "@jupyter-widgets/controls",
      "_view_module_version": "1.5.0",
      "_view_name": "HBoxView",
      "box_style": "",
      "children": [
       "IPY_MODEL_4c3490df202c4e358cb2d2693cf2ccdf",
       "IPY_MODEL_ead6859ff39a4c528a17beb7aa42fbda",
       "IPY_MODEL_448fb55c93414af7bb46819bc2fd5cac"
      ],
      "layout": "IPY_MODEL_15d560b36df44d5f96fd2a0f2ded913c"
     }
    },
    "d10859146e604b03a87ed08f176bd23b": {
     "model_module": "@jupyter-widgets/controls",
     "model_module_version": "1.5.0",
     "model_name": "DescriptionStyleModel",
     "state": {
      "_model_module": "@jupyter-widgets/controls",
      "_model_module_version": "1.5.0",
      "_model_name": "DescriptionStyleModel",
      "_view_count": null,
      "_view_module": "@jupyter-widgets/base",
      "_view_module_version": "1.2.0",
      "_view_name": "StyleView",
      "description_width": ""
     }
    },
    "e16bfb30c66b4ddbb9303336f62451bb": {
     "model_module": "@jupyter-widgets/controls",
     "model_module_version": "1.5.0",
     "model_name": "ProgressStyleModel",
     "state": {
      "_model_module": "@jupyter-widgets/controls",
      "_model_module_version": "1.5.0",
      "_model_name": "ProgressStyleModel",
      "_view_count": null,
      "_view_module": "@jupyter-widgets/base",
      "_view_module_version": "1.2.0",
      "_view_name": "StyleView",
      "bar_color": null,
      "description_width": ""
     }
    },
    "ea283e2207444deebb641d0c7750cf1c": {
     "model_module": "@jupyter-widgets/controls",
     "model_module_version": "1.5.0",
     "model_name": "FloatProgressModel",
     "state": {
      "_dom_classes": [],
      "_model_module": "@jupyter-widgets/controls",
      "_model_module_version": "1.5.0",
      "_model_name": "FloatProgressModel",
      "_view_count": null,
      "_view_module": "@jupyter-widgets/controls",
      "_view_module_version": "1.5.0",
      "_view_name": "ProgressView",
      "bar_style": "success",
      "description": "",
      "description_tooltip": null,
      "layout": "IPY_MODEL_00a76c1767eb45489f818f52334a253f",
      "max": 2000,
      "min": 0,
      "orientation": "horizontal",
      "style": "IPY_MODEL_a466168ece1d46bba25c814d7de04afc",
      "value": 2000
     }
    },
    "ead6859ff39a4c528a17beb7aa42fbda": {
     "model_module": "@jupyter-widgets/controls",
     "model_module_version": "1.5.0",
     "model_name": "FloatProgressModel",
     "state": {
      "_dom_classes": [],
      "_model_module": "@jupyter-widgets/controls",
      "_model_module_version": "1.5.0",
      "_model_name": "FloatProgressModel",
      "_view_count": null,
      "_view_module": "@jupyter-widgets/controls",
      "_view_module_version": "1.5.0",
      "_view_name": "ProgressView",
      "bar_style": "success",
      "description": "",
      "description_tooltip": null,
      "layout": "IPY_MODEL_28aec397cbc64e8598b95b8975dd4387",
      "max": 2001,
      "min": 0,
      "orientation": "horizontal",
      "style": "IPY_MODEL_e16bfb30c66b4ddbb9303336f62451bb",
      "value": 2001
     }
    },
    "eaf015eac3f244c4b071506361acee81": {
     "model_module": "@jupyter-widgets/controls",
     "model_module_version": "1.5.0",
     "model_name": "HTMLModel",
     "state": {
      "_dom_classes": [],
      "_model_module": "@jupyter-widgets/controls",
      "_model_module_version": "1.5.0",
      "_model_name": "HTMLModel",
      "_view_count": null,
      "_view_module": "@jupyter-widgets/controls",
      "_view_module_version": "1.5.0",
      "_view_name": "HTMLView",
      "description": "",
      "description_tooltip": null,
      "layout": "IPY_MODEL_a5d26d7801c146ac84c115a5f3dcfab8",
      "placeholder": "​",
      "style": "IPY_MODEL_d10859146e604b03a87ed08f176bd23b",
      "value": " 2000/2000 [00:16&lt;00:00, 157.69it/s]"
     }
    },
    "f528283e98e543bfbe05cdd374261379": {
     "model_module": "@jupyter-widgets/base",
     "model_module_version": "1.2.0",
     "model_name": "LayoutModel",
     "state": {
      "_model_module": "@jupyter-widgets/base",
      "_model_module_version": "1.2.0",
      "_model_name": "LayoutModel",
      "_view_count": null,
      "_view_module": "@jupyter-widgets/base",
      "_view_module_version": "1.2.0",
      "_view_name": "LayoutView",
      "align_content": null,
      "align_items": null,
      "align_self": null,
      "border": null,
      "bottom": null,
      "display": null,
      "flex": null,
      "flex_flow": null,
      "grid_area": null,
      "grid_auto_columns": null,
      "grid_auto_flow": null,
      "grid_auto_rows": null,
      "grid_column": null,
      "grid_gap": null,
      "grid_row": null,
      "grid_template_areas": null,
      "grid_template_columns": null,
      "grid_template_rows": null,
      "height": null,
      "justify_content": null,
      "justify_items": null,
      "left": null,
      "margin": null,
      "max_height": null,
      "max_width": null,
      "min_height": null,
      "min_width": null,
      "object_fit": null,
      "object_position": null,
      "order": null,
      "overflow": null,
      "overflow_x": null,
      "overflow_y": null,
      "padding": null,
      "right": null,
      "top": null,
      "visibility": null,
      "width": null
     }
    }
   }
  }
 },
 "nbformat": 4,
 "nbformat_minor": 1
}
