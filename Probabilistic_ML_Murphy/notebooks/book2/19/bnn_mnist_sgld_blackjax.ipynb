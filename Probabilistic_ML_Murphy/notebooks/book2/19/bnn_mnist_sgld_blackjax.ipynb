{
 "cells": [
  {
   "cell_type": "markdown",
   "id": "37483c1d",
   "metadata": {},
   "source": [
    "## SGD & Stochastic Gradient Langevin Dynamics (SGLD) predictions using Bayesian neural network\n",
    "author: @karm-patel\n",
    "\n",
    "\n",
    "**Resources:** \n",
    "1. https://github.com/jamesvuc/jax-bayes/blob/master/examples/deep/mnist/mnist_mcmc.ipynb\n",
    "2. https://github.com/blackjax-devs/blackjax/blob/main/examples/SGLD.ipynb"
   ]
  },
  {
   "cell_type": "code",
   "execution_count": 1,
   "id": "e0979a85",
   "metadata": {},
   "outputs": [],
   "source": [
    "import os\n",
    "\n",
    "# to use specifoc GPU\n",
    "# GPU_NO = 0\n",
    "# os.environ['CUDA_VISIBLE_DEVICES']=str(GPU_NO)\n",
    "\n",
    "# for latexified figures\n",
    "# os.environ[\"LATEXIFY\"] = \"\"\n",
    "# os.environ[\"FIG_DIR\"] = \"figures\""
   ]
  },
  {
   "cell_type": "code",
   "execution_count": 2,
   "id": "33698cfd",
   "metadata": {},
   "outputs": [
    {
     "name": "stderr",
     "output_type": "stream",
     "text": [
      "/home/patel_zeel/miniconda3/envs/jax_gpu/lib/python3.9/site-packages/pkg_resources/__init__.py:122: PkgResourcesDeprecationWarning: LOCAL is an invalid version and will not be supported in a future release\n",
      "  warnings.warn(\n"
     ]
    }
   ],
   "source": [
    "import jax\n",
    "import jax.nn as nn\n",
    "import jax.numpy as jnp\n",
    "import numpy as np\n",
    "from jax.flatten_util import ravel_pytree\n",
    "import matplotlib.pyplot as plt\n",
    "import seaborn as sns\n",
    "\n",
    "try:\n",
    "    import flax\n",
    "except ModuleNotFoundError:\n",
    "    %pip install -qq flax\n",
    "    import flax\n",
    "from flax import linen as nn\n",
    "from flax.core.frozen_dict import unfreeze\n",
    "\n",
    "try:\n",
    "    import optax\n",
    "except ModuleNotFoundError:\n",
    "    %pip install -qq optax\n",
    "    import optax\n",
    "\n",
    "try:\n",
    "    import tensorflow_probability.substrates.jax as tfp\n",
    "except:\n",
    "    %pip install -qq tensorflow_probability\n",
    "    import tensorflow_probability.substrates.jax as tfp\n",
    "\n",
    "\n",
    "try:\n",
    "    import blackjax\n",
    "except:\n",
    "    %pip install -qq jaxopt blackjax\n",
    "    import blackjax\n",
    "from blackjax.sgmcmc.gradients import grad_estimator\n",
    "\n",
    "\n",
    "try:\n",
    "    import tensorflow_datasets as tfds\n",
    "except ModuleNotFoundError:\n",
    "    %pip install -qq tensorflow tensorflow_datasets\n",
    "    import tensorflow_datasets as tfds\n",
    "\n",
    "\n",
    "try:\n",
    "    import probml_utils as pml\n",
    "except ModuleNotFoundError:\n",
    "    %pip install git+https://github.com/probml/probml-utils.git\n",
    "    import probml_utils as pml\n",
    "\n",
    "tfd = tfp.distributions"
   ]
  },
  {
   "cell_type": "markdown",
   "id": "2f763793",
   "metadata": {},
   "source": [
    "## Mnist Dataset"
   ]
  },
  {
   "cell_type": "code",
   "execution_count": 3,
   "id": "4ae4e282",
   "metadata": {},
   "outputs": [
    {
     "name": "stderr",
     "output_type": "stream",
     "text": [
      "2022-07-08 16:03:20.340500: W tensorflow/stream_executor/platform/default/dso_loader.cc:64] Could not load dynamic library 'libcudnn.so.8'; dlerror: libcudnn.so.8: cannot open shared object file: No such file or directory; LD_LIBRARY_PATH: /opt/compilers/openmpi/4.1.2/lib64/openmpi:/opt/compilers/openmpi/4.1.2/lib64:/usr/local/cuda/lib64:\n",
      "2022-07-08 16:03:20.340526: W tensorflow/core/common_runtime/gpu/gpu_device.cc:1850] Cannot dlopen some GPU libraries. Please make sure the missing libraries mentioned above are installed properly if you would like to use GPU. Follow the guide at https://www.tensorflow.org/install/gpu for how to download and setup the required libraries for your platform.\n",
      "Skipping registering GPU devices...\n"
     ]
    }
   ],
   "source": [
    "data = tfds.as_numpy(tfds.load(\"mnist:3.*.*\", split=\"train\", batch_size=-1))\n",
    "X, y = data[\"image\"], data[\"label\"]"
   ]
  },
  {
   "cell_type": "code",
   "execution_count": 4,
   "id": "03c0503f",
   "metadata": {},
   "outputs": [],
   "source": [
    "# make mask for train-test split\n",
    "rng_key = jax.random.PRNGKey(5)\n",
    "test_size = 10000\n",
    "data_size = len(X)\n",
    "idx = jax.random.choice(key=rng_key, a=jnp.arange(data_size), shape=(test_size,), replace=False)\n",
    "mask = np.repeat(False, data_size)\n",
    "mask[idx] = True"
   ]
  },
  {
   "cell_type": "code",
   "execution_count": 5,
   "id": "18362b4b",
   "metadata": {},
   "outputs": [
    {
     "data": {
      "text/plain": [
       "DeviceArray([ 963, 1119,  962, 1090,  917,  916, 1018, 1042,  997,  976], dtype=int32)"
      ]
     },
     "execution_count": 5,
     "metadata": {},
     "output_type": "execute_result"
    }
   ],
   "source": [
    "X_test, y_test = X[mask], y[mask]\n",
    "jnp.bincount(y_test)  # check if we have equal proportion of all labels"
   ]
  },
  {
   "cell_type": "code",
   "execution_count": 6,
   "id": "5f2fa06c",
   "metadata": {},
   "outputs": [
    {
     "data": {
      "text/plain": [
       "DeviceArray([4960, 5623, 4996, 5041, 4925, 4505, 4900, 5223, 4854, 4973], dtype=int32)"
      ]
     },
     "execution_count": 6,
     "metadata": {},
     "output_type": "execute_result"
    }
   ],
   "source": [
    "X_train, y_train = X[~mask], y[~mask]\n",
    "jnp.bincount(y_train)"
   ]
  },
  {
   "cell_type": "code",
   "execution_count": 7,
   "id": "25c3d931",
   "metadata": {},
   "outputs": [],
   "source": [
    "def prepare_data(dataset: tuple, num_categories=10, normalize=True):\n",
    "    \"\"\"\n",
    "    preprocessing of data\n",
    "    \"\"\"\n",
    "    X, y = dataset\n",
    "    y = jax.nn.one_hot(y, num_categories)\n",
    "\n",
    "    num_examples = X.shape[0]\n",
    "    num_pixels = 28 * 28\n",
    "    X = X.reshape(num_examples, num_pixels)\n",
    "    if normalize:\n",
    "        X = X / 255.0\n",
    "\n",
    "    return jnp.array(X), jnp.array(y)"
   ]
  },
  {
   "cell_type": "code",
   "execution_count": 8,
   "id": "190c1125",
   "metadata": {},
   "outputs": [
    {
     "data": {
      "text/plain": [
       "((50000, 784), (50000, 10))"
      ]
     },
     "execution_count": 8,
     "metadata": {},
     "output_type": "execute_result"
    }
   ],
   "source": [
    "X_train, y_train = prepare_data((X_train, y_train))\n",
    "X_train.shape, y_train.shape"
   ]
  },
  {
   "cell_type": "code",
   "execution_count": 9,
   "id": "e3f1ff10",
   "metadata": {},
   "outputs": [
    {
     "data": {
      "text/plain": [
       "((10000, 784), (10000, 10))"
      ]
     },
     "execution_count": 9,
     "metadata": {},
     "output_type": "execute_result"
    }
   ],
   "source": [
    "# if your RAM is exhausted with memory, then use 1000 samples from X_test as test data while doing predictions\n",
    "X_test, y_test = prepare_data((X_test, y_test))\n",
    "X_test.shape, y_test.shape"
   ]
  },
  {
   "cell_type": "code",
   "execution_count": 10,
   "id": "0e741664",
   "metadata": {},
   "outputs": [
    {
     "data": {
      "text/plain": [
       "(60000, 1000)"
      ]
     },
     "execution_count": 10,
     "metadata": {},
     "output_type": "execute_result"
    }
   ],
   "source": [
    "# Batch the data\n",
    "DATA_SIZE = len(data[\"label\"])\n",
    "BATCH_SIZE = 1_000\n",
    "DATA_SIZE, BATCH_SIZE"
   ]
  },
  {
   "cell_type": "markdown",
   "id": "e03a720a",
   "metadata": {},
   "source": [
    "## Flax MLP model"
   ]
  },
  {
   "cell_type": "code",
   "execution_count": 11,
   "id": "b2794154",
   "metadata": {},
   "outputs": [],
   "source": [
    "nclasses = 10\n",
    "\n",
    "\n",
    "class mlp(nn.Module):\n",
    "    features: list\n",
    "    activations: list\n",
    "\n",
    "    @nn.compact\n",
    "    def __call__(self, X, return_logits=False):\n",
    "        if len(self.activations) != len(self.features) - 1:\n",
    "            raise Exception(f\"Length of activations should be equal to {len(self.features) - 1}\")\n",
    "\n",
    "        for i, feature in enumerate(self.features):\n",
    "            X = nn.Dense(feature, name=f\"{i}_Dense\")(X)\n",
    "            if i != len(self.features) - 1:\n",
    "                X = self.activations[i](X)\n",
    "\n",
    "        if return_logits:\n",
    "            return X\n",
    "\n",
    "        return nn.log_softmax(X)\n",
    "\n",
    "    def sgd_loss(self, params, X, y):\n",
    "        reg = 0.00001  # regularization constant\n",
    "        labels = y\n",
    "\n",
    "        log_probs = self.apply(params, X)\n",
    "        softmax_crossent = -jnp.mean(labels * log_probs)\n",
    "\n",
    "        l2_loss = 0.5 * sum(jnp.sum(jnp.square(p)) for p in jax.tree_leaves(params))\n",
    "        return softmax_crossent + reg * l2_loss\n",
    "\n",
    "    def compute_accuracy(self, parameters, X, y):\n",
    "        \"\"\"Compute the accuracy of the model.\n",
    "        To make predictions we take the number that corresponds to the highest probability value.\n",
    "        \"\"\"\n",
    "        target_class = jnp.argmax(y, axis=1)\n",
    "        predicted_class = jnp.argmax(self.apply(parameters, X), axis=1)\n",
    "        return jnp.mean(predicted_class == target_class)"
   ]
  },
  {
   "cell_type": "code",
   "execution_count": 12,
   "id": "a65113b4",
   "metadata": {},
   "outputs": [],
   "source": [
    "def tree_shape(tree):\n",
    "    \"\"\"\n",
    "    returns  shape of leaves of tree\n",
    "    \"\"\"\n",
    "    return jax.tree_map(jnp.shape, tree)\n",
    "\n",
    "\n",
    "def batch_data(rng_key, data, batch_size=BATCH_SIZE):\n",
    "    \"\"\"\n",
    "    create batch from data of size batch_size\n",
    "    \"\"\"\n",
    "    X, y = data\n",
    "    idx = jax.random.choice(key=rng_key, a=jnp.arange(len(y)), shape=(batch_size,))\n",
    "    batch = (X[idx], y[idx])\n",
    "    return batch"
   ]
  },
  {
   "cell_type": "markdown",
   "id": "117090e8",
   "metadata": {},
   "source": [
    "## SGD"
   ]
  },
  {
   "cell_type": "code",
   "execution_count": 13,
   "id": "66b012c0",
   "metadata": {},
   "outputs": [
    {
     "data": {
      "text/plain": [
       "{'params': {'0_Dense': {'bias': (300,), 'kernel': (784, 300)},\n",
       "  '1_Dense': {'bias': (100,), 'kernel': (300, 100)},\n",
       "  '2_Dense': {'bias': (10,), 'kernel': (100, 10)}}}"
      ]
     },
     "execution_count": 13,
     "metadata": {},
     "output_type": "execute_result"
    }
   ],
   "source": [
    "# create mlp model for SGD\n",
    "rng_key = jax.random.PRNGKey(12)\n",
    "features = [300, 100, 10]\n",
    "activations = [nn.relu, nn.relu]\n",
    "mlp_sgd = mlp(features, activations)\n",
    "params = unfreeze(mlp_sgd.init(rng_key, X_train[:10]))  # params are forozendict so need to unfreeze to modify them\n",
    "tree_shape(params)"
   ]
  },
  {
   "cell_type": "code",
   "execution_count": 14,
   "id": "d9ea9155",
   "metadata": {},
   "outputs": [],
   "source": [
    "# set optimizer\n",
    "learning_rate = 0.001\n",
    "rmsprop_opt = optax.rmsprop(learning_rate)\n",
    "opt_state = rmsprop_opt.init(params)  # initial state\n",
    "grad_sgd_loss = jax.grad(mlp_sgd.sgd_loss)"
   ]
  },
  {
   "cell_type": "code",
   "execution_count": 15,
   "id": "515a2426",
   "metadata": {},
   "outputs": [],
   "source": [
    "@jax.jit\n",
    "def train_step(carry, rng_key):\n",
    "    params, opt_state = carry\n",
    "    rng_key1, rng_key2 = jax.random.split(rng_key)\n",
    "    X, y = batch_data(rng_key2, (X_train, y_train))\n",
    "\n",
    "    grad_loss = grad_sgd_loss(params, X, y)\n",
    "    updates, opt_state = rmsprop_opt.update(grad_loss, opt_state)\n",
    "    params = optax.apply_updates(params, updates)\n",
    "    loss = mlp_sgd.sgd_loss(params, X, y)\n",
    "\n",
    "    accuracy_test = mlp_sgd.compute_accuracy(params, X_test, y_test)\n",
    "    accuracy_train = mlp_sgd.compute_accuracy(params, X, y)\n",
    "\n",
    "    return (params, opt_state), (accuracy_train, accuracy_test, loss)"
   ]
  },
  {
   "cell_type": "code",
   "execution_count": 16,
   "id": "94249fd7",
   "metadata": {},
   "outputs": [
    {
     "name": "stdout",
     "output_type": "stream",
     "text": [
      "CPU times: user 6.92 s, sys: 3.09 s, total: 10 s\n",
      "Wall time: 2.86 s\n"
     ]
    }
   ],
   "source": [
    "%%time\n",
    "carry = (params, opt_state)\n",
    "(final_params_sgd, final_state), (accuracy_train, accuracy_test, loss) = jax.lax.scan(\n",
    "    train_step, carry, jax.random.split(rng_key, 6000)\n",
    ")"
   ]
  },
  {
   "cell_type": "code",
   "execution_count": 17,
   "id": "c28012d5",
   "metadata": {},
   "outputs": [
    {
     "data": {
      "text/plain": [
       "(DeviceArray([1.       , 1.       , 1.       , 1.       , 0.9990001,\n",
       "              1.       , 1.       , 0.9990001, 1.       , 0.9990001],            dtype=float32),\n",
       " DeviceArray([0.9783    , 0.97969997, 0.978     , 0.97789997, 0.97889996,\n",
       "              0.97889996, 0.9783    , 0.9781    , 0.9773    , 0.9781    ],            dtype=float32))"
      ]
     },
     "execution_count": 17,
     "metadata": {},
     "output_type": "execute_result"
    }
   ],
   "source": [
    "accuracy_train[-10:], accuracy_test[-10:]"
   ]
  },
  {
   "cell_type": "code",
   "execution_count": 18,
   "id": "b696788f",
   "metadata": {},
   "outputs": [
    {
     "data": {
      "image/png": "[encoded data removed]",
      "text/plain": [
       "<Figure size 432x288 with 1 Axes>"
      ]
     },
     "metadata": {
      "needs_background": "light"
     },
     "output_type": "display_data"
    }
   ],
   "source": [
    "plt.plot(accuracy_test)\n",
    "plt.title(f\"Test accuracy: {accuracy_test[-10:].mean():.2f}\");"
   ]
  },
  {
   "cell_type": "code",
   "execution_count": 19,
   "id": "b5b40046",
   "metadata": {},
   "outputs": [
    {
     "data": {
      "text/plain": [
       "(10000,)"
      ]
     },
     "execution_count": 19,
     "metadata": {},
     "output_type": "execute_result"
    }
   ],
   "source": [
    "# predictive probabilities\n",
    "pred_probs = jnp.max(nn.softmax(mlp_sgd.apply(final_params_sgd, X_test, return_logits=True)), axis=1)\n",
    "pred_probs.shape"
   ]
  },
  {
   "cell_type": "code",
   "execution_count": 20,
   "id": "d450065e",
   "metadata": {},
   "outputs": [],
   "source": [
    "def get_accuracy_vs_percentage_certainity_sgd(X, y, pred_probs, net_model, thresholds, params):\n",
    "    pcts_sgd = []\n",
    "    accs_sgd = []\n",
    "    for th in thresholds:\n",
    "        certain_mask = pred_probs >= th\n",
    "\n",
    "        # accuracy\n",
    "        accuracy = net_model.compute_accuracy(params, X[certain_mask], y[certain_mask])\n",
    "        accs_sgd.append(accuracy)\n",
    "\n",
    "        # percentage of certainity\n",
    "        pct = jnp.mean(certain_mask)\n",
    "        pcts_sgd.append(pct)\n",
    "\n",
    "        print(pct, accuracy)\n",
    "\n",
    "    return accs_sgd, pcts_sgd"
   ]
  },
  {
   "cell_type": "code",
   "execution_count": 21,
   "id": "ec984f5d",
   "metadata": {},
   "outputs": [
    {
     "name": "stdout",
     "output_type": "stream",
     "text": [
      "1.0 0.9781\n",
      "1.0 0.9781\n",
      "1.0 0.9781\n",
      "1.0 0.9781\n",
      "0.9995 0.9785893\n",
      "0.99759996 0.97965115\n",
      "0.9905 0.98283696\n",
      "0.98149997 0.98553234\n",
      "0.9726 0.98797035\n",
      "0.95739996 0.99101734\n",
      "0.095699996 1.0\n"
     ]
    }
   ],
   "source": [
    "thresholds = jnp.arange(0, 1.1, 0.1)\n",
    "accs_sgd, pcts_sgd = get_accuracy_vs_percentage_certainity_sgd(\n",
    "    X_test, y_test, pred_probs, mlp_sgd, thresholds, final_params_sgd\n",
    ")"
   ]
  },
  {
   "cell_type": "code",
   "execution_count": 22,
   "id": "38e0027c",
   "metadata": {},
   "outputs": [],
   "source": [
    "def plot_accuracy_perc_certainity(ax, accs, pcts, thresholds, bbox=(0.8, 0.8), show_legend=True):\n",
    "    ax_l = ax\n",
    "\n",
    "    # plot perc_certainity\n",
    "    ax_r = ax_l.twinx()\n",
    "    pct_plot = ax_r.plot(thresholds, pcts, \"-+\", color=\"green\", label=\"pct of certain preds\")\n",
    "    ax_r.set_ylabel(\"pct\")\n",
    "    ax_l.set_xlabel(\"certainty threshold\")\n",
    "    ax_r.set_ylim(0, 1.05)\n",
    "\n",
    "    # plot accuracy\n",
    "    acc_plot = ax_l.plot(thresholds, accs, \"-+\", label=\"Certainty Accuracy\")\n",
    "    ax_l.set_ylabel(\"accuracy\")\n",
    "\n",
    "    # plot accuracy on whole batch\n",
    "    mn, mx = ax_r.get_xlim()\n",
    "    acc_hline = ax_l.hlines(accs[0], mn, mx, color=\"black\", linestyle=\"-.\", label=\"Test accuracy\")\n",
    "    if show_legend:\n",
    "        ax_r.legend(handles=[acc_plot[0], pct_plot[0], acc_hline], bbox_to_anchor=bbox, frameon=False)\n",
    "\n",
    "    return ax_l, ax_r"
   ]
  },
  {
   "cell_type": "code",
   "execution_count": 23,
   "id": "a8f6ff89",
   "metadata": {},
   "outputs": [
    {
     "name": "stderr",
     "output_type": "stream",
     "text": [
      "/home/patel_zeel/miniconda3/envs/jax_gpu/lib/python3.9/site-packages/probml_utils/plotting.py:26: UserWarning: LATEXIFY environment variable not set, not latexifying\n",
      "  warnings.warn(\"LATEXIFY environment variable not set, not latexifying\")\n",
      "/home/patel_zeel/miniconda3/envs/jax_gpu/lib/python3.9/site-packages/probml_utils/plotting.py:80: UserWarning: set FIG_DIR environment variable to save figures\n",
      "  warnings.warn(\"set FIG_DIR environment variable to save figures\")\n"
     ]
    },
    {
     "data": {
      "image/png": "[encoded data removed]",
      "text/plain": [
       "<Figure size 432x288 with 2 Axes>"
      ]
     },
     "metadata": {
      "needs_background": "light"
     },
     "output_type": "display_data"
    }
   ],
   "source": [
    "pml.latexify(width_scale_factor=2, fig_height=1.6)\n",
    "fig, ax = plt.subplots()\n",
    "plot_accuracy_perc_certainity(ax, accs_sgd, pcts_sgd, jnp.arange(0, 1.1, 0.1))\n",
    "pml.savefig(\"acc-vs-conf-sgd\")"
   ]
  },
  {
   "cell_type": "markdown",
   "id": "778a3739",
   "metadata": {},
   "source": [
    "## SGLD"
   ]
  },
  {
   "cell_type": "code",
   "execution_count": 24,
   "id": "a5dfba6f",
   "metadata": {},
   "outputs": [],
   "source": [
    "def logprior_fn(params):\n",
    "    flatten_params, unravel_fn = ravel_pytree(params)  # get all params in single array\n",
    "    return jax.tree_map(lambda x: tfd.Normal(0, 1).log_prob(x), flatten_params).sum()"
   ]
  },
  {
   "cell_type": "code",
   "execution_count": 25,
   "id": "86183edc",
   "metadata": {},
   "outputs": [],
   "source": [
    "def loglikeli_fn(params, data):\n",
    "    X_data, y_data = data\n",
    "    pred_logprobs = mlp_sgld.apply(params, X_data)\n",
    "    return jax.tree_map(lambda pred_logprob, y: pred_logprob * y, pred_logprobs, y_data).sum()"
   ]
  },
  {
   "cell_type": "code",
   "execution_count": 26,
   "id": "12cf955d",
   "metadata": {},
   "outputs": [
    {
     "data": {
      "text/plain": [
       "{'params': {'0_Dense': {'bias': (300,), 'kernel': (784, 300)},\n",
       "  '1_Dense': {'bias': (100,), 'kernel': (300, 100)},\n",
       "  '2_Dense': {'bias': (10,), 'kernel': (100, 10)}}}"
      ]
     },
     "execution_count": 26,
     "metadata": {},
     "output_type": "execute_result"
    }
   ],
   "source": [
    "# crete MLP flax model\n",
    "rng_key = jax.random.PRNGKey(28)\n",
    "features = [300, 100, 10]\n",
    "activations = [nn.softmax, nn.softmax]\n",
    "mlp_sgld = mlp(features, activations)\n",
    "params = unfreeze(mlp_sgld.init(rng_key, X_train[:10]))\n",
    "tree_shape(params)"
   ]
  },
  {
   "cell_type": "code",
   "execution_count": 27,
   "id": "24c6c102",
   "metadata": {},
   "outputs": [],
   "source": [
    "# Build the SGLD kernel\n",
    "step_size = 6e-4  # decrease this for better accuracy and smooth prediction\n",
    "schedule_fn = lambda _: step_size  # constant step size\n",
    "grad_fn = grad_estimator(logprior_fn, loglikeli_fn, data_size)\n",
    "sgld = blackjax.sgld(grad_fn, schedule_fn)"
   ]
  },
  {
   "cell_type": "code",
   "execution_count": 28,
   "id": "72da4dc3",
   "metadata": {},
   "outputs": [
    {
     "name": "stdout",
     "output_type": "stream",
     "text": [
      "CPU times: user 2.81 s, sys: 119 ms, total: 2.93 s\n",
      "Wall time: 6.35 s\n"
     ]
    }
   ],
   "source": [
    "%%time\n",
    "# Set the initial state\n",
    "rng_key = jax.random.PRNGKey(128)\n",
    "init_positions = mlp_sgld.init(rng_key, X_train[:4])\n",
    "\n",
    "X, y = batch_data(rng_key, (X_train, y_train))\n",
    "state = sgld.init(init_positions, (X, y))"
   ]
  },
  {
   "cell_type": "code",
   "execution_count": 29,
   "id": "b4e74a2d",
   "metadata": {},
   "outputs": [],
   "source": [
    "@jax.jit\n",
    "def inner_step(state, rng_key):\n",
    "    \"\"\"\n",
    "    inner step will iterate 10 steps of training\n",
    "    \"\"\"\n",
    "    _, rng_key2 = jax.random.split(rng_key)\n",
    "    batch = batch_data(rng_key2, (X_train, y_train))\n",
    "    state = sgld.step(rng_key, state, batch)\n",
    "    return state, _\n",
    "\n",
    "\n",
    "@jax.jit\n",
    "def outer_step(state, rng_key):\n",
    "    \"\"\"\n",
    "    outer step will store 10th sample & accuracy using that sample after each one complete iteration of inner step\n",
    "    \"\"\"\n",
    "\n",
    "    # take sgld step n_samples times\n",
    "    n_samples = 10\n",
    "    keys = jax.random.split(rng_key, n_samples)\n",
    "    state, _ = jax.lax.scan(inner_step, state, keys)\n",
    "    params = state.position\n",
    "\n",
    "    rng_key1, rng_key2 = jax.random.split(rng_key)\n",
    "\n",
    "    # compute test accuracy\n",
    "    test_acc = mlp_sgld.compute_accuracy(params, X_test, y_test)\n",
    "\n",
    "    # compute train accuracy\n",
    "    X, y = batch_data(rng_key2, (X_train, y_train))\n",
    "    val_acc = mlp_sgld.compute_accuracy(params, X, y)\n",
    "\n",
    "    return state, (state, val_acc, test_acc)"
   ]
  },
  {
   "cell_type": "code",
   "execution_count": 30,
   "id": "5771816d",
   "metadata": {},
   "outputs": [
    {
     "name": "stdout",
     "output_type": "stream",
     "text": [
      "CPU times: user 7.66 s, sys: 3.04 s, total: 10.7 s\n",
      "Wall time: 3.24 s\n"
     ]
    }
   ],
   "source": [
    "%%time\n",
    "rng_key = jax.random.PRNGKey(47)\n",
    "steps = 600  # but training loop (inner step) will iterate steps*n_samples time\n",
    "final_state, (states, val_acc, test_acc) = jax.lax.scan(outer_step, state, jax.random.split(rng_key, steps))"
   ]
  },
  {
   "cell_type": "code",
   "execution_count": 31,
   "id": "ff1769c2",
   "metadata": {},
   "outputs": [
    {
     "data": {
      "text/plain": [
       "(DeviceArray([0.95600003, 0.93900007, 0.961     , 0.9480001 , 0.943     ,\n",
       "              0.95600003, 0.95500004, 0.95400006, 0.938     , 0.95500004],            dtype=float32),\n",
       " DeviceArray([0.93979996, 0.9349    , 0.9414    , 0.9374    , 0.93479997,\n",
       "              0.9411    , 0.9406    , 0.941     , 0.93539995, 0.9395    ],            dtype=float32))"
      ]
     },
     "execution_count": 31,
     "metadata": {},
     "output_type": "execute_result"
    }
   ],
   "source": [
    "val_acc[-10:], test_acc[-10:]"
   ]
  },
  {
   "cell_type": "code",
   "execution_count": 32,
   "id": "efe7bbbd",
   "metadata": {},
   "outputs": [
    {
     "data": {
      "image/png": "[encoded data removed]",
      "text/plain": [
       "<Figure size 1008x288 with 2 Axes>"
      ]
     },
     "metadata": {
      "needs_background": "light"
     },
     "output_type": "display_data"
    }
   ],
   "source": [
    "fig, (ax1, ax2) = plt.subplots(1, 2, figsize=(14, 4))\n",
    "ax1.plot(val_acc, \"r\", label=\"validation accuracy\")\n",
    "ax1.legend()\n",
    "ax1.set_title(f\"Validation accuracy: {jnp.mean(val_acc[-10:]):.2f}\")\n",
    "\n",
    "ax2.plot(test_acc, \"g\", label=\"test accuracy\")\n",
    "ax2.set_title(f\"Test accuracy: {jnp.mean(test_acc[-10:]):.2f}\")\n",
    "ax2.legend()\n",
    "sns.despine()"
   ]
  },
  {
   "cell_type": "code",
   "execution_count": 33,
   "id": "1775a84f",
   "metadata": {},
   "outputs": [
    {
     "data": {
      "text/plain": [
       "FrozenDict({\n",
       "    params: {\n",
       "        0_Dense: {\n",
       "            bias: (300, 300),\n",
       "            kernel: (300, 784, 300),\n",
       "        },\n",
       "        1_Dense: {\n",
       "            bias: (300, 100),\n",
       "            kernel: (300, 300, 100),\n",
       "        },\n",
       "        2_Dense: {\n",
       "            bias: (300, 10),\n",
       "            kernel: (300, 100, 10),\n",
       "        },\n",
       "    },\n",
       "})"
      ]
     },
     "execution_count": 33,
     "metadata": {},
     "output_type": "execute_result"
    }
   ],
   "source": [
    "# remove warmup samples\n",
    "params = states.position\n",
    "num_warmup = 300\n",
    "final_params_sgld = jax.tree_map(lambda x: x[num_warmup:], params)\n",
    "tree_shape(final_params_sgld)"
   ]
  },
  {
   "cell_type": "code",
   "execution_count": 34,
   "id": "eec7aac6",
   "metadata": {},
   "outputs": [],
   "source": [
    "def sgld_posterior_predict(net_model, params_samples, X):\n",
    "    \"\"\"\n",
    "    net_model: neaural net model for predictions\n",
    "    params_sample: params of neural net sampled using MCMC\n",
    "    X: data\n",
    "\n",
    "    how to calculate posterior preds?\n",
    "    .......\n",
    "    Let n_samples_of_params = 5\n",
    "    For given Xi:\n",
    "        model_predicted_labels = [2, 2, 2, 8, 0]\n",
    "        then,\n",
    "        pred_prob (x1) = freq of most repeated labels / n_samles = 3/5\n",
    "\n",
    "    returns\n",
    "    .......\n",
    "    posterior predictive probabilities of size len(X)\n",
    "    \"\"\"\n",
    "\n",
    "    # predictive probabilities of X for each params\n",
    "    # n_samples x len(X) x n_classes\n",
    "    pred_probs = nn.softmax(jax.vmap(lambda param: net_model.apply(param, X, return_logits=True))(params_samples))\n",
    "\n",
    "    # class predicted of X for each params\n",
    "    # len(X) x n_samples\n",
    "    predicted_class = jnp.argmax(pred_probs, axis=-1).T\n",
    "\n",
    "    # number of params samples\n",
    "    n_samples = predicted_class.shape[1]\n",
    "\n",
    "    # posterior predictive probability using histogram\n",
    "    posterior_pred_probs = jax.vmap(\n",
    "        lambda pred_class_arr: (pred_class_arr == jnp.argmax(jnp.bincount(pred_class_arr, length=10))).mean()\n",
    "    )(predicted_class)\n",
    "\n",
    "    return posterior_pred_probs"
   ]
  },
  {
   "cell_type": "code",
   "execution_count": 35,
   "id": "fa713cae",
   "metadata": {},
   "outputs": [
    {
     "data": {
      "text/plain": [
       "(10000,)"
      ]
     },
     "execution_count": 35,
     "metadata": {},
     "output_type": "execute_result"
    }
   ],
   "source": [
    "posterior_pred_probs = sgld_posterior_predict(mlp_sgld, final_params_sgld, X_test)\n",
    "posterior_pred_probs.shape"
   ]
  },
  {
   "cell_type": "code",
   "execution_count": 36,
   "id": "616d1538",
   "metadata": {},
   "outputs": [],
   "source": [
    "def get_accuracy_vs_percentage_certainity_sgld(X, y, posterior_pred_probs, net_model, thresholds, params_samples):\n",
    "    thresholds = jnp.arange(0, 1.1, 0.1)\n",
    "    pcts = []\n",
    "    accs = []\n",
    "    for th in thresholds:\n",
    "        certain_mask = posterior_pred_probs >= th\n",
    "\n",
    "        # accuracy\n",
    "        if certain_mask.sum() == 0:\n",
    "            acc_sample = 1\n",
    "        else:\n",
    "            acc_samples = jax.vmap(net_model.compute_accuracy, in_axes=(0, None, None))(\n",
    "                params_samples, X[certain_mask], y[certain_mask]\n",
    "            ).mean()\n",
    "        accs.append(acc_samples)\n",
    "\n",
    "        # percentage of certainty\n",
    "        batch_size = len(posterior_pred_probs)\n",
    "        pct = jnp.mean(certain_mask.mean())\n",
    "        print(pct, acc_samples)\n",
    "        pcts.append(pct)\n",
    "\n",
    "    return accs, pcts"
   ]
  },
  {
   "cell_type": "code",
   "execution_count": 37,
   "id": "ac980ec9",
   "metadata": {},
   "outputs": [
    {
     "name": "stdout",
     "output_type": "stream",
     "text": [
      "1.0 0.92040634\n",
      "1.0 0.92040634\n",
      "1.0 0.92040634\n",
      "0.9995 0.9207711\n",
      "0.99439996 0.9239689\n",
      "0.9798 0.9329346\n",
      "0.95629996 0.94558614\n",
      "0.93299997 0.9563945\n",
      "0.9051 0.9683604\n",
      "0.86139995 0.97970706\n",
      "0.4529 0.9973504\n"
     ]
    }
   ],
   "source": [
    "thresholds = jnp.arange(0, 1.1, 0.1)\n",
    "accs_sgld, pcts_sgld = get_accuracy_vs_percentage_certainity_sgld(\n",
    "    X_test, y_test, posterior_pred_probs, mlp_sgld, thresholds, final_params_sgld\n",
    ")"
   ]
  },
  {
   "cell_type": "code",
   "execution_count": 38,
   "id": "819a8d87",
   "metadata": {},
   "outputs": [
    {
     "name": "stderr",
     "output_type": "stream",
     "text": [
      "/home/patel_zeel/miniconda3/envs/jax_gpu/lib/python3.9/site-packages/probml_utils/plotting.py:26: UserWarning: LATEXIFY environment variable not set, not latexifying\n",
      "  warnings.warn(\"LATEXIFY environment variable not set, not latexifying\")\n",
      "/home/patel_zeel/miniconda3/envs/jax_gpu/lib/python3.9/site-packages/probml_utils/plotting.py:80: UserWarning: set FIG_DIR environment variable to save figures\n",
      "  warnings.warn(\"set FIG_DIR environment variable to save figures\")\n"
     ]
    },
    {
     "data": {
      "image/png": "[encoded data removed]",
      "text/plain": [
       "<Figure size 432x288 with 2 Axes>"
      ]
     },
     "metadata": {
      "needs_background": "light"
     },
     "output_type": "display_data"
    }
   ],
   "source": [
    "pml.latexify(width_scale_factor=2, fig_height=1.6)\n",
    "fig, ax2 = plt.subplots()\n",
    "plot_accuracy_perc_certainity(ax2, accs_sgld, pcts_sgld, jnp.arange(0, 1.1, 0.1), show_legend=False)\n",
    "pml.savefig(\"acc-vs-conf-sgld\")"
   ]
  },
  {
   "cell_type": "markdown",
   "id": "4067d0f6",
   "metadata": {},
   "source": [
    "## Distribution shift"
   ]
  },
  {
   "cell_type": "code",
   "execution_count": 39,
   "id": "1d3c4583",
   "metadata": {},
   "outputs": [],
   "source": [
    "fashion_ds = tfds.load(\"fashion_mnist:3.*.*\", split=\"test\").cache().repeat()\n",
    "fashion_test_batches = tfds.as_numpy(fashion_ds.batch(10_000))\n",
    "fashion_test_batches = iter(fashion_test_batches)\n",
    "fashion_batch = next(fashion_test_batches)"
   ]
  },
  {
   "cell_type": "code",
   "execution_count": 40,
   "id": "c6cbd763",
   "metadata": {},
   "outputs": [
    {
     "data": {
      "text/plain": [
       "((10000, 784), (10000, 10))"
      ]
     },
     "execution_count": 40,
     "metadata": {},
     "output_type": "execute_result"
    }
   ],
   "source": [
    "X_fashion, y_fashion = prepare_data((fashion_batch[\"image\"], fashion_batch[\"label\"]))\n",
    "X_fashion.shape, y_fashion.shape"
   ]
  },
  {
   "cell_type": "markdown",
   "id": "85959f6e",
   "metadata": {},
   "source": [
    "## SGD"
   ]
  },
  {
   "cell_type": "code",
   "execution_count": 41,
   "id": "b60237be",
   "metadata": {},
   "outputs": [
    {
     "data": {
      "text/plain": [
       "(10000,)"
      ]
     },
     "execution_count": 41,
     "metadata": {},
     "output_type": "execute_result"
    }
   ],
   "source": [
    "pred_probs = jnp.max(nn.softmax(mlp_sgd.apply(final_params_sgd, X_fashion, return_logits=True)), -1)\n",
    "pred_probs.shape"
   ]
  },
  {
   "cell_type": "code",
   "execution_count": 42,
   "id": "84eef7d0",
   "metadata": {},
   "outputs": [
    {
     "name": "stdout",
     "output_type": "stream",
     "text": [
      "1.0 0.086799994\n",
      "1.0 0.086799994\n",
      "1.0 0.086799994\n",
      "0.99909997 0.08647783\n",
      "0.9917 0.08631642\n",
      "0.9709 0.084251724\n",
      "0.93399996 0.08072805\n",
      "0.89159995 0.078398384\n",
      "0.83889997 0.07283347\n",
      "0.7646 0.0661784\n"
     ]
    }
   ],
   "source": [
    "thresholds = jnp.arange(0, 1, 0.1)\n",
    "accs_sgd_fash, pcts_sgd_fash = get_accuracy_vs_percentage_certainity_sgd(\n",
    "    X_fashion, y_fashion, pred_probs, mlp_sgd, thresholds, final_params_sgd\n",
    ")"
   ]
  },
  {
   "cell_type": "code",
   "execution_count": 43,
   "id": "3cef9781",
   "metadata": {},
   "outputs": [
    {
     "name": "stderr",
     "output_type": "stream",
     "text": [
      "/home/patel_zeel/miniconda3/envs/jax_gpu/lib/python3.9/site-packages/probml_utils/plotting.py:80: UserWarning: set FIG_DIR environment variable to save figures\n",
      "  warnings.warn(\"set FIG_DIR environment variable to save figures\")\n"
     ]
    },
    {
     "data": {
      "image/png": "[encoded data removed]",
      "text/plain": [
       "<Figure size 432x288 with 2 Axes>"
      ]
     },
     "metadata": {
      "needs_background": "light"
     },
     "output_type": "display_data"
    }
   ],
   "source": [
    "fig, ax1 = plt.subplots()\n",
    "\n",
    "ax1_l, ax1_r = plot_accuracy_perc_certainity(ax1, accs_sgd_fash, pcts_sgd_fash, jnp.arange(0, 1, 0.1), bbox=(0.8, 0.6))\n",
    "pml.savefig(\"acc-vs-conf-sgd-fashion\")"
   ]
  },
  {
   "cell_type": "markdown",
   "id": "4e364678",
   "metadata": {},
   "source": [
    "## SGLD"
   ]
  },
  {
   "cell_type": "code",
   "execution_count": 44,
   "id": "4cadaf19",
   "metadata": {},
   "outputs": [
    {
     "data": {
      "text/plain": [
       "(10000,)"
      ]
     },
     "execution_count": 44,
     "metadata": {},
     "output_type": "execute_result"
    }
   ],
   "source": [
    "posterior_pred_probs = sgld_posterior_predict(mlp_sgld, final_params_sgld, X_fashion)\n",
    "posterior_pred_probs.shape"
   ]
  },
  {
   "cell_type": "code",
   "execution_count": 45,
   "id": "956f2986",
   "metadata": {},
   "outputs": [
    {
     "name": "stdout",
     "output_type": "stream",
     "text": [
      "1.0 0.057391662\n",
      "1.0 0.057391662\n",
      "1.0 0.057391662\n",
      "0.9806 0.055688012\n",
      "0.86289996 0.045777418\n",
      "0.72609997 0.03393013\n",
      "0.5959 0.024917493\n",
      "0.4761 0.018405098\n",
      "0.3579 0.013786906\n",
      "0.2383 0.0102923475\n",
      "0.021699999 0.0046082954\n"
     ]
    }
   ],
   "source": [
    "thresholds = jnp.arange(0, 1.1, 0.1)\n",
    "accs_sgld_fash, pcts_sgld_fash = get_accuracy_vs_percentage_certainity_sgld(\n",
    "    X_fashion, y_fashion, posterior_pred_probs, mlp_sgld, thresholds, final_params_sgld\n",
    ")"
   ]
  },
  {
   "cell_type": "code",
   "execution_count": 46,
   "id": "6121d56f",
   "metadata": {},
   "outputs": [
    {
     "name": "stderr",
     "output_type": "stream",
     "text": [
      "/home/patel_zeel/miniconda3/envs/jax_gpu/lib/python3.9/site-packages/probml_utils/plotting.py:80: UserWarning: set FIG_DIR environment variable to save figures\n",
      "  warnings.warn(\"set FIG_DIR environment variable to save figures\")\n"
     ]
    },
    {
     "data": {
      "image/png": "[encoded data removed]",
      "text/plain": [
       "<Figure size 432x288 with 2 Axes>"
      ]
     },
     "metadata": {
      "needs_background": "light"
     },
     "output_type": "display_data"
    }
   ],
   "source": [
    "fig, ax1 = plt.subplots()\n",
    "\n",
    "ax1_l, ax1_r = plot_accuracy_perc_certainity(\n",
    "    ax1, accs_sgld_fash, pcts_sgld_fash, jnp.arange(0, 1.1, 0.1), show_legend=False\n",
    ")\n",
    "pml.savefig(\"acc-vs-conf-sgld-fashion\")"
   ]
  },
  {
   "cell_type": "code",
   "execution_count": null,
   "id": "7d1b4b34",
   "metadata": {},
   "outputs": [],
   "source": []
  }
 ],
 "metadata": {
  "kernelspec": {
   "display_name": "Python [conda env:py3713_2]",
   "language": "python",
   "name": "conda-env-py3713_2-py"
  },
  "language_info": {
   "codemirror_mode": {
    "name": "ipython",
    "version": 3
   },
   "file_extension": ".py",
   "mimetype": "text/x-python",
   "name": "python",
   "nbconvert_exporter": "python",
   "pygments_lexer": "ipython3",
   "version": "3.7.13"
  }
 },
 "nbformat": 4,
 "nbformat_minor": 5
}
