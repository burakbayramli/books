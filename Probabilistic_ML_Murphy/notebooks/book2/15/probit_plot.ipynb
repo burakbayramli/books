{
 "cells": [
  {
   "cell_type": "code",
   "execution_count": 1,
   "id": "KMghf6eVHVAt",
   "metadata": {
    "id": "KMghf6eVHVAt"
   },
   "outputs": [],
   "source": [
    "# Plots Sigmoid vs. Probit.\n",
    "import numpy as np\n",
    "import matplotlib.pyplot as plt\n",
    "\n",
    "try:\n",
    "    from probml_utils import savefig, latexify\n",
    "except ModuleNotFoundError:\n",
    "    %pip install -qq git+https://github.com/probml/probml-utils.git\n",
    "    from probml_utils import savefig, latexify\n",
    "import seaborn as sns\n",
    "from scipy.special import expit\n",
    "from scipy.stats import norm"
   ]
  },
  {
   "cell_type": "code",
   "execution_count": 2,
   "id": "C37qTOq3Ic-f",
   "metadata": {
    "id": "C37qTOq3Ic-f"
   },
   "outputs": [],
   "source": [
    "# import os\n",
    "# os.environ[\"LATEXIFY\"] = \"1\"\n",
    "# os.environ[\"FIG_DIR\"] = \".\""
   ]
  },
  {
   "cell_type": "code",
   "execution_count": 3,
   "id": "DfdLgPHvIfmy",
   "metadata": {
    "id": "DfdLgPHvIfmy"
   },
   "outputs": [],
   "source": [
    "latexify(width_scale_factor=2, fig_height=1.5)"
   ]
  },
  {
   "cell_type": "code",
   "execution_count": 4,
   "id": "05c59b49",
   "metadata": {
    "colab": {
     "base_uri": "https://localhost:8080/",
     "height": 524
    },
    "id": "05c59b49",
    "outputId": "7812b1a7-fdc4-467f-9c53-0106ad0747e2"
   },
   "outputs": [
    {
     "name": "stderr",
     "output_type": "stream",
     "text": [
      "/home/prey241/.local/lib/python3.8/site-packages/probml_utils/plotting.py:69: UserWarning: renaming ./probitSigmoidPlot.pdf to ./probitSigmoidPlot_latexified.pdf because LATEXIFY is True\n",
      "  warnings.warn(\n"
     ]
    },
    {
     "name": "stdout",
     "output_type": "stream",
     "text": [
      "saving image to ./probitSigmoidPlot_latexified.pdf\n",
      "Figure size: [3.  1.5]\n"
     ]
    }
   ],
   "source": [
    "x = np.arange(-6, 6, 0.1)\n",
    "l = np.sqrt(np.pi / 8)\n",
    "plt.plot(x, expit(x), \"r-\", label=\"sigmoid\")\n",
    "plt.plot(x, norm.cdf(l * x), \"b--\", label=\"probit\")\n",
    "plt.xlabel(\"$x$\")\n",
    "plt.ylabel(\"$f(x)$\")\n",
    "plt.axis([-6, 6, 0, 1])\n",
    "plt.legend()\n",
    "sns.despine()\n",
    "savefig(\"probitSigmoidPlot.pdf\")\n",
    "plt.show()"
   ]
  }
 ],
 "metadata": {
  "colab": {
   "name": "probit_plot.ipynb",
   "provenance": []
  },
  "gpuClass": "standard",
  "kernelspec": {
   "display_name": "Python 3 (ipykernel)",
   "language": "python",
   "name": "python3"
  },
  "language_info": {
   "codemirror_mode": {
    "name": "ipython",
    "version": 3
   },
   "file_extension": ".py",
   "mimetype": "text/x-python",
   "name": "python",
   "nbconvert_exporter": "python",
   "pygments_lexer": "ipython3",
   "version": "3.8.10"
  }
 },
 "nbformat": 4,
 "nbformat_minor": 5
}
