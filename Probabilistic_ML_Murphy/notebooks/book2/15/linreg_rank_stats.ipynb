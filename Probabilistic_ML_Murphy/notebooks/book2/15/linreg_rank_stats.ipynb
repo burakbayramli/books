{
 "cells": [
  {
   "cell_type": "markdown",
   "metadata": {
    "id": "U_QxcyQKJVuY"
   },
   "source": [
    "Perform 1d linear regression on some toy data, and its rank-transformed version.\n",
    "Code is from\n",
    "https://www.georgeho.org/tests-as-linear/"
   ]
  },
  {
   "cell_type": "code",
   "execution_count": 1,
   "metadata": {
    "id": "Hp_d0o26JWUa"
   },
   "outputs": [
    {
     "name": "stderr",
     "output_type": "stream",
     "text": [
      "<frozen importlib._bootstrap>:219: RuntimeWarning: scipy._lib.messagestream.MessageStream size changed, may indicate binary incompatibility. Expected 56 from C header, got 64 from PyObject\n"
     ]
    }
   ],
   "source": [
    "import matplotlib.pyplot as plt\n",
    "import numpy as np\n",
    "import pandas as pd\n",
    "import patsy\n",
    "import scipy\n",
    "import statsmodels.api as sm\n",
    "import statsmodels.formula.api as smf"
   ]
  },
  {
   "cell_type": "code",
   "execution_count": 2,
   "metadata": {
    "colab": {
     "base_uri": "https://localhost:8080/"
    },
    "id": "Z8xDWtFjOLdL",
    "outputId": "ce3066c2-93f6-4092-d778-b1c9a2b2f5da"
   },
   "outputs": [],
   "source": [
    "try:\n",
    "    from probml_utils import savefig, latexify\n",
    "except ModuleNotFoundError:\n",
    "    %pip install -qq git+https://github.com/probml/probml-utils.git\n",
    "    from probml_utils import savefig, latexify"
   ]
  },
  {
   "cell_type": "code",
   "execution_count": 13,
   "metadata": {
    "id": "891kyE6mOPwA"
   },
   "outputs": [],
   "source": [
    "import os\n",
    "\n",
    "os.environ[\"FIG_DIR\"] = \"/Users/kpmurphy/github/bookv2/figures\"\n",
    "os.environ[\"LATEXIFY\"] = \"1\"\n",
    "\n",
    "latexify(fig_height=2)"
   ]
  },
  {
   "cell_type": "code",
   "execution_count": 14,
   "metadata": {
    "id": "fMnB7H5FJaWX"
   },
   "outputs": [],
   "source": [
    "def format_decimals_factory(num_decimals=1):\n",
    "    return lambda x: \"{1:.{0}f}\".format(num_decimals, x)\n",
    "\n",
    "\n",
    "def pearson_spearman_plot():\n",
    "    # Construct data as pd.DataFrames\n",
    "    x = np.random.normal(0, 2, 30)\n",
    "    y = 0.8 * x + 0.2 * 5 * np.random.randn(30)\n",
    "    data_pearson = pd.DataFrame()\n",
    "    data_pearson[\"x\"], data_pearson[\"y\"] = x, y\n",
    "    data_spearman = data_pearson.rank()\n",
    "\n",
    "    # Pearson equivalent linear model\n",
    "    res_pearson = smf.ols(\"y ~ 1 + x\", data_pearson).fit()\n",
    "    intercept_pearson, slope_pearson = res_pearson.params\n",
    "    print(\"pearson params\", res_pearson.params)\n",
    "\n",
    "    # Spearman equivalent linear model\n",
    "    res_spearman = smf.ols(\"y ~ 1 + x\", data_spearman).fit()\n",
    "    intercept_spearman, slope_spearman = res_spearman.params\n",
    "    print(\"spearman params\", res_spearman.params)\n",
    "\n",
    "    # Plot\n",
    "    # fig, axarr = plt.subplots(ncols=2, figsize=[18, 8])\n",
    "    fig, axarr = plt.subplots(ncols=2)\n",
    "\n",
    "    for ax, dataset, to_str, title, a, b in zip(\n",
    "        axarr,\n",
    "        [data_pearson, data_spearman],\n",
    "        [format_decimals_factory(), format_decimals_factory(0)],\n",
    "        [\"Pearson\", \"Spearman\"],\n",
    "        [slope_pearson, slope_spearman],\n",
    "        [intercept_pearson, intercept_spearman],\n",
    "    ):\n",
    "        ax.scatter(dataset[\"x\"], dataset[\"y\"], color=\"k\")\n",
    "\n",
    "        annotations = \"(\" + dataset[\"x\"].apply(to_str) + \", \" + dataset[\"y\"].apply(to_str) + \")\"\n",
    "        for i, annot in enumerate(annotations):\n",
    "            ax.annotate(annot, (dataset[\"x\"][i], dataset[\"y\"][i]), color=\"gray\")\n",
    "\n",
    "        ax.axhline(a, color=\"b\", label=r\"$\\beta_0$ (Intercept)\")\n",
    "        ax.plot(\n",
    "            ax.get_xlim(),\n",
    "            [a * x + b for x in ax.get_xlim()],\n",
    "            color=\"r\",\n",
    "            label=r\"$\\beta_1$ (Slope)\",\n",
    "        )\n",
    "\n",
    "        ax.set_title(title)\n",
    "        ax.legend(fontsize=\"large\")\n",
    "\n",
    "    return fig, ax"
   ]
  },
  {
   "cell_type": "code",
   "execution_count": 15,
   "metadata": {
    "colab": {
     "base_uri": "https://localhost:8080/",
     "height": 603
    },
    "id": "s7SMuBGZJfgG",
    "outputId": "28b9ff0e-162d-41f0-fc52-bb71de22d0fc"
   },
   "outputs": [
    {
     "name": "stdout",
     "output_type": "stream",
     "text": [
      "pearson params Intercept    0.044719\n",
      "x            0.966266\n",
      "dtype: float64\n",
      "spearman params Intercept    3.537931\n",
      "x            0.771746\n",
      "dtype: float64\n",
      "saving image to /Users/kpmurphy/github/bookv2/figures/linreg_rank_stats_latexified.pdf\n",
      "Figure size: [6. 2.]\n"
     ]
    },
    {
     "name": "stderr",
     "output_type": "stream",
     "text": [
      "<ipython-input-15-c94adc1b84ce>:8: UserWarning: Matplotlib is currently using ps, which is a non-GUI backend, so cannot show the figure.\n",
      "  plt.show()\n"
     ]
    }
   ],
   "source": [
    "np.random.seed(1618)\n",
    "fig, ax = pearson_spearman_plot()\n",
    "\n",
    "plt.tight_layout()\n",
    "savefig(\"linreg_rank_stats\")\n",
    "\n",
    "# plt.savefig('linreg_pearson_spearman.pdf')\n",
    "plt.show()"
   ]
  },
  {
   "cell_type": "code",
   "execution_count": null,
   "metadata": {
    "id": "gDSHsm2AJfvb"
   },
   "outputs": [],
   "source": []
  }
 ],
 "metadata": {
  "colab": {
   "authorship_tag": "ABX9TyMeS95mYYHHcfPC3aaYM/Zx",
   "provenance": []
  },
  "kernelspec": {
   "display_name": "base",
   "language": "python",
   "name": "python3"
  },
  "language_info": {
   "codemirror_mode": {
    "name": "ipython",
    "version": 3
   },
   "file_extension": ".py",
   "mimetype": "text/x-python",
   "name": "python",
   "nbconvert_exporter": "python",
   "pygments_lexer": "ipython3",
   "version": "3.8.5"
  },
  "vscode": {
   "interpreter": {
    "hash": "40d3a090f54c6569ab1632332b64b2c03c39dcf918b08424e98f38b5ae0af88f"
   }
  }
 },
 "nbformat": 4,
 "nbformat_minor": 0
}
