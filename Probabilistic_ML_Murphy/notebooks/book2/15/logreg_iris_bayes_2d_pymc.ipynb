{
 "cells": [
  {
   "cell_type": "code",
   "execution_count": 8,
   "id": "8b30bd4f",
   "metadata": {
    "id": "8b30bd4f",
    "colab": {
     "base_uri": "https://localhost:8080/"
    },
    "outputId": "889e069e-28aa-4ccd-94c3-9744a980df23"
   },
   "outputs": [
    {
     "output_type": "stream",
     "name": "stdout",
     "text": [
      "env: MKL_THREADING_LAYER=GNU\n"
     ]
    }
   ],
   "source": [
    "# Bayesian Binary logistic regression in 2d for iris flwoers\n",
    "\n",
    "# Code is based on\n",
    "# https://github.com/aloctavodia/BAP/blob/master/code/Chp4/04_Generalizing_linear_models.ipynb\n",
    "\n",
    "%env MKL_THREADING_LAYER=GNU\n",
    "\n",
    "try:\n",
    "    import pymc as pm\n",
    "except ModuleNotFoundError:\n",
    "    %pip install mkl-service\n",
    "    %pip install -qq pymc\n",
    "    import pymc as pm\n",
    "import numpy as np\n",
    "import pandas as pd\n",
    "import seaborn as sns\n",
    "import matplotlib.pyplot as plt\n",
    "\n",
    "try:\n",
    "    import arviz as az\n",
    "except ModuleNotFoundError:\n",
    "    %pip install -qq arviz\n",
    "    import arviz as az\n",
    "from sklearn.datasets import load_iris\n",
    "\n",
    "try:\n",
    "    from probml_utils import savefig, latexify, is_latexify_enabled\n",
    "except ModuleNotFoundError:\n",
    "    %pip install -qq git+https://github.com/probml/probml-utils.git\n",
    "    from probml_utils import savefig, latexify, is_latexify_enabled"
   ]
  },
  {
   "cell_type": "code",
   "source": [
    "latexify(width_scale_factor=2, fig_height=1.75)"
   ],
   "metadata": {
    "id": "4MRS8FzI1Xe2",
    "colab": {
     "base_uri": "https://localhost:8080/"
    },
    "outputId": "70a0c3f5-531b-49a2-d831-457ee618c4d1"
   },
   "id": "4MRS8FzI1Xe2",
   "execution_count": 2,
   "outputs": [
    {
     "output_type": "stream",
     "name": "stderr",
     "text": [
      "/usr/local/lib/python3.7/dist-packages/probml_utils/plotting.py:26: UserWarning: LATEXIFY environment variable not set, not latexifying\n",
      "  warnings.warn(\"LATEXIFY environment variable not set, not latexifying\")\n"
     ]
    }
   ]
  },
  {
   "cell_type": "code",
   "source": [
    "iris = load_iris()\n",
    "X = iris.data\n",
    "y = iris.target\n",
    "\n",
    "# Convert to pandas dataframe\n",
    "df_iris = pd.DataFrame(data=iris.data, columns=[\"sepal_length\", \"sepal_width\", \"petal_length\", \"petal_width\"])\n",
    "df_iris[\"species\"] = pd.Series(iris.target_names[y], dtype=\"category\")\n",
    "\n",
    "df = df_iris.query(\"species == ('setosa', 'versicolor')\")"
   ],
   "metadata": {
    "id": "6gMBIVkI0Nsd"
   },
   "id": "6gMBIVkI0Nsd",
   "execution_count": 3,
   "outputs": []
  },
  {
   "cell_type": "code",
   "source": [
    "# We reduce the sample size from 50 to 25 per class,\n",
    "# or to 5 + 45 in the unbalanced setting.\n",
    "# The latter will increase posterior uncertainty\n",
    "\n",
    "\n",
    "def create_classes(df, unbalanced):\n",
    "    if unbalanced:\n",
    "        df1 = df[45:95]\n",
    "    else:\n",
    "        df1 = df[25:75]\n",
    "    assert len(df1) == 50\n",
    "    y_1 = pd.Categorical(df1[\"species\"]).codes\n",
    "    x_n = [\"sepal_length\", \"sepal_width\"]\n",
    "    x_1 = df1[x_n].values\n",
    "    return x_1, y_1"
   ],
   "metadata": {
    "id": "atpzuWXdcxKc"
   },
   "id": "atpzuWXdcxKc",
   "execution_count": 4,
   "outputs": []
  },
  {
   "cell_type": "code",
   "source": [
    "def decision_boundary(x_1, y_1):\n",
    "    with pm.Model() as model_1:\n",
    "        α = pm.Normal(\"α\", mu=0, sigma=10)\n",
    "        β = pm.Normal(\"β\", mu=0, sigma=2, shape=2)\n",
    "\n",
    "        μ = α + pm.math.dot(x_1, β)\n",
    "        bd = pm.Deterministic(\"bd\", -α / β[1] - β[0] / β[1] * x_1[:, 0])\n",
    "\n",
    "        yl = pm.Bernoulli(\"yl\", logit_p=μ, observed=y_1)\n",
    "\n",
    "        idata = pm.sample(2000, cores=1, chains=2)\n",
    "        return idata"
   ],
   "metadata": {
    "id": "RZpFDw-O0YSe"
   },
   "id": "RZpFDw-O0YSe",
   "execution_count": 5,
   "outputs": []
  },
  {
   "cell_type": "code",
   "source": [
    "def plot_fig(idata, unbalanced, x_1, y_1):\n",
    "    bdsamples = np.array(idata[\"posterior\"][\"bd\"])\n",
    "    bdsamplesflatten = bdsamples.reshape(-1, bdsamples.shape[-1])\n",
    "    idx = np.argsort(x_1[:, 0])\n",
    "    bd = bdsamplesflatten.mean(0)[idx]\n",
    "    plt.figure()\n",
    "    plt.scatter(x_1[:, 0], x_1[:, 1], c=[f\"C{x}\" for x in y_1], s=10)\n",
    "    sns.despine()\n",
    "    plt.ylim([0, 7])\n",
    "    plt.plot(x_1[:, 0][idx], bd, color=\"k\")\n",
    "\n",
    "    az.plot_hdi(x_1[:, 0], bdsamplesflatten, color=\"k\")\n",
    "\n",
    "    plt.xlabel(\"sepal length\")\n",
    "    plt.ylabel(\"sepal width\")\n",
    "    plt.tight_layout()\n",
    "    if unbalanced:\n",
    "        savefig(\"logreg_iris_bayes_2d_unbalanced\")\n",
    "    else:\n",
    "        savefig(\"logreg_iris_bayes_2d\")\n",
    "    plt.show()"
   ],
   "metadata": {
    "id": "sD4FHw8LbB0m"
   },
   "id": "sD4FHw8LbB0m",
   "execution_count": 6,
   "outputs": []
  },
  {
   "cell_type": "code",
   "source": [
    "for b in (False, True):\n",
    "    x_1, y_1 = create_classes(df, b)\n",
    "    idata = decision_boundary(x_1, y_1)\n",
    "    plot_fig(idata, b, x_1, y_1)"
   ],
   "metadata": {
    "id": "Uj2eebfSfkVk",
    "colab": {
     "base_uri": "https://localhost:8080/",
     "height": 1000
    },
    "outputId": "577a313b-bb06-4d5e-e8a0-801f171b6737"
   },
   "id": "Uj2eebfSfkVk",
   "execution_count": 7,
   "outputs": [
    {
     "output_type": "stream",
     "name": "stderr",
     "text": [
      "Auto-assigning NUTS sampler...\n",
      "Initializing NUTS using jitter+adapt_diag...\n",
      "Sequential sampling (2 chains in 1 job)\n",
      "NUTS: [α, β]\n"
     ]
    },
    {
     "output_type": "display_data",
     "data": {
      "text/plain": [
       "<IPython.core.display.HTML object>"
      ],
      "text/html": [
       "\n",
       "<style>\n",
       "    /* Turns off some styling */\n",
       "    progress {\n",
       "        /* gets rid of default border in Firefox and Opera. */\n",
       "        border: none;\n",
       "        /* Needs to be in here for Safari polyfill so background images work as expected. */\n",
       "        background-size: auto;\n",
       "    }\n",
       "    .progress-bar-interrupted, .progress-bar-interrupted::-webkit-progress-bar {\n",
       "        background: #F44336;\n",
       "    }\n",
       "</style>\n"
      ]
     },
     "metadata": {}
    },
    {
     "output_type": "display_data",
     "data": {
      "text/plain": [
       "<IPython.core.display.HTML object>"
      ],
      "text/html": [
       "\n",
       "    <div>\n",
       "      <progress value='3000' class='' max='3000' style='width:300px; height:20px; vertical-align: middle;'></progress>\n",
       "      100.00% [3000/3000 00:26<00:00 Sampling chain 0, 0 divergences]\n",
       "    </div>\n",
       "    "
      ]
     },
     "metadata": {}
    },
    {
     "output_type": "display_data",
     "data": {
      "text/plain": [
       "<IPython.core.display.HTML object>"
      ],
      "text/html": [
       "\n",
       "<style>\n",
       "    /* Turns off some styling */\n",
       "    progress {\n",
       "        /* gets rid of default border in Firefox and Opera. */\n",
       "        border: none;\n",
       "        /* Needs to be in here for Safari polyfill so background images work as expected. */\n",
       "        background-size: auto;\n",
       "    }\n",
       "    .progress-bar-interrupted, .progress-bar-interrupted::-webkit-progress-bar {\n",
       "        background: #F44336;\n",
       "    }\n",
       "</style>\n"
      ]
     },
     "metadata": {}
    },
    {
     "output_type": "display_data",
     "data": {
      "text/plain": [
       "<IPython.core.display.HTML object>"
      ],
      "text/html": [
       "\n",
       "    <div>\n",
       "      <progress value='3000' class='' max='3000' style='width:300px; height:20px; vertical-align: middle;'></progress>\n",
       "      100.00% [3000/3000 00:16<00:00 Sampling chain 1, 0 divergences]\n",
       "    </div>\n",
       "    "
      ]
     },
     "metadata": {}
    },
    {
     "output_type": "stream",
     "name": "stderr",
     "text": [
      "Sampling 2 chains for 1_000 tune and 2_000 draw iterations (2_000 + 4_000 draws total) took 43 seconds.\n",
      "The acceptance probability does not match the target. It is 0.8899, but should be close to 0.8. Try to increase the number of tuning steps.\n",
      "/usr/local/lib/python3.7/dist-packages/arviz/plots/hdiplot.py:157: FutureWarning: hdi currently interprets 2d data as (draw, shape) but this will change in a future release to (chain, draw) for coherence with other functions\n",
      "  hdi_data = hdi(y, hdi_prob=hdi_prob, circular=circular, multimodal=False, **hdi_kwargs)\n",
      "/usr/local/lib/python3.7/dist-packages/probml_utils/plotting.py:80: UserWarning: set FIG_DIR environment variable to save figures\n",
      "  warnings.warn(\"set FIG_DIR environment variable to save figures\")\n"
     ]
    },
    {
     "output_type": "display_data",
     "data": {
      "text/plain": [
       "<Figure size 432x288 with 1 Axes>"
      ],
      "image/png": "[encoded data removed]"
     },
     "metadata": {
      "needs_background": "light"
     }
    },
    {
     "output_type": "stream",
     "name": "stderr",
     "text": [
      "Auto-assigning NUTS sampler...\n",
      "Initializing NUTS using jitter+adapt_diag...\n",
      "Sequential sampling (2 chains in 1 job)\n",
      "NUTS: [α, β]\n"
     ]
    },
    {
     "output_type": "display_data",
     "data": {
      "text/plain": [
       "<IPython.core.display.HTML object>"
      ],
      "text/html": [
       "\n",
       "<style>\n",
       "    /* Turns off some styling */\n",
       "    progress {\n",
       "        /* gets rid of default border in Firefox and Opera. */\n",
       "        border: none;\n",
       "        /* Needs to be in here for Safari polyfill so background images work as expected. */\n",
       "        background-size: auto;\n",
       "    }\n",
       "    .progress-bar-interrupted, .progress-bar-interrupted::-webkit-progress-bar {\n",
       "        background: #F44336;\n",
       "    }\n",
       "</style>\n"
      ]
     },
     "metadata": {}
    },
    {
     "output_type": "display_data",
     "data": {
      "text/plain": [
       "<IPython.core.display.HTML object>"
      ],
      "text/html": [
       "\n",
       "    <div>\n",
       "      <progress value='3000' class='' max='3000' style='width:300px; height:20px; vertical-align: middle;'></progress>\n",
       "      100.00% [3000/3000 00:11<00:00 Sampling chain 0, 2 divergences]\n",
       "    </div>\n",
       "    "
      ]
     },
     "metadata": {}
    },
    {
     "output_type": "display_data",
     "data": {
      "text/plain": [
       "<IPython.core.display.HTML object>"
      ],
      "text/html": [
       "\n",
       "<style>\n",
       "    /* Turns off some styling */\n",
       "    progress {\n",
       "        /* gets rid of default border in Firefox and Opera. */\n",
       "        border: none;\n",
       "        /* Needs to be in here for Safari polyfill so background images work as expected. */\n",
       "        background-size: auto;\n",
       "    }\n",
       "    .progress-bar-interrupted, .progress-bar-interrupted::-webkit-progress-bar {\n",
       "        background: #F44336;\n",
       "    }\n",
       "</style>\n"
      ]
     },
     "metadata": {}
    },
    {
     "output_type": "display_data",
     "data": {
      "text/plain": [
       "<IPython.core.display.HTML object>"
      ],
      "text/html": [
       "\n",
       "    <div>\n",
       "      <progress value='3000' class='' max='3000' style='width:300px; height:20px; vertical-align: middle;'></progress>\n",
       "      100.00% [3000/3000 00:13<00:00 Sampling chain 1, 0 divergences]\n",
       "    </div>\n",
       "    "
      ]
     },
     "metadata": {}
    },
    {
     "output_type": "stream",
     "name": "stderr",
     "text": [
      "Sampling 2 chains for 1_000 tune and 2_000 draw iterations (2_000 + 4_000 draws total) took 24 seconds.\n",
      "There were 2 divergences after tuning. Increase `target_accept` or reparameterize.\n",
      "There were 2 divergences after tuning. Increase `target_accept` or reparameterize.\n",
      "/usr/local/lib/python3.7/dist-packages/arviz/plots/hdiplot.py:157: FutureWarning: hdi currently interprets 2d data as (draw, shape) but this will change in a future release to (chain, draw) for coherence with other functions\n",
      "  hdi_data = hdi(y, hdi_prob=hdi_prob, circular=circular, multimodal=False, **hdi_kwargs)\n",
      "/usr/local/lib/python3.7/dist-packages/probml_utils/plotting.py:80: UserWarning: set FIG_DIR environment variable to save figures\n",
      "  warnings.warn(\"set FIG_DIR environment variable to save figures\")\n"
     ]
    },
    {
     "output_type": "display_data",
     "data": {
      "text/plain": [
       "<Figure size 432x288 with 1 Axes>"
      ],
      "image/png": "[encoded data removed]"
     },
     "metadata": {
      "needs_background": "light"
     }
    }
   ]
  }
 ],
 "metadata": {
  "colab": {
   "name": "logreg_iris_bayes_2d.ipynb",
   "provenance": [],
   "collapsed_sections": []
  },
  "language_info": {
   "name": "python"
  },
  "kernelspec": {
   "name": "python3",
   "display_name": "Python 3"
  },
  "gpuClass": "standard"
 },
 "nbformat": 4,
 "nbformat_minor": 5
}