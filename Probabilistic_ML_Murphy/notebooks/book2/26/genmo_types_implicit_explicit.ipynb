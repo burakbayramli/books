{
 "nbformat": 4,
 "nbformat_minor": 0,
 "metadata": {
  "colab": {
   "name": "genmo-types-implicit-explicit.ipynb",
   "provenance": [],
   "collapsed_sections": [],
   "include_colab_link": true
  },
  "kernelspec": {
   "name": "python3",
   "display_name": "Python 3"
  }
 },
 "cells": [
  {
   "cell_type": "markdown",
   "metadata": {
    "id": "view-in-github",
    "colab_type": "text"
   },
   "source": [
    "<a href=\"https://colab.research.google.com/github/probml/probml-notebooks/blob/main/notebooks/genmo_types_implicit_explicit.ipynb\" target=\"_parent\"><img src=\"https://colab.research.google.com/assets/colab-badge.svg\" alt=\"Open In Colab\"/></a>"
   ]
  },
  {
   "cell_type": "markdown",
   "metadata": {
    "id": "BNh-HhR8h8HP"
   },
   "source": [
    "# Types of models: implicit or explicit models\n",
    "\n",
    "Author: Mihaela Rosca \n",
    "\n",
    "We use a simple example below (a mixture of Gaussians in 1 dimension) to exemplify the different between explicit generative models (with an associated density which we can query) and implicit generative models (which have an associated density but which we cannot query for likelhoods, but we can sample from it)."
   ]
  },
  {
   "cell_type": "code",
   "metadata": {
    "id": "tBtObwhMwgbb"
   },
   "source": [
    "import random\n",
    "import numpy as np\n",
    "\n",
    "import seaborn as sns\n",
    "import matplotlib.pyplot as plt\n",
    "import scipy"
   ],
   "execution_count": null,
   "outputs": []
  },
  {
   "cell_type": "code",
   "metadata": {
    "id": "2iP2urBbxHD9"
   },
   "source": [
    "sns.set(rc={\"lines.linewidth\": 2.8}, font_scale=2)\n",
    "sns.set_style(\"whitegrid\")"
   ],
   "execution_count": null,
   "outputs": []
  },
  {
   "cell_type": "code",
   "metadata": {
    "id": "p9w3bdHgZry7"
   },
   "source": [
    "# We implement our own very simple mixture, relying on scipy for the mixture\n",
    "# components.\n",
    "\n",
    "\n",
    "class SimpleGaussianMixture(object):\n",
    "    def __init__(self, mixture_weights, mixture_components):\n",
    "        self.mixture_weights = mixture_weights\n",
    "        self.mixture_components = mixture_components\n",
    "\n",
    "    def sample(self, num_samples):\n",
    "        # First sample from the mixture\n",
    "        mixture_choices = np.random.choice(\n",
    "            range(0, len(self.mixture_weights)), p=self.mixture_weights, size=num_samples\n",
    "        )\n",
    "        # And then sample from the chosen mixture\n",
    "        return np.array([self.mixture_components[mixture_choice].rvs(size=1) for mixture_choice in mixture_choices])\n",
    "\n",
    "    def pdf(self, x):\n",
    "        value = 0.0\n",
    "        for index, weight in enumerate(self.mixture_weights):\n",
    "            # Assuming using scipy distributions for components\n",
    "            value += weight * self.mixture_components[index].pdf(x)\n",
    "        return value"
   ],
   "execution_count": null,
   "outputs": []
  },
  {
   "cell_type": "code",
   "metadata": {
    "id": "Rpd4OYPedk9B"
   },
   "source": [
    "mix = 0.4\n",
    "mixture_weight = [mix, 1.0 - mix]\n",
    "mixture_components = [scipy.stats.norm(loc=-1, scale=0.1), scipy.stats.norm(loc=1, scale=0.5)]\n",
    "\n",
    "mixture = SimpleGaussianMixture(mixture_weight, mixture_components)"
   ],
   "execution_count": null,
   "outputs": []
  },
  {
   "cell_type": "code",
   "metadata": {
    "id": "-IzxYz_hfEYS",
    "colab": {
     "base_uri": "https://localhost:8080/"
    },
    "outputId": "10bfc3c1-8cd4-45bb-c092-ef3e68e4e9a5"
   },
   "source": [
    "mixture.sample(10)"
   ],
   "execution_count": null,
   "outputs": [
    {
     "output_type": "execute_result",
     "data": {
      "text/plain": [
       "array([[-0.90305697],\n",
       "       [-1.03861132],\n",
       "       [ 0.83955071],\n",
       "       [ 0.80347068],\n",
       "       [ 0.89049595],\n",
       "       [-0.94825858],\n",
       "       [ 0.4893882 ],\n",
       "       [ 0.68795869],\n",
       "       [ 0.8287332 ],\n",
       "       [ 1.02378394]])"
      ]
     },
     "metadata": {
      "tags": []
     },
     "execution_count": 5
    }
   ]
  },
  {
   "cell_type": "code",
   "metadata": {
    "id": "zIpUT4eRfecb",
    "colab": {
     "base_uri": "https://localhost:8080/"
    },
    "outputId": "8cd5b1ce-a7ca-449b-dc10-96e718117ebb"
   },
   "source": [
    "mixture.pdf([10, 1])"
   ],
   "execution_count": null,
   "outputs": [
    {
     "output_type": "execute_result",
     "data": {
      "text/plain": [
       "array([2.11049945e-71, 4.78730736e-01])"
      ]
     },
     "metadata": {
      "tags": []
     },
     "execution_count": 6
    }
   ]
  },
  {
   "cell_type": "code",
   "metadata": {
    "id": "2-LI7WjUgN8x",
    "colab": {
     "base_uri": "https://localhost:8080/"
    },
    "outputId": "42925aaa-d974-4215-8230-bb4eeada6987"
   },
   "source": [
    "data_samples = mixture.sample(30)\n",
    "len(data_samples)"
   ],
   "execution_count": null,
   "outputs": [
    {
     "output_type": "execute_result",
     "data": {
      "text/plain": [
       "30"
      ]
     },
     "metadata": {
      "tags": []
     },
     "execution_count": 15
    }
   ]
  },
  {
   "cell_type": "code",
   "metadata": {
    "id": "5E0E99pybBYz",
    "colab": {
     "base_uri": "https://localhost:8080/"
    },
    "outputId": "2e069fc0-16a1-4e5b-d320-2a6a71db9763"
   },
   "source": [
    "data_samples"
   ],
   "execution_count": null,
   "outputs": [
    {
     "output_type": "execute_result",
     "data": {
      "text/plain": [
       "array([[-1.0482792 ],\n",
       "       [ 1.30985119],\n",
       "       [ 0.95881443],\n",
       "       [-0.98818416],\n",
       "       [-1.11125221],\n",
       "       [ 0.57572352],\n",
       "       [-1.02795049],\n",
       "       [ 0.65697617],\n",
       "       [ 0.98568031],\n",
       "       [-1.05683837],\n",
       "       [-1.01304654],\n",
       "       [ 0.7774806 ],\n",
       "       [-0.88933818],\n",
       "       [ 0.67419177],\n",
       "       [ 0.98269454],\n",
       "       [-1.0555719 ],\n",
       "       [ 1.22645669],\n",
       "       [ 0.70920848],\n",
       "       [-1.17200768],\n",
       "       [ 0.7185735 ],\n",
       "       [ 0.35019706],\n",
       "       [ 0.60214806],\n",
       "       [ 0.40014463],\n",
       "       [-0.90183163],\n",
       "       [ 0.59036132],\n",
       "       [ 1.71289993],\n",
       "       [-0.83593572],\n",
       "       [-1.0252203 ],\n",
       "       [ 1.74464957],\n",
       "       [-1.23426233]])"
      ]
     },
     "metadata": {
      "tags": []
     },
     "execution_count": 17
    }
   ]
  },
  {
   "cell_type": "code",
   "metadata": {
    "colab": {
     "base_uri": "https://localhost:8080/"
    },
    "id": "ILocArXZgJ0Q",
    "outputId": "ba6b0aed-ecb0-49c9-f729-611ca8d2c136"
   },
   "source": [
    "plt.figure()\n",
    "plt.plot(data_samples, [0] * len(data_samples), \"ro\", ms=10, label=\"data\")\n",
    "plt.axis(\"off\")\n",
    "plt.ylim(-1, 2)\n",
    "plt.xticks([])\n",
    "plt.yticks([])"
   ],
   "execution_count": null,
   "outputs": [
    {
     "output_type": "execute_result",
     "data": {
      "text/plain": [
       "([], <a list of 0 Text major ticklabel objects>)"
      ]
     },
     "metadata": {
      "tags": []
     },
     "execution_count": 18
    },
    {
     "output_type": "display_data",
     "data": {
      "image/png": "[encoded data removed]",
      "text/plain": [
       "<Figure size 432x288 with 1 Axes>"
      ]
     },
     "metadata": {
      "tags": []
     }
    }
   ]
  },
  {
   "cell_type": "code",
   "metadata": {
    "id": "miDSJhh2gpWt"
   },
   "source": [
    "# Use another set of samples to exemplify samples from the model\n",
    "data_samples2 = mixture.sample(30)"
   ],
   "execution_count": null,
   "outputs": []
  },
  {
   "cell_type": "markdown",
   "metadata": {
    "id": "ZbspiQupioAN"
   },
   "source": [
    "## Implicit generative model\n",
    "\n",
    "An implicit generative model only provides us with samples. Here for simplicity, we use a different set of samples obtained from the data distribution (i.e, we assume a perfect model)."
   ]
  },
  {
   "cell_type": "code",
   "metadata": {
    "colab": {
     "base_uri": "https://localhost:8080/",
     "height": 483
    },
    "id": "hQXLcBMEgbKa",
    "outputId": "6f5dd9d6-238a-4478-8578-02ee957b0d82"
   },
   "source": [
    "plt.figure(figsize=(12, 8))\n",
    "plt.plot(data_samples, [0] * len(data_samples), \"ro\", ms=12, label=\"data\")\n",
    "plt.plot(data_samples2, [0] * len(data_samples), \"bd\", ms=10, alpha=0.7, label=\"model samples\")\n",
    "plt.axis(\"off\")\n",
    "# plt.ylim(-0.2, 2)\n",
    "# plt.xlim(-2, 3)\n",
    "plt.xticks([])\n",
    "plt.yticks([])\n",
    "plt.legend(framealpha=0.0)"
   ],
   "execution_count": null,
   "outputs": [
    {
     "output_type": "execute_result",
     "data": {
      "text/plain": [
       "<matplotlib.legend.Legend at 0x7f3606848f50>"
      ]
     },
     "metadata": {
      "tags": []
     },
     "execution_count": 10
    },
    {
     "output_type": "display_data",
     "data": {
      "image/png": "[encoded data removed]",
      "text/plain": [
       "<Figure size 864x576 with 1 Axes>"
      ]
     },
     "metadata": {
      "tags": []
     }
    }
   ]
  },
  {
   "cell_type": "markdown",
   "metadata": {
    "id": "Egl5IHBsix5t"
   },
   "source": [
    "## Explicit generative models\n",
    "\n",
    "An explicit generative model allows us to query for likelihoods under the learned distribution for points in the input space of the data. Here too we assume a perfect model in the plot, by using the data distribution pdf."
   ]
  },
  {
   "cell_type": "code",
   "metadata": {
    "colab": {
     "base_uri": "https://localhost:8080/",
     "height": 483
    },
    "id": "7dBAgXdRhASg",
    "outputId": "829d6782-72ae-4fdc-b7ee-7e329c711452"
   },
   "source": [
    "plt.figure(figsize=(12, 8))\n",
    "plt.plot(data_samples, [0] * len(data_samples), \"ro\", ms=12, label=\"data\")\n",
    "\n",
    "x_vals = np.linspace(-2.0, 3.0, int(1e4))\n",
    "pdf_vals = mixture.pdf(x_vals)\n",
    "plt.plot(x_vals, pdf_vals, linewidth=4, label=\"model density\")\n",
    "\n",
    "plt.axis(\"off\")\n",
    "plt.ylim(-0.2, 2)\n",
    "plt.xlim(-2, 3)\n",
    "plt.xticks([])\n",
    "plt.yticks([])\n",
    "plt.legend(framealpha=0)"
   ],
   "execution_count": null,
   "outputs": [
    {
     "output_type": "execute_result",
     "data": {
      "text/plain": [
       "<matplotlib.legend.Legend at 0x7f3605a97f50>"
      ]
     },
     "metadata": {
      "tags": []
     },
     "execution_count": 11
    },
    {
     "output_type": "display_data",
     "data": {
      "image/png": "[encoded data removed]",
      "text/plain": [
       "<Figure size 864x576 with 1 Axes>"
      ]
     },
     "metadata": {
      "tags": []
     }
    }
   ]
  }
 ]
}