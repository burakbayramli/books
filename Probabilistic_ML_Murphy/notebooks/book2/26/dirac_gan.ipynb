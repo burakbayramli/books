{
 "cells": [
  {
   "cell_type": "markdown",
   "metadata": {
    "colab_type": "text",
    "id": "view-in-github"
   },
   "source": [
    "<a href=\"https://colab.research.google.com/github/probml/probml-notebooks/blob/main/notebooks/dirac_gan.ipynb\" target=\"_parent\"><img src=\"https://colab.research.google.com/assets/colab-badge.svg\" alt=\"Open In Colab\"/></a>"
   ]
  },
  {
   "cell_type": "markdown",
   "metadata": {
    "id": "Tioj76xwOWeK"
   },
   "source": [
    "## The DiracGAN example\n",
    "\n",
    "Author: Mihaela Rosca \n",
    "\n",
    "We show DiracGAN (https://arxiv.org/abs/1801.04406), where the true distribution is is Dirac delta distribution with mass at zero. The generator is modeling a Dirac delta distribution with parameter $\\theta$: $G_{\\theta}(z) = \\theta$ and the discriminator is a linear function of the input with learned\n",
    "parameter $\\phi$: $D_{\\phi}(x) = \\phi x$. This results in the zero-sum game given by:\n",
    "$$ \n",
    "L_D = - l(\\theta \\phi) - l(0) \\\\\n",
    "L_G = + l(\\theta \\phi) + l(0) \n",
    "$$\n",
    "\n",
    "where $l$ depends on the GAN formulation used ($l(z) = - \\log (1 + e^{-z})$ for instance). The unique equilibrium point is $\\theta = \\phi = 0$. "
   ]
  },
  {
   "cell_type": "code",
   "execution_count": null,
   "metadata": {
    "id": "snZfbH_TtO5j"
   },
   "outputs": [],
   "source": [
    "import numpy as np\n",
    "import matplotlib.pylab as plt\n",
    "from scipy.integrate import odeint\n",
    "from scipy.integrate import solve_ivp\n",
    "from scipy.misc import derivative\n",
    "import seaborn as sns"
   ]
  },
  {
   "cell_type": "code",
   "execution_count": null,
   "metadata": {
    "id": "u1i8mZWCvugd"
   },
   "outputs": [],
   "source": [
    "def set_up_fonts():\n",
    "    sns.reset_orig()\n",
    "\n",
    "    import matplotlib\n",
    "\n",
    "    matplotlib.rcParams[\"pdf.fonttype\"] = 42\n",
    "    matplotlib.rcParams[\"ps.fonttype\"] = 42"
   ]
  },
  {
   "cell_type": "markdown",
   "metadata": {
    "id": "OqrocK0iMMqM"
   },
   "source": [
    "### Display variables"
   ]
  },
  {
   "cell_type": "code",
   "execution_count": null,
   "metadata": {
    "id": "X2bi6yWfI45j"
   },
   "outputs": [],
   "source": [
    "hw = 10\n",
    "hl = 6\n",
    "minshaft = 2\n",
    "scale = 1.5"
   ]
  },
  {
   "cell_type": "code",
   "execution_count": null,
   "metadata": {
    "id": "m-FMcNsmInsE"
   },
   "outputs": [],
   "source": [
    "color = [\"blue\", \"red\", \"green\", \"orange\", \"magenta\"]"
   ]
  },
  {
   "cell_type": "code",
   "execution_count": null,
   "metadata": {
    "id": "UMdG1ZxrwBEs"
   },
   "outputs": [],
   "source": [
    "set_up_fonts()"
   ]
  },
  {
   "cell_type": "markdown",
   "metadata": {
    "id": "N1S_k02OMHaE"
   },
   "source": [
    "## Defining the Euler updates (gradient descent)"
   ]
  },
  {
   "cell_type": "code",
   "execution_count": null,
   "metadata": {
    "id": "cPUpPCOGVR1E"
   },
   "outputs": [],
   "source": [
    "def euler_alternating(fn, v, t):\n",
    "    last_t = t[0]\n",
    "    vs = [v]\n",
    "    num_dims = len(v)\n",
    "    last_v = list(v)\n",
    "    for current_t in t[1:]:\n",
    "        delta_t = current_t - last_t\n",
    "        for i in range(num_dims):\n",
    "            interim_v = last_v + delta_t * np.array(fn(current_t, last_v))\n",
    "            last_v[i] = interim_v[i]\n",
    "        last_t = current_t\n",
    "        vs.append(last_v.copy())\n",
    "    return np.array(vs)"
   ]
  },
  {
   "cell_type": "code",
   "execution_count": null,
   "metadata": {
    "id": "fEi0ZekkIyXg"
   },
   "outputs": [],
   "source": [
    "def euler(fn, v, t):\n",
    "    last_t = t[0]\n",
    "    vs = [v]\n",
    "    last_v = v\n",
    "    for current_t in t[1:]:\n",
    "        current_v = last_v + (current_t - last_t) * np.array(fn(current_t, last_v))\n",
    "        last_t = current_t\n",
    "        last_v = current_v\n",
    "        vs.append(current_v)\n",
    "    return np.array(vs)"
   ]
  },
  {
   "cell_type": "markdown",
   "metadata": {
    "id": "8p73c5zYhExV"
   },
   "source": [
    "# Dirac GAN\n",
    "\n"
   ]
  },
  {
   "cell_type": "code",
   "execution_count": null,
   "metadata": {
    "id": "BkcTXKS76hyV"
   },
   "outputs": [],
   "source": [
    "grad_f = lambda x: 1.0 / (1 + np.exp(-x))\n",
    "\n",
    "vect0 = [(1, 1)]"
   ]
  },
  {
   "cell_type": "code",
   "execution_count": null,
   "metadata": {
    "colab": {
     "base_uri": "https://localhost:8080/",
     "height": 306
    },
    "id": "C8yQukseIcOo",
    "outputId": "ebe24249-c6b7-42f7-da6b-61314fbd6829"
   },
   "outputs": [
    {
     "data": {
      "text/plain": [
       "(-3.0, 4.5)"
      ]
     },
     "execution_count": 9,
     "metadata": {
      "tags": []
     },
     "output_type": "execute_result"
    },
    {
     "data": {
      "image/png": "[encoded data removed]",
      "text/plain": [
       "<Figure size 432x288 with 1 Axes>"
      ]
     },
     "metadata": {
      "tags": []
     },
     "output_type": "display_data"
    }
   ],
   "source": [
    "# Write the problem in a way compatible with solve_ivp.\n",
    "# Return the gradients for each player.\n",
    "def system(t, vect):\n",
    "    x, y = vect\n",
    "    return [-grad_f(x * y) * y, grad_f(x * y) * x]\n",
    "\n",
    "\n",
    "t = np.arange(0, 100, 0.2)\n",
    "plot = plt.figure()\n",
    "v = vect0[0]\n",
    "\n",
    "sol = solve_ivp(system, (0, 200), v, t_eval=t, dense_output=True, method=\"RK45\")\n",
    "sol = sol.sol(t).T\n",
    "widths = np.linspace(0, 2, sol.size)\n",
    "plt.quiver(\n",
    "    sol[:-1, 0],\n",
    "    sol[:-1, 1],\n",
    "    sol[1:, 0] - sol[:-1, 0],\n",
    "    sol[1:, 1] - sol[:-1, 1],\n",
    "    scale_units=\"xy\",\n",
    "    angles=\"xy\",\n",
    "    scale=2,\n",
    "    color=color[0],\n",
    "    linewidths=widths,\n",
    "    edgecolors=color[0],\n",
    "    label=\"Continuous dynamics\",\n",
    "    headwidth=hw,\n",
    "    headlength=hl,\n",
    "    minshaft=2,\n",
    ")\n",
    "\n",
    "plt.title(\"Dirac GAN\", fontsize=16)\n",
    "plt.plot(v[0], v[1], \"go\", markersize=10)\n",
    "plt.plot(0, 0, \"rx\", markersize=12)\n",
    "plt.plot(0, 0, \"rx\", markersize=12, label=\"equilibruim (0, 0)\")\n",
    "plt.legend(loc=\"upper right\", bbox_to_anchor=(0.8, 1), fontsize=13, framealpha=0)\n",
    "\n",
    "plt.xlabel(r\"$\\phi$\", fontsize=16)\n",
    "plt.ylabel(r\"$\\theta$\", fontsize=16)\n",
    "\n",
    "plt.xticks([])\n",
    "plt.yticks([])\n",
    "plt.xlim((-4, 4))\n",
    "plt.ylim((-3, 4.5))"
   ]
  },
  {
   "cell_type": "code",
   "execution_count": null,
   "metadata": {
    "colab": {
     "base_uri": "https://localhost:8080/",
     "height": 306
    },
    "id": "gxMpZMt71ieS",
    "outputId": "8584e989-a254-44e9-e057-86d884f9adb7"
   },
   "outputs": [
    {
     "data": {
      "text/plain": [
       "(-3.0, 4.5)"
      ]
     },
     "execution_count": 10,
     "metadata": {
      "tags": []
     },
     "output_type": "execute_result"
    },
    {
     "data": {
      "image/png": "[encoded data removed]",
      "text/plain": [
       "<Figure size 432x288 with 1 Axes>"
      ]
     },
     "metadata": {
      "tags": []
     },
     "output_type": "display_data"
    }
   ],
   "source": [
    "disc_lr = 0.1\n",
    "gen_lr = 0.1\n",
    "vect0 = [(1, 1)]\n",
    "\n",
    "t = np.arange(0, 100, disc_lr)\n",
    "plot = plt.figure()\n",
    "v = vect0[0]\n",
    "\n",
    "\n",
    "sol = euler(system, v, t)\n",
    "widths = np.linspace(0, 2, sol.size)\n",
    "plt.quiver(\n",
    "    sol[:-1, 0],\n",
    "    sol[:-1, 1],\n",
    "    sol[1:, 0] - sol[:-1, 0],\n",
    "    sol[1:, 1] - sol[:-1, 1],\n",
    "    scale_units=\"xy\",\n",
    "    angles=\"xy\",\n",
    "    scale=2,\n",
    "    color=color[0],\n",
    "    linewidths=widths,\n",
    "    edgecolors=color[0],\n",
    "    label=\"Simultaneous gradient descent\",\n",
    "    headwidth=hw,\n",
    "    headlength=hl,\n",
    "    minshaft=2,\n",
    ")\n",
    "\n",
    "plt.title(\"Dirac GAN\", fontsize=16)\n",
    "plt.plot(v[0], v[1], \"go\", markersize=10)\n",
    "plt.plot(0, 0, \"rx\", markersize=12, label=\"equilibruim (0, 0)\")\n",
    "plt.legend(loc=\"upper right\", bbox_to_anchor=(0.8, 1), fontsize=13, framealpha=0)\n",
    "\n",
    "plt.xlabel(r\"$\\phi$\", fontsize=16)\n",
    "plt.ylabel(r\"$\\theta$\", fontsize=16)\n",
    "plt.xticks([])\n",
    "plt.yticks([])\n",
    "plt.xlim((-4, 4))\n",
    "plt.ylim((-3, 4.5))"
   ]
  },
  {
   "cell_type": "code",
   "execution_count": null,
   "metadata": {
    "colab": {
     "base_uri": "https://localhost:8080/",
     "height": 269
    },
    "id": "ZRPE1Fc_73kd",
    "outputId": "97dc6f0d-02fa-42e2-d872-02e62de03043"
   },
   "outputs": [
    {
     "data": {
      "text/plain": [
       "<matplotlib.legend.Legend at 0x7fb428d40a90>"
      ]
     },
     "execution_count": 11,
     "metadata": {
      "tags": []
     },
     "output_type": "execute_result"
    },
    {
     "data": {
      "image/png": "[encoded data removed]",
      "text/plain": [
       "<Figure size 432x288 with 1 Axes>"
      ]
     },
     "metadata": {
      "tags": []
     },
     "output_type": "display_data"
    }
   ],
   "source": [
    "plt.vlines(0, 0, 10, lw=3, colors=\"b\", label=r\"$p^*$\")\n",
    "plt.vlines(2, 0, 10, lw=3, colors=\"g\", label=r\"$q_{\\theta}$\", linestyles=\"--\")\n",
    "plt.hlines(0, -1, 10, lw=2, colors=\"k\")\n",
    "\n",
    "xlim = np.linspace(-0.5, 2.5, 50)\n",
    "plt.plot(xlim, 1.7 * xlim, color=\"r\", label=r\"$D_{\\phi}(x) = \\phi x$\", ls=\"-.\")\n",
    "\n",
    "plt.xlim(-0.5, 2.5)\n",
    "plt.yticks([])\n",
    "plt.xticks([])\n",
    "plt.legend(framealpha=0, loc=\"upper center\", fontsize=14)"
   ]
  },
  {
   "cell_type": "code",
   "execution_count": null,
   "metadata": {
    "colab": {
     "base_uri": "https://localhost:8080/",
     "height": 306
    },
    "id": "OybzsaDz2Nmk",
    "outputId": "004dbdb5-f855-43c2-e1a4-471d86067b88"
   },
   "outputs": [
    {
     "data": {
      "text/plain": [
       "(-3.0, 4.5)"
      ]
     },
     "execution_count": 13,
     "metadata": {
      "tags": []
     },
     "output_type": "execute_result"
    },
    {
     "data": {
      "image/png": "[encoded data removed]",
      "text/plain": [
       "<Figure size 432x288 with 1 Axes>"
      ]
     },
     "metadata": {
      "tags": []
     },
     "output_type": "display_data"
    }
   ],
   "source": [
    "lr = 0.1\n",
    "vect0 = [(1, 1)]\n",
    "\n",
    "t = np.arange(0, 100, lr)\n",
    "plot = plt.figure()\n",
    "v = vect0[0]\n",
    "\n",
    "sol = euler_alternating(system, v, t)\n",
    "widths = np.linspace(0, 2, sol.size)\n",
    "plt.quiver(\n",
    "    sol[:-1, 0],\n",
    "    sol[:-1, 1],\n",
    "    sol[1:, 0] - sol[:-1, 0],\n",
    "    sol[1:, 1] - sol[:-1, 1],\n",
    "    scale_units=\"xy\",\n",
    "    angles=\"xy\",\n",
    "    scale=2,\n",
    "    color=color[0],\n",
    "    linewidths=widths,\n",
    "    edgecolors=color[0],\n",
    "    label=\"Alternating gradient descent\",\n",
    "    headwidth=hw,\n",
    "    headlength=hl,\n",
    "    minshaft=2,\n",
    ")\n",
    "\n",
    "plt.title(\"Dirac GAN\", fontsize=16)\n",
    "plt.plot(v[0], v[1], \"go\", markersize=10)\n",
    "plt.plot(0, 0, \"rx\", markersize=12, label=\"equilibruim (0, 0)\")\n",
    "plt.legend(loc=\"upper right\", bbox_to_anchor=(0.8, 1), fontsize=13, framealpha=0)\n",
    "\n",
    "plt.xlabel(r\"$\\phi$\", fontsize=16)\n",
    "plt.ylabel(r\"$\\theta$\", fontsize=16)\n",
    "\n",
    "plt.xticks([])\n",
    "plt.yticks([])\n",
    "plt.xlim((-4, 4))\n",
    "plt.ylim((-3, 4.5))"
   ]
  }
 ],
 "metadata": {
  "colab": {
   "collapsed_sections": [],
   "include_colab_link": true,
   "name": "DiracGAN.ipynb",
   "provenance": []
  },
  "kernelspec": {
   "display_name": "Python 3",
   "name": "python3"
  }
 },
 "nbformat": 4,
 "nbformat_minor": 0
}
