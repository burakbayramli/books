{
 "cells": [
  {
   "cell_type": "code",
   "execution_count": 1,
   "id": "f4060f66",
   "metadata": {},
   "outputs": [],
   "source": [
    "# Illustrate parity check code using a directed graphical model\n",
    "# Authors: murphyk@, Drishtii@\n",
    "# Based on\n",
    "# https://github.com/probml/pmtk3/blob/master/demos/errorCorrectingCodeDemo.m\n",
    "\n",
    "\n",
    "try:\n",
    "    import probml_utils as pml\n",
    "except ModuleNotFoundError:\n",
    "    %pip install -qq git+https://github.com/probml/probml-utils.git\n",
    "    import probml_utils as pml\n",
    "\n",
    "import probml_utils.pgmpy_utils as pgm\n",
    "\n",
    "try:\n",
    "    from pgmpy.models import BayesianModel\n",
    "except ModuleNotFoundError:\n",
    "    %pip install -qq pgmpy\n",
    "    from pgmpy.models import BayesianModel\n",
    "\n",
    "from pgmpy.factors.discrete import TabularCPD\n",
    "import numpy as np\n",
    "import matplotlib.pyplot as plt"
   ]
  },
  {
   "cell_type": "code",
   "execution_count": 2,
   "id": "60d6fe55",
   "metadata": {},
   "outputs": [
    {
     "name": "stderr",
     "output_type": "stream",
     "text": [
      "/home/patel_karm/anaconda3/envs/py3713/lib/python3.7/site-packages/pgmpy/models/BayesianModel.py:10: FutureWarning: BayesianModel has been renamed to BayesianNetwork. Please use BayesianNetwork class, BayesianModel will be removed in future.\n",
      "  FutureWarning,\n"
     ]
    },
    {
     "data": {
      "application/vnd.jupyter.widget-view+json": {
       "model_id": "ad07f26e14314d63847bdf965c4259e6",
       "version_major": 2,
       "version_minor": 0
      },
      "text/plain": [
       "  0%|          | 0/2 [00:00<?, ?it/s]"
      ]
     },
     "metadata": {},
     "output_type": "display_data"
    },
    {
     "data": {
      "application/vnd.jupyter.widget-view+json": {
       "model_id": "bef20fa03213499fb565b0e00d38251d",
       "version_major": 2,
       "version_minor": 0
      },
      "text/plain": [
       "  0%|          | 0/2 [00:00<?, ?it/s]"
      ]
     },
     "metadata": {},
     "output_type": "display_data"
    },
    {
     "data": {
      "application/vnd.jupyter.widget-view+json": {
       "model_id": "cf7e36b7ba9c409eb022a058664e0955",
       "version_major": 2,
       "version_minor": 0
      },
      "text/plain": [
       "  0%|          | 0/2 [00:00<?, ?it/s]"
      ]
     },
     "metadata": {},
     "output_type": "display_data"
    },
    {
     "data": {
      "application/vnd.jupyter.widget-view+json": {
       "model_id": "f5418fc2233842ab8f54f58a012069e5",
       "version_major": 2,
       "version_minor": 0
      },
      "text/plain": [
       "  0%|          | 0/2 [00:00<?, ?it/s]"
      ]
     },
     "metadata": {},
     "output_type": "display_data"
    },
    {
     "data": {
      "application/vnd.jupyter.widget-view+json": {
       "model_id": "5ad87f89b4dc476a9a4750ac0ccedfd7",
       "version_major": 2,
       "version_minor": 0
      },
      "text/plain": [
       "  0%|          | 0/2 [00:00<?, ?it/s]"
      ]
     },
     "metadata": {},
     "output_type": "display_data"
    },
    {
     "data": {
      "application/vnd.jupyter.widget-view+json": {
       "model_id": "d748f454e85c4536aa03e76601f2b063",
       "version_major": 2,
       "version_minor": 0
      },
      "text/plain": [
       "  0%|          | 0/2 [00:00<?, ?it/s]"
      ]
     },
     "metadata": {},
     "output_type": "display_data"
    },
    {
     "name": "stdout",
     "output_type": "stream",
     "text": [
      "{'X1': array([0.34693878, 0.65306122]), 'X2': array([0.65306122, 0.34693878]), 'X3': array([0.65306122, 0.34693878])}\n"
     ]
    },
    {
     "data": {
      "application/vnd.jupyter.widget-view+json": {
       "model_id": "7dc4de8213364768b4b4dc25738fb0ff",
       "version_major": 2,
       "version_minor": 0
      },
      "text/plain": [
       "0it [00:00, ?it/s]"
      ]
     },
     "metadata": {},
     "output_type": "display_data"
    },
    {
     "data": {
      "application/vnd.jupyter.widget-view+json": {
       "model_id": "29884786c68e47ea89a963c48031fce9",
       "version_major": 2,
       "version_minor": 0
      },
      "text/plain": [
       "0it [00:00, ?it/s]"
      ]
     },
     "metadata": {},
     "output_type": "display_data"
    },
    {
     "name": "stderr",
     "output_type": "stream",
     "text": [
      "/home/patel_karm/anaconda3/envs/py3713/lib/python3.7/site-packages/ipykernel_launcher.py:50: UserWarning: FixedFormatter should only be used together with FixedLocator\n",
      "/home/patel_karm/probml-utils/probml_utils/plotting.py:80: UserWarning: set FIG_DIR environment variable to save figures\n",
      "  warnings.warn(\"set FIG_DIR environment variable to save figures\")\n"
     ]
    },
    {
     "data": {
      "image/png": "[encoded data removed]",
      "text/plain": [
       "<Figure size 432x288 with 1 Axes>"
      ]
     },
     "metadata": {
      "needs_background": "light"
     },
     "output_type": "display_data"
    },
    {
     "data": {
      "image/svg+xml": [
       "<?xml version=\"1.0\" encoding=\"UTF-8\" standalone=\"no\"?>\n",
       "<!DOCTYPE svg PUBLIC \"-//W3C//DTD SVG 1.1//EN\"\n",
       " \"http://www.w3.org/Graphics/SVG/1.1/DTD/svg11.dtd\">\n",
       "<!-- Generated by graphviz version 2.40.1 (20161225.0304)\n",
       " -->\n",
       "<!-- Title: model_ Pages: 1 -->\n",
       "<svg width=\"499pt\" height=\"554pt\"\n",
       " viewBox=\"0.00 0.00 498.84 553.76\" xmlns=\"http://www.w3.org/2000/svg\" xmlns:xlink=\"http://www.w3.org/1999/xlink\">\n",
       "<g id=\"graph0\" class=\"graph\" transform=\"scale(1 1) rotate(0) translate(4 549.7615)\">\n",
       "<title>model_</title>\n",
       "<polygon fill=\"#ffffff\" stroke=\"transparent\" points=\"-4,4 -4,-549.7615 494.8356,-549.7615 494.8356,4 -4,4\"/>\n",
       "<!-- X1 -->\n",
       "<g id=\"node1\" class=\"node\">\n",
       "<title>X1</title>\n",
       "<ellipse fill=\"none\" stroke=\"#000000\" cx=\"166.4178\" cy=\"-488.4859\" rx=\"60.623\" ry=\"57.0522\"/>\n",
       "<polygon fill=\"none\" stroke=\"#000000\" points=\"134.4178,-500.4859 134.4178,-521.4859 198.4178,-521.4859 198.4178,-500.4859 134.4178,-500.4859\"/>\n",
       "<text text-anchor=\"start\" x=\"153.9178\" y=\"-507.2859\" font-family=\"Times,serif\" font-size=\"14.00\" fill=\"#000000\"> X1 </text>\n",
       "<polygon fill=\"none\" stroke=\"#000000\" points=\"134.4178,-477.4859 134.4178,-498.4859 165.4178,-498.4859 165.4178,-477.4859 134.4178,-477.4859\"/>\n",
       "<text text-anchor=\"start\" x=\"146.4178\" y=\"-484.2859\" font-family=\"Times,serif\" font-size=\"14.00\" fill=\"#000000\">0</text>\n",
       "<polygon fill=\"none\" stroke=\"#000000\" points=\"167.4178,-477.4859 167.4178,-498.4859 198.4178,-498.4859 198.4178,-477.4859 167.4178,-477.4859\"/>\n",
       "<text text-anchor=\"start\" x=\"179.4178\" y=\"-484.2859\" font-family=\"Times,serif\" font-size=\"14.00\" fill=\"#000000\">1</text>\n",
       "<polygon fill=\"none\" stroke=\"#000000\" points=\"134.4178,-454.4859 134.4178,-475.4859 165.4178,-475.4859 165.4178,-454.4859 134.4178,-454.4859\"/>\n",
       "<text text-anchor=\"start\" x=\"137.4178\" y=\"-461.2859\" font-family=\"Times,serif\" font-size=\"14.00\" fill=\"#000000\">0.50</text>\n",
       "<polygon fill=\"none\" stroke=\"#000000\" points=\"167.4178,-454.4859 167.4178,-475.4859 198.4178,-475.4859 198.4178,-454.4859 167.4178,-454.4859\"/>\n",
       "<text text-anchor=\"start\" x=\"170.4178\" y=\"-461.2859\" font-family=\"Times,serif\" font-size=\"14.00\" fill=\"#000000\">0.50</text>\n",
       "<polygon fill=\"none\" stroke=\"#000000\" points=\"131.4178,-451.9859 131.4178,-524.9859 201.4178,-524.9859 201.4178,-451.9859 131.4178,-451.9859\"/>\n",
       "</g>\n",
       "<!-- X3 -->\n",
       "<g id=\"node3\" class=\"node\">\n",
       "<title>X3</title>\n",
       "<ellipse fill=\"none\" stroke=\"#000000\" cx=\"245.4178\" cy=\"-289.1442\" rx=\"84.7059\" ry=\"106.1321\"/>\n",
       "<polygon fill=\"none\" stroke=\"#000000\" points=\"196.4178,-336.1442 196.4178,-357.1442 294.4178,-357.1442 294.4178,-336.1442 196.4178,-336.1442\"/>\n",
       "<text text-anchor=\"start\" x=\"232.9178\" y=\"-342.9442\" font-family=\"Times,serif\" font-size=\"14.00\" fill=\"#000000\"> X3 </text>\n",
       "<polygon fill=\"none\" stroke=\"#000000\" points=\"196.4178,-313.1442 196.4178,-334.1442 224.4178,-334.1442 224.4178,-313.1442 196.4178,-313.1442\"/>\n",
       "<text text-anchor=\"start\" x=\"208.4178\" y=\"-319.9442\" font-family=\"Times,serif\" font-size=\"14.00\" fill=\"#000000\"> </text>\n",
       "<polygon fill=\"none\" stroke=\"#000000\" points=\"226.4178,-313.1442 226.4178,-334.1442 257.4178,-334.1442 257.4178,-313.1442 226.4178,-313.1442\"/>\n",
       "<text text-anchor=\"start\" x=\"238.4178\" y=\"-319.9442\" font-family=\"Times,serif\" font-size=\"14.00\" fill=\"#000000\">0</text>\n",
       "<polygon fill=\"none\" stroke=\"#000000\" points=\"259.4178,-313.1442 259.4178,-334.1442 290.4178,-334.1442 290.4178,-313.1442 259.4178,-313.1442\"/>\n",
       "<text text-anchor=\"start\" x=\"271.4178\" y=\"-319.9442\" font-family=\"Times,serif\" font-size=\"14.00\" fill=\"#000000\">1</text>\n",
       "<polygon fill=\"none\" stroke=\"#000000\" points=\"196.4178,-290.1442 196.4178,-311.1442 224.4178,-311.1442 224.4178,-290.1442 196.4178,-290.1442\"/>\n",
       "<text text-anchor=\"start\" x=\"199.4178\" y=\"-296.9442\" font-family=\"Times,serif\" font-size=\"14.00\" fill=\"#000000\">0, 0</text>\n",
       "<polygon fill=\"none\" stroke=\"#000000\" points=\"226.4178,-290.1442 226.4178,-311.1442 257.4178,-311.1442 257.4178,-290.1442 226.4178,-290.1442\"/>\n",
       "<text text-anchor=\"start\" x=\"229.4178\" y=\"-296.9442\" font-family=\"Times,serif\" font-size=\"14.00\" fill=\"#000000\">1.00</text>\n",
       "<polygon fill=\"none\" stroke=\"#000000\" points=\"259.4178,-290.1442 259.4178,-311.1442 290.4178,-311.1442 290.4178,-290.1442 259.4178,-290.1442\"/>\n",
       "<text text-anchor=\"start\" x=\"262.4178\" y=\"-296.9442\" font-family=\"Times,serif\" font-size=\"14.00\" fill=\"#000000\">0.00</text>\n",
       "<polygon fill=\"none\" stroke=\"#000000\" points=\"196.4178,-267.1442 196.4178,-288.1442 224.4178,-288.1442 224.4178,-267.1442 196.4178,-267.1442\"/>\n",
       "<text text-anchor=\"start\" x=\"199.4178\" y=\"-273.9442\" font-family=\"Times,serif\" font-size=\"14.00\" fill=\"#000000\">0, 1</text>\n",
       "<polygon fill=\"none\" stroke=\"#000000\" points=\"226.4178,-267.1442 226.4178,-288.1442 257.4178,-288.1442 257.4178,-267.1442 226.4178,-267.1442\"/>\n",
       "<text text-anchor=\"start\" x=\"229.4178\" y=\"-273.9442\" font-family=\"Times,serif\" font-size=\"14.00\" fill=\"#000000\">0.00</text>\n",
       "<polygon fill=\"none\" stroke=\"#000000\" points=\"259.4178,-267.1442 259.4178,-288.1442 290.4178,-288.1442 290.4178,-267.1442 259.4178,-267.1442\"/>\n",
       "<text text-anchor=\"start\" x=\"262.4178\" y=\"-273.9442\" font-family=\"Times,serif\" font-size=\"14.00\" fill=\"#000000\">1.00</text>\n",
       "<polygon fill=\"none\" stroke=\"#000000\" points=\"196.4178,-244.1442 196.4178,-265.1442 224.4178,-265.1442 224.4178,-244.1442 196.4178,-244.1442\"/>\n",
       "<text text-anchor=\"start\" x=\"199.4178\" y=\"-250.9442\" font-family=\"Times,serif\" font-size=\"14.00\" fill=\"#000000\">1, 0</text>\n",
       "<polygon fill=\"none\" stroke=\"#000000\" points=\"226.4178,-244.1442 226.4178,-265.1442 257.4178,-265.1442 257.4178,-244.1442 226.4178,-244.1442\"/>\n",
       "<text text-anchor=\"start\" x=\"229.4178\" y=\"-250.9442\" font-family=\"Times,serif\" font-size=\"14.00\" fill=\"#000000\">0.00</text>\n",
       "<polygon fill=\"none\" stroke=\"#000000\" points=\"259.4178,-244.1442 259.4178,-265.1442 290.4178,-265.1442 290.4178,-244.1442 259.4178,-244.1442\"/>\n",
       "<text text-anchor=\"start\" x=\"262.4178\" y=\"-250.9442\" font-family=\"Times,serif\" font-size=\"14.00\" fill=\"#000000\">1.00</text>\n",
       "<polygon fill=\"none\" stroke=\"#000000\" points=\"196.4178,-221.1442 196.4178,-242.1442 224.4178,-242.1442 224.4178,-221.1442 196.4178,-221.1442\"/>\n",
       "<text text-anchor=\"start\" x=\"199.4178\" y=\"-227.9442\" font-family=\"Times,serif\" font-size=\"14.00\" fill=\"#000000\">1, 1</text>\n",
       "<polygon fill=\"none\" stroke=\"#000000\" points=\"226.4178,-221.1442 226.4178,-242.1442 257.4178,-242.1442 257.4178,-221.1442 226.4178,-221.1442\"/>\n",
       "<text text-anchor=\"start\" x=\"229.4178\" y=\"-227.9442\" font-family=\"Times,serif\" font-size=\"14.00\" fill=\"#000000\">1.00</text>\n",
       "<polygon fill=\"none\" stroke=\"#000000\" points=\"259.4178,-221.1442 259.4178,-242.1442 290.4178,-242.1442 290.4178,-221.1442 259.4178,-221.1442\"/>\n",
       "<text text-anchor=\"start\" x=\"262.4178\" y=\"-227.9442\" font-family=\"Times,serif\" font-size=\"14.00\" fill=\"#000000\">0.00</text>\n",
       "<polygon fill=\"none\" stroke=\"#000000\" points=\"193.4178,-218.1442 193.4178,-360.1442 297.4178,-360.1442 297.4178,-218.1442 193.4178,-218.1442\"/>\n",
       "</g>\n",
       "<!-- X1&#45;&gt;X3 -->\n",
       "<g id=\"edge4\" class=\"edge\">\n",
       "<title>X1&#45;&gt;X3</title>\n",
       "<path fill=\"none\" stroke=\"#000000\" d=\"M187.6923,-434.8038C192.7532,-422.0334 198.3254,-407.9729 203.951,-393.7779\"/>\n",
       "<polygon fill=\"#000000\" stroke=\"#000000\" points=\"207.2201,-395.0286 207.6506,-384.4425 200.7125,-392.4496 207.2201,-395.0286\"/>\n",
       "</g>\n",
       "<!-- Y1 -->\n",
       "<g id=\"node4\" class=\"node\">\n",
       "<title>Y1</title>\n",
       "<ellipse fill=\"none\" stroke=\"#000000\" cx=\"71.4178\" cy=\"-289.1442\" rx=\"71.3357\" ry=\"73.5782\"/>\n",
       "<polygon fill=\"none\" stroke=\"#000000\" points=\"32.4178,-313.1442 32.4178,-334.1442 111.4178,-334.1442 111.4178,-313.1442 32.4178,-313.1442\"/>\n",
       "<text text-anchor=\"start\" x=\"59.4178\" y=\"-319.9442\" font-family=\"Times,serif\" font-size=\"14.00\" fill=\"#000000\"> Y1 </text>\n",
       "<polygon fill=\"none\" stroke=\"#000000\" points=\"32.4178,-290.1442 32.4178,-311.1442 45.4178,-311.1442 45.4178,-290.1442 32.4178,-290.1442\"/>\n",
       "<text text-anchor=\"start\" x=\"36.9178\" y=\"-296.9442\" font-family=\"Times,serif\" font-size=\"14.00\" fill=\"#000000\"> </text>\n",
       "<polygon fill=\"none\" stroke=\"#000000\" points=\"47.4178,-290.1442 47.4178,-311.1442 78.4178,-311.1442 78.4178,-290.1442 47.4178,-290.1442\"/>\n",
       "<text text-anchor=\"start\" x=\"59.4178\" y=\"-296.9442\" font-family=\"Times,serif\" font-size=\"14.00\" fill=\"#000000\">0</text>\n",
       "<polygon fill=\"none\" stroke=\"#000000\" points=\"80.4178,-290.1442 80.4178,-311.1442 111.4178,-311.1442 111.4178,-290.1442 80.4178,-290.1442\"/>\n",
       "<text text-anchor=\"start\" x=\"92.4178\" y=\"-296.9442\" font-family=\"Times,serif\" font-size=\"14.00\" fill=\"#000000\">1</text>\n",
       "<polygon fill=\"none\" stroke=\"#000000\" points=\"32.4178,-267.1442 32.4178,-288.1442 45.4178,-288.1442 45.4178,-267.1442 32.4178,-267.1442\"/>\n",
       "<text text-anchor=\"start\" x=\"35.4178\" y=\"-273.9442\" font-family=\"Times,serif\" font-size=\"14.00\" fill=\"#000000\">0</text>\n",
       "<polygon fill=\"none\" stroke=\"#000000\" points=\"47.4178,-267.1442 47.4178,-288.1442 78.4178,-288.1442 78.4178,-267.1442 47.4178,-267.1442\"/>\n",
       "<text text-anchor=\"start\" x=\"50.4178\" y=\"-273.9442\" font-family=\"Times,serif\" font-size=\"14.00\" fill=\"#000000\">0.80</text>\n",
       "<polygon fill=\"none\" stroke=\"#000000\" points=\"80.4178,-267.1442 80.4178,-288.1442 111.4178,-288.1442 111.4178,-267.1442 80.4178,-267.1442\"/>\n",
       "<text text-anchor=\"start\" x=\"83.4178\" y=\"-273.9442\" font-family=\"Times,serif\" font-size=\"14.00\" fill=\"#000000\">0.20</text>\n",
       "<polygon fill=\"none\" stroke=\"#000000\" points=\"32.4178,-244.1442 32.4178,-265.1442 45.4178,-265.1442 45.4178,-244.1442 32.4178,-244.1442\"/>\n",
       "<text text-anchor=\"start\" x=\"35.4178\" y=\"-250.9442\" font-family=\"Times,serif\" font-size=\"14.00\" fill=\"#000000\">1</text>\n",
       "<polygon fill=\"none\" stroke=\"#000000\" points=\"47.4178,-244.1442 47.4178,-265.1442 78.4178,-265.1442 78.4178,-244.1442 47.4178,-244.1442\"/>\n",
       "<text text-anchor=\"start\" x=\"50.4178\" y=\"-250.9442\" font-family=\"Times,serif\" font-size=\"14.00\" fill=\"#000000\">0.20</text>\n",
       "<polygon fill=\"none\" stroke=\"#000000\" points=\"80.4178,-244.1442 80.4178,-265.1442 111.4178,-265.1442 111.4178,-244.1442 80.4178,-244.1442\"/>\n",
       "<text text-anchor=\"start\" x=\"83.4178\" y=\"-250.9442\" font-family=\"Times,serif\" font-size=\"14.00\" fill=\"#000000\">0.80</text>\n",
       "<polygon fill=\"none\" stroke=\"#000000\" points=\"28.9178,-241.1442 28.9178,-337.1442 113.9178,-337.1442 113.9178,-241.1442 28.9178,-241.1442\"/>\n",
       "</g>\n",
       "<!-- X1&#45;&gt;Y1 -->\n",
       "<g id=\"edge5\" class=\"edge\">\n",
       "<title>X1&#45;&gt;Y1</title>\n",
       "<path fill=\"none\" stroke=\"#000000\" d=\"M141.4577,-436.1112C131.0258,-414.2218 118.7059,-388.3704 107.3302,-364.5005\"/>\n",
       "<polygon fill=\"#000000\" stroke=\"#000000\" points=\"110.4843,-362.9831 103.0225,-355.4615 104.1652,-365.9946 110.4843,-362.9831\"/>\n",
       "</g>\n",
       "<!-- X2 -->\n",
       "<g id=\"node2\" class=\"node\">\n",
       "<title>X2</title>\n",
       "<ellipse fill=\"none\" stroke=\"#000000\" cx=\"323.4178\" cy=\"-488.4859\" rx=\"60.623\" ry=\"57.0522\"/>\n",
       "<polygon fill=\"none\" stroke=\"#000000\" points=\"291.4178,-500.4859 291.4178,-521.4859 355.4178,-521.4859 355.4178,-500.4859 291.4178,-500.4859\"/>\n",
       "<text text-anchor=\"start\" x=\"310.9178\" y=\"-507.2859\" font-family=\"Times,serif\" font-size=\"14.00\" fill=\"#000000\"> X2 </text>\n",
       "<polygon fill=\"none\" stroke=\"#000000\" points=\"291.4178,-477.4859 291.4178,-498.4859 322.4178,-498.4859 322.4178,-477.4859 291.4178,-477.4859\"/>\n",
       "<text text-anchor=\"start\" x=\"303.4178\" y=\"-484.2859\" font-family=\"Times,serif\" font-size=\"14.00\" fill=\"#000000\">0</text>\n",
       "<polygon fill=\"none\" stroke=\"#000000\" points=\"324.4178,-477.4859 324.4178,-498.4859 355.4178,-498.4859 355.4178,-477.4859 324.4178,-477.4859\"/>\n",
       "<text text-anchor=\"start\" x=\"336.4178\" y=\"-484.2859\" font-family=\"Times,serif\" font-size=\"14.00\" fill=\"#000000\">1</text>\n",
       "<polygon fill=\"none\" stroke=\"#000000\" points=\"291.4178,-454.4859 291.4178,-475.4859 322.4178,-475.4859 322.4178,-454.4859 291.4178,-454.4859\"/>\n",
       "<text text-anchor=\"start\" x=\"294.4178\" y=\"-461.2859\" font-family=\"Times,serif\" font-size=\"14.00\" fill=\"#000000\">0.50</text>\n",
       "<polygon fill=\"none\" stroke=\"#000000\" points=\"324.4178,-454.4859 324.4178,-475.4859 355.4178,-475.4859 355.4178,-454.4859 324.4178,-454.4859\"/>\n",
       "<text text-anchor=\"start\" x=\"327.4178\" y=\"-461.2859\" font-family=\"Times,serif\" font-size=\"14.00\" fill=\"#000000\">0.50</text>\n",
       "<polygon fill=\"none\" stroke=\"#000000\" points=\"288.4178,-451.9859 288.4178,-524.9859 358.4178,-524.9859 358.4178,-451.9859 288.4178,-451.9859\"/>\n",
       "</g>\n",
       "<!-- X2&#45;&gt;X3 -->\n",
       "<g id=\"edge1\" class=\"edge\">\n",
       "<title>X2&#45;&gt;X3</title>\n",
       "<path fill=\"none\" stroke=\"#000000\" d=\"M302.3099,-434.5412C297.3977,-421.9874 292.0021,-408.198 286.5507,-394.2662\"/>\n",
       "<polygon fill=\"#000000\" stroke=\"#000000\" points=\"289.6764,-392.6489 282.7731,-384.6118 283.1576,-395.1996 289.6764,-392.6489\"/>\n",
       "</g>\n",
       "<!-- Y2 -->\n",
       "<g id=\"node5\" class=\"node\">\n",
       "<title>Y2</title>\n",
       "<ellipse fill=\"none\" stroke=\"#000000\" cx=\"419.4178\" cy=\"-289.1442\" rx=\"71.3357\" ry=\"73.5782\"/>\n",
       "<polygon fill=\"none\" stroke=\"#000000\" points=\"380.4178,-313.1442 380.4178,-334.1442 459.4178,-334.1442 459.4178,-313.1442 380.4178,-313.1442\"/>\n",
       "<text text-anchor=\"start\" x=\"407.4178\" y=\"-319.9442\" font-family=\"Times,serif\" font-size=\"14.00\" fill=\"#000000\"> Y2 </text>\n",
       "<polygon fill=\"none\" stroke=\"#000000\" points=\"380.4178,-290.1442 380.4178,-311.1442 393.4178,-311.1442 393.4178,-290.1442 380.4178,-290.1442\"/>\n",
       "<text text-anchor=\"start\" x=\"384.9178\" y=\"-296.9442\" font-family=\"Times,serif\" font-size=\"14.00\" fill=\"#000000\"> </text>\n",
       "<polygon fill=\"none\" stroke=\"#000000\" points=\"395.4178,-290.1442 395.4178,-311.1442 426.4178,-311.1442 426.4178,-290.1442 395.4178,-290.1442\"/>\n",
       "<text text-anchor=\"start\" x=\"407.4178\" y=\"-296.9442\" font-family=\"Times,serif\" font-size=\"14.00\" fill=\"#000000\">0</text>\n",
       "<polygon fill=\"none\" stroke=\"#000000\" points=\"428.4178,-290.1442 428.4178,-311.1442 459.4178,-311.1442 459.4178,-290.1442 428.4178,-290.1442\"/>\n",
       "<text text-anchor=\"start\" x=\"440.4178\" y=\"-296.9442\" font-family=\"Times,serif\" font-size=\"14.00\" fill=\"#000000\">1</text>\n",
       "<polygon fill=\"none\" stroke=\"#000000\" points=\"380.4178,-267.1442 380.4178,-288.1442 393.4178,-288.1442 393.4178,-267.1442 380.4178,-267.1442\"/>\n",
       "<text text-anchor=\"start\" x=\"383.4178\" y=\"-273.9442\" font-family=\"Times,serif\" font-size=\"14.00\" fill=\"#000000\">0</text>\n",
       "<polygon fill=\"none\" stroke=\"#000000\" points=\"395.4178,-267.1442 395.4178,-288.1442 426.4178,-288.1442 426.4178,-267.1442 395.4178,-267.1442\"/>\n",
       "<text text-anchor=\"start\" x=\"398.4178\" y=\"-273.9442\" font-family=\"Times,serif\" font-size=\"14.00\" fill=\"#000000\">0.80</text>\n",
       "<polygon fill=\"none\" stroke=\"#000000\" points=\"428.4178,-267.1442 428.4178,-288.1442 459.4178,-288.1442 459.4178,-267.1442 428.4178,-267.1442\"/>\n",
       "<text text-anchor=\"start\" x=\"431.4178\" y=\"-273.9442\" font-family=\"Times,serif\" font-size=\"14.00\" fill=\"#000000\">0.20</text>\n",
       "<polygon fill=\"none\" stroke=\"#000000\" points=\"380.4178,-244.1442 380.4178,-265.1442 393.4178,-265.1442 393.4178,-244.1442 380.4178,-244.1442\"/>\n",
       "<text text-anchor=\"start\" x=\"383.4178\" y=\"-250.9442\" font-family=\"Times,serif\" font-size=\"14.00\" fill=\"#000000\">1</text>\n",
       "<polygon fill=\"none\" stroke=\"#000000\" points=\"395.4178,-244.1442 395.4178,-265.1442 426.4178,-265.1442 426.4178,-244.1442 395.4178,-244.1442\"/>\n",
       "<text text-anchor=\"start\" x=\"398.4178\" y=\"-250.9442\" font-family=\"Times,serif\" font-size=\"14.00\" fill=\"#000000\">0.20</text>\n",
       "<polygon fill=\"none\" stroke=\"#000000\" points=\"428.4178,-244.1442 428.4178,-265.1442 459.4178,-265.1442 459.4178,-244.1442 428.4178,-244.1442\"/>\n",
       "<text text-anchor=\"start\" x=\"431.4178\" y=\"-250.9442\" font-family=\"Times,serif\" font-size=\"14.00\" fill=\"#000000\">0.80</text>\n",
       "<polygon fill=\"none\" stroke=\"#000000\" points=\"376.9178,-241.1442 376.9178,-337.1442 461.9178,-337.1442 461.9178,-241.1442 376.9178,-241.1442\"/>\n",
       "</g>\n",
       "<!-- X2&#45;&gt;Y2 -->\n",
       "<g id=\"edge2\" class=\"edge\">\n",
       "<title>X2&#45;&gt;Y2</title>\n",
       "<path fill=\"none\" stroke=\"#000000\" d=\"M348.6407,-436.1112C359.2315,-414.1195 371.7483,-388.1287 383.2884,-364.166\"/>\n",
       "<polygon fill=\"#000000\" stroke=\"#000000\" points=\"386.4718,-365.6222 387.6574,-355.0939 380.165,-362.5849 386.4718,-365.6222\"/>\n",
       "</g>\n",
       "<!-- Y3 -->\n",
       "<g id=\"node6\" class=\"node\">\n",
       "<title>Y3</title>\n",
       "<ellipse fill=\"none\" stroke=\"#000000\" cx=\"245.4178\" cy=\"-73.5391\" rx=\"71.3357\" ry=\"73.5782\"/>\n",
       "<polygon fill=\"none\" stroke=\"#000000\" points=\"206.4178,-97.5391 206.4178,-118.5391 285.4178,-118.5391 285.4178,-97.5391 206.4178,-97.5391\"/>\n",
       "<text text-anchor=\"start\" x=\"233.4178\" y=\"-104.3391\" font-family=\"Times,serif\" font-size=\"14.00\" fill=\"#000000\"> Y3 </text>\n",
       "<polygon fill=\"none\" stroke=\"#000000\" points=\"206.4178,-74.5391 206.4178,-95.5391 219.4178,-95.5391 219.4178,-74.5391 206.4178,-74.5391\"/>\n",
       "<text text-anchor=\"start\" x=\"210.9178\" y=\"-81.3391\" font-family=\"Times,serif\" font-size=\"14.00\" fill=\"#000000\"> </text>\n",
       "<polygon fill=\"none\" stroke=\"#000000\" points=\"221.4178,-74.5391 221.4178,-95.5391 252.4178,-95.5391 252.4178,-74.5391 221.4178,-74.5391\"/>\n",
       "<text text-anchor=\"start\" x=\"233.4178\" y=\"-81.3391\" font-family=\"Times,serif\" font-size=\"14.00\" fill=\"#000000\">0</text>\n",
       "<polygon fill=\"none\" stroke=\"#000000\" points=\"254.4178,-74.5391 254.4178,-95.5391 285.4178,-95.5391 285.4178,-74.5391 254.4178,-74.5391\"/>\n",
       "<text text-anchor=\"start\" x=\"266.4178\" y=\"-81.3391\" font-family=\"Times,serif\" font-size=\"14.00\" fill=\"#000000\">1</text>\n",
       "<polygon fill=\"none\" stroke=\"#000000\" points=\"206.4178,-51.5391 206.4178,-72.5391 219.4178,-72.5391 219.4178,-51.5391 206.4178,-51.5391\"/>\n",
       "<text text-anchor=\"start\" x=\"209.4178\" y=\"-58.3391\" font-family=\"Times,serif\" font-size=\"14.00\" fill=\"#000000\">0</text>\n",
       "<polygon fill=\"none\" stroke=\"#000000\" points=\"221.4178,-51.5391 221.4178,-72.5391 252.4178,-72.5391 252.4178,-51.5391 221.4178,-51.5391\"/>\n",
       "<text text-anchor=\"start\" x=\"224.4178\" y=\"-58.3391\" font-family=\"Times,serif\" font-size=\"14.00\" fill=\"#000000\">0.80</text>\n",
       "<polygon fill=\"none\" stroke=\"#000000\" points=\"254.4178,-51.5391 254.4178,-72.5391 285.4178,-72.5391 285.4178,-51.5391 254.4178,-51.5391\"/>\n",
       "<text text-anchor=\"start\" x=\"257.4178\" y=\"-58.3391\" font-family=\"Times,serif\" font-size=\"14.00\" fill=\"#000000\">0.20</text>\n",
       "<polygon fill=\"none\" stroke=\"#000000\" points=\"206.4178,-28.5391 206.4178,-49.5391 219.4178,-49.5391 219.4178,-28.5391 206.4178,-28.5391\"/>\n",
       "<text text-anchor=\"start\" x=\"209.4178\" y=\"-35.3391\" font-family=\"Times,serif\" font-size=\"14.00\" fill=\"#000000\">1</text>\n",
       "<polygon fill=\"none\" stroke=\"#000000\" points=\"221.4178,-28.5391 221.4178,-49.5391 252.4178,-49.5391 252.4178,-28.5391 221.4178,-28.5391\"/>\n",
       "<text text-anchor=\"start\" x=\"224.4178\" y=\"-35.3391\" font-family=\"Times,serif\" font-size=\"14.00\" fill=\"#000000\">0.20</text>\n",
       "<polygon fill=\"none\" stroke=\"#000000\" points=\"254.4178,-28.5391 254.4178,-49.5391 285.4178,-49.5391 285.4178,-28.5391 254.4178,-28.5391\"/>\n",
       "<text text-anchor=\"start\" x=\"257.4178\" y=\"-35.3391\" font-family=\"Times,serif\" font-size=\"14.00\" fill=\"#000000\">0.80</text>\n",
       "<polygon fill=\"none\" stroke=\"#000000\" points=\"202.9178,-25.5391 202.9178,-121.5391 287.9178,-121.5391 287.9178,-25.5391 202.9178,-25.5391\"/>\n",
       "</g>\n",
       "<!-- X3&#45;&gt;Y3 -->\n",
       "<g id=\"edge3\" class=\"edge\">\n",
       "<title>X3&#45;&gt;Y3</title>\n",
       "<path fill=\"none\" stroke=\"#000000\" d=\"M245.4178,-182.9208C245.4178,-174.306 245.4178,-165.6777 245.4178,-157.2562\"/>\n",
       "<polygon fill=\"#000000\" stroke=\"#000000\" points=\"248.9179,-157.101 245.4178,-147.101 241.9179,-157.101 248.9179,-157.101\"/>\n",
       "</g>\n",
       "</g>\n",
       "</svg>\n"
      ],
      "text/plain": [
       "<graphviz.graphs.Digraph at 0x7efc59961350>"
      ]
     },
     "execution_count": 2,
     "metadata": {},
     "output_type": "execute_result"
    }
   ],
   "source": [
    "# DAG structure\n",
    "model = BayesianModel([(\"X2\", \"X3\"), (\"X1\", \"X3\"), (\"X1\", \"Y1\"), (\"X2\", \"Y2\"), (\"X3\", \"Y3\")])\n",
    "\n",
    "# Defining individual CPDs.\n",
    "CPDs = {}\n",
    "CPDs[\"X1\"] = TabularCPD(variable=\"X1\", variable_card=2, values=[[0.5], [0.5]])\n",
    "\n",
    "CPDs[\"X2\"] = TabularCPD(variable=\"X2\", variable_card=2, values=[[0.5], [0.5]])\n",
    "\n",
    "CPDs[\"X3\"] = TabularCPD(\n",
    "    variable=\"X3\", variable_card=2, values=[[1, 0, 0, 1], [0, 1, 1, 0]], evidence=[\"X1\", \"X2\"], evidence_card=[2, 2]\n",
    ")\n",
    "\n",
    "noise = 0.2\n",
    "for i in range(3):\n",
    "    parent = \"X{}\".format(i + 1)\n",
    "    child = \"Y{}\".format(i + 1)\n",
    "    CPDs[child] = TabularCPD(\n",
    "        variable=child,\n",
    "        variable_card=2,\n",
    "        values=[[1 - noise, noise], [noise, 1 - noise]],\n",
    "        evidence=[parent],\n",
    "        evidence_card=[2],\n",
    "    )\n",
    "\n",
    "# Make model\n",
    "for cpd in CPDs.values():\n",
    "    model.add_cpds(cpd)\n",
    "model.check_model()\n",
    "\n",
    "from pgmpy.inference import VariableElimination\n",
    "\n",
    "infer = VariableElimination(model)\n",
    "\n",
    "# Inference\n",
    "evidence = {\"Y1\": 1, \"Y2\": 0, \"Y3\": 0}\n",
    "marginals = {}\n",
    "for i in range(3):\n",
    "    name = \"X{}\".format(i + 1)\n",
    "    post = infer.query([name], evidence=evidence).values\n",
    "    marginals[name] = post\n",
    "print(marginals)\n",
    "\n",
    "joint = infer.query([\"X1\", \"X2\", \"X3\"], evidence=evidence).values\n",
    "J = joint.reshape(8)\n",
    "fig, ax = plt.subplots()\n",
    "plt.title(\"p(x|y=1,0,0)\")\n",
    "y = [\"0\", \"000\", \"001\", \"010\", \"011\", \"100\", \"101\", \"110\", \"111\"]\n",
    "ax.bar(x=np.arange(8), height=J)\n",
    "ax.set_xticklabels(y, rotation=90)\n",
    "pml.savefig(\"error_correcting.pdf\")\n",
    "plt.show()\n",
    "\n",
    "pgm.visualize_model(model)"
   ]
  },
  {
   "cell_type": "code",
   "execution_count": null,
   "id": "c991e318",
   "metadata": {},
   "outputs": [],
   "source": []
  }
 ],
 "metadata": {
  "kernelspec": {
   "display_name": "Python [conda env:py3713]",
   "language": "python",
   "name": "conda-env-py3713-py"
  },
  "language_info": {
   "codemirror_mode": {
    "name": "ipython",
    "version": 3
   },
   "file_extension": ".py",
   "mimetype": "text/x-python",
   "name": "python",
   "nbconvert_exporter": "python",
   "pygments_lexer": "ipython3",
   "version": "3.7.13"
  }
 },
 "nbformat": 4,
 "nbformat_minor": 5
}
