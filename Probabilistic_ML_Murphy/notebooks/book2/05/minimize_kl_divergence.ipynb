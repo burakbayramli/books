{
 "cells": [
  {
   "cell_type": "markdown",
   "metadata": {
    "id": "1Ah0OR1loU-D"
   },
   "source": [
    "# **Minimize KL-divergence between two distributions**\n"
   ]
  },
  {
   "cell_type": "code",
   "execution_count": 1,
   "metadata": {
    "colab": {
     "base_uri": "https://localhost:8080/"
    },
    "id": "yFBOyFk83cVL",
    "outputId": "a2ccac3b-0d8e-48d7-aa18-d8afbe550b2d"
   },
   "outputs": [],
   "source": [
    "import jax.numpy as jnp\n",
    "import jax\n",
    "import matplotlib.pyplot as plt\n",
    "\n",
    "try:\n",
    "    import distrax\n",
    "except:\n",
    "    %pip install -qq distrax\n",
    "    import distrax\n",
    "try:\n",
    "    import optax\n",
    "except:\n",
    "    %pip install -qq optax\n",
    "    import optax\n",
    "try:\n",
    "    import seaborn as sns\n",
    "except:\n",
    "    %pip install -qq seaborn\n",
    "    import seaborn as sns\n",
    "try:\n",
    "    from probml_utils import savefig, latexify, is_latexify_enabled\n",
    "except ModuleNotFoundError:\n",
    "    print(\"installing probml_utils\")\n",
    "    %pip install -qq git+https://github.com/probml/probml-utils.git\n",
    "    from probml_utils import savefig, latexify, is_latexify_enabled\n",
    "\n",
    "from jax.config import config\n",
    "\n",
    "config.update(\"jax_enable_x64\", True)"
   ]
  },
  {
   "cell_type": "code",
   "execution_count": 2,
   "metadata": {},
   "outputs": [],
   "source": [
    "# for making the book figures\n",
    "if False:\n",
    "    import os\n",
    "\n",
    "    os.environ[\"LATEXIFY\"] = \"1\"\n",
    "    os.environ[\"FIG_DIR\"] = \"/Users/kpmurphy/github/bookv2/figures\"\n",
    "    latexify(width_scale_factor=1.6, fig_height=1.0)"
   ]
  },
  {
   "cell_type": "code",
   "execution_count": 3,
   "metadata": {
    "colab": {
     "base_uri": "https://localhost:8080/"
    },
    "id": "NLrM_OHr300a",
    "outputId": "17f6415d-5949-4b49-bcf2-3981e4db094c"
   },
   "outputs": [],
   "source": [
    "# generating a bimodal distribution ptrue\n",
    "mix = 0.5\n",
    "mean_one, mean_two = 1, 10\n",
    "scale_one, scale_two = 1, 1.5\n",
    "ptrue = distrax.MixtureSameFamily(\n",
    "    mixture_distribution=distrax.Categorical(probs=[mix, 1 - mix]),\n",
    "    components_distribution=distrax.Normal(loc=[mean_one, mean_two], scale=[scale_one, scale_two]),\n",
    ")"
   ]
  },
  {
   "cell_type": "code",
   "execution_count": 4,
   "metadata": {
    "id": "lCzFTF_JHSfT"
   },
   "outputs": [],
   "source": [
    "key = jax.random.PRNGKey(1234)\n",
    "\n",
    "\n",
    "def kl_sampling(params, q, samples=100000):  # loss function when KL(p:q)\n",
    "    p = distrax.Normal(loc=params[0], scale=params[1])\n",
    "    sample_set = p.sample(seed=key, sample_shape=samples)\n",
    "    return jnp.mean(p.log_prob(sample_set) - q.log_prob(sample_set))\n",
    "\n",
    "\n",
    "def kl_sampling_inverse(params, q, samples=100000):  # loss function when KL(q:p)\n",
    "    p = distrax.Normal(loc=params[0], scale=params[1])\n",
    "    sample_set = q.sample(seed=key, sample_shape=samples)\n",
    "    return jnp.mean(q.log_prob(sample_set) - p.log_prob(sample_set))"
   ]
  },
  {
   "cell_type": "code",
   "execution_count": 7,
   "metadata": {
    "id": "oMWVI2fvpNk2"
   },
   "outputs": [],
   "source": [
    "def fit(params, optimizer, loss_fun, n_itr):\n",
    "    opt_state = optimizer.init(params)\n",
    "    loss = []\n",
    "    fn = jax.jit(jax.value_and_grad(loss_fun))\n",
    "    for i in range(n_itr):\n",
    "        samples = 100000\n",
    "        loss_value, grads = jax.value_and_grad(loss_fun)(params, ptrue, samples)\n",
    "        # loss_value, grads = fn(params, ptrue, samples)\n",
    "        updates, opt_state = optimizer.update(grads, opt_state, params)\n",
    "        params = optax.apply_updates(params, updates)\n",
    "        loss.append(loss_value)\n",
    "    return params, loss"
   ]
  },
  {
   "cell_type": "code",
   "execution_count": 8,
   "metadata": {
    "id": "kmT91CtBq2jY"
   },
   "outputs": [],
   "source": [
    "optimizer = optax.adam(learning_rate=0.05)\n",
    "n_itr = 650\n",
    "params_one = jnp.array([5.0, 8.0])\n",
    "optimized_params_one, loss_one = fit(params=params_one, optimizer=optimizer, loss_fun=kl_sampling, n_itr=n_itr)\n",
    "params_two = jnp.array([5.0, 10.0])\n",
    "optimized_params_two, loss_two = fit(params=params_two, optimizer=optimizer, loss_fun=kl_sampling_inverse, n_itr=n_itr)"
   ]
  },
  {
   "cell_type": "code",
   "execution_count": 9,
   "metadata": {},
   "outputs": [
    {
     "data": {
      "text/plain": [
       "Text(0.5, 1.0, 'Iteration vs loss\\n$\\\\min_{q}\\\\ KL[p ; q]$')"
      ]
     },
     "execution_count": 9,
     "metadata": {},
     "output_type": "execute_result"
    },
    {
     "data": {
      "image/png": "[encoded data removed]",
      "text/plain": [
       "<Figure size 1080x360 with 2 Axes>"
      ]
     },
     "metadata": {
      "needs_background": "light"
     },
     "output_type": "display_data"
    }
   ],
   "source": [
    "x_loss = jnp.linspace(1, n_itr, n_itr)\n",
    "fig, (ax1, ax2) = plt.subplots(1, 2, figsize=(15, 5))\n",
    "ax1.plot(x_loss, loss_one, color=\"green\")\n",
    "ax2.plot(x_loss, loss_two, color=\"orange\")\n",
    "ax1.set_xlabel(\"Iterations\")\n",
    "ax1.set_ylabel(\"loss\")\n",
    "ax1.set_title(\"Iteration vs loss\\n\" + r\"$\\min_{q}\\ KL[q ; p]$\")\n",
    "ax2.set_xlabel(\"Iterations\")\n",
    "ax2.set_ylabel(\"loss\")\n",
    "ax2.set_title(\"Iteration vs loss\\n\" + r\"$\\min_{q}\\ KL[p ; q]$\")"
   ]
  },
  {
   "cell_type": "code",
   "execution_count": 11,
   "metadata": {
    "colab": {
     "base_uri": "https://localhost:8080/",
     "height": 314
    },
    "id": "jO40vvnjtfSN",
    "outputId": "e79a822c-3bb9-47be-d454-407a8466ce93"
   },
   "outputs": [
    {
     "name": "stdout",
     "output_type": "stream",
     "text": [
      "saving image to /Users/kpmurphy/github/bookv2/figures/minimize_kl_divergence_latexified.pdf\n",
      "Figure size: [3.75 1.  ]\n"
     ]
    },
    {
     "data": {
      "image/png": "[encoded data removed]",
      "text/plain": [
       "<Figure size 270x72 with 1 Axes>"
      ]
     },
     "metadata": {
      "needs_background": "light"
     },
     "output_type": "display_data"
    }
   ],
   "source": [
    "fig, ax = plt.subplots(1, 1)\n",
    "x = jnp.linspace(-8, 20, int(1e6))\n",
    "label_one = str()\n",
    "label_two = str()\n",
    "if is_latexify_enabled():\n",
    "    label_one = r\"$$ \\min_q\\ KL[q ; p]$$\"\n",
    "    label_two = r\"$$ \\min_q\\ KL[p ; q]$$\"\n",
    "else:\n",
    "    label_one = r\"$\\min_q\\ KL[q ; p]$\"\n",
    "    label_two = r\"$\\min_q\\ KL[p ; q]$\"\n",
    "ax.plot(x, ptrue.prob(x), label=r\"$p$\")\n",
    "ax.plot(\n",
    "    x,\n",
    "    distrax.Normal(loc=optimized_params_two[0], scale=optimized_params_two[1]).prob(x),\n",
    "    color=\"orange\",\n",
    "    label=label_two,\n",
    "    linestyle=\"--\",\n",
    ")\n",
    "ax.plot(\n",
    "    x,\n",
    "    distrax.Normal(loc=optimized_params_one[0], scale=optimized_params_one[1]).prob(x),\n",
    "    color=\"green\",\n",
    "    label=label_one,\n",
    "    linestyle=\"-.\",\n",
    ")\n",
    "ax.set_xlabel(\"x\")\n",
    "ax.set_ylabel(\"P(x)\")\n",
    "ax.legend(fontsize=5.2, loc=\"upper right\")\n",
    "sns.despine()\n",
    "savefig(\"minimize_kl_divergence_latexified\")"
   ]
  }
 ],
 "metadata": {
  "colab": {
   "collapsed_sections": [],
   "name": "minimize_kl_divergence.ipynb",
   "provenance": []
  },
  "kernelspec": {
   "display_name": "spyder-dev",
   "language": "python",
   "name": "python3"
  },
  "language_info": {
   "codemirror_mode": {
    "name": "ipython",
    "version": 3
   },
   "file_extension": ".py",
   "mimetype": "text/x-python",
   "name": "python",
   "nbconvert_exporter": "python",
   "pygments_lexer": "ipython3",
   "version": "3.9.2 (default, Mar  3 2021, 11:58:52) \n[Clang 10.0.0 ]"
  },
  "vscode": {
   "interpreter": {
    "hash": "6407c60499271029b671b4ff687c4ed4626355c45fd34c44476827f4be42c4d7"
   }
  }
 },
 "nbformat": 4,
 "nbformat_minor": 1
}
