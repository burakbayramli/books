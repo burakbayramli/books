{
 "cells": [
  {
   "cell_type": "code",
   "execution_count": 1,
   "id": "3c4d5f4d",
   "metadata": {},
   "outputs": [],
   "source": [
    "import numpy as np\n",
    "import matplotlib.pyplot as plt\n",
    "import matplotlib\n",
    "\n",
    "%matplotlib inline\n",
    "from scipy.linalg import sqrtm\n",
    "import seaborn as sns\n",
    "\n",
    "try:\n",
    "    from probml_utils import savefig, latexify\n",
    "except ModuleNotFoundError:\n",
    "    %pip install -qq git+https://github.com/probml/probml-utils.git\n",
    "    from probml_utils import savefig, latexify"
   ]
  },
  {
   "cell_type": "code",
   "execution_count": 5,
   "id": "92358643",
   "metadata": {},
   "outputs": [],
   "source": [
    "import os"
   ]
  },
  {
   "cell_type": "code",
   "execution_count": 6,
   "id": "5e82e344",
   "metadata": {},
   "outputs": [],
   "source": [
    "os.environ[\"LATEXIFY\"] = \"\"\n",
    "os.environ[\"FIG_DIR\"] = \"figures\""
   ]
  },
  {
   "cell_type": "code",
   "execution_count": 7,
   "id": "70008254",
   "metadata": {},
   "outputs": [],
   "source": [
    "latexify(width_scale_factor=2.5, fig_height=1.5)"
   ]
  },
  {
   "cell_type": "code",
   "execution_count": 11,
   "id": "3fcb1fe5",
   "metadata": {},
   "outputs": [
    {
     "name": "stdout",
     "output_type": "stream",
     "text": [
      "saving image to figures/natgrad_descent_vectors_orig_latexified.pdf\n",
      "Figure size: [2.4 1.5]\n"
     ]
    },
    {
     "data": {
      "image/png": "[encoded data removed]",
      "text/plain": [
       "<Figure size 172.8x108 with 1 Axes>"
      ]
     },
     "metadata": {
      "needs_background": "light"
     },
     "output_type": "display_data"
    },
    {
     "name": "stdout",
     "output_type": "stream",
     "text": [
      "saving image to figures/natgrad_descent_vectors_natural_latexified.pdf\n",
      "Figure size: [2.4 1.5]\n"
     ]
    },
    {
     "data": {
      "image/png": "[encoded data removed]",
      "text/plain": [
       "<Figure size 172.8x108 with 1 Axes>"
      ]
     },
     "metadata": {
      "needs_background": "light"
     },
     "output_type": "display_data"
    }
   ],
   "source": [
    "def L_dL_G(theta, X, sf):\n",
    "    KL = (\n",
    "        1 / 2 * (X[0, :] - (sf * theta[0] + 1 / sf * theta[1])) ** 2\n",
    "        + 1 / 2 * (X[1, :] - (1 / sf * theta[0])) ** 2\n",
    "        - 1 / 2 * X[0, :] ** 2\n",
    "        - 1 / 2 * X[1, :] ** 2\n",
    "    )\n",
    "    L = np.mean(KL)\n",
    "\n",
    "    dlpdtheta = -np.array(\n",
    "        [\n",
    "            sf * (X[0, :] - (sf * theta[0] + 1 / sf * theta[1])) + 1 / sf * (X[1, :] - (1 / sf * theta[0])),\n",
    "            1 / sf * (X[0, :] - (sf * theta[0] + 1 / sf * theta[1])),\n",
    "        ]\n",
    "    )\n",
    "    dL = np.mean(dlpdtheta, axis=1)\n",
    "    G = np.array([[sf**2 + 1 / (sf**2), 1], [1, 1 / (sf**2)]])\n",
    "    return L, dL, G\n",
    "\n",
    "\n",
    "def make_vector_field_plots():\n",
    "    # initialize the theta domain\n",
    "    theta1, theta2 = np.meshgrid(np.linspace(-1, 1, 9), np.linspace(-1, 1, 9))\n",
    "    theta = np.array([theta1.T.flatten(), theta2.T.flatten()])\n",
    "    sf = 3\n",
    "\n",
    "    # get random values and subtract their mean\n",
    "    X = np.random.randn(2, 10000)\n",
    "    X = X - np.mean(X, axis=1).reshape(2, 1)\n",
    "    dL = np.zeros_like(theta)\n",
    "    for i in range(0, theta.shape[1]):\n",
    "        _, dL[:, i], G = L_dL_G(theta[:, i], X, sf)\n",
    "\n",
    "    # change derivative to get steepest descent\n",
    "    dL = -dL\n",
    "    plt.figure()\n",
    "    plt.quiver(theta[0, :], theta[1, :], dL[0, :], dL[1, :])\n",
    "    plt.xlabel(r\"$\\theta_1$\")\n",
    "    plt.ylabel(r\"$\\theta_2$\")\n",
    "    # plt.title(\"Steepest descent vectors in \\noriginal parameter space\")\n",
    "    sns.despine()\n",
    "    plt.gca().set_aspect(0.7)\n",
    "    # savefig(\"SDOriginalParam\")\n",
    "    savefig(\"natgrad_descent_vectors_orig\")\n",
    "    plt.savefig(\"natgrad_descent_vectors_orig_latexified.png\", dpi=500)\n",
    "    plt.show()\n",
    "\n",
    "    phi = theta.copy()\n",
    "    theta = np.linalg.inv(sqrtm(G)).dot(phi)\n",
    "    dL = np.zeros_like(theta)\n",
    "    for i in range(0, theta.shape[1]):\n",
    "        _, dL[:, i], G = L_dL_G(theta[:, i], X, sf)\n",
    "    dL = -dL\n",
    "\n",
    "    dLphi = sqrtm(np.linalg.inv(G)).dot(dL)\n",
    "    plt.figure()\n",
    "    plt.quiver(phi[0, :], phi[1, :], dLphi[0, :], dLphi[1, :])\n",
    "    plt.xlabel(r\"$\\phi_1$\")\n",
    "    plt.ylabel(r\"$\\phi_2$\")\n",
    "    # plt.title(\"Steepest descent vectors in \\nnatural parameter space\")\n",
    "    sns.despine()\n",
    "    plt.gca().set_aspect(0.7)\n",
    "    # savefig(\"SDNaturalParam\")\n",
    "    savefig(\"natgrad_descent_vectors_natural\")\n",
    "    plt.savefig(\"natgrad_descent_vectors_natural_latexified.png\", dpi=500)\n",
    "    plt.show()\n",
    "\n",
    "\n",
    "make_vector_field_plots()"
   ]
  },
  {
   "cell_type": "code",
   "execution_count": null,
   "id": "ee3179c7",
   "metadata": {},
   "outputs": [
    {
     "name": "stderr",
     "output_type": "stream",
     "text": [
      "/home/patel_karm/anaconda3/envs/py3713/lib/python3.7/site-packages/ipykernel_launcher.py:23: FutureWarning: `rcond` parameter will change to the default of machine precision times ``max(M, N)`` where M and N are the input matrix dimensions.\n",
      "To use the future default and silence this warning we advise to pass `rcond=None`, to keep using the old, explicitly pass `rcond=-1`.\n"
     ]
    }
   ],
   "source": [
    "def make_convergence_plots():\n",
    "    X = np.random.randn(2, 1000)\n",
    "    X = X - np.mean(X, axis=1).reshape(2, 1)\n",
    "\n",
    "    theta_init = np.array([[1], [-1]])\n",
    "    sf = 3\n",
    "    # Setting number of update steps\n",
    "    # theta_trajectory_steepest = theta_init.dot(np.ones((1, 1000)))\n",
    "    theta_trajectory_steepest = theta_init.dot(np.ones((1, 100000)))\n",
    "    theta_trajectory_natural = theta_trajectory_steepest.copy()\n",
    "    L_trajectory_steepest = np.zeros((1, theta_trajectory_steepest.shape[1] - 1))\n",
    "    L_trajectory_natural = np.zeros_like(L_trajectory_steepest)\n",
    "\n",
    "    eps_steep = 1 / (sf**2) / 5\n",
    "    eps_nat = eps_steep * sf**2\n",
    "\n",
    "    for i in range(1, theta_trajectory_steepest.shape[1]):\n",
    "        L, dL, G = L_dL_G(theta_trajectory_steepest[:, i - 1], X, sf)\n",
    "        L_trajectory_steepest[:, i - 1] = L\n",
    "        theta_trajectory_steepest[:, i] = theta_trajectory_steepest[:, i - 1] - eps_steep * dL\n",
    "        L, dL, G = L_dL_G(theta_trajectory_natural[:, i - 1], X, sf)\n",
    "        L_trajectory_natural[:, i - 1] = L\n",
    "        theta_trajectory_natural[:, i] = theta_trajectory_natural[:, i - 1] - eps_nat * (np.linalg.lstsq(G, dL)[0])\n",
    "\n",
    "    plt.figure()\n",
    "    plt.plot(\n",
    "        theta_trajectory_steepest[0, :].T,\n",
    "        theta_trajectory_steepest[1, :].T,\n",
    "        \"+r\",\n",
    "        markersize=5,\n",
    "        label=\"Steepest descent\",\n",
    "    )\n",
    "    plt.plot(theta_trajectory_natural[0, :].T, theta_trajectory_natural[1, :].T, \"xb\", markersize=5, label=\"NG descent\")\n",
    "    plt.xlabel(r\"$\\theta_1$\")\n",
    "    plt.ylabel(r\"$\\theta_2$\")\n",
    "    plt.title(\"Parameter trajectories\")\n",
    "    plt.legend(loc=\"upper right\", markerfirst=False, frameon=False, fontsize=7)\n",
    "    sns.despine()\n",
    "    savefig(\"DescentPathsSteepestNGDescent\")\n",
    "    # savefig(\"natgrad_descent_params\")\n",
    "    plt.savefig(\"natgrad_descent_params_latexified.png\", dpi=500)\n",
    "    plt.show()\n",
    "\n",
    "    plt.figure()\n",
    "    plt.loglog(L_trajectory_steepest.flatten(), \"+r\", markersize=5, label=\"Steepest descent\")\n",
    "    plt.loglog(L_trajectory_natural.flatten(), \"xb\", markersize=5, label=\"Natural gradient descent\")\n",
    "    plt.xlabel(\"Number of update steps\")\n",
    "    plt.ylabel(\"KL divergence\")\n",
    "    plt.title(\"KL divergence vs. update step\")\n",
    "    sns.despine()\n",
    "    savefig(\"KLDivergenceSteepestNGDescent\")\n",
    "    # savefig(\"natgrad_descent_kl\")\n",
    "    plt.savefig(\"natgrad_descent_kl_latexified.png\", dpi=500)\n",
    "    plt.show()\n",
    "\n",
    "\n",
    "make_convergence_plots()"
   ]
  },
  {
   "cell_type": "code",
   "execution_count": null,
   "id": "772b3985",
   "metadata": {},
   "outputs": [],
   "source": []
  }
 ],
 "metadata": {
  "kernelspec": {
   "display_name": "Python [conda env:py3713]",
   "language": "python",
   "name": "conda-env-py3713-py"
  },
  "language_info": {
   "codemirror_mode": {
    "name": "ipython",
    "version": 3
   },
   "file_extension": ".py",
   "mimetype": "text/x-python",
   "name": "python",
   "nbconvert_exporter": "python",
   "pygments_lexer": "ipython3",
   "version": "3.7.13"
  },
  "vscode": {
   "interpreter": {
    "hash": "df0893f56f349688326838aaeea0de204df53a132722cbd565e54b24a8fec5f6"
   }
  }
 },
 "nbformat": 4,
 "nbformat_minor": 5
}
