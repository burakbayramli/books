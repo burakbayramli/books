{
 "cells": [
  {
   "cell_type": "markdown",
   "metadata": {
    "id": "V--ztRRuZV3E"
   },
   "source": [
    "# SMC sequential inference for a static parameter (IBIS) for 1d Gaussian\n",
    "\n",
    "The model is $p(y_t|y_{0:t-1},\\theta)=N(y_t|\\theta.\\mu, \\theta.\\sigma^2)$.\n",
    "\n",
    "Code is from: https://github.com/nchopin/particles/blob/master/docs/source/notebooks/SMC_samplers_tutorial.ipynb"
   ]
  },
  {
   "cell_type": "code",
   "execution_count": 12,
   "metadata": {
    "id": "PS5spJ4vaB17"
   },
   "outputs": [],
   "source": [
    "import os\n",
    "import seaborn as sns\n",
    "\n",
    "try:\n",
    "    import particles\n",
    "except ModuleNotFoundError:\n",
    "    %pip install -qq git+https://github.com/nchopin/particles.git\n",
    "    import particles\n",
    "import particles.state_space_models as ssm\n",
    "import particles.distributions as dists\n",
    "\n",
    "%matplotlib inline\n",
    "from matplotlib import pyplot as plt\n",
    "import seaborn as sb\n",
    "import numpy as np\n",
    "from scipy import stats\n",
    "\n",
    "try:\n",
    "    import particles\n",
    "except ModuleNotFoundError:\n",
    "    %pip install -qq particles\n",
    "    import particles\n",
    "from particles import smc_samplers as ssp\n",
    "from particles import distributions as dists\n",
    "\n",
    "try:\n",
    "    import probml_utils as pml\n",
    "except ModuleNotFoundError:\n",
    "    %pip install -qq git+https://github.com/probml/probml-utils.git\n",
    "    import probml_utils as pml"
   ]
  },
  {
   "cell_type": "code",
   "execution_count": 2,
   "metadata": {},
   "outputs": [],
   "source": [
    "os.environ[\"LATEXIFY\"] = \"\"\n",
    "os.environ[\"FIG_DIR\"] = \"figures\""
   ]
  },
  {
   "cell_type": "code",
   "execution_count": 3,
   "metadata": {
    "id": "L9_c7vBPaCCg"
   },
   "outputs": [],
   "source": [
    "class ToyModel(ssp.StaticModel):\n",
    "    def logpyt(self, theta, t):  # density of Y_t given theta and Y_{0:t-1}\n",
    "        return stats.norm.logpdf(self.data[t], loc=theta[\"mu\"], scale=theta[\"sigma\"])\n",
    "\n",
    "\n",
    "T = 30\n",
    "my_data = stats.norm.rvs(loc=3.14, size=T)  # simulated data\n",
    "my_prior = dists.StructDist({\"mu\": dists.Normal(scale=10.0), \"sigma\": dists.Gamma()})\n",
    "\n",
    "my_static_model = ToyModel(data=my_data, prior=my_prior)"
   ]
  },
  {
   "cell_type": "markdown",
   "metadata": {
    "id": "PzXyrKabao86"
   },
   "source": [
    "We run IBIS with 20 particles, using 50 MCMC iterations per time step (data point). We use \"waste free\" SMC, so we generate 50*20=1000 samples in total per step."
   ]
  },
  {
   "cell_type": "code",
   "execution_count": 4,
   "metadata": {
    "colab": {
     "base_uri": "https://localhost:8080/"
    },
    "id": "-5j_OmJRaoVD",
    "outputId": "d82b852f-782b-4f77-c4cd-75ce5cdc4294"
   },
   "outputs": [
    {
     "name": "stdout",
     "output_type": "stream",
     "text": [
      "t=0, ESS=58.14\n",
      "t=1, Metropolis acc. rate (over 49 steps): 0.209, ESS=499.06\n",
      "t=2, Metropolis acc. rate (over 49 steps): 0.170, ESS=675.50\n",
      "t=3, ESS=376.27\n",
      "t=4, Metropolis acc. rate (over 49 steps): 0.244, ESS=583.01\n",
      "t=5, ESS=103.19\n",
      "t=6, Metropolis acc. rate (over 49 steps): 0.486, ESS=904.26\n",
      "t=7, ESS=795.64\n",
      "t=8, ESS=571.89\n",
      "t=9, ESS=361.04\n",
      "t=10, Metropolis acc. rate (over 49 steps): 0.363, ESS=934.31\n",
      "t=11, ESS=788.41\n",
      "t=12, ESS=649.73\n",
      "t=13, ESS=555.55\n",
      "t=14, ESS=631.81\n",
      "t=15, ESS=503.48\n",
      "t=16, ESS=412.39\n",
      "t=17, Metropolis acc. rate (over 49 steps): 0.317, ESS=920.21\n",
      "t=18, ESS=952.02\n",
      "t=19, ESS=814.36\n",
      "t=20, ESS=875.37\n",
      "t=21, ESS=914.19\n",
      "t=22, ESS=750.37\n",
      "t=23, ESS=803.78\n",
      "t=24, ESS=773.84\n",
      "t=25, ESS=808.32\n",
      "t=26, ESS=827.16\n",
      "t=27, ESS=828.41\n",
      "t=28, ESS=639.55\n",
      "t=29, ESS=646.82\n",
      "CPU times: user 739 ms, sys: 108 ms, total: 847 ms\n",
      "Wall time: 842 ms\n"
     ]
    }
   ],
   "source": [
    "%%time\n",
    "\n",
    "my_ibis = ssp.IBIS(my_static_model, len_chain=50)\n",
    "my_alg = particles.SMC(fk=my_ibis, N=20, store_history=True, verbose=True)\n",
    "my_alg.run()"
   ]
  },
  {
   "cell_type": "code",
   "execution_count": 5,
   "metadata": {
    "colab": {
     "base_uri": "https://localhost:8080/"
    },
    "id": "O35r5-F1cGd8",
    "outputId": "5db1e76f-619e-4f5a-f0a8-ed9614e5d24b"
   },
   "outputs": [
    {
     "name": "stdout",
     "output_type": "stream",
     "text": [
      "1000\n"
     ]
    }
   ],
   "source": [
    "xx = my_alg.hist.X[0].theta[\"mu\"]\n",
    "nsamples = xx.shape[0]\n",
    "print(nsamples)"
   ]
  },
  {
   "cell_type": "code",
   "execution_count": 6,
   "metadata": {
    "colab": {
     "base_uri": "https://localhost:8080/",
     "height": 282
    },
    "id": "JjtJqnvOblTp",
    "outputId": "94fe62af-6c26-4a67-a8b6-eaac44587bb2"
   },
   "outputs": [
    {
     "name": "stdout",
     "output_type": "stream",
     "text": [
      "(30, 1000)\n"
     ]
    },
    {
     "data": {
      "image/png": "[encoded data removed]",
      "text/plain": [
       "<Figure size 432x288 with 1 Axes>"
      ]
     },
     "metadata": {
      "needs_background": "light"
     },
     "output_type": "display_data"
    }
   ],
   "source": [
    "mus = np.zeros((T, nsamples))\n",
    "times = np.arange(T)\n",
    "for t in times:\n",
    "    mus[t, :] = my_alg.hist.X[t].theta[\"mu\"]\n",
    "\n",
    "print(mus.shape)\n",
    "plt.figure()\n",
    "plt.plot(times, mus, label=\"mu\");"
   ]
  },
  {
   "cell_type": "markdown",
   "metadata": {
    "id": "9rb16BAzdq0O"
   },
   "source": [
    "Below we show the histogram of samples at two time steps for each parameter.\n",
    "We see that the posterior concentrates on the true values."
   ]
  },
  {
   "cell_type": "code",
   "execution_count": 14,
   "metadata": {},
   "outputs": [],
   "source": [
    "pml.latexify(width_scale_factor=2)"
   ]
  },
  {
   "cell_type": "code",
   "execution_count": 17,
   "metadata": {
    "colab": {
     "base_uri": "https://localhost:8080/",
     "height": 282
    },
    "id": "slcH_GxxdqGq",
    "outputId": "450bc58a-b2d5-4a57-80b7-0f5587eda70b"
   },
   "outputs": [
    {
     "name": "stderr",
     "output_type": "stream",
     "text": [
      "/home/patel_karm/sendbox/probml-utils/probml_utils/plotting.py:71: UserWarning: renaming figures/ibis-post-histo.pdf to figures/ibis-post-histo_latexified.pdf because LATEXIFY is True\n",
      "  f\"renaming {fname_full} to {fname}{extention} because LATEXIFY is {LATEXIFY}\",\n"
     ]
    },
    {
     "name": "stdout",
     "output_type": "stream",
     "text": [
      "saving image to figures/ibis-post-histo_latexified.pdf\n",
      "Figure size: [3.  1.5]\n"
     ]
    },
    {
     "data": {
      "image/png": "[encoded data removed]",
      "text/plain": [
       "<Figure size 216x108 with 2 Axes>"
      ]
     },
     "metadata": {
      "needs_background": "light"
     },
     "output_type": "display_data"
    }
   ],
   "source": [
    "# plt.style.use(\"ggplot\")\n",
    "for i, p in enumerate([\"mu\", \"sigma\"]):\n",
    "    plt.subplot(1, 2, i + 1)\n",
    "    for t in [1, 29]:\n",
    "        plt.hist(my_alg.hist.X[t].theta[p], weights=my_alg.hist.wgts[t].W, label=\"t=%i\" % t, alpha=0.5, density=True)\n",
    "    plt.xlabel(p)\n",
    "plt.legend(frameon=False)\n",
    "sns.despine()\n",
    "pml.savefig(\"ibis-post-histo.pdf\")"
   ]
  },
  {
   "cell_type": "code",
   "execution_count": 20,
   "metadata": {
    "colab": {
     "base_uri": "https://localhost:8080/",
     "height": 282
    },
    "id": "GwwLc4TseEPA",
    "outputId": "bd9d5284-f431-40c6-cd8e-0a000f324200"
   },
   "outputs": [
    {
     "name": "stdout",
     "output_type": "stream",
     "text": [
      "saving image to figures/ibis-ESS-vs-time_latexified.pdf\n",
      "Figure size: [3.  1.5]\n"
     ]
    },
    {
     "data": {
      "image/png": "[encoded data removed]",
      "text/plain": [
       "<Figure size 216x108 with 1 Axes>"
      ]
     },
     "metadata": {
      "needs_background": "light"
     },
     "output_type": "display_data"
    }
   ],
   "source": [
    "plt.figure()\n",
    "plt.plot(my_alg.summaries.ESSs, lw=1)\n",
    "plt.xlabel(\"t\")\n",
    "plt.ylabel(\"ESS\")\n",
    "plt.axhline(y=500)\n",
    "sns.despine()\n",
    "pml.savefig(\"ibis-ESS-vs-time.pdf\")"
   ]
  },
  {
   "cell_type": "code",
   "execution_count": 10,
   "metadata": {
    "colab": {
     "base_uri": "https://localhost:8080/"
    },
    "id": "tzX44v-sgKLf",
    "outputId": "c90624ac-665a-40d3-dcfe-cd4af78db49f"
   },
   "outputs": [
    {
     "name": "stdout",
     "output_type": "stream",
     "text": [
      "dict_keys(['rs_flag', 'chol_cov', 'acc_rates'])\n"
     ]
    }
   ],
   "source": [
    "print(my_alg.X.shared.keys())"
   ]
  },
  {
   "cell_type": "code",
   "execution_count": 11,
   "metadata": {
    "colab": {
     "base_uri": "https://localhost:8080/"
    },
    "id": "ASlXqiwhgLdV",
    "outputId": "eb072e52-4c26-4e0c-a8a5-630983e30a88"
   },
   "outputs": [
    {
     "name": "stdout",
     "output_type": "stream",
     "text": [
      "6\n",
      "0.20924065735778064\n",
      "0.17029554784643025\n",
      "0.24416637113848005\n",
      "0.4862693673596949\n",
      "0.36317537998270405\n",
      "0.3167837518528394\n"
     ]
    }
   ],
   "source": [
    "rates = my_alg.X.shared[\"acc_rates\"]\n",
    "print(len(rates))\n",
    "for r in rates:\n",
    "    print(np.mean(r))"
   ]
  },
  {
   "cell_type": "code",
   "execution_count": null,
   "metadata": {
    "id": "fdLZp0lCgpcG"
   },
   "outputs": [],
   "source": []
  }
 ],
 "metadata": {
  "colab": {
   "authorship_tag": "ABX9TyOlH2dgcu9NVVVFVwq7lNK6",
   "include_colab_link": true,
   "name": "smc-ibis-1d.ipynb",
   "provenance": []
  },
  "kernelspec": {
   "display_name": "Python [conda env:py3713]",
   "language": "python",
   "name": "conda-env-py3713-py"
  },
  "language_info": {
   "codemirror_mode": {
    "name": "ipython",
    "version": 3
   },
   "file_extension": ".py",
   "mimetype": "text/x-python",
   "name": "python",
   "nbconvert_exporter": "python",
   "pygments_lexer": "ipython3",
   "version": "3.7.13"
  }
 },
 "nbformat": 4,
 "nbformat_minor": 1
}
