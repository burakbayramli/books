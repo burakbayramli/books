{
 "cells": [
  {
   "cell_type": "markdown",
   "id": "b846c26d",
   "metadata": {},
   "source": [
    "# Gibbs sampling on Ising model"
   ]
  },
  {
   "cell_type": "code",
   "execution_count": 1,
   "id": "e591cbe2",
   "metadata": {},
   "outputs": [],
   "source": [
    "\"\"\"\n",
    "Author : Ming Liang Ang\n",
    "Based on : https://github.com/probml/pmtk3/blob/master/demos/gibbsDemoIsing.m\n",
    "\"\"\"\n",
    "\n",
    "import numpy as np\n",
    "import matplotlib.pyplot as plt\n",
    "import jax\n",
    "import jax.numpy as jnp\n",
    "\n",
    "try:\n",
    "    import probml_utils as pml\n",
    "except ModuleNotFoundError:\n",
    "    %pip install -qq git+https://github.com/probml/probml-utils.git\n",
    "    import probml_utils as pml"
   ]
  },
  {
   "cell_type": "code",
   "execution_count": 2,
   "id": "fa78761c",
   "metadata": {},
   "outputs": [
    {
     "name": "stderr",
     "output_type": "stream",
     "text": [
      "WARNING:absl:No GPU/TPU found, falling back to CPU. (Set TF_CPP_MIN_LOG_LEVEL=0 and rerun for more info.)\n"
     ]
    }
   ],
   "source": [
    "n_pixels = 100\n",
    "pixels = jnp.array(range(n_pixels))\n",
    "\n",
    "\n",
    "def energy(ix, iy, X, J):\n",
    "    wi = 0\n",
    "    wi += jax.lax.cond(iy > 0, lambda: X[iy - 1, ix], lambda: 0)  # if iy != 0 then add X[iy - 1, ix]\n",
    "    wi += jax.lax.cond(iy < n_pixels - 1, lambda: X[iy + 1, ix], lambda: 0)\n",
    "    wi += jax.lax.cond(ix > 0, lambda: X[iy, ix - 1], lambda: 0)\n",
    "    wi += jax.lax.cond(ix < n_pixels - 1, lambda: X[iy, ix + 1], lambda: 0)\n",
    "    return 2 * J * wi\n",
    "\n",
    "\n",
    "def gibbs_samples(rng_key, J, niter):\n",
    "\n",
    "    x_values = jnp.array([-1, 1])  # x is binary variable having values either -1 or +1\n",
    "    grid = jnp.array(jax.random.choice(rng_key, a=x_values, shape=(n_pixels, n_pixels)))  # create grid\n",
    "\n",
    "    @jax.jit\n",
    "    def one_step(grid, key):\n",
    "        keys = jax.random.split(key)\n",
    "        ix = jnp.array(jax.random.choice(keys[0], a=pixels))  # pick random x pixel\n",
    "        iy = jax.random.choice(keys[1], a=pixels)  # pick random y pixel\n",
    "        e = energy(ix, iy, grid, J)  # calculate enerygy on (ix, iy)\n",
    "        p_ix_iy = jax.nn.sigmoid(e)  # probability\n",
    "        u = jax.random.uniform(key)\n",
    "        grid = grid.at[iy, ix].set(jax.lax.cond(u < p_ix_iy, lambda: 1, lambda: -1))\n",
    "        return grid, None\n",
    "\n",
    "    keys = jax.random.split(key=rng_key, num=niter)\n",
    "    grid, _ = jax.lax.scan(one_step, grid, keys)\n",
    "    return grid"
   ]
  },
  {
   "cell_type": "code",
   "execution_count": 3,
   "id": "e9b244a9",
   "metadata": {},
   "outputs": [],
   "source": [
    "niter = 50000\n",
    "gibbs_samples_jit = jax.jit(gibbs_samples, static_argnames=[\"niter\"])"
   ]
  },
  {
   "cell_type": "code",
   "execution_count": 4,
   "id": "5c7b25db",
   "metadata": {},
   "outputs": [
    {
     "name": "stderr",
     "output_type": "stream",
     "text": [
      "/home/patel_zeel/Probml_karm/probml-utils/probml_utils/plotting.py:26: UserWarning: LATEXIFY environment variable not set, not latexifying\n",
      "  warnings.warn(\"LATEXIFY environment variable not set, not latexifying\")\n"
     ]
    }
   ],
   "source": [
    "pml.latexify(width_scale_factor=3, fig_height=1.5)"
   ]
  },
  {
   "cell_type": "code",
   "execution_count": 5,
   "id": "2816d717",
   "metadata": {},
   "outputs": [],
   "source": [
    "def plot_samples(J, sample_grid, fig_no=None):\n",
    "    cords = jnp.array(range(len(sample_grid)))\n",
    "    x, y = jnp.meshgrid(cords, cords)\n",
    "    plt.figure()\n",
    "    plt.pcolormesh(x, y, sample_grid, cmap=\"Greys\")\n",
    "    plt.gca().set_aspect(\"equal\")\n",
    "    plt.title(f\"$J={J}$\")\n",
    "    plt.xlabel(\"x1\")\n",
    "    plt.ylabel(\"x2\")\n",
    "    plt.xticks(range(0, 101, 50))\n",
    "    plt.yticks(range(0, 101, 50))\n",
    "    if fig_no != None:\n",
    "        pml.savefig(\"gibbsDemoIsing{}.pdf\".format(fig_no))"
   ]
  },
  {
   "cell_type": "code",
   "execution_count": 6,
   "id": "2f24354d",
   "metadata": {},
   "outputs": [
    {
     "name": "stderr",
     "output_type": "stream",
     "text": [
      "/home/patel_zeel/Probml_karm/probml-utils/probml_utils/plotting.py:80: UserWarning: set FIG_DIR environment variable to save figures\n",
      "  warnings.warn(\"set FIG_DIR environment variable to save figures\")\n"
     ]
    },
    {
     "data": {
      "image/png": "[encoded data removed]",
      "text/plain": [
       "<Figure size 432x288 with 1 Axes>"
      ]
     },
     "metadata": {
      "needs_background": "light"
     },
     "output_type": "display_data"
    }
   ],
   "source": [
    "J = 0.2  # J is coupling strength between two nodes (here two pixels)\n",
    "sample_grid = gibbs_samples_jit(jax.random.PRNGKey(0), J, niter)\n",
    "plot_samples(J, sample_grid, 0)"
   ]
  },
  {
   "cell_type": "code",
   "execution_count": 7,
   "id": "2e03cfd1",
   "metadata": {},
   "outputs": [
    {
     "data": {
      "image/png": "[encoded data removed]",
      "text/plain": [
       "<Figure size 432x288 with 1 Axes>"
      ]
     },
     "metadata": {
      "needs_background": "light"
     },
     "output_type": "display_data"
    }
   ],
   "source": [
    "J = 0.4\n",
    "sample_grid = gibbs_samples_jit(jax.random.PRNGKey(1), J, niter)\n",
    "plot_samples(J, sample_grid, 1)"
   ]
  },
  {
   "cell_type": "code",
   "execution_count": 8,
   "id": "60c6d0be",
   "metadata": {},
   "outputs": [
    {
     "data": {
      "image/png": "[encoded data removed]",
      "text/plain": [
       "<Figure size 432x288 with 1 Axes>"
      ]
     },
     "metadata": {
      "needs_background": "light"
     },
     "output_type": "display_data"
    }
   ],
   "source": [
    "J = 10\n",
    "sample_grid = gibbs_samples_jit(jax.random.PRNGKey(2), J, niter)\n",
    "plot_samples(J, sample_grid, 2)"
   ]
  },
  {
   "cell_type": "code",
   "execution_count": 9,
   "id": "6a925dbd",
   "metadata": {},
   "outputs": [
    {
     "data": {
      "application/vnd.jupyter.widget-view+json": {
       "model_id": "31866779bd7d45d58d5ebe788f558222",
       "version_major": 2,
       "version_minor": 0
      },
      "text/plain": [
       "interactive(children=(FloatSlider(value=24.6, description='J', max=50.0, min=0.1, step=0.5), Output()), _dom_c…"
      ]
     },
     "metadata": {},
     "output_type": "display_data"
    }
   ],
   "source": [
    "from ipywidgets import interact\n",
    "\n",
    "\n",
    "@interact(J=(0.1, 50, 0.5))\n",
    "def generate_random(J):\n",
    "    n_iter = 50000\n",
    "    grid = gibbs_samples_jit(jax.random.PRNGKey(0), J, n_iter)\n",
    "    plot_samples(J, grid)"
   ]
  },
  {
   "cell_type": "code",
   "execution_count": null,
   "id": "815bc96c",
   "metadata": {},
   "outputs": [],
   "source": []
  }
 ],
 "metadata": {
  "kernelspec": {
   "display_name": "Python [conda env:py3713_2]",
   "language": "python",
   "name": "conda-env-py3713_2-py"
  },
  "language_info": {
   "codemirror_mode": {
    "name": "ipython",
    "version": 3
   },
   "file_extension": ".py",
   "mimetype": "text/x-python",
   "name": "python",
   "nbconvert_exporter": "python",
   "pygments_lexer": "ipython3",
   "version": "3.7.13"
  },
  "varInspector": {
   "cols": {
    "lenName": 16,
    "lenType": 16,
    "lenVar": 40
   },
   "kernels_config": {
    "python": {
     "delete_cmd_postfix": "",
     "delete_cmd_prefix": "del ",
     "library": "var_list.py",
     "varRefreshCmd": "print(var_dic_list())"
    },
    "r": {
     "delete_cmd_postfix": ") ",
     "delete_cmd_prefix": "rm(",
     "library": "var_list.r",
     "varRefreshCmd": "cat(var_dic_list()) "
    }
   },
   "types_to_exclude": [
    "module",
    "function",
    "builtin_function_or_method",
    "instance",
    "_Feature"
   ],
   "window_display": false
  }
 },
 "nbformat": 4,
 "nbformat_minor": 5
}
