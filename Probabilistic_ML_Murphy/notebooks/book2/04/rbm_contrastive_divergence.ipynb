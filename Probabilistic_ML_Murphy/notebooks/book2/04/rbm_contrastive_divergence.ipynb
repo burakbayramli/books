{
 "cells": [
  {
   "cell_type": "markdown",
   "id": "7icugr22ho3T",
   "metadata": {
    "id": "7icugr22ho3T"
   },
   "source": [
    "A demonstration of using contrastive divergence to train the parameters of a restricted Boltzmann machine.\n",
    "\n",
    "### References and Materials\n",
    "\n",
    "This notebook has made use of various textbooks, articles, and other resources with some particularly relevant examples given below.\n",
    "\n",
    "**RBM and CD Background**:\n",
    "- [1] K. Murphy. [*Probabilistic Machine Learning: Advanced Topics*.](https://probml.github.io/pml-book/book2.html) MIT Press, 2023.\n",
    "- D. MacKay. *Information theory, inference and learning algorithms*. Cambridge University Press, 2003.\n",
    "- Hastie, Trevor, et al. *The elements of statistical learning: data mining, inference, and prediction. Vol. 2*. New York: springer, 2009.\n",
    "\n",
    "**Practical advice for training RBMs with the CD algorithm**:\n",
    "- [2] G. Hinton. *A Practical Guide to Training Restricted Boltzmann Machines*. Tech. rep. U. Toronto, 2010.\n",
    "\n",
    "**Code**:\n",
    "- [gugarosa/learnenergy](https://github.com/gugarosa/learnergy)\n",
    "- [yell/boltzmann-machines](https://github.com/yell/boltzmann-machines)\n",
    "- [Ruslan Salakhutdinov Matlab code](http://www.cs.toronto.edu/~rsalakhu/DBM.html)"
   ]
  },
  {
   "cell_type": "code",
   "execution_count": 14,
   "id": "55ea373f-c6b6-4c9a-a200-e36efd3318e8",
   "metadata": {
    "executionInfo": {
     "elapsed": 4405,
     "status": "ok",
     "timestamp": 1650324304860,
     "user": {
      "displayName": "Giles Harper-Donnelly",
      "userId": "14122295314805114640"
     },
     "user_tz": -60
    },
    "id": "55ea373f-c6b6-4c9a-a200-e36efd3318e8"
   },
   "outputs": [],
   "source": [
    "import os\n",
    "import numpy as np\n",
    "import jax\n",
    "from jax import numpy as jnp\n",
    "from jax import grad, jit, vmap, random\n",
    "\n",
    "try:\n",
    "    import optax\n",
    "except ModuleNotFoundError:\n",
    "    %pip install -qq optax\n",
    "    import optax\n",
    "try:\n",
    "    import tensorflow_datasets as tfds\n",
    "except ModuleNotFoundError:\n",
    "    %pip install -qq tensorflow tensorflow_datasets\n",
    "    import tensorflow_datasets as tfds\n",
    "\n",
    "try:\n",
    "    import probml_utils as pml\n",
    "except ModuleNotFoundError:\n",
    "    %pip install -qq git+https://github.com/probml/probml-utils.git\n",
    "    import probml_utils as pml\n",
    "\n",
    "from sklearn.linear_model import LogisticRegression\n",
    "from matplotlib import pyplot as plt\n",
    "import matplotlib.gridspec as gridspec"
   ]
  },
  {
   "cell_type": "markdown",
   "id": "65d0e5bf-7587-469c-a6cf-a1de25629f8b",
   "metadata": {
    "id": "65d0e5bf-7587-469c-a6cf-a1de25629f8b"
   },
   "source": [
    "## Plotting functions"
   ]
  },
  {
   "cell_type": "code",
   "execution_count": 2,
   "id": "1a9b1330-49ae-4864-acbb-a615ea19237e",
   "metadata": {
    "executionInfo": {
     "elapsed": 6,
     "status": "ok",
     "timestamp": 1650324305180,
     "user": {
      "displayName": "Giles Harper-Donnelly",
      "userId": "14122295314805114640"
     },
     "user_tz": -60
    },
    "id": "1a9b1330-49ae-4864-acbb-a615ea19237e"
   },
   "outputs": [],
   "source": [
    "def plot_digit(img, label=None, ax=None):\n",
    "    \"\"\"Plot MNIST Digit.\"\"\"\n",
    "    if ax is None:\n",
    "        fig, ax = plt.subplots()\n",
    "    if img.ndim == 1:\n",
    "        img = img.reshape(28, 28)\n",
    "    ax.imshow(img.squeeze(), cmap=\"Greys_r\")\n",
    "    ax.axis(\"off\")\n",
    "    if label is not None:\n",
    "        ax.set_title(f\"Label:{label}\", fontsize=10, pad=1.3)\n",
    "    return ax\n",
    "\n",
    "\n",
    "def grid_plot_imgs(imgs, dim=None, axs=None, labels=None, figsize=(5, 5)):\n",
    "    \"\"\"Plot a series of digits in a grid.\"\"\"\n",
    "    if dim is None:\n",
    "        if axs is None:\n",
    "            n_imgs = len(imgs)\n",
    "            dim = np.sqrt(n_imgs)\n",
    "            if not dim.is_integer():\n",
    "                raise ValueError(\"If dim not specified `len(imgs)` must be a square number.\")\n",
    "            else:\n",
    "                dim = int(dim)\n",
    "        else:\n",
    "            dim = len(axs)\n",
    "\n",
    "    if axs is None:\n",
    "        gridspec_kw = {\"hspace\": 0.05, \"wspace\": 0.05}\n",
    "        if labels is not None:\n",
    "            gridspec_kw[\"hspace\"] = 0.25\n",
    "        fig, axs = plt.subplots(dim, dim, figsize=figsize, gridspec_kw=gridspec_kw)\n",
    "\n",
    "    for n in range(dim**2):\n",
    "        img = imgs[n]\n",
    "        row_idx = n // dim\n",
    "        col_idx = n % dim\n",
    "        axi = axs[row_idx, col_idx]\n",
    "        if labels is not None:\n",
    "            ax_label = labels[n]\n",
    "        else:\n",
    "            ax_label = None\n",
    "        plot_digit(img, ax=axi, label=ax_label)\n",
    "\n",
    "    return axs\n",
    "\n",
    "\n",
    "def gridspec_plot_imgs(imgs, gs_base, title=None, dim=5):\n",
    "    \"\"\"Plot digits into a gridspec subgrid.\n",
    "\n",
    "    Args:\n",
    "        imgs - images to plot.\n",
    "        gs_base - from `gridspec.GridSpec`\n",
    "        title - subgrid title.\n",
    "\n",
    "    Note that, in general, for this type of plotting it is considerably more\n",
    "     simple to using `fig.subfigures()` however that requires matplotlib >=3.4\n",
    "     which has some conflicts with the default colab setup as of the time of\n",
    "     writing.\n",
    "    \"\"\"\n",
    "    gs0 = gs_base.subgridspec(dim, dim)\n",
    "    for i in range(dim):\n",
    "        for j in range(dim):\n",
    "            ax = fig.add_subplot(gs0[i, j])\n",
    "            plot_digit(imgs[i * dim + j], ax=ax)\n",
    "            if (i == 0) and (j == 2):\n",
    "                if title is not None:\n",
    "                    ax.set_title(title)"
   ]
  },
  {
   "cell_type": "markdown",
   "id": "EAecC1C2K5ND",
   "metadata": {
    "id": "EAecC1C2K5ND"
   },
   "source": [
    "# Restricted Boltzmann Machines"
   ]
  },
  {
   "cell_type": "markdown",
   "id": "52855bd0-0ff0-478c-b8bb-8b55844901b8",
   "metadata": {
    "id": "52855bd0-0ff0-478c-b8bb-8b55844901b8"
   },
   "source": [
    "Restricted Boltzmann Machines (RBMs) are a type of energy based model in which the connectivity of nodes is carefully designed to facilitate efficient sampling methods.\n",
    "For details of RBMs see the sections on undirected graphical models (Section 4.3) and energy-based models (Chapter 23) in [1]. We reproduce here some of the relevant sampling equations which we will instrumenting below.\n",
    "\n",
    "We will be considering RBMs with binary units in both the hidden, $\\mathbf{h}$, and visible, $\\mathbf{v}$, layers.\n",
    "\n",
    "In general for Boltzmann machines with hidden units the probability of a particular state for the visible nodes is given by:\n",
    "$$\n",
    "P_{\\theta}(\\mathbf{v}) = \\frac{\\sum_{\\mathbf{h}}\\\n",
    " \\exp(-\\mathcal{E}\\left(\\mathbf{h},\\mathbf{v},\\theta)\\right)}{Z(\\theta)}\n",
    "$$\n",
    "where $\\theta$ is the collection of parameters $\\theta = (\\mathbf{W}, \\mathbf{a}, \\mathbf{b})$:\n",
    "- $\\mathbf{W} \\in \\mathbb{R}^{N_{\\mathrm{vis}} \\times N_{\\mathrm{hid}}}$\n",
    "- $\\mathbf{a} \\in \\mathbb{R}^{N_{\\mathrm{hid}}}$\n",
    "- $\\mathbf{b} \\in \\mathbb{R}^{N_{\\mathrm{vis}}}$\n",
    "\n",
    "and the energy of state is given by:\n",
    "$$\n",
    "\\mathcal{E}(\\mathbf{h}, \\mathbf{v}, \\theta) = \\mathbf{v}^\\top \\mathbf{W} \\mathbf{h} + \\mathbf{h}^\\top \\mathbf{a} + \\mathbf{v}^\\top \\mathbf{b}.\n",
    "$$\n",
    "\n",
    "In restricted Boltzmann machines the hidden units are independent from one another conditional on the visible units, and vic versa. This means that it is straightforward to do conditional block-sampling of the state of the network. \n",
    "\n",
    "This independence structure has the property that when conditionally sampling, the probability that the $j$th hidden unit is active is,\n",
    "$$\n",
    "p(h_j = 1 | \\mathbf{v}, \\theta) = \\sigma\\left(b_j + \\sum_i v_i w_{ij}\\right),\n",
    "$$\n",
    "and probability that the $i$th visible unit is active is given by,\n",
    "$$\n",
    "p(v_i = 1 | \\mathbf{h}, \\theta) = \\sigma\\left(a_i + \\sum_j h_j w_{ij}\\right).\n",
    "$$\n",
    "\n",
    "The function $\\sigma(\\cdot)$ is the sigmoid function:\n",
    "$$\n",
    "\\sigma(x) = \\frac{1}{1 + e^{-x}}.\n",
    "$$\n",
    "\n",
    "## Contrastive Divergence\n",
    "\n",
    "Contrastive divergence (CD) is the name for a family of algorithms used to perform approximate maximum likelihood training for RBMs.\n",
    "\n",
    "Contrastive divergence approximates the gradient of the log probability of the data (our desired objective function) by intialising an MCMC chain on the data vector and sampling for a small number of steps. The insight behind CD is that even with a very small number of steps the process still provides gradient information which can be used to fit the model parameters.\n",
    "\n",
    "Here we implement the CD1 algorithm which uses just a single round of Gibbs sampling.\n",
    "\n",
    "For more details on the CD algorithm see [1] (Section 23.2.2).\n"
   ]
  },
  {
   "cell_type": "code",
   "execution_count": 3,
   "id": "76a1cc56-0e91-4c38-90c8-d54cd057f88e",
   "metadata": {
    "executionInfo": {
     "elapsed": 5,
     "status": "ok",
     "timestamp": 1650324305180,
     "user": {
      "displayName": "Giles Harper-Donnelly",
      "userId": "14122295314805114640"
     },
     "user_tz": -60
    },
    "id": "76a1cc56-0e91-4c38-90c8-d54cd057f88e"
   },
   "outputs": [],
   "source": [
    "def initialise_params(N_vis, N_hid, key):\n",
    "    \"\"\"Initialise the parameters.\n",
    "\n",
    "    Args:\n",
    "        N_vis - number of visible units.\n",
    "        N_hid - number of hidden units.\n",
    "        key - PRNG key.\n",
    "\n",
    "    Returns:\n",
    "        params - (W, a, b), Weights and biases for network.\n",
    "    \"\"\"\n",
    "    W_key, a_key, b_key = random.split(key, 3)\n",
    "    W = random.normal(W_key, (N_vis, N_hid)) * 0.01\n",
    "    a = random.normal(a_key, (N_hid,)) * 0.01\n",
    "    b = random.normal(b_key, (N_vis,)) * 0.01\n",
    "    return (W, a, b)"
   ]
  },
  {
   "cell_type": "code",
   "execution_count": 4,
   "id": "159b0987-5bda-49d6-8818-2f9809f85bf6",
   "metadata": {
    "executionInfo": {
     "elapsed": 5,
     "status": "ok",
     "timestamp": 1650324305180,
     "user": {
      "displayName": "Giles Harper-Donnelly",
      "userId": "14122295314805114640"
     },
     "user_tz": -60
    },
    "id": "159b0987-5bda-49d6-8818-2f9809f85bf6"
   },
   "outputs": [],
   "source": [
    "@jit\n",
    "def sample_hidden(vis, params, key):\n",
    "    \"\"\"Performs the hidden layer sampling, P(h|v;θ).\n",
    "\n",
    "    Args:\n",
    "        vis - state of the visible units.\n",
    "        params - (W, a, b), Weights and biases for network.\n",
    "        key - PRNG key.\n",
    "\n",
    "    Returns:\n",
    "        The probabilities and states of the hidden layer sampling.\n",
    "    \"\"\"\n",
    "    W, a, _ = params\n",
    "    activation = jnp.dot(vis, W) + a\n",
    "    hid_probs = jax.nn.sigmoid(activation)\n",
    "    hid_states = random.bernoulli(key, hid_probs).astype(\"int8\")\n",
    "    return hid_probs, hid_states\n",
    "\n",
    "\n",
    "@jit\n",
    "def sample_visible(hid, params, key):\n",
    "    \"\"\"Performs the visible layer sampling, P(v|h;θ).\n",
    "\n",
    "    Args:\n",
    "        hid -  state of the hidden units\n",
    "        params - (W, a, b), Weights and biases for network.\n",
    "        key - PRNG key.\n",
    "\n",
    "    Returns:\n",
    "        The probabilities and states of the visible layer sampling.\n",
    "    \"\"\"\n",
    "    W, _, b = params\n",
    "    activation = jnp.dot(hid, W.T) + b\n",
    "    vis_probs = jax.nn.sigmoid(activation)\n",
    "    vis_states = random.bernoulli(key, vis_probs).astype(\"int8\")\n",
    "    return vis_probs, vis_states\n",
    "\n",
    "\n",
    "@jit\n",
    "def CD1(vis_sample, params, key):\n",
    "    \"\"\"The one-step contrastive divergence algorithm.\n",
    "\n",
    "    Can handle batches of training data.\n",
    "\n",
    "    Args:\n",
    "        vis_sample - sample of visible states from data.\n",
    "        params - (W, a, b), Weights and biases for network.\n",
    "        key - PRNG key.\n",
    "\n",
    "    Returns:\n",
    "        An estimate of the gradient of the log likelihood with respect\n",
    "         to the parameters.\n",
    "    \"\"\"\n",
    "    key, subkey = random.split(key)\n",
    "    hid_prob0, hid_state0 = sample_hidden(vis_sample, params, subkey)\n",
    "    key, subkey = random.split(key)\n",
    "    vis_prob1, vis_state1 = sample_visible(hid_state0, params, subkey)\n",
    "    key, subkey = random.split(key)\n",
    "    # It would be more efficient here to not actual sample the unused states.\n",
    "    hid_prob1, _ = sample_hidden(vis_state1, params, subkey)\n",
    "\n",
    "    delta_W = jnp.einsum(\"...j,...k->...jk\", vis_sample, hid_prob0) - jnp.einsum(\n",
    "        \"...j,...k->...jk\", vis_state1, hid_prob1\n",
    "    )\n",
    "    delta_a = hid_prob0 - hid_prob1\n",
    "    delta_b = vis_sample - vis_state1\n",
    "    return (delta_W, delta_a, delta_b)"
   ]
  },
  {
   "cell_type": "code",
   "execution_count": 5,
   "id": "cZOy2RpHrpdd",
   "metadata": {
    "executionInfo": {
     "elapsed": 5,
     "status": "ok",
     "timestamp": 1650324305181,
     "user": {
      "displayName": "Giles Harper-Donnelly",
      "userId": "14122295314805114640"
     },
     "user_tz": -60
    },
    "id": "cZOy2RpHrpdd"
   },
   "outputs": [],
   "source": [
    "@jit\n",
    "def reconstruct_vis(vis_sample, params, key):\n",
    "    \"\"\"Reconstruct the visible state from a conditional sample of the hidden\n",
    "    units.\n",
    "\n",
    "    Returns\n",
    "       Reconstruction probabilities.\n",
    "    \"\"\"\n",
    "    subkey1, subkey2 = random.split(key, 2)\n",
    "    _, hid_state = sample_hidden(vis_sample, params, subkey1)\n",
    "    vis_recon_prob, _ = sample_visible(hid_state, params, subkey2)\n",
    "    return vis_recon_prob\n",
    "\n",
    "\n",
    "@jit\n",
    "def reconstruction_loss(vis_samples, params, key):\n",
    "    \"\"\"Calculate the L2 loss between a batch of visible samples and their\n",
    "     reconstructions.\n",
    "\n",
    "    Note this is a heuristic for evaluating training progress, not an objective\n",
    "     function.\n",
    "    \"\"\"\n",
    "    reconstructed_samples = reconstruct_vis(vis_samples, params, key)\n",
    "    loss = optax.l2_loss(vis_samples.astype(\"float32\"), reconstructed_samples).mean()\n",
    "    return loss\n",
    "\n",
    "\n",
    "@jit\n",
    "def vis_free_energy(vis_state, params):\n",
    "    \"\"\"Calculate the free enery of a visible state.\n",
    "\n",
    "     The free energy of a visible state is equal to the sum of the energies of\n",
    "     all of the configurations of the total state (hidden + visible) which\n",
    "     contain that visible state.\n",
    "\n",
    "    Args:\n",
    "        vis_state - state of the visible units.\n",
    "        params - (W, a, b), Weights and biases for network.\n",
    "        key - PRNG key.\n",
    "\n",
    "    Returns:\n",
    "        The free energy of the visible state.\n",
    "    \"\"\"\n",
    "    W, a, b = params\n",
    "    activation = jnp.dot(vis_state, W) + a\n",
    "    return -jnp.dot(vis_state, b) - jnp.sum(jax.nn.softplus(activation))\n",
    "\n",
    "\n",
    "@jit\n",
    "def free_energy_gap(vis_train_samples, vis_test_samples, params):\n",
    "    \"\"\"Calculate the average difference in free energies between test and train\n",
    "     data.\n",
    "\n",
    "     The free energy gap can be used to evaluate overfitting. If the model\n",
    "     starts to overfit the training data the free energy gap will start to\n",
    "     become increasingly negative.\n",
    "\n",
    "    Args:\n",
    "        vis_train_samples - samples of visible states from training data.\n",
    "        vis_test_samples - samples of visible states from validation data.\n",
    "        params - (W, a, b), Weights and biases for network.\n",
    "\n",
    "    Returns:\n",
    "        The difference between the test and validation free energies.\n",
    "    \"\"\"\n",
    "    train_FE = vmap(vis_free_energy, (0, None))(vis_train_samples, params)\n",
    "    test_FE = vmap(vis_free_energy, (0, None))(vis_test_samples, params)\n",
    "    return train_FE.mean() - test_FE.mean()\n",
    "\n",
    "\n",
    "@jit\n",
    "def evaluate_params(train_samples, test_samples, params, key):\n",
    "    \"\"\"Calculate performance measures of parameters.\"\"\"\n",
    "    train_key, test_key = random.split(key)\n",
    "    train_recon_loss = reconstruction_loss(train_samples, params, train_key)\n",
    "    test_recon_loss = reconstruction_loss(test_samples, params, test_key)\n",
    "    FE_gap = free_energy_gap(train_samples, test_samples, params)\n",
    "    return train_recon_loss, test_recon_loss, FE_gap"
   ]
  },
  {
   "cell_type": "markdown",
   "id": "vATOakDbhisK",
   "metadata": {
    "id": "vATOakDbhisK"
   },
   "source": [
    "### Load MNIST"
   ]
  },
  {
   "cell_type": "code",
   "execution_count": 6,
   "id": "dej01WQ-hdZ7",
   "metadata": {
    "executionInfo": {
     "elapsed": 5,
     "status": "ok",
     "timestamp": 1650324305181,
     "user": {
      "displayName": "Giles Harper-Donnelly",
      "userId": "14122295314805114640"
     },
     "user_tz": -60
    },
    "id": "dej01WQ-hdZ7"
   },
   "outputs": [],
   "source": [
    "def preprocess_images(images):\n",
    "    images = images.reshape((len(images), -1))\n",
    "    return jnp.array(images > (255 / 2), dtype=\"float32\")\n",
    "\n",
    "\n",
    "def load_mnist(split):\n",
    "    images, labels = tfds.as_numpy(tfds.load(\"mnist\", split=split, batch_size=-1, as_supervised=True))\n",
    "    procced_images = preprocess_images(images)\n",
    "    return procced_images, labels"
   ]
  },
  {
   "cell_type": "code",
   "execution_count": 7,
   "id": "m2VzOjkwhehS",
   "metadata": {
    "colab": {
     "base_uri": "https://localhost:8080/",
     "height": 329,
     "referenced_widgets": [
      "957e65e410f947ccb78905764b66bef9",
      "b0826cdf74a84578a5413a0334fcbc80",
      "af1600899ddb413eaf044f0ec52bda5d",
      "3433f289962847f5bd75eee721682306",
      "887c98b22ac049e98adc62f9d8c4451f",
      "6cce40c94d614b69827eb84a7b5b74fb",
      "5403f34db2a946b89881a5e7cfbc48e1",
      "f8d9789c4e154447b5ca8e774d6e8e96",
      "6b4b5f9c1ded4219a81d2fb6cfdaa9b1",
      "3f8fd60dd43c4cf0b79cdb59e27f10d5",
      "7860f843962547c9a89a9f2170e642e7"
     ]
    },
    "executionInfo": {
     "elapsed": 9550,
     "status": "ok",
     "timestamp": 1650324314727,
     "user": {
      "displayName": "Giles Harper-Donnelly",
      "userId": "14122295314805114640"
     },
     "user_tz": -60
    },
    "id": "m2VzOjkwhehS",
    "outputId": "a62810d2-e770-49d5-ce98-896024b398bf"
   },
   "outputs": [
    {
     "name": "stderr",
     "output_type": "stream",
     "text": [
      "2022-07-25 18:29:42.353932: W tensorflow/core/platform/cloud/google_auth_provider.cc:184] All attempts to get a Google authentication bearer token failed, returning an empty token. Retrieving token from files failed with \"NOT_FOUND: Could not locate the credentials file.\". Retrieving token from GCE failed with \"FAILED_PRECONDITION: Error executing an HTTP request: libcurl code 6 meaning 'Couldn't resolve host name', error details: Could not resolve host: metadata\".\n"
     ]
    },
    {
     "name": "stdout",
     "output_type": "stream",
     "text": [
      "\u001b[1mDownloading and preparing dataset 11.06 MiB (download: 11.06 MiB, generated: 21.00 MiB, total: 32.06 MiB) to ~/tensorflow_datasets/mnist/3.0.1...\u001b[0m\n"
     ]
    },
    {
     "data": {
      "application/vnd.jupyter.widget-view+json": {
       "model_id": "644dc4aeba384f0f8f4c2c1fe532deb5",
       "version_major": 2,
       "version_minor": 0
      },
      "text/plain": [
       "Dl Completed...:   0%|          | 0/4 [00:00<?, ? file/s]"
      ]
     },
     "metadata": {},
     "output_type": "display_data"
    },
    {
     "name": "stdout",
     "output_type": "stream",
     "text": [
      "\u001b[1mDataset mnist downloaded and prepared to ~/tensorflow_datasets/mnist/3.0.1. Subsequent calls will reuse this data.\u001b[0m\n"
     ]
    },
    {
     "name": "stderr",
     "output_type": "stream",
     "text": [
      "WARNING:absl:No GPU/TPU found, falling back to CPU. (Set TF_CPP_MIN_LOG_LEVEL=0 and rerun for more info.)\n"
     ]
    }
   ],
   "source": [
    "mnist_train_imgs, mnist_train_labels = load_mnist(\"train\")\n",
    "mnist_test_imgs, mnist_test_labels = load_mnist(\"test\")"
   ]
  },
  {
   "cell_type": "markdown",
   "id": "c886d057-b94b-4a32-8f92-e59a07986f71",
   "metadata": {
    "id": "c886d057-b94b-4a32-8f92-e59a07986f71"
   },
   "source": [
    "### Training with optax"
   ]
  },
  {
   "cell_type": "code",
   "execution_count": 8,
   "id": "7eme72v10AxF",
   "metadata": {
    "executionInfo": {
     "elapsed": 6,
     "status": "ok",
     "timestamp": 1650324314728,
     "user": {
      "displayName": "Giles Harper-Donnelly",
      "userId": "14122295314805114640"
     },
     "user_tz": -60
    },
    "id": "7eme72v10AxF"
   },
   "outputs": [],
   "source": [
    "def train_RBM(params, train_data, optimizer, key, eval_samples, n_epochs=5, batch_size=20):\n",
    "    \"\"\"Optimize parameters of RBM using the CD1 algoritm.\"\"\"\n",
    "\n",
    "    @jit\n",
    "    def batch_step(params, opt_state, batch, key):\n",
    "        grads = jax.tree_map(lambda x: x.mean(0), CD1(batch, params, key))\n",
    "        updates, opt_state = optimizer.update(grads, opt_state, params)\n",
    "        params = jax.tree_map(lambda p, u: p - u, params, updates)\n",
    "        return params, opt_state\n",
    "\n",
    "    opt_state = optimizer.init(params)\n",
    "    metric_list = []\n",
    "    param_list = [params]\n",
    "    n_batches = len(train_data) // batch_size\n",
    "\n",
    "    for _ in range(n_epochs):\n",
    "        key, subkey = random.split(key)\n",
    "        perms = random.permutation(subkey, len(mnist_train_imgs))\n",
    "        perms = perms[: batch_size * n_batches]  # Skip incomplete batch\n",
    "        perms = perms.reshape((n_batches, -1))\n",
    "        for n, perm in enumerate(perms):\n",
    "            batch = mnist_train_imgs[perm, ...]\n",
    "            key, subkey = random.split(key)\n",
    "            params, opt_state = batch_step(params, opt_state, batch, subkey)\n",
    "            if n % 200 == 0:\n",
    "                key, eval_key = random.split(key)\n",
    "                batch_metrics = evaluate_params(*eval_samples, params, eval_key)\n",
    "                metric_list.append(batch_metrics)\n",
    "        param_list.append(params)\n",
    "\n",
    "    return params, metric_list, param_list"
   ]
  },
  {
   "cell_type": "code",
   "execution_count": 9,
   "id": "TXl70SYd6iLg",
   "metadata": {
    "executionInfo": {
     "elapsed": 64597,
     "status": "ok",
     "timestamp": 1650324379320,
     "user": {
      "displayName": "Giles Harper-Donnelly",
      "userId": "14122295314805114640"
     },
     "user_tz": -60
    },
    "id": "TXl70SYd6iLg"
   },
   "outputs": [],
   "source": [
    "# In practice you can use many more than 100 hidden units, up to 1000-2000.\n",
    "#  A small number is chosen here so that training is fast.\n",
    "N_vis, N_hid = mnist_train_imgs.shape[-1], 100\n",
    "key = random.PRNGKey(111)\n",
    "key, subkey = random.split(key)\n",
    "init_params = initialise_params(N_vis, N_hid, subkey)\n",
    "\n",
    "optimizer = optax.sgd(learning_rate=0.05, momentum=0.9)\n",
    "eval_samples = (mnist_train_imgs[:1000], mnist_test_imgs[:1000])\n",
    "\n",
    "params, metric_list, param_list = train_RBM(init_params, mnist_train_imgs, optimizer, key, eval_samples)"
   ]
  },
  {
   "cell_type": "markdown",
   "id": "OmzDUNq1xp7o",
   "metadata": {
    "id": "OmzDUNq1xp7o"
   },
   "source": [
    "### Evaluating Training\n",
    "\n",
    "The **reconstruction loss** is a *heuristic* measure of training performance. It measures a combination of two effects:\n",
    "\n",
    "1. The difference between the equilibrium distribution of the RBM and the empirical distribution of the data.\n",
    "\n",
    "2. The mixing rate of the Gibbs sampling.\n",
    "\n",
    "The first of these effects tends to be what we care about however it is impossible to distinguish it from the second [2].\n",
    "\n",
    "The objective function which contrastive divergence optimizes is the probability that the RBM assigns to the dataset. For the reasons outlined above we cannot calculate this directly because it requires knowledge of the partition function.\n",
    "\n",
    "We can however compare the average **free energy** between two different sets of data. In the comparison the partition function cancel out. Hinton [2] suggests using this comparison as a measure of overfitting. If the model is not overfitting the values should be approximately the same. As the model starts to overfit the free energy of the validation data will increase with respect to the training data so the difference between the two values will become increasingly negative.\n"
   ]
  },
  {
   "cell_type": "code",
   "execution_count": 10,
   "id": "cjCMTK8Cs8VF",
   "metadata": {
    "colab": {
     "base_uri": "https://localhost:8080/",
     "height": 388
    },
    "executionInfo": {
     "elapsed": 549,
     "status": "ok",
     "timestamp": 1650324379864,
     "user": {
      "displayName": "Giles Harper-Donnelly",
      "userId": "14122295314805114640"
     },
     "user_tz": -60
    },
    "id": "cjCMTK8Cs8VF",
    "outputId": "a793e728-4d30-4748-e320-070388d3db7b"
   },
   "outputs": [
    {
     "data": {
      "image/png": "[encoded data removed]",
      "text/plain": [
       "<Figure size 1080x432 with 2 Axes>"
      ]
     },
     "metadata": {
      "needs_background": "light"
     },
     "output_type": "display_data"
    }
   ],
   "source": [
    "train_recon_loss, test_recon_loss, FE_gap = list(zip(*metric_list))\n",
    "epoch_progress = np.linspace(0, 5, len(train_recon_loss))\n",
    "\n",
    "fig, (ax1, ax2) = plt.subplots(1, 2, figsize=(15, 6))\n",
    "\n",
    "ax1.plot(epoch_progress, train_recon_loss, label=\"Train Reconstruction Loss\")\n",
    "ax1.plot(epoch_progress, test_recon_loss, label=\"Test Reconstruction Loss\")\n",
    "ax1.legend()\n",
    "ax1.set_xlabel(\"Epoch\")\n",
    "ax1.set_ylabel(\"Loss\")\n",
    "\n",
    "ax2.plot(epoch_progress, FE_gap)\n",
    "ax2.set_xlabel(\"Epoch\")\n",
    "ax2.set_ylabel(\"Free Energy Gap\");"
   ]
  },
  {
   "cell_type": "code",
   "execution_count": 13,
   "id": "68f7604b",
   "metadata": {},
   "outputs": [],
   "source": [
    "os.environ[\"LATEXIFY\"] = \"\"\n",
    "os.environ[\"FIG_DIR\"] = \"figures\""
   ]
  },
  {
   "cell_type": "code",
   "execution_count": 15,
   "id": "5053c1df",
   "metadata": {},
   "outputs": [],
   "source": [
    "pml.latexify(width_scale_factor=1, fig_height=2)"
   ]
  },
  {
   "cell_type": "code",
   "execution_count": 30,
   "id": "QdhkUURK-aOr",
   "metadata": {
    "colab": {
     "base_uri": "https://localhost:8080/",
     "height": 336
    },
    "executionInfo": {
     "elapsed": 3639,
     "status": "ok",
     "timestamp": 1650324383500,
     "user": {
      "displayName": "Giles Harper-Donnelly",
      "userId": "14122295314805114640"
     },
     "user_tz": -60
    },
    "id": "QdhkUURK-aOr",
    "outputId": "fb7b4224-9435-439e-84ef-a082ab795143"
   },
   "outputs": [
    {
     "name": "stdout",
     "output_type": "stream",
     "text": [
      "saving image to figures/rbm_mnist_samples_latexified.pdf\n",
      "Figure size: [6. 2.]\n"
     ]
    },
    {
     "data": {
      "image/png": "[encoded data removed]",
      "text/plain": [
       "<Figure size 432x144 with 75 Axes>"
      ]
     },
     "metadata": {
      "needs_background": "light"
     },
     "output_type": "display_data"
    }
   ],
   "source": [
    "vis_data_samples = mnist_test_imgs[:25]\n",
    "\n",
    "fig = plt.figure(figsize=None)  # (15, 5))\n",
    "gs_bases = gridspec.GridSpec(1, 3, figure=fig)\n",
    "recon_params = (param_list[0], param_list[1], param_list[-1])\n",
    "subfig_titles = (\"Initial\", \"Epoch 1\", \"Epoch 5\")\n",
    "\n",
    "key, subkey = random.split(key)\n",
    "\n",
    "for gs_base, epoch_param, sf_title in zip(gs_bases, recon_params, subfig_titles):\n",
    "    # Use the same subkey for all parameter sets.\n",
    "    vis_recon_probs = reconstruct_vis(vis_data_samples, epoch_param, subkey)\n",
    "    title = f\"{sf_title} Parameters\"\n",
    "    gridspec_plot_imgs(vis_recon_probs, gs_base, title)\n",
    "\n",
    "# fig.suptitle(\"Reconstruction Samples\", fontsize=20);\n",
    "\n",
    "# plt.savefig(\"rbm_mnist_samples_latexified.pdf\", pad_inches=0)\n",
    "pml.savefig(\"rbm_mnist_samples_latexified\", pad_inches=0, tight_layout=False)"
   ]
  },
  {
   "cell_type": "markdown",
   "id": "7cql4P7fl1s2",
   "metadata": {
    "id": "7cql4P7fl1s2"
   },
   "source": [
    "## Classification\n",
    "\n",
    "While Boltzmann Machines are generative models they can be adapted to be used for classification and other discriminative tasks.\n",
    "\n",
    "Here we use RBM to transform a sample image into the hidden representation and then use this as input to a **logistic regression classifier**.\n",
    "\n",
    "This classification is more accurate than when using the raw image data as input. Furthermore, the hidden the accuracy of classification increases as the training time increases.\n",
    "\n",
    "Alternatively, a RBM can made to include a set of visible units which encode the class label. Classification is then performed by clamping each of the class units in turn along with the test sample. The unit that gives the lowest free energy is the chosen class [2]."
   ]
  },
  {
   "cell_type": "code",
   "execution_count": 13,
   "id": "794aed53-7041-4b59-ba21-d4919124e37a",
   "metadata": {
    "executionInfo": {
     "elapsed": 7,
     "status": "ok",
     "timestamp": 1650324383501,
     "user": {
      "displayName": "Giles Harper-Donnelly",
      "userId": "14122295314805114640"
     },
     "user_tz": -60
    },
    "id": "OWW5bhpx_kzU"
   },
   "outputs": [],
   "source": [
    "class RBM_LogReg:\n",
    "    \"\"\"\n",
    "    Perform logistic regression on samples transformed to RBM hidden\n",
    "     representation with `params`.\n",
    "    \"\"\"\n",
    "\n",
    "    def __init__(self, params):\n",
    "        self.params = params\n",
    "        self.LR = LogisticRegression(solver=\"saga\", tol=0.1)\n",
    "\n",
    "    def _transform(self, samples):\n",
    "        W, a, _ = self.params\n",
    "        activation = jnp.dot(samples, W) + a\n",
    "        hidden_probs = jax.nn.sigmoid(activation)\n",
    "        return hidden_probs\n",
    "\n",
    "    def fit(self, train_samples, train_labels):\n",
    "        transformed_samples = self._transform(train_samples)\n",
    "        self.LR.fit(transformed_samples, train_labels)\n",
    "\n",
    "    def score(self, test_samples, test_labels):\n",
    "        transformed_samples = self._transform(test_samples)\n",
    "        return self.LR.score(transformed_samples, test_labels)\n",
    "\n",
    "    def predict(self, test_samples):\n",
    "        transformed_samples = self._transform(test_samples)\n",
    "        return self.LR.predict(transformed_samples)\n",
    "\n",
    "    def reconstruct_samples(self, samples, key):\n",
    "        return reconstruct_vis(samples, self.params, key)"
   ]
  },
  {
   "cell_type": "code",
   "execution_count": 14,
   "id": "11b454a8-aa81-4201-a62b-5e6e156766b4",
   "metadata": {
    "colab": {
     "base_uri": "https://localhost:8080/"
    },
    "executionInfo": {
     "elapsed": 20493,
     "status": "ok",
     "timestamp": 1650324403987,
     "user": {
      "displayName": "Giles Harper-Donnelly",
      "userId": "14122295314805114640"
     },
     "user_tz": -60
    },
    "id": "Djj0t6HH867u",
    "outputId": "9c8271b5-7634-4054-c7f3-a7116caf9325"
   },
   "outputs": [
    {
     "name": "stdout",
     "output_type": "stream",
     "text": [
      "Logistic Regression Accuracy:\n",
      "\tRaw Data: 0.9171\n",
      "\tHidden Units Epoch-1: 0.9223\n",
      "\tHidden Units Epoch-5: 0.9317\n"
     ]
    }
   ],
   "source": [
    "train_data = (mnist_train_imgs, mnist_train_labels)\n",
    "test_data = (mnist_test_imgs, mnist_test_labels)\n",
    "\n",
    "# Train LR classifier on the raw pixel data for comparison.\n",
    "LR_raw = LogisticRegression(solver=\"saga\", tol=0.1)\n",
    "LR_raw.fit(*train_data)\n",
    "\n",
    "# LR classifier trained on hidden representations after 1 Epoch of training.\n",
    "rbm_lr1 = RBM_LogReg(param_list[1])\n",
    "rbm_lr1.fit(*train_data)\n",
    "\n",
    "# LR classifier trained on hidden representations after 5 Epochs of training.\n",
    "rbm_lr5 = RBM_LogReg(param_list[-1])\n",
    "rbm_lr5.fit(*train_data)\n",
    "\n",
    "print(\"Logistic Regression Accuracy:\")\n",
    "print(f\"\\tRaw Data: {LR_raw.score(*test_data)}\")\n",
    "print(f\"\\tHidden Units Epoch-1: {rbm_lr1.score(*test_data)}\")\n",
    "print(f\"\\tHidden Units Epoch-5: {rbm_lr5.score(*test_data)}\")"
   ]
  },
  {
   "cell_type": "markdown",
   "id": "6f46baf8-4cd6-4f1d-bd0b-080bbacea870",
   "metadata": {
    "id": "L5mOhqy2mo9x"
   },
   "source": [
    "The increase in accuracy here is modest because of the small number of hidden units. When 1000 hidden units are used the Epoch-5 accuracy approaches 97.5%."
   ]
  },
  {
   "cell_type": "code",
   "execution_count": 15,
   "id": "98d47ff5-a3d4-4e49-995a-300a0a81b8dc",
   "metadata": {},
   "outputs": [
    {
     "name": "stdout",
     "output_type": "stream",
     "text": [
      "There are 382 images which were correctly labelled after >1 Epochs of training.\n"
     ]
    }
   ],
   "source": [
    "class1_correct = rbm_lr1.predict(mnist_test_imgs) == mnist_test_labels\n",
    "class5_correct = rbm_lr5.predict(mnist_test_imgs) == mnist_test_labels\n",
    "\n",
    "diff_class_img_idxs = np.where(class5_correct & ~class1_correct)[0]\n",
    "print(f\"There are {len(diff_class_img_idxs)} images which were correctly labelled after >1 Epochs of training.\")"
   ]
  },
  {
   "cell_type": "markdown",
   "id": "b139ad0d-b047-447c-b1a9-cc68953c2e71",
   "metadata": {},
   "source": [
    "We can explore the quality of the learned hidden tranformation by inspecting reconstructions of these test images.\n",
    "\n",
    "You can explore this by choosing different subsets of images in the cell below:"
   ]
  },
  {
   "cell_type": "code",
   "execution_count": 17,
   "id": "63b3f3d6-760a-435a-bf58-1b40527ebbde",
   "metadata": {},
   "outputs": [
    {
     "data": {
      "image/png": "[encoded data removed]",
      "text/plain": [
       "<Figure size 648x1440 with 15 Axes>"
      ]
     },
     "metadata": {
      "needs_background": "light"
     },
     "output_type": "display_data"
    }
   ],
   "source": [
    "key = random.PRNGKey(100)\n",
    "\n",
    "# Try out different subsets of img indices.\n",
    "idx_list = diff_class_img_idxs[100:]\n",
    "\n",
    "n_rows = 5\n",
    "fig, axs = plt.subplots(n_rows, 3, figsize=(9, 20))\n",
    "\n",
    "for img_idx, ax_row in zip(idx_list, axs):\n",
    "    ax1, ax2, ax3 = ax_row\n",
    "\n",
    "    img = mnist_test_imgs[img_idx]\n",
    "\n",
    "    plot_digit(img, ax=ax1)\n",
    "    true_label = mnist_test_labels[img_idx]\n",
    "    ax1.set_title(f\"Raw Image\\nTrue Label: {true_label}\")\n",
    "\n",
    "    epoch1_recon = rbm_lr1.reconstruct_samples(img, key)\n",
    "    plot_digit(epoch1_recon, ax=ax2)\n",
    "    hid1_label = rbm_lr1.predict(img[None, :])[0]\n",
    "    ax2.set_title(f\"Epoch 1 Reconstruction\\nPredicted Label: {hid1_label} (incorrect)\")\n",
    "\n",
    "    epoch5_recon = rbm_lr5.reconstruct_samples(img, key)\n",
    "    hid5_label = rbm_lr5.predict(img[None, :])[0]\n",
    "    plot_digit(epoch5_recon, ax=ax3)\n",
    "    ax3.set_title(f\"Epoch 5 Reconstruction\\nPredicted Label: {hid5_label} (correct)\");"
   ]
  }
 ],
 "metadata": {
  "accelerator": "GPU",
  "colab": {
   "collapsed_sections": [],
   "name": "rbm_contrastive_divergence.ipynb",
   "provenance": [],
   "toc_visible": true
  },
  "kernelspec": {
   "display_name": "Python [conda env:py3713]",
   "language": "python",
   "name": "conda-env-py3713-py"
  },
  "language_info": {
   "codemirror_mode": {
    "name": "ipython",
    "version": 3
   },
   "file_extension": ".py",
   "mimetype": "text/x-python",
   "name": "python",
   "nbconvert_exporter": "python",
   "pygments_lexer": "ipython3",
   "version": "3.7.13"
  },
  "widgets": {
   "application/vnd.jupyter.widget-state+json": {
    "3433f289962847f5bd75eee721682306": {
     "model_module": "@jupyter-widgets/controls",
     "model_module_version": "1.5.0",
     "model_name": "HTMLModel",
     "state": {
      "_dom_classes": [],
      "_model_module": "@jupyter-widgets/controls",
      "_model_module_version": "1.5.0",
      "_model_name": "HTMLModel",
      "_view_count": null,
      "_view_module": "@jupyter-widgets/controls",
      "_view_module_version": "1.5.0",
      "_view_name": "HTMLView",
      "description": "",
      "description_tooltip": null,
      "layout": "IPY_MODEL_3f8fd60dd43c4cf0b79cdb59e27f10d5",
      "placeholder": "​",
      "style": "IPY_MODEL_7860f843962547c9a89a9f2170e642e7",
      "value": " 4/4 [00:00&lt;00:00,  9.18 file/s]"
     }
    },
    "3f8fd60dd43c4cf0b79cdb59e27f10d5": {
     "model_module": "@jupyter-widgets/base",
     "model_module_version": "1.2.0",
     "model_name": "LayoutModel",
     "state": {
      "_model_module": "@jupyter-widgets/base",
      "_model_module_version": "1.2.0",
      "_model_name": "LayoutModel",
      "_view_count": null,
      "_view_module": "@jupyter-widgets/base",
      "_view_module_version": "1.2.0",
      "_view_name": "LayoutView",
      "align_content": null,
      "align_items": null,
      "align_self": null,
      "border": null,
      "bottom": null,
      "display": null,
      "flex": null,
      "flex_flow": null,
      "grid_area": null,
      "grid_auto_columns": null,
      "grid_auto_flow": null,
      "grid_auto_rows": null,
      "grid_column": null,
      "grid_gap": null,
      "grid_row": null,
      "grid_template_areas": null,
      "grid_template_columns": null,
      "grid_template_rows": null,
      "height": null,
      "justify_content": null,
      "justify_items": null,
      "left": null,
      "margin": null,
      "max_height": null,
      "max_width": null,
      "min_height": null,
      "min_width": null,
      "object_fit": null,
      "object_position": null,
      "order": null,
      "overflow": null,
      "overflow_x": null,
      "overflow_y": null,
      "padding": null,
      "right": null,
      "top": null,
      "visibility": null,
      "width": null
     }
    },
    "5403f34db2a946b89881a5e7cfbc48e1": {
     "model_module": "@jupyter-widgets/controls",
     "model_module_version": "1.5.0",
     "model_name": "DescriptionStyleModel",
     "state": {
      "_model_module": "@jupyter-widgets/controls",
      "_model_module_version": "1.5.0",
      "_model_name": "DescriptionStyleModel",
      "_view_count": null,
      "_view_module": "@jupyter-widgets/base",
      "_view_module_version": "1.2.0",
      "_view_name": "StyleView",
      "description_width": ""
     }
    },
    "6b4b5f9c1ded4219a81d2fb6cfdaa9b1": {
     "model_module": "@jupyter-widgets/controls",
     "model_module_version": "1.5.0",
     "model_name": "ProgressStyleModel",
     "state": {
      "_model_module": "@jupyter-widgets/controls",
      "_model_module_version": "1.5.0",
      "_model_name": "ProgressStyleModel",
      "_view_count": null,
      "_view_module": "@jupyter-widgets/base",
      "_view_module_version": "1.2.0",
      "_view_name": "StyleView",
      "bar_color": null,
      "description_width": ""
     }
    },
    "6cce40c94d614b69827eb84a7b5b74fb": {
     "model_module": "@jupyter-widgets/base",
     "model_module_version": "1.2.0",
     "model_name": "LayoutModel",
     "state": {
      "_model_module": "@jupyter-widgets/base",
      "_model_module_version": "1.2.0",
      "_model_name": "LayoutModel",
      "_view_count": null,
      "_view_module": "@jupyter-widgets/base",
      "_view_module_version": "1.2.0",
      "_view_name": "LayoutView",
      "align_content": null,
      "align_items": null,
      "align_self": null,
      "border": null,
      "bottom": null,
      "display": null,
      "flex": null,
      "flex_flow": null,
      "grid_area": null,
      "grid_auto_columns": null,
      "grid_auto_flow": null,
      "grid_auto_rows": null,
      "grid_column": null,
      "grid_gap": null,
      "grid_row": null,
      "grid_template_areas": null,
      "grid_template_columns": null,
      "grid_template_rows": null,
      "height": null,
      "justify_content": null,
      "justify_items": null,
      "left": null,
      "margin": null,
      "max_height": null,
      "max_width": null,
      "min_height": null,
      "min_width": null,
      "object_fit": null,
      "object_position": null,
      "order": null,
      "overflow": null,
      "overflow_x": null,
      "overflow_y": null,
      "padding": null,
      "right": null,
      "top": null,
      "visibility": null,
      "width": null
     }
    },
    "7860f843962547c9a89a9f2170e642e7": {
     "model_module": "@jupyter-widgets/controls",
     "model_module_version": "1.5.0",
     "model_name": "DescriptionStyleModel",
     "state": {
      "_model_module": "@jupyter-widgets/controls",
      "_model_module_version": "1.5.0",
      "_model_name": "DescriptionStyleModel",
      "_view_count": null,
      "_view_module": "@jupyter-widgets/base",
      "_view_module_version": "1.2.0",
      "_view_name": "StyleView",
      "description_width": ""
     }
    },
    "887c98b22ac049e98adc62f9d8c4451f": {
     "model_module": "@jupyter-widgets/base",
     "model_module_version": "1.2.0",
     "model_name": "LayoutModel",
     "state": {
      "_model_module": "@jupyter-widgets/base",
      "_model_module_version": "1.2.0",
      "_model_name": "LayoutModel",
      "_view_count": null,
      "_view_module": "@jupyter-widgets/base",
      "_view_module_version": "1.2.0",
      "_view_name": "LayoutView",
      "align_content": null,
      "align_items": null,
      "align_self": null,
      "border": null,
      "bottom": null,
      "display": null,
      "flex": null,
      "flex_flow": null,
      "grid_area": null,
      "grid_auto_columns": null,
      "grid_auto_flow": null,
      "grid_auto_rows": null,
      "grid_column": null,
      "grid_gap": null,
      "grid_row": null,
      "grid_template_areas": null,
      "grid_template_columns": null,
      "grid_template_rows": null,
      "height": null,
      "justify_content": null,
      "justify_items": null,
      "left": null,
      "margin": null,
      "max_height": null,
      "max_width": null,
      "min_height": null,
      "min_width": null,
      "object_fit": null,
      "object_position": null,
      "order": null,
      "overflow": null,
      "overflow_x": null,
      "overflow_y": null,
      "padding": null,
      "right": null,
      "top": null,
      "visibility": null,
      "width": null
     }
    },
    "957e65e410f947ccb78905764b66bef9": {
     "model_module": "@jupyter-widgets/controls",
     "model_module_version": "1.5.0",
     "model_name": "HBoxModel",
     "state": {
      "_dom_classes": [],
      "_model_module": "@jupyter-widgets/controls",
      "_model_module_version": "1.5.0",
      "_model_name": "HBoxModel",
      "_view_count": null,
      "_view_module": "@jupyter-widgets/controls",
      "_view_module_version": "1.5.0",
      "_view_name": "HBoxView",
      "box_style": "",
      "children": [
       "IPY_MODEL_b0826cdf74a84578a5413a0334fcbc80",
       "IPY_MODEL_af1600899ddb413eaf044f0ec52bda5d",
       "IPY_MODEL_3433f289962847f5bd75eee721682306"
      ],
      "layout": "IPY_MODEL_887c98b22ac049e98adc62f9d8c4451f"
     }
    },
    "af1600899ddb413eaf044f0ec52bda5d": {
     "model_module": "@jupyter-widgets/controls",
     "model_module_version": "1.5.0",
     "model_name": "FloatProgressModel",
     "state": {
      "_dom_classes": [],
      "_model_module": "@jupyter-widgets/controls",
      "_model_module_version": "1.5.0",
      "_model_name": "FloatProgressModel",
      "_view_count": null,
      "_view_module": "@jupyter-widgets/controls",
      "_view_module_version": "1.5.0",
      "_view_name": "ProgressView",
      "bar_style": "success",
      "description": "",
      "description_tooltip": null,
      "layout": "IPY_MODEL_f8d9789c4e154447b5ca8e774d6e8e96",
      "max": 4,
      "min": 0,
      "orientation": "horizontal",
      "style": "IPY_MODEL_6b4b5f9c1ded4219a81d2fb6cfdaa9b1",
      "value": 4
     }
    },
    "b0826cdf74a84578a5413a0334fcbc80": {
     "model_module": "@jupyter-widgets/controls",
     "model_module_version": "1.5.0",
     "model_name": "HTMLModel",
     "state": {
      "_dom_classes": [],
      "_model_module": "@jupyter-widgets/controls",
      "_model_module_version": "1.5.0",
      "_model_name": "HTMLModel",
      "_view_count": null,
      "_view_module": "@jupyter-widgets/controls",
      "_view_module_version": "1.5.0",
      "_view_name": "HTMLView",
      "description": "",
      "description_tooltip": null,
      "layout": "IPY_MODEL_6cce40c94d614b69827eb84a7b5b74fb",
      "placeholder": "​",
      "style": "IPY_MODEL_5403f34db2a946b89881a5e7cfbc48e1",
      "value": "Dl Completed...: 100%"
     }
    },
    "f8d9789c4e154447b5ca8e774d6e8e96": {
     "model_module": "@jupyter-widgets/base",
     "model_module_version": "1.2.0",
     "model_name": "LayoutModel",
     "state": {
      "_model_module": "@jupyter-widgets/base",
      "_model_module_version": "1.2.0",
      "_model_name": "LayoutModel",
      "_view_count": null,
      "_view_module": "@jupyter-widgets/base",
      "_view_module_version": "1.2.0",
      "_view_name": "LayoutView",
      "align_content": null,
      "align_items": null,
      "align_self": null,
      "border": null,
      "bottom": null,
      "display": null,
      "flex": null,
      "flex_flow": null,
      "grid_area": null,
      "grid_auto_columns": null,
      "grid_auto_flow": null,
      "grid_auto_rows": null,
      "grid_column": null,
      "grid_gap": null,
      "grid_row": null,
      "grid_template_areas": null,
      "grid_template_columns": null,
      "grid_template_rows": null,
      "height": null,
      "justify_content": null,
      "justify_items": null,
      "left": null,
      "margin": null,
      "max_height": null,
      "max_width": null,
      "min_height": null,
      "min_width": null,
      "object_fit": null,
      "object_position": null,
      "order": null,
      "overflow": null,
      "overflow_x": null,
      "overflow_y": null,
      "padding": null,
      "right": null,
      "top": null,
      "visibility": null,
      "width": null
     }
    }
   }
  }
 },
 "nbformat": 4,
 "nbformat_minor": 5
}
