{
 "nbformat": 4,
 "nbformat_minor": 0,
 "metadata": {
  "colab": {
   "name": "hbayes-figures2.ipynb",
   "provenance": [],
   "collapsed_sections": [],
   "include_colab_link": true
  },
  "kernelspec": {
   "name": "python3",
   "display_name": "Python 3"
  },
  "language_info": {
   "name": "python"
  }
 },
 "cells": [
  {
   "cell_type": "markdown",
   "metadata": {
    "id": "view-in-github",
    "colab_type": "text"
   },
   "source": [
    "<a href=\"https://colab.research.google.com/github/probml/probml-notebooks/blob/main/notebooks/hbayes_figures2.ipynb\" target=\"_parent\"><img src=\"https://colab.research.google.com/assets/colab-badge.svg\" alt=\"Open In Colab\"/></a>"
   ]
  },
  {
   "cell_type": "markdown",
   "metadata": {
    "id": "Ir6TlsCCJ6U1"
   },
   "source": [
    "# Make figures for hierarchical Bayesian regression models\n"
   ]
  },
  {
   "cell_type": "code",
   "metadata": {
    "id": "ozuevi3Sbq6M"
   },
   "source": [
    "import graphviz"
   ],
   "execution_count": 1,
   "outputs": []
  },
  {
   "cell_type": "code",
   "metadata": {
    "id": "4x-YzxQObuFy"
   },
   "source": [
    "def create_node(\n",
    "    dot,\n",
    "    character,\n",
    "    subscript=\"\",\n",
    "    superscript=\"\",\n",
    "    color=\"white\",\n",
    "    fill_color=\"white\",\n",
    "    fontcolor=\"black\",\n",
    "    is_greek_letter=False,\n",
    "):\n",
    "    label, index = \"\", \"\"\n",
    "    if subscript != \"\" and superscript != \"\":\n",
    "        label = f\"<SUB>{subscript}</SUB><SUP>{superscript}</SUP>\"\n",
    "        index = f\"{subscript}{superscript}\"\n",
    "    elif subscript != \"\":\n",
    "        label = f\"<SUB>{subscript}</SUB>\"\n",
    "        index = f\"{subscript}\"\n",
    "    elif superscript != \"\":\n",
    "        label = f\"<SUP>{superscript}</SUP>\"\n",
    "        index = f\"{superscript}\"\n",
    "\n",
    "    if is_greek_letter:\n",
    "        dot.node(\n",
    "            f\"{character}{index}\",\n",
    "            f\"<&{character};<FONT POINT-SIZE='12'>{label}</FONT>>\",\n",
    "            color=color,\n",
    "            fontcolor=fontcolor,\n",
    "        )\n",
    "    else:\n",
    "        dot.node(\n",
    "            f\"{character}{index}\",\n",
    "            f\"<{character}<FONT POINT-SIZE='10'>{label}</FONT>>\",\n",
    "            style=\"filled\",\n",
    "            color=color,\n",
    "            fillcolor=fill_color,\n",
    "            fontcolor=fontcolor,\n",
    "        )"
   ],
   "execution_count": 2,
   "outputs": []
  },
  {
   "cell_type": "code",
   "metadata": {
    "id": "Ov1LPwllbv3G"
   },
   "source": [
    "def create_subgraph(\n",
    "    dot, hidden, observable, subscript, superscript, name, label=\"\", color=\"grey\", bgcolor=\"white\", edge_color=\"black\"\n",
    "):\n",
    "    dot.edge(f\"{hidden}{subscript}{superscript}\", f\"{observable}{subscript}{superscript}\", style=\"invis\")\n",
    "\n",
    "    with dot.subgraph(name=name) as c:\n",
    "        c.edge(label, f\"{hidden}{subscript}{superscript}\", style=\"invis\")\n",
    "        create_node(c, observable, subscript, superscript=superscript, color=obs_color, fill_color=obs_fill_color)\n",
    "        c.edge(f\"{observable}{subscript}{superscript}\", f\"{hidden}{subscript}{superscript}\", color=edge_color)\n",
    "        c.edge(f\"{hidden}{subscript}{superscript}\", f\"{observable}{subscript}{superscript}\", style=\"invis\")\n",
    "        c.attr(\n",
    "            style=\"rounded\",\n",
    "            color=color,\n",
    "            bgcolor=bgcolor,\n",
    "            label=f\"<<FONT POINT-SIZE='16'>{subscript.upper()}<SUP>{superscript}</SUP></FONT>>\",\n",
    "            fontcolor=color,\n",
    "            labeljust=\"r\",\n",
    "            labelloc=\"b\",\n",
    "        )"
   ],
   "execution_count": 3,
   "outputs": []
  },
  {
   "cell_type": "code",
   "metadata": {
    "id": "kPQejJFl_y99"
   },
   "source": [
    "def plot_cluster(dot, subscripts, superscript, subgraph_labels, subgraph_colors, theta_subscript=\"\"):\n",
    "    for k, (subscript, label, color) in enumerate(zip(subscripts, subgraph_labels, subgraph_colors)):\n",
    "        if subscript == \"N\":\n",
    "            create_node(\n",
    "                dot, hidden, subscript=subscript, superscript=superscript, color=hid_color, fill_color=hid_fill_color\n",
    "            )\n",
    "        else:\n",
    "            create_node(dot, hidden, subscript=subscript, superscript=superscript, color=hid_color)\n",
    "\n",
    "        subgraph_name = f\"cluster_{superscript}_{k}\"\n",
    "        dot.node(label, label, color=\"white\", fontcolor=color)\n",
    "        s = superscript if theta_subscript == \"\" else f\"{theta_subscript}{superscript}\"\n",
    "        dot.edge(f\"Theta{s}\", f\"{hidden}{subscript}{superscript}\", color=edge_color)\n",
    "        dot.edge(f\"Theta{s}\", f\"{label}\", style=\"invis\")\n",
    "\n",
    "        create_subgraph(\n",
    "            dot,\n",
    "            hidden,\n",
    "            observable,\n",
    "            subscript,\n",
    "            superscript,\n",
    "            subgraph_name,\n",
    "            label=label,\n",
    "            color=color,\n",
    "            bgcolor=\"white\",\n",
    "            edge_color=edge_color,\n",
    "        )"
   ],
   "execution_count": 4,
   "outputs": []
  },
  {
   "cell_type": "code",
   "metadata": {
    "colab": {
     "base_uri": "https://localhost:8080/",
     "height": 520
    },
    "id": "pY12UL4eJLMy",
    "outputId": "c3d570ba-ae01-4353-9211-8feb6120d4fa"
   },
   "source": [
    "dot = graphviz.Digraph(format=\"pdf\")\n",
    "\n",
    "\n",
    "superscripts = [\"1\", \"T\"]\n",
    "\n",
    "train_subscript, test_subscript = \"n\", \"m\"\n",
    "subscripts = [train_subscript, test_subscript]\n",
    "\n",
    "subgraph_labels = [\"Train\", \"Test\"]\n",
    "subgraph_colors = [\"/set34/4\", \"/paired3/2\"]\n",
    "\n",
    "edge_color = \"lightsteelblue4\"\n",
    "fontcolor = \"grey17\"\n",
    "hid_color, hid_fill_color = \"/accent3/2\", \"lavender\"\n",
    "obs_color, obs_fill_color = \"/paired3/3\", \"/pastel19/3\"\n",
    "\n",
    "param, hidden, observable = \"Theta\", \"Y\", \"X\"\n",
    "\n",
    "dot.node(\"phi\", \"<&Phi;>\", color=\"white\", fontcolor=fontcolor)\n",
    "\n",
    "for i, subscript in enumerate(superscripts):\n",
    "    create_node(dot, param, subscript, color=\"white\", fontcolor=fontcolor, is_greek_letter=True)\n",
    "    dot.edge(\"phi\", f\"{param}{subscript}\", color=edge_color)\n",
    "\n",
    "for i, superscript in enumerate(superscripts):\n",
    "    subgraph_labels = [f\"Train {superscript}\", f\"Test {superscript}\"]\n",
    "    plot_cluster(dot, subscripts, superscript, subgraph_labels, subgraph_colors)\n",
    "\n",
    "    if i == 0:\n",
    "        dot.node(f\"blank{i}\", \"...\", color=\"white\")\n",
    "        dot.edge(f\"Theta{superscript}\", f\"blank{i}\", style=\"invis\")\n",
    "\n",
    "file_name = \"hbayes-multi-task\"\n",
    "dot.render(file_name, view=True)\n",
    "\n",
    "dot"
   ],
   "execution_count": 5,
   "outputs": [
    {
     "output_type": "execute_result",
     "data": {
      "text/plain": [
       "<graphviz.dot.Digraph at 0x7fcd76f2dfd0>"
      ],
      "image/svg+xml": "<?xml version=\"1.0\" encoding=\"UTF-8\" standalone=\"no\"?>\n<!DOCTYPE svg PUBLIC \"-//W3C//DTD SVG 1.1//EN\"\n \"http://www.w3.org/Graphics/SVG/1.1/DTD/svg11.dtd\">\n<!-- Generated by graphviz version 2.40.1 (20161225.0304)\n -->\n<!-- Title: %3 Pages: 1 -->\n<svg width=\"566pt\" height=\"374pt\"\n viewBox=\"0.00 0.00 566.00 374.00\" xmlns=\"http://www.w3.org/2000/svg\" xmlns:xlink=\"http://www.w3.org/1999/xlink\">\n<g id=\"graph0\" class=\"graph\" transform=\"scale(1 1) rotate(0) translate(4 370)\">\n<title>%3</title>\n<polygon fill=\"#ffffff\" stroke=\"transparent\" points=\"-4,4 -4,-370 562,-370 562,4 -4,4\"/>\n<g id=\"clust1\" class=\"cluster\">\n<title>cluster_1_0</title>\n<path fill=\"#ffffff\" stroke=\"#fb8072\" d=\"M20,-8C20,-8 88,-8 88,-8 94,-8 100,-14 100,-20 100,-20 100,-218 100,-218 100,-224 94,-230 88,-230 88,-230 20,-230 20,-230 14,-230 8,-224 8,-218 8,-218 8,-20 8,-20 8,-14 14,-8 20,-8\"/>\n<text text-anchor=\"start\" x=\"73\" y=\"-18.2\" font-family=\"Times,serif\" font-size=\"16.00\" fill=\"#fb8072\">N</text>\n<text text-anchor=\"start\" x=\"85\" y=\"-18.2\" font-family=\"Times,serif\" baseline-shift=\"super\" font-size=\"16.00\" fill=\"#fb8072\">1</text>\n</g>\n<g id=\"clust2\" class=\"cluster\">\n<title>cluster_1_1</title>\n<path fill=\"#ffffff\" stroke=\"#1f78b4\" d=\"M152,-8C152,-8 210,-8 210,-8 216,-8 222,-14 222,-20 222,-20 222,-218 222,-218 222,-224 216,-230 210,-230 210,-230 152,-230 152,-230 146,-230 140,-224 140,-218 140,-218 140,-20 140,-20 140,-14 146,-8 152,-8\"/>\n<text text-anchor=\"start\" x=\"192\" y=\"-18.2\" font-family=\"Times,serif\" font-size=\"16.00\" fill=\"#1f78b4\">M</text>\n<text text-anchor=\"start\" x=\"207\" y=\"-18.2\" font-family=\"Times,serif\" baseline-shift=\"super\" font-size=\"16.00\" fill=\"#1f78b4\">1</text>\n</g>\n<g id=\"clust3\" class=\"cluster\">\n<title>cluster_T_0</title>\n<path fill=\"#ffffff\" stroke=\"#fb8072\" d=\"M346,-8C346,-8 414,-8 414,-8 420,-8 426,-14 426,-20 426,-20 426,-218 426,-218 426,-224 420,-230 414,-230 414,-230 346,-230 346,-230 340,-230 334,-224 334,-218 334,-218 334,-20 334,-20 334,-14 340,-8 346,-8\"/>\n<text text-anchor=\"start\" x=\"397\" y=\"-18.2\" font-family=\"Times,serif\" font-size=\"16.00\" fill=\"#fb8072\">N</text>\n<text text-anchor=\"start\" x=\"409\" y=\"-18.2\" font-family=\"Times,serif\" baseline-shift=\"super\" font-size=\"16.00\" fill=\"#fb8072\">T</text>\n</g>\n<g id=\"clust4\" class=\"cluster\">\n<title>cluster_T_1</title>\n<path fill=\"#ffffff\" stroke=\"#1f78b4\" d=\"M478,-8C478,-8 538,-8 538,-8 544,-8 550,-14 550,-20 550,-20 550,-218 550,-218 550,-224 544,-230 538,-230 538,-230 478,-230 478,-230 472,-230 466,-224 466,-218 466,-218 466,-20 466,-20 466,-14 472,-8 478,-8\"/>\n<text text-anchor=\"start\" x=\"518\" y=\"-18.2\" font-family=\"Times,serif\" font-size=\"16.00\" fill=\"#1f78b4\">M</text>\n<text text-anchor=\"start\" x=\"533\" y=\"-18.2\" font-family=\"Times,serif\" baseline-shift=\"super\" font-size=\"16.00\" fill=\"#1f78b4\">T</text>\n</g>\n<!-- phi -->\n<g id=\"node1\" class=\"node\">\n<title>phi</title>\n<ellipse fill=\"none\" stroke=\"#ffffff\" cx=\"250\" cy=\"-348\" rx=\"27\" ry=\"18\"/>\n<text text-anchor=\"start\" x=\"244.5\" y=\"-344.3\" font-family=\"Times,serif\" font-size=\"14.00\" fill=\"#2b2b2b\">Φ</text>\n</g>\n<!-- Theta1 -->\n<g id=\"node2\" class=\"node\">\n<title>Theta1</title>\n<ellipse fill=\"none\" stroke=\"#ffffff\" cx=\"151\" cy=\"-276\" rx=\"27\" ry=\"18\"/>\n<text text-anchor=\"start\" x=\"142.5\" y=\"-273.3\" font-family=\"Times,serif\" font-size=\"14.00\" fill=\"#2b2b2b\">Θ</text>\n<text text-anchor=\"start\" x=\"153.5\" y=\"-273.3\" font-family=\"Times,serif\" baseline-shift=\"sub\" font-size=\"12.00\" fill=\"#2b2b2b\">1</text>\n</g>\n<!-- phi&#45;&gt;Theta1 -->\n<g id=\"edge1\" class=\"edge\">\n<title>phi&#45;&gt;Theta1</title>\n<path fill=\"none\" stroke=\"#6e7b8b\" d=\"M231.3789,-334.4574C216.3065,-323.4956 194.8746,-307.9088 177.9313,-295.5864\"/>\n<polygon fill=\"#6e7b8b\" stroke=\"#6e7b8b\" points=\"179.6836,-292.5331 169.5376,-289.4819 175.5664,-298.1943 179.6836,-292.5331\"/>\n</g>\n<!-- ThetaT -->\n<g id=\"node3\" class=\"node\">\n<title>ThetaT</title>\n<ellipse fill=\"none\" stroke=\"#ffffff\" cx=\"380\" cy=\"-276\" rx=\"27\" ry=\"18\"/>\n<text text-anchor=\"start\" x=\"371\" y=\"-273.3\" font-family=\"Times,serif\" font-size=\"14.00\" fill=\"#2b2b2b\">Θ</text>\n<text text-anchor=\"start\" x=\"382\" y=\"-273.3\" font-family=\"Times,serif\" baseline-shift=\"sub\" font-size=\"12.00\" fill=\"#2b2b2b\">T</text>\n</g>\n<!-- phi&#45;&gt;ThetaT -->\n<g id=\"edge2\" class=\"edge\">\n<title>phi&#45;&gt;ThetaT</title>\n<path fill=\"none\" stroke=\"#6e7b8b\" d=\"M270.8867,-336.432C292.398,-324.518 326.114,-305.8446 350.3749,-292.4077\"/>\n<polygon fill=\"#6e7b8b\" stroke=\"#6e7b8b\" points=\"352.1129,-295.4462 359.1651,-287.5393 348.7214,-289.3226 352.1129,-295.4462\"/>\n</g>\n<!-- Yn1 -->\n<g id=\"node4\" class=\"node\">\n<title>Yn1</title>\n<ellipse fill=\"#ffffff\" stroke=\"#beaed4\" cx=\"48\" cy=\"-132\" rx=\"27\" ry=\"18\"/>\n<text text-anchor=\"start\" x=\"37.5\" y=\"-129.3\" font-family=\"Times,serif\" font-size=\"14.00\" fill=\"#000000\">Y</text>\n<text text-anchor=\"start\" x=\"48.5\" y=\"-129.3\" font-family=\"Times,serif\" baseline-shift=\"sub\" font-size=\"10.00\" fill=\"#000000\">n</text>\n<text text-anchor=\"start\" x=\"53.5\" y=\"-129.3\" font-family=\"Times,serif\" baseline-shift=\"super\" font-size=\"10.00\" fill=\"#000000\">1</text>\n</g>\n<!-- Theta1&#45;&gt;Yn1 -->\n<g id=\"edge3\" class=\"edge\">\n<title>Theta1&#45;&gt;Yn1</title>\n<path fill=\"none\" stroke=\"#6e7b8b\" d=\"M124.7701,-271.4076C87.1926,-264.2337 21.0083,-249.1806 7,-230 -9.9008,-206.859 8.8168,-175.708 26.1426,-154.7945\"/>\n<polygon fill=\"#6e7b8b\" stroke=\"#6e7b8b\" points=\"28.9577,-156.8912 32.8821,-147.05 23.6771,-152.2959 28.9577,-156.8912\"/>\n</g>\n<!-- Train 1 -->\n<g id=\"node5\" class=\"node\">\n<title>Train 1</title>\n<ellipse fill=\"none\" stroke=\"#ffffff\" cx=\"54\" cy=\"-204\" rx=\"37.8943\" ry=\"18\"/>\n<text text-anchor=\"middle\" x=\"54\" y=\"-200.3\" font-family=\"Times,serif\" font-size=\"14.00\" fill=\"#fb8072\">Train 1</text>\n</g>\n<!-- Theta1&#45;&gt;Train 1 -->\n<!-- Ym1 -->\n<g id=\"node7\" class=\"node\">\n<title>Ym1</title>\n<ellipse fill=\"#ffffff\" stroke=\"#beaed4\" cx=\"178\" cy=\"-132\" rx=\"27\" ry=\"18\"/>\n<text text-anchor=\"start\" x=\"166.5\" y=\"-129.3\" font-family=\"Times,serif\" font-size=\"14.00\" fill=\"#000000\">Y</text>\n<text text-anchor=\"start\" x=\"177.5\" y=\"-129.3\" font-family=\"Times,serif\" baseline-shift=\"sub\" font-size=\"10.00\" fill=\"#000000\">m</text>\n<text text-anchor=\"start\" x=\"184.5\" y=\"-129.3\" font-family=\"Times,serif\" baseline-shift=\"super\" font-size=\"10.00\" fill=\"#000000\">1</text>\n</g>\n<!-- Theta1&#45;&gt;Ym1 -->\n<g id=\"edge9\" class=\"edge\">\n<title>Theta1&#45;&gt;Ym1</title>\n<path fill=\"none\" stroke=\"#6e7b8b\" d=\"M144.1565,-258.336C138.0356,-239.8844 131.1432,-210.2978 139,-186 142.6503,-174.7112 149.6385,-163.7978 156.7029,-154.7719\"/>\n<polygon fill=\"#6e7b8b\" stroke=\"#6e7b8b\" points=\"159.4157,-156.9837 163.1185,-147.0569 154.0335,-152.5079 159.4157,-156.9837\"/>\n</g>\n<!-- Test 1 -->\n<g id=\"node8\" class=\"node\">\n<title>Test 1</title>\n<ellipse fill=\"none\" stroke=\"#ffffff\" cx=\"181\" cy=\"-204\" rx=\"33.2948\" ry=\"18\"/>\n<text text-anchor=\"middle\" x=\"181\" y=\"-200.3\" font-family=\"Times,serif\" font-size=\"14.00\" fill=\"#1f78b4\">Test 1</text>\n</g>\n<!-- Theta1&#45;&gt;Test 1 -->\n<!-- blank0 -->\n<g id=\"node10\" class=\"node\">\n<title>blank0</title>\n<ellipse fill=\"none\" stroke=\"#ffffff\" cx=\"259\" cy=\"-204\" rx=\"27\" ry=\"18\"/>\n<text text-anchor=\"middle\" x=\"259\" y=\"-200.3\" font-family=\"Times,serif\" font-size=\"14.00\" fill=\"#000000\">...</text>\n</g>\n<!-- Theta1&#45;&gt;blank0 -->\n<!-- YnT -->\n<g id=\"node11\" class=\"node\">\n<title>YnT</title>\n<ellipse fill=\"#ffffff\" stroke=\"#beaed4\" cx=\"374\" cy=\"-132\" rx=\"27\" ry=\"18\"/>\n<text text-anchor=\"start\" x=\"363\" y=\"-129.3\" font-family=\"Times,serif\" font-size=\"14.00\" fill=\"#000000\">Y</text>\n<text text-anchor=\"start\" x=\"374\" y=\"-129.3\" font-family=\"Times,serif\" baseline-shift=\"sub\" font-size=\"10.00\" fill=\"#000000\">n</text>\n<text text-anchor=\"start\" x=\"379\" y=\"-129.3\" font-family=\"Times,serif\" baseline-shift=\"super\" font-size=\"10.00\" fill=\"#000000\">T</text>\n</g>\n<!-- ThetaT&#45;&gt;YnT -->\n<g id=\"edge16\" class=\"edge\">\n<title>ThetaT&#45;&gt;YnT</title>\n<path fill=\"none\" stroke=\"#6e7b8b\" d=\"M360.7489,-263.1038C350.4152,-254.9717 338.6652,-243.4717 333,-230 325.4194,-211.9735 326.7613,-204.5337 333,-186 336.8527,-174.5547 344.2022,-163.6102 351.6271,-154.6034\"/>\n<polygon fill=\"#6e7b8b\" stroke=\"#6e7b8b\" points=\"354.4056,-156.7433 358.3689,-146.9177 349.1433,-152.1273 354.4056,-156.7433\"/>\n</g>\n<!-- Train T -->\n<g id=\"node12\" class=\"node\">\n<title>Train T</title>\n<ellipse fill=\"none\" stroke=\"#ffffff\" cx=\"380\" cy=\"-204\" rx=\"38.1938\" ry=\"18\"/>\n<text text-anchor=\"middle\" x=\"380\" y=\"-200.3\" font-family=\"Times,serif\" font-size=\"14.00\" fill=\"#fb8072\">Train T</text>\n</g>\n<!-- ThetaT&#45;&gt;Train T -->\n<!-- YmT -->\n<g id=\"node14\" class=\"node\">\n<title>YmT</title>\n<ellipse fill=\"#ffffff\" stroke=\"#beaed4\" cx=\"504\" cy=\"-132\" rx=\"27\" ry=\"18\"/>\n<text text-anchor=\"start\" x=\"492\" y=\"-129.3\" font-family=\"Times,serif\" font-size=\"14.00\" fill=\"#000000\">Y</text>\n<text text-anchor=\"start\" x=\"503\" y=\"-129.3\" font-family=\"Times,serif\" baseline-shift=\"sub\" font-size=\"10.00\" fill=\"#000000\">m</text>\n<text text-anchor=\"start\" x=\"510\" y=\"-129.3\" font-family=\"Times,serif\" baseline-shift=\"super\" font-size=\"10.00\" fill=\"#000000\">T</text>\n</g>\n<!-- ThetaT&#45;&gt;YmT -->\n<g id=\"edge22\" class=\"edge\">\n<title>ThetaT&#45;&gt;YmT</title>\n<path fill=\"none\" stroke=\"#6e7b8b\" d=\"M396.9255,-261.7917C406.963,-253.0404 419.6957,-241.3556 430,-230 441.6622,-217.1479 468.4197,-181.0075 486.3559,-156.3973\"/>\n<polygon fill=\"#6e7b8b\" stroke=\"#6e7b8b\" points=\"489.2439,-158.3769 492.2931,-148.2303 483.5819,-154.2608 489.2439,-158.3769\"/>\n</g>\n<!-- Test T -->\n<g id=\"node15\" class=\"node\">\n<title>Test T</title>\n<ellipse fill=\"none\" stroke=\"#ffffff\" cx=\"508\" cy=\"-204\" rx=\"34.394\" ry=\"18\"/>\n<text text-anchor=\"middle\" x=\"508\" y=\"-200.3\" font-family=\"Times,serif\" font-size=\"14.00\" fill=\"#1f78b4\">Test T</text>\n</g>\n<!-- ThetaT&#45;&gt;Test T -->\n<!-- Xn1 -->\n<g id=\"node6\" class=\"node\">\n<title>Xn1</title>\n<ellipse fill=\"#ccebc5\" stroke=\"#b2df8a\" cx=\"48\" cy=\"-60\" rx=\"27\" ry=\"18\"/>\n<text text-anchor=\"start\" x=\"37.5\" y=\"-57.3\" font-family=\"Times,serif\" font-size=\"14.00\" fill=\"#000000\">X</text>\n<text text-anchor=\"start\" x=\"48.5\" y=\"-57.3\" font-family=\"Times,serif\" baseline-shift=\"sub\" font-size=\"10.00\" fill=\"#000000\">n</text>\n<text text-anchor=\"start\" x=\"53.5\" y=\"-57.3\" font-family=\"Times,serif\" baseline-shift=\"super\" font-size=\"10.00\" fill=\"#000000\">1</text>\n</g>\n<!-- Yn1&#45;&gt;Xn1 -->\n<!-- Yn1&#45;&gt;Xn1 -->\n<!-- Train 1&#45;&gt;Yn1 -->\n<!-- Xn1&#45;&gt;Yn1 -->\n<g id=\"edge7\" class=\"edge\">\n<title>Xn1&#45;&gt;Yn1</title>\n<path fill=\"none\" stroke=\"#6e7b8b\" d=\"M48,-78.4133C48,-86.0593 48,-95.1084 48,-103.5726\"/>\n<polygon fill=\"#6e7b8b\" stroke=\"#6e7b8b\" points=\"44.5001,-103.8313 48,-113.8314 51.5001,-103.8314 44.5001,-103.8313\"/>\n</g>\n<!-- Xm1 -->\n<g id=\"node9\" class=\"node\">\n<title>Xm1</title>\n<ellipse fill=\"#ccebc5\" stroke=\"#b2df8a\" cx=\"178\" cy=\"-60\" rx=\"27\" ry=\"18\"/>\n<text text-anchor=\"start\" x=\"166.5\" y=\"-57.3\" font-family=\"Times,serif\" font-size=\"14.00\" fill=\"#000000\">X</text>\n<text text-anchor=\"start\" x=\"177.5\" y=\"-57.3\" font-family=\"Times,serif\" baseline-shift=\"sub\" font-size=\"10.00\" fill=\"#000000\">m</text>\n<text text-anchor=\"start\" x=\"184.5\" y=\"-57.3\" font-family=\"Times,serif\" baseline-shift=\"super\" font-size=\"10.00\" fill=\"#000000\">1</text>\n</g>\n<!-- Ym1&#45;&gt;Xm1 -->\n<!-- Ym1&#45;&gt;Xm1 -->\n<!-- Test 1&#45;&gt;Ym1 -->\n<!-- Xm1&#45;&gt;Ym1 -->\n<g id=\"edge13\" class=\"edge\">\n<title>Xm1&#45;&gt;Ym1</title>\n<path fill=\"none\" stroke=\"#6e7b8b\" d=\"M178,-78.4133C178,-86.0593 178,-95.1084 178,-103.5726\"/>\n<polygon fill=\"#6e7b8b\" stroke=\"#6e7b8b\" points=\"174.5001,-103.8313 178,-113.8314 181.5001,-103.8314 174.5001,-103.8313\"/>\n</g>\n<!-- XnT -->\n<g id=\"node13\" class=\"node\">\n<title>XnT</title>\n<ellipse fill=\"#ccebc5\" stroke=\"#b2df8a\" cx=\"374\" cy=\"-60\" rx=\"27\" ry=\"18\"/>\n<text text-anchor=\"start\" x=\"363\" y=\"-57.3\" font-family=\"Times,serif\" font-size=\"14.00\" fill=\"#000000\">X</text>\n<text text-anchor=\"start\" x=\"374\" y=\"-57.3\" font-family=\"Times,serif\" baseline-shift=\"sub\" font-size=\"10.00\" fill=\"#000000\">n</text>\n<text text-anchor=\"start\" x=\"379\" y=\"-57.3\" font-family=\"Times,serif\" baseline-shift=\"super\" font-size=\"10.00\" fill=\"#000000\">T</text>\n</g>\n<!-- YnT&#45;&gt;XnT -->\n<!-- YnT&#45;&gt;XnT -->\n<!-- Train T&#45;&gt;YnT -->\n<!-- XnT&#45;&gt;YnT -->\n<g id=\"edge20\" class=\"edge\">\n<title>XnT&#45;&gt;YnT</title>\n<path fill=\"none\" stroke=\"#6e7b8b\" d=\"M374,-78.4133C374,-86.0593 374,-95.1084 374,-103.5726\"/>\n<polygon fill=\"#6e7b8b\" stroke=\"#6e7b8b\" points=\"370.5001,-103.8313 374,-113.8314 377.5001,-103.8314 370.5001,-103.8313\"/>\n</g>\n<!-- XmT -->\n<g id=\"node16\" class=\"node\">\n<title>XmT</title>\n<ellipse fill=\"#ccebc5\" stroke=\"#b2df8a\" cx=\"504\" cy=\"-60\" rx=\"27\" ry=\"18\"/>\n<text text-anchor=\"start\" x=\"492\" y=\"-57.3\" font-family=\"Times,serif\" font-size=\"14.00\" fill=\"#000000\">X</text>\n<text text-anchor=\"start\" x=\"503\" y=\"-57.3\" font-family=\"Times,serif\" baseline-shift=\"sub\" font-size=\"10.00\" fill=\"#000000\">m</text>\n<text text-anchor=\"start\" x=\"510\" y=\"-57.3\" font-family=\"Times,serif\" baseline-shift=\"super\" font-size=\"10.00\" fill=\"#000000\">T</text>\n</g>\n<!-- YmT&#45;&gt;XmT -->\n<!-- YmT&#45;&gt;XmT -->\n<!-- Test T&#45;&gt;YmT -->\n<!-- XmT&#45;&gt;YmT -->\n<g id=\"edge26\" class=\"edge\">\n<title>XmT&#45;&gt;YmT</title>\n<path fill=\"none\" stroke=\"#6e7b8b\" d=\"M504,-78.4133C504,-86.0593 504,-95.1084 504,-103.5726\"/>\n<polygon fill=\"#6e7b8b\" stroke=\"#6e7b8b\" points=\"500.5001,-103.8313 504,-113.8314 507.5001,-103.8314 500.5001,-103.8313\"/>\n</g>\n</g>\n</svg>\n"
     },
     "metadata": {},
     "execution_count": 5
    }
   ]
  },
  {
   "cell_type": "code",
   "metadata": {
    "id": "0q8_S_HYc4_v",
    "colab": {
     "base_uri": "https://localhost:8080/",
     "height": 549
    },
    "outputId": "75a7b937-a641-4677-cc11-738671b40f47"
   },
   "source": [
    "dot = graphviz.Digraph(format=\"pdf\")\n",
    "\n",
    "\n",
    "source_superscripts = [\"p\"]\n",
    "target_superscripts = [\"q\"]\n",
    "\n",
    "source_subscripts = [\"n\", \"m\"]\n",
    "target_subscripts = [\"n\", \"m\", \"u\"]\n",
    "\n",
    "alternative_colors = [\"/paired3/2\", \"/paired9/7\", \"/set34/4\"]\n",
    "\n",
    "source_labels = [\"Source Train\", \"Source Test\"]\n",
    "target_labels = [\"Target Labelled\", \"Target Test\", \"Target Unlabelled\"]\n",
    "\n",
    "for i, (sup, labels) in enumerate(zip([source_superscripts, target_superscripts], [source_labels, target_labels])):\n",
    "    sup = sup[0]\n",
    "    for label in labels:\n",
    "        create_node(dot, param, sup, color=\"white\", fontcolor=fontcolor, is_greek_letter=True)\n",
    "    if i == 0:\n",
    "        dot.node(f\"blank{i}\", \"\", color=\"white\")\n",
    "        dot.edge(f\"Theta{sup}\", f\"blank{i}\", color=\"white\", style=\"invis\")\n",
    "\n",
    "dot.edge(\n",
    "    f\"{param}{source_superscripts[0]}\",\n",
    "    f\"{param}{target_superscripts[0]}\",\n",
    "    label=\"?\",\n",
    "    color=edge_color,\n",
    "    fontcolor=edge_color,\n",
    "    constraint=\"false\",\n",
    ")\n",
    "dot.edge(f\"{param}{target_superscripts[0]}\", f\"{param}{source_superscripts[0]}\", style=\"invis\", constraint=\"false\")\n",
    "\n",
    "plot_cluster(\n",
    "    dot,\n",
    "    subscripts=source_subscripts,\n",
    "    superscript=source_superscripts[0],\n",
    "    subgraph_labels=source_labels,\n",
    "    subgraph_colors=subgraph_colors,\n",
    "    theta_subscript=\"\",\n",
    ")\n",
    "plot_cluster(\n",
    "    dot,\n",
    "    subscripts=target_subscripts,\n",
    "    superscript=target_superscripts[0],\n",
    "    subgraph_labels=target_labels,\n",
    "    subgraph_colors=alternative_colors,\n",
    "    theta_subscript=\"\",\n",
    ")\n",
    "\n",
    "for i, (subscript, labels) in enumerate(\n",
    "    zip([source_superscripts, target_superscripts], [source_labels, target_labels])\n",
    "):\n",
    "    subscript = subscript[0]\n",
    "    for label in labels[::-1]:\n",
    "        create_node(dot, param, subscript, color=\"white\", fontcolor=fontcolor, is_greek_letter=True)\n",
    "\n",
    "file_name = \"hbayes-domain-shift\"\n",
    "dot.render(file_name, view=True)\n",
    "\n",
    "dot"
   ],
   "execution_count": 7,
   "outputs": [
    {
     "output_type": "execute_result",
     "data": {
      "text/plain": [
       "<graphviz.dot.Digraph at 0x7fcd7b1bef90>"
      ],
      "image/svg+xml": "<?xml version=\"1.0\" encoding=\"UTF-8\" standalone=\"no\"?>\n<!DOCTYPE svg PUBLIC \"-//W3C//DTD SVG 1.1//EN\"\n \"http://www.w3.org/Graphics/SVG/1.1/DTD/svg11.dtd\">\n<!-- Generated by graphviz version 2.40.1 (20161225.0304)\n -->\n<!-- Title: %3 Pages: 1 -->\n<svg width=\"938pt\" height=\"381pt\"\n viewBox=\"0.00 0.00 938.00 381.00\" xmlns=\"http://www.w3.org/2000/svg\" xmlns:xlink=\"http://www.w3.org/1999/xlink\">\n<g id=\"graph0\" class=\"graph\" transform=\"scale(1 1) rotate(0) translate(4 377)\">\n<title>%3</title>\n<polygon fill=\"#ffffff\" stroke=\"transparent\" points=\"-4,4 -4,-377 933.9974,-377 933.9974,4 -4,4\"/>\n<g id=\"clust1\" class=\"cluster\">\n<title>cluster_p_0</title>\n<path fill=\"#ffffff\" stroke=\"#fb8072\" d=\"M23.4689,-8C23.4689,-8 131.4689,-8 131.4689,-8 137.4689,-8 143.4689,-14 143.4689,-20 143.4689,-20 143.4689,-296 143.4689,-296 143.4689,-302 137.4689,-308 131.4689,-308 131.4689,-308 23.4689,-308 23.4689,-308 17.4689,-308 11.4689,-302 11.4689,-296 11.4689,-296 11.4689,-20 11.4689,-20 11.4689,-14 17.4689,-8 23.4689,-8\"/>\n<text text-anchor=\"start\" x=\"116.4689\" y=\"-18.2\" font-family=\"Times,serif\" font-size=\"16.00\" fill=\"#fb8072\">N</text>\n<text text-anchor=\"start\" x=\"128.4689\" y=\"-18.2\" font-family=\"Times,serif\" baseline-shift=\"super\" font-size=\"16.00\" fill=\"#fb8072\">p</text>\n</g>\n<g id=\"clust2\" class=\"cluster\">\n<title>cluster_p_1</title>\n<path fill=\"#ffffff\" stroke=\"#1f78b4\" d=\"M163.4689,-8C163.4689,-8 263.4689,-8 263.4689,-8 269.4689,-8 275.4689,-14 275.4689,-20 275.4689,-20 275.4689,-296 275.4689,-296 275.4689,-302 269.4689,-308 263.4689,-308 263.4689,-308 163.4689,-308 163.4689,-308 157.4689,-308 151.4689,-302 151.4689,-296 151.4689,-296 151.4689,-20 151.4689,-20 151.4689,-14 157.4689,-8 163.4689,-8\"/>\n<text text-anchor=\"start\" x=\"245.4689\" y=\"-18.2\" font-family=\"Times,serif\" font-size=\"16.00\" fill=\"#1f78b4\">M</text>\n<text text-anchor=\"start\" x=\"260.4689\" y=\"-18.2\" font-family=\"Times,serif\" baseline-shift=\"super\" font-size=\"16.00\" fill=\"#1f78b4\">p</text>\n</g>\n<g id=\"clust3\" class=\"cluster\">\n<title>cluster_q_0</title>\n<path fill=\"#ffffff\" stroke=\"#1f78b4\" d=\"M647.4689,-8C647.4689,-8 777.4689,-8 777.4689,-8 783.4689,-8 789.4689,-14 789.4689,-20 789.4689,-20 789.4689,-296 789.4689,-296 789.4689,-302 783.4689,-308 777.4689,-308 777.4689,-308 647.4689,-308 647.4689,-308 641.4689,-308 635.4689,-302 635.4689,-296 635.4689,-296 635.4689,-20 635.4689,-20 635.4689,-14 641.4689,-8 647.4689,-8\"/>\n<text text-anchor=\"start\" x=\"762.4689\" y=\"-18.2\" font-family=\"Times,serif\" font-size=\"16.00\" fill=\"#1f78b4\">N</text>\n<text text-anchor=\"start\" x=\"774.4689\" y=\"-18.2\" font-family=\"Times,serif\" baseline-shift=\"super\" font-size=\"16.00\" fill=\"#1f78b4\">q</text>\n</g>\n<g id=\"clust4\" class=\"cluster\">\n<title>cluster_q_1</title>\n<path fill=\"#ffffff\" stroke=\"#fdbf6f\" d=\"M809.4689,-8C809.4689,-8 905.4689,-8 905.4689,-8 911.4689,-8 917.4689,-14 917.4689,-20 917.4689,-20 917.4689,-296 917.4689,-296 917.4689,-302 911.4689,-308 905.4689,-308 905.4689,-308 809.4689,-308 809.4689,-308 803.4689,-308 797.4689,-302 797.4689,-296 797.4689,-296 797.4689,-20 797.4689,-20 797.4689,-14 803.4689,-8 809.4689,-8\"/>\n<text text-anchor=\"start\" x=\"887.4689\" y=\"-18.2\" font-family=\"Times,serif\" font-size=\"16.00\" fill=\"#fdbf6f\">M</text>\n<text text-anchor=\"start\" x=\"902.4689\" y=\"-18.2\" font-family=\"Times,serif\" baseline-shift=\"super\" font-size=\"16.00\" fill=\"#fdbf6f\">q</text>\n</g>\n<g id=\"clust5\" class=\"cluster\">\n<title>cluster_q_2</title>\n<path fill=\"#ffffff\" stroke=\"#fb8072\" d=\"M437.4689,-8C437.4689,-8 583.4689,-8 583.4689,-8 589.4689,-8 595.4689,-14 595.4689,-20 595.4689,-20 595.4689,-296 595.4689,-296 595.4689,-302 589.4689,-308 583.4689,-308 583.4689,-308 437.4689,-308 437.4689,-308 431.4689,-308 425.4689,-302 425.4689,-296 425.4689,-296 425.4689,-20 425.4689,-20 425.4689,-14 431.4689,-8 437.4689,-8\"/>\n<text text-anchor=\"start\" x=\"568.4689\" y=\"-18.2\" font-family=\"Times,serif\" font-size=\"16.00\" fill=\"#fb8072\">U</text>\n<text text-anchor=\"start\" x=\"580.4689\" y=\"-18.2\" font-family=\"Times,serif\" baseline-shift=\"super\" font-size=\"16.00\" fill=\"#fb8072\">q</text>\n</g>\n<!-- Thetap -->\n<g id=\"node1\" class=\"node\">\n<title>Thetap</title>\n<ellipse fill=\"none\" stroke=\"#ffffff\" cx=\"213.4689\" cy=\"-355\" rx=\"27\" ry=\"18\"/>\n<text text-anchor=\"start\" x=\"204.9689\" y=\"-352.3\" font-family=\"Times,serif\" font-size=\"14.00\" fill=\"#2b2b2b\">Θ</text>\n<text text-anchor=\"start\" x=\"215.9689\" y=\"-352.3\" font-family=\"Times,serif\" baseline-shift=\"sub\" font-size=\"12.00\" fill=\"#2b2b2b\">p</text>\n</g>\n<!-- blank0 -->\n<g id=\"node2\" class=\"node\">\n<title>blank0</title>\n<ellipse fill=\"none\" stroke=\"#ffffff\" cx=\"350.4689\" cy=\"-282\" rx=\"27\" ry=\"18\"/>\n</g>\n<!-- Thetap&#45;&gt;blank0 -->\n<!-- Thetaq -->\n<g id=\"node3\" class=\"node\">\n<title>Thetaq</title>\n<ellipse fill=\"none\" stroke=\"#ffffff\" cx=\"645.4689\" cy=\"-355\" rx=\"27\" ry=\"18\"/>\n<text text-anchor=\"start\" x=\"636.9689\" y=\"-352.3\" font-family=\"Times,serif\" font-size=\"14.00\" fill=\"#2b2b2b\">Θ</text>\n<text text-anchor=\"start\" x=\"647.9689\" y=\"-352.3\" font-family=\"Times,serif\" baseline-shift=\"sub\" font-size=\"12.00\" fill=\"#2b2b2b\">q</text>\n</g>\n<!-- Thetap&#45;&gt;Thetaq -->\n<g id=\"edge2\" class=\"edge\">\n<title>Thetap&#45;&gt;Thetaq</title>\n<path fill=\"none\" stroke=\"#6e7b8b\" d=\"M240.4925,-355C314.8918,-355 522.8537,-355 608.1981,-355\"/>\n<polygon fill=\"#6e7b8b\" stroke=\"#6e7b8b\" points=\"608.4556,-358.5001 618.4556,-355 608.4556,-351.5001 608.4556,-358.5001\"/>\n<text text-anchor=\"middle\" x=\"429.4689\" y=\"-361.8\" font-family=\"Times,serif\" font-size=\"14.00\" fill=\"#6e7b8b\">?</text>\n</g>\n<!-- Ynp -->\n<g id=\"node4\" class=\"node\">\n<title>Ynp</title>\n<ellipse fill=\"#ffffff\" stroke=\"#beaed4\" cx=\"61.4689\" cy=\"-171\" rx=\"27\" ry=\"18\"/>\n<text text-anchor=\"start\" x=\"50.9689\" y=\"-168.3\" font-family=\"Times,serif\" font-size=\"14.00\" fill=\"#000000\">Y</text>\n<text text-anchor=\"start\" x=\"61.9689\" y=\"-168.3\" font-family=\"Times,serif\" baseline-shift=\"sub\" font-size=\"10.00\" fill=\"#000000\">n</text>\n<text text-anchor=\"start\" x=\"66.9689\" y=\"-168.3\" font-family=\"Times,serif\" baseline-shift=\"super\" font-size=\"10.00\" fill=\"#000000\">p</text>\n</g>\n<!-- Thetap&#45;&gt;Ynp -->\n<g id=\"edge4\" class=\"edge\">\n<title>Thetap&#45;&gt;Ynp</title>\n<path fill=\"none\" stroke=\"#6e7b8b\" d=\"M186.5844,-352.8267C136.5407,-348.1636 32.1919,-335.327 10.4689,-308 -16.8143,-273.6782 15.9514,-223.2894 40.1446,-194.1489\"/>\n<polygon fill=\"#6e7b8b\" stroke=\"#6e7b8b\" points=\"42.8304,-196.3935 46.6839,-186.5243 37.517,-191.8364 42.8304,-196.3935\"/>\n</g>\n<!-- Source Train -->\n<g id=\"node5\" class=\"node\">\n<title>Source Train</title>\n<ellipse fill=\"none\" stroke=\"#ffffff\" cx=\"77.4689\" cy=\"-282\" rx=\"58.4896\" ry=\"18\"/>\n<text text-anchor=\"middle\" x=\"77.4689\" y=\"-278.3\" font-family=\"Times,serif\" font-size=\"14.00\" fill=\"#fb8072\">Source Train</text>\n</g>\n<!-- Thetap&#45;&gt;Source Train -->\n<!-- Ymp -->\n<g id=\"node7\" class=\"node\">\n<title>Ymp</title>\n<ellipse fill=\"#ffffff\" stroke=\"#beaed4\" cx=\"233.4689\" cy=\"-171\" rx=\"27\" ry=\"18\"/>\n<text text-anchor=\"start\" x=\"221.9689\" y=\"-168.3\" font-family=\"Times,serif\" font-size=\"14.00\" fill=\"#000000\">Y</text>\n<text text-anchor=\"start\" x=\"232.9689\" y=\"-168.3\" font-family=\"Times,serif\" baseline-shift=\"sub\" font-size=\"10.00\" fill=\"#000000\">m</text>\n<text text-anchor=\"start\" x=\"239.9689\" y=\"-168.3\" font-family=\"Times,serif\" baseline-shift=\"super\" font-size=\"10.00\" fill=\"#000000\">p</text>\n</g>\n<!-- Thetap&#45;&gt;Ymp -->\n<g id=\"edge10\" class=\"edge\">\n<title>Thetap&#45;&gt;Ymp</title>\n<path fill=\"none\" stroke=\"#6e7b8b\" d=\"M235.9035,-344.9772C250.3784,-337.1751 268.0259,-324.8325 276.4689,-308 295.1268,-270.8026 271.1675,-223.8626 252.2374,-195.7028\"/>\n<polygon fill=\"#6e7b8b\" stroke=\"#6e7b8b\" points=\"254.9285,-193.4438 246.3283,-187.2561 249.1927,-197.4564 254.9285,-193.4438\"/>\n</g>\n<!-- Source Test -->\n<g id=\"node8\" class=\"node\">\n<title>Source Test</title>\n<ellipse fill=\"none\" stroke=\"#ffffff\" cx=\"213.4689\" cy=\"-282\" rx=\"53.8905\" ry=\"18\"/>\n<text text-anchor=\"middle\" x=\"213.4689\" y=\"-278.3\" font-family=\"Times,serif\" font-size=\"14.00\" fill=\"#1f78b4\">Source Test</text>\n</g>\n<!-- Thetap&#45;&gt;Source Test -->\n<!-- Thetaq&#45;&gt;Thetap -->\n<!-- Ynq -->\n<g id=\"node10\" class=\"node\">\n<title>Ynq</title>\n<ellipse fill=\"#ffffff\" stroke=\"#beaed4\" cx=\"691.4689\" cy=\"-171\" rx=\"27\" ry=\"18\"/>\n<text text-anchor=\"start\" x=\"680.9689\" y=\"-168.3\" font-family=\"Times,serif\" font-size=\"14.00\" fill=\"#000000\">Y</text>\n<text text-anchor=\"start\" x=\"691.9689\" y=\"-168.3\" font-family=\"Times,serif\" baseline-shift=\"sub\" font-size=\"10.00\" fill=\"#000000\">n</text>\n<text text-anchor=\"start\" x=\"696.9689\" y=\"-168.3\" font-family=\"Times,serif\" baseline-shift=\"super\" font-size=\"10.00\" fill=\"#000000\">q</text>\n</g>\n<!-- Thetaq&#45;&gt;Ynq -->\n<g id=\"edge16\" class=\"edge\">\n<title>Thetaq&#45;&gt;Ynq</title>\n<path fill=\"none\" stroke=\"#6e7b8b\" d=\"M639.278,-337.2384C633.7342,-318.6623 627.4703,-288.8119 634.4689,-264 641.7145,-238.3128 658.2584,-212.7216 671.6663,-194.9063\"/>\n<polygon fill=\"#6e7b8b\" stroke=\"#6e7b8b\" points=\"674.5766,-196.865 677.942,-186.8189 669.0463,-192.5736 674.5766,-196.865\"/>\n</g>\n<!-- Target Labelled -->\n<g id=\"node11\" class=\"node\">\n<title>Target Labelled</title>\n<ellipse fill=\"none\" stroke=\"#ffffff\" cx=\"712.4689\" cy=\"-282\" rx=\"68.7879\" ry=\"18\"/>\n<text text-anchor=\"middle\" x=\"712.4689\" y=\"-278.3\" font-family=\"Times,serif\" font-size=\"14.00\" fill=\"#1f78b4\">Target Labelled</text>\n</g>\n<!-- Thetaq&#45;&gt;Target Labelled -->\n<!-- Ymq -->\n<g id=\"node13\" class=\"node\">\n<title>Ymq</title>\n<ellipse fill=\"#ffffff\" stroke=\"#beaed4\" cx=\"875.4689\" cy=\"-171\" rx=\"27\" ry=\"18\"/>\n<text text-anchor=\"start\" x=\"863.9689\" y=\"-168.3\" font-family=\"Times,serif\" font-size=\"14.00\" fill=\"#000000\">Y</text>\n<text text-anchor=\"start\" x=\"874.9689\" y=\"-168.3\" font-family=\"Times,serif\" baseline-shift=\"sub\" font-size=\"10.00\" fill=\"#000000\">m</text>\n<text text-anchor=\"start\" x=\"881.9689\" y=\"-168.3\" font-family=\"Times,serif\" baseline-shift=\"super\" font-size=\"10.00\" fill=\"#000000\">q</text>\n</g>\n<!-- Thetaq&#45;&gt;Ymq -->\n<g id=\"edge22\" class=\"edge\">\n<title>Thetaq&#45;&gt;Ymq</title>\n<path fill=\"none\" stroke=\"#6e7b8b\" d=\"M672.2453,-352.3419C737.8862,-345.5573 902.6263,-326.8032 918.4689,-308 946.0995,-275.206 917.182,-224.6259 895.2358,-194.9696\"/>\n<polygon fill=\"#6e7b8b\" stroke=\"#6e7b8b\" points=\"897.8629,-192.6437 889.0016,-186.8361 892.3072,-196.9021 897.8629,-192.6437\"/>\n</g>\n<!-- Target Test -->\n<g id=\"node14\" class=\"node\">\n<title>Target Test</title>\n<ellipse fill=\"none\" stroke=\"#ffffff\" cx=\"857.4689\" cy=\"-282\" rx=\"51.9908\" ry=\"18\"/>\n<text text-anchor=\"middle\" x=\"857.4689\" y=\"-278.3\" font-family=\"Times,serif\" font-size=\"14.00\" fill=\"#fdbf6f\">Target Test</text>\n</g>\n<!-- Thetaq&#45;&gt;Target Test -->\n<!-- Yuq -->\n<g id=\"node16\" class=\"node\">\n<title>Yuq</title>\n<ellipse fill=\"#ffffff\" stroke=\"#beaed4\" cx=\"485.4689\" cy=\"-171\" rx=\"27\" ry=\"18\"/>\n<text text-anchor=\"start\" x=\"474.9689\" y=\"-168.3\" font-family=\"Times,serif\" font-size=\"14.00\" fill=\"#000000\">Y</text>\n<text text-anchor=\"start\" x=\"485.9689\" y=\"-168.3\" font-family=\"Times,serif\" baseline-shift=\"sub\" font-size=\"10.00\" fill=\"#000000\">u</text>\n<text text-anchor=\"start\" x=\"490.9689\" y=\"-168.3\" font-family=\"Times,serif\" baseline-shift=\"super\" font-size=\"10.00\" fill=\"#000000\">q</text>\n</g>\n<!-- Thetaq&#45;&gt;Yuq -->\n<g id=\"edge28\" class=\"edge\">\n<title>Thetaq&#45;&gt;Yuq</title>\n<path fill=\"none\" stroke=\"#6e7b8b\" d=\"M618.3166,-353.3588C564.7596,-349.4952 448.5977,-337.7998 424.4689,-308 395.8933,-272.7081 434.5698,-221.9131 462.1242,-193.1214\"/>\n<polygon fill=\"#6e7b8b\" stroke=\"#6e7b8b\" points=\"464.6599,-195.5347 469.1888,-185.9566 459.6754,-190.6199 464.6599,-195.5347\"/>\n</g>\n<!-- Target Unlabelled -->\n<g id=\"node17\" class=\"node\">\n<title>Target Unlabelled</title>\n<ellipse fill=\"none\" stroke=\"#ffffff\" cx=\"510.4689\" cy=\"-282\" rx=\"77.1866\" ry=\"18\"/>\n<text text-anchor=\"middle\" x=\"510.4689\" y=\"-278.3\" font-family=\"Times,serif\" font-size=\"14.00\" fill=\"#fb8072\">Target Unlabelled</text>\n</g>\n<!-- Thetaq&#45;&gt;Target Unlabelled -->\n<!-- Xnp -->\n<g id=\"node6\" class=\"node\">\n<title>Xnp</title>\n<ellipse fill=\"#ccebc5\" stroke=\"#b2df8a\" cx=\"61.4689\" cy=\"-60\" rx=\"27\" ry=\"18\"/>\n<text text-anchor=\"start\" x=\"50.9689\" y=\"-57.3\" font-family=\"Times,serif\" font-size=\"14.00\" fill=\"#000000\">X</text>\n<text text-anchor=\"start\" x=\"61.9689\" y=\"-57.3\" font-family=\"Times,serif\" baseline-shift=\"sub\" font-size=\"10.00\" fill=\"#000000\">n</text>\n<text text-anchor=\"start\" x=\"66.9689\" y=\"-57.3\" font-family=\"Times,serif\" baseline-shift=\"super\" font-size=\"10.00\" fill=\"#000000\">p</text>\n</g>\n<!-- Ynp&#45;&gt;Xnp -->\n<!-- Ynp&#45;&gt;Xnp -->\n<!-- Source Train&#45;&gt;Ynp -->\n<!-- Xnp&#45;&gt;Ynp -->\n<g id=\"edge8\" class=\"edge\">\n<title>Xnp&#45;&gt;Ynp</title>\n<path fill=\"none\" stroke=\"#6e7b8b\" d=\"M61.4689,-78.3566C61.4689,-95.7994 61.4689,-122.2899 61.4689,-142.4826\"/>\n<polygon fill=\"#6e7b8b\" stroke=\"#6e7b8b\" points=\"57.969,-142.6706 61.4689,-152.6706 64.969,-142.6706 57.969,-142.6706\"/>\n</g>\n<!-- Xmp -->\n<g id=\"node9\" class=\"node\">\n<title>Xmp</title>\n<ellipse fill=\"#ccebc5\" stroke=\"#b2df8a\" cx=\"233.4689\" cy=\"-60\" rx=\"27\" ry=\"18\"/>\n<text text-anchor=\"start\" x=\"221.9689\" y=\"-57.3\" font-family=\"Times,serif\" font-size=\"14.00\" fill=\"#000000\">X</text>\n<text text-anchor=\"start\" x=\"232.9689\" y=\"-57.3\" font-family=\"Times,serif\" baseline-shift=\"sub\" font-size=\"10.00\" fill=\"#000000\">m</text>\n<text text-anchor=\"start\" x=\"239.9689\" y=\"-57.3\" font-family=\"Times,serif\" baseline-shift=\"super\" font-size=\"10.00\" fill=\"#000000\">p</text>\n</g>\n<!-- Ymp&#45;&gt;Xmp -->\n<!-- Ymp&#45;&gt;Xmp -->\n<!-- Source Test&#45;&gt;Ymp -->\n<!-- Xmp&#45;&gt;Ymp -->\n<g id=\"edge14\" class=\"edge\">\n<title>Xmp&#45;&gt;Ymp</title>\n<path fill=\"none\" stroke=\"#6e7b8b\" d=\"M233.4689,-78.3566C233.4689,-95.7994 233.4689,-122.2899 233.4689,-142.4826\"/>\n<polygon fill=\"#6e7b8b\" stroke=\"#6e7b8b\" points=\"229.969,-142.6706 233.4689,-152.6706 236.969,-142.6706 229.969,-142.6706\"/>\n</g>\n<!-- Xnq -->\n<g id=\"node12\" class=\"node\">\n<title>Xnq</title>\n<ellipse fill=\"#ccebc5\" stroke=\"#b2df8a\" cx=\"691.4689\" cy=\"-60\" rx=\"27\" ry=\"18\"/>\n<text text-anchor=\"start\" x=\"680.9689\" y=\"-57.3\" font-family=\"Times,serif\" font-size=\"14.00\" fill=\"#000000\">X</text>\n<text text-anchor=\"start\" x=\"691.9689\" y=\"-57.3\" font-family=\"Times,serif\" baseline-shift=\"sub\" font-size=\"10.00\" fill=\"#000000\">n</text>\n<text text-anchor=\"start\" x=\"696.9689\" y=\"-57.3\" font-family=\"Times,serif\" baseline-shift=\"super\" font-size=\"10.00\" fill=\"#000000\">q</text>\n</g>\n<!-- Ynq&#45;&gt;Xnq -->\n<!-- Ynq&#45;&gt;Xnq -->\n<!-- Target Labelled&#45;&gt;Ynq -->\n<!-- Xnq&#45;&gt;Ynq -->\n<g id=\"edge20\" class=\"edge\">\n<title>Xnq&#45;&gt;Ynq</title>\n<path fill=\"none\" stroke=\"#6e7b8b\" d=\"M691.4689,-78.3566C691.4689,-95.7994 691.4689,-122.2899 691.4689,-142.4826\"/>\n<polygon fill=\"#6e7b8b\" stroke=\"#6e7b8b\" points=\"687.969,-142.6706 691.4689,-152.6706 694.969,-142.6706 687.969,-142.6706\"/>\n</g>\n<!-- Xmq -->\n<g id=\"node15\" class=\"node\">\n<title>Xmq</title>\n<ellipse fill=\"#ccebc5\" stroke=\"#b2df8a\" cx=\"875.4689\" cy=\"-60\" rx=\"27\" ry=\"18\"/>\n<text text-anchor=\"start\" x=\"863.9689\" y=\"-57.3\" font-family=\"Times,serif\" font-size=\"14.00\" fill=\"#000000\">X</text>\n<text text-anchor=\"start\" x=\"874.9689\" y=\"-57.3\" font-family=\"Times,serif\" baseline-shift=\"sub\" font-size=\"10.00\" fill=\"#000000\">m</text>\n<text text-anchor=\"start\" x=\"881.9689\" y=\"-57.3\" font-family=\"Times,serif\" baseline-shift=\"super\" font-size=\"10.00\" fill=\"#000000\">q</text>\n</g>\n<!-- Ymq&#45;&gt;Xmq -->\n<!-- Ymq&#45;&gt;Xmq -->\n<!-- Target Test&#45;&gt;Ymq -->\n<!-- Xmq&#45;&gt;Ymq -->\n<g id=\"edge26\" class=\"edge\">\n<title>Xmq&#45;&gt;Ymq</title>\n<path fill=\"none\" stroke=\"#6e7b8b\" d=\"M875.4689,-78.3566C875.4689,-95.7994 875.4689,-122.2899 875.4689,-142.4826\"/>\n<polygon fill=\"#6e7b8b\" stroke=\"#6e7b8b\" points=\"871.969,-142.6706 875.4689,-152.6706 878.969,-142.6706 871.969,-142.6706\"/>\n</g>\n<!-- Xuq -->\n<g id=\"node18\" class=\"node\">\n<title>Xuq</title>\n<ellipse fill=\"#ccebc5\" stroke=\"#b2df8a\" cx=\"485.4689\" cy=\"-60\" rx=\"27\" ry=\"18\"/>\n<text text-anchor=\"start\" x=\"474.9689\" y=\"-57.3\" font-family=\"Times,serif\" font-size=\"14.00\" fill=\"#000000\">X</text>\n<text text-anchor=\"start\" x=\"485.9689\" y=\"-57.3\" font-family=\"Times,serif\" baseline-shift=\"sub\" font-size=\"10.00\" fill=\"#000000\">u</text>\n<text text-anchor=\"start\" x=\"490.9689\" y=\"-57.3\" font-family=\"Times,serif\" baseline-shift=\"super\" font-size=\"10.00\" fill=\"#000000\">q</text>\n</g>\n<!-- Yuq&#45;&gt;Xuq -->\n<!-- Yuq&#45;&gt;Xuq -->\n<!-- Target Unlabelled&#45;&gt;Yuq -->\n<!-- Xuq&#45;&gt;Yuq -->\n<g id=\"edge32\" class=\"edge\">\n<title>Xuq&#45;&gt;Yuq</title>\n<path fill=\"none\" stroke=\"#6e7b8b\" d=\"M485.4689,-78.3566C485.4689,-95.7994 485.4689,-122.2899 485.4689,-142.4826\"/>\n<polygon fill=\"#6e7b8b\" stroke=\"#6e7b8b\" points=\"481.969,-142.6706 485.4689,-152.6706 488.969,-142.6706 481.969,-142.6706\"/>\n</g>\n</g>\n</svg>\n"
     },
     "metadata": {},
     "execution_count": 7
    }
   ]
  },
  {
   "cell_type": "code",
   "metadata": {
    "id": "9hO-yb32FF7C",
    "colab": {
     "base_uri": "https://localhost:8080/",
     "height": 622
    },
    "outputId": "9c97a769-56fb-4b64-b664-8e05dfffb9e1"
   },
   "source": [
    "dot = graphviz.Digraph(format=\"pdf\")\n",
    "\n",
    "source_superscripts = [\"p\"]\n",
    "target_superscripts = [\"q\"]\n",
    "\n",
    "source_subscripts = [\"n\", \"m\"]\n",
    "target_subscripts = [\"n\", \"m\", \"u\"]\n",
    "\n",
    "target_labels = [\"Target Unlabelled\", \"Target Labelled\", \"Target Test\"]\n",
    "alternative_colors = subgraph_colors + [\"/paired9/7\"]\n",
    "target_subscripts = [\"u\", \"n\", \"m\"]\n",
    "\n",
    "\n",
    "for i, (subscript, superscript, labels) in enumerate(\n",
    "    zip(\n",
    "        [source_superscripts, target_superscripts],\n",
    "        [source_superscripts, target_superscripts],\n",
    "        [source_labels, target_labels],\n",
    "    )\n",
    "):\n",
    "    for label in labels:\n",
    "        create_node(dot, param, hidden, superscript[0], color=\"white\", fontcolor=fontcolor, is_greek_letter=True)\n",
    "    if i == 0:\n",
    "        dot.node(f\"blank{i}\", \"\", color=\"white\")\n",
    "        dot.edge(f\"Theta{hidden}{ superscript[0]}\", f\"blank{i}\", style=\"invis\")\n",
    "\n",
    "dot.edge(\n",
    "    f\"{param}{hidden}{source_superscripts[0]}\",\n",
    "    f\"{param}{hidden}{target_superscripts[0]}\",\n",
    "    label=\"?\",\n",
    "    color=edge_color,\n",
    "    fontcolor=edge_color,\n",
    "    constraint=\"false\",\n",
    ")\n",
    "dot.edge(\n",
    "    f\"{param}{hidden}{target_superscripts[0]}\",\n",
    "    f\"{param}{hidden}{source_superscripts[0]}\",\n",
    "    style=\"invis\",\n",
    "    constraint=\"false\",\n",
    ")\n",
    "\n",
    "plot_cluster(\n",
    "    dot,\n",
    "    subscripts=source_subscripts,\n",
    "    superscript=source_superscripts[0],\n",
    "    subgraph_labels=source_labels,\n",
    "    subgraph_colors=subgraph_colors,\n",
    "    theta_subscript=\"Y\",\n",
    ")\n",
    "plot_cluster(\n",
    "    dot,\n",
    "    subscripts=target_subscripts,\n",
    "    superscript=target_superscripts[0],\n",
    "    subgraph_labels=target_labels,\n",
    "    subgraph_colors=alternative_colors,\n",
    "    theta_subscript=\"Y\",\n",
    ")\n",
    "\n",
    "for i, (subscript, superscript, labels) in enumerate(\n",
    "    zip(\n",
    "        [source_subscripts, target_subscripts],\n",
    "        [source_superscripts, target_superscripts],\n",
    "        [source_labels, target_labels],\n",
    "    )\n",
    "):\n",
    "    for label, s in zip(labels, subscript):\n",
    "        create_node(dot, param, observable, superscript[0], color=\"white\", fontcolor=fontcolor, is_greek_letter=True)\n",
    "        dot.edge(\n",
    "            f\"Theta{observable}{superscript[0]}\",\n",
    "            f\"{observable}{s}{superscript[0]}\",\n",
    "            color=edge_color,\n",
    "            fontcolor=edge_color,\n",
    "            constraint=\"false\",\n",
    "        )\n",
    "        dot.edge(f\"{observable}{s}{superscript[0]}\", f\"Theta{observable}{superscript[0]}\", style=\"invis\")\n",
    "\n",
    "\n",
    "file_name = \"hbayes-domain-shift-xy\"\n",
    "dot.render(file_name, view=True)\n",
    "\n",
    "dot"
   ],
   "execution_count": 8,
   "outputs": [
    {
     "output_type": "execute_result",
     "data": {
      "text/plain": [
       "<graphviz.dot.Digraph at 0x7fcd76eda8d0>"
      ],
      "image/svg+xml": "<?xml version=\"1.0\" encoding=\"UTF-8\" standalone=\"no\"?>\n<!DOCTYPE svg PUBLIC \"-//W3C//DTD SVG 1.1//EN\"\n \"http://www.w3.org/Graphics/SVG/1.1/DTD/svg11.dtd\">\n<!-- Generated by graphviz version 2.40.1 (20161225.0304)\n -->\n<!-- Title: %3 Pages: 1 -->\n<svg width=\"971pt\" height=\"436pt\"\n viewBox=\"0.00 0.00 970.83 436.00\" xmlns=\"http://www.w3.org/2000/svg\" xmlns:xlink=\"http://www.w3.org/1999/xlink\">\n<g id=\"graph0\" class=\"graph\" transform=\"scale(1 1) rotate(0) translate(4 432)\">\n<title>%3</title>\n<polygon fill=\"#ffffff\" stroke=\"transparent\" points=\"-4,4 -4,-432 966.8337,-432 966.8337,4 -4,4\"/>\n<g id=\"clust1\" class=\"cluster\">\n<title>cluster_p_0</title>\n<path fill=\"#ffffff\" stroke=\"#fb8072\" d=\"M22.8337,-63C22.8337,-63 130.8337,-63 130.8337,-63 136.8337,-63 142.8337,-69 142.8337,-75 142.8337,-75 142.8337,-351 142.8337,-351 142.8337,-357 136.8337,-363 130.8337,-363 130.8337,-363 22.8337,-363 22.8337,-363 16.8337,-363 10.8337,-357 10.8337,-351 10.8337,-351 10.8337,-75 10.8337,-75 10.8337,-69 16.8337,-63 22.8337,-63\"/>\n<text text-anchor=\"start\" x=\"115.8337\" y=\"-73.2\" font-family=\"Times,serif\" font-size=\"16.00\" fill=\"#fb8072\">N</text>\n<text text-anchor=\"start\" x=\"127.8337\" y=\"-73.2\" font-family=\"Times,serif\" baseline-shift=\"super\" font-size=\"16.00\" fill=\"#fb8072\">p</text>\n</g>\n<g id=\"clust2\" class=\"cluster\">\n<title>cluster_p_1</title>\n<path fill=\"#ffffff\" stroke=\"#1f78b4\" d=\"M162.8337,-63C162.8337,-63 262.8337,-63 262.8337,-63 268.8337,-63 274.8337,-69 274.8337,-75 274.8337,-75 274.8337,-351 274.8337,-351 274.8337,-357 268.8337,-363 262.8337,-363 262.8337,-363 162.8337,-363 162.8337,-363 156.8337,-363 150.8337,-357 150.8337,-351 150.8337,-351 150.8337,-75 150.8337,-75 150.8337,-69 156.8337,-63 162.8337,-63\"/>\n<text text-anchor=\"start\" x=\"244.8337\" y=\"-73.2\" font-family=\"Times,serif\" font-size=\"16.00\" fill=\"#1f78b4\">M</text>\n<text text-anchor=\"start\" x=\"259.8337\" y=\"-73.2\" font-family=\"Times,serif\" baseline-shift=\"super\" font-size=\"16.00\" fill=\"#1f78b4\">p</text>\n</g>\n<g id=\"clust3\" class=\"cluster\">\n<title>cluster_q_0</title>\n<path fill=\"#ffffff\" stroke=\"#fb8072\" d=\"M436.8337,-63C436.8337,-63 582.8337,-63 582.8337,-63 588.8337,-63 594.8337,-69 594.8337,-75 594.8337,-75 594.8337,-351 594.8337,-351 594.8337,-357 588.8337,-363 582.8337,-363 582.8337,-363 436.8337,-363 436.8337,-363 430.8337,-363 424.8337,-357 424.8337,-351 424.8337,-351 424.8337,-75 424.8337,-75 424.8337,-69 430.8337,-63 436.8337,-63\"/>\n<text text-anchor=\"start\" x=\"567.8337\" y=\"-73.2\" font-family=\"Times,serif\" font-size=\"16.00\" fill=\"#fb8072\">U</text>\n<text text-anchor=\"start\" x=\"579.8337\" y=\"-73.2\" font-family=\"Times,serif\" baseline-shift=\"super\" font-size=\"16.00\" fill=\"#fb8072\">q</text>\n</g>\n<g id=\"clust4\" class=\"cluster\">\n<title>cluster_q_1</title>\n<path fill=\"#ffffff\" stroke=\"#1f78b4\" d=\"M614.8337,-63C614.8337,-63 744.8337,-63 744.8337,-63 750.8337,-63 756.8337,-69 756.8337,-75 756.8337,-75 756.8337,-351 756.8337,-351 756.8337,-357 750.8337,-363 744.8337,-363 744.8337,-363 614.8337,-363 614.8337,-363 608.8337,-363 602.8337,-357 602.8337,-351 602.8337,-351 602.8337,-75 602.8337,-75 602.8337,-69 608.8337,-63 614.8337,-63\"/>\n<text text-anchor=\"start\" x=\"729.8337\" y=\"-73.2\" font-family=\"Times,serif\" font-size=\"16.00\" fill=\"#1f78b4\">N</text>\n<text text-anchor=\"start\" x=\"741.8337\" y=\"-73.2\" font-family=\"Times,serif\" baseline-shift=\"super\" font-size=\"16.00\" fill=\"#1f78b4\">q</text>\n</g>\n<g id=\"clust5\" class=\"cluster\">\n<title>cluster_q_2</title>\n<path fill=\"#ffffff\" stroke=\"#fdbf6f\" d=\"M846.8337,-63C846.8337,-63 942.8337,-63 942.8337,-63 948.8337,-63 954.8337,-69 954.8337,-75 954.8337,-75 954.8337,-351 954.8337,-351 954.8337,-357 948.8337,-363 942.8337,-363 942.8337,-363 846.8337,-363 846.8337,-363 840.8337,-363 834.8337,-357 834.8337,-351 834.8337,-351 834.8337,-75 834.8337,-75 834.8337,-69 840.8337,-63 846.8337,-63\"/>\n<text text-anchor=\"start\" x=\"924.8337\" y=\"-73.2\" font-family=\"Times,serif\" font-size=\"16.00\" fill=\"#fdbf6f\">M</text>\n<text text-anchor=\"start\" x=\"939.8337\" y=\"-73.2\" font-family=\"Times,serif\" baseline-shift=\"super\" font-size=\"16.00\" fill=\"#fdbf6f\">q</text>\n</g>\n<!-- ThetaYp -->\n<g id=\"node1\" class=\"node\">\n<title>ThetaYp</title>\n<ellipse fill=\"none\" stroke=\"#ffffff\" cx=\"212.8337\" cy=\"-410\" rx=\"27\" ry=\"18\"/>\n<text text-anchor=\"start\" x=\"200.8337\" y=\"-407.3\" font-family=\"Times,serif\" font-size=\"14.00\" fill=\"#2b2b2b\">Θ</text>\n<text text-anchor=\"start\" x=\"211.8337\" y=\"-407.3\" font-family=\"Times,serif\" baseline-shift=\"sub\" font-size=\"12.00\" fill=\"#2b2b2b\">Y</text>\n<text text-anchor=\"start\" x=\"218.8337\" y=\"-407.3\" font-family=\"Times,serif\" baseline-shift=\"super\" font-size=\"12.00\" fill=\"#2b2b2b\">p</text>\n</g>\n<!-- blank0 -->\n<g id=\"node2\" class=\"node\">\n<title>blank0</title>\n<ellipse fill=\"none\" stroke=\"#ffffff\" cx=\"349.8337\" cy=\"-337\" rx=\"27\" ry=\"18\"/>\n</g>\n<!-- ThetaYp&#45;&gt;blank0 -->\n<!-- ThetaYq -->\n<g id=\"node3\" class=\"node\">\n<title>ThetaYq</title>\n<ellipse fill=\"none\" stroke=\"#ffffff\" cx=\"751.8337\" cy=\"-410\" rx=\"27\" ry=\"18\"/>\n<text text-anchor=\"start\" x=\"739.8337\" y=\"-407.3\" font-family=\"Times,serif\" font-size=\"14.00\" fill=\"#2b2b2b\">Θ</text>\n<text text-anchor=\"start\" x=\"750.8337\" y=\"-407.3\" font-family=\"Times,serif\" baseline-shift=\"sub\" font-size=\"12.00\" fill=\"#2b2b2b\">Y</text>\n<text text-anchor=\"start\" x=\"757.8337\" y=\"-407.3\" font-family=\"Times,serif\" baseline-shift=\"super\" font-size=\"12.00\" fill=\"#2b2b2b\">q</text>\n</g>\n<!-- ThetaYp&#45;&gt;ThetaYq -->\n<g id=\"edge2\" class=\"edge\">\n<title>ThetaYp&#45;&gt;ThetaYq</title>\n<path fill=\"none\" stroke=\"#6e7b8b\" d=\"M239.9322,-410C328.8989,-410 612.1905,-410 714.5144,-410\"/>\n<polygon fill=\"#6e7b8b\" stroke=\"#6e7b8b\" points=\"714.6813,-413.5001 724.6813,-410 714.6813,-406.5001 714.6813,-413.5001\"/>\n<text text-anchor=\"middle\" x=\"482.3337\" y=\"-416.8\" font-family=\"Times,serif\" font-size=\"14.00\" fill=\"#6e7b8b\">?</text>\n</g>\n<!-- Ynp -->\n<g id=\"node4\" class=\"node\">\n<title>Ynp</title>\n<ellipse fill=\"#ffffff\" stroke=\"#beaed4\" cx=\"76.8337\" cy=\"-226\" rx=\"27\" ry=\"18\"/>\n<text text-anchor=\"start\" x=\"66.3337\" y=\"-223.3\" font-family=\"Times,serif\" font-size=\"14.00\" fill=\"#000000\">Y</text>\n<text text-anchor=\"start\" x=\"77.3337\" y=\"-223.3\" font-family=\"Times,serif\" baseline-shift=\"sub\" font-size=\"10.00\" fill=\"#000000\">n</text>\n<text text-anchor=\"start\" x=\"82.3337\" y=\"-223.3\" font-family=\"Times,serif\" baseline-shift=\"super\" font-size=\"10.00\" fill=\"#000000\">p</text>\n</g>\n<!-- ThetaYp&#45;&gt;Ynp -->\n<g id=\"edge4\" class=\"edge\">\n<title>ThetaYp&#45;&gt;Ynp</title>\n<path fill=\"none\" stroke=\"#6e7b8b\" d=\"M185.9491,-407.8267C135.9055,-403.1636 31.5566,-390.327 9.8337,-363 -19.0534,-326.6606 23.0566,-275.8349 52.4634,-247.4119\"/>\n<polygon fill=\"#6e7b8b\" stroke=\"#6e7b8b\" points=\"55.0861,-249.7505 59.9828,-240.3551 50.2958,-244.6462 55.0861,-249.7505\"/>\n</g>\n<!-- Source Train -->\n<g id=\"node5\" class=\"node\">\n<title>Source Train</title>\n<ellipse fill=\"none\" stroke=\"#ffffff\" cx=\"76.8337\" cy=\"-337\" rx=\"58.4896\" ry=\"18\"/>\n<text text-anchor=\"middle\" x=\"76.8337\" y=\"-333.3\" font-family=\"Times,serif\" font-size=\"14.00\" fill=\"#fb8072\">Source Train</text>\n</g>\n<!-- ThetaYp&#45;&gt;Source Train -->\n<!-- Ymp -->\n<g id=\"node7\" class=\"node\">\n<title>Ymp</title>\n<ellipse fill=\"#ffffff\" stroke=\"#beaed4\" cx=\"212.8337\" cy=\"-226\" rx=\"27\" ry=\"18\"/>\n<text text-anchor=\"start\" x=\"201.3337\" y=\"-223.3\" font-family=\"Times,serif\" font-size=\"14.00\" fill=\"#000000\">Y</text>\n<text text-anchor=\"start\" x=\"212.3337\" y=\"-223.3\" font-family=\"Times,serif\" baseline-shift=\"sub\" font-size=\"10.00\" fill=\"#000000\">m</text>\n<text text-anchor=\"start\" x=\"219.3337\" y=\"-223.3\" font-family=\"Times,serif\" baseline-shift=\"super\" font-size=\"10.00\" fill=\"#000000\">p</text>\n</g>\n<!-- ThetaYp&#45;&gt;Ymp -->\n<g id=\"edge10\" class=\"edge\">\n<title>ThetaYp&#45;&gt;Ymp</title>\n<path fill=\"none\" stroke=\"#6e7b8b\" d=\"M235.2683,-399.9772C249.7432,-392.1751 267.3907,-379.8325 275.8337,-363 284.6015,-345.5201 281.5699,-337.6953 275.8337,-319 267.7224,-292.5636 249.2684,-266.8808 234.4177,-249.2275\"/>\n<polygon fill=\"#6e7b8b\" stroke=\"#6e7b8b\" points=\"236.6781,-246.4926 227.478,-241.2382 231.3934,-251.083 236.6781,-246.4926\"/>\n</g>\n<!-- Source Test -->\n<g id=\"node8\" class=\"node\">\n<title>Source Test</title>\n<ellipse fill=\"none\" stroke=\"#ffffff\" cx=\"212.8337\" cy=\"-337\" rx=\"53.8905\" ry=\"18\"/>\n<text text-anchor=\"middle\" x=\"212.8337\" y=\"-333.3\" font-family=\"Times,serif\" font-size=\"14.00\" fill=\"#1f78b4\">Source Test</text>\n</g>\n<!-- ThetaYp&#45;&gt;Source Test -->\n<!-- ThetaYq&#45;&gt;ThetaYp -->\n<!-- Yuq -->\n<g id=\"node10\" class=\"node\">\n<title>Yuq</title>\n<ellipse fill=\"#ffffff\" stroke=\"#beaed4\" cx=\"509.8337\" cy=\"-226\" rx=\"27\" ry=\"18\"/>\n<text text-anchor=\"start\" x=\"499.3337\" y=\"-223.3\" font-family=\"Times,serif\" font-size=\"14.00\" fill=\"#000000\">Y</text>\n<text text-anchor=\"start\" x=\"510.3337\" y=\"-223.3\" font-family=\"Times,serif\" baseline-shift=\"sub\" font-size=\"10.00\" fill=\"#000000\">u</text>\n<text text-anchor=\"start\" x=\"515.3337\" y=\"-223.3\" font-family=\"Times,serif\" baseline-shift=\"super\" font-size=\"10.00\" fill=\"#000000\">q</text>\n</g>\n<!-- ThetaYq&#45;&gt;Yuq -->\n<g id=\"edge16\" class=\"edge\">\n<title>ThetaYq&#45;&gt;Yuq</title>\n<path fill=\"none\" stroke=\"#6e7b8b\" d=\"M724.7168,-408.1256C649.6815,-402.6657 443.5225,-385.7112 423.8337,-363 390.7955,-324.8902 446.4435,-272.8225 482.6002,-245.1393\"/>\n<polygon fill=\"#6e7b8b\" stroke=\"#6e7b8b\" points=\"484.9439,-247.7575 490.8645,-238.9713 480.757,-242.1476 484.9439,-247.7575\"/>\n</g>\n<!-- Target Unlabelled -->\n<g id=\"node11\" class=\"node\">\n<title>Target Unlabelled</title>\n<ellipse fill=\"none\" stroke=\"#ffffff\" cx=\"509.8337\" cy=\"-337\" rx=\"77.1866\" ry=\"18\"/>\n<text text-anchor=\"middle\" x=\"509.8337\" y=\"-333.3\" font-family=\"Times,serif\" font-size=\"14.00\" fill=\"#fb8072\">Target Unlabelled</text>\n</g>\n<!-- ThetaYq&#45;&gt;Target Unlabelled -->\n<!-- Ynq -->\n<g id=\"node13\" class=\"node\">\n<title>Ynq</title>\n<ellipse fill=\"#ffffff\" stroke=\"#beaed4\" cx=\"690.8337\" cy=\"-226\" rx=\"27\" ry=\"18\"/>\n<text text-anchor=\"start\" x=\"680.3337\" y=\"-223.3\" font-family=\"Times,serif\" font-size=\"14.00\" fill=\"#000000\">Y</text>\n<text text-anchor=\"start\" x=\"691.3337\" y=\"-223.3\" font-family=\"Times,serif\" baseline-shift=\"sub\" font-size=\"10.00\" fill=\"#000000\">n</text>\n<text text-anchor=\"start\" x=\"696.3337\" y=\"-223.3\" font-family=\"Times,serif\" baseline-shift=\"super\" font-size=\"10.00\" fill=\"#000000\">q</text>\n</g>\n<!-- ThetaYq&#45;&gt;Ynq -->\n<g id=\"edge22\" class=\"edge\">\n<title>ThetaYq&#45;&gt;Ynq</title>\n<path fill=\"none\" stroke=\"#6e7b8b\" d=\"M756.8526,-392.0758C761.2158,-373.3671 765.7108,-343.4098 757.8337,-319 749.0893,-291.9026 729.189,-266.0429 713.3352,-248.5026\"/>\n<polygon fill=\"#6e7b8b\" stroke=\"#6e7b8b\" points=\"715.7699,-245.9814 706.3904,-241.0544 710.6502,-250.7552 715.7699,-245.9814\"/>\n</g>\n<!-- Target Labelled -->\n<g id=\"node14\" class=\"node\">\n<title>Target Labelled</title>\n<ellipse fill=\"none\" stroke=\"#ffffff\" cx=\"679.8337\" cy=\"-337\" rx=\"68.7879\" ry=\"18\"/>\n<text text-anchor=\"middle\" x=\"679.8337\" y=\"-333.3\" font-family=\"Times,serif\" font-size=\"14.00\" fill=\"#1f78b4\">Target Labelled</text>\n</g>\n<!-- ThetaYq&#45;&gt;Target Labelled -->\n<!-- Ymq -->\n<g id=\"node16\" class=\"node\">\n<title>Ymq</title>\n<ellipse fill=\"#ffffff\" stroke=\"#beaed4\" cx=\"869.8337\" cy=\"-226\" rx=\"27\" ry=\"18\"/>\n<text text-anchor=\"start\" x=\"858.3337\" y=\"-223.3\" font-family=\"Times,serif\" font-size=\"14.00\" fill=\"#000000\">Y</text>\n<text text-anchor=\"start\" x=\"869.3337\" y=\"-223.3\" font-family=\"Times,serif\" baseline-shift=\"sub\" font-size=\"10.00\" fill=\"#000000\">m</text>\n<text text-anchor=\"start\" x=\"876.3337\" y=\"-223.3\" font-family=\"Times,serif\" baseline-shift=\"super\" font-size=\"10.00\" fill=\"#000000\">q</text>\n</g>\n<!-- ThetaYq&#45;&gt;Ymq -->\n<g id=\"edge28\" class=\"edge\">\n<title>ThetaYq&#45;&gt;Ymq</title>\n<path fill=\"none\" stroke=\"#6e7b8b\" d=\"M762.5135,-393.3467C783.2595,-360.9971 829.1169,-289.4907 853.6323,-251.2632\"/>\n<polygon fill=\"#6e7b8b\" stroke=\"#6e7b8b\" points=\"856.6408,-253.0554 859.093,-242.7482 850.7484,-249.2765 856.6408,-253.0554\"/>\n</g>\n<!-- Target Test -->\n<g id=\"node17\" class=\"node\">\n<title>Target Test</title>\n<ellipse fill=\"none\" stroke=\"#ffffff\" cx=\"894.8337\" cy=\"-337\" rx=\"51.9908\" ry=\"18\"/>\n<text text-anchor=\"middle\" x=\"894.8337\" y=\"-333.3\" font-family=\"Times,serif\" font-size=\"14.00\" fill=\"#fdbf6f\">Target Test</text>\n</g>\n<!-- ThetaYq&#45;&gt;Target Test -->\n<!-- Xnp -->\n<g id=\"node6\" class=\"node\">\n<title>Xnp</title>\n<ellipse fill=\"#ccebc5\" stroke=\"#b2df8a\" cx=\"76.8337\" cy=\"-115\" rx=\"27\" ry=\"18\"/>\n<text text-anchor=\"start\" x=\"66.3337\" y=\"-112.3\" font-family=\"Times,serif\" font-size=\"14.00\" fill=\"#000000\">X</text>\n<text text-anchor=\"start\" x=\"77.3337\" y=\"-112.3\" font-family=\"Times,serif\" baseline-shift=\"sub\" font-size=\"10.00\" fill=\"#000000\">n</text>\n<text text-anchor=\"start\" x=\"82.3337\" y=\"-112.3\" font-family=\"Times,serif\" baseline-shift=\"super\" font-size=\"10.00\" fill=\"#000000\">p</text>\n</g>\n<!-- Ynp&#45;&gt;Xnp -->\n<!-- Ynp&#45;&gt;Xnp -->\n<!-- Source Train&#45;&gt;Ynp -->\n<!-- Xnp&#45;&gt;Ynp -->\n<g id=\"edge8\" class=\"edge\">\n<title>Xnp&#45;&gt;Ynp</title>\n<path fill=\"none\" stroke=\"#6e7b8b\" d=\"M76.8337,-133.3566C76.8337,-150.7994 76.8337,-177.2899 76.8337,-197.4826\"/>\n<polygon fill=\"#6e7b8b\" stroke=\"#6e7b8b\" points=\"73.3338,-197.6706 76.8337,-207.6706 80.3338,-197.6706 73.3338,-197.6706\"/>\n</g>\n<!-- ThetaXp -->\n<g id=\"node19\" class=\"node\">\n<title>ThetaXp</title>\n<ellipse fill=\"none\" stroke=\"#ffffff\" cx=\"166.8337\" cy=\"-18\" rx=\"27\" ry=\"18\"/>\n<text text-anchor=\"start\" x=\"154.8337\" y=\"-15.3\" font-family=\"Times,serif\" font-size=\"14.00\" fill=\"#2b2b2b\">Θ</text>\n<text text-anchor=\"start\" x=\"165.8337\" y=\"-15.3\" font-family=\"Times,serif\" baseline-shift=\"sub\" font-size=\"12.00\" fill=\"#2b2b2b\">X</text>\n<text text-anchor=\"start\" x=\"172.8337\" y=\"-15.3\" font-family=\"Times,serif\" baseline-shift=\"super\" font-size=\"12.00\" fill=\"#2b2b2b\">p</text>\n</g>\n<!-- Xnp&#45;&gt;ThetaXp -->\n<!-- Xmp -->\n<g id=\"node9\" class=\"node\">\n<title>Xmp</title>\n<ellipse fill=\"#ccebc5\" stroke=\"#b2df8a\" cx=\"212.8337\" cy=\"-115\" rx=\"27\" ry=\"18\"/>\n<text text-anchor=\"start\" x=\"201.3337\" y=\"-112.3\" font-family=\"Times,serif\" font-size=\"14.00\" fill=\"#000000\">X</text>\n<text text-anchor=\"start\" x=\"212.3337\" y=\"-112.3\" font-family=\"Times,serif\" baseline-shift=\"sub\" font-size=\"10.00\" fill=\"#000000\">m</text>\n<text text-anchor=\"start\" x=\"219.3337\" y=\"-112.3\" font-family=\"Times,serif\" baseline-shift=\"super\" font-size=\"10.00\" fill=\"#000000\">p</text>\n</g>\n<!-- Ymp&#45;&gt;Xmp -->\n<!-- Ymp&#45;&gt;Xmp -->\n<!-- Source Test&#45;&gt;Ymp -->\n<!-- Xmp&#45;&gt;Ymp -->\n<g id=\"edge14\" class=\"edge\">\n<title>Xmp&#45;&gt;Ymp</title>\n<path fill=\"none\" stroke=\"#6e7b8b\" d=\"M212.8337,-133.3566C212.8337,-150.7994 212.8337,-177.2899 212.8337,-197.4826\"/>\n<polygon fill=\"#6e7b8b\" stroke=\"#6e7b8b\" points=\"209.3338,-197.6706 212.8337,-207.6706 216.3338,-197.6706 209.3338,-197.6706\"/>\n</g>\n<!-- Xmp&#45;&gt;ThetaXp -->\n<!-- Xuq -->\n<g id=\"node12\" class=\"node\">\n<title>Xuq</title>\n<ellipse fill=\"#ccebc5\" stroke=\"#b2df8a\" cx=\"509.8337\" cy=\"-115\" rx=\"27\" ry=\"18\"/>\n<text text-anchor=\"start\" x=\"499.3337\" y=\"-112.3\" font-family=\"Times,serif\" font-size=\"14.00\" fill=\"#000000\">X</text>\n<text text-anchor=\"start\" x=\"510.3337\" y=\"-112.3\" font-family=\"Times,serif\" baseline-shift=\"sub\" font-size=\"10.00\" fill=\"#000000\">u</text>\n<text text-anchor=\"start\" x=\"515.3337\" y=\"-112.3\" font-family=\"Times,serif\" baseline-shift=\"super\" font-size=\"10.00\" fill=\"#000000\">q</text>\n</g>\n<!-- Yuq&#45;&gt;Xuq -->\n<!-- Yuq&#45;&gt;Xuq -->\n<!-- Target Unlabelled&#45;&gt;Yuq -->\n<!-- Xuq&#45;&gt;Yuq -->\n<g id=\"edge20\" class=\"edge\">\n<title>Xuq&#45;&gt;Yuq</title>\n<path fill=\"none\" stroke=\"#6e7b8b\" d=\"M509.8337,-133.3566C509.8337,-150.7994 509.8337,-177.2899 509.8337,-197.4826\"/>\n<polygon fill=\"#6e7b8b\" stroke=\"#6e7b8b\" points=\"506.3338,-197.6706 509.8337,-207.6706 513.3338,-197.6706 506.3338,-197.6706\"/>\n</g>\n<!-- ThetaXq -->\n<g id=\"node20\" class=\"node\">\n<title>ThetaXq</title>\n<ellipse fill=\"none\" stroke=\"#ffffff\" cx=\"690.8337\" cy=\"-18\" rx=\"27\" ry=\"18\"/>\n<text text-anchor=\"start\" x=\"678.8337\" y=\"-15.3\" font-family=\"Times,serif\" font-size=\"14.00\" fill=\"#2b2b2b\">Θ</text>\n<text text-anchor=\"start\" x=\"689.8337\" y=\"-15.3\" font-family=\"Times,serif\" baseline-shift=\"sub\" font-size=\"12.00\" fill=\"#2b2b2b\">X</text>\n<text text-anchor=\"start\" x=\"696.8337\" y=\"-15.3\" font-family=\"Times,serif\" baseline-shift=\"super\" font-size=\"12.00\" fill=\"#2b2b2b\">q</text>\n</g>\n<!-- Xuq&#45;&gt;ThetaXq -->\n<!-- Xnq -->\n<g id=\"node15\" class=\"node\">\n<title>Xnq</title>\n<ellipse fill=\"#ccebc5\" stroke=\"#b2df8a\" cx=\"690.8337\" cy=\"-115\" rx=\"27\" ry=\"18\"/>\n<text text-anchor=\"start\" x=\"680.3337\" y=\"-112.3\" font-family=\"Times,serif\" font-size=\"14.00\" fill=\"#000000\">X</text>\n<text text-anchor=\"start\" x=\"691.3337\" y=\"-112.3\" font-family=\"Times,serif\" baseline-shift=\"sub\" font-size=\"10.00\" fill=\"#000000\">n</text>\n<text text-anchor=\"start\" x=\"696.3337\" y=\"-112.3\" font-family=\"Times,serif\" baseline-shift=\"super\" font-size=\"10.00\" fill=\"#000000\">q</text>\n</g>\n<!-- Ynq&#45;&gt;Xnq -->\n<!-- Ynq&#45;&gt;Xnq -->\n<!-- Target Labelled&#45;&gt;Ynq -->\n<!-- Xnq&#45;&gt;Ynq -->\n<g id=\"edge26\" class=\"edge\">\n<title>Xnq&#45;&gt;Ynq</title>\n<path fill=\"none\" stroke=\"#6e7b8b\" d=\"M690.8337,-133.3566C690.8337,-150.7994 690.8337,-177.2899 690.8337,-197.4826\"/>\n<polygon fill=\"#6e7b8b\" stroke=\"#6e7b8b\" points=\"687.3338,-197.6706 690.8337,-207.6706 694.3338,-197.6706 687.3338,-197.6706\"/>\n</g>\n<!-- Xnq&#45;&gt;ThetaXq -->\n<!-- Xmq -->\n<g id=\"node18\" class=\"node\">\n<title>Xmq</title>\n<ellipse fill=\"#ccebc5\" stroke=\"#b2df8a\" cx=\"869.8337\" cy=\"-115\" rx=\"27\" ry=\"18\"/>\n<text text-anchor=\"start\" x=\"858.3337\" y=\"-112.3\" font-family=\"Times,serif\" font-size=\"14.00\" fill=\"#000000\">X</text>\n<text text-anchor=\"start\" x=\"869.3337\" y=\"-112.3\" font-family=\"Times,serif\" baseline-shift=\"sub\" font-size=\"10.00\" fill=\"#000000\">m</text>\n<text text-anchor=\"start\" x=\"876.3337\" y=\"-112.3\" font-family=\"Times,serif\" baseline-shift=\"super\" font-size=\"10.00\" fill=\"#000000\">q</text>\n</g>\n<!-- Ymq&#45;&gt;Xmq -->\n<!-- Ymq&#45;&gt;Xmq -->\n<!-- Target Test&#45;&gt;Ymq -->\n<!-- Xmq&#45;&gt;Ymq -->\n<g id=\"edge32\" class=\"edge\">\n<title>Xmq&#45;&gt;Ymq</title>\n<path fill=\"none\" stroke=\"#6e7b8b\" d=\"M869.8337,-133.3566C869.8337,-150.7994 869.8337,-177.2899 869.8337,-197.4826\"/>\n<polygon fill=\"#6e7b8b\" stroke=\"#6e7b8b\" points=\"866.3338,-197.6706 869.8337,-207.6706 873.3338,-197.6706 866.3338,-197.6706\"/>\n</g>\n<!-- Xmq&#45;&gt;ThetaXq -->\n<!-- ThetaXp&#45;&gt;Xnp -->\n<g id=\"edge34\" class=\"edge\">\n<title>ThetaXp&#45;&gt;Xnp</title>\n<path fill=\"none\" stroke=\"#6e7b8b\" d=\"M152.4095,-33.5461C137.8584,-49.2289 115.2145,-73.634 98.5038,-91.6445\"/>\n<polygon fill=\"#6e7b8b\" stroke=\"#6e7b8b\" points=\"95.5297,-89.704 91.2938,-99.4153 100.6611,-94.4652 95.5297,-89.704\"/>\n</g>\n<!-- ThetaXp&#45;&gt;Xmp -->\n<g id=\"edge36\" class=\"edge\">\n<title>ThetaXp&#45;&gt;Xmp</title>\n<path fill=\"none\" stroke=\"#6e7b8b\" d=\"M181.9055,-33.0478C187.2818,-39.1263 192.9594,-46.478 196.8337,-54 202.0601,-64.147 205.6831,-76.1455 208.142,-86.805\"/>\n<polygon fill=\"#6e7b8b\" stroke=\"#6e7b8b\" points=\"204.7768,-87.8156 210.2291,-96.8998 211.6319,-86.3983 204.7768,-87.8156\"/>\n</g>\n<!-- ThetaXq&#45;&gt;Xuq -->\n<g id=\"edge38\" class=\"edge\">\n<title>ThetaXq&#45;&gt;Xuq</title>\n<path fill=\"none\" stroke=\"#6e7b8b\" d=\"M668.2914,-28.4554C649.521,-37.2971 622.1863,-50.4886 598.8337,-63 578.4702,-73.9099 556.0124,-87.0398 538.7506,-97.3764\"/>\n<polygon fill=\"#6e7b8b\" stroke=\"#6e7b8b\" points=\"536.5039,-94.6436 529.7417,-102.7998 540.1142,-100.6408 536.5039,-94.6436\"/>\n</g>\n<!-- ThetaXq&#45;&gt;Xnq -->\n<g id=\"edge40\" class=\"edge\">\n<title>ThetaXq&#45;&gt;Xnq</title>\n<path fill=\"none\" stroke=\"#6e7b8b\" d=\"M699.013,-35.1945C701.3812,-41.0283 703.6467,-47.6726 704.8337,-54 706.9441,-65.2492 704.9474,-77.5687 701.8663,-88.1731\"/>\n<polygon fill=\"#6e7b8b\" stroke=\"#6e7b8b\" points=\"698.5247,-87.1301 698.6786,-97.7239 705.1646,-89.3463 698.5247,-87.1301\"/>\n</g>\n<!-- ThetaXq&#45;&gt;Xmq -->\n<g id=\"edge42\" class=\"edge\">\n<title>ThetaXq&#45;&gt;Xmq</title>\n<path fill=\"none\" stroke=\"#6e7b8b\" d=\"M717.3797,-21.5748C755.1894,-27.1246 822.0592,-38.778 840.8337,-54 851.2942,-62.4812 858.2056,-75.6291 862.6471,-87.5499\"/>\n<polygon fill=\"#6e7b8b\" stroke=\"#6e7b8b\" points=\"859.3575,-88.7502 865.8206,-97.1453 866.0035,-86.5521 859.3575,-88.7502\"/>\n</g>\n</g>\n</svg>\n"
     },
     "metadata": {},
     "execution_count": 8
    }
   ]
  },
  {
   "cell_type": "code",
   "metadata": {
    "id": "MDO7i9-QQojm"
   },
   "source": [
    ""
   ],
   "execution_count": null,
   "outputs": []
  }
 ]
}