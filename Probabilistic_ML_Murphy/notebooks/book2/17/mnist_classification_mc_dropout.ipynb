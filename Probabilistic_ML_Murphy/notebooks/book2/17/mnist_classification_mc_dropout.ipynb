{
 "cells": [
  {
   "cell_type": "code",
   "execution_count": 1,
   "id": "b781dfc2",
   "metadata": {
    "id": "b781dfc2"
   },
   "outputs": [],
   "source": [
    "try:\n",
    "    import flax.linen as nn\n",
    "except ModuleNotFoundError:\n",
    "    %pip install -qq flax\n",
    "    import flax.linen as nn\n",
    "\n",
    "from flax.core import unfreeze\n",
    "\n",
    "from flax.training import train_state\n",
    "\n",
    "import jax\n",
    "import jax.numpy as jnp\n",
    "from jax.config import config\n",
    "\n",
    "try:\n",
    "    import optax\n",
    "except ModuleNotFoundError:\n",
    "    %pip install -qq optax\n",
    "    import optax\n",
    "\n",
    "import matplotlib.pyplot as plt\n",
    "import seaborn as sns\n",
    "from matplotlib.offsetbox import OffsetImage, AnnotationBbox\n",
    "\n",
    "try:\n",
    "    from probml_utils import latexify, savefig, is_latexify_enabled\n",
    "except ModuleNotFoundError:\n",
    "    %pip install -qq git+https://github.com/probml/probml-utils.git\n",
    "    from probml_utils import latexify, savefig, is_latexify_enabled\n",
    "\n",
    "from scipy.ndimage import rotate\n",
    "\n",
    "try:\n",
    "    import tensorflow.keras.datasets as tfds\n",
    "except ModuleNotFoundError:\n",
    "    %pip install -qq tensorflow\n",
    "    import tensorflow.keras.datasets as tfds\n",
    "\n",
    "from functools import partial\n",
    "\n",
    "try:\n",
    "    from tqdm import tqdm\n",
    "except ModuleNotFoundError:\n",
    "    %pip install tqdm\n",
    "    from tqdm import tqdm\n",
    "\n",
    "import pandas as pd"
   ]
  },
  {
   "cell_type": "code",
   "execution_count": 2,
   "id": "d6f445f8",
   "metadata": {
    "id": "d6f445f8"
   },
   "outputs": [],
   "source": [
    "config.update(\"jax_enable_x64\", True)"
   ]
  },
  {
   "cell_type": "code",
   "execution_count": 3,
   "id": "AosMkGEk-LVP",
   "metadata": {
    "id": "AosMkGEk-LVP"
   },
   "outputs": [],
   "source": [
    "# %env LATEXIFY= 1\n",
    "# %env FIG_DIR=figures/"
   ]
  },
  {
   "cell_type": "code",
   "execution_count": 4,
   "id": "F1KKkkPzDqUd",
   "metadata": {
    "colab": {
     "base_uri": "https://localhost:8080/"
    },
    "id": "F1KKkkPzDqUd",
    "outputId": "b98b9c7d-b62a-4bac-e79a-1f868c6d7e79"
   },
   "outputs": [
    {
     "name": "stderr",
     "output_type": "stream",
     "text": [
      "/home/rohit_khoiwal/anaconda3/lib/python3.9/site-packages/probml_utils/plotting.py:26: UserWarning: LATEXIFY environment variable not set, not latexifying\n",
      "  warnings.warn(\"LATEXIFY environment variable not set, not latexifying\")\n"
     ]
    }
   ],
   "source": [
    "latexify(width_scale_factor=2, fig_height=2)"
   ]
  },
  {
   "cell_type": "code",
   "execution_count": 5,
   "id": "5351b28e",
   "metadata": {
    "id": "5351b28e"
   },
   "outputs": [],
   "source": [
    "class LeNet(nn.Module):\n",
    "    @nn.compact\n",
    "    def __call__(self, x, deterministic):\n",
    "\n",
    "        # 1 layer\n",
    "        x = nn.Conv(features=6, kernel_size=(5, 5), name=\"conv2d_1\")(x)\n",
    "        x = nn.relu(x)\n",
    "        x = nn.avg_pool(x, window_shape=(2, 2))\n",
    "\n",
    "        # 2 layer\n",
    "        x = nn.Conv(features=16, kernel_size=(5, 5), name=\"conv2d_2\")(x)\n",
    "        x = nn.relu(x)\n",
    "        x = nn.avg_pool(x, window_shape=(2, 2))\n",
    "\n",
    "        # 3 layer\n",
    "        x = nn.Conv(features=120, kernel_size=(5, 5), name=\"conv2d_3\")(x)\n",
    "        x = nn.relu(x)\n",
    "        x = nn.avg_pool(x, window_shape=(2, 2))\n",
    "\n",
    "        x = x.reshape((x.shape[0], -1))  # flatten\n",
    "        # 4 fully connected layer\n",
    "        x = nn.Dense(84, name=\"Dense_1_84\")(x)\n",
    "        x = nn.relu(x)\n",
    "        x = nn.Dropout(rate=0.5, deterministic=deterministic)(x)\n",
    "\n",
    "        # 5 fully connected layer\n",
    "        x = nn.Dense(10, name=\"Dense_2_10\")(x)\n",
    "\n",
    "        return x"
   ]
  },
  {
   "cell_type": "code",
   "execution_count": 6,
   "id": "51c7bfdc",
   "metadata": {
    "id": "51c7bfdc"
   },
   "outputs": [],
   "source": [
    "def get_datasets():\n",
    "    train_dataset, test_dataset = tfds.mnist.load_data()\n",
    "    X_train, y_train = train_dataset\n",
    "    x_test, y_test = test_dataset\n",
    "\n",
    "    X_train = jnp.array(X_train / 255)\n",
    "    x_test = jnp.array(x_test / 255)\n",
    "\n",
    "    X_train = X_train[..., jnp.newaxis]\n",
    "    x_test = x_test[..., jnp.newaxis]\n",
    "\n",
    "    return [X_train, jnp.array(y_train)], [x_test, jnp.array(y_test)]"
   ]
  },
  {
   "cell_type": "code",
   "execution_count": 7,
   "id": "fa5c3c30",
   "metadata": {
    "id": "fa5c3c30"
   },
   "outputs": [
    {
     "name": "stderr",
     "output_type": "stream",
     "text": [
      "WARNING:absl:No GPU/TPU found, falling back to CPU. (Set TF_CPP_MIN_LOG_LEVEL=0 and rerun for more info.)\n"
     ]
    }
   ],
   "source": [
    "def cross_entropy_loss(params, x, y, deterministic, rng=jax.random.PRNGKey(0)):\n",
    "    labels_onehot = jax.nn.one_hot(y, num_classes=10)\n",
    "    logits = model.apply(params, x, deterministic=deterministic, rngs={\"dropout\": rng})\n",
    "    return (\n",
    "        jnp.mean(optax.softmax_cross_entropy(logits=logits, labels=labels_onehot)),\n",
    "        logits,\n",
    "    )"
   ]
  },
  {
   "cell_type": "code",
   "execution_count": 8,
   "id": "b413f812",
   "metadata": {
    "id": "b413f812"
   },
   "outputs": [],
   "source": [
    "def fit(params, X, Y, batch_size, learning_rate=0.01, epochs=10, verbose=False):\n",
    "    # opt = optax.adamw(learning_rate=learning_rate)\n",
    "    opt = optax.sgd(learning_rate, 0.75)\n",
    "    opt_state = opt.init(params)\n",
    "\n",
    "    lg_fn = jax.value_and_grad(cross_entropy_loss, has_aux=True)\n",
    "\n",
    "    rng, _ = jax.random.split(jax.random.PRNGKey(0))\n",
    "    losses = []\n",
    "\n",
    "    train_ds_size = len(X)\n",
    "    steps_per_epoch = train_ds_size // batch_size\n",
    "\n",
    "    for i in range(epochs):\n",
    "        rng, _ = jax.random.split(rng)\n",
    "\n",
    "        @jax.jit\n",
    "        def one_step(params, x, y, opt_state, rng):\n",
    "            (loss_val, logits), grads = lg_fn(params, x, y, False, rng=rng)\n",
    "            updates, opt_state = opt.update(grads, opt_state, params)\n",
    "            params = optax.apply_updates(params, updates)\n",
    "            acc_val = jnp.mean(jnp.argmax(logits, -1) == y)\n",
    "            return params, opt_state, loss_val, logits, acc_val\n",
    "\n",
    "        # _ , rng = jax.random.split(rng)\n",
    "        perms = jax.random.permutation(rng, train_ds_size)\n",
    "        perms = perms[: steps_per_epoch * batch_size]  # skip incomplete batch\n",
    "        perms = perms.reshape((steps_per_epoch, batch_size))\n",
    "        accuracy = []\n",
    "        losses = []\n",
    "\n",
    "        for perm in tqdm(perms):\n",
    "            rng, _ = jax.random.split(rng)\n",
    "            x, y = X[perm], Y[perm]\n",
    "            params, opt_state, loss_val, logits, acc_val = one_step(params, x, y, opt_state, rng)\n",
    "            losses.append(loss_val)\n",
    "            accuracy.append(acc_val)\n",
    "\n",
    "        # if verbose and i % (epochs/10) == 0:\n",
    "        print(\n",
    "            \"train epoch: %d, loss: %.4f, accuracy: %.2f\"\n",
    "            % (i, jnp.mean(jnp.array(losses)), jnp.mean(jnp.array(accuracy)))\n",
    "        )\n",
    "    return params, losses"
   ]
  },
  {
   "cell_type": "code",
   "execution_count": 9,
   "id": "36bc0c7d",
   "metadata": {
    "id": "36bc0c7d"
   },
   "outputs": [],
   "source": [
    "train_ds, test_ds = get_datasets()\n",
    "X_train, y_train = train_ds\n",
    "x_test, y_test = test_ds"
   ]
  },
  {
   "cell_type": "code",
   "execution_count": 10,
   "id": "3a3f64c6",
   "metadata": {
    "id": "3a3f64c6"
   },
   "outputs": [],
   "source": [
    "batch = 32\n",
    "rng = jax.random.PRNGKey(0)\n",
    "rng, init_rng = jax.random.split(rng)\n",
    "model = LeNet()\n",
    "params = model.init(init_rng, jnp.ones([1, 28, 28, 1]), deterministic=True)"
   ]
  },
  {
   "cell_type": "code",
   "execution_count": 11,
   "id": "eab20c3d",
   "metadata": {
    "colab": {
     "base_uri": "https://localhost:8080/"
    },
    "id": "eab20c3d",
    "outputId": "81150ab4-6297-4894-b6cb-16c9fdd7a3f1"
   },
   "outputs": [
    {
     "name": "stderr",
     "output_type": "stream",
     "text": [
      "100%|██████████| 1875/1875 [01:36<00:00, 19.52it/s]\n"
     ]
    },
    {
     "name": "stdout",
     "output_type": "stream",
     "text": [
      "train epoch: 0, loss: 0.3680, accuracy: 0.89\n"
     ]
    },
    {
     "name": "stderr",
     "output_type": "stream",
     "text": [
      "100%|██████████| 1875/1875 [01:35<00:00, 19.57it/s]\n"
     ]
    },
    {
     "name": "stdout",
     "output_type": "stream",
     "text": [
      "train epoch: 1, loss: 0.1323, accuracy: 0.96\n"
     ]
    },
    {
     "name": "stderr",
     "output_type": "stream",
     "text": [
      "100%|██████████| 1875/1875 [01:35<00:00, 19.66it/s]\n"
     ]
    },
    {
     "name": "stdout",
     "output_type": "stream",
     "text": [
      "train epoch: 2, loss: 0.0984, accuracy: 0.97\n"
     ]
    },
    {
     "name": "stderr",
     "output_type": "stream",
     "text": [
      "100%|██████████| 1875/1875 [01:35<00:00, 19.68it/s]\n"
     ]
    },
    {
     "name": "stdout",
     "output_type": "stream",
     "text": [
      "train epoch: 3, loss: 0.0805, accuracy: 0.98\n"
     ]
    },
    {
     "name": "stderr",
     "output_type": "stream",
     "text": [
      "100%|██████████| 1875/1875 [01:35<00:00, 19.63it/s]\n"
     ]
    },
    {
     "name": "stdout",
     "output_type": "stream",
     "text": [
      "train epoch: 4, loss: 0.0694, accuracy: 0.98\n"
     ]
    },
    {
     "name": "stderr",
     "output_type": "stream",
     "text": [
      "100%|██████████| 1875/1875 [01:35<00:00, 19.67it/s]\n"
     ]
    },
    {
     "name": "stdout",
     "output_type": "stream",
     "text": [
      "train epoch: 5, loss: 0.0611, accuracy: 0.98\n"
     ]
    },
    {
     "name": "stderr",
     "output_type": "stream",
     "text": [
      "100%|██████████| 1875/1875 [01:35<00:00, 19.67it/s]\n"
     ]
    },
    {
     "name": "stdout",
     "output_type": "stream",
     "text": [
      "train epoch: 6, loss: 0.0560, accuracy: 0.98\n"
     ]
    },
    {
     "name": "stderr",
     "output_type": "stream",
     "text": [
      "100%|██████████| 1875/1875 [01:35<00:00, 19.68it/s]\n"
     ]
    },
    {
     "name": "stdout",
     "output_type": "stream",
     "text": [
      "train epoch: 7, loss: 0.0490, accuracy: 0.99\n"
     ]
    },
    {
     "name": "stderr",
     "output_type": "stream",
     "text": [
      "100%|██████████| 1875/1875 [01:35<00:00, 19.67it/s]\n"
     ]
    },
    {
     "name": "stdout",
     "output_type": "stream",
     "text": [
      "train epoch: 8, loss: 0.0463, accuracy: 0.99\n"
     ]
    },
    {
     "name": "stderr",
     "output_type": "stream",
     "text": [
      "100%|██████████| 1875/1875 [01:35<00:00, 19.67it/s]\n"
     ]
    },
    {
     "name": "stdout",
     "output_type": "stream",
     "text": [
      "train epoch: 9, loss: 0.0413, accuracy: 0.99\n"
     ]
    }
   ],
   "source": [
    "params, losses = fit(params, X_train, y_train, batch, learning_rate=0.003, epochs=10)"
   ]
  },
  {
   "cell_type": "code",
   "execution_count": 12,
   "id": "EUnEKpcljMBv",
   "metadata": {
    "id": "EUnEKpcljMBv"
   },
   "outputs": [],
   "source": [
    "pd.to_pickle(params, \"mnist_params.pkl\")"
   ]
  },
  {
   "cell_type": "markdown",
   "id": "2yRGP_YtmLGn",
   "metadata": {
    "id": "2yRGP_YtmLGn"
   },
   "source": [
    "# Figure"
   ]
  },
  {
   "cell_type": "code",
   "execution_count": 14,
   "id": "40hlH-zkmIVg",
   "metadata": {
    "id": "40hlH-zkmIVg"
   },
   "outputs": [],
   "source": [
    "one_img = x_test[2]\n",
    "one_img = rotate(one_img, 30, reshape=False)"
   ]
  },
  {
   "cell_type": "code",
   "execution_count": 15,
   "id": "UiWVa2nZmISZ",
   "metadata": {
    "colab": {
     "base_uri": "https://localhost:8080/",
     "height": 282
    },
    "id": "UiWVa2nZmISZ",
    "outputId": "1605dfba-55e4-40eb-c42c-8055024e19a1"
   },
   "outputs": [
    {
     "data": {
      "text/plain": [
       "<matplotlib.image.AxesImage at 0x7f54ec2fd700>"
      ]
     },
     "execution_count": 15,
     "metadata": {},
     "output_type": "execute_result"
    },
    {
     "data": {
      "image/png": "[encoded data removed]",
      "text/plain": [
       "<Figure size 432x288 with 1 Axes>"
      ]
     },
     "metadata": {
      "needs_background": "light"
     },
     "output_type": "display_data"
    }
   ],
   "source": [
    "plt.imshow(one_img.squeeze())"
   ]
  },
  {
   "cell_type": "code",
   "execution_count": 16,
   "id": "w-P6jRramIP3",
   "metadata": {
    "id": "w-P6jRramIP3"
   },
   "outputs": [],
   "source": [
    "imgs = jnp.array([rotate(one_img, 5.5 * i, reshape=False) for i in range(12)])"
   ]
  },
  {
   "cell_type": "code",
   "execution_count": 17,
   "id": "8kTX_j3PmINW",
   "metadata": {
    "colab": {
     "base_uri": "https://localhost:8080/"
    },
    "id": "8kTX_j3PmINW",
    "outputId": "2dbd6854-b79f-4138-da5f-1ce71ce49269"
   },
   "outputs": [
    {
     "data": {
      "text/plain": [
       "DeviceArray([1, 1, 1, 1, 1, 1, 1, 7, 7, 7, 7, 7], dtype=int64)"
      ]
     },
     "execution_count": 17,
     "metadata": {},
     "output_type": "execute_result"
    }
   ],
   "source": [
    "pred = model.apply(params, imgs, deterministic=False, rngs={\"dropout\": jax.random.PRNGKey(0)})\n",
    "jnp.argmax(pred, axis=1)"
   ]
  },
  {
   "cell_type": "markdown",
   "id": "6oopzXtAZpmx",
   "metadata": {
    "id": "6oopzXtAZpmx"
   },
   "source": [
    "# MC Dropout"
   ]
  },
  {
   "cell_type": "code",
   "execution_count": 18,
   "id": "to6xsKEZn6zn",
   "metadata": {
    "id": "to6xsKEZn6zn"
   },
   "outputs": [],
   "source": [
    "n_stacks = 100\n",
    "y_stacks = []\n",
    "fn = lambda i: model.apply(params, imgs, deterministic=False, rngs={\"dropout\": jax.random.PRNGKey(i)})\n",
    "y_stacks = jax.vmap(jax.jit(fn), in_axes=(0))(jnp.arange(n_stacks))"
   ]
  },
  {
   "cell_type": "code",
   "execution_count": 19,
   "id": "ufxKdRlXoWT2",
   "metadata": {
    "id": "ufxKdRlXoWT2"
   },
   "outputs": [],
   "source": [
    "logits_stacks = y_stacks[:, :, (1, 3, 7)]"
   ]
  },
  {
   "cell_type": "code",
   "execution_count": 20,
   "id": "S4plQJYPm6aL",
   "metadata": {
    "id": "S4plQJYPm6aL"
   },
   "outputs": [],
   "source": [
    "# logits_mean = logits_stacks.mean(axis=0)\n",
    "# logits_std = logits_stacks.std(axis=0)"
   ]
  },
  {
   "cell_type": "code",
   "execution_count": 21,
   "id": "FDYEyaFqDeJA",
   "metadata": {
    "id": "FDYEyaFqDeJA"
   },
   "outputs": [],
   "source": [
    "soft_stacks = nn.softmax(logits_stacks, axis=-1)"
   ]
  },
  {
   "cell_type": "code",
   "execution_count": 22,
   "id": "VhFKx6b1EP4V",
   "metadata": {
    "id": "VhFKx6b1EP4V"
   },
   "outputs": [],
   "source": [
    "# soft_mean = soft_stacks.mean(axis=0)\n",
    "# soft_std = soft_stacks.std(axis=0)"
   ]
  },
  {
   "cell_type": "code",
   "execution_count": 23,
   "id": "P6tIOGODjg0n",
   "metadata": {
    "id": "P6tIOGODjg0n"
   },
   "outputs": [],
   "source": [
    "def offset_image(coord, i, ax, low_img, low_index, zoom):\n",
    "    img = imgs[i]\n",
    "    im = OffsetImage(img.squeeze(), zoom=zoom)\n",
    "    im.image.axes = ax\n",
    "\n",
    "    ab = AnnotationBbox(\n",
    "        im,\n",
    "        (coord, low_img),\n",
    "        xybox=(0.0, low_index),\n",
    "        frameon=False,\n",
    "        boxcoords=\"offset points\",\n",
    "    )\n",
    "    ax.add_artist(ab)"
   ]
  },
  {
   "cell_type": "code",
   "execution_count": 24,
   "id": "sHSBfgMnpYwm",
   "metadata": {
    "colab": {
     "base_uri": "https://localhost:8080/",
     "height": 419
    },
    "id": "sHSBfgMnpYwm",
    "outputId": "19871466-befe-44f7-9f6d-1cd7be4ee5fb"
   },
   "outputs": [
    {
     "name": "stderr",
     "output_type": "stream",
     "text": [
      "/home/rohit_khoiwal/anaconda3/lib/python3.9/site-packages/probml_utils/plotting.py:80: UserWarning: set FIG_DIR environment variable to save figures\n",
      "  warnings.warn(\"set FIG_DIR environment variable to save figures\")\n"
     ]
    },
    {
     "data": {
      "image/png": "[encoded data removed]",
      "text/plain": [
       "<Figure size 864x432 with 1 Axes>"
      ]
     },
     "metadata": {
      "needs_background": "light"
     },
     "output_type": "display_data"
    }
   ],
   "source": [
    "if is_latexify_enabled():\n",
    "    fig, ax = plt.subplots(1)\n",
    "    zoom = 0.4\n",
    "else:\n",
    "    plt.rcParams[\"font.size\"] = 16\n",
    "    fig, ax = plt.subplots(1, figsize=(12, 6))\n",
    "    zoom = 1\n",
    "index = jnp.arange(12)\n",
    "for i in range(12):\n",
    "    ax.eventplot(\n",
    "        logits_stacks[:, i, 0],\n",
    "        orientation=\"vertical\",\n",
    "        lineoffsets=i,\n",
    "        linelengths=0.8,\n",
    "        colors=\"green\",\n",
    "        alpha=0.75,\n",
    "    )\n",
    "    ax.eventplot(\n",
    "        logits_stacks[:, i, 1],\n",
    "        orientation=\"vertical\",\n",
    "        lineoffsets=i,\n",
    "        linelengths=0.8,\n",
    "        colors=\"orange\",\n",
    "        alpha=0.75,\n",
    "    )\n",
    "    ax.eventplot(\n",
    "        logits_stacks[:, i, 2],\n",
    "        orientation=\"vertical\",\n",
    "        lineoffsets=i,\n",
    "        linelengths=0.8,\n",
    "        colors=\"blue\",\n",
    "        alpha=0.6,\n",
    "    )\n",
    "\n",
    "ax.set_xticks(index)\n",
    "ax.set_xticklabels(index + 1)\n",
    "ax.tick_params(axis=\"x\", which=\"major\", pad=8)\n",
    "ax.set_ylabel(\"Logits\")\n",
    "l, h = ax.get_ylim()\n",
    "for i in index:\n",
    "    offset_image(i, i, ax, l, l - 5, zoom)\n",
    "ax.legend([\"1\", \"5\", \"7\"], bbox_to_anchor=(0.6, 1.0))\n",
    "sns.despine()\n",
    "savefig(\"mnist_softmax_input\", tight_bbox=True, pad=1)\n",
    "plt.show()"
   ]
  },
  {
   "cell_type": "code",
   "execution_count": 25,
   "id": "2ca53470",
   "metadata": {
    "id": "2ca53470"
   },
   "outputs": [
    {
     "data": {
      "image/png": "[encoded data removed]",
      "text/plain": [
       "<Figure size 864x432 with 1 Axes>"
      ]
     },
     "metadata": {
      "needs_background": "light"
     },
     "output_type": "display_data"
    }
   ],
   "source": [
    "if is_latexify_enabled():\n",
    "    fig, ax = plt.subplots(1)\n",
    "    zoom = 0.4\n",
    "else:\n",
    "    plt.rcParams[\"font.size\"] = 16\n",
    "    fig, ax = plt.subplots(1, figsize=(12, 6))\n",
    "    zoom = 1\n",
    "for i in range(12):\n",
    "    ax.eventplot(\n",
    "        soft_stacks[:, i, 0].sort()[:75],\n",
    "        orientation=\"vertical\",\n",
    "        lineoffsets=i,\n",
    "        linelengths=0.8,\n",
    "        colors=\"green\",\n",
    "        alpha=0.75,\n",
    "    )\n",
    "    ax.eventplot(\n",
    "        soft_stacks[:, i, 1].sort()[:75],\n",
    "        orientation=\"vertical\",\n",
    "        lineoffsets=i,\n",
    "        linelengths=0.8,\n",
    "        colors=\"orange\",\n",
    "        alpha=0.75,\n",
    "    )\n",
    "    ax.eventplot(\n",
    "        soft_stacks[:, i, 2].sort()[:75],\n",
    "        orientation=\"vertical\",\n",
    "        lineoffsets=i,\n",
    "        linelengths=0.8,\n",
    "        colors=\"blue\",\n",
    "        alpha=0.6,\n",
    "    )\n",
    "\n",
    "ax.set_xticks(index)\n",
    "ax.set_xticklabels(index + 1)\n",
    "ax.tick_params(axis=\"x\", which=\"major\", pad=8)\n",
    "ax.set_ylabel(\"Probability\")\n",
    "l, h = ax.get_ylim()\n",
    "for i in index:\n",
    "    offset_image(i, i, ax, l, l - 17, zoom)\n",
    "\n",
    "ax.legend([\"1\", \"5\", \"7\"], loc=\"best\", bbox_to_anchor=(0.3, 0.6))\n",
    "sns.despine()\n",
    "savefig(\"mnist_softmax_output_\", tight_bbox=True, pad=1)\n",
    "plt.show()"
   ]
  },
  {
   "cell_type": "code",
   "execution_count": 25,
   "id": "bc98abf8",
   "metadata": {
    "id": "bc98abf8"
   },
   "outputs": [],
   "source": []
  }
 ],
 "metadata": {
  "accelerator": "GPU",
  "colab": {
   "collapsed_sections": [],
   "name": "mnist_classification_mc_dropout.ipynb",
   "provenance": []
  },
  "gpuClass": "standard",
  "kernelspec": {
   "display_name": "Python 3.8.10 64-bit",
   "language": "python",
   "name": "python3"
  },
  "language_info": {
   "codemirror_mode": {
    "name": "ipython",
    "version": 3
   },
   "file_extension": ".py",
   "mimetype": "text/x-python",
   "name": "python",
   "nbconvert_exporter": "python",
   "pygments_lexer": "ipython3",
   "version": "3.8.10"
  },
  "vscode": {
   "interpreter": {
    "hash": "916dbcbb3f70747c44a77c7bcd40155683ae19c65e1c03b4aa3499c5328201f1"
   }
  }
 },
 "nbformat": 4,
 "nbformat_minor": 5
}
