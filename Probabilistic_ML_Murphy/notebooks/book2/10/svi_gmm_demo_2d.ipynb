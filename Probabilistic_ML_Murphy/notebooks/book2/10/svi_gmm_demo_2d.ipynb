{
 "cells": [
  {
   "cell_type": "code",
   "execution_count": 2,
   "id": "8bc46461",
   "metadata": {},
   "outputs": [],
   "source": [
    "# SVI for a mixture of 3 Gaussians in 2d\n",
    "# https://github.com/brendanhasz/svi-gaussian-mixture-model/blob/master/BayesianGaussianMixtureModel.ipynb\n",
    "\n",
    "import numpy as np\n",
    "import matplotlib.pyplot as plt\n",
    "import seaborn as sns\n",
    "\n",
    "try:\n",
    "    import tensorflow as tf\n",
    "except ModuleNotFoundError:\n",
    "    %pip install -qq tensorflow\n",
    "    import tensorflow as tf\n",
    "try:\n",
    "    import tensorflow_probability as tfp\n",
    "except ModuleNotFoundError:\n",
    "    %pip install -qq tensorflow-probability\n",
    "    import tensorflow_probability as tfp\n",
    "tfd = tfp.distributions\n",
    "\n",
    "try:\n",
    "    import probml_utils.svi_gmm_model_tfp as GMM\n",
    "except ModuleNotFoundError:\n",
    "    %pip install -qq git+https://github.com/probml/probml-utils.git\n",
    "    import probml_utils.svi_gmm_model_tfp as GMM\n",
    "\n",
    "from probml_utils import savefig, latexify\n",
    "import numpy as np\n",
    "import matplotlib.pyplot as plt\n",
    "import os"
   ]
  },
  {
   "cell_type": "code",
   "execution_count": 3,
   "id": "9bcfc6bb",
   "metadata": {},
   "outputs": [],
   "source": [
    "os.environ[\"LATEXIFY\"] = \"\"\n",
    "os.environ[\"FIG_DIR\"] = \"figures\"\n",
    "latexify(width_scale_factor=3)"
   ]
  },
  {
   "cell_type": "code",
   "execution_count": 8,
   "id": "12e72e70",
   "metadata": {},
   "outputs": [
    {
     "name": "stdout",
     "output_type": "stream",
     "text": [
      "saving image to figures/svi_gmm_2d_data_latexified.pdf\n",
      "Figure size: [2.  1.5]\n"
     ]
    }
   ],
   "source": [
    "# Random seed\n",
    "np.random.seed(12345)\n",
    "tf.random.set_seed(12345)\n",
    "\n",
    "# Generate some data\n",
    "N = 3000\n",
    "X = np.random.randn(N, 2).astype(\"float32\")\n",
    "X[:1000, :] += [2, 0]\n",
    "X[1000:2000, :] -= [2, 4]\n",
    "X[2000:, :] += [-2, 4]\n",
    "\n",
    "# Plot the data\n",
    "plt.figure()\n",
    "plt.plot(X[:, 0], X[:, 1], \".\", markersize=2)\n",
    "plt.axis(\"equal\")\n",
    "sns.despine()\n",
    "savefig(\"svi_gmm_2d_data.pdf\")\n",
    "plt.show()"
   ]
  },
  {
   "cell_type": "code",
   "execution_count": 9,
   "id": "e0770518",
   "metadata": {},
   "outputs": [
    {
     "name": "stderr",
     "output_type": "stream",
     "text": [
      "/home/patel_karm/anaconda3/envs/py3713/lib/python3.7/site-packages/keras/optimizers/optimizer_v2/adam.py:110: UserWarning: The `lr` argument is deprecated, use `learning_rate` instead.\n",
      "  super(Adam, self).__init__(name, **kwargs)\n"
     ]
    },
    {
     "name": "stdout",
     "output_type": "stream",
     "text": [
      "saving image to figures/svi_gmm_2d_fit_latexified.pdf\n",
      "Figure size: [2.  1.5]\n"
     ]
    },
    {
     "name": "stderr",
     "output_type": "stream",
     "text": [
      "/home/patel_karm/sendbox/probml-utils/probml_utils/plotting.py:71: UserWarning: renaming figures/svi_gmm_2d_fit.pdf to figures/svi_gmm_2d_fit_latexified.pdf because LATEXIFY is True\n",
      "  f\"renaming {fname_full} to {fname}{extention} because LATEXIFY is {LATEXIFY}\",\n"
     ]
    }
   ],
   "source": [
    "# Make a TensorFlow Dataset from that data\n",
    "batch_size = 500\n",
    "dataset = tf.data.Dataset.from_tensor_slices((X)).shuffle(10000).batch(batch_size)\n",
    "\n",
    "# A GMM with 3 components in 2 dimensions\n",
    "model = GMM.GaussianMixtureModel(3, 2)\n",
    "\n",
    "nepochs = 1000\n",
    "model.fit(dataset, N, nepochs)\n",
    "\n",
    "# Compute log likelihood at each point on a grid\n",
    "Np = 100  # number of grid points\n",
    "Xp, Yp = np.meshgrid(np.linspace(-6, 6, Np), np.linspace(-6, 6, Np))\n",
    "Pp = np.column_stack([Xp.flatten(), Yp.flatten()]).astype(\"float32\")\n",
    "Z, _ = model(Pp, sampling=False)\n",
    "Z = np.reshape(Z, (Np, Np))\n",
    "\n",
    "# Show the fit mixture density\n",
    "plt.figure()\n",
    "plt.imshow(np.exp(Z), extent=(-6, 6, -6, 6), origin=\"lower\")\n",
    "cbar = plt.colorbar()\n",
    "cbar.ax.set_ylabel(\"Likelihood\")\n",
    "sns.despine()\n",
    "savefig(\"svi_gmm_2d_fit.pdf\")\n",
    "plt.show()"
   ]
  },
  {
   "cell_type": "code",
   "execution_count": 10,
   "id": "fc78944f",
   "metadata": {},
   "outputs": [
    {
     "name": "stderr",
     "output_type": "stream",
     "text": [
      "/home/patel_karm/anaconda3/envs/py3713/lib/python3.7/site-packages/seaborn/_decorators.py:43: FutureWarning: Pass the following variable as a keyword arg: y. From version 0.12, the only valid positional argument will be `data`, and passing other arguments without an explicit keyword will result in an error or misinterpretation.\n",
      "  FutureWarning\n"
     ]
    },
    {
     "name": "stdout",
     "output_type": "stream",
     "text": [
      "saving image to figures/svi_gmm_2d_post_mean_comp0_latexified.pdf\n",
      "Figure size: [2.  1.5]\n"
     ]
    },
    {
     "name": "stderr",
     "output_type": "stream",
     "text": [
      "/home/patel_karm/sendbox/probml-utils/probml_utils/plotting.py:71: UserWarning: renaming figures/svi_gmm_2d_post_mean_comp0.pdf to figures/svi_gmm_2d_post_mean_comp0_latexified.pdf because LATEXIFY is True\n",
      "  f\"renaming {fname_full} to {fname}{extention} because LATEXIFY is {LATEXIFY}\",\n"
     ]
    }
   ],
   "source": [
    "# Sample from the mean variational posterior\n",
    "means = tfd.Normal(model.locs, model.scales).sample(10000)\n",
    "\n",
    "# Plot the mean samples for a single\n",
    "plt.figure()\n",
    "sns.kdeplot(means[:, 0, 0].numpy(), means[:, 0, 1].numpy(), n_levels=10)\n",
    "sns.despine()\n",
    "savefig(\"svi_gmm_2d_post_mean_comp0.pdf\")\n",
    "plt.show()"
   ]
  },
  {
   "cell_type": "code",
   "execution_count": null,
   "id": "d3c847bc",
   "metadata": {},
   "outputs": [],
   "source": []
  }
 ],
 "metadata": {
  "kernelspec": {
   "display_name": "Python [conda env:py3713]",
   "language": "python",
   "name": "conda-env-py3713-py"
  },
  "language_info": {
   "codemirror_mode": {
    "name": "ipython",
    "version": 3
   },
   "file_extension": ".py",
   "mimetype": "text/x-python",
   "name": "python",
   "nbconvert_exporter": "python",
   "pygments_lexer": "ipython3",
   "version": "3.7.13"
  },
  "vscode": {
   "interpreter": {
    "hash": "a787a6e8bcd3d3d3e4a766006c27db2c5a636d1b43e1d89cd16234e9a9c2591c"
   }
  }
 },
 "nbformat": 4,
 "nbformat_minor": 5
}
