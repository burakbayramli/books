{
 "cells": [
  {
   "cell_type": "code",
   "execution_count": 1,
   "id": "8G7-phQ-7cKB",
   "metadata": {
    "id": "8G7-phQ-7cKB"
   },
   "outputs": [],
   "source": [
    "# Demonstrate a non-parametric (parzen) density estimator in 1D\n",
    "\n",
    "# Author: Gerardo Durán Martín\n",
    "\n",
    "\n",
    "import numpy as np\n",
    "import matplotlib.pyplot as plt\n",
    "\n",
    "%matplotlib inline\n",
    "from scipy.linalg import norm\n",
    "\n",
    "plt.rcParams[\"axes.spines.right\"] = False\n",
    "plt.rcParams[\"axes.spines.top\"] = False\n",
    "\n",
    "\n",
    "try:\n",
    "    from probml_utils import savefig, latexify\n",
    "except ModuleNotFoundError:\n",
    "    %pip install -qq git+https://github.com/probml/probml-utils.git\n",
    "    from probml_utils import savefig, latexify"
   ]
  },
  {
   "cell_type": "code",
   "execution_count": 2,
   "id": "b33a8a00",
   "metadata": {},
   "outputs": [],
   "source": [
    "# import os\n",
    "# os.environ[\"LATEXIFY\"] = \"1\"\n",
    "# os.environ[\"FIG_DIR\"] = \".\""
   ]
  },
  {
   "cell_type": "code",
   "execution_count": 3,
   "id": "07efcd62",
   "metadata": {},
   "outputs": [],
   "source": [
    "latexify(width_scale_factor=2, fig_height=1.5)"
   ]
  },
  {
   "cell_type": "code",
   "execution_count": 4,
   "id": "2f5a35dc",
   "metadata": {
    "colab": {
     "base_uri": "https://localhost:8080/",
     "height": 552
    },
    "id": "2f5a35dc",
    "outputId": "2443fff2-bdba-4c54-f2b8-d3910b0223d4"
   },
   "outputs": [
    {
     "name": "stderr",
     "output_type": "stream",
     "text": [
      "/home/prey241/.local/lib/python3.8/site-packages/probml_utils/plotting.py:69: UserWarning: renaming ./parzen_windows1.pdf to ./parzen_windows1_latexified.pdf because LATEXIFY is True\n",
      "  warnings.warn(\n"
     ]
    },
    {
     "name": "stdout",
     "output_type": "stream",
     "text": [
      "saving image to ./parzen_windows1_latexified.pdf\n",
      "Figure size: [3.  1.5]\n"
     ]
    },
    {
     "data": {
      "image/png": "[encoded data removed]",
      "text/plain": [
       "<Figure size 216x108 with 1 Axes>"
      ]
     },
     "metadata": {
      "needs_background": "light"
     },
     "output_type": "display_data"
    },
    {
     "name": "stdout",
     "output_type": "stream",
     "text": [
      "saving image to ./parzen_windows2_latexified.pdf\n",
      "Figure size: [3.  1.5]\n"
     ]
    },
    {
     "name": "stderr",
     "output_type": "stream",
     "text": [
      "/home/prey241/.local/lib/python3.8/site-packages/probml_utils/plotting.py:69: UserWarning: renaming ./parzen_windows2.pdf to ./parzen_windows2_latexified.pdf because LATEXIFY is True\n",
      "  warnings.warn(\n"
     ]
    },
    {
     "data": {
      "image/png": "[encoded data removed]",
      "text/plain": [
       "<Figure size 216x108 with 1 Axes>"
      ]
     },
     "metadata": {
      "needs_background": "light"
     },
     "output_type": "display_data"
    },
    {
     "name": "stderr",
     "output_type": "stream",
     "text": [
      "/home/prey241/.local/lib/python3.8/site-packages/probml_utils/plotting.py:69: UserWarning: renaming ./parzen_windows3.pdf to ./parzen_windows3_latexified.pdf because LATEXIFY is True\n",
      "  warnings.warn(\n"
     ]
    },
    {
     "name": "stdout",
     "output_type": "stream",
     "text": [
      "saving image to ./parzen_windows3_latexified.pdf\n",
      "Figure size: [3.  1.5]\n"
     ]
    },
    {
     "data": {
      "image/png": "[encoded data removed]",
      "text/plain": [
       "<Figure size 216x108 with 1 Axes>"
      ]
     },
     "metadata": {
      "needs_background": "light"
     },
     "output_type": "display_data"
    },
    {
     "name": "stderr",
     "output_type": "stream",
     "text": [
      "/home/prey241/.local/lib/python3.8/site-packages/probml_utils/plotting.py:69: UserWarning: renaming ./parzen_windows4.pdf to ./parzen_windows4_latexified.pdf because LATEXIFY is True\n",
      "  warnings.warn(\n"
     ]
    },
    {
     "name": "stdout",
     "output_type": "stream",
     "text": [
      "saving image to ./parzen_windows4_latexified.pdf\n",
      "Figure size: [3.  1.5]\n"
     ]
    },
    {
     "data": {
      "image/png": "[encoded data removed]",
      "text/plain": [
       "<Figure size 216x108 with 1 Axes>"
      ]
     },
     "metadata": {
      "needs_background": "light"
     },
     "output_type": "display_data"
    }
   ],
   "source": [
    "def K(u, axis=0):\n",
    "    return np.all(np.abs(u) <= 1 / 2, axis=axis)\n",
    "\n",
    "\n",
    "def p1(x, X, h):\n",
    "    \"\"\"\n",
    "    KDE under a unit hypercube\n",
    "    \"\"\"\n",
    "    N, D = X.shape\n",
    "    xden, _ = x.shape\n",
    "\n",
    "    u = ((x - X.T) / h).reshape(D, xden, N)\n",
    "    ku = K(u).sum(axis=1) / (N * h**D)\n",
    "    return ku\n",
    "\n",
    "\n",
    "def kdeg(x, X, h, return_components=False):\n",
    "    \"\"\"\n",
    "    KDE under a gaussian kernel\n",
    "    \"\"\"\n",
    "    N, D = X.shape\n",
    "    nden, _ = x.shape\n",
    "\n",
    "    Xhat = X.reshape(D, 1, N)\n",
    "    xhat = x.reshape(D, nden, 1)\n",
    "    u = xhat - Xhat\n",
    "    u = norm(u, ord=2, axis=0) ** 2 / (2 * h**2)  # (N, nden)\n",
    "    px = np.exp(-u)\n",
    "    if not return_components:\n",
    "        px = px.sum(axis=1)\n",
    "\n",
    "    px = px / (N * h * np.sqrt(2 * np.pi))\n",
    "    return px\n",
    "\n",
    "\n",
    "def main():\n",
    "    data = np.array([-2.1, -1.3, -0.4, 1.9, 5.1, 6.2])[:, None]\n",
    "    yvals = np.zeros_like(data)\n",
    "    xv = np.linspace(-5, 10, 100)[:, None]\n",
    "\n",
    "    # Uniform h=1\n",
    "    plt.scatter(data, yvals, marker=\"x\", c=\"tab:green\", s=20)\n",
    "    plt.step(xv, p1(xv, data, 1), c=\"tab:blue\", alpha=0.7)\n",
    "    plt.ylim([-0.01, 0.35])\n",
    "    plt.yticks(np.arange(0, 0.35, 0.1))\n",
    "    plt.title(\"unif, h=1\")\n",
    "    plt.xlabel(\"$x$\")\n",
    "    plt.ylabel(\"Density function\")\n",
    "    savefig(\"parzen_windows1.pdf\", dpi=300)\n",
    "    plt.show()\n",
    "\n",
    "    # Uniform h=2\n",
    "    plt.figure()\n",
    "    plt.scatter(data, yvals, marker=\"x\", c=\"tab:green\", s=20)\n",
    "    plt.step(xv, p1(xv, data, 2), c=\"tab:blue\", alpha=0.7)\n",
    "    plt.ylim([-0.01, 0.35])\n",
    "    plt.yticks(np.arange(0, 0.35, 0.1))\n",
    "    plt.title(\"unif, h=2\")\n",
    "    plt.xlabel(\"$x$\")\n",
    "    savefig(\"parzen_windows2.pdf\", dpi=300)\n",
    "    plt.show()\n",
    "\n",
    "    # Gaussian h=1\n",
    "    plt.figure()\n",
    "    plt.scatter(data, yvals, marker=\"x\", c=\"tab:green\", zorder=3, s=20)\n",
    "    plt.plot(xv, kdeg(xv, data, 1), c=\"tab:blue\", alpha=0.7, zorder=2)\n",
    "    plt.plot(xv, kdeg(xv, data, 1, True), c=\"tab:red\", alpha=0.7, linestyle=\"--\", zorder=1, linewidth=1)\n",
    "    plt.ylim([-0.01, 0.18])\n",
    "    plt.yticks(np.arange(0, 0.16, 0.05))\n",
    "    plt.title(\"gauss, h=1\")\n",
    "    plt.xlabel(\"$x$\")\n",
    "    plt.ylabel(\"Density function\")\n",
    "    savefig(\"parzen_windows3.pdf\", dpi=300)\n",
    "    plt.show()\n",
    "\n",
    "    # Gaussian h=2\n",
    "    plt.figure()\n",
    "    plt.scatter(data, yvals, marker=\"x\", c=\"tab:green\", zorder=3, s=20)\n",
    "    plt.plot(xv, kdeg(xv, data, 2), c=\"tab:blue\", alpha=0.7, zorder=2)\n",
    "    plt.plot(xv, kdeg(xv, data, 2, True), c=\"tab:red\", alpha=0.7, linestyle=\"--\", zorder=1, linewidth=1)\n",
    "    plt.ylim([-0.01, 0.1])\n",
    "    plt.yticks(np.arange(0, 0.16, 0.05))\n",
    "    plt.title(\"gauss, h=2\")\n",
    "    plt.xlabel(\"$x$\")\n",
    "    savefig(\"parzen_windows4.pdf\", dpi=300)\n",
    "    plt.show()\n",
    "\n",
    "\n",
    "if __name__ == \"__main__\":\n",
    "    main()"
   ]
  },
  {
   "cell_type": "code",
   "execution_count": null,
   "id": "a10e69ab",
   "metadata": {
    "id": "a10e69ab"
   },
   "outputs": [],
   "source": []
  }
 ],
 "metadata": {
  "colab": {
   "name": "parzen_window_demo2.ipynb",
   "provenance": []
  },
  "kernelspec": {
   "display_name": "Python 3 (ipykernel)",
   "language": "python",
   "name": "python3"
  },
  "language_info": {
   "codemirror_mode": {
    "name": "ipython",
    "version": 3
   },
   "file_extension": ".py",
   "mimetype": "text/x-python",
   "name": "python",
   "nbconvert_exporter": "python",
   "pygments_lexer": "ipython3",
   "version": "3.8.10"
  }
 },
 "nbformat": 4,
 "nbformat_minor": 5
}
