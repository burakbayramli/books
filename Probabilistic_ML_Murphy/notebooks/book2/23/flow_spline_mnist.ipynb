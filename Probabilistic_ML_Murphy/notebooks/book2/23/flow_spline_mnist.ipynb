{
    "cells": [
        {
            "cell_type": "markdown",
            "metadata": {
                "colab_type": "text",
                "id": "view-in-github"
            },
            "source": [
                "<a href=\"https://colab.research.google.com/github/probml/probml-notebooks/blob/main/notebooks/flow_spline_mnist.ipynb\" target=\"_parent\"><img src=\"https://colab.research.google.com/assets/colab-badge.svg\" alt=\"Open In Colab\"/></a>"
            ]
        },
        {
            "cell_type": "markdown",
            "metadata": {
                "id": "gJIYeg2Y7oZv"
            },
            "source": [
                "# Spline Flow using JAX, Haiku, Optax and Distrax\n",
                "\n",
                "In this notebook we will implement Spline flow to fit a distribution to MNIST dataset. We will be using the RationalQuadraticSpline, a piecewise rational quadratic spline, and Masked Couplings as explained in paper [Neural Spline Flows](https://arxiv.org/abs/1906.04032) by Conor Durkan, Artur Bekasov, Iain Murray, George Papamakarios. \n",
                "\n",
                "This notebook replicates the [original distrax code ](https://github.com/deepmind/distrax/blob/master/examples/flow.py) with suitable minor modifications.\n",
                " \n",
                "\n",
                "\n",
                "For implementing the Quadratic Splines with Coupling flows, We will be using following libraries:\n",
                "- JAX  - NumPy on GPU, and TPU with automatic differentiation.\n",
                "- Haiku - JAX based Neural Network Library.\n",
                "- Optax -  gradient processing and optimization library for JAX.\n",
                "- Distrax - a lightweight library of probability distributions and bijectors.\n",
                "\n",
                "### Installing required libraries in Colab"
            ]
        },
        {
            "cell_type": "code",
            "execution_count": null,
            "metadata": {
                "colab": {
                    "base_uri": "https://localhost:8080/"
                },
                "id": "l0K_D4QX74gV",
                "outputId": "bcdb6f99-11d9-4aa8-d1c6-fad24b9caf60"
            },
            "outputs": [
                {
                    "name": "stdout",
                    "output_type": "stream",
                    "text": [
                        "Requirement already satisfied: optax in /usr/local/lib/python3.7/dist-packages (0.1.1)\n",
                        "Requirement already satisfied: distrax in /usr/local/lib/python3.7/dist-packages (0.1.1)\n",
                        "Requirement already satisfied: dm-haiku in /usr/local/lib/python3.7/dist-packages (0.0.6)\n",
                        "Requirement already satisfied: typing-extensions>=3.10.0 in /usr/local/lib/python3.7/dist-packages (from optax) (3.10.0.2)\n",
                        "Requirement already satisfied: absl-py>=0.7.1 in /usr/local/lib/python3.7/dist-packages (from optax) (1.0.0)\n",
                        "Requirement already satisfied: jaxlib>=0.1.37 in /usr/local/lib/python3.7/dist-packages (from optax) (0.3.0+cuda11.cudnn805)\n",
                        "Requirement already satisfied: jax>=0.1.55 in /usr/local/lib/python3.7/dist-packages (from optax) (0.3.1)\n",
                        "Requirement already satisfied: chex>=0.0.4 in /usr/local/lib/python3.7/dist-packages (from optax) (0.1.1)\n",
                        "Requirement already satisfied: numpy>=1.18.0 in /usr/local/lib/python3.7/dist-packages (from optax) (1.21.5)\n",
                        "Requirement already satisfied: six in /usr/local/lib/python3.7/dist-packages (from absl-py>=0.7.1->optax) (1.15.0)\n",
                        "Requirement already satisfied: toolz>=0.9.0 in /usr/local/lib/python3.7/dist-packages (from chex>=0.0.4->optax) (0.11.2)\n",
                        "Requirement already satisfied: dm-tree>=0.1.5 in /usr/local/lib/python3.7/dist-packages (from chex>=0.0.4->optax) (0.1.6)\n",
                        "Requirement already satisfied: opt-einsum in /usr/local/lib/python3.7/dist-packages (from jax>=0.1.55->optax) (3.3.0)\n",
                        "Requirement already satisfied: scipy>=1.2.1 in /usr/local/lib/python3.7/dist-packages (from jax>=0.1.55->optax) (1.4.1)\n",
                        "Requirement already satisfied: flatbuffers<3.0,>=1.12 in /usr/local/lib/python3.7/dist-packages (from jaxlib>=0.1.37->optax) (2.0)\n",
                        "Requirement already satisfied: tensorflow-probability>=0.15.0 in /usr/local/lib/python3.7/dist-packages (from distrax) (0.16.0)\n",
                        "Requirement already satisfied: cloudpickle>=1.3 in /usr/local/lib/python3.7/dist-packages (from tensorflow-probability>=0.15.0->distrax) (1.3.0)\n",
                        "Requirement already satisfied: decorator in /usr/local/lib/python3.7/dist-packages (from tensorflow-probability>=0.15.0->distrax) (4.4.2)\n",
                        "Requirement already satisfied: gast>=0.3.2 in /usr/local/lib/python3.7/dist-packages (from tensorflow-probability>=0.15.0->distrax) (0.5.3)\n",
                        "Requirement already satisfied: jmp>=0.0.2 in /usr/local/lib/python3.7/dist-packages (from dm-haiku) (0.0.2)\n",
                        "Requirement already satisfied: tabulate>=0.8.9 in /usr/local/lib/python3.7/dist-packages (from dm-haiku) (0.8.9)\n"
                    ]
                }
            ],
            "source": [
                "!pip install -qq -U optax distrax dm-haiku"
            ]
        },
        {
            "cell_type": "markdown",
            "metadata": {
                "id": "i8vGb5NE-sWj"
            },
            "source": [
                "### Importing all required libraries and packages"
            ]
        },
        {
            "cell_type": "code",
            "execution_count": null,
            "metadata": {
                "id": "T6QrYSdV7oZ3"
            },
            "outputs": [],
            "source": [
                "from typing import Any, Iterator, Mapping, Optional, Sequence, Tuple\n",
                "\n",
                "try:\n",
                "    import distrax\n",
                "except ModuleNotFoundError:\n",
                "    %pip install -qq distrax\n",
                "    import distrax\n",
                "try:\n",
                "    import haiku as hk\n",
                "except ModuleNotFoundError:\n",
                "    %pip install -qq dm-haiku\n",
                "    import haiku as hk\n",
                "import jax\n",
                "import jax.numpy as jnp\n",
                "import numpy as np\n",
                "\n",
                "try:\n",
                "    import optax\n",
                "except ModuleNotFoundError:\n",
                "    %pip install -qq optax\n",
                "    import optax\n",
                "try:\n",
                "    import tensorflow_datasets as tfds\n",
                "except ModuleNotFoundError:\n",
                "    %pip install -qq tensorflow tensorflow_datasets\n",
                "    import tensorflow_datasets as tfds\n",
                "\n",
                "import matplotlib.pyplot as plt\n",
                "\n",
                "Array = jnp.ndarray\n",
                "PRNGKey = Array\n",
                "Batch = Mapping[str, np.ndarray]\n",
                "OptState = Any\n",
                "\n",
                "MNIST_IMAGE_SHAPE = (28, 28, 1)\n",
                "batch_size = 128"
            ]
        },
        {
            "cell_type": "markdown",
            "metadata": {
                "id": "7sF08dbZ7oZ7"
            },
            "source": [
                "### Conditioner\n",
                "\n",
                "Let $u \\in \\mathbb{R}^D $ be the input. The input is split into two equal sub spaces $(x^A, x^B)$  each of size $\\mathbb{R}^{d}$ such that $d = D/2$.\n",
                "\n",
                "Let us assume we have a bijection $\\hat{f}(\\cdot;\\theta): \\mathbb{R}^d \\to \\mathbb{R}^d$ parameterized by $\\theta $\n",
                "\n",
                "We define a single coupling layer as a function $ f: \\mathbb{R}^D \\to \\mathbb{R}^D $ given by $x = f(u)$ as below:\n",
                "\n",
                "$ x^A = \\hat{f}(u^A; \\Theta(u^B))$\n",
                "\n",
                "$ x^B = u^B $\n",
                "\n",
                "$ x = (x^A, x^B)$\n",
                "\n",
                "In other words, the input $u$ is split into $(u^A, u^B)$ and output $(x^A, x^B)$ is combined back into $x$ using a binary mask $m$. Therefore, the single coupling layer $ f: \\mathbb{R}^D \\to \\mathbb{R}^D $ given by $x = f(u)$ is defined in a single equation as below:\n",
                "\n",
                "$x = f(u) = b \\odot u + (1-b) \\hat{f}(u; \\Theta(b \\odot u))$\n",
                "\n",
                "We will implement the full flow by chaining multiple coupling layers. The mask $b$ will be flipped between each layer to ensure we capture dependencies in more expressive way. \n",
                "\n",
                "The function **${\\Theta}$** is called the **Conditioner** which we implement with a set of Linear layers and ReLU activation functions."
            ]
        },
        {
            "cell_type": "code",
            "execution_count": null,
            "metadata": {
                "id": "kE3YTziR7oZ8"
            },
            "outputs": [],
            "source": [
                "def make_conditioner(\n",
                "    event_shape: Sequence[int], hidden_sizes: Sequence[int], num_bijector_params: int\n",
                ") -> hk.Sequential:\n",
                "    \"\"\"Creates an MLP conditioner for each layer of the flow.\"\"\"\n",
                "    return hk.Sequential(\n",
                "        [\n",
                "            hk.Flatten(preserve_dims=-len(event_shape)),\n",
                "            hk.nets.MLP(hidden_sizes, activate_final=True),\n",
                "            # We initialize this linear layer to zero so that the flow is initialized\n",
                "            # to the identity function.\n",
                "            hk.Linear(np.prod(event_shape) * num_bijector_params, w_init=jnp.zeros, b_init=jnp.zeros),\n",
                "            hk.Reshape(tuple(event_shape) + (num_bijector_params,), preserve_dims=-1),\n",
                "        ]\n",
                "    )"
            ]
        },
        {
            "cell_type": "markdown",
            "metadata": {
                "id": "_b4hkTxK7oZ-"
            },
            "source": [
                "### Flow Model\n",
                "\n",
                "Next we implement the **Bijector** $\\hat{f}$ using `distrax.RationalQuadraticSpline` and the **Masked Coupling** $f$ using `distrax.MaskedCoupling`\n",
                "\n",
                "We join together sequentailly a number of masked coupling layers to define the complete Spline FLow. \n",
                "\n",
                "We define base distribution of our flow as **Uniform distribution**. "
            ]
        },
        {
            "cell_type": "code",
            "execution_count": null,
            "metadata": {
                "id": "FGkKBR8n7oZ-"
            },
            "outputs": [],
            "source": [
                "def make_flow_model(\n",
                "    event_shape: Sequence[int], num_layers: int, hidden_sizes: Sequence[int], num_bins: int\n",
                ") -> distrax.Transformed:\n",
                "    \"\"\"Creates the flow model.\"\"\"\n",
                "    # Alternating binary mask.\n",
                "    mask = jnp.arange(0, np.prod(event_shape)) % 2\n",
                "    mask = jnp.reshape(mask, event_shape)\n",
                "    mask = mask.astype(bool)\n",
                "\n",
                "    def bijector_fn(params: Array):\n",
                "        return distrax.RationalQuadraticSpline(params, range_min=0.0, range_max=1.0)\n",
                "\n",
                "    # Number of parameters for the rational-quadratic spline:\n",
                "    # - `num_bins` bin widths\n",
                "    # - `num_bins` bin heights\n",
                "    # - `num_bins + 1` knot slopes\n",
                "    # for a total of `3 * num_bins + 1` parameters.\n",
                "    num_bijector_params = 3 * num_bins + 1\n",
                "\n",
                "    layers = []\n",
                "    for _ in range(num_layers):\n",
                "        layer = distrax.MaskedCoupling(\n",
                "            mask=mask,\n",
                "            bijector=bijector_fn,\n",
                "            conditioner=make_conditioner(event_shape, hidden_sizes, num_bijector_params),\n",
                "        )\n",
                "        layers.append(layer)\n",
                "        # Flip the mask after each layer.\n",
                "        mask = jnp.logical_not(mask)\n",
                "\n",
                "    # We invert the flow so that the `forward` method is called with `log_prob`.\n",
                "    flow = distrax.Inverse(distrax.Chain(layers))\n",
                "    base_distribution = distrax.Independent(\n",
                "        distrax.Uniform(low=jnp.zeros(event_shape), high=jnp.ones(event_shape)),\n",
                "        reinterpreted_batch_ndims=len(event_shape),\n",
                "    )\n",
                "\n",
                "    return distrax.Transformed(base_distribution, flow)"
            ]
        },
        {
            "cell_type": "markdown",
            "metadata": {
                "id": "M4LcgwQ47oaA"
            },
            "source": [
                "### Data Loading and preparation\n",
                "In this cell, we define a function to load the MNIST dataset using TFDS (Tensorflow Datasets) package.\n",
                "\n",
                "We also have a function `prepare_data` to: \n",
                "1. dequantize the data i.e. to convert the integer pixel values from `{0,1,...,255}` to real number values `[0,256)` by adding a random uniform noise `[0,1)`; and \n",
                "\n",
                "2. Normalize the pixel values from `[0,256)` to `[0,1)`  \n",
                "\n",
                "The dequantization of data is done only at training time."
            ]
        },
        {
            "cell_type": "code",
            "execution_count": null,
            "metadata": {
                "id": "XGqQqhvt7oaA"
            },
            "outputs": [],
            "source": [
                "def load_dataset(split: tfds.Split, batch_size: int) -> Iterator[Batch]:\n",
                "    ds = tfds.load(\"mnist\", split=split, shuffle_files=True)\n",
                "    ds = ds.shuffle(buffer_size=10 * batch_size)\n",
                "    ds = ds.batch(batch_size)\n",
                "    ds = ds.prefetch(buffer_size=5)\n",
                "    ds = ds.repeat()\n",
                "    return iter(tfds.as_numpy(ds))\n",
                "\n",
                "\n",
                "def prepare_data(batch: Batch, prng_key: Optional[PRNGKey] = None) -> Array:\n",
                "    data = batch[\"image\"].astype(np.float32)\n",
                "    if prng_key is not None:\n",
                "        # Dequantize pixel values {0, 1, ..., 255} with uniform noise [0, 1).\n",
                "        data += jax.random.uniform(prng_key, data.shape)\n",
                "    return data / 256.0  # Normalize pixel values from [0, 256) to [0, 1)."
            ]
        },
        {
            "cell_type": "markdown",
            "metadata": {
                "id": "zC1jKZXH7oaB"
            },
            "source": [
                "### Log Probability, Sample and training loss Functions\n",
                "Next we define the `log_prob` `model_sample` and `loss_fn`. `log_prob` is responsible for calculating the log of the probability of the data which we want to maximize for MNIST data inside `loss_fn`.\n",
                "\n",
                "`model_sample` allows us to sample new data points after the model has been trained on MNIST. FOr a well trained model, these samples will look like MNIST digits generated synthetically."
            ]
        },
        {
            "cell_type": "code",
            "execution_count": null,
            "metadata": {
                "id": "izlGzJdH7oaD"
            },
            "outputs": [],
            "source": [
                "flow_num_layers = 8\n",
                "mlp_num_layers = 2\n",
                "hidden_size = 500\n",
                "num_bins = 4\n",
                "learning_rate = 1e-4\n",
                "\n",
                "# using 100,000 steps could take long (about 2 hours) but will give better results.\n",
                "# You can try with 10,000 steps to run it fast but result may not be very good\n",
                "\n",
                "training_steps = 10000\n",
                "eval_frequency = 1000"
            ]
        },
        {
            "cell_type": "code",
            "execution_count": null,
            "metadata": {
                "id": "JZ2DXvH87oaD"
            },
            "outputs": [],
            "source": [
                "@hk.without_apply_rng\n",
                "@hk.transform\n",
                "def log_prob(data: Array) -> Array:\n",
                "    model = make_flow_model(\n",
                "        event_shape=MNIST_IMAGE_SHAPE,\n",
                "        num_layers=flow_num_layers,\n",
                "        hidden_sizes=[hidden_size] * mlp_num_layers,\n",
                "        num_bins=num_bins,\n",
                "    )\n",
                "    return model.log_prob(data)\n",
                "\n",
                "\n",
                "@hk.without_apply_rng\n",
                "@hk.transform\n",
                "def model_sample(key: PRNGKey, num_samples: int) -> Array:\n",
                "    model = make_flow_model(\n",
                "        event_shape=MNIST_IMAGE_SHAPE,\n",
                "        num_layers=flow_num_layers,\n",
                "        hidden_sizes=[hidden_size] * mlp_num_layers,\n",
                "        num_bins=num_bins,\n",
                "    )\n",
                "    return model.sample(seed=key, sample_shape=[num_samples])\n",
                "\n",
                "\n",
                "def loss_fn(params: hk.Params, prng_key: PRNGKey, batch: Batch) -> Array:\n",
                "    data = prepare_data(batch, prng_key)\n",
                "    # Loss is average negative log likelihood.\n",
                "    loss = -jnp.mean(log_prob.apply(params, data))\n",
                "    return loss\n",
                "\n",
                "\n",
                "@jax.jit\n",
                "def eval_fn(params: hk.Params, batch: Batch) -> Array:\n",
                "    data = prepare_data(batch)  # We don't dequantize during evaluation.\n",
                "    loss = -jnp.mean(log_prob.apply(params, data))\n",
                "    return loss"
            ]
        },
        {
            "cell_type": "markdown",
            "metadata": {
                "id": "ldAqassc7oaE"
            },
            "source": [
                "### Training   \n",
                "Next we define, the `update` function for the gradient update. We use `jax.grad` to calculate the gradient of loss wrt model parameters.  "
            ]
        },
        {
            "cell_type": "code",
            "execution_count": null,
            "metadata": {
                "id": "GisFglnr7oaF"
            },
            "outputs": [],
            "source": [
                "optimizer = optax.adam(learning_rate)\n",
                "\n",
                "\n",
                "@jax.jit\n",
                "def update(params: hk.Params, prng_key: PRNGKey, opt_state: OptState, batch: Batch) -> Tuple[hk.Params, OptState]:\n",
                "    \"\"\"Single SGD update step.\"\"\"\n",
                "    grads = jax.grad(loss_fn)(params, prng_key, batch)\n",
                "    updates, new_opt_state = optimizer.update(grads, opt_state)\n",
                "    new_params = optax.apply_updates(params, updates)\n",
                "    return new_params, new_opt_state"
            ]
        },
        {
            "cell_type": "markdown",
            "metadata": {
                "id": "IvWrGKTgNaSD"
            },
            "source": [
                "Now we carry out the training of the model."
            ]
        },
        {
            "cell_type": "code",
            "execution_count": null,
            "metadata": {
                "colab": {
                    "base_uri": "https://localhost:8080/"
                },
                "id": "kBvaapIO7oaF",
                "outputId": "12cf22ea-4155-4c46-dc5e-94f2b3345736"
            },
            "outputs": [
                {
                    "name": "stdout",
                    "output_type": "stream",
                    "text": [
                        "STEP:     0; Validation loss: -5.243\n",
                        "STEP:  1000; Validation loss: -3330.548\n",
                        "STEP:  2000; Validation loss: -3316.721\n",
                        "STEP:  3000; Validation loss: -3319.474\n",
                        "STEP:  4000; Validation loss: -3321.137\n",
                        "STEP:  5000; Validation loss: -3297.604\n",
                        "STEP:  6000; Validation loss: -3295.713\n",
                        "STEP:  7000; Validation loss: -3260.267\n",
                        "STEP:  8000; Validation loss: -3263.344\n",
                        "STEP:  9000; Validation loss: -3286.821\n",
                        "STEP: 10000; Validation loss: -3301.308\n",
                        "STEP: 11000; Validation loss: -3296.085\n",
                        "STEP: 12000; Validation loss: -3310.035\n",
                        "STEP: 13000; Validation loss: -3326.781\n",
                        "STEP: 14000; Validation loss: -3305.100\n",
                        "STEP: 15000; Validation loss: -3317.956\n",
                        "STEP: 16000; Validation loss: -3365.609\n",
                        "STEP: 17000; Validation loss: -3339.233\n",
                        "STEP: 18000; Validation loss: -3346.478\n",
                        "STEP: 19000; Validation loss: -3325.882\n",
                        "STEP: 20000; Validation loss: -3340.056\n",
                        "STEP: 21000; Validation loss: -3342.137\n",
                        "STEP: 22000; Validation loss: -3338.241\n",
                        "STEP: 23000; Validation loss: -3354.057\n",
                        "STEP: 24000; Validation loss: -3384.099\n",
                        "STEP: 25000; Validation loss: -3326.196\n",
                        "STEP: 26000; Validation loss: -3367.737\n",
                        "STEP: 27000; Validation loss: -3353.810\n",
                        "STEP: 28000; Validation loss: -3403.825\n",
                        "STEP: 29000; Validation loss: -3367.897\n",
                        "STEP: 30000; Validation loss: -3384.129\n",
                        "STEP: 31000; Validation loss: -3395.217\n",
                        "STEP: 32000; Validation loss: -3426.372\n",
                        "STEP: 33000; Validation loss: -3381.938\n",
                        "STEP: 34000; Validation loss: -3397.225\n",
                        "STEP: 35000; Validation loss: -3406.573\n",
                        "STEP: 36000; Validation loss: -3395.962\n",
                        "STEP: 37000; Validation loss: -3371.118\n",
                        "STEP: 38000; Validation loss: -3405.979\n",
                        "STEP: 39000; Validation loss: -3394.809\n",
                        "STEP: 40000; Validation loss: -3373.334\n",
                        "STEP: 41000; Validation loss: -3388.248\n",
                        "STEP: 42000; Validation loss: -3407.083\n",
                        "STEP: 43000; Validation loss: -3404.585\n",
                        "STEP: 44000; Validation loss: -3400.513\n",
                        "STEP: 45000; Validation loss: -3403.710\n",
                        "STEP: 46000; Validation loss: -3420.211\n",
                        "STEP: 47000; Validation loss: -3408.354\n",
                        "STEP: 48000; Validation loss: -3442.830\n",
                        "STEP: 49000; Validation loss: -3444.429\n",
                        "STEP: 50000; Validation loss: -3388.476\n",
                        "STEP: 51000; Validation loss: -3432.037\n",
                        "STEP: 52000; Validation loss: -3424.902\n",
                        "STEP: 53000; Validation loss: -3415.527\n",
                        "STEP: 54000; Validation loss: -3410.981\n",
                        "STEP: 55000; Validation loss: -3437.098\n",
                        "STEP: 56000; Validation loss: -3404.357\n",
                        "STEP: 57000; Validation loss: -3397.224\n",
                        "STEP: 58000; Validation loss: -3414.235\n",
                        "STEP: 59000; Validation loss: -3448.812\n",
                        "STEP: 60000; Validation loss: -3392.534\n",
                        "STEP: 61000; Validation loss: -3390.733\n",
                        "STEP: 62000; Validation loss: -3419.801\n",
                        "STEP: 63000; Validation loss: -3416.396\n",
                        "STEP: 64000; Validation loss: -3416.169\n",
                        "STEP: 65000; Validation loss: -3384.039\n",
                        "STEP: 66000; Validation loss: -3419.544\n",
                        "STEP: 67000; Validation loss: -3408.180\n",
                        "STEP: 68000; Validation loss: -3410.440\n",
                        "STEP: 69000; Validation loss: -3414.480\n",
                        "STEP: 70000; Validation loss: -3399.575\n",
                        "STEP: 71000; Validation loss: -3412.096\n",
                        "STEP: 72000; Validation loss: -3440.463\n",
                        "STEP: 73000; Validation loss: -3420.625\n",
                        "STEP: 74000; Validation loss: -3425.068\n",
                        "STEP: 75000; Validation loss: -3431.229\n",
                        "STEP: 76000; Validation loss: -3415.992\n",
                        "STEP: 77000; Validation loss: -3404.405\n",
                        "STEP: 78000; Validation loss: -3469.461\n",
                        "STEP: 79000; Validation loss: -3391.149\n",
                        "STEP: 80000; Validation loss: -3392.615\n",
                        "STEP: 81000; Validation loss: -3423.543\n",
                        "STEP: 82000; Validation loss: -3413.071\n",
                        "STEP: 83000; Validation loss: -3441.366\n",
                        "STEP: 84000; Validation loss: -3414.967\n",
                        "STEP: 85000; Validation loss: -3396.721\n",
                        "STEP: 86000; Validation loss: -3409.096\n",
                        "STEP: 87000; Validation loss: -3431.324\n",
                        "STEP: 88000; Validation loss: -3437.945\n",
                        "STEP: 89000; Validation loss: -3433.234\n",
                        "STEP: 90000; Validation loss: -3422.854\n",
                        "STEP: 91000; Validation loss: -3404.757\n",
                        "STEP: 92000; Validation loss: -3427.891\n",
                        "STEP: 93000; Validation loss: -3431.066\n",
                        "STEP: 94000; Validation loss: -3439.144\n",
                        "STEP: 95000; Validation loss: -3432.875\n",
                        "STEP: 96000; Validation loss: -3410.505\n",
                        "STEP: 97000; Validation loss: -3375.825\n",
                        "STEP: 98000; Validation loss: -3402.304\n",
                        "STEP: 99000; Validation loss: -3391.469\n"
                    ]
                }
            ],
            "source": [
                "prng_seq = hk.PRNGSequence(42)\n",
                "params = log_prob.init(next(prng_seq), np.zeros((1, *MNIST_IMAGE_SHAPE)))\n",
                "opt_state = optimizer.init(params)\n",
                "train_ds = load_dataset(tfds.Split.TRAIN, batch_size)\n",
                "valid_ds = load_dataset(tfds.Split.TEST, batch_size)\n",
                "for step in range(training_steps):\n",
                "    params, opt_state = update(params, next(prng_seq), opt_state, next(train_ds))\n",
                "\n",
                "    if step % eval_frequency == 0:\n",
                "        val_loss = eval_fn(params, next(valid_ds))\n",
                "        print(f\"STEP: {step:5d}; Validation loss: {val_loss:.3f}\")"
            ]
        },
        {
            "cell_type": "markdown",
            "metadata": {
                "id": "dlA6fiYn7oaH"
            },
            "source": [
                "### Sampling from Trained Flow Model"
            ]
        },
        {
            "cell_type": "markdown",
            "metadata": {
                "id": "aczbVzmAOlH4"
            },
            "source": [
                "### Plot new samples\n",
                "After the model has been trained in MNIST, we draw new samples and plot them. Once the model has been trained enough, these should look like MNIST dataset digits."
            ]
        },
        {
            "cell_type": "code",
            "execution_count": null,
            "metadata": {
                "colab": {
                    "base_uri": "https://localhost:8080/",
                    "height": 246
                },
                "id": "Qt59aIVl7oaI",
                "outputId": "62ef5147-c177-465c-82a8-471a784a4f6b"
            },
            "outputs": [
                {
                    "data": {
                        "image/png": "[encoded data removed]",
                        "text/plain": [
                            "<Figure size 720x288 with 10 Axes>"
                        ]
                    },
                    "metadata": {
                        "needs_background": "light"
                    },
                    "output_type": "display_data"
                }
            ],
            "source": [
                "def plot_batch(batch: Batch) -> None:\n",
                "    \"\"\"Plots a batch of MNIST digits.\"\"\"\n",
                "    images = batch.reshape((-1,) + MNIST_IMAGE_SHAPE)\n",
                "    plt.figure(figsize=(10, 4))\n",
                "    for i in range(10):\n",
                "        plt.subplot(2, 5, i + 1)\n",
                "        plt.imshow(np.squeeze(images[i]), cmap=\"gray\")\n",
                "        plt.axis(\"off\")\n",
                "    plt.show()\n",
                "\n",
                "\n",
                "sample = model_sample.apply(params, next(prng_seq), num_samples=10)\n",
                "plot_batch(sample)"
            ]
        }
    ],
    "metadata": {
        "accelerator": "GPU",
        "colab": {
            "collapsed_sections": [],
            "include_colab_link": true,
            "name": "mnist_spline_flow.ipynb",
            "provenance": []
        },
        "interpreter": {
            "hash": "b444a8a50c005290911b7a1b2bedac1d9c40e4ef30d4a73bdc576c10e0bd6118"
        },
        "kernelspec": {
            "display_name": "Python 3.7.11 ('probml')",
            "language": "python",
            "name": "python3"
        },
        "language_info": {
            "codemirror_mode": {
                "name": "ipython",
                "version": 3
            },
            "file_extension": ".py",
            "mimetype": "text/x-python",
            "name": "python",
            "nbconvert_exporter": "python",
            "pygments_lexer": "ipython3",
            "version": "3.7.11"
        }
    },
    "nbformat": 4,
    "nbformat_minor": 0
}