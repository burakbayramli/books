{
    "cells": [
        {
            "cell_type": "markdown",
            "metadata": {
                "colab_type": "text",
                "id": "view-in-github"
            },
            "source": [
                "<a href=\"https://colab.research.google.com/github/probml/pyprobml/blob/master/notebooks/poisson_regression_insurance.ipynb\" target=\"_parent\"><img src=\"https://colab.research.google.com/assets/colab-badge.svg\" alt=\"Open In Colab\"/></a>"
            ]
        },
        {
            "cell_type": "markdown",
            "metadata": {
                "id": "8dBgvvOgLktb"
            },
            "source": [
                "# Poisson regression for predicting insurance claim rates\n",
                "\n",
                "https://scikit-learn.org/stable/auto_examples/linear_model/plot_poisson_regression_non_normal_loss.html?highlight=poisson%20regression\n"
            ]
        },
        {
            "cell_type": "code",
            "execution_count": 5,
            "metadata": {
                "id": "seiYZOhfLiZ8"
            },
            "outputs": [],
            "source": [
                "import numpy as np\n",
                "import matplotlib.pyplot as plt\n",
                "import pandas as pd"
            ]
        },
        {
            "cell_type": "code",
            "execution_count": 1,
            "metadata": {
                "colab": {
                    "base_uri": "https://localhost:8080/"
                },
                "id": "FNjDwPtqQYb6",
                "outputId": "d83e8e4c-dab9-4ede-eb38-4cf0d40c79c1"
            },
            "outputs": [
                {
                    "name": "stdout",
                    "output_type": "stream",
                    "text": [
                        "0.24.2\n"
                    ]
                }
            ],
            "source": [
                "import sklearn\n",
                "\n",
                "print(sklearn.__version__)\n",
                "from sklearn.linear_model import PoissonRegressor"
            ]
        },
        {
            "cell_type": "markdown",
            "metadata": {
                "id": "Di5Z5jWELxbz"
            },
            "source": [
                "# Data"
            ]
        },
        {
            "cell_type": "code",
            "execution_count": 3,
            "metadata": {
                "colab": {
                    "base_uri": "https://localhost:8080/",
                    "height": 419
                },
                "id": "E6FFyFEkLqeW",
                "outputId": "1fb39665-7789-4ec3-dd42-0ab005234b99"
            },
            "outputs": [
                {
                    "data": {
                        "text/html": [
                            "<div>\n",
                            "<style scoped>\n",
                            "    .dataframe tbody tr th:only-of-type {\n",
                            "        vertical-align: middle;\n",
                            "    }\n",
                            "\n",
                            "    .dataframe tbody tr th {\n",
                            "        vertical-align: top;\n",
                            "    }\n",
                            "\n",
                            "    .dataframe thead th {\n",
                            "        text-align: right;\n",
                            "    }\n",
                            "</style>\n",
                            "<table border=\"1\" class=\"dataframe\">\n",
                            "  <thead>\n",
                            "    <tr style=\"text-align: right;\">\n",
                            "      <th></th>\n",
                            "      <th>IDpol</th>\n",
                            "      <th>ClaimNb</th>\n",
                            "      <th>Exposure</th>\n",
                            "      <th>Area</th>\n",
                            "      <th>VehPower</th>\n",
                            "      <th>VehAge</th>\n",
                            "      <th>DrivAge</th>\n",
                            "      <th>BonusMalus</th>\n",
                            "      <th>VehBrand</th>\n",
                            "      <th>VehGas</th>\n",
                            "      <th>Density</th>\n",
                            "      <th>Region</th>\n",
                            "    </tr>\n",
                            "  </thead>\n",
                            "  <tbody>\n",
                            "    <tr>\n",
                            "      <th>0</th>\n",
                            "      <td>1.0</td>\n",
                            "      <td>1.0</td>\n",
                            "      <td>0.10000</td>\n",
                            "      <td>D</td>\n",
                            "      <td>5.0</td>\n",
                            "      <td>0.0</td>\n",
                            "      <td>55.0</td>\n",
                            "      <td>50.0</td>\n",
                            "      <td>B12</td>\n",
                            "      <td>Regular</td>\n",
                            "      <td>1217.0</td>\n",
                            "      <td>R82</td>\n",
                            "    </tr>\n",
                            "    <tr>\n",
                            "      <th>1</th>\n",
                            "      <td>3.0</td>\n",
                            "      <td>1.0</td>\n",
                            "      <td>0.77000</td>\n",
                            "      <td>D</td>\n",
                            "      <td>5.0</td>\n",
                            "      <td>0.0</td>\n",
                            "      <td>55.0</td>\n",
                            "      <td>50.0</td>\n",
                            "      <td>B12</td>\n",
                            "      <td>Regular</td>\n",
                            "      <td>1217.0</td>\n",
                            "      <td>R82</td>\n",
                            "    </tr>\n",
                            "    <tr>\n",
                            "      <th>2</th>\n",
                            "      <td>5.0</td>\n",
                            "      <td>1.0</td>\n",
                            "      <td>0.75000</td>\n",
                            "      <td>B</td>\n",
                            "      <td>6.0</td>\n",
                            "      <td>2.0</td>\n",
                            "      <td>52.0</td>\n",
                            "      <td>50.0</td>\n",
                            "      <td>B12</td>\n",
                            "      <td>Diesel</td>\n",
                            "      <td>54.0</td>\n",
                            "      <td>R22</td>\n",
                            "    </tr>\n",
                            "    <tr>\n",
                            "      <th>3</th>\n",
                            "      <td>10.0</td>\n",
                            "      <td>1.0</td>\n",
                            "      <td>0.09000</td>\n",
                            "      <td>B</td>\n",
                            "      <td>7.0</td>\n",
                            "      <td>0.0</td>\n",
                            "      <td>46.0</td>\n",
                            "      <td>50.0</td>\n",
                            "      <td>B12</td>\n",
                            "      <td>Diesel</td>\n",
                            "      <td>76.0</td>\n",
                            "      <td>R72</td>\n",
                            "    </tr>\n",
                            "    <tr>\n",
                            "      <th>4</th>\n",
                            "      <td>11.0</td>\n",
                            "      <td>1.0</td>\n",
                            "      <td>0.84000</td>\n",
                            "      <td>B</td>\n",
                            "      <td>7.0</td>\n",
                            "      <td>0.0</td>\n",
                            "      <td>46.0</td>\n",
                            "      <td>50.0</td>\n",
                            "      <td>B12</td>\n",
                            "      <td>Diesel</td>\n",
                            "      <td>76.0</td>\n",
                            "      <td>R72</td>\n",
                            "    </tr>\n",
                            "    <tr>\n",
                            "      <th>...</th>\n",
                            "      <td>...</td>\n",
                            "      <td>...</td>\n",
                            "      <td>...</td>\n",
                            "      <td>...</td>\n",
                            "      <td>...</td>\n",
                            "      <td>...</td>\n",
                            "      <td>...</td>\n",
                            "      <td>...</td>\n",
                            "      <td>...</td>\n",
                            "      <td>...</td>\n",
                            "      <td>...</td>\n",
                            "      <td>...</td>\n",
                            "    </tr>\n",
                            "    <tr>\n",
                            "      <th>678008</th>\n",
                            "      <td>6114326.0</td>\n",
                            "      <td>0.0</td>\n",
                            "      <td>0.00274</td>\n",
                            "      <td>E</td>\n",
                            "      <td>4.0</td>\n",
                            "      <td>0.0</td>\n",
                            "      <td>54.0</td>\n",
                            "      <td>50.0</td>\n",
                            "      <td>B12</td>\n",
                            "      <td>Regular</td>\n",
                            "      <td>3317.0</td>\n",
                            "      <td>R93</td>\n",
                            "    </tr>\n",
                            "    <tr>\n",
                            "      <th>678009</th>\n",
                            "      <td>6114327.0</td>\n",
                            "      <td>0.0</td>\n",
                            "      <td>0.00274</td>\n",
                            "      <td>E</td>\n",
                            "      <td>4.0</td>\n",
                            "      <td>0.0</td>\n",
                            "      <td>41.0</td>\n",
                            "      <td>95.0</td>\n",
                            "      <td>B12</td>\n",
                            "      <td>Regular</td>\n",
                            "      <td>9850.0</td>\n",
                            "      <td>R11</td>\n",
                            "    </tr>\n",
                            "    <tr>\n",
                            "      <th>678010</th>\n",
                            "      <td>6114328.0</td>\n",
                            "      <td>0.0</td>\n",
                            "      <td>0.00274</td>\n",
                            "      <td>D</td>\n",
                            "      <td>6.0</td>\n",
                            "      <td>2.0</td>\n",
                            "      <td>45.0</td>\n",
                            "      <td>50.0</td>\n",
                            "      <td>B12</td>\n",
                            "      <td>Diesel</td>\n",
                            "      <td>1323.0</td>\n",
                            "      <td>R82</td>\n",
                            "    </tr>\n",
                            "    <tr>\n",
                            "      <th>678011</th>\n",
                            "      <td>6114329.0</td>\n",
                            "      <td>0.0</td>\n",
                            "      <td>0.00274</td>\n",
                            "      <td>B</td>\n",
                            "      <td>4.0</td>\n",
                            "      <td>0.0</td>\n",
                            "      <td>60.0</td>\n",
                            "      <td>50.0</td>\n",
                            "      <td>B12</td>\n",
                            "      <td>Regular</td>\n",
                            "      <td>95.0</td>\n",
                            "      <td>R26</td>\n",
                            "    </tr>\n",
                            "    <tr>\n",
                            "      <th>678012</th>\n",
                            "      <td>6114330.0</td>\n",
                            "      <td>0.0</td>\n",
                            "      <td>0.00274</td>\n",
                            "      <td>B</td>\n",
                            "      <td>7.0</td>\n",
                            "      <td>6.0</td>\n",
                            "      <td>29.0</td>\n",
                            "      <td>54.0</td>\n",
                            "      <td>B12</td>\n",
                            "      <td>Diesel</td>\n",
                            "      <td>65.0</td>\n",
                            "      <td>R72</td>\n",
                            "    </tr>\n",
                            "  </tbody>\n",
                            "</table>\n",
                            "<p>678013 rows × 12 columns</p>\n",
                            "</div>"
                        ],
                        "text/plain": [
                            "            IDpol  ClaimNb  Exposure Area  ...  VehBrand   VehGas  Density  Region\n",
                            "0             1.0      1.0   0.10000    D  ...       B12  Regular   1217.0     R82\n",
                            "1             3.0      1.0   0.77000    D  ...       B12  Regular   1217.0     R82\n",
                            "2             5.0      1.0   0.75000    B  ...       B12   Diesel     54.0     R22\n",
                            "3            10.0      1.0   0.09000    B  ...       B12   Diesel     76.0     R72\n",
                            "4            11.0      1.0   0.84000    B  ...       B12   Diesel     76.0     R72\n",
                            "...           ...      ...       ...  ...  ...       ...      ...      ...     ...\n",
                            "678008  6114326.0      0.0   0.00274    E  ...       B12  Regular   3317.0     R93\n",
                            "678009  6114327.0      0.0   0.00274    E  ...       B12  Regular   9850.0     R11\n",
                            "678010  6114328.0      0.0   0.00274    D  ...       B12   Diesel   1323.0     R82\n",
                            "678011  6114329.0      0.0   0.00274    B  ...       B12  Regular     95.0     R26\n",
                            "678012  6114330.0      0.0   0.00274    B  ...       B12   Diesel     65.0     R72\n",
                            "\n",
                            "[678013 rows x 12 columns]"
                        ]
                    },
                    "execution_count": 3,
                    "metadata": {
                        "tags": []
                    },
                    "output_type": "execute_result"
                }
            ],
            "source": [
                "from sklearn.datasets import fetch_openml\n",
                "\n",
                "\n",
                "df = fetch_openml(data_id=41214, as_frame=True).frame\n",
                "df"
            ]
        },
        {
            "cell_type": "code",
            "execution_count": 6,
            "metadata": {
                "colab": {
                    "base_uri": "https://localhost:8080/",
                    "height": 315
                },
                "id": "PQgENIDEMAZI",
                "outputId": "08e22267-b927-44f1-98a1-48d4239603f8"
            },
            "outputs": [
                {
                    "name": "stdout",
                    "output_type": "stream",
                    "text": [
                        "Average Frequency = 0.10070308464041304\n",
                        "Fraction of exposure with zero claims = 93.9%\n"
                    ]
                },
                {
                    "data": {
                        "image/png": "[encoded data removed]",
                        "text/plain": [
                            "<Figure size 432x288 with 1 Axes>"
                        ]
                    },
                    "metadata": {
                        "needs_background": "light",
                        "tags": []
                    },
                    "output_type": "display_data"
                }
            ],
            "source": [
                "df[\"Frequency\"] = df[\"ClaimNb\"] / df[\"Exposure\"]\n",
                "\n",
                "print(\"Average Frequency = {}\".format(np.average(df[\"Frequency\"], weights=df[\"Exposure\"])))\n",
                "\n",
                "print(\n",
                "    \"Fraction of exposure with zero claims = {0:.1%}\".format(\n",
                "        df.loc[df[\"ClaimNb\"] == 0, \"Exposure\"].sum() / df[\"Exposure\"].sum()\n",
                "    )\n",
                ")\n",
                "\n",
                "fig, ax = plt.subplots()\n",
                "ax.set_title(\"Frequency (number of claims per year)\")\n",
                "_ = df[\"Frequency\"].hist(bins=30, log=True, ax=ax)"
            ]
        },
        {
            "cell_type": "code",
            "execution_count": 34,
            "metadata": {
                "colab": {
                    "base_uri": "https://localhost:8080/"
                },
                "id": "saTm9Z6KUxZO",
                "outputId": "83717f16-6204-474f-be10-99f9556dff6e"
            },
            "outputs": [
                {
                    "name": "stdout",
                    "output_type": "stream",
                    "text": [
                        "0         10.000000\n",
                        "1          1.298701\n",
                        "2          1.333333\n",
                        "3         11.111111\n",
                        "4          1.190476\n",
                        "            ...    \n",
                        "677988     0.000000\n",
                        "677989     0.000000\n",
                        "677990     0.000000\n",
                        "677991     0.000000\n",
                        "677992     0.000000\n",
                        "Name: Frequency, Length: 677993, dtype: float64\n"
                    ]
                }
            ],
            "source": [
                "print(df[\"Frequency\"][:-20])"
            ]
        },
        {
            "cell_type": "code",
            "execution_count": 7,
            "metadata": {
                "id": "x7HJBPSOMWpX"
            },
            "outputs": [],
            "source": [
                "from sklearn.model_selection import train_test_split\n",
                "\n",
                "df_train, df_test = train_test_split(df, test_size=0.33, random_state=0)"
            ]
        },
        {
            "cell_type": "code",
            "execution_count": 29,
            "metadata": {
                "colab": {
                    "base_uri": "https://localhost:8080/",
                    "height": 265
                },
                "id": "_6TFmcx8TXNz",
                "outputId": "1053066f-e1aa-4f54-9fda-e4d9d610f158"
            },
            "outputs": [
                {
                    "data": {
                        "image/png": "[encoded data removed]",
                        "text/plain": [
                            "<Figure size 432x288 with 1 Axes>"
                        ]
                    },
                    "metadata": {
                        "needs_background": "light",
                        "tags": []
                    },
                    "output_type": "display_data"
                }
            ],
            "source": [
                "fig, ax = plt.subplots()\n",
                "n_bins = 20\n",
                "_ = df_test[\"Frequency\"].hist(bins=np.linspace(-1, 30, n_bins), ax=ax)\n",
                "ax.set_yscale(\"log\")"
            ]
        },
        {
            "cell_type": "markdown",
            "metadata": {
                "id": "xJ2hTkNAMiun"
            },
            "source": [
                "# Feature engineering"
            ]
        },
        {
            "cell_type": "code",
            "execution_count": 8,
            "metadata": {
                "id": "qU8927WJMhwl"
            },
            "outputs": [],
            "source": [
                "from sklearn.pipeline import make_pipeline\n",
                "from sklearn.preprocessing import FunctionTransformer, OneHotEncoder\n",
                "from sklearn.preprocessing import StandardScaler, KBinsDiscretizer\n",
                "from sklearn.compose import ColumnTransformer\n",
                "\n",
                "\n",
                "log_scale_transformer = make_pipeline(FunctionTransformer(np.log, validate=False), StandardScaler())\n",
                "\n",
                "linear_model_preprocessor = ColumnTransformer(\n",
                "    [\n",
                "        (\"passthrough_numeric\", \"passthrough\", [\"BonusMalus\"]),\n",
                "        (\"binned_numeric\", KBinsDiscretizer(n_bins=10), [\"VehAge\", \"DrivAge\"]),\n",
                "        (\"log_scaled_numeric\", log_scale_transformer, [\"Density\"]),\n",
                "        (\"onehot_categorical\", OneHotEncoder(), [\"VehBrand\", \"VehPower\", \"VehGas\", \"Region\", \"Area\"]),\n",
                "    ],\n",
                "    remainder=\"drop\",\n",
                ")"
            ]
        },
        {
            "cell_type": "markdown",
            "metadata": {
                "id": "TcLGQIaOMr9R"
            },
            "source": [
                "# Evaluation metrics"
            ]
        },
        {
            "cell_type": "code",
            "execution_count": 9,
            "metadata": {
                "id": "022GPhFtMuNx"
            },
            "outputs": [],
            "source": [
                "from sklearn.metrics import mean_squared_error\n",
                "from sklearn.metrics import mean_absolute_error\n",
                "from sklearn.metrics import mean_poisson_deviance\n",
                "\n",
                "\n",
                "def score_estimator(estimator, df_test):\n",
                "    \"\"\"Score an estimator on the test set.\"\"\"\n",
                "    y_pred = estimator.predict(df_test)\n",
                "\n",
                "    print(\"MSE: %.3f\" % mean_squared_error(df_test[\"Frequency\"], y_pred, sample_weight=df_test[\"Exposure\"]))\n",
                "    print(\"MAE: %.3f\" % mean_absolute_error(df_test[\"Frequency\"], y_pred, sample_weight=df_test[\"Exposure\"]))\n",
                "\n",
                "    # Ignore non-positive predictions, as they are invalid for\n",
                "    # the Poisson deviance.\n",
                "    mask = y_pred > 0\n",
                "    if (~mask).any():\n",
                "        n_masked, n_samples = (~mask).sum(), mask.shape[0]\n",
                "        print(\n",
                "            f\"WARNING: Estimator yields invalid, non-positive predictions \"\n",
                "            f\" for {n_masked} samples out of {n_samples}. These predictions \"\n",
                "            f\"are ignored when computing the Poisson deviance.\"\n",
                "        )\n",
                "\n",
                "    print(\n",
                "        \"mean Poisson deviance: %.3f\"\n",
                "        % mean_poisson_deviance(df_test[\"Frequency\"][mask], y_pred[mask], sample_weight=df_test[\"Exposure\"][mask])\n",
                "    )"
            ]
        },
        {
            "cell_type": "code",
            "execution_count": 30,
            "metadata": {
                "id": "5LvBbR3LM1yl"
            },
            "outputs": [],
            "source": [
                "def plot_predictions(models):\n",
                "    nmodels = len(models)\n",
                "    height = 5\n",
                "    width = 5 * (nmodels + 1)\n",
                "    fig, axes = plt.subplots(nrows=1, ncols=nmodels + 1, figsize=(width, height), sharey=True)\n",
                "    n_bins = 20\n",
                "    df = df_test.copy()\n",
                "    ax = axes[0]\n",
                "    df[\"Frequency\"].hist(bins=np.linspace(-1, 30, n_bins), ax=ax)\n",
                "    ax.set_title(\"Data\")\n",
                "    ax.set_yscale(\"log\")\n",
                "    ax.set_xlabel(\"y (observed Frequency)\")\n",
                "    # ax.set_ylim([1e1, 5e5])\n",
                "    ax.set_ylabel(\"#samples\")\n",
                "\n",
                "    for idx, model in enumerate(models):\n",
                "        ax = axes[idx + 1]\n",
                "        y_pred = model.predict(df)\n",
                "        pd.Series(y_pred).hist(bins=np.linspace(-1, 4, n_bins), ax=ax)\n",
                "        ax.set(title=model[-1].__class__.__name__, yscale=\"log\", xlabel=\"y_pred (predicted expected Frequency)\")\n",
                "\n",
                "    plt.tight_layout()"
            ]
        },
        {
            "cell_type": "markdown",
            "metadata": {
                "id": "AaRi1NEnMZra"
            },
            "source": [
                "# Dummy model\n",
                "\n",
                "Just predicts overall mean."
            ]
        },
        {
            "cell_type": "code",
            "execution_count": 35,
            "metadata": {
                "id": "qAsIMLW9Y_2z"
            },
            "outputs": [],
            "source": [
                "from sklearn.dummy import DummyRegressor\n",
                "from sklearn.pipeline import Pipeline\n",
                "\n",
                "dummy = Pipeline(\n",
                "    [\n",
                "        (\"preprocessor\", linear_model_preprocessor),\n",
                "        (\"regressor\", DummyRegressor(strategy=\"mean\")),\n",
                "    ]\n",
                ").fit(df_train, df_train[\"Frequency\"])"
            ]
        },
        {
            "cell_type": "code",
            "execution_count": 36,
            "metadata": {
                "colab": {
                    "base_uri": "https://localhost:8080/"
                },
                "id": "Uc4Vv_1lZC09",
                "outputId": "2325c17e-c01b-4ec4-868b-f667bfcf8e31"
            },
            "outputs": [
                {
                    "name": "stdout",
                    "output_type": "stream",
                    "text": [
                        "[0.26520328 0.26520328 0.26520328 0.26520328 0.26520328]\n"
                    ]
                }
            ],
            "source": [
                "y_pred = dummy.predict(df_test)\n",
                "print(y_pred[0:5])"
            ]
        },
        {
            "cell_type": "markdown",
            "metadata": {
                "id": "eco9nvvZai8B"
            },
            "source": [
                "We need to weight the examples by exposure, for reasons explained here:\n",
                "https://github.com/scikit-learn/scikit-learn/issues/18059"
            ]
        },
        {
            "cell_type": "code",
            "execution_count": 37,
            "metadata": {
                "id": "n55jU9YtZGHO"
            },
            "outputs": [],
            "source": [
                "# weighted version\n",
                "from sklearn.dummy import DummyRegressor\n",
                "from sklearn.pipeline import Pipeline\n",
                "\n",
                "dummy = Pipeline(\n",
                "    [\n",
                "        (\"preprocessor\", linear_model_preprocessor),\n",
                "        (\"regressor\", DummyRegressor(strategy=\"mean\")),\n",
                "    ]\n",
                ").fit(df_train, df_train[\"Frequency\"], regressor__sample_weight=df_train[\"Exposure\"])"
            ]
        },
        {
            "cell_type": "code",
            "execution_count": 38,
            "metadata": {
                "colab": {
                    "base_uri": "https://localhost:8080/"
                },
                "id": "-MVrzS0wPIDA",
                "outputId": "eb21e9f9-e628-4fb4-fd27-15aac228cc7f"
            },
            "outputs": [
                {
                    "name": "stdout",
                    "output_type": "stream",
                    "text": [
                        "[0.10069261 0.10069261 0.10069261 0.10069261 0.10069261]\n"
                    ]
                }
            ],
            "source": [
                "y_pred = dummy.predict(df_test)\n",
                "print(y_pred[0:5])"
            ]
        },
        {
            "cell_type": "code",
            "execution_count": 13,
            "metadata": {
                "colab": {
                    "base_uri": "https://localhost:8080/"
                },
                "id": "lgcLhhZSNhMZ",
                "outputId": "6e67a6f9-1252-4490-fe42-3c83f5364946"
            },
            "outputs": [
                {
                    "name": "stdout",
                    "output_type": "stream",
                    "text": [
                        "Constant mean frequency evaluation:\n",
                        "MSE: 0.564\n",
                        "MAE: 0.189\n",
                        "mean Poisson deviance: 0.625\n"
                    ]
                }
            ],
            "source": [
                "print(\"Constant mean frequency evaluation:\")\n",
                "score_estimator(dummy, df_test)"
            ]
        },
        {
            "cell_type": "markdown",
            "metadata": {
                "id": "Acsr7ZpFPhVP"
            },
            "source": [
                "# Linear regression\n",
                "\n",
                "Linear regression is an okay baseline, but not the most appropriate model for count data... We see the L2 regularization to a small value, since the training set is large.\n"
            ]
        },
        {
            "cell_type": "code",
            "execution_count": 15,
            "metadata": {
                "id": "HHILjZFHNp2k"
            },
            "outputs": [],
            "source": [
                "from sklearn.linear_model import Ridge\n",
                "\n",
                "\n",
                "ridge_glm = Pipeline(\n",
                "    [\n",
                "        (\"preprocessor\", linear_model_preprocessor),\n",
                "        (\"regressor\", Ridge(alpha=1e-6)),\n",
                "    ]\n",
                ").fit(df_train, df_train[\"Frequency\"], regressor__sample_weight=df_train[\"Exposure\"])"
            ]
        },
        {
            "cell_type": "code",
            "execution_count": 16,
            "metadata": {
                "colab": {
                    "base_uri": "https://localhost:8080/"
                },
                "id": "3jq8dwgaPo2k",
                "outputId": "159e3412-9a86-493d-9436-cb74d598c274"
            },
            "outputs": [
                {
                    "name": "stdout",
                    "output_type": "stream",
                    "text": [
                        "Ridge evaluation:\n",
                        "MSE: 0.560\n",
                        "MAE: 0.177\n",
                        "WARNING: Estimator yields invalid, non-positive predictions  for 1315 samples out of 223745. These predictions are ignored when computing the Poisson deviance.\n",
                        "mean Poisson deviance: 0.601\n"
                    ]
                }
            ],
            "source": [
                "print(\"Ridge evaluation:\")\n",
                "score_estimator(ridge_glm, df_test)"
            ]
        },
        {
            "cell_type": "markdown",
            "metadata": {
                "id": "C92kplS5PuQh"
            },
            "source": [
                "# Poisson linear regression\n",
                "\n",
                "We set the L2 regularizer to the same value as in ridge regression, but divided by the number of training samples, since poisson regression penalizes the average log likelihood.\n"
            ]
        },
        {
            "cell_type": "code",
            "execution_count": 17,
            "metadata": {
                "colab": {
                    "base_uri": "https://localhost:8080/"
                },
                "id": "HUCepZMsPwZP",
                "outputId": "627a856c-cbf0-412d-b639-d1702e471389"
            },
            "outputs": [
                {
                    "data": {
                        "text/plain": [
                            "Pipeline(steps=[('preprocessor',\n",
                            "                 ColumnTransformer(transformers=[('passthrough_numeric',\n",
                            "                                                  'passthrough',\n",
                            "                                                  ['BonusMalus']),\n",
                            "                                                 ('binned_numeric',\n",
                            "                                                  KBinsDiscretizer(n_bins=10),\n",
                            "                                                  ['VehAge', 'DrivAge']),\n",
                            "                                                 ('log_scaled_numeric',\n",
                            "                                                  Pipeline(steps=[('functiontransformer',\n",
                            "                                                                   FunctionTransformer(func=<ufunc 'log'>)),\n",
                            "                                                                  ('standardscaler',\n",
                            "                                                                   StandardScaler())]),\n",
                            "                                                  ['Density']),\n",
                            "                                                 ('onehot_categorical',\n",
                            "                                                  OneHotEncoder(),\n",
                            "                                                  ['VehBrand', 'VehPower',\n",
                            "                                                   'VehGas', 'Region',\n",
                            "                                                   'Area'])])),\n",
                            "                ('regressor', PoissonRegressor(alpha=1e-12, max_iter=300))])"
                        ]
                    },
                    "execution_count": 17,
                    "metadata": {
                        "tags": []
                    },
                    "output_type": "execute_result"
                }
            ],
            "source": [
                "from sklearn.linear_model import PoissonRegressor\n",
                "\n",
                "n_samples = df_train.shape[0]\n",
                "\n",
                "poisson_glm = Pipeline(\n",
                "    [(\"preprocessor\", linear_model_preprocessor), (\"regressor\", PoissonRegressor(alpha=1e-12, max_iter=300))]\n",
                ")\n",
                "poisson_glm.fit(df_train, df_train[\"Frequency\"], regressor__sample_weight=df_train[\"Exposure\"])"
            ]
        },
        {
            "cell_type": "code",
            "execution_count": 18,
            "metadata": {
                "colab": {
                    "base_uri": "https://localhost:8080/"
                },
                "id": "m0Lvr89wP9F7",
                "outputId": "38a0cb22-dcc1-4ea5-81e8-e6a0bfb76832"
            },
            "outputs": [
                {
                    "name": "stdout",
                    "output_type": "stream",
                    "text": [
                        "PoissonRegressor evaluation:\n",
                        "MSE: 0.560\n",
                        "MAE: 0.186\n",
                        "mean Poisson deviance: 0.594\n"
                    ]
                }
            ],
            "source": [
                "print(\"PoissonRegressor evaluation:\")\n",
                "score_estimator(poisson_glm, df_test)"
            ]
        },
        {
            "cell_type": "markdown",
            "metadata": {
                "id": "Z2cMUYJ8RQoe"
            },
            "source": [
                "# Comparison"
            ]
        },
        {
            "cell_type": "code",
            "execution_count": 31,
            "metadata": {
                "colab": {
                    "base_uri": "https://localhost:8080/",
                    "height": 369
                },
                "id": "zW6qZ6gMRReW",
                "outputId": "c922f9e6-b257-47da-88d8-05904ffa8d23"
            },
            "outputs": [
                {
                    "data": {
                        "image/png": "[encoded data removed]",
                        "text/plain": [
                            "<Figure size 1080x360 with 3 Axes>"
                        ]
                    },
                    "metadata": {
                        "needs_background": "light",
                        "tags": []
                    },
                    "output_type": "display_data"
                }
            ],
            "source": [
                "plot_predictions([ridge_glm, poisson_glm])"
            ]
        },
        {
            "cell_type": "code",
            "execution_count": 44,
            "metadata": {
                "colab": {
                    "base_uri": "https://localhost:8080/",
                    "height": 299
                },
                "id": "43Y-puKOSXOs",
                "outputId": "7192b9ff-fda7-4b1d-dce5-b669bf253fed"
            },
            "outputs": [
                {
                    "data": {
                        "image/png": "[encoded data removed]",
                        "text/plain": [
                            "<Figure size 1440x360 with 4 Axes>"
                        ]
                    },
                    "metadata": {
                        "needs_background": "light",
                        "tags": []
                    },
                    "output_type": "display_data"
                }
            ],
            "source": [
                "plot_predictions([dummy, ridge_glm, poisson_glm])\n",
                "plt.savefig(\"poisson_regr_insurance_pred.pdf\")"
            ]
        },
        {
            "cell_type": "code",
            "execution_count": 42,
            "metadata": {
                "colab": {
                    "base_uri": "https://localhost:8080/"
                },
                "id": "ZdS34iAQbL6D",
                "outputId": "0269d5d6-1543-41e0-8822-a1f7d68b33e4"
            },
            "outputs": [
                {
                    "name": "stdout",
                    "output_type": "stream",
                    "text": [
                        "DummyRegressor\n",
                        "MSE: 0.564\n",
                        "MAE: 0.189\n",
                        "mean Poisson deviance: 0.625\n",
                        "Ridge\n",
                        "MSE: 0.560\n",
                        "MAE: 0.177\n",
                        "WARNING: Estimator yields invalid, non-positive predictions  for 1315 samples out of 223745. These predictions are ignored when computing the Poisson deviance.\n",
                        "mean Poisson deviance: 0.601\n",
                        "PoissonRegressor\n",
                        "MSE: 0.560\n",
                        "MAE: 0.186\n",
                        "mean Poisson deviance: 0.594\n"
                    ]
                }
            ],
            "source": [
                "for model in [dummy, ridge_glm, poisson_glm]:\n",
                "    print(model[-1].__class__.__name__)\n",
                "    score_estimator(model, df_test)"
            ]
        },
        {
            "cell_type": "markdown",
            "metadata": {
                "id": "9M5eRU8ORcnZ"
            },
            "source": [
                "# Calibration plot"
            ]
        },
        {
            "cell_type": "code",
            "execution_count": 23,
            "metadata": {
                "id": "3-4QcAI_RVtZ"
            },
            "outputs": [],
            "source": [
                "from sklearn.utils import gen_even_slices\n",
                "\n",
                "\n",
                "def _mean_frequency_by_risk_group(y_true, y_pred, sample_weight=None, n_bins=100):\n",
                "    \"\"\"Compare predictions and observations for bins ordered by y_pred.\n",
                "\n",
                "    We order the samples by ``y_pred`` and split it in bins.\n",
                "    In each bin the observed mean is compared with the predicted mean.\n",
                "\n",
                "    Parameters\n",
                "    ----------\n",
                "    y_true: array-like of shape (n_samples,)\n",
                "        Ground truth (correct) target values.\n",
                "    y_pred: array-like of shape (n_samples,)\n",
                "        Estimated target values.\n",
                "    sample_weight : array-like of shape (n_samples,)\n",
                "        Sample weights.\n",
                "    n_bins: int\n",
                "        Number of bins to use.\n",
                "\n",
                "    Returns\n",
                "    -------\n",
                "    bin_centers: ndarray of shape (n_bins,)\n",
                "        bin centers\n",
                "    y_true_bin: ndarray of shape (n_bins,)\n",
                "        average y_pred for each bin\n",
                "    y_pred_bin: ndarray of shape (n_bins,)\n",
                "        average y_pred for each bin\n",
                "    \"\"\"\n",
                "    idx_sort = np.argsort(y_pred)\n",
                "    bin_centers = np.arange(0, 1, 1 / n_bins) + 0.5 / n_bins\n",
                "    y_pred_bin = np.zeros(n_bins)\n",
                "    y_true_bin = np.zeros(n_bins)\n",
                "\n",
                "    for n, sl in enumerate(gen_even_slices(len(y_true), n_bins)):\n",
                "        weights = sample_weight[idx_sort][sl]\n",
                "        y_pred_bin[n] = np.average(y_pred[idx_sort][sl], weights=weights)\n",
                "        y_true_bin[n] = np.average(y_true[idx_sort][sl], weights=weights)\n",
                "    return bin_centers, y_true_bin, y_pred_bin\n",
                "\n",
                "\n",
                "def plot_calibration(models):\n",
                "    print(f\"Actual number of claims: {df_test['ClaimNb'].sum()}\")\n",
                "    nmodels = len(models)\n",
                "    height = 5\n",
                "    width = 5 * (nmodels + 1)\n",
                "    fig, ax = plt.subplots(nrows=1, ncols=nmodels, figsize=(width, height))\n",
                "    plt.subplots_adjust(wspace=0.3)\n",
                "    for axi, model in zip(ax.ravel(), models):\n",
                "        y_pred = model.predict(df_test)\n",
                "        y_true = df_test[\"Frequency\"].values\n",
                "        exposure = df_test[\"Exposure\"].values\n",
                "        q, y_true_seg, y_pred_seg = _mean_frequency_by_risk_group(y_true, y_pred, sample_weight=exposure, n_bins=10)\n",
                "\n",
                "        # Name of the model after the estimator used in the last step of the\n",
                "        # pipeline.\n",
                "        print(f\"Predicted number of claims by {model[-1]}: \" f\"{np.sum(y_pred * exposure):.1f}\")\n",
                "\n",
                "        axi.plot(q, y_pred_seg, marker=\"x\", linestyle=\"--\", label=\"predictions\")\n",
                "        axi.plot(q, y_true_seg, marker=\"o\", linestyle=\"--\", label=\"observations\")\n",
                "        axi.set_xlim(0, 1.0)\n",
                "        axi.set_ylim(0, 0.5)\n",
                "        axi.set(title=model[-1], xlabel=\"Fraction of samples sorted by y_pred\", ylabel=\"Mean Frequency (y_pred)\")\n",
                "        axi.legend()\n",
                "    plt.tight_layout()"
            ]
        },
        {
            "cell_type": "code",
            "execution_count": 43,
            "metadata": {
                "colab": {
                    "base_uri": "https://localhost:8080/",
                    "height": 367
                },
                "id": "Pkkv_nMSSFu_",
                "outputId": "9edec6ee-5b71-4bb5-e9aa-cd439dc1b792"
            },
            "outputs": [
                {
                    "name": "stdout",
                    "output_type": "stream",
                    "text": [
                        "Actual number of claims: 11935.0\n",
                        "Predicted number of claims by DummyRegressor(): 11931.2\n",
                        "Predicted number of claims by Ridge(alpha=1e-06): 10693.1\n",
                        "Predicted number of claims by PoissonRegressor(alpha=1e-12, max_iter=300): 11930.8\n"
                    ]
                },
                {
                    "data": {
                        "image/png": "[encoded data removed]",
                        "text/plain": [
                            "<Figure size 1440x360 with 3 Axes>"
                        ]
                    },
                    "metadata": {
                        "needs_background": "light",
                        "tags": []
                    },
                    "output_type": "display_data"
                }
            ],
            "source": [
                "plot_calibration([dummy, ridge_glm, poisson_glm])\n",
                "plt.savefig(\"poisson_regr_insurance.pdf\")"
            ]
        },
        {
            "cell_type": "code",
            "execution_count": null,
            "metadata": {
                "id": "n7oloi6SSH5W"
            },
            "outputs": [],
            "source": []
        }
    ],
    "metadata": {
        "colab": {
            "authorship_tag": "ABX9TyO0KzIMy0b+l+TyqKmC0xVs",
            "include_colab_link": true,
            "name": "poisson_regression_insurance.ipynb",
            "provenance": []
        },
        "kernelspec": {
            "display_name": "Python 3",
            "name": "python3"
        },
        "language_info": {
            "name": "python"
        }
    },
    "nbformat": 4,
    "nbformat_minor": 0
}
