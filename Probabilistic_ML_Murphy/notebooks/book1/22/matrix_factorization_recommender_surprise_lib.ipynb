{
 "nbformat": 4,
 "nbformat_minor": 0,
 "metadata": {
  "colab": {
   "name": "Untitled6.ipynb",
   "provenance": [],
   "toc_visible": true,
   "authorship_tag": "ABX9TyMhTDBYYjiDfb47efwwxEQ4",
   "include_colab_link": true
  },
  "kernelspec": {
   "name": "python3",
   "display_name": "Python 3"
  },
  "language_info": {
   "name": "python"
  }
 },
 "cells": [
  {
   "cell_type": "markdown",
   "metadata": {
    "id": "view-in-github",
    "colab_type": "text"
   },
   "source": [
    "<a href=\"https://colab.research.google.com/github/Nirzu97/pyprobml/blob/matrix-factorization/notebooks/matrix_factorization_recommender_surprise_lib.ipynb\" target=\"_parent\"><img src=\"https://colab.research.google.com/assets/colab-badge.svg\" alt=\"Open In Colab\"/></a>"
   ]
  },
  {
   "cell_type": "markdown",
   "metadata": {
    "id": "NTsyA3nxgIhT"
   },
   "source": [
    "# Matrix Factorization for Movie Lens Recommendations using Surprise library\n",
    "\n",
    "\n",
    "\n",
    "\n",
    "\n",
    "\n",
    "\n"
   ]
  },
  {
   "cell_type": "code",
   "metadata": {
    "id": "q4cTdhEoaE7-"
   },
   "source": [
    "import pandas as pd\n",
    "import numpy as np\n",
    "import os\n",
    "import matplotlib.pyplot as plt"
   ],
   "execution_count": 109,
   "outputs": []
  },
  {
   "cell_type": "markdown",
   "metadata": {
    "id": "EA6T5KISbY2f"
   },
   "source": [
    "# Surprise library for collaborative filtering\n",
    "\n",
    "http://surpriselib.com/\n",
    "Simple Python RecommendatIon System Engine\n"
   ]
  },
  {
   "cell_type": "code",
   "metadata": {
    "colab": {
     "base_uri": "https://localhost:8080/"
    },
    "id": "jN4o9omlboLi",
    "outputId": "12cc5b65-8f89-477d-c58e-f1db88aab5bb"
   },
   "source": [
    "!pip install surprise"
   ],
   "execution_count": 110,
   "outputs": [
    {
     "output_type": "stream",
     "text": [
      "Requirement already satisfied: surprise in /usr/local/lib/python3.7/dist-packages (0.1)\n",
      "Requirement already satisfied: scikit-surprise in /usr/local/lib/python3.7/dist-packages (from surprise) (1.1.1)\n",
      "Requirement already satisfied: six>=1.10.0 in /usr/local/lib/python3.7/dist-packages (from scikit-surprise->surprise) (1.15.0)\n",
      "Requirement already satisfied: numpy>=1.11.2 in /usr/local/lib/python3.7/dist-packages (from scikit-surprise->surprise) (1.19.5)\n",
      "Requirement already satisfied: scipy>=1.0.0 in /usr/local/lib/python3.7/dist-packages (from scikit-surprise->surprise) (1.4.1)\n",
      "Requirement already satisfied: joblib>=0.11 in /usr/local/lib/python3.7/dist-packages (from scikit-surprise->surprise) (1.0.1)\n"
     ],
     "name": "stdout"
    }
   ]
  },
  {
   "cell_type": "code",
   "metadata": {
    "id": "O_YvO1dmihg3"
   },
   "source": [
    "import surprise"
   ],
   "execution_count": 111,
   "outputs": []
  },
  {
   "cell_type": "code",
   "metadata": {
    "id": "Bd60v17sbfOo"
   },
   "source": [
    "from surprise import Dataset\n",
    "\n",
    "data = Dataset.load_builtin(\"ml-1m\")"
   ],
   "execution_count": 112,
   "outputs": []
  },
  {
   "cell_type": "code",
   "metadata": {
    "id": "_pu0cS1zb3v4"
   },
   "source": [
    "trainset = data.build_full_trainset()"
   ],
   "execution_count": 113,
   "outputs": []
  },
  {
   "cell_type": "code",
   "metadata": {
    "colab": {
     "base_uri": "https://localhost:8080/"
    },
    "id": "jm3VA17gdn8S",
    "outputId": "714ea61f-7133-4420-9a92-206f1908a4e4"
   },
   "source": [
    "print([trainset.n_users, trainset.n_items, trainset.n_ratings])"
   ],
   "execution_count": 114,
   "outputs": [
    {
     "output_type": "stream",
     "text": [
      "[6040, 3706, 1000209]\n"
     ],
     "name": "stdout"
    }
   ]
  },
  {
   "cell_type": "markdown",
   "metadata": {
    "id": "zco5p3ACaE79"
   },
   "source": [
    "# Setting Up the Ratings Data\n",
    "\n",
    "We read the data directly from MovieLens website, since they don't allow redistribution. We want to include the metadata (movie titles, etc), not just the ratings matrix.\n"
   ]
  },
  {
   "cell_type": "code",
   "metadata": {
    "colab": {
     "base_uri": "https://localhost:8080/"
    },
    "id": "Uxq9yLDyaE7_",
    "outputId": "fb2e6f79-388a-44d3-dea7-dde7d61d7bd4"
   },
   "source": [
    "!wget http://files.grouplens.org/datasets/movielens/ml-1m.zip\n",
    "!unzip ml-1m\n",
    "!ls\n",
    "folder = \"ml-1m\""
   ],
   "execution_count": 115,
   "outputs": [
    {
     "output_type": "stream",
     "text": [
      "--2021-04-20 14:51:23--  http://files.grouplens.org/datasets/movielens/ml-1m.zip\n",
      "Resolving files.grouplens.org (files.grouplens.org)... 128.101.65.152\n",
      "Connecting to files.grouplens.org (files.grouplens.org)|128.101.65.152|:80... connected.\n",
      "HTTP request sent, awaiting response... 200 OK\n",
      "Length: 5917549 (5.6M) [application/zip]\n",
      "Saving to: ‘ml-1m.zip.4’\n",
      "\n",
      "ml-1m.zip.4         100%[===================>]   5.64M  6.80MB/s    in 0.8s    \n",
      "\n",
      "2021-04-20 14:51:24 (6.80 MB/s) - ‘ml-1m.zip.4’ saved [5917549/5917549]\n",
      "\n",
      "Archive:  ml-1m.zip\n",
      "replace ml-1m/movies.dat? [y]es, [n]o, [A]ll, [N]one, [r]ename: N\n",
      "ml-1m\t   ml-1m.zip.1\tml-1m.zip.3  sample_data\n",
      "ml-1m.zip  ml-1m.zip.2\tml-1m.zip.4\n"
     ],
     "name": "stdout"
    }
   ]
  },
  {
   "cell_type": "code",
   "metadata": {
    "collapsed": true,
    "id": "3WPGyhw0aE8C"
   },
   "source": [
    "ratings_list = [\n",
    "    [int(x) for x in i.strip().split(\"::\")] for i in open(os.path.join(folder, \"ratings.dat\"), \"r\").readlines()\n",
    "]\n",
    "users_list = [i.strip().split(\"::\") for i in open(os.path.join(folder, \"users.dat\"), \"r\").readlines()]\n",
    "movies_list = [\n",
    "    i.strip().split(\"::\") for i in open(os.path.join(folder, \"movies.dat\"), \"r\", encoding=\"latin-1\").readlines()\n",
    "]"
   ],
   "execution_count": 116,
   "outputs": []
  },
  {
   "cell_type": "code",
   "metadata": {
    "collapsed": true,
    "id": "hEiTNglAaE8D"
   },
   "source": [
    "ratings_df = pd.DataFrame(ratings_list, columns=[\"UserID\", \"MovieID\", \"Rating\", \"Timestamp\"], dtype=int)\n",
    "movies_df = pd.DataFrame(movies_list, columns=[\"MovieID\", \"Title\", \"Genres\"])\n",
    "movies_df[\"MovieID\"] = movies_df[\"MovieID\"].apply(pd.to_numeric)"
   ],
   "execution_count": 117,
   "outputs": []
  },
  {
   "cell_type": "code",
   "metadata": {
    "colab": {
     "base_uri": "https://localhost:8080/",
     "height": 196
    },
    "id": "Is3-4FqOaE8E",
    "outputId": "6496c0e5-39ca-4224-c58a-8d315e9f0eca"
   },
   "source": [
    "movies_df.head()"
   ],
   "execution_count": 118,
   "outputs": [
    {
     "output_type": "execute_result",
     "data": {
      "text/html": [
       "<div>\n",
       "<style scoped>\n",
       "    .dataframe tbody tr th:only-of-type {\n",
       "        vertical-align: middle;\n",
       "    }\n",
       "\n",
       "    .dataframe tbody tr th {\n",
       "        vertical-align: top;\n",
       "    }\n",
       "\n",
       "    .dataframe thead th {\n",
       "        text-align: right;\n",
       "    }\n",
       "</style>\n",
       "<table border=\"1\" class=\"dataframe\">\n",
       "  <thead>\n",
       "    <tr style=\"text-align: right;\">\n",
       "      <th></th>\n",
       "      <th>MovieID</th>\n",
       "      <th>Title</th>\n",
       "      <th>Genres</th>\n",
       "    </tr>\n",
       "  </thead>\n",
       "  <tbody>\n",
       "    <tr>\n",
       "      <th>0</th>\n",
       "      <td>1</td>\n",
       "      <td>Toy Story (1995)</td>\n",
       "      <td>Animation|Children's|Comedy</td>\n",
       "    </tr>\n",
       "    <tr>\n",
       "      <th>1</th>\n",
       "      <td>2</td>\n",
       "      <td>Jumanji (1995)</td>\n",
       "      <td>Adventure|Children's|Fantasy</td>\n",
       "    </tr>\n",
       "    <tr>\n",
       "      <th>2</th>\n",
       "      <td>3</td>\n",
       "      <td>Grumpier Old Men (1995)</td>\n",
       "      <td>Comedy|Romance</td>\n",
       "    </tr>\n",
       "    <tr>\n",
       "      <th>3</th>\n",
       "      <td>4</td>\n",
       "      <td>Waiting to Exhale (1995)</td>\n",
       "      <td>Comedy|Drama</td>\n",
       "    </tr>\n",
       "    <tr>\n",
       "      <th>4</th>\n",
       "      <td>5</td>\n",
       "      <td>Father of the Bride Part II (1995)</td>\n",
       "      <td>Comedy</td>\n",
       "    </tr>\n",
       "  </tbody>\n",
       "</table>\n",
       "</div>"
      ],
      "text/plain": [
       "   MovieID                               Title                        Genres\n",
       "0        1                    Toy Story (1995)   Animation|Children's|Comedy\n",
       "1        2                      Jumanji (1995)  Adventure|Children's|Fantasy\n",
       "2        3             Grumpier Old Men (1995)                Comedy|Romance\n",
       "3        4            Waiting to Exhale (1995)                  Comedy|Drama\n",
       "4        5  Father of the Bride Part II (1995)                        Comedy"
      ]
     },
     "metadata": {
      "tags": []
     },
     "execution_count": 118
    }
   ]
  },
  {
   "cell_type": "code",
   "metadata": {
    "colab": {
     "base_uri": "https://localhost:8080/"
    },
    "id": "s5CvzqNraE8G",
    "outputId": "5f839117-430c-4bb2-c07c-ea7a06d69632"
   },
   "source": [
    "def get_movie_name(movies_df, movie_id_str):\n",
    "    ndx = movies_df[\"MovieID\"] == int(movie_id_str)\n",
    "    name = movies_df[\"Title\"][ndx].to_numpy()[0]\n",
    "    return name\n",
    "\n",
    "\n",
    "print(get_movie_name(movies_df, 1))\n",
    "print(get_movie_name(movies_df, \"527\"))"
   ],
   "execution_count": 119,
   "outputs": [
    {
     "output_type": "stream",
     "text": [
      "Toy Story (1995)\n",
      "Schindler's List (1993)\n"
     ],
     "name": "stdout"
    }
   ]
  },
  {
   "cell_type": "code",
   "metadata": {
    "colab": {
     "base_uri": "https://localhost:8080/"
    },
    "id": "M-YAL-AIaE8I",
    "outputId": "5c1b2235-c321-4c0d-c2f7-3773e33d4cf9"
   },
   "source": [
    "def get_movie_genres(movies_df, movie_id_str):\n",
    "    ndx = movies_df[\"MovieID\"] == int(movie_id_str)\n",
    "    name = movies_df[\"Genres\"][ndx].to_numpy()[0]\n",
    "    return name\n",
    "\n",
    "\n",
    "print(get_movie_genres(movies_df, 1))\n",
    "print(get_movie_genres(movies_df, \"527\"))"
   ],
   "execution_count": 120,
   "outputs": [
    {
     "output_type": "stream",
     "text": [
      "Animation|Children's|Comedy\n",
      "Drama|War\n"
     ],
     "name": "stdout"
    }
   ]
  },
  {
   "cell_type": "code",
   "metadata": {
    "colab": {
     "base_uri": "https://localhost:8080/",
     "height": 196
    },
    "id": "m4t_0EFtgdiA",
    "outputId": "c70c37e5-3d3a-4117-c4ce-a9cbe9853738"
   },
   "source": [
    "ratings_df.head()"
   ],
   "execution_count": 121,
   "outputs": [
    {
     "output_type": "execute_result",
     "data": {
      "text/html": [
       "<div>\n",
       "<style scoped>\n",
       "    .dataframe tbody tr th:only-of-type {\n",
       "        vertical-align: middle;\n",
       "    }\n",
       "\n",
       "    .dataframe tbody tr th {\n",
       "        vertical-align: top;\n",
       "    }\n",
       "\n",
       "    .dataframe thead th {\n",
       "        text-align: right;\n",
       "    }\n",
       "</style>\n",
       "<table border=\"1\" class=\"dataframe\">\n",
       "  <thead>\n",
       "    <tr style=\"text-align: right;\">\n",
       "      <th></th>\n",
       "      <th>UserID</th>\n",
       "      <th>MovieID</th>\n",
       "      <th>Rating</th>\n",
       "      <th>Timestamp</th>\n",
       "    </tr>\n",
       "  </thead>\n",
       "  <tbody>\n",
       "    <tr>\n",
       "      <th>0</th>\n",
       "      <td>1</td>\n",
       "      <td>1193</td>\n",
       "      <td>5</td>\n",
       "      <td>978300760</td>\n",
       "    </tr>\n",
       "    <tr>\n",
       "      <th>1</th>\n",
       "      <td>1</td>\n",
       "      <td>661</td>\n",
       "      <td>3</td>\n",
       "      <td>978302109</td>\n",
       "    </tr>\n",
       "    <tr>\n",
       "      <th>2</th>\n",
       "      <td>1</td>\n",
       "      <td>914</td>\n",
       "      <td>3</td>\n",
       "      <td>978301968</td>\n",
       "    </tr>\n",
       "    <tr>\n",
       "      <th>3</th>\n",
       "      <td>1</td>\n",
       "      <td>3408</td>\n",
       "      <td>4</td>\n",
       "      <td>978300275</td>\n",
       "    </tr>\n",
       "    <tr>\n",
       "      <th>4</th>\n",
       "      <td>1</td>\n",
       "      <td>2355</td>\n",
       "      <td>5</td>\n",
       "      <td>978824291</td>\n",
       "    </tr>\n",
       "  </tbody>\n",
       "</table>\n",
       "</div>"
      ],
      "text/plain": [
       "   UserID  MovieID  Rating  Timestamp\n",
       "0       1     1193       5  978300760\n",
       "1       1      661       3  978302109\n",
       "2       1      914       3  978301968\n",
       "3       1     3408       4  978300275\n",
       "4       1     2355       5  978824291"
      ]
     },
     "metadata": {
      "tags": []
     },
     "execution_count": 121
    }
   ]
  },
  {
   "cell_type": "code",
   "metadata": {
    "colab": {
     "base_uri": "https://localhost:8080/"
    },
    "id": "f_j4TpupfUAl",
    "outputId": "0168bb54-520c-4bb8-cef5-018a6d576795"
   },
   "source": [
    "iter = trainset.all_ratings()\n",
    "nshow = 5\n",
    "counter = 0\n",
    "for item in iter:\n",
    "    # print(item)\n",
    "    (uid_inner, iid_inner, rating) = item\n",
    "    # Raw ids are strings that match the external ratings file\n",
    "    uid_raw = trainset.to_raw_uid(uid_inner)\n",
    "    iid_raw = trainset.to_raw_iid(iid_inner)\n",
    "    print(\n",
    "        \"uid inner {}, raw {}, iid inner {}, raw {}, rating {}\".format(uid_inner, uid_raw, iid_inner, iid_raw, rating)\n",
    "    )\n",
    "    counter += 1\n",
    "    if counter > nshow:\n",
    "        break"
   ],
   "execution_count": 122,
   "outputs": [
    {
     "output_type": "stream",
     "text": [
      "uid inner 0, raw 1, iid inner 0, raw 1193, rating 5.0\n",
      "uid inner 0, raw 1, iid inner 1, raw 661, rating 3.0\n",
      "uid inner 0, raw 1, iid inner 2, raw 914, rating 3.0\n",
      "uid inner 0, raw 1, iid inner 3, raw 3408, rating 4.0\n",
      "uid inner 0, raw 1, iid inner 4, raw 2355, rating 5.0\n",
      "uid inner 0, raw 1, iid inner 5, raw 1197, rating 3.0\n"
     ],
     "name": "stdout"
    }
   ]
  },
  {
   "cell_type": "code",
   "metadata": {
    "id": "TGpMKj7glcx1",
    "colab": {
     "base_uri": "https://localhost:8080/"
    },
    "outputId": "3cadd35e-0926-46c6-a242-4e42d0865e98"
   },
   "source": [
    "iid_raw = str(1318)\n",
    "\n",
    "items_raw = list(trainset.to_raw_iid(i) for i in trainset.all_items())\n",
    "print(items_raw[:10])\n",
    "print(type(items_raw[0]))\n",
    "print(len(np.unique(items_raw)))"
   ],
   "execution_count": 123,
   "outputs": [
    {
     "output_type": "stream",
     "text": [
      "['1193', '661', '914', '3408', '2355', '1197', '1287', '2804', '594', '919']\n",
      "<class 'str'>\n",
      "3706\n"
     ],
     "name": "stdout"
    }
   ]
  },
  {
   "cell_type": "code",
   "metadata": {
    "id": "HxGk3RFrmTZo",
    "colab": {
     "base_uri": "https://localhost:8080/"
    },
    "outputId": "c486433a-6558-4a25-b717-e6a5bf8992cc"
   },
   "source": [
    "users_raw = list(trainset.to_raw_uid(i) for i in trainset.all_users())\n",
    "print(users_raw[:10])\n",
    "print(len(np.unique(users_raw)))"
   ],
   "execution_count": 124,
   "outputs": [
    {
     "output_type": "stream",
     "text": [
      "['1', '2', '3', '4', '5', '6', '7', '8', '9', '10']\n",
      "6040\n"
     ],
     "name": "stdout"
    }
   ]
  },
  {
   "cell_type": "code",
   "metadata": {
    "id": "2yV7RNqtmsL6",
    "colab": {
     "base_uri": "https://localhost:8080/"
    },
    "outputId": "208c4f5c-b950-4b55-b9e5-c7b2a5167020"
   },
   "source": [
    "# inspect user ratings for user 837\n",
    "uid_raw = str(837)\n",
    "uid_inner = trainset.to_inner_uid(uid_raw)\n",
    "user_ratings = trainset.ur[uid_inner]\n",
    "print(len(user_ratings))\n",
    "print(user_ratings)\n",
    "rated_raw = [trainset.to_raw_iid(iid) for (iid, rating) in user_ratings]\n",
    "print(rated_raw)\n",
    "unrated_raw = list(set(items_raw) - set(rated_raw))\n",
    "print(len(unrated_raw))"
   ],
   "execution_count": 125,
   "outputs": [
    {
     "output_type": "stream",
     "text": [
      "69\n",
      "[(1231, 3.0), (1113, 3.0), (559, 4.0), (97, 3.0), (255, 3.0), (1240, 2.0), (597, 4.0), (631, 1.0), (1448, 3.0), (1195, 3.0), (540, 3.0), (338, 5.0), (54, 4.0), (78, 3.0), (246, 3.0), (985, 3.0), (266, 3.0), (275, 2.0), (1454, 2.0), (159, 3.0), (859, 5.0), (156, 4.0), (1237, 2.0), (244, 3.0), (99, 4.0), (104, 3.0), (151, 3.0), (1456, 3.0), (199, 4.0), (1891, 2.0), (945, 3.0), (88, 4.0), (799, 3.0), (617, 3.0), (1450, 4.0), (213, 5.0), (669, 5.0), (1922, 4.0), (92, 3.0), (1518, 3.0), (1529, 3.0), (829, 2.0), (1468, 3.0), (132, 1.0), (955, 3.0), (1249, 3.0), (882, 3.0), (167, 4.0), (315, 3.0), (41, 4.0), (381, 4.0), (210, 4.0), (2451, 3.0), (135, 3.0), (1511, 3.0), (15, 4.0), (711, 3.0), (215, 2.0), (1475, 4.0), (216, 3.0), (728, 4.0), (1154, 3.0), (67, 4.0), (434, 5.0), (1228, 3.0), (48, 5.0), (546, 4.0), (1009, 2.0), (170, 3.0)]\n",
      "['1248', '2991', '1252', '589', '6', '1267', '1276', '1292', '905', '910', '1446', '913', '3068', '1610', '1617', '942', '3083', '2289', '955', '3095', '3417', '3418', '3435', '296', '3654', '2858', '457', '3683', '1304', '1177', '1179', '1188', '3101', '2300', '2186', '1387', '858', '3307', '110', '3341', '3504', '3362', '3366', '2571', '164', '2726', '1783', '318', '2599', '1961', '34', '1036', '3720', '3735', '2935', '2791', '2000', '1201', '2944', '2947', '2948', '2949', '1213', '1221', '1222', '2028', '1233', '707', '1244']\n",
      "3637\n"
     ],
     "name": "stdout"
    }
   ]
  },
  {
   "cell_type": "markdown",
   "metadata": {
    "id": "Z4U41wxO7qDJ"
   },
   "source": [
    "# Join with meta data"
   ]
  },
  {
   "cell_type": "code",
   "metadata": {
    "id": "i0RcPJAWzp3b"
   },
   "source": [
    "def get_true_ratings(uid_raw, trainset):\n",
    "    uid_inner = trainset.to_inner_uid(uid_raw)\n",
    "    user_ratings = trainset.ur[uid_inner]\n",
    "    item_list = [trainset.to_raw_iid(iid) for (iid, rating) in user_ratings]\n",
    "    rating_list = [rating for (iid, rating) in user_ratings]\n",
    "    item_list = np.array(item_list)\n",
    "    rating_list = np.array(rating_list)\n",
    "    ndx = np.argsort([-r for r in rating_list])  # largest (most negative) first\n",
    "    return item_list[ndx], rating_list[ndx]\n",
    "\n",
    "\n",
    "def make_predictions(algo, uid_raw, trainset):\n",
    "    uid_inner = trainset.to_inner_uid(uid_raw)\n",
    "    user_ratings = trainset.ur[uid_inner]\n",
    "    rated_raw = [trainset.to_raw_iid(iid) for (iid, rating) in user_ratings]\n",
    "    items_raw = list(trainset.to_raw_iid(i) for i in trainset.all_items())\n",
    "    unrated_raw = list(set(items_raw) - set(rated_raw))\n",
    "    item_list = []\n",
    "    rating_list = []\n",
    "    for iid_raw in unrated_raw:\n",
    "        pred = algo.predict(uid_raw, iid_raw, verbose=False)\n",
    "        uid_raw, iid_raw, rating_true, rating_pred, details = pred\n",
    "        item_list.append(iid_raw)\n",
    "        rating_list.append(rating_pred)\n",
    "    item_list = np.array(item_list)\n",
    "    rating_list = np.array(rating_list)\n",
    "    ndx = np.argsort([-r for r in rating_list])  # largest (most negative) first\n",
    "    return item_list[ndx], rating_list[ndx]\n",
    "\n",
    "\n",
    "def make_df(movies_df, item_list_raw, rating_list):\n",
    "    name_list = []\n",
    "    genre_list = []\n",
    "    for i in range(len(item_list_raw)):\n",
    "        item_raw = item_list_raw[i]\n",
    "        name = get_movie_name(movies_df, item_raw)\n",
    "        genre = get_movie_genres(movies_df, item_raw)\n",
    "        name_list.append(name)\n",
    "        genre_list.append(genre)\n",
    "    df = pd.DataFrame({\"name\": name_list, \"genre\": genre_list, \"rating\": rating_list, \"iid\": item_list_raw})\n",
    "    return df"
   ],
   "execution_count": 126,
   "outputs": []
  },
  {
   "cell_type": "code",
   "metadata": {
    "id": "SypyFupC62f4",
    "colab": {
     "base_uri": "https://localhost:8080/",
     "height": 345
    },
    "outputId": "c9d8627e-8df9-4030-a392-576dd22bb737"
   },
   "source": [
    "uid_raw = str(837)\n",
    "\n",
    "item_list_raw, rating_list = get_true_ratings(uid_raw, trainset)\n",
    "df = make_df(movies_df, item_list_raw, rating_list)\n",
    "df.head(10)"
   ],
   "execution_count": 127,
   "outputs": [
    {
     "output_type": "execute_result",
     "data": {
      "text/html": [
       "<div>\n",
       "<style scoped>\n",
       "    .dataframe tbody tr th:only-of-type {\n",
       "        vertical-align: middle;\n",
       "    }\n",
       "\n",
       "    .dataframe tbody tr th {\n",
       "        vertical-align: top;\n",
       "    }\n",
       "\n",
       "    .dataframe thead th {\n",
       "        text-align: right;\n",
       "    }\n",
       "</style>\n",
       "<table border=\"1\" class=\"dataframe\">\n",
       "  <thead>\n",
       "    <tr style=\"text-align: right;\">\n",
       "      <th></th>\n",
       "      <th>name</th>\n",
       "      <th>genre</th>\n",
       "      <th>rating</th>\n",
       "      <th>iid</th>\n",
       "    </tr>\n",
       "  </thead>\n",
       "  <tbody>\n",
       "    <tr>\n",
       "      <th>0</th>\n",
       "      <td>Jaws (1975)</td>\n",
       "      <td>Action|Horror</td>\n",
       "      <td>5.0</td>\n",
       "      <td>1387</td>\n",
       "    </tr>\n",
       "    <tr>\n",
       "      <th>1</th>\n",
       "      <td>Saving Private Ryan (1998)</td>\n",
       "      <td>Action|Drama|War</td>\n",
       "      <td>5.0</td>\n",
       "      <td>2028</td>\n",
       "    </tr>\n",
       "    <tr>\n",
       "      <th>2</th>\n",
       "      <td>Godfather: Part II, The (1974)</td>\n",
       "      <td>Action|Crime|Drama</td>\n",
       "      <td>5.0</td>\n",
       "      <td>1221</td>\n",
       "    </tr>\n",
       "    <tr>\n",
       "      <th>3</th>\n",
       "      <td>Maltese Falcon, The (1941)</td>\n",
       "      <td>Film-Noir|Mystery</td>\n",
       "      <td>5.0</td>\n",
       "      <td>913</td>\n",
       "    </tr>\n",
       "    <tr>\n",
       "      <th>4</th>\n",
       "      <td>Crimson Pirate, The (1952)</td>\n",
       "      <td>Adventure|Comedy|Sci-Fi</td>\n",
       "      <td>5.0</td>\n",
       "      <td>3417</td>\n",
       "    </tr>\n",
       "    <tr>\n",
       "      <th>5</th>\n",
       "      <td>Godfather, The (1972)</td>\n",
       "      <td>Action|Crime|Drama</td>\n",
       "      <td>5.0</td>\n",
       "      <td>858</td>\n",
       "    </tr>\n",
       "    <tr>\n",
       "      <th>6</th>\n",
       "      <td>Strangers on a Train (1951)</td>\n",
       "      <td>Film-Noir|Thriller</td>\n",
       "      <td>4.0</td>\n",
       "      <td>2186</td>\n",
       "    </tr>\n",
       "    <tr>\n",
       "      <th>7</th>\n",
       "      <td>Strictly Ballroom (1992)</td>\n",
       "      <td>Comedy|Romance</td>\n",
       "      <td>4.0</td>\n",
       "      <td>1188</td>\n",
       "    </tr>\n",
       "    <tr>\n",
       "      <th>8</th>\n",
       "      <td>Butch Cassidy and the Sundance Kid (1969)</td>\n",
       "      <td>Action|Comedy|Western</td>\n",
       "      <td>4.0</td>\n",
       "      <td>1304</td>\n",
       "    </tr>\n",
       "    <tr>\n",
       "      <th>9</th>\n",
       "      <td>Shawshank Redemption, The (1994)</td>\n",
       "      <td>Drama</td>\n",
       "      <td>4.0</td>\n",
       "      <td>318</td>\n",
       "    </tr>\n",
       "  </tbody>\n",
       "</table>\n",
       "</div>"
      ],
      "text/plain": [
       "                                        name  ...   iid\n",
       "0                                Jaws (1975)  ...  1387\n",
       "1                 Saving Private Ryan (1998)  ...  2028\n",
       "2             Godfather: Part II, The (1974)  ...  1221\n",
       "3                 Maltese Falcon, The (1941)  ...   913\n",
       "4                 Crimson Pirate, The (1952)  ...  3417\n",
       "5                      Godfather, The (1972)  ...   858\n",
       "6                Strangers on a Train (1951)  ...  2186\n",
       "7                   Strictly Ballroom (1992)  ...  1188\n",
       "8  Butch Cassidy and the Sundance Kid (1969)  ...  1304\n",
       "9           Shawshank Redemption, The (1994)  ...   318\n",
       "\n",
       "[10 rows x 4 columns]"
      ]
     },
     "metadata": {
      "tags": []
     },
     "execution_count": 127
    }
   ]
  },
  {
   "cell_type": "markdown",
   "metadata": {
    "id": "xWwi50q27xvN"
   },
   "source": [
    "# Fit/ predict"
   ]
  },
  {
   "cell_type": "code",
   "metadata": {
    "id": "IlkjbU5L7zgG",
    "colab": {
     "base_uri": "https://localhost:8080/"
    },
    "outputId": "f6dab9d4-7203-48fd-c0e6-3aef39eed0ef"
   },
   "source": [
    "# https://surprise.readthedocs.io/en/stable/matrix_factorization.html\n",
    "algo = surprise.SVD(n_factors=50, biased=True, n_epochs=20, random_state=42, verbose=True)\n",
    "algo.fit(trainset)"
   ],
   "execution_count": 128,
   "outputs": [
    {
     "output_type": "stream",
     "text": [
      "Processing epoch 0\n",
      "Processing epoch 1\n",
      "Processing epoch 2\n",
      "Processing epoch 3\n",
      "Processing epoch 4\n",
      "Processing epoch 5\n",
      "Processing epoch 6\n",
      "Processing epoch 7\n",
      "Processing epoch 8\n",
      "Processing epoch 9\n",
      "Processing epoch 10\n",
      "Processing epoch 11\n",
      "Processing epoch 12\n",
      "Processing epoch 13\n",
      "Processing epoch 14\n",
      "Processing epoch 15\n",
      "Processing epoch 16\n",
      "Processing epoch 17\n",
      "Processing epoch 18\n",
      "Processing epoch 19\n"
     ],
     "name": "stdout"
    },
    {
     "output_type": "execute_result",
     "data": {
      "text/plain": [
       "<surprise.prediction_algorithms.matrix_factorization.SVD at 0x7fc9540a6bd0>"
      ]
     },
     "metadata": {
      "tags": []
     },
     "execution_count": 128
    }
   ]
  },
  {
   "cell_type": "code",
   "metadata": {
    "id": "xtM1C-Rd63I0",
    "colab": {
     "base_uri": "https://localhost:8080/",
     "height": 345
    },
    "outputId": "bf02d880-c463-46da-90c3-760cf528e1ec"
   },
   "source": [
    "uid_raw = str(837)\n",
    "\n",
    "item_list_raw, rating_list = make_predictions(algo, uid_raw, trainset)\n",
    "df = make_df(movies_df, item_list_raw, rating_list)\n",
    "df.head(10)"
   ],
   "execution_count": 129,
   "outputs": [
    {
     "output_type": "execute_result",
     "data": {
      "text/html": [
       "<div>\n",
       "<style scoped>\n",
       "    .dataframe tbody tr th:only-of-type {\n",
       "        vertical-align: middle;\n",
       "    }\n",
       "\n",
       "    .dataframe tbody tr th {\n",
       "        vertical-align: top;\n",
       "    }\n",
       "\n",
       "    .dataframe thead th {\n",
       "        text-align: right;\n",
       "    }\n",
       "</style>\n",
       "<table border=\"1\" class=\"dataframe\">\n",
       "  <thead>\n",
       "    <tr style=\"text-align: right;\">\n",
       "      <th></th>\n",
       "      <th>name</th>\n",
       "      <th>genre</th>\n",
       "      <th>rating</th>\n",
       "      <th>iid</th>\n",
       "    </tr>\n",
       "  </thead>\n",
       "  <tbody>\n",
       "    <tr>\n",
       "      <th>0</th>\n",
       "      <td>Schindler's List (1993)</td>\n",
       "      <td>Drama|War</td>\n",
       "      <td>4.119939</td>\n",
       "      <td>527</td>\n",
       "    </tr>\n",
       "    <tr>\n",
       "      <th>1</th>\n",
       "      <td>Casablanca (1942)</td>\n",
       "      <td>Drama|Romance|War</td>\n",
       "      <td>4.022656</td>\n",
       "      <td>912</td>\n",
       "    </tr>\n",
       "    <tr>\n",
       "      <th>2</th>\n",
       "      <td>Sanjuro (1962)</td>\n",
       "      <td>Action|Adventure</td>\n",
       "      <td>3.961184</td>\n",
       "      <td>2905</td>\n",
       "    </tr>\n",
       "    <tr>\n",
       "      <th>3</th>\n",
       "      <td>Raiders of the Lost Ark (1981)</td>\n",
       "      <td>Action|Adventure</td>\n",
       "      <td>3.883141</td>\n",
       "      <td>1198</td>\n",
       "    </tr>\n",
       "    <tr>\n",
       "      <th>4</th>\n",
       "      <td>Star Wars: Episode IV - A New Hope (1977)</td>\n",
       "      <td>Action|Adventure|Fantasy|Sci-Fi</td>\n",
       "      <td>3.851080</td>\n",
       "      <td>260</td>\n",
       "    </tr>\n",
       "    <tr>\n",
       "      <th>5</th>\n",
       "      <td>Sting, The (1973)</td>\n",
       "      <td>Comedy|Crime</td>\n",
       "      <td>3.830129</td>\n",
       "      <td>1234</td>\n",
       "    </tr>\n",
       "    <tr>\n",
       "      <th>6</th>\n",
       "      <td>Rear Window (1954)</td>\n",
       "      <td>Mystery|Thriller</td>\n",
       "      <td>3.803825</td>\n",
       "      <td>904</td>\n",
       "    </tr>\n",
       "    <tr>\n",
       "      <th>7</th>\n",
       "      <td>It's a Wonderful Life (1946)</td>\n",
       "      <td>Drama</td>\n",
       "      <td>3.802958</td>\n",
       "      <td>953</td>\n",
       "    </tr>\n",
       "    <tr>\n",
       "      <th>8</th>\n",
       "      <td>Lawrence of Arabia (1962)</td>\n",
       "      <td>Adventure|War</td>\n",
       "      <td>3.792940</td>\n",
       "      <td>1204</td>\n",
       "    </tr>\n",
       "    <tr>\n",
       "      <th>9</th>\n",
       "      <td>Life Is Beautiful (La Vita è bella) (1997)</td>\n",
       "      <td>Comedy|Drama</td>\n",
       "      <td>3.788992</td>\n",
       "      <td>2324</td>\n",
       "    </tr>\n",
       "  </tbody>\n",
       "</table>\n",
       "</div>"
      ],
      "text/plain": [
       "                                         name  ...   iid\n",
       "0                     Schindler's List (1993)  ...   527\n",
       "1                           Casablanca (1942)  ...   912\n",
       "2                              Sanjuro (1962)  ...  2905\n",
       "3              Raiders of the Lost Ark (1981)  ...  1198\n",
       "4   Star Wars: Episode IV - A New Hope (1977)  ...   260\n",
       "5                           Sting, The (1973)  ...  1234\n",
       "6                          Rear Window (1954)  ...   904\n",
       "7                It's a Wonderful Life (1946)  ...   953\n",
       "8                   Lawrence of Arabia (1962)  ...  1204\n",
       "9  Life Is Beautiful (La Vita è bella) (1997)  ...  2324\n",
       "\n",
       "[10 rows x 4 columns]"
      ]
     },
     "metadata": {
      "tags": []
     },
     "execution_count": 129
    }
   ]
  },
  {
   "cell_type": "markdown",
   "metadata": {
    "id": "2M4FLANA8Vzg"
   },
   "source": [
    "# Visualize matrix of predictions"
   ]
  },
  {
   "cell_type": "code",
   "metadata": {
    "id": "dGS8ihSPAhMF",
    "colab": {
     "base_uri": "https://localhost:8080/"
    },
    "outputId": "e263af01-2457-4314-e4fb-173abe515dcf"
   },
   "source": [
    "# inspect user ratings for user 837\n",
    "uid_raw = str(837)\n",
    "uid_inner = trainset.to_inner_uid(uid_raw)\n",
    "user_ratings = trainset.ur[uid_inner]\n",
    "print(len(user_ratings))\n",
    "print(user_ratings)\n",
    "ratings_raw = [rating for (iid, rating) in user_ratings]\n",
    "rated_raw = [trainset.to_raw_iid(iid) for (iid, rating) in user_ratings]\n",
    "print(rated_raw)\n",
    "print(trainset.to_raw_iid(1231))\n",
    "print(ratings_raw[0])"
   ],
   "execution_count": 130,
   "outputs": [
    {
     "output_type": "stream",
     "text": [
      "69\n",
      "[(1231, 3.0), (1113, 3.0), (559, 4.0), (97, 3.0), (255, 3.0), (1240, 2.0), (597, 4.0), (631, 1.0), (1448, 3.0), (1195, 3.0), (540, 3.0), (338, 5.0), (54, 4.0), (78, 3.0), (246, 3.0), (985, 3.0), (266, 3.0), (275, 2.0), (1454, 2.0), (159, 3.0), (859, 5.0), (156, 4.0), (1237, 2.0), (244, 3.0), (99, 4.0), (104, 3.0), (151, 3.0), (1456, 3.0), (199, 4.0), (1891, 2.0), (945, 3.0), (88, 4.0), (799, 3.0), (617, 3.0), (1450, 4.0), (213, 5.0), (669, 5.0), (1922, 4.0), (92, 3.0), (1518, 3.0), (1529, 3.0), (829, 2.0), (1468, 3.0), (132, 1.0), (955, 3.0), (1249, 3.0), (882, 3.0), (167, 4.0), (315, 3.0), (41, 4.0), (381, 4.0), (210, 4.0), (2451, 3.0), (135, 3.0), (1511, 3.0), (15, 4.0), (711, 3.0), (215, 2.0), (1475, 4.0), (216, 3.0), (728, 4.0), (1154, 3.0), (67, 4.0), (434, 5.0), (1228, 3.0), (48, 5.0), (546, 4.0), (1009, 2.0), (170, 3.0)]\n",
      "['1248', '2991', '1252', '589', '6', '1267', '1276', '1292', '905', '910', '1446', '913', '3068', '1610', '1617', '942', '3083', '2289', '955', '3095', '3417', '3418', '3435', '296', '3654', '2858', '457', '3683', '1304', '1177', '1179', '1188', '3101', '2300', '2186', '1387', '858', '3307', '110', '3341', '3504', '3362', '3366', '2571', '164', '2726', '1783', '318', '2599', '1961', '34', '1036', '3720', '3735', '2935', '2791', '2000', '1201', '2944', '2947', '2948', '2949', '1213', '1221', '1222', '2028', '1233', '707', '1244']\n",
      "1248\n",
      "3.0\n"
     ],
     "name": "stdout"
    }
   ]
  },
  {
   "cell_type": "code",
   "metadata": {
    "id": "ZjzdR9KRC5Ry",
    "colab": {
     "base_uri": "https://localhost:8080/"
    },
    "outputId": "6c29447f-58aa-4405-dd80-7e24092c6833"
   },
   "source": [
    "def get_rating(trainset, uid_raw, iid_raw):\n",
    "    uid_inner = trainset.to_inner_uid(uid_raw)\n",
    "    user_ratings = trainset.ur[uid_inner]\n",
    "    rated_iid_raw = np.array([trainset.to_raw_iid(iid) for (iid, rating) in user_ratings])\n",
    "    ratings = np.array([rating for (iid, rating) in user_ratings])\n",
    "    ndx = np.where(rated_iid_raw == iid_raw)[0]\n",
    "    if len(ndx) > 0:\n",
    "        return ratings[ndx][0]\n",
    "    else:\n",
    "        return 0\n",
    "\n",
    "\n",
    "print(get_rating(trainset, \"837\", \"1201\"))\n",
    "print(get_rating(trainset, \"837\", \"0\"))"
   ],
   "execution_count": 131,
   "outputs": [
    {
     "output_type": "stream",
     "text": [
      "2.0\n",
      "0\n"
     ],
     "name": "stdout"
    }
   ]
  },
  {
   "cell_type": "code",
   "metadata": {
    "id": "Qkkc8AQnvMUy",
    "colab": {
     "base_uri": "https://localhost:8080/",
     "height": 537
    },
    "outputId": "96eccf71-d3a7-437e-b1ca-3490ceb32d82"
   },
   "source": [
    "users_raw = list(trainset.to_raw_uid(i) for i in trainset.all_users())\n",
    "items_raw = list(trainset.to_raw_iid(i) for i in trainset.all_items())\n",
    "\n",
    "users_raw = [\"837\"] + users_raw\n",
    "items_raw = [str(i) for i in range(1200, 1300)]\n",
    "nusers = 20\n",
    "nitems = 20\n",
    "\n",
    "Rtrue = np.zeros((nusers, nitems))\n",
    "Rpred = np.zeros((nusers, nitems))\n",
    "for ui in range(nusers):\n",
    "    for ii in range(nitems):\n",
    "        uid = users_raw[ui]\n",
    "        iid = items_raw[ii]\n",
    "        pred = algo.predict(uid, iid, verbose=False)\n",
    "        uid_raw, iid_raw, _, rating_pred, details = pred\n",
    "        Rpred[ui, ii] = rating_pred\n",
    "        Rtrue[ui, ii] = get_rating(trainset, uid_raw, iid_raw)\n",
    "\n",
    "\n",
    "plt.figure()\n",
    "plt.imshow(Rtrue, cmap=\"jet\")\n",
    "plt.colorbar()\n",
    "plt.figure()\n",
    "plt.imshow(Rpred, cmap=\"jet\")\n",
    "plt.colorbar()"
   ],
   "execution_count": 132,
   "outputs": [
    {
     "output_type": "execute_result",
     "data": {
      "text/plain": [
       "<matplotlib.colorbar.Colorbar at 0x7fc983f4f110>"
      ]
     },
     "metadata": {
      "tags": []
     },
     "execution_count": 132
    },
    {
     "output_type": "display_data",
     "data": {
      "image/png": "[encoded data removed]",
      "text/plain": [
       "<Figure size 432x288 with 2 Axes>"
      ]
     },
     "metadata": {
      "tags": [],
      "needs_background": "light"
     }
    },
    {
     "output_type": "display_data",
     "data": {
      "image/png": "[encoded data removed]",
      "text/plain": [
       "<Figure size 432x288 with 2 Axes>"
      ]
     },
     "metadata": {
      "tags": [],
      "needs_background": "light"
     }
    }
   ]
  }
 ]
}