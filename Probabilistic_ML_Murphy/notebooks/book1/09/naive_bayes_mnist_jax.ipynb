{
 "cells": [
  {
   "cell_type": "markdown",
   "metadata": {},
   "source": [
    "Please find torch implementation of this notebook here: https://colab.research.google.com/github/probml/pyprobml/blob/master/notebooks/book1/09/naive_bayes_mnist_torch.ipynb"
   ]
  },
  {
   "cell_type": "markdown",
   "metadata": {
    "id": "view-in-github"
   },
   "source": [
    "<a href=\"https://colab.research.google.com/github/arpitvaghela/probml-notebooks/blob/main/notebooks-d2l/naive_bayes_mnist_jax.ipynb\" target=\"_parent\"><img src=\"https://colab.research.google.com/assets/colab-badge.svg\" alt=\"Open In Colab\"/></a>\n"
   ]
  },
  {
   "cell_type": "markdown",
   "metadata": {
    "id": "rQE58QFwER8p"
   },
   "source": [
    "# Naive Bayes classifiers\n",
    "\n",
    "We show how to implement Naive Bayes classifiers from scratch.\n",
    "We use binary features, and 2 classes.\n",
    "Based on sec 18.9 of http://d2l.ai/chapter_appendix-mathematics-for-deep-learning/naive-bayes.html.\n"
   ]
  },
  {
   "cell_type": "code",
   "execution_count": 1,
   "metadata": {
    "colab": {
     "base_uri": "https://localhost:8080/"
    },
    "id": "r6vMMHgoEEXa",
    "outputId": "7c28e447-c705-4ee7-a977-f21e913a1578"
   },
   "outputs": [
    {
     "name": "stdout",
     "output_type": "stream",
     "text": [
      "mkdir: cannot create directory ‘figures’: File exists\n"
     ]
    },
    {
     "name": "stderr",
     "output_type": "stream",
     "text": [
      "WARNING:absl:No GPU/TPU found, falling back to CPU. (Set TF_CPP_MIN_LOG_LEVEL=0 and rerun for more info.)\n"
     ]
    }
   ],
   "source": [
    "import numpy as np\n",
    "\n",
    "try:\n",
    "    import torchvision\n",
    "except ModuleNotFoundError:\n",
    "    %pip install -qq torchvision\n",
    "    import torchvision\n",
    "\n",
    "import jax\n",
    "import jax.numpy as jnp\n",
    "import matplotlib.pyplot as plt\n",
    "\n",
    "!mkdir figures # for saving plots\n",
    "\n",
    "key = jax.random.PRNGKey(1)"
   ]
  },
  {
   "cell_type": "code",
   "execution_count": 2,
   "metadata": {},
   "outputs": [],
   "source": [
    "# helper function to show images\n",
    "def show_images(imgs, num_rows, num_cols, titles=None, scale=1.5):\n",
    "    # modified from https://raw.githubusercontent.com/d2l-ai/d2l-en/master/d2l/torch.py\n",
    "    figsize = (num_cols * scale, num_rows * scale)\n",
    "    _, axes = plt.subplots(num_rows, num_cols, figsize=figsize)\n",
    "    axes = axes.flatten()\n",
    "    for i, (ax, img) in enumerate(zip(axes, imgs)):\n",
    "        img = np.array(img)\n",
    "        ax.imshow(img)\n",
    "        ax.axes.get_xaxis().set_visible(False)\n",
    "        ax.axes.get_yaxis().set_visible(False)\n",
    "        if titles:\n",
    "            ax.set_title(titles[i])\n",
    "    return axes"
   ]
  },
  {
   "cell_type": "markdown",
   "metadata": {
    "id": "1rtlA0JjEsy6"
   },
   "source": [
    "# Get data\n",
    "\n",
    "We use a binarized version of MNIST.\n"
   ]
  },
  {
   "cell_type": "code",
   "execution_count": 3,
   "metadata": {
    "id": "xtZ9wvf031pL"
   },
   "outputs": [],
   "source": [
    "mnist_train = torchvision.datasets.MNIST(\n",
    "    root=\"./temp\",\n",
    "    train=True,\n",
    "    transform=lambda x: jnp.array([jnp.array(x) / 255]),\n",
    "    download=True,\n",
    ")\n",
    "mnist_test = torchvision.datasets.MNIST(\n",
    "    root=\"./temp\",\n",
    "    train=False,\n",
    "    transform=lambda x: jnp.array([jnp.array(x) / 255]),\n",
    "    download=True,\n",
    ")"
   ]
  },
  {
   "cell_type": "code",
   "execution_count": 4,
   "metadata": {
    "colab": {
     "base_uri": "https://localhost:8080/"
    },
    "id": "Ich7gt9pGblV",
    "outputId": "67c99fcb-8f06-4e67-db3b-56a0865ef00d"
   },
   "outputs": [
    {
     "name": "stdout",
     "output_type": "stream",
     "text": [
      "Dataset MNIST\n",
      "    Number of datapoints: 60000\n",
      "    Root location: ./temp\n",
      "    Split: Train\n",
      "    StandardTransform\n",
      "Transform: <function <lambda> at 0x7f9b642bfa60>\n"
     ]
    }
   ],
   "source": [
    "print(mnist_train)"
   ]
  },
  {
   "cell_type": "code",
   "execution_count": 5,
   "metadata": {
    "colab": {
     "base_uri": "https://localhost:8080/"
    },
    "id": "Yj90YkMf4BFW",
    "outputId": "b7b0b2ca-3cfe-451d-924b-5e44004013b3"
   },
   "outputs": [
    {
     "name": "stdout",
     "output_type": "stream",
     "text": [
      "<class 'jaxlib.xla_extension.DeviceArray'>\n",
      "(1, 28, 28)\n",
      "<class 'int'>\n",
      "4\n"
     ]
    }
   ],
   "source": [
    "image, label = mnist_train[2]\n",
    "print(type(image))\n",
    "print(image.shape)\n",
    "print(type(label))\n",
    "print(label)"
   ]
  },
  {
   "cell_type": "code",
   "execution_count": 6,
   "metadata": {
    "colab": {
     "base_uri": "https://localhost:8080/"
    },
    "id": "P_sKyc0HGsxN",
    "outputId": "f5f9d9ec-f97e-4d56-e962-92ecc5186d31"
   },
   "outputs": [
    {
     "data": {
      "text/plain": [
       "DeviceArray([[0.35686275, 0.10980392, 0.01960784, 0.9137255 , 0.98039216],\n",
       "             [0.        , 0.        , 0.4       , 0.99607843, 0.8627451 ],\n",
       "             [0.        , 0.        , 0.6627451 , 0.99607843, 0.5372549 ],\n",
       "             [0.        , 0.        , 0.6627451 , 0.99607843, 0.22352941],\n",
       "             [0.        , 0.        , 0.6627451 , 0.99607843, 0.22352941]],            dtype=float32)"
      ]
     },
     "execution_count": 6,
     "metadata": {},
     "output_type": "execute_result"
    }
   ],
   "source": [
    "image[0, 15:20, 15:20]  # not binary (pytorch rescales to 0:1)"
   ]
  },
  {
   "cell_type": "code",
   "execution_count": 7,
   "metadata": {
    "colab": {
     "base_uri": "https://localhost:8080/"
    },
    "id": "HPeZdWNlJqsZ",
    "outputId": "f3f0ea2d-466f-473d-e8c1-440dad4c8458"
   },
   "outputs": [
    {
     "data": {
      "text/plain": [
       "[DeviceArray(0., dtype=float32), DeviceArray(1., dtype=float32)]"
      ]
     },
     "execution_count": 7,
     "metadata": {},
     "output_type": "execute_result"
    }
   ],
   "source": [
    "[jnp.min(image), jnp.max(image)]"
   ]
  },
  {
   "cell_type": "code",
   "execution_count": 8,
   "metadata": {
    "colab": {
     "base_uri": "https://localhost:8080/"
    },
    "id": "GDvhNkX2MBYt",
    "outputId": "e1f55369-1626-4a80-8133-46d29323c4d2"
   },
   "outputs": [
    {
     "name": "stdout",
     "output_type": "stream",
     "text": [
      "(1, 28, 28)\n",
      "(2, 1, 28, 28)\n",
      "(1, 2, 28, 28)\n",
      "(2, 28, 28)\n"
     ]
    }
   ],
   "source": [
    "print(mnist_train[0][0].shape)  # (1,28,28)\n",
    "indices = [0, 1]\n",
    "xx = jnp.stack([mnist_train[i][0] for i in indices])\n",
    "print(xx.shape)\n",
    "xx = jnp.stack([mnist_train[i][0] for i in indices], axis=1)\n",
    "print(xx.shape)\n",
    "xx = jnp.stack([mnist_train[i][0] for i in indices], axis=1).squeeze(0)\n",
    "print(xx.shape)"
   ]
  },
  {
   "cell_type": "code",
   "execution_count": 9,
   "metadata": {
    "id": "vSp0TiCFJGgi"
   },
   "outputs": [],
   "source": [
    "# convert from torch.tensor to numpy, extract subset of indices, optionally binarize\n",
    "def get_data(data, indices=None, binarize=True):\n",
    "    N = len(data)\n",
    "    if indices is None:\n",
    "        indices = range(0, N)\n",
    "    X = jnp.stack([data[i][0] for i in indices], axis=1).squeeze(0)  # (N,28,28)\n",
    "    if binarize:\n",
    "        X = X > 0.5\n",
    "    y = jnp.array([data[i][1] for i in indices])\n",
    "    return X, y"
   ]
  },
  {
   "cell_type": "code",
   "execution_count": 10,
   "metadata": {
    "colab": {
     "base_uri": "https://localhost:8080/",
     "height": 209
    },
    "id": "zkzWe8OIKVrL",
    "outputId": "1231d1c1-38f9-435f-fc6c-8c4162819ad3"
   },
   "outputs": [
    {
     "name": "stdout",
     "output_type": "stream",
     "text": [
      "[(10, 28, 28), (10,)]\n",
      "[[0.7294118  0.99215686 0.99215686 0.5882353  0.10588235]\n",
      " [0.0627451  0.3647059  0.9882353  0.99215686 0.73333335]\n",
      " [0.         0.         0.9764706  0.99215686 0.9764706 ]\n",
      " [0.50980395 0.7176471  0.99215686 0.99215686 0.8117647 ]\n",
      " [0.99215686 0.99215686 0.99215686 0.98039216 0.7137255 ]]\n"
     ]
    },
    {
     "data": {
      "image/png": "[encoded data removed]",
      "text/plain": [
       "<Figure size 1080x108 with 10 Axes>"
      ]
     },
     "metadata": {
      "needs_background": "light"
     },
     "output_type": "display_data"
    }
   ],
   "source": [
    "indices = range(0, 10)\n",
    "images, labels = get_data(mnist_train, indices, False)\n",
    "print([images.shape, labels.shape])\n",
    "print(images[0, 15:20, 15:20])  # not binary\n",
    "_ = show_images(images, 1, 10)"
   ]
  },
  {
   "cell_type": "code",
   "execution_count": 11,
   "metadata": {
    "colab": {
     "base_uri": "https://localhost:8080/",
     "height": 209
    },
    "id": "AruGVKQdLaiT",
    "outputId": "c9d72d72-d77b-4248-c304-31ee9ae00493"
   },
   "outputs": [
    {
     "name": "stdout",
     "output_type": "stream",
     "text": [
      "[(10, 28, 28), (10,)]\n",
      "[[ True  True  True  True False]\n",
      " [False False  True  True  True]\n",
      " [False False  True  True  True]\n",
      " [ True  True  True  True  True]\n",
      " [ True  True  True  True  True]]\n"
     ]
    },
    {
     "data": {
      "image/png": "[encoded data removed]",
      "text/plain": [
       "<Figure size 1080x108 with 10 Axes>"
      ]
     },
     "metadata": {
      "needs_background": "light"
     },
     "output_type": "display_data"
    }
   ],
   "source": [
    "indices = range(0, 10)\n",
    "images, labels = get_data(mnist_train, indices, True)\n",
    "print([images.shape, labels.shape])\n",
    "print(images[0, 15:20, 15:20])  # binary\n",
    "_ = show_images(images, 1, 10)"
   ]
  },
  {
   "cell_type": "code",
   "execution_count": 12,
   "metadata": {
    "id": "OgKlCqxcLxQY"
   },
   "outputs": [],
   "source": [
    "X_train, y_train = get_data(mnist_train)\n",
    "X_test, y_test = get_data(mnist_test)"
   ]
  },
  {
   "cell_type": "code",
   "execution_count": 13,
   "metadata": {
    "colab": {
     "base_uri": "https://localhost:8080/"
    },
    "id": "nOlwpRaZ6ZKh",
    "outputId": "c98c9780-d31b-478e-bb57-ff30aed2c84d"
   },
   "outputs": [
    {
     "name": "stdout",
     "output_type": "stream",
     "text": [
      "(60000, 28, 28)\n",
      "<class 'jaxlib.xla_extension.DeviceArray'>\n",
      "[[ True  True  True  True False]\n",
      " [False False  True  True  True]\n",
      " [False False  True  True  True]\n",
      " [ True  True  True  True  True]\n",
      " [ True  True  True  True  True]]\n"
     ]
    }
   ],
   "source": [
    "print(X_train.shape)\n",
    "print(type(X_train))\n",
    "\n",
    "print(X_train[0, 15:20, 15:20])"
   ]
  },
  {
   "cell_type": "markdown",
   "metadata": {
    "id": "4YZMNew3NMWe"
   },
   "source": [
    "# Training\n"
   ]
  },
  {
   "cell_type": "code",
   "execution_count": 14,
   "metadata": {
    "colab": {
     "base_uri": "https://localhost:8080/"
    },
    "id": "5MwqDrK97X7e",
    "outputId": "629f4c8c-09d2-4447-8d07-64eaffe75b29"
   },
   "outputs": [
    {
     "data": {
      "text/plain": [
       "DeviceArray([0.09871667, 0.11236667, 0.0993    , 0.10218333, 0.09736667,\n",
       "             0.09035   , 0.09863333, 0.10441667, 0.09751666, 0.09915   ],            dtype=float32)"
      ]
     },
     "execution_count": 14,
     "metadata": {},
     "output_type": "execute_result"
    }
   ],
   "source": [
    "n_y = jnp.zeros(10)\n",
    "for y in range(10):\n",
    "    n_y = n_y.at[y].set((y_train == y).sum())\n",
    "P_y = n_y / n_y.sum()\n",
    "P_y"
   ]
  },
  {
   "cell_type": "code",
   "execution_count": 15,
   "metadata": {
    "colab": {
     "base_uri": "https://localhost:8080/"
    },
    "id": "JQOvjLoU7nqi",
    "outputId": "b44e3553-ecd1-4ecc-bc74-f446648a94c6"
   },
   "outputs": [
    {
     "name": "stdout",
     "output_type": "stream",
     "text": [
      "[0 1 2 3 4 5 6 7 8 9]\n",
      "dict_keys([5, 0, 4, 1, 9, 2, 3, 6, 7, 8])\n",
      "dict_values([5421, 5923, 5842, 6742, 5949, 5958, 6131, 5918, 6265, 5851])\n"
     ]
    }
   ],
   "source": [
    "# Training set is not equally balanced across classes...\n",
    "print(jnp.unique(y_train))\n",
    "from collections import Counter\n",
    "\n",
    "cnt = Counter(np.asarray(y_train))\n",
    "print(cnt.keys())\n",
    "print(cnt.values())"
   ]
  },
  {
   "cell_type": "markdown",
   "metadata": {
    "id": "qz_i5HmcQYJY"
   },
   "source": [
    "We use add-one smoothing for class conditional Bernoulli distributions.\n"
   ]
  },
  {
   "cell_type": "code",
   "execution_count": 16,
   "metadata": {
    "colab": {
     "base_uri": "https://localhost:8080/"
    },
    "id": "Q3w4c5os8F5y",
    "outputId": "0719e044-3bd5-44ff-d781-edc49842e8e4"
   },
   "outputs": [
    {
     "name": "stdout",
     "output_type": "stream",
     "text": [
      "(10, 28, 28)\n",
      "<class 'jaxlib.xla_extension.DeviceArray'>\n"
     ]
    }
   ],
   "source": [
    "n_x = jnp.zeros((10, 28, 28))\n",
    "for y in range(10):\n",
    "    n_x = n_x.at[y].set(X_train[y_train == y].sum(axis=0))\n",
    "# using pseudo counts of 1\n",
    "# P_xy = (n_x + 1) / (n_y + 1).reshape(10, 1, 1)\n",
    "P_xy = (n_x + 1) / (n_y + 2).reshape(10, 1, 1)\n",
    "print(P_xy.shape)\n",
    "print(type(P_xy))"
   ]
  },
  {
   "cell_type": "code",
   "execution_count": 17,
   "metadata": {
    "colab": {
     "base_uri": "https://localhost:8080/",
     "height": 121
    },
    "id": "_UIdj6bUQdzo",
    "outputId": "c1884aa1-e39b-48bf-945b-a4afbc15e04a"
   },
   "outputs": [
    {
     "data": {
      "image/png": "[encoded data removed]",
      "text/plain": [
       "<Figure size 1080x108 with 10 Axes>"
      ]
     },
     "metadata": {
      "needs_background": "light"
     },
     "output_type": "display_data"
    }
   ],
   "source": [
    "show_images(P_xy, 1, 10)\n",
    "plt.tight_layout()\n",
    "plt.savefig(\"nbc_mnist_centroids.pdf\", dpi=300)"
   ]
  },
  {
   "cell_type": "markdown",
   "metadata": {
    "id": "Quc-apFHQ0Wl"
   },
   "source": [
    "# Testing\n"
   ]
  },
  {
   "cell_type": "code",
   "execution_count": 18,
   "metadata": {
    "colab": {
     "base_uri": "https://localhost:8080/"
    },
    "id": "YfWDtGMA8VRM",
    "outputId": "57a15e3e-126b-4f8d-ee8e-498fd1983f68"
   },
   "outputs": [
    {
     "name": "stdout",
     "output_type": "stream",
     "text": [
      "[-268.9725   -301.7044   -245.19514  -218.87386  -193.45703  -206.09087\n",
      " -292.52264  -114.625656 -220.33133  -163.17844 ]\n",
      "ytrue  7 yhat  7\n",
      "[7]\n"
     ]
    }
   ],
   "source": [
    "log_P_xy = jnp.log(P_xy)\n",
    "log_P_xy_neg = jnp.log(1 - P_xy)\n",
    "log_P_y = jnp.log(P_y)\n",
    "\n",
    "\n",
    "def bayes_pred_stable(x):\n",
    "    # x = x.unsqueeze(0)  # (28, 28) -> (1, 28, 28)\n",
    "    x = jnp.expand_dims(x, 0)  # (28, 28) -> (1, 28, 28)\n",
    "    p_xy = log_P_xy * x + log_P_xy_neg * (1 - x)  # select the 0 and 1 pixels\n",
    "    p_xy = p_xy.reshape(10, -1).sum(axis=1)  # p(x|y)\n",
    "    return p_xy + log_P_y\n",
    "\n",
    "\n",
    "def predict(X):\n",
    "    return jnp.array([jnp.argmax(bayes_pred_stable(x)) for x in X])\n",
    "\n",
    "\n",
    "# image, label = mnist_test[0]\n",
    "image = X_test[0]\n",
    "label = y_test[0]\n",
    "py = bayes_pred_stable(image)\n",
    "print(py)\n",
    "print(\"ytrue \", label, \"yhat \", np.argmax(py))\n",
    "print(predict([image]))"
   ]
  },
  {
   "cell_type": "code",
   "execution_count": 19,
   "metadata": {
    "colab": {
     "base_uri": "https://localhost:8080/",
     "height": 126
    },
    "id": "0lwgWe3l9g1y",
    "outputId": "87ac754e-c623-49fd-f454-bbc34cb3fe3e"
   },
   "outputs": [
    {
     "data": {
      "image/png": "[encoded data removed]",
      "text/plain": [
       "<Figure size 1080x108 with 10 Axes>"
      ]
     },
     "metadata": {
      "needs_background": "light"
     },
     "output_type": "display_data"
    }
   ],
   "source": [
    "indices = range(0, 10)\n",
    "X1, y1 = get_data(mnist_test, indices, True)\n",
    "preds = predict(X1)\n",
    "show_images(X1, 1, 10, titles=[str(d) for d in preds])\n",
    "plt.tight_layout()\n",
    "plt.savefig(\"nbc_mnist_preds.pdf\", dpi=300)"
   ]
  },
  {
   "cell_type": "code",
   "execution_count": 20,
   "metadata": {
    "colab": {
     "base_uri": "https://localhost:8080/",
     "height": 125
    },
    "id": "4c-rukdKMYYl",
    "outputId": "f70fa019-a4dd-495d-cedd-1b380cca5047"
   },
   "outputs": [
    {
     "data": {
      "image/png": "[encoded data removed]",
      "text/plain": [
       "<Figure size 540x108 with 5 Axes>"
      ]
     },
     "metadata": {
      "needs_background": "light"
     },
     "output_type": "display_data"
    }
   ],
   "source": [
    "indices = range(5, 10)\n",
    "X1, y1 = get_data(mnist_test, indices, True)\n",
    "preds = predict(X1)\n",
    "show_images(X1, 1, 5, titles=[str(d) for d in preds])\n",
    "plt.tight_layout()\n",
    "plt.savefig(\"nbc_mnist_preds.pdf\", dpi=300)"
   ]
  },
  {
   "cell_type": "code",
   "execution_count": 21,
   "metadata": {
    "colab": {
     "base_uri": "https://localhost:8080/",
     "height": 121
    },
    "id": "lH1JLOXjToy_",
    "outputId": "af4e7f51-e372-4f16-9dab-311612ef313d"
   },
   "outputs": [
    {
     "data": {
      "image/png": "[encoded data removed]",
      "text/plain": [
       "<Figure size 1080x108 with 10 Axes>"
      ]
     },
     "metadata": {
      "needs_background": "light"
     },
     "output_type": "display_data"
    }
   ],
   "source": [
    "indices = range(30, 40)\n",
    "X1, y1 = get_data(mnist_test, indices, True)\n",
    "preds = predict(X1)\n",
    "_ = show_images(X1, 1, 10, titles=[str(d) for d in preds])"
   ]
  },
  {
   "cell_type": "code",
   "execution_count": 22,
   "metadata": {
    "colab": {
     "base_uri": "https://localhost:8080/"
    },
    "id": "ikJqdEyVTqZX",
    "outputId": "8b570b69-f0d8-4311-bf85-b7a9c6ad8154"
   },
   "outputs": [
    {
     "data": {
      "text/plain": [
       "0.8427"
      ]
     },
     "execution_count": 22,
     "metadata": {},
     "output_type": "execute_result"
    }
   ],
   "source": [
    "preds = predict(X_test)\n",
    "float(jnp.count_nonzero(preds == y_test)) / len(y_test)  # test accuracy"
   ]
  },
  {
   "cell_type": "code",
   "execution_count": null,
   "metadata": {},
   "outputs": [],
   "source": []
  }
 ],
 "metadata": {
  "colab": {
   "name": "naive_bayes_mnist.ipynb",
   "provenance": []
  },
  "kernelspec": {
   "display_name": "Python 3 (ipykernel)",
   "language": "python",
   "name": "python3"
  },
  "language_info": {
   "codemirror_mode": {
    "name": "ipython",
    "version": 3
   },
   "file_extension": ".py",
   "mimetype": "text/x-python",
   "name": "python",
   "nbconvert_exporter": "python",
   "pygments_lexer": "ipython3",
   "version": "3.9.7"
  }
 },
 "nbformat": 4,
 "nbformat_minor": 1
}
