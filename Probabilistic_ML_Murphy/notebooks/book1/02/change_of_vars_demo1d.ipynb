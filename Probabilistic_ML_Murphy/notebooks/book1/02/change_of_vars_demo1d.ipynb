{
 "cells": [
  {
   "cell_type": "markdown",
   "id": "cc92b362",
   "metadata": {},
   "source": [
    "## Monte Carlo approximation on Uniform distribution"
   ]
  },
  {
   "cell_type": "code",
   "execution_count": 1,
   "id": "03818a42",
   "metadata": {},
   "outputs": [],
   "source": [
    "import jax.numpy as jnp\n",
    "from jax import random\n",
    "\n",
    "\n",
    "import matplotlib.pyplot as plt\n",
    "import seaborn as sns\n",
    "\n",
    "try:\n",
    "    from probml_utils import savefig, latexify, is_latexify_enabled\n",
    "except:\n",
    "    %pip install git+https://github.com/probml/probml-utils.git\n",
    "    from probml_utils import savefig, latexify, is_latexify_enabled"
   ]
  },
  {
   "cell_type": "code",
   "execution_count": 2,
   "id": "3a88e728",
   "metadata": {},
   "outputs": [
    {
     "name": "stderr",
     "output_type": "stream",
     "text": [
      "/home/rohit_khoiwal/.local/lib/python3.8/site-packages/probml_utils/plotting.py:26: UserWarning: LATEXIFY environment variable not set, not latexifying\n",
      "  warnings.warn(\"LATEXIFY environment variable not set, not latexifying\")\n"
     ]
    }
   ],
   "source": [
    "latexify(width_scale_factor=1, fig_height=2)"
   ]
  },
  {
   "cell_type": "code",
   "execution_count": 3,
   "id": "4f594720",
   "metadata": {},
   "outputs": [
    {
     "name": "stderr",
     "output_type": "stream",
     "text": [
      "WARNING:absl:No GPU/TPU found, falling back to CPU. (Set TF_CPP_MIN_LOG_LEVEL=0 and rerun for more info.)\n"
     ]
    },
    {
     "name": "stdout",
     "output_type": "stream",
     "text": [
      "0.31545982\n"
     ]
    }
   ],
   "source": [
    "x_samples = jnp.linspace(-1, 1, 200)\n",
    "lower_limit = -1\n",
    "upper_limit = 1\n",
    "px_uniform = 1 / (upper_limit - lower_limit) * jnp.ones(len(x_samples))\n",
    "\n",
    "square_fn = lambda x: x**2\n",
    "y = square_fn(x_samples)\n",
    "\n",
    "# analytic\n",
    "y_pdf = 1 / (2 * jnp.sqrt(y + 1e-2))\n",
    "\n",
    "# monte carlo\n",
    "n = 1000\n",
    "\n",
    "key = random.PRNGKey(0)\n",
    "uniform_samples = random.uniform(key, shape=(n, 1), minval=lower_limit, maxval=upper_limit)\n",
    "fn_samples = square_fn(uniform_samples)\n",
    "\n",
    "\n",
    "print(jnp.mean(fn_samples))"
   ]
  },
  {
   "cell_type": "code",
   "execution_count": 4,
   "id": "f65c6956",
   "metadata": {
    "colab": {
     "base_uri": "https://localhost:8080/",
     "height": 498
    },
    "id": "f65c6956",
    "outputId": "e709c01f-4472-407c-f82a-06f4dde6bf7b"
   },
   "outputs": [
    {
     "name": "stderr",
     "output_type": "stream",
     "text": [
      "/home/rohit_khoiwal/.local/lib/python3.8/site-packages/seaborn/distributions.py:2619: FutureWarning: `distplot` is a deprecated function and will be removed in a future version. Please adapt your code to use either `displot` (a figure-level function with similar flexibility) or `histplot` (an axes-level function for histograms).\n",
      "  warnings.warn(msg, FutureWarning)\n",
      "/home/rohit_khoiwal/.local/lib/python3.8/site-packages/probml_utils/plotting.py:79: UserWarning: set FIG_DIR environment variable to save figures\n",
      "  warnings.warn(\"set FIG_DIR environment variable to save figures\")\n"
     ]
    },
    {
     "data": {
      "image/png": "[encoded data removed]",
      "text/plain": [
       "<Figure size 1080x216 with 3 Axes>"
      ]
     },
     "metadata": {
      "needs_background": "light"
     },
     "output_type": "display_data"
    }
   ],
   "source": [
    "if not is_latexify_enabled():\n",
    "    fig, ax = plt.subplots(nrows=1, ncols=3, figsize=(15, 3))\n",
    "else:\n",
    "    fig, ax = plt.subplots(nrows=1, ncols=3)\n",
    "\n",
    "ax[0].set_title(\"Uniform distribution\")\n",
    "ax[0].plot(x_samples, px_uniform, \"-\")\n",
    "ax[0].set_xlabel(\"$x$\")\n",
    "ax[0].set_ylabel(\"$p(x)$\")\n",
    "\n",
    "\n",
    "ax[1].set_title(\"Analytical p(y), $y(x)$ = $x^2$\")\n",
    "ax[1].plot(y, y_pdf, \"-\", linewidth=2)\n",
    "ax[1].set_xlabel(\"$y$\")\n",
    "ax[1].set_ylabel(\"$p(y)$\")\n",
    "\n",
    "ax[2].set_title(\"Monte carlo approximation\")\n",
    "sns.distplot(fn_samples, kde=False, ax=ax[2], bins=20, norm_hist=True, hist_kws=dict(edgecolor=\"k\", linewidth=1))\n",
    "ax[2].set_xlabel(\"$y$\")\n",
    "ax[2].set_ylabel(\"$Frequency$\")\n",
    "\n",
    "\n",
    "sns.despine()\n",
    "savefig(\"changeOfVars\")\n",
    "plt.show()"
   ]
  },
  {
   "cell_type": "code",
   "execution_count": null,
   "id": "25dab2b2",
   "metadata": {},
   "outputs": [],
   "source": []
  },
  {
   "cell_type": "code",
   "execution_count": null,
   "id": "5f753120",
   "metadata": {},
   "outputs": [],
   "source": []
  }
 ],
 "metadata": {
  "colab": {
   "collapsed_sections": [],
   "name": "Copy of change_of_vars_demo1d.ipynb",
   "provenance": []
  },
  "interpreter": {
   "hash": "65296b81c5162eecc8aa77affcf23bef7945fc2b256db0b1681b880bc0807051"
  },
  "kernelspec": {
   "display_name": "Python 3 (ipykernel)",
   "language": "python",
   "name": "python3"
  },
  "language_info": {
   "codemirror_mode": {
    "name": "ipython",
    "version": 3
   },
   "file_extension": ".py",
   "mimetype": "text/x-python",
   "name": "python",
   "nbconvert_exporter": "python",
   "pygments_lexer": "ipython3",
   "version": "3.8.10"
  }
 },
 "nbformat": 4,
 "nbformat_minor": 5
}
