{
 "cells": [
  {
   "cell_type": "markdown",
   "id": "20088711",
   "metadata": {},
   "source": [
    "# CDF and Quantile PDF Plot of Standard Normal Distribution"
   ]
  },
  {
   "cell_type": "code",
   "execution_count": 4,
   "id": "6d03c2fe",
   "metadata": {},
   "outputs": [],
   "source": [
    "import jax\n",
    "import jax.numpy as jnp\n",
    "import seaborn as sns\n",
    "import matplotlib.pyplot as plt\n",
    "\n",
    "try:\n",
    "    from probml_utils import latexify, savefig, is_latexify_enabled\n",
    "except ModuleNotFoundError:\n",
    "    %pip install -qq git+https://github.com/probml/probml-utils.git\n",
    "    from probml_utils import latexify, savefig, is_latexify_enabled\n",
    "\n",
    "from jax.scipy.stats import norm"
   ]
  },
  {
   "cell_type": "code",
   "execution_count": 5,
   "id": "0d9280ad",
   "metadata": {
    "tags": [
     "hide-input"
    ]
   },
   "outputs": [],
   "source": [
    "latexify(width_scale_factor=2, fig_height=1.5)"
   ]
  },
  {
   "cell_type": "code",
   "execution_count": 6,
   "id": "e7bbfc24",
   "metadata": {},
   "outputs": [
    {
     "name": "stderr",
     "output_type": "stream",
     "text": [
      "/home/patel_zeel/miniconda3/lib/python3.9/site-packages/probml_utils/plotting.py:79: UserWarning: set FIG_DIR environment variable to save figures\n",
      "  warnings.warn(\"set FIG_DIR environment variable to save figures\")\n"
     ]
    },
    {
     "data": {
      "image/png": "[encoded data removed]",
      "text/plain": [
       "<Figure size 432x288 with 1 Axes>"
      ]
     },
     "metadata": {
      "needs_background": "light"
     },
     "output_type": "display_data"
    }
   ],
   "source": [
    "x = jnp.linspace(-3, 3, 100)\n",
    "\n",
    "plt.plot(x, norm.pdf(x))\n",
    "x_sep_left = norm.ppf(0.025)\n",
    "x_sep_right = norm.ppf(0.975)\n",
    "x_fill_left = jnp.linspace(-3, x_sep_left, 100)\n",
    "x_fill_right = jnp.linspace(x_sep_right, 3, 100)\n",
    "plt.fill_between(x_fill_left, norm.pdf(x_fill_left), color=\"b\")\n",
    "plt.fill_between(x_fill_right, norm.pdf(x_fill_right), color=\"b\")\n",
    "\n",
    "arrow_x_left = x_sep_left - 0.2\n",
    "arrow_x_right = x_sep_right + 0.2\n",
    "arrow_y_left = 0.5 * norm.pdf(x_sep_left)\n",
    "arrow_y_right = 0.5 * norm.pdf(x_sep_right)\n",
    "\n",
    "plt.arrow(arrow_x_left, arrow_y_left, -2.5 - arrow_x_left, 0.2 - norm.pdf(x_sep_left))\n",
    "plt.text(-2.5, 0.2, r\"$\\alpha/2$\", horizontalalignment=\"center\")\n",
    "\n",
    "\n",
    "plt.arrow(arrow_x_right, arrow_y_right, 2.5 - arrow_x_right, 0.2 - norm.pdf(x_sep_left))\n",
    "plt.text(2.5, 0.2, r\"$\\alpha/2$\", horizontalalignment=\"center\")\n",
    "\n",
    "\n",
    "plt.xlabel(\"$x$\")\n",
    "plt.ylabel(\"$p(x)$\")\n",
    "plt.ylim([0, 0.5])\n",
    "\n",
    "\n",
    "sns.despine()\n",
    "ax = plt.gca()\n",
    "\n",
    "ax.set_xticks([x_sep_left, 0, x_sep_right])\n",
    "ax.set_xticklabels([r\"$\\Phi ^{-1}(\\alpha/2)$\", 0, r\"$\\Phi ^{-1}(1-\\alpha/2)$\"])\n",
    "savefig(\"gaussianQuantile.pdf\")"
   ]
  },
  {
   "cell_type": "code",
   "execution_count": null,
   "id": "4a455d81",
   "metadata": {},
   "outputs": [],
   "source": []
  }
 ],
 "metadata": {
  "kernelspec": {
   "display_name": "Python 3 (ipykernel)",
   "language": "python",
   "name": "python3"
  },
  "language_info": {
   "codemirror_mode": {
    "name": "ipython",
    "version": 3
   },
   "file_extension": ".py",
   "mimetype": "text/x-python",
   "name": "python",
   "nbconvert_exporter": "python",
   "pygments_lexer": "ipython3",
   "version": "3.9.7"
  }
 },
 "nbformat": 4,
 "nbformat_minor": 5
}
