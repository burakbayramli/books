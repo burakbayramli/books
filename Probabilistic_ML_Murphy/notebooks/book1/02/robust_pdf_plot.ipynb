{
 "cells": [
  {
   "cell_type": "markdown",
   "metadata": {},
   "source": [
    "# Understanding Effect of Outliers on diffrent PDF"
   ]
  },
  {
   "cell_type": "code",
   "execution_count": 1,
   "metadata": {
    "id": "foaTJKugAFVM"
   },
   "outputs": [],
   "source": [
    "import jax.numpy as jnp\n",
    "from jax import random\n",
    "import matplotlib.pyplot as plt\n",
    "from scipy.stats import t, laplace, norm\n",
    "import seaborn as sns\n",
    "import numpy as np\n",
    "\n",
    "try:\n",
    "    from probml_utils import savefig, latexify\n",
    "except ModuleNotFoundError:\n",
    "    %pip install -qq git+https://github.com/probml/probml-utils.git\n",
    "    from probml_utils import savefig, latexify"
   ]
  },
  {
   "cell_type": "code",
   "execution_count": 2,
   "metadata": {},
   "outputs": [
    {
     "name": "stderr",
     "output_type": "stream",
     "text": [
      "C:\\Users\\NITISH SHARMA\\.pyenv\\pyenv-win\\versions\\3.9.10\\lib\\site-packages\\probml_utils\\plotting.py:26: UserWarning: LATEXIFY environment variable not set, not latexifying\n",
      "  warnings.warn(\"LATEXIFY environment variable not set, not latexifying\")\n"
     ]
    }
   ],
   "source": [
    "latexify(width_scale_factor=2, fig_height=2.0)"
   ]
  },
  {
   "cell_type": "code",
   "execution_count": 3,
   "metadata": {
    "id": "RZ3xndSRF-mm"
   },
   "outputs": [],
   "source": [
    "def plot_outlier_effect(\n",
    "    save_name,\n",
    "    outlier_pos=0,\n",
    "    outliers=[],\n",
    "    bins=7,\n",
    "    samples_norm_dist=30,\n",
    "    samples_graph_xaxis=500,\n",
    "    range_xaxis=[-5, 10],\n",
    "    range_yaxis=[0, 0.60],\n",
    "    fig=None,\n",
    "    ax=None,\n",
    "):\n",
    "    \"\"\"\n",
    "    Sample from a normal distribution and plot the PDF for\n",
    "    normal distribution, laplacian distribution, and the student T\n",
    "    distribution. The function plots/saves data for distributions.\n",
    "    If outliers are provided, we see the robustness of the student\n",
    "    T distribution compared to the normal distribution.\n",
    "\n",
    "\n",
    "    Args:\n",
    "    ----------\n",
    "    save_name : string\n",
    "        The filenames to save the graphs\n",
    "\n",
    "    outlier_pos : int, default=0\n",
    "        Changes position of outliers\n",
    "\n",
    "    outliers :  list, default=[]\n",
    "        A list of outlier values\n",
    "\n",
    "    bins : int, default=7\n",
    "        Value of bin size for normal distribution histogram\n",
    "\n",
    "    samples_norm_dist : int, default=30\n",
    "        Number of samples to be taken from the normal distribution\n",
    "\n",
    "    samples_graph_xaxis : int, default=500\n",
    "        Number of values for the x-axis i.e the values the\n",
    "        random variable can take\n",
    "\n",
    "    range_xaxis : list, default=[-5, 10]\n",
    "        The range of values for the x-axis\n",
    "\n",
    "    range_yaxis : list, default=[0, 0.6]\n",
    "        The range of values for the y-axis\n",
    "\n",
    "    fig : None\n",
    "        Will be used to store matplotlib figure\n",
    "\n",
    "    ax : None\n",
    "        Will be used to store matplotlib axes\n",
    "\n",
    "    Returns:\n",
    "    ----------\n",
    "    fig : matplotlib figure object\n",
    "        Stores the graph data displayed\n",
    "\n",
    "    ax : matplotlib axis object\n",
    "        Stores the axes data of the graph displayed\n",
    "    \"\"\"\n",
    "\n",
    "    # Generate Samples from normal distribution\n",
    "    norm_dist_sample = random.normal(random.PRNGKey(42), shape=(samples_norm_dist,))\n",
    "\n",
    "    # Generate values for x axis i.e. the values your random variable can take\n",
    "    x_axis = jnp.linspace(range_xaxis[0], range_xaxis[1], samples_graph_xaxis)\n",
    "\n",
    "    # Set figure\n",
    "    fig, ax = plt.subplots()\n",
    "\n",
    "    if outliers:\n",
    "        samples = jnp.hstack((norm_dist_sample, jnp.array(outliers) + outlier_pos))\n",
    "\n",
    "        # Plot the data from normal distribution\n",
    "        ax.hist(\n",
    "            np.array(norm_dist_sample),\n",
    "            bins,\n",
    "            color=\"steelblue\",\n",
    "            ec=\"steelblue\",\n",
    "            weights=[1 / (norm_dist_sample.shape[0] + len(outliers))] * norm_dist_sample.shape[0],\n",
    "            rwidth=0.8,\n",
    "        )\n",
    "\n",
    "        # Plot outlier data\n",
    "        ax.hist(\n",
    "            np.array(outliers) + outlier_pos,\n",
    "            len(outliers),\n",
    "            color=\"steelblue\",\n",
    "            ec=\"steelblue\",\n",
    "            weights=[1 / (norm_dist_sample.shape[0] + len(outliers))] * len(outliers),\n",
    "            rwidth=0.8,\n",
    "        )\n",
    "    else:\n",
    "        samples = norm_dist_sample\n",
    "\n",
    "        # Plot the data from normal distribution\n",
    "        ax.hist(\n",
    "            np.array(norm_dist_sample),\n",
    "            bins,\n",
    "            color=\"steelblue\",\n",
    "            ec=\"steelblue\",\n",
    "            weights=[1 / norm_dist_sample.shape[0]] * norm_dist_sample.shape[0],\n",
    "            rwidth=0.8,\n",
    "        )\n",
    "\n",
    "    # Calculate mean and standard deviation for different distributions and then\n",
    "    # find the PDF for each distribution\n",
    "    loc, scale = norm.fit(samples)\n",
    "    norm_pdf = norm.pdf(x_axis, loc=loc, scale=scale)\n",
    "\n",
    "    loc, scale = laplace.fit(samples)\n",
    "    laplace_pdf = laplace.pdf(x_axis, loc=loc, scale=scale)\n",
    "\n",
    "    fd, loc, scale = t.fit(samples)\n",
    "    studentT_pdf = t.pdf(x_axis, fd, loc=loc, scale=scale)\n",
    "\n",
    "    # Find range of values for PDF i.e y-axis\n",
    "    y_range = range_yaxis\n",
    "\n",
    "    # Update tick intervals for x-axis\n",
    "    ax.set_xticks(jnp.arange(range_xaxis[0], range_xaxis[1] + 1, 5))\n",
    "\n",
    "    # Update the tick intervals and limit for y-axis\n",
    "    ax.set_ylim(y_range)\n",
    "    ax.set_yticks(jnp.linspace(y_range[0], y_range[1], 5))\n",
    "\n",
    "    # Plot the different PDF's obtained\n",
    "    ax.plot(x_axis, norm_pdf, \"k-\", linewidth=2.0)\n",
    "    ax.plot(x_axis, studentT_pdf, \"r-.\", linewidth=2.0)\n",
    "    ax.plot(x_axis, laplace_pdf, \"b:\", linewidth=2.0)\n",
    "\n",
    "    # Update the Legend and the axis labels\n",
    "    ax.legend((\"gaussian\", \"student T\", \"laplace\", \"data\"))\n",
    "    ax.set_xlabel(\"$x$\")\n",
    "    ax.set_ylabel(\"$p(x)$\")\n",
    "\n",
    "    sns.despine()\n",
    "\n",
    "    # Save figure to files\n",
    "    if len(save_name) > 0:\n",
    "        savefig(save_name)\n",
    "\n",
    "    return fig, ax"
   ]
  },
  {
   "cell_type": "code",
   "execution_count": 4,
   "metadata": {
    "colab": {
     "base_uri": "https://localhost:8080/",
     "height": 265
    },
    "id": "3vc5WuSjOqwb",
    "outputId": "1e08144c-5ee8-4e0f-b88f-83085849b813",
    "scrolled": false
   },
   "outputs": [
    {
     "name": "stderr",
     "output_type": "stream",
     "text": [
      "WARNING:absl:No GPU/TPU found, falling back to CPU. (Set TF_CPP_MIN_LOG_LEVEL=0 and rerun for more info.)\n",
      "C:\\Users\\NITISH SHARMA\\.pyenv\\pyenv-win\\versions\\3.9.10\\lib\\site-packages\\probml_utils\\plotting.py:79: UserWarning: set FIG_DIR environment variable to save figures\n",
      "  warnings.warn(\"set FIG_DIR environment variable to save figures\")\n"
     ]
    },
    {
     "data": {
      "text/plain": [
       "(<Figure size 432x288 with 1 Axes>,\n",
       " <AxesSubplot:xlabel='$x$', ylabel='$p(x)$'>)"
      ]
     },
     "execution_count": 4,
     "metadata": {},
     "output_type": "execute_result"
    },
    {
     "data": {
      "image/png": "[encoded data removed]",
      "text/plain": [
       "<Figure size 432x288 with 1 Axes>"
      ]
     },
     "metadata": {
      "needs_background": "light"
     },
     "output_type": "display_data"
    }
   ],
   "source": [
    "plot_outlier_effect(save_name=\"robust_pdf_plot\")"
   ]
  },
  {
   "cell_type": "code",
   "execution_count": 5,
   "metadata": {
    "colab": {
     "base_uri": "https://localhost:8080/",
     "height": 265
    },
    "id": "aSlBkj6oIbqe",
    "outputId": "c332581a-04d6-402c-a51a-cc5864105cf5"
   },
   "outputs": [
    {
     "name": "stderr",
     "output_type": "stream",
     "text": [
      "C:\\Users\\NITISH SHARMA\\.pyenv\\pyenv-win\\versions\\3.9.10\\lib\\site-packages\\probml_utils\\plotting.py:79: UserWarning: set FIG_DIR environment variable to save figures\n",
      "  warnings.warn(\"set FIG_DIR environment variable to save figures\")\n"
     ]
    },
    {
     "data": {
      "text/plain": [
       "(<Figure size 432x288 with 1 Axes>,\n",
       " <AxesSubplot:xlabel='$x$', ylabel='$p(x)$'>)"
      ]
     },
     "execution_count": 5,
     "metadata": {},
     "output_type": "execute_result"
    },
    {
     "data": {
      "image/png": "[encoded data removed]",
      "text/plain": [
       "<Figure size 432x288 with 1 Axes>"
      ]
     },
     "metadata": {
      "needs_background": "light"
     },
     "output_type": "display_data"
    }
   ],
   "source": [
    "plot_outlier_effect(save_name=\"robust_pdf_plot_outliers\", outliers=[8, 8.75, 9.5])"
   ]
  },
  {
   "cell_type": "code",
   "execution_count": 6,
   "metadata": {
    "scrolled": false
   },
   "outputs": [
    {
     "data": {
      "application/vnd.jupyter.widget-view+json": {
       "model_id": "391a1b1119a740a1a2329716da397690",
       "version_major": 2,
       "version_minor": 0
      },
      "text/plain": [
       "interactive(children=(IntSlider(value=0, description='outlier_pos', max=5, min=-5), Output()), _dom_classes=('…"
      ]
     },
     "metadata": {},
     "output_type": "display_data"
    }
   ],
   "source": [
    "from ipywidgets import interact\n",
    "\n",
    "\n",
    "@interact(outlier_pos=(-5, 5))\n",
    "def interactive_plot(outlier_pos):\n",
    "    fig, ax = plot_outlier_effect(save_name=\"\", outlier_pos=outlier_pos, outliers=[8, 8.75, 9.5])"
   ]
  },
  {
   "cell_type": "code",
   "execution_count": null,
   "metadata": {},
   "outputs": [],
   "source": []
  }
 ],
 "metadata": {
  "colab": {
   "collapsed_sections": [],
   "name": "robust_pdf_plot.ipynb",
   "provenance": []
  },
  "kernelspec": {
   "display_name": "pyprobml",
   "language": "python",
   "name": "venv"
  },
  "language_info": {
   "codemirror_mode": {
    "name": "ipython",
    "version": 3
   },
   "file_extension": ".py",
   "mimetype": "text/x-python",
   "name": "python",
   "nbconvert_exporter": "python",
   "pygments_lexer": "ipython3",
   "version": "3.9.10"
  },
  "toc": {
   "base_numbering": 1,
   "nav_menu": {},
   "number_sections": true,
   "sideBar": true,
   "skip_h1_title": false,
   "title_cell": "Table of Contents",
   "title_sidebar": "Contents",
   "toc_cell": false,
   "toc_position": {},
   "toc_section_display": true,
   "toc_window_display": false
  }
 },
 "nbformat": 4,
 "nbformat_minor": 1
}
