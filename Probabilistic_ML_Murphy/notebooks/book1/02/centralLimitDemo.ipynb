{
 "cells": [
  {
   "cell_type": "markdown",
   "metadata": {
    "id": "H-OhPOi5vOYw"
   },
   "source": [
    "# Central Limit Theorem "
   ]
  },
  {
   "cell_type": "code",
   "execution_count": 2,
   "metadata": {
    "colab": {
     "base_uri": "https://localhost:8080/"
    },
    "id": "hviUehaWifUs",
    "outputId": "471804b1-756b-4bb4-a75a-c3d3949749bf"
   },
   "outputs": [
    {
     "name": "stdout",
     "output_type": "stream",
     "text": [
      "Collecting git+https://github.com/probml/probml-utils.git\n",
      "  Cloning https://github.com/probml/probml-utils.git to /tmp/pip-req-build-mc62jfr2\n",
      "  Running command git clone -q https://github.com/probml/probml-utils.git /tmp/pip-req-build-mc62jfr2\n",
      "  Installing build dependencies ... \u001b[?25l\u001b[?25hdone\n",
      "  Getting requirements to build wheel ... \u001b[?25l\u001b[?25hdone\n",
      "    Preparing wheel metadata ... \u001b[?25l\u001b[?25hdone\n",
      "Requirement already satisfied: firebase-admin in /usr/local/lib/python3.7/dist-packages (from probml-utils==0.1.dev50+g413eabd) (4.4.0)\n",
      "Requirement already satisfied: scikit-learn in /usr/local/lib/python3.7/dist-packages (from probml-utils==0.1.dev50+g413eabd) (1.0.2)\n",
      "Requirement already satisfied: graphviz in /usr/local/lib/python3.7/dist-packages (from probml-utils==0.1.dev50+g413eabd) (0.10.1)\n",
      "Requirement already satisfied: jaxlib in /usr/local/lib/python3.7/dist-packages (from probml-utils==0.1.dev50+g413eabd) (0.3.7+cuda11.cudnn805)\n",
      "Requirement already satisfied: matplotlib in /usr/local/lib/python3.7/dist-packages (from probml-utils==0.1.dev50+g413eabd) (3.2.2)\n",
      "Requirement already satisfied: numpy in /usr/local/lib/python3.7/dist-packages (from probml-utils==0.1.dev50+g413eabd) (1.21.6)\n",
      "Requirement already satisfied: scipy in /usr/local/lib/python3.7/dist-packages (from probml-utils==0.1.dev50+g413eabd) (1.4.1)\n",
      "Collecting TexSoup\n",
      "  Downloading TexSoup-0.3.1.tar.gz (26 kB)\n",
      "Requirement already satisfied: jax in /usr/local/lib/python3.7/dist-packages (from probml-utils==0.1.dev50+g413eabd) (0.3.8)\n",
      "Requirement already satisfied: regex in /usr/local/lib/python3.7/dist-packages (from probml-utils==0.1.dev50+g413eabd) (2019.12.20)\n",
      "Collecting distrax\n",
      "  Downloading distrax-0.1.2-py3-none-any.whl (272 kB)\n",
      "\u001b[K     |████████████████████████████████| 272 kB 15.7 MB/s \n",
      "\u001b[?25hRequirement already satisfied: jupyter in /usr/local/lib/python3.7/dist-packages (from probml-utils==0.1.dev50+g413eabd) (1.0.0)\n",
      "Requirement already satisfied: pandas in /usr/local/lib/python3.7/dist-packages (from probml-utils==0.1.dev50+g413eabd) (1.3.5)\n",
      "Requirement already satisfied: absl-py>=0.9.0 in /usr/local/lib/python3.7/dist-packages (from distrax->probml-utils==0.1.dev50+g413eabd) (1.0.0)\n",
      "Requirement already satisfied: tensorflow-probability>=0.15.0 in /usr/local/lib/python3.7/dist-packages (from distrax->probml-utils==0.1.dev50+g413eabd) (0.16.0)\n",
      "Collecting chex>=0.0.7\n",
      "  Downloading chex-0.1.3-py3-none-any.whl (72 kB)\n",
      "\u001b[K     |████████████████████████████████| 72 kB 344 kB/s \n",
      "\u001b[?25hRequirement already satisfied: six in /usr/local/lib/python3.7/dist-packages (from absl-py>=0.9.0->distrax->probml-utils==0.1.dev50+g413eabd) (1.15.0)\n",
      "Requirement already satisfied: dm-tree>=0.1.5 in /usr/local/lib/python3.7/dist-packages (from chex>=0.0.7->distrax->probml-utils==0.1.dev50+g413eabd) (0.1.7)\n",
      "Requirement already satisfied: toolz>=0.9.0 in /usr/local/lib/python3.7/dist-packages (from chex>=0.0.7->distrax->probml-utils==0.1.dev50+g413eabd) (0.11.2)\n",
      "Requirement already satisfied: typing-extensions in /usr/local/lib/python3.7/dist-packages (from jax->probml-utils==0.1.dev50+g413eabd) (4.2.0)\n",
      "Requirement already satisfied: opt-einsum in /usr/local/lib/python3.7/dist-packages (from jax->probml-utils==0.1.dev50+g413eabd) (3.3.0)\n",
      "Requirement already satisfied: flatbuffers<3.0,>=1.12 in /usr/local/lib/python3.7/dist-packages (from jaxlib->probml-utils==0.1.dev50+g413eabd) (2.0)\n",
      "Requirement already satisfied: gast>=0.3.2 in /usr/local/lib/python3.7/dist-packages (from tensorflow-probability>=0.15.0->distrax->probml-utils==0.1.dev50+g413eabd) (0.5.3)\n",
      "Requirement already satisfied: cloudpickle>=1.3 in /usr/local/lib/python3.7/dist-packages (from tensorflow-probability>=0.15.0->distrax->probml-utils==0.1.dev50+g413eabd) (1.3.0)\n",
      "Requirement already satisfied: decorator in /usr/local/lib/python3.7/dist-packages (from tensorflow-probability>=0.15.0->distrax->probml-utils==0.1.dev50+g413eabd) (4.4.2)\n",
      "Requirement already satisfied: cachecontrol>=0.12.6 in /usr/local/lib/python3.7/dist-packages (from firebase-admin->probml-utils==0.1.dev50+g413eabd) (0.12.11)\n",
      "Requirement already satisfied: google-api-core[grpc]<2.0.0dev,>=1.14.0 in /usr/local/lib/python3.7/dist-packages (from firebase-admin->probml-utils==0.1.dev50+g413eabd) (1.31.5)\n",
      "Requirement already satisfied: google-api-python-client>=1.7.8 in /usr/local/lib/python3.7/dist-packages (from firebase-admin->probml-utils==0.1.dev50+g413eabd) (1.12.11)\n",
      "Requirement already satisfied: google-cloud-firestore>=1.4.0 in /usr/local/lib/python3.7/dist-packages (from firebase-admin->probml-utils==0.1.dev50+g413eabd) (1.7.0)\n",
      "Requirement already satisfied: google-cloud-storage>=1.18.0 in /usr/local/lib/python3.7/dist-packages (from firebase-admin->probml-utils==0.1.dev50+g413eabd) (1.18.1)\n",
      "Requirement already satisfied: requests in /usr/local/lib/python3.7/dist-packages (from cachecontrol>=0.12.6->firebase-admin->probml-utils==0.1.dev50+g413eabd) (2.23.0)\n",
      "Requirement already satisfied: msgpack>=0.5.2 in /usr/local/lib/python3.7/dist-packages (from cachecontrol>=0.12.6->firebase-admin->probml-utils==0.1.dev50+g413eabd) (1.0.3)\n",
      "Requirement already satisfied: googleapis-common-protos<2.0dev,>=1.6.0 in /usr/local/lib/python3.7/dist-packages (from google-api-core[grpc]<2.0.0dev,>=1.14.0->firebase-admin->probml-utils==0.1.dev50+g413eabd) (1.56.0)\n",
      "Requirement already satisfied: pytz in /usr/local/lib/python3.7/dist-packages (from google-api-core[grpc]<2.0.0dev,>=1.14.0->firebase-admin->probml-utils==0.1.dev50+g413eabd) (2022.1)\n",
      "Requirement already satisfied: google-auth<2.0dev,>=1.25.0 in /usr/local/lib/python3.7/dist-packages (from google-api-core[grpc]<2.0.0dev,>=1.14.0->firebase-admin->probml-utils==0.1.dev50+g413eabd) (1.35.0)\n",
      "Requirement already satisfied: packaging>=14.3 in /usr/local/lib/python3.7/dist-packages (from google-api-core[grpc]<2.0.0dev,>=1.14.0->firebase-admin->probml-utils==0.1.dev50+g413eabd) (21.3)\n",
      "Requirement already satisfied: setuptools>=40.3.0 in /usr/local/lib/python3.7/dist-packages (from google-api-core[grpc]<2.0.0dev,>=1.14.0->firebase-admin->probml-utils==0.1.dev50+g413eabd) (57.4.0)\n",
      "Requirement already satisfied: protobuf>=3.12.0 in /usr/local/lib/python3.7/dist-packages (from google-api-core[grpc]<2.0.0dev,>=1.14.0->firebase-admin->probml-utils==0.1.dev50+g413eabd) (3.17.3)\n",
      "Requirement already satisfied: grpcio<2.0dev,>=1.29.0 in /usr/local/lib/python3.7/dist-packages (from google-api-core[grpc]<2.0.0dev,>=1.14.0->firebase-admin->probml-utils==0.1.dev50+g413eabd) (1.44.0)\n",
      "Requirement already satisfied: uritemplate<4dev,>=3.0.0 in /usr/local/lib/python3.7/dist-packages (from google-api-python-client>=1.7.8->firebase-admin->probml-utils==0.1.dev50+g413eabd) (3.0.1)\n",
      "Requirement already satisfied: google-auth-httplib2>=0.0.3 in /usr/local/lib/python3.7/dist-packages (from google-api-python-client>=1.7.8->firebase-admin->probml-utils==0.1.dev50+g413eabd) (0.0.4)\n",
      "Requirement already satisfied: httplib2<1dev,>=0.15.0 in /usr/local/lib/python3.7/dist-packages (from google-api-python-client>=1.7.8->firebase-admin->probml-utils==0.1.dev50+g413eabd) (0.17.4)\n",
      "Requirement already satisfied: pyasn1-modules>=0.2.1 in /usr/local/lib/python3.7/dist-packages (from google-auth<2.0dev,>=1.25.0->google-api-core[grpc]<2.0.0dev,>=1.14.0->firebase-admin->probml-utils==0.1.dev50+g413eabd) (0.2.8)\n",
      "Requirement already satisfied: cachetools<5.0,>=2.0.0 in /usr/local/lib/python3.7/dist-packages (from google-auth<2.0dev,>=1.25.0->google-api-core[grpc]<2.0.0dev,>=1.14.0->firebase-admin->probml-utils==0.1.dev50+g413eabd) (4.2.4)\n",
      "Requirement already satisfied: rsa<5,>=3.1.4 in /usr/local/lib/python3.7/dist-packages (from google-auth<2.0dev,>=1.25.0->google-api-core[grpc]<2.0.0dev,>=1.14.0->firebase-admin->probml-utils==0.1.dev50+g413eabd) (4.8)\n",
      "Requirement already satisfied: google-cloud-core<2.0dev,>=1.0.3 in /usr/local/lib/python3.7/dist-packages (from google-cloud-firestore>=1.4.0->firebase-admin->probml-utils==0.1.dev50+g413eabd) (1.0.3)\n",
      "Requirement already satisfied: google-resumable-media<0.5.0dev,>=0.3.1 in /usr/local/lib/python3.7/dist-packages (from google-cloud-storage>=1.18.0->firebase-admin->probml-utils==0.1.dev50+g413eabd) (0.4.1)\n",
      "Requirement already satisfied: pyparsing!=3.0.5,>=2.0.2 in /usr/local/lib/python3.7/dist-packages (from packaging>=14.3->google-api-core[grpc]<2.0.0dev,>=1.14.0->firebase-admin->probml-utils==0.1.dev50+g413eabd) (3.0.8)\n",
      "Requirement already satisfied: pyasn1<0.5.0,>=0.4.6 in /usr/local/lib/python3.7/dist-packages (from pyasn1-modules>=0.2.1->google-auth<2.0dev,>=1.25.0->google-api-core[grpc]<2.0.0dev,>=1.14.0->firebase-admin->probml-utils==0.1.dev50+g413eabd) (0.4.8)\n",
      "Requirement already satisfied: certifi>=2017.4.17 in /usr/local/lib/python3.7/dist-packages (from requests->cachecontrol>=0.12.6->firebase-admin->probml-utils==0.1.dev50+g413eabd) (2021.10.8)\n",
      "Requirement already satisfied: chardet<4,>=3.0.2 in /usr/local/lib/python3.7/dist-packages (from requests->cachecontrol>=0.12.6->firebase-admin->probml-utils==0.1.dev50+g413eabd) (3.0.4)\n",
      "Requirement already satisfied: urllib3!=1.25.0,!=1.25.1,<1.26,>=1.21.1 in /usr/local/lib/python3.7/dist-packages (from requests->cachecontrol>=0.12.6->firebase-admin->probml-utils==0.1.dev50+g413eabd) (1.24.3)\n",
      "Requirement already satisfied: idna<3,>=2.5 in /usr/local/lib/python3.7/dist-packages (from requests->cachecontrol>=0.12.6->firebase-admin->probml-utils==0.1.dev50+g413eabd) (2.10)\n",
      "Requirement already satisfied: qtconsole in /usr/local/lib/python3.7/dist-packages (from jupyter->probml-utils==0.1.dev50+g413eabd) (5.3.0)\n",
      "Requirement already satisfied: jupyter-console in /usr/local/lib/python3.7/dist-packages (from jupyter->probml-utils==0.1.dev50+g413eabd) (5.2.0)\n",
      "Requirement already satisfied: nbconvert in /usr/local/lib/python3.7/dist-packages (from jupyter->probml-utils==0.1.dev50+g413eabd) (5.6.1)\n",
      "Requirement already satisfied: ipykernel in /usr/local/lib/python3.7/dist-packages (from jupyter->probml-utils==0.1.dev50+g413eabd) (4.10.1)\n",
      "Requirement already satisfied: ipywidgets in /usr/local/lib/python3.7/dist-packages (from jupyter->probml-utils==0.1.dev50+g413eabd) (7.7.0)\n",
      "Requirement already satisfied: notebook in /usr/local/lib/python3.7/dist-packages (from jupyter->probml-utils==0.1.dev50+g413eabd) (5.3.1)\n",
      "Requirement already satisfied: traitlets>=4.1.0 in /usr/local/lib/python3.7/dist-packages (from ipykernel->jupyter->probml-utils==0.1.dev50+g413eabd) (5.1.1)\n",
      "Requirement already satisfied: jupyter-client in /usr/local/lib/python3.7/dist-packages (from ipykernel->jupyter->probml-utils==0.1.dev50+g413eabd) (5.3.5)\n",
      "Requirement already satisfied: ipython>=4.0.0 in /usr/local/lib/python3.7/dist-packages (from ipykernel->jupyter->probml-utils==0.1.dev50+g413eabd) (5.5.0)\n",
      "Requirement already satisfied: tornado>=4.0 in /usr/local/lib/python3.7/dist-packages (from ipykernel->jupyter->probml-utils==0.1.dev50+g413eabd) (5.1.1)\n",
      "Requirement already satisfied: pickleshare in /usr/local/lib/python3.7/dist-packages (from ipython>=4.0.0->ipykernel->jupyter->probml-utils==0.1.dev50+g413eabd) (0.7.5)\n",
      "Requirement already satisfied: prompt-toolkit<2.0.0,>=1.0.4 in /usr/local/lib/python3.7/dist-packages (from ipython>=4.0.0->ipykernel->jupyter->probml-utils==0.1.dev50+g413eabd) (1.0.18)\n",
      "Requirement already satisfied: pexpect in /usr/local/lib/python3.7/dist-packages (from ipython>=4.0.0->ipykernel->jupyter->probml-utils==0.1.dev50+g413eabd) (4.8.0)\n",
      "Requirement already satisfied: pygments in /usr/local/lib/python3.7/dist-packages (from ipython>=4.0.0->ipykernel->jupyter->probml-utils==0.1.dev50+g413eabd) (2.6.1)\n",
      "Requirement already satisfied: simplegeneric>0.8 in /usr/local/lib/python3.7/dist-packages (from ipython>=4.0.0->ipykernel->jupyter->probml-utils==0.1.dev50+g413eabd) (0.8.1)\n",
      "Requirement already satisfied: wcwidth in /usr/local/lib/python3.7/dist-packages (from prompt-toolkit<2.0.0,>=1.0.4->ipython>=4.0.0->ipykernel->jupyter->probml-utils==0.1.dev50+g413eabd) (0.2.5)\n",
      "Requirement already satisfied: widgetsnbextension~=3.6.0 in /usr/local/lib/python3.7/dist-packages (from ipywidgets->jupyter->probml-utils==0.1.dev50+g413eabd) (3.6.0)\n",
      "Requirement already satisfied: nbformat>=4.2.0 in /usr/local/lib/python3.7/dist-packages (from ipywidgets->jupyter->probml-utils==0.1.dev50+g413eabd) (5.3.0)\n",
      "Requirement already satisfied: jupyterlab-widgets>=1.0.0 in /usr/local/lib/python3.7/dist-packages (from ipywidgets->jupyter->probml-utils==0.1.dev50+g413eabd) (1.1.0)\n",
      "Requirement already satisfied: ipython-genutils~=0.2.0 in /usr/local/lib/python3.7/dist-packages (from ipywidgets->jupyter->probml-utils==0.1.dev50+g413eabd) (0.2.0)\n",
      "Requirement already satisfied: jupyter-core in /usr/local/lib/python3.7/dist-packages (from nbformat>=4.2.0->ipywidgets->jupyter->probml-utils==0.1.dev50+g413eabd) (4.10.0)\n",
      "Requirement already satisfied: jsonschema>=2.6 in /usr/local/lib/python3.7/dist-packages (from nbformat>=4.2.0->ipywidgets->jupyter->probml-utils==0.1.dev50+g413eabd) (4.3.3)\n",
      "Requirement already satisfied: fastjsonschema in /usr/local/lib/python3.7/dist-packages (from nbformat>=4.2.0->ipywidgets->jupyter->probml-utils==0.1.dev50+g413eabd) (2.15.3)\n",
      "Requirement already satisfied: importlib-metadata in /usr/local/lib/python3.7/dist-packages (from jsonschema>=2.6->nbformat>=4.2.0->ipywidgets->jupyter->probml-utils==0.1.dev50+g413eabd) (4.11.3)\n",
      "Requirement already satisfied: importlib-resources>=1.4.0 in /usr/local/lib/python3.7/dist-packages (from jsonschema>=2.6->nbformat>=4.2.0->ipywidgets->jupyter->probml-utils==0.1.dev50+g413eabd) (5.7.1)\n",
      "Requirement already satisfied: pyrsistent!=0.17.0,!=0.17.1,!=0.17.2,>=0.14.0 in /usr/local/lib/python3.7/dist-packages (from jsonschema>=2.6->nbformat>=4.2.0->ipywidgets->jupyter->probml-utils==0.1.dev50+g413eabd) (0.18.1)\n",
      "Requirement already satisfied: attrs>=17.4.0 in /usr/local/lib/python3.7/dist-packages (from jsonschema>=2.6->nbformat>=4.2.0->ipywidgets->jupyter->probml-utils==0.1.dev50+g413eabd) (21.4.0)\n",
      "Requirement already satisfied: zipp>=3.1.0 in /usr/local/lib/python3.7/dist-packages (from importlib-resources>=1.4.0->jsonschema>=2.6->nbformat>=4.2.0->ipywidgets->jupyter->probml-utils==0.1.dev50+g413eabd) (3.8.0)\n",
      "Requirement already satisfied: terminado>=0.8.1 in /usr/local/lib/python3.7/dist-packages (from notebook->jupyter->probml-utils==0.1.dev50+g413eabd) (0.13.3)\n",
      "Requirement already satisfied: Send2Trash in /usr/local/lib/python3.7/dist-packages (from notebook->jupyter->probml-utils==0.1.dev50+g413eabd) (1.8.0)\n",
      "Requirement already satisfied: jinja2 in /usr/local/lib/python3.7/dist-packages (from notebook->jupyter->probml-utils==0.1.dev50+g413eabd) (2.11.3)\n",
      "Requirement already satisfied: python-dateutil>=2.1 in /usr/local/lib/python3.7/dist-packages (from jupyter-client->ipykernel->jupyter->probml-utils==0.1.dev50+g413eabd) (2.8.2)\n",
      "Requirement already satisfied: pyzmq>=13 in /usr/local/lib/python3.7/dist-packages (from jupyter-client->ipykernel->jupyter->probml-utils==0.1.dev50+g413eabd) (22.3.0)\n",
      "Requirement already satisfied: ptyprocess in /usr/local/lib/python3.7/dist-packages (from terminado>=0.8.1->notebook->jupyter->probml-utils==0.1.dev50+g413eabd) (0.7.0)\n",
      "Requirement already satisfied: MarkupSafe>=0.23 in /usr/local/lib/python3.7/dist-packages (from jinja2->notebook->jupyter->probml-utils==0.1.dev50+g413eabd) (2.0.1)\n",
      "Requirement already satisfied: kiwisolver>=1.0.1 in /usr/local/lib/python3.7/dist-packages (from matplotlib->probml-utils==0.1.dev50+g413eabd) (1.4.2)\n",
      "Requirement already satisfied: cycler>=0.10 in /usr/local/lib/python3.7/dist-packages (from matplotlib->probml-utils==0.1.dev50+g413eabd) (0.11.0)\n",
      "Requirement already satisfied: testpath in /usr/local/lib/python3.7/dist-packages (from nbconvert->jupyter->probml-utils==0.1.dev50+g413eabd) (0.6.0)\n",
      "Requirement already satisfied: entrypoints>=0.2.2 in /usr/local/lib/python3.7/dist-packages (from nbconvert->jupyter->probml-utils==0.1.dev50+g413eabd) (0.4)\n",
      "Requirement already satisfied: defusedxml in /usr/local/lib/python3.7/dist-packages (from nbconvert->jupyter->probml-utils==0.1.dev50+g413eabd) (0.7.1)\n",
      "Requirement already satisfied: mistune<2,>=0.8.1 in /usr/local/lib/python3.7/dist-packages (from nbconvert->jupyter->probml-utils==0.1.dev50+g413eabd) (0.8.4)\n",
      "Requirement already satisfied: pandocfilters>=1.4.1 in /usr/local/lib/python3.7/dist-packages (from nbconvert->jupyter->probml-utils==0.1.dev50+g413eabd) (1.5.0)\n",
      "Requirement already satisfied: bleach in /usr/local/lib/python3.7/dist-packages (from nbconvert->jupyter->probml-utils==0.1.dev50+g413eabd) (5.0.0)\n",
      "Requirement already satisfied: webencodings in /usr/local/lib/python3.7/dist-packages (from bleach->nbconvert->jupyter->probml-utils==0.1.dev50+g413eabd) (0.5.1)\n",
      "Requirement already satisfied: qtpy>=2.0.1 in /usr/local/lib/python3.7/dist-packages (from qtconsole->jupyter->probml-utils==0.1.dev50+g413eabd) (2.1.0)\n",
      "Requirement already satisfied: joblib>=0.11 in /usr/local/lib/python3.7/dist-packages (from scikit-learn->probml-utils==0.1.dev50+g413eabd) (1.1.0)\n",
      "Requirement already satisfied: threadpoolctl>=2.0.0 in /usr/local/lib/python3.7/dist-packages (from scikit-learn->probml-utils==0.1.dev50+g413eabd) (3.1.0)\n",
      "Building wheels for collected packages: probml-utils, TexSoup\n",
      "  Building wheel for probml-utils (PEP 517) ... \u001b[?25l\u001b[?25hdone\n",
      "  Created wheel for probml-utils: filename=probml_utils-0.1.dev50+g413eabd-py3-none-any.whl size=32388 sha256=7d971f89bcad6016fa525354edc055e38e504fd922fef529a08b385ce550b943\n",
      "  Stored in directory: /tmp/pip-ephem-wheel-cache-1yzf0ubu/wheels/37/8f/cb/b845cd5de3d7f648717815f9c27bec49975bf58637a97fa6be\n",
      "  Building wheel for TexSoup (setup.py) ... \u001b[?25l\u001b[?25hdone\n",
      "  Created wheel for TexSoup: filename=TexSoup-0.3.1-py3-none-any.whl size=27666 sha256=4cf8e84ec26bebd40c8cb0eeafcf255daf31bd3bcacfca4a600e07a6b2e79726\n",
      "  Stored in directory: /root/.cache/pip/wheels/2b/8e/c6/7ee3f9f9776fd18c0ccb04492902ed42225b6dfab3c68f14c0\n",
      "Successfully built probml-utils TexSoup\n",
      "Installing collected packages: chex, TexSoup, distrax, probml-utils\n",
      "Successfully installed TexSoup-0.3.1 chex-0.1.3 distrax-0.1.2 probml-utils-0.1.dev50+g413eabd\n"
     ]
    }
   ],
   "source": [
    "import jax\n",
    "import jax.numpy as jnp\n",
    "import matplotlib.pyplot as plt\n",
    "import seaborn as sns\n",
    "\n",
    "try:\n",
    "    from probml_utils import savefig, latexify\n",
    "except ModuleNotFoundError:\n",
    "    %pip install -qq git+https://github.com/probml/probml-utils.git\n",
    "    from probml_utils import savefig, latexify"
   ]
  },
  {
   "cell_type": "code",
   "execution_count": 3,
   "metadata": {
    "colab": {
     "base_uri": "https://localhost:8080/"
    },
    "id": "soWNeVQhlKXE",
    "outputId": "a2d47577-2276-469b-c33e-01b3c6f82d01"
   },
   "outputs": [
    {
     "name": "stderr",
     "output_type": "stream",
     "text": [
      "/usr/local/lib/python3.7/dist-packages/probml_utils/plotting.py:26: UserWarning: LATEXIFY environment variable not set, not latexifying\n",
      "  warnings.warn(\"LATEXIFY environment variable not set, not latexifying\")\n"
     ]
    }
   ],
   "source": [
    "latexify(width_scale_factor=2, fig_height=1.85)"
   ]
  },
  {
   "cell_type": "code",
   "execution_count": 4,
   "metadata": {
    "id": "8qKbn5n2mquU"
   },
   "outputs": [],
   "source": [
    "def calcMean(keys, N):\n",
    "    # Generates N random numbers from 1 to 5 and calculates their mean.\n",
    "    x = jnp.mean(jax.random.beta(keys, 1, 5, [1, N]))\n",
    "    return x"
   ]
  },
  {
   "cell_type": "code",
   "execution_count": 14,
   "metadata": {
    "id": "75cDaL5BjHkw"
   },
   "outputs": [],
   "source": [
    "def plot_convolutionHist(mean_list, N, sampleSize, bins):\n",
    "    counts, nbinslocation = jnp.histogram(mean_list, bins=20)\n",
    "    counts = counts / (sampleSize / bins)\n",
    "\n",
    "    plt.figure()\n",
    "    plt.title(f\"N = {N}\")\n",
    "    plt.bar(nbinslocation[:-1], counts, width=0.02, color=\"black\", align=\"edge\")\n",
    "\n",
    "    plt.xticks(jnp.linspace(0, 1, 3))\n",
    "    plt.yticks(jnp.linspace(0, 3, 4))\n",
    "    plt.xlim(0, 1)\n",
    "    plt.ylim(0, 3)\n",
    "    plt.xlabel(\"$bins$\")\n",
    "    plt.ylabel(\"$Frequency\\ (\\mu)$\")\n",
    "    sns.despine()\n",
    "    savefig(f\"clt_N_{N}\")"
   ]
  },
  {
   "cell_type": "code",
   "execution_count": 15,
   "metadata": {
    "id": "rYupguj8aqep"
   },
   "outputs": [],
   "source": [
    "key = jax.random.PRNGKey(1)\n",
    "keys = jax.random.split(key, num=10000)"
   ]
  },
  {
   "cell_type": "code",
   "execution_count": 16,
   "metadata": {
    "colab": {
     "base_uri": "https://localhost:8080/",
     "height": 612
    },
    "id": "WQzGCN_ci0jD",
    "outputId": "7effea9b-cf4b-41eb-d9d6-6d7ba9e57fd8"
   },
   "outputs": [
    {
     "name": "stderr",
     "output_type": "stream",
     "text": [
      "/usr/local/lib/python3.7/dist-packages/probml_utils/plotting.py:79: UserWarning: set FIG_DIR environment variable to save figures\n",
      "  warnings.warn(\"set FIG_DIR environment variable to save figures\")\n"
     ]
    },
    {
     "data": {
      "image/png": "[encoded data removed]",
      "text/plain": [
       "<Figure size 432x288 with 1 Axes>"
      ]
     },
     "metadata": {
      "needs_background": "light"
     },
     "output_type": "display_data"
    },
    {
     "data": {
      "image/png": "[encoded data removed]",
      "text/plain": [
       "<Figure size 432x288 with 1 Axes>"
      ]
     },
     "metadata": {
      "needs_background": "light"
     },
     "output_type": "display_data"
    }
   ],
   "source": [
    "sampleSize = 10000\n",
    "bins = 20\n",
    "N_array = [1, 5]\n",
    "for N in N_array:\n",
    "    means = jax.vmap(calcMean, in_axes=(0, None), out_axes=0)\n",
    "    out = means(keys, N)\n",
    "    plot_convolutionHist(out, N, sampleSize, bins)"
   ]
  },
  {
   "cell_type": "code",
   "execution_count": null,
   "metadata": {
    "id": "APCNtmZQsAS7"
   },
   "outputs": [],
   "source": [
    "from ipywidgets import interact\n",
    "\n",
    "\n",
    "@interact(N_value=(1, 10))\n",
    "def generate_random(N_value):\n",
    "    sampleSize = 100000\n",
    "    bins = 20\n",
    "    means = jax.vmap(calcMean, in_axes=(0, None), out_axes=0)\n",
    "    out = means(keys, N_value)\n",
    "    plot_convolutionHist(out, N_value, sampleSize, bins)"
   ]
  },
  {
   "cell_type": "code",
   "execution_count": null,
   "metadata": {
    "id": "VjNDZLJCoqPU"
   },
   "outputs": [],
   "source": []
  }
 ],
 "metadata": {
  "colab": {
   "collapsed_sections": [],
   "name": "centralLimitDemo.ipynb",
   "provenance": []
  },
  "kernelspec": {
   "display_name": "Python 3",
   "name": "python3"
  },
  "language_info": {
   "name": "python"
  }
 },
 "nbformat": 4,
 "nbformat_minor": 0
}
