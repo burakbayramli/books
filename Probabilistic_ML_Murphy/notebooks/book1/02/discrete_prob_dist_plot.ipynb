{
 "cells": [
  {
   "cell_type": "markdown",
   "metadata": {},
   "source": [
    "# Discrete Probability Distribution Plot"
   ]
  },
  {
   "cell_type": "code",
   "execution_count": 1,
   "metadata": {},
   "outputs": [],
   "source": [
    "import jax\n",
    "import jax.numpy as jnp\n",
    "import matplotlib.pyplot as plt\n",
    "import seaborn as sns\n",
    "\n",
    "try:\n",
    "    from probml_utils import savefig, latexify\n",
    "except ModuleNotFoundError:\n",
    "    %pip install -qq git+https://github.com/probml/probml-utils.git\n",
    "    from probml_utils import savefig, latexify"
   ]
  },
  {
   "cell_type": "code",
   "execution_count": 2,
   "metadata": {
    "tags": [
     "hide-input"
    ]
   },
   "outputs": [
    {
     "name": "stderr",
     "output_type": "stream",
     "text": [
      "/home/patel_zeel/probml-utils/probml_utils/plotting.py:25: UserWarning: LATEXIFY environment variable not set, not latexifying\n",
      "  warnings.warn(\"LATEXIFY environment variable not set, not latexifying\")\n"
     ]
    }
   ],
   "source": [
    "latexify(width_scale_factor=2)"
   ]
  },
  {
   "cell_type": "code",
   "execution_count": 3,
   "metadata": {},
   "outputs": [
    {
     "name": "stderr",
     "output_type": "stream",
     "text": [
      "WARNING:absl:No GPU/TPU found, falling back to CPU. (Set TF_CPP_MIN_LOG_LEVEL=0 and rerun for more info.)\n",
      "/home/patel_zeel/probml-utils/probml_utils/plotting.py:65: UserWarning: set FIG_DIR environment variable to save figures\n",
      "  warnings.warn(\"set FIG_DIR environment variable to save figures\")\n"
     ]
    },
    {
     "data": {
      "image/png": "[encoded data removed]",
      "text/plain": [
       "<Figure size 432x288 with 1 Axes>"
      ]
     },
     "metadata": {
      "needs_background": "light"
     },
     "output_type": "display_data"
    },
    {
     "data": {
      "image/png": "[encoded data removed]",
      "text/plain": [
       "<Figure size 432x288 with 1 Axes>"
      ]
     },
     "metadata": {
      "needs_background": "light"
     },
     "output_type": "display_data"
    }
   ],
   "source": [
    "# Bar graphs showing a uniform discrete distribution and another with full mass on one value.\n",
    "\n",
    "N = 4\n",
    "\n",
    "\n",
    "def make_graph(probs, N, save_name, fig=None, ax=None):\n",
    "    x = jnp.arange(1, N + 1)\n",
    "    if fig is None:\n",
    "        fig, ax = plt.subplots()\n",
    "    ax.bar(x, probs, align=\"center\")\n",
    "    ax.set_xlim([min(x) - 0.5, max(x) + 0.5])\n",
    "    ax.set_xticks(x)\n",
    "    ax.set_yticks(jnp.linspace(0, 1, N + 1))\n",
    "    ax.set_xlabel(\"$x$\")\n",
    "    ax.set_ylabel(\"$Pr(X=x)$\")\n",
    "    sns.despine()\n",
    "    if len(save_name) > 0:\n",
    "        savefig(save_name)\n",
    "    return fig, ax\n",
    "\n",
    "\n",
    "uniform_probs = jnp.repeat(1.0 / N, N)\n",
    "_, _ = make_graph(\n",
    "    uniform_probs, N, \"uniform_histogram\"\n",
    ")  # Do not add .pdf or .png as it is automatically added by savefig method\n",
    "\n",
    "delta_probs = jnp.array([1, 0, 0, 0])\n",
    "_, _ = make_graph(delta_probs, N, \"delta_histogram\");"
   ]
  },
  {
   "cell_type": "markdown",
   "metadata": {},
   "source": [
    "## Demo\n",
    "\n",
    "You can see different examples of discrete distributions by changing the seed in the following demo."
   ]
  },
  {
   "cell_type": "code",
   "execution_count": 4,
   "metadata": {},
   "outputs": [
    {
     "data": {
      "application/vnd.jupyter.widget-view+json": {
       "model_id": "7eb88c0e987446f7bf4f990bfde42c7a",
       "version_major": 2,
       "version_minor": 0
      },
      "text/plain": [
       "interactive(children=(IntSlider(value=5, description='random_state', max=10, min=1), IntSlider(value=6, descri…"
      ]
     },
     "metadata": {},
     "output_type": "display_data"
    }
   ],
   "source": [
    "from ipywidgets import interact\n",
    "\n",
    "\n",
    "@interact(random_state=(1, 10), N=(2, 10))\n",
    "def generate_random(random_state, N):\n",
    "    key = jax.random.PRNGKey(random_state)\n",
    "    probs = jax.random.uniform(key, shape=(N,))\n",
    "    probs = probs / jnp.sum(probs)\n",
    "    fig, ax = make_graph(probs, N, \"\")\n",
    "    ax.set_yticks(jnp.linspace(0, 1, 11))"
   ]
  }
 ],
 "metadata": {
  "interpreter": {
   "hash": "31f2aee4e71d21fbe5cf8b01ff0e069b9275f58929596ceb00d14d90e3e16cd6"
  },
  "kernelspec": {
   "display_name": "Python [conda env:pyprobml]",
   "language": "python",
   "name": "conda-env-pyprobml-py"
  },
  "language_info": {
   "codemirror_mode": {
    "name": "ipython",
    "version": 3
   },
   "file_extension": ".py",
   "mimetype": "text/x-python",
   "name": "python",
   "nbconvert_exporter": "python",
   "pygments_lexer": "ipython3",
   "version": "3.9.12"
  }
 },
 "nbformat": 4,
 "nbformat_minor": 2
}
