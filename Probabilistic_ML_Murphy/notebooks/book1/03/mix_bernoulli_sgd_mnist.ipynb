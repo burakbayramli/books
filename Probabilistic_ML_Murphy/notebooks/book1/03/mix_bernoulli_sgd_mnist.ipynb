{
 "cells": [
  {
   "cell_type": "code",
   "execution_count": null,
   "id": "0ae608f7",
   "metadata": {},
   "outputs": [],
   "source": [
    "\"\"\"\n",
    "Fits Bernoulli mixture model for mnist digits using Gradient Descent\n",
    "Author: Aleyna Kara(@karalleyna)\n",
    "\"\"\"\n",
    "\n",
    "\n",
    "import jax.numpy as jnp\n",
    "\n",
    "try:\n",
    "    from probml_utils.mix_bernoulli_lib import BMM\n",
    "except ModuleNotFoundError:\n",
    "    %pip install -qq git+https://github.com/probml/probml-utils.git\n",
    "    from probml_utils.mix_bernoulli_lib import BMM\n",
    "\n",
    "from probml_utils.mix_bernoulli_em_mnist import mnist_data\n",
    "\n",
    "\n",
    "def main():\n",
    "    n_obs = 1000\n",
    "    observations = mnist_data(n_obs)  # subsample the MNIST dataset\n",
    "    n_vars = len(observations[0])\n",
    "    K, num_epochs = 12, 500\n",
    "    bmm = BMM(K, n_vars)\n",
    "    _ = bmm.fit_sgd(jnp.array(observations), n_obs, num_epochs=num_epochs)\n",
    "\n",
    "    n_row, n_col = 3, 4\n",
    "    bmm.plot(n_row, n_col, \"bmm_sgd_mnist\")\n",
    "\n",
    "\n",
    "if __name__ == \"__main__\":\n",
    "    main()"
   ]
  }
 ],
 "metadata": {
  "language_info": {
   "name": "python"
  }
 },
 "nbformat": 4,
 "nbformat_minor": 5
}
