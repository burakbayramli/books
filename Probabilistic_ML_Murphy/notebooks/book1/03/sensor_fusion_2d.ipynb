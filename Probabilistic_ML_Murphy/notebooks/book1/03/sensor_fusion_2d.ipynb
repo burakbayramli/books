{
 "cells": [
  {
   "cell_type": "markdown",
   "metadata": {},
   "source": [
    "# Sensor Fusion"
   ]
  },
  {
   "cell_type": "code",
   "execution_count": 1,
   "metadata": {},
   "outputs": [],
   "source": [
    "import jax.numpy as jnp\n",
    "import jax.numpy.linalg as JLA\n",
    "from scipy.linalg import block_diag\n",
    "from scipy.stats import norm\n",
    "import matplotlib.pyplot as plt\n",
    "from matplotlib.ticker import MaxNLocator\n",
    "import seaborn as sns\n",
    "\n",
    "try:\n",
    "    from probml_utils import pyprobml_utils as pml\n",
    "except ModuleNotFoundError:\n",
    "    %pip install git+https://github.com/probml/probml-utils.git\n",
    "    from probml_utils import pyprobml_utils as pml\n",
    "\n",
    "from probml_utils import savefig, latexify, is_latexify_enabled"
   ]
  },
  {
   "cell_type": "code",
   "execution_count": 2,
   "metadata": {},
   "outputs": [
    {
     "name": "stderr",
     "output_type": "stream",
     "text": [
      "C:\\Users\\NITISH SHARMA\\.pyenv\\pyenv-win\\versions\\3.9.10\\lib\\site-packages\\probml_utils\\plotting.py:26: UserWarning: LATEXIFY environment variable not set, not latexifying\n",
      "  warnings.warn(\"LATEXIFY environment variable not set, not latexifying\")\n"
     ]
    }
   ],
   "source": [
    "latexify(width_scale_factor=3, font_size=8, fig_height=1.2)"
   ]
  },
  {
   "cell_type": "code",
   "execution_count": 3,
   "metadata": {},
   "outputs": [],
   "source": [
    "def cov_to_pts(cov):\n",
    "    \"\"\"\n",
    "    Helper function to get covariance interval for plotting\n",
    "\n",
    "    Args:\n",
    "    ----------\n",
    "    cov : JAX Array\n",
    "        Covariance Matrix\n",
    "\n",
    "    Returns:\n",
    "    ----------\n",
    "    cov_int : JAX Array\n",
    "        Covariance Interval\n",
    "    \"\"\"\n",
    "    # Choose points between (0,2*pi)\n",
    "    circle_pts = jnp.linspace(0, 2 * jnp.pi, 100)\n",
    "\n",
    "    # Make a cirle\n",
    "    circle = jnp.asarray([jnp.cos(circle_pts), jnp.sin(circle_pts)])\n",
    "\n",
    "    # Singular Value Decomp\n",
    "    [u, s, v] = JLA.svd(cov)\n",
    "    confidence_intr = u * 2.447 * jnp.sqrt(s)  # 95% confidence\n",
    "\n",
    "    # Covariance Interval\n",
    "    cov_int = jnp.dot(confidence_intr, circle)\n",
    "\n",
    "    return cov_int"
   ]
  },
  {
   "cell_type": "code",
   "execution_count": 4,
   "metadata": {},
   "outputs": [],
   "source": [
    "def gauss_plot2d(plot_dict: dict, fig_pos: int, save_name: str = \"\", i: int = 1) -> None:\n",
    "    \"\"\"\n",
    "    Plot data\n",
    "\n",
    "    Args:\n",
    "    ----------\n",
    "    plot_dict :\n",
    "        Data required for plotting\n",
    "\n",
    "    fig_pos :\n",
    "        Position of figure\n",
    "\n",
    "    save_name :\n",
    "        Name of saved image\n",
    "\n",
    "    Returns:\n",
    "    ----------\n",
    "    None\n",
    "    \"\"\"\n",
    "\n",
    "    # Plot the points and confidence intervals\n",
    "    plt.figure()\n",
    "\n",
    "    for key, value in plot_dict.items():\n",
    "\n",
    "        plt.scatter(value[\"mu\"][0], value[\"mu\"][1], marker=\"x\", c=value[\"color\"], label=value[\"label\"], s=value[\"s\"])\n",
    "        plt.plot(\n",
    "            *cov_to_pts(value[\"sigma\"]) + value[\"mu\"].reshape(2, 1), \"-o\", c=value[\"color\"], markersize=value[\"ms\"]\n",
    "        )\n",
    "\n",
    "    # Add label, legend and display graph\n",
    "    plt.xlabel(\"$x$ (observed value)\")\n",
    "\n",
    "    if fig_pos == 0:\n",
    "        plt.ylabel(\"$y$ (observed value)\")\n",
    "\n",
    "    # Set number of ticks on axes\n",
    "    plt.gca().yaxis.set_major_locator(MaxNLocator(6))\n",
    "    plt.gca().xaxis.set_major_locator(MaxNLocator(6))\n",
    "\n",
    "    if i == 2:\n",
    "        plt.legend(loc=\"upper left\", handletextpad=0.08)  # commom legend for all\n",
    "\n",
    "    # Save figure to files\n",
    "    sns.despine()\n",
    "    if len(save_name) > 0:\n",
    "        savefig(save_name, tight_bbox=True)\n",
    "\n",
    "    plt.show()"
   ]
  },
  {
   "cell_type": "code",
   "execution_count": 5,
   "metadata": {},
   "outputs": [],
   "source": [
    "def calc_posterior(prior: dict, likelihood: dict, Weight_mat, y_obs) -> dict:\n",
    "\n",
    "    \"\"\"\n",
    "    Calculate Posterior mean and covariance\n",
    "\n",
    "    Args:\n",
    "    ----------\n",
    "    prior :\n",
    "        Mean, covariance for prior\n",
    "\n",
    "    likelihood :\n",
    "        Mean, covariance for likelihood\n",
    "\n",
    "    Weight_mat: JAX Array\n",
    "        Generative Matrix, dimensions D x L\n",
    "        D = Dimesion of observed values\n",
    "        L = Dimension of unknown vector we\n",
    "            cannot observe directly\n",
    "\n",
    "    y_obs : JAX Array\n",
    "        Observed values\n",
    "\n",
    "    Returns:\n",
    "    ----------\n",
    "    posterior :\n",
    "        Mean, covariance for posterior\n",
    "\n",
    "    \"\"\"\n",
    "\n",
    "    # Store Inverse of covariance matrices\n",
    "    likelihood_sigma_inv = JLA.inv(likelihood[\"sigma\"])\n",
    "    prior_sigma_inv = JLA.inv(prior[\"sigma\"])\n",
    "\n",
    "    # Store dimensions of mean matrices, needed for reshape later\n",
    "    likelihood_mu_dim = likelihood[\"mu\"].shape[0]  # 4\n",
    "    prior_mu_dim = prior[\"mu\"].shape[0]  # 2\n",
    "\n",
    "    # Calculate posterior covariance and mean\n",
    "    posterior = {}\n",
    "    posterior[\"sigma\"] = JLA.inv(prior_sigma_inv + Weight_mat.T.dot(likelihood_sigma_inv).dot(Weight_mat))\n",
    "    posterior[\"mu\"] = posterior[\"sigma\"].dot(\n",
    "        Weight_mat.T.dot(likelihood_sigma_inv).dot(y_obs.reshape(likelihood_mu_dim, 1) - likelihood[\"mu\"])\n",
    "        + prior_sigma_inv.dot(prior[\"mu\"]).reshape(prior_mu_dim, 1)\n",
    "    )\n",
    "\n",
    "    return posterior"
   ]
  },
  {
   "cell_type": "code",
   "execution_count": 6,
   "metadata": {},
   "outputs": [],
   "source": [
    "def gen_data(sensorf_parm_dict: dict) -> None:\n",
    "\n",
    "    \"\"\"\n",
    "    Generate data to calculate posterior\n",
    "\n",
    "    Args:\n",
    "    ----------\n",
    "    sensorf_parm_dict :\n",
    "        Covariance data\n",
    "\n",
    "    Returns:\n",
    "    ----------\n",
    "    None\n",
    "    \"\"\"\n",
    "\n",
    "    for fig_pos, value in enumerate(sensorf_parm_dict.values()):\n",
    "\n",
    "        # Prior mean and variance\n",
    "        prior = {}\n",
    "        prior[\"mu\"] = jnp.array([0, 0]).T\n",
    "        prior[\"sigma\"] = 1e10 * jnp.eye(2)\n",
    "\n",
    "        # Observed data\n",
    "        obsrvd_y1 = jnp.array([0, -1]).T\n",
    "        obsrvd_y2 = jnp.array([1, 0]).T\n",
    "        obsrvd_all_y = jnp.hstack((obsrvd_y1, obsrvd_y2))\n",
    "\n",
    "        # Likelihood mean variance\n",
    "        likelihood = {}\n",
    "        likelihood[\"mu\"] = jnp.zeros((4, 1))\n",
    "        likelihood[\"sigma\"] = jnp.array(block_diag(value[\"sigma\"][0], value[\"sigma\"][1]))\n",
    "\n",
    "        # Generative matrix or Observation Measurement\n",
    "        Weight_mat = jnp.tile(jnp.eye(2), (2, 1))\n",
    "\n",
    "        # Calculate posterior mean and variance\n",
    "        posterior = calc_posterior(prior, likelihood, Weight_mat, obsrvd_all_y)\n",
    "\n",
    "        # Adjust markersize if the figure is latexified\n",
    "        if is_latexify_enabled():\n",
    "            scatter_marker_size = 15\n",
    "            plot_marker_size = 0.006\n",
    "        else:\n",
    "            scatter_marker_size = 30\n",
    "            plot_marker_size = 0.1\n",
    "\n",
    "        plot_dict = {\n",
    "            \"y1\": {\n",
    "                \"mu\": obsrvd_y2,\n",
    "                \"sigma\": value[\"sigma\"][1],\n",
    "                \"color\": \"g\",\n",
    "                \"label\": \"$y_1$\",\n",
    "                \"s\": scatter_marker_size,\n",
    "                \"ms\": plot_marker_size,\n",
    "            },\n",
    "            \"y2\": {\n",
    "                \"mu\": obsrvd_y1,\n",
    "                \"sigma\": value[\"sigma\"][0],\n",
    "                \"color\": \"r\",\n",
    "                \"label\": \"$y_2$\",\n",
    "                \"s\": scatter_marker_size,\n",
    "                \"ms\": plot_marker_size,\n",
    "            },\n",
    "            \"posterior\": {\n",
    "                \"mu\": posterior[\"mu\"],\n",
    "                \"sigma\": posterior[\"sigma\"],\n",
    "                \"color\": \"k\",\n",
    "                \"label\": \"$E[x|y_1; y_2]$\",\n",
    "                \"s\": scatter_marker_size,\n",
    "                \"ms\": plot_marker_size,\n",
    "            },\n",
    "        }\n",
    "\n",
    "        gauss_plot2d(plot_dict, fig_pos, value[\"save_name\"], i=fig_pos)"
   ]
  },
  {
   "cell_type": "code",
   "execution_count": 7,
   "metadata": {},
   "outputs": [
    {
     "name": "stderr",
     "output_type": "stream",
     "text": [
      "WARNING:absl:No GPU/TPU found, falling back to CPU. (Set TF_CPP_MIN_LOG_LEVEL=0 and rerun for more info.)\n"
     ]
    }
   ],
   "source": [
    "sensorf_parm_dict = {\n",
    "    \"Fig(a)\": {\"save_name\": \"demoGaussBayes2dEqualSpherical\", \"sigma\": [0.01 * jnp.eye(2), 0.01 * jnp.eye(2)]},\n",
    "    \"Fig(b)\": {\"save_name\": \"demoGaussBayes2dUnequalSpherical\", \"sigma\": [0.05 * jnp.eye(2), 0.01 * jnp.eye(2)]},\n",
    "    \"Fig(c)\": {\n",
    "        \"save_name\": \"demoGaussBayes2dUnequal\",\n",
    "        \"sigma\": [\n",
    "            0.01 * jnp.array([[10, 1], [1, 1]]),\n",
    "            0.01 * jnp.array([[1, 1], [1, 10]]),\n",
    "        ],\n",
    "    },\n",
    "}"
   ]
  },
  {
   "cell_type": "code",
   "execution_count": 8,
   "metadata": {
    "scrolled": false
   },
   "outputs": [
    {
     "name": "stderr",
     "output_type": "stream",
     "text": [
      "C:\\Users\\NITISH SHARMA\\.pyenv\\pyenv-win\\versions\\3.9.10\\lib\\site-packages\\probml_utils\\plotting.py:79: UserWarning: set FIG_DIR environment variable to save figures\n",
      "  warnings.warn(\"set FIG_DIR environment variable to save figures\")\n"
     ]
    },
    {
     "data": {
      "image/png": "[encoded data removed]",
      "text/plain": [
       "<Figure size 432x288 with 1 Axes>"
      ]
     },
     "metadata": {
      "needs_background": "light"
     },
     "output_type": "display_data"
    },
    {
     "name": "stderr",
     "output_type": "stream",
     "text": [
      "C:\\Users\\NITISH SHARMA\\.pyenv\\pyenv-win\\versions\\3.9.10\\lib\\site-packages\\probml_utils\\plotting.py:79: UserWarning: set FIG_DIR environment variable to save figures\n",
      "  warnings.warn(\"set FIG_DIR environment variable to save figures\")\n"
     ]
    },
    {
     "data": {
      "image/png": "[encoded data removed]",
      "text/plain": [
       "<Figure size 432x288 with 1 Axes>"
      ]
     },
     "metadata": {
      "needs_background": "light"
     },
     "output_type": "display_data"
    },
    {
     "name": "stderr",
     "output_type": "stream",
     "text": [
      "C:\\Users\\NITISH SHARMA\\.pyenv\\pyenv-win\\versions\\3.9.10\\lib\\site-packages\\probml_utils\\plotting.py:79: UserWarning: set FIG_DIR environment variable to save figures\n",
      "  warnings.warn(\"set FIG_DIR environment variable to save figures\")\n"
     ]
    },
    {
     "data": {
      "image/png": "[encoded data removed]",
      "text/plain": [
       "<Figure size 432x288 with 1 Axes>"
      ]
     },
     "metadata": {
      "needs_background": "light"
     },
     "output_type": "display_data"
    }
   ],
   "source": [
    "gen_data(sensorf_parm_dict)"
   ]
  },
  {
   "cell_type": "code",
   "execution_count": 9,
   "metadata": {},
   "outputs": [],
   "source": [
    "interact_parm_dict = {\"Fig_interact\": {\"save_name\": \"\", \"sigma\": []}}"
   ]
  },
  {
   "cell_type": "code",
   "execution_count": 10,
   "metadata": {},
   "outputs": [
    {
     "data": {
      "application/vnd.jupyter.widget-view+json": {
       "model_id": "5f94f1b63eff43f5995d51d0e93dad40",
       "version_major": 2,
       "version_minor": 0
      },
      "text/plain": [
       "interactive(children=(FloatSlider(value=0.01, continuous_update=False, description='sigma 1', layout=Layout(wi…"
      ]
     },
     "metadata": {},
     "output_type": "display_data"
    }
   ],
   "source": [
    "from ipywidgets import Layout, interact\n",
    "import ipywidgets as widgets\n",
    "\n",
    "\n",
    "@interact(\n",
    "    sigma_1=widgets.FloatSlider(\n",
    "        description=\"sigma 1\",\n",
    "        min=0.01,\n",
    "        max=0.2,\n",
    "        value=0.01,\n",
    "        step=0.01,\n",
    "        style=dict(description_width=\"initial\"),\n",
    "        layout=Layout(width=\"40%\"),\n",
    "        continuous_update=False,\n",
    "    ),\n",
    "    sigma_2=widgets.FloatSlider(\n",
    "        description=\"sigma 2\",\n",
    "        min=0.01,\n",
    "        max=0.2,\n",
    "        value=0.01,\n",
    "        step=0.01,\n",
    "        style=dict(description_width=\"initial\"),\n",
    "        layout=Layout(width=\"40%\"),\n",
    "        continuous_update=False,\n",
    "    ),\n",
    "    option=widgets.ToggleButtons(\n",
    "        options=[\"Spherical\", \"Unequal\"],\n",
    "        description=\"Gaussian Bayes:\",\n",
    "        disabled=False,\n",
    "        style=dict(description_width=\"initial\"),\n",
    "        button_style=\"info\",\n",
    "    ),\n",
    ")\n",
    "def update(sigma_1, sigma_2, option):\n",
    "\n",
    "    if option == \"Spherical\":\n",
    "        interact_parm_dict[\"Fig_interact\"][\"sigma\"] = [\n",
    "            sigma_1 * jnp.eye(2),\n",
    "            sigma_2 * jnp.eye(2),\n",
    "        ]\n",
    "    else:\n",
    "        interact_parm_dict[\"Fig_interact\"][\"sigma\"] = [\n",
    "            sigma_1 * jnp.array([[10, 1], [1, 1]]),\n",
    "            sigma_2 * jnp.array([[1, 1], [1, 10]]),\n",
    "        ]\n",
    "\n",
    "    gen_data(interact_parm_dict)"
   ]
  },
  {
   "cell_type": "code",
   "execution_count": null,
   "metadata": {},
   "outputs": [],
   "source": []
  }
 ],
 "metadata": {
  "kernelspec": {
   "display_name": "pyprobml",
   "language": "python",
   "name": "venv"
  },
  "language_info": {
   "codemirror_mode": {
    "name": "ipython",
    "version": 3
   },
   "file_extension": ".py",
   "mimetype": "text/x-python",
   "name": "python",
   "nbconvert_exporter": "python",
   "pygments_lexer": "ipython3",
   "version": "3.9.10"
  },
  "toc": {
   "base_numbering": 1,
   "nav_menu": {},
   "number_sections": true,
   "sideBar": true,
   "skip_h1_title": false,
   "title_cell": "Table of Contents",
   "title_sidebar": "Contents",
   "toc_cell": false,
   "toc_position": {},
   "toc_section_display": true,
   "toc_window_display": false
  }
 },
 "nbformat": 4,
 "nbformat_minor": 4
}
