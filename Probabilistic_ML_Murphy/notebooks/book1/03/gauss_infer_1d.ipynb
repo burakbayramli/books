{
 "cells": [
  {
   "cell_type": "markdown",
   "metadata": {},
   "source": [
    "# Inference about a random variable given a noisy observation"
   ]
  },
  {
   "cell_type": "code",
   "execution_count": 1,
   "metadata": {},
   "outputs": [],
   "source": [
    "import jax.numpy as jnp\n",
    "from jax import random\n",
    "import matplotlib.pyplot as plt\n",
    "from scipy.stats import multivariate_normal as mvn\n",
    "import seaborn as sns\n",
    "import os\n",
    "\n",
    "try:\n",
    "    from probml_utils import savefig, latexify\n",
    "except ModuleNotFoundError:\n",
    "    %pip install -qq git+https://github.com/probml/probml-utils.git\n",
    "    from probml_utils import savefig, latexify"
   ]
  },
  {
   "cell_type": "code",
   "execution_count": 2,
   "metadata": {},
   "outputs": [],
   "source": [
    "os.environ[\"LATEXIFY\"] = \"\"\n",
    "os.environ[\"FIG_DIR\"] = \"figures\""
   ]
  },
  {
   "cell_type": "code",
   "execution_count": 3,
   "metadata": {},
   "outputs": [],
   "source": [
    "latexify(width_scale_factor=2, fig_height=2)"
   ]
  },
  {
   "cell_type": "code",
   "execution_count": 4,
   "metadata": {},
   "outputs": [],
   "source": [
    "def plot_data(quantiles, pdf_dict, variance_prior, interact_flag, save_name=\"\"):\n",
    "    \"\"\"\n",
    "    Plot data\n",
    "\n",
    "    Args:\n",
    "    ----------\n",
    "    quantiles : JAX array\n",
    "        Quantiles for normal distribution\n",
    "\n",
    "    pdf_dict : dictionary\n",
    "        Data and plotting options for\n",
    "        all PDF's\n",
    "\n",
    "    variance_prior : int/float\n",
    "        Variance of Prior\n",
    "\n",
    "    save_name : string, default=''\n",
    "        Filename for the saved graph\n",
    "\n",
    "    Returns:\n",
    "    ----------\n",
    "    None\n",
    "    \"\"\"\n",
    "\n",
    "    # Setup graph and parameters\n",
    "    fig = plt.figure()\n",
    "\n",
    "    # Update limits for interactive plot\n",
    "    if interact_flag:\n",
    "        plt.ylim(0, 1)\n",
    "        plt.xlim(-10, 10)\n",
    "    else:\n",
    "        plt.ylim(0, 0.6)\n",
    "        plt.xlim(-7, 7)\n",
    "\n",
    "    # Plot graph\n",
    "    for key, value in pdf_dict.items():\n",
    "        plt.plot(\n",
    "            quantiles,\n",
    "            value[\"pdf\"],\n",
    "            color=value[\"color\"],\n",
    "            label=key,\n",
    "            linestyle=value[\"linestyle\"],\n",
    "            linewidth=1.5,\n",
    "        )\n",
    "\n",
    "    # Update labels,legends and title\n",
    "    plt.title(f\"Prior with variance of {variance_prior}\")\n",
    "    plt.xlabel(\"$x$\")\n",
    "    plt.ylabel(\"$p(x)$\")\n",
    "    plt.legend(loc=\"upper left\")\n",
    "    sns.despine()\n",
    "\n",
    "    # Save figure to files\n",
    "    if len(save_name) > 0:\n",
    "        savefig(save_name)\n",
    "\n",
    "    plt.show()"
   ]
  },
  {
   "cell_type": "code",
   "execution_count": 5,
   "metadata": {},
   "outputs": [],
   "source": [
    "def generate_PDF(prior_var=[1, 5], prior_mean=[0, 0], observed_var=[1, 1], interact_flag=False):\n",
    "    \"\"\"\n",
    "    Plot PDF for prior, likelihood and posterior of a gaussian\n",
    "    distribution to gain insight about a random variable given\n",
    "    a noisy observation under the effect of a strong prior\n",
    "    versus a weak prior\n",
    "\n",
    "    Args:\n",
    "    ----------\n",
    "    prior_var : list,default=[1, 5]\n",
    "        List of Variance of priors\n",
    "\n",
    "    prior_mean : list,default=[0, 0]\n",
    "        List of Mean of Priors\n",
    "\n",
    "    observed_var : list, default=[1,1]\n",
    "        List of Variance of observed\n",
    "        values\n",
    "\n",
    "    interact_flag : bool, default=False\n",
    "        Interactive plot indicator\n",
    "\n",
    "    Returns:\n",
    "    ----------\n",
    "    None\n",
    "    \"\"\"\n",
    "\n",
    "    # The noisy observation\n",
    "    obsrvd_val = 3\n",
    "\n",
    "    # Quantiles for data\n",
    "    quantiles = jnp.arange(-10, 10, 0.10)\n",
    "\n",
    "    for mean_prior, variance_prior, variance_observed in zip(prior_mean, prior_var, observed_var):\n",
    "\n",
    "        # Prior variance,mean and PDF\n",
    "        prior_var = variance_prior\n",
    "        prior_mu = mean_prior\n",
    "        prior_pdf = mvn.pdf(quantiles, mean=prior_mu, cov=prior_var)\n",
    "\n",
    "        # Likelihood variance,mean and PDF\n",
    "        likelihood_var = variance_observed\n",
    "        likelihood_mu = jnp.mean(obsrvd_val)\n",
    "        likelihood_pdf = mvn.pdf(quantiles, mean=likelihood_mu, cov=likelihood_var)\n",
    "\n",
    "        # Number of noisy observations\n",
    "        obsrvd_val_count = jnp.size(obsrvd_val)\n",
    "\n",
    "        # Posterior variance,mean and PDF\n",
    "        posterior_var = (likelihood_var * prior_var) / ((obsrvd_val_count * prior_var) + likelihood_var)\n",
    "        posterior_mu = posterior_var * ((prior_mu / prior_var) + ((obsrvd_val_count * likelihood_mu) / likelihood_var))\n",
    "        posterior_pdf = mvn.pdf(quantiles, mean=posterior_mu, cov=posterior_var)\n",
    "\n",
    "        # Setup data and graphing options\n",
    "        pdf_plot_dict = {\n",
    "            \"prior\": {\"pdf\": prior_pdf, \"color\": \"blue\", \"linestyle\": \"-\"},\n",
    "            \"likelihood\": {\"pdf\": likelihood_pdf, \"color\": \"red\", \"linestyle\": \":\"},\n",
    "            \"posterior\": {\"pdf\": posterior_pdf, \"color\": \"black\", \"linestyle\": \"-.\"},\n",
    "        }\n",
    "\n",
    "        # Plot\n",
    "        plot_data(\n",
    "            quantiles,\n",
    "            pdf_plot_dict,\n",
    "            variance_prior,\n",
    "            interact_flag,\n",
    "            f\"gauss_infer_1d_prior{variance_prior}\",\n",
    "        )"
   ]
  },
  {
   "cell_type": "code",
   "execution_count": 6,
   "metadata": {},
   "outputs": [
    {
     "name": "stderr",
     "output_type": "stream",
     "text": [
      "WARNING:absl:No GPU/TPU found, falling back to CPU. (Set TF_CPP_MIN_LOG_LEVEL=0 and rerun for more info.)\n"
     ]
    },
    {
     "name": "stdout",
     "output_type": "stream",
     "text": [
      "saving image to figures/gauss_infer_1d_prior1_latexified.pdf\n",
      "Figure size: [3. 2.]\n",
      "saving image to figures/gauss_infer_1d_prior5_latexified.pdf\n",
      "Figure size: [3. 2.]\n"
     ]
    }
   ],
   "source": [
    "generate_PDF()"
   ]
  },
  {
   "cell_type": "code",
   "execution_count": 7,
   "metadata": {},
   "outputs": [
    {
     "data": {
      "application/vnd.jupyter.widget-view+json": {
       "model_id": "f06bd48c3b11497e8cff657eee894c63",
       "version_major": 2,
       "version_minor": 0
      },
      "text/plain": [
       "interactive(children=(FloatSlider(value=1.0, continuous_update=False, description='prior variance', max=5.0, m…"
      ]
     },
     "metadata": {},
     "output_type": "display_data"
    }
   ],
   "source": [
    "from ipywidgets import Layout, interact\n",
    "import ipywidgets as widgets\n",
    "\n",
    "\n",
    "@interact(\n",
    "    prior_var=widgets.FloatSlider(\n",
    "        description=\"prior variance\",\n",
    "        min=1.0,\n",
    "        max=5.0,\n",
    "        value=1.0,\n",
    "        step=0.1,\n",
    "        style=dict(description_width=\"initial\"),\n",
    "        continuous_update=False,\n",
    "    ),\n",
    "    prior_mean=widgets.FloatSlider(\n",
    "        description=\"prior mean\",\n",
    "        min=-3.0,\n",
    "        max=3.0,\n",
    "        value=0.0,\n",
    "        step=0.1,\n",
    "        style=dict(description_width=\"initial\"),\n",
    "        continuous_update=False,\n",
    "    ),\n",
    "    observed_var=widgets.FloatSlider(\n",
    "        description=\"Variance of Observed values\",\n",
    "        min=1.0,\n",
    "        max=5.0,\n",
    "        value=1.0,\n",
    "        step=0.1,\n",
    "        style=dict(description_width=\"initial\"),\n",
    "        layout=Layout(width=\"40%\"),\n",
    "        continuous_update=False,\n",
    "    ),\n",
    ")\n",
    "def update(prior_var, prior_mean, observed_var):\n",
    "    generate_PDF(\n",
    "        prior_var=[prior_var],\n",
    "        prior_mean=[prior_mean],\n",
    "        observed_var=[observed_var],\n",
    "        interact_flag=True,\n",
    "    )"
   ]
  },
  {
   "cell_type": "code",
   "execution_count": null,
   "metadata": {},
   "outputs": [],
   "source": []
  }
 ],
 "metadata": {
  "kernelspec": {
   "display_name": "Python [conda env:py3713]",
   "language": "python",
   "name": "conda-env-py3713-py"
  },
  "language_info": {
   "codemirror_mode": {
    "name": "ipython",
    "version": 3
   },
   "file_extension": ".py",
   "mimetype": "text/x-python",
   "name": "python",
   "nbconvert_exporter": "python",
   "pygments_lexer": "ipython3",
   "version": "3.7.13"
  },
  "toc": {
   "base_numbering": 1,
   "nav_menu": {},
   "number_sections": true,
   "sideBar": true,
   "skip_h1_title": false,
   "title_cell": "Table of Contents",
   "title_sidebar": "Contents",
   "toc_cell": false,
   "toc_position": {},
   "toc_section_display": true,
   "toc_window_display": false
  }
 },
 "nbformat": 4,
 "nbformat_minor": 4
}
