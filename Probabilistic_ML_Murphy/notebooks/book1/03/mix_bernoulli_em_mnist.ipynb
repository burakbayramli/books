{
 "cells": [
  {
   "cell_type": "code",
   "execution_count": null,
   "id": "f538974b",
   "metadata": {},
   "outputs": [],
   "source": [
    "\"\"\"\n",
    "Fits Bernoulli mixture model for mnist digits using em algorithm\n",
    "Author: Meduri Venkata Shivaditya, Aleyna Kara(@karalleyna)\n",
    "\"\"\"\n",
    "\n",
    "\n",
    "from jax.random import PRNGKey, randint\n",
    "\n",
    "try:\n",
    "    import tensorflow as tf\n",
    "except ModuleNotFoundError:\n",
    "    %pip install -qq tensorflow\n",
    "    import tensorflow as tf\n",
    "try:\n",
    "    from probml_utils.mix_bernoulli_lib import BMM\n",
    "except ModuleNotFoundError:\n",
    "    %pip install -qq git+https://github.com/probml/probml-utils.git\n",
    "    from probml_utils.mix_bernoulli_lib import BMM\n",
    "\n",
    "from probml_utils.mix_bernoulli_em_mnist import mnist_data\n",
    "\n",
    "\n",
    "def main():\n",
    "    n_obs = 1000\n",
    "    observations = mnist_data(n_obs)  # subsample the MNIST dataset\n",
    "    n_vars = len(observations[0])\n",
    "    K, num_of_iters = 12, 10\n",
    "    n_row, n_col = 3, 4\n",
    "    bmm = BMM(K, n_vars)\n",
    "    _ = bmm.fit_em(observations, num_of_iters=num_of_iters)\n",
    "    bmm.plot(n_row, n_col, \"bmm_em_mnist\")\n",
    "\n",
    "\n",
    "if __name__ == \"__main__\":\n",
    "    main()"
   ]
  }
 ],
 "metadata": {
  "language_info": {
   "name": "python"
  }
 },
 "nbformat": 4,
 "nbformat_minor": 5
}
