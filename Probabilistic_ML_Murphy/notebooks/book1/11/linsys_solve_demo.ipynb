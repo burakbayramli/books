{
 "cells": [
  {
   "cell_type": "code",
   "execution_count": null,
   "id": "deb8817d",
   "metadata": {},
   "outputs": [],
   "source": [
    "#  Solving  linear systems\n",
    "import numpy as np\n",
    "from scipy import linalg\n",
    "from itertools import combinations\n",
    "import scipy\n",
    "\n",
    "\n",
    "def naive_solve(A, b):\n",
    "    return np.linalg.inv(A.T @ A) @ A.T @ b\n",
    "\n",
    "\n",
    "def qr_solve(A, b):\n",
    "    m, n = np.shape(A)\n",
    "    if m > n:\n",
    "        return qr_solve_over(A, b)\n",
    "    else:\n",
    "        return qr_solve_under(A, b)\n",
    "\n",
    "\n",
    "def qr_solve_over(A, b):\n",
    "    Q, R = np.linalg.qr(A)\n",
    "    Qb = np.dot(Q.T, b)\n",
    "    return scipy.linalg.solve_triangular(R, Qb)\n",
    "\n",
    "\n",
    "def qr_solve_under(A, b):\n",
    "    Q, R = np.linalg.qr(A.T)\n",
    "    c = scipy.linalg.solve_triangular(R, b)\n",
    "    m, n = A.shape\n",
    "    x = np.zeros(n)\n",
    "    xx = np.dot(Q, c)\n",
    "    xx = xx[:, 0]\n",
    "    K = xx.shape[0]\n",
    "    x[:K] = xx  # other components are zero\n",
    "    return x\n",
    "\n",
    "\n",
    "def run_demo(m, n):\n",
    "    print(\"Solving linear system with {} constraints and {} unknowns\".format(m, n))\n",
    "    np.random.seed(0)\n",
    "    A = np.random.rand(m, n)\n",
    "    b = np.random.rand(m, 1)\n",
    "\n",
    "    methods = list()\n",
    "    solns = list()\n",
    "\n",
    "    methods.append(\"naive\")\n",
    "    solns.append(naive_solve(A, b))\n",
    "\n",
    "    methods.append(\"pinv\")\n",
    "    solns.append(np.dot(np.linalg.pinv(A), b))\n",
    "\n",
    "    methods.append(\"lstsq\")\n",
    "    solns.append(np.linalg.lstsq(A, b, rcond=None)[0])\n",
    "\n",
    "    methods.append(\"qr\")\n",
    "    solns.append(qr_solve(A, b))\n",
    "\n",
    "    for (method, soln) in zip(methods, solns):\n",
    "        residual = b - np.dot(A, soln)\n",
    "        print(\n",
    "            \"method {}, norm {:0.5f}, residual {:0.5f}\".format(method, np.linalg.norm(soln), np.linalg.norm(residual))\n",
    "        )\n",
    "        print(soln.T)\n",
    "\n",
    "    # https://stackoverflow.com/questions/33559946/numpy-vs-mldivide-matlab-operator\n",
    "    if m < n:  # underdetermined\n",
    "        rank = np.linalg.matrix_rank(A)\n",
    "        assert m == rank\n",
    "        for nz in combinations(range(n), rank):  # the variables not set to zero\n",
    "            soln = np.zeros((n, 1))\n",
    "            soln[nz, :] = np.asarray(np.linalg.solve(A[:, nz], b))\n",
    "            residual = b - np.dot(A, soln)\n",
    "            print(\"sparse qr, norm {:0.5f}, residual {:0.5f}\".format(np.linalg.norm(soln), np.linalg.norm(residual)))\n",
    "            print(soln.T)\n",
    "\n",
    "\n",
    "m = 5\n",
    "n = 3  # Overdetermined\n",
    "run_demo(m, n)\n",
    "\n",
    "m = 3\n",
    "n = 5  # Underdetermined\n",
    "run_demo(m, n)"
   ]
  }
 ],
 "metadata": {
  "kernelspec": {
   "display_name": "Python 3 (ipykernel)",
   "language": "python",
   "name": "python3"
  },
  "language_info": {
   "codemirror_mode": {
    "name": "ipython",
    "version": 3
   },
   "file_extension": ".py",
   "mimetype": "text/x-python",
   "name": "python",
   "nbconvert_exporter": "python",
   "pygments_lexer": "ipython3",
   "version": "3.9.7"
  },
  "varInspector": {
   "cols": {
    "lenName": 16,
    "lenType": 16,
    "lenVar": 40
   },
   "kernels_config": {
    "python": {
     "delete_cmd_postfix": "",
     "delete_cmd_prefix": "del ",
     "library": "var_list.py",
     "varRefreshCmd": "print(var_dic_list())"
    },
    "r": {
     "delete_cmd_postfix": ") ",
     "delete_cmd_prefix": "rm(",
     "library": "var_list.r",
     "varRefreshCmd": "cat(var_dic_list()) "
    }
   },
   "types_to_exclude": [
    "module",
    "function",
    "builtin_function_or_method",
    "instance",
    "_Feature"
   ],
   "window_display": false
  }
 },
 "nbformat": 4,
 "nbformat_minor": 5
}
