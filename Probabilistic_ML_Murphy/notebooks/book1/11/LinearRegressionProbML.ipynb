{
 "nbformat": 4,
 "nbformat_minor": 0,
 "metadata": {
  "colab": {
   "name": "LinearRegressionProbML.ipynb",
   "provenance": [],
   "toc_visible": true
  },
  "kernelspec": {
   "name": "python3",
   "display_name": "Python 3"
  },
  "language_info": {
   "name": "python"
  }
 },
 "cells": [
  {
   "cell_type": "markdown",
   "metadata": {
    "id": "re70hmqxdV69"
   },
   "source": [
    "# Linear regression from \n",
    "\n",
    "Let's implement different components of Linear Regression algorithm specifically **model inference, loss function, optimization and evaluation measures** in a vectorized form from scratch using basic python libraries like numpy.\n",
    "\n",
    "We will demonstrate working of our implementation on a couple of synthetic datasets."
   ]
  },
  {
   "cell_type": "markdown",
   "metadata": {
    "id": "0uRQDX3CiAqh"
   },
   "source": [
    "## Quick recap\n",
    "\n",
    "A quick recap of vectorized operations for these components:\n",
    "\n",
    "1. Training data contains features and label that is real number.\n",
    "2. Model or inference: $\\mathbf{y} = \\mathbf{X}\\mathbf{w}$\n",
    "3. Loss function: $J(\\mathbf{w}) = \\frac{1}{2} (\\mathbf{X}\\mathbf{w} - \\mathbf{y})^T (\\mathbf{X}\\mathbf{w} - \\mathbf{y})$\n",
    "4. Optimization:\n",
    "  * Normal equation: \n",
    "  * Gradient descent: \n",
    "5. RMSE: $\\sqrt{\\frac{2}{n} J(\\mathbf{w})}$\n"
   ]
  },
  {
   "cell_type": "markdown",
   "metadata": {
    "id": "Uyc_rPFsc_Hz"
   },
   "source": [
    "Let's first import necessary libraries"
   ]
  },
  {
   "cell_type": "code",
   "metadata": {
    "id": "pSzA1PGIcXqN"
   },
   "source": [
    "from IPython.display import display, Math, Latex  # Imported for proper rendering of latex in colab.\n",
    "\n",
    "import numpy as np\n",
    "\n",
    "# Import for generating plots\n",
    "import matplotlib.pyplot as plt\n",
    "import seaborn as sns\n",
    "\n",
    "%matplotlib inline"
   ],
   "execution_count": 1,
   "outputs": []
  },
  {
   "cell_type": "markdown",
   "metadata": {
    "id": "WwxvwPOylQPQ"
   },
   "source": [
    "# C1: Training Data"
   ]
  },
  {
   "cell_type": "code",
   "metadata": {
    "id": "lPAyrGKSlgVx"
   },
   "source": [
    "# Create a dataset of 100 examples with a single feature and a label.\n",
    "# For this construction, we use the following three parameters:\n",
    "w1 = 3\n",
    "w0 = 4\n",
    "n = 100\n",
    "\n",
    "X = 10 * np.random.rand(\n",
    "    n,\n",
    ")\n",
    "\n",
    "# Obtain y = 4 + 3*x + noise.  Noise is randomly sampled.\n",
    "y = (\n",
    "    w0\n",
    "    + w1 * X\n",
    "    + np.random.randn(\n",
    "        n,\n",
    "    )\n",
    ")"
   ],
   "execution_count": 2,
   "outputs": []
  },
  {
   "cell_type": "markdown",
   "metadata": {
    "id": "ldbBpgiKluXe"
   },
   "source": [
    "Let's examine the shapes of training data for sanity check."
   ]
  },
  {
   "cell_type": "code",
   "metadata": {
    "colab": {
     "base_uri": "https://localhost:8080/"
    },
    "id": "cQNWMOieljns",
    "outputId": "34de4dfa-f86e-49e4-faab-f4074e35813a"
   },
   "source": [
    "print(\"Shape of the training data feature matrix:\", X.shape)\n",
    "print(\"Shape of label vector:\", y.shape)"
   ],
   "execution_count": 3,
   "outputs": [
    {
     "output_type": "stream",
     "name": "stdout",
     "text": [
      "Shape of the training data feature matrix: (100,)\n",
      "Shape of label vector: (100,)\n"
     ]
    }
   ]
  },
  {
   "cell_type": "markdown",
   "metadata": {
    "id": "0V8Zk4xkl0yT"
   },
   "source": [
    "Let's divide the data into training and test set.  We will set aside 20% examples for testing."
   ]
  },
  {
   "cell_type": "code",
   "metadata": {
    "id": "MMFsXl1wl1ae"
   },
   "source": [
    "from sklearn.model_selection import train_test_split\n",
    "\n",
    "X_train, X_test, y_train, y_test = train_test_split(X, y, test_size=0.20, random_state=42)"
   ],
   "execution_count": 4,
   "outputs": []
  },
  {
   "cell_type": "markdown",
   "metadata": {
    "id": "jMdL5zjXmHHV"
   },
   "source": [
    "Let's do a quick sanity check to make sure the sizes of feature and labels sets are identical both in training and test sets:"
   ]
  },
  {
   "cell_type": "code",
   "metadata": {
    "colab": {
     "base_uri": "https://localhost:8080/"
    },
    "id": "QBlrFws0mGZu",
    "outputId": "8198c170-7aaa-4ed9-e915-4c6e45ac8e50"
   },
   "source": [
    "print(\"Shape of training feature matrix:\", X_train.shape)\n",
    "print(\"Shape of training label vector:\", y_train.shape)\n",
    "\n",
    "print(\"Shape of test feature matrix:\", X_test.shape)\n",
    "print(\"Shape of test label vector:\", y_test.shape)"
   ],
   "execution_count": 5,
   "outputs": [
    {
     "output_type": "stream",
     "name": "stdout",
     "text": [
      "Shape of training feature matrix: (80,)\n",
      "Shape of training label vector: (80,)\n",
      "Shape of test feature matrix: (20,)\n",
      "Shape of test label vector: (20,)\n"
     ]
    }
   ]
  },
  {
   "cell_type": "markdown",
   "metadata": {
    "id": "bAxt5NijjA_Y"
   },
   "source": [
    "Let's quickly check the first few examples and labels"
   ]
  },
  {
   "cell_type": "code",
   "metadata": {
    "colab": {
     "base_uri": "https://localhost:8080/"
    },
    "id": "3FX38px-jGvV",
    "outputId": "6c1ca9ba-ad94-4461-84c4-0a8a6db36dd6"
   },
   "source": [
    "X_train[:5]"
   ],
   "execution_count": 6,
   "outputs": [
    {
     "output_type": "execute_result",
     "data": {
      "text/plain": [
       "array([2.66264564, 5.2778843 , 7.14629389, 5.3417576 , 9.21518806])"
      ]
     },
     "metadata": {},
     "execution_count": 6
    }
   ]
  },
  {
   "cell_type": "code",
   "metadata": {
    "colab": {
     "base_uri": "https://localhost:8080/"
    },
    "id": "QWIWIg2ujLh4",
    "outputId": "0ebe0ea3-affc-48e1-d317-0ca28cc939ca"
   },
   "source": [
    "y_train[:5]"
   ],
   "execution_count": 7,
   "outputs": [
    {
     "output_type": "execute_result",
     "data": {
      "text/plain": [
       "array([14.41877402, 22.35106895, 25.05583962, 19.649562  , 32.52076056])"
      ]
     },
     "metadata": {},
     "execution_count": 7
    }
   ]
  },
  {
   "cell_type": "markdown",
   "metadata": {
    "id": "gaWQKe2tmMVd"
   },
   "source": [
    "Let's visualize the training set."
   ]
  },
  {
   "cell_type": "code",
   "metadata": {
    "colab": {
     "base_uri": "https://localhost:8080/",
     "height": 535
    },
    "id": "yK5Ps_VTmQdh",
    "outputId": "58db1675-1cd7-4ad1-9d63-7e68e49bd831"
   },
   "source": [
    "sns.set_style(\"white\")\n",
    "f = plt.figure(figsize=(8, 8))\n",
    "sns.set_context(\"notebook\", font_scale=1.5, rc={\"lines.linewidth\": 2.5})\n",
    "\n",
    "plt.plot(X_train, y_train, \"b.\")\n",
    "plt.title(\"Data Points\")\n",
    "plt.grid(True)\n",
    "plt.xlabel(\"$x_1$\", fontsize=18)\n",
    "plt.ylabel(\"$y$\", rotation=0, fontsize=18)\n",
    "plt.axis([0, 10, 0, 40])\n",
    "\n",
    "plt.show()"
   ],
   "execution_count": 8,
   "outputs": [
    {
     "output_type": "display_data",
     "data": {
      "text/plain": [
       "<Figure size 576x576 with 1 Axes>"
      ],
      "image/png": "[encoded data removed]"
     },
     "metadata": {}
    }
   ]
  },
  {
   "cell_type": "markdown",
   "metadata": {
    "id": "t_Osx-P7mVJd"
   },
   "source": [
    "We have a training set consisting a single feature so we will fit a simple linear regression model with one feature.  It's form is: $y = w_0 + w_1 x_1$.  "
   ]
  },
  {
   "cell_type": "markdown",
   "metadata": {
    "id": "4_A0PXqLaDhv"
   },
   "source": [
    "As discussed in the lectures, we add a special dummy feature $x_0$ and set it to 1.  We create a helper function for that."
   ]
  },
  {
   "cell_type": "code",
   "metadata": {
    "id": "wHGeSGT_aWJS"
   },
   "source": [
    "def add_dummy_feature(x):\n",
    "    \"\"\"Adds a dummry feature to the dataset.\n",
    "\n",
    "    Args:\n",
    "      x: Training dataset\n",
    "\n",
    "    Returns:\n",
    "      Training dataset with an addition of dummy feature.\n",
    "    \"\"\"\n",
    "    # np.ones(x.shape[0]) create a vector of 1's having the same number of\n",
    "    # rows as number of samples in dataset.\n",
    "    return np.column_stack((np.ones(x.shape[0]), x))"
   ],
   "execution_count": 9,
   "outputs": []
  },
  {
   "cell_type": "markdown",
   "metadata": {
    "id": "TbLJGr4ba77n"
   },
   "source": [
    "Let's write a test case to test this function: \n",
    "\n",
    "For that let's take two examples and three features.  The first example is a feature vector:\n",
    "\\begin{eqnarray}\n",
    "\\mathbf{x}^{(1)}_{3 \\times 1} &=&  \\begin{bmatrix}\n",
    "      3 \\\\\n",
    "      2 \\\\\n",
    "      5 \\\\\n",
    "    \\end{bmatrix}\n",
    "\\end{eqnarray}\n",
    "\n",
    "And the second example is:\n",
    "\\begin{eqnarray}\n",
    "\\mathbf{x}^{(2)}_{3 \\times 1} &=&  \\begin{bmatrix}\n",
    "      9 \\\\\n",
    "      4 \\\\\n",
    "      7 \\\\\n",
    "    \\end{bmatrix}\n",
    "\\end{eqnarray}\n",
    "\n",
    "And recall that a fecture matrix $\\mathbf{X}$ has shape $(n, m+1)$ corresponding to features of all examples.\n",
    "  \\begin{equation}\n",
    "    \\mathbf{X}_{n \\times (m+1)} = \\begin{bmatrix}\n",
    "        - \\left(\\mathbf{x}^{(1)}\\right)^T - \\\\\n",
    "        - \\left(\\mathbf{x}^{(2)}\\right)^T - \\\\\n",
    "        \\vdots \\\\\n",
    "        - \\left(\\mathbf{x}^{(n)}\\right)^T - \\\\\n",
    "      \\end{bmatrix}\n",
    "  \\end{equation}\n",
    "\n",
    "The corresponding feature matrix $\\mathbf{X}$ appears as follows:\n",
    "\\begin{eqnarray}\n",
    "  \\mathbf{X}_{2 \\times 3} &=&  \\begin{bmatrix}\n",
    "      3 & 2 & 5 \\\\\n",
    "      9 & 4 & 7 \\\\\n",
    "    \\end{bmatrix} \\\\\n",
    "\\end{eqnarray}\n",
    "\n",
    "Here the feature vectors are transposed and represented as rows:\n",
    "* The first row corresponds to the first example $\\left(\\mathbf{x}^{(1)}\\right)^T$ and \n",
    "* The second row corresponds to the second example $\\left(\\mathbf{x}^{(2)}\\right)^T$.\n",
    "\n",
    "Once we add the dummy feature, the resulting matrix becomes:\n",
    "\\begin{eqnarray}\n",
    "  \\mathbf{X}_{2\\times 4} &=&  \\begin{bmatrix}\n",
    "      1 & 3 & 2 & 5\\\\\n",
    "      1 & 9 & 4 & 7\\\\\n",
    "    \\end{bmatrix}\n",
    "\\end{eqnarray}"
   ]
  },
  {
   "cell_type": "code",
   "metadata": {
    "colab": {
     "base_uri": "https://localhost:8080/"
    },
    "id": "dDD3IdUOa-na",
    "outputId": "8b66fe33-7a19-4dcf-d504-e68424a5e375"
   },
   "source": [
    "import unittest\n",
    "\n",
    "\n",
    "class TestAddDummyFeature(unittest.TestCase):\n",
    "    def test_add_dummy_feature(self):\n",
    "        \"\"\"Test case function for add_dummy_feature\"\"\"\n",
    "        train_matrix = np.array([[3, 2, 5], [9, 4, 7]])\n",
    "        train_matrix_with_dummy_feature = add_dummy_feature(train_matrix)\n",
    "\n",
    "        # test the shape\n",
    "        self.assertEqual(train_matrix_with_dummy_feature.shape, (2, 4))\n",
    "\n",
    "        # and contents\n",
    "        np.testing.assert_array_equal(train_matrix_with_dummy_feature, np.array([[1, 3, 2, 5], [1, 9, 4, 7]]))\n",
    "\n",
    "\n",
    "unittest.main(argv=[\"\"], defaultTest=\"TestAddDummyFeature\", verbosity=2, exit=False)"
   ],
   "execution_count": 10,
   "outputs": [
    {
     "output_type": "stream",
     "name": "stderr",
     "text": [
      "test_add_dummy_feature (__main__.TestAddDummyFeature)\n",
      "Test case function for add_dummy_feature ... ok\n",
      "\n",
      "----------------------------------------------------------------------\n",
      "Ran 1 test in 0.004s\n",
      "\n",
      "OK\n"
     ]
    },
    {
     "output_type": "execute_result",
     "data": {
      "text/plain": [
       "<unittest.main.TestProgram at 0x7f6b64220290>"
      ]
     },
     "metadata": {},
     "execution_count": 10
    }
   ]
  },
  {
   "cell_type": "code",
   "metadata": {
    "colab": {
     "base_uri": "https://localhost:8080/"
    },
    "id": "tPR-zKWGaWyS",
    "outputId": "24698b81-cfc7-4c25-e0ae-461ebfa15c87"
   },
   "source": [
    "add_dummy_feature(np.array([[3, 2], [5, 4]]))"
   ],
   "execution_count": 11,
   "outputs": [
    {
     "output_type": "execute_result",
     "data": {
      "text/plain": [
       "array([[1., 3., 2.],\n",
       "       [1., 5., 4.]])"
      ]
     },
     "metadata": {},
     "execution_count": 11
    }
   ]
  },
  {
   "cell_type": "markdown",
   "metadata": {
    "id": "p4y4z5WVmluo"
   },
   "source": [
    "Let's preprocess the training set to add the dummy feature"
   ]
  },
  {
   "cell_type": "code",
   "metadata": {
    "id": "0gnVeH6mmsAI",
    "colab": {
     "base_uri": "https://localhost:8080/"
    },
    "outputId": "88a69631-feda-4c9b-d98f-d787c13aed71"
   },
   "source": [
    "print(\"Before adding the dummy feature:\\n\", X_train[:5])\n",
    "print(\"\\n\")\n",
    "\n",
    "X_train_with_dummy = add_dummy_feature(X_train)\n",
    "\n",
    "print(\"After adding the dummy feature:\\n\", X_train_with_dummy[:5, :])"
   ],
   "execution_count": 12,
   "outputs": [
    {
     "output_type": "stream",
     "name": "stdout",
     "text": [
      "Before adding the dummy feature:\n",
      " [2.66264564 5.2778843  7.14629389 5.3417576  9.21518806]\n",
      "\n",
      "\n",
      "After adding the dummy feature:\n",
      " [[1.         2.66264564]\n",
      " [1.         5.2778843 ]\n",
      " [1.         7.14629389]\n",
      " [1.         5.3417576 ]\n",
      " [1.         9.21518806]]\n"
     ]
    }
   ]
  },
  {
   "cell_type": "markdown",
   "source": [
    ""
   ],
   "metadata": {
    "id": "adq4V_GDg1OI"
   }
  },
  {
   "cell_type": "markdown",
   "metadata": {
    "id": "dhES9nHGhPl2"
   },
   "source": [
    "# C2. Model"
   ]
  },
  {
   "cell_type": "markdown",
   "metadata": {
    "id": "sDosZOCxhPl2"
   },
   "source": [
    "Linear regression model uses linear combination of features to obtain output labels.  In vectorized form, this can be written as $\\mathbf{y} = \\mathbf{X} \\mathbf{w}$\n"
   ]
  },
  {
   "cell_type": "markdown",
   "metadata": {
    "id": "g0rIzNjzQpmV"
   },
   "source": [
    "**Note** \n",
    "\n",
    "* Model is parameterized by its weight vector.  \n",
    "* It is described by its mathematical form and weight vector."
   ]
  },
  {
   "cell_type": "markdown",
   "metadata": {
    "id": "5cf45xtgkXUy"
   },
   "source": [
    "## Implementation"
   ]
  },
  {
   "cell_type": "markdown",
   "metadata": {
    "id": "_N8Ip05OktYm"
   },
   "source": [
    "The general vectorized form is as follows:\n",
    "$$\n",
    "  \\mathbf{y}_{n \\times 1} = \\mathbf{X}_{n \\times (m+1)} \\mathbf{w}_{(m+1) \\times 1}\n",
    "$$\n",
    "\n",
    "where \n",
    "* $n$ is number of examples in dataset (train/test/validation). \n",
    "* $m$ is the number of features.\n",
    "* $\\mathbf{X}$ is a feature matrix contain $(m+1)$ features for $n$ examples along rows. (Notice capital case bold **X** used for matrix).\n",
    "* $\\mathbf{w}$ is a weight vector containing $(m+1)$ weights one for each feature. (notice small case bold **w**).\n",
    "* $\\mathbf{y}$ is a label vector containing labels for $n$ examples with shape $(n,)$."
   ]
  },
  {
   "cell_type": "code",
   "metadata": {
    "id": "fTop8ARYkly5"
   },
   "source": [
    "def predict(X, w):\n",
    "    \"\"\"Prediction of output label for a given input.\n",
    "\n",
    "    Args:\n",
    "      X: Feature matrix of shape (n, m+1).\n",
    "      w: weight vector of shape (m+1, n)\n",
    "\n",
    "    Returns:\n",
    "      y: Predicted label vector of shape (n,).\n",
    "    \"\"\"\n",
    "    # Check to make sure that feature matrix and weight vector have compatible\n",
    "    # shapes.\n",
    "    assert X.shape[-1] == w.shape[0], \"X and w don't have compatible dimensions\"\n",
    "    return X @ w"
   ],
   "execution_count": 13,
   "outputs": []
  },
  {
   "cell_type": "markdown",
   "metadata": {
    "id": "rZcXVOzZkXRw"
   },
   "source": [
    "We test this function with the following feature matrix $\\mathbf{X}_{2 \\times (3+1)}$:\n",
    "\n",
    "\\begin{eqnarray}\n",
    "  \\mathbf{X}_{2 \\times 4} &=&  \\begin{bmatrix}\n",
    "      1 & 3 & 2 & 5 \\\\\n",
    "      1 & 9 & 4 & 7 \\\\\n",
    "    \\end{bmatrix} \\\\\n",
    "\\end{eqnarray}\n",
    "\n",
    "and weight vector $\\mathbf{w}$\n",
    "\\begin{eqnarray}\n",
    "  \\mathbf{w}_{4 \\times 1} &=&  \\begin{bmatrix}\n",
    "      1 \\\\\n",
    "      1 \\\\\n",
    "      1 \\\\\n",
    "      1 \\\\\n",
    "    \\end{bmatrix} \\\\\n",
    "\\end{eqnarray}\n",
    "\n",
    "<!-- In this example, we have three features and hence we use the following linear regression model: \n",
    "\\begin{eqnarray}\n",
    "  \\mathbf{w}: y &=& \\sum_{j=0}^{3} w_j x_j \\\\\n",
    "    &=& w_0 x_0 + w_1 x_1 + w_2 x_2 + w_3 x_3  = \\\\\n",
    "    &=& 1 + 1 x_1 + 1 x_2 + 1 x_3\\\\\n",
    "    &=& x_0 + x_1 + x_2 + x_3\n",
    "\\end{eqnarray}\n",
    "\n",
    "The prediction \n",
    "* for the first example is: $y_1 = 1 + 3 + 2 + 5 = 11$ and \n",
    "* for the second example is: $y_2 = 1 + 9 + 4 + 7 = 21$ -->\n",
    "\n",
    "Let's perform matrix-vector multiplication between the feature matrix $\\mathbf{X}$ and a weight vector $\\mathbf{w}$ to obtain labels for all examples:\n",
    "\\begin{eqnarray}\n",
    "\\mathbf{y} &=& \\mathbf{X} \\color{red}{\\mathbf{w}} \\\\\n",
    "  &=& \\begin{bmatrix}\n",
    "        \\color{blue}{1} & \\color{blue}{3} & \\color{blue}{2} & \\color{blue}{5} \\\\\n",
    "        \\color{purple}{1} & \\color{purple}{9} & \\color{purple}{4} & \\color{purple}{7} \\\\\n",
    "      \\end{bmatrix}\n",
    "    \\times \n",
    "    \\begin{bmatrix}\n",
    "      \\color{red}{1} \\\\\n",
    "      \\color{red}{1} \\\\\n",
    "      \\color{red}{1} \\\\\n",
    "      \\color{red}{1} \\\\\n",
    "    \\end{bmatrix} \\\\\n",
    "    &=& \\begin{bmatrix}\n",
    "        \\color{blue}{1} \\times \\color{red}{1} + \\color{blue}{3} \\times \\color{red}{1} + \\color{blue}{2} \\times \\color{red}{1} + \\color{blue}{5} \\times \\color{red}{1}  \\\\\n",
    "        \\color{purple}{1} \\times \\color{red}{1} + \\color{purple}{3} \\times \\color{red}{1} + \\color{purple}{2} \\times \\color{red}{1} + \\color{purple}{5} \\times \\color{red}{1} \n",
    "      \\end{bmatrix} \\\\\n",
    "    &=&\n",
    "    \\begin{bmatrix}\n",
    "      11 \\\\ \n",
    "      21\n",
    "    \\end{bmatrix} \\\\\n",
    "\\end{eqnarray}\n",
    "\n"
   ]
  },
  {
   "cell_type": "code",
   "metadata": {
    "colab": {
     "base_uri": "https://localhost:8080/"
    },
    "id": "lCad4wapkWnO",
    "outputId": "84cd48a8-7dc1-4834-c41e-fa4e9fb74a53"
   },
   "source": [
    "import unittest\n",
    "\n",
    "\n",
    "class TestPredict(unittest.TestCase):\n",
    "    def test_predict(self):\n",
    "        \"\"\"Test case predict function of linear regression\"\"\"\n",
    "        # set up\n",
    "        train_matrix = np.array([[1, 3, 2, 5], [1, 9, 4, 7]])\n",
    "        weight_vector = np.array([1, 1, 1, 1])\n",
    "        expected_label_vector = np.array([11, 21])\n",
    "\n",
    "        # call\n",
    "        predicted_label_vector = predict(train_matrix, weight_vector)\n",
    "\n",
    "        # asserts\n",
    "        # test the shape\n",
    "        self.assertEqual(predicted_label_vector.shape, (2,))\n",
    "\n",
    "        # and contents\n",
    "        np.testing.assert_array_equal(expected_label_vector, predicted_label_vector)\n",
    "\n",
    "\n",
    "unittest.main(argv=[\"\"], defaultTest=\"TestPredict\", verbosity=2, exit=False)"
   ],
   "execution_count": 14,
   "outputs": [
    {
     "output_type": "stream",
     "name": "stderr",
     "text": [
      "test_predict (__main__.TestPredict)\n",
      "Test case predict function of linear regression ... ok\n",
      "\n",
      "----------------------------------------------------------------------\n",
      "Ran 1 test in 0.005s\n",
      "\n",
      "OK\n"
     ]
    },
    {
     "output_type": "execute_result",
     "data": {
      "text/plain": [
       "<unittest.main.TestProgram at 0x7f6b642984d0>"
      ]
     },
     "metadata": {},
     "execution_count": 14
    }
   ]
  },
  {
   "cell_type": "markdown",
   "metadata": {
    "id": "ctbiRjLwWWaF"
   },
   "source": [
    "## Demonstration on synthetic dataset"
   ]
  },
  {
   "cell_type": "code",
   "metadata": {
    "id": "Rre2d7suWbEs",
    "cellView": "form"
   },
   "source": [
    "# @title Dataset: $n=100$, $m=1$, $[w_0, w_1] = [4, 3]$\n",
    "def generate_data(n):\n",
    "    \"\"\"Generates a syntic data with $n$ points.\n",
    "\n",
    "    The training features are generated with random samples. The\n",
    "    label for each example is generated with the following\n",
    "    relationship: y = 4 + 3*feature_value + random_noise.\n",
    "\n",
    "    Args:\n",
    "      n: Number of data points\n",
    "\n",
    "    Returns:\n",
    "      (X, y): pair of feature matrix and label vector.\n",
    "    \"\"\"\n",
    "    w1 = 3\n",
    "    w0 = 4\n",
    "    X = 10 * np.random.rand(\n",
    "        n,\n",
    "    )\n",
    "\n",
    "    # Obtain y = 4 + 3*x + noise.  Noise is randomly sampled.\n",
    "    y = (\n",
    "        w0\n",
    "        + w1 * X\n",
    "        + np.random.randn(\n",
    "            n,\n",
    "        )\n",
    "    )\n",
    "    return X, y\n",
    "\n",
    "\n",
    "X, y = generate_data(n=100)"
   ],
   "execution_count": 15,
   "outputs": []
  },
  {
   "cell_type": "code",
   "metadata": {
    "id": "Z9bPIbOwWreG",
    "cellView": "form"
   },
   "source": [
    "# @title Preprocessing: Dummy feature and train-test split\n",
    "from sklearn.model_selection import train_test_split\n",
    "\n",
    "\n",
    "def add_dummy_feature(x):\n",
    "    \"\"\"Adds a dummy feature to the dataset.\n",
    "\n",
    "    Args:\n",
    "      x: Training dataset\n",
    "\n",
    "    Returns:\n",
    "      Training dataset with an addition of dummy feature.\n",
    "    \"\"\"\n",
    "    # np.ones(x.shape[0]) create a vector of 1's having the same number of\n",
    "    # rows as number of samples in dataset.\n",
    "    return np.column_stack((np.ones(x.shape[0]), x))\n",
    "\n",
    "\n",
    "def preprocess(X, y):\n",
    "    \"\"\"Preprocesses training set and splits it into train/test.\n",
    "\n",
    "    Args:\n",
    "      X: Training feature matrix\n",
    "      y: Training labels\n",
    "\n",
    "    Returns:\n",
    "      (X_train, X_test, y_train, y_test)\n",
    "    \"\"\"\n",
    "    X_with_dummy_feature = add_dummy_feature(X)\n",
    "    return train_test_split(X_with_dummy_feature, y, test_size=0.20, random_state=42)\n",
    "\n",
    "\n",
    "X_train, X_test, y_train, y_test = preprocess(X, y)"
   ],
   "execution_count": 16,
   "outputs": []
  },
  {
   "cell_type": "markdown",
   "metadata": {
    "id": "E7Y6EwzMj2HN"
   },
   "source": [
    "Since we have not yet trained our model, let's use a random weight vector to get predictions from our model for the given dataset: "
   ]
  },
  {
   "cell_type": "code",
   "metadata": {
    "colab": {
     "base_uri": "https://localhost:8080/"
    },
    "id": "Lh8owH7taQQF",
    "outputId": "1b041f3a-78ee-4757-80eb-3e5dfc206158"
   },
   "source": [
    "w = np.random.rand(\n",
    "    2,\n",
    ")\n",
    "w"
   ],
   "execution_count": 17,
   "outputs": [
    {
     "output_type": "execute_result",
     "data": {
      "text/plain": [
       "array([0.7544478 , 0.99493283])"
      ]
     },
     "metadata": {},
     "execution_count": 17
    }
   ]
  },
  {
   "cell_type": "code",
   "metadata": {
    "id": "UTy_oHYJj1xH"
   },
   "source": [
    "y_hat = predict(X_train, w)"
   ],
   "execution_count": 18,
   "outputs": []
  },
  {
   "cell_type": "markdown",
   "metadata": {
    "id": "C4XDKpMDkWDS"
   },
   "source": [
    "Let's compare the prediction with the actual value:"
   ]
  },
  {
   "cell_type": "code",
   "metadata": {
    "colab": {
     "base_uri": "https://localhost:8080/"
    },
    "id": "BokxEztfkZ6E",
    "outputId": "943e17d7-3b83-4994-cee9-4ee28a65b8af"
   },
   "source": [
    "y_hat[:10]"
   ],
   "execution_count": 19,
   "outputs": [
    {
     "output_type": "execute_result",
     "data": {
      "text/plain": [
       "array([8.40126361, 5.95166443, 1.87485789, 6.30904185, 7.08430428,\n",
       "       3.92799696, 8.55891733, 1.96791787, 3.37120937, 7.3224093 ])"
      ]
     },
     "metadata": {},
     "execution_count": 19
    }
   ]
  },
  {
   "cell_type": "markdown",
   "metadata": {
    "id": "QQy8FYX8kkVn"
   },
   "source": [
    "Actual labels are"
   ]
  },
  {
   "cell_type": "code",
   "metadata": {
    "colab": {
     "base_uri": "https://localhost:8080/"
    },
    "id": "7A9II-mPkdSg",
    "outputId": "c7b7343d-c05f-4fc9-eb25-f0a73d70423d"
   },
   "source": [
    "y_train[:10]"
   ],
   "execution_count": 20,
   "outputs": [
    {
     "output_type": "execute_result",
     "data": {
      "text/plain": [
       "array([26.61862727, 21.04746492,  7.96318521, 23.33656661, 24.17463552,\n",
       "       13.04634202, 27.74065111,  7.14788236, 11.58211279, 23.87376769])"
      ]
     },
     "metadata": {},
     "execution_count": 20
    }
   ]
  },
  {
   "cell_type": "markdown",
   "metadata": {
    "id": "GNJpVHTuknqj"
   },
   "source": [
    "Since we used a random weight vector $\\mathbf{w}$ here, most of the predicted labels do not match the actual labels."
   ]
  },
  {
   "cell_type": "markdown",
   "metadata": {
    "id": "kmREnllPjKXq"
   },
   "source": [
    "## Comparison of vectorized and non-vectorized version of model inference"
   ]
  },
  {
   "cell_type": "code",
   "metadata": {
    "id": "R59Zu66fjJ4p"
   },
   "source": [
    "def non_vectorized_predict(X, w):\n",
    "    \"\"\"Prediction of output label for a given input.\n",
    "\n",
    "    Args:\n",
    "      X: Feature matrix of shape (n, m+1).\n",
    "      w: weight vector of shape (m+1, n)\n",
    "\n",
    "    Returns:\n",
    "      y: Predicted label vector of shape (n, ).\n",
    "    \"\"\"\n",
    "    y = []\n",
    "    for i in range(0, X.shape[0]):\n",
    "        y_hat_i = 0\n",
    "        for j in range(0, X.shape[1]):\n",
    "            y_hat_i += X[i][j] * w[j]\n",
    "        y.append(y_hat_i)\n",
    "    return np.array(y)"
   ],
   "execution_count": 21,
   "outputs": []
  },
  {
   "cell_type": "markdown",
   "metadata": {
    "id": "BJsV4PwcwKR6"
   },
   "source": [
    "Let's write a test for this function with the same set up as the vectorized implementation.\n"
   ]
  },
  {
   "cell_type": "code",
   "metadata": {
    "colab": {
     "base_uri": "https://localhost:8080/"
    },
    "id": "x8bb5GWUkMD6",
    "outputId": "b4d2f753-e03c-4ec2-b3c7-da05a7b3283b"
   },
   "source": [
    "import unittest\n",
    "\n",
    "\n",
    "class TestPredictNonVectorized(unittest.TestCase):\n",
    "    def test_predict_non_vectorized(self):\n",
    "        \"\"\"Test case predict function of linear regression\"\"\"\n",
    "        # set up\n",
    "        train_matrix = np.array([[1, 3, 2, 5], [1, 9, 4, 7]])\n",
    "        weight_vector = np.array([1, 1, 1, 1])\n",
    "        expected_label_vector = np.array([11, 21])\n",
    "\n",
    "        # call\n",
    "        predicted_label_vector = non_vectorized_predict(train_matrix, weight_vector)\n",
    "\n",
    "        # asserts\n",
    "        # test the shape\n",
    "        self.assertEqual(predicted_label_vector.shape, (2,))\n",
    "\n",
    "        # and contents\n",
    "        np.testing.assert_array_equal(expected_label_vector, predicted_label_vector)\n",
    "\n",
    "\n",
    "unittest.main(argv=[\"\"], defaultTest=\"TestPredictNonVectorized\", verbosity=2, exit=False)"
   ],
   "execution_count": 22,
   "outputs": [
    {
     "output_type": "stream",
     "name": "stderr",
     "text": [
      "test_predict_non_vectorized (__main__.TestPredictNonVectorized)\n",
      "Test case predict function of linear regression ... ok\n",
      "\n",
      "----------------------------------------------------------------------\n",
      "Ran 1 test in 0.004s\n",
      "\n",
      "OK\n"
     ]
    },
    {
     "output_type": "execute_result",
     "data": {
      "text/plain": [
       "<unittest.main.TestProgram at 0x7f6b641d6a50>"
      ]
     },
     "metadata": {},
     "execution_count": 22
    }
   ]
  },
  {
   "cell_type": "markdown",
   "metadata": {
    "id": "lVOR-p0slwe1"
   },
   "source": [
    "Let's compare run time of vectorized and non-vectorized versions on dataset with 100 examples."
   ]
  },
  {
   "cell_type": "code",
   "metadata": {
    "colab": {
     "base_uri": "https://localhost:8080/"
    },
    "id": "OF6M8ClElv1x",
    "outputId": "ad3cccf3-76fb-43bd-9b4c-b07b4dc7931e"
   },
   "source": [
    "import time\n",
    "\n",
    "start_time = time.time()\n",
    "y_hat_vectorized = predict(X_train, w)\n",
    "end_time = time.time()\n",
    "\n",
    "print(\"Total time incurred in vectorized inference is: %0.6f s\" % (end_time - start_time))\n",
    "\n",
    "start_time = time.time()\n",
    "y_hat_non_vectorized = non_vectorized_predict(X_train, w)\n",
    "end_time = time.time()\n",
    "print(\"Total time incurred in non-vectorized inference is: %0.6f s\" % (end_time - start_time))\n",
    "\n",
    "np.testing.assert_array_equal(y_hat_vectorized, y_hat_non_vectorized)"
   ],
   "execution_count": 23,
   "outputs": [
    {
     "output_type": "stream",
     "name": "stdout",
     "text": [
      "Total time incurred in vectorized inference is: 0.000118 s\n",
      "Total time incurred in non-vectorized inference is: 0.000353 s\n"
     ]
    }
   ]
  },
  {
   "cell_type": "markdown",
   "metadata": {
    "id": "Bcc1ODhMosYU"
   },
   "source": [
    "Let's try to check the difference in their performance on large dataset of 1 million data points."
   ]
  },
  {
   "cell_type": "code",
   "metadata": {
    "colab": {
     "base_uri": "https://localhost:8080/"
    },
    "id": "ryJv-vIUo0TL",
    "outputId": "8532d7bd-b5af-4166-d593-348664b61b4e"
   },
   "source": [
    "X, y = generate_data(n=1000000)\n",
    "X_train, X_test, y_train, y_test = preprocess(X, y)\n",
    "\n",
    "start_time = time.time()\n",
    "y_hat_vectorized = predict(X_train, w)\n",
    "end_time = time.time()\n",
    "print(\"Total time incurred in vectorized inference is: %0.6f s\" % (end_time - start_time))\n",
    "\n",
    "start_time = time.time()\n",
    "y_hat_non_vectorized = non_vectorized_predict(X_train, w)\n",
    "end_time = time.time()\n",
    "print(\"Total time incurred in non-vectorized inference is: %0.6f s\" % (end_time - start_time))\n",
    "\n",
    "np.testing.assert_array_equal(y_hat_vectorized, y_hat_non_vectorized)"
   ],
   "execution_count": 24,
   "outputs": [
    {
     "output_type": "stream",
     "name": "stdout",
     "text": [
      "Total time incurred in vectorized inference is: 0.002506 s\n",
      "Total time incurred in non-vectorized inference is: 1.381545 s\n"
     ]
    }
   ]
  },
  {
   "cell_type": "markdown",
   "metadata": {
    "id": "KtUQGpM3qtfr"
   },
   "source": [
    "Note that the time required for non-vectorized inference is order of magnitude more than the vectorized inference."
   ]
  },
  {
   "cell_type": "markdown",
   "source": [
    "# C3. Loss function implementation"
   ],
   "metadata": {
    "id": "euX3jWMoiWM3"
   }
  },
  {
   "cell_type": "markdown",
   "metadata": {
    "id": "YLPvmtIhJWRE"
   },
   "source": [
    "## Implementation\n",
    "\n",
    "The loss function is calculated as follows:\n",
    "\n",
    "\\begin{equation}\n",
    "J(\\mathbf{w}) = \\frac{1}{2} \\left(\\mathbf{X}\\mathbf{w} - \\mathbf{y} \\right)^T \\left(\\mathbf{X}\\mathbf{w} - \\mathbf{y} \\right)\n",
    "\\end{equation}\n",
    "\n",
    "where \n",
    "* $\\mathbf{X}$ is a feature matrix contain $(m+1)$ features for $n$ examples along rows.\n",
    "* $\\mathbf{w}$ is a weight vector containing $(m+1)$ weights one for each feature.\n",
    "* $\\mathbf{y}$ is a label vector containing labels for $n$ examples in a vector of shape $(n,)$."
   ]
  },
  {
   "cell_type": "code",
   "metadata": {
    "id": "2D9JsE81RME5"
   },
   "source": [
    "def loss(X, y, w):\n",
    "    \"\"\"Calculates loss for a model based on known labels.\n",
    "\n",
    "    Args:\n",
    "      X: Feature matrix for given inputs.\n",
    "      y: Output label vector as predicted by the given model.\n",
    "      w: Weight vector\n",
    "\n",
    "    Returns:\n",
    "      Loss\n",
    "    \"\"\"\n",
    "    e = predict(X, w) - y\n",
    "    return (1 / 2) * (np.transpose(e) @ e)"
   ],
   "execution_count": 25,
   "outputs": []
  },
  {
   "cell_type": "markdown",
   "metadata": {
    "id": "DcpjSx6rQ9MB"
   },
   "source": [
    "We will test this function with the following configuration:\n",
    "\n",
    "1. Feature matrix ($\\mathbf{X}$): \n",
    "\\begin{eqnarray}\n",
    "  \\mathbf{X}_{2 \\times 4} &=&  \\begin{bmatrix}\n",
    "      1 & 3 & 2 & 5 \\\\\n",
    "      1 & 9 & 4 & 7 \\\\\n",
    "    \\end{bmatrix} \\\\\n",
    "\\end{eqnarray}\n",
    "\n",
    "2. Weight vector ($\\mathbf{w}$):\n",
    "\\begin{eqnarray}\n",
    "  \\mathbf{w}_{4 \\times 1} &=&  \\begin{bmatrix}\n",
    "      1 \\\\\n",
    "      1 \\\\\n",
    "      1 \\\\\n",
    "      1 \\\\\n",
    "    \\end{bmatrix} \\\\\n",
    "\\end{eqnarray}\n",
    "\n",
    "3. Label vector $\\mathbf{y}$:\n",
    "  \\begin{eqnarray}\n",
    "  \\mathbf{y}_{2 \\times 1} &=&  \\begin{bmatrix}\n",
    "      6 \\\\\n",
    "      11\n",
    "    \\end{bmatrix} \\\\\n",
    "   \\end{eqnarray}\n",
    "\n"
   ]
  },
  {
   "cell_type": "markdown",
   "metadata": {
    "id": "dAyRongm3lf7"
   },
   "source": [
    "Let's compute the loss $J(\\mathbf{w})$ i.e. \n",
    "\\begin{eqnarray}\n",
    "  J\\left(\\begin{bmatrix}\n",
    "      1 \\\\\n",
    "      1 \\\\\n",
    "      1 \\\\\n",
    "      1 \\\\\n",
    "    \\end{bmatrix} \\right) &=& \\frac{1}{2} \\left(\\mathbf{X}\\mathbf{w} - \\mathbf{y} \\right)^T \\left(\\mathbf{X}\\mathbf{w} - \\mathbf{y} \\right)  \\\\\n",
    "     &=& \\frac{1}{2} \\left( \\begin{bmatrix}\n",
    "        \\color{blue}{1} & \\color{blue}{3} & \\color{blue}{2} & \\color{blue}{5} \\\\\n",
    "        \\color{purple}{1} & \\color{purple}{9} & \\color{purple}{4} & \\color{purple}{7} \\\\\n",
    "      \\end{bmatrix}\n",
    "    \\times \n",
    "    \\begin{bmatrix}\n",
    "      \\color{red}{1} \\\\\n",
    "      \\color{red}{1} \\\\\n",
    "      \\color{red}{1} \\\\\n",
    "      \\color{red}{1} \n",
    "    \\end{bmatrix} - \\begin{bmatrix}\n",
    "      6 \\\\\n",
    "      11\n",
    "    \\end{bmatrix}\n",
    "      \\right)^T  \\left( \\begin{bmatrix}\n",
    "        \\color{blue}{1} & \\color{blue}{3} & \\color{blue}{2} & \\color{blue}{5} \\\\\n",
    "        \\color{purple}{1} & \\color{purple}{9} & \\color{purple}{4} & \\color{purple}{7} \\\\\n",
    "      \\end{bmatrix}\n",
    "    \\times \n",
    "    \\begin{bmatrix}\n",
    "      \\color{red}{1} \\\\\n",
    "      \\color{red}{1} \\\\\n",
    "      \\color{red}{1} \\\\\n",
    "      \\color{red}{1} \n",
    "    \\end{bmatrix} - \\begin{bmatrix}\n",
    "      6 \\\\\n",
    "      11\n",
    "    \\end{bmatrix} \\right) \\\\\n",
    "    &=& \\frac{1}{2} \\left(\n",
    "      \\begin{bmatrix}\n",
    "      11 \\\\\n",
    "      21\n",
    "    \\end{bmatrix} - \n",
    "    \\begin{bmatrix}\n",
    "      6 \\\\\n",
    "      11\n",
    "    \\end{bmatrix}\n",
    "      \\right)^T  \n",
    "      \\left(\n",
    "      \\begin{bmatrix}\n",
    "      11 \\\\\n",
    "      21\n",
    "    \\end{bmatrix} - \n",
    "    \\begin{bmatrix}\n",
    "      6 \\\\\n",
    "      11\n",
    "    \\end{bmatrix}\n",
    "      \\right)\\\\\n",
    "    &=& \\frac{1}{2}\n",
    "      \\left(\n",
    "      \\begin{bmatrix}\n",
    "      5 \\\\\n",
    "      10\n",
    "    \\end{bmatrix} \n",
    "      \\right)^T \\left(\n",
    "      \\begin{bmatrix}\n",
    "      5 \\\\\n",
    "      10\n",
    "    \\end{bmatrix} \n",
    "      \\right) \\\\\n",
    "   &=& \\frac{1}{2}\n",
    "      \\left(\n",
    "      \\begin{bmatrix}\n",
    "      5 & 10\n",
    "    \\end{bmatrix}  \n",
    "    \\begin{bmatrix}\n",
    "      5 \\\\\n",
    "      10\n",
    "    \\end{bmatrix}\n",
    "      \\right) \\\\\n",
    "  &=& \\frac{1}{2}\n",
    "      \\left(\n",
    "      \\begin{bmatrix}\n",
    "      5 \\times 5 + 10 \\times 10\n",
    "    \\end{bmatrix}  \n",
    "      \\right) \\\\\n",
    "  &=& \\frac{1}{2} [125] = [62.5]\n",
    "\\end{eqnarray}"
   ]
  },
  {
   "cell_type": "code",
   "metadata": {
    "id": "9R5MuiR4kWlQ",
    "colab": {
     "base_uri": "https://localhost:8080/"
    },
    "outputId": "15f6f383-3714-43ae-a905-53f57c385855"
   },
   "source": [
    "import unittest\n",
    "\n",
    "\n",
    "class TestLossFunction(unittest.TestCase):\n",
    "    def test_loss_function(self):\n",
    "        \"\"\"Test case for loss function of linear regression\"\"\"\n",
    "        # set up\n",
    "        feature_matrix = np.array([[1, 3, 2, 5], [1, 9, 4, 7]])\n",
    "        weight_vector = np.array([1, 1, 1, 1])\n",
    "        label_vector = np.array([6, 11])\n",
    "        expected_loss = np.array([62.5])\n",
    "\n",
    "        # call\n",
    "        loss_value = loss(feature_matrix, label_vector, weight_vector)\n",
    "\n",
    "        # asserts\n",
    "        # test the shape\n",
    "        self.assertEqual(loss_value.shape, ())\n",
    "\n",
    "        # and contents\n",
    "        np.testing.assert_array_equal(expected_loss, loss_value)\n",
    "\n",
    "\n",
    "unittest.main(argv=[\"\"], defaultTest=\"TestLossFunction\", verbosity=2, exit=False)"
   ],
   "execution_count": 26,
   "outputs": [
    {
     "output_type": "stream",
     "name": "stderr",
     "text": [
      "test_loss_function (__main__.TestLossFunction)\n",
      "Test case for loss function of linear regression ... ok\n",
      "\n",
      "----------------------------------------------------------------------\n",
      "Ran 1 test in 0.003s\n",
      "\n",
      "OK\n"
     ]
    },
    {
     "output_type": "execute_result",
     "data": {
      "text/plain": [
       "<unittest.main.TestProgram at 0x7f6b64298fd0>"
      ]
     },
     "metadata": {},
     "execution_count": 26
    }
   ]
  },
  {
   "cell_type": "markdown",
   "metadata": {
    "id": "30hgGV_1k_Gx"
   },
   "source": [
    "Since we have not yet trained our model, let's use a random weight vector to calculate loss for linear regression model with single feature on synthetic dataset."
   ]
  },
  {
   "cell_type": "code",
   "metadata": {
    "id": "7qpGxk35DoiT"
   },
   "source": [
    "w = np.random.rand(\n",
    "    2,\n",
    ")"
   ],
   "execution_count": 27,
   "outputs": []
  },
  {
   "cell_type": "markdown",
   "metadata": {
    "id": "XJUuUesDJDBn"
   },
   "source": [
    "## Demonstration on synthetic dataset"
   ]
  },
  {
   "cell_type": "code",
   "metadata": {
    "id": "AuP3L8ybiljf"
   },
   "source": [
    "# @title [Generate training data]\n",
    "def generate_data(n):\n",
    "    \"\"\"Generates a syntic data with $n$ points.\n",
    "\n",
    "    The training features are generated with random samples. The\n",
    "    label for each example is generated with the following\n",
    "    relationship: y = 4 + 3*feature_value + random_noise.\n",
    "\n",
    "    Args:\n",
    "      n: Number of data points\n",
    "\n",
    "    Returns:\n",
    "      (X, y): pair of feature matrix and label vector.\n",
    "    \"\"\"\n",
    "    w1 = 3\n",
    "    w0 = 4\n",
    "    X = 10 * np.random.rand(\n",
    "        n,\n",
    "    )\n",
    "\n",
    "    # Obtain y = 4 + 3*x + noise.  Noise is randomly sampled.\n",
    "    y = (\n",
    "        w0\n",
    "        + w1 * X\n",
    "        + np.random.randn(\n",
    "            n,\n",
    "        )\n",
    "    )\n",
    "    return X, y"
   ],
   "execution_count": 28,
   "outputs": []
  },
  {
   "cell_type": "code",
   "metadata": {
    "id": "8eEbdNLliljg"
   },
   "source": [
    "# @title [Preprocessing: Dummy feature and train-test split]\n",
    "from sklearn.model_selection import train_test_split\n",
    "\n",
    "\n",
    "def add_dummy_feature(x):\n",
    "    \"\"\"Adds a dummy feature to the dataset.\n",
    "\n",
    "    Args:\n",
    "      x: Training dataset\n",
    "\n",
    "    Returns:\n",
    "      Training dataset with an addition of dummy feature.\n",
    "    \"\"\"\n",
    "    # np.ones(x.shape[0]) create a vector of 1's having the same number of\n",
    "    # rows as number of samples in dataset.\n",
    "    return np.column_stack((np.ones(x.shape[0]), x))\n",
    "\n",
    "\n",
    "def preprocess(X, y):\n",
    "    \"\"\"Preprocesses training set and splits it into train/test.\n",
    "\n",
    "    Args:\n",
    "      X: Training feature matrix\n",
    "      y: Training labels\n",
    "\n",
    "    Returns:\n",
    "      (X_train, X_test, y_train, y_test)\n",
    "    \"\"\"\n",
    "    X_with_dummy_feature = add_dummy_feature(X)\n",
    "    return train_test_split(X_with_dummy_feature, y, test_size=0.20, random_state=42)"
   ],
   "execution_count": 29,
   "outputs": []
  },
  {
   "cell_type": "code",
   "metadata": {
    "id": "hkroHlB9EIUN"
   },
   "source": [
    "X, y = generate_data(100)  # y = 4 + 3 x_1 + noise\n",
    "X_train, X_test, y_train, y_test = preprocess(X, y)"
   ],
   "execution_count": 30,
   "outputs": []
  },
  {
   "cell_type": "code",
   "metadata": {
    "id": "XOp1WHVtm8gW"
   },
   "source": [
    "# @title [Visualize error for each data point]\n",
    "\n",
    "\n",
    "def visualize_loss_for_single_feature_model(X, y, w):\n",
    "    \"\"\"Plots loss for the model for a given dataset with single feature.\n",
    "\n",
    "    Args:\n",
    "      X: Feature matrix for given inputs.\n",
    "      y: Output label vector as predicted by the given model.\n",
    "      w: Weight vector\n",
    "\n",
    "    Returns:\n",
    "      None\n",
    "    \"\"\"\n",
    "    if X.shape[1] > 2:\n",
    "        return\n",
    "\n",
    "    sns.set_style(\"white\")\n",
    "\n",
    "    # f = plt.figure(figsize=(8, 8))\n",
    "    sns.set_context(\"notebook\", font_scale=1.5, rc={\"lines.linewidth\": 2.5})\n",
    "\n",
    "    plt.plot(X[:, 1], predict(X, w), \"b-\", ms=12)\n",
    "    plt.plot(X[:, 1], y, \"g.\", ms=12)\n",
    "\n",
    "    for i in range(0, 80):\n",
    "        plt.plot((X[i][1], X[i][1]), (predict(X[i], w), y[i]), \"r-\", ms=12)\n",
    "\n",
    "    plt.xlabel(\"$x_1$\")\n",
    "    plt.ylabel(\"$y$\")\n",
    "    plt.title(\"Loss or Error\")\n",
    "    plt.grid(True)"
   ],
   "execution_count": 31,
   "outputs": []
  },
  {
   "cell_type": "code",
   "metadata": {
    "colab": {
     "base_uri": "https://localhost:8080/",
     "height": 318
    },
    "id": "KHPLa-t0K1zf",
    "outputId": "2e0ae152-ff30-4d14-862a-e341eb092528"
   },
   "source": [
    "visualize_loss_for_single_feature_model(X_train, y_train, w)"
   ],
   "execution_count": 32,
   "outputs": [
    {
     "output_type": "display_data",
     "data": {
      "text/plain": [
       "<Figure size 432x288 with 1 Axes>"
      ],
      "image/png": "[encoded data removed]"
     },
     "metadata": {}
    }
   ]
  },
  {
   "cell_type": "markdown",
   "metadata": {
    "id": "kVQRLiMGN3Nd"
   },
   "source": [
    "Let's try with the actual weight vector used for data generation process and examine the loss."
   ]
  },
  {
   "cell_type": "code",
   "metadata": {
    "colab": {
     "base_uri": "https://localhost:8080/",
     "height": 318
    },
    "id": "w5TGa5HuNrWk",
    "outputId": "06951764-0948-418c-8007-ae5687efcb47"
   },
   "source": [
    "visualize_loss_for_single_feature_model(X_train, y_train, np.array([4, 3]))"
   ],
   "execution_count": 33,
   "outputs": [
    {
     "output_type": "display_data",
     "data": {
      "text/plain": [
       "<Figure size 432x288 with 1 Axes>"
      ],
      "image/png": "[encoded data removed]"
     },
     "metadata": {}
    }
   ]
  },
  {
   "cell_type": "markdown",
   "metadata": {
    "id": "4dTgtKUsjLEs"
   },
   "source": [
    "# C4: Optimization\n",
    "\n",
    "Let's implement optimization component of linear regression model. \n",
    "\n",
    "It is implemented with one of the following two methods:\n",
    "* Normal equation method, that sets the partial derivative of the loss function w.r.t. weight vector to 0 and solves the resulting equation to obtain the weight vector.\n",
    "* Gradient descent method, that iteratively adjusts the weight vector based on the learning rate and the gradient of loss function at the current weight vector. \n",
    "\n"
   ]
  },
  {
   "cell_type": "markdown",
   "metadata": {
    "id": "tTVH6mdk8qXT"
   },
   "source": [
    "Let's generate training data with 100 examples with linear regression model \n",
    "of known parameters.  \n",
    "\n",
    "We will use this data to test optimization procedure, where we compare the estimated weight vectors with the actual weight vector. "
   ]
  },
  {
   "cell_type": "code",
   "metadata": {
    "id": "aCOTTw58TlGQ"
   },
   "source": [
    "X, y = generate_data(100)\n",
    "X_train, X_test, y_train, y_test = preprocess(X, y)"
   ],
   "execution_count": 34,
   "outputs": []
  },
  {
   "cell_type": "markdown",
   "metadata": {
    "id": "fx-vkK_feFC8"
   },
   "source": [
    "## Normal equation\n",
    "\n",
    "The weight vector is estimated by matrix multiplication of psuedo-inverse of feature matrix and the label vector. \n",
    "\n",
    "The vectorized implementation is fairly straight forward.  \n",
    "*  We make use of `np.linalg.pinv` for calculating psuedoinverse of the feature matrix."
   ]
  },
  {
   "cell_type": "code",
   "metadata": {
    "id": "F0QZeL2peHVO"
   },
   "source": [
    "def normal_equation(X, y):\n",
    "    \"\"\"Estimates parameters of the linear regression model with normal equation.\n",
    "\n",
    "    Args:\n",
    "      X: Feature matrix for given inputs.\n",
    "      y: Actual label vector.\n",
    "\n",
    "    Returns:\n",
    "      Weight vector\n",
    "    \"\"\"\n",
    "    return np.linalg.pinv(X) @ y"
   ],
   "execution_count": 35,
   "outputs": []
  },
  {
   "cell_type": "markdown",
   "metadata": {
    "id": "1OMdYtCsgqrh"
   },
   "source": [
    "We test this function with the generated training set whose weight vector is known to us. \n",
    "\n",
    "* We set up the test with feature matrix, label vector and the expected weight vectors.\n",
    "* Next we estimate the weight vector with `normal_equation` function.\n",
    "* We test (a) shape and (ii) match between expected and estimated weight vectors."
   ]
  },
  {
   "cell_type": "code",
   "metadata": {
    "colab": {
     "base_uri": "https://localhost:8080/"
    },
    "id": "0R3YgI0hhHfP",
    "outputId": "b3099552-1263-4a63-f043-6b7b8e2cc1e4"
   },
   "source": [
    "import unittest\n",
    "\n",
    "\n",
    "class TestNormalEquation(unittest.TestCase):\n",
    "    def test_normal_equation(self):\n",
    "        \"\"\"\n",
    "        Test case for weight estimation for linear regression with normal\n",
    "         equation method.'\n",
    "        \"\"\"\n",
    "        # set up\n",
    "        feature_matrix = X_train\n",
    "        label_vector = y_train\n",
    "        expected_weight_vector = np.array([4.0, 3.0])\n",
    "\n",
    "        # call\n",
    "        estimated_weight_vector = normal_equation(feature_matrix, label_vector)\n",
    "\n",
    "        # asserts\n",
    "        # test the shape\n",
    "        self.assertEqual(estimated_weight_vector.shape, (2,))\n",
    "\n",
    "        # and contents\n",
    "        np.testing.assert_array_almost_equal(estimated_weight_vector, expected_weight_vector, decimal=0)\n",
    "\n",
    "\n",
    "unittest.main(argv=[\"\"], defaultTest=\"TestNormalEquation\", verbosity=2, exit=False)"
   ],
   "execution_count": 36,
   "outputs": [
    {
     "output_type": "stream",
     "name": "stderr",
     "text": [
      "test_normal_equation (__main__.TestNormalEquation)\n",
      "Test case for weight estimation for linear regression with normal ... ok\n",
      "\n",
      "----------------------------------------------------------------------\n",
      "Ran 1 test in 0.021s\n",
      "\n",
      "OK\n"
     ]
    },
    {
     "output_type": "execute_result",
     "data": {
      "text/plain": [
       "<unittest.main.TestProgram at 0x7f6b6176a5d0>"
      ]
     },
     "metadata": {},
     "execution_count": 36
    }
   ]
  },
  {
   "cell_type": "markdown",
   "metadata": {
    "id": "fH4YCfy3o0lw"
   },
   "source": [
    "## Gradient descent (GD)"
   ]
  },
  {
   "cell_type": "markdown",
   "metadata": {
    "id": "OaArQXvyqM18"
   },
   "source": [
    "GD is implemented as follows:\n",
    "\n",
    "* Randomly initialize $\\mathbf{w}$ to $\\mathbf{0}$.\n",
    "* Iterate until convergence:\n",
    "  * Calculate partial derivative of loss w.r.t. weight vector.\n",
    "  * Calculate new values of weights.\n",
    "  * Update weights to new values *simultaneously*.\n",
    "\n",
    "We use number of epochs as a convergence criteria in this implementation."
   ]
  },
  {
   "cell_type": "markdown",
   "metadata": {
    "id": "8dtAWgbzTctk"
   },
   "source": [
    "### Partial derivative of loss function\n",
    "\n",
    "Let's first implement a function to calculate partial derivative of loss function, which is obtained with the following equation:\n",
    "$$\n",
    "\\frac{\\partial}{\\partial \\mathbf{w}} J(\\mathbf{w}) = \\mathbf{X}^T \\left(\\mathbf{X}\\mathbf{w} - \\mathbf{y} \\right) \n",
    "$$\n",
    "\n",
    "The multiplication of transpose of feature matrix with the difference of predicted and actual label vectors."
   ]
  },
  {
   "cell_type": "code",
   "metadata": {
    "id": "1nsp-_wQr6II"
   },
   "source": [
    "def calculate_gradient(X, y, w):\n",
    "    \"\"\"Calculates gradients of loss function w.r.t weight vector on training set.\n",
    "\n",
    "    Arguments:\n",
    "        X: Feature matrix for training data.\n",
    "        y: Label vector for training data.\n",
    "        w: Weight vector\n",
    "\n",
    "    Returns:\n",
    "      A vector of gradients.\n",
    "    \"\"\"\n",
    "    return np.transpose(X) @ (predict(X, w) - y)"
   ],
   "execution_count": 37,
   "outputs": []
  },
  {
   "cell_type": "markdown",
   "metadata": {
    "id": "Cf4dKf8b7pf4"
   },
   "source": [
    "Let's write a test case for gradient calculation with the following setup:\n",
    "\n",
    "1. Feature matrix ($\\mathbf{X}$): \n",
    "\\begin{eqnarray}\n",
    "  \\mathbf{X}_{2 \\times 4} &=&  \\begin{bmatrix}\n",
    "      1 & 3 & 2 & 5 \\\\\n",
    "      1 & 9 & 4 & 7 \\\\\n",
    "    \\end{bmatrix} \\\\\n",
    "\\end{eqnarray}\n",
    "\n",
    "2. Weight vector ($\\mathbf{w}$):\n",
    "\\begin{eqnarray}\n",
    "  \\mathbf{w}_{4 \\times 1} &=&  \\begin{bmatrix}\n",
    "      1 \\\\\n",
    "      1 \\\\\n",
    "      1 \\\\\n",
    "      1 \\\\\n",
    "    \\end{bmatrix} \\\\\n",
    "\\end{eqnarray}\n",
    "\n",
    "3. Label vector $\\mathbf{y}$:\n",
    "  \\begin{eqnarray}\n",
    "  \\mathbf{y}_{2 \\times 1} &=&  \\begin{bmatrix}\n",
    "      6 \\\\\n",
    "      11\n",
    "    \\end{bmatrix} \\\\\n",
    "   \\end{eqnarray}\n",
    "\n"
   ]
  },
  {
   "cell_type": "markdown",
   "metadata": {
    "id": "8mmeWopRXnxM"
   },
   "source": [
    "Let's compute the partial derivative of loss $J(\\mathbf{w})$ i.e. \n",
    "\\begin{eqnarray}\n",
    "  \\frac{\\partial}{\\partial \\mathbf{w}} J(\\mathbf{w}) &=& \\mathbf{X}^T \\left(\\mathbf{X}\\mathbf{w} - \\mathbf{y} \\right)  \\\\\n",
    "     &=&  \\begin{bmatrix}\n",
    "      1 & 1 \\\\\n",
    "      3 & 9 \\\\\n",
    "      2 & 4 \\\\\n",
    "      5 & 7 \\\\\n",
    "    \\end{bmatrix}      \n",
    "     \\left( \\begin{bmatrix}\n",
    "        \\color{blue}{1} & \\color{blue}{3} & \\color{blue}{2} & \\color{blue}{5} \\\\\n",
    "        \\color{purple}{1} & \\color{purple}{9} & \\color{purple}{4} & \\color{purple}{7} \\\\\n",
    "      \\end{bmatrix}\n",
    "    \\times \n",
    "    \\begin{bmatrix}\n",
    "      \\color{red}{1} \\\\\n",
    "      \\color{red}{1} \\\\\n",
    "      \\color{red}{1} \\\\\n",
    "      \\color{red}{1} \n",
    "    \\end{bmatrix} - \\begin{bmatrix}\n",
    "      6 \\\\\n",
    "      11\n",
    "    \\end{bmatrix}\n",
    "      \\right) \\\\\n",
    "    &=& \\begin{bmatrix}\n",
    "      1 & 1 \\\\\n",
    "      3 & 9 \\\\\n",
    "      2 & 4 \\\\\n",
    "      5 & 7 \\\\\n",
    "    \\end{bmatrix} \\left(\n",
    "      \\begin{bmatrix}\n",
    "      11 \\\\\n",
    "      21\n",
    "    \\end{bmatrix} - \n",
    "    \\begin{bmatrix}\n",
    "      6 \\\\\n",
    "      11\n",
    "    \\end{bmatrix}\n",
    "      \\right) \\\\\n",
    "    &=& \\begin{bmatrix}\n",
    "      1 & 1 \\\\\n",
    "      3 & 9 \\\\\n",
    "      2 & 4 \\\\\n",
    "      5 & 7 \\\\\n",
    "    \\end{bmatrix}\n",
    "      \\left(\n",
    "      \\begin{bmatrix}\n",
    "      5 \\\\\n",
    "      10\n",
    "    \\end{bmatrix} \n",
    "      \\right)  \\\\\n",
    "  &=& \n",
    "      \\begin{bmatrix}\n",
    "      1 \\times 5 + 1 \\times 10 \\\\\n",
    "      3 \\times 5 + 9 \\times 10 \\\\\n",
    "      2 \\times 5 + 4 \\times 10 \\\\\n",
    "      5 \\times 5 + 7 \\times 10 \\\\\n",
    "    \\end{bmatrix} \\\\\n",
    "  &=& \n",
    "      \\begin{bmatrix}\n",
    "      15 \\\\\n",
    "      105 \\\\\n",
    "      50 \\\\\n",
    "      95 \\\\\n",
    "    \\end{bmatrix} \\\\\n",
    "\\end{eqnarray}"
   ]
  },
  {
   "cell_type": "code",
   "metadata": {
    "colab": {
     "base_uri": "https://localhost:8080/"
    },
    "id": "0SZJc2-WZ_LF",
    "outputId": "c962e0ec-5f82-4ee9-ad3e-f7edd4e8e652"
   },
   "source": [
    "class TestCalculateGradient(unittest.TestCase):\n",
    "    def test_calculate_gradient(self):\n",
    "        \"\"\"\n",
    "        Test case for gradient calculation.'\n",
    "        \"\"\"\n",
    "        # set up\n",
    "        feature_matrix = np.array([[1, 3, 2, 5], [1, 9, 4, 7]])\n",
    "        weight_vector = np.array([1, 1, 1, 1])\n",
    "        label_vector = np.array([6, 11])\n",
    "        expected_grad = np.array([15, 105, 50, 95])\n",
    "\n",
    "        # call\n",
    "        grad = calculate_gradient(feature_matrix, label_vector, weight_vector)\n",
    "\n",
    "        # asserts\n",
    "        # test the shape\n",
    "        self.assertEqual(grad.shape, (4,))\n",
    "\n",
    "        # and contents\n",
    "        np.testing.assert_array_almost_equal(expected_grad, grad, decimal=0)\n",
    "\n",
    "\n",
    "unittest.main(argv=[\"\"], defaultTest=\"TestCalculateGradient\", verbosity=2, exit=False)"
   ],
   "execution_count": 38,
   "outputs": [
    {
     "output_type": "stream",
     "name": "stderr",
     "text": [
      "test_calculate_gradient (__main__.TestCalculateGradient)\n",
      "Test case for gradient calculation.' ... ok\n",
      "\n",
      "----------------------------------------------------------------------\n",
      "Ran 1 test in 0.004s\n",
      "\n",
      "OK\n"
     ]
    },
    {
     "output_type": "execute_result",
     "data": {
      "text/plain": [
       "<unittest.main.TestProgram at 0x7f6b6193d4d0>"
      ]
     },
     "metadata": {},
     "execution_count": 38
    }
   ]
  },
  {
   "cell_type": "markdown",
   "metadata": {
    "id": "y-r3DzovbPfu"
   },
   "source": [
    "### Weight updates\n",
    "\n",
    "Next let's implement the weight update part:\n",
    "* We obtain the new weight from the old one by substracting gradient weighted by the learning rate.\n"
   ]
  },
  {
   "cell_type": "code",
   "metadata": {
    "id": "me23fL8-bX5L"
   },
   "source": [
    "def update_weights(w, grad, lr):\n",
    "    \"\"\"Updates the weights based on the gradient of loss function.\n",
    "\n",
    "    Weight updates are carried out with the following formula:\n",
    "        w_new := w_old - lr * grad\n",
    "\n",
    "    Args:\n",
    "      1. w: weight vector\n",
    "      2. grad: gradient of loss w.r.t. w\n",
    "      3. lr: learning rate\n",
    "\n",
    "    Returns:\n",
    "      Updated weight vector\n",
    "    \"\"\"\n",
    "    return w - lr * grad"
   ],
   "execution_count": 39,
   "outputs": []
  },
  {
   "cell_type": "markdown",
   "metadata": {
    "id": "lTKH6ZzgcDoR"
   },
   "source": [
    "Let's workout a weight update for:\n",
    "\n",
    "1. Weight vector ($\\mathbf{w}$):\n",
    "\\begin{eqnarray}\n",
    "  \\mathbf{w}_{4 \\times 1} &=&  \\begin{bmatrix}\n",
    "      1 \\\\\n",
    "      1 \\\\\n",
    "      1 \\\\\n",
    "      1 \\\\\n",
    "    \\end{bmatrix} \\\\\n",
    "\\end{eqnarray}\n",
    "\n",
    "2. Grad vector $\\mathbf{g}$:\n",
    "  \\begin{eqnarray}\n",
    "  {\\mathbf{g}}_{4 \\times 1} &=&  \\begin{bmatrix}\n",
    "      15 \\\\\n",
    "      105 \\\\\n",
    "      50 \\\\\n",
    "      95\n",
    "    \\end{bmatrix} \\\\\n",
    "   \\end{eqnarray}\n",
    "\n",
    "3. Learning rate = 0.001\n"
   ]
  },
  {
   "cell_type": "markdown",
   "metadata": {
    "id": "cK3czOmDcyfF"
   },
   "source": [
    "The updated weights are given by:\\begin{eqnarray}\n",
    "  \\mathbf{w} &:=& \\mathbf{w}^\\mathrm{(old)} - \\alpha \\ \\mathbf{g} \\\\\n",
    "     &=&  \\begin{bmatrix}\n",
    "      1 \\\\\n",
    "      1 \\\\\n",
    "      1 \\\\\n",
    "      1 \\\\\n",
    "    \\end{bmatrix} - 0.001 \\times\n",
    "    \\begin{bmatrix}\n",
    "      15 \\\\\n",
    "      105 \\\\\n",
    "      50 \\\\\n",
    "      95 \\\\\n",
    "      \\end{bmatrix}\\\\\n",
    "    &=& \\begin{bmatrix}\n",
    "      1 - 0.001 \\times 15  \\\\\n",
    "      1 - 0.001 \\times 105 \\\\\n",
    "      1 - 0.001 \\times 50  \\\\\n",
    "      1 - 0.001 \\times 95  \\\\\n",
    "    \\end{bmatrix} \\\\\n",
    "    &=& \\begin{bmatrix}\n",
    "      1 - 0.015 \\\\\n",
    "      1 - 0.105 \\\\\n",
    "      1 - 0.05 \\\\\n",
    "      1 - 0.095 \\\\\n",
    "    \\end{bmatrix}\\\\\n",
    "    &=& \n",
    "      \\begin{bmatrix}\n",
    "      0.985 \\\\\n",
    "      0.895 \\\\\n",
    "      0.95 \\\\\n",
    "      0.905 \\\\\n",
    "    \\end{bmatrix} \\\\\n",
    "\\end{eqnarray}"
   ]
  },
  {
   "cell_type": "code",
   "metadata": {
    "colab": {
     "base_uri": "https://localhost:8080/"
    },
    "id": "HikkO0b0fGu9",
    "outputId": "30781002-c2a2-4e4f-e7ec-c445c1cd9cfe"
   },
   "source": [
    "class TestUpdateWeights(unittest.TestCase):\n",
    "    def test_update_weights(self):\n",
    "        \"\"\"\n",
    "        Test case for weight update in GD.'\n",
    "        \"\"\"\n",
    "        # set up\n",
    "        weight_vector = np.array([1, 1, 1, 1])\n",
    "        grad_vector = np.array([15, 105, 50, 95])\n",
    "        lr = 0.001\n",
    "        expected_w_new = np.array([0.985, 0.895, 0.95, 0.905])\n",
    "\n",
    "        # call\n",
    "        w_new = update_weights(weight_vector, grad_vector, lr)\n",
    "\n",
    "        # asserts\n",
    "        # test the shape\n",
    "        self.assertEqual(expected_w_new.shape, (4,))\n",
    "\n",
    "        # and contents\n",
    "        np.testing.assert_array_almost_equal(expected_w_new, w_new, decimal=1)\n",
    "\n",
    "\n",
    "unittest.main(argv=[\"\"], defaultTest=\"TestUpdateWeights\", verbosity=2, exit=False)"
   ],
   "execution_count": 40,
   "outputs": [
    {
     "output_type": "stream",
     "name": "stderr",
     "text": [
      "test_update_weights (__main__.TestUpdateWeights)\n",
      "Test case for weight update in GD.' ... ok\n",
      "\n",
      "----------------------------------------------------------------------\n",
      "Ran 1 test in 0.005s\n",
      "\n",
      "OK\n"
     ]
    },
    {
     "output_type": "execute_result",
     "data": {
      "text/plain": [
       "<unittest.main.TestProgram at 0x7f6b61764310>"
      ]
     },
     "metadata": {},
     "execution_count": 40
    }
   ]
  },
  {
   "cell_type": "markdown",
   "metadata": {
    "id": "xCcdGIbPf1QZ"
   },
   "source": [
    "With these building blocks in place, let's implement gradient descent procedure:"
   ]
  },
  {
   "cell_type": "code",
   "metadata": {
    "id": "rftnlnYjo2gV"
   },
   "source": [
    "def gradient_descent(X: np.ndarray, y: np.ndarray, lr: float, num_epochs: int):\n",
    "    \"\"\"Estimates parameters of linear regression model through gradient descent.\n",
    "\n",
    "    Arguments:\n",
    "      X: Feature matrix for training data.\n",
    "      y: Label vector for training data.\n",
    "      lr: learning rate\n",
    "      num_epochs: Number of training steps\n",
    "\n",
    "    Returns:\n",
    "      Weight vector: Final weight vector\n",
    "      Error vector across different iterations\n",
    "      Weight vectors across different iterations\n",
    "    \"\"\"\n",
    "    w_all = []  # all parameters across iterations.\n",
    "    err_all = []  # all errors across iterations.\n",
    "\n",
    "    # Parameter vector initialized to [0, 0]\n",
    "    w = np.zeros((X.shape[1]))\n",
    "\n",
    "    # Gradient descent loop\n",
    "    print()\n",
    "    for i in np.arange(0, num_epochs):\n",
    "        w_all.append(w)\n",
    "\n",
    "        # Calculate error due to the current weigh vector: Note that here we use\n",
    "        # loss function to calculate the loss.\n",
    "        err_all.append(loss(X, y, w))\n",
    "\n",
    "        # Gradient calculation\n",
    "        dJdW = calculate_gradient(X, y, w)\n",
    "\n",
    "        # Print stats every 100 iterations\n",
    "        if (i % 100) == 0:\n",
    "            print(\"Iteration #: %d, loss: %4.2f\" % (i, err_all[-1]))\n",
    "\n",
    "        # Weight vector update.\n",
    "        w = update_weights(w, dJdW, lr)\n",
    "\n",
    "    return w, err_all, w_all"
   ],
   "execution_count": 41,
   "outputs": []
  },
  {
   "cell_type": "markdown",
   "metadata": {
    "id": "8-9h_dbuq8zD"
   },
   "source": [
    "In order to test this function, we will use the synthetic training data that was generated earlier.  We know the actual weights, that can be compared against the weights obtained from gradient descent procedure."
   ]
  },
  {
   "cell_type": "code",
   "metadata": {
    "colab": {
     "base_uri": "https://localhost:8080/"
    },
    "id": "4KOkfPKmq-HH",
    "outputId": "63f35d6a-48ff-4417-e903-8381751f93d4"
   },
   "source": [
    "class TestGradientDescent(unittest.TestCase):\n",
    "    def test_gradient_descent(self):\n",
    "        \"\"\"\n",
    "        Test case for weight estimation for linear regression with\n",
    "        gradient descent method.'\n",
    "        \"\"\"\n",
    "        # set up\n",
    "        feature_matrix = X_train\n",
    "        label_vector = y_train\n",
    "        expected_weights = np.array([4.0, 3.0])\n",
    "\n",
    "        # call\n",
    "        w, err_all, w_all = gradient_descent(feature_matrix, label_vector, lr=0.0001, num_epochs=2000)\n",
    "\n",
    "        # asserts\n",
    "        # test the shape\n",
    "        self.assertEqual(w.shape, (2,))\n",
    "\n",
    "        # and contents\n",
    "        np.testing.assert_array_almost_equal(expected_weights, w, decimal=0)\n",
    "\n",
    "\n",
    "unittest.main(argv=[\"\"], defaultTest=\"TestGradientDescent\", verbosity=2, exit=False)"
   ],
   "execution_count": 42,
   "outputs": [
    {
     "output_type": "stream",
     "name": "stderr",
     "text": [
      "test_gradient_descent (__main__.TestGradientDescent)\n",
      "Test case for weight estimation for linear regression with ... "
     ]
    },
    {
     "output_type": "stream",
     "name": "stdout",
     "text": [
      "\n",
      "Iteration #: 0, loss: 20200.29\n",
      "Iteration #: 100, loss: 125.33\n",
      "Iteration #: 200, loss: 103.74\n",
      "Iteration #: 300, loss: 87.76\n",
      "Iteration #: 400, loss: 75.94\n",
      "Iteration #: 500, loss: 67.20\n",
      "Iteration #: 600, loss: 60.73\n",
      "Iteration #: 700, loss: 55.94\n",
      "Iteration #: 800, loss: 52.40\n",
      "Iteration #: 900, loss: 49.78\n",
      "Iteration #: 1000, loss: 47.84\n",
      "Iteration #: 1100, loss: 46.41\n",
      "Iteration #: 1200, loss: 45.35\n",
      "Iteration #: 1300, loss: 44.56\n",
      "Iteration #: 1400, loss: 43.98\n",
      "Iteration #: 1500, loss: 43.55\n",
      "Iteration #: 1600, loss: 43.23\n",
      "Iteration #: 1700, loss: 43.00\n",
      "Iteration #: 1800, loss: 42.83\n",
      "Iteration #: 1900, loss: 42.70\n"
     ]
    },
    {
     "output_type": "stream",
     "name": "stderr",
     "text": [
      "ok\n",
      "\n",
      "----------------------------------------------------------------------\n",
      "Ran 1 test in 0.043s\n",
      "\n",
      "OK\n"
     ]
    },
    {
     "output_type": "execute_result",
     "data": {
      "text/plain": [
       "<unittest.main.TestProgram at 0x7f6b61770fd0>"
      ]
     },
     "metadata": {},
     "execution_count": 42
    }
   ]
  },
  {
   "cell_type": "markdown",
   "metadata": {
    "id": "Gczvm1fmkomh"
   },
   "source": [
    "Since we store weights in each iteration, we can use them to plot intermediate models in order to understand the trajectory taken by GD.\n",
    "\n",
    "In the following code:\n",
    "* `err_all` contains loss values across all iterations and \n",
    "* `w_all` contains weight vectors across all iterations.\n",
    "\n"
   ]
  },
  {
   "cell_type": "code",
   "metadata": {
    "colab": {
     "base_uri": "https://localhost:8080/"
    },
    "id": "LueekFzqni7l",
    "outputId": "d8f3228a-b797-4f9b-9190-843200970c2c"
   },
   "source": [
    "w, err_all, w_all = gradient_descent(X_train, y_train, lr=0.00001, num_epochs=200)"
   ],
   "execution_count": 43,
   "outputs": [
    {
     "output_type": "stream",
     "name": "stdout",
     "text": [
      "\n",
      "Iteration #: 0, loss: 20200.29\n",
      "Iteration #: 100, loss: 178.86\n"
     ]
    }
   ]
  },
  {
   "cell_type": "code",
   "metadata": {
    "colab": {
     "base_uri": "https://localhost:8080/",
     "height": 0
    },
    "id": "RXUTEmfHkwgF",
    "outputId": "45ee1539-11d3-4f41-8c93-031ce428504f"
   },
   "source": [
    "# @title [Plot model trajectory]\n",
    "X_b = np.c_[np.ones((X.shape[0], 1)), X]  # add x0 = 1 to each instance\n",
    "X_new = np.array([[0], [10]])\n",
    "X_new_b = np.c_[np.ones((2, 1)), X_new]  # add x0 = 1 to each instance\n",
    "\n",
    "for j in range(0, len(w_all)):\n",
    "    if j % 10 != 0:\n",
    "        continue\n",
    "    y_hat = predict(X_new_b, w_all[j])\n",
    "    style = \"b-\" if j > 0 else \"r--\"\n",
    "    plt.plot(X_new_b[:, 1], y_hat, style)\n",
    "\n",
    "plt.plot(X_train[:, 1], y_train, \"b.\")\n",
    "plt.xlabel(\"$x_1$\", fontsize=18)\n",
    "plt.ylabel(\"$y$\", rotation=0, fontsize=18)\n",
    "plt.title(\"Gradient Descent\", fontsize=18)\n",
    "plt.axis([0, 10, 0, 40])\n",
    "plt.show()"
   ],
   "execution_count": 44,
   "outputs": [
    {
     "output_type": "display_data",
     "data": {
      "text/plain": [
       "<Figure size 432x288 with 1 Axes>"
      ],
      "image/png": "[encoded data removed]"
     },
     "metadata": {}
    }
   ]
  },
  {
   "cell_type": "markdown",
   "metadata": {
    "id": "fqRCsxPCtcGF"
   },
   "source": [
    "Let's plot the learning curves."
   ]
  },
  {
   "cell_type": "code",
   "metadata": {
    "id": "EOK7hyd4ta2h"
   },
   "source": [
    "def plot_learning_curves(err_all):\n",
    "    plt.plot(err_all)\n",
    "    plt.xlabel(\"iteration #\")\n",
    "    plt.ylabel(\"Loss: $J(\\mathbf{w})$\")"
   ],
   "execution_count": 45,
   "outputs": []
  },
  {
   "cell_type": "code",
   "metadata": {
    "colab": {
     "base_uri": "https://localhost:8080/",
     "height": 0
    },
    "id": "rVX7gWSDtiUt",
    "outputId": "142302db-b6c3-404f-ba3f-9f1247f9eff7"
   },
   "source": [
    "w, err_all, w_all = gradient_descent(X_train, y_train, lr=0.0001, num_epochs=2000)\n",
    "plot_learning_curves(err_all)"
   ],
   "execution_count": 46,
   "outputs": [
    {
     "output_type": "stream",
     "name": "stdout",
     "text": [
      "\n",
      "Iteration #: 0, loss: 20200.29\n",
      "Iteration #: 100, loss: 125.33\n",
      "Iteration #: 200, loss: 103.74\n",
      "Iteration #: 300, loss: 87.76\n",
      "Iteration #: 400, loss: 75.94\n",
      "Iteration #: 500, loss: 67.20\n",
      "Iteration #: 600, loss: 60.73\n",
      "Iteration #: 700, loss: 55.94\n",
      "Iteration #: 800, loss: 52.40\n",
      "Iteration #: 900, loss: 49.78\n",
      "Iteration #: 1000, loss: 47.84\n",
      "Iteration #: 1100, loss: 46.41\n",
      "Iteration #: 1200, loss: 45.35\n",
      "Iteration #: 1300, loss: 44.56\n",
      "Iteration #: 1400, loss: 43.98\n",
      "Iteration #: 1500, loss: 43.55\n",
      "Iteration #: 1600, loss: 43.23\n",
      "Iteration #: 1700, loss: 43.00\n",
      "Iteration #: 1800, loss: 42.83\n",
      "Iteration #: 1900, loss: 42.70\n"
     ]
    },
    {
     "output_type": "display_data",
     "data": {
      "text/plain": [
       "<Figure size 432x288 with 1 Axes>"
      ],
      "image/png": "[encoded data removed]"
     },
     "metadata": {}
    }
   ]
  },
  {
   "cell_type": "markdown",
   "metadata": {
    "id": "7mmMRI6xhESE"
   },
   "source": [
    "## Learning rate and convergence\n",
    "\n",
    "Let's vary the learning rate and observe change in the convergence characteristics of GD.\n",
    "\n",
    "We will use:\n",
    "* $\\alpha=\\{1e-6, 1e-4, 1e-1\\}$ to run GD for 2000 epochs each.\n",
    "* Compare the convergence characteristics."
   ]
  },
  {
   "cell_type": "code",
   "metadata": {
    "colab": {
     "base_uri": "https://localhost:8080/",
     "height": 711
    },
    "id": "QnQbgwS6g9ZR",
    "outputId": "7c7772b9-7c8c-4f68-8eba-37fa67dbb78b"
   },
   "source": [
    "w, err_all, w_all = gradient_descent(X_train, y_train, lr=1e-6, num_epochs=2000)\n",
    "plot_learning_curves(err_all)\n",
    "plt.title(\"lr=1e-6\")"
   ],
   "execution_count": 47,
   "outputs": [
    {
     "output_type": "stream",
     "name": "stdout",
     "text": [
      "\n",
      "Iteration #: 0, loss: 20200.29\n",
      "Iteration #: 100, loss: 10630.93\n",
      "Iteration #: 200, loss: 5629.42\n",
      "Iteration #: 300, loss: 3015.27\n",
      "Iteration #: 400, loss: 1648.85\n",
      "Iteration #: 500, loss: 934.54\n",
      "Iteration #: 600, loss: 561.06\n",
      "Iteration #: 700, loss: 365.70\n",
      "Iteration #: 800, loss: 263.44\n",
      "Iteration #: 900, loss: 209.84\n",
      "Iteration #: 1000, loss: 181.67\n",
      "Iteration #: 1100, loss: 166.79\n",
      "Iteration #: 1200, loss: 158.86\n",
      "Iteration #: 1300, loss: 154.56\n",
      "Iteration #: 1400, loss: 152.16\n",
      "Iteration #: 1500, loss: 150.75\n",
      "Iteration #: 1600, loss: 149.86\n",
      "Iteration #: 1700, loss: 149.24\n",
      "Iteration #: 1800, loss: 148.77\n",
      "Iteration #: 1900, loss: 148.37\n"
     ]
    },
    {
     "output_type": "execute_result",
     "data": {
      "text/plain": [
       "Text(0.5, 1.0, 'lr=1e-6')"
      ]
     },
     "metadata": {},
     "execution_count": 47
    },
    {
     "output_type": "display_data",
     "data": {
      "text/plain": [
       "<Figure size 432x288 with 1 Axes>"
      ],
      "image/png": "[encoded data removed]"
     },
     "metadata": {}
    }
   ]
  },
  {
   "cell_type": "code",
   "metadata": {
    "colab": {
     "base_uri": "https://localhost:8080/",
     "height": 711
    },
    "id": "GffdmOa1hVVL",
    "outputId": "01b40e39-b37f-4860-f0a3-5875329f0a27"
   },
   "source": [
    "w, err_all, w_all = gradient_descent(X_train, y_train, lr=1e-4, num_epochs=2000)\n",
    "plot_learning_curves(err_all)\n",
    "\n",
    "plt.title(\"lr=1e-4\")"
   ],
   "execution_count": 48,
   "outputs": [
    {
     "output_type": "stream",
     "name": "stdout",
     "text": [
      "\n",
      "Iteration #: 0, loss: 20200.29\n",
      "Iteration #: 100, loss: 125.33\n",
      "Iteration #: 200, loss: 103.74\n",
      "Iteration #: 300, loss: 87.76\n",
      "Iteration #: 400, loss: 75.94\n",
      "Iteration #: 500, loss: 67.20\n",
      "Iteration #: 600, loss: 60.73\n",
      "Iteration #: 700, loss: 55.94\n",
      "Iteration #: 800, loss: 52.40\n",
      "Iteration #: 900, loss: 49.78\n",
      "Iteration #: 1000, loss: 47.84\n",
      "Iteration #: 1100, loss: 46.41\n",
      "Iteration #: 1200, loss: 45.35\n",
      "Iteration #: 1300, loss: 44.56\n",
      "Iteration #: 1400, loss: 43.98\n",
      "Iteration #: 1500, loss: 43.55\n",
      "Iteration #: 1600, loss: 43.23\n",
      "Iteration #: 1700, loss: 43.00\n",
      "Iteration #: 1800, loss: 42.83\n",
      "Iteration #: 1900, loss: 42.70\n"
     ]
    },
    {
     "output_type": "execute_result",
     "data": {
      "text/plain": [
       "Text(0.5, 1.0, 'lr=1e-4')"
      ]
     },
     "metadata": {},
     "execution_count": 48
    },
    {
     "output_type": "display_data",
     "data": {
      "text/plain": [
       "<Figure size 432x288 with 1 Axes>"
      ],
      "image/png": "[encoded data removed]"
     },
     "metadata": {}
    }
   ]
  },
  {
   "cell_type": "markdown",
   "metadata": {
    "id": "cZQQ8RKihoML"
   },
   "source": [
    "Let's try learning rate $\\alpha=1e-1$ (Doesn't converge)"
   ]
  },
  {
   "cell_type": "code",
   "metadata": {
    "colab": {
     "base_uri": "https://localhost:8080/",
     "height": 838
    },
    "id": "1C0a8PjiiKcr",
    "outputId": "da8a6a86-74fb-4d53-e6a4-56abec3cdd1a"
   },
   "source": [
    "w, err_all, w_all = gradient_descent(X_train, y_train, lr=1e-1, num_epochs=2000)\n",
    "plot_learning_curves(err_all)\n",
    "plt.title(\"lr=0.1\")"
   ],
   "execution_count": 49,
   "outputs": [
    {
     "output_type": "stream",
     "name": "stdout",
     "text": [
      "\n",
      "Iteration #: 0, loss: 20200.29\n",
      "Iteration #: 100, loss:  inf\n",
      "Iteration #: 200, loss:  nan\n",
      "Iteration #: 300, loss:  nan\n",
      "Iteration #: 400, loss:  nan\n",
      "Iteration #: 500, loss:  nan\n",
      "Iteration #: 600, loss:  nan\n",
      "Iteration #: 700, loss:  nan\n",
      "Iteration #: 800, loss:  nan\n",
      "Iteration #: 900, loss:  nan\n",
      "Iteration #: 1000, loss:  nan\n",
      "Iteration #: 1100, loss:  nan\n",
      "Iteration #: 1200, loss:  nan\n",
      "Iteration #: 1300, loss:  nan\n",
      "Iteration #: 1400, loss:  nan\n",
      "Iteration #: 1500, loss:  nan\n",
      "Iteration #: 1600, loss:  nan\n",
      "Iteration #: 1700, loss:  nan\n",
      "Iteration #: 1800, loss:  nan\n",
      "Iteration #: 1900, loss:  nan\n"
     ]
    },
    {
     "output_type": "stream",
     "name": "stderr",
     "text": [
      "/usr/local/lib/python3.7/dist-packages/ipykernel_launcher.py:13: RuntimeWarning: overflow encountered in matmul\n",
      "  del sys.path[0]\n",
      "/usr/local/lib/python3.7/dist-packages/ipykernel_launcher.py:12: RuntimeWarning: overflow encountered in matmul\n",
      "  if sys.path[0] == '':\n",
      "/usr/local/lib/python3.7/dist-packages/ipykernel_launcher.py:15: RuntimeWarning: invalid value encountered in subtract\n",
      "  from ipykernel import kernelapp as app\n"
     ]
    },
    {
     "output_type": "execute_result",
     "data": {
      "text/plain": [
       "Text(0.5, 1.0, 'lr=0.1')"
      ]
     },
     "metadata": {},
     "execution_count": 49
    },
    {
     "output_type": "display_data",
     "data": {
      "text/plain": [
       "<Figure size 432x288 with 1 Axes>"
      ],
      "image/png": "[encoded data removed]"
     },
     "metadata": {}
    }
   ]
  },
  {
   "cell_type": "markdown",
   "metadata": {
    "id": "NWz4I0ktjht_"
   },
   "source": [
    "# Linear regression: combining all components\n",
    "\n",
    "Let's combine all components that we implemented in last few sections in a single place and make it available for training linear regression model on different datasets.\n",
    "\n"
   ]
  },
  {
   "cell_type": "code",
   "metadata": {
    "id": "S9YUnOwOjht_"
   },
   "source": [
    "from IPython.display import display, Math, Latex  # Imported for proper rendering of latex in colab.\n",
    "\n",
    "import numpy as np\n",
    "\n",
    "# Import for generating plots\n",
    "import matplotlib.pyplot as plt\n",
    "import seaborn as sns\n",
    "\n",
    "%matplotlib inline"
   ],
   "execution_count": 50,
   "outputs": []
  },
  {
   "cell_type": "markdown",
   "metadata": {
    "id": "vLM_BA45jht_"
   },
   "source": [
    "Let's combine implementation of different components of Linear Regression that we implemented so far into a single `LinearRegression` class."
   ]
  },
  {
   "cell_type": "code",
   "metadata": {
    "id": "lNCxXeKcdVl3"
   },
   "source": [
    "class LinReg(object):\n",
    "    \"\"\"\n",
    "    Linear regression model\n",
    "    -----------------------\n",
    "    y = X@w\n",
    "    X: A feature matrix\n",
    "    w: weight vector\n",
    "    y: label vector\n",
    "    \"\"\"\n",
    "\n",
    "    def __init__(self):\n",
    "        self.t0 = 200\n",
    "        self.t1 = 100000\n",
    "\n",
    "    def predict(self, X: np.ndarray) -> np.ndarray:\n",
    "        \"\"\"Prediction of output label for a given input.\n",
    "\n",
    "        Args:\n",
    "          X: Feature matrix for given inputs.\n",
    "\n",
    "        Returns:\n",
    "          y: Output label vector as predicted by the given model.\n",
    "        \"\"\"\n",
    "        y = X @ self.w\n",
    "        return y\n",
    "\n",
    "    def loss(self, X: np.ndarray, y: np.ndarray) -> float:\n",
    "        \"\"\"Calculates loss for a model based on known labels.\n",
    "\n",
    "        Args:\n",
    "          X: Feature matrix for given inputs.\n",
    "          y: Output label vector as predicted by the given model.\n",
    "\n",
    "        Returns:\n",
    "          Loss\n",
    "        \"\"\"\n",
    "        e = y - self.predict(X)\n",
    "        return (1 / 2) * (np.transpose(e) @ e)\n",
    "\n",
    "    def rmse(self, X: np.ndarray, y: np.ndarray) -> float:\n",
    "        \"\"\"Calculates root mean squared error of prediction w.r.t. actual label.\n",
    "\n",
    "        Args:\n",
    "          X: Feature matrix for given inputs.\n",
    "          y: Output label vector as predicted by the given model.\n",
    "\n",
    "        Returns:\n",
    "          Loss\n",
    "        \"\"\"\n",
    "        return np.sqrt((2 / X.shape[0]) * self.loss(X, y))\n",
    "\n",
    "    def fit(self, X: np.ndarray, y: np.ndarray) -> np.ndarray:\n",
    "        \"\"\"Estimates parameters of the linear regression model with normal equation.\n",
    "\n",
    "        Args:\n",
    "          X: Feature matrix for given inputs.\n",
    "          y: Output label vector as predicted by the given model.\n",
    "\n",
    "        Returns:\n",
    "          Weight vector\n",
    "        \"\"\"\n",
    "        self.w = np.linalg.pinv(X) @ y\n",
    "        return self.w\n",
    "\n",
    "    def calculate_gradient(self, X: np.ndarray, y: np.ndarray) -> np.ndarray:\n",
    "        \"\"\"Calculates gradients of loss function w.r.t weight vector on training set.\n",
    "\n",
    "        Arguments:\n",
    "            X: Feature matrix for training data.\n",
    "            y: Label vector for training data.\n",
    "\n",
    "        Returns:\n",
    "          A vector of gradients.\n",
    "        \"\"\"\n",
    "        return np.transpose(X) @ (self.predict(X) - y)\n",
    "\n",
    "    def update_weights(self, grad: np.ndarray, lr: float) -> np.ndarray:\n",
    "        \"\"\"Updates the weights based on the gradient of loss function.\n",
    "\n",
    "        Weight updates are carried out with the following formula:\n",
    "            w_new := w_old - lr * grad\n",
    "\n",
    "        Args:\n",
    "          2. grad: gradient of loss w.r.t. w\n",
    "          3. lr: learning rate\n",
    "\n",
    "        Returns:\n",
    "          Updated weight vector\n",
    "        \"\"\"\n",
    "        return self.w - lr * grad\n",
    "\n",
    "    def learning_schedule(self, t):\n",
    "        return self.t0 / (t + self.t1)\n",
    "\n",
    "    def gd(self, X: np.ndarray, y: np.ndarray, num_epochs: int, lr: float) -> np.ndarray:\n",
    "        \"\"\"Estimates parameters of linear regression model through gradient descent.\n",
    "\n",
    "        Args:\n",
    "          X: Feature matrix for training data.\n",
    "          y: Label vector for training data.\n",
    "          num_epochs: Number of training steps\n",
    "          lr: Learning rate\n",
    "\n",
    "        Returns:\n",
    "          Weight vector: Final weight vector\n",
    "        \"\"\"\n",
    "        self.w = np.zeros((X.shape[1]))\n",
    "        self.w_all = []\n",
    "        self.err_all = []\n",
    "        for i in np.arange(0, num_epochs):\n",
    "            dJdW = self.calculate_gradient(X, y)\n",
    "            self.w_all.append(self.w)\n",
    "            self.err_all.append(self.loss(X, y))\n",
    "            self.w = self.update_weights(dJdW, lr)\n",
    "        return self.w\n",
    "\n",
    "    def mbgd(self, X: np.ndarray, y: np.ndarray, num_epochs: int, batch_size: int) -> np.ndarray:\n",
    "        \"\"\"Estimates parameters of linear regression model through gradient descent.\n",
    "\n",
    "        Args:\n",
    "          X: Feature matrix for training data.\n",
    "          y: Label vector for training data.\n",
    "          num_epochs: Number of training steps\n",
    "          batch_size: Number of examples in a batch\n",
    "\n",
    "        Returns:\n",
    "          Weight vector: Final weight vector\n",
    "        \"\"\"\n",
    "        self.w = np.zeros((X.shape[1]))\n",
    "        self.w_all = []\n",
    "        self.err_all = []\n",
    "        mini_batch_id = 0\n",
    "\n",
    "        for epoch in range(num_epochs):\n",
    "            shuffled_indices = np.random.permutation(X.shape[0])\n",
    "            X_shuffled = X[shuffled_indices]\n",
    "            y_shuffled = y[shuffled_indices]\n",
    "            for i in range(0, X.shape[0], batch_size):\n",
    "                mini_batch_id += 1\n",
    "                xi = X_shuffled[i : i + batch_size]\n",
    "                yi = y_shuffled[i : i + batch_size]\n",
    "\n",
    "                self.w_all.append(self.w)\n",
    "                self.err_all.append(self.loss(xi, yi))\n",
    "\n",
    "                dJdW = 2 / batch_size * self.calculate_gradient(xi, yi)\n",
    "                self.w = self.update_weights(dJdW, self.learning_schedule(mini_batch_id))\n",
    "        return self.w\n",
    "\n",
    "    def sgd(self, X: np.ndarray, y: np.ndarray, num_epochs: int) -> np.ndarray:\n",
    "        \"\"\"Estimates parameters of linear regression model through gradient descent.\n",
    "\n",
    "        Args:\n",
    "          X: Feature matrix for training data.\n",
    "          y: Label vector for training data.\n",
    "          num_epochs: Number of training steps\n",
    "          batch_size: Number of examples in a batch\n",
    "\n",
    "        Returns:\n",
    "          Weight vector: Final weight vector\n",
    "        \"\"\"\n",
    "        # Parameter vector initialized to [0, 0]\n",
    "        self.w = np.zeros((X.shape[1]))\n",
    "        self.w_all = []\n",
    "        self.err_all = []\n",
    "        for epoch in range(num_epochs):\n",
    "            for i in range(X.shape[0]):\n",
    "                random_index = np.random.randint(X.shape[0])\n",
    "                xi = X[random_index : random_index + 1]\n",
    "                yi = y[random_index : random_index + 1]\n",
    "\n",
    "                self.w_all.append(self.w)\n",
    "                self.err_all.append(self.loss(xi, yi))\n",
    "\n",
    "                gradients = 2 * self.calculate_gradient(xi, yi)\n",
    "                lr = self.learning_schedule(epoch * X.shape[0] + i)\n",
    "                self.w = self.update_weights(gradients, lr)\n",
    "\n",
    "        return self.w"
   ],
   "execution_count": 51,
   "outputs": []
  },
  {
   "cell_type": "code",
   "metadata": {
    "id": "QFTBXuyr90QC"
   },
   "source": [
    "X, y = generate_data(100)\n",
    "X_train, X_test, y_train, y_test = preprocess(X, y)"
   ],
   "execution_count": 52,
   "outputs": []
  },
  {
   "cell_type": "markdown",
   "metadata": {
    "id": "_GoCkkZJ3Gmx"
   },
   "source": [
    "Let's compare weight vectors obtained by normal equation, GD, MBGD and SGD:"
   ]
  },
  {
   "cell_type": "code",
   "metadata": {
    "colab": {
     "base_uri": "https://localhost:8080/"
    },
    "id": "edd0Wsej3Rs_",
    "outputId": "055c2b18-28dd-4489-f3d1-36bb65060449"
   },
   "source": [
    "# normal equation\n",
    "lin_reg = LinReg()\n",
    "lin_reg.fit(X_train, y_train)\n",
    "print(\"Weight vector (normal equation): \", lin_reg.w)"
   ],
   "execution_count": 53,
   "outputs": [
    {
     "output_type": "stream",
     "name": "stdout",
     "text": [
      "Weight vector (normal equation):  [4.40391715 2.92509303]\n"
     ]
    }
   ]
  },
  {
   "cell_type": "code",
   "metadata": {
    "colab": {
     "base_uri": "https://localhost:8080/"
    },
    "id": "P2K8QYWZFjOl",
    "outputId": "deb56d69-046f-4975-d291-2ca6ec6f4452"
   },
   "source": [
    "lin_reg.gd(X_train, y_train, 1000, lr=1e-4)\n",
    "print(\"Weight vector (gradient descent): \", lin_reg.w)"
   ],
   "execution_count": 54,
   "outputs": [
    {
     "output_type": "stream",
     "name": "stdout",
     "text": [
      "Weight vector (gradient descent):  [3.69922564 3.03252769]\n"
     ]
    }
   ]
  },
  {
   "cell_type": "code",
   "metadata": {
    "colab": {
     "base_uri": "https://localhost:8080/"
    },
    "id": "Qb5CGuItGZdC",
    "outputId": "539e0bab-fe08-4848-8e12-c57c9dfc4df8"
   },
   "source": [
    "lin_reg.mbgd(X_train, y_train, 1000, 16)\n",
    "print(\"Weight vector (mini-batch gradient descent): \", lin_reg.w)"
   ],
   "execution_count": 55,
   "outputs": [
    {
     "output_type": "stream",
     "name": "stdout",
     "text": [
      "Weight vector (mini-batch gradient descent):  [4.34252109 2.93310427]\n"
     ]
    }
   ]
  },
  {
   "cell_type": "code",
   "metadata": {
    "colab": {
     "base_uri": "https://localhost:8080/"
    },
    "id": "N2JSfj-w4Doq",
    "outputId": "3e4ca006-0c9f-409d-efda-627252bb05aa"
   },
   "source": [
    "lin_reg.sgd(X_train, y_train, 1000)\n",
    "print(\"Weight vector (sgd): \", lin_reg.w)"
   ],
   "execution_count": 56,
   "outputs": [
    {
     "output_type": "stream",
     "name": "stdout",
     "text": [
      "Weight vector (sgd):  [4.43994181 2.90445985]\n"
     ]
    }
   ]
  },
  {
   "cell_type": "markdown",
   "metadata": {
    "id": "NAAZL_4B69mo"
   },
   "source": [
    "## Linear regression on multiple features and single label"
   ]
  },
  {
   "cell_type": "code",
   "metadata": {
    "id": "MqvMOIwC82sy"
   },
   "source": [
    "# @title Plot learning curves.\n",
    "def plot_learning_curves(err_all):\n",
    "    plt.plot(err_all)\n",
    "    plt.xlabel(\"iteration #\")\n",
    "    plt.ylabel(\"Loss: $J(\\mathbf{w})$\")"
   ],
   "execution_count": 57,
   "outputs": []
  },
  {
   "cell_type": "code",
   "metadata": {
    "id": "gEcoeZuX7HCI"
   },
   "source": [
    "from sklearn.datasets import make_regression\n",
    "\n",
    "X, y, coef = make_regression(\n",
    "    n_samples=200, n_features=10, n_informative=10, n_targets=1, shuffle=True, coef=True, noise=0.5, random_state=0\n",
    ")"
   ],
   "execution_count": 58,
   "outputs": []
  },
  {
   "cell_type": "code",
   "metadata": {
    "colab": {
     "base_uri": "https://localhost:8080/"
    },
    "id": "5OLXTqyr8Npx",
    "outputId": "3415bdda-a78a-45d8-99c1-d17902310e28"
   },
   "source": [
    "print(\"Shape of feature matrix: \", X.shape)\n",
    "print(\"Shape of label vector: \", y.shape)\n",
    "print(\"Shape of coef vector: \", coef.shape)"
   ],
   "execution_count": 59,
   "outputs": [
    {
     "output_type": "stream",
     "name": "stdout",
     "text": [
      "Shape of feature matrix:  (200, 10)\n",
      "Shape of label vector:  (200,)\n",
      "Shape of coef vector:  (10,)\n"
     ]
    }
   ]
  },
  {
   "cell_type": "code",
   "metadata": {
    "colab": {
     "base_uri": "https://localhost:8080/"
    },
    "id": "4uuK4Vua-_xn",
    "outputId": "1550ff60-cad9-41c6-a111-9e201f6d2e9c"
   },
   "source": [
    "print(\"Weight vector used for data generation:\", coef)"
   ],
   "execution_count": 60,
   "outputs": [
    {
     "output_type": "stream",
     "name": "stdout",
     "text": [
      "Weight vector used for data generation: [40.05104636 10.32532207 51.90989393  6.18447832 41.09157343 28.46940664\n",
      " 88.97621358  9.68032193 15.48694157 44.96944303]\n"
     ]
    }
   ]
  },
  {
   "cell_type": "markdown",
   "metadata": {
    "id": "g_ODYgCE_GC7"
   },
   "source": [
    "We will compare it with weight vector estimated from different methods."
   ]
  },
  {
   "cell_type": "code",
   "metadata": {
    "id": "zuCzaAb18Pzj"
   },
   "source": [
    "X_train, X_test, y_train, y_test = preprocess(X, y)"
   ],
   "execution_count": 61,
   "outputs": []
  },
  {
   "cell_type": "code",
   "metadata": {
    "colab": {
     "base_uri": "https://localhost:8080/"
    },
    "id": "W4eQrUQ58Pxv",
    "outputId": "f0cf2fe1-65b9-46a5-a307-7197332f1b9b"
   },
   "source": [
    "# Normal equation for weight vector estimation\n",
    "lin_reg.fit(X_train, y_train)\n",
    "print(\"Weight vector (normal equation): \", lin_reg.w)"
   ],
   "execution_count": 62,
   "outputs": [
    {
     "output_type": "stream",
     "name": "stdout",
     "text": [
      "Weight vector (normal equation):  [4.30868690e-03 4.00335228e+01 1.03086790e+01 5.19091277e+01\n",
      " 6.29286567e+00 4.11625781e+01 2.84422862e+01 8.89543306e+01\n",
      " 9.75752481e+00 1.54723974e+01 4.49980952e+01]\n"
     ]
    }
   ]
  },
  {
   "cell_type": "code",
   "metadata": {
    "id": "uYrvi42d9ufO"
   },
   "source": [
    "# check if these coefficients are close to the ones used for data generation.\n",
    "np.testing.assert_almost_equal(coef, lin_reg.w[1:], decimal=0)"
   ],
   "execution_count": 63,
   "outputs": []
  },
  {
   "cell_type": "code",
   "metadata": {
    "id": "GrKjkA3O8tjD",
    "colab": {
     "base_uri": "https://localhost:8080/"
    },
    "outputId": "c3d38627-d8cb-460a-91a3-c263db4dc97f"
   },
   "source": [
    "# GD for weight vector estimation\n",
    "lin_reg.gd(X_train, y_train, 1000, lr=1e-4)\n",
    "print(\"Weight vector (gradient descent): \", lin_reg.w)"
   ],
   "execution_count": 64,
   "outputs": [
    {
     "output_type": "stream",
     "name": "stdout",
     "text": [
      "Weight vector (gradient descent):  [4.23513204e-03 4.00335497e+01 1.03081869e+01 5.19092201e+01\n",
      " 6.29241093e+00 4.11619488e+01 2.84422549e+01 8.89543222e+01\n",
      " 9.75811687e+00 1.54722408e+01 4.49977615e+01]\n"
     ]
    }
   ]
  },
  {
   "cell_type": "code",
   "metadata": {
    "colab": {
     "base_uri": "https://localhost:8080/",
     "height": 315
    },
    "id": "-opvjIW49gw9",
    "outputId": "4fed0a10-a313-40d4-950e-80bf5ba5eae3"
   },
   "source": [
    "plot_learning_curves(lin_reg.err_all[:1000])"
   ],
   "execution_count": 65,
   "outputs": [
    {
     "output_type": "display_data",
     "data": {
      "text/plain": [
       "<Figure size 432x288 with 1 Axes>"
      ],
      "image/png": "[encoded data removed]"
     },
     "metadata": {
      "needs_background": "light"
     }
    }
   ]
  },
  {
   "cell_type": "code",
   "metadata": {
    "id": "6ezvjLAh982w"
   },
   "source": [
    "# check if these coefficients are close to the ones used for data generation.\n",
    "np.testing.assert_almost_equal(coef, lin_reg.w[1:], decimal=1)"
   ],
   "execution_count": 66,
   "outputs": []
  },
  {
   "cell_type": "code",
   "metadata": {
    "colab": {
     "base_uri": "https://localhost:8080/"
    },
    "id": "vlU0oKQx82v_",
    "outputId": "4efdf806-5e00-44fd-e4e2-f7dbb3dc49c7"
   },
   "source": [
    "# MBGD for weight vector estimation\n",
    "lin_reg.mbgd(X_train, y_train, 1000, 16)\n",
    "print(\"Weight vector (mini-batch gradient descent): \", lin_reg.w)"
   ],
   "execution_count": 67,
   "outputs": [
    {
     "output_type": "stream",
     "name": "stdout",
     "text": [
      "Weight vector (mini-batch gradient descent):  [4.32776422e-03 4.00334261e+01 1.03087000e+01 5.19090812e+01\n",
      " 6.29292578e+00 4.11625561e+01 2.84423184e+01 8.89544085e+01\n",
      " 9.75751021e+00 1.54725483e+01 4.49981559e+01]\n"
     ]
    }
   ]
  },
  {
   "cell_type": "code",
   "metadata": {
    "colab": {
     "base_uri": "https://localhost:8080/",
     "height": 298
    },
    "id": "oqh4mpOf9c9l",
    "outputId": "43d8794f-3d8e-4d49-9a45-e03f91bc3d25"
   },
   "source": [
    "plot_learning_curves(lin_reg.err_all[:1000])"
   ],
   "execution_count": 68,
   "outputs": [
    {
     "output_type": "display_data",
     "data": {
      "text/plain": [
       "<Figure size 432x288 with 1 Axes>"
      ],
      "image/png": "[encoded data removed]"
     },
     "metadata": {
      "needs_background": "light"
     }
    }
   ]
  },
  {
   "cell_type": "code",
   "metadata": {
    "id": "gPfY4qfZ-BPB"
   },
   "source": [
    "# check if these coefficients are close to the ones used for data generation.\n",
    "np.testing.assert_almost_equal(coef, lin_reg.w[1:], decimal=0)"
   ],
   "execution_count": 69,
   "outputs": []
  },
  {
   "cell_type": "code",
   "metadata": {
    "colab": {
     "base_uri": "https://localhost:8080/"
    },
    "id": "4MNsG_tc82uo",
    "outputId": "3c0b1dc0-2ac8-4cf5-847a-b2816fda878b"
   },
   "source": [
    "# SGD for weight vector estimation\n",
    "lin_reg.sgd(X_train, y_train, 1000)\n",
    "print(\"Weight vector (sgd): \", lin_reg.w)"
   ],
   "execution_count": 70,
   "outputs": [
    {
     "output_type": "stream",
     "name": "stdout",
     "text": [
      "Weight vector (sgd):  [-1.76539732e-02  4.00182258e+01  1.03026464e+01  5.19197207e+01\n",
      "  6.29637150e+00  4.11677078e+01  2.84447965e+01  8.89409755e+01\n",
      "  9.73540047e+00  1.54983459e+01  4.49941318e+01]\n"
     ]
    }
   ]
  },
  {
   "cell_type": "code",
   "metadata": {
    "colab": {
     "base_uri": "https://localhost:8080/",
     "height": 298
    },
    "id": "q22xV4cs9RKk",
    "outputId": "3fb71e45-46c2-41aa-fe2b-7045ab635f52"
   },
   "source": [
    "plot_learning_curves(lin_reg.err_all[:1000])"
   ],
   "execution_count": 71,
   "outputs": [
    {
     "output_type": "display_data",
     "data": {
      "text/plain": [
       "<Figure size 432x288 with 1 Axes>"
      ],
      "image/png": "[encoded data removed]"
     },
     "metadata": {
      "needs_background": "light"
     }
    }
   ]
  },
  {
   "cell_type": "code",
   "metadata": {
    "id": "GnSEzMz--CZw"
   },
   "source": [
    "# check if these coefficients are close to the ones used for data generation.\n",
    "np.testing.assert_almost_equal(coef, lin_reg.w[1:], decimal=0)"
   ],
   "execution_count": 72,
   "outputs": []
  }
 ]
}