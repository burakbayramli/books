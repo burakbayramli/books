{
 "nbformat": 4,
 "nbformat_minor": 0,
 "metadata": {
  "colab": {
   "name": "logreg-pytorch.ipynb",
   "provenance": [],
   "toc_visible": true,
   "include_colab_link": true
  },
  "kernelspec": {
   "name": "python3",
   "display_name": "Python 3"
  },
  "accelerator": "GPU"
 },
 "cells": [
  {
   "cell_type": "markdown",
   "metadata": {
    "id": "view-in-github",
    "colab_type": "text"
   },
   "source": [
    "<a href=\"https://colab.research.google.com/github/probml/pyprobml/blob/master/book1/supplements/logreg_pytorch.ipynb\" target=\"_parent\"><img src=\"https://colab.research.google.com/assets/colab-badge.svg\" alt=\"Open In Colab\"/></a>"
   ]
  },
  {
   "cell_type": "markdown",
   "metadata": {
    "id": "b520E1nCIBHc"
   },
   "source": [
    "\n",
    "# Logistic regression using PyTorch\n",
    "\n",
    "We show how to fit a logistic regression model using PyTorch. The log likelihood for this model is convex, so we can compute the globally optimal MLE. This makes it easy to compare to sklearn (and other implementations). \n",
    "\n"
   ]
  },
  {
   "cell_type": "code",
   "metadata": {
    "id": "UeuOgABaIENZ"
   },
   "source": [
    "import sklearn\n",
    "import scipy\n",
    "import scipy.optimize\n",
    "import matplotlib.pyplot as plt\n",
    "from mpl_toolkits import mplot3d\n",
    "from mpl_toolkits.mplot3d import Axes3D\n",
    "import seaborn as sns\n",
    "import warnings\n",
    "\n",
    "warnings.filterwarnings(\"ignore\")\n",
    "import itertools\n",
    "import time\n",
    "from functools import partial\n",
    "\n",
    "import os\n",
    "\n",
    "import numpy as np\n",
    "from scipy.special import logsumexp\n",
    "\n",
    "np.set_printoptions(precision=3)\n",
    "\n",
    "np.set_printoptions(formatter={\"float\": lambda x: \"{0:0.3f}\".format(x)})"
   ],
   "execution_count": 2,
   "outputs": []
  },
  {
   "cell_type": "code",
   "metadata": {
    "id": "GPozRwDAKFb8",
    "colab": {
     "base_uri": "https://localhost:8080/"
    },
    "outputId": "2a8248be-61d4-43fb-9cce-2c36e47d3be5"
   },
   "source": [
    "import torch\n",
    "import torch.nn as nn\n",
    "import torchvision\n",
    "\n",
    "print(\"torch version {}\".format(torch.__version__))\n",
    "if torch.cuda.is_available():\n",
    "    print(torch.cuda.get_device_name(0))\n",
    "    print(\"current device {}\".format(torch.cuda.current_device()))\n",
    "else:\n",
    "    print(\"Torch cannot find GPU\")\n",
    "\n",
    "\n",
    "def set_seed(seed):\n",
    "    np.random.seed(seed)\n",
    "    torch.manual_seed(seed)\n",
    "    torch.cuda.manual_seed_all(seed)\n",
    "\n",
    "\n",
    "use_cuda = torch.cuda.is_available()\n",
    "device = torch.device(\"cuda:0\" if use_cuda else \"cpu\")\n",
    "# torch.backends.cudnn.benchmark = True"
   ],
   "execution_count": 3,
   "outputs": [
    {
     "output_type": "stream",
     "text": [
      "torch version 1.8.0+cu101\n",
      "Tesla P100-PCIE-16GB\n",
      "current device 0\n"
     ],
     "name": "stdout"
    }
   ]
  },
  {
   "cell_type": "markdown",
   "metadata": {
    "id": "kjP6xqkvbKxe"
   },
   "source": [
    "#  Logistic regression using sklearn\n",
    "\n",
    "We fit  binary logistic regresion on the Iris dataset. "
   ]
  },
  {
   "cell_type": "code",
   "metadata": {
    "colab": {
     "base_uri": "https://localhost:8080/"
    },
    "id": "aSYkjaAO6n3A",
    "outputId": "e5c90ccb-b01b-4115-ac78-1524e72b63e1"
   },
   "source": [
    "# Fit the model usign sklearn\n",
    "\n",
    "import sklearn.datasets\n",
    "from sklearn.model_selection import train_test_split\n",
    "\n",
    "iris = sklearn.datasets.load_iris()\n",
    "X = iris[\"data\"]\n",
    "y = (iris[\"target\"] == 2).astype(np.int)  # 1 if Iris-Virginica, else 0'\n",
    "N, D = X.shape  # 150, 4\n",
    "\n",
    "X_train, X_test, y_train, y_test = train_test_split(X, y, test_size=0.33, random_state=42)\n",
    "\n",
    "from sklearn.linear_model import LogisticRegression\n",
    "\n",
    "# We set C to a large number to turn off regularization.\n",
    "# We don't fit the bias term to simplify the comparison below.\n",
    "log_reg = LogisticRegression(solver=\"lbfgs\", C=1e5, fit_intercept=False)\n",
    "log_reg.fit(X_train, y_train)\n",
    "w_mle_sklearn = np.ravel(log_reg.coef_)\n",
    "print(w_mle_sklearn)"
   ],
   "execution_count": 4,
   "outputs": [
    {
     "output_type": "stream",
     "text": [
      "[-4.414 -9.111 6.539 12.686]\n"
     ],
     "name": "stdout"
    }
   ]
  },
  {
   "cell_type": "markdown",
   "metadata": {
    "id": "-pIgD7iRLUBt"
   },
   "source": [
    "# Automatic differentiation <a class=\"anchor\" id=\"AD\"></a>\n",
    "\n",
    " \n",
    "In this section, we illustrate how to use autograd to compute the gradient of the negative log likelihood for binary logistic regression. We first compute the gradient by hand, and then use PyTorch's autograd feature. \n",
    "(See also [the JAX optimization colab](https://colab.research.google.com/github/probml/pyprobml/blob/master/book1/supplements/opt.ipynb).)\n"
   ]
  },
  {
   "cell_type": "markdown",
   "metadata": {
    "id": "0p5y7b8NbyZp"
   },
   "source": [
    "## Computing gradients by hand\n"
   ]
  },
  {
   "cell_type": "code",
   "metadata": {
    "id": "iS5AB9NjLZ_i"
   },
   "source": [
    "# Binary cross entropy\n",
    "def BCE_with_logits(logits, targets):\n",
    "    N = logits.shape[0]\n",
    "    logits = logits.reshape(N, 1)\n",
    "    logits_plus = np.hstack([np.zeros((N, 1)), logits])  # e^0=1\n",
    "    logits_minus = np.hstack([np.zeros((N, 1)), -logits])\n",
    "    logp1 = -logsumexp(logits_minus, axis=1)\n",
    "    logp0 = -logsumexp(logits_plus, axis=1)\n",
    "    logprobs = logp1 * targets + logp0 * (1 - targets)\n",
    "    return -np.sum(logprobs) / N\n",
    "\n",
    "\n",
    "# Compute using numpy\n",
    "def sigmoid(x):\n",
    "    return 0.5 * (np.tanh(x / 2.0) + 1)\n",
    "\n",
    "\n",
    "def predict_logit(weights, inputs):\n",
    "    return np.dot(inputs, weights)  # Already vectorized\n",
    "\n",
    "\n",
    "def predict_prob(weights, inputs):\n",
    "    return sigmoid(predict_logit(weights, inputs))\n",
    "\n",
    "\n",
    "def NLL(weights, batch):\n",
    "    X, y = batch\n",
    "    logits = predict_logit(weights, X)\n",
    "    return BCE_with_logits(logits, y)\n",
    "\n",
    "\n",
    "def NLL_grad(weights, batch):\n",
    "    X, y = batch\n",
    "    N = X.shape[0]\n",
    "    mu = predict_prob(weights, X)\n",
    "    g = np.sum(np.dot(np.diag(mu - y), X), axis=0) / N\n",
    "    return g"
   ],
   "execution_count": 7,
   "outputs": []
  },
  {
   "cell_type": "code",
   "metadata": {
    "colab": {
     "base_uri": "https://localhost:8080/"
    },
    "id": "f9mD8S18746_",
    "outputId": "25c03ff4-36f7-4e49-81c6-c56c9f369bd3"
   },
   "source": [
    "w_np = w_mle_sklearn\n",
    "y_pred = predict_prob(w_np, X_test)\n",
    "loss_np = NLL(w_np, (X_test, y_test))\n",
    "grad_np = NLL_grad(w_np, (X_test, y_test))\n",
    "print(\"params {}\".format(w_np))\n",
    "# print(\"pred {}\".format(y_pred))\n",
    "print(\"loss {}\".format(loss_np))\n",
    "print(\"grad {}\".format(grad_np))"
   ],
   "execution_count": 8,
   "outputs": [
    {
     "output_type": "stream",
     "text": [
      "params [-4.414 -9.111 6.539 12.686]\n",
      "loss 0.11824007099618833\n",
      "grad [-0.235 -0.122 -0.198 -0.064]\n"
     ],
     "name": "stdout"
    }
   ]
  },
  {
   "cell_type": "markdown",
   "metadata": {
    "id": "YeGQ7SJTNHMk"
   },
   "source": [
    "## PyTorch code"
   ]
  },
  {
   "cell_type": "markdown",
   "metadata": {
    "id": "Is7yJlgsL4BT"
   },
   "source": [
    "To compute the gradient using torch, we proceed as follows.\n",
    "\n",
    "- declare all the variables that you want to take derivatives with respect to using the requires_grad=True argumnet\n",
    "- define the (scalar output) objective function you want to differentiate in terms of these variables, and evaluate it at a point. This will generate a computation graph and store all the tensors.\n",
    "- call objective.backward() to trigger backpropagation (chain rule) on this graph.\n",
    "- extract the gradients from each variable using variable.grad field. (These will be torch tensors.)\n",
    "\n",
    "See the example below."
   ]
  },
  {
   "cell_type": "code",
   "metadata": {
    "id": "Wl_SK0WUlvNl"
   },
   "source": [
    "# data. By default, numpy uses double but torch uses float\n",
    "X_train_t = torch.tensor(X_train, dtype=torch.float)\n",
    "y_train_t = torch.tensor(y_train, dtype=torch.float)\n",
    "\n",
    "X_test_t = torch.tensor(X_test, dtype=torch.float)\n",
    "y_test_t = torch.tensor(y_test, dtype=torch.float)"
   ],
   "execution_count": 9,
   "outputs": []
  },
  {
   "cell_type": "code",
   "metadata": {
    "id": "0L5NxIaVLu64",
    "colab": {
     "base_uri": "https://localhost:8080/"
    },
    "outputId": "2215d4e6-76c5-4437-950f-cb0430708f3a"
   },
   "source": [
    "# parameters\n",
    "W = np.reshape(w_mle_sklearn, [D, 1])  # convert 1d vector to 2d matrix\n",
    "w_torch = torch.tensor(W, requires_grad=True, dtype=torch.float)\n",
    "# w_torch.requires_grad_()\n",
    "\n",
    "\n",
    "# binary logistic regression in one line of Pytorch\n",
    "def predict_t(w, X):\n",
    "    y_pred = torch.sigmoid(torch.matmul(X, w))[:, 0]\n",
    "    return y_pred\n",
    "\n",
    "\n",
    "# This returns Nx1 probabilities\n",
    "y_pred = predict_t(w_torch, X_test_t)\n",
    "\n",
    "# loss function is average NLL\n",
    "criterion = torch.nn.BCELoss(reduction=\"mean\")\n",
    "loss_torch = criterion(y_pred, y_test_t)\n",
    "print(loss_torch)\n",
    "\n",
    "# Backprop\n",
    "loss_torch.backward()\n",
    "print(w_torch.grad)\n",
    "\n",
    "# convert to numpy. We have to \"detach\" the gradient tracing feature\n",
    "loss_torch = loss_torch.detach().numpy()\n",
    "grad_torch = w_torch.grad[:, 0].detach().numpy()"
   ],
   "execution_count": 10,
   "outputs": [
    {
     "output_type": "stream",
     "text": [
      "tensor(0.1182, grad_fn=<BinaryCrossEntropyBackward>)\n",
      "tensor([[-0.2353],\n",
      "        [-0.1223],\n",
      "        [-0.1976],\n",
      "        [-0.0638]])\n"
     ],
     "name": "stdout"
    }
   ]
  },
  {
   "cell_type": "code",
   "metadata": {
    "colab": {
     "base_uri": "https://localhost:8080/"
    },
    "id": "CSKAJvrBNKQC",
    "outputId": "5e6fc814-03aa-4518-8263-3951a40d4ed3"
   },
   "source": [
    "# Test\n",
    "assert np.allclose(loss_np, loss_torch)\n",
    "assert np.allclose(grad_np, grad_torch)\n",
    "\n",
    "print(\"loss {}\".format(loss_torch))\n",
    "print(\"grad {}\".format(grad_torch))"
   ],
   "execution_count": 11,
   "outputs": [
    {
     "output_type": "stream",
     "text": [
      "loss 0.11824005842208862\n",
      "grad [-0.235 -0.122 -0.198 -0.064]\n"
     ],
     "name": "stdout"
    }
   ]
  },
  {
   "cell_type": "markdown",
   "metadata": {
    "id": "DLWeq4d-6Upz"
   },
   "source": [
    "# Batch optimization using BFGS\n",
    "\n",
    "We will use BFGS from PyTorch for fitting a logistic regression model, and compare to sklearn."
   ]
  },
  {
   "cell_type": "code",
   "metadata": {
    "colab": {
     "base_uri": "https://localhost:8080/"
    },
    "id": "yiefA00AuXK4",
    "outputId": "7d19a74b-69c1-4aea-eeb2-a95a2f429553"
   },
   "source": [
    "set_seed(0)\n",
    "params = torch.randn((D, 1), requires_grad=True)\n",
    "optimizer = torch.optim.LBFGS([params], history_size=10)\n",
    "\n",
    "\n",
    "def closure():\n",
    "    optimizer.zero_grad()\n",
    "    y_pred = predict_t(params, X_train_t)\n",
    "    loss = criterion(y_pred, y_train_t)\n",
    "    loss.backward()\n",
    "    return loss\n",
    "\n",
    "\n",
    "max_iter = 10\n",
    "for i in range(max_iter):\n",
    "    loss = optimizer.step(closure)\n",
    "    print(loss.item())"
   ],
   "execution_count": 12,
   "outputs": [
    {
     "output_type": "stream",
     "text": [
      "1.994707465171814\n",
      "0.06939578056335449\n",
      "0.06907700002193451\n",
      "0.06907700002193451\n",
      "0.06907700002193451\n",
      "0.06907700002193451\n",
      "0.06907700002193451\n",
      "0.06907700002193451\n",
      "0.06907700002193451\n",
      "0.06907700002193451\n"
     ],
     "name": "stdout"
    }
   ]
  },
  {
   "cell_type": "code",
   "metadata": {
    "colab": {
     "base_uri": "https://localhost:8080/"
    },
    "id": "gcsx3JCGuISp",
    "outputId": "1f33c971-164f-4555-bd74-efaecb4664b3"
   },
   "source": [
    "print(\"parameters from sklearn {}\".format(w_mle_sklearn))\n",
    "print(\"parameters from torch {}\".format(params[:, 0]))"
   ],
   "execution_count": 13,
   "outputs": [
    {
     "output_type": "stream",
     "text": [
      "parameters from sklearn [-4.414 -9.111 6.539 12.686]\n",
      "parameters from torch tensor([-4.4146, -9.1144,  6.5401, 12.6912], grad_fn=<SelectBackward>)\n"
     ],
     "name": "stdout"
    }
   ]
  },
  {
   "cell_type": "code",
   "metadata": {
    "colab": {
     "base_uri": "https://localhost:8080/"
    },
    "id": "LSt8z7m5uuvK",
    "outputId": "dba94f42-47db-43e9-bf9d-ed62ce3bcb5d"
   },
   "source": [
    "p_pred_np = predict_prob(w_np, X_test)\n",
    "p_pred_t = predict_t(params, X_test_t)\n",
    "p_pred = p_pred_t.detach().numpy()\n",
    "np.set_printoptions(formatter={\"float\": lambda x: \"{0:0.3f}\".format(x)})\n",
    "print(p_pred_np)\n",
    "print(p_pred)"
   ],
   "execution_count": 14,
   "outputs": [
    {
     "output_type": "stream",
     "text": [
      "[0.002 0.000 1.000 0.012 0.002 0.000 0.000 0.979 0.740 0.000 0.706 0.000\n",
      " 0.000 0.000 0.000 0.001 1.000 0.000 0.009 1.000 0.000 0.650 0.000 1.000\n",
      " 0.094 0.998 1.000 1.000 0.000 0.000 0.000 0.000 0.000 0.000 0.000 0.998\n",
      " 0.000 0.000 0.000 0.000 0.999 0.000 0.000 0.000 0.000 0.000 0.281 0.909\n",
      " 0.000 0.999]\n",
      "[0.002 0.000 1.000 0.012 0.002 0.000 0.000 0.979 0.740 0.000 0.706 0.000\n",
      " 0.000 0.000 0.000 0.001 1.000 0.000 0.009 1.000 0.000 0.650 0.000 1.000\n",
      " 0.094 0.998 1.000 1.000 0.000 0.000 0.000 0.000 0.000 0.000 0.000 0.998\n",
      " 0.000 0.000 0.000 0.000 0.999 0.000 0.000 0.000 0.000 0.000 0.281 0.909\n",
      " 0.000 0.999]\n"
     ],
     "name": "stdout"
    }
   ]
  },
  {
   "cell_type": "markdown",
   "metadata": {
    "id": "8TMzOBNtUaW6"
   },
   "source": [
    "# Stochastic optimization using SGD"
   ]
  },
  {
   "cell_type": "markdown",
   "metadata": {
    "id": "9byvNfJ9QpsH"
   },
   "source": [
    "## DataLoader\n",
    "\n",
    "First we need a way to get minbatches of data."
   ]
  },
  {
   "cell_type": "code",
   "metadata": {
    "colab": {
     "base_uri": "https://localhost:8080/"
    },
    "id": "O_jliQydRXUB",
    "outputId": "3ddf9e6b-caaa-40ea-c67d-25e615e26fc5"
   },
   "source": [
    "from torch.utils.data import DataLoader, TensorDataset\n",
    "\n",
    "# To make things interesting, we pick a batchsize of B=33, which is not divisible by N=100\n",
    "dataset = TensorDataset(X_train_t, y_train_t)\n",
    "B = 33\n",
    "dataloader = DataLoader(dataset, batch_size=B, shuffle=True)\n",
    "print(X_train_t.shape)\n",
    "print(\n",
    "    \"{} examples divided into {} batches of size {}\".format(\n",
    "        len(dataloader.dataset), len(dataloader), dataloader.batch_size\n",
    "    )\n",
    ")\n",
    "\n",
    "for i, batch in enumerate(dataloader):\n",
    "    X, y = batch\n",
    "    print(X.shape)\n",
    "    print(y.shape)"
   ],
   "execution_count": 15,
   "outputs": [
    {
     "output_type": "stream",
     "text": [
      "torch.Size([100, 4])\n",
      "100 examples divided into 4 batches of size 33\n",
      "torch.Size([33, 4])\n",
      "torch.Size([33])\n",
      "torch.Size([33, 4])\n",
      "torch.Size([33])\n",
      "torch.Size([33, 4])\n",
      "torch.Size([33])\n",
      "torch.Size([1, 4])\n",
      "torch.Size([1])\n"
     ],
     "name": "stdout"
    }
   ]
  },
  {
   "cell_type": "code",
   "metadata": {
    "colab": {
     "base_uri": "https://localhost:8080/"
    },
    "id": "ui_gFE0wWSIS",
    "outputId": "ab3b8828-c4eb-4be0-a7cd-dac11770c7c9"
   },
   "source": [
    "datastream = iter(dataloader)\n",
    "for i in range(3):\n",
    "    X, y = next(datastream)\n",
    "    print(y)"
   ],
   "execution_count": 16,
   "outputs": [
    {
     "output_type": "stream",
     "text": [
      "tensor([0., 1., 0., 0., 0., 0., 1., 0., 1., 1., 0., 0., 0., 1., 0., 0., 1., 0.,\n",
      "        1., 0., 0., 0., 0., 0., 1., 1., 1., 1., 0., 1., 1., 0., 0.])\n",
      "tensor([1., 0., 0., 0., 0., 1., 0., 0., 0., 1., 0., 0., 1., 0., 0., 0., 0., 0.,\n",
      "        0., 0., 1., 0., 0., 0., 1., 1., 0., 0., 1., 1., 0., 0., 0.])\n",
      "tensor([0., 0., 0., 1., 1., 0., 1., 1., 0., 0., 0., 1., 0., 1., 0., 1., 0., 0.,\n",
      "        0., 1., 0., 0., 0., 1., 0., 0., 0., 0., 0., 0., 1., 0., 1.])\n"
     ],
     "name": "stdout"
    }
   ]
  },
  {
   "cell_type": "markdown",
   "metadata": {
    "id": "Wux6hg6JVe7O"
   },
   "source": [
    "## Vanilla SGD training loop"
   ]
  },
  {
   "cell_type": "code",
   "metadata": {
    "colab": {
     "base_uri": "https://localhost:8080/",
     "height": 282
    },
    "id": "bXBNl-vwVejO",
    "outputId": "6bbec107-9bfb-432d-f519-f34da6a95cb5"
   },
   "source": [
    "set_seed(0)\n",
    "params = torch.randn((D, 1), requires_grad=True)\n",
    "nepochs = 100\n",
    "nbatches = len(dataloader)\n",
    "criterion = torch.nn.BCELoss(reduction=\"mean\")\n",
    "learning_rate = 1e-1\n",
    "loss_trace = []\n",
    "\n",
    "for epoch in range(nepochs):\n",
    "    for b, batch in enumerate(dataloader):\n",
    "        X, y = batch\n",
    "\n",
    "        if params.grad is not None:\n",
    "            params.grad.zero_()  # reset gradient to zero\n",
    "        y_pred = predict_t(params, X)\n",
    "        loss = criterion(y_pred, y)\n",
    "        # print(f'epoch {epoch}, batch {b}, loss: {loss.item()}')\n",
    "        loss_trace.append(loss)\n",
    "\n",
    "        loss.backward()\n",
    "        with torch.no_grad():\n",
    "            params -= learning_rate * params.grad\n",
    "\n",
    "    # print(f'end of epoch {epoch}, loss: {loss.item()}')\n",
    "\n",
    "plt.figure()\n",
    "plt.plot(loss_trace)"
   ],
   "execution_count": 17,
   "outputs": [
    {
     "output_type": "execute_result",
     "data": {
      "text/plain": [
       "[<matplotlib.lines.Line2D at 0x7fccfc7af190>]"
      ]
     },
     "metadata": {
      "tags": []
     },
     "execution_count": 17
    },
    {
     "output_type": "display_data",
     "data": {
      "image/png": "[encoded data removed]",
      "text/plain": [
       "<Figure size 432x288 with 1 Axes>"
      ]
     },
     "metadata": {
      "tags": [],
      "needs_background": "light"
     }
    }
   ]
  },
  {
   "cell_type": "code",
   "metadata": {
    "colab": {
     "base_uri": "https://localhost:8080/"
    },
    "id": "TK-4_-N5o4sK",
    "outputId": "fd3a3ed5-ddac-4bd3-e4ad-618956245754"
   },
   "source": [
    "# SGD does not converge to a value that is close to the batch solver...\n",
    "\n",
    "print(\"parameters from sklearn {}\".format(w_mle_sklearn))\n",
    "print(\"parameters from torch {}\".format(params[:, 0]))"
   ],
   "execution_count": 18,
   "outputs": [
    {
     "output_type": "stream",
     "text": [
      "parameters from sklearn [-4.414 -9.111 6.539 12.686]\n",
      "parameters from torch tensor([-0.8046, -2.3841,  1.3471,  2.9677], grad_fn=<SelectBackward>)\n"
     ],
     "name": "stdout"
    }
   ]
  },
  {
   "cell_type": "code",
   "metadata": {
    "colab": {
     "base_uri": "https://localhost:8080/"
    },
    "id": "0dBeBatDo_Xy",
    "outputId": "073ed389-f504-4bf9-ba07-d06a5da0d6a4"
   },
   "source": [
    "# Predicted probabilities from SGD are very different to sklearn\n",
    "# although the thresholded labels are similar\n",
    "\n",
    "\n",
    "p_pred_np = predict_prob(w_np, X_test)\n",
    "p_pred_t = predict_t(params, X_test_t)\n",
    "p_pred = p_pred_t.detach().numpy()\n",
    "\n",
    "print(p_pred_np)\n",
    "print(p_pred)"
   ],
   "execution_count": 19,
   "outputs": [
    {
     "output_type": "stream",
     "text": [
      "[0.002 0.000 1.000 0.012 0.002 0.000 0.000 0.979 0.740 0.000 0.706 0.000\n",
      " 0.000 0.000 0.000 0.001 1.000 0.000 0.009 1.000 0.000 0.650 0.000 1.000\n",
      " 0.094 0.998 1.000 1.000 0.000 0.000 0.000 0.000 0.000 0.000 0.000 0.998\n",
      " 0.000 0.000 0.000 0.000 0.999 0.000 0.000 0.000 0.000 0.000 0.281 0.909\n",
      " 0.000 0.999]\n",
      "[0.156 0.000 0.976 0.227 0.179 0.000 0.062 0.680 0.570 0.092 0.487 0.000\n",
      " 0.000 0.000 0.000 0.135 0.877 0.125 0.207 0.904 0.000 0.471 0.000 0.876\n",
      " 0.298 0.784 0.859 0.842 0.000 0.000 0.000 0.000 0.063 0.000 0.000 0.793\n",
      " 0.094 0.000 0.000 0.000 0.803 0.107 0.119 0.000 0.000 0.100 0.396 0.553\n",
      " 0.085 0.779]\n"
     ],
     "name": "stdout"
    }
   ]
  },
  {
   "cell_type": "code",
   "metadata": {
    "colab": {
     "base_uri": "https://localhost:8080/"
    },
    "id": "5e8Wugc1eLHT",
    "outputId": "e9c62c71-bbad-4e7a-fe81-5e4279f0a6d2"
   },
   "source": [
    "y_pred_np = p_pred_np > 0.5\n",
    "y_pred = p_pred > 0.5\n",
    "print(y_pred_np)\n",
    "print(y_pred)\n",
    "print(np.sum(y_pred_np == y_pred) / len(y_pred))"
   ],
   "execution_count": 20,
   "outputs": [
    {
     "output_type": "stream",
     "text": [
      "[False False  True False False False False  True  True False  True False\n",
      " False False False False  True False False  True False  True False  True\n",
      " False  True  True  True False False False False False False False  True\n",
      " False False False False  True False False False False False False  True\n",
      " False  True]\n",
      "[False False  True False False False False  True  True False False False\n",
      " False False False False  True False False  True False False False  True\n",
      " False  True  True  True False False False False False False False  True\n",
      " False False False False  True False False False False False False  True\n",
      " False  True]\n",
      "0.96\n"
     ],
     "name": "stdout"
    }
   ]
  },
  {
   "cell_type": "markdown",
   "metadata": {
    "id": "2AlO5fUmrMzI"
   },
   "source": [
    "## Use Torch SGD optimizer\n",
    "\n",
    "Instead of writing our own optimizer, we can use a torch optimizer. This should give identical results."
   ]
  },
  {
   "cell_type": "code",
   "metadata": {
    "colab": {
     "base_uri": "https://localhost:8080/",
     "height": 282
    },
    "id": "YzC12T6mrOmb",
    "outputId": "8725516e-dbd3-4e20-efdc-7ecc76944d5d"
   },
   "source": [
    "set_seed(0)\n",
    "params = torch.randn((D, 1), requires_grad=True)\n",
    "nepochs = 100\n",
    "nbatches = len(dataloader)\n",
    "criterion = torch.nn.BCELoss(reduction=\"mean\")\n",
    "learning_rate = 1e-1\n",
    "loss_trace = []\n",
    "\n",
    "# optimizer has pointer to params, so can mutate its state\n",
    "optimizer = torch.optim.SGD([params], lr=learning_rate)\n",
    "\n",
    "for epoch in range(nepochs):\n",
    "    for b, batch in enumerate(dataloader):\n",
    "        X, y = batch\n",
    "\n",
    "        y_pred = predict_t(params, X)\n",
    "        loss = criterion(y_pred, y)\n",
    "        # print(f'epoch {epoch}, batch {b}, loss: {loss.item()}')\n",
    "        loss_trace.append(loss)\n",
    "\n",
    "        optimizer.zero_grad()\n",
    "        loss.backward()\n",
    "        optimizer.step()\n",
    "\n",
    "    # print(f'end of epoch {epoch}, loss: {loss.item()}')\n",
    "\n",
    "plt.figure()\n",
    "plt.plot(loss_trace)"
   ],
   "execution_count": 32,
   "outputs": [
    {
     "output_type": "execute_result",
     "data": {
      "text/plain": [
       "[<matplotlib.lines.Line2D at 0x7fccfc091610>]"
      ]
     },
     "metadata": {
      "tags": []
     },
     "execution_count": 32
    },
    {
     "output_type": "display_data",
     "data": {
      "image/png": "[encoded data removed]",
      "text/plain": [
       "<Figure size 432x288 with 1 Axes>"
      ]
     },
     "metadata": {
      "tags": [],
      "needs_background": "light"
     }
    }
   ]
  },
  {
   "cell_type": "code",
   "metadata": {
    "id": "IMxLRicCvW_Y",
    "outputId": "eb6e6e21-7533-4326-c4c7-3aafe46f2f2f",
    "colab": {
     "base_uri": "https://localhost:8080/"
    }
   },
   "source": [
    "print(\"parameters from sklearn {}\".format(w_mle_sklearn))\n",
    "print(\"parameters from torch {}\".format(params[:, 0]))\n",
    "\n",
    "p_pred_np = predict_prob(w_np, X_test)\n",
    "p_pred_t = predict_t(params, X_test_t)\n",
    "p_pred = p_pred_t.detach().numpy()\n",
    "\n",
    "print(\"predictions from sklearn\")\n",
    "print(p_pred_np)\n",
    "print(\"predictions from torch\")\n",
    "print(p_pred)\n",
    "\n",
    "y_pred_np = p_pred_np > 0.5\n",
    "y_pred = p_pred > 0.5\n",
    "print(\"fraction of predicted labels that agree \", np.sum(y_pred_np == y_pred) / len(y_pred))"
   ],
   "execution_count": 34,
   "outputs": [
    {
     "output_type": "stream",
     "text": [
      "parameters from sklearn [-4.414 -9.111 6.539 12.686]\n",
      "parameters from torch tensor([-0.8046, -2.3841,  1.3471,  2.9677], grad_fn=<SelectBackward>)\n",
      "predictions from sklearn\n",
      "[0.002 0.000 1.000 0.012 0.002 0.000 0.000 0.979 0.740 0.000 0.706 0.000\n",
      " 0.000 0.000 0.000 0.001 1.000 0.000 0.009 1.000 0.000 0.650 0.000 1.000\n",
      " 0.094 0.998 1.000 1.000 0.000 0.000 0.000 0.000 0.000 0.000 0.000 0.998\n",
      " 0.000 0.000 0.000 0.000 0.999 0.000 0.000 0.000 0.000 0.000 0.281 0.909\n",
      " 0.000 0.999]\n",
      "predictions from torch\n",
      "[0.156 0.000 0.976 0.227 0.179 0.000 0.062 0.680 0.570 0.092 0.487 0.000\n",
      " 0.000 0.000 0.000 0.135 0.877 0.125 0.207 0.904 0.000 0.471 0.000 0.876\n",
      " 0.298 0.784 0.859 0.842 0.000 0.000 0.000 0.000 0.063 0.000 0.000 0.793\n",
      " 0.094 0.000 0.000 0.000 0.803 0.107 0.119 0.000 0.000 0.100 0.396 0.553\n",
      " 0.085 0.779]\n",
      "fraction of predicted labels that agree  0.96\n"
     ],
     "name": "stdout"
    }
   ]
  },
  {
   "cell_type": "markdown",
   "metadata": {
    "id": "Hr8WRZP6vtBT"
   },
   "source": [
    "## Use momentum optimizer\n",
    "\n",
    "Adding momentum helps a lot, and gives results which are very similar to batch optimization."
   ]
  },
  {
   "cell_type": "code",
   "metadata": {
    "id": "3D4E4JGdvvcU",
    "outputId": "09114882-d6fd-493d-86cb-41d9d100be99",
    "colab": {
     "base_uri": "https://localhost:8080/",
     "height": 282
    }
   },
   "source": [
    "set_seed(0)\n",
    "params = torch.randn((D, 1), requires_grad=True)\n",
    "nepochs = 100\n",
    "nbatches = len(dataloader)\n",
    "criterion = torch.nn.BCELoss(reduction=\"mean\")\n",
    "learning_rate = 1e-1\n",
    "loss_trace = []\n",
    "\n",
    "# optimizer has pointer to params, so can mutate its state\n",
    "optimizer = torch.optim.SGD([params], lr=learning_rate, momentum=0.9)\n",
    "\n",
    "for epoch in range(nepochs):\n",
    "    for b, batch in enumerate(dataloader):\n",
    "        X, y = batch\n",
    "\n",
    "        y_pred = predict_t(params, X)\n",
    "        loss = criterion(y_pred, y)\n",
    "        # print(f'epoch {epoch}, batch {b}, loss: {loss.item()}')\n",
    "        loss_trace.append(loss)\n",
    "\n",
    "        optimizer.zero_grad()\n",
    "        loss.backward()\n",
    "        optimizer.step()\n",
    "\n",
    "    # print(f'end of epoch {epoch}, loss: {loss.item()}')\n",
    "\n",
    "plt.figure()\n",
    "plt.plot(loss_trace)"
   ],
   "execution_count": 35,
   "outputs": [
    {
     "output_type": "execute_result",
     "data": {
      "text/plain": [
       "[<matplotlib.lines.Line2D at 0x7fccfbf7c4d0>]"
      ]
     },
     "metadata": {
      "tags": []
     },
     "execution_count": 35
    },
    {
     "output_type": "display_data",
     "data": {
      "image/png": "[encoded data removed]",
      "text/plain": [
       "<Figure size 432x288 with 1 Axes>"
      ]
     },
     "metadata": {
      "tags": [],
      "needs_background": "light"
     }
    }
   ]
  },
  {
   "cell_type": "code",
   "metadata": {
    "id": "ym9Lz7tCv41V",
    "outputId": "23d5a414-f457-4c25-d28e-3b4319db53c5",
    "colab": {
     "base_uri": "https://localhost:8080/"
    }
   },
   "source": [
    "print(\"parameters from sklearn {}\".format(w_mle_sklearn))\n",
    "print(\"parameters from torch {}\".format(params[:, 0]))\n",
    "\n",
    "p_pred_np = predict_prob(w_np, X_test)\n",
    "p_pred_t = predict_t(params, X_test_t)\n",
    "p_pred = p_pred_t.detach().numpy()\n",
    "\n",
    "print(\"predictions from sklearn\")\n",
    "print(p_pred_np)\n",
    "print(\"predictions from torch\")\n",
    "print(p_pred)\n",
    "\n",
    "y_pred_np = p_pred_np > 0.5\n",
    "y_pred = p_pred > 0.5\n",
    "print(\"fraction of predicted labels that agree \", np.sum(y_pred_np == y_pred) / len(y_pred))"
   ],
   "execution_count": 36,
   "outputs": [
    {
     "output_type": "stream",
     "text": [
      "parameters from sklearn [-4.414 -9.111 6.539 12.686]\n",
      "parameters from torch tensor([ -7.1823, -10.0136,  11.5410,  10.1771], grad_fn=<SelectBackward>)\n",
      "predictions from sklearn\n",
      "[0.002 0.000 1.000 0.012 0.002 0.000 0.000 0.979 0.740 0.000 0.706 0.000\n",
      " 0.000 0.000 0.000 0.001 1.000 0.000 0.009 1.000 0.000 0.650 0.000 1.000\n",
      " 0.094 0.998 1.000 1.000 0.000 0.000 0.000 0.000 0.000 0.000 0.000 0.998\n",
      " 0.000 0.000 0.000 0.000 0.999 0.000 0.000 0.000 0.000 0.000 0.281 0.909\n",
      " 0.000 0.999]\n",
      "predictions from torch\n",
      "[0.005 0.000 1.000 0.007 0.001 0.000 0.000 0.841 0.655 0.000 0.619 0.000\n",
      " 0.000 0.000 0.000 0.000 1.000 0.000 0.022 1.000 0.000 0.734 0.000 1.000\n",
      " 0.360 0.995 1.000 1.000 0.000 0.000 0.000 0.000 0.000 0.000 0.000 0.999\n",
      " 0.000 0.000 0.000 0.000 1.000 0.000 0.000 0.000 0.000 0.000 0.698 0.992\n",
      " 0.000 1.000]\n",
      "fraction of predicted labels that agree  0.98\n"
     ],
     "name": "stdout"
    }
   ]
  },
  {
   "cell_type": "markdown",
   "metadata": {
    "id": "Jn1sZgoJ0d7s"
   },
   "source": [
    "# Modules\n",
    "\n",
    "We can define logistic regression as multilayer perceptron (MLP) with no hidden layers. This can be defined as a sequential neural network module. Modules hide the parameters inside each layer, which makes it easy to construct complex models, as we will see later on.\n"
   ]
  },
  {
   "cell_type": "markdown",
   "metadata": {
    "id": "DN7AA9V_lm9W"
   },
   "source": [
    "## Sequential model"
   ]
  },
  {
   "cell_type": "code",
   "metadata": {
    "colab": {
     "base_uri": "https://localhost:8080/"
    },
    "id": "fjF4RwWWe3-g",
    "outputId": "c4a911a2-9810-4929-f77d-e1e118733509"
   },
   "source": [
    "# Make an MLP with no hidden layers\n",
    "\n",
    "model = nn.Sequential(nn.Linear(D, 1, bias=False), nn.Sigmoid())\n",
    "print(model)\n",
    "print(model[0].weight)\n",
    "print(model[0].bias)"
   ],
   "execution_count": 22,
   "outputs": [
    {
     "output_type": "stream",
     "text": [
      "Sequential(\n",
      "  (0): Linear(in_features=4, out_features=1, bias=False)\n",
      "  (1): Sigmoid()\n",
      ")\n",
      "Parameter containing:\n",
      "tensor([[ 0.4141,  0.1839, -0.4931,  0.1987]], requires_grad=True)\n",
      "None\n"
     ],
     "name": "stdout"
    }
   ]
  },
  {
   "cell_type": "code",
   "metadata": {
    "colab": {
     "base_uri": "https://localhost:8080/"
    },
    "id": "Oie5FZnThX1B",
    "outputId": "91bec64e-ff8b-4c79-c74b-a284f6b19b36"
   },
   "source": [
    "# We set the parameters of the MLP by hand to match sklearn.\n",
    "# Torch linear layer computes X*W' + b (see https://pytorch.org/docs/stable/generated/torch.nn.Linear.html)\n",
    "# where X is N*Din, so W must be Dout*Din. Here Dout=1.\n",
    "print(model[0].weight.shape)\n",
    "print(w_np.shape)\n",
    "w = np.reshape(w_np, [-1, 1]).transpose()\n",
    "print(w.shape)\n",
    "model[0].weight = nn.Parameter(torch.Tensor(w))\n",
    "print(model[0].weight.shape)"
   ],
   "execution_count": 23,
   "outputs": [
    {
     "output_type": "stream",
     "text": [
      "torch.Size([1, 4])\n",
      "(4,)\n",
      "(1, 4)\n",
      "torch.Size([1, 4])\n"
     ],
     "name": "stdout"
    }
   ]
  },
  {
   "cell_type": "code",
   "metadata": {
    "colab": {
     "base_uri": "https://localhost:8080/"
    },
    "id": "simLA1V0fz4Y",
    "outputId": "4ed01d9d-9246-4ad4-e088-f30823fe07ab"
   },
   "source": [
    "p_pred_np = predict_prob(w_np, X_test)\n",
    "p_pred_t = model(X_test_t).detach().numpy()[:, 0]\n",
    "print(p_pred_np)\n",
    "print(p_pred_t)\n",
    "assert np.allclose(p_pred_np, p_pred_t)"
   ],
   "execution_count": 24,
   "outputs": [
    {
     "output_type": "stream",
     "text": [
      "[0.002 0.000 1.000 0.012 0.002 0.000 0.000 0.979 0.740 0.000 0.706 0.000\n",
      " 0.000 0.000 0.000 0.001 1.000 0.000 0.009 1.000 0.000 0.650 0.000 1.000\n",
      " 0.094 0.998 1.000 1.000 0.000 0.000 0.000 0.000 0.000 0.000 0.000 0.998\n",
      " 0.000 0.000 0.000 0.000 0.999 0.000 0.000 0.000 0.000 0.000 0.281 0.909\n",
      " 0.000 0.999]\n",
      "[0.002 0.000 1.000 0.012 0.002 0.000 0.000 0.979 0.740 0.000 0.706 0.000\n",
      " 0.000 0.000 0.000 0.001 1.000 0.000 0.009 1.000 0.000 0.650 0.000 1.000\n",
      " 0.094 0.998 1.000 1.000 0.000 0.000 0.000 0.000 0.000 0.000 0.000 0.998\n",
      " 0.000 0.000 0.000 0.000 0.999 0.000 0.000 0.000 0.000 0.000 0.281 0.909\n",
      " 0.000 0.999]\n"
     ],
     "name": "stdout"
    }
   ]
  },
  {
   "cell_type": "code",
   "metadata": {
    "colab": {
     "base_uri": "https://localhost:8080/"
    },
    "id": "1K60WLEOl-_3",
    "outputId": "bee54e14-5b0f-459b-f794-09dcdfadb216"
   },
   "source": [
    "# we can assign names to each layer in the sequence\n",
    "\n",
    "from collections import OrderedDict\n",
    "\n",
    "model = nn.Sequential(OrderedDict([(\"linear_layer\", nn.Linear(D, 1, bias=False)), (\"output_activation\", nn.Sigmoid())]))\n",
    "print(model)\n",
    "print(model.linear_layer)\n",
    "print(model.linear_layer.weight)\n",
    "print(model.output_activation)"
   ],
   "execution_count": 25,
   "outputs": [
    {
     "output_type": "stream",
     "text": [
      "Sequential(\n",
      "  (linear_layer): Linear(in_features=4, out_features=1, bias=False)\n",
      "  (output_activation): Sigmoid()\n",
      ")\n",
      "Linear(in_features=4, out_features=1, bias=False)\n",
      "Parameter containing:\n",
      "tensor([[ 0.4850, -0.2075,  0.3661,  0.4047]], requires_grad=True)\n",
      "Sigmoid()\n"
     ],
     "name": "stdout"
    }
   ]
  },
  {
   "cell_type": "code",
   "metadata": {
    "colab": {
     "base_uri": "https://localhost:8080/"
    },
    "id": "c-O4sR1zmpn2",
    "outputId": "6ca16746-d4b3-443c-aaa8-431bdf739810"
   },
   "source": [
    "# some layers define adjustable parameters, which can be optimized.\n",
    "# we can inspect them thus:\n",
    "for name, param in model.named_parameters():\n",
    "    print(name, param.shape)"
   ],
   "execution_count": 26,
   "outputs": [
    {
     "output_type": "stream",
     "text": [
      "linear_layer.weight torch.Size([1, 4])\n"
     ],
     "name": "stdout"
    }
   ]
  },
  {
   "cell_type": "markdown",
   "metadata": {
    "id": "MlirdZ6rlrE0"
   },
   "source": [
    "## Subclass the Module class\n",
    "\n",
    "For more complex models (eg non-sequential), we can create our own subclass. We just need to define a 'forward' method that maps inputs to outputs, as we show below."
   ]
  },
  {
   "cell_type": "code",
   "metadata": {
    "id": "xp1y2uzD6xGD",
    "colab": {
     "base_uri": "https://localhost:8080/"
    },
    "outputId": "f68029fb-0bf9-44f0-a348-462acd329afa"
   },
   "source": [
    "class Model(torch.nn.Module):\n",
    "    def __init__(self):\n",
    "        super(Model, self).__init__()\n",
    "        self.linear = torch.nn.Linear(D, 1, bias=False)\n",
    "\n",
    "    def forward(self, x):\n",
    "        y_pred = torch.sigmoid(self.linear(x))\n",
    "        return y_pred[:, 0]  # (N,1) -> (N)\n",
    "\n",
    "\n",
    "set_seed(0)\n",
    "model = Model()\n",
    "w = np.reshape(w_np, [-1, 1]).transpose()\n",
    "model.linear.weight = nn.Parameter(torch.Tensor(w))\n",
    "\n",
    "p_pred_np = predict_prob(w_np, X_test)\n",
    "p_pred_t = model(X_test_t)  # calls model.__call__ which calls model.forward()\n",
    "p_pred = p_pred_t.detach().numpy()\n",
    "print(p_pred_np)\n",
    "print(p_pred)\n",
    "assert np.allclose(p_pred_np, p_pred)"
   ],
   "execution_count": 28,
   "outputs": [
    {
     "output_type": "stream",
     "text": [
      "[0.002 0.000 1.000 0.012 0.002 0.000 0.000 0.979 0.740 0.000 0.706 0.000\n",
      " 0.000 0.000 0.000 0.001 1.000 0.000 0.009 1.000 0.000 0.650 0.000 1.000\n",
      " 0.094 0.998 1.000 1.000 0.000 0.000 0.000 0.000 0.000 0.000 0.000 0.998\n",
      " 0.000 0.000 0.000 0.000 0.999 0.000 0.000 0.000 0.000 0.000 0.281 0.909\n",
      " 0.000 0.999]\n",
      "[0.002 0.000 1.000 0.012 0.002 0.000 0.000 0.979 0.740 0.000 0.706 0.000\n",
      " 0.000 0.000 0.000 0.001 1.000 0.000 0.009 1.000 0.000 0.650 0.000 1.000\n",
      " 0.094 0.998 1.000 1.000 0.000 0.000 0.000 0.000 0.000 0.000 0.000 0.998\n",
      " 0.000 0.000 0.000 0.000 0.999 0.000 0.000 0.000 0.000 0.000 0.281 0.909\n",
      " 0.000 0.999]\n"
     ],
     "name": "stdout"
    }
   ]
  },
  {
   "cell_type": "markdown",
   "metadata": {
    "id": "dZqfTc03JIV7"
   },
   "source": [
    "## SGD on a module\n",
    "\n",
    "We can optimize the parameters of a module by passing a reference to them into the optimizer, as we show below."
   ]
  },
  {
   "cell_type": "code",
   "metadata": {
    "colab": {
     "base_uri": "https://localhost:8080/",
     "height": 435
    },
    "id": "1K-Suo6jHynP",
    "outputId": "0c7918c6-76fc-49f2-e1cb-5a717568a680"
   },
   "source": [
    "nepochs = 100\n",
    "nbatches = len(dataloader)\n",
    "criterion = torch.nn.BCELoss(reduction=\"mean\")\n",
    "learning_rate = 1e-1\n",
    "loss_trace = []\n",
    "\n",
    "set_seed(0)\n",
    "model = Model()\n",
    "optimizer = torch.optim.Adam(model.parameters(), lr=learning_rate)\n",
    "\n",
    "for epoch in range(nepochs):\n",
    "    for b, batch in enumerate(dataloader):\n",
    "        X, y = batch\n",
    "\n",
    "        y_pred = model(X)  # predict/ forward function\n",
    "        loss = criterion(y_pred, y)\n",
    "        # print(f'epoch {epoch}, batch {b}, loss: {loss.item()}')\n",
    "        loss_trace.append(loss)\n",
    "\n",
    "        optimizer.zero_grad()\n",
    "        loss.backward()\n",
    "        optimizer.step()\n",
    "\n",
    "    # print(f'end of epoch {epoch}, loss: {loss.item()}')\n",
    "\n",
    "plt.figure()\n",
    "plt.plot(loss_trace)\n",
    "\n",
    "\n",
    "y_pred_np = predict_prob(w_np, X_test)\n",
    "y_pred_t = model(X_test_t)\n",
    "y_pred = y_pred_t.detach().numpy()\n",
    "print(y_pred_np)\n",
    "print(y_pred)"
   ],
   "execution_count": 30,
   "outputs": [
    {
     "output_type": "stream",
     "text": [
      "[0.002 0.000 1.000 0.012 0.002 0.000 0.000 0.979 0.740 0.000 0.706 0.000\n",
      " 0.000 0.000 0.000 0.001 1.000 0.000 0.009 1.000 0.000 0.650 0.000 1.000\n",
      " 0.094 0.998 1.000 1.000 0.000 0.000 0.000 0.000 0.000 0.000 0.000 0.998\n",
      " 0.000 0.000 0.000 0.000 0.999 0.000 0.000 0.000 0.000 0.000 0.281 0.909\n",
      " 0.000 0.999]\n",
      "[0.235 0.000 0.994 0.382 0.257 0.000 0.097 0.884 0.705 0.130 0.756 0.000\n",
      " 0.000 0.000 0.000 0.264 0.970 0.168 0.339 0.976 0.000 0.723 0.000 0.965\n",
      " 0.567 0.934 0.945 0.961 0.000 0.000 0.000 0.000 0.094 0.000 0.000 0.917\n",
      " 0.166 0.000 0.000 0.000 0.936 0.226 0.196 0.000 0.000 0.123 0.591 0.795\n",
      " 0.127 0.949]\n"
     ],
     "name": "stdout"
    },
    {
     "output_type": "display_data",
     "data": {
      "image/png": "[encoded data removed]",
      "text/plain": [
       "<Figure size 432x288 with 1 Axes>"
      ]
     },
     "metadata": {
      "tags": [],
      "needs_background": "light"
     }
    }
   ]
  },
  {
   "cell_type": "markdown",
   "metadata": {
    "id": "MGbegp5xJKSN"
   },
   "source": [
    "## Batch optimization on a module\n",
    "\n",
    "SGD does not match the results of sklearn. However, this is not because of the way we defined the model, it's just because SGD is a bad optimizer. Here we show that BFGS gives exactly the same results as sklearn.\n"
   ]
  },
  {
   "cell_type": "code",
   "metadata": {
    "colab": {
     "base_uri": "https://localhost:8080/"
    },
    "id": "5BN5X-1w62ST",
    "outputId": "a05136f2-326e-4675-da1a-8de71cffaeed"
   },
   "source": [
    "set_seed(0)\n",
    "model = Model()\n",
    "optimizer = torch.optim.LBFGS(model.parameters(), history_size=10)\n",
    "\n",
    "criterion = torch.nn.BCELoss(reduction=\"mean\")\n",
    "\n",
    "\n",
    "def closure():\n",
    "    optimizer.zero_grad()\n",
    "    y_pred = model(X_train_t)\n",
    "    loss = criterion(y_pred, y_train_t)\n",
    "    loss.backward()\n",
    "    return loss\n",
    "\n",
    "\n",
    "max_iter = 10\n",
    "loss_trace = []\n",
    "for i in range(max_iter):\n",
    "    loss = optimizer.step(closure)\n",
    "    # print(loss)\n",
    "\n",
    "y_pred_np = predict_prob(w_np, X_test)\n",
    "y_pred_t = model(X_test_t)\n",
    "y_pred = y_pred_t.detach().numpy()\n",
    "print(y_pred_np)\n",
    "print(y_pred)"
   ],
   "execution_count": 31,
   "outputs": [
    {
     "output_type": "stream",
     "text": [
      "[0.002 0.000 1.000 0.012 0.002 0.000 0.000 0.979 0.740 0.000 0.706 0.000\n",
      " 0.000 0.000 0.000 0.001 1.000 0.000 0.009 1.000 0.000 0.650 0.000 1.000\n",
      " 0.094 0.998 1.000 1.000 0.000 0.000 0.000 0.000 0.000 0.000 0.000 0.998\n",
      " 0.000 0.000 0.000 0.000 0.999 0.000 0.000 0.000 0.000 0.000 0.281 0.909\n",
      " 0.000 0.999]\n",
      "[0.002 0.000 1.000 0.012 0.002 0.000 0.000 0.979 0.740 0.000 0.706 0.000\n",
      " 0.000 0.000 0.000 0.001 1.000 0.000 0.009 1.000 0.000 0.650 0.000 1.000\n",
      " 0.094 0.998 1.000 1.000 0.000 0.000 0.000 0.000 0.000 0.000 0.000 0.998\n",
      " 0.000 0.000 0.000 0.000 0.999 0.000 0.000 0.000 0.000 0.000 0.281 0.909\n",
      " 0.000 0.999]\n"
     ],
     "name": "stdout"
    }
   ]
  },
  {
   "cell_type": "markdown",
   "metadata": {
    "id": "jQTxqUFg4L1W"
   },
   "source": [
    "# Multi-class logistic regression\n",
    "\n",
    "For binary classification problems, we can use a sigmoid as the final layer, to return probabilities. The corresponding loss is the binary cross entropy, [nn.BCELoss(pred_prob, true_label)](https://pytorch.org/docs/stable/generated/torch.nn.BCELoss.html), where pred_prob is of shape (B) with entries in [0,1], and true_label is of shape (B) with entries in 0 or 1. (Here B=batch size.) Alternatively the model can return the logit score, and use [nn.BCEWithLogitsLoss(pred_score, true_label)](https://pytorch.org/docs/stable/generated/torch.nn.BCEWithLogitsLoss.html).\n",
    "\n",
    "For multiclass classifiction, the final layer can return the log probabilities using LogSoftmax layer, combined with the negative log likelihood loss, [nn.NLLLoss(pred_log_probs, true_label)](https://pytorch.org/docs/stable/generated/torch.nn.NLLLoss.html), where pred_log_probs is of shape B*C matrix, and true_label is of shape B  with entries in {0,1,..C-1}.\n",
    "(Note that the target labels are integers, not sparse one-hot vectors.)\n",
    "Alternatively, we can just return the vector of logit scores, and use [nn.CrossEntropyLoss(logits, true_label)](https://pytorch.org/docs/stable/generated/torch.nn.CrossEntropyLoss.html). The above two methods should give the same results.\n"
   ]
  },
  {
   "cell_type": "code",
   "metadata": {
    "id": "j7g6aFCD7KI5"
   },
   "source": [
    "# code me"
   ],
   "execution_count": null,
   "outputs": []
  }
 ]
}