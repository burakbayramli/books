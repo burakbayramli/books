{
 "cells": [
  {
   "cell_type": "code",
   "execution_count": null,
   "id": "48019138",
   "metadata": {},
   "outputs": [],
   "source": [
    "# Illustrate the power method for computing largest eigenvector\n",
    "\n",
    "\n",
    "import numpy as np\n",
    "from numpy.linalg import norm\n",
    "\n",
    "np.random.seed(0)\n",
    "\n",
    "\n",
    "def power_method(A, max_iter=100, tol=1e-5):\n",
    "    n = np.shape(A)[0]\n",
    "    u = np.random.rand(n)\n",
    "    converged = False\n",
    "    iter = 0\n",
    "    while (not converged) and (iter < max_iter):\n",
    "        old_u = u\n",
    "        u = np.dot(A, u)\n",
    "        u = u / norm(u)\n",
    "        lam = np.dot(u, np.dot(A, u))\n",
    "        converged = norm(u - old_u) < tol\n",
    "        iter += 1\n",
    "    return lam, u\n",
    "\n",
    "\n",
    "X = np.random.randn(10, 5)\n",
    "A = np.dot(X.T, X)\n",
    "lam, u = power_method(A)\n",
    "\n",
    "evals, evecs = np.linalg.eig(A)\n",
    "idx = np.argsort(np.abs(evals))[::-1]  # largest first\n",
    "evals = evals[idx]\n",
    "evecs = evecs[:, idx]\n",
    "\n",
    "tol = 1e-3\n",
    "assert np.isclose(np.abs(np.dot(evecs[:, 0], u)), 1, tol)\n",
    "assert np.allclose(evals[0], lam, tol)"
   ]
  }
 ],
 "metadata": {
  "language_info": {
   "name": "python"
  }
 },
 "nbformat": 4,
 "nbformat_minor": 5
}
