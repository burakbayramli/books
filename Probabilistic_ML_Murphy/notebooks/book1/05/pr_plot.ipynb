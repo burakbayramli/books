{
 "cells": [
  {
   "cell_type": "code",
   "execution_count": null,
   "id": "6513e5a5",
   "metadata": {},
   "outputs": [],
   "source": [
    "# Precision-recall curve for two hypothetical classifications systems.\n",
    "# A is better than B.\n",
    "\n",
    "\n",
    "import numpy as np\n",
    "import matplotlib.pyplot as plt\n",
    "\n",
    "try:\n",
    "    import probml_utils as pml\n",
    "except ModuleNotFoundError:\n",
    "    %pip install -qq git+https://github.com/probml/probml-utils.git\n",
    "    import probml_utils as pml\n",
    "\n",
    "\n",
    "fA = np.vectorize(lambda x: 1 - x**3)\n",
    "fB = np.vectorize(lambda x: 1 - x ** (3 / 2))\n",
    "x = np.arange(0, 1, 0.01)\n",
    "plt.plot(x, fA(x), \"r-\", linewidth=3)\n",
    "plt.plot(x, fB(x), \"b-\", linewidth=3)\n",
    "\n",
    "plt.text(0.6, 0.8, \"A\", color=\"red\", size=\"xx-large\")\n",
    "plt.text(0.1, 0.8, \"B\", color=\"blue\", size=\"xx-large\")\n",
    "\n",
    "plt.axis([0, 1, 0, 1.01])\n",
    "plt.xlabel(\"recall\", fontsize=14)\n",
    "plt.ylabel(\"precision\", fontsize=14)\n",
    "plt.legend()\n",
    "pml.savefig(\"PRhand.pdf\")\n",
    "plt.show()"
   ]
  }
 ],
 "metadata": {},
 "nbformat": 4,
 "nbformat_minor": 5
}
