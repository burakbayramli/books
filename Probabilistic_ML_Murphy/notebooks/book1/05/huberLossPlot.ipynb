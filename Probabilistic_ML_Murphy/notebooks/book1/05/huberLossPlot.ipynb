{
 "cells": [
  {
   "cell_type": "code",
   "execution_count": null,
   "id": "e91ad42f",
   "metadata": {},
   "outputs": [],
   "source": [
    "import numpy as np\n",
    "import matplotlib.pyplot as plt\n",
    "\n",
    "try:\n",
    "    import probml_utils as pml\n",
    "except ModuleNotFoundError:\n",
    "    %pip install -qq git+https://github.com/probml/probml-utils.git\n",
    "    import probml_utils as pml\n",
    "\n",
    "err = np.linspace(-3.0, 3.0, 60)\n",
    "L1 = abs(err)\n",
    "L2 = err**2\n",
    "delta = 1.5\n",
    "ind = abs(err) <= delta\n",
    "huber = np.multiply(0.5 * ind, (err**2)) + np.multiply((1 - ind), (delta * (abs(err) - delta / 2)))\n",
    "vapnik = np.multiply(ind, 0) + np.multiply((1 - ind), (abs(err) - delta))\n",
    "\n",
    "\n",
    "plt.plot(err, L1, \"k-.\")\n",
    "plt.plot(err, L2, \"r-\")\n",
    "plt.plot(err, vapnik, \"b:\")\n",
    "plt.plot(err, huber, \"g-.\")\n",
    "plt.legend([\"L1\", \"L2\", \"$ϵ$-insensitive\", \"huber\"])\n",
    "plt.ylim((-0.5, 5))\n",
    "pml.savefig(\"Huber.pdf\")\n",
    "plt.show()"
   ]
  }
 ],
 "metadata": {},
 "nbformat": 4,
 "nbformat_minor": 5
}
