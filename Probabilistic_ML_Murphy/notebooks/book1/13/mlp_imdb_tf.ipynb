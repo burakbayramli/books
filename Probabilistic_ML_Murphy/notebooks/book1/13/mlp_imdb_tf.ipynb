{
 "cells": [
  {
   "cell_type": "markdown",
   "metadata": {
    "colab_type": "text",
    "id": "view-in-github"
   },
   "source": [
    "<a href=\"https://colab.research.google.com/github/probml/pyprobml/blob/master/book1/mlp/mlp_imdb_tf.ipynb\" target=\"_parent\"><img src=\"https://colab.research.google.com/assets/colab-badge.svg\" alt=\"Open In Colab\"/></a>"
   ]
  },
  {
   "cell_type": "markdown",
   "metadata": {
    "id": "kxiXt-gMpkL2"
   },
   "source": [
    "# MLP applied to IMDB movie reviews (binary sentiment analysis) <a class=\"anchor\" id=\"imdb-keras-mlp\"></a>\n",
    "\n",
    "We use the IMDB movie review dataset, where the task is to classify the sentiment of the review as positive or negative. We use the preprocessed version of the dataset from\n",
    "https://www.tensorflow.org/datasets"
   ]
  },
  {
   "cell_type": "code",
   "execution_count": 1,
   "metadata": {
    "id": "l3Gn9enu4hNY"
   },
   "outputs": [],
   "source": [
    "\n",
    "try:\n",
    "    # %tensorflow_version only exists in Colab.\n",
    "    %tensorflow_version 2.x\n",
    "    IS_COLAB = True\n",
    "except Exception:\n",
    "    IS_COLAB = False\n",
    "\n",
    "# TensorFlow ≥2.0 is required\n",
    "try:\n",
    "    import tensorflow as tf\n",
    "except ModuleNotFoundError:\n",
    "    %pip install -qq tensorflow\n",
    "    import tensorflow as tf\n",
    "from tensorflow import keras\n",
    "assert tf.__version__ >= \"2.0\"\n",
    "\n",
    "if not tf.config.list_physical_devices('GPU'):\n",
    "    print(\"No GPU was detected. DNNs can be very slow without a GPU.\")\n",
    "    if IS_COLAB:\n",
    "        print(\"Go to Runtime > Change runtime and select a GPU hardware accelerator.\")"
   ]
  },
  {
   "cell_type": "code",
   "execution_count": 2,
   "metadata": {
    "id": "CmUmao_Vregq"
   },
   "outputs": [],
   "source": [
    "# Standard Python libraries\n",
    "from __future__ import absolute_import, division, print_function, unicode_literals\n",
    "\n",
    "import os\n",
    "import time\n",
    "import numpy as np\n",
    "import glob\n",
    "import matplotlib.pyplot as plt\n",
    "import PIL\n",
    "\n",
    "try:\n",
    "    import imageio\n",
    "except ModuleNotFoundError:\n",
    "    %pip install -qq imageio\n",
    "    import imageio\n",
    "from IPython import display\n",
    "import sklearn\n",
    "from time import time"
   ]
  },
  {
   "cell_type": "code",
   "execution_count": 5,
   "metadata": {
    "colab": {
     "base_uri": "https://localhost:8080/"
    },
    "id": "zK91S3jWrww3",
    "outputId": "c4c54645-0fea-4d57-bd8e-b691e08b05cf"
   },
   "outputs": [
    {
     "name": "stdout",
     "output_type": "stream",
     "text": [
      "(25000,)\n",
      "[1, 14, 22, 16, 43, 530, 973, 1622, 1385, 65, 458, 4468, 66, 3941, 4, 173, 36, 256, 5, 25, 100, 43, 838, 112, 50, 670, 2, 9, 35, 480, 284, 5, 150, 4, 172, 112, 167, 2, 336, 385, 39, 4, 172, 4536, 1111, 17, 546, 38, 13, 447, 4, 192, 50, 16, 6, 147, 2025, 19, 14, 22, 4, 1920, 4613, 469, 4, 22, 71, 87, 12, 16, 43, 530, 38, 76, 15, 13, 1247, 4, 22, 17, 515, 17, 12, 16, 626, 18, 2, 5, 62, 386, 12, 8, 316, 8, 106, 5, 4, 2223, 5244, 16, 480, 66, 3785, 33, 4, 130, 12, 16, 38, 619, 5, 25, 124, 51, 36, 135, 48, 25, 1415, 33, 6, 22, 12, 215, 28, 77, 52, 5, 14, 407, 16, 82, 2, 8, 4, 107, 117, 5952, 15, 256, 4, 2, 7, 3766, 5, 723, 36, 71, 43, 530, 476, 26, 400, 317, 46, 7, 4, 2, 1029, 13, 104, 88, 4, 381, 15, 297, 98, 32, 2071, 56, 26, 141, 6, 194, 7486, 18, 4, 226, 22, 21, 134, 476, 26, 480, 5, 144, 30, 5535, 18, 51, 36, 28, 224, 92, 25, 104, 4, 226, 65, 16, 38, 1334, 88, 12, 16, 283, 5, 16, 4472, 113, 103, 32, 15, 16, 5345, 19, 178, 32]\n",
      "example 0, label 1\n",
      "<START> this film was just brilliant casting location scenery story direction everyone's really suited the part they played and you could just imagine being there robert <UNK> is an amazing actor and now the same being director <UNK> father came from the same scottish island as myself so i loved the fact there was a real connection with this film the witty remarks throughout the film were great it was just brilliant so much that i bought the film as soon as it was released for <UNK> and would recommend it to everyone to watch and the fly fishing was amazing really cried at the end it was so sad and you know what they say if you cry at a film it must have been good and this definitely was also <UNK> to the two little boy's that played the <UNK> of norman and paul they were just brilliant children are often left out of the <UNK> list i think because the stars that play them all grown up are such a big profile for the whole film but these children are amazing and should be praised for what they have done don't you think the whole story was so lovely because it was true and was someone's life after all that was shared with us all\n",
      "example 1, label 0\n",
      "<START> big hair big boobs bad music and a giant safety pin these are the words to best describe this terrible movie i love cheesy horror movies and i've seen hundreds but this had got to be on of the worst ever made the plot is paper thin and ridiculous the acting is an abomination the script is completely laughable the best is the end showdown with the cop and how he worked out who the killer is it's just so damn terribly written the clothes are sickening and funny in equal <UNK> the hair is big lots of boobs <UNK> men wear those cut <UNK> shirts that show off their <UNK> sickening that men actually wore them and the music is just <UNK> trash that plays over and over again in almost every scene there is trashy music boobs and <UNK> taking away bodies and the gym still doesn't close for <UNK> all joking aside this is a truly bad film whose only charm is to look back on the disaster that was the 80's and have a good old laugh at how bad everything was back then\n"
     ]
    }
   ],
   "source": [
    "# We can also use the version that ships with keras (this does not require an additional download)\n",
    "imdb = keras.datasets.imdb\n",
    "\n",
    "vocab_size = 10000\n",
    "(train_data, train_labels), (test_data, test_labels) = imdb.load_data(num_words=vocab_size)\n",
    "print(np.shape(train_data))  # (25000)\n",
    "print(train_data[0])\n",
    "# [1, 14, 22, 16, 43, 530, 973, 1622, 1385, 65, 458, 4468, 66, 3941...]\n",
    "\n",
    "word_index = imdb.get_word_index()\n",
    "word_index = {k: (v + 3) for k, v in word_index.items()}\n",
    "word_index[\"<PAD>\"] = 0\n",
    "word_index[\"<START>\"] = 1\n",
    "word_index[\"<UNK>\"] = 2  # unknown\n",
    "word_index[\"<UNUSED>\"] = 3\n",
    "reverse_word_index = dict([(value, key) for (key, value) in word_index.items()])\n",
    "\n",
    "\n",
    "def decode_review(text):\n",
    "    return \" \".join([reverse_word_index.get(i, \"?\") for i in text])\n",
    "\n",
    "\n",
    "for i in range(2):\n",
    "    print(\"example {}, label {}\".format(i, train_labels[i]))\n",
    "    print(decode_review(train_data[i]))"
   ]
  },
  {
   "cell_type": "code",
   "execution_count": 6,
   "metadata": {
    "colab": {
     "base_uri": "https://localhost:8080/"
    },
    "id": "2XbwNZw3r0En",
    "outputId": "2a12a2f0-7387-4283-e687-bd2c8558af26"
   },
   "outputs": [
    {
     "name": "stdout",
     "output_type": "stream",
     "text": [
      "(25000, 256)\n",
      "[   1   14   22   16   43  530  973 1622 1385   65  458 4468   66 3941\n",
      "    4  173   36  256    5   25  100   43  838  112   50  670    2    9\n",
      "   35  480  284    5  150    4  172  112  167    2  336  385   39    4\n",
      "  172 4536 1111   17  546   38   13  447    4  192   50   16    6  147\n",
      " 2025   19   14   22    4 1920 4613  469    4   22   71   87   12   16\n",
      "   43  530   38   76   15   13 1247    4   22   17  515   17   12   16\n",
      "  626   18    2    5   62  386   12    8  316    8  106    5    4 2223\n",
      " 5244   16  480   66 3785   33    4  130   12   16   38  619    5   25\n",
      "  124   51   36  135   48   25 1415   33    6   22   12  215   28   77\n",
      "   52    5   14  407   16   82    2    8    4  107  117 5952   15  256\n",
      "    4    2    7 3766    5  723   36   71   43  530  476   26  400  317\n",
      "   46    7    4    2 1029   13  104   88    4  381   15  297   98   32\n",
      " 2071   56   26  141    6  194 7486   18    4  226   22   21  134  476\n",
      "   26  480    5  144   30 5535   18   51   36   28  224   92   25  104\n",
      "    4  226   65   16   38 1334   88   12   16  283    5   16 4472  113\n",
      "  103   32   15   16 5345   19  178   32    0    0    0    0    0    0\n",
      "    0    0    0    0    0    0    0    0    0    0    0    0    0    0\n",
      "    0    0    0    0    0    0    0    0    0    0    0    0    0    0\n",
      "    0    0    0    0]\n"
     ]
    }
   ],
   "source": [
    "# Keras padding - every example in the dataset has fixed length\n",
    "\n",
    "train_data = keras.preprocessing.sequence.pad_sequences(\n",
    "    train_data, value=word_index[\"<PAD>\"], padding=\"post\", maxlen=256\n",
    ")\n",
    "\n",
    "test_data = keras.preprocessing.sequence.pad_sequences(test_data, value=word_index[\"<PAD>\"], padding=\"post\", maxlen=256)\n",
    "\n",
    "print(train_data.shape)\n",
    "print(train_data[0])"
   ]
  },
  {
   "cell_type": "code",
   "execution_count": 7,
   "metadata": {
    "colab": {
     "base_uri": "https://localhost:8080/"
    },
    "id": "OMKgm6Mtr2St",
    "outputId": "d3c5446f-618d-41d7-fded-08bb8217de68"
   },
   "outputs": [
    {
     "name": "stdout",
     "output_type": "stream",
     "text": [
      "Model: \"sequential\"\n",
      "_________________________________________________________________\n",
      "Layer (type)                 Output Shape              Param #   \n",
      "=================================================================\n",
      "embedding (Embedding)        (None, None, 16)          160000    \n",
      "_________________________________________________________________\n",
      "global_average_pooling1d (Gl (None, 16)                0         \n",
      "_________________________________________________________________\n",
      "dense (Dense)                (None, 16)                272       \n",
      "_________________________________________________________________\n",
      "dense_1 (Dense)              (None, 1)                 17        \n",
      "=================================================================\n",
      "Total params: 160,289\n",
      "Trainable params: 160,289\n",
      "Non-trainable params: 0\n",
      "_________________________________________________________________\n"
     ]
    }
   ],
   "source": [
    "embed_size = 16\n",
    "\n",
    "\n",
    "def make_model(embed_size):\n",
    "    tf.random.set_seed(42)\n",
    "    np.random.seed(42)\n",
    "    model = keras.Sequential()\n",
    "    model.add(keras.layers.Embedding(vocab_size, embed_size))\n",
    "    model.add(keras.layers.GlobalAveragePooling1D())\n",
    "    model.add(keras.layers.Dense(16, activation=tf.nn.relu))\n",
    "    model.add(keras.layers.Dense(1, activation=tf.nn.sigmoid))\n",
    "    model.compile(optimizer=\"adam\", loss=\"binary_crossentropy\", metrics=[\"acc\"])\n",
    "    return model\n",
    "\n",
    "\n",
    "model = make_model(embed_size)\n",
    "model.summary()"
   ]
  },
  {
   "cell_type": "code",
   "execution_count": 8,
   "metadata": {
    "colab": {
     "base_uri": "https://localhost:8080/"
    },
    "id": "QhoUkXBWr4ds",
    "outputId": "1ea2c56a-fe24-4b55-df42-019befe399c9"
   },
   "outputs": [
    {
     "name": "stdout",
     "output_type": "stream",
     "text": [
      "Epoch 1/50\n",
      "30/30 [==============================] - 0s 17ms/step - loss: 0.6917 - acc: 0.5245 - val_loss: 0.6891 - val_acc: 0.5353\n",
      "Epoch 2/50\n",
      "30/30 [==============================] - 0s 13ms/step - loss: 0.6844 - acc: 0.6204 - val_loss: 0.6796 - val_acc: 0.7214\n",
      "Epoch 3/50\n",
      "30/30 [==============================] - 0s 12ms/step - loss: 0.6700 - acc: 0.7399 - val_loss: 0.6630 - val_acc: 0.6894\n",
      "Epoch 4/50\n",
      "30/30 [==============================] - 0s 13ms/step - loss: 0.6465 - acc: 0.7456 - val_loss: 0.6363 - val_acc: 0.7644\n",
      "Epoch 5/50\n",
      "30/30 [==============================] - 0s 13ms/step - loss: 0.6129 - acc: 0.7871 - val_loss: 0.6016 - val_acc: 0.7877\n",
      "Epoch 6/50\n",
      "30/30 [==============================] - 0s 13ms/step - loss: 0.5714 - acc: 0.8108 - val_loss: 0.5612 - val_acc: 0.8076\n",
      "Epoch 7/50\n",
      "30/30 [==============================] - 0s 13ms/step - loss: 0.5255 - acc: 0.8345 - val_loss: 0.5191 - val_acc: 0.8228\n",
      "Epoch 8/50\n",
      "30/30 [==============================] - 0s 13ms/step - loss: 0.4798 - acc: 0.8501 - val_loss: 0.4795 - val_acc: 0.8355\n",
      "Epoch 9/50\n",
      "30/30 [==============================] - 0s 13ms/step - loss: 0.4374 - acc: 0.8631 - val_loss: 0.4447 - val_acc: 0.8446\n",
      "Epoch 10/50\n",
      "30/30 [==============================] - 0s 12ms/step - loss: 0.4005 - acc: 0.8731 - val_loss: 0.4142 - val_acc: 0.8541\n",
      "Epoch 11/50\n",
      "30/30 [==============================] - 0s 13ms/step - loss: 0.3679 - acc: 0.8827 - val_loss: 0.3899 - val_acc: 0.8588\n",
      "Epoch 12/50\n",
      "30/30 [==============================] - 0s 13ms/step - loss: 0.3401 - acc: 0.8909 - val_loss: 0.3706 - val_acc: 0.8636\n",
      "Epoch 13/50\n",
      "30/30 [==============================] - 0s 12ms/step - loss: 0.3172 - acc: 0.8962 - val_loss: 0.3533 - val_acc: 0.8692\n",
      "Epoch 14/50\n",
      "30/30 [==============================] - 0s 13ms/step - loss: 0.2972 - acc: 0.9017 - val_loss: 0.3403 - val_acc: 0.8730\n",
      "Epoch 15/50\n",
      "30/30 [==============================] - 0s 13ms/step - loss: 0.2791 - acc: 0.9074 - val_loss: 0.3291 - val_acc: 0.8751\n",
      "Epoch 16/50\n",
      "30/30 [==============================] - 0s 13ms/step - loss: 0.2631 - acc: 0.9119 - val_loss: 0.3214 - val_acc: 0.8749\n",
      "Epoch 17/50\n",
      "30/30 [==============================] - 0s 13ms/step - loss: 0.2497 - acc: 0.9153 - val_loss: 0.3127 - val_acc: 0.8800\n",
      "Epoch 18/50\n",
      "30/30 [==============================] - 0s 13ms/step - loss: 0.2365 - acc: 0.9209 - val_loss: 0.3066 - val_acc: 0.8814\n",
      "Epoch 19/50\n",
      "30/30 [==============================] - 0s 13ms/step - loss: 0.2250 - acc: 0.9253 - val_loss: 0.3014 - val_acc: 0.8810\n",
      "Epoch 20/50\n",
      "30/30 [==============================] - 0s 13ms/step - loss: 0.2142 - acc: 0.9274 - val_loss: 0.2975 - val_acc: 0.8811\n",
      "Epoch 21/50\n",
      "30/30 [==============================] - 0s 12ms/step - loss: 0.2049 - acc: 0.9303 - val_loss: 0.2939 - val_acc: 0.8832\n",
      "Epoch 22/50\n",
      "30/30 [==============================] - 0s 14ms/step - loss: 0.1953 - acc: 0.9355 - val_loss: 0.2914 - val_acc: 0.8838\n",
      "Epoch 23/50\n",
      "30/30 [==============================] - 0s 12ms/step - loss: 0.1867 - acc: 0.9399 - val_loss: 0.2896 - val_acc: 0.8845\n",
      "Epoch 24/50\n",
      "30/30 [==============================] - 0s 13ms/step - loss: 0.1790 - acc: 0.9425 - val_loss: 0.2879 - val_acc: 0.8838\n",
      "Epoch 25/50\n",
      "30/30 [==============================] - 0s 13ms/step - loss: 0.1711 - acc: 0.9448 - val_loss: 0.2868 - val_acc: 0.8841\n",
      "Epoch 26/50\n",
      "30/30 [==============================] - 0s 13ms/step - loss: 0.1641 - acc: 0.9489 - val_loss: 0.2879 - val_acc: 0.8828\n",
      "Epoch 27/50\n",
      "30/30 [==============================] - 0s 13ms/step - loss: 0.1577 - acc: 0.9511 - val_loss: 0.2867 - val_acc: 0.8845\n",
      "Epoch 28/50\n",
      "30/30 [==============================] - 0s 13ms/step - loss: 0.1515 - acc: 0.9538 - val_loss: 0.2878 - val_acc: 0.8854\n",
      "Epoch 29/50\n",
      "30/30 [==============================] - 0s 12ms/step - loss: 0.1452 - acc: 0.9567 - val_loss: 0.2876 - val_acc: 0.8845\n",
      "Epoch 30/50\n",
      "30/30 [==============================] - 0s 12ms/step - loss: 0.1391 - acc: 0.9590 - val_loss: 0.2885 - val_acc: 0.8843\n",
      "Epoch 31/50\n",
      "30/30 [==============================] - 0s 13ms/step - loss: 0.1345 - acc: 0.9608 - val_loss: 0.2898 - val_acc: 0.8851\n",
      "Epoch 32/50\n",
      "30/30 [==============================] - 0s 12ms/step - loss: 0.1290 - acc: 0.9631 - val_loss: 0.2903 - val_acc: 0.8863\n",
      "Epoch 33/50\n",
      "30/30 [==============================] - 0s 12ms/step - loss: 0.1237 - acc: 0.9648 - val_loss: 0.2922 - val_acc: 0.8852\n",
      "Epoch 34/50\n",
      "30/30 [==============================] - 0s 12ms/step - loss: 0.1192 - acc: 0.9674 - val_loss: 0.2936 - val_acc: 0.8853\n",
      "Epoch 35/50\n",
      "30/30 [==============================] - 0s 13ms/step - loss: 0.1145 - acc: 0.9686 - val_loss: 0.2963 - val_acc: 0.8849\n",
      "Epoch 36/50\n",
      "30/30 [==============================] - 0s 12ms/step - loss: 0.1102 - acc: 0.9700 - val_loss: 0.2977 - val_acc: 0.8838\n",
      "Epoch 37/50\n",
      "30/30 [==============================] - 0s 12ms/step - loss: 0.1058 - acc: 0.9715 - val_loss: 0.3003 - val_acc: 0.8842\n",
      "Epoch 38/50\n",
      "30/30 [==============================] - 0s 12ms/step - loss: 0.1022 - acc: 0.9730 - val_loss: 0.3029 - val_acc: 0.8839\n",
      "Epoch 39/50\n",
      "30/30 [==============================] - 0s 12ms/step - loss: 0.0981 - acc: 0.9745 - val_loss: 0.3055 - val_acc: 0.8827\n",
      "Epoch 40/50\n",
      "30/30 [==============================] - 0s 13ms/step - loss: 0.0947 - acc: 0.9754 - val_loss: 0.3085 - val_acc: 0.8825\n",
      "Epoch 41/50\n",
      "30/30 [==============================] - 0s 12ms/step - loss: 0.0915 - acc: 0.9763 - val_loss: 0.3143 - val_acc: 0.8788\n",
      "Epoch 42/50\n",
      "30/30 [==============================] - 0s 13ms/step - loss: 0.0885 - acc: 0.9773 - val_loss: 0.3151 - val_acc: 0.8826\n",
      "Epoch 43/50\n",
      "30/30 [==============================] - 0s 13ms/step - loss: 0.0842 - acc: 0.9796 - val_loss: 0.3191 - val_acc: 0.8802\n",
      "Epoch 44/50\n",
      "30/30 [==============================] - 0s 13ms/step - loss: 0.0811 - acc: 0.9813 - val_loss: 0.3228 - val_acc: 0.8805\n",
      "Epoch 45/50\n",
      "30/30 [==============================] - 0s 13ms/step - loss: 0.0780 - acc: 0.9813 - val_loss: 0.3260 - val_acc: 0.8801\n",
      "Epoch 46/50\n",
      "30/30 [==============================] - 0s 12ms/step - loss: 0.0759 - acc: 0.9819 - val_loss: 0.3300 - val_acc: 0.8793\n",
      "Epoch 47/50\n",
      "30/30 [==============================] - 0s 13ms/step - loss: 0.0724 - acc: 0.9842 - val_loss: 0.3329 - val_acc: 0.8791\n",
      "Epoch 48/50\n",
      "30/30 [==============================] - 0s 12ms/step - loss: 0.0701 - acc: 0.9850 - val_loss: 0.3371 - val_acc: 0.8789\n",
      "Epoch 49/50\n",
      "30/30 [==============================] - 0s 13ms/step - loss: 0.0673 - acc: 0.9855 - val_loss: 0.3412 - val_acc: 0.8786\n",
      "Epoch 50/50\n",
      "30/30 [==============================] - 0s 13ms/step - loss: 0.0649 - acc: 0.9871 - val_loss: 0.3458 - val_acc: 0.8783\n"
     ]
    }
   ],
   "source": [
    "x_val = train_data[:10000]\n",
    "x_train = train_data[10000:]\n",
    "\n",
    "y_val = train_labels[:10000]\n",
    "y_train = train_labels[10000:]\n",
    "\n",
    "history = model.fit(x_train, y_train, epochs=50, batch_size=512, validation_data=(x_val, y_val), verbose=1)"
   ]
  },
  {
   "cell_type": "code",
   "execution_count": 9,
   "metadata": {
    "colab": {
     "base_uri": "https://localhost:8080/"
    },
    "id": "8lydqd93r6xw",
    "outputId": "53a99ed0-ad1a-4d09-e0cb-f3753c3e34c8"
   },
   "outputs": [
    {
     "name": "stdout",
     "output_type": "stream",
     "text": [
      "dict_keys(['loss', 'acc', 'val_loss', 'val_acc'])\n",
      "782/782 [==============================] - 1s 2ms/step - loss: 0.3712 - acc: 0.8652\n",
      "[0.37122461199760437, 0.8651999831199646]\n"
     ]
    }
   ],
   "source": [
    "history_dict = history.history\n",
    "print(history_dict.keys())\n",
    "\n",
    "results = model.evaluate(test_data, test_labels)\n",
    "print(results)"
   ]
  },
  {
   "cell_type": "code",
   "execution_count": 10,
   "metadata": {
    "colab": {
     "base_uri": "https://localhost:8080/",
     "height": 295
    },
    "id": "78JEUWz5r9BD",
    "outputId": "796ac88e-8a21-41ba-bbef-587b8529cffd"
   },
   "outputs": [
    {
     "data": {
      "image/png": "[encoded data removed]",
      "text/plain": [
       "<Figure size 432x288 with 1 Axes>"
      ]
     },
     "metadata": {
      "needs_background": "light",
      "tags": []
     },
     "output_type": "display_data"
    }
   ],
   "source": [
    "acc = history_dict[\"acc\"]\n",
    "val_acc = history_dict[\"val_acc\"]\n",
    "loss = history_dict[\"loss\"]\n",
    "val_loss = history_dict[\"val_loss\"]\n",
    "epochs = range(1, len(acc) + 1)\n",
    "fig, ax = plt.subplots()\n",
    "plt.plot(epochs, loss, \"bo\", label=\"Training loss\")\n",
    "plt.plot(epochs, val_loss, \"r-\", label=\"Validation loss\")\n",
    "plt.title(\"Training and validation loss\")\n",
    "plt.xlabel(\"Epochs\")\n",
    "plt.ylabel(\"Loss\")\n",
    "plt.legend()\n",
    "# save_fig(\"imdb-loss.pdf\")\n",
    "plt.show()"
   ]
  },
  {
   "cell_type": "code",
   "execution_count": 11,
   "metadata": {
    "colab": {
     "base_uri": "https://localhost:8080/",
     "height": 295
    },
    "id": "9PgxvslSr_5n",
    "outputId": "e69cdacf-9738-4882-8ce1-d2f6547092e9"
   },
   "outputs": [
    {
     "data": {
      "image/png": "[encoded data removed]",
      "text/plain": [
       "<Figure size 432x288 with 1 Axes>"
      ]
     },
     "metadata": {
      "needs_background": "light",
      "tags": []
     },
     "output_type": "display_data"
    }
   ],
   "source": [
    "fig, ax = plt.subplots()\n",
    "plt.plot(epochs, acc, \"bo\", label=\"Training acc\")\n",
    "plt.plot(epochs, val_acc, \"r\", label=\"Validation acc\")\n",
    "plt.title(\"Training and validation accuracy\")\n",
    "plt.xlabel(\"Epochs\")\n",
    "plt.ylabel(\"Accuracy\")\n",
    "plt.legend()\n",
    "# save_fig(\"imdb-acc.pdf\")\n",
    "plt.show()"
   ]
  },
  {
   "cell_type": "code",
   "execution_count": 12,
   "metadata": {
    "id": "wyzlGm5DsCdg"
   },
   "outputs": [],
   "source": [
    "# Now turn on early stopping\n",
    "# https://chrisalbon.com/deep_learning/keras/neural_network_early_stopping/\n",
    "\n",
    "\n",
    "class PrintDot(keras.callbacks.Callback):\n",
    "    def on_epoch_end(self, epoch, logs):\n",
    "        if epoch % 100 == 0:\n",
    "            print(\"\")\n",
    "        print(\".\", end=\"\")\n",
    "\n",
    "\n",
    "callbacks = [\n",
    "    PrintDot(),\n",
    "    keras.callbacks.EarlyStopping(monitor=\"val_acc\", patience=2),\n",
    "    keras.callbacks.ModelCheckpoint(filepath=\"imdb_keras_best_model.ckpt\", monitor=\"val_acc\", save_best_only=True),\n",
    "]"
   ]
  },
  {
   "cell_type": "code",
   "execution_count": 13,
   "metadata": {
    "colab": {
     "base_uri": "https://localhost:8080/",
     "height": 1000
    },
    "id": "atzh4weFsEsx",
    "outputId": "cea4fdd0-3158-4a63-94e1-1085ac8ddc68"
   },
   "outputs": [
    {
     "name": "stdout",
     "output_type": "stream",
     "text": [
      "\n",
      ".WARNING:tensorflow:From /usr/local/lib/python3.6/dist-packages/tensorflow/python/training/tracking/tracking.py:111: Model.state_updates (from tensorflow.python.keras.engine.training) is deprecated and will be removed in a future version.\n",
      "Instructions for updating:\n",
      "This property should not be used in TensorFlow 2.0, as updates are applied automatically.\n"
     ]
    },
    {
     "name": "stderr",
     "output_type": "stream",
     "text": [
      "WARNING:tensorflow:From /usr/local/lib/python3.6/dist-packages/tensorflow/python/training/tracking/tracking.py:111: Model.state_updates (from tensorflow.python.keras.engine.training) is deprecated and will be removed in a future version.\n",
      "Instructions for updating:\n",
      "This property should not be used in TensorFlow 2.0, as updates are applied automatically.\n"
     ]
    },
    {
     "name": "stdout",
     "output_type": "stream",
     "text": [
      "WARNING:tensorflow:From /usr/local/lib/python3.6/dist-packages/tensorflow/python/training/tracking/tracking.py:111: Layer.updates (from tensorflow.python.keras.engine.base_layer) is deprecated and will be removed in a future version.\n",
      "Instructions for updating:\n",
      "This property should not be used in TensorFlow 2.0, as updates are applied automatically.\n"
     ]
    },
    {
     "name": "stderr",
     "output_type": "stream",
     "text": [
      "WARNING:tensorflow:From /usr/local/lib/python3.6/dist-packages/tensorflow/python/training/tracking/tracking.py:111: Layer.updates (from tensorflow.python.keras.engine.base_layer) is deprecated and will be removed in a future version.\n",
      "Instructions for updating:\n",
      "This property should not be used in TensorFlow 2.0, as updates are applied automatically.\n"
     ]
    },
    {
     "name": "stdout",
     "output_type": "stream",
     "text": [
      "INFO:tensorflow:Assets written to: imdb_keras_best_model.ckpt/assets\n"
     ]
    },
    {
     "name": "stderr",
     "output_type": "stream",
     "text": [
      "INFO:tensorflow:Assets written to: imdb_keras_best_model.ckpt/assets\n"
     ]
    },
    {
     "name": "stdout",
     "output_type": "stream",
     "text": [
      ".INFO:tensorflow:Assets written to: imdb_keras_best_model.ckpt/assets\n"
     ]
    },
    {
     "name": "stderr",
     "output_type": "stream",
     "text": [
      "INFO:tensorflow:Assets written to: imdb_keras_best_model.ckpt/assets\n"
     ]
    },
    {
     "name": "stdout",
     "output_type": "stream",
     "text": [
      "..INFO:tensorflow:Assets written to: imdb_keras_best_model.ckpt/assets\n"
     ]
    },
    {
     "name": "stderr",
     "output_type": "stream",
     "text": [
      "INFO:tensorflow:Assets written to: imdb_keras_best_model.ckpt/assets\n"
     ]
    },
    {
     "name": "stdout",
     "output_type": "stream",
     "text": [
      ".INFO:tensorflow:Assets written to: imdb_keras_best_model.ckpt/assets\n"
     ]
    },
    {
     "name": "stderr",
     "output_type": "stream",
     "text": [
      "INFO:tensorflow:Assets written to: imdb_keras_best_model.ckpt/assets\n"
     ]
    },
    {
     "name": "stdout",
     "output_type": "stream",
     "text": [
      ".INFO:tensorflow:Assets written to: imdb_keras_best_model.ckpt/assets\n"
     ]
    },
    {
     "name": "stderr",
     "output_type": "stream",
     "text": [
      "INFO:tensorflow:Assets written to: imdb_keras_best_model.ckpt/assets\n"
     ]
    },
    {
     "name": "stdout",
     "output_type": "stream",
     "text": [
      ".INFO:tensorflow:Assets written to: imdb_keras_best_model.ckpt/assets\n"
     ]
    },
    {
     "name": "stderr",
     "output_type": "stream",
     "text": [
      "INFO:tensorflow:Assets written to: imdb_keras_best_model.ckpt/assets\n"
     ]
    },
    {
     "name": "stdout",
     "output_type": "stream",
     "text": [
      ".INFO:tensorflow:Assets written to: imdb_keras_best_model.ckpt/assets\n"
     ]
    },
    {
     "name": "stderr",
     "output_type": "stream",
     "text": [
      "INFO:tensorflow:Assets written to: imdb_keras_best_model.ckpt/assets\n"
     ]
    },
    {
     "name": "stdout",
     "output_type": "stream",
     "text": [
      ".INFO:tensorflow:Assets written to: imdb_keras_best_model.ckpt/assets\n"
     ]
    },
    {
     "name": "stderr",
     "output_type": "stream",
     "text": [
      "INFO:tensorflow:Assets written to: imdb_keras_best_model.ckpt/assets\n"
     ]
    },
    {
     "name": "stdout",
     "output_type": "stream",
     "text": [
      ".INFO:tensorflow:Assets written to: imdb_keras_best_model.ckpt/assets\n"
     ]
    },
    {
     "name": "stderr",
     "output_type": "stream",
     "text": [
      "INFO:tensorflow:Assets written to: imdb_keras_best_model.ckpt/assets\n"
     ]
    },
    {
     "name": "stdout",
     "output_type": "stream",
     "text": [
      ".INFO:tensorflow:Assets written to: imdb_keras_best_model.ckpt/assets\n"
     ]
    },
    {
     "name": "stderr",
     "output_type": "stream",
     "text": [
      "INFO:tensorflow:Assets written to: imdb_keras_best_model.ckpt/assets\n"
     ]
    },
    {
     "name": "stdout",
     "output_type": "stream",
     "text": [
      ".INFO:tensorflow:Assets written to: imdb_keras_best_model.ckpt/assets\n"
     ]
    },
    {
     "name": "stderr",
     "output_type": "stream",
     "text": [
      "INFO:tensorflow:Assets written to: imdb_keras_best_model.ckpt/assets\n"
     ]
    },
    {
     "name": "stdout",
     "output_type": "stream",
     "text": [
      ".INFO:tensorflow:Assets written to: imdb_keras_best_model.ckpt/assets\n"
     ]
    },
    {
     "name": "stderr",
     "output_type": "stream",
     "text": [
      "INFO:tensorflow:Assets written to: imdb_keras_best_model.ckpt/assets\n"
     ]
    },
    {
     "name": "stdout",
     "output_type": "stream",
     "text": [
      ".INFO:tensorflow:Assets written to: imdb_keras_best_model.ckpt/assets\n"
     ]
    },
    {
     "name": "stderr",
     "output_type": "stream",
     "text": [
      "INFO:tensorflow:Assets written to: imdb_keras_best_model.ckpt/assets\n"
     ]
    },
    {
     "name": "stdout",
     "output_type": "stream",
     "text": [
      ".INFO:tensorflow:Assets written to: imdb_keras_best_model.ckpt/assets\n"
     ]
    },
    {
     "name": "stderr",
     "output_type": "stream",
     "text": [
      "INFO:tensorflow:Assets written to: imdb_keras_best_model.ckpt/assets\n"
     ]
    },
    {
     "name": "stdout",
     "output_type": "stream",
     "text": [
      "..INFO:tensorflow:Assets written to: imdb_keras_best_model.ckpt/assets\n"
     ]
    },
    {
     "name": "stderr",
     "output_type": "stream",
     "text": [
      "INFO:tensorflow:Assets written to: imdb_keras_best_model.ckpt/assets\n"
     ]
    },
    {
     "name": "stdout",
     "output_type": "stream",
     "text": [
      ".INFO:tensorflow:Assets written to: imdb_keras_best_model.ckpt/assets\n"
     ]
    },
    {
     "name": "stderr",
     "output_type": "stream",
     "text": [
      "INFO:tensorflow:Assets written to: imdb_keras_best_model.ckpt/assets\n"
     ]
    },
    {
     "name": "stdout",
     "output_type": "stream",
     "text": [
      ".."
     ]
    },
    {
     "data": {
      "image/png": "[encoded data removed]",
      "text/plain": [
       "<Figure size 432x288 with 1 Axes>"
      ]
     },
     "metadata": {
      "needs_background": "light",
      "tags": []
     },
     "output_type": "display_data"
    }
   ],
   "source": [
    "# Reset parameters to a new random state\n",
    "model = make_model(embed_size)\n",
    "history = model.fit(\n",
    "    x_train, y_train, epochs=50, batch_size=512, validation_data=(x_val, y_val), verbose=0, callbacks=callbacks\n",
    ")\n",
    "\n",
    "history_dict = history.history\n",
    "acc = history_dict[\"acc\"]\n",
    "val_acc = history_dict[\"val_acc\"]\n",
    "loss = history_dict[\"loss\"]\n",
    "val_loss = history_dict[\"val_loss\"]\n",
    "epochs = range(1, len(acc) + 1)\n",
    "fig, ax = plt.subplots()\n",
    "plt.plot(epochs, loss, \"bo\", label=\"Training loss\")\n",
    "plt.plot(epochs, val_loss, \"r-\", label=\"Validation loss\")\n",
    "plt.title(\"Training and validation loss\")\n",
    "plt.xlabel(\"Epochs\")\n",
    "plt.ylabel(\"Loss\")\n",
    "plt.legend()\n",
    "# save_fig(\"imdb-loss-early-stop.pdf\")\n",
    "plt.show()"
   ]
  },
  {
   "cell_type": "markdown",
   "metadata": {
    "id": "_JOfkbubpZYg"
   },
   "source": []
  }
 ],
 "metadata": {
  "accelerator": "GPU",
  "colab": {
   "include_colab_link": true,
   "name": "mlp_imdb_tf.ipynb",
   "provenance": [],
   "toc_visible": true
  },
  "kernelspec": {
   "display_name": "Python 3",
   "name": "python3"
  }
 },
 "nbformat": 4,
 "nbformat_minor": 0
}
