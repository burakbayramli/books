{
 "nbformat": 4,
 "nbformat_minor": 0,
 "metadata": {
  "colab": {
   "name": "flax_intro.ipynb",
   "provenance": [],
   "collapsed_sections": [],
   "toc_visible": true,
   "authorship_tag": "ABX9TyOWKlhk6+ajDPQPnxM2A9sa",
   "include_colab_link": true
  },
  "kernelspec": {
   "name": "python3",
   "display_name": "Python 3"
  }
 },
 "cells": [
  {
   "cell_type": "markdown",
   "metadata": {
    "id": "view-in-github",
    "colab_type": "text"
   },
   "source": [
    "<a href=\"https://colab.research.google.com/github/probml/probml-notebooks/blob/main/notebooks/flax_intro.ipynb\" target=\"_parent\"><img src=\"https://colab.research.google.com/assets/colab-badge.svg\" alt=\"Open In Colab\"/></a>"
   ]
  },
  {
   "cell_type": "markdown",
   "metadata": {
    "id": "rF208fIxvq8m"
   },
   "source": [
    "# Introduction to neural networks using Flax\n",
    "\n",
    "\n",
    "\n",
    "Flax / Linen is a neural net library, built on top of JAX, \"designed to offer an implicit variable management API to save the user from having to manually thread thousands of variables through a complex tree of functions.\" To handle both current and future JAX transforms (configured and composed in any way), Linen Modules are defined as explicit functions of the form\n",
    "$$\n",
    "f(v_{in}, x) \\rightarrow v_{out}, y\n",
    "$$\n",
    "Where $v_{in}$ is the collection of variables (eg. parameters) and PRNG state used by the model, $v_{out}$ the mutated output variable collections, $x$ the input data and $y$ the output data. We illustrate this below. Our tutorial is based on the official [flax intro](https://flax.readthedocs.io/en/latest/notebooks/flax_basics.html) and [linen colab](https://github.com/google/flax/blob/master/docs/notebooks/linen_intro.ipynb). Details are in the [flax source code](https://flax.readthedocs.io/en/latest/_modules/index.html). Note: please be sure to read our [JAX tutorial](https://colab.research.google.com/github/probml/probml-notebooks/blob/main/notebooks/jax_intro.ipynb) first.\n"
   ]
  },
  {
   "cell_type": "code",
   "metadata": {
    "id": "uRAzAXYXvztz"
   },
   "source": [
    "import numpy as np\n",
    "\n",
    "# np.set_printoptions(precision=3)\n",
    "np.set_printoptions(formatter={\"float\": lambda x: \"{0:0.5f}\".format(x)})\n",
    "\n",
    "import matplotlib.pyplot as plt"
   ],
   "execution_count": 12,
   "outputs": []
  },
  {
   "cell_type": "code",
   "metadata": {
    "id": "68kI74E1vvEI",
    "colab": {
     "base_uri": "https://localhost:8080/"
    },
    "outputId": "0da6a0d8-aacf-4366-c7a7-f810765709fe"
   },
   "source": [
    "import jax\n",
    "\n",
    "print(jax.__version__)\n",
    "print(jax.devices())\n",
    "\n",
    "from jax import lax, random, numpy as jnp\n",
    "\n",
    "key = random.PRNGKey(0)"
   ],
   "execution_count": 2,
   "outputs": [
    {
     "output_type": "stream",
     "name": "stderr",
     "text": [
      "WARNING:absl:No GPU/TPU found, falling back to CPU. (Set TF_CPP_MIN_LOG_LEVEL=0 and rerun for more info.)\n"
     ]
    },
    {
     "output_type": "stream",
     "name": "stdout",
     "text": [
      "0.2.19\n",
      "[<jaxlib.xla_extension.Device object at 0x7f8642e14af0>]\n"
     ]
    }
   ]
  },
  {
   "cell_type": "code",
   "metadata": {
    "id": "N3dXu6XY6U0H"
   },
   "source": [
    "from typing import Any, Callable, Dict, Iterator, Mapping, Optional, Sequence, Tuple\n",
    "\n",
    "# Useful type aliases\n",
    "Array = jnp.ndarray\n",
    "PRNGKey = Array\n",
    "Batch = Mapping[str, np.ndarray]\n",
    "OptState = Any"
   ],
   "execution_count": 13,
   "outputs": []
  },
  {
   "cell_type": "code",
   "metadata": {
    "colab": {
     "base_uri": "https://localhost:8080/"
    },
    "id": "7pcNcE9_Qj_l",
    "outputId": "107ed9cb-1d4b-46ab-8032-60836e4b083e"
   },
   "source": [
    "# Install Flax at head:\n",
    "!pip install --upgrade -q git+https://github.com/google/flax.git"
   ],
   "execution_count": null,
   "outputs": [
    {
     "output_type": "stream",
     "text": [
      "  Building wheel for flax (setup.py) ... \u001b[?25l\u001b[?25hdone\n"
     ],
     "name": "stdout"
    }
   ]
  },
  {
   "cell_type": "code",
   "metadata": {
    "id": "s80k9sonQfDi"
   },
   "source": [
    "import flax\n",
    "from flax.core import freeze, unfreeze\n",
    "from flax import linen as nn\n",
    "from flax import optim\n",
    "\n",
    "from jax.config import config\n",
    "\n",
    "# config.enable_omnistaging() # Linen requires enabling omnistaging"
   ],
   "execution_count": 15,
   "outputs": []
  },
  {
   "cell_type": "markdown",
   "metadata": {
    "id": "aGrUFJYxjyL7"
   },
   "source": [
    "# MLP in vanilla JAX\n",
    "\n",
    "We construct a simple MLP with L hidden layers (relu activation), and scalar output (linear activation).\n",
    "\n",
    "Note: JAX and Flax, like NumPy, are row-based systems, meaning that vectors are represented as row vectors and not column vectors. \n"
   ]
  },
  {
   "cell_type": "code",
   "metadata": {
    "id": "mWQGVJMP0VMB"
   },
   "source": [
    "# We define the parameter initializers using a signature that is flax-compatible\n",
    "# https://flax.readthedocs.io/en/latest/_modules/jax/_src/nn/initializers.html\n",
    "\n",
    "\n",
    "def weights_init(key, shape, dtype=jnp.float32):\n",
    "    return random.normal(key, shape, dtype)\n",
    "    # return jnp.ones(shape, dtype)\n",
    "\n",
    "\n",
    "def bias_init(key, shape, dtype=jnp.float32):\n",
    "    return jnp.zeros(shape, dtype)\n",
    "\n",
    "\n",
    "def relu(a):\n",
    "    return jnp.maximum(a, 0)"
   ],
   "execution_count": null,
   "outputs": []
  },
  {
   "cell_type": "code",
   "metadata": {
    "id": "GepkhhTh-9b-"
   },
   "source": [
    "# A minimal MLP class\n",
    "\n",
    "\n",
    "class MLP0:\n",
    "    features: Sequence[int]  # number of features in each layer\n",
    "\n",
    "    def __init__(self, features):  # class constructor\n",
    "        self.features = features\n",
    "\n",
    "    def init(self, key, x):  # initialize parameters\n",
    "        in_size = np.shape(x)[1]\n",
    "        sizes = np.concatenate(([in_size], self.features))\n",
    "        nlayers = len(sizes)\n",
    "        params = {}\n",
    "        for i in range(nlayers - 1):\n",
    "            in_size = sizes[i]\n",
    "            out_size = sizes[i + 1]\n",
    "            subkey1, subkey2, key = random.split(key, num=3)\n",
    "            W = weights_init(subkey1, (in_size, out_size))\n",
    "            b = bias_init(subkey2, out_size)\n",
    "            params[f\"W{i}\"] = W\n",
    "            params[f\"b{i}\"] = b\n",
    "        return params\n",
    "\n",
    "    def apply(self, params, x):  # forwards pass\n",
    "        activations = x\n",
    "        nhidden_layers = len(self.features) - 1\n",
    "        for i in range(nhidden_layers):\n",
    "            W = params[f\"W{i}\"]\n",
    "            b = params[f\"b{i}\"]\n",
    "            outputs = jnp.dot(activations, W) + b\n",
    "            activations = relu(outputs)\n",
    "        # for final layer, no activation function\n",
    "        i = nhidden_layers\n",
    "        outputs = jnp.dot(activations, params[f\"W{i}\"]) + params[f\"b{i}\"]\n",
    "        return outputs"
   ],
   "execution_count": null,
   "outputs": []
  },
  {
   "cell_type": "code",
   "metadata": {
    "colab": {
     "base_uri": "https://localhost:8080/"
    },
    "id": "8jFS4SNO0V_I",
    "outputId": "72d9d449-742e-45d1-9641-a4f3a6390e26"
   },
   "source": [
    "key = random.PRNGKey(0)\n",
    "D = 3\n",
    "N = 2\n",
    "x = random.normal(\n",
    "    key,\n",
    "    (\n",
    "        N,\n",
    "        D,\n",
    "    ),\n",
    ")\n",
    "layer_sizes = [3, 1]  # 1 hidden layer of size 3, 1 scalar output\n",
    "\n",
    "model0 = MLP0(layer_sizes)\n",
    "params0 = model0.init(key, x)\n",
    "\n",
    "print(\"params\")\n",
    "for k, v in params0.items():\n",
    "    print(k, v.shape)\n",
    "    print(v)\n",
    "\n",
    "\n",
    "y0 = model0.apply(params0, x)\n",
    "print(\"\\noutput\")\n",
    "print(y0)"
   ],
   "execution_count": null,
   "outputs": [
    {
     "output_type": "stream",
     "text": [
      "params\n",
      "W0 (3, 3)\n",
      "[[-1.83021 1.18417 0.06777]\n",
      " [0.34588 0.37858 -0.65318]\n",
      " [0.18976 0.45157 -0.33964]]\n",
      "b0 (3,)\n",
      "[0.00000 0.00000 0.00000]\n",
      "W1 (3, 1)\n",
      "[[-1.74905]\n",
      " [1.83313]\n",
      " [-0.23808]]\n",
      "b1 (1,)\n",
      "[0.00000]\n",
      "\n",
      "output\n",
      "[[-0.09538]\n",
      " [2.78382]]\n"
     ],
     "name": "stdout"
    }
   ]
  },
  {
   "cell_type": "markdown",
   "metadata": {
    "id": "rBtPT-drBkGA"
   },
   "source": [
    "# Our first flax model\n",
    "\n",
    "Here we recreate the vanilla model in flax. Since we don't specify how the parameters are initialized, the behavior will not be identical to the vanilla model --- we will fix this below, but for now, we focus on model construction.\n",
    "\n",
    "We see that the model is a subclass of `nn.Module`, which is a subclass of Python's dataclass. The child class (written by the user) must define a `model.call(inputs)` method, that applies the function to the input, and a `model.setup()` method, that creates the modules inside this model.\n",
    "\n",
    "The module (parent) class defines two main methods: `model.apply(variables, input`, that applies the function to the input (and variables) to generate an output; and `model.init(key, input)`, that initializes the variables and returns them as a \"frozen dictionary\". This dictionary can contain multiple *kinds* of variables. In the example below, the only kind are parameters, which are immutable variables (that will usually get updated in an external optimization loop, as we show later). The parameters are  automatically named after the corresponding module (here, dense0, dense1, etc).  In this example, both modules are dense layers, so their parameters are a weight matrix (called 'kernel') and a bias vector.\n",
    "\n",
    "The hyper-parameters (in this case, the size of each layer) are stored as attributes of the class, and are specified when the module is constructed."
   ]
  },
  {
   "cell_type": "code",
   "metadata": {
    "id": "3zueDo1r0Qav"
   },
   "source": [
    "class MLP(nn.Module):\n",
    "    features: Sequence[int]\n",
    "    default_attr: int = 42\n",
    "\n",
    "    def setup(self):\n",
    "        print(\"setup\")\n",
    "        self.layers = [nn.Dense(feat) for feat in self.features]\n",
    "\n",
    "    def __call__(self, inputs):\n",
    "        print(\"call\")\n",
    "        x = inputs\n",
    "        for i, lyr in enumerate(self.layers):\n",
    "            x = lyr(x)\n",
    "            if i != len(self.layers) - 1:\n",
    "                x = nn.relu(x)\n",
    "        return x"
   ],
   "execution_count": null,
   "outputs": []
  },
  {
   "cell_type": "code",
   "metadata": {
    "colab": {
     "base_uri": "https://localhost:8080/"
    },
    "id": "OoYDn8lX7_ZH",
    "outputId": "9aed2723-3248-417b-9a25-408ef49763d7"
   },
   "source": [
    "key = random.PRNGKey(0)\n",
    "D = 3\n",
    "N = 2\n",
    "x = random.normal(\n",
    "    key,\n",
    "    (\n",
    "        N,\n",
    "        D,\n",
    "    ),\n",
    ")\n",
    "layer_sizes = [3, 1]  # 1 hidden layer of size 3, 1 scalar output\n",
    "\n",
    "print(\"calling constructor\")\n",
    "model = MLP(layer_sizes)  # just initialize attributes of the object\n",
    "print(\"OUTPUT\")\n",
    "print(model)\n",
    "\n",
    "print(\"\\ncalling init\")\n",
    "variables = model.init(key, x)  # calls setup then __call___\n",
    "print(\"OUTPUT\")\n",
    "print(variables)\n",
    "\n",
    "\n",
    "print(\"Calling apply\")\n",
    "y = model.apply(variables, x)  # calls setup then __call___\n",
    "print(y)"
   ],
   "execution_count": null,
   "outputs": [
    {
     "output_type": "stream",
     "text": [
      "calling constructor\n",
      "OUTPUT\n",
      "MLP(\n",
      "    # attributes\n",
      "    features = [3, 1]\n",
      "    default_attr = 42\n",
      ")\n",
      "\n",
      "calling init\n",
      "setup\n",
      "call\n",
      "OUTPUT\n",
      "FrozenDict({\n",
      "    params: {\n",
      "        layers_0: {\n",
      "            kernel: DeviceArray([[0.57725, 0.43926, 0.69045],\n",
      "                         [0.02542, 0.50461, 0.56675],\n",
      "                         [0.07185, 0.17350, -0.04227]], dtype=float32),\n",
      "            bias: DeviceArray([0.00000, 0.00000, 0.00000], dtype=float32),\n",
      "        },\n",
      "        layers_1: {\n",
      "            kernel: DeviceArray([[0.24313],\n",
      "                         [0.94535],\n",
      "                         [-0.12602]], dtype=float32),\n",
      "            bias: DeviceArray([0.00000], dtype=float32),\n",
      "        },\n",
      "    },\n",
      "})\n",
      "\n",
      "W0\n",
      "[[0.57725 0.43926 0.69045]\n",
      " [0.02542 0.50461 0.56675]\n",
      " [0.07185 0.17350 -0.04227]]\n",
      "Calling apply\n",
      "setup\n",
      "call\n",
      "[[0.02978]\n",
      " [0.66403]]\n"
     ],
     "name": "stdout"
    }
   ]
  },
  {
   "cell_type": "markdown",
   "metadata": {
    "id": "5lwM1j1WksDG"
   },
   "source": [
    "# Compact modules\n",
    "\n",
    "To reduce the amount of boiler plate code, flax makes it possible to define a module just by writing the `call` method, avoiding the need to write a `setup` function. The corresponding layers will be created when the `init` funciton is called, so the input shape can be inferred lazily (when passed an input). "
   ]
  },
  {
   "cell_type": "code",
   "metadata": {
    "colab": {
     "base_uri": "https://localhost:8080/"
    },
    "id": "Akq_iXXdktwb",
    "outputId": "2827db63-b8a0-4500-dd78-bd6b49f72065"
   },
   "source": [
    "class MLP(nn.Module):\n",
    "    features: Sequence[int]\n",
    "\n",
    "    @nn.compact\n",
    "    def __call__(self, inputs):\n",
    "        x = inputs\n",
    "        for i, feat in enumerate(self.features):\n",
    "            x = nn.Dense(feat)(x)\n",
    "            if i != len(self.features) - 1:\n",
    "                x = nn.relu(x)\n",
    "        return x\n",
    "\n",
    "\n",
    "model = MLP(layer_sizes)\n",
    "print(model)\n",
    "\n",
    "params = model.init(key, x)\n",
    "print(params)\n",
    "\n",
    "y = model.apply(params, x)\n",
    "print(y)"
   ],
   "execution_count": null,
   "outputs": [
    {
     "output_type": "stream",
     "text": [
      "MLP(\n",
      "    # attributes\n",
      "    features = [3, 1]\n",
      ")\n",
      "FrozenDict({\n",
      "    params: {\n",
      "        Dense_0: {\n",
      "            kernel: DeviceArray([[0.28216, 1.03322, 0.07901],\n",
      "                         [0.15159, -0.50100, -0.22373],\n",
      "                         [-0.40327, -0.39875, -0.09402]], dtype=float32),\n",
      "            bias: DeviceArray([0.00000, 0.00000, 0.00000], dtype=float32),\n",
      "        },\n",
      "        Dense_1: {\n",
      "            kernel: DeviceArray([[0.25432],\n",
      "                         [0.76792],\n",
      "                         [0.48329]], dtype=float32),\n",
      "            bias: DeviceArray([0.00000], dtype=float32),\n",
      "        },\n",
      "    },\n",
      "})\n",
      "[[0.56035]\n",
      " [1.07065]]\n"
     ],
     "name": "stdout"
    }
   ]
  },
  {
   "cell_type": "markdown",
   "metadata": {
    "id": "dNiuZ54yB7Gj"
   },
   "source": [
    "# Explicit parameter initialization\n",
    "\n",
    "We can control the initialization of the random parameters in each submodule by specifying an init function. Below we show how to initialize our MLP to match the vanilla JAX model. We then check both methods give the same outputs."
   ]
  },
  {
   "cell_type": "code",
   "metadata": {
    "id": "5W_lEFsU4t04"
   },
   "source": [
    "def make_const_init(x):\n",
    "    def init_params(key, shape, dtype=jnp.float32):\n",
    "        return x\n",
    "\n",
    "    return init_params\n",
    "\n",
    "\n",
    "class MLP_init(nn.Module):\n",
    "    features: Sequence[int]\n",
    "    params_init: Dict\n",
    "\n",
    "    def setup(self):\n",
    "        nlayers = len(self.features)\n",
    "        layers = []\n",
    "        for i in range(nlayers):\n",
    "            W = self.params_init[f\"W{i}\"]\n",
    "            b = self.params_init[f\"b{i}\"]\n",
    "            weights_init = make_const_init(W)\n",
    "            bias_init = make_const_init(b)\n",
    "            layer = nn.Dense(self.features[i], kernel_init=weights_init, bias_init=bias_init)\n",
    "            layers.append(layer)\n",
    "        self.layers = layers\n",
    "\n",
    "    def __call__(self, inputs):\n",
    "        x = inputs\n",
    "        for i, lyr in enumerate(self.layers):\n",
    "            x = lyr(x)\n",
    "            if i != len(self.layers) - 1:\n",
    "                x = nn.relu(x)\n",
    "        return x"
   ],
   "execution_count": null,
   "outputs": []
  },
  {
   "cell_type": "code",
   "metadata": {
    "colab": {
     "base_uri": "https://localhost:8080/"
    },
    "id": "R27PhzrLY_zJ",
    "outputId": "adaba9d1-90a4-444b-95be-cef4da0768fe"
   },
   "source": [
    "params_init = params0\n",
    "model = MLP_init(layer_sizes, params_init)\n",
    "print(model)\n",
    "\n",
    "variables = model.init(key, x)\n",
    "params = variables[\"params\"]\n",
    "print(params)\n",
    "\n",
    "W0 = params0[\"W0\"]\n",
    "W = params[\"layers_0\"][\"kernel\"]\n",
    "assert np.allclose(W, W0)\n",
    "\n",
    "y = model.apply(variables, x)\n",
    "print(y)\n",
    "assert np.allclose(y, y0)"
   ],
   "execution_count": null,
   "outputs": [
    {
     "output_type": "stream",
     "text": [
      "MLP_init(\n",
      "    # attributes\n",
      "    features = [3, 1]\n",
      "    params_init = {'W0': DeviceArray([[-1.83021, 1.18417, 0.06777],\n",
      "                 [0.34588, 0.37858, -0.65318],\n",
      "                 [0.18976, 0.45157, -0.33964]], dtype=float32), 'b0': DeviceArray([0.00000, 0.00000, 0.00000], dtype=float32), 'W1': DeviceArray([[-1.74905],\n",
      "                 [1.83313],\n",
      "                 [-0.23808]], dtype=float32), 'b1': DeviceArray([0.00000], dtype=float32)}\n",
      ")\n",
      "FrozenDict({\n",
      "    layers_0: {\n",
      "        kernel: DeviceArray([[-1.83021, 1.18417, 0.06777],\n",
      "                     [0.34588, 0.37858, -0.65318],\n",
      "                     [0.18976, 0.45157, -0.33964]], dtype=float32),\n",
      "        bias: DeviceArray([0.00000, 0.00000, 0.00000], dtype=float32),\n",
      "    },\n",
      "    layers_1: {\n",
      "        kernel: DeviceArray([[-1.74905],\n",
      "                     [1.83313],\n",
      "                     [-0.23808]], dtype=float32),\n",
      "        bias: DeviceArray([0.00000], dtype=float32),\n",
      "    },\n",
      "})\n",
      "[[-0.09538]\n",
      " [2.78382]]\n"
     ],
     "name": "stdout"
    }
   ]
  },
  {
   "cell_type": "markdown",
   "metadata": {
    "id": "Rf8avaA_nGJ1"
   },
   "source": [
    "# Creating your own modules\n",
    "\n",
    "Now we illustrate how to create a module with its own parameters, instead of relying on composing built-in primitives. As an example, we write our own dense layer class."
   ]
  },
  {
   "cell_type": "code",
   "metadata": {
    "colab": {
     "base_uri": "https://localhost:8080/"
    },
    "id": "WUJ98XpSnS8F",
    "outputId": "ccdc09ef-f87f-4234-d64e-0bd583406851"
   },
   "source": [
    "class SimpleDense(nn.Module):\n",
    "    features: int  # num output features for this layer\n",
    "    kernel_init: Callable = nn.initializers.lecun_normal()\n",
    "    bias_init: Callable = nn.initializers.zeros\n",
    "\n",
    "    @nn.compact\n",
    "    def __call__(self, inputs):\n",
    "        features_in = inputs.shape[-1]  # infer shape from input\n",
    "        features_out = self.features\n",
    "        kernel = self.param(\"kernel\", self.kernel_init, (features_in, features_out))\n",
    "        bias = self.param(\"bias\", self.bias_init, (features_out,))\n",
    "        outputs = jnp.dot(inputs, kernel) + bias\n",
    "        return outputs\n",
    "\n",
    "\n",
    "model = SimpleDense(features=3)\n",
    "print(model)\n",
    "\n",
    "vars = model.init(key, x)\n",
    "print(vars)\n",
    "\n",
    "y = model.apply(vars, x)\n",
    "print(y)"
   ],
   "execution_count": null,
   "outputs": [
    {
     "output_type": "stream",
     "text": [
      "SimpleDense(\n",
      "    # attributes\n",
      "    features = 3\n",
      "    kernel_init = init\n",
      "    bias_init = zeros\n",
      ")\n",
      "FrozenDict({\n",
      "    params: {\n",
      "        kernel: DeviceArray([[0.32718, 0.05599, 0.17998],\n",
      "                     [-0.12295, 0.70712, 0.28972],\n",
      "                     [0.13731, -0.02853, -0.62830]], dtype=float32),\n",
      "        bias: DeviceArray([0.00000, 0.00000, 0.00000], dtype=float32),\n",
      "    },\n",
      "})\n",
      "[[0.30842 -0.91549 -0.74603]\n",
      " [0.36248 0.24616 0.36943]]\n"
     ],
     "name": "stdout"
    }
   ]
  },
  {
   "cell_type": "markdown",
   "metadata": {
    "id": "BJpBh933-GTW"
   },
   "source": [
    "# Stochastic layers\n",
    "\n",
    "Some layers may need a source of randomness. If so, we must pass them a PRNG in the `init` and `apply` functions, in addition to the PRNG used for parameter initialization. We illustrate this below using dropout. We construct two versions, one which is stochastic (for training), and one which is deterministic (for evaluation). "
   ]
  },
  {
   "cell_type": "code",
   "metadata": {
    "colab": {
     "base_uri": "https://localhost:8080/"
    },
    "id": "tMSpLucO-Yfj",
    "outputId": "9726f1f3-ca25-4946-f9da-29692b1b034c"
   },
   "source": [
    "class Block(nn.Module):\n",
    "    features: int\n",
    "    training: bool\n",
    "\n",
    "    @nn.compact\n",
    "    def __call__(self, inputs):\n",
    "        x = nn.Dense(self.features)(inputs)\n",
    "        x = nn.Dropout(rate=0.5)(x, deterministic=not self.training)\n",
    "        return x\n",
    "\n",
    "\n",
    "N = 1\n",
    "D = 2\n",
    "x = random.uniform(key, (N, D))\n",
    "\n",
    "model = Block(features=3, training=True)\n",
    "key = random.PRNGKey(0)\n",
    "variables = model.init({\"params\": key, \"dropout\": key}, x)\n",
    "# variables = model.init(key, x) # cannot share the rng\n",
    "print(\"variables\", variables)\n",
    "\n",
    "# Apply stochastic model\n",
    "for i in range(2):\n",
    "    key, subkey = random.split(key)\n",
    "    y = model.apply(variables, x, rngs={\"dropout\": subkey})\n",
    "    print(f\"train output {i}, \", y)\n",
    "\n",
    "# Now make a deterministic version\n",
    "eval_model = Block(features=3, training=False)\n",
    "key = random.PRNGKey(0)\n",
    "# variables = eval_model.init({'params': key, 'dropout': key}, x)\n",
    "for i in range(2):\n",
    "    key, subkey = random.split(key)\n",
    "    y = eval_model.apply(variables, x, rngs={\"dropout\": subkey})\n",
    "    print(f\"eval output {i}, \", y)"
   ],
   "execution_count": null,
   "outputs": [
    {
     "output_type": "stream",
     "text": [
      "variables FrozenDict({\n",
      "    params: {\n",
      "        Dense_0: {\n",
      "            kernel: DeviceArray([[0.99988, -0.14086, -0.99796],\n",
      "                         [1.46673, 0.59637, 0.38263]], dtype=float32),\n",
      "            bias: DeviceArray([0.00000, 0.00000, 0.00000], dtype=float32),\n",
      "        },\n",
      "    },\n",
      "})\n",
      "train output 0,  [[0.00000 1.05814 0.00000]]\n",
      "train output 1,  [[3.12202 1.05814 0.32862]]\n",
      "eval output 0,  [[1.56101 0.52907 0.16431]]\n",
      "eval output 1,  [[1.56101 0.52907 0.16431]]\n"
     ],
     "name": "stdout"
    }
   ]
  },
  {
   "cell_type": "markdown",
   "metadata": {
    "id": "CHieB2aAumdg"
   },
   "source": [
    "# Stateful layers\n",
    "\n",
    "In addition to parameters, linen modules can contain other kinds of variables, which may be mutable as we illustrate below.\n",
    "Indeed, parameters are just a special case of variable.\n",
    "In particular, this line\n",
    "```\n",
    "p = self.param('param_name', init_fn, shape, dtype)\n",
    "```\n",
    "is a convenient shorthand for this:\n",
    "```\n",
    "p = self.variable('params', 'param_name', lambda s, d: init_fn(self.make_rng('params'), s, d), shape, dtype).value\n",
    "```\n"
   ]
  },
  {
   "cell_type": "markdown",
   "metadata": {
    "id": "EAQxx2Tu8xln"
   },
   "source": [
    "## Example: counter"
   ]
  },
  {
   "cell_type": "code",
   "metadata": {
    "colab": {
     "base_uri": "https://localhost:8080/"
    },
    "id": "BeGNa8zaut41",
    "outputId": "eb8923e0-ed62-46f9-f11b-80dec053e31a"
   },
   "source": [
    "class Counter(nn.Module):\n",
    "    @nn.compact\n",
    "    def __call__(self):\n",
    "        # variable(collection, name, init_fn, *init_args)\n",
    "        counter1 = self.variable(\"counter\", \"count1\", lambda: jnp.zeros((), jnp.int32))\n",
    "        counter2 = self.variable(\"counter\", \"count2\", lambda: jnp.zeros((), jnp.int32))\n",
    "        is_initialized = self.has_variable(\"counter\", \"count1\")\n",
    "        if is_initialized:\n",
    "            counter1.value += 1\n",
    "            counter2.value += 2\n",
    "        return counter1.value, counter2.value\n",
    "\n",
    "\n",
    "model = Counter()\n",
    "print(model)\n",
    "\n",
    "init_variables = model.init(key)  # calls the `call` method\n",
    "print(\"initialized variables:\\n\", init_variables)\n",
    "counter = init_variables[\"counter\"][\"count1\"]\n",
    "print(\"counter 1 value\", counter)\n",
    "\n",
    "y, mutated_variables = model.apply(init_variables, mutable=[\"counter\"])\n",
    "print(\"mutated variables:\\n\", mutated_variables)\n",
    "print(\"output:\\n\", y)"
   ],
   "execution_count": null,
   "outputs": [
    {
     "output_type": "stream",
     "text": [
      "Counter()\n",
      "initialized variables:\n",
      " FrozenDict({\n",
      "    counter: {\n",
      "        count1: DeviceArray(1, dtype=int32),\n",
      "        count2: DeviceArray(2, dtype=int32),\n",
      "    },\n",
      "})\n",
      "counter 1 value 1\n",
      "mutated variables:\n",
      " FrozenDict({\n",
      "    counter: {\n",
      "        count1: DeviceArray(2, dtype=int32),\n",
      "        count2: DeviceArray(4, dtype=int32),\n",
      "    },\n",
      "})\n",
      "output:\n",
      " (DeviceArray(2, dtype=int32), DeviceArray(4, dtype=int32))\n"
     ],
     "name": "stdout"
    }
   ]
  },
  {
   "cell_type": "markdown",
   "metadata": {
    "id": "1IaC2RT1v65t"
   },
   "source": [
    "## Combining mutable variables and immutable parameters\n",
    "\n",
    "We can combine mutable variables with immutable parameters.\n",
    "As an example, consider a simplified version of batch normalization, which \n",
    " computes the running mean of its inputs, and adds an optimzable offset (bias) term. \n",
    "\n"
   ]
  },
  {
   "cell_type": "code",
   "metadata": {
    "id": "NXP19telv_Y_"
   },
   "source": [
    "class BiasAdderWithRunningMean(nn.Module):\n",
    "    decay: float = 0.99\n",
    "\n",
    "    @nn.compact\n",
    "    def __call__(self, x):\n",
    "        is_initialized = self.has_variable(\"params\", \"bias\")\n",
    "\n",
    "        # variable(collection, name, init_fn, *init_args)\n",
    "        ra_mean = self.variable(\"batch_stats\", \"mean\", lambda s: jnp.zeros(s), x.shape[1:])\n",
    "\n",
    "        dummy_mutable = self.variable(\"mutables\", \"dummy\", lambda s: 42, 0)\n",
    "\n",
    "        # param(name, init_fn, *init_args)\n",
    "        bias = self.param(\"bias\", lambda rng, shape: jnp.ones(shape), x.shape[1:])\n",
    "\n",
    "        if is_initialized:\n",
    "            ra_mean.value = self.decay * ra_mean.value + (1.0 - self.decay) * jnp.mean(x, axis=0, keepdims=True)\n",
    "\n",
    "        return x - ra_mean.value + bias"
   ],
   "execution_count": null,
   "outputs": []
  },
  {
   "cell_type": "markdown",
   "metadata": {
    "id": "x_WsMGY8xA_x"
   },
   "source": [
    "\n",
    "The intial variables are:\n",
    "params = (bias=1), batch_stats=(mean=0)\n",
    "\n",
    "If we pass in x=ones(N,D), the  running average becomes\n",
    "$$\n",
    "0.99*0 + (1-0.99)*1 = 0.01\n",
    "$$\n",
    "and the output becomes\n",
    "$$\n",
    "1 - 0.01 + 1 = 1.99\n",
    "$$\n",
    "\n",
    "\n"
   ]
  },
  {
   "cell_type": "code",
   "metadata": {
    "colab": {
     "base_uri": "https://localhost:8080/"
    },
    "id": "dvXKCE8yxiTu",
    "outputId": "4ddb1117-32a0-481d-d8bb-876010d0e821"
   },
   "source": [
    "key = random.PRNGKey(0)\n",
    "N = 2\n",
    "D = 5\n",
    "x = jnp.ones((N, D))\n",
    "model = BiasAdderWithRunningMean()\n",
    "\n",
    "variables = model.init(key, x)\n",
    "print(\"initial variables:\\n\", variables)\n",
    "nonstats, stats = variables.pop(\"batch_stats\")\n",
    "print(\"nonstats\", nonstats)\n",
    "print(\"stats\", stats)"
   ],
   "execution_count": null,
   "outputs": [
    {
     "output_type": "stream",
     "text": [
      "initial variables:\n",
      " FrozenDict({\n",
      "    batch_stats: {\n",
      "        mean: DeviceArray([0.00000, 0.00000, 0.00000, 0.00000, 0.00000], dtype=float32),\n",
      "    },\n",
      "    mutables: {\n",
      "        dummy: 42,\n",
      "    },\n",
      "    params: {\n",
      "        bias: DeviceArray([1.00000, 1.00000, 1.00000, 1.00000, 1.00000], dtype=float32),\n",
      "    },\n",
      "})\n",
      "nonstats FrozenDict({\n",
      "    mutables: {\n",
      "        dummy: 42,\n",
      "    },\n",
      "    params: {\n",
      "        bias: DeviceArray([1.00000, 1.00000, 1.00000, 1.00000, 1.00000], dtype=float32),\n",
      "    },\n",
      "})\n",
      "stats FrozenDict({\n",
      "    mean: DeviceArray([0.00000, 0.00000, 0.00000, 0.00000, 0.00000], dtype=float32),\n",
      "})\n"
     ],
     "name": "stdout"
    }
   ]
  },
  {
   "cell_type": "code",
   "metadata": {
    "colab": {
     "base_uri": "https://localhost:8080/"
    },
    "id": "Ytr2_w9U12PT",
    "outputId": "30555a51-9b09-4ef2-8222-98c9b52e4a47"
   },
   "source": [
    "y, mutables = model.apply(variables, x, mutable=[\"batch_stats\"])\n",
    "print(\"output\", y)\n",
    "print(\"mutables\", mutables)"
   ],
   "execution_count": null,
   "outputs": [
    {
     "output_type": "stream",
     "text": [
      "output [[1.99000 1.99000 1.99000 1.99000 1.99000]\n",
      " [1.99000 1.99000 1.99000 1.99000 1.99000]]\n",
      "mutables FrozenDict({\n",
      "    batch_stats: {\n",
      "        mean: DeviceArray([[0.01000, 0.01000, 0.01000, 0.01000, 0.01000]], dtype=float32),\n",
      "    },\n",
      "})\n"
     ],
     "name": "stdout"
    }
   ]
  },
  {
   "cell_type": "markdown",
   "metadata": {
    "id": "B1g2GW3f3B-Z"
   },
   "source": [
    "To call the function with the updated batch stats, we have to stitch together the new mutated state with the old state, as shown below.\n",
    "\n"
   ]
  },
  {
   "cell_type": "code",
   "metadata": {
    "colab": {
     "base_uri": "https://localhost:8080/"
    },
    "id": "cpBb21A72Bdj",
    "outputId": "d5ce7521-90c4-48a0-a180-4f02be5fe5f8"
   },
   "source": [
    "variables = unfreeze(nonstats)\n",
    "print(variables)\n",
    "variables[\"batch_stats\"] = mutables[\"batch_stats\"]\n",
    "variables = freeze(variables)\n",
    "print(variables)"
   ],
   "execution_count": null,
   "outputs": [
    {
     "output_type": "stream",
     "text": [
      "{'mutables': {'dummy': 42}, 'params': {'bias': DeviceArray([1.00000, 1.00000, 1.00000, 1.00000, 1.00000], dtype=float32)}}\n",
      "FrozenDict({\n",
      "    mutables: {\n",
      "        dummy: 42,\n",
      "    },\n",
      "    params: {\n",
      "        bias: DeviceArray([1.00000, 1.00000, 1.00000, 1.00000, 1.00000], dtype=float32),\n",
      "    },\n",
      "    batch_stats: {\n",
      "        mean: DeviceArray([[0.01000, 0.01000, 0.01000, 0.01000, 0.01000]], dtype=float32),\n",
      "    },\n",
      "})\n"
     ],
     "name": "stdout"
    }
   ]
  },
  {
   "cell_type": "markdown",
   "metadata": {
    "id": "sa7nH74Y5-Lg"
   },
   "source": [
    "If we pass in x=2*ones(N,D), the running average gets updated to\n",
    "$$\n",
    "0.99 * 0.01 + (1-0.99) * 2.0 = 0.0299\n",
    "$$\n",
    "and the output becomes\n",
    "$$\n",
    "2- 0.0299 + 1 = 2.9701\n",
    "$$"
   ]
  },
  {
   "cell_type": "code",
   "metadata": {
    "colab": {
     "base_uri": "https://localhost:8080/"
    },
    "id": "t2dF2si51QN5",
    "outputId": "6177ee1c-41b7-40e6-d954-d0c1c85b0180"
   },
   "source": [
    "x = 2 * jnp.ones((N, D))\n",
    "y, mutables = model.apply(variables, x, mutable=[\"batch_stats\"])\n",
    "print(\"output\", y)\n",
    "print(\"batch_stats\", mutables)\n",
    "\n",
    "assert np.allclose(y, 2.9701)\n",
    "assert np.allclose(mutables[\"batch_stats\"][\"mean\"], 0.0299)"
   ],
   "execution_count": null,
   "outputs": [
    {
     "output_type": "stream",
     "text": [
      "output [[2.97010 2.97010 2.97010 2.97010 2.97010]\n",
      " [2.97010 2.97010 2.97010 2.97010 2.97010]]\n",
      "batch_stats FrozenDict({\n",
      "    batch_stats: {\n",
      "        mean: DeviceArray([[0.02990, 0.02990, 0.02990, 0.02990, 0.02990]], dtype=float32),\n",
      "    },\n",
      "})\n"
     ],
     "name": "stdout"
    }
   ]
  },
  {
   "cell_type": "markdown",
   "metadata": {
    "id": "cnBmgGxOoPKU"
   },
   "source": [
    "# Optimization\n",
    "\n",
    "Flax has several built-in (first-order) optimizers, as we illustrate below on a random linear function. (Note that we can also fit a model defined in flax using some other kind of optimizer, such as that provided by the [optax library](https://github.com/deepmind/optax).)"
   ]
  },
  {
   "cell_type": "code",
   "metadata": {
    "colab": {
     "base_uri": "https://localhost:8080/"
    },
    "id": "OTHgj_pMra3H",
    "outputId": "d142c2bb-c725-47e6-8cba-5b55f9f16b48"
   },
   "source": [
    "D = 5\n",
    "key = jax.random.PRNGKey(0)\n",
    "params = {\"w\": jax.random.normal(key, (D,))}\n",
    "print(params)\n",
    "\n",
    "x = jax.random.normal(key, (D,))\n",
    "\n",
    "\n",
    "def loss(params):\n",
    "    w = params[\"w\"]\n",
    "    return jnp.dot(x, w)\n",
    "\n",
    "\n",
    "loss_grad_fn = jax.value_and_grad(loss)\n",
    "v, g = loss_grad_fn(params)\n",
    "print(v)\n",
    "print(g)"
   ],
   "execution_count": null,
   "outputs": [
    {
     "output_type": "stream",
     "text": [
      "{'w': DeviceArray([0.18784, -1.28334, -0.27109, 1.24906, 0.24447], dtype=float32)}\n",
      "3.375659\n",
      "{'w': DeviceArray([0.18784, -1.28334, -0.27109, 1.24906, 0.24447], dtype=float32)}\n"
     ],
     "name": "stdout"
    }
   ]
  },
  {
   "cell_type": "code",
   "metadata": {
    "id": "7KdmBHa8oWFY",
    "colab": {
     "base_uri": "https://localhost:8080/"
    },
    "outputId": "3695c5f5-339c-4e27-d80e-30d100ddae66"
   },
   "source": [
    "from flax import optim\n",
    "\n",
    "optimizer_def = optim.Momentum(learning_rate=0.1, beta=0.9)\n",
    "print(optimizer_def)\n",
    "\n",
    "optimizer = optimizer_def.create(params)\n",
    "print(optimizer)"
   ],
   "execution_count": null,
   "outputs": [
    {
     "output_type": "stream",
     "text": [
      "<flax.optim.momentum.Momentum object at 0x7fbd09abceb8>\n",
      "Optimizer(optimizer_def=<flax.optim.momentum.Momentum object at 0x7fbd09abceb8>, state=OptimizerState(step=DeviceArray(0, dtype=int32), param_states={'w': _MomentumParamState(momentum=DeviceArray([0.00000, 0.00000, 0.00000, 0.00000, 0.00000], dtype=float32))}), target={'w': DeviceArray([0.18784, -1.28334, -0.27109, 1.24906, 0.24447], dtype=float32)})\n"
     ],
     "name": "stdout"
    }
   ]
  },
  {
   "cell_type": "code",
   "metadata": {
    "colab": {
     "base_uri": "https://localhost:8080/"
    },
    "id": "1JpgauX_ox_w",
    "outputId": "c649c61c-93ba-41a0-a834-2c254a53a243"
   },
   "source": [
    "for i in range(10):\n",
    "    params = optimizer.target\n",
    "    loss_val, grad = loss_grad_fn(params)\n",
    "    optimizer = optimizer.apply_gradient(grad)\n",
    "    params = optimizer.target\n",
    "    print(\"step {}, loss {:0.3f}, params {}\".format(i, loss_val, params))"
   ],
   "execution_count": null,
   "outputs": [
    {
     "output_type": "stream",
     "text": [
      "step 0, loss -10.593, params {'w': DeviceArray([-0.71837, 4.90788, 1.03673, -4.77677, -0.93493], dtype=float32)}\n",
      "step 1, loss -12.910, params {'w': DeviceArray([-0.85316, 5.82877, 1.23126, -5.67306, -1.11035], dtype=float32)}\n",
      "step 2, loss -15.332, params {'w': DeviceArray([-0.99326, 6.78590, 1.43345, -6.60462, -1.29268], dtype=float32)}\n",
      "step 3, loss -17.849, params {'w': DeviceArray([-1.13813, 7.77566, 1.64252, -7.56794, -1.48122], dtype=float32)}\n",
      "step 4, loss -20.453, params {'w': DeviceArray([-1.28730, 8.79477, 1.85780, -8.55983, -1.67536], dtype=float32)}\n",
      "step 5, loss -23.133, params {'w': DeviceArray([-1.44033, 9.84031, 2.07866, -9.57743, -1.87453], dtype=float32)}\n",
      "step 6, loss -25.884, params {'w': DeviceArray([-1.59685, 10.90963, 2.30454, -10.61818, -2.07823], dtype=float32)}\n",
      "step 7, loss -28.696, params {'w': DeviceArray([-1.75650, 12.00035, 2.53494, -11.67977, -2.28600], dtype=float32)}\n",
      "step 8, loss -31.565, params {'w': DeviceArray([-1.91897, 13.11033, 2.76941, -12.76010, -2.49745], dtype=float32)}\n",
      "step 9, loss -34.485, params {'w': DeviceArray([-2.08397, 14.23764, 3.00754, -13.85730, -2.71220], dtype=float32)}\n"
     ],
     "name": "stdout"
    }
   ]
  },
  {
   "cell_type": "markdown",
   "metadata": {
    "id": "_ITTDWT2ECxC"
   },
   "source": [
    "# Worked example: MLP for MNIST \n",
    "\n",
    "We demonstrate how to fit a shallow MLP to MNIST using Flax.\n",
    "We use this function:\n",
    "https://github.com/probml/pyprobml/blob/master/scripts/fit_flax.py\n",
    "\n",
    "\n"
   ]
  },
  {
   "cell_type": "markdown",
   "metadata": {
    "id": "vavamofruHS_"
   },
   "source": [
    "## Import code"
   ]
  },
  {
   "cell_type": "code",
   "metadata": {
    "id": "W71bGFI46Cc0",
    "outputId": "5a29b55a-e940-4fc0-d40d-9b84a0e54c46",
    "colab": {
     "base_uri": "https://localhost:8080/"
    }
   },
   "source": [
    "!pip install superimport"
   ],
   "execution_count": 4,
   "outputs": [
    {
     "output_type": "stream",
     "name": "stdout",
     "text": [
      "Collecting superimport\n",
      "  Downloading superimport-0.3.3.tar.gz (5.8 kB)\n",
      "Requirement already satisfied: requests in /usr/local/lib/python3.7/dist-packages (from superimport) (2.23.0)\n",
      "Requirement already satisfied: idna<3,>=2.5 in /usr/local/lib/python3.7/dist-packages (from requests->superimport) (2.10)\n",
      "Requirement already satisfied: certifi>=2017.4.17 in /usr/local/lib/python3.7/dist-packages (from requests->superimport) (2021.5.30)\n",
      "Requirement already satisfied: urllib3!=1.25.0,!=1.25.1,<1.26,>=1.21.1 in /usr/local/lib/python3.7/dist-packages (from requests->superimport) (1.24.3)\n",
      "Requirement already satisfied: chardet<4,>=3.0.2 in /usr/local/lib/python3.7/dist-packages (from requests->superimport) (3.0.4)\n",
      "Building wheels for collected packages: superimport\n",
      "  Building wheel for superimport (setup.py) ... \u001b[?25l\u001b[?25hdone\n",
      "  Created wheel for superimport: filename=superimport-0.3.3-py3-none-any.whl size=5766 sha256=4a2891b002c0f5f3e2330adca027096d023e29accf21b2ae4ceb6b89445ef44f\n",
      "  Stored in directory: /root/.cache/pip/wheels/0f/0a/7e/ba2303ac54e68950f97db02ebf09ee4ef5c794e1adb656cb68\n",
      "Successfully built superimport\n",
      "Installing collected packages: superimport\n",
      "Successfully installed superimport-0.3.3\n"
     ]
    }
   ]
  },
  {
   "cell_type": "code",
   "metadata": {
    "colab": {
     "base_uri": "https://localhost:8080/"
    },
    "id": "ItaIH9dyocZA",
    "outputId": "32330bd5-a0ff-49c2-8946-18a6b89238c1"
   },
   "source": [
    "\n",
    "!wget https://raw.githubusercontent.com/probml/pyprobml/master/scripts/fit_flax.py   \n",
    "import fit_flax as ff\n",
    "ff.test()\n"
   ],
   "execution_count": 5,
   "outputs": [
    {
     "output_type": "stream",
     "name": "stdout",
     "text": [
      "--2021-09-11 03:30:48--  https://raw.githubusercontent.com/probml/pyprobml/master/scripts/fit_flax.py\n",
      "Resolving raw.githubusercontent.com (raw.githubusercontent.com)... 185.199.108.133, 185.199.109.133, 185.199.110.133, ...\n",
      "Connecting to raw.githubusercontent.com (raw.githubusercontent.com)|185.199.108.133|:443... connected.\n",
      "HTTP request sent, awaiting response... 200 OK\n",
      "Length: 5638 (5.5K) [text/plain]\n",
      "Saving to: ‘fit_flax.py.1’\n",
      "\n",
      "\rfit_flax.py.1         0%[                    ]       0  --.-KB/s               \rfit_flax.py.1       100%[===================>]   5.51K  --.-KB/s    in 0s      \n",
      "\n",
      "2021-09-11 03:30:48 (65.1 MB/s) - ‘fit_flax.py.1’ saved [5638/5638]\n",
      "\n"
     ]
    },
    {
     "output_type": "stream",
     "name": "stderr",
     "text": [
      "ERROR: superimport : missing python module: flax \n",
      "Trying try to install automatcially\n",
      "WARNING:root:Package was not found in the reverse index, trying pypi.\n",
      "/usr/local/lib/python3.7/dist-packages/jax/_src/config.py:171: UserWarning: enable_omnistaging() is a no-op in JAX versions 0.2.12 and higher;\n",
      "see https://github.com/google/jax/blob/main/design_notes/omnistaging.md\n",
      "  \"enable_omnistaging() is a no-op in JAX versions 0.2.12 and higher;\\n\"\n"
     ]
    },
    {
     "output_type": "stream",
     "name": "stdout",
     "text": [
      "testing fit-flax\n",
      "train step: 0, loss: 1.9212, accuracy: 0.33\n",
      "train step: 1, loss: 1.8051, accuracy: 0.33\n",
      "FrozenDict({\n",
      "    Dense_0: {\n",
      "        bias: DeviceArray([-0.05753, -0.06485, 0.01820, -0.06623, 0.03506, 0.01663,\n",
      "                     0.03751, 0.03186, 0.03567, 0.01368], dtype=float32),\n",
      "        kernel: DeviceArray([[0.04317, -0.03052, 0.00153, -0.08923, 0.00806, 0.00845,\n",
      "                      0.01886, 0.01948, 0.01805, 0.00214],\n",
      "                     [0.05920, 0.03486, -0.01555, 0.05232, -0.03050, -0.01319,\n",
      "                      -0.02862, -0.02186, -0.02522, -0.01143],\n",
      "                     [0.01316, 0.02697, -0.01047, 0.09079, -0.02449, -0.01311,\n",
      "                      -0.02791, -0.02281, -0.02392, -0.00822],\n",
      "                     [0.04932, -0.15770, -0.00438, 0.08807, -0.02104, -0.00335,\n",
      "                      0.00400, 0.02333, 0.02383, -0.00208],\n",
      "                     [0.05093, -0.04816, -0.00149, -0.04978, -0.00104, 0.00457,\n",
      "                      0.01233, 0.01710, 0.01562, -0.00007]], dtype=float32),\n",
      "    },\n",
      "})\n",
      "{'train_loss': [DeviceArray(1.92125, dtype=float32), DeviceArray(1.80505, dtype=float32)], 'train_accuracy': [DeviceArray(0.33333, dtype=float32), DeviceArray(0.33333, dtype=float32)], 'test_loss': [DeviceArray(1.80505, dtype=float32), DeviceArray(1.59708, dtype=float32)], 'test_accuracy': [DeviceArray(0.33333, dtype=float32), DeviceArray(0.66667, dtype=float32)]}\n",
      "test passed\n"
     ]
    }
   ]
  },
  {
   "cell_type": "markdown",
   "metadata": {
    "id": "E_xSZi3v03pC"
   },
   "source": [
    "## Data"
   ]
  },
  {
   "cell_type": "code",
   "metadata": {
    "id": "SIIkAHep6nyN"
   },
   "source": [
    "import tensorflow_datasets as tfds\n",
    "import tensorflow as tf"
   ],
   "execution_count": 9,
   "outputs": []
  },
  {
   "cell_type": "code",
   "metadata": {
    "colab": {
     "base_uri": "https://localhost:8080/"
    },
    "id": "l4uNqjBIW0we",
    "outputId": "4690ea0c-4c45-4f8b-8249-76c630e00d1f"
   },
   "source": [
    "def process_record(batch):\n",
    "    image = batch[\"image\"]\n",
    "    label = batch[\"label\"]\n",
    "    # flatten image to vector\n",
    "    shape = image.get_shape().as_list()\n",
    "    D = np.prod(shape)  # no batch dimension\n",
    "    image = tf.reshape(image, (D,))\n",
    "    # rescale to -1..+1\n",
    "    image = tf.cast(image, dtype=tf.float32)\n",
    "    image = ((image / 255.0) - 0.5) * 2.0\n",
    "    # convert to standard names\n",
    "    return {\"X\": image, \"y\": label}\n",
    "\n",
    "\n",
    "def load_mnist(split, batch_size):\n",
    "    dataset, info = tfds.load(\"mnist\", split=split, with_info=True)\n",
    "    dataset = dataset.map(process_record)\n",
    "    if split == \"train\":\n",
    "        dataset = dataset.shuffle(10 * batch_size, seed=0)\n",
    "    dataset = dataset.batch(batch_size)\n",
    "    dataset = dataset.prefetch(tf.data.experimental.AUTOTUNE)\n",
    "    dataset = dataset.cache()\n",
    "    dataset = dataset.repeat()\n",
    "    dataset = tfds.as_numpy(dataset)  # leave TF behind\n",
    "    num_examples = info.splits[split].num_examples\n",
    "    return iter(dataset), num_examples\n",
    "\n",
    "\n",
    "batch_size = 100\n",
    "train_iter, num_train = load_mnist(\"train\", batch_size)\n",
    "test_iter, num_test = load_mnist(\"test\", batch_size)\n",
    "\n",
    "num_epochs = 3\n",
    "num_steps = num_train // batch_size\n",
    "print(f\"{num_epochs} epochs with batch size {batch_size} will take {num_steps} steps\")\n",
    "\n",
    "batch = next(train_iter)\n",
    "print(batch[\"X\"].shape)\n",
    "print(batch[\"y\"].shape)"
   ],
   "execution_count": 10,
   "outputs": [
    {
     "output_type": "stream",
     "name": "stdout",
     "text": [
      "3 epochs with batch size 100 will take 600 steps\n",
      "(100, 784)\n",
      "(100,)\n"
     ]
    }
   ]
  },
  {
   "cell_type": "markdown",
   "metadata": {
    "id": "rLiWUSjR05BQ"
   },
   "source": [
    "## Model\n",
    "\n"
   ]
  },
  {
   "cell_type": "code",
   "metadata": {
    "id": "cLwAwqd4Nzvy"
   },
   "source": [
    "class Model(nn.Module):\n",
    "    nhidden: int\n",
    "    nclasses: int\n",
    "\n",
    "    @nn.compact\n",
    "    def __call__(self, x):\n",
    "        if self.nhidden > 0:\n",
    "            x = nn.Dense(self.nhidden)(x)\n",
    "            x = nn.relu(x)\n",
    "        x = nn.Dense(self.nclasses)(x)  # logits\n",
    "        x = nn.log_softmax(x)  # log probabilities\n",
    "        return x"
   ],
   "execution_count": 16,
   "outputs": []
  },
  {
   "cell_type": "markdown",
   "metadata": {
    "id": "9JsVFGfU628j"
   },
   "source": [
    "## Training loop\n"
   ]
  },
  {
   "cell_type": "code",
   "metadata": {
    "colab": {
     "base_uri": "https://localhost:8080/",
     "height": 867
    },
    "id": "KDAJthPTvxI7",
    "outputId": "2467ef1a-2327-420d-e594-6871b77cc104"
   },
   "source": [
    "model = Model(nhidden=128, nclasses=10)\n",
    "rng = jax.random.PRNGKey(0)\n",
    "num_steps = 200\n",
    "\n",
    "params, history = ff.fit_model(model, rng, num_steps, train_iter, test_iter, print_every=20)\n",
    "\n",
    "display(history)"
   ],
   "execution_count": 17,
   "outputs": [
    {
     "output_type": "stream",
     "name": "stdout",
     "text": [
      "train step: 0, loss: 2.4736, accuracy: 0.13\n",
      "train step: 20, loss: 1.3480, accuracy: 0.60\n",
      "train step: 40, loss: 0.6385, accuracy: 0.80\n",
      "train step: 60, loss: 0.9009, accuracy: 0.71\n",
      "train step: 80, loss: 0.6118, accuracy: 0.83\n",
      "train step: 100, loss: 0.3172, accuracy: 0.91\n",
      "train step: 120, loss: 0.5050, accuracy: 0.82\n",
      "train step: 140, loss: 0.5362, accuracy: 0.83\n",
      "train step: 160, loss: 0.4464, accuracy: 0.86\n",
      "train step: 180, loss: 0.7583, accuracy: 0.81\n"
     ]
    },
    {
     "output_type": "display_data",
     "data": {
      "text/plain": [
       "{'test_accuracy': [DeviceArray(0.14000, dtype=float32),\n",
       "  DeviceArray(0.61000, dtype=float32),\n",
       "  DeviceArray(0.82000, dtype=float32),\n",
       "  DeviceArray(0.80000, dtype=float32),\n",
       "  DeviceArray(0.82000, dtype=float32),\n",
       "  DeviceArray(0.83000, dtype=float32),\n",
       "  DeviceArray(0.86000, dtype=float32),\n",
       "  DeviceArray(0.84000, dtype=float32),\n",
       "  DeviceArray(0.85000, dtype=float32),\n",
       "  DeviceArray(0.86000, dtype=float32)],\n",
       " 'test_loss': [DeviceArray(2.60662, dtype=float32),\n",
       "  DeviceArray(1.52616, dtype=float32),\n",
       "  DeviceArray(0.58906, dtype=float32),\n",
       "  DeviceArray(0.77289, dtype=float32),\n",
       "  DeviceArray(0.62323, dtype=float32),\n",
       "  DeviceArray(0.55543, dtype=float32),\n",
       "  DeviceArray(0.45732, dtype=float32),\n",
       "  DeviceArray(0.54828, dtype=float32),\n",
       "  DeviceArray(0.61440, dtype=float32),\n",
       "  DeviceArray(0.54720, dtype=float32)],\n",
       " 'train_accuracy': [DeviceArray(0.13000, dtype=float32),\n",
       "  DeviceArray(0.60000, dtype=float32),\n",
       "  DeviceArray(0.80000, dtype=float32),\n",
       "  DeviceArray(0.71000, dtype=float32),\n",
       "  DeviceArray(0.83000, dtype=float32),\n",
       "  DeviceArray(0.91000, dtype=float32),\n",
       "  DeviceArray(0.82000, dtype=float32),\n",
       "  DeviceArray(0.83000, dtype=float32),\n",
       "  DeviceArray(0.86000, dtype=float32),\n",
       "  DeviceArray(0.81000, dtype=float32)],\n",
       " 'train_loss': [DeviceArray(2.47364, dtype=float32),\n",
       "  DeviceArray(1.34795, dtype=float32),\n",
       "  DeviceArray(0.63851, dtype=float32),\n",
       "  DeviceArray(0.90089, dtype=float32),\n",
       "  DeviceArray(0.61182, dtype=float32),\n",
       "  DeviceArray(0.31721, dtype=float32),\n",
       "  DeviceArray(0.50501, dtype=float32),\n",
       "  DeviceArray(0.53616, dtype=float32),\n",
       "  DeviceArray(0.44640, dtype=float32),\n",
       "  DeviceArray(0.75831, dtype=float32)]}"
      ]
     },
     "metadata": {}
    }
   ]
  },
  {
   "cell_type": "code",
   "metadata": {
    "colab": {
     "base_uri": "https://localhost:8080/",
     "height": 279
    },
    "id": "RWv2Sspl8EAN",
    "outputId": "51acc788-1f60-4711-d6f6-c9254c8c061d"
   },
   "source": [
    "plt.figure()\n",
    "plt.plot(history[\"test_accuracy\"], \"o-\", label=\"test accuracy\")\n",
    "plt.xlabel(\"num. minibatches\")\n",
    "plt.legend()\n",
    "plt.show()"
   ],
   "execution_count": 19,
   "outputs": [
    {
     "output_type": "display_data",
     "data": {
      "image/png": "[encoded data removed]",
      "text/plain": [
       "<Figure size 432x288 with 1 Axes>"
      ]
     },
     "metadata": {
      "needs_background": "light"
     }
    }
   ]
  },
  {
   "cell_type": "code",
   "metadata": {
    "id": "oWe69Z51Q3Kz"
   },
   "source": [
    ""
   ],
   "execution_count": null,
   "outputs": []
  }
 ]
}