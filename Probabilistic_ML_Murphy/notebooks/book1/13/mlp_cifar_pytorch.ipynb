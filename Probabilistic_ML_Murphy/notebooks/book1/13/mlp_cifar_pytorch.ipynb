{
 "nbformat": 4,
 "nbformat_minor": 0,
 "metadata": {
  "colab": {
   "name": "mlp_cifar_pytorch.ipynb",
   "provenance": [],
   "toc_visible": true,
   "include_colab_link": true
  },
  "kernelspec": {
   "name": "python3",
   "display_name": "Python 3"
  },
  "accelerator": "GPU",
  "widgets": {
   "application/vnd.jupyter.widget-state+json": {
    "4ac2dfbb2573483a9292fd9abdd35f65": {
     "model_module": "@jupyter-widgets/controls",
     "model_name": "HBoxModel",
     "state": {
      "_view_name": "HBoxView",
      "_dom_classes": [],
      "_model_name": "HBoxModel",
      "_view_module": "@jupyter-widgets/controls",
      "_model_module_version": "1.5.0",
      "_view_count": null,
      "_view_module_version": "1.5.0",
      "box_style": "",
      "layout": "IPY_MODEL_ba188765b5ba49fbb0e21731d0561f6a",
      "_model_module": "@jupyter-widgets/controls",
      "children": [
       "IPY_MODEL_b55fe94d59b04923ba841a96013288e6",
       "IPY_MODEL_6633979a8e5f48df8f51013a625068f8"
      ]
     }
    },
    "ba188765b5ba49fbb0e21731d0561f6a": {
     "model_module": "@jupyter-widgets/base",
     "model_name": "LayoutModel",
     "state": {
      "_view_name": "LayoutView",
      "grid_template_rows": null,
      "right": null,
      "justify_content": null,
      "_view_module": "@jupyter-widgets/base",
      "overflow": null,
      "_model_module_version": "1.2.0",
      "_view_count": null,
      "flex_flow": null,
      "width": null,
      "min_width": null,
      "border": null,
      "align_items": null,
      "bottom": null,
      "_model_module": "@jupyter-widgets/base",
      "top": null,
      "grid_column": null,
      "overflow_y": null,
      "overflow_x": null,
      "grid_auto_flow": null,
      "grid_area": null,
      "grid_template_columns": null,
      "flex": null,
      "_model_name": "LayoutModel",
      "justify_items": null,
      "grid_row": null,
      "max_height": null,
      "align_content": null,
      "visibility": null,
      "align_self": null,
      "height": null,
      "min_height": null,
      "padding": null,
      "grid_auto_rows": null,
      "grid_gap": null,
      "max_width": null,
      "order": null,
      "_view_module_version": "1.2.0",
      "grid_template_areas": null,
      "object_position": null,
      "object_fit": null,
      "grid_auto_columns": null,
      "margin": null,
      "display": null,
      "left": null
     }
    },
    "b55fe94d59b04923ba841a96013288e6": {
     "model_module": "@jupyter-widgets/controls",
     "model_name": "FloatProgressModel",
     "state": {
      "_view_name": "ProgressView",
      "style": "IPY_MODEL_3e4c3b7d9aee4060940b27b60972c7ff",
      "_dom_classes": [],
      "description": "",
      "_model_name": "FloatProgressModel",
      "bar_style": "success",
      "max": 170498071,
      "_view_module": "@jupyter-widgets/controls",
      "_model_module_version": "1.5.0",
      "value": 170498071,
      "_view_count": null,
      "_view_module_version": "1.5.0",
      "orientation": "horizontal",
      "min": 0,
      "description_tooltip": null,
      "_model_module": "@jupyter-widgets/controls",
      "layout": "IPY_MODEL_4cb38cdfd61e4aa0a474727e280e3c44"
     }
    },
    "6633979a8e5f48df8f51013a625068f8": {
     "model_module": "@jupyter-widgets/controls",
     "model_name": "HTMLModel",
     "state": {
      "_view_name": "HTMLView",
      "style": "IPY_MODEL_308fedacacbb4ada9e749b7d00187f45",
      "_dom_classes": [],
      "description": "",
      "_model_name": "HTMLModel",
      "placeholder": "​",
      "_view_module": "@jupyter-widgets/controls",
      "_model_module_version": "1.5.0",
      "value": " 170499072/? [00:28&lt;00:00, 5886367.11it/s]",
      "_view_count": null,
      "_view_module_version": "1.5.0",
      "description_tooltip": null,
      "_model_module": "@jupyter-widgets/controls",
      "layout": "IPY_MODEL_f1159f0269504f7082735948433b8158"
     }
    },
    "3e4c3b7d9aee4060940b27b60972c7ff": {
     "model_module": "@jupyter-widgets/controls",
     "model_name": "ProgressStyleModel",
     "state": {
      "_view_name": "StyleView",
      "_model_name": "ProgressStyleModel",
      "description_width": "initial",
      "_view_module": "@jupyter-widgets/base",
      "_model_module_version": "1.5.0",
      "_view_count": null,
      "_view_module_version": "1.2.0",
      "bar_color": null,
      "_model_module": "@jupyter-widgets/controls"
     }
    },
    "4cb38cdfd61e4aa0a474727e280e3c44": {
     "model_module": "@jupyter-widgets/base",
     "model_name": "LayoutModel",
     "state": {
      "_view_name": "LayoutView",
      "grid_template_rows": null,
      "right": null,
      "justify_content": null,
      "_view_module": "@jupyter-widgets/base",
      "overflow": null,
      "_model_module_version": "1.2.0",
      "_view_count": null,
      "flex_flow": null,
      "width": null,
      "min_width": null,
      "border": null,
      "align_items": null,
      "bottom": null,
      "_model_module": "@jupyter-widgets/base",
      "top": null,
      "grid_column": null,
      "overflow_y": null,
      "overflow_x": null,
      "grid_auto_flow": null,
      "grid_area": null,
      "grid_template_columns": null,
      "flex": null,
      "_model_name": "LayoutModel",
      "justify_items": null,
      "grid_row": null,
      "max_height": null,
      "align_content": null,
      "visibility": null,
      "align_self": null,
      "height": null,
      "min_height": null,
      "padding": null,
      "grid_auto_rows": null,
      "grid_gap": null,
      "max_width": null,
      "order": null,
      "_view_module_version": "1.2.0",
      "grid_template_areas": null,
      "object_position": null,
      "object_fit": null,
      "grid_auto_columns": null,
      "margin": null,
      "display": null,
      "left": null
     }
    },
    "308fedacacbb4ada9e749b7d00187f45": {
     "model_module": "@jupyter-widgets/controls",
     "model_name": "DescriptionStyleModel",
     "state": {
      "_view_name": "StyleView",
      "_model_name": "DescriptionStyleModel",
      "description_width": "",
      "_view_module": "@jupyter-widgets/base",
      "_model_module_version": "1.5.0",
      "_view_count": null,
      "_view_module_version": "1.2.0",
      "_model_module": "@jupyter-widgets/controls"
     }
    },
    "f1159f0269504f7082735948433b8158": {
     "model_module": "@jupyter-widgets/base",
     "model_name": "LayoutModel",
     "state": {
      "_view_name": "LayoutView",
      "grid_template_rows": null,
      "right": null,
      "justify_content": null,
      "_view_module": "@jupyter-widgets/base",
      "overflow": null,
      "_model_module_version": "1.2.0",
      "_view_count": null,
      "flex_flow": null,
      "width": null,
      "min_width": null,
      "border": null,
      "align_items": null,
      "bottom": null,
      "_model_module": "@jupyter-widgets/base",
      "top": null,
      "grid_column": null,
      "overflow_y": null,
      "overflow_x": null,
      "grid_auto_flow": null,
      "grid_area": null,
      "grid_template_columns": null,
      "flex": null,
      "_model_name": "LayoutModel",
      "justify_items": null,
      "grid_row": null,
      "max_height": null,
      "align_content": null,
      "visibility": null,
      "align_self": null,
      "height": null,
      "min_height": null,
      "padding": null,
      "grid_auto_rows": null,
      "grid_gap": null,
      "max_width": null,
      "order": null,
      "_view_module_version": "1.2.0",
      "grid_template_areas": null,
      "object_position": null,
      "object_fit": null,
      "grid_auto_columns": null,
      "margin": null,
      "display": null,
      "left": null
     }
    }
   }
  }
 },
 "cells": [
  {
   "cell_type": "markdown",
   "metadata": {
    "id": "view-in-github",
    "colab_type": "text"
   },
   "source": [
    "<a href=\"https://colab.research.google.com/github/probml/pyprobml/blob/master/book1/supplements/mlp_cifar_pytorch.ipynb\" target=\"_parent\"><img src=\"https://colab.research.google.com/assets/colab-badge.svg\" alt=\"Open In Colab\"/></a>"
   ]
  },
  {
   "cell_type": "markdown",
   "metadata": {
    "id": "b520E1nCIBHc"
   },
   "source": [
    "\n",
    "# MLP for image classification using PyTorch\n",
    "\n",
    "In this section, we follow Chap. 7 of the [Deep Learning With PyTorch](https://pytorch.org/assets/deep-learning/Deep-Learning-with-PyTorch.pdf) book, and illustrate how to fit an MLP to a two-class version of CIFAR. (We modify the code from [here](https://github.com/deep-learning-with-pytorch/dlwpt-code/tree/master/p1ch7).)\n",
    "\n"
   ]
  },
  {
   "cell_type": "code",
   "metadata": {
    "id": "UeuOgABaIENZ"
   },
   "source": [
    "import sklearn\n",
    "import scipy\n",
    "import scipy.optimize\n",
    "import matplotlib.pyplot as plt\n",
    "from mpl_toolkits import mplot3d\n",
    "from mpl_toolkits.mplot3d import Axes3D\n",
    "import seaborn as sns\n",
    "import warnings\n",
    "\n",
    "warnings.filterwarnings(\"ignore\")\n",
    "import itertools\n",
    "import time\n",
    "from functools import partial\n",
    "\n",
    "import os\n",
    "\n",
    "import numpy as np\n",
    "from scipy.special import logsumexp\n",
    "\n",
    "np.set_printoptions(precision=3)"
   ],
   "execution_count": null,
   "outputs": []
  },
  {
   "cell_type": "code",
   "metadata": {
    "id": "GPozRwDAKFb8",
    "colab": {
     "base_uri": "https://localhost:8080/"
    },
    "outputId": "982cc6c0-054f-4b26-8d54-4b4d65e6b440"
   },
   "source": [
    "import torch\n",
    "import torch.nn as nn\n",
    "import torch.nn.functional as F\n",
    "import torch.optim as optim\n",
    "import torchvision\n",
    "\n",
    "print(\"torch version {}\".format(torch.__version__))\n",
    "if torch.cuda.is_available():\n",
    "    print(torch.cuda.get_device_name(0))\n",
    "    print(\"current device {}\".format(torch.cuda.current_device()))\n",
    "else:\n",
    "    print(\"Torch cannot find GPU\")\n",
    "\n",
    "\n",
    "def set_seed(seed):\n",
    "    np.random.seed(seed)\n",
    "    torch.manual_seed(seed)\n",
    "    torch.cuda.manual_seed_all(seed)\n",
    "\n",
    "\n",
    "use_cuda = torch.cuda.is_available()\n",
    "device = torch.device(\"cuda:0\" if use_cuda else \"cpu\")\n",
    "# torch.backends.cudnn.benchmark = True"
   ],
   "execution_count": null,
   "outputs": [
    {
     "output_type": "stream",
     "text": [
      "torch version 1.8.0+cu101\n",
      "Tesla V100-SXM2-16GB\n",
      "current device 0\n"
     ],
     "name": "stdout"
    }
   ]
  },
  {
   "cell_type": "markdown",
   "metadata": {
    "id": "Ds9B4oxBzQ4I"
   },
   "source": [
    "## Get the CIFAR dataset"
   ]
  },
  {
   "cell_type": "code",
   "metadata": {
    "colab": {
     "base_uri": "https://localhost:8080/",
     "height": 117,
     "referenced_widgets": [
      "4ac2dfbb2573483a9292fd9abdd35f65",
      "ba188765b5ba49fbb0e21731d0561f6a",
      "b55fe94d59b04923ba841a96013288e6",
      "6633979a8e5f48df8f51013a625068f8",
      "3e4c3b7d9aee4060940b27b60972c7ff",
      "4cb38cdfd61e4aa0a474727e280e3c44",
      "308fedacacbb4ada9e749b7d00187f45",
      "f1159f0269504f7082735948433b8158"
     ]
    },
    "id": "SglcKAXPyZaC",
    "outputId": "55ae6233-e431-457d-b0df-ac817fc73e55"
   },
   "source": [
    "from torchvision import datasets\n",
    "\n",
    "folder = \"data\"\n",
    "cifar10 = datasets.CIFAR10(folder, train=True, download=True)\n",
    "cifar10_val = datasets.CIFAR10(folder, train=False, download=True)"
   ],
   "execution_count": null,
   "outputs": [
    {
     "output_type": "stream",
     "text": [
      "Downloading https://www.cs.toronto.edu/~kriz/cifar-10-python.tar.gz to data/cifar-10-python.tar.gz\n"
     ],
     "name": "stdout"
    },
    {
     "output_type": "display_data",
     "data": {
      "application/vnd.jupyter.widget-view+json": {
       "model_id": "4ac2dfbb2573483a9292fd9abdd35f65",
       "version_minor": 0,
       "version_major": 2
      },
      "text/plain": [
       "HBox(children=(FloatProgress(value=0.0, max=170498071.0), HTML(value='')))"
      ]
     },
     "metadata": {
      "tags": []
     }
    },
    {
     "output_type": "stream",
     "text": [
      "\n",
      "Extracting data/cifar-10-python.tar.gz to data\n",
      "Files already downloaded and verified\n"
     ],
     "name": "stdout"
    }
   ]
  },
  {
   "cell_type": "code",
   "metadata": {
    "colab": {
     "base_uri": "https://localhost:8080/"
    },
    "id": "ruAhO94LzT3k",
    "outputId": "16ae2539-1e8d-41ff-a4a2-7f91072190d2"
   },
   "source": [
    "print(type(cifar10))\n",
    "print(type(cifar10).__mro__)  # module resolution order shows class hierarchy"
   ],
   "execution_count": null,
   "outputs": [
    {
     "output_type": "stream",
     "text": [
      "<class 'torchvision.datasets.cifar.CIFAR10'>\n",
      "(<class 'torchvision.datasets.cifar.CIFAR10'>, <class 'torchvision.datasets.vision.VisionDataset'>, <class 'torch.utils.data.dataset.Dataset'>, <class 'typing.Generic'>, <class 'object'>)\n"
     ],
     "name": "stdout"
    }
   ]
  },
  {
   "cell_type": "code",
   "metadata": {
    "colab": {
     "base_uri": "https://localhost:8080/",
     "height": 317
    },
    "id": "v65yrJkxzw5s",
    "outputId": "133a2fed-822e-4155-8513-a40889ff020d"
   },
   "source": [
    "print(len(cifar10))\n",
    "img, label = cifar10[99]\n",
    "print(type(img))\n",
    "print(img)\n",
    "plt.imshow(img)\n",
    "plt.show()"
   ],
   "execution_count": null,
   "outputs": [
    {
     "output_type": "stream",
     "text": [
      "50000\n",
      "<class 'PIL.Image.Image'>\n",
      "<PIL.Image.Image image mode=RGB size=32x32 at 0x7F4ACCD47ED0>\n"
     ],
     "name": "stdout"
    },
    {
     "output_type": "display_data",
     "data": {
      "image/png": "[encoded data removed]",
      "text/plain": [
       "<Figure size 432x288 with 1 Axes>"
      ]
     },
     "metadata": {
      "tags": [],
      "needs_background": "light"
     }
    }
   ]
  },
  {
   "cell_type": "code",
   "metadata": {
    "colab": {
     "base_uri": "https://localhost:8080/",
     "height": 213
    },
    "id": "gqx19_tX0EcX",
    "outputId": "4b445696-e835-445a-fac9-4b7236afd78a"
   },
   "source": [
    "class_names = [\"airplane\", \"automobile\", \"bird\", \"cat\", \"deer\", \"dog\", \"frog\", \"horse\", \"ship\", \"truck\"]\n",
    "\n",
    "fig = plt.figure(figsize=(8, 3))\n",
    "num_classes = 10\n",
    "for i in range(num_classes):\n",
    "    ax = fig.add_subplot(2, 5, 1 + i, xticks=[], yticks=[])\n",
    "    ax.set_title(class_names[i])\n",
    "    img = next(img for img, label in cifar10 if label == i)\n",
    "    plt.imshow(img)\n",
    "plt.show()"
   ],
   "execution_count": null,
   "outputs": [
    {
     "output_type": "display_data",
     "data": {
      "image/png": "[encoded data removed]",
      "text/plain": [
       "<Figure size 576x216 with 10 Axes>"
      ]
     },
     "metadata": {
      "tags": []
     }
    }
   ]
  },
  {
   "cell_type": "markdown",
   "metadata": {
    "id": "O3HCDpb01rWU"
   },
   "source": [
    "## Convert to tensors"
   ]
  },
  {
   "cell_type": "code",
   "metadata": {
    "colab": {
     "base_uri": "https://localhost:8080/"
    },
    "id": "NYahB-cP0Ix4",
    "outputId": "ec04f25a-3ab3-4002-a95b-66d95fb7ca91"
   },
   "source": [
    "# Now we want to convert this to a tensor\n",
    "from torchvision import transforms\n",
    "\n",
    "to_tensor = transforms.ToTensor()\n",
    "\n",
    "img, label = cifar10[99]\n",
    "img_t = to_tensor(img)\n",
    "print(type(img))\n",
    "# print(img.shape)\n",
    "print(type(img_t))\n",
    "print(img_t.shape)  # channels * height * width, here channels=3 (RGB)\n",
    "print(img_t.min(), img_t.max())  # pixel values are rescaled to 0..1"
   ],
   "execution_count": null,
   "outputs": [
    {
     "output_type": "stream",
     "text": [
      "<class 'PIL.Image.Image'>\n",
      "<class 'torch.Tensor'>\n",
      "torch.Size([3, 32, 32])\n",
      "tensor(0.) tensor(1.)\n"
     ],
     "name": "stdout"
    }
   ]
  },
  {
   "cell_type": "code",
   "metadata": {
    "id": "0R4C9E5e0pNE"
   },
   "source": [
    "# transform the whole dataset to tensors\n",
    "cifar10 = datasets.CIFAR10(folder, train=True, download=False, transform=transforms.ToTensor())"
   ],
   "execution_count": null,
   "outputs": []
  },
  {
   "cell_type": "code",
   "metadata": {
    "colab": {
     "base_uri": "https://localhost:8080/",
     "height": 283
    },
    "id": "cMAdGB1x1FF3",
    "outputId": "f36d2f9c-9fc7-4c99-a0c3-9fb8a1c3063a"
   },
   "source": [
    "img, label = cifar10[99]\n",
    "print(type(img))\n",
    "plt.imshow(img.permute(1, 2, 0))  # matplotlib expects H*W*C\n",
    "plt.show()"
   ],
   "execution_count": null,
   "outputs": [
    {
     "output_type": "stream",
     "text": [
      "<class 'torch.Tensor'>\n"
     ],
     "name": "stdout"
    },
    {
     "output_type": "display_data",
     "data": {
      "image/png": "[encoded data removed]",
      "text/plain": [
       "<Figure size 432x288 with 1 Axes>"
      ]
     },
     "metadata": {
      "tags": [],
      "needs_background": "light"
     }
    }
   ]
  },
  {
   "cell_type": "markdown",
   "metadata": {
    "id": "RjVR6T0P1tu7"
   },
   "source": [
    "## Standardize the inputs\n",
    "\n",
    "We standardize the features by  computing the mean and std of each channel, averaging across all pixels and all images. This will help optimization."
   ]
  },
  {
   "cell_type": "code",
   "metadata": {
    "colab": {
     "base_uri": "https://localhost:8080/"
    },
    "id": "U82Rd6F91WwE",
    "outputId": "b4cd54b4-3648-424d-d86e-ece9fd885359"
   },
   "source": [
    "# we load the whole training set as a batch, of size 3*H*W*N\n",
    "\n",
    "imgs = torch.stack([img for img, _ in cifar10], dim=3)\n",
    "print(imgs.shape)"
   ],
   "execution_count": null,
   "outputs": [
    {
     "output_type": "stream",
     "text": [
      "torch.Size([3, 32, 32, 50000])\n"
     ],
     "name": "stdout"
    }
   ]
  },
  {
   "cell_type": "code",
   "metadata": {
    "colab": {
     "base_uri": "https://localhost:8080/"
    },
    "id": "QWswsfLi2XLw",
    "outputId": "c404a14f-5b06-4369-c3a7-100205dbfca3"
   },
   "source": [
    "imgs_flat = imgs.view(3, -1)  # reshape by keeping first 3 channels, but flatten all others\n",
    "print(imgs_flat.shape)\n",
    "mu = imgs_flat.mean(dim=1)  # average over second dimension (H*W*N) to get one mean per channel\n",
    "sigma = imgs_flat.std(dim=1)\n",
    "print(mu)\n",
    "print(sigma)"
   ],
   "execution_count": null,
   "outputs": [
    {
     "output_type": "stream",
     "text": [
      "torch.Size([3, 51200000])\n",
      "tensor([0.4914, 0.4822, 0.4465])\n",
      "tensor([0.2470, 0.2435, 0.2616])\n"
     ],
     "name": "stdout"
    }
   ]
  },
  {
   "cell_type": "code",
   "metadata": {
    "id": "ZfR76Z2K2hHU"
   },
   "source": [
    "cifar10 = datasets.CIFAR10(\n",
    "    folder,\n",
    "    train=True,\n",
    "    download=False,\n",
    "    transform=transforms.Compose([transforms.ToTensor(), transforms.Normalize(mu, sigma)]),\n",
    ")\n",
    "\n",
    "cifar10_val = datasets.CIFAR10(\n",
    "    folder,\n",
    "    train=False,\n",
    "    download=False,\n",
    "    transform=transforms.Compose(\n",
    "        [\n",
    "            transforms.ToTensor(),\n",
    "            transforms.Normalize(mu, sigma),\n",
    "        ]\n",
    "    ),\n",
    ")"
   ],
   "execution_count": null,
   "outputs": []
  },
  {
   "cell_type": "code",
   "metadata": {
    "colab": {
     "base_uri": "https://localhost:8080/",
     "height": 283
    },
    "id": "s2RfiP5_29y9",
    "outputId": "95e1f145-e207-4de2-9a1f-48aac92e8b3c"
   },
   "source": [
    "# rescaled data is harder to visualize\n",
    "img, _ = cifar10[99]\n",
    "\n",
    "plt.imshow(img.permute(1, 2, 0))\n",
    "plt.show()"
   ],
   "execution_count": null,
   "outputs": [
    {
     "output_type": "stream",
     "text": [
      "Clipping input data to the valid range for imshow with RGB data ([0..1] for floats or [0..255] for integers).\n"
     ],
     "name": "stderr"
    },
    {
     "output_type": "display_data",
     "data": {
      "image/png": "[encoded data removed]",
      "text/plain": [
       "<Figure size 432x288 with 1 Axes>"
      ]
     },
     "metadata": {
      "tags": [],
      "needs_background": "light"
     }
    }
   ]
  },
  {
   "cell_type": "markdown",
   "metadata": {
    "id": "4NRd9JhE3UBa"
   },
   "source": [
    "## Create two-class version of dataset\n",
    "\n",
    "We extract data which correspond to airplane or bird.\n",
    "The result object is a list of pairs.\n",
    "This \"acts like\" an object of type torch.utilts.data.dataset.Dataset, since it implements the len() and item index methods."
   ]
  },
  {
   "cell_type": "code",
   "metadata": {
    "id": "eVFSJNot3FfY"
   },
   "source": [
    "class_names = [\"airplane\", \"automobile\", \"bird\", \"cat\", \"deer\", \"dog\", \"frog\", \"horse\", \"ship\", \"truck\"]\n",
    "\n",
    "label_map = {0: 0, 2: 1}  # 0(airplane)->0, 2(bird)->1\n",
    "cifar2 = [(img, label_map[label]) for img, label in cifar10 if label in [0, 2]]\n",
    "cifar2_val = [(img, label_map[label]) for img, label in cifar10_val if label in [0, 2]]"
   ],
   "execution_count": null,
   "outputs": []
  },
  {
   "cell_type": "code",
   "metadata": {
    "colab": {
     "base_uri": "https://localhost:8080/"
    },
    "id": "UuYEk0Mu3sRA",
    "outputId": "0c3e4032-3953-4eca-fc52-9465753c7954"
   },
   "source": [
    "print(len(cifar2))\n",
    "print(len(cifar2_val))"
   ],
   "execution_count": null,
   "outputs": [
    {
     "output_type": "stream",
     "text": [
      "10000\n",
      "2000\n"
     ],
     "name": "stdout"
    }
   ]
  },
  {
   "cell_type": "markdown",
   "metadata": {
    "id": "HwzZkD7rIWL2"
   },
   "source": [
    "## A shallow, fully connected model"
   ]
  },
  {
   "cell_type": "code",
   "metadata": {
    "id": "4X2yWXzUOVrB"
   },
   "source": [
    "img, label = cifar10[0]\n",
    "img = img.view(-1)\n",
    "ninputs = len(img)\n",
    "nhidden = 512\n",
    "nclasses = 2"
   ],
   "execution_count": null,
   "outputs": []
  },
  {
   "cell_type": "code",
   "metadata": {
    "colab": {
     "base_uri": "https://localhost:8080/"
    },
    "id": "ubw-BPamIVg_",
    "outputId": "71996fd9-e9ba-404e-c2bb-4cf0158f99f2"
   },
   "source": [
    "torch.manual_seed(0)\n",
    "model = nn.Sequential(nn.Linear(ninputs, nhidden), nn.Tanh(), nn.Linear(nhidden, nclasses), nn.LogSoftmax(dim=1))\n",
    "print(model)"
   ],
   "execution_count": null,
   "outputs": [
    {
     "output_type": "stream",
     "text": [
      "Sequential(\n",
      "  (0): Linear(in_features=3072, out_features=512, bias=True)\n",
      "  (1): Tanh()\n",
      "  (2): Linear(in_features=512, out_features=2, bias=True)\n",
      "  (3): LogSoftmax(dim=1)\n",
      ")\n"
     ],
     "name": "stdout"
    }
   ]
  },
  {
   "cell_type": "markdown",
   "metadata": {
    "id": "NEfAypQtSGFz"
   },
   "source": [
    "We can name the layers so we can access their activations and/or parameters more easily."
   ]
  },
  {
   "cell_type": "code",
   "metadata": {
    "colab": {
     "base_uri": "https://localhost:8080/"
    },
    "id": "43MK_CqkN31h",
    "outputId": "2a76b5db-e884-4439-c0d4-570c71faa21e"
   },
   "source": [
    "torch.manual_seed(0)\n",
    "from collections import OrderedDict\n",
    "\n",
    "model = nn.Sequential(\n",
    "    OrderedDict(\n",
    "        [\n",
    "            (\"hidden_linear\", nn.Linear(ninputs, nhidden)),\n",
    "            (\"activation\", nn.Tanh()),\n",
    "            (\"output_linear\", nn.Linear(nhidden, nclasses)),\n",
    "            (\"softmax\", nn.LogSoftmax(dim=1)),\n",
    "        ]\n",
    "    )\n",
    ")\n",
    "print(model)"
   ],
   "execution_count": null,
   "outputs": [
    {
     "output_type": "stream",
     "text": [
      "Sequential(\n",
      "  (hidden_linear): Linear(in_features=3072, out_features=512, bias=True)\n",
      "  (activation): Tanh()\n",
      "  (output_linear): Linear(in_features=512, out_features=2, bias=True)\n",
      "  (softmax): LogSoftmax(dim=1)\n",
      ")\n"
     ],
     "name": "stdout"
    }
   ]
  },
  {
   "cell_type": "markdown",
   "metadata": {
    "id": "PPlKZgTDJfKL"
   },
   "source": [
    "Let's test the model."
   ]
  },
  {
   "cell_type": "code",
   "metadata": {
    "colab": {
     "base_uri": "https://localhost:8080/"
    },
    "id": "9gt1iSSaJhtm",
    "outputId": "eda20f15-3ad8-40ab-f2d5-b02bf24c986e"
   },
   "source": [
    "img, label = cifar2[0]\n",
    "img_batch = img.view(-1).unsqueeze(0)\n",
    "print(img_batch.shape)\n",
    "logprobs = model(img_batch)\n",
    "print(logprobs.shape)\n",
    "print(logprobs)\n",
    "probs = torch.exp(logprobs)  # elementwise\n",
    "print(probs)\n",
    "print(probs.sum(1))"
   ],
   "execution_count": null,
   "outputs": [
    {
     "output_type": "stream",
     "text": [
      "torch.Size([1, 3072])\n",
      "torch.Size([1, 2])\n",
      "tensor([[-0.6193, -0.7729]], grad_fn=<LogSoftmaxBackward>)\n",
      "tensor([[0.5383, 0.4617]], grad_fn=<ExpBackward>)\n",
      "tensor([1.], grad_fn=<SumBackward1>)\n"
     ],
     "name": "stdout"
    }
   ]
  },
  {
   "cell_type": "markdown",
   "metadata": {
    "id": "_1hMQhDQLSHI"
   },
   "source": [
    " Negative log likelihood loss."
   ]
  },
  {
   "cell_type": "code",
   "metadata": {
    "colab": {
     "base_uri": "https://localhost:8080/"
    },
    "id": "WbMn-lhoJ6_t",
    "outputId": "8aedc99a-6424-48f0-e53f-5a9dabe62b25"
   },
   "source": [
    "loss_fn = nn.NLLLoss()\n",
    "loss = loss_fn(logprobs, torch.tensor([label]))\n",
    "print(loss)"
   ],
   "execution_count": null,
   "outputs": [
    {
     "output_type": "stream",
     "text": [
      "tensor(0.7729, grad_fn=<NllLossBackward>)\n"
     ],
     "name": "stdout"
    }
   ]
  },
  {
   "cell_type": "markdown",
   "metadata": {
    "id": "Z9ZSuffoPG3k"
   },
   "source": [
    "Let's access the output of the logit layer directly, bypassing the final log softmax.\n",
    "(We borrow a trick from [here](https://discuss.pytorch.org/t/how-can-l-load-my-best-model-as-a-feature-extractor-evaluator/17254/6))."
   ]
  },
  {
   "cell_type": "code",
   "metadata": {
    "colab": {
     "base_uri": "https://localhost:8080/"
    },
    "id": "C6bM48-YNj13",
    "outputId": "4322fe09-99d1-4f11-b123-11d51b85d20c"
   },
   "source": [
    "activation = {}\n",
    "\n",
    "\n",
    "def get_activation(name):\n",
    "    def hook(model, input, output):\n",
    "        activation[name] = output.detach()\n",
    "\n",
    "    return hook\n",
    "\n",
    "\n",
    "model.output_linear.register_forward_hook(get_activation(\"output_linear\"))\n",
    "\n",
    "logprobs = model(img_batch).detach().numpy()\n",
    "logits = activation[\"output_linear\"]\n",
    "logprobs2 = F.log_softmax(logits).detach().numpy()\n",
    "\n",
    "print(logprobs)\n",
    "print(logprobs2)\n",
    "assert np.allclose(logprobs, logprobs2)"
   ],
   "execution_count": null,
   "outputs": [
    {
     "output_type": "stream",
     "text": [
      "[[-0.619 -0.773]]\n",
      "[[-0.619 -0.773]]\n"
     ],
     "name": "stdout"
    }
   ]
  },
  {
   "cell_type": "markdown",
   "metadata": {
    "id": "yUtXCruaLZCy"
   },
   "source": [
    "We can also modify the model to return logits."
   ]
  },
  {
   "cell_type": "code",
   "metadata": {
    "colab": {
     "base_uri": "https://localhost:8080/"
    },
    "id": "z21Yx0ZtLWjf",
    "outputId": "6c7b1bd4-f19d-4896-c304-57f587154204"
   },
   "source": [
    "torch.manual_seed(0)\n",
    "model_logits = nn.Sequential(nn.Linear(ndims_input, nhidden), nn.Tanh(), nn.Linear(nhidden, nclasses))\n",
    "\n",
    "logits2 = model_logits(img_batch)\n",
    "print(logits)\n",
    "print(logits2)\n",
    "torch.testing.assert_allclose(logits, logits2)"
   ],
   "execution_count": null,
   "outputs": [
    {
     "output_type": "stream",
     "text": [
      "tensor([[-0.1771, -0.3307]])\n",
      "tensor([[-0.1771, -0.3307]], grad_fn=<AddmmBackward>)\n"
     ],
     "name": "stdout"
    }
   ]
  },
  {
   "cell_type": "markdown",
   "metadata": {
    "id": "poTLbKR_SmvQ"
   },
   "source": [
    "In this case, we need to modify the loss to take in logits."
   ]
  },
  {
   "cell_type": "code",
   "metadata": {
    "colab": {
     "base_uri": "https://localhost:8080/"
    },
    "id": "QH8CTYcvS-Bu",
    "outputId": "2a86971b-1259-47b6-fac5-74c77ac63676"
   },
   "source": [
    "logprobs = model(img_batch)\n",
    "loss = nn.NLLLoss()(logprobs, torch.tensor([label]))\n",
    "\n",
    "logits = model_logits(img_batch)\n",
    "loss2 = nn.CrossEntropyLoss()(logits, torch.tensor([label]))\n",
    "\n",
    "print(loss)\n",
    "print(loss2)\n",
    "torch.testing.assert_allclose(loss, loss2)"
   ],
   "execution_count": null,
   "outputs": [
    {
     "output_type": "stream",
     "text": [
      "tensor(0.7729, grad_fn=<NllLossBackward>)\n",
      "tensor(0.7729, grad_fn=<NllLossBackward>)\n"
     ],
     "name": "stdout"
    }
   ]
  },
  {
   "cell_type": "markdown",
   "metadata": {
    "id": "f0wBb1r8Vv8l"
   },
   "source": [
    "We can also use the functional API to specify the model. This avoids having to create stateless layers (i.e., layers with no adjustable parameters), such as the tanh or softmax layers."
   ]
  },
  {
   "cell_type": "code",
   "metadata": {
    "colab": {
     "base_uri": "https://localhost:8080/"
    },
    "id": "Euo9zE2ITNi_",
    "outputId": "2291f5a8-0309-41eb-820c-f8081c60e327"
   },
   "source": [
    "class MLP(nn.Module):\n",
    "    def __init__(self, ninputs, nhidden, nclasses):\n",
    "        super().__init__()\n",
    "        self.fc1 = nn.Linear(ninputs, nhidden)\n",
    "        self.fc2 = nn.Linear(nhidden, nclasses)\n",
    "\n",
    "    def forward(self, x):\n",
    "        out = F.tanh(self.fc1(x))\n",
    "        out = self.fc2(out)\n",
    "        return out  # logits\n",
    "\n",
    "\n",
    "torch.manual_seed(0)\n",
    "model = MLP(ninputs, nhidden, nclasses)\n",
    "logits = model(img_batch)\n",
    "logits2 = model_logits(img_batch)\n",
    "print(logits)\n",
    "print(logits2)\n",
    "torch.testing.assert_allclose(logits, logits2)\n",
    "\n",
    "# print(list(model.named_parameters()))\n",
    "nparams = [p.numel() for p in model.parameters() if p.requires_grad == True]\n",
    "print(nparams)\n",
    "# weights1, bias1, weights2, bias2\n",
    "print([ninputs * nhidden, nhidden, nhidden * nclasses, nclasses])"
   ],
   "execution_count": null,
   "outputs": [
    {
     "output_type": "stream",
     "text": [
      "tensor([[-0.1771, -0.3307]], grad_fn=<AddmmBackward>)\n",
      "tensor([[-0.1771, -0.3307]], grad_fn=<AddmmBackward>)\n",
      "[1572864, 512, 1024, 2]\n",
      "[1572864, 512, 1024, 2]\n"
     ],
     "name": "stdout"
    }
   ]
  },
  {
   "cell_type": "markdown",
   "metadata": {
    "id": "0sz_8jyeXvYT"
   },
   "source": [
    "## Evaluation pre-training"
   ]
  },
  {
   "cell_type": "code",
   "metadata": {
    "colab": {
     "base_uri": "https://localhost:8080/"
    },
    "id": "PV2nM6f3XxR5",
    "outputId": "6264aac5-4103-4e0e-a94c-0e866fc9b1c8"
   },
   "source": [
    "def compute_accuracy(model, loader):\n",
    "    correct = 0\n",
    "    total = 0\n",
    "    with torch.no_grad():\n",
    "        for imgs, labels in loader:\n",
    "            outputs = model(imgs.view(imgs.shape[0], -1))\n",
    "            _, predicted = torch.max(outputs, dim=1)\n",
    "            total += labels.shape[0]\n",
    "            correct += int((predicted == labels).sum())\n",
    "    return correct / total\n",
    "\n",
    "\n",
    "train_loader = torch.utils.data.DataLoader(cifar2, batch_size=64, shuffle=False)\n",
    "val_loader = torch.utils.data.DataLoader(cifar2_val, batch_size=64, shuffle=False)\n",
    "\n",
    "torch.manual_seed(0)\n",
    "model = MLP(ninputs, nhidden, nclasses)\n",
    "\n",
    "acc_train = compute_accuracy(model, train_loader)\n",
    "acc_val = compute_accuracy(model, val_loader)\n",
    "print([acc_train, acc_val])"
   ],
   "execution_count": null,
   "outputs": [
    {
     "output_type": "stream",
     "text": [
      "[0.4711, 0.4775]\n"
     ],
     "name": "stdout"
    }
   ]
  },
  {
   "cell_type": "markdown",
   "metadata": {
    "id": "JuYNB_huVV_G"
   },
   "source": [
    "## Training loop"
   ]
  },
  {
   "cell_type": "code",
   "metadata": {
    "colab": {
     "base_uri": "https://localhost:8080/"
    },
    "id": "BKUIE0f4VYgM",
    "outputId": "8ace862d-301e-4716-debf-140890de28d8"
   },
   "source": [
    "torch.manual_seed(0)\n",
    "model = MLP(ninputs, nhidden, nclasses)\n",
    "\n",
    "learning_rate = 1e-2\n",
    "optimizer = optim.SGD(model.parameters(), lr=learning_rate)\n",
    "loss_fn = nn.CrossEntropyLoss()\n",
    "n_epochs = 20\n",
    "\n",
    "for epoch in range(n_epochs):\n",
    "    for imgs, labels in train_loader:\n",
    "        outputs = model(imgs.view(imgs.shape[0], -1))\n",
    "        loss = loss_fn(outputs, labels)\n",
    "\n",
    "        optimizer.zero_grad()\n",
    "        loss.backward()\n",
    "        optimizer.step()\n",
    "\n",
    "    # At end of each epoch\n",
    "    acc_val = compute_accuracy(model, val_loader)\n",
    "    loss_train_batch = float(loss)\n",
    "    print(f\"Epoch {epoch}, Batch Loss {loss_train_batch}, Val acc {acc_val}\")"
   ],
   "execution_count": null,
   "outputs": [
    {
     "output_type": "stream",
     "text": [
      "Epoch 0, Batch Loss 0.7986931204795837, Val acc 0.758\n",
      "Epoch 1, Batch Loss 0.7316719889640808, Val acc 0.781\n",
      "Epoch 2, Batch Loss 0.6822570562362671, Val acc 0.7895\n",
      "Epoch 3, Batch Loss 0.6403710842132568, Val acc 0.7935\n",
      "Epoch 4, Batch Loss 0.603853702545166, Val acc 0.796\n",
      "Epoch 5, Batch Loss 0.5708653926849365, Val acc 0.8035\n",
      "Epoch 6, Batch Loss 0.5402626991271973, Val acc 0.8075\n",
      "Epoch 7, Batch Loss 0.5115160942077637, Val acc 0.808\n",
      "Epoch 8, Batch Loss 0.48429471254348755, Val acc 0.8115\n",
      "Epoch 9, Batch Loss 0.45831188559532166, Val acc 0.8095\n",
      "Epoch 10, Batch Loss 0.4333283007144928, Val acc 0.808\n",
      "Epoch 11, Batch Loss 0.40905866026878357, Val acc 0.808\n",
      "Epoch 12, Batch Loss 0.3851880431175232, Val acc 0.811\n",
      "Epoch 13, Batch Loss 0.3614955246448517, Val acc 0.811\n",
      "Epoch 14, Batch Loss 0.33788853883743286, Val acc 0.8105\n",
      "Epoch 15, Batch Loss 0.31435394287109375, Val acc 0.8115\n",
      "Epoch 16, Batch Loss 0.29094964265823364, Val acc 0.813\n",
      "Epoch 17, Batch Loss 0.267885684967041, Val acc 0.812\n",
      "Epoch 18, Batch Loss 0.2455700933933258, Val acc 0.814\n",
      "Epoch 19, Batch Loss 0.22448962926864624, Val acc 0.8135\n"
     ],
     "name": "stdout"
    }
   ]
  }
 ]
}