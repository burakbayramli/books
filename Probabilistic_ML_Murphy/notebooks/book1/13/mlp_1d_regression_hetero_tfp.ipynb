{
 "cells": [
  {
   "cell_type": "markdown",
   "metadata": {
    "colab_type": "text",
    "id": "view-in-github"
   },
   "source": [
    "<a href=\"https://colab.research.google.com/github/probml/pyprobml/blob/master/book1/mlp/mlp_1d_regression_hetero_tfp.ipynb\" target=\"_parent\"><img src=\"https://colab.research.google.com/assets/colab-badge.svg\" alt=\"Open In Colab\"/></a>"
   ]
  },
  {
   "cell_type": "markdown",
   "metadata": {
    "id": "k_j0LymsrUKX"
   },
   "source": [
    "1d Nonlinear heteroskedastic regression using an  MLP.\n",
    "\n",
    " Nonlinear regression using MLE with fixed variance or input-dependent variance.\n",
    "We share the backbone and have two output heads for mu and sigma.\n",
    " When sigma is fixed, it is larger than necessary in some places,\n",
    " to compensate for growing noise in the input data.\n",
    " Code dapted from\n",
    " https://brendanhasz.github.io/2019/07/23/bayesian-density-net.html\n",
    "and [here](https://colab.sandbox.google.com/github/tensorflow/probability/blob/master/tensorflow_probability/examples/jupyter_notebooks/Probabilistic_Layers_Regression.ipynb#scrollTo=5zCEYpzu7bDX)"
   ]
  },
  {
   "cell_type": "code",
   "execution_count": 13,
   "metadata": {
    "colab": {
     "base_uri": "https://localhost:8080/"
    },
    "id": "A2Nx1xQVrGnb",
    "outputId": "cd4010e2-9744-407a-b60e-80faaaf71448"
   },
   "outputs": [
    {
     "name": "stdout",
     "output_type": "stream",
     "text": [
      "tf version 2.8.0\n"
     ]
    },
    {
     "data": {
      "text/plain": [
       "[PhysicalDevice(name='/physical_device:GPU:0', device_type='GPU')]"
      ]
     },
     "execution_count": 13,
     "metadata": {},
     "output_type": "execute_result"
    }
   ],
   "source": [
    "\n",
    "# Tensorflow\n",
    "try:\n",
    "  # %tensorflow_version only exists in Colab.\n",
    "    %tensorflow_version 2.x\n",
    "except Exception:\n",
    "    pass\n",
    "\n",
    "try:\n",
    "    import tensorflow as tf\n",
    "except ModuleNotFoundError:\n",
    "    %pip install -qq tensorflow\n",
    "    import tensorflow as tf\n",
    "    \n",
    "from tensorflow import keras\n",
    "\n",
    "print(\"tf version {}\".format(tf.__version__))\n",
    "tf.config.list_physical_devices('GPU')"
   ]
  },
  {
   "cell_type": "code",
   "execution_count": 14,
   "metadata": {
    "id": "UxvZfDaSrhA-"
   },
   "outputs": [],
   "source": [
    "from __future__ import absolute_import\n",
    "from __future__ import division\n",
    "from __future__ import print_function\n",
    "\n",
    "import os\n",
    "\n",
    "try:\n",
    "    import tensorflow_probability as tfp\n",
    "except ModuleNotFoundError:\n",
    "    %pip install -qq tensorflow_probability\n",
    "import scipy.stats\n",
    "from pprint import pprint\n",
    "import matplotlib.pyplot as plt\n",
    "import numpy as np\n",
    "import seaborn as sns\n",
    "\n",
    "%matplotlib inline\n",
    "\n",
    "from IPython import display\n",
    "\n",
    "\n",
    "sns.set(style=\"ticks\", color_codes=True)\n",
    "\n",
    "tfd = tfp.distributions\n",
    "\n",
    "np.random.seed(12345)\n",
    "tf.random.set_seed(12345)"
   ]
  },
  {
   "cell_type": "code",
   "execution_count": 15,
   "metadata": {
    "colab": {
     "base_uri": "https://localhost:8080/",
     "height": 267
    },
    "id": "CAGYTFKCrkXf",
    "outputId": "560d6b1f-0d2f-4cbb-bea4-437b259443aa"
   },
   "outputs": [
    {
     "data": {
      "image/png": "[encoded data removed]",
      "text/plain": [
       "<Figure size 432x288 with 1 Axes>"
      ]
     },
     "metadata": {},
     "output_type": "display_data"
    }
   ],
   "source": [
    "# Make data\n",
    "\n",
    "x_range = [-20, 60]  # test\n",
    "# x_ranges = [[-20, -10], [0, 20], [40, 50]]\n",
    "# ns = [10, 10, 10]\n",
    "\n",
    "# x_ranges = [ [-10,-5], [15,25], [35,50]]\n",
    "# ns = [400, 400, 400]\n",
    "\n",
    "x_ranges = [[-20, 60]]\n",
    "ns = [1000]\n",
    "\n",
    "\n",
    "def load_dataset():\n",
    "    def s(x):  # std of noise\n",
    "        g = (x - x_range[0]) / (x_range[1] - x_range[0])\n",
    "        return 0.25 + g**2.0\n",
    "\n",
    "    x = []\n",
    "    y = []\n",
    "    for i in range(len(ns)):\n",
    "        n = ns[i]\n",
    "        xr = x_ranges[i]\n",
    "        # x1 = (xr[1] - xr[0]) * np.random.rand(n) + xr[0]\n",
    "        x1 = np.linspace(xr[0], xr[1], n)\n",
    "        eps = np.random.randn(n) * s(x1)\n",
    "        y1 = (1 * np.sin(0.2 * x1) + 0.1 * x1) + eps\n",
    "        x = np.concatenate((x, x1))\n",
    "        y = np.concatenate((y, y1))\n",
    "    # print(x.shape)\n",
    "    x = x[..., np.newaxis]\n",
    "    n_tst = 150\n",
    "    x_tst = np.linspace(*x_range, num=n_tst).astype(np.float32)\n",
    "    x_tst = x_tst[..., np.newaxis]\n",
    "    return y, x, x_tst\n",
    "\n",
    "\n",
    "y, x, x_tst = load_dataset()\n",
    "\n",
    "\n",
    "plt.figure()\n",
    "plt.plot(x, y, \"b.\", label=\"observed\")\n",
    "# save_fig('nonlinreg_1d_hetero_data.pdf')\n",
    "plt.show()"
   ]
  },
  {
   "cell_type": "code",
   "execution_count": 6,
   "metadata": {
    "id": "wR4sD0P7roJ5"
   },
   "outputs": [],
   "source": [
    "# Make model\n",
    "\n",
    "\n",
    "class DenseNetwork(tf.keras.Model):\n",
    "    \"\"\"A multilayer fully-connected  neural network\"\"\"\n",
    "\n",
    "    def __init__(self, dims, name=None):\n",
    "        super(DenseNetwork, self).__init__(name=name)\n",
    "        self.steps = []\n",
    "        self.acts = []\n",
    "        for i in range(len(dims) - 1):\n",
    "            # self.steps += [BayesianDenseLayer(dims[i], dims[i+1])]\n",
    "            # tf.keras.layers.Dense(50, activation='relu', input_shape=(D,)),\n",
    "            self.steps += [tf.keras.layers.Dense(dims[i + 1])]\n",
    "            self.acts += [tf.nn.relu]\n",
    "        self.acts[-1] = lambda x: x\n",
    "\n",
    "    def call(self, x):\n",
    "        \"\"\"Perform the forward pass\"\"\"\n",
    "        for i in range(len(self.steps)):\n",
    "            x = self.steps[i](x)\n",
    "            x = self.acts[i](x)\n",
    "        return x\n",
    "\n",
    "\n",
    "def make_mlp(units):\n",
    "    # Makes a stack of dense layers with Relu activations on hidden layers.\n",
    "    # units=[2,10,1] has 2 inputs, 1 hidden layer with 10 units, and 1 linear output\n",
    "    layers = []\n",
    "    nlayers = len(units)\n",
    "    for i in range(nlayers - 2):\n",
    "        layers += [tf.keras.layers.Dense(units[i + 1], activation=\"relu\", input_shape=(units[i],))]\n",
    "    layers += [tf.keras.layers.Dense(units[nlayers - 1], activation=None)]\n",
    "    return tf.keras.Sequential(layers)\n",
    "\n",
    "\n",
    "# mlp = make_mlp([2, 10, 20, 1])\n",
    "# mlp.summmary()\n",
    "\n",
    "\n",
    "class DensityNetwork(tf.keras.Model):\n",
    "    \"\"\"Multilayer fully-connected neural network, with\n",
    "    two heads to predict both the mean and the standard deviation.\n",
    "    Parameters\n",
    "    ----------\n",
    "    units : List[int]\n",
    "        Number of output dimensions for each layer\n",
    "        in the core network.\n",
    "    head_units : List[int]\n",
    "        Number of output dimensions for each layer\n",
    "        in the head networks.\n",
    "    fixed_variance: float or None if learned\n",
    "        If not None, then the output variance is a constant.\n",
    "    name : None or str\n",
    "        Name for the layer\n",
    "    \"\"\"\n",
    "\n",
    "    def __init__(self, units, head_units, fixed_variance=None, name=None):\n",
    "\n",
    "        # Initialize\n",
    "        super(DensityNetwork, self).__init__(name=name)\n",
    "\n",
    "        # Create sub-networks\n",
    "        # self.core_net = DenseNetwork(units)\n",
    "        # self.loc_net = DenseNetwork([units[-1]]+head_units)\n",
    "        # self.std_net = DenseNetwork([units[-1]]+head_units)\n",
    "\n",
    "        self.core_net = make_mlp(units)\n",
    "        self.loc_net = make_mlp([units[-1]] + head_units)\n",
    "        self.std_net = make_mlp([units[-1]] + head_units)\n",
    "        self.fixed_variance = fixed_variance\n",
    "\n",
    "    def call(self, x):\n",
    "        \"\"\"Pass data through the model\n",
    "        Returns tfd.Normal() for 1d eventsize and x.shape[0] sample size\n",
    "        \"\"\"\n",
    "        x = self.core_net(x)\n",
    "        x = tf.nn.relu(x)\n",
    "        # Make predictions with each head network\n",
    "        loc_preds = self.loc_net(x)\n",
    "        if self.fixed_variance is not None:\n",
    "            std_preds = np.sqrt(self.fixed_variance).astype(\"float32\")\n",
    "        else:\n",
    "            std_preds = 1e-3 + 0.05 * self.std_net(x)\n",
    "            std_preds = tf.nn.softplus(std_preds)\n",
    "        # return tf.concat([loc_preds, std_preds], 1)\n",
    "        # print(loc_preds.dtype)\n",
    "        # print(std_preds.dtype)\n",
    "\n",
    "        return tfd.Normal(loc=loc_preds, scale=std_preds)\n",
    "\n",
    "\n",
    "# When we fit with fixed variance, minimizing NLL is equivalent\n",
    "# to minimizing MSE. In this case, we compute the MLE of sigma^2 after training\n",
    "# using the MSE the residuals."
   ]
  },
  {
   "cell_type": "code",
   "execution_count": 12,
   "metadata": {
    "colab": {
     "base_uri": "https://localhost:8080/",
     "height": 1000
    },
    "id": "trDlLeiNrr6L",
    "outputId": "640249d3-bdfc-41eb-fe77-0e0bb76eaf02"
   },
   "outputs": [],
   "source": [
    "fixed_vars = [None, 1]\n",
    "\n",
    "for fixed_var in fixed_vars:\n",
    "    model = DensityNetwork([1, 50, 50], [20, 1], fixed_var)\n",
    "\n",
    "    def negloglik(y, rv_y):\n",
    "        return -rv_y.log_prob(y)\n",
    "\n",
    "    model.compile(optimizer=tf.optimizers.Adam(learning_rate=0.01), loss=negloglik)\n",
    "    history = model.fit(x, y, epochs=500, batch_size=100, verbose=False)\n",
    "    if fixed_var is not None:\n",
    "        # estimate MLE of sigma\n",
    "        yhat_train = model(x)\n",
    "        ypred = yhat_train.mean().numpy()[:, 0]\n",
    "        # print(ypred.shape)\n",
    "        residuals = y - ypred\n",
    "        mse = np.mean((residuals**2))\n",
    "        # mse = scipy.stats.trim_mean(residuals ** 2, proportiontocut=0.1)\n",
    "        model.fixed_variance = mse\n",
    "        # print(model.fixed_variance)\n",
    "    yhat = model(x_tst)  # a Gaussian distribution object\n",
    "\n",
    "    plt.plot(history.history[\"loss\"], label=\"Train\")\n",
    "    plt.legend()\n",
    "    plt.xlabel(\"Epoch\")\n",
    "    plt.ylabel(\"NLL\")\n",
    "    plt.show()\n",
    "\n",
    "    plt.figure()\n",
    "    plt.plot(x, y, \"b.\", label=\"observed\")\n",
    "    m = yhat.mean()\n",
    "    s = yhat.stddev()\n",
    "    plt.plot(x_tst, m, \"r\", linewidth=4, label=\"mean\")\n",
    "    plt.plot(x_tst, m + 2 * s, \"g\", linewidth=2, label=r\"mean + 2 stddev\")\n",
    "    plt.plot(x_tst, m - 2 * s, \"g\", linewidth=2, label=r\"mean - 2 stddev\")\n",
    "    # plt.ylim([-10,10])\n",
    "    plt.show()"
   ]
  },
  {
   "cell_type": "code",
   "execution_count": null,
   "metadata": {},
   "outputs": [],
   "source": []
  }
 ],
 "metadata": {
  "accelerator": "GPU",
  "colab": {
   "authorship_tag": "ABX9TyP1TS1fc+ZIvpftms2dDXAx",
   "include_colab_link": true,
   "name": "mlp_1d_regression_hetero_tf.ipynb",
   "provenance": []
  },
  "kernelspec": {
   "display_name": "Python [conda env:probml_py3912]",
   "language": "python",
   "name": "conda-env-probml_py3912-py"
  },
  "language_info": {
   "codemirror_mode": {
    "name": "ipython",
    "version": 3
   },
   "file_extension": ".py",
   "mimetype": "text/x-python",
   "name": "python",
   "nbconvert_exporter": "python",
   "pygments_lexer": "ipython3",
   "version": "3.9.12"
  }
 },
 "nbformat": 4,
 "nbformat_minor": 1
}
