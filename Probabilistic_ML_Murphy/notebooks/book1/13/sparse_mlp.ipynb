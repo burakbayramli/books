{
 "cells": [
  {
   "cell_type": "markdown",
   "metadata": {
    "colab_type": "text",
    "id": "view-in-github"
   },
   "source": [
    "<a href=\"https://colab.research.google.com/github/probml/pyprobml/blob/master/notebooks/sparse_mlp.ipynb\" target=\"_parent\"><img src=\"https://colab.research.google.com/assets/colab-badge.svg\" alt=\"Open In Colab\"/></a>"
   ]
  },
  {
   "cell_type": "markdown",
   "metadata": {
    "id": "u-t9ecR3j03I"
   },
   "source": [
    "# Fit an MLP using an L1 penalty on the weights to make a sparse network\n",
    "\n",
    "We use projected gradient descent as the optimizer"
   ]
  },
  {
   "cell_type": "code",
   "execution_count": 1,
   "metadata": {
    "id": "3a7h30TF_26l",
    "vscode": {
     "languageId": "python"
    }
   },
   "outputs": [],
   "source": [
    "%cd -q /pyprobml/scripts\n",
    "try:\n",
    "    import probml_utils as pml\n",
    "except ModuleNotFoundError:\n",
    "    %pip install -qq git+https://github.com/probml/probml-utils.git\n",
    "    import probml_utils as pml\n",
    "import numpy as np\n",
    "import matplotlib.pyplot as plt"
   ]
  },
  {
   "cell_type": "code",
   "execution_count": 2,
   "metadata": {
    "colab": {
     "base_uri": "https://localhost:8080/"
    },
    "id": "O4lJyM2iA_fl",
    "outputId": "555f33c8-6268-48be-9f7b-85da0c458f12",
    "vscode": {
     "languageId": "python"
    }
   },
   "outputs": [
    {
     "name": "stderr",
     "output_type": "stream",
     "text": [
      "WARNING:absl:No GPU/TPU found, falling back to CPU. (Set TF_CPP_MIN_LOG_LEVEL=0 and rerun for more info.)\n"
     ]
    },
    {
     "name": "stdout",
     "output_type": "stream",
     "text": [
      "[DeviceArray([[-0.        , -0.        ,  2.431252  , -0.8119889 ,\n",
      "              -0.42788023],\n",
      "             [-0.        , -0.        , -0.65971917, -2.28203   ,\n",
      "               1.7317362 ]], dtype=float32), DeviceArray([[-0.0000000e+00,  0.0000000e+00,  1.4137154e-04,\n",
      "              -0.0000000e+00, -0.0000000e+00],\n",
      "             [-0.0000000e+00,  0.0000000e+00,  1.4137154e-04,\n",
      "              -0.0000000e+00, -0.0000000e+00],\n",
      "             [ 6.0303992e-01, -6.7666084e-01,  2.6858740e+00,\n",
      "               9.9923909e-01,  6.7409021e-01],\n",
      "             [-4.1243622e-01, -1.3668306e-01, -2.6994646e+00,\n",
      "              -5.4342234e-01,  8.0237490e-01],\n",
      "             [-1.3856529e-01,  1.3904269e+00, -1.5361136e+00,\n",
      "              -1.5628791e-01, -2.6216986e+00]], dtype=float32), DeviceArray([[-0.01175803, -0.        ,  0.        ,  0.00575209,\n",
      "               0.9268445 ],\n",
      "             [-2.6765873 , -0.        ,  0.00455653,  0.626099  ,\n",
      "              -0.5545154 ],\n",
      "             [ 1.0652171 , -0.        , -0.        ,  0.6383203 ,\n",
      "              -3.7673988 ],\n",
      "             [-0.24635328, -0.        ,  0.        ,  0.00526043,\n",
      "               1.0636787 ],\n",
      "             [-0.47570714, -0.        ,  0.71658546, -2.3223708 ,\n",
      "              -0.2466669 ]], dtype=float32), DeviceArray([[ 0.0000000e+00,  0.0000000e+00, -1.5543234e+00,\n",
      "               8.6723845e-03,  9.1011935e-01],\n",
      "             [-0.0000000e+00, -0.0000000e+00,  0.0000000e+00,\n",
      "               0.0000000e+00, -6.1229475e-05],\n",
      "             [-0.0000000e+00, -0.0000000e+00,  3.2885954e-01,\n",
      "              -6.2843136e-02,  4.1029684e-02],\n",
      "             [-0.0000000e+00, -0.0000000e+00,  9.8766428e-01,\n",
      "               8.8556975e-01, -9.4931644e-01],\n",
      "             [-0.0000000e+00, -0.0000000e+00, -2.0885425e+00,\n",
      "               5.0627375e-01,  0.0000000e+00]], dtype=float32), DeviceArray([[-0.        ],\n",
      "             [-0.        ],\n",
      "             [ 1.5987297 ],\n",
      "             [-0.87540865],\n",
      "             [ 0.8515912 ]], dtype=float32)]\n"
     ]
    }
   ],
   "source": [
    "import itertools\n",
    "import numpy as np\n",
    "import matplotlib.pyplot as plt\n",
    "import numpy.random as npr\n",
    "\n",
    "import jax.numpy as jnp\n",
    "from jax import jit, grad, random\n",
    "from jax.experimental import stax\n",
    "from jax.experimental.stax import Dense, Softplus\n",
    "from jax.tree_util import tree_flatten, tree_unflatten\n",
    "from jax.flatten_util import ravel_pytree\n",
    "\n",
    "from graphviz import Digraph\n",
    "\n",
    "\n",
    "def generate_data(num_instances, num_vars, key):\n",
    "    subkeys = random.split(key, 4)\n",
    "    X = 10 * random.uniform(subkeys[0], shape=(num_instances, num_vars)) - 5\n",
    "    var = 0.1\n",
    "    n_points = 20\n",
    "    example_points = 10 * random.uniform(subkeys[1], shape=(n_points, num_vars)) - 5\n",
    "    targets = 10 * random.uniform(subkeys[2], shape=(n_points, 1)) - 5\n",
    "    y = np.zeros((num_instances, 1))\n",
    "    for i in range(num_instances):\n",
    "        dists = np.sum(np.abs(np.tile(X[i, :], (n_points, 1)) - example_points), axis=1)\n",
    "        lik = (1 / np.sqrt(2 * np.pi)) * np.exp(-dists / (2 * var))\n",
    "        lik = lik / np.sum(lik)\n",
    "        y[i, 0] = lik.T @ targets + random.normal(subkeys[3]) / 15\n",
    "    return X, y\n",
    "\n",
    "\n",
    "@jit\n",
    "def loss(params, batch):\n",
    "    inputs, targets = batch\n",
    "    preds = predict(params, inputs)\n",
    "    return jnp.sum((preds - targets) ** 2) / 2.0\n",
    "\n",
    "\n",
    "def data_stream(num_instances, batch_size):\n",
    "    rng = npr.RandomState(0)\n",
    "    num_batches = num_instances // batch_size\n",
    "    while True:\n",
    "        perm = rng.permutation(num_instances)\n",
    "        for i in range(num_batches):\n",
    "            batch_idx = perm[i * batch_size : (i + 1) * batch_size]\n",
    "            yield X[batch_idx], y[batch_idx]\n",
    "\n",
    "\n",
    "def pgd(alpha, lambd):\n",
    "    step_size = alpha\n",
    "\n",
    "    def init(w0):\n",
    "        return w0\n",
    "\n",
    "    def soft_thresholding(z, threshold):\n",
    "        return jnp.sign(z) * jnp.maximum(jnp.absolute(z) - threshold, 0.0)\n",
    "\n",
    "    def update(i, g, w):\n",
    "        g_flat, unflatten = ravel_pytree(g)\n",
    "        w_flat = ravel_pytree_jit(w)\n",
    "        updated_params = soft_thresholding(w_flat - step_size * g_flat, step_size * lambd)\n",
    "        return unflatten(updated_params)\n",
    "\n",
    "    def get_params(w):\n",
    "        return w\n",
    "\n",
    "    def set_step_size(lr):\n",
    "        step_size = lr\n",
    "\n",
    "    return init, update, get_params, soft_thresholding, set_step_size\n",
    "\n",
    "\n",
    "ravel_pytree_jit = jit(lambda tree: ravel_pytree(tree)[0])\n",
    "\n",
    "\n",
    "@jit\n",
    "def line_search(w, g, batch, beta):\n",
    "    lr_i = 1\n",
    "    g_flat, unflatten_g = ravel_pytree(g)\n",
    "    w_flat = ravel_pytree_jit(w)\n",
    "    z_flat = soft_thresholding(w_flat - lr_i * g_flat, lr_i * lambd)\n",
    "    z = unflatten_g(z_flat)\n",
    "    for i in range(20):\n",
    "        is_converged = loss(z, batch) > loss(w, batch) + g_flat @ (z_flat - w_flat) + np.sum((z_flat - w_flat) ** 2) / (\n",
    "            2 * lr_i\n",
    "        )\n",
    "        lr_i = jnp.where(is_converged, lr_i, beta * lr_i)\n",
    "    return lr_i\n",
    "\n",
    "\n",
    "@jit\n",
    "def update(i, opt_state, batch):\n",
    "    params = get_params(opt_state)\n",
    "    g = grad(loss)(params, batch)\n",
    "    lr_i = line_search(params, g, batch, 0.5)\n",
    "    set_step_size(lr_i)\n",
    "    return opt_update(i, g, opt_state)\n",
    "\n",
    "\n",
    "key = random.PRNGKey(3)\n",
    "num_epochs = 60000\n",
    "num_instances, num_vars = 200, 2\n",
    "batch_size = num_instances\n",
    "minim, maxim = -5, 5\n",
    "\n",
    "x, y = generate_data(num_instances, 1, key)\n",
    "X = np.c_[np.ones_like(x), x]\n",
    "batches = data_stream(num_instances, batch_size)\n",
    "\n",
    "init_random_params, predict = stax.serial(\n",
    "    Dense(5), Softplus, Dense(5), Softplus, Dense(5), Softplus, Dense(5), Softplus, Dense(1)\n",
    ")\n",
    "\n",
    "lambd, step_size = 0.6, 1e-4\n",
    "opt_init, opt_update, get_params, soft_thresholding, set_step_size = pgd(step_size, lambd)\n",
    "_, init_params = init_random_params(key, (-1, num_vars))\n",
    "opt_state = opt_init(init_params)\n",
    "itercount = itertools.count()\n",
    "\n",
    "for epoch in range(num_epochs):\n",
    "    opt_state = update(next(itercount), opt_state, next(batches))\n",
    "\n",
    "\n",
    "params = get_params(opt_state)\n",
    "weights, _ = tree_flatten(params)\n",
    "w = weights[::2]\n",
    "print(w)"
   ]
  },
  {
   "cell_type": "code",
   "execution_count": 8,
   "metadata": {
    "colab": {
     "base_uri": "https://localhost:8080/",
     "height": 281
    },
    "id": "nAfd2E9wjXKx",
    "outputId": "8b0a0c6c-9065-4704-bd5a-abdbee33cd50",
    "vscode": {
     "languageId": "python"
    }
   },
   "outputs": [
    {
     "name": "stdout",
     "output_type": "stream",
     "text": [
      "saving image to ../figures/sparse_mlp_fit.pdf\n"
     ]
    },
    {
     "data": {
      "image/png": "[encoded data removed]",
      "text/plain": [
       "<Figure size 432x288 with 1 Axes>"
      ]
     },
     "metadata": {
      "needs_background": "light",
      "tags": []
     },
     "output_type": "display_data"
    }
   ],
   "source": [
    "labels = {\"training\": \"Data\", \"test\": \"Deep Neural Net\"}\n",
    "x_test = np.arange(minim, maxim, 1e-5)\n",
    "x_test = np.c_[np.ones((x_test.shape[0], 1)), x_test]\n",
    "\n",
    "\n",
    "plt.scatter(X[:, 1], y, c=\"k\", s=13, label=labels[\"training\"])\n",
    "plt.plot(x_test[:, 1], predict(params, x_test), \"g-\", linewidth=3, label=labels[\"test\"])\n",
    "plt.gca().legend(loc=\"upper right\")\n",
    "pml.savefig(\"sparse_mlp_fit.pdf\", dpi=300)\n",
    "plt.show()"
   ]
  },
  {
   "cell_type": "code",
   "execution_count": 4,
   "metadata": {
    "colab": {
     "base_uri": "https://localhost:8080/",
     "height": 35
    },
    "id": "ddm3_Yi8jRWw",
    "outputId": "fbccf61b-a9f4-4d88-b710-083cbde7455b",
    "vscode": {
     "languageId": "python"
    }
   },
   "outputs": [
    {
     "data": {
      "application/vnd.google.colaboratory.intrinsic+json": {
       "type": "string"
      },
      "text/plain": [
       "'Neural Network.gv.png'"
      ]
     },
     "execution_count": 4,
     "metadata": {
      "tags": []
     },
     "output_type": "execute_result"
    }
   ],
   "source": [
    "dot = Digraph(\n",
    "    name=\"Neural Network\",\n",
    "    format=\"png\",\n",
    "    graph_attr={\"ordering\": \"out\"},\n",
    "    node_attr={\"shape\": \"circle\", \"color\": \"black\", \"fillcolor\": \"#FFFFE0\", \"style\": \"filled\"},\n",
    ")\n",
    "\n",
    "dot.node(\"00\", \"<x<SUB>0</SUB>>\")\n",
    "dot.node(\"01\", \"<x<SUB>1</SUB>>\")\n",
    "for i in range(len(w)):\n",
    "    for j in range(w[i].shape[1]):\n",
    "        subscript = \"{}{}\".format(i + 1, j)\n",
    "        dot.node(subscript, \"<h<SUB>{}</SUB>>\".format(subscript))\n",
    "        for k in range(w[i].shape[0]):\n",
    "            origin = \"{}{}\".format(i, k)\n",
    "            if np.abs(w[i][k, j]) > 1e-4:\n",
    "                dot.edge(origin, subscript)\n",
    "            else:\n",
    "                dot.edge(origin, subscript, style=\"invis\")\n",
    "\n",
    "dot.edge(\"42\", \"50\", style=\"invis\")\n",
    "dot.view()"
   ]
  },
  {
   "cell_type": "code",
   "execution_count": 5,
   "metadata": {
    "colab": {
     "base_uri": "https://localhost:8080/",
     "height": 646
    },
    "id": "R7whH_kJBP7-",
    "outputId": "e547092a-318d-435e-f434-a0ad49a5c307",
    "vscode": {
     "languageId": "python"
    }
   },
   "outputs": [
    {
     "data": {
      "image/svg+xml": "<?xml version=\"1.0\" encoding=\"UTF-8\" standalone=\"no\"?>\n<!DOCTYPE svg PUBLIC \"-//W3C//DTD SVG 1.1//EN\"\n \"http://www.w3.org/Graphics/SVG/1.1/DTD/svg11.dtd\">\n<!-- Generated by graphviz version 2.40.1 (20161225.0304)\n -->\n<!-- Title: Neural Network Pages: 1 -->\n<svg width=\"320pt\" height=\"469pt\"\n viewBox=\"0.00 0.00 320.10 468.78\" xmlns=\"http://www.w3.org/2000/svg\" xmlns:xlink=\"http://www.w3.org/1999/xlink\">\n<g id=\"graph0\" class=\"graph\" transform=\"scale(1 1) rotate(0) translate(4 464.7751)\">\n<title>Neural Network</title>\n<polygon fill=\"#ffffff\" stroke=\"transparent\" points=\"-4,4 -4,-464.7751 316.0957,-464.7751 316.0957,4 -4,4\"/>\n<!-- 00 -->\n<g id=\"node1\" class=\"node\">\n<title>00</title>\n<ellipse fill=\"#ffffe0\" stroke=\"#000000\" cx=\"127.0479\" cy=\"-440.6269\" rx=\"20.2975\" ry=\"20.2975\"/>\n<text text-anchor=\"start\" x=\"119.5479\" y=\"-437.9269\" font-family=\"Times,serif\" font-size=\"14.00\" fill=\"#000000\">x</text>\n<text text-anchor=\"start\" x=\"127.5479\" y=\"-437.9269\" font-family=\"Times,serif\" baseline-shift=\"sub\" font-size=\"14.00\" fill=\"#000000\">0</text>\n</g>\n<!-- 10 -->\n<g id=\"node3\" class=\"node\">\n<title>10</title>\n<ellipse fill=\"#ffffe0\" stroke=\"#000000\" cx=\"26.0479\" cy=\"-360.4308\" rx=\"24.0958\" ry=\"24.0958\"/>\n<text text-anchor=\"start\" x=\"15.5479\" y=\"-357.7308\" font-family=\"Times,serif\" font-size=\"14.00\" fill=\"#000000\">h</text>\n<text text-anchor=\"start\" x=\"23.5479\" y=\"-357.7308\" font-family=\"Times,serif\" baseline-shift=\"sub\" font-size=\"14.00\" fill=\"#000000\">10</text>\n</g>\n<!-- 00&#45;&gt;10 -->\n<!-- 11 -->\n<g id=\"node4\" class=\"node\">\n<title>11</title>\n<ellipse fill=\"#ffffe0\" stroke=\"#000000\" cx=\"91.0479\" cy=\"-360.4308\" rx=\"23.2963\" ry=\"23.2963\"/>\n<text text-anchor=\"start\" x=\"81.0479\" y=\"-357.7308\" font-family=\"Times,serif\" font-size=\"14.00\" fill=\"#000000\">h</text>\n<text text-anchor=\"start\" x=\"89.0479\" y=\"-357.7308\" font-family=\"Times,serif\" baseline-shift=\"sub\" font-size=\"14.00\" fill=\"#000000\">11</text>\n</g>\n<!-- 00&#45;&gt;11 -->\n<!-- 12 -->\n<g id=\"node5\" class=\"node\">\n<title>12</title>\n<ellipse fill=\"#ffffe0\" stroke=\"#000000\" cx=\"156.0479\" cy=\"-360.4308\" rx=\"24.0958\" ry=\"24.0958\"/>\n<text text-anchor=\"start\" x=\"145.5479\" y=\"-357.7308\" font-family=\"Times,serif\" font-size=\"14.00\" fill=\"#000000\">h</text>\n<text text-anchor=\"start\" x=\"153.5479\" y=\"-357.7308\" font-family=\"Times,serif\" baseline-shift=\"sub\" font-size=\"14.00\" fill=\"#000000\">12</text>\n</g>\n<!-- 00&#45;&gt;12 -->\n<g id=\"edge5\" class=\"edge\">\n<title>00&#45;&gt;12</title>\n<path fill=\"none\" stroke=\"#000000\" d=\"M133.9205,-421.6215C137.0358,-413.0063 140.8079,-402.575 144.3484,-392.7842\"/>\n<polygon fill=\"#000000\" stroke=\"#000000\" points=\"147.6696,-393.892 147.7789,-383.2977 141.0868,-391.5115 147.6696,-393.892\"/>\n</g>\n<!-- 13 -->\n<g id=\"node6\" class=\"node\">\n<title>13</title>\n<ellipse fill=\"#ffffe0\" stroke=\"#000000\" cx=\"222.0479\" cy=\"-360.4308\" rx=\"24.0958\" ry=\"24.0958\"/>\n<text text-anchor=\"start\" x=\"211.5479\" y=\"-357.7308\" font-family=\"Times,serif\" font-size=\"14.00\" fill=\"#000000\">h</text>\n<text text-anchor=\"start\" x=\"219.5479\" y=\"-357.7308\" font-family=\"Times,serif\" baseline-shift=\"sub\" font-size=\"14.00\" fill=\"#000000\">13</text>\n</g>\n<!-- 00&#45;&gt;13 -->\n<g id=\"edge7\" class=\"edge\">\n<title>00&#45;&gt;13</title>\n<path fill=\"none\" stroke=\"#000000\" d=\"M142.7352,-427.3841C157.0467,-415.3028 178.4889,-397.202 195.4715,-382.8658\"/>\n<polygon fill=\"#000000\" stroke=\"#000000\" points=\"198.0157,-385.2984 203.3993,-376.1733 193.5003,-379.9494 198.0157,-385.2984\"/>\n</g>\n<!-- 14 -->\n<g id=\"node7\" class=\"node\">\n<title>14</title>\n<ellipse fill=\"#ffffe0\" stroke=\"#000000\" cx=\"288.0479\" cy=\"-360.4308\" rx=\"24.0958\" ry=\"24.0958\"/>\n<text text-anchor=\"start\" x=\"277.5479\" y=\"-357.7308\" font-family=\"Times,serif\" font-size=\"14.00\" fill=\"#000000\">h</text>\n<text text-anchor=\"start\" x=\"285.5479\" y=\"-357.7308\" font-family=\"Times,serif\" baseline-shift=\"sub\" font-size=\"14.00\" fill=\"#000000\">14</text>\n</g>\n<!-- 00&#45;&gt;14 -->\n<g id=\"edge9\" class=\"edge\">\n<title>00&#45;&gt;14</title>\n<path fill=\"none\" stroke=\"#000000\" d=\"M143.1468,-428.3507C147.228,-425.5483 151.6931,-422.7347 156.0479,-420.4787 197.6193,-398.9423 213.7218,-406.4821 255.0479,-384.4787 256.8312,-383.5292 258.6265,-382.493 260.4089,-381.4013\"/>\n<polygon fill=\"#000000\" stroke=\"#000000\" points=\"262.7098,-384.0745 269.0996,-375.6233 258.8343,-378.2453 262.7098,-384.0745\"/>\n</g>\n<!-- 01 -->\n<g id=\"node2\" class=\"node\">\n<title>01</title>\n<ellipse fill=\"#ffffe0\" stroke=\"#000000\" cx=\"185.0479\" cy=\"-440.6269\" rx=\"20.2975\" ry=\"20.2975\"/>\n<text text-anchor=\"start\" x=\"177.5479\" y=\"-437.9269\" font-family=\"Times,serif\" font-size=\"14.00\" fill=\"#000000\">x</text>\n<text text-anchor=\"start\" x=\"185.5479\" y=\"-437.9269\" font-family=\"Times,serif\" baseline-shift=\"sub\" font-size=\"14.00\" fill=\"#000000\">1</text>\n</g>\n<!-- 01&#45;&gt;10 -->\n<!-- 01&#45;&gt;11 -->\n<!-- 01&#45;&gt;12 -->\n<g id=\"edge6\" class=\"edge\">\n<title>01&#45;&gt;12</title>\n<path fill=\"none\" stroke=\"#000000\" d=\"M178.1753,-421.6215C175.0599,-413.0063 171.2878,-402.575 167.7473,-392.7842\"/>\n<polygon fill=\"#000000\" stroke=\"#000000\" points=\"171.009,-391.5115 164.3169,-383.2977 164.4261,-393.892 171.009,-391.5115\"/>\n</g>\n<!-- 01&#45;&gt;13 -->\n<g id=\"edge8\" class=\"edge\">\n<title>01&#45;&gt;13</title>\n<path fill=\"none\" stroke=\"#000000\" d=\"M193.6294,-422.0267C197.8136,-412.9576 202.9589,-401.8054 207.7162,-391.4941\"/>\n<polygon fill=\"#000000\" stroke=\"#000000\" points=\"210.9261,-392.8912 211.9375,-382.3447 204.57,-389.9586 210.9261,-392.8912\"/>\n</g>\n<!-- 01&#45;&gt;14 -->\n<g id=\"edge10\" class=\"edge\">\n<title>01&#45;&gt;14</title>\n<path fill=\"none\" stroke=\"#000000\" d=\"M201.1416,-428.0962C217.1103,-415.663 241.8816,-396.376 260.8985,-381.5694\"/>\n<polygon fill=\"#000000\" stroke=\"#000000\" points=\"263.1756,-384.2323 268.9157,-375.3271 258.8751,-378.709 263.1756,-384.2323\"/>\n</g>\n<!-- 20 -->\n<g id=\"node8\" class=\"node\">\n<title>20</title>\n<ellipse fill=\"#ffffe0\" stroke=\"#000000\" cx=\"24.0479\" cy=\"-276.3351\" rx=\"24.0958\" ry=\"24.0958\"/>\n<text text-anchor=\"start\" x=\"13.5479\" y=\"-273.6351\" font-family=\"Times,serif\" font-size=\"14.00\" fill=\"#000000\">h</text>\n<text text-anchor=\"start\" x=\"21.5479\" y=\"-273.6351\" font-family=\"Times,serif\" baseline-shift=\"sub\" font-size=\"14.00\" fill=\"#000000\">20</text>\n</g>\n<!-- 10&#45;&gt;20 -->\n<!-- 21 -->\n<g id=\"node9\" class=\"node\">\n<title>21</title>\n<ellipse fill=\"#ffffe0\" stroke=\"#000000\" cx=\"90.0479\" cy=\"-276.3351\" rx=\"24.0958\" ry=\"24.0958\"/>\n<text text-anchor=\"start\" x=\"79.5479\" y=\"-273.6351\" font-family=\"Times,serif\" font-size=\"14.00\" fill=\"#000000\">h</text>\n<text text-anchor=\"start\" x=\"87.5479\" y=\"-273.6351\" font-family=\"Times,serif\" baseline-shift=\"sub\" font-size=\"14.00\" fill=\"#000000\">21</text>\n</g>\n<!-- 10&#45;&gt;21 -->\n<!-- 22 -->\n<g id=\"node10\" class=\"node\">\n<title>22</title>\n<ellipse fill=\"#ffffe0\" stroke=\"#000000\" cx=\"156.0479\" cy=\"-276.3351\" rx=\"24.0958\" ry=\"24.0958\"/>\n<text text-anchor=\"start\" x=\"145.5479\" y=\"-273.6351\" font-family=\"Times,serif\" font-size=\"14.00\" fill=\"#000000\">h</text>\n<text text-anchor=\"start\" x=\"153.5479\" y=\"-273.6351\" font-family=\"Times,serif\" baseline-shift=\"sub\" font-size=\"14.00\" fill=\"#000000\">22</text>\n</g>\n<!-- 10&#45;&gt;22 -->\n<g id=\"edge21\" class=\"edge\">\n<title>10&#45;&gt;22</title>\n<path fill=\"none\" stroke=\"#000000\" d=\"M45.3266,-345.8021C49.7652,-342.5976 54.5151,-339.2951 59.0479,-336.3829 86.5051,-318.7424 95.5907,-318.0235 123.0479,-300.3829 124.7476,-299.2909 126.478,-298.1439 128.2109,-296.9678\"/>\n<polygon fill=\"#000000\" stroke=\"#000000\" points=\"130.5929,-299.5722 136.7691,-290.9638 126.5726,-293.8418 130.5929,-299.5722\"/>\n</g>\n<!-- 23 -->\n<g id=\"node11\" class=\"node\">\n<title>23</title>\n<ellipse fill=\"#ffffe0\" stroke=\"#000000\" cx=\"222.0479\" cy=\"-276.3351\" rx=\"24.0958\" ry=\"24.0958\"/>\n<text text-anchor=\"start\" x=\"211.5479\" y=\"-273.6351\" font-family=\"Times,serif\" font-size=\"14.00\" fill=\"#000000\">h</text>\n<text text-anchor=\"start\" x=\"219.5479\" y=\"-273.6351\" font-family=\"Times,serif\" baseline-shift=\"sub\" font-size=\"14.00\" fill=\"#000000\">23</text>\n</g>\n<!-- 10&#45;&gt;23 -->\n<!-- 24 -->\n<g id=\"node12\" class=\"node\">\n<title>24</title>\n<ellipse fill=\"#ffffe0\" stroke=\"#000000\" cx=\"288.0479\" cy=\"-276.3351\" rx=\"24.0958\" ry=\"24.0958\"/>\n<text text-anchor=\"start\" x=\"277.5479\" y=\"-273.6351\" font-family=\"Times,serif\" font-size=\"14.00\" fill=\"#000000\">h</text>\n<text text-anchor=\"start\" x=\"285.5479\" y=\"-273.6351\" font-family=\"Times,serif\" baseline-shift=\"sub\" font-size=\"14.00\" fill=\"#000000\">24</text>\n</g>\n<!-- 10&#45;&gt;24 -->\n<!-- 11&#45;&gt;20 -->\n<!-- 11&#45;&gt;21 -->\n<!-- 11&#45;&gt;22 -->\n<g id=\"edge22\" class=\"edge\">\n<title>11&#45;&gt;22</title>\n<path fill=\"none\" stroke=\"#000000\" d=\"M105.4735,-341.7672C114.1039,-330.6014 125.2275,-316.2098 134.8442,-303.768\"/>\n<polygon fill=\"#000000\" stroke=\"#000000\" points=\"137.8657,-305.582 141.2119,-295.5295 132.3272,-301.3012 137.8657,-305.582\"/>\n</g>\n<!-- 11&#45;&gt;23 -->\n<!-- 11&#45;&gt;24 -->\n<!-- 12&#45;&gt;20 -->\n<g id=\"edge13\" class=\"edge\">\n<title>12&#45;&gt;20</title>\n<path fill=\"none\" stroke=\"#000000\" d=\"M136.7971,-345.7581C132.3571,-342.556 127.5995,-339.2655 123.0479,-336.3829 94.8193,-318.5058 85.2764,-318.2601 57.0479,-300.3829 55.341,-299.302 53.6052,-298.1636 51.868,-296.9941\"/>\n<polygon fill=\"#000000\" stroke=\"#000000\" points=\"53.5008,-293.8653 43.2986,-291.0077 49.492,-299.6038 53.5008,-293.8653\"/>\n</g>\n<!-- 12&#45;&gt;21 -->\n<g id=\"edge18\" class=\"edge\">\n<title>12&#45;&gt;21</title>\n<path fill=\"none\" stroke=\"#000000\" d=\"M141.0714,-341.3482C132.2954,-330.1659 121.0661,-315.8578 111.3774,-303.5127\"/>\n<polygon fill=\"#000000\" stroke=\"#000000\" points=\"113.8922,-301.0479 104.965,-295.3422 108.3856,-305.3697 113.8922,-301.0479\"/>\n</g>\n<!-- 12&#45;&gt;22 -->\n<g id=\"edge23\" class=\"edge\">\n<title>12&#45;&gt;22</title>\n<path fill=\"none\" stroke=\"#000000\" d=\"M156.0479,-336.1068C156.0479,-328.1748 156.0479,-319.2128 156.0479,-310.6878\"/>\n<polygon fill=\"#000000\" stroke=\"#000000\" points=\"159.548,-310.6043 156.0479,-300.6044 152.548,-310.6044 159.548,-310.6043\"/>\n</g>\n<!-- 12&#45;&gt;23 -->\n<g id=\"edge28\" class=\"edge\">\n<title>12&#45;&gt;23</title>\n<path fill=\"none\" stroke=\"#000000\" d=\"M171.0243,-341.3482C179.8003,-330.1659 191.0296,-315.8578 200.7184,-303.5127\"/>\n<polygon fill=\"#000000\" stroke=\"#000000\" points=\"203.7101,-305.3697 207.1307,-295.3422 198.2035,-301.0479 203.7101,-305.3697\"/>\n</g>\n<!-- 12&#45;&gt;24 -->\n<g id=\"edge33\" class=\"edge\">\n<title>12&#45;&gt;24</title>\n<path fill=\"none\" stroke=\"#000000\" d=\"M175.2986,-345.7581C179.7387,-342.556 184.4962,-339.2655 189.0479,-336.3829 217.2764,-318.5058 226.8193,-318.2601 255.0479,-300.3829 256.7547,-299.302 258.4906,-298.1636 260.2277,-296.9941\"/>\n<polygon fill=\"#000000\" stroke=\"#000000\" points=\"262.6037,-299.6038 268.7971,-291.0077 258.5949,-293.8653 262.6037,-299.6038\"/>\n</g>\n<!-- 13&#45;&gt;20 -->\n<g id=\"edge14\" class=\"edge\">\n<title>13&#45;&gt;20</title>\n<path fill=\"none\" stroke=\"#000000\" d=\"M203.2485,-344.9441C198.785,-341.7842 193.9038,-338.7166 189.0479,-336.3829 134.2394,-310.0426 111.8563,-326.7232 57.0479,-300.3829 55.2269,-299.5078 53.4023,-298.5294 51.5976,-297.4817\"/>\n<polygon fill=\"#000000\" stroke=\"#000000\" points=\"53.1448,-294.3141 42.8473,-291.8217 49.3429,-300.1918 53.1448,-294.3141\"/>\n</g>\n<!-- 13&#45;&gt;21 -->\n<g id=\"edge19\" class=\"edge\">\n<title>13&#45;&gt;21</title>\n<path fill=\"none\" stroke=\"#000000\" d=\"M202.7971,-345.7581C198.3571,-342.556 193.5995,-339.2655 189.0479,-336.3829 160.8193,-318.5058 151.2764,-318.2601 123.0479,-300.3829 121.341,-299.302 119.6052,-298.1636 117.868,-296.9941\"/>\n<polygon fill=\"#000000\" stroke=\"#000000\" points=\"119.5008,-293.8653 109.2986,-291.0077 115.492,-299.6038 119.5008,-293.8653\"/>\n</g>\n<!-- 13&#45;&gt;22 -->\n<g id=\"edge24\" class=\"edge\">\n<title>13&#45;&gt;22</title>\n<path fill=\"none\" stroke=\"#000000\" d=\"M207.0714,-341.3482C198.2954,-330.1659 187.0661,-315.8578 177.3774,-303.5127\"/>\n<polygon fill=\"#000000\" stroke=\"#000000\" points=\"179.8922,-301.0479 170.965,-295.3422 174.3856,-305.3697 179.8922,-301.0479\"/>\n</g>\n<!-- 13&#45;&gt;23 -->\n<g id=\"edge29\" class=\"edge\">\n<title>13&#45;&gt;23</title>\n<path fill=\"none\" stroke=\"#000000\" d=\"M222.0479,-336.1068C222.0479,-328.1748 222.0479,-319.2128 222.0479,-310.6878\"/>\n<polygon fill=\"#000000\" stroke=\"#000000\" points=\"225.548,-310.6043 222.0479,-300.6044 218.548,-310.6044 225.548,-310.6043\"/>\n</g>\n<!-- 13&#45;&gt;24 -->\n<g id=\"edge34\" class=\"edge\">\n<title>13&#45;&gt;24</title>\n<path fill=\"none\" stroke=\"#000000\" d=\"M237.0243,-341.3482C245.8003,-330.1659 257.0296,-315.8578 266.7184,-303.5127\"/>\n<polygon fill=\"#000000\" stroke=\"#000000\" points=\"269.7101,-305.3697 273.1307,-295.3422 264.2035,-301.0479 269.7101,-305.3697\"/>\n</g>\n<!-- 14&#45;&gt;20 -->\n<g id=\"edge15\" class=\"edge\">\n<title>14&#45;&gt;20</title>\n<path fill=\"none\" stroke=\"#000000\" d=\"M269.3912,-344.6299C264.9204,-341.4862 260.0001,-338.5048 255.0479,-336.3829 172.8338,-301.1574 139.262,-335.6085 57.0479,-300.3829 55.1908,-299.5872 53.3382,-298.6707 51.5121,-297.67\"/>\n<polygon fill=\"#000000\" stroke=\"#000000\" points=\"53.0339,-294.4927 42.7045,-292.136 49.3098,-300.4198 53.0339,-294.4927\"/>\n</g>\n<!-- 14&#45;&gt;21 -->\n<g id=\"edge20\" class=\"edge\">\n<title>14&#45;&gt;21</title>\n<path fill=\"none\" stroke=\"#000000\" d=\"M269.2485,-344.9441C264.785,-341.7842 259.9038,-338.7166 255.0479,-336.3829 200.2394,-310.0426 177.8563,-326.7232 123.0479,-300.3829 121.2269,-299.5078 119.4023,-298.5294 117.5976,-297.4817\"/>\n<polygon fill=\"#000000\" stroke=\"#000000\" points=\"119.1448,-294.3141 108.8473,-291.8217 115.3429,-300.1918 119.1448,-294.3141\"/>\n</g>\n<!-- 14&#45;&gt;22 -->\n<g id=\"edge25\" class=\"edge\">\n<title>14&#45;&gt;22</title>\n<path fill=\"none\" stroke=\"#000000\" d=\"M268.7971,-345.7581C264.3571,-342.556 259.5995,-339.2655 255.0479,-336.3829 226.8193,-318.5058 217.2764,-318.2601 189.0479,-300.3829 187.341,-299.302 185.6052,-298.1636 183.868,-296.9941\"/>\n<polygon fill=\"#000000\" stroke=\"#000000\" points=\"185.5008,-293.8653 175.2986,-291.0077 181.492,-299.6038 185.5008,-293.8653\"/>\n</g>\n<!-- 14&#45;&gt;23 -->\n<g id=\"edge30\" class=\"edge\">\n<title>14&#45;&gt;23</title>\n<path fill=\"none\" stroke=\"#000000\" d=\"M273.0714,-341.3482C264.2954,-330.1659 253.0661,-315.8578 243.3774,-303.5127\"/>\n<polygon fill=\"#000000\" stroke=\"#000000\" points=\"245.8922,-301.0479 236.965,-295.3422 240.3856,-305.3697 245.8922,-301.0479\"/>\n</g>\n<!-- 14&#45;&gt;24 -->\n<g id=\"edge35\" class=\"edge\">\n<title>14&#45;&gt;24</title>\n<path fill=\"none\" stroke=\"#000000\" d=\"M288.0479,-336.1068C288.0479,-328.1748 288.0479,-319.2128 288.0479,-310.6878\"/>\n<polygon fill=\"#000000\" stroke=\"#000000\" points=\"291.548,-310.6043 288.0479,-300.6044 284.548,-310.6044 291.548,-310.6043\"/>\n</g>\n<!-- 30 -->\n<g id=\"node13\" class=\"node\">\n<title>30</title>\n<ellipse fill=\"#ffffe0\" stroke=\"#000000\" cx=\"24.0479\" cy=\"-192.2393\" rx=\"24.0958\" ry=\"24.0958\"/>\n<text text-anchor=\"start\" x=\"13.5479\" y=\"-189.5393\" font-family=\"Times,serif\" font-size=\"14.00\" fill=\"#000000\">h</text>\n<text text-anchor=\"start\" x=\"21.5479\" y=\"-189.5393\" font-family=\"Times,serif\" baseline-shift=\"sub\" font-size=\"14.00\" fill=\"#000000\">30</text>\n</g>\n<!-- 20&#45;&gt;30 -->\n<g id=\"edge36\" class=\"edge\">\n<title>20&#45;&gt;30</title>\n<path fill=\"none\" stroke=\"#000000\" d=\"M24.0479,-252.0111C24.0479,-244.0791 24.0479,-235.1171 24.0479,-226.592\"/>\n<polygon fill=\"#000000\" stroke=\"#000000\" points=\"27.548,-226.5086 24.0479,-216.5086 20.548,-226.5087 27.548,-226.5086\"/>\n</g>\n<!-- 31 -->\n<g id=\"node14\" class=\"node\">\n<title>31</title>\n<ellipse fill=\"#ffffe0\" stroke=\"#000000\" cx=\"90.0479\" cy=\"-192.2393\" rx=\"24.0958\" ry=\"24.0958\"/>\n<text text-anchor=\"start\" x=\"79.5479\" y=\"-189.5393\" font-family=\"Times,serif\" font-size=\"14.00\" fill=\"#000000\">h</text>\n<text text-anchor=\"start\" x=\"87.5479\" y=\"-189.5393\" font-family=\"Times,serif\" baseline-shift=\"sub\" font-size=\"14.00\" fill=\"#000000\">31</text>\n</g>\n<!-- 20&#45;&gt;31 -->\n<!-- 32 -->\n<g id=\"node15\" class=\"node\">\n<title>32</title>\n<ellipse fill=\"#ffffe0\" stroke=\"#000000\" cx=\"156.0479\" cy=\"-192.2393\" rx=\"24.0958\" ry=\"24.0958\"/>\n<text text-anchor=\"start\" x=\"145.5479\" y=\"-189.5393\" font-family=\"Times,serif\" font-size=\"14.00\" fill=\"#000000\">h</text>\n<text text-anchor=\"start\" x=\"153.5479\" y=\"-189.5393\" font-family=\"Times,serif\" baseline-shift=\"sub\" font-size=\"14.00\" fill=\"#000000\">32</text>\n</g>\n<!-- 20&#45;&gt;32 -->\n<!-- 33 -->\n<g id=\"node16\" class=\"node\">\n<title>33</title>\n<ellipse fill=\"#ffffe0\" stroke=\"#000000\" cx=\"222.0479\" cy=\"-192.2393\" rx=\"24.0958\" ry=\"24.0958\"/>\n<text text-anchor=\"start\" x=\"211.5479\" y=\"-189.5393\" font-family=\"Times,serif\" font-size=\"14.00\" fill=\"#000000\">h</text>\n<text text-anchor=\"start\" x=\"219.5479\" y=\"-189.5393\" font-family=\"Times,serif\" baseline-shift=\"sub\" font-size=\"14.00\" fill=\"#000000\">33</text>\n</g>\n<!-- 20&#45;&gt;33 -->\n<g id=\"edge51\" class=\"edge\">\n<title>20&#45;&gt;33</title>\n<path fill=\"none\" stroke=\"#000000\" d=\"M42.8473,-260.8484C47.3107,-257.6884 52.1919,-254.6209 57.0479,-252.2872 111.8563,-225.9469 134.2394,-242.6275 189.0479,-216.2872 190.8689,-215.4121 192.6934,-214.4337 194.4981,-213.386\"/>\n<polygon fill=\"#000000\" stroke=\"#000000\" points=\"196.7528,-216.096 203.2485,-207.726 192.9509,-210.2184 196.7528,-216.096\"/>\n</g>\n<!-- 34 -->\n<g id=\"node17\" class=\"node\">\n<title>34</title>\n<ellipse fill=\"#ffffe0\" stroke=\"#000000\" cx=\"288.0479\" cy=\"-192.2393\" rx=\"24.0958\" ry=\"24.0958\"/>\n<text text-anchor=\"start\" x=\"277.5479\" y=\"-189.5393\" font-family=\"Times,serif\" font-size=\"14.00\" fill=\"#000000\">h</text>\n<text text-anchor=\"start\" x=\"285.5479\" y=\"-189.5393\" font-family=\"Times,serif\" baseline-shift=\"sub\" font-size=\"14.00\" fill=\"#000000\">34</text>\n</g>\n<!-- 20&#45;&gt;34 -->\n<g id=\"edge56\" class=\"edge\">\n<title>20&#45;&gt;34</title>\n<path fill=\"none\" stroke=\"#000000\" d=\"M42.7045,-260.5341C47.1754,-257.3905 52.0957,-254.409 57.0479,-252.2872 139.262,-217.0616 172.8338,-251.5128 255.0479,-216.2872 256.9049,-215.4915 258.7575,-214.5749 260.5836,-213.5743\"/>\n<polygon fill=\"#000000\" stroke=\"#000000\" points=\"262.786,-216.3241 269.3912,-208.0403 259.0618,-210.3969 262.786,-216.3241\"/>\n</g>\n<!-- 21&#45;&gt;30 -->\n<g id=\"edge37\" class=\"edge\">\n<title>21&#45;&gt;30</title>\n<path fill=\"none\" stroke=\"#000000\" d=\"M75.0714,-257.2524C66.2954,-246.0702 55.0661,-231.7621 45.3774,-219.4169\"/>\n<polygon fill=\"#000000\" stroke=\"#000000\" points=\"47.8922,-216.9522 38.965,-211.2464 42.3856,-221.2739 47.8922,-216.9522\"/>\n</g>\n<!-- 21&#45;&gt;31 -->\n<!-- 21&#45;&gt;32 -->\n<g id=\"edge47\" class=\"edge\">\n<title>21&#45;&gt;32</title>\n<path fill=\"none\" stroke=\"#000000\" d=\"M105.0243,-257.2524C113.8003,-246.0702 125.0296,-231.7621 134.7184,-219.4169\"/>\n<polygon fill=\"#000000\" stroke=\"#000000\" points=\"137.7101,-221.2739 141.1307,-211.2464 132.2035,-216.9522 137.7101,-221.2739\"/>\n</g>\n<!-- 21&#45;&gt;33 -->\n<g id=\"edge52\" class=\"edge\">\n<title>21&#45;&gt;33</title>\n<path fill=\"none\" stroke=\"#000000\" d=\"M109.2986,-261.6624C113.7387,-258.4602 118.4962,-255.1698 123.0479,-252.2872 151.2764,-234.41 160.8193,-234.1643 189.0479,-216.2872 190.7547,-215.2062 192.4906,-214.0679 194.2277,-212.8984\"/>\n<polygon fill=\"#000000\" stroke=\"#000000\" points=\"196.6037,-215.5081 202.7971,-206.912 192.5949,-209.7696 196.6037,-215.5081\"/>\n</g>\n<!-- 21&#45;&gt;34 -->\n<g id=\"edge57\" class=\"edge\">\n<title>21&#45;&gt;34</title>\n<path fill=\"none\" stroke=\"#000000\" d=\"M108.8473,-260.8484C113.3107,-257.6884 118.1919,-254.6209 123.0479,-252.2872 177.8563,-225.9469 200.2394,-242.6275 255.0479,-216.2872 256.8689,-215.4121 258.6934,-214.4337 260.4981,-213.386\"/>\n<polygon fill=\"#000000\" stroke=\"#000000\" points=\"262.7528,-216.096 269.2485,-207.726 258.9509,-210.2184 262.7528,-216.096\"/>\n</g>\n<!-- 22&#45;&gt;30 -->\n<g id=\"edge38\" class=\"edge\">\n<title>22&#45;&gt;30</title>\n<path fill=\"none\" stroke=\"#000000\" d=\"M136.7971,-261.6624C132.3571,-258.4602 127.5995,-255.1698 123.0479,-252.2872 94.8193,-234.41 85.2764,-234.1643 57.0479,-216.2872 55.341,-215.2062 53.6052,-214.0679 51.868,-212.8984\"/>\n<polygon fill=\"#000000\" stroke=\"#000000\" points=\"53.5008,-209.7696 43.2986,-206.912 49.492,-215.5081 53.5008,-209.7696\"/>\n</g>\n<!-- 22&#45;&gt;31 -->\n<!-- 22&#45;&gt;32 -->\n<!-- 22&#45;&gt;33 -->\n<g id=\"edge53\" class=\"edge\">\n<title>22&#45;&gt;33</title>\n<path fill=\"none\" stroke=\"#000000\" d=\"M171.0243,-257.2524C179.8003,-246.0702 191.0296,-231.7621 200.7184,-219.4169\"/>\n<polygon fill=\"#000000\" stroke=\"#000000\" points=\"203.7101,-221.2739 207.1307,-211.2464 198.2035,-216.9522 203.7101,-221.2739\"/>\n</g>\n<!-- 22&#45;&gt;34 -->\n<g id=\"edge58\" class=\"edge\">\n<title>22&#45;&gt;34</title>\n<path fill=\"none\" stroke=\"#000000\" d=\"M175.2986,-261.6624C179.7387,-258.4602 184.4962,-255.1698 189.0479,-252.2872 217.2764,-234.41 226.8193,-234.1643 255.0479,-216.2872 256.7547,-215.2062 258.4906,-214.0679 260.2277,-212.8984\"/>\n<polygon fill=\"#000000\" stroke=\"#000000\" points=\"262.6037,-215.5081 268.7971,-206.912 258.5949,-209.7696 262.6037,-215.5081\"/>\n</g>\n<!-- 23&#45;&gt;30 -->\n<g id=\"edge39\" class=\"edge\">\n<title>23&#45;&gt;30</title>\n<path fill=\"none\" stroke=\"#000000\" d=\"M203.2485,-260.8484C198.785,-257.6884 193.9038,-254.6209 189.0479,-252.2872 134.2394,-225.9469 111.8563,-242.6275 57.0479,-216.2872 55.2269,-215.4121 53.4023,-214.4337 51.5976,-213.386\"/>\n<polygon fill=\"#000000\" stroke=\"#000000\" points=\"53.1448,-210.2184 42.8473,-207.726 49.3429,-216.096 53.1448,-210.2184\"/>\n</g>\n<!-- 23&#45;&gt;31 -->\n<!-- 23&#45;&gt;32 -->\n<!-- 23&#45;&gt;33 -->\n<g id=\"edge54\" class=\"edge\">\n<title>23&#45;&gt;33</title>\n<path fill=\"none\" stroke=\"#000000\" d=\"M222.0479,-252.0111C222.0479,-244.0791 222.0479,-235.1171 222.0479,-226.592\"/>\n<polygon fill=\"#000000\" stroke=\"#000000\" points=\"225.548,-226.5086 222.0479,-216.5086 218.548,-226.5087 225.548,-226.5086\"/>\n</g>\n<!-- 23&#45;&gt;34 -->\n<g id=\"edge59\" class=\"edge\">\n<title>23&#45;&gt;34</title>\n<path fill=\"none\" stroke=\"#000000\" d=\"M237.0243,-257.2524C245.8003,-246.0702 257.0296,-231.7621 266.7184,-219.4169\"/>\n<polygon fill=\"#000000\" stroke=\"#000000\" points=\"269.7101,-221.2739 273.1307,-211.2464 264.2035,-216.9522 269.7101,-221.2739\"/>\n</g>\n<!-- 24&#45;&gt;30 -->\n<g id=\"edge40\" class=\"edge\">\n<title>24&#45;&gt;30</title>\n<path fill=\"none\" stroke=\"#000000\" d=\"M269.3912,-260.5341C264.9204,-257.3905 260.0001,-254.409 255.0479,-252.2872 172.8338,-217.0616 139.262,-251.5128 57.0479,-216.2872 55.1908,-215.4915 53.3382,-214.5749 51.5121,-213.5743\"/>\n<polygon fill=\"#000000\" stroke=\"#000000\" points=\"53.0339,-210.3969 42.7045,-208.0403 49.3098,-216.3241 53.0339,-210.3969\"/>\n</g>\n<!-- 24&#45;&gt;31 -->\n<!-- 24&#45;&gt;32 -->\n<g id=\"edge50\" class=\"edge\">\n<title>24&#45;&gt;32</title>\n<path fill=\"none\" stroke=\"#000000\" d=\"M268.7971,-261.6624C264.3571,-258.4602 259.5995,-255.1698 255.0479,-252.2872 226.8193,-234.41 217.2764,-234.1643 189.0479,-216.2872 187.341,-215.2062 185.6052,-214.0679 183.868,-212.8984\"/>\n<polygon fill=\"#000000\" stroke=\"#000000\" points=\"185.5008,-209.7696 175.2986,-206.912 181.492,-215.5081 185.5008,-209.7696\"/>\n</g>\n<!-- 24&#45;&gt;33 -->\n<g id=\"edge55\" class=\"edge\">\n<title>24&#45;&gt;33</title>\n<path fill=\"none\" stroke=\"#000000\" d=\"M273.0714,-257.2524C264.2954,-246.0702 253.0661,-231.7621 243.3774,-219.4169\"/>\n<polygon fill=\"#000000\" stroke=\"#000000\" points=\"245.8922,-216.9522 236.965,-211.2464 240.3856,-221.2739 245.8922,-216.9522\"/>\n</g>\n<!-- 24&#45;&gt;34 -->\n<g id=\"edge60\" class=\"edge\">\n<title>24&#45;&gt;34</title>\n<path fill=\"none\" stroke=\"#000000\" d=\"M288.0479,-252.0111C288.0479,-244.0791 288.0479,-235.1171 288.0479,-226.592\"/>\n<polygon fill=\"#000000\" stroke=\"#000000\" points=\"291.548,-226.5086 288.0479,-216.5086 284.548,-226.5087 291.548,-226.5086\"/>\n</g>\n<!-- 40 -->\n<g id=\"node18\" class=\"node\">\n<title>40</title>\n<ellipse fill=\"#ffffe0\" stroke=\"#000000\" cx=\"24.0479\" cy=\"-108.1436\" rx=\"24.0958\" ry=\"24.0958\"/>\n<text text-anchor=\"start\" x=\"13.5479\" y=\"-105.4436\" font-family=\"Times,serif\" font-size=\"14.00\" fill=\"#000000\">h</text>\n<text text-anchor=\"start\" x=\"21.5479\" y=\"-105.4436\" font-family=\"Times,serif\" baseline-shift=\"sub\" font-size=\"14.00\" fill=\"#000000\">40</text>\n</g>\n<!-- 30&#45;&gt;40 -->\n<!-- 41 -->\n<g id=\"node19\" class=\"node\">\n<title>41</title>\n<ellipse fill=\"#ffffe0\" stroke=\"#000000\" cx=\"90.0479\" cy=\"-108.1436\" rx=\"24.0958\" ry=\"24.0958\"/>\n<text text-anchor=\"start\" x=\"79.5479\" y=\"-105.4436\" font-family=\"Times,serif\" font-size=\"14.00\" fill=\"#000000\">h</text>\n<text text-anchor=\"start\" x=\"87.5479\" y=\"-105.4436\" font-family=\"Times,serif\" baseline-shift=\"sub\" font-size=\"14.00\" fill=\"#000000\">41</text>\n</g>\n<!-- 30&#45;&gt;41 -->\n<!-- 42 -->\n<g id=\"node20\" class=\"node\">\n<title>42</title>\n<ellipse fill=\"#ffffe0\" stroke=\"#000000\" cx=\"156.0479\" cy=\"-108.1436\" rx=\"24.0958\" ry=\"24.0958\"/>\n<text text-anchor=\"start\" x=\"145.5479\" y=\"-105.4436\" font-family=\"Times,serif\" font-size=\"14.00\" fill=\"#000000\">h</text>\n<text text-anchor=\"start\" x=\"153.5479\" y=\"-105.4436\" font-family=\"Times,serif\" baseline-shift=\"sub\" font-size=\"14.00\" fill=\"#000000\">42</text>\n</g>\n<!-- 30&#45;&gt;42 -->\n<g id=\"edge71\" class=\"edge\">\n<title>30&#45;&gt;42</title>\n<path fill=\"none\" stroke=\"#000000\" d=\"M43.2986,-177.5667C47.7387,-174.3645 52.4962,-171.074 57.0479,-168.1915 85.2764,-150.3143 94.8193,-150.0686 123.0479,-132.1915 124.7547,-131.1105 126.4906,-129.9722 128.2277,-128.8027\"/>\n<polygon fill=\"#000000\" stroke=\"#000000\" points=\"130.6037,-131.4123 136.7971,-122.8163 126.5949,-125.6739 130.6037,-131.4123\"/>\n</g>\n<!-- 43 -->\n<g id=\"node21\" class=\"node\">\n<title>43</title>\n<ellipse fill=\"#ffffe0\" stroke=\"#000000\" cx=\"222.0479\" cy=\"-108.1436\" rx=\"24.0958\" ry=\"24.0958\"/>\n<text text-anchor=\"start\" x=\"211.5479\" y=\"-105.4436\" font-family=\"Times,serif\" font-size=\"14.00\" fill=\"#000000\">h</text>\n<text text-anchor=\"start\" x=\"219.5479\" y=\"-105.4436\" font-family=\"Times,serif\" baseline-shift=\"sub\" font-size=\"14.00\" fill=\"#000000\">43</text>\n</g>\n<!-- 30&#45;&gt;43 -->\n<g id=\"edge76\" class=\"edge\">\n<title>30&#45;&gt;43</title>\n<path fill=\"none\" stroke=\"#000000\" d=\"M42.8473,-176.7527C47.3107,-173.5927 52.1919,-170.5252 57.0479,-168.1915 111.8563,-141.8512 134.2394,-158.5318 189.0479,-132.1915 190.8689,-131.3163 192.6934,-130.338 194.4981,-129.2903\"/>\n<polygon fill=\"#000000\" stroke=\"#000000\" points=\"196.7528,-132.0003 203.2485,-123.6303 192.9509,-126.1227 196.7528,-132.0003\"/>\n</g>\n<!-- 44 -->\n<g id=\"node22\" class=\"node\">\n<title>44</title>\n<ellipse fill=\"#ffffe0\" stroke=\"#000000\" cx=\"288.0479\" cy=\"-108.1436\" rx=\"24.0958\" ry=\"24.0958\"/>\n<text text-anchor=\"start\" x=\"277.5479\" y=\"-105.4436\" font-family=\"Times,serif\" font-size=\"14.00\" fill=\"#000000\">h</text>\n<text text-anchor=\"start\" x=\"285.5479\" y=\"-105.4436\" font-family=\"Times,serif\" baseline-shift=\"sub\" font-size=\"14.00\" fill=\"#000000\">44</text>\n</g>\n<!-- 30&#45;&gt;44 -->\n<g id=\"edge81\" class=\"edge\">\n<title>30&#45;&gt;44</title>\n<path fill=\"none\" stroke=\"#000000\" d=\"M42.7045,-176.4384C47.1754,-173.2947 52.0957,-170.3133 57.0479,-168.1915 139.262,-132.9659 172.8338,-167.417 255.0479,-132.1915 256.9049,-131.3958 258.7575,-130.4792 260.5836,-129.4785\"/>\n<polygon fill=\"#000000\" stroke=\"#000000\" points=\"262.786,-132.2283 269.3912,-123.9445 259.0618,-126.3012 262.786,-132.2283\"/>\n</g>\n<!-- 31&#45;&gt;40 -->\n<!-- 31&#45;&gt;41 -->\n<!-- 31&#45;&gt;42 -->\n<!-- 31&#45;&gt;43 -->\n<!-- 31&#45;&gt;44 -->\n<!-- 32&#45;&gt;40 -->\n<!-- 32&#45;&gt;41 -->\n<!-- 32&#45;&gt;42 -->\n<g id=\"edge73\" class=\"edge\">\n<title>32&#45;&gt;42</title>\n<path fill=\"none\" stroke=\"#000000\" d=\"M156.0479,-167.9154C156.0479,-159.9834 156.0479,-151.0214 156.0479,-142.4963\"/>\n<polygon fill=\"#000000\" stroke=\"#000000\" points=\"159.548,-142.4129 156.0479,-132.4129 152.548,-142.4129 159.548,-142.4129\"/>\n</g>\n<!-- 32&#45;&gt;43 -->\n<g id=\"edge78\" class=\"edge\">\n<title>32&#45;&gt;43</title>\n<path fill=\"none\" stroke=\"#000000\" d=\"M171.0243,-173.1567C179.8003,-161.9745 191.0296,-147.6663 200.7184,-135.3212\"/>\n<polygon fill=\"#000000\" stroke=\"#000000\" points=\"203.7101,-137.1782 207.1307,-127.1507 198.2035,-132.8565 203.7101,-137.1782\"/>\n</g>\n<!-- 32&#45;&gt;44 -->\n<g id=\"edge83\" class=\"edge\">\n<title>32&#45;&gt;44</title>\n<path fill=\"none\" stroke=\"#000000\" d=\"M175.2986,-177.5667C179.7387,-174.3645 184.4962,-171.074 189.0479,-168.1915 217.2764,-150.3143 226.8193,-150.0686 255.0479,-132.1915 256.7547,-131.1105 258.4906,-129.9722 260.2277,-128.8027\"/>\n<polygon fill=\"#000000\" stroke=\"#000000\" points=\"262.6037,-131.4123 268.7971,-122.8163 258.5949,-125.6739 262.6037,-131.4123\"/>\n</g>\n<!-- 33&#45;&gt;40 -->\n<!-- 33&#45;&gt;41 -->\n<!-- 33&#45;&gt;42 -->\n<g id=\"edge74\" class=\"edge\">\n<title>33&#45;&gt;42</title>\n<path fill=\"none\" stroke=\"#000000\" d=\"M207.0714,-173.1567C198.2954,-161.9745 187.0661,-147.6663 177.3774,-135.3212\"/>\n<polygon fill=\"#000000\" stroke=\"#000000\" points=\"179.8922,-132.8565 170.965,-127.1507 174.3856,-137.1782 179.8922,-132.8565\"/>\n</g>\n<!-- 33&#45;&gt;43 -->\n<g id=\"edge79\" class=\"edge\">\n<title>33&#45;&gt;43</title>\n<path fill=\"none\" stroke=\"#000000\" d=\"M222.0479,-167.9154C222.0479,-159.9834 222.0479,-151.0214 222.0479,-142.4963\"/>\n<polygon fill=\"#000000\" stroke=\"#000000\" points=\"225.548,-142.4129 222.0479,-132.4129 218.548,-142.4129 225.548,-142.4129\"/>\n</g>\n<!-- 33&#45;&gt;44 -->\n<g id=\"edge84\" class=\"edge\">\n<title>33&#45;&gt;44</title>\n<path fill=\"none\" stroke=\"#000000\" d=\"M237.0243,-173.1567C245.8003,-161.9745 257.0296,-147.6663 266.7184,-135.3212\"/>\n<polygon fill=\"#000000\" stroke=\"#000000\" points=\"269.7101,-137.1782 273.1307,-127.1507 264.2035,-132.8565 269.7101,-137.1782\"/>\n</g>\n<!-- 34&#45;&gt;40 -->\n<!-- 34&#45;&gt;41 -->\n<!-- 34&#45;&gt;42 -->\n<g id=\"edge75\" class=\"edge\">\n<title>34&#45;&gt;42</title>\n<path fill=\"none\" stroke=\"#000000\" d=\"M268.7971,-177.5667C264.3571,-174.3645 259.5995,-171.074 255.0479,-168.1915 226.8193,-150.3143 217.2764,-150.0686 189.0479,-132.1915 187.341,-131.1105 185.6052,-129.9722 183.868,-128.8027\"/>\n<polygon fill=\"#000000\" stroke=\"#000000\" points=\"185.5008,-125.6739 175.2986,-122.8163 181.492,-131.4123 185.5008,-125.6739\"/>\n</g>\n<!-- 34&#45;&gt;43 -->\n<g id=\"edge80\" class=\"edge\">\n<title>34&#45;&gt;43</title>\n<path fill=\"none\" stroke=\"#000000\" d=\"M273.0714,-173.1567C264.2954,-161.9745 253.0661,-147.6663 243.3774,-135.3212\"/>\n<polygon fill=\"#000000\" stroke=\"#000000\" points=\"245.8922,-132.8565 236.965,-127.1507 240.3856,-137.1782 245.8922,-132.8565\"/>\n</g>\n<!-- 34&#45;&gt;44 -->\n<!-- 50 -->\n<g id=\"node23\" class=\"node\">\n<title>50</title>\n<ellipse fill=\"#ffffe0\" stroke=\"#000000\" cx=\"156.0479\" cy=\"-24.0479\" rx=\"24.0958\" ry=\"24.0958\"/>\n<text text-anchor=\"start\" x=\"145.5479\" y=\"-21.3479\" font-family=\"Times,serif\" font-size=\"14.00\" fill=\"#000000\">h</text>\n<text text-anchor=\"start\" x=\"153.5479\" y=\"-21.3479\" font-family=\"Times,serif\" baseline-shift=\"sub\" font-size=\"14.00\" fill=\"#000000\">50</text>\n</g>\n<!-- 40&#45;&gt;50 -->\n<!-- 41&#45;&gt;50 -->\n<!-- 42&#45;&gt;50 -->\n<g id=\"edge88\" class=\"edge\">\n<title>42&#45;&gt;50</title>\n<path fill=\"none\" stroke=\"#000000\" d=\"M149.9245,-84.7182C149.3153,-76.2436 149.1503,-66.5042 149.4295,-57.3445\"/>\n<polygon fill=\"#000000\" stroke=\"#000000\" points=\"152.9255,-57.5112 149.9336,-47.3476 145.9344,-57.1586 152.9255,-57.5112\"/>\n</g>\n<!-- 42&#45;&gt;50 -->\n<!-- 43&#45;&gt;50 -->\n<g id=\"edge89\" class=\"edge\">\n<title>43&#45;&gt;50</title>\n<path fill=\"none\" stroke=\"#000000\" d=\"M207.0714,-89.061C198.2954,-77.8787 187.0661,-63.5706 177.3774,-51.2255\"/>\n<polygon fill=\"#000000\" stroke=\"#000000\" points=\"179.8922,-48.7607 170.965,-43.055 174.3856,-53.0825 179.8922,-48.7607\"/>\n</g>\n<!-- 44&#45;&gt;50 -->\n<g id=\"edge90\" class=\"edge\">\n<title>44&#45;&gt;50</title>\n<path fill=\"none\" stroke=\"#000000\" d=\"M268.6973,-93.6246C264.2624,-90.4145 259.5322,-87.0819 255.0479,-84.0957 232.3705,-68.9946 205.9558,-53.0521 186.1175,-41.392\"/>\n<polygon fill=\"#000000\" stroke=\"#000000\" points=\"187.6272,-38.2205 177.2278,-36.1948 184.0942,-44.2635 187.6272,-38.2205\"/>\n</g>\n</g>\n</svg>\n",
      "text/plain": [
       "<graphviz.dot.Digraph at 0x7fba7e2abd10>"
      ]
     },
     "execution_count": 5,
     "metadata": {
      "tags": []
     },
     "output_type": "execute_result"
    }
   ],
   "source": [
    "dot"
   ]
  },
  {
   "cell_type": "code",
   "execution_count": 9,
   "metadata": {
    "colab": {
     "base_uri": "https://localhost:8080/",
     "height": 35
    },
    "id": "ebiEjsQVil71",
    "outputId": "96a7c61a-2b53-4962-f9ce-caeb2d7244e4",
    "vscode": {
     "languageId": "python"
    }
   },
   "outputs": [
    {
     "data": {
      "application/vnd.google.colaboratory.intrinsic+json": {
       "type": "string"
      },
      "text/plain": [
       "'../figures/sparse-mlp-graph-structure.png'"
      ]
     },
     "execution_count": 9,
     "metadata": {
      "tags": []
     },
     "output_type": "execute_result"
    }
   ],
   "source": [
    "dot.render(\"../figures/sparse-mlp-graph-structure\", view=False)"
   ]
  },
  {
   "cell_type": "code",
   "execution_count": 7,
   "metadata": {
    "colab": {
     "base_uri": "https://localhost:8080/"
    },
    "id": "pgz9DtdgiwSg",
    "outputId": "60cae972-3e48-4b68-e7c2-55aef750750b",
    "vscode": {
     "languageId": "python"
    }
   },
   "outputs": [
    {
     "name": "stdout",
     "output_type": "stream",
     "text": [
      "cat_dog.jpg  sparse-nnet  sparse-nnet.png\n"
     ]
    }
   ],
   "source": [
    "!ls ../figures"
   ]
  },
  {
   "cell_type": "code",
   "execution_count": null,
   "metadata": {
    "id": "5YiIY95Riwi9",
    "vscode": {
     "languageId": "python"
    }
   },
   "outputs": [],
   "source": []
  }
 ],
 "metadata": {
  "colab": {
   "include_colab_link": true,
   "name": "sparse_mlp.ipynb",
   "provenance": [],
   "toc_visible": true
  },
  "kernelspec": {
   "display_name": "Python 3",
   "name": "python3"
  }
 },
 "nbformat": 4,
 "nbformat_minor": 0
}
