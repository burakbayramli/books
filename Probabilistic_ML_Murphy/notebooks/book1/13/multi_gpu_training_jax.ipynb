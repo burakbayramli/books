{
 "cells": [
  {
   "cell_type": "markdown",
   "metadata": {},
   "source": [
    "Please find torch implementation of this notebook here: https://colab.research.google.com/github/probml/pyprobml/blob/master/notebooks/book1/13/multi_gpu_training_torch.ipynb"
   ]
  },
  {
   "cell_type": "markdown",
   "metadata": {
    "id": "UeG2yP57tJBX"
   },
   "source": [
    "#Train a CNN on multiple GPUs using data parallelism.\n",
    "\n",
    "Based on sec 12.5 of http://d2l.ai/chapter_computational-performance/multiple-gpus.html.\n",
    "\n",
    "Since writing JAX requires a completely different mindset from that of PyTorch, translating the notebook work-by-word would inevitably lead to JAX code with a PyTorch \"accent\". To avoid that, I created an idiomatic JAX/Flax implementation of multi-device training from scratch. It borrows some code from the official [Parallel Evaluation in JAX](https://jax.readthedocs.io/en/latest/jax-101/06-parallelism.html) notebook (which trains a linear regression model), and follows roughly the same narration as [the original D2L notebook](https://github.com/probml/probml-notebooks/blob/main/notebooks-d2l/multi_gpu_training_torch.ipynb).\n"
   ]
  },
  {
   "cell_type": "code",
   "execution_count": 1,
   "metadata": {
    "id": "mWzcqJYfTnHQ"
   },
   "outputs": [],
   "source": []
  },
  {
   "cell_type": "markdown",
   "metadata": {
    "id": "lw3DOelgaH79"
   },
   "source": [
    "## Preparation\n",
    "\n",
    "Not everyone can enjoy the luxury of a TPU runtime on CoLab, and the GPU runtime only provides one GPU instance, so we are going to stick with a humble CPU runtime to make the notebook more accessible. When JAX is running on CPU, we can emulate an arbitrary number of devices with an XLA flag. Of course, this is for illustration purposes only, and won't make your code run any faster."
   ]
  },
  {
   "cell_type": "code",
   "execution_count": 2,
   "metadata": {
    "id": "Ge96dkA3aJJZ"
   },
   "outputs": [],
   "source": [
    "import os\n",
    "\n",
    "os.environ[\"XLA_FLAGS\"] = \"--xla_force_host_platform_device_count=8\""
   ]
  },
  {
   "cell_type": "code",
   "execution_count": 3,
   "metadata": {
    "id": "9_2hHiscs-cH"
   },
   "outputs": [],
   "source": [
    "import numpy as np\n",
    "import matplotlib.pyplot as plt\n",
    "from IPython import display\n",
    "\n",
    "import jax\n",
    "import jax.numpy as jnp  # JAX NumPy\n",
    "\n",
    "try:\n",
    "    import flax\n",
    "except ModuleNotFoundError:\n",
    "    %pip install -qq flax\n",
    "    import flax\n",
    "from flax import linen as nn  # The Linen API\n",
    "from flax.training import train_state  # Useful dataclass to keep train state\n",
    "\n",
    "try:\n",
    "    import optax  # Optimizers\n",
    "except ModuleNotFoundError:\n",
    "    %pip install -qq optax\n",
    "    import optax  # Optimizers\n",
    "try:\n",
    "    import tensorflow_datasets as tfds  # TFDS for Fashion MNIST\n",
    "except ModuleNotFoundError:\n",
    "    %pip install -qq tensorflow tensorflow_datasets\n",
    "    import tensorflow_datasets as tfds  # TFDS for Fashion MNIST\n",
    "\n",
    "import os\n",
    "import functools\n",
    "from typing import Tuple"
   ]
  },
  {
   "cell_type": "markdown",
   "metadata": {
    "id": "0rtKqT0PirRM"
   },
   "source": [
    "Now we have 8 devices"
   ]
  },
  {
   "cell_type": "code",
   "execution_count": 4,
   "metadata": {
    "colab": {
     "base_uri": "https://localhost:8080/"
    },
    "id": "fDIwkYaHit9A",
    "outputId": "4abc9b9e-e21a-455b-ba52-e23e230460e3"
   },
   "outputs": [
    {
     "name": "stderr",
     "output_type": "stream",
     "text": [
      "WARNING:absl:No GPU/TPU found, falling back to CPU. (Set TF_CPP_MIN_LOG_LEVEL=0 and rerun for more info.)\n"
     ]
    },
    {
     "data": {
      "text/plain": [
       "[CpuDevice(id=0),\n",
       " CpuDevice(id=1),\n",
       " CpuDevice(id=2),\n",
       " CpuDevice(id=3),\n",
       " CpuDevice(id=4),\n",
       " CpuDevice(id=5),\n",
       " CpuDevice(id=6),\n",
       " CpuDevice(id=7)]"
      ]
     },
     "execution_count": 4,
     "metadata": {},
     "output_type": "execute_result"
    }
   ],
   "source": [
    "jax.devices()"
   ]
  },
  {
   "cell_type": "markdown",
   "metadata": {
    "id": "ngd9TmIVuAN6"
   },
   "source": [
    "## Model\n",
    "\n",
    "We use the CNN from the [Flax README](https://github.com/google/flax#what-does-flax-look-like) as a demonstration. Training with multiple device does not require any change to the model, so you can replace it with your favourite network, as long as it outputs a 10-width logit for each input instance."
   ]
  },
  {
   "cell_type": "code",
   "execution_count": 5,
   "metadata": {
    "id": "EgrwcqORtJdL"
   },
   "outputs": [],
   "source": [
    "class CNN(nn.Module):\n",
    "    @nn.compact\n",
    "    def __call__(self, x):\n",
    "        x = nn.Conv(features=32, kernel_size=(3, 3))(x)\n",
    "        x = nn.relu(x)\n",
    "        x = nn.avg_pool(x, window_shape=(2, 2), strides=(2, 2))\n",
    "        x = nn.Conv(features=64, kernel_size=(3, 3))(x)\n",
    "        x = nn.relu(x)\n",
    "        x = nn.avg_pool(x, window_shape=(2, 2), strides=(2, 2))\n",
    "        x = x.reshape((x.shape[0], -1))  # flatten\n",
    "        x = nn.Dense(features=256)(x)\n",
    "        x = nn.relu(x)\n",
    "        x = nn.Dense(features=10)(x)\n",
    "        x = nn.log_softmax(x)\n",
    "        return x"
   ]
  },
  {
   "cell_type": "markdown",
   "metadata": {
    "id": "Gp-2SIaUv_Hh"
   },
   "source": [
    "## Data loading\n",
    "\n",
    "We load the Fashion MNIST dataset with TFDS."
   ]
  },
  {
   "cell_type": "code",
   "execution_count": 6,
   "metadata": {
    "colab": {
     "base_uri": "https://localhost:8080/"
    },
    "id": "ilYJZjkq6C9D",
    "outputId": "99e5e3a0-3e9d-4f4a-a51e-b29b159beca2"
   },
   "outputs": [
    {
     "name": "stdout",
     "output_type": "stream",
     "text": [
      "WARNING:tensorflow:From /usr/local/lib/python3.7/dist-packages/tensorflow_datasets/core/dataset_builder.py:598: get_single_element (from tensorflow.python.data.experimental.ops.get_single_element) is deprecated and will be removed in a future version.\n",
      "Instructions for updating:\n",
      "Use `tf.data.Dataset.get_single_element()`.\n"
     ]
    },
    {
     "name": "stderr",
     "output_type": "stream",
     "text": [
      "WARNING:tensorflow:From /usr/local/lib/python3.7/dist-packages/tensorflow_datasets/core/dataset_builder.py:598: get_single_element (from tensorflow.python.data.experimental.ops.get_single_element) is deprecated and will be removed in a future version.\n",
      "Instructions for updating:\n",
      "Use `tf.data.Dataset.get_single_element()`.\n"
     ]
    }
   ],
   "source": [
    "def get_datasets(split):\n",
    "    \"\"\"Load MNIST train/test dataset into memory.\"\"\"\n",
    "    ds_builder = tfds.builder(\"fashion_mnist\")\n",
    "    ds_builder.download_and_prepare()\n",
    "    ds = tfds.as_numpy(ds_builder.as_dataset(split=split, batch_size=-1))\n",
    "    x = jnp.array(ds[\"image\"] / 255.0)\n",
    "    y = jnp.array(ds[\"label\"])\n",
    "    return x, y\n",
    "\n",
    "\n",
    "train_x, train_y = get_datasets(\"train\")"
   ]
  },
  {
   "cell_type": "markdown",
   "metadata": {
    "id": "AXHKMIT3l9sn"
   },
   "source": [
    "Note that TFDS uses the NHWC format, which mean \"channel\" dimension is the last axis. This is different from the NCHW format used by other data loaders, e.g. `torchvision.datasets.FashionMNIST`."
   ]
  },
  {
   "cell_type": "code",
   "execution_count": 7,
   "metadata": {
    "id": "ZNKQTc7qk-1k"
   },
   "outputs": [],
   "source": [
    "assert train_x.shape == (60000, 28, 28, 1)\n",
    "assert train_y.shape == (60000,)"
   ]
  },
  {
   "cell_type": "markdown",
   "metadata": {
    "id": "hSmaIDbwoVJT"
   },
   "source": [
    "We split the training set into mini-batches of 256 instances, so that each of the 8 devices will handle 32 instances within each batch. Note that the \"total batch size\" must be divisible by the number of devices. However, it is okay if the number of training instances cannot be evenly divided by the total batch size (256). While one can handle the leftover with a bit more work, we skip the incomplete batches for simplicity."
   ]
  },
  {
   "cell_type": "code",
   "execution_count": 8,
   "metadata": {
    "id": "SBiGVDjAqtZq"
   },
   "outputs": [],
   "source": [
    "total_batch_size = 256\n",
    "n_devices = jax.local_device_count()\n",
    "local_batch_size = total_batch_size // n_devices\n",
    "assert local_batch_size * n_devices == total_batch_size\n",
    "\n",
    "device_total = local_batch_size * n_devices\n",
    "train_x = train_x[: len(train_x) // device_total * device_total]\n",
    "train_y = train_y[: len(train_y) // device_total * device_total]\n",
    "\n",
    "train_x = train_x.reshape(-1, local_batch_size, 28, 28, 1)\n",
    "train_y = train_y.reshape(-1, local_batch_size)"
   ]
  },
  {
   "cell_type": "markdown",
   "metadata": {
    "id": "JPF2qz7Xvn0p"
   },
   "source": [
    "We are going to use `jax.pmap`, which requires us to manually distribute data across the devices. More specifically, we need to transform both the images and their labels to the shape `[batch_per_device, num_devices, batch_size, ...]`. That way, the leading dimension of each \"local batch\" will be equal to `num_devices`."
   ]
  },
  {
   "cell_type": "code",
   "execution_count": 9,
   "metadata": {
    "id": "0St4qm0RvhmV"
   },
   "outputs": [],
   "source": [
    "def split(arr):\n",
    "    \"\"\"Splits the first axis of `arr` evenly across the number of devices.\"\"\"\n",
    "    return arr.reshape(arr.shape[0] // n_devices, n_devices, *arr.shape[1:])\n",
    "\n",
    "\n",
    "train_x = split(train_x)\n",
    "train_y = split(train_y)"
   ]
  },
  {
   "cell_type": "markdown",
   "metadata": {
    "id": "mv9sY-CardUL"
   },
   "source": [
    "To clarify, we have 8 devices, each of which will handle 234 local batches of 32 instances."
   ]
  },
  {
   "cell_type": "code",
   "execution_count": 10,
   "metadata": {
    "id": "MH6ZPkK8rV8Q"
   },
   "outputs": [],
   "source": [
    "assert train_x.shape == (234, n_devices, local_batch_size, 28, 28, 1)\n",
    "assert train_y.shape == (234, n_devices, local_batch_size)"
   ]
  },
  {
   "cell_type": "markdown",
   "metadata": {
    "id": "prMQdt8MO8nf"
   },
   "source": [
    "## Parallel training\n",
    "\n",
    "Parallel training with JAX is as simple as decorating the `update` function with `jax.pmap` and synchronising gradients across devices with `jax.lax.pmean`. See the comments for more details."
   ]
  },
  {
   "cell_type": "code",
   "execution_count": 11,
   "metadata": {
    "id": "ki9NdoZiuV1Z"
   },
   "outputs": [],
   "source": [
    "def create_train_state(rng, learning_rate):\n",
    "    \"\"\"Creates initial `TrainState`.\"\"\"\n",
    "    cnn = CNN()\n",
    "    params = cnn.init(rng, jnp.ones((1, 28, 28, 1)))[\"params\"]\n",
    "    tx = optax.adam(learning_rate)\n",
    "    state = train_state.TrainState.create(apply_fn=cnn.apply, params=params, tx=tx)\n",
    "    return state"
   ]
  },
  {
   "cell_type": "code",
   "execution_count": 12,
   "metadata": {
    "id": "TdsnJVL9xa_n"
   },
   "outputs": [],
   "source": [
    "def loss_fn(params, xs, ys):\n",
    "    logits = CNN().apply({\"params\": params}, xs)\n",
    "    one_hot = jax.nn.one_hot(ys, num_classes=10)\n",
    "    loss = jnp.sum(optax.softmax_cross_entropy(logits=logits, labels=one_hot))\n",
    "    return loss"
   ]
  },
  {
   "cell_type": "code",
   "execution_count": 13,
   "metadata": {
    "id": "JCAsxBFGupLs"
   },
   "outputs": [],
   "source": [
    "@functools.partial(jax.pmap, axis_name=\"batch\")\n",
    "def update(\n",
    "    state: train_state.TrainState, xs: jnp.ndarray, ys: jnp.ndarray\n",
    ") -> Tuple[train_state.TrainState, jnp.ndarray]:\n",
    "    \"\"\"Performs one update step on params using the given data.\"\"\"\n",
    "    # Compute the gradients on the given minibatch (individually on each device).\n",
    "    grad_fn = jax.value_and_grad(loss_fn)\n",
    "    loss, grads = grad_fn(state.params, xs, ys)\n",
    "\n",
    "    # Combine the gradient across all devices (by taking their mean).\n",
    "    grads = jax.lax.pmean(grads, axis_name=\"batch\")\n",
    "\n",
    "    # Also combine the loss. Unnecessary for the update, but useful for logging.\n",
    "    loss = jax.lax.pmean(loss, axis_name=\"batch\")\n",
    "\n",
    "    # Each device performs its own update, but since we start with the same params\n",
    "    # and synchronise gradients, the params stay in sync.\n",
    "    state = state.apply_gradients(grads=grads)\n",
    "\n",
    "    return state, loss"
   ]
  },
  {
   "cell_type": "markdown",
   "metadata": {
    "id": "jyELnYufcpaP"
   },
   "source": [
    "We are *summing* the gradient within a batch, and *averaging* it across devices. You need to keep this fact in mind when choosing the learning rate."
   ]
  },
  {
   "cell_type": "code",
   "execution_count": 14,
   "metadata": {
    "id": "gC9S-jFKywdq"
   },
   "outputs": [],
   "source": [
    "# Initialise parameters\n",
    "rng = jax.random.PRNGKey(42)\n",
    "rng, init_rng = jax.random.split(rng)\n",
    "learning_rate = 0.2\n",
    "state = create_train_state(init_rng, learning_rate)\n",
    "del init_rng  # Must not be used anymore."
   ]
  },
  {
   "cell_type": "markdown",
   "metadata": {
    "id": "jG99sNIE9gAd"
   },
   "source": [
    "# Learning curve\n",
    "\n",
    "The traing loop mostly stays the same. Note that we need to replicate the parameters across all devices when creating the train state, and remove that extra leading dimension when the training is done."
   ]
  },
  {
   "cell_type": "code",
   "execution_count": 15,
   "metadata": {
    "colab": {
     "base_uri": "https://localhost:8080/"
    },
    "id": "0kSGJgigeIZj",
    "outputId": "503685a3-9d18-41b3-dc55-25750870638d"
   },
   "outputs": [
    {
     "name": "stdout",
     "output_type": "stream",
     "text": [
      "Step   0, loss: 297723.250\n",
      "Step   1, loss: 4534.677\n",
      "Step   2, loss: 3913.025\n",
      "Step   3, loss: 3867.223\n",
      "Step   4, loss: 3580.433\n"
     ]
    }
   ],
   "source": [
    "num_epochs = 5\n",
    "\n",
    "# Replicate across devices.\n",
    "replicated_states = flax.jax_utils.replicate(state)\n",
    "\n",
    "# Actual training loop.\n",
    "losses = []\n",
    "for i in range(num_epochs):\n",
    "    loss = 0\n",
    "    for batch_x, batch_y in zip(train_x, train_y):\n",
    "        # This is where the params and data gets communicated to devices:\n",
    "        replicated_states, batch_loss = update(replicated_states, batch_x, batch_y)\n",
    "\n",
    "        # Note that loss is actually an array of shape [num_devices], with identical\n",
    "        # entries, because each device returns its copy of the loss, so we need\n",
    "        # to unreplicate it.\n",
    "        loss += flax.jax_utils.unreplicate(batch_loss)\n",
    "\n",
    "    losses.append(loss)\n",
    "    print(f\"Step {i:3d}, loss: {loss:.3f}\")\n",
    "\n",
    "state = flax.jax_utils.unreplicate(replicated_states)"
   ]
  },
  {
   "cell_type": "markdown",
   "metadata": {
    "id": "C-NDm-rKhvIW"
   },
   "source": [
    "We ignore the first item in `losses`, which represents the initial loss of the randomly-initalized parameter."
   ]
  },
  {
   "cell_type": "code",
   "execution_count": 16,
   "metadata": {
    "colab": {
     "base_uri": "https://localhost:8080/",
     "height": 297
    },
    "id": "BcM1PW9sVorp",
    "outputId": "a1f324b0-1d23-4a4f-e215-478461d91803"
   },
   "outputs": [
    {
     "data": {
      "text/plain": [
       "Text(0, 0.5, 'Training Loss')"
      ]
     },
     "execution_count": 16,
     "metadata": {},
     "output_type": "execute_result"
    },
    {
     "data": {
      "image/png": "[encoded data removed]",
      "text/plain": [
       "<Figure size 432x288 with 1 Axes>"
      ]
     },
     "metadata": {
      "needs_background": "light"
     },
     "output_type": "display_data"
    }
   ],
   "source": [
    "plt.plot(range(1, num_epochs), losses[1:])\n",
    "plt.xlabel(\"Epoch\")\n",
    "plt.ylabel(\"Training Loss\")"
   ]
  },
  {
   "cell_type": "markdown",
   "metadata": {
    "id": "umMcmhQcS8As"
   },
   "source": [
    "## Evaluation\n",
    "\n",
    "We can evaluate the model on the test set as usual. The performance is not bad given that we only trained for 5 epoches."
   ]
  },
  {
   "cell_type": "code",
   "execution_count": 17,
   "metadata": {
    "id": "HVFD-RGsLR3X"
   },
   "outputs": [],
   "source": [
    "def evaluate(state, xs):\n",
    "    logits = CNN().apply({\"params\": state.params}, xs)\n",
    "    prediction = jnp.argmax(logits, -1)\n",
    "    return prediction"
   ]
  },
  {
   "cell_type": "code",
   "execution_count": 18,
   "metadata": {
    "colab": {
     "base_uri": "https://localhost:8080/"
    },
    "id": "23_1SfaCTbbx",
    "outputId": "5527d321-7cd8-4857-fd94-339d7657b498"
   },
   "outputs": [
    {
     "name": "stdout",
     "output_type": "stream",
     "text": [
      "[4 4 9 9 5 1 0 5 7 4]\n",
      "[4 4 9 7 5 1 0 5 7 4]\n"
     ]
    }
   ],
   "source": [
    "test_x, test_y = get_datasets(\"test\")\n",
    "print(evaluate(state, test_x[:10, :]))\n",
    "print(test_y[:10])"
   ]
  },
  {
   "cell_type": "code",
   "execution_count": 19,
   "metadata": {
    "colab": {
     "base_uri": "https://localhost:8080/"
    },
    "id": "XNye7YOFURMK",
    "outputId": "57eb502f-9b4e-460e-cad1-669629492487"
   },
   "outputs": [
    {
     "data": {
      "text/plain": [
       "DeviceArray(0.8086, dtype=float32)"
      ]
     },
     "execution_count": 19,
     "metadata": {},
     "output_type": "execute_result"
    }
   ],
   "source": [
    "np.mean(evaluate(state, test_x) == test_y)"
   ]
  }
 ],
 "metadata": {
  "colab": {
   "collapsed_sections": [],
   "name": "multi_gpu_training_jax.ipynb",
   "provenance": []
  },
  "kernelspec": {
   "display_name": "Python 3",
   "name": "python3"
  },
  "language_info": {
   "name": "python"
  }
 },
 "nbformat": 4,
 "nbformat_minor": 0
}
