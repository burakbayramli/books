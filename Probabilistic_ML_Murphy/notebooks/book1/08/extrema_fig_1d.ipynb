{
 "cells": [
  {
   "cell_type": "code",
   "execution_count": null,
   "id": "ccfb7c57",
   "metadata": {},
   "outputs": [],
   "source": [
    "# Plot local minimum and maximum in 1d\n",
    "\n",
    "# https://nbviewer.jupyter.org/github/entiretydotai/Meetup-Content/blob/master/Neural_Network/7_Optimizers.ipynb\n",
    "\n",
    "\n",
    "import numpy as np\n",
    "import scipy.sparse\n",
    "import matplotlib.pyplot as plt\n",
    "import os\n",
    "from matplotlib import colors as mcolors\n",
    "\n",
    "try:\n",
    "    import probml_utils as pml\n",
    "except ModuleNotFoundError:\n",
    "    %pip install -qq git+https://github.com/probml/probml-utils.git\n",
    "    import probml_utils as pml\n",
    "\n",
    "\n",
    "def f(x):\n",
    "    return x * np.sin(-np.pi * x)\n",
    "\n",
    "\n",
    "a = np.arange(-1, 3, 0.01)\n",
    "plt.annotate(\"local minimum\", xy=(0.7, -0.55), xytext=(0.1, -2.0), arrowprops=dict(facecolor=\"black\"))\n",
    "\n",
    "plt.annotate(\"Global minimum\", xy=(2.5, -2.5), xytext=(0.1, -2.5), arrowprops=dict(facecolor=\"black\"))\n",
    "\n",
    "plt.plot(a, f(a))\n",
    "pml.savefig(\"extrema_fig_1d.pdf\")\n",
    "plt.show()"
   ]
  }
 ],
 "metadata": {},
 "nbformat": 4,
 "nbformat_minor": 5
}
