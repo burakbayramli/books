{
 "cells": [
  {
   "cell_type": "code",
   "execution_count": null,
   "id": "9852a947",
   "metadata": {},
   "outputs": [],
   "source": [
    "import numpy as np\n",
    "import matplotlib.pyplot as plt\n",
    "\n",
    "try:\n",
    "    import probml_utils as pml\n",
    "except ModuleNotFoundError:\n",
    "    %pip install -qq git+https://github.com/probml/probml-utils.git\n",
    "    import probml_utils as pml\n",
    "\n",
    "ts = np.arange(100)\n",
    "tis = np.array([25, 50, 75])\n",
    "lr_list = []\n",
    "lr0 = 1\n",
    "gamma = 0.9\n",
    "for t in ts:\n",
    "    passed_num_thresholds = sum(t > tis)\n",
    "    lr = lr0 * np.power(gamma, passed_num_thresholds)\n",
    "    lr_list.append(lr)\n",
    "\n",
    "plt.figure()\n",
    "plt.plot(lr_list)\n",
    "plt.title(\"piecewise constant\")\n",
    "pml.savefig(\"lr_piecewise_constant.pdf\")\n",
    "plt.show()\n",
    "\n",
    "\n",
    "ts = np.arange(100)\n",
    "lam = 0.999\n",
    "lr0 = 1\n",
    "lr_list = lr0 * np.exp(-lam * ts)\n",
    "\n",
    "plt.figure()\n",
    "plt.plot(lr_list)\n",
    "plt.title(\"exponential decay\")\n",
    "plt.savefig(\"lr_exp_decay.pdf\")\n",
    "plt.show()\n",
    "\n",
    "ts = np.arange(100)\n",
    "alpha = 0.5\n",
    "beta = 1\n",
    "lr0 = 1\n",
    "lr_list = lr0 * np.power(beta * ts + 1, -alpha)\n",
    "\n",
    "plt.figure()\n",
    "plt.plot(lr_list)\n",
    "plt.title(\"polynomial decay\")\n",
    "pml.savefig(\"lr_poly_decay.pdf\")\n",
    "plt.show()"
   ]
  }
 ],
 "metadata": {
  "language_info": {
   "name": "python"
  }
 },
 "nbformat": 4,
 "nbformat_minor": 5
}
