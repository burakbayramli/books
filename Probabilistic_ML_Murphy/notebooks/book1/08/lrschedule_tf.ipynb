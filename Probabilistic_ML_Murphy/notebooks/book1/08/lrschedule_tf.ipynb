{
 "cells": [
  {
   "cell_type": "markdown",
   "metadata": {
    "colab_type": "text",
    "id": "view-in-github"
   },
   "source": [
    "<a href=\"https://colab.research.google.com/github/probml/pyprobml/blob/master/book1/mlp/lrschedule_tf.ipynb\" target=\"_parent\"><img src=\"https://colab.research.google.com/assets/colab-badge.svg\" alt=\"Open In Colab\"/></a>"
   ]
  },
  {
   "cell_type": "markdown",
   "metadata": {
    "id": "DK0_Km7Zj-mN"
   },
   "source": [
    "# Illustrate various learning rate schedules\n",
    "Based on \n",
    "https://github.com/ageron/handson-ml2/blob/master/11_training_deep_neural_networks.ipynb\n"
   ]
  },
  {
   "cell_type": "code",
   "execution_count": 1,
   "metadata": {
    "id": "i_w02PIIkNSd"
   },
   "outputs": [],
   "source": [
    "import numpy as np\n",
    "import matplotlib.pyplot as plt\n",
    "import os\n",
    "\n",
    "try:\n",
    "    import tensorflow\n",
    "except ModuleNotFoundError:\n",
    "    %pip install -qq tensorflow\n",
    "    import tensorflow\n",
    "import tensorflow as tf\n",
    "from tensorflow import keras\n",
    "\n",
    "assert tf.__version__ >= \"2.0\"\n",
    "\n",
    "\n",
    "K = tf.keras.backend"
   ]
  },
  {
   "cell_type": "code",
   "execution_count": 4,
   "metadata": {
    "id": "Qs0gPskvk3gF"
   },
   "outputs": [],
   "source": [
    "def save_fig(fname, *args, **kwargs):\n",
    "    \"\"\"Save current plot window to the figures directory.\"\"\"\n",
    "    if \"PYPROBML\" in os.environ:\n",
    "        root = os.environ[\"PYPROBML\"]\n",
    "        figdir = os.path.join(root, \"figures\")\n",
    "    else:\n",
    "        figdir = \"../figures\"\n",
    "        print(\"cannot find environment variable PYPROBML, writing to {}\".format(figdir))\n",
    "    if not os.path.exists(figdir):\n",
    "        os.mkdir(figdir)\n",
    "    fname_full = os.path.join(figdir, fname)\n",
    "    print(\"saving image to {}\".format(fname_full))\n",
    "    plt.tight_layout()\n",
    "    plt.savefig(fname_full, *args, **kwargs)"
   ]
  },
  {
   "cell_type": "code",
   "execution_count": null,
   "metadata": {
    "id": "kvrxOigmk_QT"
   },
   "outputs": [],
   "source": [
    "(X_train_full, y_train_full), (X_test, y_test) = tf.keras.datasets.fashion_mnist.load_data()\n",
    "X_train_full = X_train_full / 255.0\n",
    "X_test = X_test / 255.0\n",
    "# There are 60k training examples. For speed, we use 10k for training\n",
    "# and 10k for validation.\n",
    "n_train = 1000\n",
    "n_valid = 1000\n",
    "X_valid, X_train = X_train_full[:n_valid], X_train_full[n_valid : n_valid + n_train]\n",
    "y_valid, y_train = y_train_full[:n_valid], y_train_full[n_valid : n_valid + n_train]\n",
    "\n",
    "pixel_means = X_train.mean(axis=0, keepdims=True)\n",
    "pixel_stds = X_train.std(axis=0, keepdims=True)\n",
    "X_train_scaled = (X_train - pixel_means) / pixel_stds\n",
    "X_valid_scaled = (X_valid - pixel_means) / pixel_stds\n",
    "X_test_scaled = (X_test - pixel_means) / pixel_stds"
   ]
  },
  {
   "cell_type": "code",
   "execution_count": 5,
   "metadata": {
    "id": "8TCzm0qjkBhC"
   },
   "outputs": [],
   "source": [
    "n_epochs = 20\n",
    "lr0 = 0.01\n",
    "batch_size = 32\n",
    "n_steps_per_epoch = len(X_train) // batch_size\n",
    "epochs = np.arange(n_epochs)\n",
    "\n",
    "\n",
    "def make_model(lr0=0.01, momentum=0.9):\n",
    "    optimizer = tf.keras.optimizers.SGD(lr=lr0, momentum=momentum)\n",
    "    model = tf.keras.models.Sequential(\n",
    "        [\n",
    "            tf.keras.layers.Flatten(input_shape=[28, 28]),\n",
    "            tf.keras.layers.Dense(300, activation=\"selu\", kernel_initializer=\"lecun_normal\"),\n",
    "            tf.keras.layers.Dense(100, activation=\"selu\", kernel_initializer=\"lecun_normal\"),\n",
    "            tf.keras.layers.Dense(10, activation=\"softmax\"),\n",
    "        ]\n",
    "    )\n",
    "    model.compile(loss=\"sparse_categorical_crossentropy\", optimizer=optimizer, metrics=[\"accuracy\"])\n",
    "    return model\n",
    "\n",
    "\n",
    "# Power scheduling\n",
    "# lr = lr0 / (1+ steps/s)**c\n",
    "# Keras.optimizer.SGD uses power scheduling with c=1 and s=1/decay\n",
    "\n",
    "\n",
    "def power_decay(lr0, s, c=1):\n",
    "    def power_decay_fn(epoch):\n",
    "        return lr0 / (1 + epoch / s) ** c\n",
    "\n",
    "    return power_decay_fn\n",
    "\n",
    "\n",
    "power_schedule = tf.keras.callbacks.LearningRateScheduler(power_decay(lr0=lr0, s=20))\n",
    "\n",
    "# Exponential scheduling\n",
    "# lr = lr0 * 0.1**(epoch / s)\n",
    "\n",
    "\n",
    "def exponential_decay(lr0, s):\n",
    "    def exponential_decay_fn(epoch):\n",
    "        return lr0 * 0.1 ** (epoch / s)\n",
    "\n",
    "    return exponential_decay_fn\n",
    "\n",
    "\n",
    "exponential_schedule = tf.keras.callbacks.LearningRateScheduler(exponential_decay(lr0=lr0, s=20))\n",
    "\n",
    "# Piecewise constant\n",
    "\n",
    "\n",
    "def piecewise_constant(boundaries, values):\n",
    "    boundaries = np.array([0] + boundaries)\n",
    "    values = np.array(values)\n",
    "\n",
    "    def piecewise_constant_fn(epoch):\n",
    "        return values[np.argmax(boundaries > epoch) - 1]\n",
    "\n",
    "    return piecewise_constant_fn\n",
    "\n",
    "\n",
    "piecewise_schedule = tf.keras.callbacks.LearningRateScheduler(piecewise_constant([5, 15], [0.01, 0.005, 0.001]))\n",
    "\n",
    "# Performance scheduling\n",
    "perf_schedule = tf.keras.callbacks.ReduceLROnPlateau(factor=0.5, patience=5)\n",
    "\n",
    "\n",
    "# Make plots\n",
    "schedules = {\n",
    "    \"power\": power_schedule,\n",
    "    \"exp\": exponential_schedule,\n",
    "    \"piecewise\": piecewise_schedule,\n",
    "    \"perf\": perf_schedule,\n",
    "}\n",
    "\n",
    "\n",
    "def ema(y, beta):\n",
    "    \"\"\"Exponentially weighted average.\"\"\"\n",
    "    n = len(y)\n",
    "    zs = np.zeros(n)\n",
    "    z = 0\n",
    "    for i in range(n):\n",
    "        z = beta * z + (1 - beta) * y[i]\n",
    "        zs[i] = z\n",
    "    return zs"
   ]
  },
  {
   "cell_type": "code",
   "execution_count": 6,
   "metadata": {
    "colab": {
     "base_uri": "https://localhost:8080/",
     "height": 1000
    },
    "id": "y81v3tfvkX8e",
    "outputId": "a26ad25f-531b-419d-cfa9-6501c31200eb"
   },
   "outputs": [
    {
     "name": "stdout",
     "output_type": "stream",
     "text": [
      "Epoch 1/20\n",
      "32/32 [==============================] - 1s 9ms/step - loss: nan - accuracy: 0.0888 - val_loss: nan - val_accuracy: 0.1070\n",
      "Epoch 2/20\n",
      "32/32 [==============================] - 0s 5ms/step - loss: nan - accuracy: 0.0988 - val_loss: nan - val_accuracy: 0.1070\n",
      "Epoch 3/20\n",
      "32/32 [==============================] - 0s 5ms/step - loss: nan - accuracy: 0.0793 - val_loss: nan - val_accuracy: 0.1070\n",
      "Epoch 4/20\n",
      "32/32 [==============================] - 0s 5ms/step - loss: nan - accuracy: 0.0859 - val_loss: nan - val_accuracy: 0.1070\n",
      "Epoch 5/20\n",
      "32/32 [==============================] - 0s 5ms/step - loss: nan - accuracy: 0.0871 - val_loss: nan - val_accuracy: 0.1070\n",
      "Epoch 6/20\n",
      "32/32 [==============================] - 0s 5ms/step - loss: nan - accuracy: 0.1002 - val_loss: nan - val_accuracy: 0.1070\n",
      "Epoch 7/20\n",
      "32/32 [==============================] - 0s 5ms/step - loss: nan - accuracy: 0.0805 - val_loss: nan - val_accuracy: 0.1070\n",
      "Epoch 8/20\n",
      "32/32 [==============================] - 0s 5ms/step - loss: nan - accuracy: 0.0891 - val_loss: nan - val_accuracy: 0.1070\n",
      "Epoch 9/20\n",
      "32/32 [==============================] - 0s 5ms/step - loss: nan - accuracy: 0.0920 - val_loss: nan - val_accuracy: 0.1070\n",
      "Epoch 10/20\n",
      "32/32 [==============================] - 0s 5ms/step - loss: nan - accuracy: 0.0893 - val_loss: nan - val_accuracy: 0.1070\n",
      "Epoch 11/20\n",
      "32/32 [==============================] - 0s 5ms/step - loss: nan - accuracy: 0.0915 - val_loss: nan - val_accuracy: 0.1070\n",
      "Epoch 12/20\n",
      "32/32 [==============================] - 0s 5ms/step - loss: nan - accuracy: 0.0835 - val_loss: nan - val_accuracy: 0.1070\n",
      "Epoch 13/20\n",
      "32/32 [==============================] - 0s 5ms/step - loss: nan - accuracy: 0.0927 - val_loss: nan - val_accuracy: 0.1070\n",
      "Epoch 14/20\n",
      "32/32 [==============================] - 0s 5ms/step - loss: nan - accuracy: 0.0819 - val_loss: nan - val_accuracy: 0.1070\n",
      "Epoch 15/20\n",
      "32/32 [==============================] - 0s 5ms/step - loss: nan - accuracy: 0.0815 - val_loss: nan - val_accuracy: 0.1070\n",
      "Epoch 16/20\n",
      "32/32 [==============================] - 0s 5ms/step - loss: nan - accuracy: 0.0876 - val_loss: nan - val_accuracy: 0.1070\n",
      "Epoch 17/20\n",
      "32/32 [==============================] - 0s 5ms/step - loss: nan - accuracy: 0.0868 - val_loss: nan - val_accuracy: 0.1070\n",
      "Epoch 18/20\n",
      "32/32 [==============================] - 0s 5ms/step - loss: nan - accuracy: 0.1015 - val_loss: nan - val_accuracy: 0.1070\n",
      "Epoch 19/20\n",
      "32/32 [==============================] - 0s 5ms/step - loss: nan - accuracy: 0.0919 - val_loss: nan - val_accuracy: 0.1070\n",
      "Epoch 20/20\n",
      "32/32 [==============================] - 0s 5ms/step - loss: nan - accuracy: 0.0914 - val_loss: nan - val_accuracy: 0.1070\n",
      "cannot find environment variable PYPROBML, writing to ../figures\n",
      "saving image to ../figures/lrschedule-power.pdf\n"
     ]
    },
    {
     "data": {
      "image/png": "[encoded data removed]",
      "text/plain": [
       "<Figure size 432x288 with 1 Axes>"
      ]
     },
     "metadata": {
      "needs_background": "light",
      "tags": []
     },
     "output_type": "display_data"
    },
    {
     "name": "stdout",
     "output_type": "stream",
     "text": [
      "Epoch 1/20\n",
      "32/32 [==============================] - 1s 9ms/step - loss: nan - accuracy: 0.0888 - val_loss: nan - val_accuracy: 0.1070\n",
      "Epoch 2/20\n",
      "32/32 [==============================] - 0s 5ms/step - loss: nan - accuracy: 0.0988 - val_loss: nan - val_accuracy: 0.1070\n",
      "Epoch 3/20\n",
      "32/32 [==============================] - 0s 5ms/step - loss: nan - accuracy: 0.0793 - val_loss: nan - val_accuracy: 0.1070\n",
      "Epoch 4/20\n",
      "32/32 [==============================] - 0s 5ms/step - loss: nan - accuracy: 0.0859 - val_loss: nan - val_accuracy: 0.1070\n",
      "Epoch 5/20\n",
      "32/32 [==============================] - 0s 5ms/step - loss: nan - accuracy: 0.0871 - val_loss: nan - val_accuracy: 0.1070\n",
      "Epoch 6/20\n",
      "32/32 [==============================] - 0s 5ms/step - loss: nan - accuracy: 0.1002 - val_loss: nan - val_accuracy: 0.1070\n",
      "Epoch 7/20\n",
      "32/32 [==============================] - 0s 5ms/step - loss: nan - accuracy: 0.0805 - val_loss: nan - val_accuracy: 0.1070\n",
      "Epoch 8/20\n",
      "32/32 [==============================] - 0s 5ms/step - loss: nan - accuracy: 0.0891 - val_loss: nan - val_accuracy: 0.1070\n",
      "Epoch 9/20\n",
      "32/32 [==============================] - 0s 5ms/step - loss: nan - accuracy: 0.0920 - val_loss: nan - val_accuracy: 0.1070\n",
      "Epoch 10/20\n",
      "32/32 [==============================] - 0s 5ms/step - loss: nan - accuracy: 0.0893 - val_loss: nan - val_accuracy: 0.1070\n",
      "Epoch 11/20\n",
      "32/32 [==============================] - 0s 5ms/step - loss: nan - accuracy: 0.0915 - val_loss: nan - val_accuracy: 0.1070\n",
      "Epoch 12/20\n",
      "32/32 [==============================] - 0s 5ms/step - loss: nan - accuracy: 0.0835 - val_loss: nan - val_accuracy: 0.1070\n",
      "Epoch 13/20\n",
      "32/32 [==============================] - 0s 5ms/step - loss: nan - accuracy: 0.0927 - val_loss: nan - val_accuracy: 0.1070\n",
      "Epoch 14/20\n",
      "32/32 [==============================] - 0s 5ms/step - loss: nan - accuracy: 0.0819 - val_loss: nan - val_accuracy: 0.1070\n",
      "Epoch 15/20\n",
      "32/32 [==============================] - 0s 5ms/step - loss: nan - accuracy: 0.0815 - val_loss: nan - val_accuracy: 0.1070\n",
      "Epoch 16/20\n",
      "32/32 [==============================] - 0s 5ms/step - loss: nan - accuracy: 0.0876 - val_loss: nan - val_accuracy: 0.1070\n",
      "Epoch 17/20\n",
      "32/32 [==============================] - 0s 5ms/step - loss: nan - accuracy: 0.0868 - val_loss: nan - val_accuracy: 0.1070\n",
      "Epoch 18/20\n",
      "32/32 [==============================] - 0s 5ms/step - loss: nan - accuracy: 0.1015 - val_loss: nan - val_accuracy: 0.1070\n",
      "Epoch 19/20\n",
      "32/32 [==============================] - 0s 5ms/step - loss: nan - accuracy: 0.0919 - val_loss: nan - val_accuracy: 0.1070\n",
      "Epoch 20/20\n",
      "32/32 [==============================] - 0s 5ms/step - loss: nan - accuracy: 0.0914 - val_loss: nan - val_accuracy: 0.1070\n",
      "cannot find environment variable PYPROBML, writing to ../figures\n",
      "saving image to ../figures/lrschedule-exp.pdf\n"
     ]
    },
    {
     "data": {
      "image/png": "[encoded data removed]",
      "text/plain": [
       "<Figure size 432x288 with 1 Axes>"
      ]
     },
     "metadata": {
      "needs_background": "light",
      "tags": []
     },
     "output_type": "display_data"
    },
    {
     "name": "stdout",
     "output_type": "stream",
     "text": [
      "Epoch 1/20\n",
      "32/32 [==============================] - 1s 9ms/step - loss: nan - accuracy: 0.0888 - val_loss: nan - val_accuracy: 0.1070\n",
      "Epoch 2/20\n",
      "32/32 [==============================] - 0s 5ms/step - loss: nan - accuracy: 0.0988 - val_loss: nan - val_accuracy: 0.1070\n",
      "Epoch 3/20\n",
      "32/32 [==============================] - 0s 5ms/step - loss: nan - accuracy: 0.0793 - val_loss: nan - val_accuracy: 0.1070\n",
      "Epoch 4/20\n",
      "32/32 [==============================] - 0s 5ms/step - loss: nan - accuracy: 0.0859 - val_loss: nan - val_accuracy: 0.1070\n",
      "Epoch 5/20\n",
      "32/32 [==============================] - 0s 5ms/step - loss: nan - accuracy: 0.0871 - val_loss: nan - val_accuracy: 0.1070\n",
      "Epoch 6/20\n",
      "32/32 [==============================] - 0s 5ms/step - loss: nan - accuracy: 0.1002 - val_loss: nan - val_accuracy: 0.1070\n",
      "Epoch 7/20\n",
      "32/32 [==============================] - 0s 5ms/step - loss: nan - accuracy: 0.0805 - val_loss: nan - val_accuracy: 0.1070\n",
      "Epoch 8/20\n",
      "32/32 [==============================] - 0s 5ms/step - loss: nan - accuracy: 0.0891 - val_loss: nan - val_accuracy: 0.1070\n",
      "Epoch 9/20\n",
      "32/32 [==============================] - 0s 5ms/step - loss: nan - accuracy: 0.0920 - val_loss: nan - val_accuracy: 0.1070\n",
      "Epoch 10/20\n",
      "32/32 [==============================] - 0s 5ms/step - loss: nan - accuracy: 0.0893 - val_loss: nan - val_accuracy: 0.1070\n",
      "Epoch 11/20\n",
      "32/32 [==============================] - 0s 5ms/step - loss: nan - accuracy: 0.0915 - val_loss: nan - val_accuracy: 0.1070\n",
      "Epoch 12/20\n",
      "32/32 [==============================] - 0s 5ms/step - loss: nan - accuracy: 0.0835 - val_loss: nan - val_accuracy: 0.1070\n",
      "Epoch 13/20\n",
      "32/32 [==============================] - 0s 5ms/step - loss: nan - accuracy: 0.0927 - val_loss: nan - val_accuracy: 0.1070\n",
      "Epoch 14/20\n",
      "32/32 [==============================] - 0s 5ms/step - loss: nan - accuracy: 0.0819 - val_loss: nan - val_accuracy: 0.1070\n",
      "Epoch 15/20\n",
      "32/32 [==============================] - 0s 5ms/step - loss: nan - accuracy: 0.0815 - val_loss: nan - val_accuracy: 0.1070\n",
      "Epoch 16/20\n",
      "32/32 [==============================] - 0s 5ms/step - loss: nan - accuracy: 0.0876 - val_loss: nan - val_accuracy: 0.1070\n",
      "Epoch 17/20\n",
      "32/32 [==============================] - 0s 5ms/step - loss: nan - accuracy: 0.0868 - val_loss: nan - val_accuracy: 0.1070\n",
      "Epoch 18/20\n",
      "32/32 [==============================] - 0s 5ms/step - loss: nan - accuracy: 0.1015 - val_loss: nan - val_accuracy: 0.1070\n",
      "Epoch 19/20\n",
      "32/32 [==============================] - 0s 5ms/step - loss: nan - accuracy: 0.0919 - val_loss: nan - val_accuracy: 0.1070\n",
      "Epoch 20/20\n",
      "32/32 [==============================] - 0s 5ms/step - loss: nan - accuracy: 0.0914 - val_loss: nan - val_accuracy: 0.1070\n",
      "cannot find environment variable PYPROBML, writing to ../figures\n",
      "saving image to ../figures/lrschedule-piecewise.pdf\n"
     ]
    },
    {
     "data": {
      "image/png": "[encoded data removed]",
      "text/plain": [
       "<Figure size 432x288 with 1 Axes>"
      ]
     },
     "metadata": {
      "needs_background": "light",
      "tags": []
     },
     "output_type": "display_data"
    },
    {
     "name": "stdout",
     "output_type": "stream",
     "text": [
      "Epoch 1/20\n",
      "32/32 [==============================] - 1s 9ms/step - loss: nan - accuracy: 0.0888 - val_loss: nan - val_accuracy: 0.1070\n",
      "Epoch 2/20\n",
      "32/32 [==============================] - 0s 5ms/step - loss: nan - accuracy: 0.0988 - val_loss: nan - val_accuracy: 0.1070\n",
      "Epoch 3/20\n",
      "32/32 [==============================] - 0s 5ms/step - loss: nan - accuracy: 0.0793 - val_loss: nan - val_accuracy: 0.1070\n",
      "Epoch 4/20\n",
      "32/32 [==============================] - 0s 5ms/step - loss: nan - accuracy: 0.0859 - val_loss: nan - val_accuracy: 0.1070\n",
      "Epoch 5/20\n",
      "32/32 [==============================] - 0s 5ms/step - loss: nan - accuracy: 0.0871 - val_loss: nan - val_accuracy: 0.1070\n",
      "Epoch 6/20\n",
      "32/32 [==============================] - 0s 5ms/step - loss: nan - accuracy: 0.1002 - val_loss: nan - val_accuracy: 0.1070\n",
      "Epoch 7/20\n",
      "32/32 [==============================] - 0s 5ms/step - loss: nan - accuracy: 0.0805 - val_loss: nan - val_accuracy: 0.1070\n",
      "Epoch 8/20\n",
      "32/32 [==============================] - 0s 5ms/step - loss: nan - accuracy: 0.0891 - val_loss: nan - val_accuracy: 0.1070\n",
      "Epoch 9/20\n",
      "32/32 [==============================] - 0s 5ms/step - loss: nan - accuracy: 0.0920 - val_loss: nan - val_accuracy: 0.1070\n",
      "Epoch 10/20\n",
      "32/32 [==============================] - 0s 5ms/step - loss: nan - accuracy: 0.0893 - val_loss: nan - val_accuracy: 0.1070\n",
      "Epoch 11/20\n",
      "32/32 [==============================] - 0s 5ms/step - loss: nan - accuracy: 0.0915 - val_loss: nan - val_accuracy: 0.1070\n",
      "Epoch 12/20\n",
      "32/32 [==============================] - 0s 5ms/step - loss: nan - accuracy: 0.0835 - val_loss: nan - val_accuracy: 0.1070\n",
      "Epoch 13/20\n",
      "32/32 [==============================] - 0s 5ms/step - loss: nan - accuracy: 0.0927 - val_loss: nan - val_accuracy: 0.1070\n",
      "Epoch 14/20\n",
      "32/32 [==============================] - 0s 5ms/step - loss: nan - accuracy: 0.0819 - val_loss: nan - val_accuracy: 0.1070\n",
      "Epoch 15/20\n",
      "32/32 [==============================] - 0s 5ms/step - loss: nan - accuracy: 0.0815 - val_loss: nan - val_accuracy: 0.1070\n",
      "Epoch 16/20\n",
      "32/32 [==============================] - 0s 5ms/step - loss: nan - accuracy: 0.0876 - val_loss: nan - val_accuracy: 0.1070\n",
      "Epoch 17/20\n",
      "32/32 [==============================] - 0s 5ms/step - loss: nan - accuracy: 0.0868 - val_loss: nan - val_accuracy: 0.1070\n",
      "Epoch 18/20\n",
      "32/32 [==============================] - 0s 5ms/step - loss: nan - accuracy: 0.1015 - val_loss: nan - val_accuracy: 0.1070\n",
      "Epoch 19/20\n",
      "32/32 [==============================] - 0s 5ms/step - loss: nan - accuracy: 0.0919 - val_loss: nan - val_accuracy: 0.1070\n",
      "Epoch 20/20\n",
      "32/32 [==============================] - 0s 5ms/step - loss: nan - accuracy: 0.0914 - val_loss: nan - val_accuracy: 0.1070\n",
      "cannot find environment variable PYPROBML, writing to ../figures\n",
      "saving image to ../figures/lrschedule-perf.pdf\n"
     ]
    },
    {
     "data": {
      "image/png": "[encoded data removed]",
      "text/plain": [
       "<Figure size 432x288 with 2 Axes>"
      ]
     },
     "metadata": {
      "needs_background": "light",
      "tags": []
     },
     "output_type": "display_data"
    }
   ],
   "source": [
    "for name, lr_scheduler in schedules.items():\n",
    "    tf.random.set_seed(42)\n",
    "    np.random.seed(42)\n",
    "    model = make_model()\n",
    "    history = model.fit(\n",
    "        X_train_scaled, y_train, epochs=n_epochs, validation_data=(X_valid_scaled, y_valid), callbacks=[lr_scheduler]\n",
    "    )\n",
    "    plt.figure()\n",
    "    plt.plot(history.epoch, history.history[\"lr\"], \"o-\")\n",
    "    # plt.axis([0, n_epochs - 1, 0, 0.011])\n",
    "    plt.xlabel(\"Epoch\")\n",
    "    plt.ylabel(\"Learning rate\")\n",
    "    plt.title(name, fontsize=14)\n",
    "    plt.grid(True)\n",
    "\n",
    "    if name == \"perf\":\n",
    "        ax2 = plt.gca().twinx()\n",
    "        hist = history.history[\"val_loss\"]\n",
    "        ax2.plot(history.epoch, hist, \"r^-\")\n",
    "        ax2.set_ylabel(\"Validation Loss\", color=\"r\")\n",
    "        ax2.tick_params(\"y\", colors=\"r\")\n",
    "\n",
    "        # plt.figure()\n",
    "        # plt.plot(history.epoch, ema(hist, 0.95))\n",
    "\n",
    "    fname = \"lrschedule-{}.pdf\".format(name)\n",
    "    save_fig(fname)\n",
    "    plt.show()"
   ]
  },
  {
   "cell_type": "code",
   "execution_count": null,
   "metadata": {
    "id": "lBvcUdDwlHS4"
   },
   "outputs": [],
   "source": []
  },
  {
   "cell_type": "markdown",
   "metadata": {
    "id": "DbnxOURzmR1o"
   },
   "source": [
    "# One-cycle heuristic\n",
    "\n",
    "Illustrate the learning rate finder and 1cycle heuristic from Leslie Smith\n",
    "It is described in this WACV'17 paper (https://arxiv.org/abs/1506.01186)\n",
    "and this  blog post:\n",
    "https://sgugger.github.io/how-do-you-find-a-good-learning-rate.html\n",
    "\n",
    "The code below is modified from \n",
    "[here](https://github.com/ageron/handson-ml2/blob/master/11_training_deep_neural_networks.ipynb)\n",
    "\n",
    "\n",
    "It trains an MLP on FashionMNIST\n"
   ]
  },
  {
   "cell_type": "code",
   "execution_count": 16,
   "metadata": {
    "colab": {
     "base_uri": "https://localhost:8080/",
     "height": 492
    },
    "id": "Z1QAJN7SmgvH",
    "outputId": "a1e6fea7-6a82-43e9-fe8b-d8be7457d25a"
   },
   "outputs": [
    {
     "name": "stdout",
     "output_type": "stream",
     "text": [
      "Epoch 1/5\n",
      "8/8 [==============================] - 0s 27ms/step - loss: nan - accuracy: 0.0870 - val_loss: nan - val_accuracy: 0.1070\n",
      "Epoch 2/5\n",
      "8/8 [==============================] - 0s 9ms/step - loss: nan - accuracy: 0.0870 - val_loss: nan - val_accuracy: 0.1070\n",
      "Epoch 3/5\n",
      "8/8 [==============================] - 0s 10ms/step - loss: nan - accuracy: 0.0870 - val_loss: nan - val_accuracy: 0.1070\n",
      "Epoch 4/5\n",
      "8/8 [==============================] - 0s 9ms/step - loss: nan - accuracy: 0.0870 - val_loss: nan - val_accuracy: 0.1070\n",
      "Epoch 5/5\n",
      "8/8 [==============================] - 0s 10ms/step - loss: nan - accuracy: 0.0870 - val_loss: nan - val_accuracy: 0.1070\n",
      "cannot find environment variable PYPROBML, writing to ../figures\n",
      "saving image to ../figures/lrschedule-onecycle.pdf\n"
     ]
    },
    {
     "data": {
      "image/png": "[encoded data removed]",
      "text/plain": [
       "<Figure size 432x288 with 1 Axes>"
      ]
     },
     "metadata": {
      "needs_background": "light",
      "tags": []
     },
     "output_type": "display_data"
    }
   ],
   "source": [
    "class OneCycleScheduler(keras.callbacks.Callback):\n",
    "    def __init__(self, iterations, max_rate, start_rate=None, last_iterations=None, last_rate=None):\n",
    "        self.iterations = iterations\n",
    "        self.max_rate = max_rate\n",
    "        self.start_rate = start_rate or max_rate / 10\n",
    "        self.last_iterations = last_iterations or iterations // 10 + 1\n",
    "        # self.half_iteration = (iterations - self.last_iterations) // 2\n",
    "        self.half_iteration = self.last_iterations // 2\n",
    "        self.last_rate = last_rate or self.start_rate / 1000\n",
    "        self.iteration = 0\n",
    "        self.rate_hist = []\n",
    "\n",
    "    def _interpolate_broken(self, iter1, iter2, rate1, rate2):\n",
    "        return (rate2 - rate1) * (iter2 - self.iteration) / (iter2 - iter1) + rate1\n",
    "\n",
    "    def _interpolate(self, iter1, iter2, rate1, rate2):\n",
    "        return (rate2 - rate1) * (self.iteration - iter1) / (iter2 - iter1) + rate1\n",
    "\n",
    "    def on_batch_begin(self, batch, logs):\n",
    "        if self.iteration < self.half_iteration:\n",
    "            rate = self._interpolate(0, self.half_iteration, self.start_rate, self.max_rate)\n",
    "        elif self.iteration < 2 * self.half_iteration:\n",
    "            rate = self._interpolate(self.half_iteration, 2 * self.half_iteration, self.max_rate, self.start_rate)\n",
    "        else:\n",
    "            rate = self._interpolate(2 * self.half_iteration, self.iterations, self.start_rate, self.last_rate)\n",
    "            rate = max(rate, self.last_rate)\n",
    "        self.iteration += 1\n",
    "        K.set_value(self.model.optimizer.lr, rate)\n",
    "        self.rate_hist.append(K.get_value(self.model.optimizer.lr))\n",
    "\n",
    "\n",
    "# https://stackoverflow.com/questions/48198031/keras-add-variables-to-progress-bar/48206009#48206009\n",
    "n_epochs = 5\n",
    "n_steps_per_epoch = len(X_train) // batch_size\n",
    "onecycle = OneCycleScheduler(n_steps_per_epoch * n_epochs, max_rate=0.05)\n",
    "history = model.fit(\n",
    "    X_train_scaled,\n",
    "    y_train,\n",
    "    epochs=n_epochs,\n",
    "    batch_size=batch_size,\n",
    "    validation_data=(X_valid_scaled, y_valid),\n",
    "    callbacks=[onecycle],\n",
    ")\n",
    "# lr_hist = history.history[\"lr\"] # only stored by LRScheduler\n",
    "lr_hist = onecycle.rate_hist\n",
    "\n",
    "plt.figure()\n",
    "plt.plot(lr_hist, \"o-\")\n",
    "plt.xlabel(\"Step\")\n",
    "plt.ylabel(\"Learning rate\")\n",
    "plt.title(\"onecycle\", fontsize=14)\n",
    "plt.grid(True)\n",
    "save_fig(\"lrschedule-onecycle.pdf\")\n",
    "plt.show()"
   ]
  },
  {
   "cell_type": "markdown",
   "metadata": {
    "id": "ym5_voi7m4qr"
   },
   "source": [
    "# Loss vs learning rate"
   ]
  },
  {
   "cell_type": "code",
   "execution_count": 17,
   "metadata": {
    "colab": {
     "base_uri": "https://localhost:8080/"
    },
    "id": "lv7D9QhAm6C4",
    "outputId": "3d8afee9-863e-46d5-aa1f-025794d00d88"
   },
   "outputs": [
    {
     "name": "stdout",
     "output_type": "stream",
     "text": [
      "8/8 [==============================] - 0s 4ms/step - loss: nan - accuracy: 0.0902\n"
     ]
    }
   ],
   "source": [
    "class ExponentialLearningRate(keras.callbacks.Callback):\n",
    "    def __init__(self, factor):\n",
    "        self.factor = factor\n",
    "        self.rates = []\n",
    "        self.losses = []\n",
    "\n",
    "    def on_batch_end(self, batch, logs):\n",
    "        self.rates.append(K.get_value(self.model.optimizer.lr))\n",
    "        self.losses.append(logs[\"loss\"])\n",
    "        K.set_value(self.model.optimizer.lr, self.model.optimizer.lr * self.factor)\n",
    "\n",
    "\n",
    "def find_learning_rate(model, X, y, epochs=1, batch_size=32, min_rate=10**-5, max_rate=10):\n",
    "    init_weights = model.get_weights()\n",
    "    iterations = len(X) // batch_size * epochs\n",
    "    factor = np.exp(np.log(max_rate / min_rate) / iterations)\n",
    "    init_lr = K.get_value(model.optimizer.lr)\n",
    "    K.set_value(model.optimizer.lr, min_rate)\n",
    "    exp_lr = ExponentialLearningRate(factor)\n",
    "    history = model.fit(X, y, epochs=epochs, batch_size=batch_size, callbacks=[exp_lr])\n",
    "    K.set_value(model.optimizer.lr, init_lr)\n",
    "    model.set_weights(init_weights)\n",
    "    return exp_lr.rates, exp_lr.losses\n",
    "\n",
    "\n",
    "def plot_lr_vs_loss(rates, losses):\n",
    "    plt.plot(rates, losses)\n",
    "    plt.gca().set_xscale(\"log\")\n",
    "    plt.hlines(min(losses), min(rates), max(rates))\n",
    "    plt.axis([min(rates), max(rates), min(losses), (losses[0] + min(losses)) / 2])\n",
    "    plt.xlabel(\"Learning rate\")\n",
    "    plt.ylabel(\"Loss\")\n",
    "\n",
    "\n",
    "tf.random.set_seed(42)\n",
    "np.random.seed(42)\n",
    "\n",
    "model = keras.models.Sequential(\n",
    "    [\n",
    "        keras.layers.Flatten(input_shape=[28, 28]),\n",
    "        keras.layers.Dense(300, activation=\"elu\"),\n",
    "        keras.layers.Dense(100, activation=\"elu\"),\n",
    "        keras.layers.Dense(10, activation=\"softmax\"),\n",
    "    ]\n",
    ")\n",
    "\"\"\"\n",
    "model = keras.models.Sequential([\n",
    "    keras.layers.Flatten(input_shape=[28, 28]),\n",
    "    keras.layers.Dense(300, activation=\"selu\", kernel_initializer=\"lecun_normal\"),\n",
    "    keras.layers.Dense(100, activation=\"selu\", kernel_initializer=\"lecun_normal\"),\n",
    "    keras.layers.Dense(10, activation=\"softmax\")\n",
    "])\n",
    "\"\"\"\n",
    "model.compile(loss=\"sparse_categorical_crossentropy\", optimizer=keras.optimizers.SGD(lr=1e-3), metrics=[\"accuracy\"])\n",
    "\n",
    "batch_size = 128\n",
    "rates, losses = find_learning_rate(model, X_train_scaled, y_train, epochs=1, batch_size=batch_size)"
   ]
  },
  {
   "cell_type": "code",
   "execution_count": 18,
   "metadata": {
    "colab": {
     "base_uri": "https://localhost:8080/"
    },
    "id": "_YwWO-RFnv6e",
    "outputId": "deb6c516-a932-4962-835b-dc67b2edf91b"
   },
   "outputs": [
    {
     "name": "stdout",
     "output_type": "stream",
     "text": [
      "[1e-05, 7.196856e-05, 0.0005179474, 0.0037275932, 0.026826954, 0.19306974, 1.3894953, 9.999998]\n",
      "[nan, nan, nan, nan, nan, nan, nan, nan]\n"
     ]
    }
   ],
   "source": [
    "print(rates)\n",
    "print(losses)"
   ]
  },
  {
   "cell_type": "code",
   "execution_count": null,
   "metadata": {
    "id": "GmfVEI83nRiQ"
   },
   "outputs": [],
   "source": [
    "plt.figure()\n",
    "plot_lr_vs_loss(rates, losses)\n",
    "save_fig(\"lrfinder-raw.pdf\")\n",
    "plt.show()\n",
    "\n",
    "# https://sites.google.com/site/hardwaremonkey/blog/ewmafilterexmpleusingpandasandpython\n",
    "# x = np.linspace(0, 2 * np.pi, 100)\n",
    "# y = 2 * np.sin(x) + 0.1 * np.random.normal(x)\n",
    "x = rates\n",
    "y = np.array(losses, dtype=np.float64)\n",
    "df = pd.Series(y)\n",
    "filtered = pd.Series.ewm(df, span=10).mean()\n",
    "plt.figure()  # figsize=(10,6))\n",
    "plt.plot(x, y)\n",
    "# plt.plot(x, filtered)\n",
    "plt.gca().set_xscale(\"log\")\n",
    "plt.xlabel(\"Learning rate\")\n",
    "plt.ylabel(\"Loss\")\n",
    "save_fig(\"lrfinder-unfiltered.pdf\")\n",
    "plt.show()\n",
    "\n",
    "plt.figure()  # figsize=(10,6))\n",
    "# plt.plot(x, y)\n",
    "plt.plot(x, filtered)\n",
    "plt.gca().set_xscale(\"log\")\n",
    "plt.xlabel(\"Learning rate\")\n",
    "plt.ylabel(\"Loss\")\n",
    "save_fig(\"lrfinder-filtered.pdf\")\n",
    "plt.show()\n",
    "\n",
    "plt.figure()  # figsize=(10,6))\n",
    "plt.plot(x, y)\n",
    "plt.plot(x, filtered)\n",
    "plt.gca().set_xscale(\"log\")\n",
    "plt.xlabel(\"Learning rate\")\n",
    "plt.ylabel(\"Loss\")\n",
    "save_fig(\"lrfinder-filtered-both.pdf\")\n",
    "plt.show()"
   ]
  }
 ],
 "metadata": {
  "accelerator": "GPU",
  "colab": {
   "authorship_tag": "ABX9TyPO2JlZJrkiLCWprazdHo+i",
   "include_colab_link": true,
   "name": "lrschedule_tf.ipynb",
   "provenance": [],
   "toc_visible": true
  },
  "kernelspec": {
   "display_name": "Python 3 (ipykernel)",
   "language": "python",
   "name": "python3"
  },
  "language_info": {
   "codemirror_mode": {
    "name": "ipython",
    "version": 3
   },
   "file_extension": ".py",
   "mimetype": "text/x-python",
   "name": "python",
   "nbconvert_exporter": "python",
   "pygments_lexer": "ipython3",
   "version": "3.9.7"
  }
 },
 "nbformat": 4,
 "nbformat_minor": 1
}
