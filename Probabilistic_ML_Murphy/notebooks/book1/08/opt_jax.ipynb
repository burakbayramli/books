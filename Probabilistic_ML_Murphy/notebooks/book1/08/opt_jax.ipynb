{
 "nbformat": 4,
 "nbformat_minor": 0,
 "metadata": {
  "colab": {
   "name": "opt_jax.ipynb",
   "provenance": [],
   "toc_visible": true,
   "include_colab_link": true
  },
  "kernelspec": {
   "name": "python3",
   "display_name": "Python 3"
  }
 },
 "cells": [
  {
   "cell_type": "markdown",
   "metadata": {
    "id": "view-in-github",
    "colab_type": "text"
   },
   "source": [
    "<a href=\"https://colab.research.google.com/github/probml/pyprobml/blob/master/book1/supplements/opt_jax.ipynb\" target=\"_parent\"><img src=\"https://colab.research.google.com/assets/colab-badge.svg\" alt=\"Open In Colab\"/></a>"
   ]
  },
  {
   "cell_type": "markdown",
   "metadata": {
    "id": "b520E1nCIBHc"
   },
   "source": [
    "# Optimization (using JAX)\n",
    "\n",
    "In this notebook, we explore various  algorithms\n",
    "for solving optimization problems of the form\n",
    "$$\n",
    "x* = \\arg \\min_{x \\in X} f(x)\n",
    "$$\n",
    "We focus on the case where $f: R^D \\rightarrow R$ is a differentiable function.\n",
    "We make use of the [JAX](https://github.com/google/jax) library for automatic differentiation.\n",
    "\n",
    "Some other possibly useful resources:\n",
    "\n",
    "\n",
    "1.   [Animations of various SGD algorithms in 2d (using PyTorch)](https://nbviewer.jupyter.org/github/entiretydotai/Meetup-Content/blob/master/Neural_Network/7_Optimizers.ipynb)\n",
    "\n",
    "2.   [Tutorial on constrained optimization using JAX](https://medium.com/swlh/solving-optimization-problems-with-jax-98376508bd4f)\n",
    "\n",
    "\n"
   ]
  },
  {
   "cell_type": "code",
   "metadata": {
    "id": "UeuOgABaIENZ"
   },
   "source": [
    "import sklearn\n",
    "import scipy\n",
    "import scipy.optimize\n",
    "import matplotlib.pyplot as plt\n",
    "import warnings\n",
    "\n",
    "warnings.filterwarnings(\"ignore\")\n",
    "import itertools\n",
    "import time\n",
    "from functools import partial\n",
    "import os\n",
    "\n",
    "import numpy as np\n",
    "\n",
    "# np.set_printoptions(precision=3)\n",
    "np.set_printoptions(formatter={\"float\": lambda x: \"{0:0.3f}\".format(x)})"
   ],
   "execution_count": null,
   "outputs": []
  },
  {
   "cell_type": "code",
   "metadata": {
    "id": "TNQHpyKLIx_P",
    "colab": {
     "base_uri": "https://localhost:8080/"
    },
    "outputId": "1de888d0-6696-44fe-d83a-7d708d979244"
   },
   "source": [
    "import jax\n",
    "import jax.numpy as jnp\n",
    "\n",
    "from jax.scipy.special import logsumexp\n",
    "from jax import grad, hessian, jacfwd, jacrev, jit, vmap\n",
    "\n",
    "print(\"jax version {}\".format(jax.__version__))"
   ],
   "execution_count": null,
   "outputs": [
    {
     "output_type": "stream",
     "text": [
      "jax version 0.2.10\n"
     ],
     "name": "stdout"
    }
   ]
  },
  {
   "cell_type": "markdown",
   "metadata": {
    "id": "Br921MsmKQkt"
   },
   "source": [
    "# Fitting a model using sklearn\n",
    "\n",
    "Models in the sklearn library support the `fit` method for parameter estimation. Under the hood, this involves an optimization problem.\n",
    "In this colab, we lift up this hood and replicate the functionality from first principles.\n",
    "\n",
    "As a running example, we will use binary logistic regression on the iris dataset."
   ]
  },
  {
   "cell_type": "code",
   "metadata": {
    "id": "c3fX16J4IoL_",
    "colab": {
     "base_uri": "https://localhost:8080/"
    },
    "outputId": "2719213c-71c8-473a-af30-32f9f82dc049"
   },
   "source": [
    "# Fit the model to a dataset, so we have an \"interesting\" parameter vector to use.\n",
    "\n",
    "import sklearn.datasets\n",
    "from sklearn.model_selection import train_test_split\n",
    "\n",
    "iris = sklearn.datasets.load_iris()\n",
    "X = iris[\"data\"]\n",
    "y = (iris[\"target\"] == 2).astype(np.int)  # 1 if Iris-Virginica, else 0'\n",
    "N, D = X.shape  # 150, 4\n",
    "\n",
    "X_train, X_test, y_train, y_test = train_test_split(X, y, test_size=0.33, random_state=42)\n",
    "\n",
    "from sklearn.linear_model import LogisticRegression\n",
    "\n",
    "# We set C to a large number to turn off regularization.\n",
    "# We don't fit the bias term to simplify the comparison below.\n",
    "log_reg = LogisticRegression(solver=\"lbfgs\", C=1e5, fit_intercept=False)\n",
    "log_reg.fit(X_train, y_train)\n",
    "w_mle_sklearn = jnp.ravel(log_reg.coef_)\n",
    "print(w_mle_sklearn)"
   ],
   "execution_count": null,
   "outputs": [
    {
     "output_type": "stream",
     "text": [
      "[-4.414 -9.111 6.539 12.686]\n"
     ],
     "name": "stdout"
    }
   ]
  },
  {
   "cell_type": "markdown",
   "metadata": {
    "id": "R_HQrexrySmT"
   },
   "source": [
    "# Objectives and their gradients\n",
    "\n",
    "The key input to an optimization algorithm (aka solver) is the objective function and its gradient. As an example, we use negative log likelihood for a binary logistic regression model as the objective. We compute the gradient by hand, and also use JAX's autodiff feature.\n"
   ]
  },
  {
   "cell_type": "markdown",
   "metadata": {
    "id": "-pIgD7iRLUBt"
   },
   "source": [
    "## Manual differentiation <a class=\"anchor\" id=\"AD\"></a>\n",
    "\n",
    "We compute the gradient of the negative log likelihood for binary logistic regression applied to the Iris dataset. "
   ]
  },
  {
   "cell_type": "code",
   "metadata": {
    "id": "iS5AB9NjLZ_i"
   },
   "source": [
    "# Binary cross entropy\n",
    "def BCE_with_logits(logits, targets):\n",
    "    # BCE = -sum_n log(p1)*yn + log(p0)*y0\n",
    "    # p1 = 1/(1+exp(-a)\n",
    "    # log(p1) = log(1) - log(1+exp(-a)) = 0 - logsumexp(0, -a)\n",
    "    N = logits.shape[0]\n",
    "    logits = logits.reshape(N, 1)\n",
    "    logits_plus = jnp.hstack([jnp.zeros((N, 1)), logits])  # e^0=1\n",
    "    logits_minus = jnp.hstack([jnp.zeros((N, 1)), -logits])\n",
    "    logp1 = -logsumexp(logits_minus, axis=1)\n",
    "    logp0 = -logsumexp(logits_plus, axis=1)\n",
    "    logprobs = logp1 * targets + logp0 * (1 - targets)\n",
    "    return -jnp.sum(logprobs) / N\n",
    "\n",
    "\n",
    "def sigmoid(x):\n",
    "    return 0.5 * (jnp.tanh(x / 2.0) + 1)\n",
    "\n",
    "\n",
    "def predict_logit(weights, inputs):\n",
    "    return jnp.dot(inputs, weights)\n",
    "\n",
    "\n",
    "def predict_prob(weights, inputs):\n",
    "    return sigmoid(predict_logit(weights, inputs))\n",
    "\n",
    "\n",
    "def NLL(weights, batch):\n",
    "    X, y = batch\n",
    "    logits = predict_logit(weights, X)\n",
    "    return BCE_with_logits(logits, y)\n",
    "\n",
    "\n",
    "def NLL_grad(weights, batch):\n",
    "    X, y = batch\n",
    "    N = X.shape[0]\n",
    "    mu = predict_prob(weights, X)\n",
    "    g = jnp.sum(jnp.dot(jnp.diag(mu - y), X), axis=0) / N\n",
    "    return g"
   ],
   "execution_count": null,
   "outputs": []
  },
  {
   "cell_type": "code",
   "metadata": {
    "colab": {
     "base_uri": "https://localhost:8080/"
    },
    "id": "Y0nT1ASb86iJ",
    "outputId": "1667e295-a445-4f78-f995-09e43c3d1459"
   },
   "source": [
    "w = w_mle_sklearn\n",
    "y_pred = predict_prob(w, X_test)\n",
    "loss = NLL(w, (X_test, y_test))\n",
    "grad_np = NLL_grad(w, (X_test, y_test))\n",
    "print(\"params {}\".format(w))\n",
    "# print(\"pred {}\".format(y_pred))\n",
    "print(\"loss {}\".format(loss))\n",
    "print(\"grad {}\".format(grad_np))"
   ],
   "execution_count": null,
   "outputs": [
    {
     "output_type": "stream",
     "text": [
      "WARNING:absl:No GPU/TPU found, falling back to CPU. (Set TF_CPP_MIN_LOG_LEVEL=0 and rerun for more info.)\n"
     ],
     "name": "stderr"
    },
    {
     "output_type": "stream",
     "text": [
      "params [-4.414 -9.111 6.539 12.686]\n",
      "loss 0.11824002861976624\n",
      "grad [-0.235 -0.122 -0.198 -0.064]\n"
     ],
     "name": "stdout"
    }
   ]
  },
  {
   "cell_type": "markdown",
   "metadata": {
    "id": "OLyk46HbLhgT"
   },
   "source": [
    "## Automatic differentiation in JAX  <a class=\"anchor\" id=\"AD-jax\"></a>\n",
    "\n",
    "Below we use JAX to compute the gradient of the NLL for binary logistic regression.\n",
    "\n"
   ]
  },
  {
   "cell_type": "code",
   "metadata": {
    "id": "9GkR1yHNLcjU",
    "colab": {
     "base_uri": "https://localhost:8080/"
    },
    "outputId": "ed039872-a514-496e-9ffe-4e0350bd355e"
   },
   "source": [
    "grad_jax = grad(NLL)(w, (X_test, y_test))\n",
    "print(\"grad {}\".format(grad_jax))\n",
    "assert np.allclose(grad_np, grad_jax)"
   ],
   "execution_count": null,
   "outputs": [
    {
     "output_type": "stream",
     "text": [
      "grad [-0.235 -0.122 -0.198 -0.064]\n"
     ],
     "name": "stdout"
    }
   ]
  },
  {
   "cell_type": "markdown",
   "metadata": {
    "id": "8BXji_6BL87s"
   },
   "source": [
    "# Second-order optimization <a class=\"anchor\" id=\"second\"></a>\n",
    "\n",
    "The \"gold standard\" of optimization is second-order methods, that leverage Hessian information. Since the Hessian has O(D^2) parameters, such methods do not scale to high-dimensional problems. However, we can sometimes approximate the Hessian using low-rank or diagonal approximations. Below we illustrate the low-rank BFGS method, and the limited-memory version of BFGS, that uses O(D H) space and O(D^2) time per step, where H is the history length.\n",
    "\n",
    "In general, second-order methods also require exact (rather than noisy) gradients. In the context of ML, this means they are \"full batch\" methods, since computing the exact gradient requires evaluating the loss on all the datapoints. However, for small data problems, this is feasible (and advisable).\n",
    "\n",
    "Below we illustrate how to use LBFGS as in [scipy.optimize](https://docs.scipy.org/doc/scipy/reference/generated/scipy.optimize.minimize.html#scipy.optimize.minimize)\n",
    "                    "
   ]
  },
  {
   "cell_type": "code",
   "metadata": {
    "id": "kkTaK-WZMAGL"
   },
   "source": [
    "import scipy.optimize\n",
    "\n",
    "\n",
    "def training_loss(w):\n",
    "    return NLL(w, (X_train, y_train))\n",
    "\n",
    "\n",
    "def training_grad(w):\n",
    "    return NLL_grad(w, (X_train, y_train))\n",
    "\n",
    "\n",
    "np.random.seed(42)\n",
    "w_init = np.random.randn(D)\n",
    "\n",
    "options = {\"disp\": None, \"maxfun\": 1000, \"maxiter\": 1000}\n",
    "method = \"BFGS\"\n",
    "# The gradient function is specified via the Jacobian keyword\n",
    "w_mle_scipy = scipy.optimize.minimize(training_loss, w_init, jac=training_grad, method=method, options=options).x"
   ],
   "execution_count": null,
   "outputs": []
  },
  {
   "cell_type": "code",
   "metadata": {
    "id": "Sv3sPfeIlfl7",
    "colab": {
     "base_uri": "https://localhost:8080/"
    },
    "outputId": "841c9823-e1d8-4bcd-f687-7780e407dc13"
   },
   "source": [
    "print(\"parameters from sklearn {}\".format(w_mle_sklearn))\n",
    "print(\"parameters from scipy-bfgs {}\".format(w_mle_scipy))\n",
    "assert np.allclose(w_mle_sklearn, w_mle_scipy, atol=1e-1)"
   ],
   "execution_count": null,
   "outputs": [
    {
     "output_type": "stream",
     "text": [
      "parameters from sklearn [-4.414 -9.111 6.539 12.686]\n",
      "parameters from scipy-bfgs [-4.415 -9.115 6.541 12.692]\n"
     ],
     "name": "stdout"
    }
   ]
  },
  {
   "cell_type": "code",
   "metadata": {
    "id": "gUZUCRgHmoyS",
    "colab": {
     "base_uri": "https://localhost:8080/"
    },
    "outputId": "7747abd7-03cc-4272-85f1-e8499c515aef"
   },
   "source": [
    "p_pred_sklearn = predict_prob(w_mle_sklearn, X_test)\n",
    "p_pred_scipy = predict_prob(w_mle_scipy, X_test)\n",
    "print(\"predictions from sklearn\")\n",
    "print(p_pred_sklearn)\n",
    "print(\"predictions from scipy\")\n",
    "print(p_pred_scipy)\n",
    "assert np.allclose(p_pred_sklearn, p_pred_scipy, atol=1e-1)"
   ],
   "execution_count": null,
   "outputs": [
    {
     "output_type": "stream",
     "text": [
      "predictions from sklearn\n",
      "[0.002 0.000 1.000 0.012 0.002 0.000 0.000 0.979 0.740 0.000 0.706 0.000\n",
      " 0.000 0.000 0.000 0.001 1.000 0.000 0.009 1.000 0.000 0.650 0.000 1.000\n",
      " 0.094 0.998 1.000 1.000 0.000 0.000 0.000 0.000 0.000 0.000 0.000 0.998\n",
      " 0.000 0.000 0.000 0.000 0.999 0.000 0.000 0.000 0.000 0.000 0.281 0.909\n",
      " 0.000 0.999]\n",
      "predictions from scipy\n",
      "[0.002 0.000 1.000 0.012 0.002 0.000 0.000 0.979 0.740 0.000 0.706 0.000\n",
      " 0.000 0.000 0.000 0.001 1.000 0.000 0.009 1.000 0.000 0.650 0.000 1.000\n",
      " 0.094 0.998 1.000 1.000 0.000 0.000 0.000 0.000 0.000 0.000 0.000 0.998\n",
      " 0.000 0.000 0.000 0.000 0.999 0.000 0.000 0.000 0.000 0.000 0.281 0.909\n",
      " 0.000 0.999]\n"
     ],
     "name": "stdout"
    }
   ]
  },
  {
   "cell_type": "code",
   "metadata": {
    "id": "g5cLYkceMG7A",
    "colab": {
     "base_uri": "https://localhost:8080/"
    },
    "outputId": "4eacd182-8efa-442f-ec85-eb81c6db024e"
   },
   "source": [
    "# Limited memory version requires that we work with 64bit, since implemented in Fortran.\n",
    "\n",
    "\n",
    "def training_loss_64bit(w):\n",
    "    l = NLL(w, (X_train, y_train))\n",
    "    return np.float64(l)\n",
    "\n",
    "\n",
    "def training_grad_64bit(w):\n",
    "    g = NLL_grad(w, (X_train, y_train))\n",
    "    return np.asarray(g, dtype=np.float64)\n",
    "\n",
    "\n",
    "np.random.seed(42)\n",
    "w_init = np.random.randn(D)\n",
    "\n",
    "memory = 10\n",
    "options = {\"disp\": None, \"maxcor\": memory, \"maxfun\": 1000, \"maxiter\": 1000}\n",
    "# The code also handles bound constraints, hence the name\n",
    "method = \"L-BFGS-B\"\n",
    "# w_mle_scipy = scipy.optimize.minimize(training_loss, w_init, jac=training_grad, method=method).x\n",
    "w_mle_scipy = scipy.optimize.minimize(training_loss_64bit, w_init, jac=training_grad_64bit, method=method).x\n",
    "\n",
    "\n",
    "print(\"parameters from sklearn {}\".format(w_mle_sklearn))\n",
    "print(\"parameters from scipy-lbfgs {}\".format(w_mle_scipy))\n",
    "assert np.allclose(w_mle_sklearn, w_mle_scipy, atol=1e-1)"
   ],
   "execution_count": null,
   "outputs": [
    {
     "output_type": "stream",
     "text": [
      "parameters from sklearn [-4.414 -9.111 6.539 12.686]\n",
      "parameters from scipy-lbfgs [-4.415 -9.114 6.540 12.691]\n"
     ],
     "name": "stdout"
    }
   ]
  },
  {
   "cell_type": "markdown",
   "metadata": {
    "id": "eiZXds_DMj31"
   },
   "source": [
    "# Stochastic gradient descent <a class=\"anchor\" id=\"SGD\"></a>\n",
    "\n",
    "Full batch optimization is too expensive for solving empirical risk minimization problems on large datasets.\n",
    "The standard approach in such settings is to use stochastic gradient desceent (SGD).\n",
    "In this section we  illustrate how to implement SGD. We apply it to a simple convex problem, namely MLE for  logistic regression on the small iris dataset, so we can compare to the exact batch methods we illustrated above.\n"
   ]
  },
  {
   "cell_type": "markdown",
   "metadata": {
    "id": "n86utFUQee3n"
   },
   "source": [
    "## Minibatches\n",
    "\n",
    "We use the [tensorflow datasets](https://colab.research.google.com/github/probml/pyprobml/blob/master/book1/intro/datasets.ipynb) library to make it easy to create streams of minibatches."
   ]
  },
  {
   "cell_type": "code",
   "metadata": {
    "colab": {
     "base_uri": "https://localhost:8080/"
    },
    "id": "2fcr5EQg-3ix",
    "outputId": "c1dfec80-0166-482f-d93a-dc44f20e857f"
   },
   "source": [
    "import tensorflow as tf\n",
    "import tensorflow_datasets as tfds\n",
    "\n",
    "\n",
    "def make_batch_stream(X_train, y_train, batch_size):\n",
    "    dataset = tf.data.Dataset.from_tensor_slices({\"X\": X_train, \"y\": y_train})\n",
    "    batches = dataset.batch(batch_size)\n",
    "    batch_stream = tfds.as_numpy(batches)  # finite iterable of dict of NumPy arrays\n",
    "    N = X_train.shape[0]\n",
    "    nbatches = int(np.floor(N / batch_size))\n",
    "    print(\"{} examples split into {} batches of size {}\".format(N, nbatches, batch_size))\n",
    "    return batch_stream\n",
    "\n",
    "\n",
    "batch_stream = make_batch_stream(X_train, y_train, 20)\n",
    "for epoch in range(2):\n",
    "    print(\"epoch {}\".format(epoch))\n",
    "    for batch in batch_stream:\n",
    "        x, y = batch[\"X\"], batch[\"y\"]\n",
    "        print(x.shape)  # batch size * num features = 4"
   ],
   "execution_count": null,
   "outputs": [
    {
     "output_type": "stream",
     "text": [
      "100 examples split into 5 batches of size 20\n",
      "epoch 0\n",
      "(20, 4)\n",
      "(20, 4)\n",
      "(20, 4)\n",
      "(20, 4)\n",
      "(20, 4)\n",
      "epoch 1\n",
      "(20, 4)\n",
      "(20, 4)\n",
      "(20, 4)\n",
      "(20, 4)\n",
      "(20, 4)\n"
     ],
     "name": "stdout"
    }
   ]
  },
  {
   "cell_type": "markdown",
   "metadata": {
    "id": "DtOeheP-MnB7"
   },
   "source": [
    "## SGD from scratch\n",
    "\n",
    "We show a minimal implementation of SGD using vanilla JAX/ numpy. \n"
   ]
  },
  {
   "cell_type": "code",
   "metadata": {
    "id": "wG9tVufuMTui"
   },
   "source": [
    "def sgd(params, loss_fn, grad_loss_fn, batch_iter, max_epochs, lr):\n",
    "    print_every = max(1, int(0.1 * max_epochs))\n",
    "    for epoch in range(max_epochs):\n",
    "        epoch_loss = 0.0\n",
    "        for batch_dict in batch_iter:\n",
    "            x, y = batch_dict[\"X\"], batch_dict[\"y\"]\n",
    "            batch = (x, y)\n",
    "            batch_grad = grad_loss_fn(params, batch)\n",
    "            params = params - lr * batch_grad\n",
    "            batch_loss = loss_fn(params, batch)  # Average loss within this batch\n",
    "            epoch_loss += batch_loss\n",
    "        if epoch % print_every == 0:\n",
    "            print(\"Epoch {}, batch Loss {}\".format(epoch, batch_loss))\n",
    "    return params"
   ],
   "execution_count": null,
   "outputs": []
  },
  {
   "cell_type": "code",
   "metadata": {
    "id": "5sV3NbjvM6ai",
    "colab": {
     "base_uri": "https://localhost:8080/"
    },
    "outputId": "8abc017b-94ae-4275-c23c-76723c1eca6b"
   },
   "source": [
    "np.random.seed(42)\n",
    "w_init = np.random.randn(D)\n",
    "\n",
    "max_epochs = 5\n",
    "lr = 0.1\n",
    "batch_size = 10\n",
    "batch_stream = make_batch_stream(X_train, y_train, batch_size)\n",
    "w_mle_sgd = sgd(w_init, NLL, NLL_grad, batch_stream, max_epochs, lr)"
   ],
   "execution_count": null,
   "outputs": [
    {
     "output_type": "stream",
     "text": [
      "100 examples split into 10 batches of size 10\n",
      "Epoch 0, batch Loss 0.36490148305892944\n",
      "Epoch 1, batch Loss 0.34500640630722046\n",
      "Epoch 2, batch Loss 0.32851701974868774\n",
      "Epoch 3, batch Loss 0.3143332302570343\n",
      "Epoch 4, batch Loss 0.3018316924571991\n"
     ],
     "name": "stdout"
    }
   ]
  },
  {
   "cell_type": "markdown",
   "metadata": {
    "id": "YZXTyQ91nxOj"
   },
   "source": [
    "## Compare SGD with batch optimization\n",
    "\n",
    "SGD is not a particularly good optimizer, even on this simple convex problem - it converges to a solution that it is quite different to the global MLE. Of course, this could be due to lack of identiability (since the object is convex, but maybe not strongly convex, unless we add some regularziation). But the predicted probabilities also differ substantially. Clearly we will need 'fancier' SGD methods, even for this simple problem.\n",
    "\n"
   ]
  },
  {
   "cell_type": "code",
   "metadata": {
    "id": "R2U9F6-jnDNr",
    "colab": {
     "base_uri": "https://localhost:8080/"
    },
    "outputId": "25bfb524-0e0c-4e4d-b4e6-e9dc07903244"
   },
   "source": [
    "print(\"parameters from sklearn {}\".format(w_mle_sklearn))\n",
    "print(\"parameters from sgd {}\".format(w_mle_sgd))\n",
    "# assert np.allclose(w_mle_sklearn, w_mle_sgd, atol=1e-1)"
   ],
   "execution_count": null,
   "outputs": [
    {
     "output_type": "stream",
     "text": [
      "parameters from sklearn [-4.414 -9.111 6.539 12.686]\n",
      "parameters from sgd [-0.538 -0.827 0.613 1.661]\n"
     ],
     "name": "stdout"
    }
   ]
  },
  {
   "cell_type": "code",
   "metadata": {
    "id": "LhgeSFMEj55_",
    "colab": {
     "base_uri": "https://localhost:8080/",
     "height": 402
    },
    "outputId": "992fa579-f0ec-4e92-a16d-e20288e57aef"
   },
   "source": [
    "p_pred_sklearn = predict_prob(w_mle_sklearn, X_test)\n",
    "p_pred_sgd = predict_prob(w_mle_sgd, X_test)\n",
    "print(\"predictions from sklearn\")\n",
    "print(p_pred_sklearn)\n",
    "print(\"predictions from sgd\")\n",
    "print(p_pred_sgd)\n",
    "assert np.allclose(p_pred_sklearn, p_pred_sgd, atol=1e-1)"
   ],
   "execution_count": null,
   "outputs": [
    {
     "output_type": "stream",
     "text": [
      "predictions from sklearn\n",
      "[0.002 0.000 1.000 0.012 0.002 0.000 0.000 0.979 0.740 0.000 0.706 0.000\n",
      " 0.000 0.000 0.000 0.001 1.000 0.000 0.009 1.000 0.000 0.650 0.000 1.000\n",
      " 0.094 0.998 1.000 1.000 0.000 0.000 0.000 0.000 0.000 0.000 0.000 0.998\n",
      " 0.000 0.000 0.000 0.000 0.999 0.000 0.000 0.000 0.000 0.000 0.281 0.909\n",
      " 0.000 0.999]\n",
      "predictions from sgd\n",
      "[0.327 0.009 0.853 0.407 0.331 0.016 0.260 0.662 0.524 0.275 0.576 0.017\n",
      " 0.009 0.016 0.011 0.359 0.774 0.297 0.386 0.791 0.021 0.558 0.021 0.762\n",
      " 0.463 0.716 0.706 0.756 0.024 0.021 0.011 0.006 0.241 0.017 0.020 0.682\n",
      " 0.302 0.012 0.011 0.006 0.717 0.349 0.311 0.009 0.009 0.266 0.478 0.588\n",
      " 0.267 0.739]\n"
     ],
     "name": "stdout"
    },
    {
     "output_type": "error",
     "ename": "AssertionError",
     "evalue": "ignored",
     "traceback": [
      "\u001b[0;31m---------------------------------------------------------------------------\u001b[0m",
      "\u001b[0;31mAssertionError\u001b[0m                            Traceback (most recent call last)",
      "\u001b[0;32m<ipython-input-28-fcb0fb8cdf54>\u001b[0m in \u001b[0;36m<module>\u001b[0;34m()\u001b[0m\n\u001b[1;32m      6\u001b[0m \u001b[0mprint\u001b[0m\u001b[0;34m(\u001b[0m\u001b[0;34m\"predictions from sgd\"\u001b[0m\u001b[0;34m)\u001b[0m\u001b[0;34m\u001b[0m\u001b[0;34m\u001b[0m\u001b[0m\n\u001b[1;32m      7\u001b[0m \u001b[0mprint\u001b[0m\u001b[0;34m(\u001b[0m\u001b[0mp_pred_sgd\u001b[0m\u001b[0;34m)\u001b[0m\u001b[0;34m\u001b[0m\u001b[0;34m\u001b[0m\u001b[0m\n\u001b[0;32m----> 8\u001b[0;31m \u001b[0;32massert\u001b[0m \u001b[0mnp\u001b[0m\u001b[0;34m.\u001b[0m\u001b[0mallclose\u001b[0m\u001b[0;34m(\u001b[0m\u001b[0mp_pred_sklearn\u001b[0m\u001b[0;34m,\u001b[0m \u001b[0mp_pred_sgd\u001b[0m\u001b[0;34m,\u001b[0m \u001b[0matol\u001b[0m\u001b[0;34m=\u001b[0m\u001b[0;36m1e-1\u001b[0m\u001b[0;34m)\u001b[0m\u001b[0;34m\u001b[0m\u001b[0;34m\u001b[0m\u001b[0m\n\u001b[0m",
      "\u001b[0;31mAssertionError\u001b[0m: "
     ]
    }
   ]
  },
  {
   "cell_type": "markdown",
   "metadata": {
    "id": "NtFGH_OeZUVj"
   },
   "source": [
    "## Using jax.experimental.optimizers\n",
    "\n",
    "JAX has a small optimization library focused on stochastic first-order optimizers. Every optimizer is modeled as an (`init_fun`, `update_fun`, `get_params`) triple of functions. The `init_fun` is used to initialize the optimizer state, which could include things like momentum variables, and the `update_fun` accepts a gradient and an optimizer state to produce a new optimizer state. The `get_params` function extracts the current iterate (i.e. the current parameters) from the optimizer state. The parameters being optimized can be ndarrays or arbitrarily-nested data structures, so you can store your parameters however you’d like.\n",
    "\n",
    "Below we show how to reproduce our numpy code using this library."
   ]
  },
  {
   "cell_type": "code",
   "metadata": {
    "id": "PtBbjnzRM79T"
   },
   "source": [
    "# Version that uses JAX optimization library\n",
    "\n",
    "from jax.experimental import optimizers\n",
    "\n",
    "# @jit\n",
    "def sgd_jax(params, loss_fn, batch_stream, max_epochs, opt_init, opt_update, get_params):\n",
    "    loss_history = []\n",
    "    opt_state = opt_init(params)\n",
    "\n",
    "    # @jit\n",
    "    def update(i, opt_state, batch):\n",
    "        params = get_params(opt_state)\n",
    "        g = grad(loss_fn)(params, batch)\n",
    "        return opt_update(i, g, opt_state)\n",
    "\n",
    "    print_every = max(1, int(0.1 * max_epochs))\n",
    "    total_steps = 0\n",
    "    for epoch in range(max_epochs):\n",
    "        epoch_loss = 0.0\n",
    "        for batch_dict in batch_stream:\n",
    "            X, y = batch_dict[\"X\"], batch_dict[\"y\"]\n",
    "            batch = (X, y)\n",
    "            total_steps += 1\n",
    "            opt_state = update(total_steps, opt_state, batch)\n",
    "        params = get_params(opt_state)\n",
    "        train_loss = np.float(loss_fn(params, batch))\n",
    "        loss_history.append(train_loss)\n",
    "        if epoch % print_every == 0:\n",
    "            print(\"Epoch {}, batch loss {}\".format(epoch, train_loss))\n",
    "    return params, loss_history"
   ],
   "execution_count": null,
   "outputs": []
  },
  {
   "cell_type": "code",
   "metadata": {
    "id": "NCOrHGTvbbfC",
    "colab": {
     "base_uri": "https://localhost:8080/"
    },
    "outputId": "83562836-cc46-4a09-ceb1-3d5307f30c3f"
   },
   "source": [
    "# JAX with constant LR should match our minimal version of SGD\n",
    "\n",
    "schedule = optimizers.constant(step_size=lr)\n",
    "opt_init, opt_update, get_params = optimizers.sgd(step_size=schedule)\n",
    "\n",
    "w_mle_sgd2, history = sgd_jax(w_init, NLL, batch_stream, max_epochs, opt_init, opt_update, get_params)\n",
    "print(w_mle_sgd2)\n",
    "print(history)"
   ],
   "execution_count": null,
   "outputs": [
    {
     "output_type": "stream",
     "text": [
      "Epoch 0, batch loss 0.36490148305892944\n",
      "Epoch 1, batch loss 0.34500643610954285\n",
      "Epoch 2, batch loss 0.32851701974868774\n",
      "Epoch 3, batch loss 0.3143332004547119\n",
      "Epoch 4, batch loss 0.3018316924571991\n",
      "[-0.538 -0.827  0.613  1.661]\n",
      "[0.36490148305892944, 0.34500643610954285, 0.32851701974868774, 0.3143332004547119, 0.3018316924571991]\n"
     ],
     "name": "stdout"
    }
   ]
  }
 ]
}