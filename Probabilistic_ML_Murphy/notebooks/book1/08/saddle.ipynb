{
 "cells": [
  {
   "cell_type": "code",
   "execution_count": null,
   "id": "232c3c0d",
   "metadata": {},
   "outputs": [],
   "source": [
    "# Plot saddle point in 2d\n",
    "# https://nbviewer.jupyter.org/github/entiretydotai/Meetup-Content/blob/master/Neural_Network/7_Optimizers.ipynb\n",
    "\n",
    "\n",
    "import numpy as np\n",
    "import scipy.sparse\n",
    "import matplotlib.pyplot as plt\n",
    "import os\n",
    "from matplotlib import colors as mcolors\n",
    "\n",
    "try:\n",
    "    import probml_utils as pml\n",
    "except ModuleNotFoundError:\n",
    "    %pip install -qq git+https://github.com/probml/probml-utils.git\n",
    "    import probml_utils as pml\n",
    "\n",
    "fig = plt.figure(figsize=(8, 8))\n",
    "ax = fig.gca(projection=\"3d\")\n",
    "X = np.arange(-5, 5, 0.25)\n",
    "Y = np.arange(-5, 5, 0.25)\n",
    "X, Y = np.meshgrid(X, Y)\n",
    "Z = X**2 - Y**2\n",
    "\n",
    "ax.text2D(\n",
    "    0, 0, \"*\", fontdict={\"ha\": \"center\", \"va\": \"center\", \"family\": \"sans-serif\", \"fontweight\": \"bold\", \"fontsize\": 20}\n",
    ")\n",
    "ax.text2D(0, 0.01, \"Saddle Point\", fontdict={\"family\": \"sans-serif\", \"fontweight\": \"bold\"})\n",
    "ax.set_xlabel(\"$X$\")\n",
    "ax.set_ylabel(\"$Y$\")\n",
    "ax.set_zlabel(r\"$Z$\")\n",
    "ax.plot_surface(X, Y, Z)  # color=\"red\");\n",
    "pml.savefig(\"saddle.pdf\")\n",
    "plt.show()"
   ]
  }
 ],
 "metadata": {},
 "nbformat": 4,
 "nbformat_minor": 5
}
