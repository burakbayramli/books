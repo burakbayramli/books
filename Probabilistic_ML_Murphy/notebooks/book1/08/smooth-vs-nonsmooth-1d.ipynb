{
 "cells": [
  {
   "cell_type": "code",
   "execution_count": null,
   "id": "0c6aa80a",
   "metadata": {},
   "outputs": [],
   "source": [
    "import numpy as np\n",
    "import matplotlib.pyplot as plt\n",
    "\n",
    "try:\n",
    "    import probml_utils as pml\n",
    "except ModuleNotFoundError:\n",
    "    %pip install -qq git+https://github.com/probml/probml-utils.git\n",
    "    import probml_utils as pml\n",
    "\n",
    "x = np.linspace(-1, 1, 100)\n",
    "y = np.power(x, 2)\n",
    "plt.figure()\n",
    "plt.plot(x, y, \"-\", lw=3)\n",
    "plt.title(\"Smooth function\")\n",
    "pml.savefig(\"smooth-fn.pdf\")\n",
    "\n",
    "y = np.abs(x)\n",
    "plt.figure()\n",
    "plt.plot(x, y, \"-\", lw=3)\n",
    "plt.title(\"Non-smooth function\")\n",
    "pml.savefig(\"nonsmooth-fn.pdf\")\n",
    "\n",
    "plt.show()"
   ]
  }
 ],
 "metadata": {},
 "nbformat": 4,
 "nbformat_minor": 5
}
