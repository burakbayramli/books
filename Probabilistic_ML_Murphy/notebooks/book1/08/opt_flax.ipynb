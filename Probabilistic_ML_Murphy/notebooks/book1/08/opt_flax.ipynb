{
 "nbformat": 4,
 "nbformat_minor": 0,
 "metadata": {
  "colab": {
   "name": "opt_flax.ipynb",
   "provenance": [],
   "toc_visible": true,
   "include_colab_link": true
  },
  "kernelspec": {
   "name": "python3",
   "display_name": "Python 3"
  }
 },
 "cells": [
  {
   "cell_type": "markdown",
   "metadata": {
    "id": "view-in-github",
    "colab_type": "text"
   },
   "source": [
    "<a href=\"https://colab.research.google.com/github/probml/pyprobml/blob/master/book1/supplements/opt_flax.ipynb\" target=\"_parent\"><img src=\"https://colab.research.google.com/assets/colab-badge.svg\" alt=\"Open In Colab\"/></a>"
   ]
  },
  {
   "cell_type": "markdown",
   "metadata": {
    "id": "b520E1nCIBHc"
   },
   "source": [
    "# Optimization using Flax\n",
    "\n",
    "\n",
    "[Flax](https://colab.research.google.com/giathub/probml/pyprobml/blob/master/book1/mlp/flax_intro.ipynb) is a JAX library for creating deep neural networks. It also has a simple optimization library built in.\n",
    "Below we show how to fit a multi-class logistic regression model using flax. \n",
    "\n",
    "\n"
   ]
  },
  {
   "cell_type": "code",
   "metadata": {
    "id": "UeuOgABaIENZ"
   },
   "source": [
    "import sklearn\n",
    "import scipy\n",
    "import scipy.optimize\n",
    "import matplotlib.pyplot as plt\n",
    "import warnings\n",
    "\n",
    "warnings.filterwarnings(\"ignore\")\n",
    "import itertools\n",
    "import time\n",
    "from functools import partial\n",
    "import os\n",
    "\n",
    "import numpy as np\n",
    "\n",
    "# np.set_printoptions(precision=3)\n",
    "np.set_printoptions(formatter={\"float\": lambda x: \"{0:0.5f}\".format(x)})"
   ],
   "execution_count": null,
   "outputs": []
  },
  {
   "cell_type": "code",
   "metadata": {
    "id": "TNQHpyKLIx_P",
    "colab": {
     "base_uri": "https://localhost:8080/"
    },
    "outputId": "b2e9b02d-bbad-4672-b6d2-8881f558b8b5"
   },
   "source": [
    "import jax\n",
    "import jax.numpy as jnp\n",
    "\n",
    "from jax.scipy.special import logsumexp\n",
    "from jax import grad, hessian, jacfwd, jacrev, jit, vmap\n",
    "\n",
    "print(\"jax version {}\".format(jax.__version__))"
   ],
   "execution_count": null,
   "outputs": [
    {
     "output_type": "stream",
     "text": [
      "jax version 0.2.7\n"
     ],
     "name": "stdout"
    }
   ]
  },
  {
   "cell_type": "markdown",
   "metadata": {
    "id": "RUICitLqjkrR"
   },
   "source": [
    "## Import code"
   ]
  },
  {
   "cell_type": "code",
   "metadata": {
    "id": "HHI0RPrPblpY",
    "colab": {
     "base_uri": "https://localhost:8080/"
    },
    "outputId": "72d1fffb-7252-4681-d83d-1af3b83e3790"
   },
   "source": [
    "# Install Flax at head:\n",
    "!pip install --upgrade -q git+https://github.com/google/flax.git"
   ],
   "execution_count": null,
   "outputs": [
    {
     "output_type": "stream",
     "text": [
      "  Building wheel for flax (setup.py) ... \u001b[?25l\u001b[?25hdone\n"
     ],
     "name": "stdout"
    }
   ]
  },
  {
   "cell_type": "code",
   "metadata": {
    "id": "jyv9ODiCf_aH"
   },
   "source": [
    "import flax\n",
    "from flax.core import freeze, unfreeze\n",
    "from flax import linen as nn\n",
    "from flax import optim\n",
    "\n",
    "from jax.config import config\n",
    "\n",
    "config.enable_omnistaging()  # Linen requires enabling omnistaging"
   ],
   "execution_count": null,
   "outputs": []
  },
  {
   "cell_type": "code",
   "metadata": {
    "colab": {
     "base_uri": "https://localhost:8080/"
    },
    "id": "pBzM5HwiiuM6",
    "outputId": "28028867-9e59-4c2f-df22-17c8a6a3675c"
   },
   "source": [
    "# Book code\n",
    "!git clone https://github.com/probml/pyprobml"
   ],
   "execution_count": null,
   "outputs": [
    {
     "output_type": "stream",
     "text": [
      "Cloning into 'pyprobml'...\n",
      "remote: Enumerating objects: 165, done.\u001b[K\n",
      "remote: Counting objects: 100% (165/165), done.\u001b[K\n",
      "remote: Compressing objects: 100% (113/113), done.\u001b[K\n",
      "remote: Total 5880 (delta 99), reused 89 (delta 51), pack-reused 5715\u001b[K\n",
      "Receiving objects: 100% (5880/5880), 200.88 MiB | 31.76 MiB/s, done.\n",
      "Resolving deltas: 100% (3347/3347), done.\n",
      "Checking out files: 100% (484/484), done.\n"
     ],
     "name": "stdout"
    }
   ]
  },
  {
   "cell_type": "code",
   "metadata": {
    "colab": {
     "base_uri": "https://localhost:8080/"
    },
    "id": "4SMa9njai3Qt",
    "outputId": "2e816ef5-a5d2-4cd8-d8a6-04a334315ca5"
   },
   "source": [
    "import pyprobml.scripts.fit_flax as ff\n",
    "\n",
    "ff.test()"
   ],
   "execution_count": null,
   "outputs": [
    {
     "output_type": "stream",
     "text": [
      "testing fit-flax\n",
      "train step: 0, loss: 2.5385, accuracy: 0.00\n",
      "train step: 1, loss: 2.3316, accuracy: 0.00\n",
      "FrozenDict({\n",
      "    Dense_0: {\n",
      "        bias: DeviceArray([-0.07041515,  0.02852547,  0.02282   ,  0.02621041,\n",
      "                      0.04047536,  0.0282678 ,  0.02441146,  0.0334954 ,\n",
      "                     -0.16449487,  0.03070411], dtype=float32),\n",
      "        kernel: DeviceArray([[-1.3670444e-01,  3.4958541e-02, -7.1266890e-03,\n",
      "                       2.5135964e-02,  2.7813643e-02,  5.0281063e-03,\n",
      "                       2.9270068e-02,  3.3206850e-02,  7.8319311e-03,\n",
      "                      -1.9413888e-02],\n",
      "                     [ 2.3842663e-02, -1.4299959e-02,  6.5577030e-04,\n",
      "                      -6.1702281e-03, -1.8243194e-02, -3.5261810e-03,\n",
      "                      -9.2503726e-03, -7.1800947e-03,  2.8626800e-02,\n",
      "                       5.5447742e-03],\n",
      "                     [ 1.2182933e-01, -1.1020064e-02,  6.6978633e-03,\n",
      "                      -1.8483013e-02,  7.7033639e-03,  1.0741353e-03,\n",
      "                      -1.6080946e-02, -2.6806772e-02, -7.5067461e-02,\n",
      "                       1.0153547e-02],\n",
      "                     [-6.5444291e-02, -1.2274325e-02, -2.4778858e-02,\n",
      "                      -2.5078654e-03, -4.0774703e-02, -2.3661405e-02,\n",
      "                      -3.6602318e-03,  3.6180019e-05,  2.0730698e-01,\n",
      "                      -3.4241520e-02],\n",
      "                     [-8.0969959e-02,  7.9388879e-03,  3.2993864e-02,\n",
      "                       2.8362900e-02,  8.9270771e-03,  3.1862110e-02,\n",
      "                       1.6838670e-02,  3.9151609e-02, -1.4136736e-01,\n",
      "                       5.6262240e-02]], dtype=float32),\n",
      "    },\n",
      "})\n",
      "test passed\n"
     ],
     "name": "stdout"
    }
   ]
  },
  {
   "cell_type": "markdown",
   "metadata": {
    "id": "YWp-tBzfdXHe"
   },
   "source": [
    "Now we show the source code for the fitting function in the file editor on the RHS.\n",
    "\n",
    "\n"
   ]
  },
  {
   "cell_type": "code",
   "metadata": {
    "colab": {
     "base_uri": "https://localhost:8080/",
     "height": 17
    },
    "id": "eT5_wY4SdacY",
    "outputId": "329d4db2-b8c4-462c-8c3b-a87817b50d0c"
   },
   "source": [
    "from google.colab import files\n",
    "\n",
    "files.view(\"pyprobml/scripts/fit_flax.py\")"
   ],
   "execution_count": null,
   "outputs": [
    {
     "output_type": "display_data",
     "data": {
      "application/javascript": [
       "\n",
       "      ((filepath) => {{\n",
       "        if (!google.colab.kernel.accessAllowed) {{\n",
       "          return;\n",
       "        }}\n",
       "        google.colab.files.view(filepath);\n",
       "      }})(\"/content/pyprobml/scripts/fit_flax.py\")"
      ],
      "text/plain": [
       "<IPython.core.display.Javascript object>"
      ]
     },
     "metadata": {
      "tags": []
     }
    }
   ]
  },
  {
   "cell_type": "markdown",
   "metadata": {
    "id": "wHnVMv3zjnt3"
   },
   "source": [
    "## Data\n",
    "\n",
    "We use the [tensorflow datasets](https://colab.research.google.com/github/probml/pyprobml/blob/master/book1/intro/datasets.ipynb) library to make it easy to create minibatches.\n",
    "\n",
    "We switch to the multi-class version of Iris."
   ]
  },
  {
   "cell_type": "code",
   "metadata": {
    "colab": {
     "base_uri": "https://localhost:8080/"
    },
    "id": "0a-tDJOfjIf7",
    "outputId": "2e44c3f8-aace-49e2-9acc-ed8df501e993"
   },
   "source": [
    "import tensorflow as tf\n",
    "import tensorflow_datasets as tfds\n",
    "\n",
    "import sklearn\n",
    "import sklearn.datasets\n",
    "from sklearn.model_selection import train_test_split\n",
    "\n",
    "\n",
    "def get_datasets_iris():\n",
    "    iris = sklearn.datasets.load_iris()\n",
    "    X = iris[\"data\"]\n",
    "    y = iris[\"target\"]\n",
    "    N, D = X.shape  # 150, 4\n",
    "    X_train, X_test, y_train, y_test = train_test_split(X, y, test_size=0.33, random_state=42)\n",
    "    train_data = {\"X\": X_train, \"y\": y_train}\n",
    "    test_data = {\"X\": X_test, \"y\": y_test}\n",
    "    return train_data, test_data\n",
    "\n",
    "\n",
    "def load_dataset_iris(split, batch_size=None):\n",
    "    train_ds, test_ds = get_datasets_iris()\n",
    "    if split == tfds.Split.TRAIN:\n",
    "        ds = tf.data.Dataset.from_tensor_slices({\"X\": train_ds[\"X\"], \"y\": train_ds[\"y\"]})\n",
    "    elif split == tfds.Split.TEST:\n",
    "        ds = tf.data.Dataset.from_tensor_slices({\"X\": test_ds[\"X\"], \"y\": test_ds[\"y\"]})\n",
    "    if batch_size is not None:\n",
    "        ds = ds.shuffle(buffer_size=batch_size)\n",
    "        ds = ds.batch(batch_size)\n",
    "    else:\n",
    "        N = len(train_ds[\"X\"])\n",
    "        ds = ds.batch(N)\n",
    "    ds = ds.prefetch(buffer_size=5)\n",
    "    ds = ds.repeat()  # make infinite stream of data\n",
    "    return iter(tfds.as_numpy(ds))  # python iterator\n",
    "\n",
    "\n",
    "batch_size = 30\n",
    "train_ds = load_dataset_iris(tfds.Split.TRAIN, batch_size)\n",
    "batch = next(train_ds)\n",
    "print(batch[\"X\"].shape)\n",
    "print(batch[\"y\"].shape)\n",
    "\n",
    "test_ds = load_dataset_iris(tfds.Split.TEST, None)  # load full test set\n",
    "batch = next(test_ds)\n",
    "print(batch[\"X\"].shape)\n",
    "print(batch[\"y\"].shape)"
   ],
   "execution_count": null,
   "outputs": [
    {
     "output_type": "stream",
     "text": [
      "(30, 4)\n",
      "(30,)\n",
      "(50, 4)\n",
      "(50,)\n"
     ],
     "name": "stdout"
    }
   ]
  },
  {
   "cell_type": "markdown",
   "metadata": {
    "id": "VrzcCrmsjpi-"
   },
   "source": [
    "## Model"
   ]
  },
  {
   "cell_type": "code",
   "metadata": {
    "id": "P5JQ3iovjqGS"
   },
   "source": [
    "class Model(nn.Module):\n",
    "    nhidden: int\n",
    "    nclasses: int\n",
    "\n",
    "    @nn.compact\n",
    "    def __call__(self, x):\n",
    "        if self.nhidden > 0:\n",
    "            x = nn.Dense(self.nhidden)(x)\n",
    "            x = nn.relu(x)\n",
    "        x = nn.Dense(self.nclasses)(x)\n",
    "        x = nn.log_softmax(x)\n",
    "        return x"
   ],
   "execution_count": null,
   "outputs": []
  },
  {
   "cell_type": "markdown",
   "metadata": {
    "id": "bwuGK8GJjxy_"
   },
   "source": [
    "## Training loop\n"
   ]
  },
  {
   "cell_type": "code",
   "metadata": {
    "colab": {
     "base_uri": "https://localhost:8080/",
     "height": 497
    },
    "id": "fN29jn7XjzG1",
    "outputId": "6bb61444-f4e8-48e4-d0f1-767459a98cf8"
   },
   "source": [
    "from flax import optim\n",
    "\n",
    "make_optimizer = optim.Momentum(learning_rate=0.1, beta=0.9)\n",
    "\n",
    "model = Model(nhidden=0, nclasses=3)  # no hidden units ie logistic regression\n",
    "\n",
    "batch_size = 100  # 30 # full batch training\n",
    "train_ds = load_dataset_iris(tfds.Split.TRAIN, batch_size)\n",
    "test_ds = load_dataset_iris(tfds.Split.TEST, batch_size)\n",
    "\n",
    "rng = jax.random.PRNGKey(0)\n",
    "num_steps = 200\n",
    "\n",
    "\n",
    "params, history = ff.fit_model(model, rng, num_steps, train_ds, test_ds, print_every=20)\n",
    "\n",
    "display(history)"
   ],
   "execution_count": null,
   "outputs": [
    {
     "output_type": "stream",
     "text": [
      "train step: 0, loss: 4.2830, accuracy: 0.35\n",
      "train step: 20, loss: 0.9130, accuracy: 0.65\n",
      "train step: 40, loss: 0.1380, accuracy: 0.96\n",
      "train step: 60, loss: 0.1236, accuracy: 0.96\n",
      "train step: 80, loss: 0.1094, accuracy: 0.98\n",
      "train step: 100, loss: 0.1041, accuracy: 0.98\n",
      "train step: 120, loss: 0.1002, accuracy: 0.98\n",
      "train step: 140, loss: 0.0969, accuracy: 0.98\n",
      "train step: 160, loss: 0.0942, accuracy: 0.99\n",
      "train step: 180, loss: 0.0917, accuracy: 0.99\n"
     ],
     "name": "stdout"
    },
    {
     "output_type": "display_data",
     "data": {
      "text/html": [
       "<div>\n",
       "<style scoped>\n",
       "    .dataframe tbody tr th:only-of-type {\n",
       "        vertical-align: middle;\n",
       "    }\n",
       "\n",
       "    .dataframe tbody tr th {\n",
       "        vertical-align: top;\n",
       "    }\n",
       "\n",
       "    .dataframe thead th {\n",
       "        text-align: right;\n",
       "    }\n",
       "</style>\n",
       "<table border=\"1\" class=\"dataframe\">\n",
       "  <thead>\n",
       "    <tr style=\"text-align: right;\">\n",
       "      <th></th>\n",
       "      <th>train_loss</th>\n",
       "      <th>train_accuracy</th>\n",
       "      <th>test_loss</th>\n",
       "      <th>test_accuracy</th>\n",
       "      <th>step</th>\n",
       "    </tr>\n",
       "  </thead>\n",
       "  <tbody>\n",
       "    <tr>\n",
       "      <th>0</th>\n",
       "      <td>4.2829556</td>\n",
       "      <td>0.35</td>\n",
       "      <td>1.8996174</td>\n",
       "      <td>0.28</td>\n",
       "      <td>0.0</td>\n",
       "    </tr>\n",
       "    <tr>\n",
       "      <th>1</th>\n",
       "      <td>0.9129939</td>\n",
       "      <td>0.65</td>\n",
       "      <td>0.2596313</td>\n",
       "      <td>0.82</td>\n",
       "      <td>20.0</td>\n",
       "    </tr>\n",
       "    <tr>\n",
       "      <th>2</th>\n",
       "      <td>0.13796234</td>\n",
       "      <td>0.96</td>\n",
       "      <td>0.11790658</td>\n",
       "      <td>0.96</td>\n",
       "      <td>40.0</td>\n",
       "    </tr>\n",
       "    <tr>\n",
       "      <th>3</th>\n",
       "      <td>0.123637825</td>\n",
       "      <td>0.96</td>\n",
       "      <td>0.086329155</td>\n",
       "      <td>1.0</td>\n",
       "      <td>60.0</td>\n",
       "    </tr>\n",
       "    <tr>\n",
       "      <th>4</th>\n",
       "      <td>0.109449916</td>\n",
       "      <td>0.97999996</td>\n",
       "      <td>0.089117624</td>\n",
       "      <td>1.0</td>\n",
       "      <td>80.0</td>\n",
       "    </tr>\n",
       "    <tr>\n",
       "      <th>5</th>\n",
       "      <td>0.10408671</td>\n",
       "      <td>0.97999996</td>\n",
       "      <td>0.08658601</td>\n",
       "      <td>1.0</td>\n",
       "      <td>100.0</td>\n",
       "    </tr>\n",
       "    <tr>\n",
       "      <th>6</th>\n",
       "      <td>0.10017303</td>\n",
       "      <td>0.97999996</td>\n",
       "      <td>0.08438768</td>\n",
       "      <td>1.0</td>\n",
       "      <td>120.0</td>\n",
       "    </tr>\n",
       "    <tr>\n",
       "      <th>7</th>\n",
       "      <td>0.09693686</td>\n",
       "      <td>0.97999996</td>\n",
       "      <td>0.0829268</td>\n",
       "      <td>0.97999996</td>\n",
       "      <td>140.0</td>\n",
       "    </tr>\n",
       "    <tr>\n",
       "      <th>8</th>\n",
       "      <td>0.094163276</td>\n",
       "      <td>0.98999995</td>\n",
       "      <td>0.081612006</td>\n",
       "      <td>0.97999996</td>\n",
       "      <td>160.0</td>\n",
       "    </tr>\n",
       "    <tr>\n",
       "      <th>9</th>\n",
       "      <td>0.091744594</td>\n",
       "      <td>0.98999995</td>\n",
       "      <td>0.08027973</td>\n",
       "      <td>0.97999996</td>\n",
       "      <td>180.0</td>\n",
       "    </tr>\n",
       "  </tbody>\n",
       "</table>\n",
       "</div>"
      ],
      "text/plain": [
       "    train_loss train_accuracy    test_loss test_accuracy   step\n",
       "0    4.2829556           0.35    1.8996174          0.28    0.0\n",
       "1    0.9129939           0.65    0.2596313          0.82   20.0\n",
       "2   0.13796234           0.96   0.11790658          0.96   40.0\n",
       "3  0.123637825           0.96  0.086329155           1.0   60.0\n",
       "4  0.109449916     0.97999996  0.089117624           1.0   80.0\n",
       "5   0.10408671     0.97999996   0.08658601           1.0  100.0\n",
       "6   0.10017303     0.97999996   0.08438768           1.0  120.0\n",
       "7   0.09693686     0.97999996    0.0829268    0.97999996  140.0\n",
       "8  0.094163276     0.98999995  0.081612006    0.97999996  160.0\n",
       "9  0.091744594     0.98999995   0.08027973    0.97999996  180.0"
      ]
     },
     "metadata": {
      "tags": []
     }
    }
   ]
  },
  {
   "cell_type": "code",
   "metadata": {
    "colab": {
     "base_uri": "https://localhost:8080/",
     "height": 278
    },
    "id": "-NzU_wMAkut-",
    "outputId": "1f95b91a-4b7e-41a8-a3dc-41e48c54a0aa"
   },
   "source": [
    "plt.figure()\n",
    "plt.plot(history[\"step\"], history[\"test_accuracy\"], \"o-\", label=\"test accuracy\")\n",
    "plt.xlabel(\"num. minibatches\")\n",
    "plt.legend()\n",
    "plt.show()"
   ],
   "execution_count": null,
   "outputs": [
    {
     "output_type": "display_data",
     "data": {
      "image/png": "[encoded data removed]",
      "text/plain": [
       "<Figure size 432x288 with 1 Axes>"
      ]
     },
     "metadata": {
      "tags": [],
      "needs_background": "light"
     }
    }
   ]
  },
  {
   "cell_type": "markdown",
   "metadata": {
    "id": "um91hW0ikzfe"
   },
   "source": [
    "## Compare to sklearn\n"
   ]
  },
  {
   "cell_type": "code",
   "metadata": {
    "colab": {
     "base_uri": "https://localhost:8080/"
    },
    "id": "1XPa5V5hk0vd",
    "outputId": "7a319aba-817e-4371-ec72-ed42bb3c1a1c"
   },
   "source": [
    "train_ds, test_ds = get_datasets_iris()\n",
    "from sklearn.linear_model import LogisticRegression\n",
    "\n",
    "# We set C to a large number to turn off regularization.\n",
    "log_reg = LogisticRegression(solver=\"lbfgs\", C=1e3, fit_intercept=True)\n",
    "log_reg.fit(train_ds[\"X\"], train_ds[\"y\"])\n",
    "\n",
    "w_sklearn = np.ravel(log_reg.coef_)\n",
    "print(w_sklearn)\n",
    "b_sklearn = np.ravel(log_reg.intercept_)\n",
    "print(b_sklearn)\n",
    "\n",
    "yprob_sklearn = log_reg.predict_proba(test_ds[\"X\"])\n",
    "print(yprob_sklearn.shape)\n",
    "print(yprob_sklearn[:10, :])\n",
    "\n",
    "\n",
    "ypred_sklearn = jnp.argmax(yprob_sklearn, axis=-1)\n",
    "print(ypred_sklearn.shape)\n",
    "print(ypred_sklearn[:10])"
   ],
   "execution_count": null,
   "outputs": [
    {
     "output_type": "stream",
     "text": [
      "[5.69473 8.89993 -12.90385 -6.59589 -1.40077 1.88896 0.08464 -14.39687\n",
      " -4.29397 -10.78889 12.81921 20.99277]\n",
      "[3.97582 32.52712 -36.50294]\n",
      "(50, 3)\n",
      "[[0.00000 1.00000 0.00000]\n",
      " [1.00000 0.00000 0.00000]\n",
      " [0.00000 0.00000 1.00000]\n",
      " [0.00000 0.99999 0.00000]\n",
      " [0.00001 0.99999 0.00000]\n",
      " [1.00000 0.00000 0.00000]\n",
      " [0.00605 0.99395 0.00000]\n",
      " [0.00000 0.00000 1.00000]\n",
      " [0.00000 0.98867 0.01133]\n",
      " [0.00006 0.99994 0.00000]]\n",
      "(50,)\n",
      "[1 0 2 1 1 0 1 2 1 1]\n"
     ],
     "name": "stdout"
    }
   ]
  },
  {
   "cell_type": "code",
   "metadata": {
    "colab": {
     "base_uri": "https://localhost:8080/"
    },
    "id": "I_QxgKCilBrn",
    "outputId": "8b3918cb-feca-40d7-d4fd-6aa23aea3a99"
   },
   "source": [
    "# Flax version\n",
    "print(params)\n",
    "\n",
    "train_ds, test_ds = get_datasets_iris()\n",
    "Xtest = test_ds[\"X\"]\n",
    "logits = model.apply({\"params\": params}, Xtest)\n",
    "yprob = nn.softmax(logits)\n",
    "print(yprob.shape)\n",
    "print(yprob[:10, :])\n",
    "print(np.allclose(yprob_sklearn, yprob, atol=1e-0))  # very loose numerical tolerance\n",
    "\n",
    "ypred = jnp.argmax(yprob, axis=-1)\n",
    "print(ypred[:10])\n",
    "print(np.allclose(ypred_sklearn, ypred))"
   ],
   "execution_count": null,
   "outputs": [
    {
     "output_type": "stream",
     "text": [
      "FrozenDict({\n",
      "    Dense_0: {\n",
      "        bias: DeviceArray([0.67322, 1.05858, -1.73180], dtype=float32),\n",
      "        kernel: DeviceArray([[1.13125, 0.95521, -2.30099],\n",
      "                     [2.86528, -0.09720, -3.41202],\n",
      "                     [-3.86220, -0.45856, 4.46158],\n",
      "                     [-1.57317, -1.24467, 3.70615]], dtype=float32),\n",
      "    },\n",
      "})\n",
      "(50, 3)\n",
      "[[0.00057 0.94575 0.05368]\n",
      " [0.99750 0.00250 0.00000]\n",
      " [0.00000 0.00014 0.99986]\n",
      " [0.00131 0.91360 0.08509]\n",
      " [0.00045 0.97463 0.02493]\n",
      " [0.99551 0.00449 0.00000]\n",
      " [0.02960 0.96893 0.00147]\n",
      " [0.00008 0.27976 0.72016]\n",
      " [0.00012 0.66911 0.33077]\n",
      " [0.00644 0.98950 0.00406]]\n",
      "True\n",
      "[1 0 2 1 1 0 1 2 1 1]\n",
      "True\n"
     ],
     "name": "stdout"
    }
   ]
  }
 ]
}