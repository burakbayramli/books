{
 "cells": [
  {
   "cell_type": "code",
   "execution_count": null,
   "metadata": {},
   "outputs": [],
   "source": [
    "\n",
    "\n",
    "# feature importance using random forests  on ,mnist\n",
    "# Based on https://github.com/ageron/handson-ml2/blob/master/06_decision_trees.ipynb\n",
    "\n",
    "import jax.numpy as jnp\n",
    "import matplotlib.pyplot as plt\n",
    "import matplotlib as mpl\n",
    "\n",
    "try:\n",
    "    from sklearn.datasets import fetch_openml\n",
    "except ModuleNotFoundError:\n",
    "    %pip install -qq scikit-learn\n",
    "    from sklearn.datasets import fetch_openml\n",
    "from sklearn.ensemble import RandomForestClassifier\n",
    "\n",
    "mnist = fetch_openml('mnist_784', version=1)\n",
    "mnist.target = mnist.target.astype(jnp.uint8)\n",
    "X= mnist[\"data\"]\n",
    "y = mnist[\"target\"]\n",
    "y = jnp.array(y)\n",
    "\n",
    "def plot_digit(data):\n",
    "    image = data.reshape(28, 28)\n",
    "    plt.figure()\n",
    "    plt.imshow(image, cmap = mpl.cm.hot,\n",
    "               interpolation=\"nearest\")\n",
    "    plt.axis(\"off\")\n",
    "    \n",
    "\n",
    "    \n",
    "rnd_clf = RandomForestClassifier(n_estimators=100, random_state=42)\n",
    "ndxA = jnp.where(y==0)[0]\n",
    "ndxB = jnp.where(y==8)[0]\n",
    "ndx = jnp.concatenate((ndxA, ndxB))\n",
    "Xc = X.loc[ndx,:]\n",
    "yc = y[ndx]\n",
    "rnd_clf.fit(Xc, yc)\n",
    "\n",
    "plot_digit(rnd_clf.feature_importances_)\n",
    "cbar = plt.colorbar(ticks=[rnd_clf.feature_importances_.min(), rnd_clf.feature_importances_.max()])\n",
    "cbar.ax.set_yticklabels(['Not important', 'Very important'])\n",
    "plt.savefig(\"figures/rf_feature_importance_mnist.pdf\", dpi=300)\n",
    "#plt.savefig(\"figures/rf_feature_importance_mnist_class{}.pdf\".format(c), dpi=300)\n",
    "plt.show()\n",
    "\n"
   ]
  }
 ],
 "metadata": {
  "kernelspec": {
   "display_name": "Python 3",
   "language": "python",
   "name": "python3"
  },
  "language_info": {
   "codemirror_mode": {
    "name": "ipython",
    "version": 3
   },
   "file_extension": ".py",
   "mimetype": "text/x-python",
   "name": "python",
   "nbconvert_exporter": "python",
   "pygments_lexer": "ipython3",
   "version": "3.7.13"
  }
 },
 "nbformat": 4,
 "nbformat_minor": 4
}
