{
 "cells": [
  {
   "cell_type": "code",
   "execution_count": null,
   "id": "67c73a06",
   "metadata": {},
   "outputs": [],
   "source": [
    "import numpy as np\n",
    "import matplotlib.pyplot as plt\n",
    "\n",
    "try:\n",
    "    import probml_utils as pml\n",
    "except ModuleNotFoundError:\n",
    "    %pip install -qq git+https://github.com/probml/probml-utils.git\n",
    "    import probml_utils as pml\n",
    "\n",
    "from scipy.spatial import KDTree, Voronoi, voronoi_plot_2d\n",
    "\n",
    "np.random.seed(42)\n",
    "data = np.random.rand(25, 2)\n",
    "vor = Voronoi(data)\n",
    "\n",
    "print(\"Using scipy.spatial.voronoi_plot_2d, wait...\")\n",
    "voronoi_plot_2d(vor)\n",
    "xlim = plt.xlim()\n",
    "ylim = plt.ylim()\n",
    "pml.savefig(\"knnVoronoiMesh.pdf\")\n",
    "plt.show()\n",
    "\n",
    "print(\"Using scipy.spatial.KDTree, wait a few seconds...\")\n",
    "plt.figure()\n",
    "tree = KDTree(data)\n",
    "x = np.linspace(xlim[0], xlim[1], 200)\n",
    "y = np.linspace(ylim[0], ylim[1], 200)\n",
    "xx, yy = np.meshgrid(x, y)\n",
    "xy = np.c_[xx.ravel(), yy.ravel()]\n",
    "plt.plot(data[:, 0], data[:, 1], \"ko\")\n",
    "plt.pcolormesh(x, y, tree.query(xy)[1].reshape(200, 200), cmap=\"jet\")\n",
    "pml.savefig(\"knnVoronoiColor.pdf\")\n",
    "plt.show()"
   ]
  }
 ],
 "metadata": {},
 "nbformat": 4,
 "nbformat_minor": 5
}
