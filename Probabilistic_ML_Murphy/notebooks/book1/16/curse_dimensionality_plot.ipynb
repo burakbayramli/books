{
 "cells": [
  {
   "cell_type": "code",
   "execution_count": null,
   "id": "e6f4857f",
   "metadata": {},
   "outputs": [],
   "source": [
    "# Show the curse of dimensionality.\n",
    "\n",
    "\n",
    "import numpy as np\n",
    "import matplotlib.pyplot as plt\n",
    "\n",
    "try:\n",
    "    import probml_utils as pml\n",
    "except ModuleNotFoundError:\n",
    "    %pip install -qq git+https://github.com/probml/probml-utils.git\n",
    "    import probml_utils as pml\n",
    "\n",
    "ds = [1.0, 3.0, 5.0, 7.0, 10.0]\n",
    "s = np.linspace(0, 1, 100)\n",
    "for d in ds:\n",
    "    y = s ** (1 / d)\n",
    "    plt.plot(s, y, \"b-\")\n",
    "    plt.text(0.3, 0.3 ** (1 / d), \"d=%d\" % d)\n",
    "    plt.xlabel(\"Fraction of data in neighborhood\")\n",
    "    plt.ylabel(\"Edge length of cube\")\n",
    "\n",
    "pml.savefig(\"curseDimensionality.pdf\")\n",
    "plt.show()"
   ]
  }
 ],
 "metadata": {},
 "nbformat": 4,
 "nbformat_minor": 5
}
