{
 "cells": [
  {
   "cell_type": "code",
   "execution_count": null,
   "id": "a3966bf2",
   "metadata": {},
   "outputs": [],
   "source": [
    "# Plot resisudal from 1d linear regression\n",
    "# Based on https://github.com/probml/pmtk3/blob/master/demos/linregResiduals.m\n",
    "\n",
    "\n",
    "import numpy as np\n",
    "import matplotlib.pyplot as plt\n",
    "import os\n",
    "\n",
    "try:\n",
    "    import probml_utils as pml\n",
    "except ModuleNotFoundError:\n",
    "    %pip install -qq git+https://github.com/probml/probml-utils.git\n",
    "    import probml_utils as pml\n",
    "\n",
    "np.random.seed(0)\n",
    "N = 21\n",
    "x = np.linspace(0.0, 20, N)\n",
    "X0 = x.reshape(N, 1)\n",
    "X = np.c_[np.ones((N, 1)), X0]\n",
    "w = np.array([-1.5, 1 / 9.0])\n",
    "y = w[0] * x + w[1] * np.square(x)\n",
    "y = y + np.random.normal(0, 1, N) * 2\n",
    "\n",
    "w = np.linalg.lstsq(X, y, rcond=None)[0]\n",
    "# print(w)\n",
    "y_estim = np.dot(X, w)\n",
    "\n",
    "plt.plot(X[:, 1], y, \"o\")\n",
    "plt.plot(X[:, 1], y_estim, \"-\")\n",
    "pml.savefig(\"linregResidualsNoBars.pdf\")\n",
    "plt.show()\n",
    "\n",
    "for x0, y0, y_hat in zip(X[:, 1], y, y_estim):\n",
    "    plt.plot([x0, x0], [y0, y_hat], \"k-\")\n",
    "plt.plot(X[:, 1], y, \"o\")\n",
    "plt.plot(X[:, 1], y_estim, \"-\")\n",
    "plt.plot(X[:, 1], y_estim, \"x\", color=\"r\", markersize=12)\n",
    "pml.savefig(\"linregResidualsBars.pdf\")\n",
    "plt.show()"
   ]
  },
  {
   "cell_type": "code",
   "execution_count": 1,
   "id": "18138e4d",
   "metadata": {},
   "outputs": [],
   "source": [
    "import probml_utils"
   ]
  },
  {
   "cell_type": "code",
   "execution_count": null,
   "id": "fb906b6e",
   "metadata": {},
   "outputs": [],
   "source": []
  }
 ],
 "metadata": {
  "language_info": {
   "name": "python"
  }
 },
 "nbformat": 4,
 "nbformat_minor": 5
}
