{
 "cells": [
  {
   "cell_type": "code",
   "execution_count": null,
   "id": "c8da2e03",
   "metadata": {},
   "outputs": [],
   "source": [
    "# Compute 95% CI for a beta distribution\n",
    "\n",
    "\n",
    "from scipy.stats import beta\n",
    "import numpy as np\n",
    "\n",
    "np.random.seed(42)\n",
    "\n",
    "N1 = 2\n",
    "N0 = 8\n",
    "N = N0 + N1  # Sufficient statistics\n",
    "aprior = 1\n",
    "bprior = 1\n",
    "# prior\n",
    "apost = aprior + N1\n",
    "bpost = bprior + N0  # posterior\n",
    "\n",
    "alpha = 0.05\n",
    "CI1 = beta.interval(1 - alpha, apost, bpost)\n",
    "print(\"{:0.2f}--{:0.2f}\".format(CI1[0], CI1[1]))  # (0.06:0.52)\n",
    "\n",
    "l = beta.ppf(alpha / 2, apost, bpost)\n",
    "u = beta.ppf(1 - alpha / 2, apost, bpost)\n",
    "CI2 = (l, u)\n",
    "print(\"{:0.2f}--{:0.2f}\".format(CI2[0], CI2[1]))  # (0.06:0.52)\n",
    "\n",
    "samples = beta.rvs(apost, bpost, size=1000)\n",
    "samples = np.sort(samples)\n",
    "CI3 = np.percentile(samples, 100 * np.array([alpha / 2, 1 - alpha / 2]))\n",
    "print(\"{:0.2f}--{:0.2f}\".format(CI3[0], CI3[1]))  # (0.06:0.51)"
   ]
  }
 ],
 "metadata": {},
 "nbformat": 4,
 "nbformat_minor": 5
}
