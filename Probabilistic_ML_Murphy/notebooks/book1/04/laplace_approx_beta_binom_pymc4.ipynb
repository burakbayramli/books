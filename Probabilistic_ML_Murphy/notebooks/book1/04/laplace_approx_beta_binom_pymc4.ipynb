{
 "cells": [
  {
   "cell_type": "markdown",
   "id": "29bf9a93",
   "metadata": {},
   "source": [
    "## Pymc"
   ]
  },
  {
   "cell_type": "code",
   "execution_count": 1,
   "id": "cbadfd36",
   "metadata": {},
   "outputs": [],
   "source": [
    "import jax\n",
    "import jax.numpy as jnp\n",
    "from jax import lax\n",
    "import numpy as np\n",
    "import matplotlib.pyplot as plt\n",
    "\n",
    "try:\n",
    "    from tensorflow_probability.substrates import jax as tfp\n",
    "except ModuleNotFoundError:\n",
    "    %pip install -qqq tensorflow_probability\n",
    "    from tensorflow_probability.substrates import jax as tfp\n",
    "\n",
    "dist = tfp.distributions\n",
    "\n",
    "try:\n",
    "    import pymc as pm\n",
    "except ModuleNotFoundError:\n",
    "    %pip install -qq pymc\n",
    "    import pymc as pm\n",
    "\n",
    "# try:\n",
    "#     import pymc3 as pm\n",
    "# except ModuleNotFoundError:\n",
    "#     %pip install -qq pymc3\n",
    "#     import pymc3 as pm\n",
    "\n",
    "try:\n",
    "    import scipy.stats as stats\n",
    "except ModuleNotFoundError:\n",
    "    %pip install -qq scipy\n",
    "    import scipy.stats as stats\n",
    "\n",
    "import scipy.special as sp\n",
    "\n",
    "try:\n",
    "    import arviz as az\n",
    "except ModuleNotFoundError:\n",
    "    %pip install -qq arviz\n",
    "    import arviz as az\n",
    "\n",
    "import math"
   ]
  },
  {
   "cell_type": "code",
   "execution_count": 2,
   "id": "7b6487c1",
   "metadata": {},
   "outputs": [
    {
     "name": "stderr",
     "output_type": "stream",
     "text": [
      "WARNING:absl:No GPU/TPU found, falling back to CPU. (Set TF_CPP_MIN_LOG_LEVEL=0 and rerun for more info.)\n"
     ]
    },
    {
     "name": "stdout",
     "output_type": "stream",
     "text": [
      "Dataset: [0 0 0 0 0 0 0 0 0 0 1]\n"
     ]
    }
   ],
   "source": [
    "# Use same data as https://github.com/probml/probml-notebooks/blob/main/notebooks/beta_binom_approx_post_pymc.ipynb\n",
    "key = jax.random.PRNGKey(128)\n",
    "dataset = np.repeat([0, 1], (10, 1))\n",
    "n_samples = len(dataset)\n",
    "print(f\"Dataset: {dataset}\")\n",
    "n_heads = dataset.sum()\n",
    "n_tails = n_samples - n_heads"
   ]
  },
  {
   "cell_type": "code",
   "execution_count": 3,
   "id": "c04b4e84",
   "metadata": {},
   "outputs": [],
   "source": [
    "# prior distribution ~ Beta\n",
    "def prior_dist():\n",
    "    return dist.Beta(concentration1=1.0, concentration0=1.0)\n",
    "\n",
    "\n",
    "# likelihood distribution ~ Bernoulli\n",
    "def likelihood_dist(theta):\n",
    "    return dist.Bernoulli(probs=theta)"
   ]
  },
  {
   "cell_type": "code",
   "execution_count": 4,
   "id": "6d16a8df",
   "metadata": {},
   "outputs": [
    {
     "data": {
      "image/png": "[encoded data removed]",
      "text/plain": [
       "<Figure size 432x288 with 2 Axes>"
      ]
     },
     "metadata": {
      "needs_background": "light"
     },
     "output_type": "display_data"
    }
   ],
   "source": [
    "# closed form of beta posterior\n",
    "a = prior_dist().concentration1\n",
    "b = prior_dist().concentration0\n",
    "\n",
    "exact_posterior = dist.Beta(concentration1=a + n_heads, concentration0=b + n_tails)\n",
    "\n",
    "theta_range = jnp.linspace(0.01, 0.99, 100)\n",
    "\n",
    "ax = plt.gca()\n",
    "ax2 = ax.twinx()\n",
    "(plt2,) = ax2.plot(theta_range, exact_posterior.prob(theta_range), \"g--\", label=\"True Posterior\")\n",
    "(plt3,) = ax2.plot(theta_range, prior_dist().prob(theta_range), label=\"Prior\")\n",
    "\n",
    "likelihood = jax.vmap(lambda x: jnp.prod(likelihood_dist(x).prob(dataset)))(theta_range)\n",
    "(plt1,) = ax.plot(theta_range, likelihood, \"r-.\", label=\"Likelihood\")\n",
    "\n",
    "ax.set_xlabel(\"theta\")\n",
    "ax.set_ylabel(\"Likelihood\")\n",
    "ax2.set_ylabel(\"Prior & Posterior\")\n",
    "ax2.legend(handles=[plt1, plt2, plt3], bbox_to_anchor=(1.6, 1));"
   ]
  },
  {
   "cell_type": "code",
   "execution_count": null,
   "id": "2bf9afc8",
   "metadata": {},
   "outputs": [],
   "source": []
  },
  {
   "cell_type": "code",
   "execution_count": 10,
   "id": "0022fcbc",
   "metadata": {},
   "outputs": [
    {
     "data": {
      "text/html": [
       "\n",
       "<style>\n",
       "    /* Turns off some styling */\n",
       "    progress {\n",
       "        /* gets rid of default border in Firefox and Opera. */\n",
       "        border: none;\n",
       "        /* Needs to be in here for Safari polyfill so background images work as expected. */\n",
       "        background-size: auto;\n",
       "    }\n",
       "    .progress-bar-interrupted, .progress-bar-interrupted::-webkit-progress-bar {\n",
       "        background: #F44336;\n",
       "    }\n",
       "</style>\n"
      ],
      "text/plain": [
       "<IPython.core.display.HTML object>"
      ]
     },
     "metadata": {},
     "output_type": "display_data"
    },
    {
     "data": {
      "text/html": [
       "\n",
       "    <div>\n",
       "      <progress value='3' class='' max='3' style='width:300px; height:20px; vertical-align: middle;'></progress>\n",
       "      100.00% [3/3 00:00<00:00 logp = -7.6246, ||grad|| = 18]\n",
       "    </div>\n",
       "    "
      ],
      "text/plain": [
       "<IPython.core.display.HTML object>"
      ]
     },
     "metadata": {},
     "output_type": "display_data"
    },
    {
     "name": "stdout",
     "output_type": "stream",
     "text": [
      "\n",
      "[[2.18550173]]\n"
     ]
    },
    {
     "data": {
      "text/plain": [
       "array([[88.80087443]])"
      ]
     },
     "execution_count": 10,
     "metadata": {},
     "output_type": "execute_result"
    }
   ],
   "source": [
    "# Laplace\n",
    "with pm.Model() as normal_aproximation:\n",
    "    theta = pm.Beta(\"theta\", 1.0, 1.0, transform=None)\n",
    "    y = pm.Binomial(\"y\", n=1, p=theta, observed=dataset)  # Bernoulli\n",
    "    mean_q = pm.find_MAP()\n",
    "    std_q = ((1 / pm.find_hessian(mean_q, vars=[theta])) ** 0.5)[0]\n",
    "    print(pm.find_hessian(mean_q, vars=[theta]))\n",
    "    loc = mean_q[\"theta\"]\n",
    "normal_aproximation.compile_d2logp(vars=[theta], jacobian=False)({\"theta\": 0.66})\n",
    "# plt.savefig('bb_laplace.pdf');"
   ]
  },
  {
   "cell_type": "code",
   "execution_count": 11,
   "id": "71772ba9",
   "metadata": {},
   "outputs": [
    {
     "data": {
      "text/plain": [
       "(array(-1.42857143), array([0.67643243]), {'theta': array(-1.42857143)})"
      ]
     },
     "execution_count": 11,
     "metadata": {},
     "output_type": "execute_result"
    }
   ],
   "source": [
    "loc, std_q, mean_q"
   ]
  },
  {
   "cell_type": "code",
   "execution_count": 12,
   "id": "73a0b4f8",
   "metadata": {},
   "outputs": [
    {
     "data": {
      "text/plain": [
       "<matplotlib.legend.Legend at 0x7fbb72cd6750>"
      ]
     },
     "execution_count": 12,
     "metadata": {},
     "output_type": "execute_result"
    },
    {
     "data": {
      "image/png": "[encoded data removed]",
      "text/plain": [
       "<Figure size 432x288 with 1 Axes>"
      ]
     },
     "metadata": {
      "needs_background": "light"
     },
     "output_type": "display_data"
    }
   ],
   "source": [
    "x = theta_range\n",
    "\n",
    "plt.figure()\n",
    "plt.plot(x, stats.norm.pdf(x, loc, std_q), \"--\", label=\"Laplace\")\n",
    "post_exact = stats.beta.pdf(x, n_heads + 1, n_tails + 1)\n",
    "plt.plot(x, post_exact, label=\"exact\")\n",
    "plt.title(\"Quadratic approximation\")\n",
    "plt.xlabel(\"θ\", fontsize=14)\n",
    "plt.yticks([])\n",
    "plt.legend()"
   ]
  },
  {
   "cell_type": "markdown",
   "id": "183d93df",
   "metadata": {},
   "source": [
    "Currently this is not giving right answer, see this issue: https://github.com/pymc-devs/pymc/issues/5443"
   ]
  },
  {
   "cell_type": "code",
   "execution_count": null,
   "id": "aa5d2330",
   "metadata": {},
   "outputs": [],
   "source": []
  }
 ],
 "metadata": {
  "kernelspec": {
   "display_name": "Python [conda env:py3713_2]",
   "language": "python",
   "name": "conda-env-py3713_2-py"
  },
  "language_info": {
   "codemirror_mode": {
    "name": "ipython",
    "version": 3
   },
   "file_extension": ".py",
   "mimetype": "text/x-python",
   "name": "python",
   "nbconvert_exporter": "python",
   "pygments_lexer": "ipython3",
   "version": "3.7.13"
  }
 },
 "nbformat": 4,
 "nbformat_minor": 5
}
