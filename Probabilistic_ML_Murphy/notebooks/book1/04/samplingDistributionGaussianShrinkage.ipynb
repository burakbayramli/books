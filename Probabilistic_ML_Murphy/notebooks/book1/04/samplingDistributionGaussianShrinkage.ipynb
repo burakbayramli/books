{
 "cells": [
  {
   "cell_type": "markdown",
   "metadata": {},
   "source": [
    "# <span style='color:Black'> MAP Estimation (Posterior Mean) </span>"
   ]
  },
  {
   "cell_type": "code",
   "execution_count": 45,
   "metadata": {
    "colab": {
     "base_uri": "https://localhost:8080/"
    },
    "id": "2626ed8d",
    "outputId": "1bb7c4b6-cd38-4cd2-f15a-404839089cba"
   },
   "outputs": [
    {
     "name": "stderr",
     "output_type": "stream",
     "text": [
      "/home/shobro/anaconda3/lib/python3.7/site-packages/probml_utils/plotting.py:26: UserWarning: LATEXIFY environment variable not set, not latexifying\n",
      "  warnings.warn(\"LATEXIFY environment variable not set, not latexifying\")\n"
     ]
    }
   ],
   "source": [
    "import matplotlib.pyplot as plt\n",
    "\n",
    "try:\n",
    "    from probml_utils import savefig, latexify, is_latexify_enabled\n",
    "except ModuleNotFoundError:\n",
    "    %pip install -qq git+https://github.com/probml/probml-utils.git\n",
    "    from probml_utils import savefig, latexify, is_latexify_enabled\n",
    "\n",
    "try:\n",
    "    import tensorflow_probability.substrates.jax as tfp\n",
    "except ModuleNotFoundError:\n",
    "    %pip install -qq tensorflow_probability\n",
    "    import tensorflow_probability.substrates.jax as tfp\n",
    "try:\n",
    "    import jax\n",
    "    import jax.numpy as jnp\n",
    "except ModuleNotFoundError:\n",
    "    %pip install -qq jax\n",
    "    import jax\n",
    "    import jax.numpy as np\n",
    "tfd = tfp.distributions\n",
    "latexify(width_scale_factor=2, fig_height=1.85)"
   ]
  },
  {
   "cell_type": "code",
   "execution_count": 46,
   "metadata": {
    "id": "5RBbzPvRRnQZ"
   },
   "outputs": [],
   "source": [
    "colors = [\"b\", \"r\", \"k\", \"g\", \"c\", \"y\", \"m\", \"r\", \"b\", \"k\", \"g\", \"c\", \"y\", \"m\"]\n",
    "styles = [\"-\", \":\", \"-.\", \"--\", \"-\", \":\", \"-.\", \"--\", \"-\", \":\", \"-.\", \"--\", \"-\", \":\", \"-.\", \"--\"]"
   ]
  },
  {
   "cell_type": "code",
   "execution_count": 47,
   "metadata": {
    "id": "rvFUE6vqkG1o"
   },
   "outputs": [],
   "source": [
    "def gauss_prob(X, mu, Sigma):\n",
    "    dist_normal = tfd.Normal(loc=mu, scale=Sigma)\n",
    "    prob = dist_normal.prob(X)\n",
    "    return prob"
   ]
  },
  {
   "cell_type": "code",
   "execution_count": 48,
   "metadata": {
    "id": "DkKvpjv_hiDi"
   },
   "outputs": [],
   "source": [
    "def plot_posterior_mean(\n",
    "    colors=colors,\n",
    "    styles=styles,\n",
    "    k0=4,\n",
    "    n=5,\n",
    "    save_file_name=\"sampling_distribution_gaussian_shrinkage_latexified\",\n",
    "    fig=None,\n",
    "    ax=None,\n",
    "):\n",
    "    # k0s is an array containing prior strengths over which we will plot the graph.\n",
    "    k0s = jnp.arange(k0)\n",
    "    thetaTrue = 1\n",
    "    sigmaTrue = 1\n",
    "    thetaPrior = 0\n",
    "    xrange = jnp.arange(-1, 2.55, 0.05)\n",
    "    names = []\n",
    "\n",
    "    for ki in range(len(k0s)):\n",
    "        k0 = k0s[ki]\n",
    "        w = n / (n + k0)\n",
    "        v = w**2 * sigmaTrue**2 / n\n",
    "        thetaEst = w * thetaTrue + (1 - w) * thetaPrior\n",
    "        names.append(\"$\\kappa_0 = {0:01d}$\".format(k0s[ki]))\n",
    "        ax.plot(xrange, gauss_prob(xrange, thetaEst, jnp.sqrt(v)), color=colors[ki], linestyle=styles[ki], linewidth=1)\n",
    "    ax.set_title(\"Sampling Distribution\\n truth = {}, prior = {}, n = {}\".format(thetaTrue, thetaPrior, n))\n",
    "    ax.set_xlabel(\"$x$\")\n",
    "    ax.tick_params(axis=\"both\", labelsize=7)\n",
    "    ax.set_ylabel(\"$P(x)\\ (Posterior\\ mean)$\")\n",
    "    ax.legend(names, loc=\"upper left\", fontsize=7)\n",
    "    ax.spines[\"top\"].set_visible(False)\n",
    "    ax.spines[\"right\"].set_visible(False)\n",
    "    ax.get_xaxis().tick_bottom()\n",
    "    ax.get_yaxis().tick_left()\n",
    "    savefig(save_file_name)\n",
    "    return fig, ax"
   ]
  },
  {
   "cell_type": "code",
   "execution_count": 49,
   "metadata": {
    "id": "fKbC_VcPj2OV"
   },
   "outputs": [],
   "source": [
    "def plot_relative_mean(\n",
    "    colors=colors,\n",
    "    styles=styles,\n",
    "    k0=4,\n",
    "    fig=None,\n",
    "    ax=None,\n",
    "    save_file_name=\"sampling_distribution_gaussian_shrinkage_second_latexified\",\n",
    "):\n",
    "    # k0s is an array containing prior strengths over which we will plot the graph.\n",
    "    k0s = jnp.arange(k0)\n",
    "    ns = jnp.arange(1, 50, 2)\n",
    "    mseThetaE = jnp.zeros((len(ns), len(k0s)))\n",
    "    mseThetaB = jnp.zeros((len(ns), len(k0s)))\n",
    "    thetaTrue = 1\n",
    "    sigmaTrue = 1\n",
    "    thetaPrior = 0\n",
    "    names = []\n",
    "    for ki in range(len(k0s)):\n",
    "        k0 = k0s[ki]\n",
    "        ws = ns / (ns + k0)\n",
    "        mseThetaE = mseThetaE.at[:, ki].set(sigmaTrue**2 / ns)\n",
    "        mseThetaB = mseThetaB.at[:, ki].set(\n",
    "            ws**2 * sigmaTrue**2 / ns + (1 - ws) ** 2 * (thetaPrior - thetaTrue) ** 2\n",
    "        )\n",
    "        names.append(\"$\\kappa_0 = {0:01d}$\".format(k0s[ki]))\n",
    "    ratio = mseThetaB / mseThetaE\n",
    "\n",
    "    for ki in range(len(k0s)):\n",
    "        ax.plot(ns, ratio[:, ki], color=colors[ki], linestyle=styles[ki], linewidth=1)\n",
    "    ax.legend(names)\n",
    "    ax.set_ylabel(\"Relative MSE\")\n",
    "    ax.set_xlabel(\"Sample Size\")\n",
    "    ax.set_title(\"MSE of postmean / MSE of MLE\")\n",
    "    ax.spines[\"top\"].set_visible(False)\n",
    "    ax.spines[\"right\"].set_visible(False)\n",
    "    ax.get_xaxis().tick_bottom()\n",
    "    ax.get_yaxis().tick_left()\n",
    "    savefig(save_file_name)\n",
    "    return fig, ax"
   ]
  },
  {
   "cell_type": "code",
   "execution_count": 50,
   "metadata": {
    "colab": {
     "base_uri": "https://localhost:8080/",
     "height": 860
    },
    "id": "qM1c7PmcmTkj",
    "outputId": "f88fd850-839a-4e5c-f6fb-c63bff7d7f79"
   },
   "outputs": [
    {
     "name": "stderr",
     "output_type": "stream",
     "text": [
      "/home/shobro/anaconda3/lib/python3.7/site-packages/probml_utils/plotting.py:79: UserWarning: set FIG_DIR environment variable to save figures\n",
      "  warnings.warn(\"set FIG_DIR environment variable to save figures\")\n",
      "/home/shobro/anaconda3/lib/python3.7/site-packages/probml_utils/plotting.py:79: UserWarning: set FIG_DIR environment variable to save figures\n",
      "  warnings.warn(\"set FIG_DIR environment variable to save figures\")\n"
     ]
    },
    {
     "data": {
      "text/plain": [
       "(<Figure size 432x288 with 1 Axes>,\n",
       " <AxesSubplot:title={'center':'MSE of postmean / MSE of MLE'}, xlabel='Sample Size', ylabel='Relative MSE'>)"
      ]
     },
     "execution_count": 50,
     "metadata": {},
     "output_type": "execute_result"
    },
    {
     "data": {
      "image/png": "[encoded data removed]",
      "text/plain": [
       "<Figure size 432x288 with 1 Axes>"
      ]
     },
     "metadata": {
      "needs_background": "light"
     },
     "output_type": "display_data"
    },
    {
     "data": {
      "image/png": "[encoded data removed]",
      "text/plain": [
       "<Figure size 432x288 with 1 Axes>"
      ]
     },
     "metadata": {
      "needs_background": "light"
     },
     "output_type": "display_data"
    }
   ],
   "source": [
    "fig1, ax1 = plt.subplots(1, 1)\n",
    "plot_posterior_mean(colors=colors, styles=styles, fig=fig1, ax=ax1)\n",
    "fig2, ax2 = plt.subplots(1, 1)\n",
    "plot_relative_mean(colors=colors, styles=styles, fig=fig2, ax=ax2)"
   ]
  },
  {
   "cell_type": "code",
   "execution_count": 51,
   "metadata": {
    "colab": {
     "base_uri": "https://localhost:8080/",
     "height": 327,
     "referenced_widgets": [
      "3fb2d30805634e4aaef5215dce9eb020",
      "3013c63d39bb4d999714577097be6386",
      "69510ae06ef441fbbae772a1d9a22e92",
      "2f7cbc288d28456dacd091c7bb347aee",
      "d84eb9c29b1045158612566f6eeb76c9",
      "ba5e610cf7f64fc4845edfdd2e8356f5",
      "14a92173375e42c8bd8c2bfd11c7e058"
     ]
    },
    "id": "PfWAdUeWD6Qy",
    "outputId": "fd66e568-a74d-41df-e3c8-406a2a6b1835"
   },
   "outputs": [
    {
     "data": {
      "application/vnd.jupyter.widget-view+json": {
       "model_id": "226cac4799f54040880f9c224040434e",
       "version_major": 2,
       "version_minor": 0
      },
      "text/plain": [
       "interactive(children=(IntSlider(value=4, description='n', max=80, min=2), Output()), _dom_classes=('widget-int…"
      ]
     },
     "metadata": {},
     "output_type": "display_data"
    }
   ],
   "source": [
    "from ipywidgets import interact, fixed\n",
    "\n",
    "# demonstartes change in posterior mean with change in number of samples (n)\n",
    "@interact(n=(2, 80, 1), colors=fixed(colors), styles=fixed(styles), k0=fixed(4))\n",
    "def plot_posterior_mean_interactive(n=4, colors=colors, styles=styles, k0=4):\n",
    "    k0s = jnp.arange(k0)\n",
    "    thetaTrue = 1\n",
    "    sigmaTrue = 1\n",
    "    thetaPrior = 0\n",
    "    xrange = jnp.arange(-1, 2.55, 0.05)\n",
    "    names = []\n",
    "    for ki in range(len(k0s)):\n",
    "        k0 = k0s[ki]\n",
    "        w = n / (n + k0)\n",
    "        v = w**2 * sigmaTrue**2 / n\n",
    "        thetaEst = w * thetaTrue + (1 - w) * thetaPrior\n",
    "        names.append(\"$\\kappa_0 = {0:01d}$\".format(k0s[ki]))\n",
    "        plt.plot(xrange, gauss_prob(xrange, thetaEst, jnp.sqrt(v)), color=colors[ki], linestyle=styles[ki], linewidth=1)\n",
    "    plt.title(\"Sampling Distribution, truth = {}, prior = {}, n = {}\".format(thetaTrue, thetaPrior, n))\n",
    "    plt.xlabel(\"$x$\")\n",
    "    plt.ylabel(\"$P(x)\\ (Posterior mean)$\")\n",
    "    plt.legend(names, loc=\"upper left\")\n",
    "    plt.show()"
   ]
  }
 ],
 "metadata": {
  "colab": {
   "name": "samplingDistributionGaussianShrinkage.ipynb",
   "provenance": []
  },
  "kernelspec": {
   "display_name": "Python 3",
   "language": "python",
   "name": "python3"
  },
  "language_info": {
   "codemirror_mode": {
    "name": "ipython",
    "version": 3
   },
   "file_extension": ".py",
   "mimetype": "text/x-python",
   "name": "python",
   "nbconvert_exporter": "python",
   "pygments_lexer": "ipython3",
   "version": "3.7.13"
  },
  "widgets": {
   "application/vnd.jupyter.widget-state+json": {
    "14a92173375e42c8bd8c2bfd11c7e058": {
     "model_module": "@jupyter-widgets/base",
     "model_module_version": "1.2.0",
     "model_name": "LayoutModel",
     "state": {
      "_model_module": "@jupyter-widgets/base",
      "_model_module_version": "1.2.0",
      "_model_name": "LayoutModel",
      "_view_count": null,
      "_view_module": "@jupyter-widgets/base",
      "_view_module_version": "1.2.0",
      "_view_name": "LayoutView",
      "align_content": null,
      "align_items": null,
      "align_self": null,
      "border": null,
      "bottom": null,
      "display": null,
      "flex": null,
      "flex_flow": null,
      "grid_area": null,
      "grid_auto_columns": null,
      "grid_auto_flow": null,
      "grid_auto_rows": null,
      "grid_column": null,
      "grid_gap": null,
      "grid_row": null,
      "grid_template_areas": null,
      "grid_template_columns": null,
      "grid_template_rows": null,
      "height": null,
      "justify_content": null,
      "justify_items": null,
      "left": null,
      "margin": null,
      "max_height": null,
      "max_width": null,
      "min_height": null,
      "min_width": null,
      "object_fit": null,
      "object_position": null,
      "order": null,
      "overflow": null,
      "overflow_x": null,
      "overflow_y": null,
      "padding": null,
      "right": null,
      "top": null,
      "visibility": null,
      "width": null
     }
    },
    "2f7cbc288d28456dacd091c7bb347aee": {
     "model_module": "@jupyter-widgets/base",
     "model_module_version": "1.2.0",
     "model_name": "LayoutModel",
     "state": {
      "_model_module": "@jupyter-widgets/base",
      "_model_module_version": "1.2.0",
      "_model_name": "LayoutModel",
      "_view_count": null,
      "_view_module": "@jupyter-widgets/base",
      "_view_module_version": "1.2.0",
      "_view_name": "LayoutView",
      "align_content": null,
      "align_items": null,
      "align_self": null,
      "border": null,
      "bottom": null,
      "display": null,
      "flex": null,
      "flex_flow": null,
      "grid_area": null,
      "grid_auto_columns": null,
      "grid_auto_flow": null,
      "grid_auto_rows": null,
      "grid_column": null,
      "grid_gap": null,
      "grid_row": null,
      "grid_template_areas": null,
      "grid_template_columns": null,
      "grid_template_rows": null,
      "height": null,
      "justify_content": null,
      "justify_items": null,
      "left": null,
      "margin": null,
      "max_height": null,
      "max_width": null,
      "min_height": null,
      "min_width": null,
      "object_fit": null,
      "object_position": null,
      "order": null,
      "overflow": null,
      "overflow_x": null,
      "overflow_y": null,
      "padding": null,
      "right": null,
      "top": null,
      "visibility": null,
      "width": null
     }
    },
    "3013c63d39bb4d999714577097be6386": {
     "model_module": "@jupyter-widgets/controls",
     "model_module_version": "1.5.0",
     "model_name": "IntSliderModel",
     "state": {
      "_dom_classes": [],
      "_model_module": "@jupyter-widgets/controls",
      "_model_module_version": "1.5.0",
      "_model_name": "IntSliderModel",
      "_view_count": null,
      "_view_module": "@jupyter-widgets/controls",
      "_view_module_version": "1.5.0",
      "_view_name": "IntSliderView",
      "continuous_update": true,
      "description": "n",
      "description_tooltip": null,
      "disabled": false,
      "layout": "IPY_MODEL_d84eb9c29b1045158612566f6eeb76c9",
      "max": 80,
      "min": 2,
      "orientation": "horizontal",
      "readout": true,
      "readout_format": "d",
      "step": 1,
      "style": "IPY_MODEL_ba5e610cf7f64fc4845edfdd2e8356f5",
      "value": 27
     }
    },
    "3fb2d30805634e4aaef5215dce9eb020": {
     "model_module": "@jupyter-widgets/controls",
     "model_module_version": "1.5.0",
     "model_name": "VBoxModel",
     "state": {
      "_dom_classes": [
       "widget-interact"
      ],
      "_model_module": "@jupyter-widgets/controls",
      "_model_module_version": "1.5.0",
      "_model_name": "VBoxModel",
      "_view_count": null,
      "_view_module": "@jupyter-widgets/controls",
      "_view_module_version": "1.5.0",
      "_view_name": "VBoxView",
      "box_style": "",
      "children": [
       "IPY_MODEL_3013c63d39bb4d999714577097be6386",
       "IPY_MODEL_69510ae06ef441fbbae772a1d9a22e92"
      ],
      "layout": "IPY_MODEL_2f7cbc288d28456dacd091c7bb347aee"
     }
    },
    "69510ae06ef441fbbae772a1d9a22e92": {
     "model_module": "@jupyter-widgets/output",
     "model_module_version": "1.0.0",
     "model_name": "OutputModel",
     "state": {
      "_dom_classes": [],
      "_model_module": "@jupyter-widgets/output",
      "_model_module_version": "1.0.0",
      "_model_name": "OutputModel",
      "_view_count": null,
      "_view_module": "@jupyter-widgets/output",
      "_view_module_version": "1.0.0",
      "_view_name": "OutputView",
      "layout": "IPY_MODEL_14a92173375e42c8bd8c2bfd11c7e058",
      "msg_id": "",
      "outputs": [
       {
        "data": {
         "image/png": "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\n",
         "text/plain": "<Figure size 432x288 with 1 Axes>"
        },
        "metadata": {
         "needs_background": "light"
        },
        "output_type": "display_data"
       }
      ]
     }
    },
    "ba5e610cf7f64fc4845edfdd2e8356f5": {
     "model_module": "@jupyter-widgets/controls",
     "model_module_version": "1.5.0",
     "model_name": "SliderStyleModel",
     "state": {
      "_model_module": "@jupyter-widgets/controls",
      "_model_module_version": "1.5.0",
      "_model_name": "SliderStyleModel",
      "_view_count": null,
      "_view_module": "@jupyter-widgets/base",
      "_view_module_version": "1.2.0",
      "_view_name": "StyleView",
      "description_width": "",
      "handle_color": null
     }
    },
    "d84eb9c29b1045158612566f6eeb76c9": {
     "model_module": "@jupyter-widgets/base",
     "model_module_version": "1.2.0",
     "model_name": "LayoutModel",
     "state": {
      "_model_module": "@jupyter-widgets/base",
      "_model_module_version": "1.2.0",
      "_model_name": "LayoutModel",
      "_view_count": null,
      "_view_module": "@jupyter-widgets/base",
      "_view_module_version": "1.2.0",
      "_view_name": "LayoutView",
      "align_content": null,
      "align_items": null,
      "align_self": null,
      "border": null,
      "bottom": null,
      "display": null,
      "flex": null,
      "flex_flow": null,
      "grid_area": null,
      "grid_auto_columns": null,
      "grid_auto_flow": null,
      "grid_auto_rows": null,
      "grid_column": null,
      "grid_gap": null,
      "grid_row": null,
      "grid_template_areas": null,
      "grid_template_columns": null,
      "grid_template_rows": null,
      "height": null,
      "justify_content": null,
      "justify_items": null,
      "left": null,
      "margin": null,
      "max_height": null,
      "max_width": null,
      "min_height": null,
      "min_width": null,
      "object_fit": null,
      "object_position": null,
      "order": null,
      "overflow": null,
      "overflow_x": null,
      "overflow_y": null,
      "padding": null,
      "right": null,
      "top": null,
      "visibility": null,
      "width": null
     }
    }
   }
  }
 },
 "nbformat": 4,
 "nbformat_minor": 5
}
