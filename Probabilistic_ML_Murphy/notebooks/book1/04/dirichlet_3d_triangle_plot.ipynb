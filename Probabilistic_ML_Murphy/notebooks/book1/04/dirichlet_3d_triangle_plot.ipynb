{
 "cells": [
  {
   "cell_type": "code",
   "execution_count": 3,
   "id": "096801aa",
   "metadata": {},
   "outputs": [
    {
     "data": {
      "image/png": "[encoded data removed]",
      "text/plain": [
       "<Figure size 432x288 with 1 Axes>"
      ]
     },
     "metadata": {
      "needs_background": "light"
     },
     "output_type": "display_data"
    }
   ],
   "source": [
    "import numpy as np\n",
    "import matplotlib.pyplot as plt\n",
    "\n",
    "try:\n",
    "    import probml_utils as pml\n",
    "except ModuleNotFoundError:\n",
    "    %pip install -qq git+https://github.com/probml/probml-utils.git\n",
    "    import probml_utils as pml\n",
    "\n",
    "import scipy.spatial\n",
    "import matplotlib.tri as mtri\n",
    "from matplotlib.patches import FancyArrowPatch\n",
    "from mpl_toolkits.mplot3d import proj3d\n",
    "\n",
    "# This class comes from http://stackoverflow.com/questions/22867620/putting-arrowheads-on-vectors-in-matplotlibs-3d-plot\n",
    "class Arrow3D(FancyArrowPatch):\n",
    "    def __init__(self, xs, ys, zs, *args, **kwargs):\n",
    "        super().__init__((0, 0), (0, 0), *args, **kwargs)\n",
    "        self._verts3d = xs, ys, zs\n",
    "\n",
    "    def do_3d_projection(self, renderer=None):\n",
    "        xs3d, ys3d, zs3d = self._verts3d\n",
    "        xs, ys, zs = proj3d.proj_transform(xs3d, ys3d, zs3d, self.axes.M)\n",
    "        self.set_positions((xs[0], ys[0]), (xs[1], ys[1]))\n",
    "\n",
    "        return np.min(zs)\n",
    "\n",
    "\n",
    "x = [1, 0, 0]\n",
    "y = [0, 1, 0]\n",
    "z = [0, 0, 1]\n",
    "\n",
    "pts = np.vstack([x, y]).T\n",
    "tess = scipy.spatial.Delaunay(pts)\n",
    "\n",
    "tri = tess.vertices\n",
    "triang = mtri.Triangulation(x=pts[:, 0], y=pts[:, 1], triangles=tri)\n",
    "\n",
    "fig = plt.figure()\n",
    "# ax = fig.gca(projection='3d')\n",
    "ax = plt.axes(projection=\"3d\")\n",
    "ax.plot_trisurf(triang, z, alpha=0.3, color=\"red\", edgecolors=\"blue\")\n",
    "ax.set_axis_off()\n",
    "\n",
    "for i in range(3):\n",
    "    EndPs = [[0, 0], [0, 0], [0, 0]]\n",
    "    EndPs[i][1] = 1.4\n",
    "    art = Arrow3D(EndPs[0], EndPs[1], EndPs[2], mutation_scale=20, lw=3, arrowstyle=\"-|>\", color=\"black\")\n",
    "    ax.add_artist(art)\n",
    "    theta = \"$\\theta_\" + str(i) + \"$\"\n",
    "    EndPs = [[0, 0], [0, 0], [0, 0]]\n",
    "    if i == 0:\n",
    "        EndPs[i][1] = 1\n",
    "        EndPs[2][1] = -0.2\n",
    "    else:\n",
    "        EndPs[i][1] = 1\n",
    "    ax.text(EndPs[0][1], EndPs[1][1], EndPs[2][1], r\"$\\theta_%s$\" % (i + 1), size=20)\n",
    "\n",
    "ax.view_init(elev=30, azim=20)\n",
    "ax.dist = 15\n",
    "# plt.draw()\n",
    "# plt.tight_layout()\n",
    "plt.show()\n",
    "\n",
    "# pml.savefig(\"dirichletSimplex.pdf\")"
   ]
  }
 ],
 "metadata": {
  "kernelspec": {
   "display_name": "Python [conda env:pymc_exp]",
   "language": "python",
   "name": "conda-env-pymc_exp-py"
  },
  "language_info": {
   "codemirror_mode": {
    "name": "ipython",
    "version": 3
   },
   "file_extension": ".py",
   "mimetype": "text/x-python",
   "name": "python",
   "nbconvert_exporter": "python",
   "pygments_lexer": "ipython3",
   "version": "3.8.0"
  }
 },
 "nbformat": 4,
 "nbformat_minor": 5
}
