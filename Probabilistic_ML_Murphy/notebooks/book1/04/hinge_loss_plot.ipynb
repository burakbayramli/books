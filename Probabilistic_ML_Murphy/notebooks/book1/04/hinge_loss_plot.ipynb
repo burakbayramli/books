{
 "cells": [
  {
   "cell_type": "code",
   "execution_count": null,
   "id": "27f078ea",
   "metadata": {},
   "outputs": [],
   "source": [
    "# Plots 0-1, hinge and log loss.\n",
    "\n",
    "\n",
    "import numpy as np\n",
    "import matplotlib.pyplot as plt\n",
    "\n",
    "try:\n",
    "    import probml_utils as pml\n",
    "except ModuleNotFoundError:\n",
    "    %pip install -qq git+https://github.com/probml/probml-utils.git\n",
    "    import probml_utils as pml\n",
    "\n",
    "zeroOne = np.vectorize(lambda x: 1 * (x <= 0))\n",
    "hinge = np.vectorize(lambda x: max(0, 1 - x))\n",
    "logLoss = np.vectorize(lambda x: np.log2(1 + np.exp(-x)))\n",
    "expLoss = np.vectorize(lambda x: np.exp(-x))\n",
    "\n",
    "funs = [zeroOne, hinge, logLoss, expLoss]\n",
    "styles = [\"k-\", \"b:\", \"r-.\", \"g-\"]\n",
    "labels = [\"0-1 loss\", \"hinge loss\", \"log loss\", \"exp loss\"]\n",
    "x = np.arange(-2, 2, 0.01)\n",
    "\n",
    "for i, fun in enumerate(funs):\n",
    "    plt.plot(x, fun(x), styles[i], label=labels[i], linewidth=2)\n",
    "\n",
    "plt.axis([-2.1, 2.1, -0.1, 3.1])\n",
    "plt.legend(fontsize=12)\n",
    "pml.savefig(\"hingeLoss.pdf\")\n",
    "plt.show()"
   ]
  }
 ],
 "metadata": {},
 "nbformat": 4,
 "nbformat_minor": 5
}
