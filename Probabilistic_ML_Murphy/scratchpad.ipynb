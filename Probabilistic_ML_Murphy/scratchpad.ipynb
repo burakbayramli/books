{
 "cells": [
  {
   "cell_type": "code",
   "execution_count": 10,
   "metadata": {},
   "outputs": [
    {
     "name": "stdout",
     "output_type": "stream",
     "text": [
      "done\n"
     ]
    }
   ],
   "source": [
    "import os\n",
    "\n",
    "# 2x 2 chips (4 cores) per process:\n",
    "os.environ[\"TPU_CHIPS_PER_HOST_BOUNDS\"] = \"1,2,1\"\n",
    "os.environ[\"TPU_HOST_BOUNDS\"] = \"1,1,1\"\n",
    "# Different per process:\n",
    "os.environ[\"TPU_VISIBLE_DEVICES\"] = \"0,1\"  # Change to \"2,3\" for the second machine\n",
    "# Pick a unique port per process\n",
    "os.environ[\"TPU_MESH_CONTROLLER_ADDRESS\"] = \"localhost:8476\"\n",
    "os.environ[\"TPU_MESH_CONTROLLER_PORT\"] = \"8476\"\n",
    "\n",
    "print(\"done\")"
   ]
  },
  {
   "cell_type": "code",
   "execution_count": 3,
   "metadata": {},
   "outputs": [
    {
     "name": "stdout",
     "output_type": "stream",
     "text": [
      "1.5\n",
      "1.5\n"
     ]
    }
   ],
   "source": [
    "print(1050 / 700.0)\n",
    "print(1350 / 900)"
   ]
  },
  {
   "cell_type": "code",
   "execution_count": 1,
   "metadata": {},
   "outputs": [
    {
     "name": "stdout",
     "output_type": "stream",
     "text": [
      "[CpuDevice(id=0)]\n"
     ]
    }
   ],
   "source": [
    "import jax\n",
    "\n",
    "print(jax.devices())  #"
   ]
  },
  {
   "cell_type": "code",
   "execution_count": 2,
   "metadata": {},
   "outputs": [],
   "source": [
    "# Silence WARNING:root:The use of `check_types` is deprecated and does not have any effect.\n",
    "# https://github.com/tensorflow/probability/issues/1523\n",
    "import logging\n",
    "\n",
    "logger = logging.getLogger()\n",
    "\n",
    "\n",
    "class CheckTypesFilter(logging.Filter):\n",
    "    def filter(self, record):\n",
    "        return \"check_types\" not in record.getMessage()\n",
    "\n",
    "\n",
    "logger.addFilter(CheckTypesFilter())"
   ]
  },
  {
   "cell_type": "code",
   "execution_count": 4,
   "metadata": {},
   "outputs": [
    {
     "name": "stdout",
     "output_type": "stream",
     "text": [
      "The autoreload extension is already loaded. To reload it, use:\n",
      "  %reload_ext autoreload\n"
     ]
    }
   ],
   "source": [
    "%load_ext autoreload\n",
    "%autoreload 2"
   ]
  },
  {
   "cell_type": "code",
   "execution_count": 33,
   "metadata": {},
   "outputs": [
    {
     "name": "stdout",
     "output_type": "stream",
     "text": [
      "Index(['Unnamed: 0', 'COUNTRY', 'CHOCOLATE', 'NOBEL', 'POPULATION',\n",
      "       'INTERNET'],\n",
      "      dtype='object')\n"
     ]
    },
    {
     "data": {
      "text/html": [
       "<div>\n",
       "<style scoped>\n",
       "    .dataframe tbody tr th:only-of-type {\n",
       "        vertical-align: middle;\n",
       "    }\n",
       "\n",
       "    .dataframe tbody tr th {\n",
       "        vertical-align: top;\n",
       "    }\n",
       "\n",
       "    .dataframe thead th {\n",
       "        text-align: right;\n",
       "    }\n",
       "</style>\n",
       "<table border=\"1\" class=\"dataframe\">\n",
       "  <thead>\n",
       "    <tr style=\"text-align: right;\">\n",
       "      <th></th>\n",
       "      <th>Unnamed: 0</th>\n",
       "      <th>COUNTRY</th>\n",
       "      <th>CHOCOLATE</th>\n",
       "      <th>NOBEL</th>\n",
       "      <th>POPULATION</th>\n",
       "      <th>INTERNET</th>\n",
       "    </tr>\n",
       "  </thead>\n",
       "  <tbody>\n",
       "    <tr>\n",
       "      <th>0</th>\n",
       "      <td>1</td>\n",
       "      <td>Australia</td>\n",
       "      <td>4.5</td>\n",
       "      <td>5.5</td>\n",
       "      <td>22</td>\n",
       "      <td>79.5</td>\n",
       "    </tr>\n",
       "    <tr>\n",
       "      <th>1</th>\n",
       "      <td>2</td>\n",
       "      <td>Austria</td>\n",
       "      <td>10.2</td>\n",
       "      <td>24.3</td>\n",
       "      <td>8</td>\n",
       "      <td>79.8</td>\n",
       "    </tr>\n",
       "    <tr>\n",
       "      <th>2</th>\n",
       "      <td>3</td>\n",
       "      <td>Belgium</td>\n",
       "      <td>4.4</td>\n",
       "      <td>8.6</td>\n",
       "      <td>11</td>\n",
       "      <td>78.0</td>\n",
       "    </tr>\n",
       "    <tr>\n",
       "      <th>3</th>\n",
       "      <td>4</td>\n",
       "      <td>Brazil</td>\n",
       "      <td>2.9</td>\n",
       "      <td>0.1</td>\n",
       "      <td>197</td>\n",
       "      <td>45.0</td>\n",
       "    </tr>\n",
       "    <tr>\n",
       "      <th>4</th>\n",
       "      <td>5</td>\n",
       "      <td>Canada</td>\n",
       "      <td>3.9</td>\n",
       "      <td>6.1</td>\n",
       "      <td>34</td>\n",
       "      <td>83.0</td>\n",
       "    </tr>\n",
       "  </tbody>\n",
       "</table>\n",
       "</div>"
      ],
      "text/plain": [
       "   Unnamed: 0    COUNTRY  CHOCOLATE  NOBEL  POPULATION  INTERNET\n",
       "0           1  Australia        4.5    5.5          22      79.5\n",
       "1           2    Austria       10.2   24.3           8      79.8\n",
       "2           3    Belgium        4.4    8.6          11      78.0\n",
       "3           4     Brazil        2.9    0.1         197      45.0\n",
       "4           5     Canada        3.9    6.1          34      83.0"
      ]
     },
     "execution_count": 33,
     "metadata": {},
     "output_type": "execute_result"
    }
   ],
   "source": [
    "import pandas as pd\n",
    "\n",
    "df0 = pd.read_csv(\"/Users/kpmurphy/Misc/chocolate-nobel.csv\")\n",
    "print(df0.columns)\n",
    "df0.head()"
   ]
  },
  {
   "cell_type": "code",
   "execution_count": 35,
   "metadata": {},
   "outputs": [
    {
     "name": "stdout",
     "output_type": "stream",
     "text": [
      "        country     x     y\n",
      "0     Australia   4.5   5.5\n",
      "1       Austria  10.2  24.3\n",
      "2       Belgium   4.4   8.6\n",
      "3        Brazil   2.9   0.1\n",
      "4        Canada   3.9   6.1\n",
      "5         China   0.7   0.1\n",
      "6       Denmark   8.5  25.3\n",
      "7       Finland   7.3   7.6\n",
      "8        France   6.3   9.0\n",
      "9       Germany  11.6  12.7\n",
      "10       Greece   2.5   1.9\n",
      "11      Ireland   8.8  12.7\n",
      "12        Italy   3.7   3.3\n",
      "13        Japan   1.8   1.5\n",
      "14  Netherlands   4.5  11.4\n",
      "15       Norway   9.4  25.5\n",
      "16       Poland   3.6   3.1\n",
      "17     Portugal   2.0   1.9\n",
      "18        Spain   3.6   1.7\n",
      "20  Switzerland  11.9  31.5\n",
      "21           UK   9.7  18.9\n",
      "22          USA   5.3  10.8\n"
     ]
    }
   ],
   "source": [
    "def cleanup_columns(df):\n",
    "    df = df.drop(columns=[\"Unnamed: 0\", \"POPULATION\", \"INTERNET\"])\n",
    "    df.columns = map(str.lower, df.columns)\n",
    "    df = df.rename(columns={\"chocolate\": \"x\", \"nobel\": \"y\"})\n",
    "    return df\n",
    "\n",
    "\n",
    "def drop_sweden(df):\n",
    "    return df[df.country != \"Sweden\"]\n",
    "\n",
    "\n",
    "df = drop_sweden(cleanup_columns(df0))\n",
    "print(df)"
   ]
  },
  {
   "cell_type": "code",
   "execution_count": 28,
   "metadata": {},
   "outputs": [],
   "source": [
    "import numpy as np\n",
    "\n",
    "\n",
    "def add_noise(df):\n",
    "    N = len(df)\n",
    "    np.random.seed(0)\n",
    "    noise_x = np.random.normal(0, 1, size=N)\n",
    "    noise_y = np.random.normal(0, 1, size=N)\n",
    "    df[\"x\"] = df[\"x\"] + noise_x\n",
    "    df[\"y\"] = (df[\"y\"] * 100) + noise_y\n",
    "    return df"
   ]
  },
  {
   "cell_type": "code",
   "execution_count": 36,
   "metadata": {},
   "outputs": [
    {
     "name": "stdout",
     "output_type": "stream",
     "text": [
      "        country          x            y\n",
      "0     Australia   6.264052   550.864436\n",
      "1       Austria  10.600157  2429.257835\n",
      "2       Belgium   5.378738   862.269755\n",
      "3        Brazil   5.140893     8.545634\n",
      "4        Canada   5.767558   610.045759\n",
      "5         China  -0.277278     9.812816\n",
      "6       Denmark   9.450088  2531.532779\n",
      "7       Finland   7.148643   761.469359\n",
      "8        France   6.196781   900.154947\n",
      "9       Germany  12.010599  1270.378163\n",
      "10       Greece   2.644044   189.112214\n",
      "11      Ireland  10.254274  1268.019204\n",
      "12        Italy   4.461038   329.652088\n",
      "13        Japan   1.921675   150.156349\n",
      "14  Netherlands   4.943863  1141.230291\n",
      "15       Norway   9.733674  2551.202380\n",
      "16       Poland   5.094079   309.612673\n",
      "17     Portugal   1.794842   189.697697\n",
      "18        Spain   3.913068   168.951447\n",
      "20  Switzerland  11.045904  3148.579982\n",
      "21           UK   7.147010  1888.293730\n",
      "22          USA   5.953619  1081.950775\n"
     ]
    }
   ],
   "source": [
    "df = pd.read_csv(\"/Users/kpmurphy/Misc/chocolate-nobel.csv\").pipe(cleanup_columns).pipe(drop_sweden).pipe(add_noise)\n",
    "\n",
    "print(df)"
   ]
  },
  {
   "cell_type": "code",
   "execution_count": 37,
   "metadata": {},
   "outputs": [
    {
     "data": {
      "text/plain": [
       "<AxesSubplot: xlabel='x', ylabel='y'>"
      ]
     },
     "execution_count": 37,
     "metadata": {},
     "output_type": "execute_result"
    },
    {
     "data": {
      "image/png": "[encoded data removed]",
      "text/plain": [
       "<Figure size 432x288 with 1 Axes>"
      ]
     },
     "metadata": {
      "needs_background": "light"
     },
     "output_type": "display_data"
    }
   ],
   "source": [
    "df.plot.scatter(x=\"x\", y=\"y\", label=\"country\")"
   ]
  },
  {
   "cell_type": "code",
   "execution_count": 39,
   "metadata": {},
   "outputs": [
    {
     "data": {
      "image/png": "[encoded data removed]",
      "text/plain": [
       "<Figure size 864x576 with 1 Axes>"
      ]
     },
     "metadata": {
      "needs_background": "light"
     },
     "output_type": "display_data"
    }
   ],
   "source": [
    "# Label points with country names\n",
    "import matplotlib.pyplot as plt\n",
    "\n",
    "plt.figure(figsize=(12, 8))\n",
    "plt.scatter(df[\"x\"], df[\"y\"], s=100, alpha=0.5)\n",
    "for i, txt in enumerate(df[\"country\"]):\n",
    "    plt.annotate(txt, (df[\"x\"].iat[i], df[\"y\"].iat[i]), fontsize=10, ha=\"right\")"
   ]
  },
  {
   "cell_type": "code",
   "execution_count": 41,
   "metadata": {},
   "outputs": [],
   "source": [
    "df.to_csv(\"/Users/kpmurphy/Misc/noisy-choc.csv\")"
   ]
  },
  {
   "cell_type": "code",
   "execution_count": null,
   "metadata": {},
   "outputs": [],
   "source": []
  }
 ],
 "metadata": {
  "colab": {
   "include_colab_link": true,
   "name": "scratchpad",
   "provenance": []
  },
  "kernelspec": {
   "display_name": "Python 3.8.5 ('base')",
   "language": "python",
   "name": "python3"
  },
  "language_info": {
   "codemirror_mode": {
    "name": "ipython",
    "version": 3
   },
   "file_extension": ".py",
   "mimetype": "text/x-python",
   "name": "python",
   "nbconvert_exporter": "python",
   "pygments_lexer": "ipython3",
   "version": "3.9.6"
  },
  "vscode": {
   "interpreter": {
    "hash": "40d3a090f54c6569ab1632332b64b2c03c39dcf918b08424e98f38b5ae0af88f"
   }
  }
 },
 "nbformat": 4,
 "nbformat_minor": 2
}
