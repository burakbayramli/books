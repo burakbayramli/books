{
 "cells": [
  {
   "cell_type": "markdown",
   "metadata": {},
   "source": [
    "# Rectangular Plate Bending Element"
   ]
  },
  {
   "cell_type": "markdown",
   "metadata": {},
   "source": [
    "This derivation follows the procedure given in Chapter 12 of \"A First Course in the Finite Element Method, 4th Edition\" by Daryl L. Logan. Logan's method has been improved upon to allow for orthotropic behavior. Closed form solutions for stiffness and load matrices are provided.\n",
    "\n",
    "We'll start by importing a few Python libraries that are useful for symbolic math, and initializing \"pretty\" printing."
   ]
  },
  {
   "cell_type": "code",
   "execution_count": 1,
   "metadata": {},
   "outputs": [],
   "source": [
    "from sympy import symbols, Matrix, diff, integrate, simplify, factor, latex, init_printing\n",
    "from IPython.display import display, Math\n",
    "init_printing()"
   ]
  },
  {
   "cell_type": "markdown",
   "metadata": {},
   "source": [
    "The plate width will be defined as $2b$, and the height will be $2c$ to be consistent with Figure 12-1. We'll set up some Sympy symbols to represent $b$ and $c$."
   ]
  },
  {
   "cell_type": "code",
   "execution_count": 2,
   "metadata": {},
   "outputs": [],
   "source": [
    "b, c = symbols('b, c')"
   ]
  },
  {
   "cell_type": "markdown",
   "metadata": {},
   "source": [
    "The plate is defined by four nodes specified in counter-clockwise order: i, j, m, and n. The local x-axis runs from node i toward node j, and the local y-axis runs from node i toward node n. Next we'll define the element's local displacement vector, $[d]$, at each node. There are 3 degrees of freedom at each node: $w$, $\\theta_x$, and $\\theta_y$."
   ]
  },
  {
   "cell_type": "code",
   "execution_count": 3,
   "metadata": {},
   "outputs": [
    {
     "data": {
      "text/latex": [
       "$\\displaystyle [d] = \\left[\\begin{matrix}w_{i}\\\\\\theta_{x i}\\\\\\theta_{yi}\\\\w_{j}\\\\\\theta_{xj}\\\\\\theta_{yj}\\\\w_{m}\\\\\\theta_{xm}\\\\\\theta_{ym}\\\\w_{n}\\\\\\theta_{xn}\\\\\\theta_{yn}\\end{matrix}\\right]$"
      ],
      "text/plain": [
       "<IPython.core.display.Math object>"
      ]
     },
     "metadata": {},
     "output_type": "display_data"
    }
   ],
   "source": [
    "wi, theta_xi, theta_yi = symbols('w_i, theta_x_i, theta_yi')\n",
    "wj, theta_xj, theta_yj = symbols('w_j, theta_xj, theta_yj')\n",
    "wm, theta_xm, theta_ym = symbols('w_m, theta_xm, theta_ym')\n",
    "wn, theta_xn, theta_yn = symbols('w_n, theta_xn, theta_yn')\n",
    "d = Matrix([wi, theta_xi, theta_yi, wj, theta_xj, theta_yj, wm, theta_xm, theta_ym, wn, theta_xn, theta_yn])\n",
    "display(Math('[d] = ' + latex(d)))"
   ]
  },
  {
   "cell_type": "markdown",
   "metadata": {},
   "source": [
    "A 12-term polynomial displacement function will be assumed to define the out-of-plane displacement, w, at any point (x, y) in the plate's local coordinate system. The rotations about each axis are derivatives of this displacement:"
   ]
  },
  {
   "cell_type": "code",
   "execution_count": 4,
   "metadata": {},
   "outputs": [
    {
     "data": {
      "text/latex": [
       "$\\displaystyle w = a_{1} + a_{10} y^{3} + a_{11} x^{3} y + a_{12} x y^{3} + a_{2} x + a_{3} y + a_{4} x^{2} + a_{5} x y + a_{6} y^{2} + a_{7} x^{3} + a_{8} x^{2} y + a_{9} x y^{2}$"
      ],
      "text/plain": [
       "<IPython.core.display.Math object>"
      ]
     },
     "metadata": {},
     "output_type": "display_data"
    },
    {
     "data": {
      "text/latex": [
       "$\\displaystyle \\theta_x = 3 a_{10} y^{2} + a_{11} x^{3} + 3 a_{12} x y^{2} + a_{3} + a_{5} x + 2 a_{6} y + a_{8} x^{2} + 2 a_{9} x y$"
      ],
      "text/plain": [
       "<IPython.core.display.Math object>"
      ]
     },
     "metadata": {},
     "output_type": "display_data"
    },
    {
     "data": {
      "text/latex": [
       "$\\displaystyle \\theta_y = - 3 a_{11} x^{2} y - a_{12} y^{3} - a_{2} - 2 a_{4} x - a_{5} y - 3 a_{7} x^{2} - 2 a_{8} x y - a_{9} y^{2}$"
      ],
      "text/plain": [
       "<IPython.core.display.Math object>"
      ]
     },
     "metadata": {},
     "output_type": "display_data"
    }
   ],
   "source": [
    "a1, a2, a3, a4, a5, a6, a7, a8, a9, a10, a11, a12 = symbols('a_1, a_2, a_3, a_4, a_5, a_6, a_7, a_8, a_9, a_10, a_11, a_12')\n",
    "x, y, w, theta_x, theta_y = symbols('x, y, w, theta_x, theta_y')\n",
    "\n",
    "w = a1 + a2*x + a3*y + a4*x**2 + a5*x*y + a6*y**2 + a7*x**3 + a8*x**2*y + a9*x*y**2 + a10*y**3 + a11*x**3*y + a12*x*y**3\n",
    "theta_x = diff(w, y)\n",
    "theta_y = -diff(w, x)\n",
    "\n",
    "display(Math('w = ' + latex(w)))\n",
    "display(Math('\\\\theta_x = ' + latex(theta_x)))\n",
    "display(Math('\\\\theta_y = ' + latex(theta_y)))"
   ]
  },
  {
   "cell_type": "markdown",
   "metadata": {},
   "source": [
    "The negative sign on $\\frac{dw}{dx}$ is required to be consistent with the right hand rule. These equations can be rewritten in matrix form as follows:\n",
    "\n",
    "$[\\psi] = [P][a]$\n",
    "\n",
    "where $[\\psi]$ is shorthand for  $\\begin{bmatrix} w \\\\ \\theta_x \\\\ \\theta_y \\end{bmatrix}$ and $[P]$ is defined as follows:"
   ]
  },
  {
   "cell_type": "code",
   "execution_count": 5,
   "metadata": {},
   "outputs": [
    {
     "data": {
      "text/latex": [
       "$\\displaystyle P = \\left[\\begin{array}{cccccccccccc}1 & x & y & x^{2} & x y & y^{2} & x^{3} & x^{2} y & x y^{2} & y^{3} & x^{3} y & x y^{3}\\\\0 & 0 & 1 & 0 & x & 2 y & 0 & x^{2} & 2 x y & 3 y^{2} & x^{3} & 3 x y^{2}\\\\0 & -1 & 0 & - 2 x & - y & 0 & - 3 x^{2} & - 2 x y & - y^{2} & 0 & - 3 x^{2} y & - y^{3}\\end{array}\\right]$"
      ],
      "text/plain": [
       "<IPython.core.display.Math object>"
      ]
     },
     "metadata": {},
     "output_type": "display_data"
    }
   ],
   "source": [
    "P = Matrix([[1, x, y, x**2, x*y, y**2, x**3, x**2*y, x*y**2, y**3, x**3*y, x*y**3],\n",
    "            [0, 0, 1, 0, x, 2*y, 0, x**2, 2*x*y, 3*y**2, x**3, 3*x*y**2],\n",
    "            [0, -1, 0, -2*x, -y, 0, -3*x**2, -2*x*y, -y**2, 0, -3*x**2*y, -y**3]])\n",
    "\n",
    "display(Math('P = ' + latex(P)))"
   ]
  },
  {
   "cell_type": "markdown",
   "metadata": {},
   "source": [
    "This general equation for $[P]$ will be evaluated at each node to give us a larger set of equations:\n",
    "\n",
    "$[d] = [C][a]$\n",
    "\n",
    "where $[C]$ is merely $[P]$ evaluated at each node, and $[d]$ is correpsondingly $[\\psi]$ at each node. Knowing that the plate width is $2b$ and the plate height is $2c$, we can obtain the matrix $[C]$."
   ]
  },
  {
   "cell_type": "code",
   "execution_count": 6,
   "metadata": {},
   "outputs": [
    {
     "data": {
      "text/latex": [
       "$\\displaystyle [C] = \\left[\\begin{array}{cccccccccccc}1 & 0 & 0 & 0 & 0 & 0 & 0 & 0 & 0 & 0 & 0 & 0\\\\0 & 0 & 1 & 0 & 0 & 0 & 0 & 0 & 0 & 0 & 0 & 0\\\\0 & -1 & 0 & 0 & 0 & 0 & 0 & 0 & 0 & 0 & 0 & 0\\\\1 & 2 b & 0 & 4 b^{2} & 0 & 0 & 8 b^{3} & 0 & 0 & 0 & 0 & 0\\\\0 & 0 & 1 & 0 & 2 b & 0 & 0 & 4 b^{2} & 0 & 0 & 8 b^{3} & 0\\\\0 & -1 & 0 & - 4 b & 0 & 0 & - 12 b^{2} & 0 & 0 & 0 & 0 & 0\\\\1 & 2 b & 2 c & 4 b^{2} & 4 b c & 4 c^{2} & 8 b^{3} & 8 b^{2} c & 8 b c^{2} & 8 c^{3} & 16 b^{3} c & 16 b c^{3}\\\\0 & 0 & 1 & 0 & 2 b & 4 c & 0 & 4 b^{2} & 8 b c & 12 c^{2} & 8 b^{3} & 24 b c^{2}\\\\0 & -1 & 0 & - 4 b & - 2 c & 0 & - 12 b^{2} & - 8 b c & - 4 c^{2} & 0 & - 24 b^{2} c & - 8 c^{3}\\\\1 & 0 & 2 c & 0 & 0 & 4 c^{2} & 0 & 0 & 0 & 8 c^{3} & 0 & 0\\\\0 & 0 & 1 & 0 & 0 & 4 c & 0 & 0 & 0 & 12 c^{2} & 0 & 0\\\\0 & -1 & 0 & 0 & - 2 c & 0 & 0 & 0 & - 4 c^{2} & 0 & 0 & - 8 c^{3}\\end{array}\\right]$"
      ],
      "text/plain": [
       "<IPython.core.display.Math object>"
      ]
     },
     "metadata": {},
     "output_type": "display_data"
    },
    {
     "name": "stdout",
     "output_type": "stream",
     "text": [
      "Matrix([[1, 0, 0, 0, 0, 0, 0, 0, 0, 0, 0, 0], [0, 0, 1, 0, 0, 0, 0, 0, 0, 0, 0, 0], [0, -1, 0, 0, 0, 0, 0, 0, 0, 0, 0, 0], [1, 2*b, 0, 4*b**2, 0, 0, 8*b**3, 0, 0, 0, 0, 0], [0, 0, 1, 0, 2*b, 0, 0, 4*b**2, 0, 0, 8*b**3, 0], [0, -1, 0, -4*b, 0, 0, -12*b**2, 0, 0, 0, 0, 0], [1, 2*b, 2*c, 4*b**2, 4*b*c, 4*c**2, 8*b**3, 8*b**2*c, 8*b*c**2, 8*c**3, 16*b**3*c, 16*b*c**3], [0, 0, 1, 0, 2*b, 4*c, 0, 4*b**2, 8*b*c, 12*c**2, 8*b**3, 24*b*c**2], [0, -1, 0, -4*b, -2*c, 0, -12*b**2, -8*b*c, -4*c**2, 0, -24*b**2*c, -8*c**3], [1, 0, 2*c, 0, 0, 4*c**2, 0, 0, 0, 8*c**3, 0, 0], [0, 0, 1, 0, 0, 4*c, 0, 0, 0, 12*c**2, 0, 0], [0, -1, 0, 0, -2*c, 0, 0, 0, -4*c**2, 0, 0, -8*c**3]])\n"
     ]
    }
   ],
   "source": [
    "C = Matrix([P, P, P, P])\n",
    "C[0:3, 0:12] = C[0:3, 0:12].subs(x, 0).subs(y, 0)      # i-node @ x = 0, y = 0\n",
    "C[3:6, 0:12] = C[3:6, 0:12].subs(x, 2*b).subs(y, 0)    # j-node @ x = 2b, y = 0\n",
    "C[6:9, 0:12] = C[6:9, 0:12].subs(x, 2*b).subs(y, 2*c)  # m-node @ x = 2b, y = 2c\n",
    "C[9:12, 0:12] = C[9:12, 0:12].subs(x, 0).subs(y, 2*c)  # n-node @ x = 0, y = 2c\n",
    "display(Math('[C] = ' + latex(C)))\n",
    "print(C)"
   ]
  },
  {
   "cell_type": "markdown",
   "metadata": {},
   "source": [
    "An important matrix that we will come back to later is the shape function matrix $[N]$, defined as:\n",
    "\n",
    "$[N] = [P][C]^{-1}$\n",
    "\n",
    "The closed form solution of $[N]$ for a rectangular plate is:"
   ]
  },
  {
   "cell_type": "code",
   "execution_count": 7,
   "metadata": {},
   "outputs": [
    {
     "data": {
      "text/latex": [
       "$\\displaystyle [N] = \\left[\\begin{array}{cccccccccccc}1 - \\frac{3 y^{2}}{4 c^{2}} + \\frac{y^{3}}{4 c^{3}} - \\frac{x y}{4 b c} + \\frac{3 x y^{2}}{8 b c^{2}} - \\frac{x y^{3}}{8 b c^{3}} - \\frac{3 x^{2}}{4 b^{2}} + \\frac{3 x^{2} y}{8 b^{2} c} + \\frac{x^{3}}{4 b^{3}} - \\frac{x^{3} y}{8 b^{3} c} & y - \\frac{y^{2}}{c} + \\frac{y^{3}}{4 c^{2}} - \\frac{x y}{2 b} + \\frac{x y^{2}}{2 b c} - \\frac{x y^{3}}{8 b c^{2}} & - x + \\frac{x y}{2 c} + \\frac{x^{2}}{b} - \\frac{x^{2} y}{2 b c} - \\frac{x^{3}}{4 b^{2}} + \\frac{x^{3} y}{8 b^{2} c} & \\frac{x \\left(2 b^{2} c^{2} y - 3 b^{2} c y^{2} + b^{2} y^{3} + 6 b c^{3} x - 3 b c^{2} x y - 2 c^{3} x^{2} + c^{2} x^{2} y\\right)}{8 b^{3} c^{3}} & \\frac{x y \\left(4 c^{2} - 4 c y + y^{2}\\right)}{8 b c^{2}} & \\frac{x^{2} \\cdot \\left(4 b c - 2 b y - 2 c x + x y\\right)}{8 b^{2} c} & \\frac{x y \\left(- 2 b^{2} c^{2} + 3 b^{2} c y - b^{2} y^{2} + 3 b c^{2} x - c^{2} x^{2}\\right)}{8 b^{3} c^{3}} & \\frac{x y^{2} \\left(- 2 c + y\\right)}{8 b c^{2}} & \\frac{x^{2} y \\left(2 b - x\\right)}{8 b^{2} c} & \\frac{y \\left(6 b^{3} c y - 2 b^{3} y^{2} + 2 b^{2} c^{2} x - 3 b^{2} c x y + b^{2} x y^{2} - 3 b c^{2} x^{2} + c^{2} x^{3}\\right)}{8 b^{3} c^{3}} & \\frac{y^{2} \\left(- 4 b c + 2 b y + 2 c x - x y\\right)}{8 b c^{2}} & \\frac{x y \\left(- 4 b^{2} + 4 b x - x^{2}\\right)}{8 b^{2} c}\\\\\\frac{- 12 b^{3} c y + 6 b^{3} y^{2} - 2 b^{2} c^{2} x + 6 b^{2} c x y - 3 b^{2} x y^{2} + 3 b c^{2} x^{2} - c^{2} x^{3}}{8 b^{3} c^{3}} & 1 - \\frac{2 y}{c} + \\frac{3 y^{2}}{4 c^{2}} - \\frac{x}{2 b} + \\frac{x y}{b c} - \\frac{3 x y^{2}}{8 b c^{2}} & \\frac{x \\left(4 b^{2} - 4 b x + x^{2}\\right)}{8 b^{2} c} & \\frac{x \\left(2 b^{2} c^{2} - 6 b^{2} c y + 3 b^{2} y^{2} - 3 b c^{2} x + c^{2} x^{2}\\right)}{8 b^{3} c^{3}} & \\frac{x \\left(4 c^{2} - 8 c y + 3 y^{2}\\right)}{8 b c^{2}} & \\frac{x^{2} \\left(- 2 b + x\\right)}{8 b^{2} c} & \\frac{x \\left(- 2 b^{2} c^{2} + 6 b^{2} c y - 3 b^{2} y^{2} + 3 b c^{2} x - c^{2} x^{2}\\right)}{8 b^{3} c^{3}} & \\frac{x y \\left(- 4 c + 3 y\\right)}{8 b c^{2}} & \\frac{x^{2} \\cdot \\left(2 b - x\\right)}{8 b^{2} c} & \\frac{12 b^{3} c y - 6 b^{3} y^{2} + 2 b^{2} c^{2} x - 6 b^{2} c x y + 3 b^{2} x y^{2} - 3 b c^{2} x^{2} + c^{2} x^{3}}{8 b^{3} c^{3}} & \\frac{y \\left(- 8 b c + 6 b y + 4 c x - 3 x y\\right)}{8 b c^{2}} & \\frac{x \\left(- 4 b^{2} + 4 b x - x^{2}\\right)}{8 b^{2} c}\\\\\\frac{2 b^{2} c^{2} y - 3 b^{2} c y^{2} + b^{2} y^{3} + 12 b c^{3} x - 6 b c^{2} x y - 6 c^{3} x^{2} + 3 c^{2} x^{2} y}{8 b^{3} c^{3}} & \\frac{y \\left(4 c^{2} - 4 c y + y^{2}\\right)}{8 b c^{2}} & 1 - \\frac{y}{2 c} - \\frac{2 x}{b} + \\frac{x y}{b c} + \\frac{3 x^{2}}{4 b^{2}} - \\frac{3 x^{2} y}{8 b^{2} c} & \\frac{- 2 b^{2} c^{2} y + 3 b^{2} c y^{2} - b^{2} y^{3} - 12 b c^{3} x + 6 b c^{2} x y + 6 c^{3} x^{2} - 3 c^{2} x^{2} y}{8 b^{3} c^{3}} & \\frac{y \\left(- 4 c^{2} + 4 c y - y^{2}\\right)}{8 b c^{2}} & \\frac{x \\left(- 8 b c + 4 b y + 6 c x - 3 x y\\right)}{8 b^{2} c} & \\frac{y \\left(2 b^{2} c^{2} - 3 b^{2} c y + b^{2} y^{2} - 6 b c^{2} x + 3 c^{2} x^{2}\\right)}{8 b^{3} c^{3}} & \\frac{y^{2} \\cdot \\left(2 c - y\\right)}{8 b c^{2}} & \\frac{x y \\left(- 4 b + 3 x\\right)}{8 b^{2} c} & \\frac{y \\left(- 2 b^{2} c^{2} + 3 b^{2} c y - b^{2} y^{2} + 6 b c^{2} x - 3 c^{2} x^{2}\\right)}{8 b^{3} c^{3}} & \\frac{y^{2} \\left(- 2 c + y\\right)}{8 b c^{2}} & \\frac{y \\left(4 b^{2} - 8 b x + 3 x^{2}\\right)}{8 b^{2} c}\\end{array}\\right]$"
      ],
      "text/plain": [
       "<IPython.core.display.Math object>"
      ]
     },
     "metadata": {},
     "output_type": "display_data"
    }
   ],
   "source": [
    "N = P*C.inv()\n",
    "display(Math('[N] = ' + latex(simplify(N))))"
   ]
  },
  {
   "cell_type": "markdown",
   "metadata": {},
   "source": [
    "We can now solve for the $[a]$ matrix in terms of the nodal displacements:"
   ]
  },
  {
   "cell_type": "code",
   "execution_count": 8,
   "metadata": {},
   "outputs": [
    {
     "data": {
      "text/latex": [
       "$\\displaystyle [a] = \\left[\\begin{matrix}w_{i}\\\\- \\theta_{yi}\\\\\\theta_{x i}\\\\\\frac{2 b \\left(2 \\theta_{yi} + \\theta_{yj}\\right) - 3 w_{i} + 3 w_{j}}{4 b^{2}}\\\\\\frac{2 b \\left(\\theta_{yi} - \\theta_{yn}\\right) + 2 c \\left(- \\theta_{x i} + \\theta_{xj}\\right) - w_{i} + w_{j} - w_{m} + w_{n}}{4 b c}\\\\\\frac{- 2 c \\left(2 \\theta_{x i} + \\theta_{xn}\\right) - 3 w_{i} + 3 w_{n}}{4 c^{2}}\\\\\\frac{- b \\left(\\theta_{yi} + \\theta_{yj}\\right) + w_{i} - w_{j}}{4 b^{3}}\\\\\\frac{2 b \\left(- 2 \\theta_{yi} - \\theta_{yj} + \\theta_{ym} + 2 \\theta_{yn}\\right) + 3 w_{i} - 3 w_{j} + 3 w_{m} - 3 w_{n}}{8 b^{2} c}\\\\\\frac{2 c \\left(2 \\theta_{x i} - 2 \\theta_{xj} - \\theta_{xm} + \\theta_{xn}\\right) + 3 w_{i} - 3 w_{j} + 3 w_{m} - 3 w_{n}}{8 b c^{2}}\\\\\\frac{c \\left(\\theta_{x i} + \\theta_{xn}\\right) + w_{i} - w_{n}}{4 c^{3}}\\\\\\frac{b \\left(\\theta_{yi} + \\theta_{yj} - \\theta_{ym} - \\theta_{yn}\\right) - w_{i} + w_{j} - w_{m} + w_{n}}{8 b^{3} c}\\\\\\frac{c \\left(- \\theta_{x i} + \\theta_{xj} + \\theta_{xm} - \\theta_{xn}\\right) - w_{i} + w_{j} - w_{m} + w_{n}}{8 b c^{3}}\\end{matrix}\\right]$"
      ],
      "text/plain": [
       "<IPython.core.display.Math object>"
      ]
     },
     "metadata": {},
     "output_type": "display_data"
    }
   ],
   "source": [
    "a = simplify(C.inv()*d)\n",
    "display(Math('[a] = ' + latex(a)))"
   ]
  },
  {
   "cell_type": "markdown",
   "metadata": {},
   "source": [
    "The next step is to define the curvature matrix:\n",
    "\n",
    "$[\\kappa] = \\begin{bmatrix} -\\frac{d^2w}{dx^2} \\\\ -\\frac{d^2w}{dy^2} \\\\ -\\frac{2d^2w}{dxdy} \\end{bmatrix} = [Q][a]$\n",
    "\n",
    "It should be recognized that $w/[a]$ is simply the first row of our $[P]$ matrix. Evaluating the derivatives in this expression gives $[Q]$ as follows:"
   ]
  },
  {
   "cell_type": "code",
   "execution_count": 9,
   "metadata": {},
   "outputs": [
    {
     "data": {
      "text/latex": [
       "$\\displaystyle [Q] = \\left[\\begin{array}{cccccccccccc}0 & 0 & 0 & -2 & 0 & 0 & - 6 x & - 2 y & 0 & 0 & - 6 x y & 0\\\\0 & 0 & 0 & 0 & 0 & -2 & 0 & 0 & - 2 x & - 6 y & 0 & - 6 x y\\\\0 & 0 & 0 & 0 & -2 & 0 & 0 & - 4 x & - 4 y & 0 & - 6 x^{2} & - 6 y^{2}\\end{array}\\right]$"
      ],
      "text/plain": [
       "<IPython.core.display.Math object>"
      ]
     },
     "metadata": {},
     "output_type": "display_data"
    },
    {
     "name": "stdout",
     "output_type": "stream",
     "text": [
      "Matrix([[0, 0, 0, -2, 0, 0, -6*x, -2*y, 0, 0, -6*x*y, 0], [0, 0, 0, 0, 0, -2, 0, 0, -2*x, -6*y, 0, -6*x*y], [0, 0, 0, 0, -2, 0, 0, -4*x, -4*y, 0, -6*x**2, -6*y**2]])\n"
     ]
    }
   ],
   "source": [
    "Q = Matrix([-diff(diff(P[0, :], x), x),\n",
    "            -diff(diff(P[0, :], y), y),\n",
    "            -2*diff(diff(P[0, :], x), y)])\n",
    "display(Math('[Q] = ' + latex(Q)))\n",
    "print(Q)"
   ]
  },
  {
   "cell_type": "markdown",
   "metadata": {},
   "source": [
    "With $[Q]$ in hand we can now solve for the $[B]$ matrix which is essential for formulating the stiffness matrix $[k]$"
   ]
  },
  {
   "cell_type": "code",
   "execution_count": 10,
   "metadata": {},
   "outputs": [
    {
     "data": {
      "text/latex": [
       "$\\displaystyle [B] = \\left[\\begin{array}{cccccccccccc}\\frac{3 \\cdot \\left(2 b c - b y - 2 c x + x y\\right)}{4 b^{3} c} & 0 & \\frac{- 8 b c + 4 b y + 6 c x - 3 x y}{4 b^{2} c} & \\frac{3 \\left(- 2 b c + b y + 2 c x - x y\\right)}{4 b^{3} c} & 0 & \\frac{- 4 b c + 2 b y + 6 c x - 3 x y}{4 b^{2} c} & \\frac{3 y \\left(- b + x\\right)}{4 b^{3} c} & 0 & \\frac{y \\left(- 2 b + 3 x\\right)}{4 b^{2} c} & \\frac{3 y \\left(b - x\\right)}{4 b^{3} c} & 0 & \\frac{y \\left(- 4 b + 3 x\\right)}{4 b^{2} c}\\\\\\frac{3 \\cdot \\left(2 b c - 2 b y - c x + x y\\right)}{4 b c^{3}} & \\frac{8 b c - 6 b y - 4 c x + 3 x y}{4 b c^{2}} & 0 & \\frac{3 x \\left(c - y\\right)}{4 b c^{3}} & \\frac{x \\left(4 c - 3 y\\right)}{4 b c^{2}} & 0 & \\frac{3 x \\left(- c + y\\right)}{4 b c^{3}} & \\frac{x \\left(2 c - 3 y\\right)}{4 b c^{2}} & 0 & \\frac{3 \\left(- 2 b c + 2 b y + c x - x y\\right)}{4 b c^{3}} & \\frac{4 b c - 6 b y - 2 c x + 3 x y}{4 b c^{2}} & 0\\\\\\frac{2 b^{2} c^{2} - 6 b^{2} c y + 3 b^{2} y^{2} - 6 b c^{2} x + 3 c^{2} x^{2}}{4 b^{3} c^{3}} & \\frac{c^{2} - 2 c y + \\frac{3 y^{2}}{4}}{b c^{2}} & \\frac{- b^{2} + 2 b x - \\frac{3 x^{2}}{4}}{b^{2} c} & \\frac{- 2 b^{2} c^{2} + 6 b^{2} c y - 3 b^{2} y^{2} + 6 b c^{2} x - 3 c^{2} x^{2}}{4 b^{3} c^{3}} & \\frac{- c^{2} + 2 c y - \\frac{3 y^{2}}{4}}{b c^{2}} & \\frac{x \\left(4 b - 3 x\\right)}{4 b^{2} c} & \\frac{2 b^{2} c^{2} - 6 b^{2} c y + 3 b^{2} y^{2} - 6 b c^{2} x + 3 c^{2} x^{2}}{4 b^{3} c^{3}} & \\frac{y \\left(4 c - 3 y\\right)}{4 b c^{2}} & \\frac{x \\left(- 4 b + 3 x\\right)}{4 b^{2} c} & \\frac{- 2 b^{2} c^{2} + 6 b^{2} c y - 3 b^{2} y^{2} + 6 b c^{2} x - 3 c^{2} x^{2}}{4 b^{3} c^{3}} & \\frac{y \\left(- 4 c + 3 y\\right)}{4 b c^{2}} & \\frac{b^{2} - 2 b x + \\frac{3 x^{2}}{4}}{b^{2} c}\\end{array}\\right]$"
      ],
      "text/plain": [
       "<IPython.core.display.Math object>"
      ]
     },
     "metadata": {},
     "output_type": "display_data"
    }
   ],
   "source": [
    "B = simplify(Q*C.inv())\n",
    "display(Math('[B] = ' + latex(B)))"
   ]
  },
  {
   "cell_type": "markdown",
   "metadata": {},
   "source": [
    "Now we form the constitutive matrix for orthotropic materials, [D]. This matrix is analagous to the flexural stiffness of a beam EI."
   ]
  },
  {
   "cell_type": "code",
   "execution_count": 11,
   "metadata": {},
   "outputs": [
    {
     "data": {
      "text/latex": [
       "$\\displaystyle [D] = \\frac{t^3}{12}\\left[\\begin{matrix}\\frac{E_{x}}{- \\nu_{xy} \\nu_{yx} + 1} & \\frac{E_{x} \\nu_{yx}}{- \\nu_{xy} \\nu_{yx} + 1} & 0\\\\\\frac{E_{y} \\nu_{xy}}{- \\nu_{xy} \\nu_{yx} + 1} & \\frac{E_{y}}{- \\nu_{xy} \\nu_{yx} + 1} & 0\\\\0 & 0 & G\\end{matrix}\\right]$"
      ],
      "text/plain": [
       "<IPython.core.display.Math object>"
      ]
     },
     "metadata": {},
     "output_type": "display_data"
    },
    {
     "name": "stdout",
     "output_type": "stream",
     "text": [
      "Matrix([[E_x*t**3/(12*(-\\nu_{xy}*\\nu_{yx} + 1)), E_x*\\nu_{yx}*t**3/(12*(-\\nu_{xy}*\\nu_{yx} + 1)), 0], [E_y*\\nu_{xy}*t**3/(12*(-\\nu_{xy}*\\nu_{yx} + 1)), E_y*t**3/(12*(-\\nu_{xy}*\\nu_{yx} + 1)), 0], [0, 0, G*t**3/12]])\n"
     ]
    }
   ],
   "source": [
    "Ex, Ey, nu_xy, nu_yx, G, t = symbols('E_x, E_y, \\\\nu_{xy}, \\\\nu_{yx}, G, t')\n",
    "\n",
    "D = 1/(1 - nu_xy*nu_yx)*Matrix([[   Ex,    nu_yx*Ex,          0         ],\n",
    "                                [nu_xy*Ey,    Ey,             0         ],\n",
    "                                [   0,        0,     (1 - nu_xy*nu_yx)*G]])\n",
    "\n",
    "display(Math('[D] = \\\\frac{t^3}{12}' + latex(D)))\n",
    "\n",
    "print(t**3/12*D)"
   ]
  },
  {
   "cell_type": "markdown",
   "metadata": {},
   "source": [
    "Now we can calculate the stiffness matrix:\n",
    "\n",
    "$[k] = \\int_0^{2c} \\int_0^{2b} [B]^T[D][B] dx dy$"
   ]
  },
  {
   "cell_type": "code",
   "execution_count": 12,
   "metadata": {},
   "outputs": [
    {
     "data": {
      "text/latex": [
       "$\\displaystyle [k] = \\frac{t^3}{12}\\left[\\begin{array}{cccccccccccc}\\frac{- \\frac{E_{x} \\nu_{yx} b^{2} c^{2}}{4} - E_{x} c^{4} - \\frac{E_{y} \\nu_{xy} b^{2} c^{2}}{4} - E_{y} b^{4} + \\frac{7 G \\nu_{xy} \\nu_{yx} b^{2} c^{2}}{5} - \\frac{7 G b^{2} c^{2}}{5}}{b^{3} c^{3} \\left(\\nu_{xy} \\nu_{yx} - 1\\right)} & \\frac{- \\frac{E_{x} \\nu_{yx} c^{2}}{2} - E_{y} b^{2} + \\frac{G \\nu_{xy} \\nu_{yx} c^{2}}{5} - \\frac{G c^{2}}{5}}{b c^{2} \\left(\\nu_{xy} \\nu_{yx} - 1\\right)} & \\frac{E_{x} c^{2} + \\frac{E_{y} \\nu_{xy} b^{2}}{2} - \\frac{G \\nu_{xy} \\nu_{yx} b^{2}}{5} + \\frac{G b^{2}}{5}}{b^{2} c \\left(\\nu_{xy} \\nu_{yx} - 1\\right)} & \\frac{5 E_{x} \\nu_{yx} b^{2} c^{2} + 20 E_{x} c^{4} + 5 E_{y} \\nu_{xy} b^{2} c^{2} - 10 E_{y} b^{4} - 28 G \\nu_{xy} \\nu_{yx} b^{2} c^{2} + 28 G b^{2} c^{2}}{20 b^{3} c^{3} \\left(\\nu_{xy} \\nu_{yx} - 1\\right)} & \\frac{\\frac{E_{x} \\nu_{yx} c^{2}}{2} - \\frac{E_{y} b^{2}}{2} - \\frac{G \\nu_{xy} \\nu_{yx} c^{2}}{5} + \\frac{G c^{2}}{5}}{b c^{2} \\left(\\nu_{xy} \\nu_{yx} - 1\\right)} & \\frac{5 E_{x} c^{2} - G \\nu_{xy} \\nu_{yx} b^{2} + G b^{2}}{5 b^{2} c \\left(\\nu_{xy} \\nu_{yx} - 1\\right)} & \\frac{- 5 E_{x} \\nu_{yx} b^{2} c^{2} + 10 E_{x} c^{4} - 5 E_{y} \\nu_{xy} b^{2} c^{2} + 10 E_{y} b^{4} + 28 G \\nu_{xy} \\nu_{yx} b^{2} c^{2} - 28 G b^{2} c^{2}}{20 b^{3} c^{3} \\left(\\nu_{xy} \\nu_{yx} - 1\\right)} & \\frac{- \\frac{E_{y} b^{2}}{2} - \\frac{G \\nu_{xy} \\nu_{yx} c^{2}}{5} + \\frac{G c^{2}}{5}}{b c^{2} \\left(\\nu_{xy} \\nu_{yx} - 1\\right)} & \\frac{\\frac{E_{x} c^{2}}{2} + \\frac{G b^{2} \\left(\\nu_{xy} \\nu_{yx} - 1\\right)}{5}}{b^{2} c \\left(\\nu_{xy} \\nu_{yx} - 1\\right)} & \\frac{5 E_{x} \\nu_{yx} b^{2} c^{2} - 10 E_{x} c^{4} + 5 E_{y} \\nu_{xy} b^{2} c^{2} + 20 E_{y} b^{4} - 28 G \\nu_{xy} \\nu_{yx} b^{2} c^{2} + 28 G b^{2} c^{2}}{20 b^{3} c^{3} \\left(\\nu_{xy} \\nu_{yx} - 1\\right)} & \\frac{- 5 E_{y} b^{2} + G \\nu_{xy} \\nu_{yx} c^{2} - G c^{2}}{5 b c^{2} \\left(\\nu_{xy} \\nu_{yx} - 1\\right)} & \\frac{\\frac{E_{x} c^{2}}{2} - \\frac{E_{y} \\nu_{xy} b^{2}}{2} + \\frac{G b^{2} \\left(\\nu_{xy} \\nu_{yx} - 1\\right)}{5}}{b^{2} c \\left(\\nu_{xy} \\nu_{yx} - 1\\right)}\\\\\\frac{- \\frac{E_{y} \\nu_{xy} c^{2}}{2} - E_{y} b^{2} + \\frac{G \\nu_{xy} \\nu_{yx} c^{2}}{5} - \\frac{G c^{2}}{5}}{b c^{2} \\left(\\nu_{xy} \\nu_{yx} - 1\\right)} & \\frac{4 \\left(- 5 E_{y} b^{2} + 2 G \\nu_{xy} \\nu_{yx} c^{2} - 2 G c^{2}\\right)}{15 b c \\left(\\nu_{xy} \\nu_{yx} - 1\\right)} & \\frac{E_{y} \\nu_{xy}}{\\nu_{xy} \\nu_{yx} - 1} & \\frac{\\frac{E_{y} \\nu_{xy} c^{2}}{2} - \\frac{E_{y} b^{2}}{2} - \\frac{G \\nu_{xy} \\nu_{yx} c^{2}}{5} + \\frac{G c^{2}}{5}}{b c^{2} \\left(\\nu_{xy} \\nu_{yx} - 1\\right)} & \\frac{2 \\left(- 5 E_{y} b^{2} - 4 G \\nu_{xy} \\nu_{yx} c^{2} + 4 G c^{2}\\right)}{15 b c \\left(\\nu_{xy} \\nu_{yx} - 1\\right)} & 0 & \\frac{\\frac{E_{y} b^{2}}{2} + \\frac{G \\nu_{xy} \\nu_{yx} c^{2}}{5} - \\frac{G c^{2}}{5}}{b c^{2} \\left(\\nu_{xy} \\nu_{yx} - 1\\right)} & \\frac{- 5 E_{y} b^{2} + 2 G \\nu_{xy} \\nu_{yx} c^{2} - 2 G c^{2}}{15 b c \\left(\\nu_{xy} \\nu_{yx} - 1\\right)} & 0 & \\frac{5 E_{y} b^{2} - G \\nu_{xy} \\nu_{yx} c^{2} + G c^{2}}{5 b c^{2} \\left(\\nu_{xy} \\nu_{yx} - 1\\right)} & \\frac{2 \\left(- 5 E_{y} b^{2} - G \\nu_{xy} \\nu_{yx} c^{2} + G c^{2}\\right)}{15 b c \\left(\\nu_{xy} \\nu_{yx} - 1\\right)} & 0\\\\\\frac{\\frac{E_{x} \\nu_{yx} b^{2}}{2} + E_{x} c^{2} - \\frac{G \\nu_{xy} \\nu_{yx} b^{2}}{5} + \\frac{G b^{2}}{5}}{b^{2} c \\left(\\nu_{xy} \\nu_{yx} - 1\\right)} & \\frac{E_{x} \\nu_{yx}}{\\nu_{xy} \\nu_{yx} - 1} & \\frac{4 \\left(- 5 E_{x} c^{2} + 2 G \\nu_{xy} \\nu_{yx} b^{2} - 2 G b^{2}\\right)}{15 b c \\left(\\nu_{xy} \\nu_{yx} - 1\\right)} & \\frac{- 5 E_{x} c^{2} + G \\nu_{xy} \\nu_{yx} b^{2} - G b^{2}}{5 b^{2} c \\left(\\nu_{xy} \\nu_{yx} - 1\\right)} & 0 & \\frac{2 \\left(- 5 E_{x} c^{2} - G \\nu_{xy} \\nu_{yx} b^{2} + G b^{2}\\right)}{15 b c \\left(\\nu_{xy} \\nu_{yx} - 1\\right)} & \\frac{- \\frac{E_{x} c^{2}}{2} - \\frac{G b^{2} \\left(\\nu_{xy} \\nu_{yx} - 1\\right)}{5}}{b^{2} c \\left(\\nu_{xy} \\nu_{yx} - 1\\right)} & 0 & \\frac{- 5 E_{x} c^{2} + 2 G b^{2} \\left(\\nu_{xy} \\nu_{yx} - 1\\right)}{15 b c \\left(\\nu_{xy} \\nu_{yx} - 1\\right)} & \\frac{- \\frac{E_{x} \\nu_{yx} b^{2}}{2} + \\frac{E_{x} c^{2}}{2} + \\frac{G \\nu_{xy} \\nu_{yx} b^{2}}{5} - \\frac{G b^{2}}{5}}{b^{2} c \\left(\\nu_{xy} \\nu_{yx} - 1\\right)} & 0 & \\frac{2 \\left(- 5 E_{x} c^{2} - 4 G b^{2} \\left(\\nu_{xy} \\nu_{yx} - 1\\right)\\right)}{15 b c \\left(\\nu_{xy} \\nu_{yx} - 1\\right)}\\\\\\frac{5 E_{x} \\nu_{yx} b^{2} c^{2} + 20 E_{x} c^{4} + 5 E_{y} \\nu_{xy} b^{2} c^{2} - 10 E_{y} b^{4} - 28 G \\nu_{xy} \\nu_{yx} b^{2} c^{2} + 28 G b^{2} c^{2}}{20 b^{3} c^{3} \\left(\\nu_{xy} \\nu_{yx} - 1\\right)} & \\frac{\\frac{E_{x} \\nu_{yx} c^{2}}{2} - \\frac{E_{y} b^{2}}{2} - \\frac{G \\nu_{xy} \\nu_{yx} c^{2}}{5} + \\frac{G c^{2}}{5}}{b c^{2} \\left(\\nu_{xy} \\nu_{yx} - 1\\right)} & \\frac{- 5 E_{x} c^{2} + G \\nu_{xy} \\nu_{yx} b^{2} - G b^{2}}{5 b^{2} c \\left(\\nu_{xy} \\nu_{yx} - 1\\right)} & \\frac{- \\frac{E_{x} \\nu_{yx} b^{2} c^{2}}{4} - E_{x} c^{4} - \\frac{E_{y} \\nu_{xy} b^{2} c^{2}}{4} - E_{y} b^{4} + \\frac{7 G \\nu_{xy} \\nu_{yx} b^{2} c^{2}}{5} - \\frac{7 G b^{2} c^{2}}{5}}{b^{3} c^{3} \\left(\\nu_{xy} \\nu_{yx} - 1\\right)} & \\frac{- \\frac{E_{x} \\nu_{yx} c^{2}}{2} - E_{y} b^{2} + \\frac{G \\nu_{xy} \\nu_{yx} c^{2}}{5} - \\frac{G c^{2}}{5}}{b c^{2} \\left(\\nu_{xy} \\nu_{yx} - 1\\right)} & \\frac{- E_{x} c^{2} - \\frac{E_{y} \\nu_{xy} b^{2}}{2} + \\frac{G \\nu_{xy} \\nu_{yx} b^{2}}{5} - \\frac{G b^{2}}{5}}{b^{2} c \\left(\\nu_{xy} \\nu_{yx} - 1\\right)} & \\frac{5 E_{x} \\nu_{yx} b^{2} c^{2} - 10 E_{x} c^{4} + 5 E_{y} \\nu_{xy} b^{2} c^{2} + 20 E_{y} b^{4} - 28 G \\nu_{xy} \\nu_{yx} b^{2} c^{2} + 28 G b^{2} c^{2}}{20 b^{3} c^{3} \\left(\\nu_{xy} \\nu_{yx} - 1\\right)} & \\frac{- 5 E_{y} b^{2} + G \\nu_{xy} \\nu_{yx} c^{2} - G c^{2}}{5 b c^{2} \\left(\\nu_{xy} \\nu_{yx} - 1\\right)} & \\frac{- \\frac{E_{x} c^{2}}{2} + \\frac{E_{y} \\nu_{xy} b^{2}}{2} - \\frac{G b^{2} \\left(\\nu_{xy} \\nu_{yx} - 1\\right)}{5}}{b^{2} c \\left(\\nu_{xy} \\nu_{yx} - 1\\right)} & \\frac{- 5 E_{x} \\nu_{yx} b^{2} c^{2} + 10 E_{x} c^{4} - 5 E_{y} \\nu_{xy} b^{2} c^{2} + 10 E_{y} b^{4} + 28 G \\nu_{xy} \\nu_{yx} b^{2} c^{2} - 28 G b^{2} c^{2}}{20 b^{3} c^{3} \\left(\\nu_{xy} \\nu_{yx} - 1\\right)} & \\frac{- \\frac{E_{y} b^{2}}{2} - \\frac{G \\nu_{xy} \\nu_{yx} c^{2}}{5} + \\frac{G c^{2}}{5}}{b c^{2} \\left(\\nu_{xy} \\nu_{yx} - 1\\right)} & \\frac{- \\frac{E_{x} c^{2}}{2} - \\frac{G b^{2} \\left(\\nu_{xy} \\nu_{yx} - 1\\right)}{5}}{b^{2} c \\left(\\nu_{xy} \\nu_{yx} - 1\\right)}\\\\\\frac{\\frac{E_{y} \\nu_{xy} c^{2}}{2} - \\frac{E_{y} b^{2}}{2} - \\frac{G \\nu_{xy} \\nu_{yx} c^{2}}{5} + \\frac{G c^{2}}{5}}{b c^{2} \\left(\\nu_{xy} \\nu_{yx} - 1\\right)} & \\frac{2 \\left(- 5 E_{y} b^{2} - 4 G \\nu_{xy} \\nu_{yx} c^{2} + 4 G c^{2}\\right)}{15 b c \\left(\\nu_{xy} \\nu_{yx} - 1\\right)} & 0 & \\frac{- \\frac{E_{y} \\nu_{xy} c^{2}}{2} - E_{y} b^{2} + \\frac{G \\nu_{xy} \\nu_{yx} c^{2}}{5} - \\frac{G c^{2}}{5}}{b c^{2} \\left(\\nu_{xy} \\nu_{yx} - 1\\right)} & \\frac{4 \\left(- 5 E_{y} b^{2} + 2 G \\nu_{xy} \\nu_{yx} c^{2} - 2 G c^{2}\\right)}{15 b c \\left(\\nu_{xy} \\nu_{yx} - 1\\right)} & - \\frac{E_{y} \\nu_{xy}}{\\nu_{xy} \\nu_{yx} - 1} & \\frac{5 E_{y} b^{2} - G \\nu_{xy} \\nu_{yx} c^{2} + G c^{2}}{5 b c^{2} \\left(\\nu_{xy} \\nu_{yx} - 1\\right)} & \\frac{2 \\left(- 5 E_{y} b^{2} - G \\nu_{xy} \\nu_{yx} c^{2} + G c^{2}\\right)}{15 b c \\left(\\nu_{xy} \\nu_{yx} - 1\\right)} & 0 & \\frac{\\frac{E_{y} b^{2}}{2} + \\frac{G \\nu_{xy} \\nu_{yx} c^{2}}{5} - \\frac{G c^{2}}{5}}{b c^{2} \\left(\\nu_{xy} \\nu_{yx} - 1\\right)} & \\frac{- 5 E_{y} b^{2} + 2 G \\nu_{xy} \\nu_{yx} c^{2} - 2 G c^{2}}{15 b c \\left(\\nu_{xy} \\nu_{yx} - 1\\right)} & 0\\\\\\frac{5 E_{x} c^{2} - G \\nu_{xy} \\nu_{yx} b^{2} + G b^{2}}{5 b^{2} c \\left(\\nu_{xy} \\nu_{yx} - 1\\right)} & 0 & \\frac{2 \\left(- 5 E_{x} c^{2} - G \\nu_{xy} \\nu_{yx} b^{2} + G b^{2}\\right)}{15 b c \\left(\\nu_{xy} \\nu_{yx} - 1\\right)} & \\frac{- \\frac{E_{x} \\nu_{yx} b^{2}}{2} - E_{x} c^{2} + \\frac{G \\nu_{xy} \\nu_{yx} b^{2}}{5} - \\frac{G b^{2}}{5}}{b^{2} c \\left(\\nu_{xy} \\nu_{yx} - 1\\right)} & - \\frac{E_{x} \\nu_{yx}}{\\nu_{xy} \\nu_{yx} - 1} & \\frac{4 \\left(- 5 E_{x} c^{2} + 2 G \\nu_{xy} \\nu_{yx} b^{2} - 2 G b^{2}\\right)}{15 b c \\left(\\nu_{xy} \\nu_{yx} - 1\\right)} & \\frac{\\frac{E_{x} \\nu_{yx} b^{2}}{2} - \\frac{E_{x} c^{2}}{2} - \\frac{G \\nu_{xy} \\nu_{yx} b^{2}}{5} + \\frac{G b^{2}}{5}}{b^{2} c \\left(\\nu_{xy} \\nu_{yx} - 1\\right)} & 0 & \\frac{2 \\left(- 5 E_{x} c^{2} - 4 G b^{2} \\left(\\nu_{xy} \\nu_{yx} - 1\\right)\\right)}{15 b c \\left(\\nu_{xy} \\nu_{yx} - 1\\right)} & \\frac{\\frac{E_{x} c^{2}}{2} + \\frac{G b^{2} \\left(\\nu_{xy} \\nu_{yx} - 1\\right)}{5}}{b^{2} c \\left(\\nu_{xy} \\nu_{yx} - 1\\right)} & 0 & \\frac{- 5 E_{x} c^{2} + 2 G b^{2} \\left(\\nu_{xy} \\nu_{yx} - 1\\right)}{15 b c \\left(\\nu_{xy} \\nu_{yx} - 1\\right)}\\\\\\frac{- 5 E_{x} \\nu_{yx} b^{2} c^{2} + 10 E_{x} c^{4} - 5 E_{y} \\nu_{xy} b^{2} c^{2} + 10 E_{y} b^{4} + 28 G \\nu_{xy} \\nu_{yx} b^{2} c^{2} - 28 G b^{2} c^{2}}{20 b^{3} c^{3} \\left(\\nu_{xy} \\nu_{yx} - 1\\right)} & \\frac{\\frac{E_{y} b^{2}}{2} + \\frac{G \\nu_{xy} \\nu_{yx} c^{2}}{5} - \\frac{G c^{2}}{5}}{b c^{2} \\left(\\nu_{xy} \\nu_{yx} - 1\\right)} & \\frac{- \\frac{E_{x} c^{2}}{2} - \\frac{G b^{2} \\left(\\nu_{xy} \\nu_{yx} - 1\\right)}{5}}{b^{2} c \\left(\\nu_{xy} \\nu_{yx} - 1\\right)} & \\frac{5 E_{x} \\nu_{yx} b^{2} c^{2} - 10 E_{x} c^{4} + 5 E_{y} \\nu_{xy} b^{2} c^{2} + 20 E_{y} b^{4} - 28 G \\nu_{xy} \\nu_{yx} b^{2} c^{2} + 28 G b^{2} c^{2}}{20 b^{3} c^{3} \\left(\\nu_{xy} \\nu_{yx} - 1\\right)} & \\frac{5 E_{y} b^{2} - G \\nu_{xy} \\nu_{yx} c^{2} + G c^{2}}{5 b c^{2} \\left(\\nu_{xy} \\nu_{yx} - 1\\right)} & \\frac{- 5 E_{x} c^{2} - 25 E_{y} \\nu_{xy} b^{2} + 2 b^{2} \\cdot \\left(15 E_{y} \\nu_{xy} - G \\nu_{xy} \\nu_{yx} + G\\right)}{10 b^{2} c \\left(\\nu_{xy} \\nu_{yx} - 1\\right)} & \\frac{- \\frac{E_{x} \\nu_{yx} b^{2} c^{2}}{4} - E_{x} c^{4} - \\frac{E_{y} \\nu_{xy} b^{2} c^{2}}{4} - E_{y} b^{4} + \\frac{7 G \\nu_{xy} \\nu_{yx} b^{2} c^{2}}{5} - \\frac{7 G b^{2} c^{2}}{5}}{b^{3} c^{3} \\left(\\nu_{xy} \\nu_{yx} - 1\\right)} & \\frac{\\frac{E_{x} \\nu_{yx} c^{2}}{2} + E_{y} b^{2} - \\frac{G \\nu_{xy} \\nu_{yx} c^{2}}{5} + \\frac{G c^{2}}{5}}{b c^{2} \\left(\\nu_{xy} \\nu_{yx} - 1\\right)} & \\frac{- E_{x} c^{2} - \\frac{E_{y} \\nu_{xy} b^{2}}{2} + \\frac{G b^{2} \\left(\\nu_{xy} \\nu_{yx} - 1\\right)}{5}}{b^{2} c \\left(\\nu_{xy} \\nu_{yx} - 1\\right)} & \\frac{5 E_{x} \\nu_{yx} b^{2} c^{2} + 20 E_{x} c^{4} + 5 E_{y} \\nu_{xy} b^{2} c^{2} - 10 E_{y} b^{4} - 28 G \\nu_{xy} \\nu_{yx} b^{2} c^{2} + 28 G b^{2} c^{2}}{20 b^{3} c^{3} \\left(\\nu_{xy} \\nu_{yx} - 1\\right)} & \\frac{- \\frac{E_{x} \\nu_{yx} c^{2}}{2} + \\frac{E_{y} b^{2}}{2} + \\frac{G \\nu_{xy} \\nu_{yx} c^{2}}{5} - \\frac{G c^{2}}{5}}{b c^{2} \\left(\\nu_{xy} \\nu_{yx} - 1\\right)} & \\frac{- E_{x} c^{2} + \\frac{G b^{2} \\left(\\nu_{xy} \\nu_{yx} - 1\\right)}{5}}{b^{2} c \\left(\\nu_{xy} \\nu_{yx} - 1\\right)}\\\\\\frac{- \\frac{E_{y} b^{2}}{2} - \\frac{G \\nu_{xy} \\nu_{yx} c^{2}}{5} + \\frac{G c^{2}}{5}}{b c^{2} \\left(\\nu_{xy} \\nu_{yx} - 1\\right)} & \\frac{- 5 E_{y} b^{2} + 2 G \\nu_{xy} \\nu_{yx} c^{2} - 2 G c^{2}}{15 b c \\left(\\nu_{xy} \\nu_{yx} - 1\\right)} & 0 & \\frac{- 5 E_{y} b^{2} + G \\nu_{xy} \\nu_{yx} c^{2} - G c^{2}}{5 b c^{2} \\left(\\nu_{xy} \\nu_{yx} - 1\\right)} & \\frac{2 \\left(- 5 E_{y} b^{2} - G \\nu_{xy} \\nu_{yx} c^{2} + G c^{2}\\right)}{15 b c \\left(\\nu_{xy} \\nu_{yx} - 1\\right)} & 0 & \\frac{\\frac{E_{y} \\nu_{xy} c^{2}}{2} + E_{y} b^{2} - \\frac{G \\nu_{xy} \\nu_{yx} c^{2}}{5} + \\frac{G c^{2}}{5}}{b c^{2} \\left(\\nu_{xy} \\nu_{yx} - 1\\right)} & \\frac{4 \\left(- 5 E_{y} b^{2} + 2 G \\nu_{xy} \\nu_{yx} c^{2} - 2 G c^{2}\\right)}{15 b c \\left(\\nu_{xy} \\nu_{yx} - 1\\right)} & \\frac{E_{y} \\nu_{xy}}{\\nu_{xy} \\nu_{yx} - 1} & \\frac{- \\frac{E_{y} \\nu_{xy} c^{2}}{2} + \\frac{E_{y} b^{2}}{2} + \\frac{G \\nu_{xy} \\nu_{yx} c^{2}}{5} - \\frac{G c^{2}}{5}}{b c^{2} \\left(\\nu_{xy} \\nu_{yx} - 1\\right)} & \\frac{2 \\left(- 5 E_{y} b^{2} - 4 G \\nu_{xy} \\nu_{yx} c^{2} + 4 G c^{2}\\right)}{15 b c \\left(\\nu_{xy} \\nu_{yx} - 1\\right)} & 0\\\\\\frac{\\frac{E_{x} c^{2}}{2} + \\frac{G b^{2} \\left(\\nu_{xy} \\nu_{yx} - 1\\right)}{5}}{b^{2} c \\left(\\nu_{xy} \\nu_{yx} - 1\\right)} & 0 & \\frac{- 5 E_{x} c^{2} + 2 G b^{2} \\left(\\nu_{xy} \\nu_{yx} - 1\\right)}{15 b c \\left(\\nu_{xy} \\nu_{yx} - 1\\right)} & \\frac{\\frac{E_{x} \\nu_{yx} b^{2}}{2} - \\frac{E_{x} c^{2}}{2} - \\frac{G \\nu_{xy} \\nu_{yx} b^{2}}{5} + \\frac{G b^{2}}{5}}{b^{2} c \\left(\\nu_{xy} \\nu_{yx} - 1\\right)} & 0 & \\frac{2 \\left(- 5 E_{x} c^{2} - 4 G b^{2} \\left(\\nu_{xy} \\nu_{yx} - 1\\right)\\right)}{15 b c \\left(\\nu_{xy} \\nu_{yx} - 1\\right)} & \\frac{- \\frac{E_{x} \\nu_{yx} b^{2}}{2} - E_{x} c^{2} + \\frac{G \\nu_{xy} \\nu_{yx} b^{2}}{5} - \\frac{G b^{2}}{5}}{b^{2} c \\left(\\nu_{xy} \\nu_{yx} - 1\\right)} & \\frac{E_{x} \\nu_{yx}}{\\nu_{xy} \\nu_{yx} - 1} & \\frac{4 \\left(- 5 E_{x} c^{2} + 2 G b^{2} \\left(\\nu_{xy} \\nu_{yx} - 1\\right)\\right)}{15 b c \\left(\\nu_{xy} \\nu_{yx} - 1\\right)} & \\frac{E_{x} c^{2} - \\frac{G b^{2} \\left(\\nu_{xy} \\nu_{yx} - 1\\right)}{5}}{b^{2} c \\left(\\nu_{xy} \\nu_{yx} - 1\\right)} & 0 & \\frac{2 \\left(- 5 E_{x} c^{2} - G b^{2} \\left(\\nu_{xy} \\nu_{yx} - 1\\right)\\right)}{15 b c \\left(\\nu_{xy} \\nu_{yx} - 1\\right)}\\\\\\frac{5 E_{x} \\nu_{yx} b^{2} c^{2} - 10 E_{x} c^{4} + 5 E_{y} \\nu_{xy} b^{2} c^{2} + 20 E_{y} b^{4} - 28 G \\nu_{xy} \\nu_{yx} b^{2} c^{2} + 28 G b^{2} c^{2}}{20 b^{3} c^{3} \\left(\\nu_{xy} \\nu_{yx} - 1\\right)} & \\frac{5 E_{y} b^{2} - G \\nu_{xy} \\nu_{yx} c^{2} + G c^{2}}{5 b c^{2} \\left(\\nu_{xy} \\nu_{yx} - 1\\right)} & \\frac{5 E_{x} c^{2} + 25 E_{y} \\nu_{xy} b^{2} - 2 b^{2} \\cdot \\left(15 E_{y} \\nu_{xy} - G \\nu_{xy} \\nu_{yx} + G\\right)}{10 b^{2} c \\left(\\nu_{xy} \\nu_{yx} - 1\\right)} & \\frac{- 5 E_{x} \\nu_{yx} b^{2} c^{2} + 10 E_{x} c^{4} - 5 E_{y} \\nu_{xy} b^{2} c^{2} + 10 E_{y} b^{4} + 28 G \\nu_{xy} \\nu_{yx} b^{2} c^{2} - 28 G b^{2} c^{2}}{20 b^{3} c^{3} \\left(\\nu_{xy} \\nu_{yx} - 1\\right)} & \\frac{\\frac{E_{y} b^{2}}{2} + \\frac{G \\nu_{xy} \\nu_{yx} c^{2}}{5} - \\frac{G c^{2}}{5}}{b c^{2} \\left(\\nu_{xy} \\nu_{yx} - 1\\right)} & \\frac{\\frac{E_{x} c^{2}}{2} + \\frac{G b^{2} \\left(\\nu_{xy} \\nu_{yx} - 1\\right)}{5}}{b^{2} c \\left(\\nu_{xy} \\nu_{yx} - 1\\right)} & \\frac{5 E_{x} \\nu_{yx} b^{2} c^{2} + 20 E_{x} c^{4} + 5 E_{y} \\nu_{xy} b^{2} c^{2} - 10 E_{y} b^{4} - 28 G \\nu_{xy} \\nu_{yx} b^{2} c^{2} + 28 G b^{2} c^{2}}{20 b^{3} c^{3} \\left(\\nu_{xy} \\nu_{yx} - 1\\right)} & \\frac{- \\frac{E_{x} \\nu_{yx} c^{2}}{2} + \\frac{E_{y} b^{2}}{2} + \\frac{G \\nu_{xy} \\nu_{yx} c^{2}}{5} - \\frac{G c^{2}}{5}}{b c^{2} \\left(\\nu_{xy} \\nu_{yx} - 1\\right)} & \\frac{E_{x} c^{2} - \\frac{G b^{2} \\left(\\nu_{xy} \\nu_{yx} - 1\\right)}{5}}{b^{2} c \\left(\\nu_{xy} \\nu_{yx} - 1\\right)} & \\frac{- \\frac{E_{x} \\nu_{yx} b^{2} c^{2}}{4} - E_{x} c^{4} - \\frac{E_{y} \\nu_{xy} b^{2} c^{2}}{4} - E_{y} b^{4} + \\frac{7 G \\nu_{xy} \\nu_{yx} b^{2} c^{2}}{5} - \\frac{7 G b^{2} c^{2}}{5}}{b^{3} c^{3} \\left(\\nu_{xy} \\nu_{yx} - 1\\right)} & \\frac{\\frac{E_{x} \\nu_{yx} c^{2}}{2} + E_{y} b^{2} - \\frac{G \\nu_{xy} \\nu_{yx} c^{2}}{5} + \\frac{G c^{2}}{5}}{b c^{2} \\left(\\nu_{xy} \\nu_{yx} - 1\\right)} & \\frac{E_{x} c^{2} + \\frac{E_{y} \\nu_{xy} b^{2}}{2} - \\frac{G b^{2} \\left(\\nu_{xy} \\nu_{yx} - 1\\right)}{5}}{b^{2} c \\left(\\nu_{xy} \\nu_{yx} - 1\\right)}\\\\\\frac{- 5 E_{y} b^{2} + G \\nu_{xy} \\nu_{yx} c^{2} - G c^{2}}{5 b c^{2} \\left(\\nu_{xy} \\nu_{yx} - 1\\right)} & \\frac{2 \\left(- 5 E_{y} b^{2} - G \\nu_{xy} \\nu_{yx} c^{2} + G c^{2}\\right)}{15 b c \\left(\\nu_{xy} \\nu_{yx} - 1\\right)} & 0 & \\frac{- \\frac{E_{y} b^{2}}{2} - \\frac{G \\nu_{xy} \\nu_{yx} c^{2}}{5} + \\frac{G c^{2}}{5}}{b c^{2} \\left(\\nu_{xy} \\nu_{yx} - 1\\right)} & \\frac{- 5 E_{y} b^{2} + 2 G \\nu_{xy} \\nu_{yx} c^{2} - 2 G c^{2}}{15 b c \\left(\\nu_{xy} \\nu_{yx} - 1\\right)} & 0 & \\frac{- \\frac{E_{y} \\nu_{xy} c^{2}}{2} + \\frac{E_{y} b^{2}}{2} + \\frac{G \\nu_{xy} \\nu_{yx} c^{2}}{5} - \\frac{G c^{2}}{5}}{b c^{2} \\left(\\nu_{xy} \\nu_{yx} - 1\\right)} & \\frac{2 \\left(- 5 E_{y} b^{2} - 4 G \\nu_{xy} \\nu_{yx} c^{2} + 4 G c^{2}\\right)}{15 b c \\left(\\nu_{xy} \\nu_{yx} - 1\\right)} & 0 & \\frac{\\frac{E_{y} \\nu_{xy} c^{2}}{2} + E_{y} b^{2} - \\frac{G \\nu_{xy} \\nu_{yx} c^{2}}{5} + \\frac{G c^{2}}{5}}{b c^{2} \\left(\\nu_{xy} \\nu_{yx} - 1\\right)} & \\frac{4 \\left(- 5 E_{y} b^{2} + 2 G \\nu_{xy} \\nu_{yx} c^{2} - 2 G c^{2}\\right)}{15 b c \\left(\\nu_{xy} \\nu_{yx} - 1\\right)} & - \\frac{E_{y} \\nu_{xy}}{\\nu_{xy} \\nu_{yx} - 1}\\\\\\frac{- \\frac{E_{x} \\nu_{yx} b^{2}}{2} + \\frac{E_{x} c^{2}}{2} + \\frac{G \\nu_{xy} \\nu_{yx} b^{2}}{5} - \\frac{G b^{2}}{5}}{b^{2} c \\left(\\nu_{xy} \\nu_{yx} - 1\\right)} & 0 & \\frac{2 \\left(- 5 E_{x} c^{2} - 4 G b^{2} \\left(\\nu_{xy} \\nu_{yx} - 1\\right)\\right)}{15 b c \\left(\\nu_{xy} \\nu_{yx} - 1\\right)} & \\frac{- \\frac{E_{x} c^{2}}{2} - \\frac{G b^{2} \\left(\\nu_{xy} \\nu_{yx} - 1\\right)}{5}}{b^{2} c \\left(\\nu_{xy} \\nu_{yx} - 1\\right)} & 0 & \\frac{- 5 E_{x} c^{2} + 2 G b^{2} \\left(\\nu_{xy} \\nu_{yx} - 1\\right)}{15 b c \\left(\\nu_{xy} \\nu_{yx} - 1\\right)} & \\frac{- E_{x} c^{2} + \\frac{G b^{2} \\left(\\nu_{xy} \\nu_{yx} - 1\\right)}{5}}{b^{2} c \\left(\\nu_{xy} \\nu_{yx} - 1\\right)} & 0 & \\frac{2 \\left(- 5 E_{x} c^{2} - G b^{2} \\left(\\nu_{xy} \\nu_{yx} - 1\\right)\\right)}{15 b c \\left(\\nu_{xy} \\nu_{yx} - 1\\right)} & \\frac{\\frac{E_{x} \\nu_{yx} b^{2}}{2} + E_{x} c^{2} - \\frac{G \\nu_{xy} \\nu_{yx} b^{2}}{5} + \\frac{G b^{2}}{5}}{b^{2} c \\left(\\nu_{xy} \\nu_{yx} - 1\\right)} & - \\frac{E_{x} \\nu_{yx}}{\\nu_{xy} \\nu_{yx} - 1} & \\frac{4 \\left(- 5 E_{x} c^{2} + 2 G b^{2} \\left(\\nu_{xy} \\nu_{yx} - 1\\right)\\right)}{15 b c \\left(\\nu_{xy} \\nu_{yx} - 1\\right)}\\end{array}\\right]$"
      ],
      "text/plain": [
       "<IPython.core.display.Math object>"
      ]
     },
     "metadata": {},
     "output_type": "display_data"
    },
    {
     "name": "stdout",
     "output_type": "stream",
     "text": [
      "Matrix([[(-E_x*\\nu_{yx}*b**2*c**2/4 - E_x*c**4 - E_y*\\nu_{xy}*b**2*c**2/4 - E_y*b**4 + 7*G*\\nu_{xy}*\\nu_{yx}*b**2*c**2/5 - 7*G*b**2*c**2/5)/(b**3*c**3*(\\nu_{xy}*\\nu_{yx} - 1)), (-E_x*\\nu_{yx}*c**2/2 - E_y*b**2 + G*\\nu_{xy}*\\nu_{yx}*c**2/5 - G*c**2/5)/(b*c**2*(\\nu_{xy}*\\nu_{yx} - 1)), (E_x*c**2 + E_y*\\nu_{xy}*b**2/2 - G*\\nu_{xy}*\\nu_{yx}*b**2/5 + G*b**2/5)/(b**2*c*(\\nu_{xy}*\\nu_{yx} - 1)), (5*E_x*\\nu_{yx}*b**2*c**2 + 20*E_x*c**4 + 5*E_y*\\nu_{xy}*b**2*c**2 - 10*E_y*b**4 - 28*G*\\nu_{xy}*\\nu_{yx}*b**2*c**2 + 28*G*b**2*c**2)/(20*b**3*c**3*(\\nu_{xy}*\\nu_{yx} - 1)), (E_x*\\nu_{yx}*c**2/2 - E_y*b**2/2 - G*\\nu_{xy}*\\nu_{yx}*c**2/5 + G*c**2/5)/(b*c**2*(\\nu_{xy}*\\nu_{yx} - 1)), (5*E_x*c**2 - G*\\nu_{xy}*\\nu_{yx}*b**2 + G*b**2)/(5*b**2*c*(\\nu_{xy}*\\nu_{yx} - 1)), (-5*E_x*\\nu_{yx}*b**2*c**2 + 10*E_x*c**4 - 5*E_y*\\nu_{xy}*b**2*c**2 + 10*E_y*b**4 + 28*G*\\nu_{xy}*\\nu_{yx}*b**2*c**2 - 28*G*b**2*c**2)/(20*b**3*c**3*(\\nu_{xy}*\\nu_{yx} - 1)), (-E_y*b**2/2 - G*\\nu_{xy}*\\nu_{yx}*c**2/5 + G*c**2/5)/(b*c**2*(\\nu_{xy}*\\nu_{yx} - 1)), (E_x*c**2/2 + G*b**2*(\\nu_{xy}*\\nu_{yx} - 1)/5)/(b**2*c*(\\nu_{xy}*\\nu_{yx} - 1)), (5*E_x*\\nu_{yx}*b**2*c**2 - 10*E_x*c**4 + 5*E_y*\\nu_{xy}*b**2*c**2 + 20*E_y*b**4 - 28*G*\\nu_{xy}*\\nu_{yx}*b**2*c**2 + 28*G*b**2*c**2)/(20*b**3*c**3*(\\nu_{xy}*\\nu_{yx} - 1)), (-5*E_y*b**2 + G*\\nu_{xy}*\\nu_{yx}*c**2 - G*c**2)/(5*b*c**2*(\\nu_{xy}*\\nu_{yx} - 1)), (E_x*c**2/2 - E_y*\\nu_{xy}*b**2/2 + G*b**2*(\\nu_{xy}*\\nu_{yx} - 1)/5)/(b**2*c*(\\nu_{xy}*\\nu_{yx} - 1))], [(-E_y*\\nu_{xy}*c**2/2 - E_y*b**2 + G*\\nu_{xy}*\\nu_{yx}*c**2/5 - G*c**2/5)/(b*c**2*(\\nu_{xy}*\\nu_{yx} - 1)), 4*(-5*E_y*b**2 + 2*G*\\nu_{xy}*\\nu_{yx}*c**2 - 2*G*c**2)/(15*b*c*(\\nu_{xy}*\\nu_{yx} - 1)), E_y*\\nu_{xy}/(\\nu_{xy}*\\nu_{yx} - 1), (E_y*\\nu_{xy}*c**2/2 - E_y*b**2/2 - G*\\nu_{xy}*\\nu_{yx}*c**2/5 + G*c**2/5)/(b*c**2*(\\nu_{xy}*\\nu_{yx} - 1)), 2*(-5*E_y*b**2 - 4*G*\\nu_{xy}*\\nu_{yx}*c**2 + 4*G*c**2)/(15*b*c*(\\nu_{xy}*\\nu_{yx} - 1)), 0, (E_y*b**2/2 + G*\\nu_{xy}*\\nu_{yx}*c**2/5 - G*c**2/5)/(b*c**2*(\\nu_{xy}*\\nu_{yx} - 1)), (-5*E_y*b**2 + 2*G*\\nu_{xy}*\\nu_{yx}*c**2 - 2*G*c**2)/(15*b*c*(\\nu_{xy}*\\nu_{yx} - 1)), 0, (5*E_y*b**2 - G*\\nu_{xy}*\\nu_{yx}*c**2 + G*c**2)/(5*b*c**2*(\\nu_{xy}*\\nu_{yx} - 1)), 2*(-5*E_y*b**2 - G*\\nu_{xy}*\\nu_{yx}*c**2 + G*c**2)/(15*b*c*(\\nu_{xy}*\\nu_{yx} - 1)), 0], [(E_x*\\nu_{yx}*b**2/2 + E_x*c**2 - G*\\nu_{xy}*\\nu_{yx}*b**2/5 + G*b**2/5)/(b**2*c*(\\nu_{xy}*\\nu_{yx} - 1)), E_x*\\nu_{yx}/(\\nu_{xy}*\\nu_{yx} - 1), 4*(-5*E_x*c**2 + 2*G*\\nu_{xy}*\\nu_{yx}*b**2 - 2*G*b**2)/(15*b*c*(\\nu_{xy}*\\nu_{yx} - 1)), (-5*E_x*c**2 + G*\\nu_{xy}*\\nu_{yx}*b**2 - G*b**2)/(5*b**2*c*(\\nu_{xy}*\\nu_{yx} - 1)), 0, 2*(-5*E_x*c**2 - G*\\nu_{xy}*\\nu_{yx}*b**2 + G*b**2)/(15*b*c*(\\nu_{xy}*\\nu_{yx} - 1)), (-E_x*c**2/2 - G*b**2*(\\nu_{xy}*\\nu_{yx} - 1)/5)/(b**2*c*(\\nu_{xy}*\\nu_{yx} - 1)), 0, (-5*E_x*c**2 + 2*G*b**2*(\\nu_{xy}*\\nu_{yx} - 1))/(15*b*c*(\\nu_{xy}*\\nu_{yx} - 1)), (-E_x*\\nu_{yx}*b**2/2 + E_x*c**2/2 + G*\\nu_{xy}*\\nu_{yx}*b**2/5 - G*b**2/5)/(b**2*c*(\\nu_{xy}*\\nu_{yx} - 1)), 0, 2*(-5*E_x*c**2 - 4*G*b**2*(\\nu_{xy}*\\nu_{yx} - 1))/(15*b*c*(\\nu_{xy}*\\nu_{yx} - 1))], [(5*E_x*\\nu_{yx}*b**2*c**2 + 20*E_x*c**4 + 5*E_y*\\nu_{xy}*b**2*c**2 - 10*E_y*b**4 - 28*G*\\nu_{xy}*\\nu_{yx}*b**2*c**2 + 28*G*b**2*c**2)/(20*b**3*c**3*(\\nu_{xy}*\\nu_{yx} - 1)), (E_x*\\nu_{yx}*c**2/2 - E_y*b**2/2 - G*\\nu_{xy}*\\nu_{yx}*c**2/5 + G*c**2/5)/(b*c**2*(\\nu_{xy}*\\nu_{yx} - 1)), (-5*E_x*c**2 + G*\\nu_{xy}*\\nu_{yx}*b**2 - G*b**2)/(5*b**2*c*(\\nu_{xy}*\\nu_{yx} - 1)), (-E_x*\\nu_{yx}*b**2*c**2/4 - E_x*c**4 - E_y*\\nu_{xy}*b**2*c**2/4 - E_y*b**4 + 7*G*\\nu_{xy}*\\nu_{yx}*b**2*c**2/5 - 7*G*b**2*c**2/5)/(b**3*c**3*(\\nu_{xy}*\\nu_{yx} - 1)), (-E_x*\\nu_{yx}*c**2/2 - E_y*b**2 + G*\\nu_{xy}*\\nu_{yx}*c**2/5 - G*c**2/5)/(b*c**2*(\\nu_{xy}*\\nu_{yx} - 1)), (-E_x*c**2 - E_y*\\nu_{xy}*b**2/2 + G*\\nu_{xy}*\\nu_{yx}*b**2/5 - G*b**2/5)/(b**2*c*(\\nu_{xy}*\\nu_{yx} - 1)), (5*E_x*\\nu_{yx}*b**2*c**2 - 10*E_x*c**4 + 5*E_y*\\nu_{xy}*b**2*c**2 + 20*E_y*b**4 - 28*G*\\nu_{xy}*\\nu_{yx}*b**2*c**2 + 28*G*b**2*c**2)/(20*b**3*c**3*(\\nu_{xy}*\\nu_{yx} - 1)), (-5*E_y*b**2 + G*\\nu_{xy}*\\nu_{yx}*c**2 - G*c**2)/(5*b*c**2*(\\nu_{xy}*\\nu_{yx} - 1)), (-E_x*c**2/2 + E_y*\\nu_{xy}*b**2/2 - G*b**2*(\\nu_{xy}*\\nu_{yx} - 1)/5)/(b**2*c*(\\nu_{xy}*\\nu_{yx} - 1)), (-5*E_x*\\nu_{yx}*b**2*c**2 + 10*E_x*c**4 - 5*E_y*\\nu_{xy}*b**2*c**2 + 10*E_y*b**4 + 28*G*\\nu_{xy}*\\nu_{yx}*b**2*c**2 - 28*G*b**2*c**2)/(20*b**3*c**3*(\\nu_{xy}*\\nu_{yx} - 1)), (-E_y*b**2/2 - G*\\nu_{xy}*\\nu_{yx}*c**2/5 + G*c**2/5)/(b*c**2*(\\nu_{xy}*\\nu_{yx} - 1)), (-E_x*c**2/2 - G*b**2*(\\nu_{xy}*\\nu_{yx} - 1)/5)/(b**2*c*(\\nu_{xy}*\\nu_{yx} - 1))], [(E_y*\\nu_{xy}*c**2/2 - E_y*b**2/2 - G*\\nu_{xy}*\\nu_{yx}*c**2/5 + G*c**2/5)/(b*c**2*(\\nu_{xy}*\\nu_{yx} - 1)), 2*(-5*E_y*b**2 - 4*G*\\nu_{xy}*\\nu_{yx}*c**2 + 4*G*c**2)/(15*b*c*(\\nu_{xy}*\\nu_{yx} - 1)), 0, (-E_y*\\nu_{xy}*c**2/2 - E_y*b**2 + G*\\nu_{xy}*\\nu_{yx}*c**2/5 - G*c**2/5)/(b*c**2*(\\nu_{xy}*\\nu_{yx} - 1)), 4*(-5*E_y*b**2 + 2*G*\\nu_{xy}*\\nu_{yx}*c**2 - 2*G*c**2)/(15*b*c*(\\nu_{xy}*\\nu_{yx} - 1)), -E_y*\\nu_{xy}/(\\nu_{xy}*\\nu_{yx} - 1), (5*E_y*b**2 - G*\\nu_{xy}*\\nu_{yx}*c**2 + G*c**2)/(5*b*c**2*(\\nu_{xy}*\\nu_{yx} - 1)), 2*(-5*E_y*b**2 - G*\\nu_{xy}*\\nu_{yx}*c**2 + G*c**2)/(15*b*c*(\\nu_{xy}*\\nu_{yx} - 1)), 0, (E_y*b**2/2 + G*\\nu_{xy}*\\nu_{yx}*c**2/5 - G*c**2/5)/(b*c**2*(\\nu_{xy}*\\nu_{yx} - 1)), (-5*E_y*b**2 + 2*G*\\nu_{xy}*\\nu_{yx}*c**2 - 2*G*c**2)/(15*b*c*(\\nu_{xy}*\\nu_{yx} - 1)), 0], [(5*E_x*c**2 - G*\\nu_{xy}*\\nu_{yx}*b**2 + G*b**2)/(5*b**2*c*(\\nu_{xy}*\\nu_{yx} - 1)), 0, 2*(-5*E_x*c**2 - G*\\nu_{xy}*\\nu_{yx}*b**2 + G*b**2)/(15*b*c*(\\nu_{xy}*\\nu_{yx} - 1)), (-E_x*\\nu_{yx}*b**2/2 - E_x*c**2 + G*\\nu_{xy}*\\nu_{yx}*b**2/5 - G*b**2/5)/(b**2*c*(\\nu_{xy}*\\nu_{yx} - 1)), -E_x*\\nu_{yx}/(\\nu_{xy}*\\nu_{yx} - 1), 4*(-5*E_x*c**2 + 2*G*\\nu_{xy}*\\nu_{yx}*b**2 - 2*G*b**2)/(15*b*c*(\\nu_{xy}*\\nu_{yx} - 1)), (E_x*\\nu_{yx}*b**2/2 - E_x*c**2/2 - G*\\nu_{xy}*\\nu_{yx}*b**2/5 + G*b**2/5)/(b**2*c*(\\nu_{xy}*\\nu_{yx} - 1)), 0, 2*(-5*E_x*c**2 - 4*G*b**2*(\\nu_{xy}*\\nu_{yx} - 1))/(15*b*c*(\\nu_{xy}*\\nu_{yx} - 1)), (E_x*c**2/2 + G*b**2*(\\nu_{xy}*\\nu_{yx} - 1)/5)/(b**2*c*(\\nu_{xy}*\\nu_{yx} - 1)), 0, (-5*E_x*c**2 + 2*G*b**2*(\\nu_{xy}*\\nu_{yx} - 1))/(15*b*c*(\\nu_{xy}*\\nu_{yx} - 1))], [(-5*E_x*\\nu_{yx}*b**2*c**2 + 10*E_x*c**4 - 5*E_y*\\nu_{xy}*b**2*c**2 + 10*E_y*b**4 + 28*G*\\nu_{xy}*\\nu_{yx}*b**2*c**2 - 28*G*b**2*c**2)/(20*b**3*c**3*(\\nu_{xy}*\\nu_{yx} - 1)), (E_y*b**2/2 + G*\\nu_{xy}*\\nu_{yx}*c**2/5 - G*c**2/5)/(b*c**2*(\\nu_{xy}*\\nu_{yx} - 1)), (-E_x*c**2/2 - G*b**2*(\\nu_{xy}*\\nu_{yx} - 1)/5)/(b**2*c*(\\nu_{xy}*\\nu_{yx} - 1)), (5*E_x*\\nu_{yx}*b**2*c**2 - 10*E_x*c**4 + 5*E_y*\\nu_{xy}*b**2*c**2 + 20*E_y*b**4 - 28*G*\\nu_{xy}*\\nu_{yx}*b**2*c**2 + 28*G*b**2*c**2)/(20*b**3*c**3*(\\nu_{xy}*\\nu_{yx} - 1)), (5*E_y*b**2 - G*\\nu_{xy}*\\nu_{yx}*c**2 + G*c**2)/(5*b*c**2*(\\nu_{xy}*\\nu_{yx} - 1)), (-5*E_x*c**2 - 25*E_y*\\nu_{xy}*b**2 + 2*b**2*(15*E_y*\\nu_{xy} - G*\\nu_{xy}*\\nu_{yx} + G))/(10*b**2*c*(\\nu_{xy}*\\nu_{yx} - 1)), (-E_x*\\nu_{yx}*b**2*c**2/4 - E_x*c**4 - E_y*\\nu_{xy}*b**2*c**2/4 - E_y*b**4 + 7*G*\\nu_{xy}*\\nu_{yx}*b**2*c**2/5 - 7*G*b**2*c**2/5)/(b**3*c**3*(\\nu_{xy}*\\nu_{yx} - 1)), (E_x*\\nu_{yx}*c**2/2 + E_y*b**2 - G*\\nu_{xy}*\\nu_{yx}*c**2/5 + G*c**2/5)/(b*c**2*(\\nu_{xy}*\\nu_{yx} - 1)), (-E_x*c**2 - E_y*\\nu_{xy}*b**2/2 + G*b**2*(\\nu_{xy}*\\nu_{yx} - 1)/5)/(b**2*c*(\\nu_{xy}*\\nu_{yx} - 1)), (5*E_x*\\nu_{yx}*b**2*c**2 + 20*E_x*c**4 + 5*E_y*\\nu_{xy}*b**2*c**2 - 10*E_y*b**4 - 28*G*\\nu_{xy}*\\nu_{yx}*b**2*c**2 + 28*G*b**2*c**2)/(20*b**3*c**3*(\\nu_{xy}*\\nu_{yx} - 1)), (-E_x*\\nu_{yx}*c**2/2 + E_y*b**2/2 + G*\\nu_{xy}*\\nu_{yx}*c**2/5 - G*c**2/5)/(b*c**2*(\\nu_{xy}*\\nu_{yx} - 1)), (-E_x*c**2 + G*b**2*(\\nu_{xy}*\\nu_{yx} - 1)/5)/(b**2*c*(\\nu_{xy}*\\nu_{yx} - 1))], [(-E_y*b**2/2 - G*\\nu_{xy}*\\nu_{yx}*c**2/5 + G*c**2/5)/(b*c**2*(\\nu_{xy}*\\nu_{yx} - 1)), (-5*E_y*b**2 + 2*G*\\nu_{xy}*\\nu_{yx}*c**2 - 2*G*c**2)/(15*b*c*(\\nu_{xy}*\\nu_{yx} - 1)), 0, (-5*E_y*b**2 + G*\\nu_{xy}*\\nu_{yx}*c**2 - G*c**2)/(5*b*c**2*(\\nu_{xy}*\\nu_{yx} - 1)), 2*(-5*E_y*b**2 - G*\\nu_{xy}*\\nu_{yx}*c**2 + G*c**2)/(15*b*c*(\\nu_{xy}*\\nu_{yx} - 1)), 0, (E_y*\\nu_{xy}*c**2/2 + E_y*b**2 - G*\\nu_{xy}*\\nu_{yx}*c**2/5 + G*c**2/5)/(b*c**2*(\\nu_{xy}*\\nu_{yx} - 1)), 4*(-5*E_y*b**2 + 2*G*\\nu_{xy}*\\nu_{yx}*c**2 - 2*G*c**2)/(15*b*c*(\\nu_{xy}*\\nu_{yx} - 1)), E_y*\\nu_{xy}/(\\nu_{xy}*\\nu_{yx} - 1), (-E_y*\\nu_{xy}*c**2/2 + E_y*b**2/2 + G*\\nu_{xy}*\\nu_{yx}*c**2/5 - G*c**2/5)/(b*c**2*(\\nu_{xy}*\\nu_{yx} - 1)), 2*(-5*E_y*b**2 - 4*G*\\nu_{xy}*\\nu_{yx}*c**2 + 4*G*c**2)/(15*b*c*(\\nu_{xy}*\\nu_{yx} - 1)), 0], [(E_x*c**2/2 + G*b**2*(\\nu_{xy}*\\nu_{yx} - 1)/5)/(b**2*c*(\\nu_{xy}*\\nu_{yx} - 1)), 0, (-5*E_x*c**2 + 2*G*b**2*(\\nu_{xy}*\\nu_{yx} - 1))/(15*b*c*(\\nu_{xy}*\\nu_{yx} - 1)), (E_x*\\nu_{yx}*b**2/2 - E_x*c**2/2 - G*\\nu_{xy}*\\nu_{yx}*b**2/5 + G*b**2/5)/(b**2*c*(\\nu_{xy}*\\nu_{yx} - 1)), 0, 2*(-5*E_x*c**2 - 4*G*b**2*(\\nu_{xy}*\\nu_{yx} - 1))/(15*b*c*(\\nu_{xy}*\\nu_{yx} - 1)), (-E_x*\\nu_{yx}*b**2/2 - E_x*c**2 + G*\\nu_{xy}*\\nu_{yx}*b**2/5 - G*b**2/5)/(b**2*c*(\\nu_{xy}*\\nu_{yx} - 1)), E_x*\\nu_{yx}/(\\nu_{xy}*\\nu_{yx} - 1), 4*(-5*E_x*c**2 + 2*G*b**2*(\\nu_{xy}*\\nu_{yx} - 1))/(15*b*c*(\\nu_{xy}*\\nu_{yx} - 1)), (E_x*c**2 - G*b**2*(\\nu_{xy}*\\nu_{yx} - 1)/5)/(b**2*c*(\\nu_{xy}*\\nu_{yx} - 1)), 0, 2*(-5*E_x*c**2 - G*b**2*(\\nu_{xy}*\\nu_{yx} - 1))/(15*b*c*(\\nu_{xy}*\\nu_{yx} - 1))], [(5*E_x*\\nu_{yx}*b**2*c**2 - 10*E_x*c**4 + 5*E_y*\\nu_{xy}*b**2*c**2 + 20*E_y*b**4 - 28*G*\\nu_{xy}*\\nu_{yx}*b**2*c**2 + 28*G*b**2*c**2)/(20*b**3*c**3*(\\nu_{xy}*\\nu_{yx} - 1)), (5*E_y*b**2 - G*\\nu_{xy}*\\nu_{yx}*c**2 + G*c**2)/(5*b*c**2*(\\nu_{xy}*\\nu_{yx} - 1)), (5*E_x*c**2 + 25*E_y*\\nu_{xy}*b**2 - 2*b**2*(15*E_y*\\nu_{xy} - G*\\nu_{xy}*\\nu_{yx} + G))/(10*b**2*c*(\\nu_{xy}*\\nu_{yx} - 1)), (-5*E_x*\\nu_{yx}*b**2*c**2 + 10*E_x*c**4 - 5*E_y*\\nu_{xy}*b**2*c**2 + 10*E_y*b**4 + 28*G*\\nu_{xy}*\\nu_{yx}*b**2*c**2 - 28*G*b**2*c**2)/(20*b**3*c**3*(\\nu_{xy}*\\nu_{yx} - 1)), (E_y*b**2/2 + G*\\nu_{xy}*\\nu_{yx}*c**2/5 - G*c**2/5)/(b*c**2*(\\nu_{xy}*\\nu_{yx} - 1)), (E_x*c**2/2 + G*b**2*(\\nu_{xy}*\\nu_{yx} - 1)/5)/(b**2*c*(\\nu_{xy}*\\nu_{yx} - 1)), (5*E_x*\\nu_{yx}*b**2*c**2 + 20*E_x*c**4 + 5*E_y*\\nu_{xy}*b**2*c**2 - 10*E_y*b**4 - 28*G*\\nu_{xy}*\\nu_{yx}*b**2*c**2 + 28*G*b**2*c**2)/(20*b**3*c**3*(\\nu_{xy}*\\nu_{yx} - 1)), (-E_x*\\nu_{yx}*c**2/2 + E_y*b**2/2 + G*\\nu_{xy}*\\nu_{yx}*c**2/5 - G*c**2/5)/(b*c**2*(\\nu_{xy}*\\nu_{yx} - 1)), (E_x*c**2 - G*b**2*(\\nu_{xy}*\\nu_{yx} - 1)/5)/(b**2*c*(\\nu_{xy}*\\nu_{yx} - 1)), (-E_x*\\nu_{yx}*b**2*c**2/4 - E_x*c**4 - E_y*\\nu_{xy}*b**2*c**2/4 - E_y*b**4 + 7*G*\\nu_{xy}*\\nu_{yx}*b**2*c**2/5 - 7*G*b**2*c**2/5)/(b**3*c**3*(\\nu_{xy}*\\nu_{yx} - 1)), (E_x*\\nu_{yx}*c**2/2 + E_y*b**2 - G*\\nu_{xy}*\\nu_{yx}*c**2/5 + G*c**2/5)/(b*c**2*(\\nu_{xy}*\\nu_{yx} - 1)), (E_x*c**2 + E_y*\\nu_{xy}*b**2/2 - G*b**2*(\\nu_{xy}*\\nu_{yx} - 1)/5)/(b**2*c*(\\nu_{xy}*\\nu_{yx} - 1))], [(-5*E_y*b**2 + G*\\nu_{xy}*\\nu_{yx}*c**2 - G*c**2)/(5*b*c**2*(\\nu_{xy}*\\nu_{yx} - 1)), 2*(-5*E_y*b**2 - G*\\nu_{xy}*\\nu_{yx}*c**2 + G*c**2)/(15*b*c*(\\nu_{xy}*\\nu_{yx} - 1)), 0, (-E_y*b**2/2 - G*\\nu_{xy}*\\nu_{yx}*c**2/5 + G*c**2/5)/(b*c**2*(\\nu_{xy}*\\nu_{yx} - 1)), (-5*E_y*b**2 + 2*G*\\nu_{xy}*\\nu_{yx}*c**2 - 2*G*c**2)/(15*b*c*(\\nu_{xy}*\\nu_{yx} - 1)), 0, (-E_y*\\nu_{xy}*c**2/2 + E_y*b**2/2 + G*\\nu_{xy}*\\nu_{yx}*c**2/5 - G*c**2/5)/(b*c**2*(\\nu_{xy}*\\nu_{yx} - 1)), 2*(-5*E_y*b**2 - 4*G*\\nu_{xy}*\\nu_{yx}*c**2 + 4*G*c**2)/(15*b*c*(\\nu_{xy}*\\nu_{yx} - 1)), 0, (E_y*\\nu_{xy}*c**2/2 + E_y*b**2 - G*\\nu_{xy}*\\nu_{yx}*c**2/5 + G*c**2/5)/(b*c**2*(\\nu_{xy}*\\nu_{yx} - 1)), 4*(-5*E_y*b**2 + 2*G*\\nu_{xy}*\\nu_{yx}*c**2 - 2*G*c**2)/(15*b*c*(\\nu_{xy}*\\nu_{yx} - 1)), -E_y*\\nu_{xy}/(\\nu_{xy}*\\nu_{yx} - 1)], [(-E_x*\\nu_{yx}*b**2/2 + E_x*c**2/2 + G*\\nu_{xy}*\\nu_{yx}*b**2/5 - G*b**2/5)/(b**2*c*(\\nu_{xy}*\\nu_{yx} - 1)), 0, 2*(-5*E_x*c**2 - 4*G*b**2*(\\nu_{xy}*\\nu_{yx} - 1))/(15*b*c*(\\nu_{xy}*\\nu_{yx} - 1)), (-E_x*c**2/2 - G*b**2*(\\nu_{xy}*\\nu_{yx} - 1)/5)/(b**2*c*(\\nu_{xy}*\\nu_{yx} - 1)), 0, (-5*E_x*c**2 + 2*G*b**2*(\\nu_{xy}*\\nu_{yx} - 1))/(15*b*c*(\\nu_{xy}*\\nu_{yx} - 1)), (-E_x*c**2 + G*b**2*(\\nu_{xy}*\\nu_{yx} - 1)/5)/(b**2*c*(\\nu_{xy}*\\nu_{yx} - 1)), 0, 2*(-5*E_x*c**2 - G*b**2*(\\nu_{xy}*\\nu_{yx} - 1))/(15*b*c*(\\nu_{xy}*\\nu_{yx} - 1)), (E_x*\\nu_{yx}*b**2/2 + E_x*c**2 - G*\\nu_{xy}*\\nu_{yx}*b**2/5 + G*b**2/5)/(b**2*c*(\\nu_{xy}*\\nu_{yx} - 1)), -E_x*\\nu_{yx}/(\\nu_{xy}*\\nu_{yx} - 1), 4*(-5*E_x*c**2 + 2*G*b**2*(\\nu_{xy}*\\nu_{yx} - 1))/(15*b*c*(\\nu_{xy}*\\nu_{yx} - 1))]])\n"
     ]
    }
   ],
   "source": [
    "k = simplify(integrate(integrate(B.T*D*B, (x, 0, 2*b)), (y, 0, 2*c)))\n",
    "\n",
    "display(Math('[k] = \\\\frac{t^3}{12}' + latex(k)))\n",
    "\n",
    "# Uncomment the line below for a version that can be copied/pasted\n",
    "# Be sure to multiply by t**3/12\n",
    "print(k)"
   ]
  },
  {
   "cell_type": "markdown",
   "metadata": {},
   "source": [
    "The surface force matrix $[F_s]$ can be obtained from the shape function matrix. Since we're interested in the surface force matrix for uniform pressures in the direction of w,"
   ]
  },
  {
   "cell_type": "code",
   "execution_count": 13,
   "metadata": {},
   "outputs": [
    {
     "data": {
      "text/latex": [
       "$\\displaystyle [F_s] = 4qcb\\left[\\begin{matrix}\\frac{1}{4}\\\\\\frac{c}{12}\\\\- \\frac{b}{12}\\\\\\frac{1}{4}\\\\\\frac{c}{12}\\\\\\frac{b}{12}\\\\\\frac{1}{4}\\\\- \\frac{c}{12}\\\\\\frac{b}{12}\\\\\\frac{1}{4}\\\\- \\frac{c}{12}\\\\- \\frac{b}{12}\\end{matrix}\\right]$"
      ],
      "text/plain": [
       "<IPython.core.display.Math object>"
      ]
     },
     "metadata": {},
     "output_type": "display_data"
    },
    {
     "name": "stdout",
     "output_type": "stream",
     "text": [
      "Matrix([[b*c*q], [b*c**2*q/3], [-b**2*c*q/3], [b*c*q], [b*c**2*q/3], [b**2*c*q/3], [b*c*q], [-b*c**2*q/3], [b**2*c*q/3], [b*c*q], [-b*c**2*q/3], [-b**2*c*q/3]])\n"
     ]
    }
   ],
   "source": [
    "q = symbols('q')\n",
    "\n",
    "Fs = integrate(integrate(N[0, :].T*q, (x, 0, 2*b)), (y, 0, 2*c))\n",
    "\n",
    "display(Math('[F_s] = 4qcb' + latex(Fs/(4*q*c*b))))\n",
    "\n",
    "# Uncomment the line below for a version that can be copied/pasted\n",
    "print(Fs)"
   ]
  },
  {
   "cell_type": "markdown",
   "metadata": {},
   "source": [
    "## Membrane Action\n",
    "\n",
    "### Shape Functions"
   ]
  },
  {
   "cell_type": "code",
   "execution_count": 14,
   "metadata": {},
   "outputs": [],
   "source": [
    "from sympy import factor, symbols\n",
    "r, s = symbols('r, s')\n",
    "h1 = factor(1/4*(1-r)*(1-s))\n",
    "h2 = factor(1/4*(1+r)*(1-s))\n",
    "h3 = factor(1/4*(1+r)*(1+s))\n",
    "h4 = factor(1/4*(1-r)*(1+s))"
   ]
  },
  {
   "cell_type": "code",
   "execution_count": 15,
   "metadata": {},
   "outputs": [],
   "source": [
    "x1, y1, x2, y2, x3, y3, x4, y4 = symbols('x_1, y_1, x_2, y_2, x_3, y_3, x_4, y_4')\n",
    "x = h1*x1 + h2*x2 + h3*x3 + h4*x4\n",
    "y = h1*y1 + h2*y2 + h3*y3 + h4*y4"
   ]
  },
  {
   "cell_type": "code",
   "execution_count": 16,
   "metadata": {},
   "outputs": [
    {
     "data": {
      "text/latex": [
       "$\\displaystyle J = (1/4)\\left[\\begin{matrix}x_{1} \\left(s - 1\\right) - 1.0 x_{2} \\left(s - 1\\right) + x_{3} \\left(s + 1\\right) - 1.0 x_{4} \\left(s + 1\\right) & y_{1} \\left(s - 1\\right) - 1.0 y_{2} \\left(s - 1\\right) + y_{3} \\left(s + 1\\right) - 1.0 y_{4} \\left(s + 1\\right)\\\\x_{1} \\left(r - 1\\right) - 1.0 x_{2} \\left(r + 1\\right) + x_{3} \\left(r + 1\\right) - 1.0 x_{4} \\left(r - 1\\right) & y_{1} \\left(r - 1\\right) - 1.0 y_{2} \\left(r + 1\\right) + y_{3} \\left(r + 1\\right) - 1.0 y_{4} \\left(r - 1\\right)\\end{matrix}\\right]$"
      ],
      "text/plain": [
       "<IPython.core.display.Math object>"
      ]
     },
     "metadata": {},
     "output_type": "display_data"
    },
    {
     "name": "stdout",
     "output_type": "stream",
     "text": [
      "Matrix([[x_1*(s - 1) - 1.0*x_2*(s - 1) + x_3*(s + 1) - 1.0*x_4*(s + 1), y_1*(s - 1) - 1.0*y_2*(s - 1) + y_3*(s + 1) - 1.0*y_4*(s + 1)], [x_1*(r - 1) - 1.0*x_2*(r + 1) + x_3*(r + 1) - 1.0*x_4*(r - 1), y_1*(r - 1) - 1.0*y_2*(r + 1) + y_3*(r + 1) - 1.0*y_4*(r - 1)]])\n"
     ]
    }
   ],
   "source": [
    "J = Matrix([[diff(x, r), diff(y, r)],\n",
    "            [diff(x, s), diff(y, s)]])\n",
    "\n",
    "display(Math('J = (1/4)' + latex(factor(J*4))))\n",
    "print(J*4)"
   ]
  },
  {
   "cell_type": "code",
   "execution_count": 17,
   "metadata": {},
   "outputs": [
    {
     "name": "stdout",
     "output_type": "stream",
     "text": [
      "s - 1.0\n",
      "1.0 - 1.0*s\n",
      "s + 1.0\n",
      "-1.0*s - 1.0\n"
     ]
    }
   ],
   "source": [
    "print(4*diff(h1, r))\n",
    "print(4*diff(h2, r))\n",
    "print(4*diff(h3, r))\n",
    "print(4*diff(h4, r))"
   ]
  }
 ],
 "metadata": {
  "kernelspec": {
   "display_name": "Python 3 (ipykernel)",
   "language": "python",
   "name": "python3"
  },
  "language_info": {
   "codemirror_mode": {
    "name": "ipython",
    "version": 3
   },
   "file_extension": ".py",
   "mimetype": "text/x-python",
   "name": "python",
   "nbconvert_exporter": "python",
   "pygments_lexer": "ipython3",
   "version": "3.10.4"
  }
 },
 "nbformat": 4,
 "nbformat_minor": 4
}
