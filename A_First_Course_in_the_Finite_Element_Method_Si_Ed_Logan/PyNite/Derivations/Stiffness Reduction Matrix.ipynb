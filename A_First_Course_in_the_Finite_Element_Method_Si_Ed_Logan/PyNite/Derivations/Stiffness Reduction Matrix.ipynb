{
 "cells": [
  {
   "cell_type": "code",
   "execution_count": 1,
   "id": "f8b4d3ca-ea91-4bdb-9bed-7214a52949b9",
   "metadata": {},
   "outputs": [],
   "source": [
    "from sympy import *\n",
    "# init_printing(use_unicode=True)"
   ]
  },
  {
   "cell_type": "code",
   "execution_count": 2,
   "id": "1e6b111f-a99d-4e26-bbc2-e166a439cb1f",
   "metadata": {},
   "outputs": [
    {
     "data": {
      "text/latex": [
       "$\\displaystyle 4.5 m_{y}^{2} m_{z}^{4} + 3 m_{y}^{2} p^{6} + m_{y}^{2} + 3.5 m_{z}^{2} p^{2} + m_{z}^{2} + p^{2}$"
      ],
      "text/plain": [
       "4.5*m_y**2*m_z**4 + 3*m_y**2*p**6 + m_y**2 + 3.5*m_z**2*p**2 + m_z**2 + p**2"
      ]
     },
     "metadata": {},
     "output_type": "display_data"
    }
   ],
   "source": [
    "p, my, mz = symbols('p m_y m_z')\n",
    "Phi = p**2 + mz**2 + my**2 + 3.5*p**2*mz**2 + 3*p**6*my**2 + 4.5*mz**4*my**2\n",
    "display(Phi)"
   ]
  },
  {
   "cell_type": "code",
   "execution_count": 3,
   "id": "71cd0b79-6d21-4d98-908c-46e3329f4985",
   "metadata": {},
   "outputs": [
    {
     "data": {
      "text/latex": [
       "$\\displaystyle \\frac{3 F_{x}^{6} M_{y}^{2}}{M_{py}^{2} P_{y}^{6}} + \\frac{F_{x}^{2}}{P_{y}^{2}} + \\frac{3.5 F_{x}^{2} M_{z}^{2}}{M_{pz}^{2} P_{y}^{2}} + \\frac{M_{z}^{2}}{M_{pz}^{2}} + \\frac{M_{y}^{2}}{M_{py}^{2}} + \\frac{4.5 M_{y}^{2} M_{z}^{4}}{M_{py}^{2} M_{pz}^{4}}$"
      ],
      "text/plain": [
       "3*F_x**6*M_y**2/(M_py**2*P_y**6) + F_x**2/P_y**2 + 3.5*F_x**2*M_z**2/(M_pz**2*P_y**2) + M_z**2/M_pz**2 + M_y**2/M_py**2 + 4.5*M_y**2*M_z**4/(M_py**2*M_pz**4)"
      ]
     },
     "metadata": {},
     "output_type": "display_data"
    }
   ],
   "source": [
    "Fx, Py = symbols('F_x P_y')\n",
    "My, Mpy = symbols('M_y M_py')\n",
    "Mz, Mpz = symbols('M_z M_pz')\n",
    "Phi = Phi.subs(p, Fx/Py)\n",
    "Phi = Phi.subs(my, My/Mpy)\n",
    "Phi = Phi.subs(mz, Mz/Mpz)\n",
    "display(Phi)"
   ]
  },
  {
   "cell_type": "code",
   "execution_count": 7,
   "id": "4b154533-96a8-418b-a37f-2855e841a5bc",
   "metadata": {},
   "outputs": [
    {
     "name": "stdout",
     "output_type": "stream",
     "text": [
      "18*F_x**5*M_y**2/(M_py**2*P_y**6) + 2*F_x/P_y**2 + 7.0*F_x*M_z**2/(M_pz**2*P_y**2)\n"
     ]
    }
   ],
   "source": [
    "print(diff(Phi, Fx))"
   ]
  },
  {
   "cell_type": "code",
   "execution_count": 8,
   "id": "4dc0826a-f219-41f5-a745-c4ae324867fc",
   "metadata": {},
   "outputs": [
    {
     "name": "stdout",
     "output_type": "stream",
     "text": [
      "6*F_x**6*M_y/(M_py**2*P_y**6) + 2*M_y/M_py**2 + 9.0*M_y*M_z**4/(M_py**2*M_pz**4)\n"
     ]
    }
   ],
   "source": [
    "print(diff(Phi, My))"
   ]
  },
  {
   "cell_type": "code",
   "execution_count": 9,
   "id": "6768a773-1037-4d5b-a02f-651d116fa32e",
   "metadata": {},
   "outputs": [
    {
     "name": "stdout",
     "output_type": "stream",
     "text": [
      "7.0*F_x**2*M_z/(M_pz**2*P_y**2) + 2*M_z/M_pz**2 + 18.0*M_y**2*M_z**3/(M_py**2*M_pz**4)\n"
     ]
    }
   ],
   "source": [
    "print(diff(Phi, Mz))"
   ]
  },
  {
   "cell_type": "code",
   "execution_count": null,
   "id": "3bd3aa51-2731-470c-bc54-b15f459ca627",
   "metadata": {},
   "outputs": [],
   "source": []
  }
 ],
 "metadata": {
  "kernelspec": {
   "display_name": "Python 3 (ipykernel)",
   "language": "python",
   "name": "python3"
  },
  "language_info": {
   "codemirror_mode": {
    "name": "ipython",
    "version": 3
   },
   "file_extension": ".py",
   "mimetype": "text/x-python",
   "name": "python",
   "nbconvert_exporter": "python",
   "pygments_lexer": "ipython3",
   "version": "3.8.10"
  }
 },
 "nbformat": 4,
 "nbformat_minor": 5
}
