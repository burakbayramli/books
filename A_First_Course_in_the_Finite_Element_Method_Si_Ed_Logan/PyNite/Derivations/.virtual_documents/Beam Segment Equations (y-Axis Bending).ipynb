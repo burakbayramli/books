import sympy
from sympy import *
init_printing()
from IPython.display import display








w, w1, w2, x, L = symbols('omega, omega_1, omega_2, x, L')
w = w1 + (w2-w1)/L*x
display(Eq(symbols('\\omega(x)'), w))








V1 = symbols('V_1')
V = V1 + integrate(w, (x, 0, x))
display(Eq(symbols('V(x)'), V1 + Integral(symbols('\\omega(x)'), (x, 0, x))))
display(Eq(symbols('V(x)'), V1 + Integral(w, (x, 0, x))))
display(Eq(symbols('V(x)'), V))
print(V)





M1, P1, delta_1, delta_x = symbols('M_1, P_1, \delta_1, \delta_x')
M = -M1 - integrate(V, (x, 0, x)) + P1*(delta_x - delta_1)
display(Eq(symbols('M(x)'), -M1 + Integral(symbols('V(x)'), (x, 0, x)) - P1*(delta_x-delta_1)))
display(Eq(symbols('M(x)'), -M1 + Integral(V, (x, 0, x))))
display(Eq(symbols('M(x)'), M))
print(M)





theta1, E, I = symbols('theta_1, E, I')
theta = theta1 + 1/(E*I)*integrate(M, (x, 0, x))
display(Eq(symbols('\\theta(x)'), theta1 + Integral(symbols('M(x)'), (x, 0, x))))
display(Eq(symbols('\\theta(x)'), theta1 + Integral(M, (x, 0, x))/(E*I)))
display(Eq(symbols('\\theta(x)'), theta))
print(theta)





delta1 = symbols('delta_1')
delta = delta1 - integrate(theta, (x, 0, x))
display(Eq(symbols('\\delta(x)'), delta1 - Integral(symbols('\\theta(x)'), (x, 0, x))))
display(Eq(symbols('\\delta(x)'), delta1 - Integral(theta, (x, 0, x))))
display(Eq(symbols('\\delta(x)'), delta))
print(delta)








M1, M2, E, I, L, theta1, theta2, delta1, delta2 = symbols('M_1, M_2, E, I, L, theta_1, theta_2, delta_1, delta_2')
FEM1, FEM2 = symbols('FEM_1, FEM_2')
M1 = 2*E*I/L*(2*theta1 + theta2 - 3*(delta2-delta1)/L) + FEM1
M2 = 2*E*I/L*(2*theta2 + theta1 - 3*(delta2-delta1)/L) + FEM2
display(Eq(symbols('M_1'), M1))
display(Eq(symbols('M_2'), M2))





theta2 = solve(M2 - symbols('M_2'), theta2)[0]
display(Eq(symbols('\\theta_2'), expand(theta2)))





M1 = M1.subs('theta_2', theta2)
display(Eq(symbols('M_1'), expand(M1)))





theta1 = solve(M1 - symbols('M_1'), theta1)[0]
display(Eq(symbols('\\theta_1'), expand(theta1)))
print(theta1)





display(Eq(Derivative(symbols('V'), x), diff(V, x)))
display(Eq(symbols('x'), solve(diff(V, x), symbols('x'))[0]))
print(solve(diff(V, x), symbols('x'))[0])





display(Eq(Derivative(symbols('M'), x), diff(M, x)))
display(Eq(symbols('x_1'), solve(diff(M, x), symbols('x'))[0]))
display(Eq(symbols('x_2'), solve(diff(M, x), symbols('x'))[1]))
print(solve(diff(M, x), symbols('x'))[0])
print(solve(diff(M, x), symbols('x'))[1])



